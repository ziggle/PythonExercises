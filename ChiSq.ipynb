{
 "cells": [
  {
   "cell_type": "markdown",
   "id": "afbb0dfc",
   "metadata": {},
   "source": [
    "https://towardsdev.com/chi-square-test-with-python-c953a12c950e"
   ]
  },
  {
   "cell_type": "code",
   "execution_count": 3,
   "id": "65b1fd85",
   "metadata": {},
   "outputs": [
    {
     "name": "stdout",
     "output_type": "stream",
     "text": [
      "9.257142857142856\n",
      "5.991464547107979\n"
     ]
    }
   ],
   "source": [
    "#python code for the above example\n",
    "observed = [54,38,8]\n",
    "expectation = [45,35,20]\n",
    "x = sum([(o-e)**2./e for o,e in zip(observed,expectation)])\n",
    "print(x)\n",
    "#chi square = 9.257\n",
    "#import chi2 from scipy to get the critical value\n",
    "from scipy.stats import chi2\n",
    "alpha = 0.05\n",
    "df = 2\n",
    "cr=chi2.ppf(q=1-alpha,df=df)\n",
    "print(cr)\n",
    "#critical value is 5.991"
   ]
  },
  {
   "cell_type": "code",
   "execution_count": 11,
   "id": "7555d895",
   "metadata": {},
   "outputs": [
    {
     "name": "stdout",
     "output_type": "stream",
     "text": [
      "22.7168165449393\n",
      "5.991464547107979\n"
     ]
    }
   ],
   "source": [
    "observed=[34,5,4,20,33,4]\n",
    "expected=[23.2,16.3,3.4,30.8,21.7,4.6]\n",
    "x = sum([(o-e)**2./e for o,e in zip(observed,expected)])\n",
    "print(x)\n",
    "from scipy.stats import chi2\n",
    "alpha = 0.05\n",
    "df = (3-1)*(2-1)\n",
    "cr=chi2.ppf(q=1-alpha,df=df)\n",
    "print(cr)"
   ]
  },
  {
   "cell_type": "code",
   "execution_count": 8,
   "id": "42b2c1c7",
   "metadata": {},
   "outputs": [
    {
     "data": {
      "text/plain": [
       "22.7168165449393"
      ]
     },
     "execution_count": 8,
     "metadata": {},
     "output_type": "execute_result"
    }
   ],
   "source": [
    "(34-23.2)**2/23.2+(5-16.3)**2/16.3+(4-3.4)**2/3.4+(20-30.8)**2/30.8+(33-21.7)**2/21.7+(4-4.6)**2/4.6"
   ]
  },
  {
   "cell_type": "code",
   "execution_count": null,
   "id": "c164f9b1",
   "metadata": {},
   "outputs": [],
   "source": []
  }
 ],
 "metadata": {
  "kernelspec": {
   "display_name": "Python 3 (ipykernel)",
   "language": "python",
   "name": "python3"
  },
  "language_info": {
   "codemirror_mode": {
    "name": "ipython",
    "version": 3
   },
   "file_extension": ".py",
   "mimetype": "text/x-python",
   "name": "python",
   "nbconvert_exporter": "python",
   "pygments_lexer": "ipython3",
   "version": "3.9.7"
  }
 },
 "nbformat": 4,
 "nbformat_minor": 5
}
