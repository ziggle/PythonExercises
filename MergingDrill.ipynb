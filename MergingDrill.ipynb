{
 "cells": [
  {
   "attachments": {},
   "cell_type": "markdown",
   "metadata": {},
   "source": [
    "https://towardsdatascience.com/20-examples-to-master-merging-dataframes-in-python-pandas-22ffcd6059d1"
   ]
  },
  {
   "cell_type": "code",
   "execution_count": 1,
   "metadata": {},
   "outputs": [],
   "source": [
    "import numpy as np\n",
    "import pandas as pd\n",
    "\n",
    "\n",
    "names = pd.DataFrame(\n",
    "    \n",
    "    {\n",
    "        \"id\": [1, 2, 3, 4, 10],\n",
    "        \"name\": [\"Emily\", \"Jane\", \"Joe\", \"Matt\", \"Lucas\"],\n",
    "        \"age\": np.random.randint(20, 30, size=5)\n",
    "    }\n",
    "    \n",
    ")\n",
    "\n",
    "scores = pd.DataFrame(\n",
    "    \n",
    "    {\n",
    "        \"id\": np.arange(1, 8),\n",
    "        \"score\": np.random.randint(80, 100, size=7),\n",
    "        \"group\": list(\"ABCAACA\")\n",
    "    }\n",
    "    \n",
    ")"
   ]
  },
  {
   "cell_type": "code",
   "execution_count": 3,
   "metadata": {},
   "outputs": [
    {
     "name": "stdout",
     "output_type": "stream",
     "text": [
      "   id   name  age  score group\n",
      "0   1  Emily   26     98     A\n",
      "1   2   Jane   28     84     B\n",
      "2   3    Joe   24     88     C\n",
      "3   4   Matt   25     93     A\n"
     ]
    }
   ],
   "source": [
    "merged_df = names.merge(scores, on=\"id\")\n",
    "print(merged_df)"
   ]
  },
  {
   "cell_type": "code",
   "execution_count": 4,
   "metadata": {},
   "outputs": [
    {
     "name": "stdout",
     "output_type": "stream",
     "text": [
      "   id   name  age  score group\n",
      "0   1  Emily   26   98.0     A\n",
      "1   2   Jane   28   84.0     B\n",
      "2   3    Joe   24   88.0     C\n",
      "3   4   Matt   25   93.0     A\n",
      "4  10  Lucas   23    NaN   NaN\n"
     ]
    }
   ],
   "source": [
    "merged_df = names.merge(scores, on=\"id\", how=\"left\")\n",
    "print(merged_df)"
   ]
  },
  {
   "cell_type": "code",
   "execution_count": 5,
   "metadata": {},
   "outputs": [],
   "source": [
    "# followings are the same\n",
    "merged_df = names.merge(scores, on=\"id\", how=\"left\")\n",
    "merged_df = scores.merge(names, on=\"id\", how=\"right\")"
   ]
  },
  {
   "cell_type": "code",
   "execution_count": 6,
   "metadata": {},
   "outputs": [
    {
     "name": "stdout",
     "output_type": "stream",
     "text": [
      "   id   name   age  score group\n",
      "0   1  Emily  26.0   98.0     A\n",
      "1   2   Jane  28.0   84.0     B\n",
      "2   3    Joe  24.0   88.0     C\n",
      "3   4   Matt  25.0   93.0     A\n",
      "4  10  Lucas  23.0    NaN   NaN\n",
      "5   5    NaN   NaN   81.0     A\n",
      "6   6    NaN   NaN   87.0     C\n",
      "7   7    NaN   NaN   87.0     A\n"
     ]
    }
   ],
   "source": [
    "merged_df = names.merge(scores, on=\"id\", how=\"outer\")\n",
    "print(merged_df)"
   ]
  },
  {
   "cell_type": "code",
   "execution_count": 8,
   "metadata": {},
   "outputs": [
    {
     "name": "stdout",
     "output_type": "stream",
     "text": [
      "   id   name   age  score group      _merge\n",
      "0   1  Emily  26.0   98.0     A        both\n",
      "1   2   Jane  28.0   84.0     B        both\n",
      "2   3    Joe  24.0   88.0     C        both\n",
      "3   4   Matt  25.0   93.0     A        both\n",
      "4  10  Lucas  23.0    NaN   NaN   left_only\n",
      "5   5    NaN   NaN   81.0     A  right_only\n",
      "6   6    NaN   NaN   87.0     C  right_only\n",
      "7   7    NaN   NaN   87.0     A  right_only\n"
     ]
    }
   ],
   "source": [
    "merged_df = names.merge(scores, on=\"id\", how=\"outer\", indicator=True)\n",
    "print(merged_df)"
   ]
  },
  {
   "cell_type": "code",
   "execution_count": 9,
   "metadata": {},
   "outputs": [
    {
     "data": {
      "text/html": [
       "<div>\n",
       "<style scoped>\n",
       "    .dataframe tbody tr th:only-of-type {\n",
       "        vertical-align: middle;\n",
       "    }\n",
       "\n",
       "    .dataframe tbody tr th {\n",
       "        vertical-align: top;\n",
       "    }\n",
       "\n",
       "    .dataframe thead th {\n",
       "        text-align: right;\n",
       "    }\n",
       "</style>\n",
       "<table border=\"1\" class=\"dataframe\">\n",
       "  <thead>\n",
       "    <tr style=\"text-align: right;\">\n",
       "      <th></th>\n",
       "      <th>id</th>\n",
       "      <th>name</th>\n",
       "      <th>age</th>\n",
       "      <th>score</th>\n",
       "      <th>group</th>\n",
       "      <th>source</th>\n",
       "    </tr>\n",
       "  </thead>\n",
       "  <tbody>\n",
       "    <tr>\n",
       "      <th>0</th>\n",
       "      <td>1</td>\n",
       "      <td>Emily</td>\n",
       "      <td>26</td>\n",
       "      <td>98.0</td>\n",
       "      <td>A</td>\n",
       "      <td>both</td>\n",
       "    </tr>\n",
       "    <tr>\n",
       "      <th>1</th>\n",
       "      <td>2</td>\n",
       "      <td>Jane</td>\n",
       "      <td>28</td>\n",
       "      <td>84.0</td>\n",
       "      <td>B</td>\n",
       "      <td>both</td>\n",
       "    </tr>\n",
       "    <tr>\n",
       "      <th>2</th>\n",
       "      <td>3</td>\n",
       "      <td>Joe</td>\n",
       "      <td>24</td>\n",
       "      <td>88.0</td>\n",
       "      <td>C</td>\n",
       "      <td>both</td>\n",
       "    </tr>\n",
       "    <tr>\n",
       "      <th>3</th>\n",
       "      <td>4</td>\n",
       "      <td>Matt</td>\n",
       "      <td>25</td>\n",
       "      <td>93.0</td>\n",
       "      <td>A</td>\n",
       "      <td>both</td>\n",
       "    </tr>\n",
       "    <tr>\n",
       "      <th>4</th>\n",
       "      <td>10</td>\n",
       "      <td>Lucas</td>\n",
       "      <td>23</td>\n",
       "      <td>NaN</td>\n",
       "      <td>NaN</td>\n",
       "      <td>left_only</td>\n",
       "    </tr>\n",
       "  </tbody>\n",
       "</table>\n",
       "</div>"
      ],
      "text/plain": [
       "   id   name  age  score group     source\n",
       "0   1  Emily   26   98.0     A       both\n",
       "1   2   Jane   28   84.0     B       both\n",
       "2   3    Joe   24   88.0     C       both\n",
       "3   4   Matt   25   93.0     A       both\n",
       "4  10  Lucas   23    NaN   NaN  left_only"
      ]
     },
     "metadata": {},
     "output_type": "display_data"
    }
   ],
   "source": [
    "merged_df = names.merge(scores, on=\"id\", how=\"left\", indicator=\"source\")\n",
    "display(merged_df)"
   ]
  },
  {
   "cell_type": "code",
   "execution_count": 10,
   "metadata": {},
   "outputs": [
    {
     "name": "stdout",
     "output_type": "stream",
     "text": [
      "   id   name  age  id_number  score group\n",
      "0   1  Emily   26          1     98     A\n",
      "1   2   Jane   28          2     84     B\n",
      "2   3    Joe   24          3     88     C\n",
      "3   4   Matt   25          4     93     A\n"
     ]
    }
   ],
   "source": [
    "# rename the id column in the scores DataFrame\n",
    "scores = scores.rename(columns={\"id\": \"id_number\"})\n",
    "\n",
    "merged_df = names.merge(scores, left_on=\"id\", right_on=\"id_number\")\n",
    "print(merged_df)"
   ]
  },
  {
   "cell_type": "code",
   "execution_count": 11,
   "metadata": {},
   "outputs": [],
   "source": [
    "products = pd.DataFrame(\n",
    "    \n",
    "    {\n",
    "        \"pg\": [\"A\", \"A\", \"A\", \"B\", \"B\", \"B\"],\n",
    "        \"id\": [101, 102, 103, 101, 102, 104],\n",
    "        \"price\": np.random.randint(50, 80, size=6),\n",
    "        \"cost\": np.random.randint(40, 50, size=6),\n",
    "        \"discount\": [0.1, 0.1, 0, 0, 0.2, 0]\n",
    "    }\n",
    "    \n",
    ")\n",
    "\n",
    "sales = pd.DataFrame(\n",
    "    \n",
    "    {\n",
    "        \"pg\": [\"A\", \"A\", \"A\", \"B\", \"B\", \"B\"],\n",
    "        \"id\": [101, 102, 105, 101, 102, 106],\n",
    "        \"sales_qty\": np.random.randint(1, 10, size=6),\n",
    "        \"discount\": [0, 0.1, 0.1, 0.2, 0, 0]\n",
    "    }\n",
    "    \n",
    ")"
   ]
  },
  {
   "cell_type": "code",
   "execution_count": 12,
   "metadata": {},
   "outputs": [
    {
     "name": "stdout",
     "output_type": "stream",
     "text": [
      "  pg   id  price  cost  discount_x  sales_qty  discount_y\n",
      "0  A  101     74    44         0.1          2         0.0\n",
      "1  A  102     68    49         0.1          5         0.1\n",
      "2  B  101     74    40         0.0          2         0.2\n",
      "3  B  102     57    40         0.2          7         0.0\n"
     ]
    }
   ],
   "source": [
    "merged_df = products.merge(sales, on=[\"pg\", \"id\"])\n",
    "print(merged_df)"
   ]
  },
  {
   "cell_type": "code",
   "execution_count": 13,
   "metadata": {},
   "outputs": [
    {
     "name": "stdout",
     "output_type": "stream",
     "text": [
      "  pg   id  price  cost  discount_products  sales_qty  discount_sales\n",
      "0  A  101     74    44                0.1          2             0.0\n",
      "1  A  102     68    49                0.1          5             0.1\n",
      "2  B  101     74    40                0.0          2             0.2\n",
      "3  B  102     57    40                0.2          7             0.0\n"
     ]
    }
   ],
   "source": [
    "merged_df = products.merge(sales, on=[\"pg\", \"id\"], suffixes=[\"_products\", \"_sales\"])\n",
    "print(merged_df)"
   ]
  },
  {
   "cell_type": "code",
   "execution_count": 14,
   "metadata": {},
   "outputs": [],
   "source": [
    "# rename the id column\n",
    "sales = sales.rename(columns={\"id\": \"product_id\"})\n",
    "\n",
    "merged_df = products.merge(\n",
    "    sales, \n",
    "    left_on=[\"pg\", \"id\"], \n",
    "    right_on=[\"pg\", \"product_id\"],\n",
    "    how=\"left\",\n",
    "    suffixes=[\"_products\", \"_sales\"]\n",
    ")"
   ]
  },
  {
   "cell_type": "code",
   "execution_count": 15,
   "metadata": {},
   "outputs": [],
   "source": [
    "df1 = pd.DataFrame(\n",
    "    np.random.randint(0, 10, size=(5, 4)),\n",
    "    columns=list(\"ABCD\")\n",
    ")\n",
    "\n",
    "df2 = pd.DataFrame(\n",
    "    np.random.randint(0, 10, size=(5, 4)),\n",
    "    columns=list(\"EFGH\"),\n",
    "    index=[2, 3, 4, 5, 6]\n",
    ")"
   ]
  },
  {
   "cell_type": "code",
   "execution_count": 17,
   "metadata": {},
   "outputs": [],
   "source": [
    "merged_df = df1.merge(df2, left_index=True, right_index=True)"
   ]
  },
  {
   "cell_type": "code",
   "execution_count": 18,
   "metadata": {},
   "outputs": [
    {
     "name": "stdout",
     "output_type": "stream",
     "text": [
      "   A  B  C  D    E    F    G    H\n",
      "0  3  2  2  8  NaN  NaN  NaN  NaN\n",
      "1  5  7  3  0  NaN  NaN  NaN  NaN\n",
      "2  8  7  9  9  7.0  6.0  9.0  6.0\n",
      "3  2  8  1  9  2.0  8.0  8.0  0.0\n",
      "4  9  7  4  9  4.0  7.0  4.0  0.0\n"
     ]
    }
   ],
   "source": [
    "merged_df = df1.merge(df2, left_index=True, right_index=True, how=\"left\")\n",
    "print(merged_df)"
   ]
  },
  {
   "cell_type": "code",
   "execution_count": 21,
   "metadata": {},
   "outputs": [
    {
     "data": {
      "text/html": [
       "<div>\n",
       "<style scoped>\n",
       "    .dataframe tbody tr th:only-of-type {\n",
       "        vertical-align: middle;\n",
       "    }\n",
       "\n",
       "    .dataframe tbody tr th {\n",
       "        vertical-align: top;\n",
       "    }\n",
       "\n",
       "    .dataframe thead th {\n",
       "        text-align: right;\n",
       "    }\n",
       "</style>\n",
       "<table border=\"1\" class=\"dataframe\">\n",
       "  <thead>\n",
       "    <tr style=\"text-align: right;\">\n",
       "      <th></th>\n",
       "      <th>time</th>\n",
       "      <th>left_value</th>\n",
       "    </tr>\n",
       "  </thead>\n",
       "  <tbody>\n",
       "    <tr>\n",
       "      <th>0</th>\n",
       "      <td>2022-12-09 00:00:00</td>\n",
       "      <td>0.86</td>\n",
       "    </tr>\n",
       "    <tr>\n",
       "      <th>1</th>\n",
       "      <td>2022-12-09 00:00:02</td>\n",
       "      <td>0.44</td>\n",
       "    </tr>\n",
       "    <tr>\n",
       "      <th>2</th>\n",
       "      <td>2022-12-09 00:00:04</td>\n",
       "      <td>0.07</td>\n",
       "    </tr>\n",
       "    <tr>\n",
       "      <th>3</th>\n",
       "      <td>2022-12-09 00:00:06</td>\n",
       "      <td>0.90</td>\n",
       "    </tr>\n",
       "    <tr>\n",
       "      <th>4</th>\n",
       "      <td>2022-12-09 00:00:08</td>\n",
       "      <td>0.93</td>\n",
       "    </tr>\n",
       "    <tr>\n",
       "      <th>5</th>\n",
       "      <td>2022-12-09 00:00:10</td>\n",
       "      <td>0.91</td>\n",
       "    </tr>\n",
       "    <tr>\n",
       "      <th>6</th>\n",
       "      <td>2022-12-09 00:00:12</td>\n",
       "      <td>0.26</td>\n",
       "    </tr>\n",
       "  </tbody>\n",
       "</table>\n",
       "</div>"
      ],
      "text/plain": [
       "                 time  left_value\n",
       "0 2022-12-09 00:00:00        0.86\n",
       "1 2022-12-09 00:00:02        0.44\n",
       "2 2022-12-09 00:00:04        0.07\n",
       "3 2022-12-09 00:00:06        0.90\n",
       "4 2022-12-09 00:00:08        0.93\n",
       "5 2022-12-09 00:00:10        0.91\n",
       "6 2022-12-09 00:00:12        0.26"
      ]
     },
     "metadata": {},
     "output_type": "display_data"
    },
    {
     "data": {
      "text/html": [
       "<div>\n",
       "<style scoped>\n",
       "    .dataframe tbody tr th:only-of-type {\n",
       "        vertical-align: middle;\n",
       "    }\n",
       "\n",
       "    .dataframe tbody tr th {\n",
       "        vertical-align: top;\n",
       "    }\n",
       "\n",
       "    .dataframe thead th {\n",
       "        text-align: right;\n",
       "    }\n",
       "</style>\n",
       "<table border=\"1\" class=\"dataframe\">\n",
       "  <thead>\n",
       "    <tr style=\"text-align: right;\">\n",
       "      <th></th>\n",
       "      <th>time</th>\n",
       "      <th>right_value</th>\n",
       "    </tr>\n",
       "  </thead>\n",
       "  <tbody>\n",
       "    <tr>\n",
       "      <th>0</th>\n",
       "      <td>2022-12-09 00:00:00</td>\n",
       "      <td>0.39</td>\n",
       "    </tr>\n",
       "    <tr>\n",
       "      <th>1</th>\n",
       "      <td>2022-12-09 00:00:03</td>\n",
       "      <td>0.35</td>\n",
       "    </tr>\n",
       "    <tr>\n",
       "      <th>2</th>\n",
       "      <td>2022-12-09 00:00:06</td>\n",
       "      <td>0.36</td>\n",
       "    </tr>\n",
       "    <tr>\n",
       "      <th>3</th>\n",
       "      <td>2022-12-09 00:00:09</td>\n",
       "      <td>0.54</td>\n",
       "    </tr>\n",
       "    <tr>\n",
       "      <th>4</th>\n",
       "      <td>2022-12-09 00:00:12</td>\n",
       "      <td>0.44</td>\n",
       "    </tr>\n",
       "    <tr>\n",
       "      <th>5</th>\n",
       "      <td>2022-12-09 00:00:15</td>\n",
       "      <td>0.83</td>\n",
       "    </tr>\n",
       "  </tbody>\n",
       "</table>\n",
       "</div>"
      ],
      "text/plain": [
       "                 time  right_value\n",
       "0 2022-12-09 00:00:00         0.39\n",
       "1 2022-12-09 00:00:03         0.35\n",
       "2 2022-12-09 00:00:06         0.36\n",
       "3 2022-12-09 00:00:09         0.54\n",
       "4 2022-12-09 00:00:12         0.44\n",
       "5 2022-12-09 00:00:15         0.83"
      ]
     },
     "metadata": {},
     "output_type": "display_data"
    }
   ],
   "source": [
    "df1 = pd.DataFrame(\n",
    "    \n",
    "    {\n",
    "        \"time\": pd.date_range(start=\"2022-12-09\", periods=7, freq=\"2S\"),\n",
    "        \"left_value\": np.round(np.random.random(7), 2)\n",
    "    }\n",
    "\n",
    ")\n",
    "\n",
    "df2 = pd.DataFrame(\n",
    "    \n",
    "    {\n",
    "        \"time\": pd.date_range(start=\"2022-12-09\", periods=6, freq=\"3S\"),\n",
    "        \"right_value\": np.round(np.random.random(6), 2)\n",
    "    }\n",
    "\n",
    ")\n",
    "display(df1)\n",
    "display(df2)"
   ]
  },
  {
   "cell_type": "code",
   "execution_count": 22,
   "metadata": {},
   "outputs": [
    {
     "name": "stdout",
     "output_type": "stream",
     "text": [
      "                 time  left_value  right_value\n",
      "0 2022-12-09 00:00:00        0.86         0.39\n",
      "1 2022-12-09 00:00:02        0.44         0.39\n",
      "2 2022-12-09 00:00:04        0.07         0.35\n",
      "3 2022-12-09 00:00:06        0.90         0.36\n",
      "4 2022-12-09 00:00:08        0.93         0.36\n",
      "5 2022-12-09 00:00:10        0.91         0.54\n",
      "6 2022-12-09 00:00:12        0.26         0.44\n"
     ]
    }
   ],
   "source": [
    "merged_df = pd.merge_asof(df1, df2, on=\"time\")\n",
    "print(merged_df)"
   ]
  },
  {
   "cell_type": "code",
   "execution_count": 24,
   "metadata": {},
   "outputs": [
    {
     "name": "stdout",
     "output_type": "stream",
     "text": [
      "                 time  left_value  right_value\n",
      "0 2022-12-09 00:00:00        0.86         0.39\n",
      "1 2022-12-09 00:00:02        0.44         0.35\n",
      "2 2022-12-09 00:00:04        0.07         0.35\n",
      "3 2022-12-09 00:00:06        0.90         0.36\n",
      "4 2022-12-09 00:00:08        0.93         0.54\n",
      "5 2022-12-09 00:00:10        0.91         0.54\n",
      "6 2022-12-09 00:00:12        0.26         0.44\n"
     ]
    }
   ],
   "source": [
    "merged_df = pd.merge_asof(df1, df2, on=\"time\", direction=\"nearest\")\n",
    "print(merged_df)"
   ]
  },
  {
   "cell_type": "code",
   "execution_count": 25,
   "metadata": {},
   "outputs": [],
   "source": [
    "merged_df = pd.merge_asof(\n",
    "    df1, \n",
    "    df2, \n",
    "    on=\"time\", \n",
    "    direction=\"forward\", \n",
    "    tolerance=pd.Timedelta(\"1s\")\n",
    ")"
   ]
  },
  {
   "cell_type": "code",
   "execution_count": 26,
   "metadata": {},
   "outputs": [],
   "source": [
    "merged_df = pd.merge_asof(df1, df2, on=\"time\", allow_exact_matches=False)"
   ]
  },
  {
   "cell_type": "code",
   "execution_count": 27,
   "metadata": {},
   "outputs": [],
   "source": [
    "df1[\"group\"] = [\"AA\"] * 4 + [\"BB\"] * 3\n",
    "\n",
    "df2[\"group\"] = [\"AA\"] * 3 + [\"BB\"] * 3"
   ]
  },
  {
   "cell_type": "code",
   "execution_count": 30,
   "metadata": {},
   "outputs": [
    {
     "name": "stdout",
     "output_type": "stream",
     "text": [
      "                 time  left_value group  right_value\n",
      "0 2022-12-09 00:00:00        0.86    AA         0.39\n",
      "1 2022-12-09 00:00:02        0.44    AA         0.39\n",
      "2 2022-12-09 00:00:04        0.07    AA         0.35\n",
      "3 2022-12-09 00:00:06        0.90    AA         0.36\n",
      "4 2022-12-09 00:00:08        0.93    BB          NaN\n",
      "5 2022-12-09 00:00:10        0.91    BB         0.54\n",
      "6 2022-12-09 00:00:12        0.26    BB         0.44\n"
     ]
    }
   ],
   "source": [
    "merged_df = pd.merge_asof(df1, df2, on=\"time\", by=\"group\")\n",
    "print(merged_df)"
   ]
  },
  {
   "cell_type": "code",
   "execution_count": 29,
   "metadata": {},
   "outputs": [
    {
     "name": "stdout",
     "output_type": "stream",
     "text": [
      "                 time  left_value group  right_value\n",
      "0 2022-12-09 00:00:00        0.86    AA         0.39\n",
      "1 2022-12-09 00:00:02        0.44    AA          NaN\n",
      "2 2022-12-09 00:00:03         NaN    AA         0.35\n",
      "3 2022-12-09 00:00:04        0.07    AA          NaN\n",
      "4 2022-12-09 00:00:06        0.90    AA         0.36\n",
      "5 2022-12-09 00:00:08        0.93    BB          NaN\n",
      "6 2022-12-09 00:00:09         NaN    BB         0.54\n",
      "7 2022-12-09 00:00:10        0.91    BB          NaN\n",
      "8 2022-12-09 00:00:12        0.26    BB         0.44\n",
      "9 2022-12-09 00:00:15         NaN    BB         0.83\n"
     ]
    }
   ],
   "source": [
    "merged_df = pd.merge_ordered(df1, df2)\n",
    "print(merged_df)"
   ]
  },
  {
   "cell_type": "code",
   "execution_count": 31,
   "metadata": {},
   "outputs": [
    {
     "name": "stdout",
     "output_type": "stream",
     "text": [
      "                 time  left_value group  right_value\n",
      "0 2022-12-09 00:00:00        0.86    AA         0.39\n",
      "1 2022-12-09 00:00:02        0.44    AA         0.39\n",
      "2 2022-12-09 00:00:03        0.44    AA         0.35\n",
      "3 2022-12-09 00:00:04        0.07    AA         0.35\n",
      "4 2022-12-09 00:00:06        0.90    AA         0.36\n",
      "5 2022-12-09 00:00:08        0.93    BB         0.36\n",
      "6 2022-12-09 00:00:09        0.93    BB         0.54\n",
      "7 2022-12-09 00:00:10        0.91    BB         0.54\n",
      "8 2022-12-09 00:00:12        0.26    BB         0.44\n",
      "9 2022-12-09 00:00:15        0.26    BB         0.83\n"
     ]
    }
   ],
   "source": [
    "merged_df = pd.merge_ordered(df1, df2, fill_method=\"ffill\")\n",
    "print(merged_df)"
   ]
  },
  {
   "cell_type": "code",
   "execution_count": 33,
   "metadata": {},
   "outputs": [
    {
     "name": "stdout",
     "output_type": "stream",
     "text": [
      "                 time  left_value group  right_value\n",
      "0 2022-12-09 00:00:00        0.86    AA         0.39\n",
      "1 2022-12-09 00:00:02        0.44    AA         0.39\n",
      "2 2022-12-09 00:00:03        0.44    AA         0.35\n",
      "3 2022-12-09 00:00:04        0.07    AA         0.35\n",
      "4 2022-12-09 00:00:06        0.90    AA         0.36\n",
      "5 2022-12-09 00:00:08        0.93    BB          NaN\n",
      "6 2022-12-09 00:00:09        0.93    BB         0.54\n",
      "7 2022-12-09 00:00:10        0.91    BB         0.54\n",
      "8 2022-12-09 00:00:12        0.26    BB         0.44\n",
      "9 2022-12-09 00:00:15        0.26    BB         0.83\n"
     ]
    }
   ],
   "source": [
    "merged_df = pd.merge_ordered(df1, df2, fill_method=\"ffill\", left_by=\"group\")\n",
    "print(merged_df)"
   ]
  },
  {
   "cell_type": "code",
   "execution_count": null,
   "metadata": {},
   "outputs": [],
   "source": []
  }
 ],
 "metadata": {
  "kernelspec": {
   "display_name": "Python 3",
   "language": "python",
   "name": "python3"
  },
  "language_info": {
   "codemirror_mode": {
    "name": "ipython",
    "version": 3
   },
   "file_extension": ".py",
   "mimetype": "text/x-python",
   "name": "python",
   "nbconvert_exporter": "python",
   "pygments_lexer": "ipython3",
   "version": "3.11.3"
  },
  "orig_nbformat": 4
 },
 "nbformat": 4,
 "nbformat_minor": 2
}
