{
 "cells": [
  {
   "cell_type": "markdown",
   "id": "d1b0cbee",
   "metadata": {},
   "source": [
    "https://ogre51.medium.com/python-range-numpy-arange-and-numpy-linspace-17235c629710"
   ]
  },
  {
   "cell_type": "code",
   "execution_count": 1,
   "id": "830a4034",
   "metadata": {},
   "outputs": [
    {
     "name": "stdout",
     "output_type": "stream",
     "text": [
      "0\n",
      "1\n",
      "2\n",
      "3\n",
      "4\n"
     ]
    }
   ],
   "source": [
    "#Generating a simple sequence of numbers:\n",
    "\n",
    "for i in range(5):\n",
    "    print(i)\n",
    "# Output: 0 1 2 3 4"
   ]
  },
  {
   "cell_type": "code",
   "execution_count": 2,
   "id": "bf8e2d1e",
   "metadata": {},
   "outputs": [
    {
     "name": "stdout",
     "output_type": "stream",
     "text": [
      "1\n",
      "3\n",
      "5\n",
      "7\n",
      "9\n"
     ]
    }
   ],
   "source": [
    "#Specifying start, stop, and step values:\n",
    "\n",
    "for i in range(1, 10, 2):\n",
    "    print(i)\n",
    "# Output: 1 3 5 7 9"
   ]
  },
  {
   "cell_type": "code",
   "execution_count": 3,
   "id": "970f361d",
   "metadata": {},
   "outputs": [],
   "source": [
    "# Creating a list from a range:\n",
    "\n",
    "my_list = list(range(3, 15, 3))\n",
    "# my_list will be [3, 6, 9, 12]"
   ]
  },
  {
   "cell_type": "code",
   "execution_count": 6,
   "id": "73c160b0",
   "metadata": {},
   "outputs": [
    {
     "name": "stdout",
     "output_type": "stream",
     "text": [
      "[0 2 4 6 8]\n"
     ]
    }
   ],
   "source": [
    "#Creating an array with arange:\n",
    "\n",
    "import numpy as np\n",
    "arr = np.arange(0, 10, 2)\n",
    "# arr will be array([0, 2, 4, 6, 8])\n",
    "\n",
    "print(arr)"
   ]
  },
  {
   "cell_type": "code",
   "execution_count": 7,
   "id": "a47dc6d7",
   "metadata": {},
   "outputs": [
    {
     "name": "stdout",
     "output_type": "stream",
     "text": [
      "[0.  0.1 0.2 0.3 0.4 0.5 0.6 0.7 0.8 0.9]\n"
     ]
    }
   ],
   "source": [
    "#Specifying a float data type:\n",
    "\n",
    "import numpy as np\n",
    "arr = np.arange(0, 1, 0.1, dtype=float)\n",
    "\n",
    "# arr will be array([0. , 0.1, 0.2, 0.3, 0.4, 0.5, 0.6, 0.7, 0.8, 0.9])\n",
    "print(arr)"
   ]
  },
  {
   "cell_type": "code",
   "execution_count": 9,
   "id": "1ad4bf8e",
   "metadata": {},
   "outputs": [
    {
     "name": "stdout",
     "output_type": "stream",
     "text": [
      "['2023-01-01' '2023-01-02' '2023-01-03' '2023-01-04' '2023-01-05'\n",
      " '2023-01-06' '2023-01-07' '2023-01-08' '2023-01-09']\n"
     ]
    }
   ],
   "source": [
    "# Using arange for creating a sequence of dates:\n",
    "\n",
    "import numpy as np\n",
    "start_date = np.datetime64('2023-01-01')\n",
    "end_date = np.datetime64('2023-01-10')\n",
    "\n",
    "date_range = np.arange(start_date, end_date, np.timedelta64(1, 'D'))\n",
    "\n",
    "# date_range will be array(['2023-01-01', '2023-01-02', '2023-01-03', '2023-01-04',\n",
    "#                         '2023-01-05', '2023-01-06', '2023-01-07', '2023-01-08',\n",
    "#  \n",
    "print(date_range)"
   ]
  },
  {
   "cell_type": "code",
   "execution_count": 11,
   "id": "edc39572",
   "metadata": {},
   "outputs": [
    {
     "name": "stdout",
     "output_type": "stream",
     "text": [
      "[0.   0.25 0.5  0.75 1.  ]\n"
     ]
    }
   ],
   "source": [
    "#Creating an array with linspace:\n",
    "\n",
    "import numpy as np\n",
    "arr = np.linspace(0, 1, 5)\n",
    "\n",
    "# arr will be array([0.  , 0.25, 0.5 , 0.75, 1.  ])\n",
    "print(arr)"
   ]
  },
  {
   "cell_type": "code",
   "execution_count": 13,
   "id": "f19158f6",
   "metadata": {},
   "outputs": [
    {
     "name": "stdout",
     "output_type": "stream",
     "text": [
      "[ 0.          0.52631579  1.05263158  1.57894737  2.10526316  2.63157895\n",
      "  3.15789474  3.68421053  4.21052632  4.73684211  5.26315789  5.78947368\n",
      "  6.31578947  6.84210526  7.36842105  7.89473684  8.42105263  8.94736842\n",
      "  9.47368421 10.        ]\n"
     ]
    }
   ],
   "source": [
    "#Specifying a different number of elements:\n",
    "\n",
    "import numpy as np\n",
    "arr = np.linspace(0, 10, 20)\n",
    "# arr will have 20 evenly spaced values from 0 to 10.\n",
    "print(arr)"
   ]
  },
  {
   "cell_type": "code",
   "execution_count": 15,
   "id": "ed37fbaa",
   "metadata": {},
   "outputs": [
    {
     "name": "stdout",
     "output_type": "stream",
     "text": [
      "[ 0.          0.52631579  1.05263158  1.57894737  2.10526316  2.63157895\n",
      "  3.15789474  3.68421053  4.21052632  4.73684211  5.26315789  5.78947368\n",
      "  6.31578947  6.84210526  7.36842105  7.89473684  8.42105263  8.94736842\n",
      "  9.47368421 10.        ]\n"
     ]
    }
   ],
   "source": [
    "#Generating a logarithmic scale:\n",
    "\n",
    "import numpy as np\n",
    "log_scale = np.linspace(1, 1000, 10, endpoint=False)\n",
    "# log_scale will have 10 logarithmically spaced values between 1 and 1000.\n",
    "print(arr)"
   ]
  },
  {
   "cell_type": "code",
   "execution_count": null,
   "id": "438ce011",
   "metadata": {},
   "outputs": [],
   "source": []
  }
 ],
 "metadata": {
  "kernelspec": {
   "display_name": "Python 3 (ipykernel)",
   "language": "python",
   "name": "python3"
  },
  "language_info": {
   "codemirror_mode": {
    "name": "ipython",
    "version": 3
   },
   "file_extension": ".py",
   "mimetype": "text/x-python",
   "name": "python",
   "nbconvert_exporter": "python",
   "pygments_lexer": "ipython3",
   "version": "3.9.7"
  }
 },
 "nbformat": 4,
 "nbformat_minor": 5
}
