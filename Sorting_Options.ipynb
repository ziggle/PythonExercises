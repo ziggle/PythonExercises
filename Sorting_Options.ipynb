{
 "cells": [
  {
   "cell_type": "markdown",
   "id": "f986a8f1",
   "metadata": {},
   "source": [
    "https://towardsdatascience.com/11-tricks-to-master-values-sorting-in-pandas-7f2cfbf19730"
   ]
  },
  {
   "cell_type": "code",
   "execution_count": 4,
   "id": "514eeef7",
   "metadata": {},
   "outputs": [],
   "source": [
    "import pandas as pd\n",
    "df = pd.DataFrame({\n",
    "    'product': ['keyboard', 'mouse', 'desk', 'monitor', 'chair'],\n",
    "    'category': ['C', 'C', 'O', 'C', 'O'],\n",
    "    'year': [2002, 2002, 2005, 2001, 2003],\n",
    "    'cost': ['$52', '$24', '$250', '$500', '$150'],\n",
    "    'promotion_time': ['20hr', '30hr', '20hr', '20hr', '2hr'],\n",
    "})"
   ]
  },
  {
   "cell_type": "code",
   "execution_count": 5,
   "id": "deea7fce",
   "metadata": {},
   "outputs": [
    {
     "data": {
      "text/plain": [
       "3    2001\n",
       "0    2002\n",
       "1    2002\n",
       "4    2003\n",
       "2    2005\n",
       "Name: year, dtype: int64"
      ]
     },
     "execution_count": 5,
     "metadata": {},
     "output_type": "execute_result"
    }
   ],
   "source": [
    "df['year'].sort_values()"
   ]
  },
  {
   "cell_type": "code",
   "execution_count": 6,
   "id": "f7b781d8",
   "metadata": {},
   "outputs": [
    {
     "data": {
      "text/plain": [
       "2    2005\n",
       "4    2003\n",
       "0    2002\n",
       "1    2002\n",
       "3    2001\n",
       "Name: year, dtype: int64"
      ]
     },
     "execution_count": 6,
     "metadata": {},
     "output_type": "execute_result"
    }
   ],
   "source": [
    "df['year'].sort_values(ascending=False)\n"
   ]
  },
  {
   "cell_type": "code",
   "execution_count": 7,
   "id": "3d82d475",
   "metadata": {},
   "outputs": [
    {
     "data": {
      "text/html": [
       "<div>\n",
       "<style scoped>\n",
       "    .dataframe tbody tr th:only-of-type {\n",
       "        vertical-align: middle;\n",
       "    }\n",
       "\n",
       "    .dataframe tbody tr th {\n",
       "        vertical-align: top;\n",
       "    }\n",
       "\n",
       "    .dataframe thead th {\n",
       "        text-align: right;\n",
       "    }\n",
       "</style>\n",
       "<table border=\"1\" class=\"dataframe\">\n",
       "  <thead>\n",
       "    <tr style=\"text-align: right;\">\n",
       "      <th></th>\n",
       "      <th>product</th>\n",
       "      <th>category</th>\n",
       "      <th>year</th>\n",
       "      <th>cost</th>\n",
       "      <th>promotion_time</th>\n",
       "    </tr>\n",
       "  </thead>\n",
       "  <tbody>\n",
       "    <tr>\n",
       "      <th>3</th>\n",
       "      <td>monitor</td>\n",
       "      <td>C</td>\n",
       "      <td>2001</td>\n",
       "      <td>$500</td>\n",
       "      <td>20hr</td>\n",
       "    </tr>\n",
       "    <tr>\n",
       "      <th>0</th>\n",
       "      <td>keyboard</td>\n",
       "      <td>C</td>\n",
       "      <td>2002</td>\n",
       "      <td>$52</td>\n",
       "      <td>20hr</td>\n",
       "    </tr>\n",
       "    <tr>\n",
       "      <th>1</th>\n",
       "      <td>mouse</td>\n",
       "      <td>C</td>\n",
       "      <td>2002</td>\n",
       "      <td>$24</td>\n",
       "      <td>30hr</td>\n",
       "    </tr>\n",
       "    <tr>\n",
       "      <th>4</th>\n",
       "      <td>chair</td>\n",
       "      <td>O</td>\n",
       "      <td>2003</td>\n",
       "      <td>$150</td>\n",
       "      <td>2hr</td>\n",
       "    </tr>\n",
       "    <tr>\n",
       "      <th>2</th>\n",
       "      <td>desk</td>\n",
       "      <td>O</td>\n",
       "      <td>2005</td>\n",
       "      <td>$250</td>\n",
       "      <td>20hr</td>\n",
       "    </tr>\n",
       "  </tbody>\n",
       "</table>\n",
       "</div>"
      ],
      "text/plain": [
       "    product category  year  cost promotion_time\n",
       "3   monitor        C  2001  $500           20hr\n",
       "0  keyboard        C  2002   $52           20hr\n",
       "1     mouse        C  2002   $24           30hr\n",
       "4     chair        O  2003  $150            2hr\n",
       "2      desk        O  2005  $250           20hr"
      ]
     },
     "execution_count": 7,
     "metadata": {},
     "output_type": "execute_result"
    }
   ],
   "source": [
    "df.sort_values('year')\n",
    "# same as df.sort_values(by='year')"
   ]
  },
  {
   "cell_type": "code",
   "execution_count": 8,
   "id": "099f37de",
   "metadata": {},
   "outputs": [
    {
     "data": {
      "text/html": [
       "<div>\n",
       "<style scoped>\n",
       "    .dataframe tbody tr th:only-of-type {\n",
       "        vertical-align: middle;\n",
       "    }\n",
       "\n",
       "    .dataframe tbody tr th {\n",
       "        vertical-align: top;\n",
       "    }\n",
       "\n",
       "    .dataframe thead th {\n",
       "        text-align: right;\n",
       "    }\n",
       "</style>\n",
       "<table border=\"1\" class=\"dataframe\">\n",
       "  <thead>\n",
       "    <tr style=\"text-align: right;\">\n",
       "      <th></th>\n",
       "      <th>product</th>\n",
       "      <th>category</th>\n",
       "      <th>year</th>\n",
       "      <th>cost</th>\n",
       "      <th>promotion_time</th>\n",
       "    </tr>\n",
       "  </thead>\n",
       "  <tbody>\n",
       "    <tr>\n",
       "      <th>0</th>\n",
       "      <td>keyboard</td>\n",
       "      <td>C</td>\n",
       "      <td>2002</td>\n",
       "      <td>$52</td>\n",
       "      <td>20hr</td>\n",
       "    </tr>\n",
       "    <tr>\n",
       "      <th>1</th>\n",
       "      <td>mouse</td>\n",
       "      <td>C</td>\n",
       "      <td>2002</td>\n",
       "      <td>$24</td>\n",
       "      <td>30hr</td>\n",
       "    </tr>\n",
       "    <tr>\n",
       "      <th>3</th>\n",
       "      <td>monitor</td>\n",
       "      <td>C</td>\n",
       "      <td>2001</td>\n",
       "      <td>$500</td>\n",
       "      <td>20hr</td>\n",
       "    </tr>\n",
       "    <tr>\n",
       "      <th>2</th>\n",
       "      <td>desk</td>\n",
       "      <td>O</td>\n",
       "      <td>2005</td>\n",
       "      <td>$250</td>\n",
       "      <td>20hr</td>\n",
       "    </tr>\n",
       "    <tr>\n",
       "      <th>4</th>\n",
       "      <td>chair</td>\n",
       "      <td>O</td>\n",
       "      <td>2003</td>\n",
       "      <td>$150</td>\n",
       "      <td>2hr</td>\n",
       "    </tr>\n",
       "  </tbody>\n",
       "</table>\n",
       "</div>"
      ],
      "text/plain": [
       "    product category  year  cost promotion_time\n",
       "0  keyboard        C  2002   $52           20hr\n",
       "1     mouse        C  2002   $24           30hr\n",
       "3   monitor        C  2001  $500           20hr\n",
       "2      desk        O  2005  $250           20hr\n",
       "4     chair        O  2003  $150            2hr"
      ]
     },
     "execution_count": 8,
     "metadata": {},
     "output_type": "execute_result"
    }
   ],
   "source": [
    "df.sort_values(['category', 'year'], ascending=[True, False])"
   ]
  },
  {
   "cell_type": "code",
   "execution_count": 9,
   "id": "69a4528b",
   "metadata": {},
   "outputs": [
    {
     "name": "stderr",
     "output_type": "stream",
     "text": [
      "C:\\Users\\biegertm\\AppData\\Local\\Temp/ipykernel_21724/1821010.py:3: FutureWarning: The default value of regex will change from True to False in a future version. In addition, single character regular expressions will *not* be treated as literal strings when regex=True.\n",
      "  key=lambda val: val.str.replace('$', '').astype('float64')\n"
     ]
    },
    {
     "data": {
      "text/html": [
       "<div>\n",
       "<style scoped>\n",
       "    .dataframe tbody tr th:only-of-type {\n",
       "        vertical-align: middle;\n",
       "    }\n",
       "\n",
       "    .dataframe tbody tr th {\n",
       "        vertical-align: top;\n",
       "    }\n",
       "\n",
       "    .dataframe thead th {\n",
       "        text-align: right;\n",
       "    }\n",
       "</style>\n",
       "<table border=\"1\" class=\"dataframe\">\n",
       "  <thead>\n",
       "    <tr style=\"text-align: right;\">\n",
       "      <th></th>\n",
       "      <th>product</th>\n",
       "      <th>category</th>\n",
       "      <th>year</th>\n",
       "      <th>cost</th>\n",
       "      <th>promotion_time</th>\n",
       "    </tr>\n",
       "  </thead>\n",
       "  <tbody>\n",
       "    <tr>\n",
       "      <th>1</th>\n",
       "      <td>mouse</td>\n",
       "      <td>C</td>\n",
       "      <td>2002</td>\n",
       "      <td>$24</td>\n",
       "      <td>30hr</td>\n",
       "    </tr>\n",
       "    <tr>\n",
       "      <th>0</th>\n",
       "      <td>keyboard</td>\n",
       "      <td>C</td>\n",
       "      <td>2002</td>\n",
       "      <td>$52</td>\n",
       "      <td>20hr</td>\n",
       "    </tr>\n",
       "    <tr>\n",
       "      <th>4</th>\n",
       "      <td>chair</td>\n",
       "      <td>O</td>\n",
       "      <td>2003</td>\n",
       "      <td>$150</td>\n",
       "      <td>2hr</td>\n",
       "    </tr>\n",
       "    <tr>\n",
       "      <th>2</th>\n",
       "      <td>desk</td>\n",
       "      <td>O</td>\n",
       "      <td>2005</td>\n",
       "      <td>$250</td>\n",
       "      <td>20hr</td>\n",
       "    </tr>\n",
       "    <tr>\n",
       "      <th>3</th>\n",
       "      <td>monitor</td>\n",
       "      <td>C</td>\n",
       "      <td>2001</td>\n",
       "      <td>$500</td>\n",
       "      <td>20hr</td>\n",
       "    </tr>\n",
       "  </tbody>\n",
       "</table>\n",
       "</div>"
      ],
      "text/plain": [
       "    product category  year  cost promotion_time\n",
       "1     mouse        C  2002   $24           30hr\n",
       "0  keyboard        C  2002   $52           20hr\n",
       "4     chair        O  2003  $150            2hr\n",
       "2      desk        O  2005  $250           20hr\n",
       "3   monitor        C  2001  $500           20hr"
      ]
     },
     "execution_count": 9,
     "metadata": {},
     "output_type": "execute_result"
    }
   ],
   "source": [
    "df.sort_values(\n",
    "    'cost', \n",
    "    key=lambda val: val.str.replace('$', '').astype('float64')\n",
    ")"
   ]
  },
  {
   "cell_type": "code",
   "execution_count": 10,
   "id": "c3df58ba",
   "metadata": {},
   "outputs": [],
   "source": [
    "df = pd.DataFrame({\n",
    "    'product': ['keyboard', 'mouse', 'desk', 'monitor', 'chair'],\n",
    "    'category': ['C', 'C', 'O', 'C', 'O'],\n",
    "    'year': [2002, 2002, 2005, 2001, 2003],\n",
    "    'cost': ['$52', '$24', '$250', '$500', '$150'],\n",
    "    'promotion_time': ['20hr', '30hr', '20hr', '20hr', '2hr'],\n",
    "})"
   ]
  },
  {
   "cell_type": "code",
   "execution_count": 11,
   "id": "7b71dce7",
   "metadata": {},
   "outputs": [
    {
     "name": "stderr",
     "output_type": "stream",
     "text": [
      "C:\\Users\\biegertm\\AppData\\Local\\Temp/ipykernel_21724/694544415.py:3: FutureWarning: The default value of regex will change from True to False in a future version. In addition, single character regular expressions will *not* be treated as literal strings when regex=True.\n",
      "  return x.str.replace('$', '').astype('float64')\n"
     ]
    },
    {
     "data": {
      "text/html": [
       "<div>\n",
       "<style scoped>\n",
       "    .dataframe tbody tr th:only-of-type {\n",
       "        vertical-align: middle;\n",
       "    }\n",
       "\n",
       "    .dataframe tbody tr th {\n",
       "        vertical-align: top;\n",
       "    }\n",
       "\n",
       "    .dataframe thead th {\n",
       "        text-align: right;\n",
       "    }\n",
       "</style>\n",
       "<table border=\"1\" class=\"dataframe\">\n",
       "  <thead>\n",
       "    <tr style=\"text-align: right;\">\n",
       "      <th></th>\n",
       "      <th>product</th>\n",
       "      <th>category</th>\n",
       "      <th>year</th>\n",
       "      <th>cost</th>\n",
       "      <th>promotion_time</th>\n",
       "    </tr>\n",
       "  </thead>\n",
       "  <tbody>\n",
       "    <tr>\n",
       "      <th>3</th>\n",
       "      <td>monitor</td>\n",
       "      <td>C</td>\n",
       "      <td>2001</td>\n",
       "      <td>$500</td>\n",
       "      <td>20hr</td>\n",
       "    </tr>\n",
       "    <tr>\n",
       "      <th>0</th>\n",
       "      <td>keyboard</td>\n",
       "      <td>C</td>\n",
       "      <td>2002</td>\n",
       "      <td>$52</td>\n",
       "      <td>20hr</td>\n",
       "    </tr>\n",
       "    <tr>\n",
       "      <th>1</th>\n",
       "      <td>mouse</td>\n",
       "      <td>C</td>\n",
       "      <td>2002</td>\n",
       "      <td>$24</td>\n",
       "      <td>30hr</td>\n",
       "    </tr>\n",
       "    <tr>\n",
       "      <th>4</th>\n",
       "      <td>chair</td>\n",
       "      <td>O</td>\n",
       "      <td>2003</td>\n",
       "      <td>$150</td>\n",
       "      <td>2hr</td>\n",
       "    </tr>\n",
       "    <tr>\n",
       "      <th>2</th>\n",
       "      <td>desk</td>\n",
       "      <td>O</td>\n",
       "      <td>2005</td>\n",
       "      <td>$250</td>\n",
       "      <td>20hr</td>\n",
       "    </tr>\n",
       "  </tbody>\n",
       "</table>\n",
       "</div>"
      ],
      "text/plain": [
       "    product category  year  cost promotion_time\n",
       "3   monitor        C  2001  $500           20hr\n",
       "0  keyboard        C  2002   $52           20hr\n",
       "1     mouse        C  2002   $24           30hr\n",
       "4     chair        O  2003  $150            2hr\n",
       "2      desk        O  2005  $250           20hr"
      ]
     },
     "execution_count": 11,
     "metadata": {},
     "output_type": "execute_result"
    }
   ],
   "source": [
    "def sort_by_cost_time(x):\n",
    "    if x.name == 'cost':\n",
    "        return x.str.replace('$', '').astype('float64')\n",
    "    elif x.name == 'promotion_time':\n",
    "        return x.str.replace('hr', '').astype('int')\n",
    "    else:\n",
    "        return x\n",
    "# Pass the function to the key argument\n",
    "df.sort_values(\n",
    "   ['year', 'promotion_time', 'cost'], \n",
    "   key=sort_by_cost_time\n",
    ")"
   ]
  },
  {
   "cell_type": "code",
   "execution_count": 13,
   "id": "f6c258d1",
   "metadata": {},
   "outputs": [],
   "source": [
    "df = pd.DataFrame({\n",
    "    'cloth_id': [1001, 1002, 1003, 1004, 1005, 1006],\n",
    "    'size': ['S', 'XL', 'M', 'XS', 'L', 'S'],\n",
    "})\n",
    "\n",
    "from pandas.api.types import CategoricalDtype"
   ]
  },
  {
   "cell_type": "code",
   "execution_count": 14,
   "id": "2258b855",
   "metadata": {},
   "outputs": [],
   "source": [
    "cat_size_order = CategoricalDtype(\n",
    "    ['XS', 'S', 'M', 'L', 'XL'], \n",
    "    ordered=True\n",
    ")"
   ]
  },
  {
   "cell_type": "code",
   "execution_count": 15,
   "id": "75faef0d",
   "metadata": {},
   "outputs": [
    {
     "data": {
      "text/plain": [
       "0     S\n",
       "1    XL\n",
       "2     M\n",
       "3    XS\n",
       "4     L\n",
       "5     S\n",
       "Name: size, dtype: category\n",
       "Categories (5, object): ['XS' < 'S' < 'M' < 'L' < 'XL']"
      ]
     },
     "execution_count": 15,
     "metadata": {},
     "output_type": "execute_result"
    }
   ],
   "source": [
    "df['size'] = df['size'].astype(cat_size_order)\n",
    "df['size']"
   ]
  },
  {
   "cell_type": "code",
   "execution_count": 16,
   "id": "0a86826d",
   "metadata": {},
   "outputs": [
    {
     "data": {
      "text/html": [
       "<div>\n",
       "<style scoped>\n",
       "    .dataframe tbody tr th:only-of-type {\n",
       "        vertical-align: middle;\n",
       "    }\n",
       "\n",
       "    .dataframe tbody tr th {\n",
       "        vertical-align: top;\n",
       "    }\n",
       "\n",
       "    .dataframe thead th {\n",
       "        text-align: right;\n",
       "    }\n",
       "</style>\n",
       "<table border=\"1\" class=\"dataframe\">\n",
       "  <thead>\n",
       "    <tr style=\"text-align: right;\">\n",
       "      <th></th>\n",
       "      <th>cloth_id</th>\n",
       "      <th>size</th>\n",
       "    </tr>\n",
       "  </thead>\n",
       "  <tbody>\n",
       "    <tr>\n",
       "      <th>3</th>\n",
       "      <td>1004</td>\n",
       "      <td>XS</td>\n",
       "    </tr>\n",
       "    <tr>\n",
       "      <th>0</th>\n",
       "      <td>1001</td>\n",
       "      <td>S</td>\n",
       "    </tr>\n",
       "    <tr>\n",
       "      <th>5</th>\n",
       "      <td>1006</td>\n",
       "      <td>S</td>\n",
       "    </tr>\n",
       "    <tr>\n",
       "      <th>2</th>\n",
       "      <td>1003</td>\n",
       "      <td>M</td>\n",
       "    </tr>\n",
       "    <tr>\n",
       "      <th>4</th>\n",
       "      <td>1005</td>\n",
       "      <td>L</td>\n",
       "    </tr>\n",
       "    <tr>\n",
       "      <th>1</th>\n",
       "      <td>1002</td>\n",
       "      <td>XL</td>\n",
       "    </tr>\n",
       "  </tbody>\n",
       "</table>\n",
       "</div>"
      ],
      "text/plain": [
       "   cloth_id size\n",
       "3      1004   XS\n",
       "0      1001    S\n",
       "5      1006    S\n",
       "2      1003    M\n",
       "4      1005    L\n",
       "1      1002   XL"
      ]
     },
     "execution_count": 16,
     "metadata": {},
     "output_type": "execute_result"
    }
   ],
   "source": [
    "df.sort_values('size')"
   ]
  },
  {
   "cell_type": "code",
   "execution_count": 18,
   "id": "8a3860fa",
   "metadata": {},
   "outputs": [
    {
     "data": {
      "text/html": [
       "<div>\n",
       "<style scoped>\n",
       "    .dataframe tbody tr th:only-of-type {\n",
       "        vertical-align: middle;\n",
       "    }\n",
       "\n",
       "    .dataframe tbody tr th {\n",
       "        vertical-align: top;\n",
       "    }\n",
       "\n",
       "    .dataframe thead th {\n",
       "        text-align: right;\n",
       "    }\n",
       "</style>\n",
       "<table border=\"1\" class=\"dataframe\">\n",
       "  <thead>\n",
       "    <tr style=\"text-align: right;\">\n",
       "      <th></th>\n",
       "      <th>id</th>\n",
       "      <th>name</th>\n",
       "    </tr>\n",
       "  </thead>\n",
       "  <tbody>\n",
       "    <tr>\n",
       "      <th>1</th>\n",
       "      <td>2.0</td>\n",
       "      <td>B</td>\n",
       "    </tr>\n",
       "    <tr>\n",
       "      <th>2</th>\n",
       "      <td>3.0</td>\n",
       "      <td>C</td>\n",
       "    </tr>\n",
       "    <tr>\n",
       "      <th>0</th>\n",
       "      <td>4.0</td>\n",
       "      <td>A</td>\n",
       "    </tr>\n",
       "    <tr>\n",
       "      <th>5</th>\n",
       "      <td>5.0</td>\n",
       "      <td>F</td>\n",
       "    </tr>\n",
       "    <tr>\n",
       "      <th>4</th>\n",
       "      <td>6.0</td>\n",
       "      <td>E</td>\n",
       "    </tr>\n",
       "    <tr>\n",
       "      <th>3</th>\n",
       "      <td>NaN</td>\n",
       "      <td>D</td>\n",
       "    </tr>\n",
       "  </tbody>\n",
       "</table>\n",
       "</div>"
      ],
      "text/plain": [
       "    id name\n",
       "1  2.0    B\n",
       "2  3.0    C\n",
       "0  4.0    A\n",
       "5  5.0    F\n",
       "4  6.0    E\n",
       "3  NaN    D"
      ]
     },
     "execution_count": 18,
     "metadata": {},
     "output_type": "execute_result"
    }
   ],
   "source": [
    "import numpy as np\n",
    "\n",
    "df = pd.DataFrame({\n",
    "    'id': [4, 2, 3, np.nan, 6, 5],\n",
    "    'name': ['A', 'B', 'C', 'D', 'E', 'F'],\n",
    "})\n",
    "df.sort_values('id')"
   ]
  },
  {
   "cell_type": "code",
   "execution_count": 19,
   "id": "3526ff34",
   "metadata": {},
   "outputs": [
    {
     "data": {
      "text/html": [
       "<div>\n",
       "<style scoped>\n",
       "    .dataframe tbody tr th:only-of-type {\n",
       "        vertical-align: middle;\n",
       "    }\n",
       "\n",
       "    .dataframe tbody tr th {\n",
       "        vertical-align: top;\n",
       "    }\n",
       "\n",
       "    .dataframe thead th {\n",
       "        text-align: right;\n",
       "    }\n",
       "</style>\n",
       "<table border=\"1\" class=\"dataframe\">\n",
       "  <thead>\n",
       "    <tr style=\"text-align: right;\">\n",
       "      <th></th>\n",
       "      <th>id</th>\n",
       "      <th>name</th>\n",
       "    </tr>\n",
       "  </thead>\n",
       "  <tbody>\n",
       "    <tr>\n",
       "      <th>3</th>\n",
       "      <td>NaN</td>\n",
       "      <td>D</td>\n",
       "    </tr>\n",
       "    <tr>\n",
       "      <th>1</th>\n",
       "      <td>2.0</td>\n",
       "      <td>B</td>\n",
       "    </tr>\n",
       "    <tr>\n",
       "      <th>2</th>\n",
       "      <td>3.0</td>\n",
       "      <td>C</td>\n",
       "    </tr>\n",
       "    <tr>\n",
       "      <th>0</th>\n",
       "      <td>4.0</td>\n",
       "      <td>A</td>\n",
       "    </tr>\n",
       "    <tr>\n",
       "      <th>5</th>\n",
       "      <td>5.0</td>\n",
       "      <td>F</td>\n",
       "    </tr>\n",
       "    <tr>\n",
       "      <th>4</th>\n",
       "      <td>6.0</td>\n",
       "      <td>E</td>\n",
       "    </tr>\n",
       "  </tbody>\n",
       "</table>\n",
       "</div>"
      ],
      "text/plain": [
       "    id name\n",
       "3  NaN    D\n",
       "1  2.0    B\n",
       "2  3.0    C\n",
       "0  4.0    A\n",
       "5  5.0    F\n",
       "4  6.0    E"
      ]
     },
     "execution_count": 19,
     "metadata": {},
     "output_type": "execute_result"
    }
   ],
   "source": [
    "df.sort_values('id', na_position='first')"
   ]
  },
  {
   "cell_type": "code",
   "execution_count": 21,
   "id": "3e9bdfed",
   "metadata": {},
   "outputs": [
    {
     "name": "stdout",
     "output_type": "stream",
     "text": [
      "    id name\n",
      "1  2.0    B\n",
      "2  3.0    C\n",
      "0  4.0    A\n",
      "5  5.0    F\n",
      "4  6.0    E\n",
      "3  NaN    D\n"
     ]
    }
   ],
   "source": [
    "df.sort_values('id', inplace=True)\n",
    "print(df)"
   ]
  },
  {
   "cell_type": "code",
   "execution_count": 22,
   "id": "67d0130b",
   "metadata": {},
   "outputs": [
    {
     "data": {
      "text/html": [
       "<div>\n",
       "<style scoped>\n",
       "    .dataframe tbody tr th:only-of-type {\n",
       "        vertical-align: middle;\n",
       "    }\n",
       "\n",
       "    .dataframe tbody tr th {\n",
       "        vertical-align: top;\n",
       "    }\n",
       "\n",
       "    .dataframe thead th {\n",
       "        text-align: right;\n",
       "    }\n",
       "</style>\n",
       "<table border=\"1\" class=\"dataframe\">\n",
       "  <thead>\n",
       "    <tr style=\"text-align: right;\">\n",
       "      <th></th>\n",
       "      <th>id</th>\n",
       "      <th>name</th>\n",
       "    </tr>\n",
       "  </thead>\n",
       "  <tbody>\n",
       "    <tr>\n",
       "      <th>0</th>\n",
       "      <td>2.0</td>\n",
       "      <td>B</td>\n",
       "    </tr>\n",
       "    <tr>\n",
       "      <th>1</th>\n",
       "      <td>3.0</td>\n",
       "      <td>C</td>\n",
       "    </tr>\n",
       "    <tr>\n",
       "      <th>2</th>\n",
       "      <td>4.0</td>\n",
       "      <td>A</td>\n",
       "    </tr>\n",
       "    <tr>\n",
       "      <th>3</th>\n",
       "      <td>5.0</td>\n",
       "      <td>F</td>\n",
       "    </tr>\n",
       "    <tr>\n",
       "      <th>4</th>\n",
       "      <td>6.0</td>\n",
       "      <td>E</td>\n",
       "    </tr>\n",
       "    <tr>\n",
       "      <th>5</th>\n",
       "      <td>NaN</td>\n",
       "      <td>D</td>\n",
       "    </tr>\n",
       "  </tbody>\n",
       "</table>\n",
       "</div>"
      ],
      "text/plain": [
       "    id name\n",
       "0  2.0    B\n",
       "1  3.0    C\n",
       "2  4.0    A\n",
       "3  5.0    F\n",
       "4  6.0    E\n",
       "5  NaN    D"
      ]
     },
     "execution_count": 22,
     "metadata": {},
     "output_type": "execute_result"
    }
   ],
   "source": [
    "df.sort_values('id',ignore_index=True)"
   ]
  },
  {
   "cell_type": "code",
   "execution_count": null,
   "id": "9eba8e1f",
   "metadata": {},
   "outputs": [],
   "source": []
  }
 ],
 "metadata": {
  "kernelspec": {
   "display_name": "Python 3 (ipykernel)",
   "language": "python",
   "name": "python3"
  },
  "language_info": {
   "codemirror_mode": {
    "name": "ipython",
    "version": 3
   },
   "file_extension": ".py",
   "mimetype": "text/x-python",
   "name": "python",
   "nbconvert_exporter": "python",
   "pygments_lexer": "ipython3",
   "version": "3.9.7"
  }
 },
 "nbformat": 4,
 "nbformat_minor": 5
}
