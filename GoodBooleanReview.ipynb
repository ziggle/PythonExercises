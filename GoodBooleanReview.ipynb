{
 "cells": [
  {
   "cell_type": "markdown",
   "id": "980be8f2",
   "metadata": {},
   "source": [
    "https://python.plainenglish.io/python-best-practices-for-writing-conditional-statements-aa9d6a2e700d"
   ]
  },
  {
   "cell_type": "code",
   "execution_count": 1,
   "id": "45c919e7",
   "metadata": {},
   "outputs": [],
   "source": [
    "def buy_shoe(customer, store):\n",
    "    if store.is_open():\n",
    "        if store.has_stocks(\"shoe\"):\n",
    "            if customer.can_afford(store.price(\"shoe\", amount=1)):\n",
    "                customer.buy(store, \"shoe\", amount=1)\n",
    "                return\n",
    "            else:\n",
    "                customer.not_buy()\n",
    "                return\n",
    "        else:\n",
    "            raise ShoeBuyingException(\"no shoe in store!\")\n",
    "    else:\n",
    "        raise ShoeBuyingException(\"store is closed!\")"
   ]
  },
  {
   "cell_type": "code",
   "execution_count": 2,
   "id": "a9918682",
   "metadata": {},
   "outputs": [],
   "source": [
    "def buy_shoe(customer, store):\n",
    "    if not store.is_open():\n",
    "        raise ShoeBuyingException(\"store is closed!\")\n",
    "\n",
    "    if not store.has_stocks(\"shoe\"):\n",
    "        raise ShoeBuyingException(\"no shoe in store!\")\n",
    "\n",
    "    if customer.can_afford(store.price(\"shoe\", amount=1)):\n",
    "        customer.buy(store, \"shoe\", amount=1)\n",
    "        return\n",
    "    else:\n",
    "        customer.go_home()\n",
    "        return"
   ]
  },
  {
   "cell_type": "code",
   "execution_count": 3,
   "id": "3a584973",
   "metadata": {},
   "outputs": [
    {
     "ename": "SyntaxError",
     "evalue": "invalid syntax (Temp/ipykernel_11200/3492234188.py, line 2)",
     "output_type": "error",
     "traceback": [
      "\u001b[1;36m  File \u001b[1;32m\"C:\\Users\\biegertm\\AppData\\Local\\Temp/ipykernel_11200/3492234188.py\"\u001b[1;36m, line \u001b[1;32m2\u001b[0m\n\u001b[1;33m    match item:\u001b[0m\n\u001b[1;37m          ^\u001b[0m\n\u001b[1;31mSyntaxError\u001b[0m\u001b[1;31m:\u001b[0m invalid syntax\n"
     ]
    }
   ],
   "source": [
    "def calculate_discount(item):\n",
    "    match item:\n",
    "        case \"apple\":\n",
    "            discount = 0.1\n",
    "        case \"banana\":\n",
    "            discount = 0.15\n",
    "        case \"orange\":\n",
    "            discount = 0.2\n",
    "        case _:\n",
    "            discount = 0  # Default case\n",
    "\n",
    "    return discount\n",
    "\n",
    "item_name = \"banana\"\n",
    "discount_rate = calculate_discount(item_name)\n",
    "print(f\"The discount rate for {item_name} is {discount_rate * 100}%\")"
   ]
  },
  {
   "cell_type": "code",
   "execution_count": 4,
   "id": "1b2430a2",
   "metadata": {},
   "outputs": [
    {
     "ename": "IndentationError",
     "evalue": "expected an indented block (Temp/ipykernel_11200/965620146.py, line 6)",
     "output_type": "error",
     "traceback": [
      "\u001b[1;36m  File \u001b[1;32m\"C:\\Users\\biegertm\\AppData\\Local\\Temp/ipykernel_11200/965620146.py\"\u001b[1;36m, line \u001b[1;32m6\u001b[0m\n\u001b[1;33m    # Perform some actions\u001b[0m\n\u001b[1;37m                          ^\u001b[0m\n\u001b[1;31mIndentationError\u001b[0m\u001b[1;31m:\u001b[0m expected an indented block\n"
     ]
    }
   ],
   "source": [
    "is_condition_met = (condition1 and condition2)\n",
    "is_another_condition_met = (condition3 and not condition4)\n",
    "is_yet_another_condition_met = (condition5 and not condition6)\n",
    "\n",
    "if is_condition_met or is_another_condition_met or is_yet_another_condition_met:\n",
    "    # Perform some actions"
   ]
  },
  {
   "cell_type": "code",
   "execution_count": 5,
   "id": "25efcb66",
   "metadata": {},
   "outputs": [
    {
     "ename": "NameError",
     "evalue": "name 'user' is not defined",
     "output_type": "error",
     "traceback": [
      "\u001b[1;31m---------------------------------------------------------------------------\u001b[0m",
      "\u001b[1;31mNameError\u001b[0m                                 Traceback (most recent call last)",
      "\u001b[1;32m~\\AppData\\Local\\Temp/ipykernel_11200/3311145220.py\u001b[0m in \u001b[0;36m<module>\u001b[1;34m\u001b[0m\n\u001b[1;32m----> 1\u001b[1;33m \u001b[1;32mif\u001b[0m \u001b[0muser\u001b[0m\u001b[1;33m.\u001b[0m\u001b[0mno_profile_exists\u001b[0m\u001b[1;33m:\u001b[0m\u001b[1;33m\u001b[0m\u001b[1;33m\u001b[0m\u001b[0m\n\u001b[0m\u001b[0;32m      2\u001b[0m     create_user_profile(\n\u001b[0;32m      3\u001b[0m         \u001b[0musername\u001b[0m\u001b[1;33m=\u001b[0m\u001b[0muser\u001b[0m\u001b[1;33m.\u001b[0m\u001b[0musername\u001b[0m\u001b[1;33m,\u001b[0m\u001b[1;33m\u001b[0m\u001b[1;33m\u001b[0m\u001b[0m\n\u001b[0;32m      4\u001b[0m         \u001b[0memail\u001b[0m\u001b[1;33m=\u001b[0m\u001b[0muser\u001b[0m\u001b[1;33m.\u001b[0m\u001b[0memail\u001b[0m\u001b[1;33m,\u001b[0m\u001b[1;33m\u001b[0m\u001b[1;33m\u001b[0m\u001b[0m\n\u001b[0;32m      5\u001b[0m         \u001b[0mage\u001b[0m\u001b[1;33m=\u001b[0m\u001b[0muser\u001b[0m\u001b[1;33m.\u001b[0m\u001b[0mage\u001b[0m\u001b[1;33m,\u001b[0m\u001b[1;33m\u001b[0m\u001b[1;33m\u001b[0m\u001b[0m\n",
      "\u001b[1;31mNameError\u001b[0m: name 'user' is not defined"
     ]
    }
   ],
   "source": [
    "if user.no_profile_exists:\n",
    "    create_user_profile(\n",
    "        username=user.username,\n",
    "        email=user.email,\n",
    "        age=user.age,\n",
    "        address=user.address,\n",
    "        points=0,\n",
    "        created=now(),\n",
    "    )\n",
    "else:\n",
    "    update_user_profile(\n",
    "        username=user.username,\n",
    "        email=user.email,\n",
    "        age=user.age,\n",
    "        address=user.address,\n",
    "        updated=now(),\n",
    "    )"
   ]
  },
  {
   "cell_type": "code",
   "execution_count": 6,
   "id": "e26db2b4",
   "metadata": {},
   "outputs": [
    {
     "ename": "NameError",
     "evalue": "name 'user' is not defined",
     "output_type": "error",
     "traceback": [
      "\u001b[1;31m---------------------------------------------------------------------------\u001b[0m",
      "\u001b[1;31mNameError\u001b[0m                                 Traceback (most recent call last)",
      "\u001b[1;32m~\\AppData\\Local\\Temp/ipykernel_11200/3455393152.py\u001b[0m in \u001b[0;36m<module>\u001b[1;34m\u001b[0m\n\u001b[1;32m----> 1\u001b[1;33m \u001b[1;32mif\u001b[0m \u001b[0muser\u001b[0m\u001b[1;33m.\u001b[0m\u001b[0mno_profile_exists\u001b[0m\u001b[1;33m:\u001b[0m\u001b[1;33m\u001b[0m\u001b[1;33m\u001b[0m\u001b[0m\n\u001b[0m\u001b[0;32m      2\u001b[0m     \u001b[0mprofile_func\u001b[0m \u001b[1;33m=\u001b[0m \u001b[0mcreate_user_profile\u001b[0m\u001b[1;33m\u001b[0m\u001b[1;33m\u001b[0m\u001b[0m\n\u001b[0;32m      3\u001b[0m     \u001b[0mextra_args\u001b[0m \u001b[1;33m=\u001b[0m \u001b[1;33m{\u001b[0m\u001b[1;34m'points'\u001b[0m\u001b[1;33m:\u001b[0m \u001b[1;36m0\u001b[0m\u001b[1;33m,\u001b[0m \u001b[1;34m'created'\u001b[0m\u001b[1;33m:\u001b[0m \u001b[0mnow\u001b[0m\u001b[1;33m(\u001b[0m\u001b[1;33m)\u001b[0m\u001b[1;33m}\u001b[0m\u001b[1;33m\u001b[0m\u001b[1;33m\u001b[0m\u001b[0m\n\u001b[0;32m      4\u001b[0m \u001b[1;32melse\u001b[0m\u001b[1;33m:\u001b[0m\u001b[1;33m\u001b[0m\u001b[1;33m\u001b[0m\u001b[0m\n\u001b[0;32m      5\u001b[0m     \u001b[0mprofile_func\u001b[0m \u001b[1;33m=\u001b[0m \u001b[0mupdate_user_profile\u001b[0m\u001b[1;33m\u001b[0m\u001b[1;33m\u001b[0m\u001b[0m\n",
      "\u001b[1;31mNameError\u001b[0m: name 'user' is not defined"
     ]
    }
   ],
   "source": [
    "if user.no_profile_exists:\n",
    "    profile_func = create_user_profile\n",
    "    extra_args = {'points': 0, 'created': now()}\n",
    "else:\n",
    "    profile_func = update_user_profile\n",
    "    extra_args = {'updated': now()}\n",
    "\n",
    "profile_func(\n",
    "    username=user.username,\n",
    "    email=user.email,\n",
    "    age=user.age,\n",
    "    address=user.address,\n",
    "    **extra_args\n",
    ")"
   ]
  },
  {
   "cell_type": "code",
   "execution_count": 7,
   "id": "85f098e9",
   "metadata": {},
   "outputs": [
    {
     "name": "stdout",
     "output_type": "stream",
     "text": [
      "Adult\n"
     ]
    }
   ],
   "source": [
    "age = 25\n",
    "status = \"Adult\" if age >= 18 else \"Minor\"\n",
    "print(status)  # Output: Adult"
   ]
  },
  {
   "cell_type": "code",
   "execution_count": 8,
   "id": "0ea8cb87",
   "metadata": {},
   "outputs": [
    {
     "name": "stdout",
     "output_type": "stream",
     "text": [
      "Positive\n"
     ]
    }
   ],
   "source": [
    "x = 10\n",
    "result = \"Positive\" if x > 0 else \"Non-positive\"\n",
    "print(result)  # Output: Positive"
   ]
  },
  {
   "cell_type": "code",
   "execution_count": 9,
   "id": "95a5689e",
   "metadata": {},
   "outputs": [
    {
     "name": "stdout",
     "output_type": "stream",
     "text": [
      "Even\n"
     ]
    }
   ],
   "source": [
    "x = 10\n",
    "result = \"Even\" if x % 2 == 0 else (\"Positive\" if x > 0 else \"Negative\")\n",
    "print(result)  # Output: Even"
   ]
  },
  {
   "cell_type": "code",
   "execution_count": 10,
   "id": "2fd2c06b",
   "metadata": {},
   "outputs": [
    {
     "ename": "SyntaxError",
     "evalue": "'return' outside function (Temp/ipykernel_11200/2011164652.py, line 2)",
     "output_type": "error",
     "traceback": [
      "\u001b[1;36m  File \u001b[1;32m\"C:\\Users\\biegertm\\AppData\\Local\\Temp/ipykernel_11200/2011164652.py\"\u001b[1;36m, line \u001b[1;32m2\u001b[0m\n\u001b[1;33m    return \"our service is only available for chrome logged in user\"\u001b[0m\n\u001b[1;37m    ^\u001b[0m\n\u001b[1;31mSyntaxError\u001b[0m\u001b[1;31m:\u001b[0m 'return' outside function\n"
     ]
    }
   ],
   "source": [
    "if not user.has_logged_in or not user.is_from_chrome:\n",
    "    return \"our service is only available for chrome logged in user\""
   ]
  },
  {
   "cell_type": "code",
   "execution_count": 11,
   "id": "2b3207cc",
   "metadata": {},
   "outputs": [],
   "source": [
    "def all_numbers_larger_than_ten(numbers):\n",
    "    return bool(numbers) and all(n > 10 for n in numbers)"
   ]
  },
  {
   "cell_type": "code",
   "execution_count": 14,
   "id": "9af8ecd5",
   "metadata": {},
   "outputs": [],
   "source": [
    "numbers = [11,21,31,41,51]"
   ]
  },
  {
   "cell_type": "code",
   "execution_count": 15,
   "id": "5882e1d3",
   "metadata": {},
   "outputs": [
    {
     "data": {
      "text/plain": [
       "True"
      ]
     },
     "execution_count": 15,
     "metadata": {},
     "output_type": "execute_result"
    }
   ],
   "source": [
    "all_numbers_larger_than_ten(numbers)"
   ]
  },
  {
   "cell_type": "code",
   "execution_count": 17,
   "id": "5bc1862e",
   "metadata": {},
   "outputs": [
    {
     "data": {
      "text/plain": [
       "True"
      ]
     },
     "execution_count": 17,
     "metadata": {},
     "output_type": "execute_result"
    }
   ],
   "source": [
    "bool(numbers)"
   ]
  },
  {
   "cell_type": "code",
   "execution_count": 18,
   "id": "6361ac19",
   "metadata": {},
   "outputs": [],
   "source": [
    "numbers=[]"
   ]
  },
  {
   "cell_type": "code",
   "execution_count": 19,
   "id": "815b1a8f",
   "metadata": {},
   "outputs": [
    {
     "data": {
      "text/plain": [
       "False"
      ]
     },
     "execution_count": 19,
     "metadata": {},
     "output_type": "execute_result"
    }
   ],
   "source": [
    "bool(numbers)"
   ]
  },
  {
   "cell_type": "code",
   "execution_count": null,
   "id": "674452e8",
   "metadata": {},
   "outputs": [],
   "source": []
  }
 ],
 "metadata": {
  "kernelspec": {
   "display_name": "Python 3 (ipykernel)",
   "language": "python",
   "name": "python3"
  },
  "language_info": {
   "codemirror_mode": {
    "name": "ipython",
    "version": 3
   },
   "file_extension": ".py",
   "mimetype": "text/x-python",
   "name": "python",
   "nbconvert_exporter": "python",
   "pygments_lexer": "ipython3",
   "version": "3.9.7"
  }
 },
 "nbformat": 4,
 "nbformat_minor": 5
}
