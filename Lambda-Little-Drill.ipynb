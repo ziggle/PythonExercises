{
 "cells": [
  {
   "cell_type": "markdown",
   "id": "34ec0cf2",
   "metadata": {},
   "source": [
    "https://python.plainenglish.io/python-7-mind-blowing-use-cases-of-the-lambda-function-3bb896f866af"
   ]
  },
  {
   "cell_type": "code",
   "execution_count": 1,
   "id": "4b7347f4",
   "metadata": {},
   "outputs": [
    {
     "name": "stdout",
     "output_type": "stream",
     "text": [
      "[32, 12, 23, 56, 89]\n"
     ]
    }
   ],
   "source": [
    "li = [23, 56, 89, 32, 12]\n",
    "li.sort(key=lambda x: str(x)[1])\n",
    "print(li)"
   ]
  },
  {
   "cell_type": "code",
   "execution_count": 2,
   "id": "8683ad93",
   "metadata": {},
   "outputs": [
    {
     "name": "stdout",
     "output_type": "stream",
     "text": [
      "-3\n"
     ]
    }
   ],
   "source": [
    "li = [1, 0, -1, 2, -3]\n",
    "print(max(li, key=lambda x: abs(x)))"
   ]
  },
  {
   "cell_type": "code",
   "execution_count": 3,
   "id": "0f572f62",
   "metadata": {},
   "outputs": [
    {
     "name": "stdout",
     "output_type": "stream",
     "text": [
      "5\n"
     ]
    }
   ],
   "source": [
    "li = [1, 2, 3, 4, 5]\n",
    "print(min(li, key=lambda x: -x))"
   ]
  },
  {
   "cell_type": "code",
   "execution_count": 4,
   "id": "c95278ee",
   "metadata": {},
   "outputs": [
    {
     "name": "stdout",
     "output_type": "stream",
     "text": [
      "['bat', 'cat']\n"
     ]
    }
   ],
   "source": [
    "li = ['bat', 'tip', 'cat', 'pet']\n",
    "fr = filter(lambda x: x[1] == 'a', li)\n",
    "print(list(fr))"
   ]
  },
  {
   "cell_type": "code",
   "execution_count": 5,
   "id": "9bf42c8e",
   "metadata": {},
   "outputs": [
    {
     "name": "stdout",
     "output_type": "stream",
     "text": [
      "[64, 512, 27, 8, 729]\n"
     ]
    }
   ],
   "source": [
    "li = [4, 8, 3, 2, 9]\n",
    "mp = map(lambda x: x ** 3, li)\n",
    "print(list(mp))"
   ]
  },
  {
   "cell_type": "code",
   "execution_count": 6,
   "id": "4357a567",
   "metadata": {},
   "outputs": [
    {
     "name": "stdout",
     "output_type": "stream",
     "text": [
      "2520\n"
     ]
    }
   ],
   "source": [
    "from functools import reduce\n",
    "\n",
    "li = [5, 7, 3, 4, 6]\n",
    "re = reduce(lambda x, y: x * y, li)\n",
    "print(re)"
   ]
  },
  {
   "cell_type": "code",
   "execution_count": 7,
   "id": "c662c794",
   "metadata": {},
   "outputs": [
    {
     "name": "stdout",
     "output_type": "stream",
     "text": [
      "[81, 43, 66, 38, 59]\n"
     ]
    }
   ],
   "source": [
    "li = [59, 38, 81, 66, 43]\n",
    "so = sorted(li, key=lambda x: str(x)[::-1])\n",
    "print(so)"
   ]
  }
 ],
 "metadata": {
  "kernelspec": {
   "display_name": "Python 3 (ipykernel)",
   "language": "python",
   "name": "python3"
  },
  "language_info": {
   "codemirror_mode": {
    "name": "ipython",
    "version": 3
   },
   "file_extension": ".py",
   "mimetype": "text/x-python",
   "name": "python",
   "nbconvert_exporter": "python",
   "pygments_lexer": "ipython3",
   "version": "3.9.7"
  }
 },
 "nbformat": 4,
 "nbformat_minor": 5
}
