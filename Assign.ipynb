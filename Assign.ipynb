{
 "cells": [
  {
   "cell_type": "markdown",
   "metadata": {},
   "source": [
    "https://jianan-lin.medium.com/unlocking-the-power-of-assign-in-pandas-4807324f46c1"
   ]
  },
  {
   "cell_type": "code",
   "execution_count": 2,
   "metadata": {},
   "outputs": [],
   "source": [
    "import pandas as pd\n",
    "import numpy as np\n",
    "\n",
    "# Creating a simple dataframe\n",
    "df = pd.DataFrame({\n",
    " 'Col1': range(1, 6),\n",
    " 'Col2': range(10, 60, 10),\n",
    " 'Col3': range(100, 600, 100)\n",
    "})\n",
    "\n",
    "# Using assign to create new columns in place\n",
    "df = df.assign(\n",
    "  Sum_12 = df.Col1 + df.Col2, # the sum of Col1 and Col2\n",
    "  Product_13 = df.Col1 * df.Col3, # The product of Col1 and Col3\n",
    "  Sqrt_1 = np.sqrt(df.Col1) # The squared root of Col1\n",
    ")"
   ]
  },
  {
   "cell_type": "code",
   "execution_count": 3,
   "metadata": {},
   "outputs": [],
   "source": [
    "df = df.assign(\n",
    "  Sum_12 = df.Col1 + df.Col2, # the sum of Col1 and Col2\n",
    "  Product_13 = df.Col1 * df.Col3, # The product of Col1 and Col3\n",
    "  Sqrt_1 = np.sqrt(df.Col1) # The squared root of Col1\n",
    ").sort_values(by=['Sum_12','Sqrt_1']) # Sorting the data frame by two newly created columns"
   ]
  },
  {
   "cell_type": "code",
   "execution_count": 4,
   "metadata": {},
   "outputs": [],
   "source": [
    "df = df.assign(\n",
    "  Col4 = lambda dataframe: dataframe.Col1 + dataframe.Col2\n",
    ").assign(\n",
    "  Col5 = lambda dataframe: dataframe.Col4 * 2\n",
    ")"
   ]
  },
  {
   "cell_type": "code",
   "execution_count": 5,
   "metadata": {},
   "outputs": [
    {
     "data": {
      "text/plain": [
       "(0.012992620468139648, 0.003997087478637695)"
      ]
     },
     "execution_count": 5,
     "metadata": {},
     "output_type": "execute_result"
    }
   ],
   "source": [
    "import pandas as pd\n",
    "import numpy as np\n",
    "import time\n",
    "\n",
    "# Create a large DataFrame\n",
    "df = pd.DataFrame(np.random.randint(0, 100, size=(1000000, 4)), columns=list('ABCD'))\n",
    "\n",
    "# Method 1: Using assign\n",
    "start_time = time.time()\n",
    "df1 = df.assign(E = df.A + df.B)\n",
    "end_time = time.time()\n",
    "assign_time = end_time - start_time\n",
    "\n",
    "# Method 2: Direct assignment\n",
    "start_time = time.time()\n",
    "df['E'] = df['A'] + df['B']\n",
    "end_time = time.time()\n",
    "direct_assign_time = end_time - start_time\n",
    "\n",
    "assign_time, direct_assign_time"
   ]
  }
 ],
 "metadata": {
  "kernelspec": {
   "display_name": "Python 3",
   "language": "python",
   "name": "python3"
  },
  "language_info": {
   "codemirror_mode": {
    "name": "ipython",
    "version": 3
   },
   "file_extension": ".py",
   "mimetype": "text/x-python",
   "name": "python",
   "nbconvert_exporter": "python",
   "pygments_lexer": "ipython3",
   "version": "3.8.5"
  }
 },
 "nbformat": 4,
 "nbformat_minor": 4
}
