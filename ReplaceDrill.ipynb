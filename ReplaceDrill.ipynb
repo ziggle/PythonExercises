{
 "cells": [
  {
   "cell_type": "markdown",
   "metadata": {},
   "source": [
    "https://medium.com/@D.haus/python-pandas-101-easily-replace-values-in-excel-datas-with-pandas-replace-and-where-f7353dde6b86"
   ]
  },
  {
   "cell_type": "code",
   "execution_count": 2,
   "metadata": {},
   "outputs": [
    {
     "name": "stdout",
     "output_type": "stream",
     "text": [
      "   California  Texas  Boston  product\n",
      "0          10    100      50      101\n",
      "1          20    200      80      102\n",
      "2          30    300      90      103\n"
     ]
    }
   ],
   "source": [
    "import pandas as pd\n",
    "\n",
    "# Option 1. load your data into a DataFrame\n",
    "# ----------------------------- #\n",
    "directory = \"./\"\n",
    "filename = \"data.xlsx\"\n",
    "#df = pd.read_excel(directory+filename)\n",
    "\n",
    "\n",
    "\n",
    "# Option 2. Here, we'll make an exmaple of data frame \n",
    "# because we don't have the excel file. \n",
    "# ----------------------------- #\n",
    "data = {'California': [10, 20, 30], \\\n",
    "        'Texas': [100, 200, 300], \\\n",
    "        'Boston': [50, 80, 90], \\\n",
    "        'product': [\"tables\", \"chairs\", \"windows\"]}\n",
    "df = pd.DataFrame(data)\n",
    "\n",
    "#>>> df\n",
    "#   California  Texas  Boston  product\n",
    "#0          10    100      50   tables\n",
    "#1          20    200      80   chairs\n",
    "#2          30    300      90  windows\n",
    "\n",
    "\n",
    "\n",
    "# To replace 'tables' in the 'product' column\n",
    "# with 'new_tables'\n",
    "# ----------------------------- #\n",
    "df_new = df.replace(\"tables\", \"new_tables\")\n",
    "\n",
    "#>>> df_new\n",
    "#   California  Texas  Boston     product\n",
    "#0          10    100      50  new_tables\n",
    "#1          20    200      80      chairs\n",
    "#2          30    300      90     windows\n",
    "\n",
    "\n",
    "\n",
    "# To Replace 'product' column with \n",
    "# matched codes defined by compnay \n",
    "# at the same time\n",
    "# ----------------------------- #\n",
    "replace_values = {'tables' : 101, 'chairs' : 102, 'windows' : 103 }\n",
    "\n",
    "#>>> replace_values\n",
    "#{'tables': 101, 'chairs': 102, 'windows': 103}\n",
    "\n",
    "df_new = df.replace(replace_values)\n",
    "print(df_new)\n",
    "\n",
    "#>>> df_new\n",
    "#   California  Texas  Boston  product\n",
    "#0          10    100      50      101\n",
    "#1          20    200      80      102\n",
    "#2          30    300      90      103"
   ]
  },
  {
   "cell_type": "code",
   "execution_count": 4,
   "metadata": {},
   "outputs": [
    {
     "ename": "",
     "evalue": "",
     "output_type": "error",
     "traceback": [
      "\u001b[1;31mThe Kernel crashed while executing code in the the current cell or a previous cell. Please review the code in the cell(s) to identify a possible cause of the failure. Click <a href='https://aka.ms/vscodeJupyterKernelCrash'>here</a> for more info. View Jupyter <a href='command:jupyter.viewOutput'>log</a> for further details."
     ]
    }
   ],
   "source": [
    "import pandas as pd\n",
    "import numpy as np\n",
    "\n",
    "# Option 1. load your data into a DataFrame\n",
    "# ----------------------------- #\n",
    "directory = \"./\"\n",
    "filename = \"data.xlsx\"\n",
    "#df = pd.read_excel(directory+filename)\n",
    "\n",
    "\n",
    "\n",
    "# Option 2. Here, we'll make an exmaple of data frame \n",
    "# because we don't have the excel file. \n",
    "# ----------------------------- #\n",
    "data = {'California': [10, 20, 30], \\\n",
    "        'Texas': [100, 200, 300], \\\n",
    "        'Boston': [50, 80, 90], \\\n",
    "        'product': [\"tables\", \"chairs\", \"windows\"]}\n",
    "df = pd.DataFrame(data)\n",
    "\n",
    "\n",
    "\n",
    "# To replace values higher than 60 \n",
    "# with \"A level\"\n",
    "# ----------------------------- #\n",
    "df_level = df.iloc[:,0:3].where(df.iloc[:,0:3] < 60, \"A\")\n",
    "\n",
    "#>>> df_level\n",
    "#   California Texas Boston\n",
    "#0          10     A     50\n",
    "#1          20     A      A\n",
    "#2          30     A      A\n",
    "\n",
    "\n",
    "\n",
    "# To replace values higher than 60 \n",
    "# with \"A level\", or put \"B level\"\n",
    "# ----------------------------- #\n",
    "df_level = df\n",
    "df_level.iloc[:,0:3] = np.where(df.iloc[:,0:3] > 60, \"A_level\", \"B_level\")\n",
    "\n",
    "#>>> df_level\n",
    "#  California    Texas   Boston  product\n",
    "#0    B_level  A_level  B_level   tables\n",
    "#1    B_level  A_level  A_level   chairs\n",
    "#2    B_level  A_level  A_level  windows\n",
    "\n",
    "\n",
    "\n",
    "# To save the dataframe to excel file\n",
    "# -------------------------------------- #\n",
    "dir_to_put = \"./\"\n",
    "file_to_save = \"level.converted.result.csv\"\n",
    "df_level.to_csv( dir_to_put+file_to_save, sep=\"\\t\", header=True, index=True )"
   ]
  },
  {
   "cell_type": "code",
   "execution_count": null,
   "metadata": {},
   "outputs": [],
   "source": []
  }
 ],
 "metadata": {
  "kernelspec": {
   "display_name": "Python 3",
   "language": "python",
   "name": "python3"
  },
  "language_info": {
   "codemirror_mode": {
    "name": "ipython",
    "version": 3
   },
   "file_extension": ".py",
   "mimetype": "text/x-python",
   "name": "python",
   "nbconvert_exporter": "python",
   "pygments_lexer": "ipython3",
   "version": "3.11.4"
  },
  "orig_nbformat": 4
 },
 "nbformat": 4,
 "nbformat_minor": 2
}
