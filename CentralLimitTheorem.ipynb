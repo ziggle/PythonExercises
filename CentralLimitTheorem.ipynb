{
 "cells": [
  {
   "cell_type": "markdown",
   "id": "2ed676d4",
   "metadata": {},
   "source": [
    "https://towardsdev.com/an-introduction-of-central-limit-theorem-with-python-code-4827a8e84bb6"
   ]
  },
  {
   "cell_type": "code",
   "execution_count": 1,
   "id": "535253f8",
   "metadata": {},
   "outputs": [
    {
     "name": "stdout",
     "output_type": "stream",
     "text": [
      "3.5166\n",
      "1.7088956785011777\n"
     ]
    }
   ],
   "source": [
    "import numpy as np\n",
    "\n",
    "data = np.random.randint(1, 7, 10000) # The numbers of a dice are 1-6\n",
    "print(data.mean())   # Mean\n",
    "print(data.std())    # Standard Deviation"
   ]
  },
  {
   "cell_type": "code",
   "execution_count": 2,
   "id": "77447c69",
   "metadata": {},
   "outputs": [
    {
     "data": {
      "text/plain": [
       "(array([1634.,    0., 1677.,    0., 1645.,    0., 1684.,    0., 1653.,\n",
       "        1707.]),\n",
       " array([1. , 1.5, 2. , 2.5, 3. , 3.5, 4. , 4.5, 5. , 5.5, 6. ]),\n",
       " <BarContainer object of 10 artists>)"
      ]
     },
     "execution_count": 2,
     "metadata": {},
     "output_type": "execute_result"
    },
    {
     "data": {
      "image/png": "[encoded data removed]",
      "text/plain": [
       "<Figure size 432x288 with 1 Axes>"
      ]
     },
     "metadata": {
      "needs_background": "light"
     },
     "output_type": "display_data"
    }
   ],
   "source": [
    "import matplotlib.pyplot as plt\n",
    "\n",
    "plt.hist(data)"
   ]
  },
  {
   "cell_type": "code",
   "execution_count": 3,
   "id": "7db0ddbd",
   "metadata": {},
   "outputs": [
    {
     "name": "stdout",
     "output_type": "stream",
     "text": [
      "[5, 5, 4, 4, 3, 1, 6, 2, 1, 3]\n",
      "3.4\n"
     ]
    }
   ],
   "source": [
    "sample1 = []\n",
    "for i in range(10):\n",
    "    sample1.append(data[int(np.random.random() * len(data))])\n",
    "    \n",
    "print(sample1)\n",
    "print(np.array(sample1).mean())"
   ]
  },
  {
   "cell_type": "code",
   "execution_count": 4,
   "id": "179d63a2",
   "metadata": {},
   "outputs": [],
   "source": [
    "def clt(data, repeat=2000, group_size=50):\n",
    "    samples = []\n",
    "    samples_mean = []\n",
    "    samples_std = []\n",
    "    \n",
    "    for i in range(repeat):\n",
    "        sample = []\n",
    "        for j in range(group_size):\n",
    "            sample.append(data[int(np.random.random() * len(data))])\n",
    "        sample_np = np.array(sample)\n",
    "        samples_mean.append(sample_np.mean())\n",
    "        samples_std.append(sample_np.std())\n",
    "        samples.append(sample_np)\n",
    "        \n",
    "    return np.array(samples_mean), np.array(samples_std)"
   ]
  },
  {
   "cell_type": "code",
   "execution_count": 5,
   "id": "9555e93d",
   "metadata": {},
   "outputs": [
    {
     "data": {
      "text/plain": [
       "(array([  6.,  17., 118., 297., 493., 499., 378., 148.,  37.,   7.]),\n",
       " array([2.66 , 2.826, 2.992, 3.158, 3.324, 3.49 , 3.656, 3.822, 3.988,\n",
       "        4.154, 4.32 ]),\n",
       " <BarContainer object of 10 artists>)"
      ]
     },
     "execution_count": 5,
     "metadata": {},
     "output_type": "execute_result"
    },
    {
     "data": {
      "image/png": "[encoded data removed]",
      "text/plain": [
       "<Figure size 432x288 with 1 Axes>"
      ]
     },
     "metadata": {
      "needs_background": "light"
     },
     "output_type": "display_data"
    }
   ],
   "source": [
    "samples_mean, samples_std = clt(data)\n",
    "\n",
    "plt.hist(samples_mean)"
   ]
  },
  {
   "cell_type": "code",
   "execution_count": 6,
   "id": "1f860efb",
   "metadata": {},
   "outputs": [
    {
     "name": "stdout",
     "output_type": "stream",
     "text": [
      "3.51323\n"
     ]
    }
   ],
   "source": [
    "print(samples_mean.mean())"
   ]
  },
  {
   "cell_type": "code",
   "execution_count": null,
   "id": "9f36cad8",
   "metadata": {},
   "outputs": [],
   "source": []
  }
 ],
 "metadata": {
  "kernelspec": {
   "display_name": "Python 3 (ipykernel)",
   "language": "python",
   "name": "python3"
  },
  "language_info": {
   "codemirror_mode": {
    "name": "ipython",
    "version": 3
   },
   "file_extension": ".py",
   "mimetype": "text/x-python",
   "name": "python",
   "nbconvert_exporter": "python",
   "pygments_lexer": "ipython3",
   "version": "3.9.7"
  }
 },
 "nbformat": 4,
 "nbformat_minor": 5
}
