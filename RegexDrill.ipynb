{
 "cells": [
  {
   "cell_type": "markdown",
   "id": "b680b8c2",
   "metadata": {},
   "source": [
    "https://martinxpn.medium.com/regular-expressions-grouping-and-backreferences-42-100-days-of-python-fbd9960e7a47"
   ]
  },
  {
   "cell_type": "code",
   "execution_count": 1,
   "id": "6cffdc1f",
   "metadata": {},
   "outputs": [
    {
     "name": "stdout",
     "output_type": "stream",
     "text": [
      "['john.doe@example.com', 'jane.doe@example.com']\n"
     ]
    }
   ],
   "source": [
    "import re\n",
    "\n",
    "text = 'John Doe: john.doe@example.com, Jane Doe: jane.doe@example.com'\n",
    "\n",
    "# Find: word boundary (\\b) + word (\\w+) + dot (\\.) + word (\\w+) \n",
    "#        + at (@) + word (\\w+) + word boundary (\\b)\n",
    "emails = re.findall(r'\\b\\w+\\.\\w+@\\w+\\.\\w+\\b', text)\n",
    "print(emails)\n",
    "# ['john.doe@example.com', 'jane.doe@example.com']"
   ]
  },
  {
   "cell_type": "code",
   "execution_count": null,
   "id": "b95f4906",
   "metadata": {},
   "outputs": [],
   "source": [
    "import re\n",
    "\n",
    "text = 'John Doe: john.doe@example.com, Jane Doe: jane.doe@example.com'\n",
    "\n",
    "# boundary + word in one group (\\b\\w+) + dot (\\.) + word in another group (\\w+)\n",
    "#     @ + another group for (\\w+) + dot (\\.) + group for extension (\\w+) + \\b\n",
    "email_pattern = r'(\\b\\w+)\\.(\\w+)@(\\w+)\\.(\\w+)\\b'\n",
    "emails = re.findall(email_pattern, text)\n",
    "print(emails)\n",
    "# [('john', 'doe', 'example', 'com'), ('jane', 'doe', 'example', 'com')]"
   ]
  },
  {
   "cell_type": "code",
   "execution_count": 2,
   "id": "50ce0bee",
   "metadata": {},
   "outputs": [
    {
     "name": "stdout",
     "output_type": "stream",
     "text": [
      "Cat named Mittens belongs to John\n"
     ]
    }
   ],
   "source": [
    "import re\n",
    "\n",
    "text = 'John has a cat named Mittens'\n",
    "animal_pattern = r'(\\w+) has a (\\w+) named (\\w+)'\n",
    "match = re.search(animal_pattern, text)\n",
    "\n",
    "if match:\n",
    "    animal_type = match.group(2)    # cat\n",
    "    animal_name = match.group(3)    # Mittens\n",
    "    new_text = re.sub(animal_pattern, f'{animal_type.capitalize()} named {animal_name.capitalize()} belongs to \\g<1>', text)\n",
    "    print(new_text)\n",
    "\n",
    "# Cat named Mittens belongs to John"
   ]
  },
  {
   "cell_type": "code",
   "execution_count": 3,
   "id": "3e531e56",
   "metadata": {},
   "outputs": [
    {
     "name": "stdout",
     "output_type": "stream",
     "text": [
      "John Doe: john_doe@example.com, Jane Doe: jane_doe@example.com\n",
      "1980: John and 1985: Jane\n",
      "123: John, 456: Jane, 789: Bob\n"
     ]
    }
   ],
   "source": [
    "import re\n",
    "\n",
    "# Example 1\n",
    "text = 'John Doe: john.doe@example.com, Jane Doe: jane.doe@example.com'\n",
    "email_pattern = r'(\\b\\w+)\\.(\\w+)@(\\w+)\\.(\\w+)\\b'\n",
    "new_text = re.sub(email_pattern, r'\\1_\\2@\\3.\\4', text)\n",
    "print(new_text)\n",
    "# John Doe: john_doe@example.com, Jane Doe: jane_doe@example.com\n",
    "\n",
    "# Example 2\n",
    "text = 'John was born in 1980 and Jane was born in 1985'\n",
    "birth_pattern = r'(\\w+) was born in (\\d+)'\n",
    "new_text = re.sub(birth_pattern, r'\\2: \\1', text)\n",
    "print(new_text)\n",
    "# 1980: John and 1985: Jane\n",
    "\n",
    "# Example 3\n",
    "text = 'John: 123, Jane: 456, Bob: 789'\n",
    "numbers_pattern = r'(\\w+): (\\d+)'\n",
    "new_text = re.sub(numbers_pattern, r'\\2: \\1', text)\n",
    "print(new_text)\n",
    "# 123: John, 456: Jane, 789: Bob"
   ]
  }
 ],
 "metadata": {
  "kernelspec": {
   "display_name": "Python 3 (ipykernel)",
   "language": "python",
   "name": "python3"
  },
  "language_info": {
   "codemirror_mode": {
    "name": "ipython",
    "version": 3
   },
   "file_extension": ".py",
   "mimetype": "text/x-python",
   "name": "python",
   "nbconvert_exporter": "python",
   "pygments_lexer": "ipython3",
   "version": "3.9.15"
  },
  "toc": {
   "base_numbering": 1,
   "nav_menu": {},
   "number_sections": true,
   "sideBar": true,
   "skip_h1_title": false,
   "title_cell": "Table of Contents",
   "title_sidebar": "Contents",
   "toc_cell": false,
   "toc_position": {},
   "toc_section_display": true,
   "toc_window_display": false
  }
 },
 "nbformat": 4,
 "nbformat_minor": 5
}
