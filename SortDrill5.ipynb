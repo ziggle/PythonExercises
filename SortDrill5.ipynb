{
 "cells": [
  {
   "cell_type": "markdown",
   "id": "d2b6d8fa",
   "metadata": {},
   "source": [
    "https://python.plainenglish.io/data-manipulation-with-python-pandas-sorting-d6b046ec57ca"
   ]
  },
  {
   "cell_type": "code",
   "execution_count": 1,
   "id": "f10ce1a3",
   "metadata": {},
   "outputs": [
    {
     "name": "stdout",
     "output_type": "stream",
     "text": [
      "      Name  Age  Salary\n",
      "0    Alice   25   50000\n",
      "1      Bob   22   60000\n",
      "2  Charlie   30   75000\n",
      "3    David   35   80000\n",
      "4      Eva   28   62000\n"
     ]
    }
   ],
   "source": [
    "import pandas as pd\n",
    "\n",
    "data = {'Name': ['Alice', 'Bob', 'Charlie', 'David', 'Eva'],\n",
    "        'Age': [25, 22, 30, 35, 28],\n",
    "        'Salary': [50000, 60000, 75000, 80000, 62000]}\n",
    "\n",
    "df = pd.DataFrame(data)\n",
    "print(df)"
   ]
  },
  {
   "cell_type": "code",
   "execution_count": 2,
   "id": "99dde0dc",
   "metadata": {},
   "outputs": [
    {
     "name": "stdout",
     "output_type": "stream",
     "text": [
      "      Name  Age  Salary\n",
      "1      Bob   22   60000\n",
      "0    Alice   25   50000\n",
      "4      Eva   28   62000\n",
      "2  Charlie   30   75000\n",
      "3    David   35   80000\n"
     ]
    }
   ],
   "source": [
    "# Sort by Age in ascending order\n",
    "df_sorted = df.sort_values('Age')\n",
    "print(df_sorted)"
   ]
  },
  {
   "cell_type": "code",
   "execution_count": 3,
   "id": "fc170c13",
   "metadata": {},
   "outputs": [
    {
     "name": "stdout",
     "output_type": "stream",
     "text": [
      "      Name  Age  Salary\n",
      "3    David   35   80000\n",
      "2  Charlie   30   75000\n",
      "4      Eva   28   62000\n",
      "0    Alice   25   50000\n",
      "1      Bob   22   60000\n"
     ]
    }
   ],
   "source": [
    "# Sort by Age in descending order\n",
    "df_sorted_desc = df.sort_values('Age', ascending=False)\n",
    "print(df_sorted_desc)\n"
   ]
  },
  {
   "cell_type": "code",
   "execution_count": 4,
   "id": "b54942b8",
   "metadata": {},
   "outputs": [
    {
     "name": "stdout",
     "output_type": "stream",
     "text": [
      "      Name  Age  Salary\n",
      "3    David   35   80000\n",
      "2  Charlie   30   75000\n",
      "4      Eva   28   62000\n",
      "1      Bob   22   60000\n",
      "0    Alice   25   50000\n"
     ]
    }
   ],
   "source": [
    "# Sort by Salary in descending order and then by Age in ascending order\n",
    "df_sorted_multi = df.sort_values(by=['Salary', 'Age'], ascending=[False, True])\n",
    "print(df_sorted_multi)"
   ]
  },
  {
   "cell_type": "code",
   "execution_count": 5,
   "id": "cb90fd62",
   "metadata": {},
   "outputs": [
    {
     "name": "stdout",
     "output_type": "stream",
     "text": [
      "      Name  Age  Salary\n",
      "4      Eva   28   62000\n",
      "3    David   35   80000\n",
      "2  Charlie   30   75000\n",
      "1      Bob   22   60000\n",
      "0    Alice   25   50000\n"
     ]
    }
   ],
   "source": [
    "# Sort by index in descending order\n",
    "df_sorted_index = df.sort_index(ascending=False)\n",
    "print(df_sorted_index)"
   ]
  },
  {
   "cell_type": "code",
   "execution_count": 6,
   "id": "0e58c8db",
   "metadata": {},
   "outputs": [
    {
     "name": "stdout",
     "output_type": "stream",
     "text": [
      "      Name   Age   Salary\n",
      "2  Charlie   NaN  75000.0\n",
      "1      Bob  22.0  60000.0\n",
      "0    Alice  25.0  50000.0\n",
      "4      Eva  28.0      NaN\n",
      "3    David  35.0  80000.0\n"
     ]
    }
   ],
   "source": [
    "import numpy as np\n",
    "\n",
    "data = {'Name': ['Alice', 'Bob', 'Charlie', 'David', 'Eva'],\n",
    "        'Age': [25, 22, np.nan, 35, 28],\n",
    "        'Salary': [50000, 60000, 75000, 80000, np.nan]}\n",
    "\n",
    "df_missing = pd.DataFrame(data)\n",
    "\n",
    "# Sort by Age in ascending order with missing values first\n",
    "df_sorted_missing = df_missing.sort_values('Age', na_position='first')\n",
    "print(df_sorted_missing)"
   ]
  }
 ],
 "metadata": {
  "kernelspec": {
   "display_name": "Python 3 (ipykernel)",
   "language": "python",
   "name": "python3"
  },
  "language_info": {
   "codemirror_mode": {
    "name": "ipython",
    "version": 3
   },
   "file_extension": ".py",
   "mimetype": "text/x-python",
   "name": "python",
   "nbconvert_exporter": "python",
   "pygments_lexer": "ipython3",
   "version": "3.9.7"
  }
 },
 "nbformat": 4,
 "nbformat_minor": 5
}
