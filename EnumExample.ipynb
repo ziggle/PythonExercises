{
 "cells": [
  {
   "cell_type": "markdown",
   "metadata": {},
   "source": [
    "https://twitter.com/KhuyenTran16/status/1730246484484927875"
   ]
  },
  {
   "cell_type": "code",
   "execution_count": 1,
   "metadata": {},
   "outputs": [
    {
     "name": "stdout",
     "output_type": "stream",
     "text": [
      "You can go through this gate\n"
     ]
    }
   ],
   "source": [
    "from enum import Enum\n",
    "\n",
    "class StatusCode(Enum):\n",
    "    OK=200\n",
    "    ERROR=500\n",
    "\n",
    "current_status=200\n",
    "\n",
    "if current_status==StatusCode.OK.value:\n",
    "    print(\"You can go through this gate\")\n",
    "elif current_status==StatusCode.ERROR.value:\n",
    "    print(\"You can't go through this gate.\")\n",
    "else:\n",
    "    print('Invalid status code.')"
   ]
  }
 ],
 "metadata": {
  "kernelspec": {
   "display_name": "Python 3",
   "language": "python",
   "name": "python3"
  },
  "language_info": {
   "codemirror_mode": {
    "name": "ipython",
    "version": 3
   },
   "file_extension": ".py",
   "mimetype": "text/x-python",
   "name": "python",
   "nbconvert_exporter": "python",
   "pygments_lexer": "ipython3",
   "version": "3.11.6"
  }
 },
 "nbformat": 4,
 "nbformat_minor": 2
}
