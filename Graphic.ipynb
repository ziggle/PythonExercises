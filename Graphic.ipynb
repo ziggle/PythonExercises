{
 "cells": [
  {
   "cell_type": "code",
   "execution_count": 41,
   "id": "580e0de5",
   "metadata": {},
   "outputs": [],
   "source": [
    "#https://twitter.com/driscollis/status/1588976931667689472\n",
    "\n",
    "import numpy as np\n",
    "from matplotlib.backends.backend_tkagg import FigureCanvasTkAgg\n",
    "import PySimpleGUI as sg\n",
    "import matplotlib\n",
    "import matplotlib.pyplot as plt\n",
    "\n",
    "fig = plt.figure(figsize=(5,4),dpi=100)\n",
    "t = np.arange(0,3,0.01)\n",
    "fig.add_subplot(111).plot(t,2*np.sin(2*np.pi*t))\n",
    "\n",
    "matplotlib.use(\"TkAgg\")\n",
    "\n",
    "def draw_figure(canvas,figure):\n",
    "    figure_canvas_agg=FigureCanvasTkAgg(figure,canvas)\n",
    "    figure_canvas_agg.draw()\n",
    "    figure_canvas_agg.get_tk_widget().pack(side=\"top\",fill=\"both\",expand=1)\n",
    "    return figure_canvas_agg\n",
    "\n",
    "layout=[\n",
    "    [sg.Text(\"Plot test\")],\n",
    "    [sg.Canvas(key=\"-CANVAS-\")],\n",
    "    [sg.Button(\"Ok\")],\n",
    "]\n",
    "\n",
    "window=sg.Window(\n",
    "    \"Matplotlib Single Graph\",\n",
    "    layout,\n",
    "    location=(0,0),\n",
    "    finalize=True,\n",
    "    element_justification=\"center\",\n",
    "    font=\"Hevetica 18\",\n",
    ")\n",
    "\n",
    "draw_figure(window[\"-CANVAS-\"].TKCanvas,fig)\n",
    "event, values=window.read()\n",
    "window.close()"
   ]
  },
  {
   "cell_type": "code",
   "execution_count": null,
   "id": "940f1af2",
   "metadata": {},
   "outputs": [],
   "source": []
  }
 ],
 "metadata": {
  "kernelspec": {
   "display_name": "Python 3 (ipykernel)",
   "language": "python",
   "name": "python3"
  },
  "language_info": {
   "codemirror_mode": {
    "name": "ipython",
    "version": 3
   },
   "file_extension": ".py",
   "mimetype": "text/x-python",
   "name": "python",
   "nbconvert_exporter": "python",
   "pygments_lexer": "ipython3",
   "version": "3.9.15"
  },
  "toc": {
   "base_numbering": 1,
   "nav_menu": {},
   "number_sections": true,
   "sideBar": true,
   "skip_h1_title": false,
   "title_cell": "Table of Contents",
   "title_sidebar": "Contents",
   "toc_cell": false,
   "toc_position": {},
   "toc_section_display": true,
   "toc_window_display": false
  }
 },
 "nbformat": 4,
 "nbformat_minor": 5
}
