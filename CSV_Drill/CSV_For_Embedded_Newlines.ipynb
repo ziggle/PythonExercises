{
 "cells": [
  {
   "cell_type": "markdown",
   "id": "67a2a606",
   "metadata": {},
   "source": [
    "https://levelup.gitconnected.com/manage-newline-breaks-in-csv-files-with-python-160fefb9ac45"
   ]
  },
  {
   "cell_type": "code",
   "execution_count": 145,
   "id": "25710931",
   "metadata": {},
   "outputs": [
    {
     "name": "stdout",
     "output_type": "stream",
     "text": [
      "Turned off\n",
      "at panel\n"
     ]
    }
   ],
   "source": [
    "import pandas as pd\n",
    "df =pd.DataFrame({\"Name\":[\"Pump 1\",\"Pump 2\"],\"Description\":[\"Not running\",\"Turned off\"+chr(10)+\"at panel\"]})\n",
    "print(df.iloc[1,1])"
   ]
  },
  {
   "cell_type": "code",
   "execution_count": 146,
   "id": "80ec460a",
   "metadata": {},
   "outputs": [],
   "source": [
    "# Standard CSV\n",
    "import csv\n",
    "df.to_csv(\"new_file.csv\",sep=\"|\",index=False)"
   ]
  },
  {
   "cell_type": "code",
   "execution_count": 147,
   "id": "fd88c5e9",
   "metadata": {},
   "outputs": [],
   "source": [
    "# Approach 1: Replace newlines\n",
    "df1=df.copy()\n",
    "df1[\"Description\"] = df1[\"Description\"].str.replace(chr(10), ' ', regex=True)\n",
    "df1.to_csv(\"new_file1.csv\", sep='|', quoting=csv.QUOTE_NONE, index=False, escapechar='\\\\')\n",
    "# Escape character didn't work"
   ]
  },
  {
   "cell_type": "code",
   "execution_count": 148,
   "id": "ad7a5f1f",
   "metadata": {},
   "outputs": [],
   "source": [
    "# Approach 2: Wrape Everything in Quotes\n",
    "df2=df.copy()\n",
    "df2.to_csv(\"new_file2.csv\", sep='|', index=False, quoting=csv.QUOTE_ALL)"
   ]
  },
  {
   "cell_type": "code",
   "execution_count": 149,
   "id": "12c62989",
   "metadata": {},
   "outputs": [
    {
     "name": "stdout",
     "output_type": "stream",
     "text": [
      "     Name           Description\n",
      "0  Pump 1           Not running\n",
      "1  Pump 2  Turned off\\nat panel\n",
      "     Name             Description\n",
      "0  Pump 1             Not running\n",
      "1  Pump 2  Turned off<br>at panel\n"
     ]
    }
   ],
   "source": [
    "df3=df.copy()\n",
    "print(df3)\n",
    "df3[\"Description\"] = df3[\"Description\"].str.replace(chr(10), \"<br>\")\n",
    "print(df3)\n",
    "df3.to_csv(\"new_file3.csv\", sep='|', index=False)"
   ]
  },
  {
   "cell_type": "code",
   "execution_count": 150,
   "id": "82dcb904",
   "metadata": {},
   "outputs": [],
   "source": [
    "import csv \n",
    "df4=df.copy()\n",
    "df4.to_csv(\"new_file4.csv\", sep='|', lineterminator='\\\\r\\\\n', quoting=csv.QUOTE_NONNUMERIC)"
   ]
  }
 ],
 "metadata": {
  "kernelspec": {
   "display_name": "Python 3 (ipykernel)",
   "language": "python",
   "name": "python3"
  },
  "language_info": {
   "codemirror_mode": {
    "name": "ipython",
    "version": 3
   },
   "file_extension": ".py",
   "mimetype": "text/x-python",
   "name": "python",
   "nbconvert_exporter": "python",
   "pygments_lexer": "ipython3",
   "version": "3.9.7"
  }
 },
 "nbformat": 4,
 "nbformat_minor": 5
}
