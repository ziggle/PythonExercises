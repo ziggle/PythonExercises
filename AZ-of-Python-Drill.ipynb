{
 "cells": [
  {
   "attachments": {},
   "cell_type": "markdown",
   "metadata": {},
   "source": [
    "https://medium.com/@venkat3010/an-a-z-of-useful-python-tricks-master-the-language-in-no-time-4bb9c54fd732"
   ]
  },
  {
   "cell_type": "code",
   "execution_count": 4,
   "metadata": {},
   "outputs": [
    {
     "name": "stdout",
     "output_type": "stream",
     "text": [
      "True\n",
      "False\n",
      "[True, False, False, False, False]\n",
      "[True, True, True, False, True]\n"
     ]
    }
   ],
   "source": [
    "numbers = [1, 3, 5, 0, 2]\n",
    "# any()\n",
    "print(any(numbers)) # True\n",
    "# all()\n",
    "print(all(numbers)) # False\n",
    "\n",
    "print([num==True for num in numbers]) # Only 1 is true\n",
    "print([bool(num) for num in numbers]) # Only 1 is true"
   ]
  },
  {
   "cell_type": "code",
   "execution_count": 5,
   "metadata": {},
   "outputs": [
    {
     "name": "stdout",
     "output_type": "stream",
     "text": [
      "0b1010\n"
     ]
    }
   ],
   "source": [
    "x = 10\n",
    "print(bin(x)) # '0b1010'"
   ]
  },
  {
   "cell_type": "code",
   "execution_count": 6,
   "metadata": {},
   "outputs": [
    {
     "name": "stdout",
     "output_type": "stream",
     "text": [
      "[('Alice', 25), ('Bob', 30), ('Charlie', 35)]\n"
     ]
    }
   ],
   "source": [
    "names = [\"Alice\", \"Bob\", \"Charlie\"]\n",
    "ages = [25, 30, 35]\n",
    "# zip()\n",
    "combined = zip(names, ages)\n",
    "print(list(combined)) # [(\"Alice\", 25), (\"Bob\", 30), (\"Charlie\", 35)]"
   ]
  },
  {
   "cell_type": "code",
   "execution_count": 8,
   "metadata": {},
   "outputs": [
    {
     "name": "stdout",
     "output_type": "stream",
     "text": [
      "[1, 2, 4, 5]\n"
     ]
    }
   ],
   "source": [
    "x = 10\n",
    "del x # x is deleted\n",
    "numbers = [1, 2, 3, 4, 5]\n",
    "del numbers[2] # the element at index 2(3) is deleted from the list\n",
    "print(numbers)"
   ]
  },
  {
   "cell_type": "code",
   "execution_count": 9,
   "metadata": {},
   "outputs": [
    {
     "name": "stdout",
     "output_type": "stream",
     "text": [
      "0 1\n",
      "1 2\n",
      "2 3\n",
      "3 4\n",
      "4 5\n"
     ]
    }
   ],
   "source": [
    "numbers = [1, 2, 3, 4, 5]\n",
    "# enumerate()\n",
    "for i, n in enumerate(numbers):\n",
    "    print(i, n)\n",
    "# Output: (0, 1), (1, 2), (2, 3), (3, 4), (4, 5)"
   ]
  },
  {
   "cell_type": "code",
   "execution_count": 10,
   "metadata": {},
   "outputs": [
    {
     "name": "stdout",
     "output_type": "stream",
     "text": [
      "[2, 4, 6, 8, 10]\n"
     ]
    }
   ],
   "source": [
    "numbers = [1, 2, 3, 4, 5, 6, 7, 8, 9, 10]\n",
    "# filter()\n",
    "even_numbers = filter(lambda x: x % 2 == 0, numbers)\n",
    "print(list(even_numbers)) # [2, 4, 6, 8, 10]"
   ]
  },
  {
   "cell_type": "code",
   "execution_count": 12,
   "metadata": {},
   "outputs": [
    {
     "name": "stdout",
     "output_type": "stream",
     "text": [
      "{'__name__': '__main__', '__doc__': 'Automatically created module for IPython interactive environment', '__package__': None, '__loader__': None, '__spec__': None, '__builtin__': <module 'builtins' (built-in)>, '__builtins__': <module 'builtins' (built-in)>, '_ih': ['', 'numbers = [1, 3, 5, 0, 2]\\n# any()\\nprint(any(numbers)) # True\\n# all()\\nprint(all(numbers)) # False\\nprint(numbers==True)', 'numbers = [1, 3, 5, 0, 2]\\n# any()\\nprint(any(numbers)) # True\\n# all()\\nprint(all(numbers)) # False\\n\\nprint([num for num in numbers])', 'numbers = [1, 3, 5, 0, 2]\\n# any()\\nprint(any(numbers)) # True\\n# all()\\nprint(all(numbers)) # False\\n\\nprint([num==True for num in numbers])', 'numbers = [1, 3, 5, 0, 2]\\n# any()\\nprint(any(numbers)) # True\\n# all()\\nprint(all(numbers)) # False\\n\\nprint([num==True for num in numbers]) # Only 1 is true\\nprint([bool(num) for num in numbers]) # Only 1 is true', \"x = 10\\nprint(bin(x)) # '0b1010'\", 'names = [\"Alice\", \"Bob\", \"Charlie\"]\\nages = [25, 30, 35]\\n# zip()\\ncombined = zip(names, ages)\\nprint(list(combined)) # [(\"Alice\", 25), (\"Bob\", 30), (\"Charlie\", 35)]', 'x = 10\\ndel x # x is deleted\\nnumbers = [1, 2, 3, 4, 5]\\ndel numbers[2] # the element at index 2(3) is deleted from the list', 'x = 10\\ndel x # x is deleted\\nnumbers = [1, 2, 3, 4, 5]\\ndel numbers[2] # the element at index 2(3) is deleted from the list\\nprint(numbers)', 'numbers = [1, 2, 3, 4, 5]\\n# enumerate()\\nfor i, n in enumerate(numbers):\\n    print(i, n)\\n# Output: (0, 1), (1, 2), (2, 3), (3, 4), (4, 5)', 'numbers = [1, 2, 3, 4, 5, 6, 7, 8, 9, 10]\\n# filter()\\neven_numbers = filter(lambda x: x % 2 == 0, numbers)\\nprint(list(even_numbers)) # [2, 4, 6, 8, 10]', \"x = 10\\ny = 20\\n# globals()\\nprint(globals()) # {'__name__': '__main__', 'x': 10, 'y': 20, ...}\\n# locals()\\ndef my_function():\\n    z = 30\\n    print(locals()) # {'z': 30}\\nmy_function()\", \"x = 10\\ny = 20\\n# globals()\\nprint(globals()) # {'__name__': '__main__', 'x': 10, 'y': 20, ...}\\n# locals()\\ndef my_function():\\n    z = 30\\n    print(locals()) # {'z': 30}\\nmy_function()\\nprint(locals())\"], '_oh': {}, '_dh': [WindowsPath('c:/Users/Mark/Dropbox/GitHub/PythonExercises'), WindowsPath('c:/Users/Mark/Dropbox/GitHub/PythonExercises')], 'In': ['', 'numbers = [1, 3, 5, 0, 2]\\n# any()\\nprint(any(numbers)) # True\\n# all()\\nprint(all(numbers)) # False\\nprint(numbers==True)', 'numbers = [1, 3, 5, 0, 2]\\n# any()\\nprint(any(numbers)) # True\\n# all()\\nprint(all(numbers)) # False\\n\\nprint([num for num in numbers])', 'numbers = [1, 3, 5, 0, 2]\\n# any()\\nprint(any(numbers)) # True\\n# all()\\nprint(all(numbers)) # False\\n\\nprint([num==True for num in numbers])', 'numbers = [1, 3, 5, 0, 2]\\n# any()\\nprint(any(numbers)) # True\\n# all()\\nprint(all(numbers)) # False\\n\\nprint([num==True for num in numbers]) # Only 1 is true\\nprint([bool(num) for num in numbers]) # Only 1 is true', \"x = 10\\nprint(bin(x)) # '0b1010'\", 'names = [\"Alice\", \"Bob\", \"Charlie\"]\\nages = [25, 30, 35]\\n# zip()\\ncombined = zip(names, ages)\\nprint(list(combined)) # [(\"Alice\", 25), (\"Bob\", 30), (\"Charlie\", 35)]', 'x = 10\\ndel x # x is deleted\\nnumbers = [1, 2, 3, 4, 5]\\ndel numbers[2] # the element at index 2(3) is deleted from the list', 'x = 10\\ndel x # x is deleted\\nnumbers = [1, 2, 3, 4, 5]\\ndel numbers[2] # the element at index 2(3) is deleted from the list\\nprint(numbers)', 'numbers = [1, 2, 3, 4, 5]\\n# enumerate()\\nfor i, n in enumerate(numbers):\\n    print(i, n)\\n# Output: (0, 1), (1, 2), (2, 3), (3, 4), (4, 5)', 'numbers = [1, 2, 3, 4, 5, 6, 7, 8, 9, 10]\\n# filter()\\neven_numbers = filter(lambda x: x % 2 == 0, numbers)\\nprint(list(even_numbers)) # [2, 4, 6, 8, 10]', \"x = 10\\ny = 20\\n# globals()\\nprint(globals()) # {'__name__': '__main__', 'x': 10, 'y': 20, ...}\\n# locals()\\ndef my_function():\\n    z = 30\\n    print(locals()) # {'z': 30}\\nmy_function()\", \"x = 10\\ny = 20\\n# globals()\\nprint(globals()) # {'__name__': '__main__', 'x': 10, 'y': 20, ...}\\n# locals()\\ndef my_function():\\n    z = 30\\n    print(locals()) # {'z': 30}\\nmy_function()\\nprint(locals())\"], 'Out': {}, 'get_ipython': <bound method InteractiveShell.get_ipython of <ipykernel.zmqshell.ZMQInteractiveShell object at 0x000001FFD3A15490>>, 'exit': <IPython.core.autocall.ZMQExitAutocall object at 0x000001FFD3A18CD0>, 'quit': <IPython.core.autocall.ZMQExitAutocall object at 0x000001FFD3A18CD0>, 'open': <function open at 0x000001FFD0D971A0>, '_': '', '__': '', '___': '', '__vsc_ipynb_file__': 'c:\\\\Users\\\\Mark\\\\Dropbox\\\\GitHub\\\\PythonExercises\\\\AZ-of-Python-Drill.ipynb', '_i': \"x = 10\\ny = 20\\n# globals()\\nprint(globals()) # {'__name__': '__main__', 'x': 10, 'y': 20, ...}\\n# locals()\\ndef my_function():\\n    z = 30\\n    print(locals()) # {'z': 30}\\nmy_function()\", '_ii': 'numbers = [1, 2, 3, 4, 5, 6, 7, 8, 9, 10]\\n# filter()\\neven_numbers = filter(lambda x: x % 2 == 0, numbers)\\nprint(list(even_numbers)) # [2, 4, 6, 8, 10]', '_iii': 'numbers = [1, 2, 3, 4, 5]\\n# enumerate()\\nfor i, n in enumerate(numbers):\\n    print(i, n)\\n# Output: (0, 1), (1, 2), (2, 3), (3, 4), (4, 5)', '_i1': 'numbers = [1, 3, 5, 0, 2]\\n# any()\\nprint(any(numbers)) # True\\n# all()\\nprint(all(numbers)) # False\\nprint(numbers==True)', 'numbers': [1, 2, 3, 4, 5, 6, 7, 8, 9, 10], '_i2': 'numbers = [1, 3, 5, 0, 2]\\n# any()\\nprint(any(numbers)) # True\\n# all()\\nprint(all(numbers)) # False\\n\\nprint([num for num in numbers])', '_i3': 'numbers = [1, 3, 5, 0, 2]\\n# any()\\nprint(any(numbers)) # True\\n# all()\\nprint(all(numbers)) # False\\n\\nprint([num==True for num in numbers])', '_i4': 'numbers = [1, 3, 5, 0, 2]\\n# any()\\nprint(any(numbers)) # True\\n# all()\\nprint(all(numbers)) # False\\n\\nprint([num==True for num in numbers]) # Only 1 is true\\nprint([bool(num) for num in numbers]) # Only 1 is true', '_i5': \"x = 10\\nprint(bin(x)) # '0b1010'\", '_i6': 'names = [\"Alice\", \"Bob\", \"Charlie\"]\\nages = [25, 30, 35]\\n# zip()\\ncombined = zip(names, ages)\\nprint(list(combined)) # [(\"Alice\", 25), (\"Bob\", 30), (\"Charlie\", 35)]', 'names': ['Alice', 'Bob', 'Charlie'], 'ages': [25, 30, 35], 'combined': <zip object at 0x000001FFD3A57340>, '_i7': 'x = 10\\ndel x # x is deleted\\nnumbers = [1, 2, 3, 4, 5]\\ndel numbers[2] # the element at index 2(3) is deleted from the list', '_i8': 'x = 10\\ndel x # x is deleted\\nnumbers = [1, 2, 3, 4, 5]\\ndel numbers[2] # the element at index 2(3) is deleted from the list\\nprint(numbers)', '_i9': 'numbers = [1, 2, 3, 4, 5]\\n# enumerate()\\nfor i, n in enumerate(numbers):\\n    print(i, n)\\n# Output: (0, 1), (1, 2), (2, 3), (3, 4), (4, 5)', 'i': 4, 'n': 5, '_i10': 'numbers = [1, 2, 3, 4, 5, 6, 7, 8, 9, 10]\\n# filter()\\neven_numbers = filter(lambda x: x % 2 == 0, numbers)\\nprint(list(even_numbers)) # [2, 4, 6, 8, 10]', 'even_numbers': <filter object at 0x000001FFD37EF5B0>, '_i11': \"x = 10\\ny = 20\\n# globals()\\nprint(globals()) # {'__name__': '__main__', 'x': 10, 'y': 20, ...}\\n# locals()\\ndef my_function():\\n    z = 30\\n    print(locals()) # {'z': 30}\\nmy_function()\", 'x': 10, 'y': 20, 'my_function': <function my_function at 0x000001FFD3A6F060>, '_i12': \"x = 10\\ny = 20\\n# globals()\\nprint(globals()) # {'__name__': '__main__', 'x': 10, 'y': 20, ...}\\n# locals()\\ndef my_function():\\n    z = 30\\n    print(locals()) # {'z': 30}\\nmy_function()\\nprint(locals())\"}\n",
      "{'z': 30}\n",
      "{'__name__': '__main__', '__doc__': 'Automatically created module for IPython interactive environment', '__package__': None, '__loader__': None, '__spec__': None, '__builtin__': <module 'builtins' (built-in)>, '__builtins__': <module 'builtins' (built-in)>, '_ih': ['', 'numbers = [1, 3, 5, 0, 2]\\n# any()\\nprint(any(numbers)) # True\\n# all()\\nprint(all(numbers)) # False\\nprint(numbers==True)', 'numbers = [1, 3, 5, 0, 2]\\n# any()\\nprint(any(numbers)) # True\\n# all()\\nprint(all(numbers)) # False\\n\\nprint([num for num in numbers])', 'numbers = [1, 3, 5, 0, 2]\\n# any()\\nprint(any(numbers)) # True\\n# all()\\nprint(all(numbers)) # False\\n\\nprint([num==True for num in numbers])', 'numbers = [1, 3, 5, 0, 2]\\n# any()\\nprint(any(numbers)) # True\\n# all()\\nprint(all(numbers)) # False\\n\\nprint([num==True for num in numbers]) # Only 1 is true\\nprint([bool(num) for num in numbers]) # Only 1 is true', \"x = 10\\nprint(bin(x)) # '0b1010'\", 'names = [\"Alice\", \"Bob\", \"Charlie\"]\\nages = [25, 30, 35]\\n# zip()\\ncombined = zip(names, ages)\\nprint(list(combined)) # [(\"Alice\", 25), (\"Bob\", 30), (\"Charlie\", 35)]', 'x = 10\\ndel x # x is deleted\\nnumbers = [1, 2, 3, 4, 5]\\ndel numbers[2] # the element at index 2(3) is deleted from the list', 'x = 10\\ndel x # x is deleted\\nnumbers = [1, 2, 3, 4, 5]\\ndel numbers[2] # the element at index 2(3) is deleted from the list\\nprint(numbers)', 'numbers = [1, 2, 3, 4, 5]\\n# enumerate()\\nfor i, n in enumerate(numbers):\\n    print(i, n)\\n# Output: (0, 1), (1, 2), (2, 3), (3, 4), (4, 5)', 'numbers = [1, 2, 3, 4, 5, 6, 7, 8, 9, 10]\\n# filter()\\neven_numbers = filter(lambda x: x % 2 == 0, numbers)\\nprint(list(even_numbers)) # [2, 4, 6, 8, 10]', \"x = 10\\ny = 20\\n# globals()\\nprint(globals()) # {'__name__': '__main__', 'x': 10, 'y': 20, ...}\\n# locals()\\ndef my_function():\\n    z = 30\\n    print(locals()) # {'z': 30}\\nmy_function()\", \"x = 10\\ny = 20\\n# globals()\\nprint(globals()) # {'__name__': '__main__', 'x': 10, 'y': 20, ...}\\n# locals()\\ndef my_function():\\n    z = 30\\n    print(locals()) # {'z': 30}\\nmy_function()\\nprint(locals())\"], '_oh': {}, '_dh': [WindowsPath('c:/Users/Mark/Dropbox/GitHub/PythonExercises'), WindowsPath('c:/Users/Mark/Dropbox/GitHub/PythonExercises')], 'In': ['', 'numbers = [1, 3, 5, 0, 2]\\n# any()\\nprint(any(numbers)) # True\\n# all()\\nprint(all(numbers)) # False\\nprint(numbers==True)', 'numbers = [1, 3, 5, 0, 2]\\n# any()\\nprint(any(numbers)) # True\\n# all()\\nprint(all(numbers)) # False\\n\\nprint([num for num in numbers])', 'numbers = [1, 3, 5, 0, 2]\\n# any()\\nprint(any(numbers)) # True\\n# all()\\nprint(all(numbers)) # False\\n\\nprint([num==True for num in numbers])', 'numbers = [1, 3, 5, 0, 2]\\n# any()\\nprint(any(numbers)) # True\\n# all()\\nprint(all(numbers)) # False\\n\\nprint([num==True for num in numbers]) # Only 1 is true\\nprint([bool(num) for num in numbers]) # Only 1 is true', \"x = 10\\nprint(bin(x)) # '0b1010'\", 'names = [\"Alice\", \"Bob\", \"Charlie\"]\\nages = [25, 30, 35]\\n# zip()\\ncombined = zip(names, ages)\\nprint(list(combined)) # [(\"Alice\", 25), (\"Bob\", 30), (\"Charlie\", 35)]', 'x = 10\\ndel x # x is deleted\\nnumbers = [1, 2, 3, 4, 5]\\ndel numbers[2] # the element at index 2(3) is deleted from the list', 'x = 10\\ndel x # x is deleted\\nnumbers = [1, 2, 3, 4, 5]\\ndel numbers[2] # the element at index 2(3) is deleted from the list\\nprint(numbers)', 'numbers = [1, 2, 3, 4, 5]\\n# enumerate()\\nfor i, n in enumerate(numbers):\\n    print(i, n)\\n# Output: (0, 1), (1, 2), (2, 3), (3, 4), (4, 5)', 'numbers = [1, 2, 3, 4, 5, 6, 7, 8, 9, 10]\\n# filter()\\neven_numbers = filter(lambda x: x % 2 == 0, numbers)\\nprint(list(even_numbers)) # [2, 4, 6, 8, 10]', \"x = 10\\ny = 20\\n# globals()\\nprint(globals()) # {'__name__': '__main__', 'x': 10, 'y': 20, ...}\\n# locals()\\ndef my_function():\\n    z = 30\\n    print(locals()) # {'z': 30}\\nmy_function()\", \"x = 10\\ny = 20\\n# globals()\\nprint(globals()) # {'__name__': '__main__', 'x': 10, 'y': 20, ...}\\n# locals()\\ndef my_function():\\n    z = 30\\n    print(locals()) # {'z': 30}\\nmy_function()\\nprint(locals())\"], 'Out': {}, 'get_ipython': <bound method InteractiveShell.get_ipython of <ipykernel.zmqshell.ZMQInteractiveShell object at 0x000001FFD3A15490>>, 'exit': <IPython.core.autocall.ZMQExitAutocall object at 0x000001FFD3A18CD0>, 'quit': <IPython.core.autocall.ZMQExitAutocall object at 0x000001FFD3A18CD0>, 'open': <function open at 0x000001FFD0D971A0>, '_': '', '__': '', '___': '', '__vsc_ipynb_file__': 'c:\\\\Users\\\\Mark\\\\Dropbox\\\\GitHub\\\\PythonExercises\\\\AZ-of-Python-Drill.ipynb', '_i': \"x = 10\\ny = 20\\n# globals()\\nprint(globals()) # {'__name__': '__main__', 'x': 10, 'y': 20, ...}\\n# locals()\\ndef my_function():\\n    z = 30\\n    print(locals()) # {'z': 30}\\nmy_function()\", '_ii': 'numbers = [1, 2, 3, 4, 5, 6, 7, 8, 9, 10]\\n# filter()\\neven_numbers = filter(lambda x: x % 2 == 0, numbers)\\nprint(list(even_numbers)) # [2, 4, 6, 8, 10]', '_iii': 'numbers = [1, 2, 3, 4, 5]\\n# enumerate()\\nfor i, n in enumerate(numbers):\\n    print(i, n)\\n# Output: (0, 1), (1, 2), (2, 3), (3, 4), (4, 5)', '_i1': 'numbers = [1, 3, 5, 0, 2]\\n# any()\\nprint(any(numbers)) # True\\n# all()\\nprint(all(numbers)) # False\\nprint(numbers==True)', 'numbers': [1, 2, 3, 4, 5, 6, 7, 8, 9, 10], '_i2': 'numbers = [1, 3, 5, 0, 2]\\n# any()\\nprint(any(numbers)) # True\\n# all()\\nprint(all(numbers)) # False\\n\\nprint([num for num in numbers])', '_i3': 'numbers = [1, 3, 5, 0, 2]\\n# any()\\nprint(any(numbers)) # True\\n# all()\\nprint(all(numbers)) # False\\n\\nprint([num==True for num in numbers])', '_i4': 'numbers = [1, 3, 5, 0, 2]\\n# any()\\nprint(any(numbers)) # True\\n# all()\\nprint(all(numbers)) # False\\n\\nprint([num==True for num in numbers]) # Only 1 is true\\nprint([bool(num) for num in numbers]) # Only 1 is true', '_i5': \"x = 10\\nprint(bin(x)) # '0b1010'\", '_i6': 'names = [\"Alice\", \"Bob\", \"Charlie\"]\\nages = [25, 30, 35]\\n# zip()\\ncombined = zip(names, ages)\\nprint(list(combined)) # [(\"Alice\", 25), (\"Bob\", 30), (\"Charlie\", 35)]', 'names': ['Alice', 'Bob', 'Charlie'], 'ages': [25, 30, 35], 'combined': <zip object at 0x000001FFD3A57340>, '_i7': 'x = 10\\ndel x # x is deleted\\nnumbers = [1, 2, 3, 4, 5]\\ndel numbers[2] # the element at index 2(3) is deleted from the list', '_i8': 'x = 10\\ndel x # x is deleted\\nnumbers = [1, 2, 3, 4, 5]\\ndel numbers[2] # the element at index 2(3) is deleted from the list\\nprint(numbers)', '_i9': 'numbers = [1, 2, 3, 4, 5]\\n# enumerate()\\nfor i, n in enumerate(numbers):\\n    print(i, n)\\n# Output: (0, 1), (1, 2), (2, 3), (3, 4), (4, 5)', 'i': 4, 'n': 5, '_i10': 'numbers = [1, 2, 3, 4, 5, 6, 7, 8, 9, 10]\\n# filter()\\neven_numbers = filter(lambda x: x % 2 == 0, numbers)\\nprint(list(even_numbers)) # [2, 4, 6, 8, 10]', 'even_numbers': <filter object at 0x000001FFD37EF5B0>, '_i11': \"x = 10\\ny = 20\\n# globals()\\nprint(globals()) # {'__name__': '__main__', 'x': 10, 'y': 20, ...}\\n# locals()\\ndef my_function():\\n    z = 30\\n    print(locals()) # {'z': 30}\\nmy_function()\", 'x': 10, 'y': 20, 'my_function': <function my_function at 0x000001FFD3A6DF80>, '_i12': \"x = 10\\ny = 20\\n# globals()\\nprint(globals()) # {'__name__': '__main__', 'x': 10, 'y': 20, ...}\\n# locals()\\ndef my_function():\\n    z = 30\\n    print(locals()) # {'z': 30}\\nmy_function()\\nprint(locals())\"}\n"
     ]
    }
   ],
   "source": [
    "x = 10\n",
    "y = 20\n",
    "# globals()\n",
    "print(globals()) # {'__name__': '__main__', 'x': 10, 'y': 20, ...}\n",
    "# locals()\n",
    "def my_function():\n",
    "    z = 30\n",
    "    print(locals()) # {'z': 30}\n",
    "my_function()\n",
    "print(locals())"
   ]
  },
  {
   "cell_type": "code",
   "execution_count": 14,
   "metadata": {},
   "outputs": [
    {
     "name": "stdout",
     "output_type": "stream",
     "text": [
      "2692422449189970381\n"
     ]
    }
   ],
   "source": [
    "x = \"hello\"\n",
    "print(hash(x)) # -1010901246529012858"
   ]
  },
  {
   "cell_type": "code",
   "execution_count": 15,
   "metadata": {},
   "outputs": [
    {
     "name": "stdout",
     "output_type": "stream",
     "text": [
      "True\n",
      "False\n"
     ]
    }
   ],
   "source": [
    "class MyClass:\n",
    "    pass\n",
    "x = MyClass()\n",
    "# isinstance()\n",
    "print(isinstance(x, MyClass)) # True\n",
    "print(isinstance(x, str)) # False"
   ]
  },
  {
   "cell_type": "code",
   "execution_count": 16,
   "metadata": {},
   "outputs": [
    {
     "name": "stdout",
     "output_type": "stream",
     "text": [
      "Python is awesome\n"
     ]
    }
   ],
   "source": [
    "words = [\"Python\", \"is\", \"awesome\"]\n",
    "# join()\n",
    "sentence = \" \".join(words)\n",
    "print(sentence) # \"Python is awesome\""
   ]
  },
  {
   "cell_type": "code",
   "execution_count": 17,
   "metadata": {},
   "outputs": [
    {
     "name": "stdout",
     "output_type": "stream",
     "text": [
      "dict_keys(['name', 'age', 'city'])\n"
     ]
    }
   ],
   "source": [
    "my_dict = {\"name\": \"Alice\", \"age\": 25, \"city\": \"New York\"}\n",
    "# keys()\n",
    "print(my_dict.keys()) # dict_keys(['name', 'age', 'city'])"
   ]
  },
  {
   "cell_type": "code",
   "execution_count": 18,
   "metadata": {},
   "outputs": [
    {
     "name": "stdout",
     "output_type": "stream",
     "text": [
      "5\n"
     ]
    }
   ],
   "source": [
    "my_list = [1, 2, 3, 4, 5]\n",
    "# len()\n",
    "print(len(my_list)) # 5"
   ]
  },
  {
   "cell_type": "code",
   "execution_count": 19,
   "metadata": {},
   "outputs": [
    {
     "name": "stdout",
     "output_type": "stream",
     "text": [
      "[1, 4, 9, 16, 25]\n"
     ]
    }
   ],
   "source": [
    "numbers = [1, 2, 3, 4, 5]\n",
    "# map()\n",
    "squared_numbers = map(lambda x: x ** 2, numbers)\n",
    "print(list(squared_numbers)) # [1, 4, 9, 16, 25]"
   ]
  },
  {
   "cell_type": "code",
   "execution_count": 20,
   "metadata": {},
   "outputs": [
    {
     "name": "stdout",
     "output_type": "stream",
     "text": [
      "1\n",
      "2\n"
     ]
    }
   ],
   "source": [
    "numbers = [1, 2, 3, 4, 5]\n",
    "# next()\n",
    "iterator = iter(numbers)\n",
    "print(next(iterator)) # 1\n",
    "print(next(iterator)) # 2"
   ]
  },
  {
   "cell_type": "code",
   "execution_count": 21,
   "metadata": {},
   "outputs": [
    {
     "name": "stdout",
     "output_type": "stream",
     "text": [
      "65\n"
     ]
    }
   ],
   "source": [
    "x = \"A\"\n",
    "print(ord(x)) # 65"
   ]
  },
  {
   "cell_type": "code",
   "execution_count": 22,
   "metadata": {},
   "outputs": [
    {
     "name": "stdout",
     "output_type": "stream",
     "text": [
      "8\n"
     ]
    }
   ],
   "source": [
    "x = 2\n",
    "y = 3\n",
    "# pow()\n",
    "print(pow(x, y)) # 8"
   ]
  },
  {
   "cell_type": "code",
   "execution_count": 23,
   "metadata": {},
   "outputs": [
    {
     "name": "stdout",
     "output_type": "stream",
     "text": [
      "<IPython.core.autocall.ZMQExitAutocall object at 0x000001FFD3A18CD0>\n",
      "9\n"
     ]
    },
    {
     "ename": "",
     "evalue": "",
     "output_type": "error",
     "traceback": [
      "\u001b[1;31mThe Kernel crashed while executing code in the the current cell or a previous cell. Please review the code in the cell(s) to identify a possible cause of the failure. Click <a href='https://aka.ms/vscodeJupyterKernelCrash'>here</a> for more info. View Jupyter <a href='command:jupyter.viewOutput'>log</a> for further details."
     ]
    }
   ],
   "source": [
    "#quit()\n",
    "for i in range(10):\n",
    "  if i == 5:\n",
    "    print(quit)\n",
    "    quit()\n",
    "print(i)"
   ]
  },
  {
   "cell_type": "code",
   "execution_count": 1,
   "metadata": {},
   "outputs": [
    {
     "name": "stdout",
     "output_type": "stream",
     "text": [
      "0\n",
      "1\n",
      "2\n",
      "3\n",
      "4\n"
     ]
    }
   ],
   "source": [
    "# range()\n",
    "for i in range(5):\n",
    "    print(i)\n",
    "# Output: 0, 1, 2, 3, 4"
   ]
  },
  {
   "cell_type": "code",
   "execution_count": 2,
   "metadata": {},
   "outputs": [
    {
     "name": "stdout",
     "output_type": "stream",
     "text": [
      "[1, 2, 3, 4, 5]\n"
     ]
    }
   ],
   "source": [
    "numbers = [3, 1, 5, 2, 4]\n",
    "# sorted()\n",
    "sorted_numbers = sorted(numbers)\n",
    "print(sorted_numbers) # [1, 2, 3, 4, 5]"
   ]
  },
  {
   "cell_type": "code",
   "execution_count": 3,
   "metadata": {},
   "outputs": [
    {
     "name": "stdout",
     "output_type": "stream",
     "text": [
      "<class 'str'>\n"
     ]
    }
   ],
   "source": [
    "x = \"hello\"\n",
    "# type()\n",
    "print(type(x)) # <class 'str'>"
   ]
  },
  {
   "cell_type": "code",
   "execution_count": 4,
   "metadata": {},
   "outputs": [
    {
     "name": "stdout",
     "output_type": "stream",
     "text": [
      "HELLO WORLD\n",
      "hello world\n"
     ]
    }
   ],
   "source": [
    "x = \"Hello World\"\n",
    "# upper()\n",
    "print(x.upper()) # \"HELLO WORLD\"\n",
    "# lower()\n",
    "print(x.lower()) # \"hello world\""
   ]
  },
  {
   "cell_type": "code",
   "execution_count": 26,
   "metadata": {},
   "outputs": [
    {
     "name": "stdout",
     "output_type": "stream",
     "text": [
      "{'x': 10, 'y': 20}\n",
      "{'x': 10, 'y': 20}\n",
      "{'x': 10, 'y': 20}\n"
     ]
    },
    {
     "data": {
      "text/plain": [
       "mappingproxy({'__module__': '__main__',\n",
       "              'z': 40,\n",
       "              '__init__': <function __main__.MyClass.__init__(self)>,\n",
       "              '__dict__': <attribute '__dict__' of 'MyClass' objects>,\n",
       "              '__weakref__': <attribute '__weakref__' of 'MyClass' objects>,\n",
       "              '__doc__': None})"
      ]
     },
     "execution_count": 26,
     "metadata": {},
     "output_type": "execute_result"
    }
   ],
   "source": [
    "class MyClass:\n",
    "    z =40\n",
    "    def __init__(self):\n",
    "        self.x = 10\n",
    "        self.y = 20\n",
    "# vars()\n",
    "print(vars(MyClass())) # {'x': 10, 'y': 20}\n",
    "obj=MyClass()\n",
    "print(vars(obj))\n",
    "print(obj.__dict__)\n",
    "MyClass.__dict__\n",
    "\n"
   ]
  },
  {
   "cell_type": "code",
   "execution_count": 15,
   "metadata": {},
   "outputs": [
    {
     "data": {
      "text/plain": [
       "dict_keys(['a', 'b'])"
      ]
     },
     "execution_count": 15,
     "metadata": {},
     "output_type": "execute_result"
    }
   ],
   "source": [
    "class Foo(object):\n",
    "    def __init__(self):\n",
    "        self.a = 1\n",
    "        self.b = 2\n",
    "\n",
    "vars(Foo()) #==> {'a': 1, 'b': 2}\n",
    "vars(Foo()).keys() #==> ['a', 'b']"
   ]
  },
  {
   "cell_type": "code",
   "execution_count": 27,
   "metadata": {},
   "outputs": [
    {
     "name": "stdout",
     "output_type": "stream",
     "text": [
      "0\n",
      "1\n",
      "2\n",
      "3\n",
      "4\n"
     ]
    }
   ],
   "source": [
    "i = 0\n",
    "# while loop\n",
    "while i < 5:\n",
    "    print(i)\n",
    "    i += 1\n",
    "# Output: 0, 1, 2, 3, 4"
   ]
  },
  {
   "cell_type": "code",
   "execution_count": 28,
   "metadata": {},
   "outputs": [
    {
     "name": "stdout",
     "output_type": "stream",
     "text": [
      "6\n"
     ]
    }
   ],
   "source": [
    "x = 5\n",
    "y = 3\n",
    "# xor operator\n",
    "print(x ^ y) # 6"
   ]
  },
  {
   "cell_type": "code",
   "execution_count": 29,
   "metadata": {},
   "outputs": [
    {
     "name": "stdout",
     "output_type": "stream",
     "text": [
      "1\n",
      "2\n",
      "3\n"
     ]
    }
   ],
   "source": [
    "def my_generator():\n",
    "    yield 1\n",
    "    yield 2\n",
    "    yield 3\n",
    "gen = my_generator()\n",
    "print(next(gen)) # 1\n",
    "print(next(gen)) # 2\n",
    "print(next(gen)) # 3"
   ]
  },
  {
   "cell_type": "code",
   "execution_count": null,
   "metadata": {},
   "outputs": [],
   "source": []
  }
 ],
 "metadata": {
  "kernelspec": {
   "display_name": "Python 3",
   "language": "python",
   "name": "python3"
  },
  "language_info": {
   "codemirror_mode": {
    "name": "ipython",
    "version": 3
   },
   "file_extension": ".py",
   "mimetype": "text/x-python",
   "name": "python",
   "nbconvert_exporter": "python",
   "pygments_lexer": "ipython3",
   "version": "3.11.3"
  },
  "orig_nbformat": 4
 },
 "nbformat": 4,
 "nbformat_minor": 2
}
