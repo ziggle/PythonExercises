{
 "cells": [
  {
   "cell_type": "markdown",
   "metadata": {},
   "source": [
    "https://towardsdev.com/python-3-format-text-and-f-strings-4bd7c376101a"
   ]
  },
  {
   "cell_type": "code",
   "execution_count": 1,
   "metadata": {},
   "outputs": [
    {
     "name": "stdout",
     "output_type": "stream",
     "text": [
      "Hello, Sunil Kumar!!\n"
     ]
    }
   ],
   "source": [
    "name = 'Sunil Kumar'\n",
    "print('Hello, {}!!'.format(name))  \n",
    "\n",
    "# Output \n",
    "# Hello, Sunil Kumar!!"
   ]
  },
  {
   "cell_type": "code",
   "execution_count": 2,
   "metadata": {},
   "outputs": [
    {
     "name": "stdout",
     "output_type": "stream",
     "text": [
      "Full name: Sunil kumar.\n"
     ]
    }
   ],
   "source": [
    "fname = 'Sunil'\n",
    "lname = 'kumar'\n",
    "print('Full name: {0} {1}.'.format(fname, lname))\n",
    "\n",
    "# Output \n",
    "# Full name: Sunil kumar."
   ]
  },
  {
   "cell_type": "code",
   "execution_count": 3,
   "metadata": {},
   "outputs": [
    {
     "name": "stdout",
     "output_type": "stream",
     "text": [
      "Full name: Sunil kumar.\n"
     ]
    }
   ],
   "source": [
    "fname = 'Sunil'\n",
    "lname = 'kumar'\n",
    "print('Full name: {fname} {lname}.'.format(lname=lname,fname=fname))\n",
    "\n",
    "# Output \n",
    "# Full name: Sunil kumar."
   ]
  },
  {
   "cell_type": "code",
   "execution_count": 4,
   "metadata": {},
   "outputs": [
    {
     "name": "stdout",
     "output_type": "stream",
     "text": [
      "Sunil Kumar is 43 years old.\n"
     ]
    }
   ],
   "source": [
    "name = \"Sunil Kumar\"\n",
    "age = 43\n",
    "print(\"%s is %d years old.\" % (name, age))"
   ]
  },
  {
   "cell_type": "code",
   "execution_count": 5,
   "metadata": {},
   "outputs": [
    {
     "name": "stdout",
     "output_type": "stream",
     "text": [
      "Full name: Sunil kumar.\n"
     ]
    }
   ],
   "source": [
    "fname = 'Sunil'\n",
    "lname = 'kumar'\n",
    "print(f'Full name: {fname} {lname}.'.format(fname, lname))\n",
    "\n",
    "# Output \n",
    "# Full name: Sunil kumar."
   ]
  },
  {
   "cell_type": "code",
   "execution_count": 6,
   "metadata": {},
   "outputs": [
    {
     "name": "stdout",
     "output_type": "stream",
     "text": [
      "Sunil Kumar is 42 years old.\n"
     ]
    }
   ],
   "source": [
    "name = 'Sunil Kumar'\n",
    "age = 40\n",
    "print(f'{name} is {age + 2} years old.')\n",
    "\n",
    "# Output\n",
    "# Sunil Kumar is 42 years old."
   ]
  },
  {
   "cell_type": "code",
   "execution_count": 9,
   "metadata": {},
   "outputs": [
    {
     "name": "stdout",
     "output_type": "stream",
     "text": [
      "HiBii\n",
      "HITry\n"
     ]
    }
   ],
   "source": [
    "print(\"Hi\"\"Bii\")\n",
    "z=\"HI\"\"Try\"\n",
    "print(z)"
   ]
  },
  {
   "cell_type": "code",
   "execution_count": 8,
   "metadata": {},
   "outputs": [
    {
     "name": "stdout",
     "output_type": "stream",
     "text": [
      "pi =       3141.5916\n"
     ]
    }
   ],
   "source": [
    "x=3141.5916\n",
    "\n",
    "print(f'pi = {x:15.9}')"
   ]
  }
 ],
 "metadata": {
  "kernelspec": {
   "display_name": "Python 3",
   "language": "python",
   "name": "python3"
  },
  "language_info": {
   "codemirror_mode": {
    "name": "ipython",
    "version": 3
   },
   "file_extension": ".py",
   "mimetype": "text/x-python",
   "name": "python",
   "nbconvert_exporter": "python",
   "pygments_lexer": "ipython3",
   "version": "3.11.6"
  }
 },
 "nbformat": 4,
 "nbformat_minor": 2
}
