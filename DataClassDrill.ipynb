{
 "cells": [
  {
   "cell_type": "markdown",
   "id": "edcfc116",
   "metadata": {},
   "source": [
    "https://python.plainenglish.io/python-dataclasses-3dee6a3a6ca1"
   ]
  },
  {
   "cell_type": "code",
   "execution_count": 9,
   "id": "da9e2338",
   "metadata": {},
   "outputs": [
    {
     "name": "stdout",
     "output_type": "stream",
     "text": [
      "Person(name=mark, surname=biegert, age=66)\n",
      "False\n"
     ]
    }
   ],
   "source": [
    "class Person:\n",
    "    def __init__(self, name, surname, age):\n",
    "        self.name = name\n",
    "        self.surname = surname\n",
    "        self.age = age\n",
    "\n",
    "\n",
    "    def __repr__(self):\n",
    "        return f\"Person(name={self.name}, surname={self.surname}, age={self.age})\"\n",
    "\n",
    "    def __eq__(self, other):\n",
    "        if not isinstance(other, Person):\n",
    "            return False\n",
    "        return (\n",
    "            self.name== other.name and\n",
    "            self.surname== other.surname and\n",
    "            self.age== other.age\n",
    "        )\n",
    "\n",
    "# Traditional class usage\n",
    "person1= Person('mark','biegert',66)\n",
    "print(person1)  # Gets the representation of the class through the __repr__ method\n",
    "\n",
    "# Equality check\n",
    "person2 = Person('craig','biegert',60)\n",
    "print(person1 == person2)  # We can check equality using the __eq__ method"
   ]
  },
  {
   "cell_type": "code",
   "execution_count": 10,
   "id": "44f68189",
   "metadata": {},
   "outputs": [
    {
     "name": "stdout",
     "output_type": "stream",
     "text": [
      "Person(name='Jim', surname='Smith', age=25)\n",
      "False\n",
      "True\n"
     ]
    }
   ],
   "source": [
    "from dataclasses import dataclass\n",
    "\n",
    "@dataclass\n",
    "class Person:\n",
    "    name: str\n",
    "    surname: str\n",
    "    age: int = 0\n",
    "\n",
    "# Dataclass usage\n",
    "person1= Person(\"Jim\", \"Smith\", 25)\n",
    "print(person1)  # Gets the representation of the class thanks to the automatically generated __repr__ method\n",
    "\n",
    "# Equality check\n",
    "person2 = Person(\"Jack\", \"Smith\", 24)\n",
    "print(person1 == person2)  # We can check equality thanks to the automatically created __eq__ method\n",
    "\n",
    "# Equality check\n",
    "person3 = Person(\"Jim\", \"Smith\", 25)\n",
    "print(person1 == person3)  # We can check equality thanks to the automatically created __eq__ method"
   ]
  }
 ],
 "metadata": {
  "kernelspec": {
   "display_name": "Python 3 (ipykernel)",
   "language": "python",
   "name": "python3"
  },
  "language_info": {
   "codemirror_mode": {
    "name": "ipython",
    "version": 3
   },
   "file_extension": ".py",
   "mimetype": "text/x-python",
   "name": "python",
   "nbconvert_exporter": "python",
   "pygments_lexer": "ipython3",
   "version": "3.9.7"
  }
 },
 "nbformat": 4,
 "nbformat_minor": 5
}
