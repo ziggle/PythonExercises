{
 "cells": [
  {
   "cell_type": "markdown",
   "id": "448e687b",
   "metadata": {},
   "source": [
    "https://levelup.gitconnected.com/principal-component-analysis-with-python-92acceb29068"
   ]
  },
  {
   "cell_type": "code",
   "execution_count": 1,
   "id": "d269e5db",
   "metadata": {},
   "outputs": [],
   "source": [
    "import numpy as np\n",
    "import pandas as pd\n",
    "import matplotlib.pyplot as plt\n",
    "from sklearn.preprocessing import StandardScaler\n",
    "\n",
    "color='#4e6c50'"
   ]
  },
  {
   "cell_type": "code",
   "execution_count": 7,
   "id": "092be3b7",
   "metadata": {},
   "outputs": [
    {
     "name": "stdout",
     "output_type": "stream",
     "text": [
      "(2240, 15)\n"
     ]
    },
    {
     "data": {
      "text/html": [
       "<div>\n",
       "<style scoped>\n",
       "    .dataframe tbody tr th:only-of-type {\n",
       "        vertical-align: middle;\n",
       "    }\n",
       "\n",
       "    .dataframe tbody tr th {\n",
       "        vertical-align: top;\n",
       "    }\n",
       "\n",
       "    .dataframe thead th {\n",
       "        text-align: right;\n",
       "    }\n",
       "</style>\n",
       "<table border=\"1\" class=\"dataframe\">\n",
       "  <thead>\n",
       "    <tr style=\"text-align: right;\">\n",
       "      <th></th>\n",
       "      <th>Income</th>\n",
       "      <th>Kidhome</th>\n",
       "      <th>Teenhome</th>\n",
       "      <th>Recency</th>\n",
       "      <th>MntWines</th>\n",
       "      <th>MntFruits</th>\n",
       "      <th>MntMeatProducts</th>\n",
       "      <th>MntFishProducts</th>\n",
       "      <th>MntSweetProducts</th>\n",
       "      <th>MntGoldProds</th>\n",
       "      <th>NumDealsPurchases</th>\n",
       "      <th>NumWebPurchases</th>\n",
       "      <th>NumCatalogPurchases</th>\n",
       "      <th>NumStorePurchases</th>\n",
       "      <th>NumWebVisitsMonth</th>\n",
       "    </tr>\n",
       "  </thead>\n",
       "  <tbody>\n",
       "    <tr>\n",
       "      <th>0</th>\n",
       "      <td>58138.0</td>\n",
       "      <td>0</td>\n",
       "      <td>0</td>\n",
       "      <td>58</td>\n",
       "      <td>635</td>\n",
       "      <td>88</td>\n",
       "      <td>546</td>\n",
       "      <td>172</td>\n",
       "      <td>88</td>\n",
       "      <td>88</td>\n",
       "      <td>3</td>\n",
       "      <td>8</td>\n",
       "      <td>10</td>\n",
       "      <td>4</td>\n",
       "      <td>7</td>\n",
       "    </tr>\n",
       "    <tr>\n",
       "      <th>1</th>\n",
       "      <td>46344.0</td>\n",
       "      <td>1</td>\n",
       "      <td>1</td>\n",
       "      <td>38</td>\n",
       "      <td>11</td>\n",
       "      <td>1</td>\n",
       "      <td>6</td>\n",
       "      <td>2</td>\n",
       "      <td>1</td>\n",
       "      <td>6</td>\n",
       "      <td>2</td>\n",
       "      <td>1</td>\n",
       "      <td>1</td>\n",
       "      <td>2</td>\n",
       "      <td>5</td>\n",
       "    </tr>\n",
       "    <tr>\n",
       "      <th>2</th>\n",
       "      <td>71613.0</td>\n",
       "      <td>0</td>\n",
       "      <td>0</td>\n",
       "      <td>26</td>\n",
       "      <td>426</td>\n",
       "      <td>49</td>\n",
       "      <td>127</td>\n",
       "      <td>111</td>\n",
       "      <td>21</td>\n",
       "      <td>42</td>\n",
       "      <td>1</td>\n",
       "      <td>8</td>\n",
       "      <td>2</td>\n",
       "      <td>10</td>\n",
       "      <td>4</td>\n",
       "    </tr>\n",
       "    <tr>\n",
       "      <th>3</th>\n",
       "      <td>26646.0</td>\n",
       "      <td>1</td>\n",
       "      <td>0</td>\n",
       "      <td>26</td>\n",
       "      <td>11</td>\n",
       "      <td>4</td>\n",
       "      <td>20</td>\n",
       "      <td>10</td>\n",
       "      <td>3</td>\n",
       "      <td>5</td>\n",
       "      <td>2</td>\n",
       "      <td>2</td>\n",
       "      <td>0</td>\n",
       "      <td>4</td>\n",
       "      <td>6</td>\n",
       "    </tr>\n",
       "    <tr>\n",
       "      <th>4</th>\n",
       "      <td>58293.0</td>\n",
       "      <td>1</td>\n",
       "      <td>0</td>\n",
       "      <td>94</td>\n",
       "      <td>173</td>\n",
       "      <td>43</td>\n",
       "      <td>118</td>\n",
       "      <td>46</td>\n",
       "      <td>27</td>\n",
       "      <td>15</td>\n",
       "      <td>5</td>\n",
       "      <td>5</td>\n",
       "      <td>3</td>\n",
       "      <td>6</td>\n",
       "      <td>5</td>\n",
       "    </tr>\n",
       "  </tbody>\n",
       "</table>\n",
       "</div>"
      ],
      "text/plain": [
       "    Income  Kidhome  Teenhome  Recency  MntWines  MntFruits  MntMeatProducts  \\\n",
       "0  58138.0        0         0       58       635         88              546   \n",
       "1  46344.0        1         1       38        11          1                6   \n",
       "2  71613.0        0         0       26       426         49              127   \n",
       "3  26646.0        1         0       26        11          4               20   \n",
       "4  58293.0        1         0       94       173         43              118   \n",
       "\n",
       "   MntFishProducts  MntSweetProducts  MntGoldProds  NumDealsPurchases  \\\n",
       "0              172                88            88                  3   \n",
       "1                2                 1             6                  2   \n",
       "2              111                21            42                  1   \n",
       "3               10                 3             5                  2   \n",
       "4               46                27            15                  5   \n",
       "\n",
       "   NumWebPurchases  NumCatalogPurchases  NumStorePurchases  NumWebVisitsMonth  \n",
       "0                8                   10                  4                  7  \n",
       "1                1                    1                  2                  5  \n",
       "2                8                    2                 10                  4  \n",
       "3                2                    0                  4                  6  \n",
       "4                5                    3                  6                  5  "
      ]
     },
     "execution_count": 7,
     "metadata": {},
     "output_type": "execute_result"
    }
   ],
   "source": [
    "cols = ['Income',\n",
    "        'Kidhome',\n",
    "        'Teenhome',\n",
    "        'Recency',\n",
    "        'NumWebVisitsMonth',\n",
    "        'MntWines',\n",
    "        'MntFruits',\n",
    "        'MntMeatProducts',\n",
    "        'MntFishProducts',\n",
    "        'MntSweetProducts',\n",
    "        'MntGoldProds',\n",
    "        'NumDealsPurchases',\n",
    "        'NumWebPurchases',\n",
    "        'NumCatalogPurchases',\n",
    "        'NumStorePurchases',\n",
    "        'NumWebVisitsMonth']\n",
    "\n",
    "data = pd.read_csv('marketing_campaign.csv', sep='\\t', usecols=cols)\n",
    "\n",
    "data = data.fillna(data.median(numeric_only=True))\n",
    "\n",
    "print(data.shape)\n",
    "data.head()"
   ]
  },
  {
   "cell_type": "code",
   "execution_count": 9,
   "id": "14518170",
   "metadata": {},
   "outputs": [
    {
     "name": "stdout",
     "output_type": "stream",
     "text": [
      "<class 'numpy.ndarray'>\n"
     ]
    }
   ],
   "source": [
    "# Scaling data\n",
    "X = data.to_numpy()\n",
    "print(type(X))\n",
    "scaler = StandardScaler()\n",
    "X_scaled = scaler.fit_transform(X)"
   ]
  },
  {
   "cell_type": "markdown",
   "id": "569e4a09",
   "metadata": {},
   "source": [
    "# PCA from scratch"
   ]
  },
  {
   "cell_type": "code",
   "execution_count": 10,
   "id": "69bb0a70",
   "metadata": {},
   "outputs": [],
   "source": [
    "# Covariance matrix\n",
    "cov_matrix = np.cov(X_scaled.T)\n",
    "\n",
    "# Eigendecomposition\n",
    "eigenvalues, eigenvectors = np.linalg.eig(cov_matrix)\n",
    "\n",
    "# Explained variance\n",
    "explained_variances = eigenvalues / np.sum(eigenvalues)\n",
    "cum_sum_var = np.cumsum(explained_variances)\n",
    "\n",
    "# Principal components\n",
    "PC = np.asarray(\n",
    "    [X_scaled.dot(eigenvectors.T[i]) for i in range(len(eigenvectors))]\n",
    ").T"
   ]
  },
  {
   "cell_type": "code",
   "execution_count": 11,
   "id": "f779f6b3",
   "metadata": {},
   "outputs": [
    {
     "data": {
      "image/png": "[encoded data removed]",
      "text/plain": [
       "<Figure size 1200x400 with 1 Axes>"
      ]
     },
     "metadata": {},
     "output_type": "display_data"
    }
   ],
   "source": [
    "x_axis = range(1, len(cum_sum_var)+1)\n",
    "plt.figure(figsize=(12,4))\n",
    "plt.bar(x_axis, explained_variances, label='Individual', color=color)\n",
    "plt.step(x_axis, cum_sum_var,label='Cumulative', color=color)\n",
    "plt.title('Explained variance')\n",
    "plt.ylabel('Ratio of explained variance')\n",
    "plt.xlabel('Principal component')\n",
    "plt.legend()\n",
    "plt.xticks(x_axis)\n",
    "plt.show()"
   ]
  },
  {
   "cell_type": "markdown",
   "id": "a0f03668",
   "metadata": {},
   "source": [
    "# PCA with scikit-learn "
   ]
  },
  {
   "cell_type": "code",
   "execution_count": 12,
   "id": "fba69cb5",
   "metadata": {},
   "outputs": [],
   "source": [
    "from sklearn.decomposition import PCA\n",
    "\n",
    "# PCA\n",
    "pca = PCA()\n",
    "PC = pca.fit_transform(X_scaled)\n",
    "\n",
    "# Explained variance\n",
    "explained_variances = pca.explained_variance_ratio_\n",
    "cum_sum_var = np.cumsum(explained_variances)"
   ]
  },
  {
   "cell_type": "code",
   "execution_count": 13,
   "id": "cacd733c",
   "metadata": {},
   "outputs": [
    {
     "data": {
      "image/png": "[encoded data removed]",
      "text/plain": [
       "<Figure size 1200x400 with 1 Axes>"
      ]
     },
     "metadata": {},
     "output_type": "display_data"
    }
   ],
   "source": [
    "x_axis = range(1, len(cum_sum_var)+1)\n",
    "plt.figure(figsize=(12,4))\n",
    "plt.bar(x_axis, explained_variances, label='Individual', color=color)\n",
    "plt.step(x_axis, cum_sum_var,label='Cumulative', color=color)\n",
    "plt.title('Explained variance')\n",
    "plt.ylabel('Ratio of explained variance')\n",
    "plt.xlabel('Principal component')\n",
    "plt.legend()\n",
    "plt.xticks(x_axis)\n",
    "plt.show()"
   ]
  }
 ],
 "metadata": {
  "kernelspec": {
   "display_name": "Python 3 (ipykernel)",
   "language": "python",
   "name": "python3"
  },
  "language_info": {
   "codemirror_mode": {
    "name": "ipython",
    "version": 3
   },
   "file_extension": ".py",
   "mimetype": "text/x-python",
   "name": "python",
   "nbconvert_exporter": "python",
   "pygments_lexer": "ipython3",
   "version": "3.11.7"
  }
 },
 "nbformat": 4,
 "nbformat_minor": 5
}
