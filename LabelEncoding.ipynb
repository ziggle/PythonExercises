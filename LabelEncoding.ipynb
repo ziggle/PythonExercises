{
 "cells": [
  {
   "cell_type": "markdown",
   "metadata": {},
   "source": [
    "https://medium.com/@annettedolph/5-simple-techniques-for-working-with-categorical-data-in-python-75612fe4e98d"
   ]
  },
  {
   "cell_type": "code",
   "execution_count": 1,
   "metadata": {},
   "outputs": [
    {
     "name": "stdout",
     "output_type": "stream",
     "text": [
      "    Category  Category_LabelEncoded\n",
      "0  Very Poor                      4\n",
      "1       Poor                      2\n",
      "2    Neutral                      1\n",
      "3       Good                      0\n",
      "4  Very Good                      3\n"
     ]
    }
   ],
   "source": [
    "import pandas as pd\n",
    "from sklearn.preprocessing import LabelEncoder\n",
    "\n",
    "# Sample Data\n",
    "data = {'Category': ['Very Poor', 'Poor', 'Neutral', 'Good', 'Very Good']}\n",
    "df = pd.DataFrame(data)\n",
    "\n",
    "# Label Encoding\n",
    "label_encoder = LabelEncoder()\n",
    "df['Category_LabelEncoded'] = label_encoder.fit_transform(df['Category'])\n",
    "\n",
    "print(df)\n",
    "#\n",
    "# Observe how since no ordinal relationship was defined, it arbitrarily assigned number values\n",
    "#"
   ]
  },
  {
   "cell_type": "code",
   "execution_count": 2,
   "metadata": {},
   "outputs": [
    {
     "name": "stdout",
     "output_type": "stream",
     "text": [
      "    Category  Category_LabelEncoded  Category_OneHot_Good  \\\n",
      "0  Very Poor                      4                 False   \n",
      "1       Poor                      2                 False   \n",
      "2    Neutral                      1                 False   \n",
      "3       Good                      0                  True   \n",
      "4  Very Good                      3                 False   \n",
      "\n",
      "   Category_OneHot_Neutral  Category_OneHot_Poor  Category_OneHot_Very Good  \\\n",
      "0                    False                 False                      False   \n",
      "1                    False                  True                      False   \n",
      "2                     True                 False                      False   \n",
      "3                    False                 False                      False   \n",
      "4                    False                 False                       True   \n",
      "\n",
      "   Category_OneHot_Very Poor  \n",
      "0                       True  \n",
      "1                      False  \n",
      "2                      False  \n",
      "3                      False  \n",
      "4                      False  \n"
     ]
    }
   ],
   "source": [
    "# One-Hot Encoding\n",
    "df_onehot = pd.get_dummies(df['Category'], prefix='Category_OneHot')\n",
    "\n",
    "# Concatenate with the original DataFrame\n",
    "df = pd.concat([df, df_onehot], axis=1)\n",
    "\n",
    "print(df)"
   ]
  },
  {
   "cell_type": "code",
   "execution_count": 4,
   "metadata": {},
   "outputs": [
    {
     "name": "stdout",
     "output_type": "stream",
     "text": [
      "    Category  Category_LabelEncoded  Category_OneHot_Good  \\\n",
      "0  Very Poor                      4                 False   \n",
      "1       Poor                      2                 False   \n",
      "2    Neutral                      1                 False   \n",
      "3       Good                      0                  True   \n",
      "4  Very Good                      3                 False   \n",
      "\n",
      "   Category_OneHot_Neutral  Category_OneHot_Poor  Category_OneHot_Very Good  \\\n",
      "0                    False                 False                      False   \n",
      "1                    False                  True                      False   \n",
      "2                     True                 False                      False   \n",
      "3                    False                 False                      False   \n",
      "4                    False                 False                       True   \n",
      "\n",
      "   Category_OneHot_Very Poor  Category_OrdinalEncoded  \n",
      "0                       True                        1  \n",
      "1                      False                        2  \n",
      "2                      False                        3  \n",
      "3                      False                        4  \n",
      "4                      False                        5  \n"
     ]
    }
   ],
   "source": [
    "# Ordinal Encoding\n",
    "ordinal_mapping = {'Very Poor': 1, 'Poor': 2, 'Neutral': 3,'Good': 4, 'Very Good':5}\n",
    "df['Category_OrdinalEncoded'] = df['Category'].map(ordinal_mapping)\n",
    "\n",
    "print(df)"
   ]
  },
  {
   "cell_type": "code",
   "execution_count": 5,
   "metadata": {},
   "outputs": [
    {
     "name": "stdout",
     "output_type": "stream",
     "text": [
      "    Category  Category_LabelEncoded  Category_OneHot_Good  \\\n",
      "0  Very Poor                      4                 False   \n",
      "1       Poor                      2                 False   \n",
      "2    Neutral                      1                 False   \n",
      "3       Good                      0                  True   \n",
      "4  Very Good                      3                 False   \n",
      "\n",
      "   Category_OneHot_Neutral  Category_OneHot_Poor  Category_OneHot_Very Good  \\\n",
      "0                    False                 False                      False   \n",
      "1                    False                  True                      False   \n",
      "2                     True                 False                      False   \n",
      "3                    False                 False                      False   \n",
      "4                    False                 False                       True   \n",
      "\n",
      "   Category_OneHot_Very Poor  Category_OrdinalEncoded  \\\n",
      "0                       True                        1   \n",
      "1                      False                        2   \n",
      "2                      False                        3   \n",
      "3                      False                        4   \n",
      "4                      False                        5   \n",
      "\n",
      "   Category_FrequencyEncoded  \n",
      "0                        0.2  \n",
      "1                        0.2  \n",
      "2                        0.2  \n",
      "3                        0.2  \n",
      "4                        0.2  \n"
     ]
    }
   ],
   "source": [
    "# Frequency Encoding\n",
    "frequency_encoding = df['Category'].value_counts(normalize=True)\n",
    "df['Category_FrequencyEncoded'] = df['Category'].map(frequency_encoding)\n",
    "\n",
    "print(df)"
   ]
  },
  {
   "cell_type": "code",
   "execution_count": 6,
   "metadata": {},
   "outputs": [
    {
     "name": "stdout",
     "output_type": "stream",
     "text": [
      "    Category  Category_LabelEncoded  Category_OneHot_Good  \\\n",
      "0  Very Poor                      4                 False   \n",
      "1       Poor                      2                 False   \n",
      "2    Neutral                      1                 False   \n",
      "3       Good                      0                  True   \n",
      "4  Very Good                      3                 False   \n",
      "\n",
      "   Category_OneHot_Neutral  Category_OneHot_Poor  Category_OneHot_Very Good  \\\n",
      "0                    False                 False                      False   \n",
      "1                    False                  True                      False   \n",
      "2                     True                 False                      False   \n",
      "3                    False                 False                      False   \n",
      "4                    False                 False                       True   \n",
      "\n",
      "   Category_OneHot_Very Poor  Category_OrdinalEncoded  \\\n",
      "0                       True                        1   \n",
      "1                      False                        2   \n",
      "2                      False                        3   \n",
      "3                      False                        4   \n",
      "4                      False                        5   \n",
      "\n",
      "   Category_FrequencyEncoded  Category_TargetEncoded  \n",
      "0                        0.2                      10  \n",
      "1                        0.2                      15  \n",
      "2                        0.2                      12  \n",
      "3                        0.2                       8  \n",
      "4                        0.2                      14  \n"
     ]
    }
   ],
   "source": [
    "# Sample Target Variable\n",
    "target = [10, 15, 12, 8, 14]\n",
    "\n",
    "# Target Encoding\n",
    "df['Category_TargetEncoded'] = df['Category'].map(dict(zip(df['Category'], target)))\n",
    "\n",
    "print(df)"
   ]
  },
  {
   "cell_type": "code",
   "execution_count": 9,
   "metadata": {},
   "outputs": [
    {
     "name": "stdout",
     "output_type": "stream",
     "text": [
      "[('Very Poor', 10), ('Poor', 15), ('Neutral', 12), ('Good', 8), ('Very Good', 14)]\n"
     ]
    }
   ],
   "source": [
    "zzz=zip(df['Category'], target)\n",
    "print(list(zzz))\n"
   ]
  },
  {
   "cell_type": "code",
   "execution_count": null,
   "metadata": {},
   "outputs": [],
   "source": []
  }
 ],
 "metadata": {
  "kernelspec": {
   "display_name": "Python 3",
   "language": "python",
   "name": "python3"
  },
  "language_info": {
   "codemirror_mode": {
    "name": "ipython",
    "version": 3
   },
   "file_extension": ".py",
   "mimetype": "text/x-python",
   "name": "python",
   "nbconvert_exporter": "python",
   "pygments_lexer": "ipython3",
   "version": "3.11.6"
  }
 },
 "nbformat": 4,
 "nbformat_minor": 2
}
