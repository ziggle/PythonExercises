{
 "cells": [
  {
   "attachments": {},
   "cell_type": "markdown",
   "metadata": {},
   "source": [
    "https://medium.com/codex/python-one-liner-functions-you-should-know-and-implement-db6afec1df70"
   ]
  },
  {
   "cell_type": "code",
   "execution_count": 2,
   "metadata": {},
   "outputs": [
    {
     "name": "stdout",
     "output_type": "stream",
     "text": [
      "0        Math\n",
      "1     Science\n",
      "2    Computer\n",
      "dtype: object\n",
      "0    Algebra\n",
      "1    Physics\n",
      "2     Python\n",
      "dtype: object\n"
     ]
    }
   ],
   "source": [
    "#import packages \n",
    "import pandas as pd\n",
    "import numpy as np\n",
    "# creating a series \n",
    "s = pd.Series(['Math', 'Science', 'Computer'])\n",
    "print(s)\n",
    "# Output of s\n",
    "#0        Math\n",
    "#1     Science\n",
    "#2    Computer\n",
    "# mapping value of a series \n",
    "s = s.map({'Math': 'Algebra', 'Science':'Physics', 'Computer': 'Python'})\n",
    "print(s)\n",
    "# output \n",
    "#0    Algebra\n",
    "#1    Physics\n",
    "#2     Python"
   ]
  },
  {
   "cell_type": "code",
   "execution_count": 6,
   "metadata": {},
   "outputs": [
    {
     "name": "stdout",
     "output_type": "stream",
     "text": [
      "    Name  Salary_USD_thousands        Education\n",
      "0   John                   100      HS Graduate\n",
      "1   Ryan                    70  1to2_yr_college\n",
      "2  Rajat                   150  3to4_yr_college\n",
      "3   Chen                   140         Graduate\n"
     ]
    }
   ],
   "source": [
    "Salary = pd.DataFrame({\"Name\":[\"John\",\"Ryan\",\"Rajat\",\"Chen\"],\"Salary_USD_thousands\":[100,70,150,140],\"Education\":[\"HS Graduate\",\"1to2_yr_college\",\"3to4_yr_college\",\"Graduate\"]})\n",
    "print(df)"
   ]
  },
  {
   "cell_type": "code",
   "execution_count": 8,
   "metadata": {},
   "outputs": [
    {
     "name": "stdout",
     "output_type": "stream",
     "text": [
      "    Name  Salary_USD_thousands        Education  Education_ordinal\n",
      "0   John                   100      HS Graduate                  1\n",
      "1   Ryan                    70  1to2_yr_college                  2\n",
      "2  Rajat                   150  3to4_yr_college                  3\n",
      "3   Chen                   140         Graduate                  4\n"
     ]
    }
   ],
   "source": [
    "Salary['Education_ordinal'] = Salary['Education'].\\\n",
    "                   map({'HS Graduate':1,'1to2_yr_college':2,\n",
    "                        '3to4_yr_college':3,'Graduate':4})\n",
    "print(Salary)"
   ]
  },
  {
   "cell_type": "code",
   "execution_count": 12,
   "metadata": {},
   "outputs": [
    {
     "name": "stdout",
     "output_type": "stream",
     "text": [
      "                feature_A       feature_B\n",
      "0                   Great  didn't like it\n",
      "1                Loved it             Bad\n",
      "2  Could have been better        not good\n"
     ]
    }
   ],
   "source": [
    "review = pd.DataFrame({\"feature_A\":[\"Great\",\"Loved it\",\"Could have been better\"],\"feature_B\":[\"didn't like it\",\"Bad\",\"not good\"]})\n",
    "print(review)"
   ]
  },
  {
   "cell_type": "code",
   "execution_count": 13,
   "metadata": {},
   "outputs": [
    {
     "name": "stdout",
     "output_type": "stream",
     "text": [
      "   feature_A  feature_B\n",
      "0          5         14\n",
      "1          8          3\n",
      "2         22          8\n"
     ]
    }
   ],
   "source": [
    "#import packages \n",
    "import pandas as pd\n",
    "import numpy as np\n",
    "review = review.applymap(lambda x: len(x))\n",
    "print(review)"
   ]
  },
  {
   "cell_type": "code",
   "execution_count": 14,
   "metadata": {},
   "outputs": [
    {
     "name": "stdout",
     "output_type": "stream",
     "text": [
      "    x   y  z\n",
      "0   1   9  2\n",
      "1   5   7  3\n",
      "2  10   8  3\n",
      "3   7  10  4\n",
      "4   8   5  8\n",
      "5   3   8  4\n"
     ]
    }
   ],
   "source": [
    "measurement=pd.DataFrame({\"x\":[1,5,10,7,8,3],\"y\":[9,7,8,10,5,8],\"z\":[2,3,3,4,8,4]})\n",
    "print(measurement)"
   ]
  },
  {
   "cell_type": "code",
   "execution_count": 16,
   "metadata": {},
   "outputs": [
    {
     "name": "stdout",
     "output_type": "stream",
     "text": [
      "     x    y   z\n",
      "0    1   81   4\n",
      "1   25   49   9\n",
      "2  100   64   9\n",
      "3   49  100  16\n",
      "4   64   25  64\n",
      "5    9   64  16\n"
     ]
    }
   ],
   "source": [
    "measurement_sq = measurement.apply(np.square)\n",
    "print(measurement_sq)"
   ]
  },
  {
   "cell_type": "code",
   "execution_count": 17,
   "metadata": {},
   "outputs": [
    {
     "name": "stdout",
     "output_type": "stream",
     "text": [
      "x    34\n",
      "y    47\n",
      "z    24\n",
      "dtype: int64\n"
     ]
    }
   ],
   "source": [
    "measurement_col = measurement.apply(np.sum, axis = 0)\n",
    "print(measurement_col)"
   ]
  },
  {
   "cell_type": "code",
   "execution_count": 18,
   "metadata": {},
   "outputs": [
    {
     "name": "stdout",
     "output_type": "stream",
     "text": [
      "0    12\n",
      "1    15\n",
      "2    21\n",
      "3    21\n",
      "4    21\n",
      "5    15\n",
      "dtype: int64\n"
     ]
    }
   ],
   "source": [
    "measurement_row = measurement.apply(np.sum, axis = 1)\n",
    "print(measurement_row)"
   ]
  },
  {
   "cell_type": "code",
   "execution_count": null,
   "metadata": {},
   "outputs": [],
   "source": []
  }
 ],
 "metadata": {
  "kernelspec": {
   "display_name": "Python 3",
   "language": "python",
   "name": "python3"
  },
  "language_info": {
   "codemirror_mode": {
    "name": "ipython",
    "version": 3
   },
   "file_extension": ".py",
   "mimetype": "text/x-python",
   "name": "python",
   "nbconvert_exporter": "python",
   "pygments_lexer": "ipython3",
   "version": "3.11.3"
  },
  "orig_nbformat": 4
 },
 "nbformat": 4,
 "nbformat_minor": 2
}
