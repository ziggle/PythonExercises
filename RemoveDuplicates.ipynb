{
 "cells": [
  {
   "attachments": {},
   "cell_type": "markdown",
   "metadata": {},
   "source": [
    "https://blog.devgenius.io/how-to-remove-duplicates-in-python-pandas-step-by-step-tutorial-9115ca6ea6a3"
   ]
  },
  {
   "cell_type": "code",
   "execution_count": 1,
   "metadata": {},
   "outputs": [
    {
     "name": "stdout",
     "output_type": "stream",
     "text": [
      "    name  age      city\n",
      "0   John   25  New York\n",
      "1  Peter   36    London\n",
      "2  Sarah   29     Paris\n",
      "3  Peter   36    London\n"
     ]
    }
   ],
   "source": [
    "import pandas as pd\n",
    "data = {'name': ['John', 'Peter', 'Sarah', 'Peter'],\n",
    "        'age': [25, 36, 29, 36],\n",
    "        'city': ['New York', 'London', 'Paris', 'London']}\n",
    "df = pd.DataFrame(data)\n",
    "print(df)"
   ]
  },
  {
   "cell_type": "code",
   "execution_count": 2,
   "metadata": {},
   "outputs": [
    {
     "name": "stdout",
     "output_type": "stream",
     "text": [
      "0    False\n",
      "1    False\n",
      "2    False\n",
      "3     True\n",
      "dtype: bool\n"
     ]
    }
   ],
   "source": [
    "duplicates = df.duplicated()\n",
    "print(duplicates)"
   ]
  },
  {
   "cell_type": "code",
   "execution_count": 3,
   "metadata": {},
   "outputs": [
    {
     "name": "stdout",
     "output_type": "stream",
     "text": [
      "    name  age      city\n",
      "0   John   25  New York\n",
      "1  Peter   36    London\n",
      "2  Sarah   29     Paris\n"
     ]
    }
   ],
   "source": [
    "df.drop_duplicates(subset=['name'], inplace=True)\n",
    "print(df)"
   ]
  }
 ],
 "metadata": {
  "kernelspec": {
   "display_name": "Python 3",
   "language": "python",
   "name": "python3"
  },
  "language_info": {
   "codemirror_mode": {
    "name": "ipython",
    "version": 3
   },
   "file_extension": ".py",
   "mimetype": "text/x-python",
   "name": "python",
   "nbconvert_exporter": "python",
   "pygments_lexer": "ipython3",
   "version": "3.11.3"
  },
  "orig_nbformat": 4
 },
 "nbformat": 4,
 "nbformat_minor": 2
}
