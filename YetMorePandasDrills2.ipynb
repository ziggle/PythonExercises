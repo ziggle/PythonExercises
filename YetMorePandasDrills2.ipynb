{
 "cells": [
  {
   "attachments": {},
   "cell_type": "markdown",
   "metadata": {},
   "source": [
    "https://medium.com/@hfahmida/interesting-ways-you-can-use-groupby-and-aggregate-functions-python-pandas-509439ec453b"
   ]
  },
  {
   "cell_type": "code",
   "execution_count": 3,
   "metadata": {},
   "outputs": [],
   "source": [
    "import pandas as pd"
   ]
  },
  {
   "cell_type": "code",
   "execution_count": 5,
   "metadata": {},
   "outputs": [
    {
     "name": "stdout",
     "output_type": "stream",
     "text": [
      "Category\n",
      "A    3\n",
      "B    3\n",
      "dtype: int64\n"
     ]
    }
   ],
   "source": [
    "# Create a sample DataFrame\n",
    "data = {'Category': ['A', 'A', 'B', 'B', 'A', 'B'],\n",
    "        'Value': [10, 15, 20, 12, 18, 25]}\n",
    "df = pd.DataFrame(data)\n",
    "# Example 1: Summarize categorical data\n",
    "category_counts = df.groupby('Category').size()\n",
    "print(category_counts)\n",
    "# Output:\n",
    "# Category\n",
    "# A    3\n",
    "# B    3\n",
    "# dtype: int64\n"
   ]
  },
  {
   "cell_type": "code",
   "execution_count": 6,
   "metadata": {},
   "outputs": [
    {
     "name": "stdout",
     "output_type": "stream",
     "text": [
      "              Value        \n",
      "               mean min max\n",
      "Category                   \n",
      "A         14.333333  10  18\n",
      "B         19.000000  12  25\n"
     ]
    }
   ],
   "source": [
    "# Example 2: Calculate group-wise statistics\n",
    "category_stats = df.groupby('Category').agg({'Value': ['mean', 'min', 'max']})\n",
    "print(category_stats)\n",
    "# Output:\n",
    "#            Value\n",
    "#             mean min max\n",
    "# Category\n",
    "# A           14.3  10  18\n",
    "# B           19.0  12  25\n"
   ]
  },
  {
   "cell_type": "code",
   "execution_count": null,
   "metadata": {},
   "outputs": [],
   "source": [
    "df['Date'] = pd.to_datetime(df['Date'])\n",
    "monthly_sales = df.groupby(pd.Grouper(key='Date', freq='M')).sum()\n",
    "print(monthly_sales)\n",
    "# Output:\n",
    "#             Value\n",
    "# Date\n",
    "# 2023-01-31     25\n",
    "# 2023-02-28     35\n",
    "# ...\n",
    "# Example 4: Identify top groups\n"
   ]
  },
  {
   "cell_type": "code",
   "execution_count": 7,
   "metadata": {},
   "outputs": [
    {
     "name": "stdout",
     "output_type": "stream",
     "text": [
      "          Value\n",
      "Category       \n",
      "B            57\n",
      "A            43\n"
     ]
    }
   ],
   "source": [
    "# Example 3: Time-based analysis\n",
    "# Assuming the DataFrame has a 'Date' column\n",
    "\n",
    "top_categories = df.groupby('Category').agg({'Value': 'sum'}).nlargest(2, 'Value')\n",
    "print(top_categories)\n",
    "# Output:\n",
    "#           Value\n",
    "# Category\n",
    "# B            57\n",
    "# A            43\n"
   ]
  },
  {
   "cell_type": "code",
   "execution_count": 14,
   "metadata": {},
   "outputs": [
    {
     "name": "stdout",
     "output_type": "stream",
     "text": [
      "          Value\n",
      "Category       \n",
      "A             8\n",
      "B            13\n"
     ]
    }
   ],
   "source": [
    "# Example 5: Custom aggregations\n",
    "def custom_agg(x):\n",
    "    return x.max() - x.min()\n",
    "custom_agg_result = df.groupby('Category').agg({'Value': custom_agg})\n",
    "print(custom_agg_result)\n",
    "# Output:\n",
    "#            Value\n",
    "# Category\n",
    "# A              8\n",
    "# B             13"
   ]
  },
  {
   "cell_type": "code",
   "execution_count": 16,
   "metadata": {},
   "outputs": [
    {
     "name": "stdout",
     "output_type": "stream",
     "text": [
      "                      Value\n",
      "Category Subcategory       \n",
      "A        X             14.0\n",
      "         Y             15.0\n",
      "B        X             20.0\n",
      "         Y             18.5\n"
     ]
    }
   ],
   "source": [
    "# Example 6: Multi-level grouping\n",
    "data = {'Category': ['A', 'A', 'B', 'B', 'A', 'B'],'Subcategory':['X','Y','X','Y','X','Y'],\n",
    "        'Value': [10, 15, 20, 12, 18, 25]}\n",
    "df = pd.DataFrame(data)\n",
    "multi_level_grouping = df.groupby(['Category', 'Subcategory']).mean()\n",
    "print(multi_level_grouping)\n",
    "# Output:\n",
    "#                      Value\n",
    "# Category Subcategory\n",
    "# A        X              10\n",
    "#          Y              15\n",
    "# B        X              18\n",
    "#          Y              25"
   ]
  },
  {
   "cell_type": "code",
   "execution_count": 17,
   "metadata": {},
   "outputs": [
    {
     "name": "stdout",
     "output_type": "stream",
     "text": [
      "         Value                     \n",
      "           sum       mean       std\n",
      "Category                           \n",
      "A           43  14.333333  4.041452\n",
      "B           57  19.000000  6.557439\n"
     ]
    }
   ],
   "source": [
    "# Example 7: Apply multiple aggregations simultaneously\n",
    "multiple_aggregations = df.groupby('Category').agg({'Value': ['sum', 'mean', 'std']})\n",
    "print(multiple_aggregations)\n",
    "# Output:\n",
    "#          Value\n",
    "#            sum  mean       std\n",
    "# Category\n",
    "# A           43  14.3  4.714045\n",
    "# B           57  19.0  4.582576\n"
   ]
  },
  {
   "cell_type": "code",
   "execution_count": 18,
   "metadata": {},
   "outputs": [
    {
     "name": "stdout",
     "output_type": "stream",
     "text": [
      "  Category Subcategory  Value\n",
      "0        A           X     10\n",
      "1        A           Y     15\n",
      "2        B           X     20\n",
      "3        B           Y     12\n",
      "4        A           X     18\n",
      "5        B           Y     25\n"
     ]
    }
   ],
   "source": [
    "# Example 8: Filtering groups\n",
    "filtered_groups = df.groupby('Category').filter(lambda x: x['Value'].sum() > 40)\n",
    "print(filtered_groups)\n",
    "# Output:\n",
    "#   Category  Value\n",
    "# 0        A     10\n",
    "# 1        A     15\n",
    "# 4        A     18"
   ]
  },
  {
   "cell_type": "code",
   "execution_count": 19,
   "metadata": {},
   "outputs": [],
   "source": [
    "import pandas as pd\n",
    "import matplotlib.pyplot as plt"
   ]
  },
  {
   "cell_type": "code",
   "execution_count": 20,
   "metadata": {},
   "outputs": [
    {
     "data": {
      "image/png": "[encoded data removed]",
      "text/plain": [
       "<Figure size 800x600 with 1 Axes>"
      ]
     },
     "metadata": {},
     "output_type": "display_data"
    }
   ],
   "source": [
    "# Create a sample DataFrame\n",
    "data = {'Category': ['A', 'A', 'B', 'B', 'A', 'B'],\n",
    "        'Value': [10, 15, 20, 12, 18, 25]}\n",
    "df = pd.DataFrame(data)\n",
    "# Calculate group-wise statistics\n",
    "category_stats = df.groupby('Category').agg({'Value': ['mean', 'min', 'max']})\n",
    "# Plotting aggregate values\n",
    "category_stats.plot(kind='bar', figsize=(8, 6))\n",
    "plt.title('Group-wise Statistics')\n",
    "plt.xlabel('Category')\n",
    "plt.ylabel('Value')\n",
    "plt.legend(['Mean', 'Min', 'Max'])\n",
    "plt.show()"
   ]
  }
 ],
 "metadata": {
  "kernelspec": {
   "display_name": "Python 3",
   "language": "python",
   "name": "python3"
  },
  "language_info": {
   "codemirror_mode": {
    "name": "ipython",
    "version": 3
   },
   "file_extension": ".py",
   "mimetype": "text/x-python",
   "name": "python",
   "nbconvert_exporter": "python",
   "pygments_lexer": "ipython3",
   "version": "3.10.9"
  },
  "orig_nbformat": 4
 },
 "nbformat": 4,
 "nbformat_minor": 2
}
