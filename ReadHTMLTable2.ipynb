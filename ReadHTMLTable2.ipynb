{
 "cells": [
  {
   "attachments": {},
   "cell_type": "markdown",
   "metadata": {},
   "source": [
    "A simple drill parsing a table from Hyperwar"
   ]
  },
  {
   "cell_type": "code",
   "execution_count": 74,
   "metadata": {},
   "outputs": [],
   "source": [
    "import pandas as pd\n",
    "import numpy as np\n",
    "import matplotlib.pyplot as plt\n",
    "from unicodedata import normalize\n",
    "\n",
    "table_Aircraft = pd.read_html('https://www.ibiblio.org/hyperwar/AAF/StatDigest/aafsd-3.html')"
   ]
  },
  {
   "cell_type": "code",
   "execution_count": 100,
   "metadata": {},
   "outputs": [
    {
     "name": "stderr",
     "output_type": "stream",
     "text": [
      "C:\\Users\\Mark\\AppData\\Local\\Temp\\ipykernel_26852\\3086613162.py:5: UserWarning: This pattern is interpreted as a regular expression, and has match groups. To actually get the groups, use str.extract.\n",
      "  x=tblT.iloc[2].str.contains('.*(Germany|Japan).*')\n"
     ]
    },
    {
     "data": {
      "text/plain": [
       "'1940'"
      ]
     },
     "metadata": {},
     "output_type": "display_data"
    },
    {
     "data": {
      "text/plain": [
       "MultiIndex([(      'End of Month', '1939'),\n",
       "            (             'Total', '1939'),\n",
       "            ('Very Heavy Bombers', '1939'),\n",
       "            (     'Heavy Bombers', '1939'),\n",
       "            (    'Medium Bombers', '1939'),\n",
       "            (     'Light Bombers', '1939'),\n",
       "            (          'Fighters', '1939'),\n",
       "            (  'Recon- naissance', '1939'),\n",
       "            (        'Transports', '1939'),\n",
       "            (          'Trainers', '1939'),\n",
       "            (  'Communi- cations', '1939')],\n",
       "           )"
      ]
     },
     "execution_count": 100,
     "metadata": {},
     "output_type": "execute_result"
    }
   ],
   "source": [
    "#https://stackoverflow.com/questions/57237193/delete-rows-in-pandas-given-a-regex\n",
    "#display(table_Aircraft[24])\n",
    "tbl = table_Aircraft[24]\n",
    "tblT = tbl.T\n",
    "x=tblT.iloc[2].str.contains('.*(Germany|Japan).*')\n",
    "tblQ = tblT.loc[:,~x].T\n",
    "#display(tblQ.iloc[2,:])\n",
    "#display(tblQ.index)\n",
    "display(tblQ.iloc[6,0])\n",
    "tblQ.columns\n"
   ]
  },
  {
   "cell_type": "code",
   "execution_count": null,
   "metadata": {},
   "outputs": [],
   "source": []
  }
 ],
 "metadata": {
  "kernelspec": {
   "display_name": "Python 3",
   "language": "python",
   "name": "python3"
  },
  "language_info": {
   "codemirror_mode": {
    "name": "ipython",
    "version": 3
   },
   "file_extension": ".py",
   "mimetype": "text/x-python",
   "name": "python",
   "nbconvert_exporter": "python",
   "pygments_lexer": "ipython3",
   "version": "3.11.3"
  },
  "orig_nbformat": 4
 },
 "nbformat": 4,
 "nbformat_minor": 2
}
