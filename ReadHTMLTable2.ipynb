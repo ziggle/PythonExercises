{
 "cells": [
  {
   "attachments": {},
   "cell_type": "markdown",
   "metadata": {},
   "source": [
    "A simple drill parsing a table from Hyperwar"
   ]
  },
  {
   "cell_type": "code",
   "execution_count": 74,
   "metadata": {},
   "outputs": [],
   "source": [
    "import pandas as pd\n",
    "import numpy as np\n",
    "import matplotlib.pyplot as plt\n",
    "from unicodedata import normalize\n",
    "\n",
    "table_Aircraft = pd.read_html('https://www.ibiblio.org/hyperwar/AAF/StatDigest/aafsd-3.html')"
   ]
  },
  {
   "cell_type": "code",
   "execution_count": 251,
   "metadata": {},
   "outputs": [
    {
     "name": "stdout",
     "output_type": "stream",
     "text": [
      "Type        Communications  Fighters  Heavy Bombers  Light Bombers   \n",
      "Date                                                                 \n",
      "1939-07-01               7       494             16            276  \\\n",
      "1939-08-01               7       492             18            276   \n",
      "1939-09-01               7       489             22            278   \n",
      "1939-10-01               7       490             27            277   \n",
      "1939-11-01               7       498             32            275   \n",
      "...                    ...       ...            ...            ...   \n",
      "1945-04-01            3557     17440          12919           2750   \n",
      "1945-05-01            3601     17725          12718           2844   \n",
      "1945-06-01            3417     17703          12221           3063   \n",
      "1945-07-01            3348     17279          11778           3002   \n",
      "1945-08-01            3433     16799          11065           3079   \n",
      "\n",
      "Type        Medium Bombers  Reconnaissance  Trainers  Transports   \n",
      "Date                                                               \n",
      "1939-07-01             400             356       735         118  \\\n",
      "1939-08-01             414             359       745         129   \n",
      "1939-09-01             428             359       754         136   \n",
      "1939-10-01             446             365       758         137   \n",
      "1939-11-01             458             375       755         136   \n",
      "...                    ...             ...       ...         ...   \n",
      "1945-04-01            6022            2007     13494        9540   \n",
      "1945-05-01            5869            2009     12873        9367   \n",
      "1945-06-01            5576           19990     12581        9473   \n",
      "1945-07-01            5523            1977     10671        9593   \n",
      "1945-08-01            5384            1971      9558        9561   \n",
      "\n",
      "Type        Very Heavy Bombers  \n",
      "Date                            \n",
      "1939-07-01                   0  \n",
      "1939-08-01                   0  \n",
      "1939-09-01                   0  \n",
      "1939-10-01                   0  \n",
      "1939-11-01                   0  \n",
      "...                        ...  \n",
      "1945-04-01                1852  \n",
      "1945-05-01                2083  \n",
      "1945-06-01                2374  \n",
      "1945-07-01                2624  \n",
      "1945-08-01                2865  \n",
      "\n",
      "[74 rows x 9 columns]\n"
     ]
    },
    {
     "name": "stderr",
     "output_type": "stream",
     "text": [
      "C:\\Users\\Mark\\AppData\\Local\\Temp\\ipykernel_26852\\574558110.py:6: UserWarning: This pattern is interpreted as a regular expression, and has match groups. To actually get the groups, use str.extract.\n",
      "  x=tblT.iloc[2].str.contains('.*(Germany|Japan|Normandy).*')\n"
     ]
    }
   ],
   "source": [
    "#https://stackoverflow.com/questions/57237193/delete-rows-in-pandas-given-a-regex\n",
    "#display(table_Aircraft[24])\n",
    "from datetime import datetime\n",
    "tbl = table_Aircraft[24]\n",
    "tblT = tbl.T\n",
    "x=tblT.iloc[2].str.contains('.*(Germany|Japan|Normandy).*')\n",
    "tblQ = tblT.loc[:,~x].T\n",
    "#display(tblQ.iloc[2,:])\n",
    "#display(tblQ.index)\n",
    "#display(tblQ.iloc[6,0])\n",
    "z=tblQ.reset_index(drop=True)\n",
    "yy = [i[0] for i in z.columns]\n",
    "z.columns=yy\n",
    "z=z.replace('-',0).drop('Total',axis=1)\n",
    "z.rename(columns={'Communi- cations':'Communications','End of Month':'Month','Recon- naissance':'Reconnaissance'}, inplace=True)\n",
    "z=z.drop([6,19,32,45,58,71],axis=0).reset_index(drop=True)\n",
    "y2 = [1939]*6+[1940]*12+[1941]*12+[1942]*12+[1943]*12+[1944]*12+[1945]*8\n",
    "#print(z.to_string())\n",
    "z['Year']=y2\n",
    "z['Date']=pd.to_datetime(z['Year'].astype(str)+'-'+z['Month'],format='%Y-%b')\n",
    "#print(z)\n",
    "#print(len(y2))\n",
    "q = pd.melt(z,id_vars=['Date','Month','Year'],var_name='Type',value_name='Value')\n",
    "q['Value']=q['Value'].astype(float)\n",
    "#print(q)\n",
    "v = pd.pivot_table(q,index=['Date'],columns='Type',aggfunc=np.sum,values='Value',fill_value=0)\n",
    "print(v)\n",
    "#q.reset_index(['Year','Month'])\n",
    "#v=q.pivot_table(columns='Type',values='value',aggfunc='sum')\n",
    "#print(v)\n",
    "#print(v.dtypes)\n"
   ]
  }
 ],
 "metadata": {
  "kernelspec": {
   "display_name": "Python 3",
   "language": "python",
   "name": "python3"
  },
  "language_info": {
   "codemirror_mode": {
    "name": "ipython",
    "version": 3
   },
   "file_extension": ".py",
   "mimetype": "text/x-python",
   "name": "python",
   "nbconvert_exporter": "python",
   "pygments_lexer": "ipython3",
   "version": "3.11.3"
  },
  "orig_nbformat": 4
 },
 "nbformat": 4,
 "nbformat_minor": 2
}
