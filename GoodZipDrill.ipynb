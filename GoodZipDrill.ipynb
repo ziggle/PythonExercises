{
 "cells": [
  {
   "cell_type": "markdown",
   "metadata": {},
   "source": [
    "https://pythonflood.com/solve-data-alignment-challenges-using-pythons-zip-8e17056a3b2a"
   ]
  },
  {
   "cell_type": "code",
   "execution_count": 1,
   "metadata": {},
   "outputs": [
    {
     "name": "stdout",
     "output_type": "stream",
     "text": [
      "[(1, 'a'), (2, 'b'), (3, 'c'), (4, 'd')]\n",
      "[(1, 4, 7), (2, 5, 8), (3, 6, 9)]\n"
     ]
    }
   ],
   "source": [
    "\n",
    "# Example 1 - Combining two lists\n",
    "list1 = [1, 2, 3, 4]\n",
    "list2 = ['a', 'b', 'c', 'd']\n",
    "zipped = zip(list1, list2)\n",
    "print(list(zipped))\n",
    "\n",
    "# Output: [(1, 'a'), (2, 'b'), (3, 'c'), (4, 'd')]\n",
    "\n",
    "# Example 2 - Combining three lists\n",
    "list1 = [1, 2, 3]\n",
    "list2 = [4, 5, 6]\n",
    "list3 = [7, 8, 9]\n",
    "zipped = zip(list1, list2, list3)\n",
    "print(list(zipped))\n",
    "\n",
    "# Output: [(1, 4, 7), (2, 5, 8), (3, 6, 9)]"
   ]
  },
  {
   "cell_type": "code",
   "execution_count": 2,
   "metadata": {},
   "outputs": [
    {
     "name": "stdout",
     "output_type": "stream",
     "text": [
      "[('a', 'd'), ('b', 'e'), ('c', 'f')]\n",
      "[(1, 'a'), (2, 'b'), (3, 'c')]\n"
     ]
    }
   ],
   "source": [
    "# Example 3 - Combining two strings\n",
    "str1 = \"abc\"\n",
    "str2 = \"def\"\n",
    "zipped = zip(str1, str2)\n",
    "print(list(zipped))\n",
    "\n",
    "# Output: [('a', 'd'), ('b', 'e'), ('c', 'f')]\n",
    "\n",
    "# Example 4 - Combining two sets\n",
    "set1 = {1, 2, 3}\n",
    "set2 = {'a', 'b', 'c'}\n",
    "zipped = zip(set1, set2)\n",
    "print(list(zipped))\n",
    "\n",
    "# Output: [(1, 'a'), (2, 'c'), (3, 'b')]"
   ]
  },
  {
   "cell_type": "code",
   "execution_count": 3,
   "metadata": {},
   "outputs": [
    {
     "name": "stdout",
     "output_type": "stream",
     "text": [
      "[(1, 'a'), (2, 'b'), (3, 'c')]\n"
     ]
    }
   ],
   "source": [
    "# Example 5 - Combining two iterables of different lengths\n",
    "list1 = [1, 2, 3, 4]\n",
    "list2 = ['a', 'b', 'c']\n",
    "zipped = zip(list1, list2)\n",
    "print(list(zipped))\n",
    "\n",
    "# Output: [(1, 'a'), (2, 'b'), (3, 'c')]"
   ]
  },
  {
   "cell_type": "code",
   "execution_count": 4,
   "metadata": {},
   "outputs": [
    {
     "name": "stdout",
     "output_type": "stream",
     "text": [
      "(1, 2, 3)\n",
      "('a', 'b', 'c')\n"
     ]
    }
   ],
   "source": [
    "# Example 6 - Unzipping an iterable object\n",
    "zipped = [(1, 'a'), (2, 'b'), (3, 'c')]\n",
    "list1, list2 = zip(*zipped)\n",
    "print(list1)\n",
    "print(list2)\n",
    "\n",
    "# Output:\n",
    "# [1, 2, 3]\n",
    "# ['a', 'b', 'c']"
   ]
  },
  {
   "cell_type": "code",
   "execution_count": 5,
   "metadata": {},
   "outputs": [
    {
     "name": "stdout",
     "output_type": "stream",
     "text": [
      "{'a': 1, 'b': 2, 'c': 3}\n"
     ]
    }
   ],
   "source": [
    "# Example 7 - Combining two lists to create a dictionary\n",
    "keys = ['a', 'b', 'c']\n",
    "values = [1, 2, 3]\n",
    "dictionary = dict(zip(keys, values))\n",
    "print(dictionary)\n",
    "\n",
    "# Output: {'a': 1, 'b': 2, 'c': 3}"
   ]
  },
  {
   "cell_type": "code",
   "execution_count": 6,
   "metadata": {},
   "outputs": [
    {
     "name": "stdout",
     "output_type": "stream",
     "text": [
      "(1, 'a', 'x')\n",
      "(2, 'b', 'y')\n",
      "(3, 'c', 'z')\n"
     ]
    }
   ],
   "source": [
    "# Example 8 - Using multiple arguments with the zip() function\n",
    "list1 = [1, 2, 3]\n",
    "list2 = ['a', 'b', 'c']\n",
    "list3 = ['x', 'y', 'z']\n",
    "zipped = zip(list1, list2, list3)\n",
    "for item in zipped:\n",
    "    print(item)\n",
    "\n",
    "# Output: \n",
    "# (1, 'a', 'x')\n",
    "# (2, 'b', 'y')\n",
    "# (3, 'c', 'z')"
   ]
  },
  {
   "cell_type": "code",
   "execution_count": 7,
   "metadata": {},
   "outputs": [
    {
     "name": "stdout",
     "output_type": "stream",
     "text": [
      "(1, 'a', 'x')\n",
      "(2, 'b', 'y')\n",
      "(3, 'c', 'z')\n"
     ]
    }
   ],
   "source": [
    "# Example 9 - Using *args and **kwargs with the zip() function\n",
    "def combine(*args):\n",
    "    return zip(*args)\n",
    "\n",
    "list1 = [1, 2, 3]\n",
    "list2 = ['a', 'b', 'c']\n",
    "list3 = ['x', 'y', 'z']\n",
    "zipped = combine(list1, list2, list3)\n",
    "for item in zipped:\n",
    "    print(item)\n",
    "\n",
    "# Output: \n",
    "# (1, 'a', 'x')\n",
    "# (2, 'b', 'y')\n",
    "# (3, 'c', 'z')"
   ]
  },
  {
   "cell_type": "code",
   "execution_count": 8,
   "metadata": {},
   "outputs": [
    {
     "name": "stdout",
     "output_type": "stream",
     "text": [
      "0 a x\n",
      "1 b y\n",
      "2 c z\n"
     ]
    }
   ],
   "source": [
    "# Example 10 - Using enumerate() with zip()\n",
    "list1 = ['a', 'b', 'c']\n",
    "list2 = ['x', 'y', 'z']\n",
    "for i, (item1, item2) in enumerate(zip(list1, list2)):\n",
    "    print(i, item1, item2)\n",
    "\n",
    "# Output:\n",
    "# 0 a x\n",
    "# 1 b y\n",
    "# 2 c z"
   ]
  },
  {
   "cell_type": "code",
   "execution_count": 9,
   "metadata": {},
   "outputs": [
    {
     "name": "stdout",
     "output_type": "stream",
     "text": [
      "(1, 'a', 'x')\n",
      "(2, 'b', 'y')\n",
      "(3, 'c', 'z')\n"
     ]
    }
   ],
   "source": [
    "# Example 11 - Zipping three iterables\n",
    "list1 = [1, 2, 3]\n",
    "list2 = ['a', 'b', 'c']\n",
    "list3 = ['x', 'y', 'z']\n",
    "zipped = zip(list1, list2, list3)\n",
    "\n",
    "for item in zipped:\n",
    "    print(item)\n",
    "\n",
    "# Output:\n",
    "# (1, 'a', 'x')\n",
    "# (2, 'b', 'y')\n",
    "# (3, 'c', 'z')"
   ]
  },
  {
   "cell_type": "code",
   "execution_count": 10,
   "metadata": {},
   "outputs": [
    {
     "name": "stdout",
     "output_type": "stream",
     "text": [
      "[(1, 2, 3), ('a', 'b', 'c')]\n"
     ]
    }
   ],
   "source": [
    "# Example 12 - Unzipping a zip() object\n",
    "list1 = [1, 2, 3]\n",
    "list2 = ['a', 'b', 'c']\n",
    "zipped = zip(list1, list2)\n",
    "unzipped = zip(*zipped)\n",
    "print(list(unzipped))\n",
    "\n",
    "# Output:\n",
    "# [(1, 'a'), (2, 'b'), (3, 'c')]"
   ]
  },
  {
   "cell_type": "code",
   "execution_count": 11,
   "metadata": {},
   "outputs": [
    {
     "name": "stdout",
     "output_type": "stream",
     "text": [
      "{'a': 4, 'b': 5, 'c': 6}\n"
     ]
    }
   ],
   "source": [
    "# Example 13 - Zipping dictionaries\n",
    "dict1 = {'a': 1, 'b': 2, 'c': 3}\n",
    "dict2 = {'x': 4, 'y': 5, 'z': 6}\n",
    "zipped = zip(dict1.keys(), dict2.values())\n",
    "new_dict = dict(zipped)\n",
    "print(new_dict)\n",
    "\n",
    "# Output:\n",
    "# {'a': 4, 'b': 5, 'c': 6}"
   ]
  }
 ],
 "metadata": {
  "kernelspec": {
   "display_name": "Python 3",
   "language": "python",
   "name": "python3"
  },
  "language_info": {
   "codemirror_mode": {
    "name": "ipython",
    "version": 3
   },
   "file_extension": ".py",
   "mimetype": "text/x-python",
   "name": "python",
   "nbconvert_exporter": "python",
   "pygments_lexer": "ipython3",
   "version": "3.8.5"
  }
 },
 "nbformat": 4,
 "nbformat_minor": 4
}
