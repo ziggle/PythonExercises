{
 "cells": [
  {
   "cell_type": "markdown",
   "id": "924f416c",
   "metadata": {},
   "source": [
    "https://medium.com/@HeCanThink/pyparsing-a-journey-beyond-regular-expressions-%EF%B8%8F-905a4d9b2baa"
   ]
  },
  {
   "cell_type": "code",
   "execution_count": 1,
   "id": "4831a680",
   "metadata": {},
   "outputs": [
    {
     "name": "stdout",
     "output_type": "stream",
     "text": [
      "Requirement already satisfied: pyparsing in c:\\programdata\\anaconda3-1\\lib\\site-packages (3.0.4)\n"
     ]
    },
    {
     "name": "stderr",
     "output_type": "stream",
     "text": [
      "WARNING: Ignoring invalid distribution -oblib (c:\\programdata\\anaconda3-1\\lib\\site-packages)\n",
      "WARNING: Ignoring invalid distribution - (c:\\programdata\\anaconda3-1\\lib\\site-packages)\n",
      "WARNING: Ignoring invalid distribution -eaborn (c:\\programdata\\anaconda3-1\\lib\\site-packages)\n",
      "WARNING: Ignoring invalid distribution -ackaging (c:\\programdata\\anaconda3-1\\lib\\site-packages)\n",
      "WARNING: Ignoring invalid distribution -oblib (c:\\programdata\\anaconda3-1\\lib\\site-packages)\n",
      "WARNING: Ignoring invalid distribution - (c:\\programdata\\anaconda3-1\\lib\\site-packages)\n",
      "WARNING: Ignoring invalid distribution -eaborn (c:\\programdata\\anaconda3-1\\lib\\site-packages)\n",
      "WARNING: Ignoring invalid distribution -ackaging (c:\\programdata\\anaconda3-1\\lib\\site-packages)\n",
      "WARNING: Ignoring invalid distribution -oblib (c:\\programdata\\anaconda3-1\\lib\\site-packages)\n",
      "WARNING: Ignoring invalid distribution - (c:\\programdata\\anaconda3-1\\lib\\site-packages)\n",
      "WARNING: Ignoring invalid distribution -eaborn (c:\\programdata\\anaconda3-1\\lib\\site-packages)\n",
      "WARNING: Ignoring invalid distribution -ackaging (c:\\programdata\\anaconda3-1\\lib\\site-packages)\n",
      "WARNING: Ignoring invalid distribution -oblib (c:\\programdata\\anaconda3-1\\lib\\site-packages)\n",
      "WARNING: Ignoring invalid distribution - (c:\\programdata\\anaconda3-1\\lib\\site-packages)\n",
      "WARNING: Ignoring invalid distribution -eaborn (c:\\programdata\\anaconda3-1\\lib\\site-packages)\n",
      "WARNING: Ignoring invalid distribution -ackaging (c:\\programdata\\anaconda3-1\\lib\\site-packages)\n",
      "WARNING: Ignoring invalid distribution -oblib (c:\\programdata\\anaconda3-1\\lib\\site-packages)\n",
      "WARNING: Ignoring invalid distribution - (c:\\programdata\\anaconda3-1\\lib\\site-packages)\n",
      "WARNING: Ignoring invalid distribution -eaborn (c:\\programdata\\anaconda3-1\\lib\\site-packages)\n",
      "WARNING: Ignoring invalid distribution -ackaging (c:\\programdata\\anaconda3-1\\lib\\site-packages)\n",
      "WARNING: Ignoring invalid distribution -oblib (c:\\programdata\\anaconda3-1\\lib\\site-packages)\n",
      "WARNING: Ignoring invalid distribution - (c:\\programdata\\anaconda3-1\\lib\\site-packages)\n",
      "WARNING: Ignoring invalid distribution -eaborn (c:\\programdata\\anaconda3-1\\lib\\site-packages)\n",
      "WARNING: Ignoring invalid distribution -ackaging (c:\\programdata\\anaconda3-1\\lib\\site-packages)\n"
     ]
    }
   ],
   "source": [
    "!pip install pyparsing"
   ]
  },
  {
   "cell_type": "code",
   "execution_count": 2,
   "id": "4da06a75",
   "metadata": {},
   "outputs": [],
   "source": [
    "from pyparsing import Word, Literal, Combine, Group, Optional"
   ]
  },
  {
   "cell_type": "code",
   "execution_count": 3,
   "id": "589cb8e9",
   "metadata": {},
   "outputs": [],
   "source": [
    "# Example grammar for parsing a simple arithmetic expression\n",
    "integer = Word(\"0123456789\")\n",
    "operator = Literal(\"+\") | Literal(\"-\") | Literal(\"*\") | Literal(\"/\")\n",
    "expression = integer + operator + integer"
   ]
  },
  {
   "cell_type": "code",
   "execution_count": 5,
   "id": "2ac6f43b",
   "metadata": {},
   "outputs": [
    {
     "name": "stdout",
     "output_type": "stream",
     "text": [
      "['42', '+', '23']\n"
     ]
    }
   ],
   "source": [
    "input_string = \"42 + 23\"\n",
    "result = expression.parseString(input_string)\n",
    "print(result)"
   ]
  },
  {
   "cell_type": "code",
   "execution_count": 6,
   "id": "82e336ac",
   "metadata": {},
   "outputs": [
    {
     "name": "stdout",
     "output_type": "stream",
     "text": [
      "42\n",
      "+\n",
      "23\n"
     ]
    }
   ],
   "source": [
    "print(result[0])  # Output: 42\n",
    "print(result[1])  # Output: +\n",
    "print(result[2])  # Output: 23"
   ]
  },
  {
   "cell_type": "code",
   "execution_count": 7,
   "id": "bb251c9b",
   "metadata": {},
   "outputs": [
    {
     "name": "stdout",
     "output_type": "stream",
     "text": [
      "65\n"
     ]
    }
   ],
   "source": [
    "# Example: Perform arithmetic calculation\n",
    "a = int(result[0])\n",
    "operator = result[1]\n",
    "b = int(result[2])\n",
    "\n",
    "if operator == '+':\n",
    "    result = a + b\n",
    "elif operator == '-':\n",
    "    result = a - b\n",
    "elif operator == '*':\n",
    "    result = a * b\n",
    "elif operator == '/':\n",
    "    result = a / b\n",
    "\n",
    "print(result)  # Output: 65"
   ]
  },
  {
   "cell_type": "code",
   "execution_count": 8,
   "id": "a0cfcd2b",
   "metadata": {},
   "outputs": [
    {
     "name": "stdout",
     "output_type": "stream",
     "text": [
      "2023\n",
      "06\n",
      "23\n"
     ]
    }
   ],
   "source": [
    "import re\n",
    "\n",
    "# Define the regex pattern for parsing a date string\n",
    "date_pattern = r'^(\\d{4})-(\\d{2})-(\\d{2})$'\n",
    "\n",
    "# Parse a sample date string\n",
    "input_string = \"2023-06-23\"\n",
    "match = re.match(date_pattern, input_string)\n",
    "\n",
    "if match:\n",
    "    parsed_year = match.group(1)\n",
    "    parsed_month = match.group(2)\n",
    "    parsed_day = match.group(3)\n",
    "\n",
    "    print(parsed_year)  # Output: 2023\n",
    "    print(parsed_month)  # Output: 06\n",
    "    print(parsed_day)  # Output: 23\n",
    "else:\n",
    "    print(\"Invalid date format.\")"
   ]
  },
  {
   "cell_type": "code",
   "execution_count": 11,
   "id": "92a750c6",
   "metadata": {},
   "outputs": [
    {
     "name": "stdout",
     "output_type": "stream",
     "text": [
      "['2023', '-', '06', '-', '23']\n",
      "2023\n",
      "06\n",
      "23\n"
     ]
    }
   ],
   "source": [
    "from pyparsing import Word, nums\n",
    "\n",
    "# Define the grammar for parsing a date string\n",
    "year = Word(nums, exact=4)\n",
    "month = Word(nums, exact=2)\n",
    "day = Word(nums, exact=2)\n",
    "date_parser = year + '-' + month + '-' + day\n",
    "\n",
    "# Parse a sample date string\n",
    "input_string = \"2023-06-23\"\n",
    "parsed_result = date_parser.parseString(input_string)\n",
    "\n",
    "# Access the parsed elements\n",
    "parsed_year = parsed_result[0]\n",
    "parsed_month = parsed_result[2]\n",
    "parsed_day = parsed_result[4]\n",
    "print(parsed_result)\n",
    "print(parsed_year)  # Output: 2023\n",
    "print(parsed_month)  # Output: 06\n",
    "print(parsed_day)  # Output: 23"
   ]
  },
  {
   "cell_type": "code",
   "execution_count": null,
   "id": "4ff3c119",
   "metadata": {},
   "outputs": [],
   "source": []
  }
 ],
 "metadata": {
  "kernelspec": {
   "display_name": "Python 3 (ipykernel)",
   "language": "python",
   "name": "python3"
  },
  "language_info": {
   "codemirror_mode": {
    "name": "ipython",
    "version": 3
   },
   "file_extension": ".py",
   "mimetype": "text/x-python",
   "name": "python",
   "nbconvert_exporter": "python",
   "pygments_lexer": "ipython3",
   "version": "3.9.7"
  }
 },
 "nbformat": 4,
 "nbformat_minor": 5
}
