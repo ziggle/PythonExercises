{
 "cells": [
  {
   "cell_type": "markdown",
   "metadata": {},
   "source": [
    "https://blog.stackademic.com/python-unleashing-the-magic-6-dataclasses-eb9afbccf129"
   ]
  },
  {
   "cell_type": "code",
   "execution_count": 1,
   "metadata": {},
   "outputs": [],
   "source": [
    "from dataclasses import dataclass\n",
    "\n",
    "@dataclass\n",
    "class Point:\n",
    "    x: int\n",
    "    y: int"
   ]
  },
  {
   "cell_type": "code",
   "execution_count": 2,
   "metadata": {},
   "outputs": [
    {
     "name": "stdout",
     "output_type": "stream",
     "text": [
      "Point(x=1, y=2)\n",
      "Point(x=3, y=4)\n",
      "False\n"
     ]
    }
   ],
   "source": [
    "p1 = Point(1, 2)\n",
    "p2 = Point(3, 4)\n",
    "\n",
    "print(p1)  # Output: Point(x=1, y=2)\n",
    "print(p2)  # Output: Point(x=3, y=4)\n",
    "\n",
    "print(p1 == p2)  # Output: False"
   ]
  },
  {
   "cell_type": "code",
   "execution_count": 3,
   "metadata": {},
   "outputs": [],
   "source": [
    "from dataclasses import dataclass, field\n",
    "\n",
    "@dataclass(order=True, frozen=True)\n",
    "class Person:\n",
    "    name: str\n",
    "    age: int\n",
    "    job: str = field(default=\"Unemployed\")"
   ]
  },
  {
   "cell_type": "code",
   "execution_count": 4,
   "metadata": {},
   "outputs": [],
   "source": [
    "from dataclasses import dataclass, field\n",
    "\n",
    "@dataclass\n",
    "class Person:\n",
    "    name: str\n",
    "    age: int = field(default=30, compare=False)\n",
    "    job: str = field(default=\"Unemployed\", repr=False)"
   ]
  },
  {
   "cell_type": "code",
   "execution_count": 7,
   "metadata": {},
   "outputs": [
    {
     "name": "stdout",
     "output_type": "stream",
     "text": [
      "Alice (30 years old)\n"
     ]
    }
   ],
   "source": [
    "from dataclasses import dataclass, field\n",
    "\n",
    "@dataclass\n",
    "class Person:\n",
    "    name: str\n",
    "    age: int\n",
    "\n",
    "    def __post_init__(self):\n",
    "        # Accessing attributes defined in the class\n",
    "        self.full_name = f\"{self.name} ({self.age} years old)\"\n",
    "\n",
    "# Create an instance of the Person class\n",
    "person = Person(name=\"Alice\", age=30)\n",
    "\n",
    "# The __post_init__ method accesses the attributes to create 'full_name'\n",
    "print(person.full_name)  # Output: \"Alice (30 years old)\""
   ]
  },
  {
   "cell_type": "code",
   "execution_count": 6,
   "metadata": {},
   "outputs": [],
   "source": [
    "@dataclass\n",
    "class Rectangle:\n",
    "    height: float\n",
    "    width: float\n",
    "\n",
    "@dataclass\n",
    "class Square(Rectangle):\n",
    "    side: float\n",
    "\n",
    "    def __post_init__(self):\n",
    "        super().__init__(self.side, self.side)\n",
    "\n",
    "# example taken form the python official documentation \n",
    "# unfortunately i runned out of imagination 🥲"
   ]
  }
 ],
 "metadata": {
  "kernelspec": {
   "display_name": "Python 3",
   "language": "python",
   "name": "python3"
  },
  "language_info": {
   "codemirror_mode": {
    "name": "ipython",
    "version": 3
   },
   "file_extension": ".py",
   "mimetype": "text/x-python",
   "name": "python",
   "nbconvert_exporter": "python",
   "pygments_lexer": "ipython3",
   "version": "3.11.4"
  },
  "orig_nbformat": 4
 },
 "nbformat": 4,
 "nbformat_minor": 2
}
