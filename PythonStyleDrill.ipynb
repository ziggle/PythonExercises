{
 "cells": [
  {
   "cell_type": "markdown",
   "id": "8f952a8d",
   "metadata": {},
   "source": [
    "https://python.plainenglish.io/stop-doing-it-in-python-55e9023cbaa7"
   ]
  },
  {
   "cell_type": "code",
   "execution_count": 1,
   "id": "88922479",
   "metadata": {},
   "outputs": [
    {
     "name": "stdout",
     "output_type": "stream",
     "text": [
      "This is case 1\n",
      "This is the default case\n"
     ]
    }
   ],
   "source": [
    "def case1():\n",
    "    return \"This is case 1\"\n",
    "def case2():\n",
    "    return \"This is case 2\"\n",
    "def case3():\n",
    "    return \"This is case 3\"\n",
    "def default_case():\n",
    "    return \"This is the default case\"\n",
    "switch = {\n",
    "    1: case1,\n",
    "    2: case2,\n",
    "    3: case3\n",
    "}\n",
    "def switch_case(case):\n",
    "    return switch.get(case, default_case)()\n",
    "\n",
    "# Example usage\n",
    "print(switch_case(1))  # Outputs: This is case 1\n",
    "print(switch_case(4))  # Outputs: This is the default case"
   ]
  },
  {
   "cell_type": "code",
   "execution_count": 2,
   "id": "19be8b85",
   "metadata": {},
   "outputs": [
    {
     "name": "stdout",
     "output_type": "stream",
     "text": [
      "x is 5, less 10\n",
      "x is 5, less 7\n",
      "x is 5, less 5\n"
     ]
    }
   ],
   "source": [
    "def test(x,value):\n",
    "    return f\"{x} is greater than {value}\"  if x > value else f\"x is {x}, less {value}\"\n",
    "\n",
    "print(test(5,10))\n",
    "print(test(5,7))\n",
    "print(test(5,5))"
   ]
  },
  {
   "cell_type": "code",
   "execution_count": 3,
   "id": "3d9e2fb0",
   "metadata": {},
   "outputs": [
    {
     "name": "stdout",
     "output_type": "stream",
     "text": [
      "6 is greater than 5\n"
     ]
    }
   ],
   "source": [
    "x = 6 \n",
    "def funcx(x):\n",
    "    # To present the most frequent case first and avoid unnecessary tests.\n",
    "    if x > 5:   \n",
    "        return f\"{x} is greater than 5\"\n",
    "        \n",
    "    return f\"{x} is not greater than 5\"\n",
    "\n",
    "print(funcx(x))"
   ]
  },
  {
   "cell_type": "code",
   "execution_count": 5,
   "id": "aa3d5211",
   "metadata": {},
   "outputs": [
    {
     "name": "stdout",
     "output_type": "stream",
     "text": [
      "[1, 2, 3, 4, 5, 6, 7, 8, 9]\n"
     ]
    }
   ],
   "source": [
    "# Flatten a matrix\n",
    "matrix = [[1, 2, 3], [4, 5, 6], [7, 8, 9]] \n",
    "flattened = [num for row in matrix for num in row]\n",
    "print(flattened)"
   ]
  },
  {
   "cell_type": "code",
   "execution_count": 6,
   "id": "896e712f",
   "metadata": {},
   "outputs": [
    {
     "name": "stdout",
     "output_type": "stream",
     "text": [
      "[{'key': 0, 'idx': 0}, {'key': 1, 'idx': 1}, {'key': 2, 'idx': 2}, {'key': 3, 'idx': 3}, {'key': 4, 'idx': 4}, {'key': 5, 'idx': 5}, {'key': 6, 'idx': 6}, {'key': 7, 'idx': 7}, {'key': 8, 'idx': 8}, {'key': 9, 'idx': 9}]\n"
     ]
    }
   ],
   "source": [
    "data = []\n",
    "\n",
    "for idx,value in enumerate(range(10)):\n",
    "    data.append({\"key\":value,\"idx\":idx})\n",
    "\n",
    "print(data)"
   ]
  },
  {
   "cell_type": "code",
   "execution_count": 7,
   "id": "57bd922f",
   "metadata": {},
   "outputs": [
    {
     "name": "stdout",
     "output_type": "stream",
     "text": [
      "[{'key': 0, 'idx': 0}, {'key': 1, 'idx': 1}, {'key': 2, 'idx': 2}, {'key': 3, 'idx': 3}, {'key': 4, 'idx': 4}, {'key': 5, 'idx': 5}, {'key': 6, 'idx': 6}, {'key': 7, 'idx': 7}, {'key': 8, 'idx': 8}, {'key': 9, 'idx': 9}]\n"
     ]
    }
   ],
   "source": [
    "print([{\"key\":value,\"idx\":idx} for idx,value in enumerate(range(10))])\n",
    "# Out: [{'key': 0, 'idx': 0}, {'key': 1, 'idx': 1}, {'key': 2, 'idx': 2}, {'key': 3, 'idx': 3}, {'key': 4, 'idx': 4}, {'key': 5, 'idx': 5}, {'key': 6, 'idx': 6}, {'key': 7, 'idx': 7}, {'key': 8, 'idx': 8}, {'key': 9, 'idx': 9}]"
   ]
  },
  {
   "cell_type": "code",
   "execution_count": null,
   "id": "84807978",
   "metadata": {},
   "outputs": [],
   "source": []
  }
 ],
 "metadata": {
  "kernelspec": {
   "display_name": "Python 3 (ipykernel)",
   "language": "python",
   "name": "python3"
  },
  "language_info": {
   "codemirror_mode": {
    "name": "ipython",
    "version": 3
   },
   "file_extension": ".py",
   "mimetype": "text/x-python",
   "name": "python",
   "nbconvert_exporter": "python",
   "pygments_lexer": "ipython3",
   "version": "3.9.7"
  }
 },
 "nbformat": 4,
 "nbformat_minor": 5
}
