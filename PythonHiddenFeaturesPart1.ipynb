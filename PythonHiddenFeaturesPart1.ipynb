{
 "cells": [
  {
   "cell_type": "markdown",
   "id": "9d89bd0f",
   "metadata": {},
   "source": [
    "https://pravash-techie.medium.com/python-hidden-features-part-1-3d9817a0385e"
   ]
  },
  {
   "cell_type": "code",
   "execution_count": 1,
   "id": "4865474b",
   "metadata": {},
   "outputs": [
    {
     "data": {
      "text/plain": [
       "{'name': 'person3', 'subjects': ['subject1', 'subject2', 'subject3']}"
      ]
     },
     "execution_count": 1,
     "metadata": {},
     "output_type": "execute_result"
    }
   ],
   "source": [
    "def add_subject(name, subject, subjects=[]):\n",
    "    subjects.append(subject)\n",
    "    return {'name': name, 'subjects': subjects}\n",
    "\n",
    "add_subject('person1', 'subject1')\n",
    "add_subject('person2', 'subject2')\n",
    "add_subject('person3', 'subject3')"
   ]
  },
  {
   "cell_type": "code",
   "execution_count": 2,
   "id": "5381a306",
   "metadata": {},
   "outputs": [
    {
     "name": "stdout",
     "output_type": "stream",
     "text": [
      "(1, 2, 3)\n"
     ]
    }
   ],
   "source": [
    "def my_functions(a=1, b=2, c=3):\n",
    "    pass\n",
    "\n",
    "print(my_functions.__defaults__)"
   ]
  },
  {
   "cell_type": "code",
   "execution_count": 4,
   "id": "3ff40ca9",
   "metadata": {},
   "outputs": [
    {
     "name": "stdout",
     "output_type": "stream",
     "text": [
      "([],)\n",
      "(['subject1'],)\n",
      "(['subject1', 'subject2'],)\n",
      "(['subject1', 'subject2', 'subject3'],)\n"
     ]
    }
   ],
   "source": [
    "def add_subject(name, subject, subjects=[]):\n",
    "    subjects.append(subject)\n",
    "    return {'name': name, 'subjects': subjects}\n",
    "\n",
    "\n",
    "print(add_subject.__defaults__)\n",
    "\n",
    "add_subject('person1', 'subject1')\n",
    "print(add_subject.__defaults__)\n",
    "\n",
    "add_subject('person2', 'subject2')\n",
    "print(add_subject.__defaults__)\n",
    "\n",
    "add_subject('person3', 'subject3')\n",
    "print(add_subject.__defaults__)"
   ]
  },
  {
   "cell_type": "code",
   "execution_count": 5,
   "id": "086bee20",
   "metadata": {},
   "outputs": [
    {
     "name": "stdout",
     "output_type": "stream",
     "text": [
      "(None,)\n",
      "{'name': 'person1', 'subjects': ['subject1']}\n",
      "{'name': 'person2', 'subjects': ['subject1']}\n",
      "{'name': 'person3', 'subjects': ['subject1']}\n"
     ]
    }
   ],
   "source": [
    "def add_subject(name, subject, subjects=None):\n",
    "    if subjects is None:\n",
    "        subjects = []\n",
    "\n",
    "    subjects.append(subject)\n",
    "    return {'name': name, 'subjects': subjects}\n",
    "\n",
    "print(add_subject.__defaults__)\n",
    "print(add_subject('person1', 'subject1'))\n",
    "print(add_subject('person2', 'subject1'))\n",
    "print(add_subject('person3', 'subject1'))"
   ]
  },
  {
   "cell_type": "code",
   "execution_count": 6,
   "id": "59a80db4",
   "metadata": {},
   "outputs": [
    {
     "name": "stdout",
     "output_type": "stream",
     "text": [
      "48\n",
      "192\n",
      "True\n"
     ]
    }
   ],
   "source": [
    "class Multiplier:\n",
    "    def __init__(self, a, b, c):\n",
    "        self.a = a\n",
    "        self.b = b\n",
    "        self.c = c\n",
    "\n",
    "    def __call__(self, x):\n",
    "        return (self.a * x**2) + (self.b * x**2) + (self.c * x**2)\n",
    "\n",
    "\n",
    "func = Multiplier(2, 4, 6)\n",
    "print(func(2))    # 48\n",
    "print(func(4))    # 192\n",
    "print(callable(func))    # True"
   ]
  },
  {
   "cell_type": "code",
   "execution_count": 7,
   "id": "40ef0dd3",
   "metadata": {},
   "outputs": [
    {
     "name": "stdout",
     "output_type": "stream",
     "text": [
      "London\n",
      "Poland\n"
     ]
    }
   ],
   "source": [
    "places = [\"India\", \"London\", \"Poland\", \"Netherlands\"]\n",
    "for place in places:\n",
    "    if place.startswith('Lo') or place.startswith('Po'):\n",
    "        print(place)"
   ]
  },
  {
   "cell_type": "code",
   "execution_count": 8,
   "id": "7800d287",
   "metadata": {},
   "outputs": [
    {
     "name": "stdout",
     "output_type": "stream",
     "text": [
      "London\n",
      "Poland\n"
     ]
    }
   ],
   "source": [
    "places = [\"India\", \"London\", \"Poland\", \"Netherlands\"]\n",
    "for place in places:\n",
    "    if place.startswith(('Lo', 'Po')):\n",
    "        print(place)"
   ]
  },
  {
   "cell_type": "code",
   "execution_count": 9,
   "id": "9ebb0408",
   "metadata": {},
   "outputs": [
    {
     "ename": "TypeError",
     "evalue": "unhashable type: 'set'",
     "output_type": "error",
     "traceback": [
      "\u001b[1;31m---------------------------------------------------------------------------\u001b[0m",
      "\u001b[1;31mTypeError\u001b[0m                                 Traceback (most recent call last)",
      "\u001b[1;32m~\\AppData\\Local\\Temp/ipykernel_24940/181147388.py\u001b[0m in \u001b[0;36m<module>\u001b[1;34m\u001b[0m\n\u001b[0;32m      1\u001b[0m \u001b[0mset_ex\u001b[0m \u001b[1;33m=\u001b[0m \u001b[1;33m{\u001b[0m\u001b[1;36m1\u001b[0m\u001b[1;33m,\u001b[0m \u001b[1;36m2\u001b[0m\u001b[1;33m,\u001b[0m \u001b[1;36m3\u001b[0m\u001b[1;33m}\u001b[0m\u001b[1;33m\u001b[0m\u001b[1;33m\u001b[0m\u001b[0m\n\u001b[1;32m----> 2\u001b[1;33m \u001b[0mdict_obj\u001b[0m \u001b[1;33m=\u001b[0m \u001b[1;33m{\u001b[0m\u001b[0mset_ex\u001b[0m\u001b[1;33m:\u001b[0m \u001b[1;34m\"This is a Set\"\u001b[0m\u001b[1;33m}\u001b[0m\u001b[1;33m\u001b[0m\u001b[1;33m\u001b[0m\u001b[0m\n\u001b[0m\u001b[0;32m      3\u001b[0m \u001b[1;33m\u001b[0m\u001b[0m\n\u001b[0;32m      4\u001b[0m \u001b[1;31m## Error - TypeError: unhashable type: 'set'\u001b[0m\u001b[1;33m\u001b[0m\u001b[1;33m\u001b[0m\u001b[0m\n",
      "\u001b[1;31mTypeError\u001b[0m: unhashable type: 'set'"
     ]
    }
   ],
   "source": [
    "set_ex = {1, 2, 3}\n",
    "dict_obj = {set_ex: \"This is a Set\"}\n",
    "\n",
    "## Error - TypeError: unhashable type: 'set'"
   ]
  },
  {
   "cell_type": "code",
   "execution_count": 10,
   "id": "cc748600",
   "metadata": {},
   "outputs": [
    {
     "name": "stdout",
     "output_type": "stream",
     "text": [
      "This is a Set\n"
     ]
    }
   ],
   "source": [
    "set_ex = frozenset({1, 2, 3})\n",
    "dict_obj = {set_ex: \"This is a Set\"}\n",
    "\n",
    "print(dict_obj[set_ex])\n",
    "\n",
    "## Output - This is a Set"
   ]
  }
 ],
 "metadata": {
  "kernelspec": {
   "display_name": "Python 3 (ipykernel)",
   "language": "python",
   "name": "python3"
  },
  "language_info": {
   "codemirror_mode": {
    "name": "ipython",
    "version": 3
   },
   "file_extension": ".py",
   "mimetype": "text/x-python",
   "name": "python",
   "nbconvert_exporter": "python",
   "pygments_lexer": "ipython3",
   "version": "3.9.7"
  }
 },
 "nbformat": 4,
 "nbformat_minor": 5
}
