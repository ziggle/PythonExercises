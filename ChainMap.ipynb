{
 "cells": [
  {
   "cell_type": "markdown",
   "metadata": {},
   "source": [
    "https://pravash-techie.medium.com/python-mastering-data-composition-with-chainmap-6c3ced04dc6a"
   ]
  },
  {
   "cell_type": "code",
   "execution_count": 1,
   "metadata": {},
   "outputs": [
    {
     "name": "stdout",
     "output_type": "stream",
     "text": [
      "1\n",
      "2\n",
      "4\n"
     ]
    }
   ],
   "source": [
    "from collections import ChainMap\n",
    "\n",
    "dict1 = {'a': 1, 'b': 2}\n",
    "dict2 = {'b': 3, 'c': 4}\n",
    "\n",
    "chain = ChainMap(dict1, dict2)\n",
    "\n",
    "print(chain['a'])  # Output: 1\n",
    "print(chain['b'])  # Output: 2 (from dict1, as it's the first in the chain)\n",
    "print(chain['c'])  # Output: 4"
   ]
  },
  {
   "cell_type": "code",
   "execution_count": 2,
   "metadata": {},
   "outputs": [
    {
     "name": "stdout",
     "output_type": "stream",
     "text": [
      "False\n",
      "False\n",
      "/user/output\n"
     ]
    }
   ],
   "source": [
    "default_config = {'debug': False, 'verbose': True}\n",
    "user_config = {'verbose': False, 'output_dir': '/user/output'}\n",
    "\n",
    "config = ChainMap(user_config, default_config)\n",
    "\n",
    "# Access configuration settings\n",
    "print(config['debug'])     # Output: False (from default_config)\n",
    "print(config['verbose'])   # Output: False (from user_config, overridden)\n",
    "print(config['output_dir']) # Output: /user/output"
   ]
  },
  {
   "cell_type": "code",
   "execution_count": 3,
   "metadata": {},
   "outputs": [
    {
     "name": "stdout",
     "output_type": "stream",
     "text": [
      "Debug Mode: True\n",
      "Verbose Mode: True\n",
      "Log Level: debug\n",
      "Output Format: csv\n"
     ]
    }
   ],
   "source": [
    "from collections import ChainMap\n",
    "\n",
    "# Default Configuration\n",
    "default_config = {'debug': False, 'verbose': True, 'log_level': 'info'}\n",
    "\n",
    "# User-Specific Overrides\n",
    "user_config1 = {'debug': True, 'output_format': 'json'}\n",
    "user_config2 = {'log_level': 'debug', 'output_format': 'csv'}\n",
    "\n",
    "config_chain = ChainMap(user_config2, user_config1, default_config)\n",
    "\n",
    "# Access configuration settings\n",
    "print(\"Debug Mode:\", config_chain['debug'])            # Output: True (user_config1 overrides default_config)\n",
    "print(\"Verbose Mode:\", config_chain['verbose'])         # Output: True (default_config)\n",
    "print(\"Log Level:\", config_chain['log_level'])          # Output: debug (user_config2 overrides user_config1)\n",
    "print(\"Output Format:\", config_chain['output_format'])  # Output: csv (user_config2 overrides user_config1)"
   ]
  },
  {
   "cell_type": "code",
   "execution_count": 4,
   "metadata": {},
   "outputs": [
    {
     "name": "stdout",
     "output_type": "stream",
     "text": [
      "Debug Mode: True\n",
      "Verbose Mode: True\n",
      "Log Level: debug\n",
      "Output Format: csv\n"
     ]
    }
   ],
   "source": [
    "from collections import ChainMap\n",
    "\n",
    "default_config = {'debug': False, 'verbose': True, 'log_level': 'info'}\n",
    "\n",
    "env_config = {'debug': True, 'output_format': 'json'}\n",
    "\n",
    "file_config = {'log_level': 'debug', 'output_format': 'csv'}\n",
    "\n",
    "config_chain = ChainMap(file_config, env_config, default_config)\n",
    "\n",
    "print(\"Debug Mode:\", config_chain['debug'])             # Output: True (env_config overrides default_config)\n",
    "print(\"Verbose Mode:\", config_chain['verbose'])         # Output: True (default_config)\n",
    "print(\"Log Level:\", config_chain['log_level'])          # Output: debug (file_config overrides env_config)\n",
    "print(\"Output Format:\", config_chain['output_format'])  # Output: json (env_config overrides file_config)"
   ]
  },
  {
   "cell_type": "code",
   "execution_count": 5,
   "metadata": {},
   "outputs": [
    {
     "name": "stdout",
     "output_type": "stream",
     "text": [
      "Config Chain 1 - Debug Mode: False\n",
      "Config Chain 1 - Log Level: info\n",
      "\n",
      "Config Chain 2 - Debug Mode: True\n",
      "Config Chain 2 - Log Level: debug\n",
      "\n",
      "Config Chain 3 - Debug Mode: False\n",
      "Config Chain 3 - Log Level: debug\n"
     ]
    }
   ],
   "source": [
    "from collections import ChainMap\n",
    "\n",
    "default_config = {'debug': False, 'verbose': True, 'log_level': 'info'}\n",
    "\n",
    "env_config = {'debug': True, 'output_format': 'json'}\n",
    "\n",
    "file_config = {'log_level': 'debug', 'output_format': 'csv'}\n",
    "\n",
    "config_chain1 = ChainMap(default_config, env_config, file_config)\n",
    "config_chain2 = ChainMap(env_config, file_config, default_config)\n",
    "config_chain3 = ChainMap(file_config, default_config, env_config)\n",
    "\n",
    "print(\"Config Chain 1 - Debug Mode:\", config_chain1['debug'])            # Output: True (env_config overrides default_config)\n",
    "print(\"Config Chain 1 - Log Level:\", config_chain1['log_level'])          # Output: debug (file_config overrides env_config)\n",
    "\n",
    "print(\"\\nConfig Chain 2 - Debug Mode:\", config_chain2['debug'])            # Output: True (env_config overrides default_config)\n",
    "print(\"Config Chain 2 - Log Level:\", config_chain2['log_level'])          # Output: debug (file_config overrides env_config)\n",
    "\n",
    "print(\"\\nConfig Chain 3 - Debug Mode:\", config_chain3['debug'])            # Output: False (default_config, as env_config is at the end)\n",
    "print(\"Config Chain 3 - Log Level:\", config_chain3['log_level'])          # Output: debug (file_config overrides default_config)"
   ]
  }
 ],
 "metadata": {
  "kernelspec": {
   "display_name": "Python 3",
   "language": "python",
   "name": "python3"
  },
  "language_info": {
   "codemirror_mode": {
    "name": "ipython",
    "version": 3
   },
   "file_extension": ".py",
   "mimetype": "text/x-python",
   "name": "python",
   "nbconvert_exporter": "python",
   "pygments_lexer": "ipython3",
   "version": "3.8.5"
  }
 },
 "nbformat": 4,
 "nbformat_minor": 4
}
