{
 "cells": [
  {
   "attachments": {},
   "cell_type": "markdown",
   "metadata": {},
   "source": [
    "https://mobileappcircular.com/python-quiz-string-slicing-751653bbae7"
   ]
  },
  {
   "cell_type": "code",
   "execution_count": 1,
   "metadata": {},
   "outputs": [
    {
     "name": "stdout",
     "output_type": "stream",
     "text": [
      "\n"
     ]
    }
   ],
   "source": [
    "s = 'thinktank'\n",
    "print(s[5:5])\n",
    "# C. blank"
   ]
  },
  {
   "cell_type": "code",
   "execution_count": 2,
   "metadata": {},
   "outputs": [
    {
     "name": "stdout",
     "output_type": "stream",
     "text": [
      "low\n"
     ]
    }
   ],
   "source": [
    "s = 'follow'\n",
    "print(s[3:8])\n",
    "# B. low"
   ]
  },
  {
   "cell_type": "code",
   "execution_count": 3,
   "metadata": {},
   "outputs": [
    {
     "name": "stdout",
     "output_type": "stream",
     "text": [
      "di\n"
     ]
    }
   ],
   "source": [
    "s = 'medium'\n",
    "print(s[-4:4])\n",
    "\n",
    "# A. di"
   ]
  },
  {
   "cell_type": "code",
   "execution_count": 7,
   "metadata": {},
   "outputs": [
    {
     "name": "stdout",
     "output_type": "stream",
     "text": [
      "inoh\n"
     ]
    }
   ],
   "source": [
    "s = 'pythonista'\n",
    "print(s[6:2:-1])\n",
    "# D\n",
    "# Output:\n",
    "# inoh"
   ]
  },
  {
   "cell_type": "code",
   "execution_count": 10,
   "metadata": {},
   "outputs": [
    {
     "name": "stdout",
     "output_type": "stream",
     "text": [
      "rga\n",
      "rga\n"
     ]
    }
   ],
   "source": [
    "s = 'program'\n",
    "print(s[1::2])\n",
    "print(s[-6:-1:2])\n",
    "\n",
    "# A\n",
    "# Output:\n",
    "# rga"
   ]
  },
  {
   "cell_type": "code",
   "execution_count": 11,
   "metadata": {},
   "outputs": [
    {
     "ename": "ValueError",
     "evalue": "slice step cannot be zero",
     "output_type": "error",
     "traceback": [
      "\u001b[1;31m---------------------------------------------------------------------------\u001b[0m",
      "\u001b[1;31mValueError\u001b[0m                                Traceback (most recent call last)",
      "Cell \u001b[1;32mIn[11], line 2\u001b[0m\n\u001b[0;32m      1\u001b[0m s \u001b[39m=\u001b[39m \u001b[39m'\u001b[39m\u001b[39mcoder\u001b[39m\u001b[39m'\u001b[39m\n\u001b[1;32m----> 2\u001b[0m \u001b[39mprint\u001b[39m(s[::\u001b[39m0\u001b[39;49m])\n",
      "\u001b[1;31mValueError\u001b[0m: slice step cannot be zero"
     ]
    }
   ],
   "source": [
    "s = 'coder'\n",
    "print(s[::0])\n",
    "\n",
    "# C"
   ]
  },
  {
   "cell_type": "code",
   "execution_count": 12,
   "metadata": {},
   "outputs": [
    {
     "name": "stdout",
     "output_type": "stream",
     "text": [
      "ub\n"
     ]
    }
   ],
   "source": [
    "s = 'doubled'\n",
    "print(s[1:6][1:3])\n",
    "# B. ub"
   ]
  },
  {
   "cell_type": "code",
   "execution_count": 14,
   "metadata": {},
   "outputs": [
    {
     "name": "stdout",
     "output_type": "stream",
     "text": [
      "nisu\n"
     ]
    }
   ],
   "source": [
    "s = 'question'\n",
    "print(s[-1::-2])\n",
    "# C\n",
    "# Output:\n",
    "# nisu"
   ]
  },
  {
   "cell_type": "code",
   "execution_count": 16,
   "metadata": {},
   "outputs": [
    {
     "name": "stdout",
     "output_type": "stream",
     "text": [
      "1 subscribe\n",
      "2 sr\n",
      "3 c\n",
      "4 \n"
     ]
    }
   ],
   "source": [
    "s = 'subscribe'\n",
    "print(1,s[:])\n",
    "\n",
    "print(2,s[-6:-3:2])\n",
    "\n",
    "print(3,s[4:5])\n",
    "\n",
    "print(4,s[-3:-6:2])\n",
    "\n",
    "# D\n",
    "# Output:\n",
    "# Blank Output"
   ]
  },
  {
   "cell_type": "code",
   "execution_count": 17,
   "metadata": {},
   "outputs": [
    {
     "name": "stdout",
     "output_type": "stream",
     "text": [
      "m\n"
     ]
    }
   ],
   "source": [
    "s = 'completed'\n",
    "print(s[2:5:3])\n",
    "\n",
    "# A. m"
   ]
  }
 ],
 "metadata": {
  "kernelspec": {
   "display_name": "Python 3",
   "language": "python",
   "name": "python3"
  },
  "language_info": {
   "codemirror_mode": {
    "name": "ipython",
    "version": 3
   },
   "file_extension": ".py",
   "mimetype": "text/x-python",
   "name": "python",
   "nbconvert_exporter": "python",
   "pygments_lexer": "ipython3",
   "version": "3.11.3"
  },
  "orig_nbformat": 4
 },
 "nbformat": 4,
 "nbformat_minor": 2
}
