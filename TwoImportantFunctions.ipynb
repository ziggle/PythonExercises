{
 "cells": [
  {
   "cell_type": "markdown",
   "metadata": {},
   "source": [
    "https://towardsdatascience.com/two-interesting-pandas-data-manipulation-functions-you-need-to-know-5eabd06af56b"
   ]
  },
  {
   "cell_type": "code",
   "execution_count": 13,
   "metadata": {},
   "outputs": [],
   "source": [
    "import pandas as pd\n",
    "import numpy as np\n",
    "\n",
    "# Create random data\n",
    "Series1 = pd.Series(np.random.randint(0, 100, 10))\n",
    "\n",
    "# Create DataFrame\n",
    "df = pd.DataFrame({\"Series1\": Series1})\n",
    "\n",
    "# Apply pandas.cut() on the column Series1\n",
    "df[\"binned_Series1\"] = pd.cut(df[\"Series1\"], bins=5)\n"
   ]
  },
  {
   "cell_type": "code",
   "execution_count": 14,
   "metadata": {},
   "outputs": [
    {
     "name": "stdout",
     "output_type": "stream",
     "text": [
      "   Series1 binned_Series1 binned_Series1_defined_binedge\n",
      "0       79   (76.6, 95.0]                      (65, 100]\n",
      "1        8  (2.908, 21.4]                        (0, 10]\n",
      "2       56   (39.8, 58.2]                       (40, 65]\n",
      "3       80   (76.6, 95.0]                      (65, 100]\n",
      "4       95   (76.6, 95.0]                      (65, 100]\n",
      "5       29   (21.4, 39.8]                       (15, 40]\n",
      "6       25   (21.4, 39.8]                       (15, 40]\n",
      "7       67   (58.2, 76.6]                      (65, 100]\n",
      "8       12  (2.908, 21.4]                       (10, 15]\n",
      "9        3  (2.908, 21.4]                        (0, 10]\n"
     ]
    }
   ],
   "source": [
    "df[\"binned_Series1_defined_binedge\"] = pd.cut(df[\"Series1\"],\n",
    "                                              bins=[0, 10, 15, 40, 65, 100])\n",
    "print(df)"
   ]
  },
  {
   "cell_type": "code",
   "execution_count": 15,
   "metadata": {},
   "outputs": [
    {
     "name": "stdout",
     "output_type": "stream",
     "text": [
      "   Series1 binned_Series1 binned_Series1_defined_binedge bin_name\n",
      "0       79   (76.6, 95.0]                      (65, 100]    bin 5\n",
      "1        8  (2.908, 21.4]                        (0, 10]    bin 1\n",
      "2       56   (39.8, 58.2]                       (40, 65]    bin 4\n",
      "3       80   (76.6, 95.0]                      (65, 100]    bin 5\n",
      "4       95   (76.6, 95.0]                      (65, 100]    bin 5\n",
      "5       29   (21.4, 39.8]                       (15, 40]    bin 3\n",
      "6       25   (21.4, 39.8]                       (15, 40]    bin 3\n",
      "7       67   (58.2, 76.6]                      (65, 100]    bin 5\n",
      "8       12  (2.908, 21.4]                       (10, 15]    bin 2\n",
      "9        3  (2.908, 21.4]                        (0, 10]    bin 1\n"
     ]
    }
   ],
   "source": [
    "df[\"bin_name\"] = pd.cut(df[\"Series1\"],\n",
    "                        bins=[0, 10, 15, 40, 65, 100],\n",
    "                        labels=['bin 1', 'bin 2', 'bin 3', 'bin 4', 'bin 5'])\n",
    "print(df)"
   ]
  },
  {
   "cell_type": "code",
   "execution_count": 16,
   "metadata": {},
   "outputs": [
    {
     "data": {
      "text/html": [
       "<div>\n",
       "<style scoped>\n",
       "    .dataframe tbody tr th:only-of-type {\n",
       "        vertical-align: middle;\n",
       "    }\n",
       "\n",
       "    .dataframe tbody tr th {\n",
       "        vertical-align: top;\n",
       "    }\n",
       "\n",
       "    .dataframe thead th {\n",
       "        text-align: right;\n",
       "    }\n",
       "</style>\n",
       "<table border=\"1\" class=\"dataframe\">\n",
       "  <thead>\n",
       "    <tr style=\"text-align: right;\">\n",
       "      <th></th>\n",
       "      <th>brand</th>\n",
       "      <th>hhi</th>\n",
       "      <th>binned_hhi</th>\n",
       "      <th>brand_bucket</th>\n",
       "    </tr>\n",
       "  </thead>\n",
       "  <tbody>\n",
       "    <tr>\n",
       "      <th>0</th>\n",
       "      <td>Brand_1</td>\n",
       "      <td>0.385640</td>\n",
       "      <td>(0.318, 0.575]</td>\n",
       "      <td>medium</td>\n",
       "    </tr>\n",
       "    <tr>\n",
       "      <th>1</th>\n",
       "      <td>Brand_2</td>\n",
       "      <td>0.229341</td>\n",
       "      <td>(0.0604, 0.318]</td>\n",
       "      <td>low</td>\n",
       "    </tr>\n",
       "    <tr>\n",
       "      <th>2</th>\n",
       "      <td>Brand_3</td>\n",
       "      <td>0.683111</td>\n",
       "      <td>(0.575, 0.831]</td>\n",
       "      <td>high</td>\n",
       "    </tr>\n",
       "    <tr>\n",
       "      <th>3</th>\n",
       "      <td>Brand_4</td>\n",
       "      <td>0.286338</td>\n",
       "      <td>(0.0604, 0.318]</td>\n",
       "      <td>low</td>\n",
       "    </tr>\n",
       "    <tr>\n",
       "      <th>4</th>\n",
       "      <td>Brand_5</td>\n",
       "      <td>0.373767</td>\n",
       "      <td>(0.318, 0.575]</td>\n",
       "      <td>medium</td>\n",
       "    </tr>\n",
       "    <tr>\n",
       "      <th>5</th>\n",
       "      <td>Brand_6</td>\n",
       "      <td>0.667105</td>\n",
       "      <td>(0.575, 0.831]</td>\n",
       "      <td>high</td>\n",
       "    </tr>\n",
       "    <tr>\n",
       "      <th>6</th>\n",
       "      <td>Brand_7</td>\n",
       "      <td>0.831074</td>\n",
       "      <td>(0.575, 0.831]</td>\n",
       "      <td>high</td>\n",
       "    </tr>\n",
       "    <tr>\n",
       "      <th>7</th>\n",
       "      <td>Brand_8</td>\n",
       "      <td>0.831300</td>\n",
       "      <td>(0.575, 0.831]</td>\n",
       "      <td>high</td>\n",
       "    </tr>\n",
       "    <tr>\n",
       "      <th>8</th>\n",
       "      <td>Brand_9</td>\n",
       "      <td>0.061126</td>\n",
       "      <td>(0.0604, 0.318]</td>\n",
       "      <td>low</td>\n",
       "    </tr>\n",
       "    <tr>\n",
       "      <th>9</th>\n",
       "      <td>Brand_10</td>\n",
       "      <td>0.256052</td>\n",
       "      <td>(0.0604, 0.318]</td>\n",
       "      <td>low</td>\n",
       "    </tr>\n",
       "  </tbody>\n",
       "</table>\n",
       "</div>"
      ],
      "text/plain": [
       "      brand       hhi       binned_hhi brand_bucket\n",
       "0   Brand_1  0.385640   (0.318, 0.575]       medium\n",
       "1   Brand_2  0.229341  (0.0604, 0.318]          low\n",
       "2   Brand_3  0.683111   (0.575, 0.831]         high\n",
       "3   Brand_4  0.286338  (0.0604, 0.318]          low\n",
       "4   Brand_5  0.373767   (0.318, 0.575]       medium\n",
       "5   Brand_6  0.667105   (0.575, 0.831]         high\n",
       "6   Brand_7  0.831074   (0.575, 0.831]         high\n",
       "7   Brand_8  0.831300   (0.575, 0.831]         high\n",
       "8   Brand_9  0.061126  (0.0604, 0.318]          low\n",
       "9  Brand_10  0.256052  (0.0604, 0.318]          low"
      ]
     },
     "execution_count": 16,
     "metadata": {},
     "output_type": "execute_result"
    }
   ],
   "source": [
    "# Create a sample DataFrame as I can not disclose the original data\n",
    "import random\n",
    "HHI = [random.random() for i in range(10)]\n",
    "Brands = [\"Brand_1\", \"Brand_2\", \"Brand_3\", \"Brand_4\", \"Brand_5\",\n",
    "          \"Brand_6\", \"Brand_7\", \"Brand_8\", \"Brand_9\", \"Brand_10\"]\n",
    "\n",
    "df = pd.DataFrame({\"brand\": Brands, \"hhi\": HHI})\n",
    "\n",
    "# Use pandas.cut()\n",
    "df[\"binned_hhi\"] = pd.cut(df[\"hhi\"], bins=3)\n",
    "df[\"brand_bucket\"] = pd.cut(df[\"hhi\"], \n",
    "                            bins=3, \n",
    "                            labels = [\"low\", \"medium\", \"high\"])\n",
    "df"
   ]
  },
  {
   "cell_type": "code",
   "execution_count": 17,
   "metadata": {},
   "outputs": [
    {
     "name": "stdout",
     "output_type": "stream",
     "text": [
      "   Series1   qcut_Series1    cut_Series1\n",
      "0       17   (14.5, 26.0]  (5.908, 29.0]\n",
      "1       47  (26.0, 70.25]   (29.0, 52.0]\n",
      "2       35  (26.0, 70.25]   (29.0, 52.0]\n",
      "3        6  (5.999, 14.5]  (5.908, 29.0]\n",
      "4        6  (5.999, 14.5]  (5.908, 29.0]\n",
      "5       16   (14.5, 26.0]  (5.908, 29.0]\n",
      "6       78  (70.25, 98.0]   (75.0, 98.0]\n",
      "7       14  (5.999, 14.5]  (5.908, 29.0]\n",
      "8       79  (70.25, 98.0]   (75.0, 98.0]\n",
      "9       98  (70.25, 98.0]   (75.0, 98.0]\n"
     ]
    }
   ],
   "source": [
    "Series1 = pd.Series([17, 47, 35, 6, 6, 16, 78, 14, 79, 98])\n",
    "df = pd.DataFrame({\"Series1\": Series1})\n",
    "\n",
    "df[\"qcut_Series1\"] = pd.qcut(df[\"Series1\"], q=4) # Use qcut()\n",
    "df[\"cut_Series1\"] = pd.cut(df[\"Series1\"], bins=4) # Use cut()\n",
    "print(df)"
   ]
  },
  {
   "cell_type": "code",
   "execution_count": 18,
   "metadata": {},
   "outputs": [
    {
     "data": {
      "text/plain": [
       "cut_Series1\n",
       "(5.908, 29.0]    5\n",
       "(75.0, 98.0]     3\n",
       "(29.0, 52.0]     2\n",
       "(52.0, 75.0]     0\n",
       "Name: count, dtype: int64"
      ]
     },
     "execution_count": 18,
     "metadata": {},
     "output_type": "execute_result"
    }
   ],
   "source": [
    "# Check the data distribution of each bucket when cut() was used\n",
    "df[\"cut_Series1\"].value_counts()"
   ]
  },
  {
   "cell_type": "code",
   "execution_count": 19,
   "metadata": {},
   "outputs": [
    {
     "data": {
      "text/plain": [
       "qcut_Series1\n",
       "(5.999, 14.5]    3\n",
       "(70.25, 98.0]    3\n",
       "(14.5, 26.0]     2\n",
       "(26.0, 70.25]    2\n",
       "Name: count, dtype: int64"
      ]
     },
     "execution_count": 19,
     "metadata": {},
     "output_type": "execute_result"
    }
   ],
   "source": [
    "# Check the data distribution of each bucket when qcut() was used\n",
    "df[\"qcut_Series1\"].value_counts()"
   ]
  },
  {
   "cell_type": "code",
   "execution_count": 23,
   "metadata": {},
   "outputs": [
    {
     "data": {
      "text/html": [
       "<div>\n",
       "<style scoped>\n",
       "    .dataframe tbody tr th:only-of-type {\n",
       "        vertical-align: middle;\n",
       "    }\n",
       "\n",
       "    .dataframe tbody tr th {\n",
       "        vertical-align: top;\n",
       "    }\n",
       "\n",
       "    .dataframe thead th {\n",
       "        text-align: right;\n",
       "    }\n",
       "</style>\n",
       "<table border=\"1\" class=\"dataframe\">\n",
       "  <thead>\n",
       "    <tr style=\"text-align: right;\">\n",
       "      <th></th>\n",
       "      <th>brand</th>\n",
       "      <th>hhi</th>\n",
       "      <th>binned_hhi_qcut</th>\n",
       "      <th>brand_bucket_qcut</th>\n",
       "    </tr>\n",
       "  </thead>\n",
       "  <tbody>\n",
       "    <tr>\n",
       "      <th>0</th>\n",
       "      <td>Brand_1</td>\n",
       "      <td>0.288763</td>\n",
       "      <td>(0.036699999999999997, 0.378]</td>\n",
       "      <td>low</td>\n",
       "    </tr>\n",
       "    <tr>\n",
       "      <th>1</th>\n",
       "      <td>Brand_2</td>\n",
       "      <td>0.745979</td>\n",
       "      <td>(0.561, 0.88]</td>\n",
       "      <td>high</td>\n",
       "    </tr>\n",
       "    <tr>\n",
       "      <th>2</th>\n",
       "      <td>Brand_3</td>\n",
       "      <td>0.560790</td>\n",
       "      <td>(0.378, 0.561]</td>\n",
       "      <td>medium</td>\n",
       "    </tr>\n",
       "    <tr>\n",
       "      <th>3</th>\n",
       "      <td>Brand_4</td>\n",
       "      <td>0.771489</td>\n",
       "      <td>(0.561, 0.88]</td>\n",
       "      <td>high</td>\n",
       "    </tr>\n",
       "    <tr>\n",
       "      <th>4</th>\n",
       "      <td>Brand_5</td>\n",
       "      <td>0.037660</td>\n",
       "      <td>(0.036699999999999997, 0.378]</td>\n",
       "      <td>low</td>\n",
       "    </tr>\n",
       "    <tr>\n",
       "      <th>5</th>\n",
       "      <td>Brand_6</td>\n",
       "      <td>0.879950</td>\n",
       "      <td>(0.561, 0.88]</td>\n",
       "      <td>high</td>\n",
       "    </tr>\n",
       "    <tr>\n",
       "      <th>6</th>\n",
       "      <td>Brand_7</td>\n",
       "      <td>0.152428</td>\n",
       "      <td>(0.036699999999999997, 0.378]</td>\n",
       "      <td>low</td>\n",
       "    </tr>\n",
       "    <tr>\n",
       "      <th>7</th>\n",
       "      <td>Brand_8</td>\n",
       "      <td>0.378472</td>\n",
       "      <td>(0.036699999999999997, 0.378]</td>\n",
       "      <td>low</td>\n",
       "    </tr>\n",
       "    <tr>\n",
       "      <th>8</th>\n",
       "      <td>Brand_9</td>\n",
       "      <td>0.559757</td>\n",
       "      <td>(0.378, 0.561]</td>\n",
       "      <td>medium</td>\n",
       "    </tr>\n",
       "    <tr>\n",
       "      <th>9</th>\n",
       "      <td>Brand_10</td>\n",
       "      <td>0.414955</td>\n",
       "      <td>(0.378, 0.561]</td>\n",
       "      <td>medium</td>\n",
       "    </tr>\n",
       "  </tbody>\n",
       "</table>\n",
       "</div>"
      ],
      "text/plain": [
       "      brand       hhi                binned_hhi_qcut brand_bucket_qcut\n",
       "0   Brand_1  0.288763  (0.036699999999999997, 0.378]               low\n",
       "1   Brand_2  0.745979                  (0.561, 0.88]              high\n",
       "2   Brand_3  0.560790                 (0.378, 0.561]            medium\n",
       "3   Brand_4  0.771489                  (0.561, 0.88]              high\n",
       "4   Brand_5  0.037660  (0.036699999999999997, 0.378]               low\n",
       "5   Brand_6  0.879950                  (0.561, 0.88]              high\n",
       "6   Brand_7  0.152428  (0.036699999999999997, 0.378]               low\n",
       "7   Brand_8  0.378472  (0.036699999999999997, 0.378]               low\n",
       "8   Brand_9  0.559757                 (0.378, 0.561]            medium\n",
       "9  Brand_10  0.414955                 (0.378, 0.561]            medium"
      ]
     },
     "execution_count": 23,
     "metadata": {},
     "output_type": "execute_result"
    }
   ],
   "source": [
    "# Create a sample DataFrame as I can not disclose the original data\n",
    "import random\n",
    "HHI = [random.random() for i in range(10)]\n",
    "Brands = [\"Brand_1\", \"Brand_2\", \"Brand_3\", \"Brand_4\", \"Brand_5\",\n",
    "          \"Brand_6\", \"Brand_7\", \"Brand_8\", \"Brand_9\", \"Brand_10\"]\n",
    "\n",
    "df = pd.DataFrame({\"brand\": Brands, \"hhi\": HHI})\n",
    "#print(df)\n",
    "df[\"binned_hhi_qcut\"] = pd.qcut(df[\"hhi\"], q=3)\n",
    "df[\"brand_bucket_qcut\"] = pd.qcut(df[\"hhi\"], \n",
    "                            q=3, \n",
    "                            labels = [\"low\", \"medium\", \"high\"])\n",
    "df"
   ]
  },
  {
   "cell_type": "code",
   "execution_count": null,
   "metadata": {},
   "outputs": [],
   "source": []
  }
 ],
 "metadata": {
  "kernelspec": {
   "display_name": "Python 3",
   "language": "python",
   "name": "python3"
  },
  "language_info": {
   "codemirror_mode": {
    "name": "ipython",
    "version": 3
   },
   "file_extension": ".py",
   "mimetype": "text/x-python",
   "name": "python",
   "nbconvert_exporter": "python",
   "pygments_lexer": "ipython3",
   "version": "3.11.4"
  },
  "orig_nbformat": 4
 },
 "nbformat": 4,
 "nbformat_minor": 2
}
