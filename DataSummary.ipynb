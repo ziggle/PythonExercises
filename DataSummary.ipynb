{
  "metadata": {
    "language_info": {
      "codemirror_mode": {
        "name": "python",
        "version": 3
      },
      "file_extension": ".py",
      "mimetype": "text/x-python",
      "name": "python",
      "nbconvert_exporter": "python",
      "pygments_lexer": "ipython3",
      "version": "3.8"
    },
    "kernelspec": {
      "name": "python",
      "display_name": "Python (Pyodide)",
      "language": "python"
    }
  },
  "nbformat_minor": 4,
  "nbformat": 4,
  "cells": [
    {
      "cell_type": "code",
      "source": "import pandas as pd\n\ndct ={\"Product\":[\"A\",\"B\",\"A\",\"B\"],\n                         \"Date\":[\"2021-01-01\",\"2021-01-01\",\"2021-01-02\",\"2021-01-02\"],\n                         \"Sales\":[100,200,150,250]}\nprint(dct)          \nsales_data=pd.DataFrame(dct)\nprint(sales_data)",
      "metadata": {
        "trusted": true
      },
      "execution_count": 3,
      "outputs": [
        {
          "name": "stdout",
          "text": "{'Product': ['A', 'B', 'A', 'B'], 'Date': ['2021-01-01', '2021-01-01', '2021-01-02', '2021-01-02'], 'Sales': [100, 200, 150, 250]}\n  Product        Date  Sales\n0       A  2021-01-01    100\n1       B  2021-01-01    200\n2       A  2021-01-02    150\n3       B  2021-01-02    250\n",
          "output_type": "stream"
        }
      ]
    },
    {
      "cell_type": "code",
      "source": "pivot_table = sales_data.pivot_table(index='Product', columns='Date', \n                                    values='Sales', aggfunc='sum')\n\nprint(pivot_table)",
      "metadata": {
        "trusted": true
      },
      "execution_count": 4,
      "outputs": [
        {
          "name": "stdout",
          "text": "Date     2021-01-01  2021-01-02\nProduct                        \nA               100         150\nB               200         250\n",
          "output_type": "stream"
        }
      ]
    },
    {
      "cell_type": "code",
      "source": "\nscores_data = pd.DataFrame({\"Name\":[\"Alice\",\"Bob\",\"Alice\",\"Bob\"],\"Subject\":[\"Math\",\"Math\",\"Science\",\"Science\"],\"Score\":[90,80,95,85]})",
      "metadata": {
        "trusted": true
      },
      "execution_count": 7,
      "outputs": []
    },
    {
      "cell_type": "code",
      "source": "import pandas as pd\n\n\npivot_table = scores_data.pivot_table(index='Name', columns='Subject', values='Score', aggfunc='mean')\n\nprint(pivot_table)",
      "metadata": {
        "trusted": true
      },
      "execution_count": 8,
      "outputs": [
        {
          "name": "stdout",
          "text": "Subject  Math  Science\nName                  \nAlice      90       95\nBob        80       85\n",
          "output_type": "stream"
        }
      ]
    },
    {
      "cell_type": "code",
      "source": "\nsalary_data=pd.DataFrame({\"Employee\":[\"John\",\"Jane\",\"Tom\",\"Mary\"],\"Department\":[\"Marketing\",\"Sales\",\"Marketing\",\"Sales\"],\"Salary\":[5000,6000,44500,5500]})\npivot_table = salary_data.pivot_table(index='Department', values='Salary', \n                                      aggfunc='mean')\n\nprint(pivot_table)",
      "metadata": {
        "trusted": true
      },
      "execution_count": 10,
      "outputs": [
        {
          "name": "stdout",
          "text": "            Salary\nDepartment        \nMarketing    24750\nSales         5750\n",
          "output_type": "stream"
        }
      ]
    },
    {
      "cell_type": "code",
      "source": "",
      "metadata": {},
      "execution_count": null,
      "outputs": []
    }
  ]
}