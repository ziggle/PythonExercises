{
 "cells": [
  {
   "cell_type": "markdown",
   "metadata": {},
   "source": [
    "https://python.plainenglish.io/10-surprising-ways-to-use-generators-in-python-426a38a0d5eb"
   ]
  },
  {
   "cell_type": "code",
   "execution_count": 1,
   "metadata": {},
   "outputs": [
    {
     "name": "stdout",
     "output_type": "stream",
     "text": [
      "1\n",
      "2\n",
      "3\n",
      "4\n",
      "5\n",
      "6\n",
      "7\n",
      "8\n",
      "9\n",
      "10\n"
     ]
    }
   ],
   "source": [
    "def natural_numbers():\n",
    "    n = 1\n",
    "    while True:\n",
    "        yield n\n",
    "        n += 1\n",
    "\n",
    "for num in natural_numbers():\n",
    "    print(num)\n",
    "    if num >= 10:\n",
    "        break"
   ]
  },
  {
   "cell_type": "code",
   "execution_count": 2,
   "metadata": {},
   "outputs": [
    {
     "name": "stdout",
     "output_type": "stream",
     "text": [
      "0\n",
      "1\n",
      "1\n",
      "2\n",
      "3\n",
      "5\n",
      "8\n",
      "13\n",
      "21\n",
      "34\n"
     ]
    }
   ],
   "source": [
    "def fibonacci():\n",
    "    a, b = 0, 1\n",
    "    while True:\n",
    "        yield a\n",
    "        a, b = b, a + b\n",
    "\n",
    "f = fibonacci()\n",
    "for _ in range(10):\n",
    "    print(next(f))"
   ]
  },
  {
   "cell_type": "code",
   "execution_count": 3,
   "metadata": {},
   "outputs": [
    {
     "name": "stdout",
     "output_type": "stream",
     "text": [
      "Tracked: Hello\n",
      "Tracked: Python\n"
     ]
    }
   ],
   "source": [
    "def tracker():\n",
    "    while True:\n",
    "        x = yield\n",
    "        print(\"Tracked:\", x)\n",
    "\n",
    "t = tracker()\n",
    "next(t)  # Advance to first yield\n",
    "t.send(\"Hello\")\n",
    "t.send(\"Python\")"
   ]
  },
  {
   "cell_type": "code",
   "execution_count": 5,
   "metadata": {},
   "outputs": [],
   "source": [
    "def read_file(file_name):\n",
    "    with open(file_name, \"r\") as file:\n",
    "        for line in file:\n",
    "            yield line\n",
    "\n",
    "def filter_lines(lines):\n",
    "    return (line for line in lines if \"error\" in line)\n",
    "logs = read_file(\"app_logs.txt\")\n",
    "filtered_logs = filter_lines(logs)\n",
    "for log in filtered_logs:\n",
    "    print(log)"
   ]
  },
  {
   "cell_type": "code",
   "execution_count": 6,
   "metadata": {},
   "outputs": [],
   "source": [
    "def fetch_data(database, batch_size=1000):\n",
    "    offset = 0\n",
    "    while True:\n",
    "        data = database.fetch(offset, offset + batch_size)\n",
    "        if not data:\n",
    "            break\n",
    "        offset += batch_size\n",
    "        for record in data:\n",
    "            yield record"
   ]
  },
  {
   "cell_type": "code",
   "execution_count": 7,
   "metadata": {},
   "outputs": [
    {
     "name": "stdout",
     "output_type": "stream",
     "text": [
      "Task 0 ran\n",
      "Task 1 ran\n",
      "Task 2 ran\n",
      "Task 0 ran\n",
      "Task 1 ran\n"
     ]
    }
   ],
   "source": [
    "def task(name, task_queue):\n",
    "    while not task_queue.empty():\n",
    "        delay = task_queue.get()\n",
    "        yield delay\n",
    "        print(f\"Task {name} ran\")\n",
    "\n",
    "import queue, time\n",
    "task_queue = queue.Queue()\n",
    "# Fill task queue\n",
    "for i in range(5):\n",
    "    task_queue.put(i)\n",
    "# Start tasks\n",
    "tasks = [task(i, task_queue) for i in range(3)]\n",
    "while tasks:\n",
    "    for t in tasks:\n",
    "        try:\n",
    "            time.sleep(next(t))\n",
    "        except StopIteration:\n",
    "            tasks.remove(t)"
   ]
  },
  {
   "cell_type": "code",
   "execution_count": 8,
   "metadata": {},
   "outputs": [],
   "source": [
    "import itertools\n",
    "def numbers():\n",
    "    for i in range(10):\n",
    "        yield i\n",
    "\n",
    "gen1, gen2 = itertools.tee(numbers())"
   ]
  },
  {
   "cell_type": "code",
   "execution_count": 9,
   "metadata": {},
   "outputs": [
    {
     "name": "stdout",
     "output_type": "stream",
     "text": [
      "85\n",
      "75\n",
      "29\n",
      "26\n",
      "11\n",
      "66\n",
      "84\n",
      "83\n",
      "50\n",
      "7\n",
      "1\n",
      "20\n",
      "18\n",
      "23\n",
      "7\n",
      "18\n",
      "81\n",
      "71\n",
      "89\n",
      "96\n",
      "62\n",
      "61\n",
      "67\n",
      "32\n",
      "78\n",
      "63\n",
      "35\n",
      "67\n",
      "52\n",
      "46\n",
      "89\n",
      "63\n",
      "91\n",
      "0\n",
      "3\n",
      "88\n",
      "12\n",
      "86\n",
      "18\n",
      "47\n",
      "30\n",
      "49\n",
      "99\n",
      "86\n",
      "36\n",
      "0\n",
      "32\n",
      "71\n",
      "31\n",
      "82\n",
      "52\n",
      "52\n",
      "19\n",
      "29\n"
     ]
    },
    {
     "ename": "KeyboardInterrupt",
     "evalue": "",
     "output_type": "error",
     "traceback": [
      "\u001b[1;31m---------------------------------------------------------------------------\u001b[0m",
      "\u001b[1;31mKeyboardInterrupt\u001b[0m                         Traceback (most recent call last)",
      "Cell \u001b[1;32mIn[9], line 7\u001b[0m\n\u001b[0;32m      4\u001b[0m         \u001b[39myield\u001b[39;00m random\u001b[39m.\u001b[39mrandint(\u001b[39m0\u001b[39m, \u001b[39m100\u001b[39m)\n\u001b[0;32m      5\u001b[0m         time\u001b[39m.\u001b[39msleep(\u001b[39m1\u001b[39m)\n\u001b[1;32m----> 7\u001b[0m \u001b[39mfor\u001b[39;00m data \u001b[39min\u001b[39;00m sensor_data():\n\u001b[0;32m      8\u001b[0m     \u001b[39mprint\u001b[39m(data)\n",
      "Cell \u001b[1;32mIn[9], line 5\u001b[0m, in \u001b[0;36msensor_data\u001b[1;34m()\u001b[0m\n\u001b[0;32m      3\u001b[0m \u001b[39mwhile\u001b[39;00m \u001b[39mTrue\u001b[39;00m:\n\u001b[0;32m      4\u001b[0m     \u001b[39myield\u001b[39;00m random\u001b[39m.\u001b[39mrandint(\u001b[39m0\u001b[39m, \u001b[39m100\u001b[39m)\n\u001b[1;32m----> 5\u001b[0m     time\u001b[39m.\u001b[39msleep(\u001b[39m1\u001b[39m)\n",
      "\u001b[1;31mKeyboardInterrupt\u001b[0m: "
     ]
    }
   ],
   "source": [
    "import time, random\n",
    "def sensor_data():\n",
    "    while True:\n",
    "        yield random.randint(0, 100)\n",
    "        time.sleep(1)\n",
    "\n",
    "for data in sensor_data():\n",
    "    print(data)"
   ]
  },
  {
   "cell_type": "code",
   "execution_count": null,
   "metadata": {},
   "outputs": [],
   "source": [
    "def controlled_generator():\n",
    "    while True:\n",
    "        try:\n",
    "            yield\n",
    "        except CustomException:\n",
    "            print(\"Custom exception handled!\")\n",
    "        except Exception:\n",
    "            print(\"Exception handled!\")\n",
    "\n",
    "gen = controlled_generator()\n",
    "next(gen)  # Advance to first yield\n",
    "gen.throw(Exception)"
   ]
  }
 ],
 "metadata": {
  "kernelspec": {
   "display_name": "Python 3",
   "language": "python",
   "name": "python3"
  },
  "language_info": {
   "codemirror_mode": {
    "name": "ipython",
    "version": 3
   },
   "file_extension": ".py",
   "mimetype": "text/x-python",
   "name": "python",
   "nbconvert_exporter": "python",
   "pygments_lexer": "ipython3",
   "version": "3.11.4"
  },
  "orig_nbformat": 4
 },
 "nbformat": 4,
 "nbformat_minor": 2
}
