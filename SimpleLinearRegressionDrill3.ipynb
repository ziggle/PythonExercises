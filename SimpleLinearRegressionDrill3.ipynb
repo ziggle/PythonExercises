{
 "cells": [
  {
   "cell_type": "markdown",
   "id": "41754ceb",
   "metadata": {},
   "source": [
    "https://blog.gopenai.com/unleashing-the-power-of-linear-regression-in-python-an-in-depth-guide-with-practical-coding-ac012326086f"
   ]
  },
  {
   "cell_type": "code",
   "execution_count": 16,
   "id": "a0992678",
   "metadata": {},
   "outputs": [
    {
     "name": "stdout",
     "output_type": "stream",
     "text": [
      "Coefficient: [9.34830141]\n",
      "Intercept: -36.24631889813795\n"
     ]
    }
   ],
   "source": [
    "from sklearn import datasets\n",
    "from sklearn.model_selection import train_test_split\n",
    "from sklearn.linear_model import LinearRegression\n",
    "\n",
    "# Load the Boston housing dataset\n",
    "boston = datasets.load_boston()\n",
    "# Define predictors and response\n",
    "X = boston.data[:, 5:6] # average number of rooms\n",
    "y = boston.target # house prices\n",
    "# Split data into training and test sets\n",
    "X_train, X_test, y_train, y_test = train_test_split(X, y, test_size=0.2, \n",
    "                                                    random_state=42)\n",
    "# Fit the linear regression model\n",
    "model = LinearRegression().fit(X_train, y_train)\n",
    "# Print the coefficient and intercept\n",
    "print('Coefficient:', model.coef_)\n",
    "print('Intercept:', model.intercept_)"
   ]
  },
  {
   "cell_type": "code",
   "execution_count": 17,
   "id": "a590091f",
   "metadata": {},
   "outputs": [
    {
     "data": {
      "image/png": "[encoded data removed]",
      "text/plain": [
       "<Figure size 432x288 with 1 Axes>"
      ]
     },
     "metadata": {
      "needs_background": "light"
     },
     "output_type": "display_data"
    }
   ],
   "source": [
    "import matplotlib.pyplot as plt\n",
    "\n",
    "# Plot the data and the model prediction\n",
    "plt.scatter(X_train, y_train)\n",
    "plt.plot(X_train, model.predict(X_train), color='red')\n",
    "plt.show()"
   ]
  },
  {
   "cell_type": "code",
   "execution_count": 18,
   "id": "46de4c71",
   "metadata": {},
   "outputs": [
    {
     "name": "stdout",
     "output_type": "stream",
     "text": [
      "Coefficients: [ 5.46509877 -0.63249856]\n",
      "Intercept: -3.841177079004865\n"
     ]
    }
   ],
   "source": [
    "# Define predictors and response\n",
    "X = boston.data[:, [5, 12]] # RM and LSTAT\n",
    "y = boston.target # house prices\n",
    "\n",
    "# Split data into training and test sets\n",
    "X_train, X_test, y_train, y_test = train_test_split(X, y, test_size=0.2, \n",
    "random_state=42)\n",
    "# Fit the multiple linear regression model\n",
    "model = LinearRegression().fit(X_train, y_train)\n",
    "# Print the coefficients and intercept\n",
    "print('Coefficients:', model.coef_)\n",
    "print('Intercept:', model.intercept_)"
   ]
  },
  {
   "cell_type": "markdown",
   "id": "fd019fc0",
   "metadata": {},
   "source": [
    "# Question Review"
   ]
  },
  {
   "cell_type": "markdown",
   "id": "4621661a",
   "metadata": {},
   "source": [
    "1. Define simple linear regression and its key elements. How is it different from multiple linear regression?\n",
    "\n",
    "We normally learn about linear regression with the following expression, where a is the intercept and b is the slope.\n",
    "\n",
    "$$\n",
    "y =a +b \\cdot x\n",
    "$$\n",
    "\n",
    "Multiple regression can be described with the following expression.\n",
    "\n",
    "$$\n",
    "y =a +b_1 \\cdot x_1 +b_2 \\cdot x_2 + \\ldots + b_n \\cdot x_n\n",
    "$$\n"
   ]
  },
  {
   "cell_type": "code",
   "execution_count": null,
   "id": "40ee2b50",
   "metadata": {},
   "outputs": [],
   "source": []
  }
 ],
 "metadata": {
  "kernelspec": {
   "display_name": "Python 3 (ipykernel)",
   "language": "python",
   "name": "python3"
  },
  "language_info": {
   "codemirror_mode": {
    "name": "ipython",
    "version": 3
   },
   "file_extension": ".py",
   "mimetype": "text/x-python",
   "name": "python",
   "nbconvert_exporter": "python",
   "pygments_lexer": "ipython3",
   "version": "3.9.7"
  }
 },
 "nbformat": 4,
 "nbformat_minor": 5
}
