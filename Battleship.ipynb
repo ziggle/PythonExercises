{
 "cells": [
  {
   "cell_type": "code",
   "execution_count": 26,
   "metadata": {},
   "outputs": [
    {
     "name": "stdout",
     "output_type": "stream",
     "text": [
      "The commissioning date of the Zuikaku is 25 September 1941.\n",
      "The commissioning date of the Akagi is 25 March 1927.\n",
      "The commissioning date of the Hiryu is 5 July 1939.\n",
      "The commissioning date of the Shokaku is 8 August 1941.\n",
      "The commissioning date of the Shoryu is 29 December 1937.\n",
      "The commissioning date of the Kaga is 30 November 1929.\n"
     ]
    }
   ],
   "source": [
    "import requests\n",
    "from lxml import html\n",
    "\n",
    "# URL of the Wikipedia page to scrape\n",
    "nms=['Zuikaku','Akagi','Hiryu','Shokaku','Shoryu','Kaga']\n",
    "\n",
    "lst=['https://en.wikipedia.org/wiki/Japanese_aircraft_carrier_Zuikaku',\n",
    "     'https://en.wikipedia.org/wiki/Japanese_aircraft_carrier_Akagi',\n",
    "     'https://en.wikipedia.org/wiki/Japanese_aircraft_carrier_Hiry%C5%AB',\n",
    "     'https://en.wikipedia.org/wiki/Japanese_aircraft_carrier_Sh%C5%8Dkaku',\n",
    "     'https://en.wikipedia.org/wiki/Japanese_aircraft_carrier_S%C5%8Dry%C5%AB',\n",
    "     'https://en.wikipedia.org/wiki/Japanese_aircraft_carrier_Kaga']\n",
    "#url = 'https://en.wikipedia.org/wiki/USS_Iowa_(BB-61)'\n",
    "#url = 'https://en.wikipedia.org/wiki/Japanese_aircraft_carrier_Akagi'\n",
    "\n",
    "# XPATH to extract the commissioning date\n",
    "#xpath = '//*[@id=\"mw-content-text\"]/div[1]/table[1]/tbody/tr[10]/td[2]//text()'\n",
    "#xpath = '//*[@id=\"mw-content-text\"]/div[1]/table/tbody/tr[20]/td[2]//text()'\n",
    "xpath = '//td[text()=\"Commissioned\"]/following::td//text()'\n",
    "#//*[@id=\"mw-content-text\"]/div[1]/table[1]/tbody/tr[10]/td[2]\n",
    "\n",
    "# Send a GET request to the URL and get the HTML content\n",
    "for n, u in zip(nms,lst):\n",
    "    response = requests.get(u)\n",
    "    content = response.content\n",
    "    #print(content)\n",
    "\n",
    "    # Parse the HTML content using lxml\n",
    "    tree = html.fromstring(content)\n",
    "\n",
    "    # Extract the commissioning date using XPATH\n",
    "    commissioning_date = tree.xpath(xpath)[0]\n",
    "\n",
    "    print(f\"The commissioning date of the {n} is {commissioning_date}.\")"
   ]
  },
  {
   "cell_type": "code",
   "execution_count": null,
   "metadata": {},
   "outputs": [],
   "source": []
  }
 ],
 "metadata": {
  "kernelspec": {
   "display_name": "Python 3",
   "language": "python",
   "name": "python3"
  },
  "language_info": {
   "codemirror_mode": {
    "name": "ipython",
    "version": 3
   },
   "file_extension": ".py",
   "mimetype": "text/x-python",
   "name": "python",
   "nbconvert_exporter": "python",
   "pygments_lexer": "ipython3",
   "version": "3.11.6"
  }
 },
 "nbformat": 4,
 "nbformat_minor": 2
}
