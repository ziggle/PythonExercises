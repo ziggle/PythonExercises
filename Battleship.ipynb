{
 "cells": [
  {
   "cell_type": "code",
   "execution_count": 87,
   "metadata": {},
   "outputs": [
    {
     "name": "stdout",
     "output_type": "stream",
     "text": [
      "Print out sinking dates of a selection of IJN carriers and battleships:\n",
      "\tShip sunk:           Kaga-Pearl with the fated day listed as     4 June 1942\n",
      "\tShip sunk:        Zuikaku-Pearl with the fated day listed as 25 October 1944\n",
      "\tShip sunk:          Akagi-Pearl with the fated day listed as     5 June 1942\n",
      "\tShip sunk:          Hiryu-Pearl with the fated day listed as     5 June 1942\n",
      "\tShip sunk:        Shokaku-Pearl with the fated day listed as    19 June 1944\n",
      "\tShip sunk:          Soryu-Pearl with the fated day listed as     4 June 1942\n",
      "\tShip sunk:               Hyruga with the fated day listed as    27 July 1945\n",
      "\tShip sunk:                  Ise with the fated day listed as    28 July 1945\n",
      "\tShip sunk:               Nagato with the fated day listed as    30 July 1946\n",
      "\tShip sunk:                Mutsu with the fated day listed as     8 June 1943\n"
     ]
    },
    {
     "data": {
      "text/html": [
       "<div>\n",
       "<style scoped>\n",
       "    .dataframe tbody tr th:only-of-type {\n",
       "        vertical-align: middle;\n",
       "    }\n",
       "\n",
       "    .dataframe tbody tr th {\n",
       "        vertical-align: top;\n",
       "    }\n",
       "\n",
       "    .dataframe thead th {\n",
       "        text-align: right;\n",
       "    }\n",
       "</style>\n",
       "<table border=\"1\" class=\"dataframe\">\n",
       "  <thead>\n",
       "    <tr style=\"text-align: right;\">\n",
       "      <th></th>\n",
       "      <th>Ship</th>\n",
       "      <th>Fate</th>\n",
       "    </tr>\n",
       "  </thead>\n",
       "  <tbody>\n",
       "    <tr>\n",
       "      <th>0</th>\n",
       "      <td>Kaga-Pearl</td>\n",
       "      <td>4 June 1942</td>\n",
       "    </tr>\n",
       "    <tr>\n",
       "      <th>1</th>\n",
       "      <td>Zuikaku-Pearl</td>\n",
       "      <td>25 October 1944</td>\n",
       "    </tr>\n",
       "    <tr>\n",
       "      <th>2</th>\n",
       "      <td>Akagi-Pearl</td>\n",
       "      <td>5 June 1942</td>\n",
       "    </tr>\n",
       "    <tr>\n",
       "      <th>3</th>\n",
       "      <td>Hiryu-Pearl</td>\n",
       "      <td>5 June 1942</td>\n",
       "    </tr>\n",
       "    <tr>\n",
       "      <th>4</th>\n",
       "      <td>Shokaku-Pearl</td>\n",
       "      <td>19 June 1944</td>\n",
       "    </tr>\n",
       "    <tr>\n",
       "      <th>5</th>\n",
       "      <td>Soryu-Pearl</td>\n",
       "      <td>4 June 1942</td>\n",
       "    </tr>\n",
       "    <tr>\n",
       "      <th>6</th>\n",
       "      <td>Hyruga</td>\n",
       "      <td>27 July 1945</td>\n",
       "    </tr>\n",
       "    <tr>\n",
       "      <th>7</th>\n",
       "      <td>Ise</td>\n",
       "      <td>28 July 1945</td>\n",
       "    </tr>\n",
       "    <tr>\n",
       "      <th>8</th>\n",
       "      <td>Nagato</td>\n",
       "      <td>30 July 1946</td>\n",
       "    </tr>\n",
       "    <tr>\n",
       "      <th>9</th>\n",
       "      <td>Mutsu</td>\n",
       "      <td>8 June 1943</td>\n",
       "    </tr>\n",
       "  </tbody>\n",
       "</table>\n",
       "</div>"
      ],
      "text/plain": [
       "            Ship             Fate\n",
       "0     Kaga-Pearl      4 June 1942\n",
       "1  Zuikaku-Pearl  25 October 1944\n",
       "2    Akagi-Pearl      5 June 1942\n",
       "3    Hiryu-Pearl      5 June 1942\n",
       "4  Shokaku-Pearl     19 June 1944\n",
       "5    Soryu-Pearl      4 June 1942\n",
       "6         Hyruga     27 July 1945\n",
       "7            Ise     28 July 1945\n",
       "8         Nagato     30 July 1946\n",
       "9          Mutsu      8 June 1943"
      ]
     },
     "metadata": {},
     "output_type": "display_data"
    }
   ],
   "source": [
    "'''Here are the Pearl Harbor Carriers \n",
    "1. Akagi\n",
    "2. Kaga\n",
    "3. Soryu\n",
    "4. Hiryu\n",
    "5. Shokaku\n",
    "6. Zuikaku\n",
    "\n",
    "'''\n",
    "\n",
    "import pandas as pd\n",
    "import requests\n",
    "from lxml import html\n",
    "import re\n",
    "import time \n",
    "\n",
    "# URL of the Wikipedia page to scrape\n",
    "tab=\"\\t\"\n",
    "nms=['Kaga-Pearl','Zuikaku-Pearl','Akagi-Pearl','Hiryu-Pearl','Shokaku-Pearl','Soryu-Pearl','Hyruga','Ise','Nagato','Mutsu']\n",
    "lst=['https://en.wikipedia.org/wiki/Japanese_aircraft_carrier_Kaga',\n",
    "    'https://en.wikipedia.org/wiki/Japanese_aircraft_carrier_Zuikaku',\n",
    "     'https://en.wikipedia.org/wiki/Japanese_aircraft_carrier_Akagi',\n",
    "     'https://en.wikipedia.org/wiki/Japanese_aircraft_carrier_Hiry%C5%AB',\n",
    "     'https://en.wikipedia.org/wiki/Japanese_aircraft_carrier_Sh%C5%8Dkaku',\n",
    "     'https://en.wikipedia.org/wiki/Japanese_aircraft_carrier_S%C5%8Dry%C5%AB',\n",
    "    \n",
    "     'https://en.wikipedia.org/wiki/Japanese_battleship_Hy%C5%ABga',\n",
    "     'https://en.wikipedia.org/wiki/Japanese_battleship_Ise',\n",
    "     'https://en.wikipedia.org/wiki/Japanese_battleship_Nagato',\n",
    "     'https://en.wikipedia.org/wiki/Japanese_battleship_Mutsu',]\n",
    "\n",
    "xpath='//tr/td[text()=\"Fate\"]/following-sibling::td[1]/text()'\n",
    "print(f'Print out sinking dates of a selection of IJN carriers and battleships:')\n",
    "d=list()\n",
    "for n, u in zip(nms,lst):\n",
    "    response = requests.get(u)\n",
    "    #time.sleep(0.25) Interesting that this is no longer needed.\n",
    "    content = response.content\n",
    "    tree = html.fromstring(content)\n",
    "    commissioning_date = tree.xpath(xpath)\n",
    "    z1 = \" \".join(commissioning_date[0:8])\n",
    "    z= re.findall(r'\\d{1,2} \\w{3,8} \\d{4}', z1)[0]\n",
    "    print(f'{tab}Ship sunk: {n:>20} with the fated day listed as {z:>15}')\n",
    "    d.append(z)\n",
    "df=pd.DataFrame({\"Ship\":nms,\"Fate\":d})\n",
    "display(df)"
   ]
  },
  {
   "cell_type": "code",
   "execution_count": 88,
   "metadata": {},
   "outputs": [
    {
     "name": "stdout",
     "output_type": "stream",
     "text": [
      "<class 'pandas.core.frame.DataFrame'>\n",
      "RangeIndex: 10 entries, 0 to 9\n",
      "Data columns (total 2 columns):\n",
      " #   Column  Non-Null Count  Dtype \n",
      "---  ------  --------------  ----- \n",
      " 0   Ship    10 non-null     object\n",
      " 1   Fate    10 non-null     object\n",
      "dtypes: object(2)\n",
      "memory usage: 292.0+ bytes\n"
     ]
    }
   ],
   "source": [
    "df.info()"
   ]
  },
  {
   "cell_type": "code",
   "execution_count": 89,
   "metadata": {},
   "outputs": [
    {
     "ename": "AssertionError",
     "evalue": "",
     "output_type": "error",
     "traceback": [
      "\u001b[1;31m---------------------------------------------------------------------------\u001b[0m",
      "\u001b[1;31mAssertionError\u001b[0m                            Traceback (most recent call last)",
      "\u001b[1;32mc:\\Users\\mbieg\\Dropbox\\GitHub\\PythonExercises\\Battleship.ipynb Cell 3\u001b[0m line \u001b[0;36m1\n\u001b[1;32m----> <a href='vscode-notebook-cell:/c%3A/Users/mbieg/Dropbox/GitHub/PythonExercises/Battleship.ipynb#W2sZmlsZQ%3D%3D?line=0'>1</a>\u001b[0m df\u001b[39m.\u001b[39mFate\u001b[39m=\u001b[39mpd\u001b[39m.\u001b[39;49mto_datetime(df\u001b[39m.\u001b[39;49mFate,\u001b[39m\"\u001b[39;49m\u001b[39m%d\u001b[39;49;00m\u001b[39m \u001b[39;49m\u001b[39m%\u001b[39;49m\u001b[39mB \u001b[39;49m\u001b[39m%\u001b[39;49m\u001b[39mY\u001b[39;49m\u001b[39m\"\u001b[39;49m)\n",
      "File \u001b[1;32m~\\AppData\\Local\\Packages\\PythonSoftwareFoundation.Python.3.11_qbz5n2kfra8p0\\LocalCache\\local-packages\\Python311\\site-packages\\pandas\\core\\tools\\datetimes.py:1050\u001b[0m, in \u001b[0;36mto_datetime\u001b[1;34m(arg, errors, dayfirst, yearfirst, utc, format, exact, unit, infer_datetime_format, origin, cache)\u001b[0m\n\u001b[0;32m   1048\u001b[0m         result \u001b[39m=\u001b[39m arg\u001b[39m.\u001b[39mmap(cache_array)\n\u001b[0;32m   1049\u001b[0m     \u001b[39melse\u001b[39;00m:\n\u001b[1;32m-> 1050\u001b[0m         values \u001b[39m=\u001b[39m convert_listlike(arg\u001b[39m.\u001b[39;49m_values, \u001b[39mformat\u001b[39;49m)\n\u001b[0;32m   1051\u001b[0m         result \u001b[39m=\u001b[39m arg\u001b[39m.\u001b[39m_constructor(values, index\u001b[39m=\u001b[39marg\u001b[39m.\u001b[39mindex, name\u001b[39m=\u001b[39marg\u001b[39m.\u001b[39mname)\n\u001b[0;32m   1052\u001b[0m \u001b[39melif\u001b[39;00m \u001b[39misinstance\u001b[39m(arg, (ABCDataFrame, abc\u001b[39m.\u001b[39mMutableMapping)):\n",
      "File \u001b[1;32m~\\AppData\\Local\\Packages\\PythonSoftwareFoundation.Python.3.11_qbz5n2kfra8p0\\LocalCache\\local-packages\\Python311\\site-packages\\pandas\\core\\tools\\datetimes.py:453\u001b[0m, in \u001b[0;36m_convert_listlike_datetimes\u001b[1;34m(arg, format, name, utc, unit, errors, dayfirst, yearfirst, exact)\u001b[0m\n\u001b[0;32m    451\u001b[0m \u001b[39m# `format` could be inferred, or user didn't ask for mixed-format parsing.\u001b[39;00m\n\u001b[0;32m    452\u001b[0m \u001b[39mif\u001b[39;00m \u001b[39mformat\u001b[39m \u001b[39mis\u001b[39;00m \u001b[39mnot\u001b[39;00m \u001b[39mNone\u001b[39;00m \u001b[39mand\u001b[39;00m \u001b[39mformat\u001b[39m \u001b[39m!=\u001b[39m \u001b[39m\"\u001b[39m\u001b[39mmixed\u001b[39m\u001b[39m\"\u001b[39m:\n\u001b[1;32m--> 453\u001b[0m     \u001b[39mreturn\u001b[39;00m _array_strptime_with_fallback(arg, name, utc, \u001b[39mformat\u001b[39;49m, exact, errors)\n\u001b[0;32m    455\u001b[0m result, tz_parsed \u001b[39m=\u001b[39m objects_to_datetime64ns(\n\u001b[0;32m    456\u001b[0m     arg,\n\u001b[0;32m    457\u001b[0m     dayfirst\u001b[39m=\u001b[39mdayfirst,\n\u001b[1;32m   (...)\u001b[0m\n\u001b[0;32m    461\u001b[0m     allow_object\u001b[39m=\u001b[39m\u001b[39mTrue\u001b[39;00m,\n\u001b[0;32m    462\u001b[0m )\n\u001b[0;32m    464\u001b[0m \u001b[39mif\u001b[39;00m tz_parsed \u001b[39mis\u001b[39;00m \u001b[39mnot\u001b[39;00m \u001b[39mNone\u001b[39;00m:\n\u001b[0;32m    465\u001b[0m     \u001b[39m# We can take a shortcut since the datetime64 numpy array\u001b[39;00m\n\u001b[0;32m    466\u001b[0m     \u001b[39m# is in UTC\u001b[39;00m\n",
      "File \u001b[1;32m~\\AppData\\Local\\Packages\\PythonSoftwareFoundation.Python.3.11_qbz5n2kfra8p0\\LocalCache\\local-packages\\Python311\\site-packages\\pandas\\core\\tools\\datetimes.py:484\u001b[0m, in \u001b[0;36m_array_strptime_with_fallback\u001b[1;34m(arg, name, utc, fmt, exact, errors)\u001b[0m\n\u001b[0;32m    473\u001b[0m \u001b[39mdef\u001b[39;00m \u001b[39m_array_strptime_with_fallback\u001b[39m(\n\u001b[0;32m    474\u001b[0m     arg,\n\u001b[0;32m    475\u001b[0m     name,\n\u001b[1;32m   (...)\u001b[0m\n\u001b[0;32m    479\u001b[0m     errors: \u001b[39mstr\u001b[39m,\n\u001b[0;32m    480\u001b[0m ) \u001b[39m-\u001b[39m\u001b[39m>\u001b[39m Index:\n\u001b[0;32m    481\u001b[0m \u001b[39m    \u001b[39m\u001b[39m\"\"\"\u001b[39;00m\n\u001b[0;32m    482\u001b[0m \u001b[39m    Call array_strptime, with fallback behavior depending on 'errors'.\u001b[39;00m\n\u001b[0;32m    483\u001b[0m \u001b[39m    \"\"\"\u001b[39;00m\n\u001b[1;32m--> 484\u001b[0m     result, timezones \u001b[39m=\u001b[39m array_strptime(arg, fmt, exact\u001b[39m=\u001b[39;49mexact, errors\u001b[39m=\u001b[39;49merrors, utc\u001b[39m=\u001b[39;49mutc)\n\u001b[0;32m    485\u001b[0m     \u001b[39mif\u001b[39;00m \u001b[39many\u001b[39m(tz \u001b[39mis\u001b[39;00m \u001b[39mnot\u001b[39;00m \u001b[39mNone\u001b[39;00m \u001b[39mfor\u001b[39;00m tz \u001b[39min\u001b[39;00m timezones):\n\u001b[0;32m    486\u001b[0m         \u001b[39mreturn\u001b[39;00m _return_parsed_timezone_results(result, timezones, utc, name)\n",
      "File \u001b[1;32m~\\AppData\\Local\\Packages\\PythonSoftwareFoundation.Python.3.11_qbz5n2kfra8p0\\LocalCache\\local-packages\\Python311\\site-packages\\pandas\\_libs\\tslibs\\strptime.pyx:191\u001b[0m, in \u001b[0;36mpandas._libs.tslibs.strptime.array_strptime\u001b[1;34m()\u001b[0m\n",
      "\u001b[1;31mAssertionError\u001b[0m: "
     ]
    }
   ],
   "source": [
    "df.Fate=pd.to_datetime(df.Fate,\"%d %B %Y\")"
   ]
  },
  {
   "cell_type": "code",
   "execution_count": null,
   "metadata": {},
   "outputs": [
    {
     "name": "stdout",
     "output_type": "stream",
     "text": [
      "<class 'pandas.core.frame.DataFrame'>\n",
      "RangeIndex: 10 entries, 0 to 9\n",
      "Data columns (total 2 columns):\n",
      " #   Column  Non-Null Count  Dtype         \n",
      "---  ------  --------------  -----         \n",
      " 0   Ship    10 non-null     object        \n",
      " 1   Fate    10 non-null     datetime64[ns]\n",
      "dtypes: datetime64[ns](1), object(1)\n",
      "memory usage: 292.0+ bytes\n"
     ]
    }
   ],
   "source": [
    "df.info()"
   ]
  },
  {
   "cell_type": "code",
   "execution_count": null,
   "metadata": {},
   "outputs": [
    {
     "data": {
      "text/html": [
       "<div>\n",
       "<style scoped>\n",
       "    .dataframe tbody tr th:only-of-type {\n",
       "        vertical-align: middle;\n",
       "    }\n",
       "\n",
       "    .dataframe tbody tr th {\n",
       "        vertical-align: top;\n",
       "    }\n",
       "\n",
       "    .dataframe thead th {\n",
       "        text-align: right;\n",
       "    }\n",
       "</style>\n",
       "<table border=\"1\" class=\"dataframe\">\n",
       "  <thead>\n",
       "    <tr style=\"text-align: right;\">\n",
       "      <th></th>\n",
       "      <th>Ship</th>\n",
       "      <th>Fate</th>\n",
       "    </tr>\n",
       "  </thead>\n",
       "  <tbody>\n",
       "    <tr>\n",
       "      <th>0</th>\n",
       "      <td>Kaga-Pearl</td>\n",
       "      <td>1942-06-04</td>\n",
       "    </tr>\n",
       "    <tr>\n",
       "      <th>1</th>\n",
       "      <td>Zuikaku-Pearl</td>\n",
       "      <td>1944-10-25</td>\n",
       "    </tr>\n",
       "    <tr>\n",
       "      <th>2</th>\n",
       "      <td>Akagi-Pearl</td>\n",
       "      <td>1942-06-05</td>\n",
       "    </tr>\n",
       "    <tr>\n",
       "      <th>3</th>\n",
       "      <td>Hiryu-Pearl</td>\n",
       "      <td>1942-06-05</td>\n",
       "    </tr>\n",
       "    <tr>\n",
       "      <th>4</th>\n",
       "      <td>Shokaku-Pearl</td>\n",
       "      <td>1944-06-19</td>\n",
       "    </tr>\n",
       "    <tr>\n",
       "      <th>5</th>\n",
       "      <td>Soryu-Pearl</td>\n",
       "      <td>1942-06-04</td>\n",
       "    </tr>\n",
       "    <tr>\n",
       "      <th>6</th>\n",
       "      <td>Hyruga</td>\n",
       "      <td>1945-07-27</td>\n",
       "    </tr>\n",
       "    <tr>\n",
       "      <th>7</th>\n",
       "      <td>Ise</td>\n",
       "      <td>1945-07-28</td>\n",
       "    </tr>\n",
       "    <tr>\n",
       "      <th>8</th>\n",
       "      <td>Nagato</td>\n",
       "      <td>1946-07-30</td>\n",
       "    </tr>\n",
       "    <tr>\n",
       "      <th>9</th>\n",
       "      <td>Mutsu</td>\n",
       "      <td>1943-06-08</td>\n",
       "    </tr>\n",
       "  </tbody>\n",
       "</table>\n",
       "</div>"
      ],
      "text/plain": [
       "            Ship       Fate\n",
       "0     Kaga-Pearl 1942-06-04\n",
       "1  Zuikaku-Pearl 1944-10-25\n",
       "2    Akagi-Pearl 1942-06-05\n",
       "3    Hiryu-Pearl 1942-06-05\n",
       "4  Shokaku-Pearl 1944-06-19\n",
       "5    Soryu-Pearl 1942-06-04\n",
       "6         Hyruga 1945-07-27\n",
       "7            Ise 1945-07-28\n",
       "8         Nagato 1946-07-30\n",
       "9          Mutsu 1943-06-08"
      ]
     },
     "metadata": {},
     "output_type": "display_data"
    }
   ],
   "source": [
    "display(df)"
   ]
  },
  {
   "cell_type": "code",
   "execution_count": null,
   "metadata": {},
   "outputs": [
    {
     "name": "stdout",
     "output_type": "stream",
     "text": [
      "1942-06-04 00:00:00\n",
      "1946-07-30 00:00:00\n",
      "Years, Months, Days between two dates is\n",
      "2 Years, 4 months, 21 days\n"
     ]
    }
   ],
   "source": [
    "# Time between first and last Pearl Harbor-involved carrier sunk.\n",
    "\n",
    "from datetime import datetime\n",
    "from dateutil import relativedelta\n",
    "\n",
    "# get two dates\n",
    "start_date = df[df.Ship=='Kaga-Pearl'].Fate.item()\n",
    "print(d1)\n",
    "end_date = df[df.Ship=='Zuikaku-Pearl'].Fate.item()\n",
    "print(d2)\n",
    "\n",
    "delta = relativedelta.relativedelta(end_date, start_date)\n",
    "print('Years, Months, Days between two dates is')\n",
    "print(delta.years, 'Years,', delta.months, 'months,', delta.days, 'days')"
   ]
  },
  {
   "cell_type": "code",
   "execution_count": null,
   "metadata": {},
   "outputs": [
    {
     "name": "stdout",
     "output_type": "stream",
     "text": [
      "1942-06-04 00:00:00 <class 'pandas._libs.tslibs.timestamps.Timestamp'>\n",
      "1944-10-25 00:00:00 <class 'pandas._libs.tslibs.timestamps.Timestamp'>\n",
      "Years, Months, Days between two dates is\n",
      "2 Years, 4 months, 21 days\n"
     ]
    }
   ],
   "source": [
    "# Using loc\n",
    "\n",
    "from datetime import datetime\n",
    "from dateutil import relativedelta\n",
    "\n",
    "# get two dates\n",
    "start_date = pd.to_datetime(df.loc[df.Ship=='Kaga-Pearl',\"Fate\"].values[0])\n",
    "print(start_date, type(start_date))\n",
    "end_date = pd.to_datetime(df.loc[df.Ship=='Zuikaku-Pearl',\"Fate\"].values[0])\n",
    "print(end_date, type(end_date))\n",
    "\n",
    "delta = relativedelta.relativedelta(end_date, start_date)\n",
    "print('Years, Months, Days between two dates is')\n",
    "print(delta.years, 'Years,', delta.months, 'months,', delta.days, 'days')"
   ]
  },
  {
   "cell_type": "code",
   "execution_count": null,
   "metadata": {},
   "outputs": [
    {
     "name": "stdout",
     "output_type": "stream",
     "text": [
      "1942-06-04 00:00:00 <class 'pandas._libs.tslibs.timestamps.Timestamp'>\n",
      "1944-10-25 00:00:00 <class 'pandas._libs.tslibs.timestamps.Timestamp'>\n",
      "Years, Months, Days between two dates is\n",
      "2 Years, 4 months, 21 days\n"
     ]
    }
   ],
   "source": [
    "# Using loc\n",
    "\n",
    "from datetime import datetime\n",
    "from dateutil import relativedelta\n",
    "\n",
    "# get two dates\n",
    "start_date = pd.to_datetime(df.iloc[0,1])\n",
    "print(start_date, type(start_date))\n",
    "end_date = pd.to_datetime(df.iloc[1,1])\n",
    "print(end_date, type(end_date))\n",
    "\n",
    "delta = relativedelta.relativedelta(end_date, start_date)\n",
    "print('Years, Months, Days between two dates is')\n",
    "print(delta.years, 'Years,', delta.months, 'months,', delta.days, 'days')"
   ]
  },
  {
   "cell_type": "code",
   "execution_count": 90,
   "metadata": {},
   "outputs": [
    {
     "name": "stdout",
     "output_type": "stream",
     "text": [
      "1944-10-25 00:00:00 <class 'pandas._libs.tslibs.timestamps.Timestamp'>\n"
     ]
    },
    {
     "data": {
      "text/html": [
       "<div>\n",
       "<style scoped>\n",
       "    .dataframe tbody tr th:only-of-type {\n",
       "        vertical-align: middle;\n",
       "    }\n",
       "\n",
       "    .dataframe tbody tr th {\n",
       "        vertical-align: top;\n",
       "    }\n",
       "\n",
       "    .dataframe thead th {\n",
       "        text-align: right;\n",
       "    }\n",
       "</style>\n",
       "<table border=\"1\" class=\"dataframe\">\n",
       "  <thead>\n",
       "    <tr style=\"text-align: right;\">\n",
       "      <th></th>\n",
       "      <th>Fate</th>\n",
       "    </tr>\n",
       "    <tr>\n",
       "      <th>Ship</th>\n",
       "      <th></th>\n",
       "    </tr>\n",
       "  </thead>\n",
       "  <tbody>\n",
       "    <tr>\n",
       "      <th>Kaga-Pearl</th>\n",
       "      <td>4 June 1942</td>\n",
       "    </tr>\n",
       "    <tr>\n",
       "      <th>Zuikaku-Pearl</th>\n",
       "      <td>25 October 1944</td>\n",
       "    </tr>\n",
       "    <tr>\n",
       "      <th>Akagi-Pearl</th>\n",
       "      <td>5 June 1942</td>\n",
       "    </tr>\n",
       "    <tr>\n",
       "      <th>Hiryu-Pearl</th>\n",
       "      <td>5 June 1942</td>\n",
       "    </tr>\n",
       "    <tr>\n",
       "      <th>Shokaku-Pearl</th>\n",
       "      <td>19 June 1944</td>\n",
       "    </tr>\n",
       "    <tr>\n",
       "      <th>Soryu-Pearl</th>\n",
       "      <td>4 June 1942</td>\n",
       "    </tr>\n",
       "    <tr>\n",
       "      <th>Hyruga</th>\n",
       "      <td>27 July 1945</td>\n",
       "    </tr>\n",
       "    <tr>\n",
       "      <th>Ise</th>\n",
       "      <td>28 July 1945</td>\n",
       "    </tr>\n",
       "    <tr>\n",
       "      <th>Nagato</th>\n",
       "      <td>30 July 1946</td>\n",
       "    </tr>\n",
       "    <tr>\n",
       "      <th>Mutsu</th>\n",
       "      <td>8 June 1943</td>\n",
       "    </tr>\n",
       "  </tbody>\n",
       "</table>\n",
       "</div>"
      ],
      "text/plain": [
       "                          Fate\n",
       "Ship                          \n",
       "Kaga-Pearl         4 June 1942\n",
       "Zuikaku-Pearl  25 October 1944\n",
       "Akagi-Pearl        5 June 1942\n",
       "Hiryu-Pearl        5 June 1942\n",
       "Shokaku-Pearl     19 June 1944\n",
       "Soryu-Pearl        4 June 1942\n",
       "Hyruga            27 July 1945\n",
       "Ise               28 July 1945\n",
       "Nagato            30 July 1946\n",
       "Mutsu              8 June 1943"
      ]
     },
     "metadata": {},
     "output_type": "display_data"
    },
    {
     "name": "stdout",
     "output_type": "stream",
     "text": [
      "Years, Months, Days between two dates is\n",
      "2 Years, 4 months, 21 days\n"
     ]
    }
   ],
   "source": [
    "# Using loc\n",
    "\n",
    "from datetime import datetime\n",
    "from dateutil import relativedelta\n",
    "\n",
    "# get two dates\n",
    "df=df.set_index('Ship')\n",
    "start_date = pd.to_datetime(df.loc['Kaga-Pearl'].values[0])\n",
    "end_date = pd.to_datetime(df.loc['Zuikaku-Pearl'].values[0])\n",
    "print(end_date, type(end_date))\n",
    "display(df)\n",
    "\n",
    "delta = relativedelta.relativedelta(end_date, start_date)\n",
    "print('Years, Months, Days between two dates is')\n",
    "print(delta.years, 'Years,', delta.months, 'months,', delta.days, 'days')"
   ]
  },
  {
   "cell_type": "code",
   "execution_count": null,
   "metadata": {},
   "outputs": [],
   "source": []
  }
 ],
 "metadata": {
  "kernelspec": {
   "display_name": "Python 3",
   "language": "python",
   "name": "python3"
  },
  "language_info": {
   "codemirror_mode": {
    "name": "ipython",
    "version": 3
   },
   "file_extension": ".py",
   "mimetype": "text/x-python",
   "name": "python",
   "nbconvert_exporter": "python",
   "pygments_lexer": "ipython3",
   "version": "3.11.6"
  }
 },
 "nbformat": 4,
 "nbformat_minor": 2
}
