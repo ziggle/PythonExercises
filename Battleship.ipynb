{
 "cells": [
  {
   "cell_type": "code",
   "execution_count": 101,
   "metadata": {},
   "outputs": [
    {
     "name": "stdout",
     "output_type": "stream",
     "text": [
      "Ship sunk: Kaga with the fated day listed as 4 June 1942\n",
      "Ship sunk: Zuikaku with the fated day listed as 25 October 1944\n",
      "Ship sunk: Akagi with the fated day listed as 5 June 1942\n",
      "Ship sunk: Hiryu with the fated day listed as 5 June 1942\n",
      "Ship sunk: Shokaku with the fated day listed as 19 June 1944\n",
      "Ship sunk: Shoryu with the fated day listed as 4 June 1942\n",
      "Ship sunk: Hyruga with the fated day listed as 27 July 1945\n",
      "Ship sunk: Ise with the fated day listed as 28 July 1945\n",
      "Ship sunk: Nagato with the fated day listed as 30 July 1946\n",
      "Ship sunk: Mutsu with the fated day listed as 8 June 1943\n"
     ]
    }
   ],
   "source": [
    "import requests\n",
    "from lxml import html\n",
    "import re\n",
    "import time \n",
    "\n",
    "# URL of the Wikipedia page to scrape\n",
    "nms=['Kaga','Zuikaku','Akagi','Hiryu','Shokaku','Shoryu','Hyruga','Ise','Nagato','Mutsu']\n",
    "#nms=['Kaga']\n",
    "lst=['https://en.wikipedia.org/wiki/Japanese_aircraft_carrier_Kaga',\n",
    "    'https://en.wikipedia.org/wiki/Japanese_aircraft_carrier_Zuikaku',\n",
    "     'https://en.wikipedia.org/wiki/Japanese_aircraft_carrier_Akagi',\n",
    "     'https://en.wikipedia.org/wiki/Japanese_aircraft_carrier_Hiry%C5%AB',\n",
    "     'https://en.wikipedia.org/wiki/Japanese_aircraft_carrier_Sh%C5%8Dkaku',\n",
    "     'https://en.wikipedia.org/wiki/Japanese_aircraft_carrier_S%C5%8Dry%C5%AB',\n",
    "    \n",
    "     'https://en.wikipedia.org/wiki/Japanese_battleship_Hy%C5%ABga',\n",
    "     'https://en.wikipedia.org/wiki/Japanese_battleship_Ise',\n",
    "     'https://en.wikipedia.org/wiki/Japanese_battleship_Nagato',\n",
    "     'https://en.wikipedia.org/wiki/Japanese_battleship_Mutsu',]\n",
    "#lst=['https://en.wikipedia.org/wiki/Japanese_aircraft_carrier_Kaga']\n",
    "#url = 'https://en.wikipedia.org/wiki/USS_Iowa_(BB-61)'\n",
    "#url = 'https://en.wikipedia.org/wiki/Japanese_aircraft_carrier_Akagi'\n",
    "\n",
    "# XPATH to extract the commissioning date\n",
    "#xpath = '//*[@id=\"mw-content-text\"]/div[1]/table[1]/tbody/tr[10]/td[2]//text()'\n",
    "#xpath = '//*[@id=\"mw-content-text\"]/div[1]/table/tbody/tr[20]/td[2]//text()'\n",
    "#xpath = '//td[text()=\"Fate\"]/following-sibling::td//text()'\n",
    "xpath='//tr/td[text()=\"Fate\"]/following-sibling::td[1]/text()'\n",
    "#//*[@id=\"mw-content-text\"]/div[1]/table[1]/tbody/tr[10]/td[2]\n",
    "\n",
    "# Send a GET request to the URL and get the HTML content\n",
    "for n, u in zip(nms,lst):\n",
    "    response = requests.get(u)\n",
    "    time.sleep(1)\n",
    "    content = response.content\n",
    "    #print(content)\n",
    "\n",
    "    # Parse the HTML content using lxml\n",
    "    tree = html.fromstring(content)\n",
    "\n",
    "    # Extract the commissioning date using XPATH\n",
    "    commissioning_date = tree.xpath(xpath)\n",
    "\n",
    "    z1 = \" \".join(commissioning_date[0:8])\n",
    "    z= re.findall(r'\\d{1,2} \\w{3,8} \\d{4}', z1)[0]\n",
    "    \n",
    "    print(f'Ship sunk: {n} with the fated day listed as {z}')\n",
    "    \n",
    "    #try:\n",
    "    #      z= re.findall(r'\\d{1,2} \\w{3,8} \\d{4}', z1)[0]\n",
    "    #except:\n",
    "    #     print('***',z1)\n",
    "    #     z=z1\n",
    "#\n",
    "#\n",
    "    #print(f\"The date described as Fated for {n} is {z}.\")\n",
    "    #response = requests.get('https://en.wikipedia.org/wiki/Japanese_aircraft_carrier_Kaga')\n",
    "#content = response.content\n",
    "#tree = html.fromstring(content)\n",
    "#z1 = \" \".join(commissioning_date)\n",
    "#print('Kaga','&&&',z1)\n",
    "#z1=\"temp\""
   ]
  },
  {
   "cell_type": "code",
   "execution_count": null,
   "metadata": {},
   "outputs": [],
   "source": []
  }
 ],
 "metadata": {
  "kernelspec": {
   "display_name": "Python 3",
   "language": "python",
   "name": "python3"
  },
  "language_info": {
   "codemirror_mode": {
    "name": "ipython",
    "version": 3
   },
   "file_extension": ".py",
   "mimetype": "text/x-python",
   "name": "python",
   "nbconvert_exporter": "python",
   "pygments_lexer": "ipython3",
   "version": "3.11.6"
  }
 },
 "nbformat": 4,
 "nbformat_minor": 2
}
