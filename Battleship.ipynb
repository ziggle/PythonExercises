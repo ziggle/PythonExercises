{
 "cells": [
  {
   "cell_type": "code",
   "execution_count": 51,
   "metadata": {},
   "outputs": [
    {
     "name": "stdout",
     "output_type": "stream",
     "text": [
      "The date described as Fated for Zuikaku is 25 October 1944.\n",
      "The date described as Fated for Akagi is 5 June 1942.\n",
      "The date described as Fated for Hiryu is 5 June 1942.\n",
      "The date described as Fated for Shokaku is 19 June 1944.\n",
      "The date described as Fated for Shoryu is 4 June 1942.\n",
      "The date described as Fated for Kaga is 4 June 1942.\n"
     ]
    }
   ],
   "source": [
    "import requests\n",
    "from lxml import html\n",
    "import re\n",
    "\n",
    "# URL of the Wikipedia page to scrape\n",
    "nms=['Zuikaku','Akagi','Hiryu','Shokaku','Shoryu','Kaga']\n",
    "\n",
    "lst=['https://en.wikipedia.org/wiki/Japanese_aircraft_carrier_Zuikaku',\n",
    "     'https://en.wikipedia.org/wiki/Japanese_aircraft_carrier_Akagi',\n",
    "     'https://en.wikipedia.org/wiki/Japanese_aircraft_carrier_Hiry%C5%AB',\n",
    "     'https://en.wikipedia.org/wiki/Japanese_aircraft_carrier_Sh%C5%8Dkaku',\n",
    "     'https://en.wikipedia.org/wiki/Japanese_aircraft_carrier_S%C5%8Dry%C5%AB',\n",
    "     'https://en.wikipedia.org/wiki/Japanese_aircraft_carrier_Kaga']\n",
    "#url = 'https://en.wikipedia.org/wiki/USS_Iowa_(BB-61)'\n",
    "#url = 'https://en.wikipedia.org/wiki/Japanese_aircraft_carrier_Akagi'\n",
    "\n",
    "# XPATH to extract the commissioning date\n",
    "#xpath = '//*[@id=\"mw-content-text\"]/div[1]/table[1]/tbody/tr[10]/td[2]//text()'\n",
    "#xpath = '//*[@id=\"mw-content-text\"]/div[1]/table/tbody/tr[20]/td[2]//text()'\n",
    "xpath = '//td[text()=\"Fate\"]/following::td//text()'\n",
    "#//*[@id=\"mw-content-text\"]/div[1]/table[1]/tbody/tr[10]/td[2]\n",
    "\n",
    "# Send a GET request to the URL and get the HTML content\n",
    "for n, u in zip(nms,lst):\n",
    "    response = requests.get(u)\n",
    "    content = response.content\n",
    "    #print(content)\n",
    "\n",
    "    # Parse the HTML content using lxml\n",
    "    tree = html.fromstring(content)\n",
    "\n",
    "    # Extract the commissioning date using XPATH\n",
    "    commissioning_date = tree.xpath(xpath)\n",
    "\n",
    "    z = \" \".join(commissioning_date[0:8])\n",
    "\n",
    "    z= re.findall(r'\\d{1,2} \\w{3,8} \\d{4}', z)[0]\n",
    "\n",
    "\n",
    "    print(f\"The date described as Fated for {n} is {z}.\")"
   ]
  },
  {
   "cell_type": "code",
   "execution_count": null,
   "metadata": {},
   "outputs": [],
   "source": []
  }
 ],
 "metadata": {
  "kernelspec": {
   "display_name": "Python 3",
   "language": "python",
   "name": "python3"
  },
  "language_info": {
   "codemirror_mode": {
    "name": "ipython",
    "version": 3
   },
   "file_extension": ".py",
   "mimetype": "text/x-python",
   "name": "python",
   "nbconvert_exporter": "python",
   "pygments_lexer": "ipython3",
   "version": "3.11.6"
  }
 },
 "nbformat": 4,
 "nbformat_minor": 2
}
