{
 "cells": [
  {
   "cell_type": "markdown",
   "id": "67b99690",
   "metadata": {},
   "source": [
    "https://betterprogramming.pub/3-useful-python-f-string-tricks-you-probably-dont-know-f908f7ed6cf5"
   ]
  },
  {
   "cell_type": "code",
   "execution_count": 1,
   "id": "35fa5e43",
   "metadata": {},
   "outputs": [
    {
     "name": "stdout",
     "output_type": "stream",
     "text": [
      "🐊\n",
      "🐼\n",
      "🐓\n"
     ]
    }
   ],
   "source": [
    "viewer = \"🐊\"\n",
    "owner = \"🐼\"\n",
    "editor = \"🐓\"\n",
    "\n",
    "print(viewer)\n",
    "print(owner)\n",
    "print(editor)"
   ]
  },
  {
   "cell_type": "code",
   "execution_count": 2,
   "id": "ba0caf44",
   "metadata": {},
   "outputs": [
    {
     "name": "stdout",
     "output_type": "stream",
     "text": [
      "viewer='🐊'\n",
      "owner='🐼'\n",
      "editor='🐓'\n"
     ]
    }
   ],
   "source": [
    "\n",
    "print(f\"{viewer=}\")\n",
    "print(f\"{owner=}\")\n",
    "print(f\"{editor=}\")\n",
    "\n",
    "# Stdout:\n",
    "\n",
    "# viewer = \"🐊\"\n",
    "# owner = \"🐼\"\n",
    "# editor = \"🐓\""
   ]
  },
  {
   "cell_type": "code",
   "execution_count": 3,
   "id": "9557a415",
   "metadata": {},
   "outputs": [
    {
     "name": "stdout",
     "output_type": "stream",
     "text": [
      "viewer=     '🐊'\n",
      "owner     ='🐼'\n",
      "editor     =      '🐓'\n"
     ]
    }
   ],
   "source": [
    "print(f\"{viewer=     }\")\n",
    "print(f\"{owner     =}\")\n",
    "print(f\"{editor     =      }\")\n",
    "\n",
    "# Stdout:\n",
    "\n",
    "# viewer=     '🐊'\n",
    "# owner     ='🐼'\n",
    "# editor     =      '🐓'"
   ]
  },
  {
   "cell_type": "code",
   "execution_count": 4,
   "id": "062570b5",
   "metadata": {},
   "outputs": [
    {
     "name": "stdout",
     "output_type": "stream",
     "text": [
      "3.14\n",
      "3.14\n"
     ]
    }
   ],
   "source": [
    "# The \"old\" ways of updating float to 2 decimal places\n",
    "float_variable = 3.141592653589793\n",
    "\n",
    "print(\"%.2f\" % float_variable)\n",
    "print(\"{:.2f}\".format(float_variable))\n",
    "\n",
    "# Stdout:\n",
    "\n",
    "# 3.14\n",
    "# 3.14"
   ]
  },
  {
   "cell_type": "code",
   "execution_count": 5,
   "id": "3e2cf935",
   "metadata": {},
   "outputs": [
    {
     "name": "stdout",
     "output_type": "stream",
     "text": [
      "3.14\n"
     ]
    }
   ],
   "source": [
    "float_variable = 3.141592653589793\n",
    "\n",
    "print(f\"{float_variable:.2f}\")\n",
    "\n",
    "# Stdout:\n",
    "# 3.14"
   ]
  },
  {
   "cell_type": "code",
   "execution_count": 6,
   "id": "e87f586b",
   "metadata": {},
   "outputs": [
    {
     "name": "stdout",
     "output_type": "stream",
     "text": [
      "$3,142,671.76\n"
     ]
    }
   ],
   "source": [
    "money = 3_142_671.76 # 💡 This is the same as 3142671.76\n",
    "\n",
    "print(f\"${money:,.2f}\")\n",
    "\n",
    "# Stdout:\n",
    "# $3,142,671.76"
   ]
  },
  {
   "cell_type": "code",
   "execution_count": 7,
   "id": "60cd3e56",
   "metadata": {},
   "outputs": [
    {
     "name": "stdout",
     "output_type": "stream",
     "text": [
      "18-September-2023\n",
      "18-September-2023\n"
     ]
    }
   ],
   "source": [
    "from datetime import datetime\n",
    "\n",
    "\n",
    "now = datetime.now()\n",
    "\n",
    "# The usual way\n",
    "formatted_datetime_now = now.strftime('%d-%B-%Y')\n",
    "print(formatted_datetime_now)\n",
    "\n",
    "# F-string way\n",
    "formatted_datetime_now = f\"{now:%d-%B-%Y}\"\n",
    "print(formatted_datetime_now)\n",
    "\n",
    "# Stdout\n",
    "# 05-July-2021"
   ]
  },
  {
   "cell_type": "code",
   "execution_count": 8,
   "id": "bf872edc",
   "metadata": {},
   "outputs": [
    {
     "name": "stdout",
     "output_type": "stream",
     "text": [
      "00000000000001234567\n",
      "000000000000000000000030\n"
     ]
    }
   ],
   "source": [
    "# Output length of 20, and pad the rest with zeroes\n",
    "\n",
    "int_variable = 1_234_567\n",
    "print(f'{int_variable:020}')\n",
    "\n",
    "# Stdout\n",
    "# 00000000000001234567\n",
    "\n",
    "\n",
    "# Output length of 24, and pad the rest with zeroes\n",
    "int_variable = 30\n",
    "print(f'{int_variable:024}')\n",
    "\n",
    "# Stdout\n",
    "# 000000000000000000000030"
   ]
  },
  {
   "cell_type": "code",
   "execution_count": 9,
   "id": "5418e42f",
   "metadata": {},
   "outputs": [
    {
     "name": "stdout",
     "output_type": "stream",
     "text": [
      "      2021\n",
      " 2021\n"
     ]
    }
   ],
   "source": [
    "# Output length of 10, and pad the rest with leading whitesplace\n",
    "int_variable = 20_21\n",
    "print(f'{int_variable:10d}')\n",
    "\n",
    "# Stdout\n",
    "# '      2021'\n",
    "\n",
    "\n",
    "# Output length of 5, and pad the rest with leading whitesplace\n",
    "print(f\"{int_variable:5d}\")\n",
    "\n",
    "# Stdout\n",
    "# ' 2021'"
   ]
  },
  {
   "cell_type": "code",
   "execution_count": 10,
   "id": "8f7b1417",
   "metadata": {},
   "outputs": [
    {
     "name": "stdout",
     "output_type": "stream",
     "text": [
      "'\\U0001f989'\n"
     ]
    }
   ],
   "source": [
    "owl = '🦉'\n",
    "print(f'{owl!a}')\n",
    "\n",
    "# Stdout\n",
    "# '\\U0001f989'"
   ]
  },
  {
   "cell_type": "code",
   "execution_count": 11,
   "id": "70f12515",
   "metadata": {},
   "outputs": [
    {
     "name": "stdout",
     "output_type": "stream",
     "text": [
      "datetime.datetime(2023, 9, 18, 8, 23, 59, 244505)\n",
      "datetime.datetime(2023, 9, 18, 8, 23, 59, 244505)\n"
     ]
    },
    {
     "data": {
      "text/plain": [
       "True"
      ]
     },
     "execution_count": 11,
     "metadata": {},
     "output_type": "execute_result"
    }
   ],
   "source": [
    "from datetime import datetime\n",
    "\n",
    "\n",
    "now = datetime.now()\n",
    "\n",
    "# Using repr()\n",
    "print(repr(now))\n",
    "\n",
    "\n",
    "# F-string way\n",
    "print(f'{now!r}')\n",
    "\n",
    "# Stdout\n",
    "# datetime.datetime(2021, 7, 5, 13, 2, 34, 672383)\n",
    "\n",
    "repr(now) == f'{now!r}'\n",
    "# True"
   ]
  },
  {
   "cell_type": "code",
   "execution_count": null,
   "id": "5895addb",
   "metadata": {},
   "outputs": [],
   "source": []
  }
 ],
 "metadata": {
  "kernelspec": {
   "display_name": "Python 3 (ipykernel)",
   "language": "python",
   "name": "python3"
  },
  "language_info": {
   "codemirror_mode": {
    "name": "ipython",
    "version": 3
   },
   "file_extension": ".py",
   "mimetype": "text/x-python",
   "name": "python",
   "nbconvert_exporter": "python",
   "pygments_lexer": "ipython3",
   "version": "3.9.7"
  }
 },
 "nbformat": 4,
 "nbformat_minor": 5
}
