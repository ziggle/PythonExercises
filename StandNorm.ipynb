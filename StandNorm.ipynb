{
 "cells": [
  {
   "cell_type": "markdown",
   "id": "6d298f85",
   "metadata": {},
   "source": [
    "https://medium.com/@HalderNilimesh/harnessing-scikit-learn-to-rescale-data-for-machine-learning-in-python-a-comprehensive-guide-5bcbfa02affb"
   ]
  },
  {
   "cell_type": "code",
   "execution_count": 1,
   "id": "60ea3781",
   "metadata": {},
   "outputs": [],
   "source": [
    "from sklearn.preprocessing import MinMaxScaler\n",
    "from sklearn.datasets import load_iris\n",
    "\n",
    "# load the dataset\n",
    "data = load_iris()\n",
    "\n",
    "# create a scaler object\n",
    "scaler = MinMaxScaler()\n",
    "\n",
    "# fit and transform the data\n",
    "normalized_data = scaler.fit_transform(data.data)"
   ]
  },
  {
   "cell_type": "code",
   "execution_count": 2,
   "id": "d9917ae1",
   "metadata": {},
   "outputs": [],
   "source": [
    "from sklearn.preprocessing import StandardScaler\n",
    "from sklearn.datasets import load_iris\n",
    "\n",
    "# load the dataset\n",
    "data = load_iris()\n",
    "\n",
    "# create a scaler object\n",
    "scaler = StandardScaler()\n",
    "\n",
    "# fit and transform the data\n",
    "standardized_data = scaler.fit_transform(data.data)"
   ]
  }
 ],
 "metadata": {
  "kernelspec": {
   "display_name": "Python 3",
   "language": "python",
   "name": "python3"
  },
  "language_info": {
   "codemirror_mode": {
    "name": "ipython",
    "version": 3
   },
   "file_extension": ".py",
   "mimetype": "text/x-python",
   "name": "python",
   "nbconvert_exporter": "python",
   "pygments_lexer": "ipython3",
   "version": "3.11.4"
  }
 },
 "nbformat": 4,
 "nbformat_minor": 5
}
