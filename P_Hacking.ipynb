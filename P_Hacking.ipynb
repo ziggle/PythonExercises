{
 "cells": [
  {
   "cell_type": "markdown",
   "metadata": {},
   "source": [
    "https://epiren.medium.com/p-hacking-for-beginners-996d0e8f5094"
   ]
  },
  {
   "cell_type": "code",
   "execution_count": 3,
   "metadata": {},
   "outputs": [
    {
     "name": "stdout",
     "output_type": "stream",
     "text": [
      "Fisher's Exact test result with 1 multiplier:\n",
      "Odds ratio: 8.0, p-value: 0.4642857142857142\n",
      "status       Ill  Not Ill\n",
      "exposure                 \n",
      "Ate            4        1\n",
      "Did Not Eat    1        2\n",
      "\n",
      "\n",
      "Fisher's Exact test result with 2 multiplier:\n",
      "Odds ratio: 8.0, p-value: 0.11813186813186813\n",
      "status       Ill  Not Ill\n",
      "exposure                 \n",
      "Ate            8        2\n",
      "Did Not Eat    2        4\n",
      "\n",
      "\n",
      "Fisher's Exact test result with 3 multiplier:\n",
      "Odds ratio: 8.0, p-value: 0.03605419180361972\n",
      "status       Ill  Not Ill\n",
      "exposure                 \n",
      "Ate           12        3\n",
      "Did Not Eat    3        6\n",
      "\n",
      "\n",
      "Fisher's Exact test result with 4 multiplier:\n",
      "Odds ratio: 8.0, p-value: 0.02127324320824345\n",
      "status       Ill  Not Ill\n",
      "exposure                 \n",
      "Ate           16        4\n",
      "Did Not Eat    4        8\n",
      "\n",
      "\n"
     ]
    },
    {
     "name": "stderr",
     "output_type": "stream",
     "text": [
      "C:\\Users\\mbieg\\AppData\\Local\\Temp\\ipykernel_6832\\877937420.py:17: FutureWarning: The provided callable <function sum at 0x000001C43A4D6D40> is currently using DataFrameGroupBy.sum. In a future version of pandas, the provided callable will be used directly. To keep current behavior pass the string \"sum\" instead.\n",
      "  contingency_table = pd.pivot_table(summarized_data, values='count', index='exposure', columns='status', aggfunc=np.sum)\n",
      "C:\\Users\\mbieg\\AppData\\Local\\Temp\\ipykernel_6832\\877937420.py:17: FutureWarning: The provided callable <function sum at 0x000001C43A4D6D40> is currently using DataFrameGroupBy.sum. In a future version of pandas, the provided callable will be used directly. To keep current behavior pass the string \"sum\" instead.\n",
      "  contingency_table = pd.pivot_table(summarized_data, values='count', index='exposure', columns='status', aggfunc=np.sum)\n",
      "C:\\Users\\mbieg\\AppData\\Local\\Temp\\ipykernel_6832\\877937420.py:17: FutureWarning: The provided callable <function sum at 0x000001C43A4D6D40> is currently using DataFrameGroupBy.sum. In a future version of pandas, the provided callable will be used directly. To keep current behavior pass the string \"sum\" instead.\n",
      "  contingency_table = pd.pivot_table(summarized_data, values='count', index='exposure', columns='status', aggfunc=np.sum)\n",
      "C:\\Users\\mbieg\\AppData\\Local\\Temp\\ipykernel_6832\\877937420.py:17: FutureWarning: The provided callable <function sum at 0x000001C43A4D6D40> is currently using DataFrameGroupBy.sum. In a future version of pandas, the provided callable will be used directly. To keep current behavior pass the string \"sum\" instead.\n",
      "  contingency_table = pd.pivot_table(summarized_data, values='count', index='exposure', columns='status', aggfunc=np.sum)\n"
     ]
    }
   ],
   "source": [
    "import pandas as pd\n",
    "import numpy as np\n",
    "from scipy.stats import chi2_contingency\n",
    "from scipy.stats import fisher_exact\n",
    "\n",
    "def analyze_data(counts_multiplier):\n",
    "    # Create data\n",
    "    exposure = np.repeat([\"Ate\", \"Did Not Eat\"], repeats=2)\n",
    "    status = np.tile([\"Ill\", \"Not Ill\"], 2)\n",
    "    count = np.array([4, 1, 1, 2]) * counts_multiplier\n",
    "    data = pd.DataFrame({\"exposure\": exposure, \"status\": status, \"count\": count})\n",
    "    \n",
    "    # Summarize data to create the correct contingency table\n",
    "    summarized_data = data.groupby(['exposure', 'status']).agg({'count': 'sum'}).reset_index()\n",
    "    \n",
    "    # Convert to a matrix format expected by fisher_exact\n",
    "    contingency_table = pd.pivot_table(summarized_data, values='count', index='exposure', columns='status', aggfunc=np.sum)\n",
    "    \n",
    "    # Fisher's Exact test requires a 2x2 table, ensure the table is in the correct format\n",
    "    if contingency_table.shape == (2, 2):\n",
    "        # Perform Fisher's Exact test\n",
    "        oddsratio, p_value = fisher_exact(contingency_table)\n",
    "        \n",
    "        # Print the result\n",
    "        print(f\"Fisher's Exact test result with {counts_multiplier} multiplier:\")\n",
    "        print(f\"Odds ratio: {oddsratio}, p-value: {p_value}\")\n",
    "        print(contingency_table)\n",
    "        print(\"\\n\")\n",
    "    else:\n",
    "        print(\"Contingency table is not 2x2, Fisher's Exact test cannot be performed.\")\n",
    "\n",
    "# Analyze data with different multipliers for count\n",
    "analyze_data(1)  # With 5 cases and 3 controls\n",
    "analyze_data(2)  # With 10 cases and 6 controls\n",
    "analyze_data(3)  # With 15 cases and 9 controls\n",
    "analyze_data(4)  # With 20 cases and 12 controls\n"
   ]
  }
 ],
 "metadata": {
  "kernelspec": {
   "display_name": "Python 3",
   "language": "python",
   "name": "python3"
  },
  "language_info": {
   "codemirror_mode": {
    "name": "ipython",
    "version": 3
   },
   "file_extension": ".py",
   "mimetype": "text/x-python",
   "name": "python",
   "nbconvert_exporter": "python",
   "pygments_lexer": "ipython3",
   "version": "3.11.8"
  }
 },
 "nbformat": 4,
 "nbformat_minor": 2
}
