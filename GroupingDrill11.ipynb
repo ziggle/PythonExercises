{
 "cells": [
  {
   "cell_type": "markdown",
   "id": "273141e1",
   "metadata": {},
   "source": [
    "https://the-bilgepumps.simplecast.com/"
   ]
  },
  {
   "cell_type": "code",
   "execution_count": 4,
   "id": "592046f8",
   "metadata": {},
   "outputs": [
    {
     "name": "stdout",
     "output_type": "stream",
     "text": [
      "  Category  Value\n",
      "0        A     10\n",
      "1        B     15\n",
      "2        A     20\n",
      "3        B     25\n",
      "4        A     30\n"
     ]
    }
   ],
   "source": [
    "import pandas as pd\n",
    "\n",
    "data = {'Category': ['A', 'B', 'A', 'B', 'A'],\n",
    "        'Value': [10, 15, 20, 25, 30]}\n",
    "\n",
    "df = pd.DataFrame(data)\n",
    "print(df)"
   ]
  },
  {
   "cell_type": "code",
   "execution_count": 5,
   "id": "598a20d0",
   "metadata": {},
   "outputs": [
    {
     "name": "stdout",
     "output_type": "stream",
     "text": [
      "Category\n",
      "A    60\n",
      "B    40\n",
      "Name: Value, dtype: int64\n"
     ]
    }
   ],
   "source": [
    "# Group by 'Category' and calculate the sum of 'Value' for each group\n",
    "grouped = df.groupby('Category')['Value'].sum()\n",
    "print(grouped)"
   ]
  },
  {
   "cell_type": "code",
   "execution_count": 6,
   "id": "0f081388",
   "metadata": {},
   "outputs": [
    {
     "name": "stdout",
     "output_type": "stream",
     "text": [
      "Category  Subcategory\n",
      "A         X              60\n",
      "B         Y              40\n",
      "Name: Value, dtype: int64\n"
     ]
    }
   ],
   "source": [
    "data = {'Category': ['A', 'B', 'A', 'B', 'A'],\n",
    "        'Subcategory': ['X', 'Y', 'X', 'Y', 'X'],\n",
    "        'Value': [10, 15, 20, 25, 30]}\n",
    "\n",
    "df = pd.DataFrame(data)\n",
    "\n",
    "# Group by both 'Category' and 'Subcategory' and calculate the sum of 'Value' for each group\n",
    "grouped = df.groupby(['Category', 'Subcategory'])['Value'].sum()\n",
    "print(grouped)"
   ]
  },
  {
   "cell_type": "code",
   "execution_count": 7,
   "id": "fb7bee19",
   "metadata": {},
   "outputs": [
    {
     "name": "stdout",
     "output_type": "stream",
     "text": [
      "          sum  mean\n",
      "Category           \n",
      "A          60  20.0\n",
      "B          40  20.0\n"
     ]
    }
   ],
   "source": [
    "# Group by 'Category' and calculate both the sum and mean of 'Value' for each group\n",
    "grouped = df.groupby('Category')['Value'].agg(['sum', 'mean'])\n",
    "print(grouped)"
   ]
  },
  {
   "cell_type": "code",
   "execution_count": 9,
   "id": "74bde99f",
   "metadata": {},
   "outputs": [
    {
     "name": "stdout",
     "output_type": "stream",
     "text": [
      "Category\n",
      "A    20\n",
      "B    10\n",
      "Name: Value, dtype: int64\n"
     ]
    }
   ],
   "source": [
    "# Define a custom aggregation function\n",
    "def custom_range(x):\n",
    "    return x.max() - x.min()\n",
    "\n",
    "# Group by 'Category' and apply the custom aggregation function\n",
    "grouped = df.groupby('Category')['Value'].agg(custom_range)\n",
    "print(grouped)"
   ]
  },
  {
   "cell_type": "code",
   "execution_count": 10,
   "id": "0552d686",
   "metadata": {},
   "outputs": [
    {
     "name": "stdout",
     "output_type": "stream",
     "text": [
      "Category: A\n",
      "  Category Subcategory  Value\n",
      "0        A           X     10\n",
      "2        A           X     20\n",
      "4        A           X     30\n",
      "\n",
      "Category: B\n",
      "  Category Subcategory  Value\n",
      "1        B           Y     15\n",
      "3        B           Y     25\n",
      "\n"
     ]
    }
   ],
   "source": [
    "# Group by 'Category'\n",
    "grouped = df.groupby('Category')\n",
    "\n",
    "# Iterate over groups and print details\n",
    "for name, group in grouped:\n",
    "    print(f\"Category: {name}\")\n",
    "    print(group)\n",
    "    print()"
   ]
  },
  {
   "cell_type": "code",
   "execution_count": 11,
   "id": "23c839af",
   "metadata": {},
   "outputs": [
    {
     "name": "stdout",
     "output_type": "stream",
     "text": [
      "  Category Subcategory  Value  Value_zscore\n",
      "0        A           X     10     -1.000000\n",
      "1        B           Y     15     -0.707107\n",
      "2        A           X     20      0.000000\n",
      "3        B           Y     25      0.707107\n",
      "4        A           X     30      1.000000\n"
     ]
    }
   ],
   "source": [
    "# Define a custom z-score function\n",
    "def z_score(x):\n",
    "    return (x - x.mean()) / x.std()\n",
    "\n",
    "# Group by 'Category' and calculate z-scores within each group\n",
    "df['Value_zscore'] = df.groupby('Category')['Value'].transform(z_score)\n",
    "print(df)"
   ]
  },
  {
   "cell_type": "code",
   "execution_count": null,
   "id": "7cd110af",
   "metadata": {},
   "outputs": [],
   "source": []
  }
 ],
 "metadata": {
  "kernelspec": {
   "display_name": "Python 3 (ipykernel)",
   "language": "python",
   "name": "python3"
  },
  "language_info": {
   "codemirror_mode": {
    "name": "ipython",
    "version": 3
   },
   "file_extension": ".py",
   "mimetype": "text/x-python",
   "name": "python",
   "nbconvert_exporter": "python",
   "pygments_lexer": "ipython3",
   "version": "3.9.7"
  }
 },
 "nbformat": 4,
 "nbformat_minor": 5
}
