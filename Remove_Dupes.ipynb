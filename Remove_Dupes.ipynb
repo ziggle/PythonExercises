{
 "cells": [
  {
   "cell_type": "markdown",
   "metadata": {},
   "source": [
    "https://python.plainenglish.io/data-cleaning-removing-duplicates-in-python-pandas-db2c31fc7f5"
   ]
  },
  {
   "cell_type": "code",
   "execution_count": 21,
   "metadata": {},
   "outputs": [],
   "source": [
    "import pandas as pd\n",
    "data=pd.DataFrame({\"item\":[6,5,5,3,2,1],\"name\":[\"Mark\",\"Craig\",\"Craig\",\"Tim\",\"Pat\",\"Katee\"],\"age\":[27,25,25,25,23,21]})"
   ]
  },
  {
   "cell_type": "code",
   "execution_count": 22,
   "metadata": {},
   "outputs": [
    {
     "name": "stdout",
     "output_type": "stream",
     "text": [
      "   item   name  age\n",
      "0     6   Mark   27\n",
      "1     5  Craig   25\n",
      "2     5  Craig   25\n",
      "3     3    Tim   25\n",
      "4     2    Pat   23\n",
      "5     1  Katee   21\n"
     ]
    }
   ],
   "source": [
    "print(data)"
   ]
  },
  {
   "cell_type": "code",
   "execution_count": 23,
   "metadata": {},
   "outputs": [
    {
     "name": "stdout",
     "output_type": "stream",
     "text": [
      "   item   name  age\n",
      "1     5  Craig   25\n",
      "2     5  Craig   25\n"
     ]
    }
   ],
   "source": [
    "# Identify and display all duplicate rows\n",
    "duplicate_rows = data[data.duplicated(keep=False)]\n",
    "print(duplicate_rows)"
   ]
  },
  {
   "cell_type": "code",
   "execution_count": 24,
   "metadata": {},
   "outputs": [
    {
     "name": "stdout",
     "output_type": "stream",
     "text": [
      "   item   name  age\n",
      "1     5  Craig   25\n",
      "2     5  Craig   25\n"
     ]
    }
   ],
   "source": [
    "# Identify duplicate rows based on specific columns\n",
    "duplicate_rows = data[data.duplicated(subset=['name', 'age'], keep=False)]\n",
    "print(duplicate_rows)"
   ]
  },
  {
   "cell_type": "code",
   "execution_count": 25,
   "metadata": {},
   "outputs": [
    {
     "name": "stdout",
     "output_type": "stream",
     "text": [
      "   item   name  age\n",
      "0     6   Mark   27\n",
      "3     3    Tim   25\n",
      "4     2    Pat   23\n",
      "5     1  Katee   21\n"
     ]
    }
   ],
   "source": [
    "# Remove all duplicate rows\n",
    "data1 = data.drop_duplicates(keep=False)\n",
    "print(data1)"
   ]
  },
  {
   "cell_type": "code",
   "execution_count": 26,
   "metadata": {},
   "outputs": [
    {
     "name": "stdout",
     "output_type": "stream",
     "text": [
      "   item   name  age\n",
      "0     6   Mark   27\n",
      "1     5  Craig   25\n",
      "3     3    Tim   25\n",
      "4     2    Pat   23\n",
      "5     1  Katee   21\n"
     ]
    }
   ],
   "source": [
    "# Keep the first occurrence of each duplicate row\n",
    "data2 = data.drop_duplicates(keep='first')\n",
    "print(data2)"
   ]
  },
  {
   "cell_type": "code",
   "execution_count": 28,
   "metadata": {},
   "outputs": [
    {
     "name": "stdout",
     "output_type": "stream",
     "text": [
      "   item   name  age\n",
      "0     6   Mark   27\n",
      "2     5  Craig   25\n",
      "3     3    Tim   25\n",
      "4     2    Pat   23\n",
      "5     1  Katee   21\n"
     ]
    }
   ],
   "source": [
    "# Keep the last occurrence of each duplicate row\n",
    "data = data.drop_duplicates(keep='last')\n",
    "print(data)"
   ]
  },
  {
   "cell_type": "code",
   "execution_count": null,
   "metadata": {},
   "outputs": [],
   "source": []
  }
 ],
 "metadata": {
  "kernelspec": {
   "display_name": "Python 3",
   "language": "python",
   "name": "python3"
  },
  "language_info": {
   "codemirror_mode": {
    "name": "ipython",
    "version": 3
   },
   "file_extension": ".py",
   "mimetype": "text/x-python",
   "name": "python",
   "nbconvert_exporter": "python",
   "pygments_lexer": "ipython3",
   "version": "3.11.5"
  },
  "orig_nbformat": 4
 },
 "nbformat": 4,
 "nbformat_minor": 2
}
