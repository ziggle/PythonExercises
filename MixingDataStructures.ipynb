{
 "cells": [
  {
   "cell_type": "markdown",
   "id": "de102965",
   "metadata": {},
   "source": [
    "https://medium.com/@23saini/playing-with-fire-the-magic-of-mixing-data-structures-in-python-fa63bdeb2a50"
   ]
  },
  {
   "cell_type": "code",
   "execution_count": 2,
   "id": "a723c6ec",
   "metadata": {},
   "outputs": [
    {
     "name": "stdout",
     "output_type": "stream",
     "text": [
      "[{'name': 'Spider-Man', 'powers': {'spidey-sense', 'web-swinging'}}, {'name': 'Superman', 'powers': {'flight', 'super strength'}}]\n"
     ]
    }
   ],
   "source": [
    "heroes = [{\"name\": \"Spider-Man\", \"powers\": {\"web-swinging\", \"spidey-sense\"}},\n",
    "          {\"name\": \"Superman\", \"powers\": {\"flight\", \"super strength\"}}]\n",
    "print(heroes)"
   ]
  },
  {
   "cell_type": "code",
   "execution_count": 5,
   "id": "3b3463e8",
   "metadata": {},
   "outputs": [
    {
     "name": "stdout",
     "output_type": "stream",
     "text": [
      "<class 'set'>\n"
     ]
    }
   ],
   "source": [
    "color_sets = [{\"red\", \"blue\", \"green\"}, {\"purple\", \"yellow\"}]\n",
    "print(type(color_sets[0]))"
   ]
  },
  {
   "cell_type": "code",
   "execution_count": 6,
   "id": "3c232692",
   "metadata": {},
   "outputs": [],
   "source": [
    "race_results = [{\"checkpoint\": (1, \"Start\"), \"time\": \"10:00\"},\n",
    "                {\"checkpoint\": (2, \"Midway\"), \"time\": \"10:30\"}]"
   ]
  }
 ],
 "metadata": {
  "kernelspec": {
   "display_name": "Python 3 (ipykernel)",
   "language": "python",
   "name": "python3"
  },
  "language_info": {
   "codemirror_mode": {
    "name": "ipython",
    "version": 3
   },
   "file_extension": ".py",
   "mimetype": "text/x-python",
   "name": "python",
   "nbconvert_exporter": "python",
   "pygments_lexer": "ipython3",
   "version": "3.9.7"
  }
 },
 "nbformat": 4,
 "nbformat_minor": 5
}
