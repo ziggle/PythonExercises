{
 "cells": [
  {
   "cell_type": "markdown",
   "metadata": {},
   "source": [
    "https://medium.com/@shouke.wei/easy-methods-of-converting-pandas-dataframe-into-dictionaries-77c87d542351"
   ]
  },
  {
   "cell_type": "code",
   "execution_count": 5,
   "metadata": {},
   "outputs": [
    {
     "data": {
      "text/plain": [
       "{'Name': {0: 'John', 1: 'Alice', 2: 'Bob'},\n",
       " 'Age': {0: 25, 1: 30, 2: 35},\n",
       " 'City': {0: 'New York', 1: 'Paris', 2: 'London'}}"
      ]
     },
     "execution_count": 5,
     "metadata": {},
     "output_type": "execute_result"
    }
   ],
   "source": [
    "import pandas as pd\n",
    "\n",
    "# Creating a sample DataFrame\n",
    "data = {'Name': ['John', 'Alice', 'Bob'],\n",
    "        'Age': [25, 30, 35],\n",
    "        'City': ['New York', 'Paris', 'London']}\n",
    "df = pd.DataFrame(data)\n",
    "# Convert DataFrame to dictionary\n",
    "df_dict = df.to_dict()\n",
    "df_dict\n"
   ]
  },
  {
   "cell_type": "code",
   "execution_count": 6,
   "metadata": {},
   "outputs": [
    {
     "name": "stdout",
     "output_type": "stream",
     "text": [
      "{0: 'John', 1: 'Alice', 2: 'Bob'}\n"
     ]
    }
   ],
   "source": [
    "# Using the same DataFrame as before\n",
    "column_dict = df['Name'].to_dict()\n",
    "print(column_dict)"
   ]
  },
  {
   "cell_type": "code",
   "execution_count": 7,
   "metadata": {},
   "outputs": [
    {
     "data": {
      "text/plain": [
       "{'Name': ['John', 'Alice', 'Bob'], 'Age': [25, 30, 35]}"
      ]
     },
     "execution_count": 7,
     "metadata": {},
     "output_type": "execute_result"
    }
   ],
   "source": [
    "# Using the same DataFrame as before\n",
    "columns_to_convert = df[['Name', 'Age']]\n",
    "columns_dict = columns_to_convert.to_dict(orient='list')\n",
    "columns_dict"
   ]
  },
  {
   "cell_type": "code",
   "execution_count": 8,
   "metadata": {},
   "outputs": [
    {
     "data": {
      "text/plain": [
       "[{'Name': 'John', 'Age': 25, 'City': 'New York'},\n",
       " {'Name': 'Alice', 'Age': 30, 'City': 'Paris'},\n",
       " {'Name': 'Bob', 'Age': 35, 'City': 'London'}]"
      ]
     },
     "execution_count": 8,
     "metadata": {},
     "output_type": "execute_result"
    }
   ],
   "source": [
    "# Convert DataFrame to dictionary\n",
    "df_dict = df.to_dict(orient='records')\n",
    "df_dict"
   ]
  }
 ],
 "metadata": {
  "kernelspec": {
   "display_name": "Python 3",
   "language": "python",
   "name": "python3"
  },
  "language_info": {
   "codemirror_mode": {
    "name": "ipython",
    "version": 3
   },
   "file_extension": ".py",
   "mimetype": "text/x-python",
   "name": "python",
   "nbconvert_exporter": "python",
   "pygments_lexer": "ipython3",
   "version": "3.8.5"
  }
 },
 "nbformat": 4,
 "nbformat_minor": 4
}
