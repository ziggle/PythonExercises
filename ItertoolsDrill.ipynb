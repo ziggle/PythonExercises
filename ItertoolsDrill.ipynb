{
 "cells": [
  {
   "cell_type": "markdown",
   "id": "acda94c0",
   "metadata": {},
   "source": [
    "https://python.plainenglish.io/uncovering-the-hidden-depths-of-pythons-itertools-module-819b33e1d3e0"
   ]
  },
  {
   "cell_type": "code",
   "execution_count": 1,
   "id": "4a0d4a3b",
   "metadata": {},
   "outputs": [
    {
     "name": "stdout",
     "output_type": "stream",
     "text": [
      "('red', 'red')\n",
      "('red', 'blue')\n",
      "('red', 'green')\n",
      "('blue', 'blue')\n",
      "('blue', 'green')\n",
      "('green', 'green')\n"
     ]
    }
   ],
   "source": [
    "from itertools import combinations_with_replacement\n",
    "\n",
    "colors = ['red', 'blue', 'green']\n",
    "for combo in combinations_with_replacement(colors, 2):\n",
    "    print(combo)"
   ]
  },
  {
   "cell_type": "code",
   "execution_count": 2,
   "id": "3bf71b98",
   "metadata": {},
   "outputs": [
    {
     "name": "stdout",
     "output_type": "stream",
     "text": [
      "Alice: 25\n",
      "Bob: 32\n",
      "Charlie: 19\n",
      "Dave: unknown\n"
     ]
    }
   ],
   "source": [
    "from itertools import zip_longest\n",
    "\n",
    "names = ['Alice', 'Bob', 'Charlie', 'Dave']\n",
    "ages = [25, 32, 19]\n",
    "for name, age in zip_longest(names, ages, fillvalue='unknown'):\n",
    "    print(f'{name}: {age}')"
   ]
  },
  {
   "cell_type": "code",
   "execution_count": 4,
   "id": "2426fe2e",
   "metadata": {},
   "outputs": [
    {
     "name": "stdout",
     "output_type": "stream",
     "text": [
      "a: ['apple']\n",
      "b: ['banana']\n",
      "c: ['cherry']\n",
      "d: ['date']\n",
      "e: ['elderberry']\n",
      "f: ['fig']\n",
      "e: ['eichenberry']\n"
     ]
    }
   ],
   "source": [
    "from itertools import groupby\n",
    "\n",
    "words = ['apple', 'banana', 'cherry', 'date', 'elderberry', 'fig',\"eichenberry\"]\n",
    "for key, group in groupby(words, key=lambda x: x[0]):\n",
    "    print(f'{key}: {list(group)}')"
   ]
  },
  {
   "cell_type": "code",
   "execution_count": 5,
   "id": "9a89c403",
   "metadata": {},
   "outputs": [
    {
     "name": "stdout",
     "output_type": "stream",
     "text": [
      "1 1\n",
      "2 2\n",
      "3 3\n",
      "4 4\n",
      "5 5\n"
     ]
    }
   ],
   "source": [
    "from itertools import tee\n",
    "\n",
    "numbers = [1, 2, 3, 4, 5]\n",
    "iter1, iter2 = tee(numbers)\n",
    "for n1, n2 in zip(iter1, iter2):\n",
    "    print(n1, n2)"
   ]
  },
  {
   "cell_type": "code",
   "execution_count": 6,
   "id": "c1a3e466",
   "metadata": {},
   "outputs": [
    {
     "name": "stdout",
     "output_type": "stream",
     "text": [
      "1\n",
      "3\n",
      "6\n",
      "10\n",
      "15\n"
     ]
    }
   ],
   "source": [
    "from itertools import accumulate\n",
    "\n",
    "numbers = [1, 2, 3, 4, 5]\n",
    "for n in accumulate(numbers):\n",
    "    print(n)"
   ]
  },
  {
   "cell_type": "code",
   "execution_count": 7,
   "id": "a17a5755",
   "metadata": {},
   "outputs": [
    {
     "name": "stdout",
     "output_type": "stream",
     "text": [
      "10\n",
      "12\n",
      "14\n",
      "16\n",
      "18\n",
      "20\n",
      "22\n"
     ]
    }
   ],
   "source": [
    "from itertools import count\n",
    "\n",
    "for n in count(10, 2):\n",
    "    print(n)\n",
    "    if n > 20:\n",
    "        break"
   ]
  },
  {
   "cell_type": "code",
   "execution_count": 8,
   "id": "253bea68",
   "metadata": {},
   "outputs": [
    {
     "name": "stdout",
     "output_type": "stream",
     "text": [
      "2\n",
      "4\n",
      "6\n",
      "8\n"
     ]
    }
   ],
   "source": [
    "from itertools import dropwhile\n",
    "\n",
    "numbers = [1, 3, 5, 7, 2, 4, 6, 8]\n",
    "for n in dropwhile(lambda x: x % 2 == 1, numbers):\n",
    "    print(n)"
   ]
  },
  {
   "cell_type": "code",
   "execution_count": 9,
   "id": "3218a486",
   "metadata": {},
   "outputs": [
    {
     "name": "stdout",
     "output_type": "stream",
     "text": [
      "('red', 'small')\n",
      "('red', 'large')\n",
      "('blue', 'small')\n",
      "('blue', 'large')\n"
     ]
    }
   ],
   "source": [
    "from itertools import product\n",
    "\n",
    "colors = ['red', 'blue']\n",
    "sizes = ['small', 'large']\n",
    "for combo in product(colors, sizes):\n",
    "    print(combo)"
   ]
  },
  {
   "cell_type": "code",
   "execution_count": 10,
   "id": "29835f01",
   "metadata": {},
   "outputs": [
    {
     "name": "stdout",
     "output_type": "stream",
     "text": [
      "4\n",
      "5\n",
      "6\n",
      "7\n"
     ]
    }
   ],
   "source": [
    "from itertools import islice\n",
    "\n",
    "numbers = [1, 2, 3, 4, 5, 6, 7, 8, 9, 10]\n",
    "for n in islice(numbers, 3, 7):\n",
    "    print(n)"
   ]
  },
  {
   "cell_type": "code",
   "execution_count": 11,
   "id": "da99f51b",
   "metadata": {},
   "outputs": [
    {
     "name": "stdout",
     "output_type": "stream",
     "text": [
      "3\n",
      "7\n",
      "11\n"
     ]
    }
   ],
   "source": [
    "from itertools import starmap\n",
    "\n",
    "def add_numbers(a, b):\n",
    "    return a + b\n",
    "numbers = [(1, 2), (3, 4), (5, 6)]\n",
    "for n in starmap(add_numbers, numbers):\n",
    "    print(n)"
   ]
  }
 ],
 "metadata": {
  "kernelspec": {
   "display_name": "Python 3 (ipykernel)",
   "language": "python",
   "name": "python3"
  },
  "language_info": {
   "codemirror_mode": {
    "name": "ipython",
    "version": 3
   },
   "file_extension": ".py",
   "mimetype": "text/x-python",
   "name": "python",
   "nbconvert_exporter": "python",
   "pygments_lexer": "ipython3",
   "version": "3.9.15"
  },
  "toc": {
   "base_numbering": 1,
   "nav_menu": {},
   "number_sections": true,
   "sideBar": true,
   "skip_h1_title": false,
   "title_cell": "Table of Contents",
   "title_sidebar": "Contents",
   "toc_cell": false,
   "toc_position": {},
   "toc_section_display": true,
   "toc_window_display": false
  }
 },
 "nbformat": 4,
 "nbformat_minor": 5
}
