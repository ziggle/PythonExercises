{
 "cells": [
  {
   "cell_type": "markdown",
   "id": "b539d41f",
   "metadata": {},
   "source": [
    "https://medium.com/@wepypixel/how-to-convert-a-list-to-json-python-simple-technique-pypixel-c329f6de5d7a"
   ]
  },
  {
   "cell_type": "code",
   "execution_count": 1,
   "id": "ff099377",
   "metadata": {},
   "outputs": [
    {
     "name": "stdout",
     "output_type": "stream",
     "text": [
      "['Amit', 'Raghav', 'Utkarsh', 'Akash']\n"
     ]
    }
   ],
   "source": [
    "import json # import json\n",
    "\n",
    "data = [\"Amit\", \"Raghav\", \"Utkarsh\", \"Akash\"] \n",
    "json_data = json.dumps(data) # dumping data to json from list with json.dumps()\n",
    "print(data)"
   ]
  },
  {
   "cell_type": "code",
   "execution_count": 2,
   "id": "7ed4ca95",
   "metadata": {},
   "outputs": [
    {
     "name": "stdout",
     "output_type": "stream",
     "text": [
      "[[\"Amit\", \"Raghav\", \"Utkarsh\", \"Akash\"], [\"Delhi\", \"Mumbai\", \"Hyderabad\", \"Chennai\"]]\n"
     ]
    }
   ],
   "source": [
    "import json\n",
    "\n",
    "data = [[\"Amit\", \"Raghav\", \"Utkarsh\", \"Akash\"], [\"Delhi\", \"Mumbai\", \"Hyderabad\", \"Chennai\"]]\n",
    "json_data = json.dumps(data)\n",
    "\n",
    "print(json_data)"
   ]
  },
  {
   "cell_type": "code",
   "execution_count": 3,
   "id": "237e87ed",
   "metadata": {},
   "outputs": [
    {
     "name": "stdout",
     "output_type": "stream",
     "text": [
      "[{\"Amit\": \"Delhi\"}, {\"Utkarsh\": \"Hyderabad\"}, {\"Raghav\": \"Mumbai\"}]\n"
     ]
    }
   ],
   "source": [
    "import json\n",
    "\n",
    "data = [{\"Amit\": \"Delhi\"}, {\"Utkarsh\": \"Hyderabad\"}, {\"Raghav\": \"Mumbai\"}]\n",
    "json_data = json.dumps(data)\n",
    "\n",
    "print(json_data)"
   ]
  }
 ],
 "metadata": {
  "kernelspec": {
   "display_name": "Python 3 (ipykernel)",
   "language": "python",
   "name": "python3"
  },
  "language_info": {
   "codemirror_mode": {
    "name": "ipython",
    "version": 3
   },
   "file_extension": ".py",
   "mimetype": "text/x-python",
   "name": "python",
   "nbconvert_exporter": "python",
   "pygments_lexer": "ipython3",
   "version": "3.9.7"
  }
 },
 "nbformat": 4,
 "nbformat_minor": 5
}
