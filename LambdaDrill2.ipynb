{
 "cells": [
  {
   "cell_type": "code",
   "execution_count": 3,
   "id": "4b8650ca",
   "metadata": {},
   "outputs": [
    {
     "data": {
      "text/html": [
       "<div>\n",
       "<style scoped>\n",
       "    .dataframe tbody tr th:only-of-type {\n",
       "        vertical-align: middle;\n",
       "    }\n",
       "\n",
       "    .dataframe tbody tr th {\n",
       "        vertical-align: top;\n",
       "    }\n",
       "\n",
       "    .dataframe thead th {\n",
       "        text-align: right;\n",
       "    }\n",
       "</style>\n",
       "<table border=\"1\" class=\"dataframe\">\n",
       "  <thead>\n",
       "    <tr style=\"text-align: right;\">\n",
       "      <th></th>\n",
       "      <th>Id</th>\n",
       "      <th>SepalLengthCm</th>\n",
       "      <th>SepalWidthCm</th>\n",
       "      <th>PetalLengthCm</th>\n",
       "      <th>PetalWidthCm</th>\n",
       "      <th>Species</th>\n",
       "    </tr>\n",
       "  </thead>\n",
       "  <tbody>\n",
       "    <tr>\n",
       "      <th>0</th>\n",
       "      <td>1</td>\n",
       "      <td>5.1</td>\n",
       "      <td>3.5</td>\n",
       "      <td>1.4</td>\n",
       "      <td>0.2</td>\n",
       "      <td>Iris-setosa</td>\n",
       "    </tr>\n",
       "    <tr>\n",
       "      <th>1</th>\n",
       "      <td>2</td>\n",
       "      <td>4.9</td>\n",
       "      <td>3.0</td>\n",
       "      <td>1.4</td>\n",
       "      <td>0.2</td>\n",
       "      <td>Iris-setosa</td>\n",
       "    </tr>\n",
       "    <tr>\n",
       "      <th>2</th>\n",
       "      <td>3</td>\n",
       "      <td>4.7</td>\n",
       "      <td>3.2</td>\n",
       "      <td>1.3</td>\n",
       "      <td>0.2</td>\n",
       "      <td>Iris-setosa</td>\n",
       "    </tr>\n",
       "    <tr>\n",
       "      <th>3</th>\n",
       "      <td>4</td>\n",
       "      <td>4.6</td>\n",
       "      <td>3.1</td>\n",
       "      <td>1.5</td>\n",
       "      <td>0.2</td>\n",
       "      <td>Iris-setosa</td>\n",
       "    </tr>\n",
       "    <tr>\n",
       "      <th>4</th>\n",
       "      <td>5</td>\n",
       "      <td>5.0</td>\n",
       "      <td>3.6</td>\n",
       "      <td>1.4</td>\n",
       "      <td>0.2</td>\n",
       "      <td>Iris-setosa</td>\n",
       "    </tr>\n",
       "  </tbody>\n",
       "</table>\n",
       "</div>"
      ],
      "text/plain": [
       "   Id  SepalLengthCm  SepalWidthCm  PetalLengthCm  PetalWidthCm      Species\n",
       "0   1            5.1           3.5            1.4           0.2  Iris-setosa\n",
       "1   2            4.9           3.0            1.4           0.2  Iris-setosa\n",
       "2   3            4.7           3.2            1.3           0.2  Iris-setosa\n",
       "3   4            4.6           3.1            1.5           0.2  Iris-setosa\n",
       "4   5            5.0           3.6            1.4           0.2  Iris-setosa"
      ]
     },
     "execution_count": 3,
     "metadata": {},
     "output_type": "execute_result"
    }
   ],
   "source": [
    "import pandas as pd\n",
    "iris =pd.read_csv(\"Iris.csv\")\n",
    "iris.head()"
   ]
  },
  {
   "cell_type": "code",
   "execution_count": 5,
   "id": "8c767358",
   "metadata": {},
   "outputs": [
    {
     "data": {
      "text/plain": [
       "0         Iris-setosa\n",
       "1         Iris-setosa\n",
       "2         Iris-setosa\n",
       "3         Iris-setosa\n",
       "4         Iris-setosa\n",
       "            ...      \n",
       "145    Iris-virginica\n",
       "146    Iris-virginica\n",
       "147    Iris-virginica\n",
       "148    Iris-virginica\n",
       "149    Iris-virginica\n",
       "Name: Species, Length: 150, dtype: object"
      ]
     },
     "execution_count": 5,
     "metadata": {},
     "output_type": "execute_result"
    }
   ],
   "source": [
    "iris['Species'] = iris['Species'].apply(lambda x: x.strip())\n",
    "iris.Species"
   ]
  },
  {
   "cell_type": "code",
   "execution_count": 7,
   "id": "82a90686",
   "metadata": {},
   "outputs": [
    {
     "data": {
      "text/plain": [
       "0      5\n",
       "1      4\n",
       "2      4\n",
       "3      4\n",
       "4      5\n",
       "      ..\n",
       "145    6\n",
       "146    6\n",
       "147    6\n",
       "148    6\n",
       "149    5\n",
       "Name: SepalLengthCm, Length: 150, dtype: int64"
      ]
     },
     "execution_count": 7,
     "metadata": {},
     "output_type": "execute_result"
    }
   ],
   "source": [
    "iris['SepalLengthCm'] = iris['SepalLengthCm'].apply(lambda x: int(x))\n",
    "iris.SepalLengthCm"
   ]
  },
  {
   "cell_type": "code",
   "execution_count": 9,
   "id": "e4b01305",
   "metadata": {},
   "outputs": [
    {
     "data": {
      "text/plain": [
       "0      1.4\n",
       "1      1.4\n",
       "2      1.3\n",
       "3      1.5\n",
       "4      1.4\n",
       "      ... \n",
       "145    5.2\n",
       "146    5.0\n",
       "147    5.2\n",
       "148    5.4\n",
       "149    5.1\n",
       "Name: PetalLengthCm, Length: 150, dtype: float64"
      ]
     },
     "execution_count": 9,
     "metadata": {},
     "output_type": "execute_result"
    }
   ],
   "source": [
    "iris['PetalLengthCm'] = iris['PetalLengthCm'].apply(lambda x: x if x is not None else 0.0)\n",
    "iris.PetalLengthCm"
   ]
  },
  {
   "cell_type": "code",
   "execution_count": 11,
   "id": "fc73bc56",
   "metadata": {},
   "outputs": [
    {
     "data": {
      "text/plain": [
       "0         Irissetosa\n",
       "1         Irissetosa\n",
       "2         Irissetosa\n",
       "3         Irissetosa\n",
       "4         Irissetosa\n",
       "           ...      \n",
       "145    Irisvirginica\n",
       "146    Irisvirginica\n",
       "147    Irisvirginica\n",
       "148    Irisvirginica\n",
       "149    Irisvirginica\n",
       "Name: Species, Length: 150, dtype: object"
      ]
     },
     "execution_count": 11,
     "metadata": {},
     "output_type": "execute_result"
    }
   ],
   "source": [
    "import re\n",
    "iris['Species'] = iris['Species'].apply(lambda x: re.sub(r'[^\\w\\s]','',x))\n",
    "iris.Species"
   ]
  },
  {
   "cell_type": "code",
   "execution_count": 12,
   "id": "3b3fa7fc",
   "metadata": {},
   "outputs": [
    {
     "data": {
      "text/plain": [
       "0         irissetosa\n",
       "1         irissetosa\n",
       "2         irissetosa\n",
       "3         irissetosa\n",
       "4         irissetosa\n",
       "           ...      \n",
       "145    irisvirginica\n",
       "146    irisvirginica\n",
       "147    irisvirginica\n",
       "148    irisvirginica\n",
       "149    irisvirginica\n",
       "Name: Species, Length: 150, dtype: object"
      ]
     },
     "execution_count": 12,
     "metadata": {},
     "output_type": "execute_result"
    }
   ],
   "source": [
    "iris['Species'] = iris['Species'].apply(lambda x: x.lower())\n",
    "iris.Species"
   ]
  },
  {
   "cell_type": "code",
   "execution_count": 13,
   "id": "dd5d7599",
   "metadata": {},
   "outputs": [],
   "source": [
    "select_column = lambda df, col_name: df[col_name]\n",
    "iris['PetalLengthCm'] = select_column(iris, 'PetalLengthCm')"
   ]
  },
  {
   "cell_type": "code",
   "execution_count": 16,
   "id": "1225041b",
   "metadata": {},
   "outputs": [
    {
     "data": {
      "text/plain": [
       "0      17.5\n",
       "1      12.0\n",
       "2      12.8\n",
       "3      12.4\n",
       "4      18.0\n",
       "       ... \n",
       "145    18.0\n",
       "146    15.0\n",
       "147    18.0\n",
       "148    20.4\n",
       "149    15.0\n",
       "Name: sepal_area, Length: 150, dtype: float64"
      ]
     },
     "execution_count": 16,
     "metadata": {},
     "output_type": "execute_result"
    }
   ],
   "source": [
    "def multiply(row):\n",
    "    return row['SepalLengthCm'] * row['SepalWidthCm']\n",
    "    \n",
    "iris['sepal_area'] = iris.apply(lambda row: multiply(row), axis=1)\n",
    "iris['sepal_area'] "
   ]
  },
  {
   "cell_type": "code",
   "execution_count": 17,
   "id": "a4c61d31",
   "metadata": {},
   "outputs": [
    {
     "data": {
      "text/html": [
       "<div>\n",
       "<style scoped>\n",
       "    .dataframe tbody tr th:only-of-type {\n",
       "        vertical-align: middle;\n",
       "    }\n",
       "\n",
       "    .dataframe tbody tr th {\n",
       "        vertical-align: top;\n",
       "    }\n",
       "\n",
       "    .dataframe thead th {\n",
       "        text-align: right;\n",
       "    }\n",
       "</style>\n",
       "<table border=\"1\" class=\"dataframe\">\n",
       "  <thead>\n",
       "    <tr style=\"text-align: right;\">\n",
       "      <th></th>\n",
       "      <th>Id</th>\n",
       "      <th>SepalLengthCm</th>\n",
       "      <th>SepalWidthCm</th>\n",
       "      <th>PetalLengthCm</th>\n",
       "      <th>PetalWidthCm</th>\n",
       "      <th>Species</th>\n",
       "      <th>sepal_area</th>\n",
       "    </tr>\n",
       "  </thead>\n",
       "  <tbody>\n",
       "    <tr>\n",
       "      <th>50</th>\n",
       "      <td>51</td>\n",
       "      <td>7</td>\n",
       "      <td>3.2</td>\n",
       "      <td>4.7</td>\n",
       "      <td>1.4</td>\n",
       "      <td>irisversicolor</td>\n",
       "      <td>22.4</td>\n",
       "    </tr>\n",
       "    <tr>\n",
       "      <th>102</th>\n",
       "      <td>103</td>\n",
       "      <td>7</td>\n",
       "      <td>3.0</td>\n",
       "      <td>5.9</td>\n",
       "      <td>2.1</td>\n",
       "      <td>irisvirginica</td>\n",
       "      <td>21.0</td>\n",
       "    </tr>\n",
       "    <tr>\n",
       "      <th>105</th>\n",
       "      <td>106</td>\n",
       "      <td>7</td>\n",
       "      <td>3.0</td>\n",
       "      <td>6.6</td>\n",
       "      <td>2.1</td>\n",
       "      <td>irisvirginica</td>\n",
       "      <td>21.0</td>\n",
       "    </tr>\n",
       "    <tr>\n",
       "      <th>107</th>\n",
       "      <td>108</td>\n",
       "      <td>7</td>\n",
       "      <td>2.9</td>\n",
       "      <td>6.3</td>\n",
       "      <td>1.8</td>\n",
       "      <td>irisvirginica</td>\n",
       "      <td>20.3</td>\n",
       "    </tr>\n",
       "    <tr>\n",
       "      <th>109</th>\n",
       "      <td>110</td>\n",
       "      <td>7</td>\n",
       "      <td>3.6</td>\n",
       "      <td>6.1</td>\n",
       "      <td>2.5</td>\n",
       "      <td>irisvirginica</td>\n",
       "      <td>25.2</td>\n",
       "    </tr>\n",
       "    <tr>\n",
       "      <th>117</th>\n",
       "      <td>118</td>\n",
       "      <td>7</td>\n",
       "      <td>3.8</td>\n",
       "      <td>6.7</td>\n",
       "      <td>2.2</td>\n",
       "      <td>irisvirginica</td>\n",
       "      <td>26.6</td>\n",
       "    </tr>\n",
       "    <tr>\n",
       "      <th>118</th>\n",
       "      <td>119</td>\n",
       "      <td>7</td>\n",
       "      <td>2.6</td>\n",
       "      <td>6.9</td>\n",
       "      <td>2.3</td>\n",
       "      <td>irisvirginica</td>\n",
       "      <td>18.2</td>\n",
       "    </tr>\n",
       "    <tr>\n",
       "      <th>122</th>\n",
       "      <td>123</td>\n",
       "      <td>7</td>\n",
       "      <td>2.8</td>\n",
       "      <td>6.7</td>\n",
       "      <td>2.0</td>\n",
       "      <td>irisvirginica</td>\n",
       "      <td>19.6</td>\n",
       "    </tr>\n",
       "    <tr>\n",
       "      <th>125</th>\n",
       "      <td>126</td>\n",
       "      <td>7</td>\n",
       "      <td>3.2</td>\n",
       "      <td>6.0</td>\n",
       "      <td>1.8</td>\n",
       "      <td>irisvirginica</td>\n",
       "      <td>22.4</td>\n",
       "    </tr>\n",
       "    <tr>\n",
       "      <th>129</th>\n",
       "      <td>130</td>\n",
       "      <td>7</td>\n",
       "      <td>3.0</td>\n",
       "      <td>5.8</td>\n",
       "      <td>1.6</td>\n",
       "      <td>irisvirginica</td>\n",
       "      <td>21.0</td>\n",
       "    </tr>\n",
       "    <tr>\n",
       "      <th>130</th>\n",
       "      <td>131</td>\n",
       "      <td>7</td>\n",
       "      <td>2.8</td>\n",
       "      <td>6.1</td>\n",
       "      <td>1.9</td>\n",
       "      <td>irisvirginica</td>\n",
       "      <td>19.6</td>\n",
       "    </tr>\n",
       "    <tr>\n",
       "      <th>131</th>\n",
       "      <td>132</td>\n",
       "      <td>7</td>\n",
       "      <td>3.8</td>\n",
       "      <td>6.4</td>\n",
       "      <td>2.0</td>\n",
       "      <td>irisvirginica</td>\n",
       "      <td>26.6</td>\n",
       "    </tr>\n",
       "    <tr>\n",
       "      <th>135</th>\n",
       "      <td>136</td>\n",
       "      <td>7</td>\n",
       "      <td>3.0</td>\n",
       "      <td>6.1</td>\n",
       "      <td>2.3</td>\n",
       "      <td>irisvirginica</td>\n",
       "      <td>21.0</td>\n",
       "    </tr>\n",
       "  </tbody>\n",
       "</table>\n",
       "</div>"
      ],
      "text/plain": [
       "      Id  SepalLengthCm  SepalWidthCm  PetalLengthCm  PetalWidthCm   \n",
       "50    51              7           3.2            4.7           1.4  \\\n",
       "102  103              7           3.0            5.9           2.1   \n",
       "105  106              7           3.0            6.6           2.1   \n",
       "107  108              7           2.9            6.3           1.8   \n",
       "109  110              7           3.6            6.1           2.5   \n",
       "117  118              7           3.8            6.7           2.2   \n",
       "118  119              7           2.6            6.9           2.3   \n",
       "122  123              7           2.8            6.7           2.0   \n",
       "125  126              7           3.2            6.0           1.8   \n",
       "129  130              7           3.0            5.8           1.6   \n",
       "130  131              7           2.8            6.1           1.9   \n",
       "131  132              7           3.8            6.4           2.0   \n",
       "135  136              7           3.0            6.1           2.3   \n",
       "\n",
       "            Species  sepal_area  \n",
       "50   irisversicolor        22.4  \n",
       "102   irisvirginica        21.0  \n",
       "105   irisvirginica        21.0  \n",
       "107   irisvirginica        20.3  \n",
       "109   irisvirginica        25.2  \n",
       "117   irisvirginica        26.6  \n",
       "118   irisvirginica        18.2  \n",
       "122   irisvirginica        19.6  \n",
       "125   irisvirginica        22.4  \n",
       "129   irisvirginica        21.0  \n",
       "130   irisvirginica        19.6  \n",
       "131   irisvirginica        26.6  \n",
       "135   irisvirginica        21.0  "
      ]
     },
     "execution_count": 17,
     "metadata": {},
     "output_type": "execute_result"
    }
   ],
   "source": [
    "iris_filtered = iris[lambda x: x['SepalLengthCm'] > 6.0]\n",
    "iris_filtered"
   ]
  },
  {
   "cell_type": "code",
   "execution_count": 18,
   "id": "a4c8729a",
   "metadata": {},
   "outputs": [
    {
     "data": {
      "text/html": [
       "<div>\n",
       "<style scoped>\n",
       "    .dataframe tbody tr th:only-of-type {\n",
       "        vertical-align: middle;\n",
       "    }\n",
       "\n",
       "    .dataframe tbody tr th {\n",
       "        vertical-align: top;\n",
       "    }\n",
       "\n",
       "    .dataframe thead th {\n",
       "        text-align: right;\n",
       "    }\n",
       "</style>\n",
       "<table border=\"1\" class=\"dataframe\">\n",
       "  <thead>\n",
       "    <tr style=\"text-align: right;\">\n",
       "      <th></th>\n",
       "      <th>Id</th>\n",
       "      <th>SepalLengthCm</th>\n",
       "      <th>SepalWidthCm</th>\n",
       "      <th>PetalLengthCm</th>\n",
       "      <th>PetalWidthCm</th>\n",
       "      <th>Species</th>\n",
       "      <th>sepal_area</th>\n",
       "    </tr>\n",
       "  </thead>\n",
       "  <tbody>\n",
       "    <tr>\n",
       "      <th>118</th>\n",
       "      <td>119</td>\n",
       "      <td>7</td>\n",
       "      <td>2.6</td>\n",
       "      <td>6.9</td>\n",
       "      <td>2.3</td>\n",
       "      <td>irisvirginica</td>\n",
       "      <td>18.2</td>\n",
       "    </tr>\n",
       "    <tr>\n",
       "      <th>122</th>\n",
       "      <td>123</td>\n",
       "      <td>7</td>\n",
       "      <td>2.8</td>\n",
       "      <td>6.7</td>\n",
       "      <td>2.0</td>\n",
       "      <td>irisvirginica</td>\n",
       "      <td>19.6</td>\n",
       "    </tr>\n",
       "    <tr>\n",
       "      <th>117</th>\n",
       "      <td>118</td>\n",
       "      <td>7</td>\n",
       "      <td>3.8</td>\n",
       "      <td>6.7</td>\n",
       "      <td>2.2</td>\n",
       "      <td>irisvirginica</td>\n",
       "      <td>26.6</td>\n",
       "    </tr>\n",
       "    <tr>\n",
       "      <th>105</th>\n",
       "      <td>106</td>\n",
       "      <td>7</td>\n",
       "      <td>3.0</td>\n",
       "      <td>6.6</td>\n",
       "      <td>2.1</td>\n",
       "      <td>irisvirginica</td>\n",
       "      <td>21.0</td>\n",
       "    </tr>\n",
       "    <tr>\n",
       "      <th>131</th>\n",
       "      <td>132</td>\n",
       "      <td>7</td>\n",
       "      <td>3.8</td>\n",
       "      <td>6.4</td>\n",
       "      <td>2.0</td>\n",
       "      <td>irisvirginica</td>\n",
       "      <td>26.6</td>\n",
       "    </tr>\n",
       "    <tr>\n",
       "      <th>...</th>\n",
       "      <td>...</td>\n",
       "      <td>...</td>\n",
       "      <td>...</td>\n",
       "      <td>...</td>\n",
       "      <td>...</td>\n",
       "      <td>...</td>\n",
       "      <td>...</td>\n",
       "    </tr>\n",
       "    <tr>\n",
       "      <th>36</th>\n",
       "      <td>37</td>\n",
       "      <td>5</td>\n",
       "      <td>3.5</td>\n",
       "      <td>1.3</td>\n",
       "      <td>0.2</td>\n",
       "      <td>irissetosa</td>\n",
       "      <td>17.5</td>\n",
       "    </tr>\n",
       "    <tr>\n",
       "      <th>35</th>\n",
       "      <td>36</td>\n",
       "      <td>5</td>\n",
       "      <td>3.2</td>\n",
       "      <td>1.2</td>\n",
       "      <td>0.2</td>\n",
       "      <td>irissetosa</td>\n",
       "      <td>16.0</td>\n",
       "    </tr>\n",
       "    <tr>\n",
       "      <th>14</th>\n",
       "      <td>15</td>\n",
       "      <td>5</td>\n",
       "      <td>4.0</td>\n",
       "      <td>1.2</td>\n",
       "      <td>0.2</td>\n",
       "      <td>irissetosa</td>\n",
       "      <td>20.0</td>\n",
       "    </tr>\n",
       "    <tr>\n",
       "      <th>13</th>\n",
       "      <td>14</td>\n",
       "      <td>4</td>\n",
       "      <td>3.0</td>\n",
       "      <td>1.1</td>\n",
       "      <td>0.1</td>\n",
       "      <td>irissetosa</td>\n",
       "      <td>12.0</td>\n",
       "    </tr>\n",
       "    <tr>\n",
       "      <th>22</th>\n",
       "      <td>23</td>\n",
       "      <td>4</td>\n",
       "      <td>3.6</td>\n",
       "      <td>1.0</td>\n",
       "      <td>0.2</td>\n",
       "      <td>irissetosa</td>\n",
       "      <td>14.4</td>\n",
       "    </tr>\n",
       "  </tbody>\n",
       "</table>\n",
       "<p>150 rows × 7 columns</p>\n",
       "</div>"
      ],
      "text/plain": [
       "      Id  SepalLengthCm  SepalWidthCm  PetalLengthCm  PetalWidthCm   \n",
       "118  119              7           2.6            6.9           2.3  \\\n",
       "122  123              7           2.8            6.7           2.0   \n",
       "117  118              7           3.8            6.7           2.2   \n",
       "105  106              7           3.0            6.6           2.1   \n",
       "131  132              7           3.8            6.4           2.0   \n",
       "..   ...            ...           ...            ...           ...   \n",
       "36    37              5           3.5            1.3           0.2   \n",
       "35    36              5           3.2            1.2           0.2   \n",
       "14    15              5           4.0            1.2           0.2   \n",
       "13    14              4           3.0            1.1           0.1   \n",
       "22    23              4           3.6            1.0           0.2   \n",
       "\n",
       "           Species  sepal_area  \n",
       "118  irisvirginica        18.2  \n",
       "122  irisvirginica        19.6  \n",
       "117  irisvirginica        26.6  \n",
       "105  irisvirginica        21.0  \n",
       "131  irisvirginica        26.6  \n",
       "..             ...         ...  \n",
       "36      irissetosa        17.5  \n",
       "35      irissetosa        16.0  \n",
       "14      irissetosa        20.0  \n",
       "13      irissetosa        12.0  \n",
       "22      irissetosa        14.4  \n",
       "\n",
       "[150 rows x 7 columns]"
      ]
     },
     "execution_count": 18,
     "metadata": {},
     "output_type": "execute_result"
    }
   ],
   "source": [
    "iris_sorted = iris.sort_values(by='PetalLengthCm', ascending=False)\n",
    "iris_sorted"
   ]
  },
  {
   "cell_type": "code",
   "execution_count": 20,
   "id": "9e3c678d",
   "metadata": {},
   "outputs": [
    {
     "data": {
      "text/html": [
       "<div>\n",
       "<style scoped>\n",
       "    .dataframe tbody tr th:only-of-type {\n",
       "        vertical-align: middle;\n",
       "    }\n",
       "\n",
       "    .dataframe tbody tr th {\n",
       "        vertical-align: top;\n",
       "    }\n",
       "\n",
       "    .dataframe thead th {\n",
       "        text-align: right;\n",
       "    }\n",
       "</style>\n",
       "<table border=\"1\" class=\"dataframe\">\n",
       "  <thead>\n",
       "    <tr style=\"text-align: right;\">\n",
       "      <th></th>\n",
       "      <th>Id</th>\n",
       "      <th>SepalLengthCm</th>\n",
       "      <th>SepalWidthCm</th>\n",
       "      <th>PetalLengthCm</th>\n",
       "      <th>PetalWidthCm</th>\n",
       "      <th>sepal_area</th>\n",
       "    </tr>\n",
       "    <tr>\n",
       "      <th>Species</th>\n",
       "      <th></th>\n",
       "      <th></th>\n",
       "      <th></th>\n",
       "      <th></th>\n",
       "      <th></th>\n",
       "      <th></th>\n",
       "    </tr>\n",
       "  </thead>\n",
       "  <tbody>\n",
       "    <tr>\n",
       "      <th>irissetosa</th>\n",
       "      <td>25.5</td>\n",
       "      <td>4.60</td>\n",
       "      <td>3.418</td>\n",
       "      <td>1.464</td>\n",
       "      <td>0.244</td>\n",
       "      <td>15.844</td>\n",
       "    </tr>\n",
       "    <tr>\n",
       "      <th>irisversicolor</th>\n",
       "      <td>75.5</td>\n",
       "      <td>5.48</td>\n",
       "      <td>2.770</td>\n",
       "      <td>4.260</td>\n",
       "      <td>1.326</td>\n",
       "      <td>15.246</td>\n",
       "    </tr>\n",
       "    <tr>\n",
       "      <th>irisvirginica</th>\n",
       "      <td>125.5</td>\n",
       "      <td>6.08</td>\n",
       "      <td>2.974</td>\n",
       "      <td>5.552</td>\n",
       "      <td>2.026</td>\n",
       "      <td>18.164</td>\n",
       "    </tr>\n",
       "  </tbody>\n",
       "</table>\n",
       "</div>"
      ],
      "text/plain": [
       "                   Id  SepalLengthCm  SepalWidthCm  PetalLengthCm   \n",
       "Species                                                             \n",
       "irissetosa       25.5           4.60         3.418          1.464  \\\n",
       "irisversicolor   75.5           5.48         2.770          4.260   \n",
       "irisvirginica   125.5           6.08         2.974          5.552   \n",
       "\n",
       "                PetalWidthCm  sepal_area  \n",
       "Species                                   \n",
       "irissetosa             0.244      15.844  \n",
       "irisversicolor         1.326      15.246  \n",
       "irisvirginica          2.026      18.164  "
      ]
     },
     "execution_count": 20,
     "metadata": {},
     "output_type": "execute_result"
    }
   ],
   "source": [
    "iris_grouped = iris.groupby('Species').mean()\n",
    "iris_grouped"
   ]
  },
  {
   "cell_type": "code",
   "execution_count": 21,
   "id": "ac5d4ce4",
   "metadata": {},
   "outputs": [
    {
     "data": {
      "text/plain": [
       "0       1.96\n",
       "1       1.96\n",
       "2       1.69\n",
       "3       2.25\n",
       "4       1.96\n",
       "       ...  \n",
       "145    27.04\n",
       "146    25.00\n",
       "147    27.04\n",
       "148    29.16\n",
       "149    26.01\n",
       "Name: petal_area, Length: 150, dtype: float64"
      ]
     },
     "execution_count": 21,
     "metadata": {},
     "output_type": "execute_result"
    }
   ],
   "source": [
    "iris['petal_area'] = iris['PetalLengthCm'].apply(lambda x: x**2)\n",
    "iris['petal_area']"
   ]
  },
  {
   "cell_type": "code",
   "execution_count": 22,
   "id": "0a70b1b3",
   "metadata": {},
   "outputs": [
    {
     "data": {
      "text/plain": [
       "0      5 x 3.5\n",
       "1      4 x 3.0\n",
       "2      4 x 3.2\n",
       "3      4 x 3.1\n",
       "4      5 x 3.6\n",
       "        ...   \n",
       "145    6 x 3.0\n",
       "146    6 x 2.5\n",
       "147    6 x 3.0\n",
       "148    6 x 3.4\n",
       "149    5 x 3.0\n",
       "Name: sepal_dimensions, Length: 150, dtype: object"
      ]
     },
     "execution_count": 22,
     "metadata": {},
     "output_type": "execute_result"
    }
   ],
   "source": [
    "iris['sepal_dimensions'] = iris.apply(lambda row: f\"{row['SepalLengthCm']} x {row['SepalWidthCm']}\", axis=1)\n",
    "iris['sepal_dimensions'] "
   ]
  },
  {
   "cell_type": "code",
   "execution_count": 24,
   "id": "0b64d4e7",
   "metadata": {},
   "outputs": [
    {
     "name": "stdout",
     "output_type": "stream",
     "text": [
      "3.0\n"
     ]
    }
   ],
   "source": [
    "num_list = [1, 2, 3, 4, 5]\n",
    "mean = lambda x: sum(x)/len(x)\n",
    "result = mean(num_list)\n",
    "print(result)"
   ]
  },
  {
   "cell_type": "code",
   "execution_count": 25,
   "id": "d0d049e6",
   "metadata": {},
   "outputs": [
    {
     "name": "stdout",
     "output_type": "stream",
     "text": [
      "3\n"
     ]
    }
   ],
   "source": [
    "num_list = [1, 2, 3, 4, 5]\n",
    "median = lambda x: sorted(x)[len(x)//2] if len(x)%2!=0 else (sorted(x)[len(x)//2] + sorted(x)[(len(x)//2)-1])/2\n",
    "result = median(num_list)\n",
    "print(result)"
   ]
  },
  {
   "cell_type": "code",
   "execution_count": 27,
   "id": "517df6e5",
   "metadata": {},
   "outputs": [
    {
     "name": "stdout",
     "output_type": "stream",
     "text": [
      "[2.0, 5.0, 8.0]\n"
     ]
    }
   ],
   "source": [
    "nested_list = [[1, 2, 3], [4, 5, 6], [7, 8, 9]]\n",
    "func = lambda x: sum(x)/len(x)\n",
    "result = list(map(func, nested_list))\n",
    "print(result)"
   ]
  },
  {
   "cell_type": "code",
   "execution_count": 28,
   "id": "28d841db",
   "metadata": {},
   "outputs": [
    {
     "name": "stdout",
     "output_type": "stream",
     "text": [
      "2.0\n"
     ]
    }
   ],
   "source": [
    "num_list = [1, 2, 3, 4, 5]\n",
    "mean = lambda x: sum(x)/len(x)\n",
    "variance = lambda x: sum([(i-mean(x))**2 for i in x])/len(x)\n",
    "result = variance(num_list)\n",
    "print(result)"
   ]
  }
 ],
 "metadata": {
  "kernelspec": {
   "display_name": "Python 3 (ipykernel)",
   "language": "python",
   "name": "python3"
  },
  "language_info": {
   "codemirror_mode": {
    "name": "ipython",
    "version": 3
   },
   "file_extension": ".py",
   "mimetype": "text/x-python",
   "name": "python",
   "nbconvert_exporter": "python",
   "pygments_lexer": "ipython3",
   "version": "3.9.15"
  },
  "toc": {
   "base_numbering": 1,
   "nav_menu": {},
   "number_sections": true,
   "sideBar": true,
   "skip_h1_title": false,
   "title_cell": "Table of Contents",
   "title_sidebar": "Contents",
   "toc_cell": false,
   "toc_position": {},
   "toc_section_display": true,
   "toc_window_display": false
  }
 },
 "nbformat": 4,
 "nbformat_minor": 5
}
