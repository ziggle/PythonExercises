{
  "metadata": {
    "language_info": {
      "codemirror_mode": {
        "name": "python",
        "version": 3
      },
      "file_extension": ".py",
      "mimetype": "text/x-python",
      "name": "python",
      "nbconvert_exporter": "python",
      "pygments_lexer": "ipython3",
      "version": "3.8"
    },
    "kernelspec": {
      "name": "python",
      "display_name": "Python (Pyodide)",
      "language": "python"
    }
  },
  "nbformat_minor": 4,
  "nbformat": 4,
  "cells": [
    {
      "cell_type": "markdown",
      "source": "https://sonery.medium.com/5-python-pandas-functions-you-should-not-forget-about-91a0acc8e718",
      "metadata": {}
    },
    {
      "cell_type": "code",
      "source": "import numpy as np\nimport pandas as pd\n\ndf = pd.DataFrame(\n    np.random.randint(-10, 10, size=(5, 5)), \n    columns=list(\"ABCDE\")\n)\n\ndf",
      "metadata": {
        "trusted": true
      },
      "execution_count": 4,
      "outputs": [
        {
          "execution_count": 4,
          "output_type": "execute_result",
          "data": {
            "text/plain": "   A  B  C  D  E\n0  9 -5  5 -8 -2\n1  4 -1  4  3  3\n2  4 -3  5 -3 -2\n3  4 -8 -1 -7 -6\n4  2  2  5  5  8",
            "text/html": "<div>\n<style scoped>\n    .dataframe tbody tr th:only-of-type {\n        vertical-align: middle;\n    }\n\n    .dataframe tbody tr th {\n        vertical-align: top;\n    }\n\n    .dataframe thead th {\n        text-align: right;\n    }\n</style>\n<table border=\"1\" class=\"dataframe\">\n  <thead>\n    <tr style=\"text-align: right;\">\n      <th></th>\n      <th>A</th>\n      <th>B</th>\n      <th>C</th>\n      <th>D</th>\n      <th>E</th>\n    </tr>\n  </thead>\n  <tbody>\n    <tr>\n      <th>0</th>\n      <td>9</td>\n      <td>-5</td>\n      <td>5</td>\n      <td>-8</td>\n      <td>-2</td>\n    </tr>\n    <tr>\n      <th>1</th>\n      <td>4</td>\n      <td>-1</td>\n      <td>4</td>\n      <td>3</td>\n      <td>3</td>\n    </tr>\n    <tr>\n      <th>2</th>\n      <td>4</td>\n      <td>-3</td>\n      <td>5</td>\n      <td>-3</td>\n      <td>-2</td>\n    </tr>\n    <tr>\n      <th>3</th>\n      <td>4</td>\n      <td>-8</td>\n      <td>-1</td>\n      <td>-7</td>\n      <td>-6</td>\n    </tr>\n    <tr>\n      <th>4</th>\n      <td>2</td>\n      <td>2</td>\n      <td>5</td>\n      <td>5</td>\n      <td>8</td>\n    </tr>\n  </tbody>\n</table>\n</div>"
          },
          "metadata": {}
        }
      ]
    },
    {
      "cell_type": "code",
      "source": "df.clip(lower=-4)",
      "metadata": {
        "trusted": true
      },
      "execution_count": 5,
      "outputs": [
        {
          "execution_count": 5,
          "output_type": "execute_result",
          "data": {
            "text/plain": "   A  B  C  D  E\n0  9 -4  5 -4 -2\n1  4 -1  4  3  3\n2  4 -3  5 -3 -2\n3  4 -4 -1 -4 -4\n4  2  2  5  5  8",
            "text/html": "<div>\n<style scoped>\n    .dataframe tbody tr th:only-of-type {\n        vertical-align: middle;\n    }\n\n    .dataframe tbody tr th {\n        vertical-align: top;\n    }\n\n    .dataframe thead th {\n        text-align: right;\n    }\n</style>\n<table border=\"1\" class=\"dataframe\">\n  <thead>\n    <tr style=\"text-align: right;\">\n      <th></th>\n      <th>A</th>\n      <th>B</th>\n      <th>C</th>\n      <th>D</th>\n      <th>E</th>\n    </tr>\n  </thead>\n  <tbody>\n    <tr>\n      <th>0</th>\n      <td>9</td>\n      <td>-4</td>\n      <td>5</td>\n      <td>-4</td>\n      <td>-2</td>\n    </tr>\n    <tr>\n      <th>1</th>\n      <td>4</td>\n      <td>-1</td>\n      <td>4</td>\n      <td>3</td>\n      <td>3</td>\n    </tr>\n    <tr>\n      <th>2</th>\n      <td>4</td>\n      <td>-3</td>\n      <td>5</td>\n      <td>-3</td>\n      <td>-2</td>\n    </tr>\n    <tr>\n      <th>3</th>\n      <td>4</td>\n      <td>-4</td>\n      <td>-1</td>\n      <td>-4</td>\n      <td>-4</td>\n    </tr>\n    <tr>\n      <th>4</th>\n      <td>2</td>\n      <td>2</td>\n      <td>5</td>\n      <td>5</td>\n      <td>8</td>\n    </tr>\n  </tbody>\n</table>\n</div>"
          },
          "metadata": {}
        }
      ]
    },
    {
      "cell_type": "code",
      "source": "df",
      "metadata": {
        "trusted": true
      },
      "execution_count": 6,
      "outputs": [
        {
          "execution_count": 6,
          "output_type": "execute_result",
          "data": {
            "text/plain": "   A  B  C  D  E\n0  9 -5  5 -8 -2\n1  4 -1  4  3  3\n2  4 -3  5 -3 -2\n3  4 -8 -1 -7 -6\n4  2  2  5  5  8",
            "text/html": "<div>\n<style scoped>\n    .dataframe tbody tr th:only-of-type {\n        vertical-align: middle;\n    }\n\n    .dataframe tbody tr th {\n        vertical-align: top;\n    }\n\n    .dataframe thead th {\n        text-align: right;\n    }\n</style>\n<table border=\"1\" class=\"dataframe\">\n  <thead>\n    <tr style=\"text-align: right;\">\n      <th></th>\n      <th>A</th>\n      <th>B</th>\n      <th>C</th>\n      <th>D</th>\n      <th>E</th>\n    </tr>\n  </thead>\n  <tbody>\n    <tr>\n      <th>0</th>\n      <td>9</td>\n      <td>-5</td>\n      <td>5</td>\n      <td>-8</td>\n      <td>-2</td>\n    </tr>\n    <tr>\n      <th>1</th>\n      <td>4</td>\n      <td>-1</td>\n      <td>4</td>\n      <td>3</td>\n      <td>3</td>\n    </tr>\n    <tr>\n      <th>2</th>\n      <td>4</td>\n      <td>-3</td>\n      <td>5</td>\n      <td>-3</td>\n      <td>-2</td>\n    </tr>\n    <tr>\n      <th>3</th>\n      <td>4</td>\n      <td>-8</td>\n      <td>-1</td>\n      <td>-7</td>\n      <td>-6</td>\n    </tr>\n    <tr>\n      <th>4</th>\n      <td>2</td>\n      <td>2</td>\n      <td>5</td>\n      <td>5</td>\n      <td>8</td>\n    </tr>\n  </tbody>\n</table>\n</div>"
          },
          "metadata": {}
        }
      ]
    },
    {
      "cell_type": "code",
      "source": "# difference between consecutive rows\ndf.diff()\n# output",
      "metadata": {
        "jupyter": {
          "source_hidden": true
        },
        "trusted": true
      },
      "execution_count": 7,
      "outputs": [
        {
          "execution_count": 7,
          "output_type": "execute_result",
          "data": {
            "text/plain": "     A     B    C     D     E\n0  NaN   NaN  NaN   NaN   NaN\n1 -5.0   4.0 -1.0  11.0   5.0\n2  0.0  -2.0  1.0  -6.0  -5.0\n3  0.0  -5.0 -6.0  -4.0  -4.0\n4 -2.0  10.0  6.0  12.0  14.0",
            "text/html": "<div>\n<style scoped>\n    .dataframe tbody tr th:only-of-type {\n        vertical-align: middle;\n    }\n\n    .dataframe tbody tr th {\n        vertical-align: top;\n    }\n\n    .dataframe thead th {\n        text-align: right;\n    }\n</style>\n<table border=\"1\" class=\"dataframe\">\n  <thead>\n    <tr style=\"text-align: right;\">\n      <th></th>\n      <th>A</th>\n      <th>B</th>\n      <th>C</th>\n      <th>D</th>\n      <th>E</th>\n    </tr>\n  </thead>\n  <tbody>\n    <tr>\n      <th>0</th>\n      <td>NaN</td>\n      <td>NaN</td>\n      <td>NaN</td>\n      <td>NaN</td>\n      <td>NaN</td>\n    </tr>\n    <tr>\n      <th>1</th>\n      <td>-5.0</td>\n      <td>4.0</td>\n      <td>-1.0</td>\n      <td>11.0</td>\n      <td>5.0</td>\n    </tr>\n    <tr>\n      <th>2</th>\n      <td>0.0</td>\n      <td>-2.0</td>\n      <td>1.0</td>\n      <td>-6.0</td>\n      <td>-5.0</td>\n    </tr>\n    <tr>\n      <th>3</th>\n      <td>0.0</td>\n      <td>-5.0</td>\n      <td>-6.0</td>\n      <td>-4.0</td>\n      <td>-4.0</td>\n    </tr>\n    <tr>\n      <th>4</th>\n      <td>-2.0</td>\n      <td>10.0</td>\n      <td>6.0</td>\n      <td>12.0</td>\n      <td>14.0</td>\n    </tr>\n  </tbody>\n</table>\n</div>"
          },
          "metadata": {}
        }
      ]
    },
    {
      "cell_type": "code",
      "source": "# difference between the row before\ndf.diff(periods=2)\n# output",
      "metadata": {
        "jupyter": {
          "source_hidden": true
        },
        "trusted": true
      },
      "execution_count": 8,
      "outputs": [
        {
          "execution_count": 8,
          "output_type": "execute_result",
          "data": {
            "text/plain": "     A    B    C     D     E\n0  NaN  NaN  NaN   NaN   NaN\n1  NaN  NaN  NaN   NaN   NaN\n2 -5.0  2.0  0.0   5.0   0.0\n3  0.0 -7.0 -5.0 -10.0  -9.0\n4 -2.0  5.0  0.0   8.0  10.0",
            "text/html": "<div>\n<style scoped>\n    .dataframe tbody tr th:only-of-type {\n        vertical-align: middle;\n    }\n\n    .dataframe tbody tr th {\n        vertical-align: top;\n    }\n\n    .dataframe thead th {\n        text-align: right;\n    }\n</style>\n<table border=\"1\" class=\"dataframe\">\n  <thead>\n    <tr style=\"text-align: right;\">\n      <th></th>\n      <th>A</th>\n      <th>B</th>\n      <th>C</th>\n      <th>D</th>\n      <th>E</th>\n    </tr>\n  </thead>\n  <tbody>\n    <tr>\n      <th>0</th>\n      <td>NaN</td>\n      <td>NaN</td>\n      <td>NaN</td>\n      <td>NaN</td>\n      <td>NaN</td>\n    </tr>\n    <tr>\n      <th>1</th>\n      <td>NaN</td>\n      <td>NaN</td>\n      <td>NaN</td>\n      <td>NaN</td>\n      <td>NaN</td>\n    </tr>\n    <tr>\n      <th>2</th>\n      <td>-5.0</td>\n      <td>2.0</td>\n      <td>0.0</td>\n      <td>5.0</td>\n      <td>0.0</td>\n    </tr>\n    <tr>\n      <th>3</th>\n      <td>0.0</td>\n      <td>-7.0</td>\n      <td>-5.0</td>\n      <td>-10.0</td>\n      <td>-9.0</td>\n    </tr>\n    <tr>\n      <th>4</th>\n      <td>-2.0</td>\n      <td>5.0</td>\n      <td>0.0</td>\n      <td>8.0</td>\n      <td>10.0</td>\n    </tr>\n  </tbody>\n</table>\n</div>"
          },
          "metadata": {}
        }
      ]
    },
    {
      "cell_type": "code",
      "source": "# difference between consecutive columns\ndf.diff(axis=1)\n# output",
      "metadata": {
        "jupyter": {
          "source_hidden": true
        },
        "trusted": true
      },
      "execution_count": 9,
      "outputs": [
        {
          "execution_count": 9,
          "output_type": "execute_result",
          "data": {
            "text/plain": "    A   B   C   D  E\n0 NaN -14  10 -13  6\n1 NaN  -5   5  -1  0\n2 NaN  -7   8  -8  1\n3 NaN -12   7  -6  1\n4 NaN   0   3   0  3",
            "text/html": "<div>\n<style scoped>\n    .dataframe tbody tr th:only-of-type {\n        vertical-align: middle;\n    }\n\n    .dataframe tbody tr th {\n        vertical-align: top;\n    }\n\n    .dataframe thead th {\n        text-align: right;\n    }\n</style>\n<table border=\"1\" class=\"dataframe\">\n  <thead>\n    <tr style=\"text-align: right;\">\n      <th></th>\n      <th>A</th>\n      <th>B</th>\n      <th>C</th>\n      <th>D</th>\n      <th>E</th>\n    </tr>\n  </thead>\n  <tbody>\n    <tr>\n      <th>0</th>\n      <td>NaN</td>\n      <td>-14</td>\n      <td>10</td>\n      <td>-13</td>\n      <td>6</td>\n    </tr>\n    <tr>\n      <th>1</th>\n      <td>NaN</td>\n      <td>-5</td>\n      <td>5</td>\n      <td>-1</td>\n      <td>0</td>\n    </tr>\n    <tr>\n      <th>2</th>\n      <td>NaN</td>\n      <td>-7</td>\n      <td>8</td>\n      <td>-8</td>\n      <td>1</td>\n    </tr>\n    <tr>\n      <th>3</th>\n      <td>NaN</td>\n      <td>-12</td>\n      <td>7</td>\n      <td>-6</td>\n      <td>1</td>\n    </tr>\n    <tr>\n      <th>4</th>\n      <td>NaN</td>\n      <td>0</td>\n      <td>3</td>\n      <td>0</td>\n      <td>3</td>\n    </tr>\n  </tbody>\n</table>\n</div>"
          },
          "metadata": {}
        }
      ]
    },
    {
      "cell_type": "code",
      "source": "import pandas as pd\n\ndf = pd.DataFrame(\n\n    {\n        \"age\": [45, 53, 60, 42, 34],\n        \"gender\": [\"Female\", \"Male\", \"Female\", \"Female\", \"Male\"]\n    }\n)\n\ndf",
      "metadata": {
        "trusted": true
      },
      "execution_count": 10,
      "outputs": [
        {
          "execution_count": 10,
          "output_type": "execute_result",
          "data": {
            "text/plain": "   age  gender\n0   45  Female\n1   53    Male\n2   60  Female\n3   42  Female\n4   34    Male",
            "text/html": "<div>\n<style scoped>\n    .dataframe tbody tr th:only-of-type {\n        vertical-align: middle;\n    }\n\n    .dataframe tbody tr th {\n        vertical-align: top;\n    }\n\n    .dataframe thead th {\n        text-align: right;\n    }\n</style>\n<table border=\"1\" class=\"dataframe\">\n  <thead>\n    <tr style=\"text-align: right;\">\n      <th></th>\n      <th>age</th>\n      <th>gender</th>\n    </tr>\n  </thead>\n  <tbody>\n    <tr>\n      <th>0</th>\n      <td>45</td>\n      <td>Female</td>\n    </tr>\n    <tr>\n      <th>1</th>\n      <td>53</td>\n      <td>Male</td>\n    </tr>\n    <tr>\n      <th>2</th>\n      <td>60</td>\n      <td>Female</td>\n    </tr>\n    <tr>\n      <th>3</th>\n      <td>42</td>\n      <td>Female</td>\n    </tr>\n    <tr>\n      <th>4</th>\n      <td>34</td>\n      <td>Male</td>\n    </tr>\n  </tbody>\n</table>\n</div>"
          },
          "metadata": {}
        }
      ]
    },
    {
      "cell_type": "code",
      "source": "pd.get_dummies(df)",
      "metadata": {
        "trusted": true
      },
      "execution_count": 11,
      "outputs": [
        {
          "execution_count": 11,
          "output_type": "execute_result",
          "data": {
            "text/plain": "   age  gender_Female  gender_Male\n0   45              1            0\n1   53              0            1\n2   60              1            0\n3   42              1            0\n4   34              0            1",
            "text/html": "<div>\n<style scoped>\n    .dataframe tbody tr th:only-of-type {\n        vertical-align: middle;\n    }\n\n    .dataframe tbody tr th {\n        vertical-align: top;\n    }\n\n    .dataframe thead th {\n        text-align: right;\n    }\n</style>\n<table border=\"1\" class=\"dataframe\">\n  <thead>\n    <tr style=\"text-align: right;\">\n      <th></th>\n      <th>age</th>\n      <th>gender_Female</th>\n      <th>gender_Male</th>\n    </tr>\n  </thead>\n  <tbody>\n    <tr>\n      <th>0</th>\n      <td>45</td>\n      <td>1</td>\n      <td>0</td>\n    </tr>\n    <tr>\n      <th>1</th>\n      <td>53</td>\n      <td>0</td>\n      <td>1</td>\n    </tr>\n    <tr>\n      <th>2</th>\n      <td>60</td>\n      <td>1</td>\n      <td>0</td>\n    </tr>\n    <tr>\n      <th>3</th>\n      <td>42</td>\n      <td>1</td>\n      <td>0</td>\n    </tr>\n    <tr>\n      <th>4</th>\n      <td>34</td>\n      <td>0</td>\n      <td>1</td>\n    </tr>\n  </tbody>\n</table>\n</div>"
          },
          "metadata": {}
        }
      ]
    },
    {
      "cell_type": "code",
      "source": "df_new = pd.get_dummies(df)\n\ndf_new\n# output",
      "metadata": {
        "trusted": true
      },
      "execution_count": 12,
      "outputs": [
        {
          "execution_count": 12,
          "output_type": "execute_result",
          "data": {
            "text/plain": "   age  gender_Female  gender_Male\n0   45              1            0\n1   53              0            1\n2   60              1            0\n3   42              1            0\n4   34              0            1",
            "text/html": "<div>\n<style scoped>\n    .dataframe tbody tr th:only-of-type {\n        vertical-align: middle;\n    }\n\n    .dataframe tbody tr th {\n        vertical-align: top;\n    }\n\n    .dataframe thead th {\n        text-align: right;\n    }\n</style>\n<table border=\"1\" class=\"dataframe\">\n  <thead>\n    <tr style=\"text-align: right;\">\n      <th></th>\n      <th>age</th>\n      <th>gender_Female</th>\n      <th>gender_Male</th>\n    </tr>\n  </thead>\n  <tbody>\n    <tr>\n      <th>0</th>\n      <td>45</td>\n      <td>1</td>\n      <td>0</td>\n    </tr>\n    <tr>\n      <th>1</th>\n      <td>53</td>\n      <td>0</td>\n      <td>1</td>\n    </tr>\n    <tr>\n      <th>2</th>\n      <td>60</td>\n      <td>1</td>\n      <td>0</td>\n    </tr>\n    <tr>\n      <th>3</th>\n      <td>42</td>\n      <td>1</td>\n      <td>0</td>\n    </tr>\n    <tr>\n      <th>4</th>\n      <td>34</td>\n      <td>0</td>\n      <td>1</td>\n    </tr>\n  </tbody>\n</table>\n</div>"
          },
          "metadata": {}
        }
      ]
    },
    {
      "cell_type": "code",
      "source": "pd.from_dummies(df_new[[\"gender_Female\", \"gender_Male\"]])\n# output",
      "metadata": {
        "trusted": true
      },
      "execution_count": 13,
      "outputs": [
        {
          "execution_count": 13,
          "output_type": "execute_result",
          "data": {
            "text/plain": "                \n0  gender_Female\n1    gender_Male\n2  gender_Female\n3  gender_Female\n4    gender_Male",
            "text/html": "<div>\n<style scoped>\n    .dataframe tbody tr th:only-of-type {\n        vertical-align: middle;\n    }\n\n    .dataframe tbody tr th {\n        vertical-align: top;\n    }\n\n    .dataframe thead th {\n        text-align: right;\n    }\n</style>\n<table border=\"1\" class=\"dataframe\">\n  <thead>\n    <tr style=\"text-align: right;\">\n      <th></th>\n      <th></th>\n    </tr>\n  </thead>\n  <tbody>\n    <tr>\n      <th>0</th>\n      <td>gender_Female</td>\n    </tr>\n    <tr>\n      <th>1</th>\n      <td>gender_Male</td>\n    </tr>\n    <tr>\n      <th>2</th>\n      <td>gender_Female</td>\n    </tr>\n    <tr>\n      <th>3</th>\n      <td>gender_Female</td>\n    </tr>\n    <tr>\n      <th>4</th>\n      <td>gender_Male</td>\n    </tr>\n  </tbody>\n</table>\n</div>"
          },
          "metadata": {}
        }
      ]
    },
    {
      "cell_type": "code",
      "source": "import pandas as pd\nimport numpy as np\n\ndf = pd.DataFrame(\n   np.random.randint(0, 10, size=(5, 3)), \n   columns=list(\"ABC\")\n)\n\ndf\n# output",
      "metadata": {
        "trusted": true
      },
      "execution_count": 14,
      "outputs": [
        {
          "execution_count": 14,
          "output_type": "execute_result",
          "data": {
            "text/plain": "   A  B  C\n0  2  3  7\n1  8  0  4\n2  6  7  4\n3  6  0  1\n4  1  2  6",
            "text/html": "<div>\n<style scoped>\n    .dataframe tbody tr th:only-of-type {\n        vertical-align: middle;\n    }\n\n    .dataframe tbody tr th {\n        vertical-align: top;\n    }\n\n    .dataframe thead th {\n        text-align: right;\n    }\n</style>\n<table border=\"1\" class=\"dataframe\">\n  <thead>\n    <tr style=\"text-align: right;\">\n      <th></th>\n      <th>A</th>\n      <th>B</th>\n      <th>C</th>\n    </tr>\n  </thead>\n  <tbody>\n    <tr>\n      <th>0</th>\n      <td>2</td>\n      <td>3</td>\n      <td>7</td>\n    </tr>\n    <tr>\n      <th>1</th>\n      <td>8</td>\n      <td>0</td>\n      <td>4</td>\n    </tr>\n    <tr>\n      <th>2</th>\n      <td>6</td>\n      <td>7</td>\n      <td>4</td>\n    </tr>\n    <tr>\n      <th>3</th>\n      <td>6</td>\n      <td>0</td>\n      <td>1</td>\n    </tr>\n    <tr>\n      <th>4</th>\n      <td>1</td>\n      <td>2</td>\n      <td>6</td>\n    </tr>\n  </tbody>\n</table>\n</div>"
          },
          "metadata": {}
        }
      ]
    },
    {
      "cell_type": "code",
      "source": "df.transform([np.sqrt, np.square])",
      "metadata": {
        "trusted": true
      },
      "execution_count": 15,
      "outputs": [
        {
          "execution_count": 15,
          "output_type": "execute_result",
          "data": {
            "text/plain": "          A                B                C       \n       sqrt square      sqrt square      sqrt square\n0  1.414214      4  1.732051      9  2.645751     49\n1  2.828427     64  0.000000      0  2.000000     16\n2  2.449490     36  2.645751     49  2.000000     16\n3  2.449490     36  0.000000      0  1.000000      1\n4  1.000000      1  1.414214      4  2.449490     36",
            "text/html": "<div>\n<style scoped>\n    .dataframe tbody tr th:only-of-type {\n        vertical-align: middle;\n    }\n\n    .dataframe tbody tr th {\n        vertical-align: top;\n    }\n\n    .dataframe thead tr th {\n        text-align: left;\n    }\n</style>\n<table border=\"1\" class=\"dataframe\">\n  <thead>\n    <tr>\n      <th></th>\n      <th colspan=\"2\" halign=\"left\">A</th>\n      <th colspan=\"2\" halign=\"left\">B</th>\n      <th colspan=\"2\" halign=\"left\">C</th>\n    </tr>\n    <tr>\n      <th></th>\n      <th>sqrt</th>\n      <th>square</th>\n      <th>sqrt</th>\n      <th>square</th>\n      <th>sqrt</th>\n      <th>square</th>\n    </tr>\n  </thead>\n  <tbody>\n    <tr>\n      <th>0</th>\n      <td>1.414214</td>\n      <td>4</td>\n      <td>1.732051</td>\n      <td>9</td>\n      <td>2.645751</td>\n      <td>49</td>\n    </tr>\n    <tr>\n      <th>1</th>\n      <td>2.828427</td>\n      <td>64</td>\n      <td>0.000000</td>\n      <td>0</td>\n      <td>2.000000</td>\n      <td>16</td>\n    </tr>\n    <tr>\n      <th>2</th>\n      <td>2.449490</td>\n      <td>36</td>\n      <td>2.645751</td>\n      <td>49</td>\n      <td>2.000000</td>\n      <td>16</td>\n    </tr>\n    <tr>\n      <th>3</th>\n      <td>2.449490</td>\n      <td>36</td>\n      <td>0.000000</td>\n      <td>0</td>\n      <td>1.000000</td>\n      <td>1</td>\n    </tr>\n    <tr>\n      <th>4</th>\n      <td>1.000000</td>\n      <td>1</td>\n      <td>1.414214</td>\n      <td>4</td>\n      <td>2.449490</td>\n      <td>36</td>\n    </tr>\n  </tbody>\n</table>\n</div>"
          },
          "metadata": {}
        }
      ]
    },
    {
      "cell_type": "code",
      "source": "",
      "metadata": {},
      "execution_count": null,
      "outputs": []
    }
  ]
}