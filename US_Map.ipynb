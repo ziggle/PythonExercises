{
 "cells": [
  {
   "cell_type": "markdown",
   "id": "cf7fa374-599f-4530-bbb7-3f65edb478ac",
   "metadata": {},
   "source": [
    "https://python.plainenglish.io/creating-beautiful-hexagon-maps-with-python-25c9291eeeda"
   ]
  },
  {
   "cell_type": "code",
   "execution_count": 2,
   "id": "0ea32d8e-a35f-4b51-ad22-37ceec17f4ce",
   "metadata": {},
   "outputs": [
    {
     "name": "stdout",
     "output_type": "stream",
     "text": [
      "Requirement already satisfied: ellipsis in c:\\users\\mark\\anaconda3\\lib\\site-packages (3.1.9)\n",
      "Requirement already satisfied: scikit-image in c:\\users\\mark\\anaconda3\\lib\\site-packages (from ellipsis) (0.19.3)\n",
      "Requirement already satisfied: imagecodecs in c:\\users\\mark\\anaconda3\\lib\\site-packages (from ellipsis) (2021.8.26)\n",
      "Requirement already satisfied: numpy in c:\\users\\mark\\anaconda3\\lib\\site-packages (from ellipsis) (1.23.5)\n",
      "Requirement already satisfied: Pillow in c:\\users\\mark\\anaconda3\\lib\\site-packages (from ellipsis) (9.3.0)\n",
      "Requirement already satisfied: pyproj in c:\\users\\mark\\anaconda3\\lib\\site-packages (from ellipsis) (3.5.0)\n",
      "Requirement already satisfied: rasterio in c:\\users\\mark\\anaconda3\\lib\\site-packages (from ellipsis) (1.3.6)\n",
      "Requirement already satisfied: tifffile in c:\\users\\mark\\anaconda3\\lib\\site-packages (from ellipsis) (2021.7.2)\n",
      "Requirement already satisfied: pandas in c:\\users\\mark\\anaconda3\\lib\\site-packages (from ellipsis) (2.0.0)\n",
      "Requirement already satisfied: Fiona in c:\\users\\mark\\anaconda3\\lib\\site-packages (from ellipsis) (1.9.2)\n",
      "Requirement already satisfied: requests in c:\\users\\mark\\anaconda3\\lib\\site-packages (from ellipsis) (2.28.1)\n",
      "Requirement already satisfied: requests-toolbelt in c:\\users\\mark\\anaconda3\\lib\\site-packages (from ellipsis) (0.10.1)\n",
      "Requirement already satisfied: geopy in c:\\users\\mark\\anaconda3\\lib\\site-packages (from ellipsis) (2.3.0)\n",
      "Requirement already satisfied: geopandas in c:\\users\\mark\\anaconda3\\lib\\site-packages (from ellipsis) (0.12.2)\n",
      "Requirement already satisfied: Shapely in c:\\users\\mark\\anaconda3\\lib\\site-packages (from ellipsis) (2.0.1)\n",
      "Requirement already satisfied: click~=8.0 in c:\\users\\mark\\anaconda3\\lib\\site-packages (from Fiona->ellipsis) (8.1.3)\n",
      "Requirement already satisfied: cligj>=0.5 in c:\\users\\mark\\anaconda3\\lib\\site-packages (from Fiona->ellipsis) (0.7.2)\n",
      "Requirement already satisfied: attrs>=19.2.0 in c:\\users\\mark\\anaconda3\\lib\\site-packages (from Fiona->ellipsis) (22.1.0)\n",
      "Requirement already satisfied: click-plugins>=1.0 in c:\\users\\mark\\anaconda3\\lib\\site-packages (from Fiona->ellipsis) (1.1.1)\n",
      "Requirement already satisfied: munch>=2.3.2 in c:\\users\\mark\\anaconda3\\lib\\site-packages (from Fiona->ellipsis) (2.5.0)\n",
      "Requirement already satisfied: certifi in c:\\users\\mark\\anaconda3\\lib\\site-packages (from Fiona->ellipsis) (2022.12.7)\n",
      "Requirement already satisfied: importlib-metadata in c:\\users\\mark\\anaconda3\\lib\\site-packages (from Fiona->ellipsis) (4.11.3)\n",
      "Requirement already satisfied: packaging in c:\\users\\mark\\anaconda3\\lib\\site-packages (from geopandas->ellipsis) (22.0)\n",
      "Requirement already satisfied: tzdata>=2022.1 in c:\\users\\mark\\anaconda3\\lib\\site-packages (from pandas->ellipsis) (2023.3)\n",
      "Requirement already satisfied: pytz>=2020.1 in c:\\users\\mark\\anaconda3\\lib\\site-packages (from pandas->ellipsis) (2022.7)\n",
      "Requirement already satisfied: python-dateutil>=2.8.2 in c:\\users\\mark\\anaconda3\\lib\\site-packages (from pandas->ellipsis) (2.8.2)\n",
      "Requirement already satisfied: geographiclib<3,>=1.52 in c:\\users\\mark\\anaconda3\\lib\\site-packages (from geopy->ellipsis) (2.0)\n",
      "Requirement already satisfied: snuggs>=1.4.1 in c:\\users\\mark\\anaconda3\\lib\\site-packages (from rasterio->ellipsis) (1.4.7)\n",
      "Requirement already satisfied: setuptools in c:\\users\\mark\\anaconda3\\lib\\site-packages (from rasterio->ellipsis) (60.10.0)\n",
      "Requirement already satisfied: affine in c:\\users\\mark\\anaconda3\\lib\\site-packages (from rasterio->ellipsis) (2.4.0)\n",
      "Requirement already satisfied: idna<4,>=2.5 in c:\\users\\mark\\anaconda3\\lib\\site-packages (from requests->ellipsis) (3.4)\n",
      "Requirement already satisfied: charset-normalizer<3,>=2 in c:\\users\\mark\\anaconda3\\lib\\site-packages (from requests->ellipsis) (2.0.4)\n",
      "Requirement already satisfied: urllib3<1.27,>=1.21.1 in c:\\users\\mark\\anaconda3\\lib\\site-packages (from requests->ellipsis) (1.26.14)\n",
      "Requirement already satisfied: scipy>=1.4.1 in c:\\users\\mark\\anaconda3\\lib\\site-packages (from scikit-image->ellipsis) (1.9.3)\n",
      "Requirement already satisfied: PyWavelets>=1.1.1 in c:\\users\\mark\\anaconda3\\lib\\site-packages (from scikit-image->ellipsis) (1.4.1)\n",
      "Requirement already satisfied: imageio>=2.4.1 in c:\\users\\mark\\anaconda3\\lib\\site-packages (from scikit-image->ellipsis) (2.19.3)\n",
      "Requirement already satisfied: networkx>=2.2 in c:\\users\\mark\\anaconda3\\lib\\site-packages (from scikit-image->ellipsis) (2.8.4)\n",
      "Requirement already satisfied: colorama in c:\\users\\mark\\anaconda3\\lib\\site-packages (from click~=8.0->Fiona->ellipsis) (0.4.6)\n",
      "Requirement already satisfied: six in c:\\users\\mark\\anaconda3\\lib\\site-packages (from munch>=2.3.2->Fiona->ellipsis) (1.16.0)\n",
      "Requirement already satisfied: pyparsing>=2.1.6 in c:\\users\\mark\\anaconda3\\lib\\site-packages (from snuggs>=1.4.1->rasterio->ellipsis) (3.0.9)\n",
      "Requirement already satisfied: zipp>=0.5 in c:\\users\\mark\\anaconda3\\lib\\site-packages (from importlib-metadata->Fiona->ellipsis) (3.11.0)\n"
     ]
    },
    {
     "name": "stderr",
     "output_type": "stream",
     "text": [
      "WARNING: Ignoring invalid distribution -atplotlib (c:\\users\\mark\\anaconda3\\lib\\site-packages)\n",
      "WARNING: Ignoring invalid distribution -atplotlib (c:\\users\\mark\\anaconda3\\lib\\site-packages)\n",
      "WARNING: Ignoring invalid distribution -atplotlib (c:\\users\\mark\\anaconda3\\lib\\site-packages)\n",
      "WARNING: Ignoring invalid distribution -atplotlib (c:\\users\\mark\\anaconda3\\lib\\site-packages)\n",
      "WARNING: Ignoring invalid distribution -atplotlib (c:\\users\\mark\\anaconda3\\lib\\site-packages)\n",
      "WARNING: Ignoring invalid distribution -atplotlib (c:\\users\\mark\\anaconda3\\lib\\site-packages)\n"
     ]
    },
    {
     "name": "stdout",
     "output_type": "stream",
     "text": [
      "Requirement already satisfied: geopandas in c:\\users\\mark\\anaconda3\\lib\\site-packages (0.12.2)\n",
      "Requirement already satisfied: pyproj>=2.6.1.post1 in c:\\users\\mark\\anaconda3\\lib\\site-packages (from geopandas) (3.5.0)\n",
      "Requirement already satisfied: fiona>=1.8 in c:\\users\\mark\\anaconda3\\lib\\site-packages (from geopandas) (1.9.2)\n",
      "Requirement already satisfied: pandas>=1.0.0 in c:\\users\\mark\\anaconda3\\lib\\site-packages (from geopandas) (2.0.0)\n",
      "Requirement already satisfied: packaging in c:\\users\\mark\\anaconda3\\lib\\site-packages (from geopandas) (22.0)\n",
      "Requirement already satisfied: shapely>=1.7 in c:\\users\\mark\\anaconda3\\lib\\site-packages (from geopandas) (2.0.1)\n",
      "Requirement already satisfied: attrs>=19.2.0 in c:\\users\\mark\\anaconda3\\lib\\site-packages (from fiona>=1.8->geopandas) (22.1.0)\n",
      "Requirement already satisfied: munch>=2.3.2 in c:\\users\\mark\\anaconda3\\lib\\site-packages (from fiona>=1.8->geopandas) (2.5.0)\n",
      "Requirement already satisfied: click-plugins>=1.0 in c:\\users\\mark\\anaconda3\\lib\\site-packages (from fiona>=1.8->geopandas) (1.1.1)\n",
      "Requirement already satisfied: certifi in c:\\users\\mark\\anaconda3\\lib\\site-packages (from fiona>=1.8->geopandas) (2022.12.7)\n",
      "Requirement already satisfied: click~=8.0 in c:\\users\\mark\\anaconda3\\lib\\site-packages (from fiona>=1.8->geopandas) (8.1.3)\n",
      "Requirement already satisfied: cligj>=0.5 in c:\\users\\mark\\anaconda3\\lib\\site-packages (from fiona>=1.8->geopandas) (0.7.2)\n",
      "Requirement already satisfied: importlib-metadata in c:\\users\\mark\\anaconda3\\lib\\site-packages (from fiona>=1.8->geopandas) (4.11.3)\n",
      "Requirement already satisfied: python-dateutil>=2.8.2 in c:\\users\\mark\\anaconda3\\lib\\site-packages (from pandas>=1.0.0->geopandas) (2.8.2)\n",
      "Requirement already satisfied: numpy>=1.20.3 in c:\\users\\mark\\anaconda3\\lib\\site-packages (from pandas>=1.0.0->geopandas) (1.23.5)\n",
      "Requirement already satisfied: pytz>=2020.1 in c:\\users\\mark\\anaconda3\\lib\\site-packages (from pandas>=1.0.0->geopandas) (2022.7)\n",
      "Requirement already satisfied: tzdata>=2022.1 in c:\\users\\mark\\anaconda3\\lib\\site-packages (from pandas>=1.0.0->geopandas) (2023.3)\n",
      "Requirement already satisfied: colorama in c:\\users\\mark\\anaconda3\\lib\\site-packages (from click~=8.0->fiona>=1.8->geopandas) (0.4.6)\n",
      "Requirement already satisfied: six in c:\\users\\mark\\anaconda3\\lib\\site-packages (from munch>=2.3.2->fiona>=1.8->geopandas) (1.16.0)\n",
      "Requirement already satisfied: zipp>=0.5 in c:\\users\\mark\\anaconda3\\lib\\site-packages (from importlib-metadata->fiona>=1.8->geopandas) (3.11.0)\n"
     ]
    },
    {
     "name": "stderr",
     "output_type": "stream",
     "text": [
      "WARNING: Ignoring invalid distribution -atplotlib (c:\\users\\mark\\anaconda3\\lib\\site-packages)\n",
      "WARNING: Ignoring invalid distribution -atplotlib (c:\\users\\mark\\anaconda3\\lib\\site-packages)\n",
      "WARNING: Ignoring invalid distribution -atplotlib (c:\\users\\mark\\anaconda3\\lib\\site-packages)\n",
      "WARNING: Ignoring invalid distribution -atplotlib (c:\\users\\mark\\anaconda3\\lib\\site-packages)\n",
      "WARNING: Ignoring invalid distribution -atplotlib (c:\\users\\mark\\anaconda3\\lib\\site-packages)\n",
      "WARNING: Ignoring invalid distribution -atplotlib (c:\\users\\mark\\anaconda3\\lib\\site-packages)\n"
     ]
    },
    {
     "name": "stdout",
     "output_type": "stream",
     "text": [
      "Requirement already satisfied: h3pandas in c:\\users\\mark\\anaconda3\\lib\\site-packages (0.2.4)\n",
      "Requirement already satisfied: numpy in c:\\users\\mark\\anaconda3\\lib\\site-packages (from h3pandas) (1.23.5)\n",
      "Requirement already satisfied: pandas in c:\\users\\mark\\anaconda3\\lib\\site-packages (from h3pandas) (2.0.0)\n",
      "Requirement already satisfied: geopandas in c:\\users\\mark\\anaconda3\\lib\\site-packages (from h3pandas) (0.12.2)\n",
      "Requirement already satisfied: typing-extensions in c:\\users\\mark\\anaconda3\\lib\\site-packages (from h3pandas) (4.4.0)\n",
      "Requirement already satisfied: h3 in c:\\users\\mark\\anaconda3\\lib\\site-packages (from h3pandas) (3.7.6)\n",
      "Requirement already satisfied: shapely in c:\\users\\mark\\anaconda3\\lib\\site-packages (from h3pandas) (2.0.1)\n",
      "Requirement already satisfied: pyproj>=2.6.1.post1 in c:\\users\\mark\\anaconda3\\lib\\site-packages (from geopandas->h3pandas) (3.5.0)\n",
      "Requirement already satisfied: fiona>=1.8 in c:\\users\\mark\\anaconda3\\lib\\site-packages (from geopandas->h3pandas) (1.9.2)\n",
      "Requirement already satisfied: packaging in c:\\users\\mark\\anaconda3\\lib\\site-packages (from geopandas->h3pandas) (22.0)\n",
      "Requirement already satisfied: python-dateutil>=2.8.2 in c:\\users\\mark\\anaconda3\\lib\\site-packages (from pandas->h3pandas) (2.8.2)\n",
      "Requirement already satisfied: pytz>=2020.1 in c:\\users\\mark\\anaconda3\\lib\\site-packages (from pandas->h3pandas) (2022.7)\n",
      "Requirement already satisfied: tzdata>=2022.1 in c:\\users\\mark\\anaconda3\\lib\\site-packages (from pandas->h3pandas) (2023.3)\n",
      "Requirement already satisfied: munch>=2.3.2 in c:\\users\\mark\\anaconda3\\lib\\site-packages (from fiona>=1.8->geopandas->h3pandas) (2.5.0)\n",
      "Requirement already satisfied: cligj>=0.5 in c:\\users\\mark\\anaconda3\\lib\\site-packages (from fiona>=1.8->geopandas->h3pandas) (0.7.2)\n",
      "Requirement already satisfied: click~=8.0 in c:\\users\\mark\\anaconda3\\lib\\site-packages (from fiona>=1.8->geopandas->h3pandas) (8.1.3)\n",
      "Requirement already satisfied: click-plugins>=1.0 in c:\\users\\mark\\anaconda3\\lib\\site-packages (from fiona>=1.8->geopandas->h3pandas) (1.1.1)\n",
      "Requirement already satisfied: certifi in c:\\users\\mark\\anaconda3\\lib\\site-packages (from fiona>=1.8->geopandas->h3pandas) (2022.12.7)\n",
      "Requirement already satisfied: attrs>=19.2.0 in c:\\users\\mark\\anaconda3\\lib\\site-packages (from fiona>=1.8->geopandas->h3pandas) (22.1.0)\n",
      "Requirement already satisfied: importlib-metadata in c:\\users\\mark\\anaconda3\\lib\\site-packages (from fiona>=1.8->geopandas->h3pandas) (4.11.3)\n",
      "Requirement already satisfied: six>=1.5 in c:\\users\\mark\\anaconda3\\lib\\site-packages (from python-dateutil>=2.8.2->pandas->h3pandas) (1.16.0)\n",
      "Requirement already satisfied: colorama in c:\\users\\mark\\anaconda3\\lib\\site-packages (from click~=8.0->fiona>=1.8->geopandas->h3pandas) (0.4.6)\n",
      "Requirement already satisfied: zipp>=0.5 in c:\\users\\mark\\anaconda3\\lib\\site-packages (from importlib-metadata->fiona>=1.8->geopandas->h3pandas) (3.11.0)\n"
     ]
    },
    {
     "name": "stderr",
     "output_type": "stream",
     "text": [
      "WARNING: Ignoring invalid distribution -atplotlib (c:\\users\\mark\\anaconda3\\lib\\site-packages)\n",
      "WARNING: Ignoring invalid distribution -atplotlib (c:\\users\\mark\\anaconda3\\lib\\site-packages)\n",
      "WARNING: Ignoring invalid distribution -atplotlib (c:\\users\\mark\\anaconda3\\lib\\site-packages)\n",
      "WARNING: Ignoring invalid distribution -atplotlib (c:\\users\\mark\\anaconda3\\lib\\site-packages)\n",
      "WARNING: Ignoring invalid distribution -atplotlib (c:\\users\\mark\\anaconda3\\lib\\site-packages)\n",
      "WARNING: Ignoring invalid distribution -atplotlib (c:\\users\\mark\\anaconda3\\lib\\site-packages)\n"
     ]
    }
   ],
   "source": [
    "!pip install ellipsis\n",
    "!pip install geopandas\n",
    "!pip install h3pandas"
   ]
  },
  {
   "cell_type": "code",
   "execution_count": 3,
   "id": "3265e7ba-9cde-46e3-b70d-dff9d804c817",
   "metadata": {},
   "outputs": [
    {
     "ename": "ImportError",
     "evalue": "DLL load failed while importing _network: The specified module could not be found.",
     "output_type": "error",
     "traceback": [
      "\u001b[1;31m---------------------------------------------------------------------------\u001b[0m",
      "\u001b[1;31mImportError\u001b[0m                               Traceback (most recent call last)",
      "Cell \u001b[1;32mIn[3], line 1\u001b[0m\n\u001b[1;32m----> 1\u001b[0m \u001b[38;5;28;01mimport\u001b[39;00m \u001b[38;5;21;01mellipsis\u001b[39;00m \u001b[38;5;28;01mas\u001b[39;00m \u001b[38;5;21;01mel\u001b[39;00m\n",
      "File \u001b[1;32m~\\anaconda3\\lib\\site-packages\\ellipsis\\__init__.py:4\u001b[0m\n\u001b[0;32m      1\u001b[0m \u001b[38;5;66;03m#python3 setup.py sdist bdist_wheel\u001b[39;00m\n\u001b[0;32m      2\u001b[0m \u001b[38;5;66;03m#twine upload --repository pypi dist/*\u001b[39;00m\n\u001b[1;32m----> 4\u001b[0m \u001b[38;5;28;01mfrom\u001b[39;00m \u001b[38;5;21;01mellipsis\u001b[39;00m \u001b[38;5;28;01mimport\u001b[39;00m account\n\u001b[0;32m      5\u001b[0m \u001b[38;5;28;01mfrom\u001b[39;00m \u001b[38;5;21;01mellipsis\u001b[39;00m \u001b[38;5;28;01mimport\u001b[39;00m user\n\u001b[0;32m      6\u001b[0m \u001b[38;5;28;01mfrom\u001b[39;00m \u001b[38;5;21;01mellipsis\u001b[39;00m \u001b[38;5;28;01mimport\u001b[39;00m path\n",
      "File \u001b[1;32m~\\anaconda3\\lib\\site-packages\\ellipsis\\account\\__init__.py:2\u001b[0m\n\u001b[1;32m----> 2\u001b[0m \u001b[38;5;28;01mfrom\u001b[39;00m \u001b[38;5;21;01mellipsis\u001b[39;00m\u001b[38;5;21;01m.\u001b[39;00m\u001b[38;5;21;01maccount\u001b[39;00m\u001b[38;5;21;01m.\u001b[39;00m\u001b[38;5;21;01mroot\u001b[39;00m \u001b[38;5;28;01mimport\u001b[39;00m logIn, listRoot\n\u001b[0;32m      4\u001b[0m \u001b[38;5;28;01mfrom\u001b[39;00m \u001b[38;5;21;01mellipsis\u001b[39;00m\u001b[38;5;21;01m.\u001b[39;00m\u001b[38;5;21;01maccount\u001b[39;00m \u001b[38;5;28;01mimport\u001b[39;00m accessToken\n",
      "File \u001b[1;32m~\\anaconda3\\lib\\site-packages\\ellipsis\\account\\root.py:2\u001b[0m\n\u001b[0;32m      1\u001b[0m \u001b[38;5;28;01mfrom\u001b[39;00m \u001b[38;5;21;01mellipsis\u001b[39;00m \u001b[38;5;28;01mimport\u001b[39;00m apiManager\n\u001b[1;32m----> 2\u001b[0m \u001b[38;5;28;01mfrom\u001b[39;00m \u001b[38;5;21;01mellipsis\u001b[39;00m \u001b[38;5;28;01mimport\u001b[39;00m sanitize\n\u001b[0;32m      3\u001b[0m \u001b[38;5;28;01mfrom\u001b[39;00m \u001b[38;5;21;01mellipsis\u001b[39;00m\u001b[38;5;21;01m.\u001b[39;00m\u001b[38;5;21;01mutil\u001b[39;00m\u001b[38;5;21;01m.\u001b[39;00m\u001b[38;5;21;01mroot\u001b[39;00m \u001b[38;5;28;01mimport\u001b[39;00m recurse\n\u001b[0;32m      5\u001b[0m \u001b[38;5;28;01mdef\u001b[39;00m \u001b[38;5;21mlogIn\u001b[39m(username, password, validFor \u001b[38;5;241m=\u001b[39m \u001b[38;5;28;01mNone\u001b[39;00m):\n",
      "File \u001b[1;32m~\\anaconda3\\lib\\site-packages\\ellipsis\\sanitize.py:5\u001b[0m\n\u001b[0;32m      3\u001b[0m \u001b[38;5;28;01mimport\u001b[39;00m \u001b[38;5;21;01mdatetime\u001b[39;00m\n\u001b[0;32m      4\u001b[0m \u001b[38;5;28;01mimport\u001b[39;00m \u001b[38;5;21;01mjson\u001b[39;00m\n\u001b[1;32m----> 5\u001b[0m \u001b[38;5;28;01mimport\u001b[39;00m \u001b[38;5;21;01mgeopandas\u001b[39;00m \u001b[38;5;28;01mas\u001b[39;00m \u001b[38;5;21;01mgpd\u001b[39;00m\n\u001b[0;32m      6\u001b[0m \u001b[38;5;28;01mimport\u001b[39;00m \u001b[38;5;21;01mpandas\u001b[39;00m \u001b[38;5;28;01mas\u001b[39;00m \u001b[38;5;21;01mpd\u001b[39;00m\n\u001b[0;32m      7\u001b[0m \u001b[38;5;28;01mfrom\u001b[39;00m \u001b[38;5;21;01mshapely\u001b[39;00m \u001b[38;5;28;01mimport\u001b[39;00m geometry\n",
      "File \u001b[1;32m~\\anaconda3\\lib\\site-packages\\geopandas\\__init__.py:1\u001b[0m\n\u001b[1;32m----> 1\u001b[0m \u001b[38;5;28;01mfrom\u001b[39;00m \u001b[38;5;21;01mgeopandas\u001b[39;00m\u001b[38;5;21;01m.\u001b[39;00m\u001b[38;5;21;01m_config\u001b[39;00m \u001b[38;5;28;01mimport\u001b[39;00m options  \u001b[38;5;66;03m# noqa\u001b[39;00m\n\u001b[0;32m      3\u001b[0m \u001b[38;5;28;01mfrom\u001b[39;00m \u001b[38;5;21;01mgeopandas\u001b[39;00m\u001b[38;5;21;01m.\u001b[39;00m\u001b[38;5;21;01mgeoseries\u001b[39;00m \u001b[38;5;28;01mimport\u001b[39;00m GeoSeries  \u001b[38;5;66;03m# noqa\u001b[39;00m\n\u001b[0;32m      4\u001b[0m \u001b[38;5;28;01mfrom\u001b[39;00m \u001b[38;5;21;01mgeopandas\u001b[39;00m\u001b[38;5;21;01m.\u001b[39;00m\u001b[38;5;21;01mgeodataframe\u001b[39;00m \u001b[38;5;28;01mimport\u001b[39;00m GeoDataFrame  \u001b[38;5;66;03m# noqa\u001b[39;00m\n",
      "File \u001b[1;32m~\\anaconda3\\lib\\site-packages\\geopandas\\_config.py:109\u001b[0m\n\u001b[0;32m    102\u001b[0m     \u001b[38;5;28;01mimport\u001b[39;00m \u001b[38;5;21;01mgeopandas\u001b[39;00m\u001b[38;5;21;01m.\u001b[39;00m\u001b[38;5;21;01m_compat\u001b[39;00m \u001b[38;5;28;01mas\u001b[39;00m \u001b[38;5;21;01mcompat\u001b[39;00m\n\u001b[0;32m    104\u001b[0m     compat\u001b[38;5;241m.\u001b[39mset_use_pygeos(value)\n\u001b[0;32m    107\u001b[0m use_pygeos \u001b[38;5;241m=\u001b[39m Option(\n\u001b[0;32m    108\u001b[0m     key\u001b[38;5;241m=\u001b[39m\u001b[38;5;124m\"\u001b[39m\u001b[38;5;124muse_pygeos\u001b[39m\u001b[38;5;124m\"\u001b[39m,\n\u001b[1;32m--> 109\u001b[0m     default_value\u001b[38;5;241m=\u001b[39m\u001b[43m_default_use_pygeos\u001b[49m\u001b[43m(\u001b[49m\u001b[43m)\u001b[49m,\n\u001b[0;32m    110\u001b[0m     doc\u001b[38;5;241m=\u001b[39m(\n\u001b[0;32m    111\u001b[0m         \u001b[38;5;124m\"\u001b[39m\u001b[38;5;124mWhether to use PyGEOS to speed up spatial operations. The default is True \u001b[39m\u001b[38;5;124m\"\u001b[39m\n\u001b[0;32m    112\u001b[0m         \u001b[38;5;124m\"\u001b[39m\u001b[38;5;124mif PyGEOS is installed, and follows the USE_PYGEOS environment variable \u001b[39m\u001b[38;5;124m\"\u001b[39m\n\u001b[0;32m    113\u001b[0m         \u001b[38;5;124m\"\u001b[39m\u001b[38;5;124mif set.\u001b[39m\u001b[38;5;124m\"\u001b[39m\n\u001b[0;32m    114\u001b[0m     ),\n\u001b[0;32m    115\u001b[0m     validator\u001b[38;5;241m=\u001b[39m_validate_bool,\n\u001b[0;32m    116\u001b[0m     callback\u001b[38;5;241m=\u001b[39m_callback_use_pygeos,\n\u001b[0;32m    117\u001b[0m )\n\u001b[0;32m    120\u001b[0m options \u001b[38;5;241m=\u001b[39m Options({\u001b[38;5;124m\"\u001b[39m\u001b[38;5;124mdisplay_precision\u001b[39m\u001b[38;5;124m\"\u001b[39m: display_precision, \u001b[38;5;124m\"\u001b[39m\u001b[38;5;124muse_pygeos\u001b[39m\u001b[38;5;124m\"\u001b[39m: use_pygeos})\n",
      "File \u001b[1;32m~\\anaconda3\\lib\\site-packages\\geopandas\\_config.py:95\u001b[0m, in \u001b[0;36m_default_use_pygeos\u001b[1;34m()\u001b[0m\n\u001b[0;32m     94\u001b[0m \u001b[38;5;28;01mdef\u001b[39;00m \u001b[38;5;21m_default_use_pygeos\u001b[39m():\n\u001b[1;32m---> 95\u001b[0m     \u001b[38;5;28;01mimport\u001b[39;00m \u001b[38;5;21;01mgeopandas\u001b[39;00m\u001b[38;5;21;01m.\u001b[39;00m\u001b[38;5;21;01m_compat\u001b[39;00m \u001b[38;5;28;01mas\u001b[39;00m \u001b[38;5;21;01mcompat\u001b[39;00m\n\u001b[0;32m     97\u001b[0m     \u001b[38;5;28;01mreturn\u001b[39;00m compat\u001b[38;5;241m.\u001b[39mUSE_PYGEOS\n",
      "File \u001b[1;32m~\\anaconda3\\lib\\site-packages\\geopandas\\_compat.py:9\u001b[0m\n\u001b[0;32m      7\u001b[0m \u001b[38;5;28;01mimport\u001b[39;00m \u001b[38;5;21;01mnumpy\u001b[39;00m \u001b[38;5;28;01mas\u001b[39;00m \u001b[38;5;21;01mnp\u001b[39;00m\n\u001b[0;32m      8\u001b[0m \u001b[38;5;28;01mimport\u001b[39;00m \u001b[38;5;21;01mpandas\u001b[39;00m \u001b[38;5;28;01mas\u001b[39;00m \u001b[38;5;21;01mpd\u001b[39;00m\n\u001b[1;32m----> 9\u001b[0m \u001b[38;5;28;01mimport\u001b[39;00m \u001b[38;5;21;01mpyproj\u001b[39;00m\n\u001b[0;32m     10\u001b[0m \u001b[38;5;28;01mimport\u001b[39;00m \u001b[38;5;21;01mshapely\u001b[39;00m\n\u001b[0;32m     11\u001b[0m \u001b[38;5;28;01mimport\u001b[39;00m \u001b[38;5;21;01mshapely\u001b[39;00m\u001b[38;5;21;01m.\u001b[39;00m\u001b[38;5;21;01mgeos\u001b[39;00m\n",
      "File \u001b[1;32m~\\anaconda3\\lib\\site-packages\\pyproj\\__init__.py:63\u001b[0m\n\u001b[0;32m     58\u001b[0m \u001b[38;5;66;03m# end delvewheel patch\u001b[39;00m\n\u001b[0;32m     61\u001b[0m \u001b[38;5;28;01mimport\u001b[39;00m \u001b[38;5;21;01mwarnings\u001b[39;00m\n\u001b[1;32m---> 63\u001b[0m \u001b[38;5;28;01mimport\u001b[39;00m \u001b[38;5;21;01mpyproj\u001b[39;00m\u001b[38;5;21;01m.\u001b[39;00m\u001b[38;5;21;01mnetwork\u001b[39;00m\n\u001b[0;32m     64\u001b[0m \u001b[38;5;28;01mfrom\u001b[39;00m \u001b[38;5;21;01mpyproj\u001b[39;00m\u001b[38;5;21;01m.\u001b[39;00m\u001b[38;5;21;01m_datadir\u001b[39;00m \u001b[38;5;28;01mimport\u001b[39;00m (  \u001b[38;5;66;03m# noqa: F401 pylint: disable=unused-import\u001b[39;00m\n\u001b[0;32m     65\u001b[0m     _pyproj_global_context_initialize,\n\u001b[0;32m     66\u001b[0m     set_use_global_context,\n\u001b[0;32m     67\u001b[0m )\n\u001b[0;32m     68\u001b[0m \u001b[38;5;28;01mfrom\u001b[39;00m \u001b[38;5;21;01mpyproj\u001b[39;00m\u001b[38;5;21;01m.\u001b[39;00m\u001b[38;5;21;01m_show_versions\u001b[39;00m \u001b[38;5;28;01mimport\u001b[39;00m (  \u001b[38;5;66;03m# noqa: F401 pylint: disable=unused-import\u001b[39;00m\n\u001b[0;32m     69\u001b[0m     show_versions,\n\u001b[0;32m     70\u001b[0m )\n",
      "File \u001b[1;32m~\\anaconda3\\lib\\site-packages\\pyproj\\network.py:10\u001b[0m\n\u001b[0;32m      6\u001b[0m \u001b[38;5;28;01mfrom\u001b[39;00m \u001b[38;5;21;01mtyping\u001b[39;00m \u001b[38;5;28;01mimport\u001b[39;00m Union\n\u001b[0;32m      8\u001b[0m \u001b[38;5;28;01mimport\u001b[39;00m \u001b[38;5;21;01mcertifi\u001b[39;00m\n\u001b[1;32m---> 10\u001b[0m \u001b[38;5;28;01mfrom\u001b[39;00m \u001b[38;5;21;01mpyproj\u001b[39;00m\u001b[38;5;21;01m.\u001b[39;00m\u001b[38;5;21;01m_network\u001b[39;00m \u001b[38;5;28;01mimport\u001b[39;00m (  \u001b[38;5;66;03m# noqa: F401 pylint: disable=unused-import\u001b[39;00m\n\u001b[0;32m     11\u001b[0m     _set_ca_bundle_path,\n\u001b[0;32m     12\u001b[0m     is_network_enabled,\n\u001b[0;32m     13\u001b[0m     set_network_enabled,\n\u001b[0;32m     14\u001b[0m )\n\u001b[0;32m     17\u001b[0m \u001b[38;5;28;01mdef\u001b[39;00m \u001b[38;5;21mset_ca_bundle_path\u001b[39m(ca_bundle_path: Union[Path, \u001b[38;5;28mstr\u001b[39m, \u001b[38;5;28mbool\u001b[39m, \u001b[38;5;28;01mNone\u001b[39;00m] \u001b[38;5;241m=\u001b[39m \u001b[38;5;28;01mNone\u001b[39;00m) \u001b[38;5;241m-\u001b[39m\u001b[38;5;241m>\u001b[39m \u001b[38;5;28;01mNone\u001b[39;00m:\n\u001b[0;32m     18\u001b[0m     \u001b[38;5;124;03m\"\"\"\u001b[39;00m\n\u001b[0;32m     19\u001b[0m \u001b[38;5;124;03m    .. versionadded:: 3.0.0\u001b[39;00m\n\u001b[0;32m     20\u001b[0m \n\u001b[1;32m   (...)\u001b[0m\n\u001b[0;32m     40\u001b[0m \u001b[38;5;124;03m        variables.\u001b[39;00m\n\u001b[0;32m     41\u001b[0m \u001b[38;5;124;03m    \"\"\"\u001b[39;00m\n",
      "\u001b[1;31mImportError\u001b[0m: DLL load failed while importing _network: The specified module could not be found."
     ]
    }
   ],
   "source": [
    "import ellipsis as el\n"
   ]
  },
  {
   "cell_type": "code",
   "execution_count": null,
   "id": "c516dbaf-6475-491d-a6a9-a015d9c962ba",
   "metadata": {},
   "outputs": [],
   "source": []
  },
  {
   "cell_type": "code",
   "execution_count": null,
   "id": "2c73d0e7-b70b-436d-9cfd-f0cc99e42bad",
   "metadata": {},
   "outputs": [],
   "source": []
  }
 ],
 "metadata": {
  "kernelspec": {
   "display_name": "Python 3 (ipykernel)",
   "language": "python",
   "name": "python3"
  },
  "language_info": {
   "codemirror_mode": {
    "name": "ipython",
    "version": 3
   },
   "file_extension": ".py",
   "mimetype": "text/x-python",
   "name": "python",
   "nbconvert_exporter": "python",
   "pygments_lexer": "ipython3",
   "version": "3.9.15"
  },
  "toc": {
   "base_numbering": 1,
   "nav_menu": {},
   "number_sections": true,
   "sideBar": true,
   "skip_h1_title": false,
   "title_cell": "Table of Contents",
   "title_sidebar": "Contents",
   "toc_cell": false,
   "toc_position": {},
   "toc_section_display": true,
   "toc_window_display": false
  }
 },
 "nbformat": 4,
 "nbformat_minor": 5
}
