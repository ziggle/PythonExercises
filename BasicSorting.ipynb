{
 "cells": [
  {
   "cell_type": "markdown",
   "metadata": {},
   "source": [
    "https://betterprogramming.pub/advanced-sorting-in-python-using-lambdas-and-custom-functions-410b5780fb07"
   ]
  },
  {
   "cell_type": "code",
   "execution_count": 1,
   "metadata": {},
   "outputs": [
    {
     "name": "stdout",
     "output_type": "stream",
     "text": [
      "[1, 3, 4, 5, 7, 9, 12]\n",
      "['Zack', 'Mike', 'Jennifer', 'Jason', 'David', 'Danny', 'Aaron']\n",
      "['Fall', 'Spring', 'Summer', 'Winter']\n"
     ]
    }
   ],
   "source": [
    "numbers = [12, 4, 1, 3, 7, 5, 9]\n",
    "numbers.sort()\n",
    "print(numbers)\n",
    "# Prints [1, 3, 4, 5, 7, 9, 12]\n",
    "\n",
    "names = ['Danny', 'Aaron', 'Zack', 'Jennifer', 'Jason', 'Mike', 'David']\n",
    "sorted_names = sorted(names, reverse=True)\n",
    "print(sorted_names)\n",
    "# Prints ['Zack', 'Mike', 'Jennifer', 'Jason', 'David', 'Danny', 'Aaron']\n",
    "\n",
    "seasons = ('Winter', 'Fall', 'Spring', 'Summer')\n",
    "sorted_seasons = sorted(seasons)\n",
    "print(sorted_seasons)\n",
    "# Prints ['Fall', 'Spring', 'Summer', 'Winter']"
   ]
  },
  {
   "cell_type": "code",
   "execution_count": 2,
   "metadata": {},
   "outputs": [],
   "source": [
    "def daily_activity(order, day, activity):\n",
    "    return {'order': order, 'day': day, 'activity': activity}\n",
    "\n",
    "mon_activity = daily_activity(0, 'Mon', 'Baseball')\n",
    "tue_activity = daily_activity(1, 'Tue', 'Swim')\n",
    "wed_activity = daily_activity(2, 'Wed', 'Soccer')\n",
    "thu_activity0 = daily_activity(3, 'Thu', 'Basketball')\n",
    "thu_activity1 = daily_activity(4, 'Thu', 'Dance')\n",
    "thu_activity2 = daily_activity(5, 'Thu', 'Football')\n",
    "activities = [mon_activity, tue_activity, wed_activity, thu_activity0, thu_activity1, thu_activity2]"
   ]
  },
  {
   "cell_type": "code",
   "execution_count": 3,
   "metadata": {},
   "outputs": [
    {
     "name": "stdout",
     "output_type": "stream",
     "text": [
      "[{'order': 5, 'day': 'Thu', 'activity': 'Football'}, {'order': 4, 'day': 'Thu', 'activity': 'Dance'}, {'order': 3, 'day': 'Thu', 'activity': 'Basketball'}, {'order': 2, 'day': 'Wed', 'activity': 'Soccer'}, {'order': 1, 'day': 'Tue', 'activity': 'Swim'}, {'order': 0, 'day': 'Mon', 'activity': 'Baseball'}]\n"
     ]
    },
    {
     "data": {
      "text/plain": [
       "[{'order': 5, 'day': 'Thu', 'activity': 'Football'},\n",
       " {'order': 4, 'day': 'Thu', 'activity': 'Dance'},\n",
       " {'order': 3, 'day': 'Thu', 'activity': 'Basketball'},\n",
       " {'order': 2, 'day': 'Wed', 'activity': 'Soccer'},\n",
       " {'order': 1, 'day': 'Tue', 'activity': 'Swim'},\n",
       " {'order': 0, 'day': 'Mon', 'activity': 'Baseball'}]"
      ]
     },
     "execution_count": 3,
     "metadata": {},
     "output_type": "execute_result"
    }
   ],
   "source": [
    "\n",
    "sorted_activities = sorted(activities, key=lambda x: x['order'], reverse=True)\n",
    "print(sorted_activities)\n",
    "\n",
    "# Prints the followling lines\n",
    "[{'order': 5, 'day': 'Thu', 'activity': 'Football'}, \n",
    " {'order': 4, 'day': 'Thu', 'activity': 'Dance'}, \n",
    " {'order': 3, 'day': 'Thu', 'activity': 'Basketball'}, \n",
    " {'order': 2, 'day': 'Wed', 'activity': 'Soccer'}, \n",
    " {'order': 1, 'day': 'Tue', 'activity': 'Swim'}, \n",
    " {'order': 0, 'day': 'Mon', 'activity': 'Baseball'}]"
   ]
  },
  {
   "cell_type": "code",
   "execution_count": 4,
   "metadata": {},
   "outputs": [
    {
     "name": "stdout",
     "output_type": "stream",
     "text": [
      "[{'order': 2, 'day': 'Wed', 'activity': 'Soccer'}, {'order': 1, 'day': 'Tue', 'activity': 'Swim'}, {'order': 5, 'day': 'Thu', 'activity': 'Football'}, {'order': 4, 'day': 'Thu', 'activity': 'Dance'}, {'order': 3, 'day': 'Thu', 'activity': 'Basketball'}, {'order': 0, 'day': 'Mon', 'activity': 'Baseball'}]\n"
     ]
    },
    {
     "data": {
      "text/plain": [
       "[{'order': 2, 'day': 'Wed', 'activity': 'Soccer'},\n",
       " {'order': 1, 'day': 'Tue', 'activity': 'Swim'},\n",
       " {'order': 5, 'day': 'Thu', 'activity': 'Football'},\n",
       " {'order': 4, 'day': 'Thu', 'activity': 'Dance'},\n",
       " {'order': 3, 'day': 'Thu', 'activity': 'Basketball'},\n",
       " {'order': 0, 'day': 'Mon', 'activity': 'Baseball'}]"
      ]
     },
     "execution_count": 4,
     "metadata": {},
     "output_type": "execute_result"
    }
   ],
   "source": [
    "sorted_activities = sorted(activities, key=lambda x: (x['day'], x['activity']), reverse=True)\n",
    "print(sorted_activities)\n",
    "\n",
    "# Prints the following lines\n",
    "\n",
    "[{'order': 2, 'day': 'Wed', 'activity': 'Soccer'}, \n",
    " {'order': 1, 'day': 'Tue', 'activity': 'Swim'}, \n",
    " {'order': 5, 'day': 'Thu', 'activity': 'Football'}, \n",
    " {'order': 4, 'day': 'Thu', 'activity': 'Dance'}, \n",
    " {'order': 3, 'day': 'Thu', 'activity': 'Basketball'}, \n",
    " {'order': 0, 'day': 'Mon', 'activity': 'Baseball'}]"
   ]
  },
  {
   "cell_type": "code",
   "execution_count": 5,
   "metadata": {},
   "outputs": [
    {
     "name": "stdout",
     "output_type": "stream",
     "text": [
      "[{'order': 0, 'day': 'Mon', 'activity': 'Baseball'}, {'order': 3, 'day': 'Thu', 'activity': 'Basketball'}, {'order': 4, 'day': 'Thu', 'activity': 'Dance'}, {'order': 5, 'day': 'Thu', 'activity': 'Football'}, {'order': 2, 'day': 'Wed', 'activity': 'Soccer'}, {'order': 1, 'day': 'Tue', 'activity': 'Swim'}]\n"
     ]
    },
    {
     "data": {
      "text/plain": [
       "[{'order': 0, 'day': 'Mon', 'activity': 'Baseball'},\n",
       " {'order': 3, 'day': 'Thu', 'activity': 'Basketball'},\n",
       " {'order': 4, 'day': 'Thu', 'activity': 'Dance'},\n",
       " {'order': 5, 'day': 'Thu', 'activity': 'Football'},\n",
       " {'order': 2, 'day': 'Wed', 'activity': 'Soccer'},\n",
       " {'order': 1, 'day': 'Tue', 'activity': 'Swim'}]"
      ]
     },
     "execution_count": 5,
     "metadata": {},
     "output_type": "execute_result"
    }
   ],
   "source": [
    "def activity_sorting(activity):\n",
    "    return activity['activity']\n",
    "\n",
    "sorted_activities = sorted(activities, key=activity_sorting)\n",
    "print(sorted_activities)\n",
    "\n",
    "# Prints the following lines\n",
    "[{'order': 0, 'day': 'Mon', 'activity': 'Baseball'}, \n",
    " {'order': 3, 'day': 'Thu', 'activity': 'Basketball'}, \n",
    " {'order': 4, 'day': 'Thu', 'activity': 'Dance'}, \n",
    " {'order': 5, 'day': 'Thu', 'activity': 'Football'}, \n",
    " {'order': 2, 'day': 'Wed', 'activity': 'Soccer'}, \n",
    " {'order': 1, 'day': 'Tue', 'activity': 'Swim'}]"
   ]
  }
 ],
 "metadata": {
  "kernelspec": {
   "display_name": "Python 3",
   "language": "python",
   "name": "python3"
  },
  "language_info": {
   "codemirror_mode": {
    "name": "ipython",
    "version": 3
   },
   "file_extension": ".py",
   "mimetype": "text/x-python",
   "name": "python",
   "nbconvert_exporter": "python",
   "pygments_lexer": "ipython3",
   "version": "3.11.5"
  },
  "orig_nbformat": 4
 },
 "nbformat": 4,
 "nbformat_minor": 2
}
