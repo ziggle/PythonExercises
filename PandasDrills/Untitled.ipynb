{
 "cells": [
  {
   "cell_type": "markdown",
   "id": "842ada89",
   "metadata": {},
   "source": [
    "https://pravash-techie.medium.com/python-going-beyond-basic-string-formatting-using-f-string-cba87ddb78fb"
   ]
  },
  {
   "cell_type": "code",
   "execution_count": 2,
   "id": "0a0d4405",
   "metadata": {},
   "outputs": [
    {
     "name": "stdout",
     "output_type": "stream",
     "text": [
      "My name is John and I am 30 years old.\n",
      "age = 30\n",
      "age % 2 = 0\n"
     ]
    }
   ],
   "source": [
    "name = \"John\"\n",
    "age = 30\n",
    "num_val = 10\n",
    "print(f\"My name is {name} and I am {age} years old.\")\n",
    "print(f\"{age = }\")\n",
    "print(f\"{age % 2 = }\")"
   ]
  },
  {
   "cell_type": "code",
   "execution_count": 3,
   "id": "18941a7a",
   "metadata": {},
   "outputs": [
    {
     "name": "stdout",
     "output_type": "stream",
     "text": [
      "'Hi There \\U0001f601'\n",
      "'Hi There 😁'\n",
      "Hi There 😁\n"
     ]
    }
   ],
   "source": [
    "string = \"Hi There 😁\"\n",
    "print(f\"{string!a}\")\n",
    "print(f\"{string!r}\")\n",
    "print(f\"{string!s}\")"
   ]
  },
  {
   "cell_type": "code",
   "execution_count": 10,
   "id": "04551f00",
   "metadata": {},
   "outputs": [
    {
     "name": "stdout",
     "output_type": "stream",
     "text": [
      "2023-03-25 20:36:03.355604\n",
      "dt=2023-03-25\n",
      "22.23\n"
     ]
    }
   ],
   "source": [
    "import time\n",
    "from datetime import datetime, timedelta\n",
    "val = 22.225\n",
    "dt = datetime.utcnow()\n",
    "print(dt)\n",
    "print(f'{dt=:%Y-%m-%d}')\n",
    "print(f'{val:.2f}')"
   ]
  },
  {
   "cell_type": "code",
   "execution_count": 11,
   "id": "8ad01983",
   "metadata": {},
   "outputs": [
    {
     "name": "stdout",
     "output_type": "stream",
     "text": [
      "OwnClass __format__ called with format_type='my formatting type %%MY_FORMAT%%'\n",
      "OwnClass()\n"
     ]
    }
   ],
   "source": [
    "class OwnClass:\n",
    "    def __format__(self, format_type) -> str:\n",
    "        print(f'OwnClass __format__ called with {format_type=!r}')\n",
    "        return \"OwnClass()\"\n",
    "\n",
    "print(f'{OwnClass():my formatting type %%MY_FORMAT%%}')"
   ]
  },
  {
   "cell_type": "code",
   "execution_count": 12,
   "id": "837f7df7",
   "metadata": {},
   "outputs": [
    {
     "name": "stdout",
     "output_type": "stream",
     "text": [
      "1 MB is equal to 1,000,000.00 bytes\n"
     ]
    }
   ],
   "source": [
    "sentence = '1 MB is equal to {:,.2f} bytes'.format(1000**2)\n",
    "print(sentence)"
   ]
  },
  {
   "cell_type": "code",
   "execution_count": 13,
   "id": "fbfe9015",
   "metadata": {},
   "outputs": [
    {
     "name": "stdout",
     "output_type": "stream",
     "text": [
      "Hi John. Your profession is - Artist. And you are from USA. \n"
     ]
    }
   ],
   "source": [
    "name = \"John\"\n",
    "profession = \"Artist\"\n",
    "place = \"USA\"\n",
    "message = (\n",
    "    f\"Hi {name}. \"\n",
    "    f\"Your profession is - {profession}. \"\n",
    "    f\"And you are from {place}. \"\n",
    ")\n",
    "print(message)"
   ]
  },
  {
   "cell_type": "code",
   "execution_count": 18,
   "id": "8fa82eeb",
   "metadata": {},
   "outputs": [
    {
     "name": "stdout",
     "output_type": "stream",
     "text": [
      "You are young\n"
     ]
    }
   ],
   "source": [
    "\n",
    "age=17\n",
    "message = f\"You are {'old' if age >= 18 else 'young'}\" \n",
    "print(message) # Output: You are old"
   ]
  },
  {
   "cell_type": "code",
   "execution_count": 19,
   "id": "be9fe33b",
   "metadata": {},
   "outputs": [
    {
     "name": "stdout",
     "output_type": "stream",
     "text": [
      "a: 1\n",
      "b: 2\n"
     ]
    }
   ],
   "source": [
    "dct = {'a': 1, 'b': 2}\n",
    "newline = \"\\n\"  # \\escapes are not allowed inside f-strings\n",
    "print(f'{newline.join(f\"{key}: {value}\" for key, value in dct.items())}')"
   ]
  },
  {
   "cell_type": "code",
   "execution_count": 20,
   "id": "03306120",
   "metadata": {},
   "outputs": [
    {
     "name": "stdout",
     "output_type": "stream",
     "text": [
      "0.002292699999998149\n"
     ]
    }
   ],
   "source": [
    "import timeit\n",
    "print(timeit.timeit(\"\"\"name = \"Eric\"; age = 74; '%s is %s.' % (name, age)\"\"\", number=10000))\n",
    "\n",
    "# OUTPUT: 0.002332228999999998"
   ]
  },
  {
   "cell_type": "code",
   "execution_count": 21,
   "id": "9d5cf60e",
   "metadata": {},
   "outputs": [
    {
     "name": "stdout",
     "output_type": "stream",
     "text": [
      "0.0002444000001560198\n"
     ]
    }
   ],
   "source": [
    "import timeit\n",
    "print(timeit.timeit(\"\"\"name = \"Eric\"; age = 74; '{name} is {age}.'\"\"\", number=10000))\n",
    "\n",
    "# OUTPUT: 0.00012703599999999704"
   ]
  }
 ],
 "metadata": {
  "kernelspec": {
   "display_name": "Python 3 (ipykernel)",
   "language": "python",
   "name": "python3"
  },
  "language_info": {
   "codemirror_mode": {
    "name": "ipython",
    "version": 3
   },
   "file_extension": ".py",
   "mimetype": "text/x-python",
   "name": "python",
   "nbconvert_exporter": "python",
   "pygments_lexer": "ipython3",
   "version": "3.9.15"
  },
  "toc": {
   "base_numbering": 1,
   "nav_menu": {},
   "number_sections": true,
   "sideBar": true,
   "skip_h1_title": false,
   "title_cell": "Table of Contents",
   "title_sidebar": "Contents",
   "toc_cell": false,
   "toc_position": {},
   "toc_section_display": true,
   "toc_window_display": false
  }
 },
 "nbformat": 4,
 "nbformat_minor": 5
}
