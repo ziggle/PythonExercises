{
 "cells": [
  {
   "cell_type": "markdown",
   "id": "67e47010",
   "metadata": {},
   "source": [
    "https://towardsdatascience.com/4-cool-tips-for-python-beginners-15746cd1d6f1"
   ]
  },
  {
   "cell_type": "code",
   "execution_count": 6,
   "id": "daf0fa93",
   "metadata": {},
   "outputs": [
    {
     "name": "stdout",
     "output_type": "stream",
     "text": [
      "[1, 2, 3, 6]\n",
      "None\n"
     ]
    }
   ],
   "source": [
    "a = [3, 1, 6, 2]\n",
    "a_sorted = a.sort()\n",
    "print(a)\n",
    "print(a_sorted)"
   ]
  },
  {
   "cell_type": "code",
   "execution_count": 7,
   "id": "99045892",
   "metadata": {},
   "outputs": [
    {
     "data": {
      "text/plain": [
       "[1, 2, 3, 6]"
      ]
     },
     "execution_count": 7,
     "metadata": {},
     "output_type": "execute_result"
    }
   ],
   "source": [
    "a_really_sorted = sorted(a)\n",
    "a_really_sorted"
   ]
  },
  {
   "cell_type": "code",
   "execution_count": 9,
   "id": "58e4d34a",
   "metadata": {},
   "outputs": [
    {
     "data": {
      "text/plain": [
       "'bdf'"
      ]
     },
     "execution_count": 9,
     "metadata": {},
     "output_type": "execute_result"
    }
   ],
   "source": [
    "mystring = \"abcdefgh\"\n",
    "mystring[1:7:2]"
   ]
  },
  {
   "cell_type": "code",
   "execution_count": 11,
   "id": "944bf5a9",
   "metadata": {},
   "outputs": [
    {
     "data": {
      "text/plain": [
       "'emosewa si nohtyP'"
      ]
     },
     "execution_count": 11,
     "metadata": {},
     "output_type": "execute_result"
    }
   ],
   "source": [
    "mystring = \"Python is awesome\"\n",
    "mystring_reversed = mystring[::-1]\n",
    "mystring_reversed"
   ]
  },
  {
   "cell_type": "code",
   "execution_count": 13,
   "id": "d22d08c2",
   "metadata": {},
   "outputs": [
    {
     "name": "stdout",
     "output_type": "stream",
     "text": [
      "{1, 2, 3, 4, 5}\n",
      "[1, 2, 3, 4, 5]\n"
     ]
    }
   ],
   "source": [
    "set_a = {1, 2, 3, 4}\n",
    "list_a = [1, 2, 3, 4]\n",
    "\n",
    "set_a.add(5)\n",
    "print(set_a)\n",
    "\n",
    "list_a.append(5)\n",
    "print(list_a)\n"
   ]
  },
  {
   "cell_type": "code",
   "execution_count": 14,
   "id": "b7816899",
   "metadata": {},
   "outputs": [
    {
     "data": {
      "text/plain": [
       "int"
      ]
     },
     "execution_count": 14,
     "metadata": {},
     "output_type": "execute_result"
    }
   ],
   "source": [
    "my_number = 4\n",
    "type(my_number)\n",
    "int"
   ]
  },
  {
   "cell_type": "code",
   "execution_count": 15,
   "id": "dafbffae",
   "metadata": {},
   "outputs": [
    {
     "data": {
      "text/plain": [
       "'44'"
      ]
     },
     "execution_count": 15,
     "metadata": {},
     "output_type": "execute_result"
    }
   ],
   "source": [
    "4 + 4\n",
    "8\n",
    "'4' + '4'\n",
    "'44'"
   ]
  },
  {
   "cell_type": "code",
   "execution_count": null,
   "id": "6b1bcb23",
   "metadata": {},
   "outputs": [],
   "source": []
  }
 ],
 "metadata": {
  "kernelspec": {
   "display_name": "Python 3 (ipykernel)",
   "language": "python",
   "name": "python3"
  },
  "language_info": {
   "codemirror_mode": {
    "name": "ipython",
    "version": 3
   },
   "file_extension": ".py",
   "mimetype": "text/x-python",
   "name": "python",
   "nbconvert_exporter": "python",
   "pygments_lexer": "ipython3",
   "version": "3.9.7"
  }
 },
 "nbformat": 4,
 "nbformat_minor": 5
}
