{
 "cells": [
  {
   "cell_type": "markdown",
   "id": "56a6da5f",
   "metadata": {},
   "source": [
    "https://medium.com/@techclaw/python-map-unleashing-the-power-of-functionality-mapping-db7af0ac37d9"
   ]
  },
  {
   "cell_type": "code",
   "execution_count": 1,
   "id": "d8a37cf5",
   "metadata": {},
   "outputs": [],
   "source": [
    "# Define the function\n",
    "def square(x):\n",
    "    return x ** 2"
   ]
  },
  {
   "cell_type": "code",
   "execution_count": 2,
   "id": "d702f18a",
   "metadata": {},
   "outputs": [
    {
     "name": "stdout",
     "output_type": "stream",
     "text": [
      "[1, 4, 9, 16, 25]\n"
     ]
    }
   ],
   "source": [
    "# Create a list of numbers\n",
    "numbers = [1, 2, 3, 4, 5]\n",
    "# Use map() to apply the square function to each element\n",
    "squared_numbers = map(square, numbers)\n",
    "# Convert the result into a list\n",
    "result = list(squared_numbers)\n",
    "print(result)"
   ]
  },
  {
   "cell_type": "code",
   "execution_count": 3,
   "id": "bd4a74f6",
   "metadata": {},
   "outputs": [],
   "source": [
    "# Define the addition function\n",
    "def add(x, y):\n",
    "    return x + y"
   ]
  },
  {
   "cell_type": "code",
   "execution_count": 4,
   "id": "b7feeaaa",
   "metadata": {},
   "outputs": [
    {
     "name": "stdout",
     "output_type": "stream",
     "text": [
      "[11, 22, 33]\n"
     ]
    }
   ],
   "source": [
    "# Create two lists\n",
    "list1 = [1, 2, 3]\n",
    "list2 = [10, 20, 30]\n",
    "# Use map() to apply the add function to elements of both lists\n",
    "result = list(map(add, list1, list2))\n",
    "print(result)"
   ]
  },
  {
   "cell_type": "code",
   "execution_count": 5,
   "id": "153b0ca3",
   "metadata": {},
   "outputs": [
    {
     "name": "stdout",
     "output_type": "stream",
     "text": [
      "[1, 4, 9, 16, 25]\n"
     ]
    }
   ],
   "source": [
    "# Using a lambda function to square each element in a list\n",
    "numbers = [1, 2, 3, 4, 5]\n",
    "squared_numbers = list(map(lambda x: x ** 2, numbers))\n",
    "print(squared_numbers)"
   ]
  },
  {
   "cell_type": "code",
   "execution_count": 6,
   "id": "cf852e48",
   "metadata": {},
   "outputs": [],
   "source": [
    "# Define a custom function\n",
    "def capitalize_name(name):\n",
    "    return name.capitalize()"
   ]
  },
  {
   "cell_type": "code",
   "execution_count": 7,
   "id": "62501552",
   "metadata": {},
   "outputs": [
    {
     "name": "stdout",
     "output_type": "stream",
     "text": [
      "['Alice', 'Bob', 'Charlie']\n"
     ]
    }
   ],
   "source": [
    "# Create a list of names\n",
    "names = [\"alice\", \"bob\", \"charlie\"]\n",
    "# Use map() with the custom function\n",
    "capitalized_names = list(map(capitalize_name, names))\n",
    "print(capitalized_names)"
   ]
  },
  {
   "cell_type": "code",
   "execution_count": null,
   "id": "5cdd1343",
   "metadata": {},
   "outputs": [],
   "source": []
  }
 ],
 "metadata": {
  "kernelspec": {
   "display_name": "Python 3 (ipykernel)",
   "language": "python",
   "name": "python3"
  },
  "language_info": {
   "codemirror_mode": {
    "name": "ipython",
    "version": 3
   },
   "file_extension": ".py",
   "mimetype": "text/x-python",
   "name": "python",
   "nbconvert_exporter": "python",
   "pygments_lexer": "ipython3",
   "version": "3.9.7"
  }
 },
 "nbformat": 4,
 "nbformat_minor": 5
}
