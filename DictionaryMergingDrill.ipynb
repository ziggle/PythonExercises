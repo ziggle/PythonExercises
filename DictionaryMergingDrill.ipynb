{
 "cells": [
  {
   "cell_type": "markdown",
   "id": "b9b96449",
   "metadata": {},
   "source": [
    "Merging Dictionary Drill from Mike Driscoll\n",
    "https://www.pythonpapers.com/p/python-101-merging-dictionaries-with?utm_campaign=email-half-post&r=b6wra&utm_source=substack&utm_medium=email"
   ]
  },
  {
   "cell_type": "code",
   "execution_count": 1,
   "id": "374cf58a",
   "metadata": {},
   "outputs": [
    {
     "data": {
      "text/plain": [
       "{'name': 'Mike',\n",
       " 'occupation': 'Python Teacher',\n",
       " 'location': 'Iowa',\n",
       " 'hobby': 'photography'}"
      ]
     },
     "execution_count": 1,
     "metadata": {},
     "output_type": "execute_result"
    }
   ],
   "source": [
    "first_dictionary={\"name\":\"Mike\",\"occupation\":\"Python Teacher\"}\n",
    "second_dictionary={\"location\":\"Iowa\",\"hobby\":\"photography\"}\n",
    "first_dictionary.update(second_dictionary)\n",
    "first_dictionary"
   ]
  },
  {
   "cell_type": "code",
   "execution_count": 3,
   "id": "a1e5678c",
   "metadata": {},
   "outputs": [
    {
     "data": {
      "text/plain": [
       "{'name': 'Mike',\n",
       " 'occupation': 'Python Teacher',\n",
       " 'location': 'Iowa',\n",
       " 'hobby': 'photography'}"
      ]
     },
     "execution_count": 3,
     "metadata": {},
     "output_type": "execute_result"
    }
   ],
   "source": [
    "first_dictionary={\"name\":\"Mike\",\"occupation\":\"Python Teacher\"}\n",
    "second_dictionary={\"location\":\"Iowa\",\"hobby\":\"photography\"}\n",
    "merged_dictionary={**first_dictionary, **second_dictionary}\n",
    "merged_dictionary"
   ]
  },
  {
   "cell_type": "code",
   "execution_count": 4,
   "id": "fad1eb1b",
   "metadata": {},
   "outputs": [
    {
     "data": {
      "text/plain": [
       "{'name': 'Mike',\n",
       " 'occupation': 'Python Teacher',\n",
       " 'location': 'Iowa',\n",
       " 'hobby': 'photography'}"
      ]
     },
     "execution_count": 4,
     "metadata": {},
     "output_type": "execute_result"
    }
   ],
   "source": [
    "first_dictionary={\"name\":\"Mike\",\"occupation\":\"Python Teacher\"}\n",
    "second_dictionary={\"location\":\"Iowa\",\"hobby\":\"photography\"}\n",
    "merged_dictionary=first_dictionary|second_dictionary\n",
    "merged_dictionary"
   ]
  }
 ],
 "metadata": {
  "kernelspec": {
   "display_name": "Python 3 (ipykernel)",
   "language": "python",
   "name": "python3"
  },
  "language_info": {
   "codemirror_mode": {
    "name": "ipython",
    "version": 3
   },
   "file_extension": ".py",
   "mimetype": "text/x-python",
   "name": "python",
   "nbconvert_exporter": "python",
   "pygments_lexer": "ipython3",
   "version": "3.9.7"
  }
 },
 "nbformat": 4,
 "nbformat_minor": 5
}
