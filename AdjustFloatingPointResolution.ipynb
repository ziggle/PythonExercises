{
 "cells": [
  {
   "cell_type": "markdown",
   "metadata": {},
   "source": [
    "https://medium.com/@anala007/float-display-in-pandas-no-more-scientific-notation-80e3dd28eabe"
   ]
  },
  {
   "cell_type": "code",
   "execution_count": 6,
   "metadata": {},
   "outputs": [
    {
     "name": "stdout",
     "output_type": "stream",
     "text": [
      "   float_values\n",
      "0      12345.68\n",
      "1      23456.79\n",
      "2      34567.89\n",
      "3      45678.91\n"
     ]
    }
   ],
   "source": [
    "import pandas as pd\n",
    "# Set the float display option\n",
    "pd.options.display.float_format = '{:.2f}'.format\n",
    "# Create a DataFrame with some float values\n",
    "# Create a DataFrame with some float values\n",
    "df = pd.DataFrame({'float_values': [12345.6789, 23456.7891, 34567.8912, 45678.9123]})\n",
    "df\n",
    "print(df)"
   ]
  },
  {
   "cell_type": "code",
   "execution_count": 7,
   "metadata": {},
   "outputs": [
    {
     "name": "stdout",
     "output_type": "stream",
     "text": [
      "   float_values\n",
      "0    12345.6789\n",
      "1    23456.7891\n",
      "2    34567.8912\n",
      "3    45678.9123\n"
     ]
    }
   ],
   "source": [
    "pd.options.display.float_format = None\n",
    "print(df)"
   ]
  },
  {
   "cell_type": "code",
   "execution_count": 8,
   "metadata": {},
   "outputs": [
    {
     "name": "stdout",
     "output_type": "stream",
     "text": [
      "  float_values\n",
      "0     12345.68\n",
      "1     23456.79\n",
      "2     34567.89\n",
      "3     45678.91\n"
     ]
    }
   ],
   "source": [
    "df = df.applymap('{:.2f}'.format)\n",
    "print(df)"
   ]
  }
 ],
 "metadata": {
  "kernelspec": {
   "display_name": "Python 3",
   "language": "python",
   "name": "python3"
  },
  "language_info": {
   "codemirror_mode": {
    "name": "ipython",
    "version": 3
   },
   "file_extension": ".py",
   "mimetype": "text/x-python",
   "name": "python",
   "nbconvert_exporter": "python",
   "pygments_lexer": "ipython3",
   "version": "3.8.5"
  }
 },
 "nbformat": 4,
 "nbformat_minor": 4
}
