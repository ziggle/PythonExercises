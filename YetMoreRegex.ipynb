{
 "cells": [
  {
   "attachments": {},
   "cell_type": "markdown",
   "metadata": {},
   "source": [
    "https://medium.com/@siglimumuni/regular-expressions-in-python-advanced-applications-62e86fe048a0"
   ]
  },
  {
   "cell_type": "code",
   "execution_count": 2,
   "metadata": {},
   "outputs": [
    {
     "data": {
      "text/plain": [
       "['www.ourcompany.com']"
      ]
     },
     "execution_count": 2,
     "metadata": {},
     "output_type": "execute_result"
    }
   ],
   "source": [
    "import re\n",
    "\n",
    "text = \"Visit our website at www.ourcompany.com for more information\"\n",
    "\n",
    "re.findall(r\"www\\.[a-z]+\\.com\",text)"
   ]
  },
  {
   "cell_type": "code",
   "execution_count": 3,
   "metadata": {},
   "outputs": [
    {
     "data": {
      "text/plain": [
       "[('www', 'ourcompany', 'com')]"
      ]
     },
     "execution_count": 3,
     "metadata": {},
     "output_type": "execute_result"
    }
   ],
   "source": [
    "#grouping with ()\n",
    "text = \"Visit our website at www.ourcompany.com for more information\"\n",
    "\n",
    "re.findall(r\"(www)\\.([a-z]+)\\.(com)\",text)"
   ]
  },
  {
   "cell_type": "code",
   "execution_count": 4,
   "metadata": {},
   "outputs": [
    {
     "data": {
      "text/plain": [
       "[('ourcompany', 'com')]"
      ]
     },
     "execution_count": 4,
     "metadata": {},
     "output_type": "execute_result"
    }
   ],
   "source": [
    "#excluding elements from a grouping with ?:\n",
    "text = \"Visit our website at www.ourcompany.com for more information\"\n",
    "\n",
    "re.findall(r\"(?:www)\\.([a-z]+)\\.(com)\",text)"
   ]
  },
  {
   "cell_type": "code",
   "execution_count": 5,
   "metadata": {},
   "outputs": [
    {
     "data": {
      "text/plain": [
       "[('John', 'Edwards'), ('Larry', 'Davis')]"
      ]
     },
     "execution_count": 5,
     "metadata": {},
     "output_type": "execute_result"
    }
   ],
   "source": [
    "#backreferencing elements from a grouping\n",
    "text = \"John Edwards and Larry Davis are neighbours\"\n",
    "\n",
    "re.findall(r\"([A-Z]\\w+)\\s([A-Z]\\w+)\",text)"
   ]
  },
  {
   "cell_type": "code",
   "execution_count": 6,
   "metadata": {},
   "outputs": [
    {
     "data": {
      "text/plain": [
       "'Mr. Edwards and Mr. Davis are neighbours'"
      ]
     },
     "execution_count": 6,
     "metadata": {},
     "output_type": "execute_result"
    }
   ],
   "source": [
    "#backreferencing elements from a grouping\n",
    "text = \"John Edwards and Larry Davis are neighbours\"\n",
    "\n",
    "re.sub(r\"([A-Z]\\w+)\\s([A-Z]\\w+)\",  repl=\"Mr. \\\\2\", string=text)"
   ]
  },
  {
   "cell_type": "code",
   "execution_count": 7,
   "metadata": {},
   "outputs": [
    {
     "data": {
      "text/plain": [
       "['Amanda', 'Lindsay', 'Gianne']"
      ]
     },
     "execution_count": 7,
     "metadata": {},
     "output_type": "execute_result"
    }
   ],
   "source": [
    "#positive lookahead with ?=\n",
    "text = \"Amanda:Female,Gerrard:Male,Lindsay:Female,Gianne:Female,Mike:Male\"\n",
    "\n",
    "re.findall(r\"([A-Z]\\w+):(?=Female)\",text)"
   ]
  },
  {
   "cell_type": "code",
   "execution_count": 8,
   "metadata": {},
   "outputs": [
    {
     "data": {
      "text/plain": [
       "['Gerrard', 'Mike']"
      ]
     },
     "execution_count": 8,
     "metadata": {},
     "output_type": "execute_result"
    }
   ],
   "source": [
    "#negative lookahead with ?!\n",
    "text = \"Amanda:Female,Gerrard:Male,Lindsay:Female,Gianne:Female,Mike:Male\"\n",
    "\n",
    "re.findall(r\"([A-Z]\\w+):(?!Female)\",text)"
   ]
  },
  {
   "cell_type": "code",
   "execution_count": 9,
   "metadata": {},
   "outputs": [
    {
     "data": {
      "text/plain": [
       "['{blue,yellow,green}']"
      ]
     },
     "execution_count": 9,
     "metadata": {},
     "output_type": "execute_result"
    }
   ],
   "source": [
    "#positive lookbehind with ?<=\n",
    "text = \"fruits={apple,banana,orange} animals={dog,cat,rabbit} colors={blue,yellow,green}\"\n",
    "\n",
    "re.findall(r\"(?<=colors)=({[\\w,]+})\",text)"
   ]
  },
  {
   "cell_type": "code",
   "execution_count": 10,
   "metadata": {},
   "outputs": [
    {
     "data": {
      "text/plain": [
       "['{apple,banana,orange}', '{dog,cat,rabbit}']"
      ]
     },
     "execution_count": 10,
     "metadata": {},
     "output_type": "execute_result"
    }
   ],
   "source": [
    "#negative lookbehind with ?<!\n",
    "text = \"fruits={apple,banana,orange} animals={dog,cat,rabbit} colors={blue,yellow,green}\"\n",
    "\n",
    "re.findall(r\"(?<!colors)=({[\\w,]+})\",text)"
   ]
  },
  {
   "cell_type": "code",
   "execution_count": 12,
   "metadata": {},
   "outputs": [],
   "source": [
    "#bonus challenge - matching password input to specified requirements\n",
    "while True:\n",
    "    password = input(\"Input your password\")\n",
    "    if re.match(r\"^(?=.*[a-z])(?=.*[A-Z])(?=.*\\d)(?=.*[@!#_%*?&]{8,20}$\",password):\n",
    "        print('Success. Password meets requirements')\n",
    "        break\n",
    "    else:\n",
    "        print('Does not meet requirements. Please enter a valid password')"
   ]
  }
 ],
 "metadata": {
  "kernelspec": {
   "display_name": "Python 3",
   "language": "python",
   "name": "python3"
  },
  "language_info": {
   "codemirror_mode": {
    "name": "ipython",
    "version": 3
   },
   "file_extension": ".py",
   "mimetype": "text/x-python",
   "name": "python",
   "nbconvert_exporter": "python",
   "pygments_lexer": "ipython3",
   "version": "3.11.4"
  },
  "orig_nbformat": 4
 },
 "nbformat": 4,
 "nbformat_minor": 2
}
