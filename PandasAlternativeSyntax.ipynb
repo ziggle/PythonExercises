{
 "cells": [
  {
   "cell_type": "markdown",
   "id": "ef21ee99",
   "metadata": {},
   "source": [
    "https://blog.devgenius.io/10-things-i-stopped-doing-in-pandas-after-learning-from-the-pros-e78c8f5dea80"
   ]
  },
  {
   "cell_type": "code",
   "execution_count": 6,
   "id": "92ff2a4f",
   "metadata": {},
   "outputs": [],
   "source": [
    "import pandas as pd\n",
    "df =pd.DataFrame({\"quantity\":[1,2,3,4],\"price\":[1,2,3,4]})\n",
    "# Old way\n",
    "for index, row in df.iterrows():\n",
    "    df.at[index, 'total'] = row['quantity'] * row['price']\n",
    "\n",
    "# New way\n",
    "df['total'] = df['quantity'] * df['price']"
   ]
  },
  {
   "cell_type": "code",
   "execution_count": 7,
   "id": "1bbce868",
   "metadata": {},
   "outputs": [
    {
     "name": "stdout",
     "output_type": "stream",
     "text": [
      "   quantity  price  total\n",
      "0         1      1      1\n",
      "1         2      2      4\n",
      "2         3      3      9\n",
      "3         4      4     16\n"
     ]
    }
   ],
   "source": [
    "print(df)"
   ]
  },
  {
   "cell_type": "code",
   "execution_count": 8,
   "id": "c859cea8",
   "metadata": {},
   "outputs": [],
   "source": [
    "# Old way\n",
    "df['total_discount'] = df.apply(lambda row: row['total'] * 0.1, axis=1)\n",
    "\n",
    "# New way\n",
    "def calculate_discount(total):\n",
    "    return total * 0.1\n",
    "df['total_discount'] = df['total'].apply(calculate_discount)"
   ]
  },
  {
   "cell_type": "code",
   "execution_count": 10,
   "id": "77e73edc",
   "metadata": {},
   "outputs": [
    {
     "name": "stdout",
     "output_type": "stream",
     "text": [
      "category\n",
      "mark    1.5\n",
      "tim     3.5\n",
      "Name: price, dtype: float64\n"
     ]
    }
   ],
   "source": [
    "import pandas as pd\n",
    "df =pd.DataFrame({\"quantity\":[1,2,3,4],\"price\":[1,2,3,4],\"category\":[\"mark\",\"mark\",\"tim\",\"tim\"]})\n",
    "# Old way\n",
    "temp_df = df.groupby('category')['price'].mean()\n",
    "\n",
    "# New way\n",
    "mean_prices_by_category = df.groupby('category')['price'].mean()\n",
    "print(mean_prices_by_category)"
   ]
  },
  {
   "cell_type": "code",
   "execution_count": null,
   "id": "5d45da9b",
   "metadata": {},
   "outputs": [],
   "source": []
  }
 ],
 "metadata": {
  "kernelspec": {
   "display_name": "Python 3 (ipykernel)",
   "language": "python",
   "name": "python3"
  },
  "language_info": {
   "codemirror_mode": {
    "name": "ipython",
    "version": 3
   },
   "file_extension": ".py",
   "mimetype": "text/x-python",
   "name": "python",
   "nbconvert_exporter": "python",
   "pygments_lexer": "ipython3",
   "version": "3.9.7"
  }
 },
 "nbformat": 4,
 "nbformat_minor": 5
}
