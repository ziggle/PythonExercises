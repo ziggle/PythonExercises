{
 "cells": [
  {
   "cell_type": "markdown",
   "id": "38051a30",
   "metadata": {},
   "source": [
    "https://medium.datadriveninvestor.com/visualization-of-multi-dimensional-data-using-countplots-85bab1eb713b"
   ]
  },
  {
   "cell_type": "code",
   "execution_count": 7,
   "id": "8304d4ff",
   "metadata": {},
   "outputs": [
    {
     "data": {
      "text/html": [
       "<div>\n",
       "<style scoped>\n",
       "    .dataframe tbody tr th:only-of-type {\n",
       "        vertical-align: middle;\n",
       "    }\n",
       "\n",
       "    .dataframe tbody tr th {\n",
       "        vertical-align: top;\n",
       "    }\n",
       "\n",
       "    .dataframe thead th {\n",
       "        text-align: right;\n",
       "    }\n",
       "</style>\n",
       "<table border=\"1\" class=\"dataframe\">\n",
       "  <thead>\n",
       "    <tr style=\"text-align: right;\">\n",
       "      <th></th>\n",
       "      <th>survived</th>\n",
       "      <th>pclass</th>\n",
       "      <th>sex</th>\n",
       "      <th>age</th>\n",
       "      <th>sibsp</th>\n",
       "      <th>parch</th>\n",
       "      <th>fare</th>\n",
       "      <th>embarked</th>\n",
       "      <th>class</th>\n",
       "      <th>who</th>\n",
       "      <th>adult_male</th>\n",
       "      <th>deck</th>\n",
       "      <th>embark_town</th>\n",
       "      <th>alive</th>\n",
       "      <th>alone</th>\n",
       "    </tr>\n",
       "  </thead>\n",
       "  <tbody>\n",
       "    <tr>\n",
       "      <th>0</th>\n",
       "      <td>0</td>\n",
       "      <td>3</td>\n",
       "      <td>male</td>\n",
       "      <td>22.0</td>\n",
       "      <td>1</td>\n",
       "      <td>0</td>\n",
       "      <td>7.2500</td>\n",
       "      <td>S</td>\n",
       "      <td>Third</td>\n",
       "      <td>man</td>\n",
       "      <td>True</td>\n",
       "      <td>NaN</td>\n",
       "      <td>Southampton</td>\n",
       "      <td>no</td>\n",
       "      <td>False</td>\n",
       "    </tr>\n",
       "    <tr>\n",
       "      <th>1</th>\n",
       "      <td>1</td>\n",
       "      <td>1</td>\n",
       "      <td>female</td>\n",
       "      <td>38.0</td>\n",
       "      <td>1</td>\n",
       "      <td>0</td>\n",
       "      <td>71.2833</td>\n",
       "      <td>C</td>\n",
       "      <td>First</td>\n",
       "      <td>woman</td>\n",
       "      <td>False</td>\n",
       "      <td>C</td>\n",
       "      <td>Cherbourg</td>\n",
       "      <td>yes</td>\n",
       "      <td>False</td>\n",
       "    </tr>\n",
       "    <tr>\n",
       "      <th>2</th>\n",
       "      <td>1</td>\n",
       "      <td>3</td>\n",
       "      <td>female</td>\n",
       "      <td>26.0</td>\n",
       "      <td>0</td>\n",
       "      <td>0</td>\n",
       "      <td>7.9250</td>\n",
       "      <td>S</td>\n",
       "      <td>Third</td>\n",
       "      <td>woman</td>\n",
       "      <td>False</td>\n",
       "      <td>NaN</td>\n",
       "      <td>Southampton</td>\n",
       "      <td>yes</td>\n",
       "      <td>True</td>\n",
       "    </tr>\n",
       "    <tr>\n",
       "      <th>3</th>\n",
       "      <td>1</td>\n",
       "      <td>1</td>\n",
       "      <td>female</td>\n",
       "      <td>35.0</td>\n",
       "      <td>1</td>\n",
       "      <td>0</td>\n",
       "      <td>53.1000</td>\n",
       "      <td>S</td>\n",
       "      <td>First</td>\n",
       "      <td>woman</td>\n",
       "      <td>False</td>\n",
       "      <td>C</td>\n",
       "      <td>Southampton</td>\n",
       "      <td>yes</td>\n",
       "      <td>False</td>\n",
       "    </tr>\n",
       "    <tr>\n",
       "      <th>4</th>\n",
       "      <td>0</td>\n",
       "      <td>3</td>\n",
       "      <td>male</td>\n",
       "      <td>35.0</td>\n",
       "      <td>0</td>\n",
       "      <td>0</td>\n",
       "      <td>8.0500</td>\n",
       "      <td>S</td>\n",
       "      <td>Third</td>\n",
       "      <td>man</td>\n",
       "      <td>True</td>\n",
       "      <td>NaN</td>\n",
       "      <td>Southampton</td>\n",
       "      <td>no</td>\n",
       "      <td>True</td>\n",
       "    </tr>\n",
       "  </tbody>\n",
       "</table>\n",
       "</div>"
      ],
      "text/plain": [
       "   survived  pclass     sex   age  sibsp  parch     fare embarked  class  \\\n",
       "0         0       3    male  22.0      1      0   7.2500        S  Third   \n",
       "1         1       1  female  38.0      1      0  71.2833        C  First   \n",
       "2         1       3  female  26.0      0      0   7.9250        S  Third   \n",
       "3         1       1  female  35.0      1      0  53.1000        S  First   \n",
       "4         0       3    male  35.0      0      0   8.0500        S  Third   \n",
       "\n",
       "     who  adult_male deck  embark_town alive  alone  \n",
       "0    man        True  NaN  Southampton    no  False  \n",
       "1  woman       False    C    Cherbourg   yes  False  \n",
       "2  woman       False  NaN  Southampton   yes   True  \n",
       "3  woman       False    C  Southampton   yes  False  \n",
       "4    man        True  NaN  Southampton    no   True  "
      ]
     },
     "execution_count": 7,
     "metadata": {},
     "output_type": "execute_result"
    }
   ],
   "source": [
    "import pandas as pd\n",
    "import seaborn as sns\n",
    "import matplotlib.pyplot as plt\n",
    "\n",
    "titanic_df = sns.load_dataset('titanic')\n",
    "titanic_df .head()"
   ]
  },
  {
   "cell_type": "code",
   "execution_count": 8,
   "id": "b4ff60ac",
   "metadata": {},
   "outputs": [
    {
     "name": "stdout",
     "output_type": "stream",
     "text": [
      "Count values for sex:\n",
      "sex\n",
      "male      577\n",
      "female    314\n",
      "Name: count, dtype: int64\n",
      "\n",
      "\n",
      "Count values for embarked:\n",
      "embarked\n",
      "S    644\n",
      "C    168\n",
      "Q     77\n",
      "Name: count, dtype: int64\n",
      "\n",
      "\n",
      "Count values for class:\n",
      "class\n",
      "Third     491\n",
      "First     216\n",
      "Second    184\n",
      "Name: count, dtype: int64\n",
      "\n",
      "\n",
      "Count values for who:\n",
      "who\n",
      "man      537\n",
      "woman    271\n",
      "child     83\n",
      "Name: count, dtype: int64\n",
      "\n",
      "\n",
      "Count values for adult_male:\n",
      "adult_male\n",
      "True     537\n",
      "False    354\n",
      "Name: count, dtype: int64\n",
      "\n",
      "\n",
      "Count values for deck:\n",
      "deck\n",
      "C    59\n",
      "B    47\n",
      "D    33\n",
      "E    32\n",
      "A    15\n",
      "F    13\n",
      "G     4\n",
      "Name: count, dtype: int64\n",
      "\n",
      "\n",
      "Count values for embark_town:\n",
      "embark_town\n",
      "Southampton    644\n",
      "Cherbourg      168\n",
      "Queenstown      77\n",
      "Name: count, dtype: int64\n",
      "\n",
      "\n",
      "Count values for alive:\n",
      "alive\n",
      "no     549\n",
      "yes    342\n",
      "Name: count, dtype: int64\n",
      "\n",
      "\n",
      "Count values for alone:\n",
      "alone\n",
      "True     537\n",
      "False    354\n",
      "Name: count, dtype: int64\n",
      "\n",
      "\n"
     ]
    }
   ],
   "source": [
    "# Get the list of categorical variables\n",
    "categorical_vars = [\"sex\", \"embarked\", \"class\", \"who\", \"adult_male\", \"deck\", \"embark_town\", \"alive\", \"alone\"]\n",
    "\n",
    "# Print the count values for each categorical variable\n",
    "for var in categorical_vars:\n",
    "    print(f\"Count values for {var}:\")\n",
    "    print(titanic_df[var].value_counts())\n",
    "    print(\"\\n\")"
   ]
  },
  {
   "cell_type": "code",
   "execution_count": 9,
   "id": "ce9ca49a",
   "metadata": {},
   "outputs": [
    {
     "name": "stderr",
     "output_type": "stream",
     "text": [
      "C:\\ProgramData\\Anaconda3-1\\lib\\site-packages\\seaborn\\_core.py:1225: FutureWarning: is_categorical_dtype is deprecated and will be removed in a future version. Use isinstance(dtype, CategoricalDtype) instead\n",
      "  if pd.api.types.is_categorical_dtype(vector):\n",
      "C:\\ProgramData\\Anaconda3-1\\lib\\site-packages\\seaborn\\_core.py:1225: FutureWarning: is_categorical_dtype is deprecated and will be removed in a future version. Use isinstance(dtype, CategoricalDtype) instead\n",
      "  if pd.api.types.is_categorical_dtype(vector):\n",
      "C:\\ProgramData\\Anaconda3-1\\lib\\site-packages\\seaborn\\_core.py:1225: FutureWarning: is_categorical_dtype is deprecated and will be removed in a future version. Use isinstance(dtype, CategoricalDtype) instead\n",
      "  if pd.api.types.is_categorical_dtype(vector):\n"
     ]
    },
    {
     "data": {
      "image/png": "[encoded data removed]",
      "text/plain": [
       "<Figure size 720x432 with 1 Axes>"
      ]
     },
     "metadata": {
      "needs_background": "light"
     },
     "output_type": "display_data"
    }
   ],
   "source": [
    "# Plot the countplot for survival\n",
    "plt.figure(figsize=(10, 6))\n",
    "sns.countplot(data=titanic_df, x='alive')\n",
    "plt.title('Countplot of survival', fontsize=14)\n",
    "plt.xlabel('Survival', fontsize=12)\n",
    "plt.ylabel('Count', fontsize=12)\n",
    "plt.show()"
   ]
  },
  {
   "cell_type": "code",
   "execution_count": 10,
   "id": "77fd0cf3",
   "metadata": {},
   "outputs": [
    {
     "name": "stderr",
     "output_type": "stream",
     "text": [
      "C:\\ProgramData\\Anaconda3-1\\lib\\site-packages\\seaborn\\_core.py:1225: FutureWarning: is_categorical_dtype is deprecated and will be removed in a future version. Use isinstance(dtype, CategoricalDtype) instead\n",
      "  if pd.api.types.is_categorical_dtype(vector):\n",
      "C:\\ProgramData\\Anaconda3-1\\lib\\site-packages\\seaborn\\categorical.py:253: FutureWarning: The default of observed=False is deprecated and will be changed to True in a future version of pandas. Pass observed=False to retain current behavior or observed=True to adopt the future default and silence this warning.\n",
      "  grouped_vals = vals.groupby(grouper)\n",
      "C:\\ProgramData\\Anaconda3-1\\lib\\site-packages\\seaborn\\categorical.py:253: FutureWarning: The default of observed=False is deprecated and will be changed to True in a future version of pandas. Pass observed=False to retain current behavior or observed=True to adopt the future default and silence this warning.\n",
      "  grouped_vals = vals.groupby(grouper)\n"
     ]
    },
    {
     "data": {
      "image/png": "[encoded data removed]",
      "text/plain": [
       "<Figure size 720x432 with 1 Axes>"
      ]
     },
     "metadata": {
      "needs_background": "light"
     },
     "output_type": "display_data"
    }
   ],
   "source": [
    "# Set up the subplot grid\n",
    "fig, axes = plt.subplots(figsize=(10, 6))\n",
    "\n",
    "# Plot countplot with hue for class and alive\n",
    "sns.countplot(data=titanic_df, x='class', hue='alive')\n",
    "plt.title('Countplot of class by survival', fontsize=14)\n",
    "plt.xlabel('Class', fontsize=12)\n",
    "plt.ylabel('Count', fontsize=12)\n",
    "\n",
    "# Add a legend\n",
    "plt.legend(title='Survival', loc='upper right')\n",
    "\n",
    "# Display the plot\n",
    "plt.show()"
   ]
  },
  {
   "cell_type": "code",
   "execution_count": 11,
   "id": "b4976408",
   "metadata": {},
   "outputs": [
    {
     "name": "stderr",
     "output_type": "stream",
     "text": [
      "C:\\ProgramData\\Anaconda3-1\\lib\\site-packages\\seaborn\\_core.py:1225: FutureWarning: is_categorical_dtype is deprecated and will be removed in a future version. Use isinstance(dtype, CategoricalDtype) instead\n",
      "  if pd.api.types.is_categorical_dtype(vector):\n"
     ]
    },
    {
     "data": {
      "image/png": "[encoded data removed]",
      "text/plain": [
       "<Figure size 576x360 with 2 Axes>"
      ]
     },
     "metadata": {
      "needs_background": "light"
     },
     "output_type": "display_data"
    }
   ],
   "source": [
    "import seaborn as sns\n",
    "import matplotlib.pyplot as plt\n",
    "\n",
    "# Define the order of class categories\n",
    "class_order = ['First', 'Second', 'Third']\n",
    "\n",
    "# Define the order of alive categories\n",
    "alive_order = ['no', 'yes']\n",
    "\n",
    "# Set up the subplot grid\n",
    "fig, axes = plt.subplots(1, 2, figsize=(8, 5), sharey=True)\n",
    "\n",
    "# Iterate over each sex (female and male)\n",
    "for i, sex in enumerate(['female', 'male']):\n",
    "    # Filter the DataFrame based on sex\n",
    "    sex_df = titanic_df[titanic_df['sex'] == sex]\n",
    "\n",
    "    # Plot countplot with hue for embark_town and alive\n",
    "    ax = axes[i]\n",
    "    sns.countplot(data=sex_df, x='class', hue='alive',\n",
    "                  order=class_order, hue_order=alive_order, ax=ax)\n",
    "    ax.set_title(f'Countplot for {sex}', fontsize=14)\n",
    "    ax.set_xlabel('class', fontsize=12)\n",
    "    ax.set_ylabel('Count', fontsize=12)\n",
    "\n",
    "    # Add a legend\n",
    "    ax.legend(title='Survival', loc='upper right')\n",
    "\n",
    "# Adjust the spacing between subplots\n",
    "plt.tight_layout()\n",
    "\n",
    "# Display the plot\n",
    "plt.show()"
   ]
  },
  {
   "cell_type": "markdown",
   "id": "b4598b58",
   "metadata": {},
   "source": [
    "The approah shown below is extremely powerful. Look for other examples of how to use this approach."
   ]
  },
  {
   "cell_type": "code",
   "execution_count": 17,
   "id": "04e549c9",
   "metadata": {},
   "outputs": [
    {
     "name": "stderr",
     "output_type": "stream",
     "text": [
      "C:\\ProgramData\\Anaconda3-1\\lib\\site-packages\\seaborn\\_core.py:1225: FutureWarning: is_categorical_dtype is deprecated and will be removed in a future version. Use isinstance(dtype, CategoricalDtype) instead\n",
      "  if pd.api.types.is_categorical_dtype(vector):\n",
      "C:\\ProgramData\\Anaconda3-1\\lib\\site-packages\\seaborn\\_core.py:1225: FutureWarning: is_categorical_dtype is deprecated and will be removed in a future version. Use isinstance(dtype, CategoricalDtype) instead\n",
      "  if pd.api.types.is_categorical_dtype(vector):\n",
      "C:\\ProgramData\\Anaconda3-1\\lib\\site-packages\\seaborn\\_core.py:1225: FutureWarning: is_categorical_dtype is deprecated and will be removed in a future version. Use isinstance(dtype, CategoricalDtype) instead\n",
      "  if pd.api.types.is_categorical_dtype(vector):\n",
      "C:\\ProgramData\\Anaconda3-1\\lib\\site-packages\\seaborn\\_core.py:1225: FutureWarning: is_categorical_dtype is deprecated and will be removed in a future version. Use isinstance(dtype, CategoricalDtype) instead\n",
      "  if pd.api.types.is_categorical_dtype(vector):\n",
      "C:\\ProgramData\\Anaconda3-1\\lib\\site-packages\\seaborn\\_core.py:1225: FutureWarning: is_categorical_dtype is deprecated and will be removed in a future version. Use isinstance(dtype, CategoricalDtype) instead\n",
      "  if pd.api.types.is_categorical_dtype(vector):\n",
      "C:\\ProgramData\\Anaconda3-1\\lib\\site-packages\\seaborn\\_core.py:1225: FutureWarning: is_categorical_dtype is deprecated and will be removed in a future version. Use isinstance(dtype, CategoricalDtype) instead\n",
      "  if pd.api.types.is_categorical_dtype(vector):\n",
      "C:\\ProgramData\\Anaconda3-1\\lib\\site-packages\\seaborn\\_core.py:1225: FutureWarning: is_categorical_dtype is deprecated and will be removed in a future version. Use isinstance(dtype, CategoricalDtype) instead\n",
      "  if pd.api.types.is_categorical_dtype(vector):\n",
      "C:\\ProgramData\\Anaconda3-1\\lib\\site-packages\\seaborn\\_core.py:1225: FutureWarning: is_categorical_dtype is deprecated and will be removed in a future version. Use isinstance(dtype, CategoricalDtype) instead\n",
      "  if pd.api.types.is_categorical_dtype(vector):\n",
      "C:\\ProgramData\\Anaconda3-1\\lib\\site-packages\\seaborn\\_core.py:1225: FutureWarning: is_categorical_dtype is deprecated and will be removed in a future version. Use isinstance(dtype, CategoricalDtype) instead\n",
      "  if pd.api.types.is_categorical_dtype(vector):\n"
     ]
    },
    {
     "data": {
      "image/png": "[encoded data removed]",
      "text/plain": [
       "<Figure size 720x432 with 1 Axes>"
      ]
     },
     "metadata": {
      "needs_background": "light"
     },
     "output_type": "display_data"
    }
   ],
   "source": [
    "# Set up the subplot grid\n",
    "fig, axes = plt.subplots(figsize=(10, 6))\n",
    "\n",
    "# Define the colors for each category using named colors\n",
    "color_palette = ['red', 'red']\n",
    "color_palette2 = ['blue', 'blue']\n",
    "color_palette3 = ['yellow', 'yellow']\n",
    "alive_order = ['no', 'yes']\n",
    "\n",
    "sns.countplot(data=titanic_df, x='embark_town', hue='alive',hue_order=alive_order,ax=axes, palette=color_palette)\n",
    "\n",
    "i=0\n",
    "j=0\n",
    "for p in axes.patches:\n",
    "    axes.text(p.get_x() + p.get_width() / 2., p.get_height()+8, alive_order[i%len(alive_order)], ha='center')\n",
    "    j+=1\n",
    "    if j==len(class_order):\n",
    "        j=0\n",
    "        i+=1\n",
    "\n",
    "\n",
    "axes.legend_.remove()\n",
    "\n",
    "titanic_df2=titanic_df[titanic_df['class']!='First']\n",
    "# Plot countplot with hue for embark_town and alive\n",
    "sns.countplot(data=titanic_df2, x='embark_town', hue='alive',ax=axes,hue_order=alive_order, palette=color_palette2)\n",
    "axes.legend_.remove()\n",
    "\n",
    "\n",
    "titanic_df3=titanic_df2[titanic_df2['class']!='Second']\n",
    "# Plot countplot with hue for embark_town and alive\n",
    "sns.countplot(data=titanic_df3, x='embark_town', hue='alive',ax=axes,hue_order=alive_order, palette=color_palette3)\n",
    "axes.legend_.remove()\n",
    "plt.title('Countplot of alive by class and embark town', fontsize=14)\n",
    "plt.xlabel('Embark Town', fontsize=12)\n",
    "plt.ylabel('Count', fontsize=12)\n",
    "\n",
    "# Add new legend entries with correct classes\n",
    "labels={'First class':'red','Second class':'blue','Third class':'yellow'}\n",
    "handles=[]\n",
    "\n",
    "#Add the udated legend\n",
    "for label,color in labels.items():\n",
    "    handles.append(axes.plot([],[],label=label,color=color)[0])\n",
    "\n",
    "axes.legend(handles=handles,labels=labels.keys(),fontsize=16)\n",
    "# Display the plot\n",
    "plt.show()"
   ]
  },
  {
   "cell_type": "code",
   "execution_count": 18,
   "id": "da62b372",
   "metadata": {},
   "outputs": [
    {
     "name": "stderr",
     "output_type": "stream",
     "text": [
      "C:\\ProgramData\\Anaconda3-1\\lib\\site-packages\\seaborn\\_core.py:1225: FutureWarning: is_categorical_dtype is deprecated and will be removed in a future version. Use isinstance(dtype, CategoricalDtype) instead\n",
      "  if pd.api.types.is_categorical_dtype(vector):\n",
      "C:\\ProgramData\\Anaconda3-1\\lib\\site-packages\\seaborn\\_core.py:1225: FutureWarning: is_categorical_dtype is deprecated and will be removed in a future version. Use isinstance(dtype, CategoricalDtype) instead\n",
      "  if pd.api.types.is_categorical_dtype(vector):\n",
      "C:\\ProgramData\\Anaconda3-1\\lib\\site-packages\\seaborn\\_core.py:1225: FutureWarning: is_categorical_dtype is deprecated and will be removed in a future version. Use isinstance(dtype, CategoricalDtype) instead\n",
      "  if pd.api.types.is_categorical_dtype(vector):\n",
      "C:\\ProgramData\\Anaconda3-1\\lib\\site-packages\\seaborn\\_core.py:1225: FutureWarning: is_categorical_dtype is deprecated and will be removed in a future version. Use isinstance(dtype, CategoricalDtype) instead\n",
      "  if pd.api.types.is_categorical_dtype(vector):\n",
      "C:\\ProgramData\\Anaconda3-1\\lib\\site-packages\\seaborn\\_core.py:1225: FutureWarning: is_categorical_dtype is deprecated and will be removed in a future version. Use isinstance(dtype, CategoricalDtype) instead\n",
      "  if pd.api.types.is_categorical_dtype(vector):\n",
      "C:\\ProgramData\\Anaconda3-1\\lib\\site-packages\\seaborn\\_core.py:1225: FutureWarning: is_categorical_dtype is deprecated and will be removed in a future version. Use isinstance(dtype, CategoricalDtype) instead\n",
      "  if pd.api.types.is_categorical_dtype(vector):\n",
      "C:\\ProgramData\\Anaconda3-1\\lib\\site-packages\\seaborn\\_core.py:1225: FutureWarning: is_categorical_dtype is deprecated and will be removed in a future version. Use isinstance(dtype, CategoricalDtype) instead\n",
      "  if pd.api.types.is_categorical_dtype(vector):\n",
      "C:\\ProgramData\\Anaconda3-1\\lib\\site-packages\\seaborn\\_core.py:1225: FutureWarning: is_categorical_dtype is deprecated and will be removed in a future version. Use isinstance(dtype, CategoricalDtype) instead\n",
      "  if pd.api.types.is_categorical_dtype(vector):\n",
      "C:\\ProgramData\\Anaconda3-1\\lib\\site-packages\\seaborn\\_core.py:1225: FutureWarning: is_categorical_dtype is deprecated and will be removed in a future version. Use isinstance(dtype, CategoricalDtype) instead\n",
      "  if pd.api.types.is_categorical_dtype(vector):\n",
      "C:\\ProgramData\\Anaconda3-1\\lib\\site-packages\\seaborn\\_core.py:1225: FutureWarning: is_categorical_dtype is deprecated and will be removed in a future version. Use isinstance(dtype, CategoricalDtype) instead\n",
      "  if pd.api.types.is_categorical_dtype(vector):\n",
      "C:\\ProgramData\\Anaconda3-1\\lib\\site-packages\\seaborn\\_core.py:1225: FutureWarning: is_categorical_dtype is deprecated and will be removed in a future version. Use isinstance(dtype, CategoricalDtype) instead\n",
      "  if pd.api.types.is_categorical_dtype(vector):\n",
      "C:\\ProgramData\\Anaconda3-1\\lib\\site-packages\\seaborn\\_core.py:1225: FutureWarning: is_categorical_dtype is deprecated and will be removed in a future version. Use isinstance(dtype, CategoricalDtype) instead\n",
      "  if pd.api.types.is_categorical_dtype(vector):\n"
     ]
    },
    {
     "data": {
      "image/png": "[encoded data removed]",
      "text/plain": [
       "<Figure size 720x432 with 2 Axes>"
      ]
     },
     "metadata": {
      "needs_background": "light"
     },
     "output_type": "display_data"
    }
   ],
   "source": [
    "# Define the colors for each category using named colors\n",
    "color_palette = ['red', 'red']\n",
    "color_palette2 = ['blue', 'blue']\n",
    "color_palette3 = ['yellow', 'yellow']\n",
    "\n",
    "embark_order = ['Southampton', 'Cherbourg', 'Queenstown']\n",
    "# Set up the subplot grid\n",
    "fig, axes = plt.subplots(1, 2, figsize=(10, 6), sharey=True)\n",
    "\n",
    "# Iterate over each sex (female and male)\n",
    "for i, sex in enumerate(['female', 'male']):\n",
    "    # Filter the DataFrame based on sex\n",
    "    sex_df = titanic_df[titanic_df['sex'] == sex]\n",
    "\n",
    "    # Plot countplot with hue for embark_town and alive\n",
    "    ax = axes[i]\n",
    "    sns.countplot(data=sex_df, x='embark_town', hue='alive',order=embark_order,hue_order=alive_order,ax=ax, palette=color_palette)  \n",
    "\n",
    "    i=0\n",
    "    j=0\n",
    "    for p in ax.patches:\n",
    "        ax.text(p.get_x() + p.get_width() / 2., p.get_height()+8, alive_order[i%len(alive_order)], ha='center')\n",
    "        j+=1\n",
    "        if j==len(class_order):\n",
    "            j=0\n",
    "            i+=1\n",
    "    #Remove all the first class entries. So when we plot on top of the previous plot, the part that will stick out belongs to First classs\n",
    "    sex_df2=sex_df[sex_df['class']!='First']\n",
    "    # Plot countplot with hue for embark_town and alive\n",
    "    sns.countplot(data=sex_df2, x='embark_town', hue='alive',order=embark_order,ax=ax,hue_order=alive_order, palette=color_palette2)\n",
    "   \n",
    "    sex_df3=sex_df2[sex_df2['class']!='Second']\n",
    "    # Plot countplot with hue for embark_town and alive\n",
    "    sns.countplot(data=sex_df3, x='embark_town', hue='alive',order=embark_order,ax=ax,hue_order=alive_order, palette=color_palette3)\n",
    "    \n",
    "    ax.set_title(f'Countplot for {sex}', fontsize=14)\n",
    "    ax.set_xlabel('Embark Town', fontsize=12)\n",
    "    ax.set_ylabel('Count', fontsize=12)\n",
    "\n",
    "    ax.legend_.remove()\n",
    "    # Add new legend entries with correct classes\n",
    "    labels={'First class':'red','Second class':'blue','Third class':'yellow'}\n",
    "    handles=[]\n",
    "\n",
    "    #Add the udated legend\n",
    "    for label,color in labels.items():\n",
    "        handles.append(ax.plot([],[],label=label,color=color)[0])\n",
    "\n",
    "    ax.legend(handles=handles,labels=labels.keys(),fontsize=16)\n",
    "\n",
    "# Display the plot\n",
    "plt.show()"
   ]
  },
  {
   "cell_type": "code",
   "execution_count": null,
   "id": "0b3a9051",
   "metadata": {},
   "outputs": [],
   "source": []
  }
 ],
 "metadata": {
  "kernelspec": {
   "display_name": "Python 3 (ipykernel)",
   "language": "python",
   "name": "python3"
  },
  "language_info": {
   "codemirror_mode": {
    "name": "ipython",
    "version": 3
   },
   "file_extension": ".py",
   "mimetype": "text/x-python",
   "name": "python",
   "nbconvert_exporter": "python",
   "pygments_lexer": "ipython3",
   "version": "3.9.7"
  }
 },
 "nbformat": 4,
 "nbformat_minor": 5
}
