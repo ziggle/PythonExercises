{
 "cells": [
  {
   "cell_type": "markdown",
   "metadata": {},
   "source": [
    "https://medium.com/@gozdebarin/data-cleaning-handling-missing-values-in-python-pandas-b741c1157f31"
   ]
  },
  {
   "cell_type": "code",
   "execution_count": 22,
   "metadata": {},
   "outputs": [],
   "source": [
    "import pandas as pd\n",
    "data=pd.DataFrame(\n",
    "    {\"Age\":[4,6,None,7,8,None,9],\n",
    "     \"income\":[10000,20000,30000,None,50000,60000,170000],\n",
    "     \"stock_price\":[1,None,None,4,5,6,7],\n",
    "     \"temperature\":[1,None,None,4,5,6,7]}\n",
    ")"
   ]
  },
  {
   "cell_type": "code",
   "execution_count": 19,
   "metadata": {},
   "outputs": [
    {
     "name": "stdout",
     "output_type": "stream",
     "text": [
      "Age            2\n",
      "income         1\n",
      "stock price    2\n",
      "temperature    2\n",
      "dtype: int64\n"
     ]
    }
   ],
   "source": [
    "# Count null values in each column\n",
    "null_counts = data.isnull().sum()\n",
    "print(null_counts)"
   ]
  },
  {
   "cell_type": "code",
   "execution_count": 20,
   "metadata": {},
   "outputs": [
    {
     "name": "stdout",
     "output_type": "stream",
     "text": [
      "   Age         income  stock price  temperature\n",
      "0  4.0   10000.000000          1.0          1.0\n",
      "1  6.0   20000.000000          NaN          NaN\n",
      "2  NaN   30000.000000          NaN          NaN\n",
      "3  7.0   56666.666667          4.0          4.0\n",
      "4  8.0   50000.000000          5.0          5.0\n",
      "5  NaN   60000.000000          6.0          6.0\n",
      "6  9.0  170000.000000          7.0          7.0\n"
     ]
    }
   ],
   "source": [
    "# Fill null values in 'income' with mean income\n",
    "mean_income = data['income'].mean()\n",
    "data['income'].fillna(mean_income, inplace=True)\n",
    "print(data)"
   ]
  },
  {
   "cell_type": "code",
   "execution_count": 24,
   "metadata": {},
   "outputs": [
    {
     "name": "stdout",
     "output_type": "stream",
     "text": [
      "   Age    income  stock_price  temperature\n",
      "0  4.0   10000.0          1.0          1.0\n",
      "1  6.0   20000.0          1.0          NaN\n",
      "2  NaN   30000.0          1.0          NaN\n",
      "3  7.0       NaN          4.0          4.0\n",
      "4  8.0   50000.0          5.0          5.0\n",
      "5  NaN   60000.0          6.0          6.0\n",
      "6  9.0  170000.0          7.0          7.0\n"
     ]
    }
   ],
   "source": [
    "# Fill null values with forward fill (previous valid value)\n",
    "data['stock_price'].fillna(method='ffill', inplace=True)\n",
    "print(data)"
   ]
  },
  {
   "cell_type": "code",
   "execution_count": 25,
   "metadata": {},
   "outputs": [
    {
     "name": "stdout",
     "output_type": "stream",
     "text": [
      "   Age    income  stock_price  temperature\n",
      "0  4.0   10000.0          1.0          1.0\n",
      "1  6.0   20000.0          1.0          NaN\n",
      "2  NaN   30000.0          1.0          NaN\n",
      "3  7.0       NaN          4.0          4.0\n",
      "4  8.0   50000.0          5.0          5.0\n",
      "5  NaN   60000.0          6.0          6.0\n",
      "6  9.0  170000.0          7.0          7.0\n"
     ]
    }
   ],
   "source": [
    "print(data)"
   ]
  },
  {
   "cell_type": "code",
   "execution_count": 26,
   "metadata": {},
   "outputs": [
    {
     "name": "stdout",
     "output_type": "stream",
     "text": [
      "   Age    income  stock_price  temperature\n",
      "0  4.0   10000.0          1.0          1.0\n",
      "1  6.0   20000.0          1.0          4.0\n",
      "2  NaN   30000.0          1.0          4.0\n",
      "3  7.0       NaN          4.0          4.0\n",
      "4  8.0   50000.0          5.0          5.0\n",
      "5  NaN   60000.0          6.0          6.0\n",
      "6  9.0  170000.0          7.0          7.0\n"
     ]
    }
   ],
   "source": [
    "# Fill null values with backward fill (next valid value)\n",
    "data['temperature'].fillna(method='bfill', inplace=True)\n",
    "print(data)"
   ]
  },
  {
   "cell_type": "code",
   "execution_count": 30,
   "metadata": {},
   "outputs": [
    {
     "name": "stdout",
     "output_type": "stream",
     "text": [
      "   Age    income  stock_price  temperature\n",
      "0  4.0   10000.0          1.0          1.0\n",
      "1  6.0   20000.0          NaN          NaN\n",
      "2  NaN   30000.0          NaN          NaN\n",
      "3  7.0       NaN          4.0          4.0\n",
      "4  8.0   50000.0          5.0          5.0\n",
      "5  NaN   60000.0          6.0          6.0\n",
      "6  9.0  170000.0          7.0          7.0\n"
     ]
    }
   ],
   "source": [
    "import pandas as pd\n",
    "data=pd.DataFrame(\n",
    "    {\"Age\":[4,6,None,7,8,None,9],\n",
    "     \"income\":[10000,20000,30000,None,50000,60000,170000],\n",
    "     \"stock_price\":[1,None,None,4,5,6,7],\n",
    "     \"temperature\":[1,None,None,4,5,6,7]}\n",
    ")\n",
    "print(data)"
   ]
  },
  {
   "cell_type": "code",
   "execution_count": 29,
   "metadata": {},
   "outputs": [
    {
     "name": "stdout",
     "output_type": "stream",
     "text": [
      "   Age    income  stock_price  temperature\n",
      "0  4.0   10000.0          1.0          1.0\n",
      "1  6.0   20000.0          NaN          2.0\n",
      "2  NaN   30000.0          NaN          3.0\n",
      "3  7.0       NaN          4.0          4.0\n",
      "4  8.0   50000.0          5.0          5.0\n",
      "5  NaN   60000.0          6.0          6.0\n",
      "6  9.0  170000.0          7.0          7.0\n"
     ]
    }
   ],
   "source": [
    "# Interpolate null values using linear interpolation\n",
    "data['temperature'].interpolate(method='linear', inplace=True)\n",
    "print(data)"
   ]
  },
  {
   "cell_type": "code",
   "execution_count": null,
   "metadata": {},
   "outputs": [],
   "source": []
  }
 ],
 "metadata": {
  "kernelspec": {
   "display_name": "Python 3",
   "language": "python",
   "name": "python3"
  },
  "language_info": {
   "codemirror_mode": {
    "name": "ipython",
    "version": 3
   },
   "file_extension": ".py",
   "mimetype": "text/x-python",
   "name": "python",
   "nbconvert_exporter": "python",
   "pygments_lexer": "ipython3",
   "version": "3.11.5"
  },
  "orig_nbformat": 4
 },
 "nbformat": 4,
 "nbformat_minor": 2
}
