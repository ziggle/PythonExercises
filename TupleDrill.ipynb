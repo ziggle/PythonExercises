{
 "cells": [
  {
   "attachments": {},
   "cell_type": "markdown",
   "metadata": {},
   "source": [
    "https://betterprogramming.pub/5-things-to-know-to-level-up-your-skills-with-tuples-in-python-6e7c1dc16945"
   ]
  },
  {
   "cell_type": "code",
   "execution_count": 2,
   "metadata": {},
   "outputs": [
    {
     "name": "stdout",
     "output_type": "stream",
     "text": [
      "five\n",
      "5\n"
     ]
    }
   ],
   "source": [
    "a = 5\n",
    "b = 'five'\n",
    "a, b = b, a\n",
    "print(a)\n",
    "print(b)\n"
   ]
  },
  {
   "cell_type": "code",
   "execution_count": 3,
   "metadata": {},
   "outputs": [
    {
     "data": {
      "text/plain": [
       "tuple"
      ]
     },
     "execution_count": 3,
     "metadata": {},
     "output_type": "execute_result"
    }
   ],
   "source": [
    "# When you declare a tuple of one object, you can't omit the comma sign. Remember this, because we'll use it later.\n",
    "c = 1,\n",
    "type(c)\n",
    "d = 3, 5\n",
    "type(d)"
   ]
  },
  {
   "cell_type": "code",
   "execution_count": 4,
   "metadata": {},
   "outputs": [
    {
     "name": "stdout",
     "output_type": "stream",
     "text": [
      "e is 2\n",
      "f is 4\n",
      "g is 6\n"
     ]
    }
   ],
   "source": [
    "e, f, g = (2, 4, 6)\n",
    "print(f\"e is {e}\\nf is {f}\\ng is {g}\")\n"
   ]
  },
  {
   "cell_type": "code",
   "execution_count": 5,
   "metadata": {},
   "outputs": [
    {
     "name": "stdout",
     "output_type": "stream",
     "text": [
      "code is 404\n",
      "message is 'Not Found'\n"
     ]
    }
   ],
   "source": [
    "code, message = 404, \"Not Found\"\n",
    "print(f\"code is {code}\\nmessage is {message!r}\")"
   ]
  },
  {
   "cell_type": "code",
   "execution_count": 6,
   "metadata": {},
   "outputs": [
    {
     "name": "stdout",
     "output_type": "stream",
     "text": [
      "The email has been validated\n",
      "200\n"
     ]
    }
   ],
   "source": [
    "http_response = (200, \"The email has been validated\")\n",
    "_, message = http_response\n",
    "print(message)\n",
    "print(_)"
   ]
  },
  {
   "cell_type": "code",
   "execution_count": 8,
   "metadata": {},
   "outputs": [
    {
     "name": "stdout",
     "output_type": "stream",
     "text": [
      "min score: 8.9\n",
      "valid scores: [9.2, 9.3, 9.4, 9.5]\n",
      "max score: 9.9\n"
     ]
    }
   ],
   "source": [
    "scores = (8.9, 9.2, 9.3, 9.4, 9.5, 9.9)\n",
    "min_score, *valid_scores, max_score = scores\n",
    "print(f\"min score: {min_score}\\nvalid scores: {valid_scores}\\nmax score: {max_score}\")\n"
   ]
  },
  {
   "cell_type": "code",
   "execution_count": 9,
   "metadata": {},
   "outputs": [
    {
     "data": {
      "text/plain": [
       "[9.2, 9.3, 9.4, 9.5, 9.9]"
      ]
     },
     "execution_count": 9,
     "metadata": {},
     "output_type": "execute_result"
    }
   ],
   "source": [
    "*valid_scores, max_score = scores\n",
    "valid_scores\n",
    "[8.9, 9.2, 9.3, 9.4, 9.5]\n",
    "_, *valid_scores = scores\n",
    "valid_scores\n",
    "[9.2, 9.3, 9.4, 9.5, 9.9]"
   ]
  },
  {
   "cell_type": "code",
   "execution_count": 10,
   "metadata": {},
   "outputs": [
    {
     "name": "stdout",
     "output_type": "stream",
     "text": [
      "name: John Smith\n",
      "age: 17\n",
      "student id: 178044\n"
     ]
    }
   ],
   "source": [
    "from collections import namedtuple\n",
    "Student = namedtuple(\"Student\", \"name age student_id\")\n",
    "student = Student(\"John Smith\", 17, 178044)\n",
    "print(f\"name: {student.name}\\nage: {student.age}\\nstudent id: {student.student_id}\")\n"
   ]
  },
  {
   "cell_type": "code",
   "execution_count": 11,
   "metadata": {},
   "outputs": [
    {
     "data": {
      "text/plain": [
       "True"
      ]
     },
     "execution_count": 11,
     "metadata": {},
     "output_type": "execute_result"
    }
   ],
   "source": [
    "issubclass(Student, tuple)\n",
    "isinstance(student, tuple)\n"
   ]
  }
 ],
 "metadata": {
  "kernelspec": {
   "display_name": "Python 3",
   "language": "python",
   "name": "python3"
  },
  "language_info": {
   "codemirror_mode": {
    "name": "ipython",
    "version": 3
   },
   "file_extension": ".py",
   "mimetype": "text/x-python",
   "name": "python",
   "nbconvert_exporter": "python",
   "pygments_lexer": "ipython3",
   "version": "3.11.4"
  },
  "orig_nbformat": 4
 },
 "nbformat": 4,
 "nbformat_minor": 2
}
