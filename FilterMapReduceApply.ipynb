{
 "cells": [
  {
   "cell_type": "markdown",
   "id": "43bf3854",
   "metadata": {},
   "source": [
    "https://ogre51.medium.com/python-filter-map-reduce-and-apply-functions-6e2dbdbc6a7e"
   ]
  },
  {
   "cell_type": "code",
   "execution_count": 3,
   "id": "09ac540e",
   "metadata": {},
   "outputs": [
    {
     "name": "stdout",
     "output_type": "stream",
     "text": [
      "25\n"
     ]
    }
   ],
   "source": [
    "# Lambda\n",
    "square = lambda x: x ** 2\n",
    "result = square(5)  # Result is 25\n",
    "print(result)"
   ]
  },
  {
   "cell_type": "code",
   "execution_count": 4,
   "id": "9f7b9762",
   "metadata": {},
   "outputs": [
    {
     "name": "stdout",
     "output_type": "stream",
     "text": [
      "[2, 4, 6]\n"
     ]
    }
   ],
   "source": [
    "# Filter\n",
    "numbers = [1, 2, 3, 4, 5, 6]\n",
    "even_numbers = list(filter(lambda x: x % 2 == 0, numbers))  # [2, 4, 6]\n",
    "print(even_numbers)"
   ]
  },
  {
   "cell_type": "code",
   "execution_count": 6,
   "id": "179057ba",
   "metadata": {},
   "outputs": [
    {
     "name": "stdout",
     "output_type": "stream",
     "text": [
      "[1, 4, 9, 16, 25]\n"
     ]
    }
   ],
   "source": [
    "# map function\n",
    "# I love this function for renaming categories\n",
    "numbers = [1, 2, 3, 4, 5]\n",
    "squared = list(map(lambda x: x ** 2, numbers))  # [1, 4, 9, 16, 25]\n",
    "print(squared)"
   ]
  },
  {
   "cell_type": "code",
   "execution_count": 8,
   "id": "e0d39fec",
   "metadata": {},
   "outputs": [
    {
     "name": "stdout",
     "output_type": "stream",
     "text": [
      "120\n"
     ]
    }
   ],
   "source": [
    "# Reduce Function\n",
    "from functools import reduce\n",
    "\n",
    "numbers = [1, 2, 3, 4, 5]\n",
    "product = reduce(lambda x, y: x * y, numbers)  \n",
    "print(product)\n",
    "# Result is 120 (1*2*3*4*5)"
   ]
  },
  {
   "cell_type": "code",
   "execution_count": 9,
   "id": "09128bb3",
   "metadata": {},
   "outputs": [
    {
     "name": "stdout",
     "output_type": "stream",
     "text": [
      "   A   B\n",
      "0  2   8\n",
      "1  4  10\n",
      "2  6  12\n"
     ]
    }
   ],
   "source": [
    "import pandas as pd\n",
    "\n",
    "data = {'A': [1, 2, 3], 'B': [4, 5, 6]}\n",
    "df = pd.DataFrame(data)\n",
    "\n",
    "# Apply a custom function to each column\n",
    "\n",
    "result = df.apply(lambda x: x * 2, axis=0)\n",
    "print(result)\n",
    "\n",
    "# Resulting DataFrame:\n",
    "#    A   B\n",
    "# 0  2   8\n",
    "# 1  4  10\n",
    "# 2  6  12"
   ]
  },
  {
   "cell_type": "code",
   "execution_count": 11,
   "id": "cacd5c16",
   "metadata": {},
   "outputs": [
    {
     "name": "stdout",
     "output_type": "stream",
     "text": [
      "0     1\n",
      "1     4\n",
      "2     9\n",
      "3    16\n",
      "4    25\n",
      "dtype: int64\n"
     ]
    }
   ],
   "source": [
    "# Apply\n",
    "import pandas as pd\n",
    "\n",
    "data = {'A': [1, 2, 3, 4, 5]}\n",
    "series = pd.Series(data['A'])\n",
    "\n",
    "# Apply a lambda function to each element\n",
    "result = series.apply(lambda x: x ** 2)\n",
    "print(result)\n",
    "\n",
    "# Resulting Series: [1, 4, 9, 16, 25]"
   ]
  }
 ],
 "metadata": {
  "kernelspec": {
   "display_name": "Python 3 (ipykernel)",
   "language": "python",
   "name": "python3"
  },
  "language_info": {
   "codemirror_mode": {
    "name": "ipython",
    "version": 3
   },
   "file_extension": ".py",
   "mimetype": "text/x-python",
   "name": "python",
   "nbconvert_exporter": "python",
   "pygments_lexer": "ipython3",
   "version": "3.9.7"
  }
 },
 "nbformat": 4,
 "nbformat_minor": 5
}
