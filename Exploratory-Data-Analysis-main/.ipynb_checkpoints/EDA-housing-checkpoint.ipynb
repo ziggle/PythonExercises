{
 "cells": [
  {
   "cell_type": "code",
   "execution_count": 1,
   "id": "e89dd3f4",
   "metadata": {},
   "outputs": [
    {
     "data": {
      "text/html": [
       "<div>\n",
       "<style scoped>\n",
       "    .dataframe tbody tr th:only-of-type {\n",
       "        vertical-align: middle;\n",
       "    }\n",
       "\n",
       "    .dataframe tbody tr th {\n",
       "        vertical-align: top;\n",
       "    }\n",
       "\n",
       "    .dataframe thead th {\n",
       "        text-align: right;\n",
       "    }\n",
       "</style>\n",
       "<table border=\"1\" class=\"dataframe\">\n",
       "  <thead>\n",
       "    <tr style=\"text-align: right;\">\n",
       "      <th></th>\n",
       "      <th>price_lac</th>\n",
       "      <th>area_sqft</th>\n",
       "      <th>bhk</th>\n",
       "      <th>bathrooms</th>\n",
       "      <th>balconies</th>\n",
       "      <th>floors</th>\n",
       "      <th>furnishing_type</th>\n",
       "      <th>location</th>\n",
       "      <th>property_type</th>\n",
       "    </tr>\n",
       "  </thead>\n",
       "  <tbody>\n",
       "    <tr>\n",
       "      <th>0</th>\n",
       "      <td>20.0</td>\n",
       "      <td>560.0</td>\n",
       "      <td>1</td>\n",
       "      <td>2.0</td>\n",
       "      <td>1</td>\n",
       "      <td>6</td>\n",
       "      <td>Unfurnished</td>\n",
       "      <td>Brahmavar</td>\n",
       "      <td>Apartment</td>\n",
       "    </tr>\n",
       "    <tr>\n",
       "      <th>1</th>\n",
       "      <td>20.0</td>\n",
       "      <td>600.0</td>\n",
       "      <td>1</td>\n",
       "      <td>1.0</td>\n",
       "      <td>1</td>\n",
       "      <td>4</td>\n",
       "      <td>Unfurnished</td>\n",
       "      <td>Doddanagudde</td>\n",
       "      <td>Apartment</td>\n",
       "    </tr>\n",
       "    <tr>\n",
       "      <th>2</th>\n",
       "      <td>20.0</td>\n",
       "      <td>600.0</td>\n",
       "      <td>1</td>\n",
       "      <td>1.0</td>\n",
       "      <td>1</td>\n",
       "      <td>4</td>\n",
       "      <td>Unfurnished</td>\n",
       "      <td>Doddanagudde</td>\n",
       "      <td>Apartment</td>\n",
       "    </tr>\n",
       "    <tr>\n",
       "      <th>3</th>\n",
       "      <td>12.0</td>\n",
       "      <td>605.0</td>\n",
       "      <td>2</td>\n",
       "      <td>2.0</td>\n",
       "      <td>1</td>\n",
       "      <td>4</td>\n",
       "      <td>Semi furnished</td>\n",
       "      <td>Indrali</td>\n",
       "      <td>Apartment</td>\n",
       "    </tr>\n",
       "    <tr>\n",
       "      <th>4</th>\n",
       "      <td>15.0</td>\n",
       "      <td>605.0</td>\n",
       "      <td>2</td>\n",
       "      <td>2.0</td>\n",
       "      <td>1</td>\n",
       "      <td>4</td>\n",
       "      <td>Semi furnished</td>\n",
       "      <td>Indrali</td>\n",
       "      <td>Apartment</td>\n",
       "    </tr>\n",
       "    <tr>\n",
       "      <th>5</th>\n",
       "      <td>19.0</td>\n",
       "      <td>605.0</td>\n",
       "      <td>2</td>\n",
       "      <td>2.0</td>\n",
       "      <td>0</td>\n",
       "      <td>1</td>\n",
       "      <td>Unfurnished</td>\n",
       "      <td>Indrali</td>\n",
       "      <td>Apartment</td>\n",
       "    </tr>\n",
       "    <tr>\n",
       "      <th>6</th>\n",
       "      <td>17.0</td>\n",
       "      <td>612.0</td>\n",
       "      <td>2</td>\n",
       "      <td>NaN</td>\n",
       "      <td>0</td>\n",
       "      <td>3</td>\n",
       "      <td>NaN</td>\n",
       "      <td>Indrali</td>\n",
       "      <td>Apartment</td>\n",
       "    </tr>\n",
       "    <tr>\n",
       "      <th>7</th>\n",
       "      <td>16.0</td>\n",
       "      <td>620.0</td>\n",
       "      <td>2</td>\n",
       "      <td>2.0</td>\n",
       "      <td>0</td>\n",
       "      <td>1</td>\n",
       "      <td>Furnished</td>\n",
       "      <td>Indrali</td>\n",
       "      <td>Apartment</td>\n",
       "    </tr>\n",
       "    <tr>\n",
       "      <th>8</th>\n",
       "      <td>12.0</td>\n",
       "      <td>650.0</td>\n",
       "      <td>2</td>\n",
       "      <td>2.0</td>\n",
       "      <td>1</td>\n",
       "      <td>4</td>\n",
       "      <td>Semi furnished</td>\n",
       "      <td>Indrali</td>\n",
       "      <td>Apartment</td>\n",
       "    </tr>\n",
       "    <tr>\n",
       "      <th>9</th>\n",
       "      <td>20.0</td>\n",
       "      <td>650.0</td>\n",
       "      <td>2</td>\n",
       "      <td>2.0</td>\n",
       "      <td>1</td>\n",
       "      <td>4</td>\n",
       "      <td>Semi furnished</td>\n",
       "      <td>Indrali</td>\n",
       "      <td>Apartment</td>\n",
       "    </tr>\n",
       "  </tbody>\n",
       "</table>\n",
       "</div>"
      ],
      "text/plain": [
       "   price_lac  area_sqft  bhk  bathrooms  balconies  floors furnishing_type  \\\n",
       "0       20.0      560.0    1        2.0          1       6     Unfurnished   \n",
       "1       20.0      600.0    1        1.0          1       4     Unfurnished   \n",
       "2       20.0      600.0    1        1.0          1       4     Unfurnished   \n",
       "3       12.0      605.0    2        2.0          1       4  Semi furnished   \n",
       "4       15.0      605.0    2        2.0          1       4  Semi furnished   \n",
       "5       19.0      605.0    2        2.0          0       1     Unfurnished   \n",
       "6       17.0      612.0    2        NaN          0       3             NaN   \n",
       "7       16.0      620.0    2        2.0          0       1       Furnished   \n",
       "8       12.0      650.0    2        2.0          1       4  Semi furnished   \n",
       "9       20.0      650.0    2        2.0          1       4  Semi furnished   \n",
       "\n",
       "       location property_type  \n",
       "0     Brahmavar     Apartment  \n",
       "1  Doddanagudde     Apartment  \n",
       "2  Doddanagudde     Apartment  \n",
       "3       Indrali     Apartment  \n",
       "4       Indrali     Apartment  \n",
       "5       Indrali     Apartment  \n",
       "6       Indrali     Apartment  \n",
       "7       Indrali     Apartment  \n",
       "8       Indrali     Apartment  \n",
       "9       Indrali     Apartment  "
      ]
     },
     "execution_count": 1,
     "metadata": {},
     "output_type": "execute_result"
    }
   ],
   "source": [
    "import pandas as pd\n",
    "#Loading our dataset using read_csv function of pandas\n",
    "df = pd.read_csv('Housing_Data.csv')\n",
    "#Inspecting the first 10 rows of the dataset\n",
    "df.head(10)"
   ]
  },
  {
   "cell_type": "code",
   "execution_count": 2,
   "id": "0c82d480",
   "metadata": {},
   "outputs": [
    {
     "name": "stdout",
     "output_type": "stream",
     "text": [
      "price_lac          0\n",
      "area_sqft          2\n",
      "bhk                0\n",
      "bathrooms          3\n",
      "balconies          0\n",
      "floors             0\n",
      "furnishing_type    2\n",
      "location           0\n",
      "property_type      0\n",
      "dtype: int64\n"
     ]
    }
   ],
   "source": [
    "print(df.isnull().sum())"
   ]
  },
  {
   "cell_type": "code",
   "execution_count": 3,
   "id": "fc7766d1",
   "metadata": {},
   "outputs": [],
   "source": [
    "#We replace missing values of bathrooms column with mode as it is a categorical variable\n",
    "df['bathrooms'].fillna(df.bathrooms.mode()[0],inplace=True)\n",
    "#We replace missing values of area_sqft column with mode as it is a numerical variable\n",
    "df['area_sqft'].fillna(df.area_sqft.mean(),inplace=True)\n",
    "#We replace missing values of furnishing_type column with mode as it is a categorical variable\n",
    "df['furnishing_type'].fillna(df.furnishing_type.mode()[0],inplace=True)"
   ]
  },
  {
   "cell_type": "code",
   "execution_count": 4,
   "id": "7b81609d",
   "metadata": {},
   "outputs": [
    {
     "data": {
      "text/html": [
       "<div>\n",
       "<style scoped>\n",
       "    .dataframe tbody tr th:only-of-type {\n",
       "        vertical-align: middle;\n",
       "    }\n",
       "\n",
       "    .dataframe tbody tr th {\n",
       "        vertical-align: top;\n",
       "    }\n",
       "\n",
       "    .dataframe thead th {\n",
       "        text-align: right;\n",
       "    }\n",
       "</style>\n",
       "<table border=\"1\" class=\"dataframe\">\n",
       "  <thead>\n",
       "    <tr style=\"text-align: right;\">\n",
       "      <th></th>\n",
       "      <th>price_lac</th>\n",
       "      <th>area_sqft</th>\n",
       "      <th>bhk</th>\n",
       "      <th>bathrooms</th>\n",
       "      <th>balconies</th>\n",
       "      <th>floors</th>\n",
       "    </tr>\n",
       "  </thead>\n",
       "  <tbody>\n",
       "    <tr>\n",
       "      <th>count</th>\n",
       "      <td>94.000000</td>\n",
       "      <td>94.000000</td>\n",
       "      <td>94.000000</td>\n",
       "      <td>94.000000</td>\n",
       "      <td>94.000000</td>\n",
       "      <td>94.000000</td>\n",
       "    </tr>\n",
       "    <tr>\n",
       "      <th>mean</th>\n",
       "      <td>56.486277</td>\n",
       "      <td>1908.065217</td>\n",
       "      <td>2.446809</td>\n",
       "      <td>2.244681</td>\n",
       "      <td>1.127660</td>\n",
       "      <td>3.882979</td>\n",
       "    </tr>\n",
       "    <tr>\n",
       "      <th>std</th>\n",
       "      <td>38.841617</td>\n",
       "      <td>1467.322738</td>\n",
       "      <td>0.862816</td>\n",
       "      <td>0.799007</td>\n",
       "      <td>0.870472</td>\n",
       "      <td>2.816451</td>\n",
       "    </tr>\n",
       "    <tr>\n",
       "      <th>min</th>\n",
       "      <td>12.000000</td>\n",
       "      <td>560.000000</td>\n",
       "      <td>1.000000</td>\n",
       "      <td>1.000000</td>\n",
       "      <td>0.000000</td>\n",
       "      <td>1.000000</td>\n",
       "    </tr>\n",
       "    <tr>\n",
       "      <th>25%</th>\n",
       "      <td>31.000000</td>\n",
       "      <td>1000.000000</td>\n",
       "      <td>2.000000</td>\n",
       "      <td>2.000000</td>\n",
       "      <td>0.000000</td>\n",
       "      <td>2.000000</td>\n",
       "    </tr>\n",
       "    <tr>\n",
       "      <th>50%</th>\n",
       "      <td>48.000000</td>\n",
       "      <td>1460.000000</td>\n",
       "      <td>2.000000</td>\n",
       "      <td>2.000000</td>\n",
       "      <td>1.000000</td>\n",
       "      <td>3.000000</td>\n",
       "    </tr>\n",
       "    <tr>\n",
       "      <th>75%</th>\n",
       "      <td>63.000000</td>\n",
       "      <td>2344.500000</td>\n",
       "      <td>3.000000</td>\n",
       "      <td>2.000000</td>\n",
       "      <td>2.000000</td>\n",
       "      <td>5.000000</td>\n",
       "    </tr>\n",
       "    <tr>\n",
       "      <th>max</th>\n",
       "      <td>180.000000</td>\n",
       "      <td>8720.000000</td>\n",
       "      <td>5.000000</td>\n",
       "      <td>5.000000</td>\n",
       "      <td>3.000000</td>\n",
       "      <td>12.000000</td>\n",
       "    </tr>\n",
       "  </tbody>\n",
       "</table>\n",
       "</div>"
      ],
      "text/plain": [
       "        price_lac    area_sqft        bhk  bathrooms  balconies     floors\n",
       "count   94.000000    94.000000  94.000000  94.000000  94.000000  94.000000\n",
       "mean    56.486277  1908.065217   2.446809   2.244681   1.127660   3.882979\n",
       "std     38.841617  1467.322738   0.862816   0.799007   0.870472   2.816451\n",
       "min     12.000000   560.000000   1.000000   1.000000   0.000000   1.000000\n",
       "25%     31.000000  1000.000000   2.000000   2.000000   0.000000   2.000000\n",
       "50%     48.000000  1460.000000   2.000000   2.000000   1.000000   3.000000\n",
       "75%     63.000000  2344.500000   3.000000   2.000000   2.000000   5.000000\n",
       "max    180.000000  8720.000000   5.000000   5.000000   3.000000  12.000000"
      ]
     },
     "execution_count": 4,
     "metadata": {},
     "output_type": "execute_result"
    }
   ],
   "source": [
    "#Function to describe the dataset with basic summary statistics\n",
    "df.describe()\n",
    "#To include categorical variables in the output \n",
    "#df.describe(include = 'all')"
   ]
  },
  {
   "cell_type": "code",
   "execution_count": 5,
   "id": "17db44cd",
   "metadata": {},
   "outputs": [
    {
     "name": "stdout",
     "output_type": "stream",
     "text": [
      "56.486276595744684\n"
     ]
    }
   ],
   "source": [
    "#MEAN - The average value of the variable, calculated as the sum of all values divided by the number of values\n",
    "mean_price = df.price_lac.mean()\n",
    "print(mean_price)\n",
    "#Output = 56.48"
   ]
  },
  {
   "cell_type": "code",
   "execution_count": 6,
   "id": "68f80a3e",
   "metadata": {},
   "outputs": [
    {
     "name": "stdout",
     "output_type": "stream",
     "text": [
      "55.0\n"
     ]
    }
   ],
   "source": [
    "#MODE - The middle value of the variable when sorted\n",
    "mode_price = df.price_lac.mode()[0]\n",
    "print(mode_price)\n",
    "#Output = 55"
   ]
  },
  {
   "cell_type": "code",
   "execution_count": 7,
   "id": "70d82a6b",
   "metadata": {},
   "outputs": [
    {
     "name": "stdout",
     "output_type": "stream",
     "text": [
      "48.0\n"
     ]
    }
   ],
   "source": [
    "#MEDIAN - The most frequent value of the variable.\n",
    "median_price = df.price_lac.median()\n",
    "print(median_price)\n",
    "#Output = 48"
   ]
  },
  {
   "cell_type": "code",
   "execution_count": 8,
   "id": "52fe2987",
   "metadata": {},
   "outputs": [
    {
     "name": "stdout",
     "output_type": "stream",
     "text": [
      "168.0\n"
     ]
    }
   ],
   "source": [
    "#RANGE - The difference between the maximum and minimum values of a variable\n",
    "range_price = df.price_lac.max() - df.price_lac.min()\n",
    "print(range_price)\n",
    "#Output = 81000"
   ]
  },
  {
   "cell_type": "code",
   "execution_count": 9,
   "id": "b20353e4",
   "metadata": {},
   "outputs": [
    {
     "name": "stdout",
     "output_type": "stream",
     "text": [
      "32.0\n"
     ]
    }
   ],
   "source": [
    "#InterQuartile Range(IQR) - The difference between the 75th and 25th percentile values.\n",
    "#We import iqr function from scipy stats to calculate iqr value for the variable\n",
    "from scipy.stats import iqr\n",
    "iqr_price = iqr(df.price_lac)\n",
    "print(iqr_price)\n",
    "#Output = 32"
   ]
  },
  {
   "cell_type": "code",
   "execution_count": 10,
   "id": "7afed792",
   "metadata": {},
   "outputs": [
    {
     "name": "stdout",
     "output_type": "stream",
     "text": [
      "1508.6712343742852\n"
     ]
    }
   ],
   "source": [
    "#Variance - The average of the squared distance from each data point to the mean\n",
    "var_price_lac = df.price_lac.var()\n",
    "print(var_price_lac)\n",
    "#Output = 1508.67"
   ]
  },
  {
   "cell_type": "code",
   "execution_count": 11,
   "id": "15b6c402",
   "metadata": {},
   "outputs": [
    {
     "name": "stdout",
     "output_type": "stream",
     "text": [
      "38.84161729864354\n"
     ]
    }
   ],
   "source": [
    "#Standard deviation - Square root of variance\n",
    "stddev_price_lac = df.price_lac.std()\n",
    "print(stddev_price_lac)\n",
    "#Output = 38.84"
   ]
  },
  {
   "cell_type": "code",
   "execution_count": 12,
   "id": "8974c87e",
   "metadata": {},
   "outputs": [
    {
     "name": "stdout",
     "output_type": "stream",
     "text": [
      "27.448225441376202\n"
     ]
    }
   ],
   "source": [
    "#Mean absolute deviation (MAD) - The mean absolute value of the distance between each data point and the mean.\n",
    "mad_price_lac = df.price_lac.mad()\n",
    "print(mad_price_lac)\n",
    "#Output = 27.44"
   ]
  },
  {
   "cell_type": "code",
   "execution_count": 13,
   "id": "5ef80d55",
   "metadata": {},
   "outputs": [
    {
     "data": {
      "image/png": "[encoded data removed]",
      "text/plain": [
       "<Figure size 2400x1600 with 1 Axes>"
      ]
     },
     "metadata": {},
     "output_type": "display_data"
    }
   ],
   "source": [
    "#Plotting Histogram\n",
    "from matplotlib.pyplot import figure\n",
    "import matplotlib.pyplot as plt\n",
    "import seaborn as sns\n",
    "#Setting figure dimensions\n",
    "figure(figsize=(6, 4), dpi=400)\n",
    "#Plotting histogram\n",
    "sns.histplot(x = 'price_lac', data = df, color = 'Blue')\n",
    "plt.show()\n",
    "plt.close()"
   ]
  },
  {
   "cell_type": "code",
   "execution_count": 14,
   "id": "c07cbcf3",
   "metadata": {},
   "outputs": [
    {
     "data": {
      "image/png": "[encoded data removed]",
      "text/plain": [
       "<Figure size 1200x800 with 1 Axes>"
      ]
     },
     "metadata": {},
     "output_type": "display_data"
    }
   ],
   "source": [
    "#Plotting Boxplot\n",
    "from matplotlib.pyplot import figure\n",
    "import seaborn as sns\n",
    "#Setting color palette\n",
    "sns.set_palette(\"BuPu\")\n",
    "#Setting figure dimensions\n",
    "figure(figsize=(6, 4), dpi=200)\n",
    "#Plotting boxplot\n",
    "sns.boxplot(x = 'price_lac', data = df)\n",
    "plt.show()\n",
    "plt.close()"
   ]
  },
  {
   "cell_type": "code",
   "execution_count": 15,
   "id": "5ebe7c24",
   "metadata": {},
   "outputs": [
    {
     "data": {
      "text/plain": [
       "'Apartment'"
      ]
     },
     "execution_count": 15,
     "metadata": {},
     "output_type": "execute_result"
    }
   ],
   "source": [
    "df.property_type.mode()[0]"
   ]
  },
  {
   "cell_type": "code",
   "execution_count": 16,
   "id": "5045a437",
   "metadata": {},
   "outputs": [
    {
     "name": "stdout",
     "output_type": "stream",
     "text": [
      "Apartment            55\n",
      "Independent house    37\n",
      "Builder floor         2\n",
      "Name: property_type, dtype: int64\n"
     ]
    }
   ],
   "source": [
    "count_propty_type = df.property_type.value_counts()\n",
    "print(count_propty_type)"
   ]
  },
  {
   "cell_type": "code",
   "execution_count": 17,
   "id": "7c9a1474",
   "metadata": {},
   "outputs": [
    {
     "name": "stdout",
     "output_type": "stream",
     "text": [
      "Apartment            0.585106\n",
      "Independent house    0.393617\n",
      "Builder floor        0.021277\n",
      "Name: property_type, dtype: float64\n"
     ]
    }
   ],
   "source": [
    "prop_propty_type = df.property_type.value_counts(normalize = True)\n",
    "print(prop_propty_type)"
   ]
  },
  {
   "cell_type": "code",
   "execution_count": 18,
   "id": "eb48b1f0",
   "metadata": {},
   "outputs": [
    {
     "data": {
      "image/png": "[encoded data removed]",
      "text/plain": [
       "<Figure size 1200x800 with 1 Axes>"
      ]
     },
     "metadata": {},
     "output_type": "display_data"
    }
   ],
   "source": [
    "from matplotlib.pyplot import figure\n",
    "import seaborn as sns\n",
    "figure(figsize=(6, 4), dpi=200)\n",
    "#Setting the color sche,e for the histplot\n",
    "sns.set_palette(\"BuPu_r\")\n",
    "#Calling countplot function from seaborn to visualize frequency of race\n",
    "sns.countplot(data = df, x = 'property_type')\n",
    "plt.show()\n",
    "plt.close()"
   ]
  },
  {
   "cell_type": "code",
   "execution_count": null,
   "id": "f0f68ad8",
   "metadata": {},
   "outputs": [],
   "source": []
  }
 ],
 "metadata": {
  "kernelspec": {
   "display_name": "Python 3 (ipykernel)",
   "language": "python",
   "name": "python3"
  },
  "language_info": {
   "codemirror_mode": {
    "name": "ipython",
    "version": 3
   },
   "file_extension": ".py",
   "mimetype": "text/x-python",
   "name": "python",
   "nbconvert_exporter": "python",
   "pygments_lexer": "ipython3",
   "version": "3.9.15"
  },
  "toc": {
   "base_numbering": 1,
   "nav_menu": {},
   "number_sections": true,
   "sideBar": true,
   "skip_h1_title": false,
   "title_cell": "Table of Contents",
   "title_sidebar": "Contents",
   "toc_cell": false,
   "toc_position": {},
   "toc_section_display": true,
   "toc_window_display": false
  }
 },
 "nbformat": 4,
 "nbformat_minor": 5
}
