{
 "cells": [
  {
   "cell_type": "markdown",
   "id": "00d9ba83",
   "metadata": {},
   "source": [
    "https://towardsdatascience.com/5-elegant-python-pandas-functions-a4bf395ebef4"
   ]
  },
  {
   "cell_type": "code",
   "execution_count": 3,
   "id": "3c682179",
   "metadata": {},
   "outputs": [
    {
     "name": "stdout",
     "output_type": "stream",
     "text": [
      "   DATE  VOLUME  PRICE\n",
      "0     1     100    214\n",
      "1     2     200    234\n",
      "2     3     300    253\n",
      "3     4     400    272\n",
      "4     5     500    291\n",
      "   DATE  VOLUME  PRICE\n",
      "0   NaN     NaN    NaN\n",
      "1   1.0   100.0  214.0\n",
      "2   2.0   200.0  234.0\n",
      "3   3.0   300.0  253.0\n",
      "4   4.0   400.0  272.0\n",
      "   DATE  VOLUME  PRICE\n",
      "0     0       0      0\n",
      "1     1     100    214\n",
      "2     2     200    234\n",
      "3     3     300    253\n",
      "4     4     400    272\n"
     ]
    }
   ],
   "source": [
    "import pandas as pd\n",
    "import numpy as np\n",
    "df = pd.DataFrame({'DATE': [1, 2, 3, 4, 5],\n",
    "                   'VOLUME': [100, 200, 300,400,500],\n",
    "                   'PRICE': [214, 234, 253,272,291]})\n",
    "print(df)\n",
    "\n",
    "print(df.shift(1))\n",
    "\n",
    "print(df.shift(1,fill_value=0))\n"
   ]
  },
  {
   "cell_type": "code",
   "execution_count": 4,
   "id": "eb8a4f28",
   "metadata": {},
   "outputs": [
    {
     "name": "stdout",
     "output_type": "stream",
     "text": [
      "   DATE  VOLUME  PRICE  PREV_DAY_PRICE\n",
      "0     1     100    214               0\n",
      "1     2     200    234             214\n",
      "2     3     300    253             234\n",
      "3     4     400    272             253\n",
      "4     5     500    291             272\n"
     ]
    }
   ],
   "source": [
    "df['PREV_DAY_PRICE'] = df['PRICE'].shift(1,fill_value=0)\n",
    "print(df)"
   ]
  },
  {
   "cell_type": "code",
   "execution_count": 6,
   "id": "e287e8ce",
   "metadata": {},
   "outputs": [
    {
     "name": "stdout",
     "output_type": "stream",
     "text": [
      "   DATE  VOLUME  PRICE  PREV_DAY_PRICE  LAST_3_DAYS_AVE_PRICE\n",
      "0     1     100    214               0               0.000000\n",
      "1     2     200    234             214              71.333333\n",
      "2     3     300    253             234             149.333333\n",
      "3     4     400    272             253             233.666667\n",
      "4     5     500    291             272             253.000000\n"
     ]
    }
   ],
   "source": [
    "df['LAST_3_DAYS_AVE_PRICE'] = (df['PRICE'].shift(1,fill_value=0) + \n",
    "                               df['PRICE'].shift(2,fill_value=0) + \n",
    "                               df['PRICE'].shift(3,fill_value=0))/3\n",
    "print(df)"
   ]
  },
  {
   "cell_type": "code",
   "execution_count": 8,
   "id": "7ad42ad3",
   "metadata": {},
   "outputs": [
    {
     "name": "stdout",
     "output_type": "stream",
     "text": [
      "   DATE  VOLUME  PRICE  PREV_DAY_PRICE  LAST_3_DAYS_AVE_PRICE  TOMORROW_PRICE\n",
      "0     1     100    214               0               0.000000             234\n",
      "1     2     200    234             214              71.333333             253\n",
      "2     3     300    253             234             149.333333             272\n",
      "3     4     400    272             253             233.666667             291\n",
      "4     5     500    291             272             253.000000               0\n"
     ]
    }
   ],
   "source": [
    "df['TOMORROW_PRICE'] = df['PRICE'].shift(-1,fill_value=0)\n",
    "print(df)"
   ]
  },
  {
   "cell_type": "code",
   "execution_count": 9,
   "id": "68c9e430",
   "metadata": {},
   "outputs": [
    {
     "data": {
      "text/plain": [
       "3.0    4\n",
       "4.0    3\n",
       "2.0    2\n",
       "1.0    2\n",
       "6.0    1\n",
       "7.0    1\n",
       "Name: count, dtype: int64"
      ]
     },
     "execution_count": 9,
     "metadata": {},
     "output_type": "execute_result"
    }
   ],
   "source": [
    "a = pd.Index([3,3,4,2,1,3, 1, 2, 3, 4, np.nan,4,6,7])\n",
    "a.value_counts()"
   ]
  },
  {
   "cell_type": "code",
   "execution_count": 10,
   "id": "43bea691",
   "metadata": {},
   "outputs": [
    {
     "data": {
      "text/plain": [
       "bc    3\n",
       "cd    3\n",
       "1     3\n",
       "ab    2\n",
       "2     2\n",
       "3     2\n",
       "Name: count, dtype: int64"
      ]
     },
     "execution_count": 10,
     "metadata": {},
     "output_type": "execute_result"
    }
   ],
   "source": [
    "b = pd.Series(['ab','bc','cd',1,'cd','cd','bc','ab','bc',1,2,3,2,3,np.nan,1,np.nan])\n",
    "b.value_counts()"
   ]
  },
  {
   "cell_type": "code",
   "execution_count": 13,
   "id": "e9c5fa8c",
   "metadata": {},
   "outputs": [
    {
     "data": {
      "text/plain": [
       "(2.5, 4.0]      7\n",
       "(0.993, 2.5]    4\n",
       "(5.5, 7.0]      2\n",
       "(4.0, 5.5]      0\n",
       "Name: count, dtype: int64"
      ]
     },
     "execution_count": 13,
     "metadata": {},
     "output_type": "execute_result"
    }
   ],
   "source": [
    "# Also includes normalize\n",
    "import numpy as np\n",
    "a = pd.Index([3,3,4,2,1,3, 1, 2, 3, 4, 4,6,7])\n",
    "a.value_counts(bins=4)"
   ]
  },
  {
   "cell_type": "code",
   "execution_count": 14,
   "id": "f2cd263f",
   "metadata": {},
   "outputs": [
    {
     "name": "stdout",
     "output_type": "stream",
     "text": [
      "    A   B   C\n",
      "0   0   1   2\n",
      "1   3   4   5\n",
      "2   6   7   8\n",
      "3   9  10  11\n",
      "4  12  13  14\n",
      "    A   B   C\n",
      "0   0   1  -2\n",
      "1   3  -4   5\n",
      "2  -6   7  -8\n",
      "3   9 -10  11\n",
      "4 -12  13 -14\n"
     ]
    }
   ],
   "source": [
    "df = pd.DataFrame(np.arange(15).reshape(-1, 3), columns=['A', 'B','C'])\n",
    "print(df)\n",
    "\n",
    "#mask operation to check if element is divided by 2 without any remainder. If match change the sign of the element as original\n",
    "print(df.mask(df % 2 == 0,-df))\n"
   ]
  },
  {
   "cell_type": "code",
   "execution_count": 15,
   "id": "2f6eb82d",
   "metadata": {},
   "outputs": [
    {
     "name": "stdout",
     "output_type": "stream",
     "text": [
      "   HEIGHT  WEIGHT\n",
      "A     170      50\n",
      "B      78      60\n",
      "C      99      70\n",
      "D     160      80\n",
      "E     160      90\n",
      "F     130      90\n",
      "G     155      90\n",
      "H      70      50\n",
      "I      70      60\n",
      "J      20      70\n",
      "   HEIGHT  WEIGHT\n",
      "A     170      50\n",
      "D     160      80\n",
      "E     160      90\n"
     ]
    }
   ],
   "source": [
    "import pandas as pd\n",
    "import numpy as np\n",
    "df = pd.DataFrame({'HEIGHT': [170,78,99,160,160,130,155,70,70,20],\n",
    "                   'WEIGHT': [50,60,70,80,90,90,90,50,60,70]},\n",
    "                   index=['A','B','C','D','E','F','G','H','I','J'])\n",
    "print(df)\n",
    "\n",
    "dfl = df.nlargest(3,'HEIGHT')\n",
    "print(dfl)\n"
   ]
  },
  {
   "cell_type": "code",
   "execution_count": 16,
   "id": "73af723b",
   "metadata": {},
   "outputs": [
    {
     "name": "stdout",
     "output_type": "stream",
     "text": [
      "   HEIGHT  WEIGHT\n",
      "A     170      50\n",
      "D     160      80\n",
      "E     160      90\n"
     ]
    }
   ],
   "source": [
    "dfl = df.nlargest(2,'HEIGHT',keep='all')\n",
    "print(dfl)"
   ]
  },
  {
   "cell_type": "code",
   "execution_count": 17,
   "id": "f6d92cac",
   "metadata": {},
   "outputs": [
    {
     "name": "stdout",
     "output_type": "stream",
     "text": [
      "   HEIGHT  WEIGHT\n",
      "A     170      50\n",
      "E     160      90\n"
     ]
    }
   ],
   "source": [
    "dfl = df.nlargest(2,'HEIGHT',keep='last')\n",
    "print(dfl)"
   ]
  },
  {
   "cell_type": "code",
   "execution_count": 18,
   "id": "3013b4ee",
   "metadata": {},
   "outputs": [
    {
     "name": "stdout",
     "output_type": "stream",
     "text": [
      "   HEIGHT  WEIGHT\n",
      "A     170      50\n",
      "D     160      80\n"
     ]
    }
   ],
   "source": [
    "dfl = df.nlargest(2,'HEIGHT',keep='first')\n",
    "print(dfl)"
   ]
  },
  {
   "cell_type": "code",
   "execution_count": 19,
   "id": "a08f5ab0",
   "metadata": {},
   "outputs": [
    {
     "name": "stdout",
     "output_type": "stream",
     "text": [
      "   HEIGHT  WEIGHT\n",
      "A     170      50\n",
      "B      78      60\n",
      "C      99      70\n",
      "D     160      80\n",
      "E     160      90\n",
      "F     130      90\n",
      "G     155      90\n",
      "H      70      50\n",
      "I      70      60\n",
      "J      20      70\n",
      "   HEIGHT  WEIGHT\n",
      "A     170      50\n",
      "H      70      50\n",
      "B      78      60\n"
     ]
    }
   ],
   "source": [
    "import pandas as pd\n",
    "import numpy as np\n",
    "df = pd.DataFrame({'HEIGHT': [170,78,99,160,160,130,155,70,70,20],\n",
    "                   'WEIGHT': [50,60,70,80,90,90,90,50,60,70]},\n",
    "                   index=['A','B','C','D','E','F','G','H','I','J'])\n",
    "print(df)\n",
    "dfs = df.nsmallest(3,'WEIGHT')\n",
    "print(dfs)"
   ]
  }
 ],
 "metadata": {
  "kernelspec": {
   "display_name": "Python 3 (ipykernel)",
   "language": "python",
   "name": "python3"
  },
  "language_info": {
   "codemirror_mode": {
    "name": "ipython",
    "version": 3
   },
   "file_extension": ".py",
   "mimetype": "text/x-python",
   "name": "python",
   "nbconvert_exporter": "python",
   "pygments_lexer": "ipython3",
   "version": "3.9.7"
  }
 },
 "nbformat": 4,
 "nbformat_minor": 5
}
