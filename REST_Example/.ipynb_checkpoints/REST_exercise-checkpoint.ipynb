{
 "cells": [
  {
   "cell_type": "markdown",
   "id": "urban-territory",
   "metadata": {},
   "source": [
    "### Solutions"
   ]
  },
  {
   "cell_type": "markdown",
   "id": "computational-fitness",
   "metadata": {},
   "source": [
    "#### Question 1"
   ]
  },
  {
   "cell_type": "markdown",
   "id": "coral-lending",
   "metadata": {},
   "source": [
    "Use the `pytz` and `dateutil` libraries to convert this string into a UTC naive `datetime` object."
   ]
  },
  {
   "cell_type": "code",
   "execution_count": 23,
   "id": "formal-ability",
   "metadata": {},
   "outputs": [
    {
     "name": "stdout",
     "output_type": "stream",
     "text": [
      "2021-02-08 17:30:00\n",
      "None\n",
      "2021-02-08 17:30:00 2021-02-08 17:30:00-07:00\n"
     ]
    },
    {
     "data": {
      "text/plain": [
       "datetime.datetime(2021, 2, 9, 0, 30)"
      ]
     },
     "execution_count": 23,
     "metadata": {},
     "output_type": "execute_result"
    }
   ],
   "source": [
    "t = \"Feb 8, 2021 5:30pm (Denver Time)\"\n",
    "import pandas as pd\n",
    "import pytz\n",
    "from dateutil import parser\n",
    "tz = pytz.timezone('US/Mountain')\n",
    "dt_naive,_ = parser.parse(t,fuzzy_with_tokens=True)\n",
    "print(dt_naive)\n",
    "print(dt_naive.tzinfo)\n",
    "\n",
    "zig=[tz for tz in pytz.all_timezones if 'Denver' in tz]\n",
    "tz_denver=pytz.timezone('America/Denver')\n",
    "dt_aware = tz_denver.localize(dt_naive)\n",
    "print(dt_naive,dt_aware)\n",
    "dt_utc = dt_aware.astimezone(pytz.UTC)\n",
    "dt_utc\n",
    "dt = dt_utc.replace(tzinfo=None)\n",
    "dt"
   ]
  },
  {
   "cell_type": "markdown",
   "id": "amended-illustration",
   "metadata": {},
   "source": [
    "#### Question 2"
   ]
  },
  {
   "cell_type": "markdown",
   "id": "massive-input",
   "metadata": {},
   "source": [
    "Use the `requests` library to load the following html page:"
   ]
  },
  {
   "cell_type": "code",
   "execution_count": 2,
   "id": "understanding-softball",
   "metadata": {},
   "outputs": [],
   "source": [
    "url = 'https://en.wikipedia.org/wiki/John_von_Neumann'"
   ]
  },
  {
   "cell_type": "markdown",
   "id": "systematic-shock",
   "metadata": {},
   "source": [
    "Once you have loaded that page, extract the title of that page, which is the text located between the `<title>` and `</title>` tags (often referred to as opening and closing tags, or start and end tags, respectively)."
   ]
  },
  {
   "cell_type": "markdown",
   "id": "equivalent-divide",
   "metadata": {},
   "source": [
    "Hint: You'll want to read the Python docs for the `find` method available for strings:\n",
    "\n",
    "https://docs.python.org/3/library/stdtypes.html?highlight=string#str.find"
   ]
  },
  {
   "cell_type": "markdown",
   "id": "declared-appreciation",
   "metadata": {},
   "source": [
    "#### Question 3"
   ]
  },
  {
   "cell_type": "markdown",
   "id": "fifth-strength",
   "metadata": {},
   "source": [
    "Use a `GET` request to this URL:"
   ]
  },
  {
   "cell_type": "code",
   "execution_count": 3,
   "id": "coordinated-lounge",
   "metadata": {},
   "outputs": [],
   "source": [
    "url = 'https://httpbin.org/json'"
   ]
  },
  {
   "cell_type": "markdown",
   "id": "gross-vatican",
   "metadata": {},
   "source": [
    "Use the response from that request to:\n",
    "- determine the response format\n",
    "- extract the response into a Python object"
   ]
  },
  {
   "cell_type": "markdown",
   "id": "molecular-click",
   "metadata": {},
   "source": [
    "#### Question 4"
   ]
  },
  {
   "cell_type": "markdown",
   "id": "transsexual-simple",
   "metadata": {},
   "source": [
    "Use a `POST` request to call this url:"
   ]
  },
  {
   "cell_type": "code",
   "execution_count": 4,
   "id": "funky-mistress",
   "metadata": {},
   "outputs": [],
   "source": [
    "url = 'https://httpbin.org/anything'"
   ]
  },
  {
   "cell_type": "markdown",
   "id": "diverse-alpha",
   "metadata": {},
   "source": [
    "Make this call passing the following query parameters: `a=1` and `b=2`"
   ]
  },
  {
   "cell_type": "markdown",
   "id": "early-reminder",
   "metadata": {},
   "source": [
    "Also, pass this dictionary as the body of the post request:"
   ]
  },
  {
   "cell_type": "code",
   "execution_count": 5,
   "id": "excessive-mouth",
   "metadata": {},
   "outputs": [],
   "source": [
    "data = {\n",
    "    'x': 100,\n",
    "    'y': 200,\n",
    "    'z': ['a', 'b', 'c']\n",
    "}"
   ]
  },
  {
   "cell_type": "markdown",
   "id": "announced-discharge",
   "metadata": {},
   "source": [
    "Load the returned JSON into a Python object and print it out."
   ]
  }
 ],
 "metadata": {
  "kernelspec": {
   "display_name": "Python 3 (ipykernel)",
   "language": "python",
   "name": "python3"
  },
  "language_info": {
   "codemirror_mode": {
    "name": "ipython",
    "version": 3
   },
   "file_extension": ".py",
   "mimetype": "text/x-python",
   "name": "python",
   "nbconvert_exporter": "python",
   "pygments_lexer": "ipython3",
   "version": "3.9.15"
  },
  "toc": {
   "base_numbering": 1,
   "nav_menu": {},
   "number_sections": true,
   "sideBar": true,
   "skip_h1_title": false,
   "title_cell": "Table of Contents",
   "title_sidebar": "Contents",
   "toc_cell": false,
   "toc_position": {},
   "toc_section_display": true,
   "toc_window_display": false
  }
 },
 "nbformat": 4,
 "nbformat_minor": 5
}
