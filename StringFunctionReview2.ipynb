{
 "cells": [
  {
   "cell_type": "markdown",
   "id": "66972cc6",
   "metadata": {},
   "source": [
    "https://medium.com/@ernestasena/python-string-methods-unveiled-part-two-4595cc22d90b"
   ]
  },
  {
   "cell_type": "code",
   "execution_count": 1,
   "id": "172a41bd",
   "metadata": {},
   "outputs": [
    {
     "name": "stdout",
     "output_type": "stream",
     "text": [
      "['To', 'be', 'or', 'not', 'to', 'be.']\n"
     ]
    }
   ],
   "source": [
    "sentence = \"To be or not to be.\"\n",
    "words = sentence.split()\n",
    "print(words)  # Output: ['To', 'be', 'or', 'not', 'to', 'be.']"
   ]
  },
  {
   "cell_type": "code",
   "execution_count": 2,
   "id": "2bff1401",
   "metadata": {},
   "outputs": [
    {
     "name": "stdout",
     "output_type": "stream",
     "text": [
      "Python is awesome!\n"
     ]
    }
   ],
   "source": [
    "words = [\"Python\", \"is\", \"awesome!\"]\n",
    "sentence = \" \".join(words)\n",
    "print(sentence)  \n",
    "# Output: \"Python is awesome!\""
   ]
  },
  {
   "cell_type": "code",
   "execution_count": 4,
   "id": "681fe7a2",
   "metadata": {},
   "outputs": [
    {
     "name": "stdout",
     "output_type": "stream",
     "text": [
      "7\n"
     ]
    }
   ],
   "source": [
    "message = \"A      needle in a haystack.\"\n",
    "index = message.find(\"needle\")\n",
    "print(index)  \n",
    "# Output: 2"
   ]
  },
  {
   "cell_type": "code",
   "execution_count": 5,
   "id": "27dacbd9",
   "metadata": {},
   "outputs": [
    {
     "name": "stdout",
     "output_type": "stream",
     "text": [
      "25\n"
     ]
    }
   ],
   "source": [
    "message = \"The final word. The very final word.\"\n",
    "index = message.rfind(\"final\")\n",
    "print(index)  \n",
    "# Output: 25"
   ]
  },
  {
   "cell_type": "code",
   "execution_count": 6,
   "id": "a5d87542",
   "metadata": {},
   "outputs": [
    {
     "name": "stdout",
     "output_type": "stream",
     "text": [
      "14\n"
     ]
    }
   ],
   "source": [
    "message = \"In pursuit of knowledge.\"\n",
    "index = message.index(\"knowledge\")\n",
    "print(index)  \n",
    "# Output: 14"
   ]
  },
  {
   "cell_type": "code",
   "execution_count": 7,
   "id": "a0611ba1",
   "metadata": {},
   "outputs": [
    {
     "name": "stdout",
     "output_type": "stream",
     "text": [
      "2\n"
     ]
    }
   ],
   "source": [
    "message = \"How many times does 'times' appear?\"\n",
    "count = message.count(\"times\")\n",
    "print(count)  \n",
    "# Output: 2"
   ]
  },
  {
   "cell_type": "code",
   "execution_count": 8,
   "id": "79b0f3be",
   "metadata": {},
   "outputs": [
    {
     "name": "stdout",
     "output_type": "stream",
     "text": [
      "True\n"
     ]
    }
   ],
   "source": [
    "alphanumeric = \"Python42\"\n",
    "is_alphanumeric = alphanumeric.isalnum()\n",
    "print(is_alphanumeric)  \n",
    "# Output: True"
   ]
  },
  {
   "cell_type": "code",
   "execution_count": 9,
   "id": "7483ceea",
   "metadata": {},
   "outputs": [
    {
     "name": "stdout",
     "output_type": "stream",
     "text": [
      "True\n"
     ]
    }
   ],
   "source": [
    "alphabetic = \"Python\"\n",
    "is_alphabetic = alphabetic.isalpha()\n",
    "print(is_alphabetic)  \n",
    "# Output: True"
   ]
  },
  {
   "cell_type": "code",
   "execution_count": null,
   "id": "eef8c9e9",
   "metadata": {},
   "outputs": [],
   "source": [
    "numeric = \"12345\"\n",
    "is_numeric = numeric.isdigit()\n",
    "print(is_numeric)  \n",
    "# Output: True\n"
   ]
  },
  {
   "cell_type": "code",
   "execution_count": 10,
   "id": "f02a5785",
   "metadata": {},
   "outputs": [
    {
     "name": "stdout",
     "output_type": "stream",
     "text": [
      "True\n"
     ]
    }
   ],
   "source": [
    "lowercase = \"python\"\n",
    "is_lowercase = lowercase.islower()\n",
    "print(is_lowercase)  \n",
    "# Output: True"
   ]
  },
  {
   "cell_type": "code",
   "execution_count": 11,
   "id": "a15a9bcb",
   "metadata": {},
   "outputs": [
    {
     "name": "stdout",
     "output_type": "stream",
     "text": [
      "True\n"
     ]
    }
   ],
   "source": [
    "uppercase = \"PYTHON\"\n",
    "is_uppercase = uppercase.isupper()\n",
    "print(is_uppercase)  \n",
    "# Output: True"
   ]
  },
  {
   "cell_type": "code",
   "execution_count": 12,
   "id": "144ac6e3",
   "metadata": {},
   "outputs": [
    {
     "name": "stdout",
     "output_type": "stream",
     "text": [
      "True\n"
     ]
    }
   ],
   "source": [
    "numeric = \"42\"\n",
    "is_numeric = numeric.isnumeric()\n",
    "print(is_numeric)  \n",
    "# Output: True"
   ]
  },
  {
   "cell_type": "code",
   "execution_count": 13,
   "id": "3c8aee9e",
   "metadata": {},
   "outputs": [
    {
     "name": "stdout",
     "output_type": "stream",
     "text": [
      "False\n"
     ]
    }
   ],
   "source": [
    "decimal = \"123.45\"\n",
    "is_decimal = decimal.isdecimal()\n",
    "print(is_decimal)  \n",
    "# Output: False"
   ]
  },
  {
   "cell_type": "code",
   "execution_count": 14,
   "id": "01ed3c31",
   "metadata": {},
   "outputs": [
    {
     "name": "stdout",
     "output_type": "stream",
     "text": [
      "['Roses are red', 'Violets are blue', 'Sugar is sweet', 'And so are you.']\n"
     ]
    }
   ],
   "source": [
    "poem = \"Roses are red\\nViolets are blue\\nSugar is sweet\\nAnd so are you.\"\n",
    "lines = poem.splitlines()\n",
    "print(lines)\n",
    "# Output:\n",
    "# ['Roses are red', 'Violets are blue', 'Sugar is sweet', 'And so are you.']"
   ]
  },
  {
   "cell_type": "code",
   "execution_count": 15,
   "id": "43a45abf",
   "metadata": {},
   "outputs": [
    {
     "name": "stdout",
     "output_type": "stream",
     "text": [
      "00042\n"
     ]
    }
   ],
   "source": [
    "number = \"42\"\n",
    "padded_number = number.zfill(5)\n",
    "print(padded_number)  \n",
    "# Output: \"00042\""
   ]
  }
 ],
 "metadata": {
  "kernelspec": {
   "display_name": "Python 3 (ipykernel)",
   "language": "python",
   "name": "python3"
  },
  "language_info": {
   "codemirror_mode": {
    "name": "ipython",
    "version": 3
   },
   "file_extension": ".py",
   "mimetype": "text/x-python",
   "name": "python",
   "nbconvert_exporter": "python",
   "pygments_lexer": "ipython3",
   "version": "3.9.7"
  }
 },
 "nbformat": 4,
 "nbformat_minor": 5
}
