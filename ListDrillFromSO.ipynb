{
 "cells": [
  {
   "cell_type": "markdown",
   "id": "27c42783",
   "metadata": {},
   "source": [
    "https://towardsdatascience.com/10-most-frequently-asked-python-list-questions-on-stack-overflow-5bfd71c8771b"
   ]
  },
  {
   "cell_type": "code",
   "execution_count": 1,
   "id": "781b2a5b",
   "metadata": {},
   "outputs": [
    {
     "name": "stdout",
     "output_type": "stream",
     "text": [
      "0 John\n",
      "1 Jane\n",
      "2 Ashley\n"
     ]
    }
   ],
   "source": [
    "names = [\"John\", \"Jane\", \"Ashley\"]\n",
    "\n",
    "for idx, x in enumerate(names):\n",
    "    print(idx, x)\n"
   ]
  },
  {
   "cell_type": "code",
   "execution_count": 2,
   "id": "b8f20d0a",
   "metadata": {},
   "outputs": [
    {
     "name": "stdout",
     "output_type": "stream",
     "text": [
      "10 John\n",
      "11 Jane\n",
      "12 Ashley\n"
     ]
    }
   ],
   "source": [
    "names = [\"John\", \"Jane\", \"Ashley\"]\n",
    "\n",
    "for idx, x in enumerate(names, start=10):\n",
    "    print(idx, x)"
   ]
  },
  {
   "cell_type": "code",
   "execution_count": 3,
   "id": "00026023",
   "metadata": {},
   "outputs": [
    {
     "name": "stdout",
     "output_type": "stream",
     "text": [
      "[1, 5, 3, 4, 2, 1, 5, 6]\n"
     ]
    }
   ],
   "source": [
    "# using list comprehension\n",
    "mylist = [\n",
    "    [1, 5, 3],\n",
    "    [4, 2, 1],\n",
    "    [5, 6]\n",
    "]\n",
    "\n",
    "myflatlist = [item for sublist in mylist for item in sublist]\n",
    "\n",
    "print(myflatlist)\n"
   ]
  },
  {
   "cell_type": "code",
   "execution_count": 4,
   "id": "5dd82fef",
   "metadata": {},
   "outputs": [
    {
     "name": "stdout",
     "output_type": "stream",
     "text": [
      "[1, 5, 3, 4, 2, 1, 5, 6]\n"
     ]
    }
   ],
   "source": [
    "# using for loops\n",
    "mylist = [\n",
    "    [1, 5, 3],\n",
    "    [4, 2, 1],\n",
    "    [5, 6]\n",
    "]\n",
    "\n",
    "myflatlist = []\n",
    "\n",
    "for sublist in mylist:\n",
    "    for item in sublist:\n",
    "        myflatlist.append(item)\n",
    "        \n",
    "print(myflatlist)\n"
   ]
  },
  {
   "cell_type": "code",
   "execution_count": 6,
   "id": "cd5278d2",
   "metadata": {},
   "outputs": [
    {
     "name": "stdout",
     "output_type": "stream",
     "text": [
      "[1, 5, 3, 4, 2, 1, 5, 6]\n"
     ]
    }
   ],
   "source": [
    "# using the explode function\n",
    "import pandas as pd\n",
    "\n",
    "myflatlist = list(pd.Series(mylist).explode())\n",
    "\n",
    "print(myflatlist)\n"
   ]
  },
  {
   "cell_type": "code",
   "execution_count": 7,
   "id": "b95b53f9",
   "metadata": {},
   "outputs": [
    {
     "data": {
      "text/plain": [
       "'Ashley'"
      ]
     },
     "execution_count": 7,
     "metadata": {},
     "output_type": "execute_result"
    }
   ],
   "source": [
    "names = [\"John\", \"Jane\", \"Ashley\", \"Max\", \"Jane\"]\n",
    "\n",
    "# item with index 2 (i.e. the third item)\n",
    "names[2]\n",
    "\n"
   ]
  },
  {
   "cell_type": "code",
   "execution_count": 8,
   "id": "41a8971a",
   "metadata": {},
   "outputs": [
    {
     "data": {
      "text/plain": [
       "2"
      ]
     },
     "execution_count": 8,
     "metadata": {},
     "output_type": "execute_result"
    }
   ],
   "source": [
    "names = [\"John\", \"Jane\", \"Ashley\", \"Max\", \"Jane\"]\n",
    "\n",
    "names.index(\"Ashley\")\n"
   ]
  },
  {
   "cell_type": "code",
   "execution_count": 9,
   "id": "2cd4535c",
   "metadata": {},
   "outputs": [
    {
     "name": "stdout",
     "output_type": "stream",
     "text": [
      "[1, 4, 6]\n"
     ]
    }
   ],
   "source": [
    "names = [\"John\", \"Jane\", \"Ashley\", \"Max\", \"Jane\", \"Abby\", \"Jane\"]\n",
    "\n",
    "janes_indexes = [idx for idx, item in enumerate(names) if item == \"Jane\"]\n",
    "\n",
    "print(janes_indexes)\n"
   ]
  },
  {
   "cell_type": "code",
   "execution_count": 10,
   "id": "28221843",
   "metadata": {},
   "outputs": [
    {
     "name": "stdout",
     "output_type": "stream",
     "text": [
      "[1, 3, 4, 12, 23, 30]\n"
     ]
    }
   ],
   "source": [
    "list_1 = [1, 3, 4]\n",
    "list_2 = [12, 23, 30]\n",
    "\n",
    "combined = list_1 + list_2\n",
    "\n",
    "print(combined)\n"
   ]
  },
  {
   "cell_type": "code",
   "execution_count": 11,
   "id": "9a448131",
   "metadata": {},
   "outputs": [
    {
     "name": "stdout",
     "output_type": "stream",
     "text": [
      "[1, 3, 4, 12, 23, 30]\n"
     ]
    }
   ],
   "source": [
    "list_1 = [1, 3, 4]\n",
    "list_2 = [12, 23, 30]\n",
    "\n",
    "list_1.extend(list_2)\n",
    "\n",
    "print(list_1) # list_1 is now the combined list, list_2 remains the same\n"
   ]
  },
  {
   "cell_type": "code",
   "execution_count": 12,
   "id": "094f2d79",
   "metadata": {},
   "outputs": [
    {
     "name": "stdout",
     "output_type": "stream",
     "text": [
      "list is not empty!\n"
     ]
    }
   ],
   "source": [
    "names = []\n",
    "\n",
    "if not names:\n",
    "    print(\"list is not empty!\")\n"
   ]
  },
  {
   "cell_type": "code",
   "execution_count": 13,
   "id": "3c060012",
   "metadata": {},
   "outputs": [
    {
     "name": "stdout",
     "output_type": "stream",
     "text": [
      "['Jane', 'Max', 'Ashley', 'John']\n"
     ]
    }
   ],
   "source": [
    "names = [\"Jane\", \"Max\", \"Ashley\"]\n",
    "\n",
    "names.append(\"John\")\n",
    "\n",
    "print(names)\n"
   ]
  },
  {
   "cell_type": "code",
   "execution_count": 14,
   "id": "4cc71550",
   "metadata": {},
   "outputs": [
    {
     "name": "stdout",
     "output_type": "stream",
     "text": [
      "['Jane', 'Max', 'Ashley', ['John', 'Adam']]\n"
     ]
    }
   ],
   "source": [
    "names = [\"Jane\", \"Max\", \"Ashley\"]\n",
    "\n",
    "new_names = [\"John\", \"Adam\"]\n",
    "\n",
    "names.append(new_names)\n",
    "\n",
    "print(names)\n"
   ]
  },
  {
   "cell_type": "code",
   "execution_count": 15,
   "id": "49bf8df5",
   "metadata": {},
   "outputs": [
    {
     "name": "stdout",
     "output_type": "stream",
     "text": [
      "['Jane', 'Max', 'Ashley', 'John', 'Adam']\n"
     ]
    }
   ],
   "source": [
    "names = [\"Jane\", \"Max\", \"Ashley\"]\n",
    "\n",
    "new_names = [\"John\", \"Adam\"]\n",
    "\n",
    "names.extend(new_names)\n",
    "\n",
    "print(names)\n"
   ]
  },
  {
   "cell_type": "code",
   "execution_count": 16,
   "id": "807986c2",
   "metadata": {},
   "outputs": [
    {
     "data": {
      "text/plain": [
       "[[1, 2, 3, 4], [5, 6, 7, 8], [9, 10, 11, 12]]"
      ]
     },
     "execution_count": 16,
     "metadata": {},
     "output_type": "execute_result"
    }
   ],
   "source": [
    "mylist = [1, 2, 3, 4, 5, 6, 7, 8, 9, 10, 11, 12]\n",
    "chunk_size = 4\n",
    "\n",
    "[mylist[i:i + chunk_size] for i in range(0, len(mylist), chunk_size)]\n",
    "\n"
   ]
  },
  {
   "cell_type": "code",
   "execution_count": 17,
   "id": "085cc553",
   "metadata": {},
   "outputs": [],
   "source": [
    "employees = [\n",
    "    {\"name\": \"Max\", \"department\": \"sales\"},\n",
    "    {\"name\": \"Jane\", \"department\": \"engineering\"},\n",
    "    {\"name\": \"Ashley\", \"department\": \"hr\"}\n",
    "]"
   ]
  },
  {
   "cell_type": "code",
   "execution_count": 18,
   "id": "11f12d5b",
   "metadata": {},
   "outputs": [
    {
     "data": {
      "text/plain": [
       "[{'name': 'Ashley', 'department': 'hr'},\n",
       " {'name': 'Jane', 'department': 'engineering'},\n",
       " {'name': 'Max', 'department': 'sales'}]"
      ]
     },
     "execution_count": 18,
     "metadata": {},
     "output_type": "execute_result"
    }
   ],
   "source": [
    "employees_sorted = sorted(employees, key = lambda x: x[\"name\"])\n",
    "\n",
    "employees_sorted\n"
   ]
  },
  {
   "cell_type": "code",
   "execution_count": 20,
   "id": "e6145c2e",
   "metadata": {},
   "outputs": [
    {
     "name": "stdout",
     "output_type": "stream",
     "text": [
      "Jennifer\n",
      "Jane\n"
     ]
    }
   ],
   "source": [
    "names = [\"Jane\", \"Adam\", \"Matt\", \"Jennifer\"]\n",
    "\n",
    "print(names[-1])\n",
    "print(names[0])\n"
   ]
  },
  {
   "cell_type": "code",
   "execution_count": 21,
   "id": "41352fdd",
   "metadata": {},
   "outputs": [
    {
     "data": {
      "text/plain": [
       "'Matt'"
      ]
     },
     "execution_count": 21,
     "metadata": {},
     "output_type": "execute_result"
    }
   ],
   "source": [
    "import random\n",
    "\n",
    "names = [\"Jane\", \"Adam\", \"Matt\", \"Jennifer\", \"Abby\"]\n",
    "\n",
    "random.choice(names)\n"
   ]
  },
  {
   "cell_type": "code",
   "execution_count": 22,
   "id": "84bda224",
   "metadata": {},
   "outputs": [
    {
     "data": {
      "text/plain": [
       "['Abby', 'Jane']"
      ]
     },
     "execution_count": 22,
     "metadata": {},
     "output_type": "execute_result"
    }
   ],
   "source": [
    "import random\n",
    "\n",
    "names = [\"Jane\", \"Adam\", \"Matt\", \"Jennifer\", \"Abby\"]\n",
    "\n",
    "random.sample(names, 2) # random sample with 2 items\n"
   ]
  },
  {
   "cell_type": "code",
   "execution_count": null,
   "id": "2b974ff4",
   "metadata": {},
   "outputs": [],
   "source": []
  }
 ],
 "metadata": {
  "kernelspec": {
   "display_name": "Python 3 (ipykernel)",
   "language": "python",
   "name": "python3"
  },
  "language_info": {
   "codemirror_mode": {
    "name": "ipython",
    "version": 3
   },
   "file_extension": ".py",
   "mimetype": "text/x-python",
   "name": "python",
   "nbconvert_exporter": "python",
   "pygments_lexer": "ipython3",
   "version": "3.9.7"
  }
 },
 "nbformat": 4,
 "nbformat_minor": 5
}
