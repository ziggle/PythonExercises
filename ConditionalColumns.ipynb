{
 "cells": [
  {
   "attachments": {},
   "cell_type": "markdown",
   "metadata": {},
   "source": [
    "https://towardsdatascience.com/creating-conditional-columns-on-pandas-with-numpy-select-and-where-methods-8ee6e2dbd5d5"
   ]
  },
  {
   "cell_type": "code",
   "execution_count": 2,
   "metadata": {},
   "outputs": [],
   "source": [
    "\n",
    "import pandas as pd\n",
    "import numpy as np\n",
    "df = pd.DataFrame({\n",
    "    'fruit': ['Apple', 'Banana', 'Apple', 'Banana'],\n",
    "    'supplier': ['T & C Bro', 'T & C Bro', 'JM Wholesales', 'JM Wholesales'],\n",
    "    'weight (kg)': [1000,2000,3000,4000],\n",
    "    'customer_rating': [4.8,3.2, 4.2, 4.3]\n",
    "})"
   ]
  },
  {
   "cell_type": "code",
   "execution_count": 3,
   "metadata": {},
   "outputs": [],
   "source": [
    "\n",
    "# T & C Bro\n",
    "tc_price = pd.DataFrame({\n",
    "    'fruit': ['Apple', 'Banana', 'Orange', 'Pineapple'],\n",
    "    'price (kg)': [1.1, 2, 2.9, 3.1]\n",
    "})\n",
    "# JM Wholesales\n",
    "jm_price = pd.DataFrame({\n",
    "    'fruit': ['Apple', 'Banana', 'Orange', 'Pineapple'],\n",
    "    'price (kg)': [1.2, 1.8, 4, 6]\n",
    "})"
   ]
  },
  {
   "cell_type": "code",
   "execution_count": 4,
   "metadata": {},
   "outputs": [],
   "source": [
    "df = df.set_index('fruit')\n",
    "tc_price = tc_price.set_index('fruit')\n",
    "jm_price = jm_price.set_index('fruit')"
   ]
  },
  {
   "cell_type": "code",
   "execution_count": 5,
   "metadata": {},
   "outputs": [
    {
     "name": "stdout",
     "output_type": "stream",
     "text": [
      "             supplier  weight (kg)  customer_rating  price (kg)\n",
      "fruit                                                          \n",
      "Apple       T & C Bro         1000              4.8         1.1\n",
      "Banana      T & C Bro         2000              3.2         2.0\n",
      "Apple   JM Wholesales         3000              4.2         1.2\n",
      "Banana  JM Wholesales         4000              4.3         1.8\n"
     ]
    }
   ],
   "source": [
    "df['price (kg)'] = np.where(\n",
    "    df['supplier'] == 'T & C Bro', \n",
    "    tc_price.loc[df.index]['price (kg)'], \n",
    "    jm_price.loc[df.index]['price (kg)']\n",
    ")\n",
    "print(df)"
   ]
  },
  {
   "cell_type": "code",
   "execution_count": 6,
   "metadata": {},
   "outputs": [],
   "source": [
    "df_3 = pd.DataFrame({\n",
    "    'fruit': ['Apple', 'Banana', 'Apple', 'Banana', 'Apple', 'Banana'],\n",
    "    'supplier': ['T & C Bro', 'T & C Bro', 'JM Wholesales', 'JM Wholesales', 'Star Ltd.', 'Star Ltd.'],\n",
    "    'buy (kg)': [1000,2000,3000,4000, 2000, 1500],\n",
    "    'customer_rating': [4.8,3.2, 4.2, 4.3, 5, 4.8]\n",
    "})\n",
    "\n",
    "\n",
    "df_price = pd.DataFrame({\n",
    "    'fruit': ['Apple', 'Banana', 'Orange', 'Pineapple'],\n",
    "    'T & C Bro': [1.1, 2, 2.9, 3.1],\n",
    "    'JM Wholesales': [1.2, 1.8, 4, 6],\n",
    "    'Star Ltd.': [0.9, 1.5, 3.8, 5.5]\n",
    "})"
   ]
  },
  {
   "cell_type": "code",
   "execution_count": 7,
   "metadata": {},
   "outputs": [],
   "source": [
    "df_3 = df_3.set_index('fruit')\n",
    "df_price = df_price.set_index('fruit')"
   ]
  },
  {
   "cell_type": "code",
   "execution_count": 10,
   "metadata": {},
   "outputs": [
    {
     "name": "stdout",
     "output_type": "stream",
     "text": [
      "1111\n",
      "fruit\n",
      "Apple     1.1\n",
      "Banana    2.0\n",
      "Apple     1.1\n",
      "Banana    2.0\n",
      "Apple     1.1\n",
      "Banana    2.0\n",
      "Name: T & C Bro, dtype: float64\n"
     ]
    },
    {
     "data": {
      "text/html": [
       "<div>\n",
       "<style scoped>\n",
       "    .dataframe tbody tr th:only-of-type {\n",
       "        vertical-align: middle;\n",
       "    }\n",
       "\n",
       "    .dataframe tbody tr th {\n",
       "        vertical-align: top;\n",
       "    }\n",
       "\n",
       "    .dataframe thead th {\n",
       "        text-align: right;\n",
       "    }\n",
       "</style>\n",
       "<table border=\"1\" class=\"dataframe\">\n",
       "  <thead>\n",
       "    <tr style=\"text-align: right;\">\n",
       "      <th></th>\n",
       "      <th>supplier</th>\n",
       "      <th>buy (kg)</th>\n",
       "      <th>customer_rating</th>\n",
       "      <th>price (kg)</th>\n",
       "    </tr>\n",
       "    <tr>\n",
       "      <th>fruit</th>\n",
       "      <th></th>\n",
       "      <th></th>\n",
       "      <th></th>\n",
       "      <th></th>\n",
       "    </tr>\n",
       "  </thead>\n",
       "  <tbody>\n",
       "    <tr>\n",
       "      <th>Apple</th>\n",
       "      <td>T &amp; C Bro</td>\n",
       "      <td>1000</td>\n",
       "      <td>4.8</td>\n",
       "      <td>1.1</td>\n",
       "    </tr>\n",
       "    <tr>\n",
       "      <th>Banana</th>\n",
       "      <td>T &amp; C Bro</td>\n",
       "      <td>2000</td>\n",
       "      <td>3.2</td>\n",
       "      <td>2.0</td>\n",
       "    </tr>\n",
       "    <tr>\n",
       "      <th>Apple</th>\n",
       "      <td>JM Wholesales</td>\n",
       "      <td>3000</td>\n",
       "      <td>4.2</td>\n",
       "      <td>1.2</td>\n",
       "    </tr>\n",
       "    <tr>\n",
       "      <th>Banana</th>\n",
       "      <td>JM Wholesales</td>\n",
       "      <td>4000</td>\n",
       "      <td>4.3</td>\n",
       "      <td>1.8</td>\n",
       "    </tr>\n",
       "    <tr>\n",
       "      <th>Apple</th>\n",
       "      <td>Star Ltd.</td>\n",
       "      <td>2000</td>\n",
       "      <td>5.0</td>\n",
       "      <td>0.9</td>\n",
       "    </tr>\n",
       "    <tr>\n",
       "      <th>Banana</th>\n",
       "      <td>Star Ltd.</td>\n",
       "      <td>1500</td>\n",
       "      <td>4.8</td>\n",
       "      <td>1.5</td>\n",
       "    </tr>\n",
       "  </tbody>\n",
       "</table>\n",
       "</div>"
      ],
      "text/plain": [
       "             supplier  buy (kg)  customer_rating  price (kg)\n",
       "fruit                                                       \n",
       "Apple       T & C Bro      1000              4.8         1.1\n",
       "Banana      T & C Bro      2000              3.2         2.0\n",
       "Apple   JM Wholesales      3000              4.2         1.2\n",
       "Banana  JM Wholesales      4000              4.3         1.8\n",
       "Apple       Star Ltd.      2000              5.0         0.9\n",
       "Banana      Star Ltd.      1500              4.8         1.5"
      ]
     },
     "execution_count": 10,
     "metadata": {},
     "output_type": "execute_result"
    }
   ],
   "source": [
    "\n",
    "args = df_price.loc[df_3.index]\n",
    "\n",
    "conds = [\n",
    "    df_3['supplier'] == 'T & C Bro', \n",
    "    df_3['supplier'] == 'JM Wholesales', \n",
    "    df_3['supplier'] == 'Star Ltd.',\n",
    "]\n",
    "\n",
    "choices = [args['T & C Bro'], args['JM Wholesales'], args['Star Ltd.']]\n",
    "# print(conds)\n",
    "#print(\"*****\")\n",
    "# print(choices)\n",
    "# print('0000')\n",
    "# print(df_3['supplier']=='T & C Bro')\n",
    "# print(args['T & C Bro'])\n",
    "# print(args['JM Wholesales'])\n",
    "print(\"1111\")\n",
    "print(choices[0])\n",
    "\n",
    "df_3['price (kg)'] = np.select(conds, choices)\n",
    "df_3\n",
    "# print(globals())"
   ]
  }
 ],
 "metadata": {
  "kernelspec": {
   "display_name": "Python 3",
   "language": "python",
   "name": "python3"
  },
  "language_info": {
   "codemirror_mode": {
    "name": "ipython",
    "version": 3
   },
   "file_extension": ".py",
   "mimetype": "text/x-python",
   "name": "python",
   "nbconvert_exporter": "python",
   "pygments_lexer": "ipython3",
   "version": "3.11.4"
  },
  "orig_nbformat": 4
 },
 "nbformat": 4,
 "nbformat_minor": 2
}
