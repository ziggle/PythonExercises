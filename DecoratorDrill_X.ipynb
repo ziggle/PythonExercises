{
 "cells": [
  {
   "cell_type": "markdown",
   "id": "56cbc283",
   "metadata": {},
   "source": [
    "https://medium.com/daily-programming-tips/how-to-use-decorators-in-python-7be915e3c098"
   ]
  },
  {
   "cell_type": "code",
   "execution_count": 1,
   "id": "3f534213",
   "metadata": {},
   "outputs": [
    {
     "name": "stdout",
     "output_type": "stream",
     "text": [
      "14\n",
      "7\n"
     ]
    }
   ],
   "source": [
    "# The decorator function adds two numbers to the result of the original function\n",
    "def add_two(func):\n",
    "    def wrapper(*args, **kwargs):\n",
    "        # Original Function is invoked\n",
    "        result = func(*args, **kwargs)\n",
    "        # Result of original function is modified by adding 2\n",
    "        return result + 2\n",
    "    return wrapper\n",
    "\n",
    "@add_two\n",
    "def multiply(a, b):\n",
    "    return a * b\n",
    "\n",
    "@add_two\n",
    "def divide(a,b):\n",
    "  return int(a/b)\n",
    "\n",
    "print(multiply(3, 4)) # 14\n",
    "print(divide(10,2)) #7"
   ]
  },
  {
   "cell_type": "code",
   "execution_count": 2,
   "id": "d452c323",
   "metadata": {},
   "outputs": [
    {
     "name": "stdout",
     "output_type": "stream",
     "text": [
      "14\n",
      "7\n"
     ]
    }
   ],
   "source": [
    "class AddTwo:\n",
    "    def __init__(self, func):\n",
    "        self.func = func\n",
    "    def __call__(self, *args, **kwargs):\n",
    "        result = self.func(*args, **kwargs)\n",
    "        return result + 2\n",
    "\n",
    "@AddTwo\n",
    "def multiply(a, b):\n",
    "    return a * b\n",
    "\n",
    "@AddTwo\n",
    "def divide(a,b):\n",
    "  return int(a/b)\n",
    "\n",
    "print(multiply(3, 4)) # 14\n",
    "print(divide(10,2)) #7"
   ]
  },
  {
   "cell_type": "code",
   "execution_count": 3,
   "id": "96e8f39e",
   "metadata": {},
   "outputs": [
    {
     "name": "stdout",
     "output_type": "stream",
     "text": [
      "22\n",
      "17\n"
     ]
    }
   ],
   "source": [
    "def add_n(n):\n",
    "    def decorator(func):\n",
    "        def wrapper(*args, **kwargs):\n",
    "            result = func(*args, **kwargs)\n",
    "            return result + n\n",
    "        return wrapper\n",
    "    return decorator\n",
    "\n",
    "@add_n(10)\n",
    "def multiply(a, b):\n",
    "    return a * b\n",
    "\n",
    "@add_n(12)\n",
    "def divide(a,b):\n",
    "  return int(a/b)\n",
    "\n",
    "print(multiply(3, 4)) # 22\n",
    "print(divide(10,2)) # 17"
   ]
  },
  {
   "cell_type": "code",
   "execution_count": 4,
   "id": "e8f62ddd",
   "metadata": {},
   "outputs": [
    {
     "name": "stdout",
     "output_type": "stream",
     "text": [
      "10\n"
     ]
    }
   ],
   "source": [
    "def add_attribute(n):\n",
    "    def class_decorator(cls):\n",
    "        cls.n = n\n",
    "        return cls\n",
    "    return class_decorator\n",
    "\n",
    "@add_attribute(10)\n",
    "class MyClass:\n",
    "    pass\n",
    "\n",
    "print(MyClass.n) # 10"
   ]
  },
  {
   "cell_type": "code",
   "execution_count": 5,
   "id": "4a001df0",
   "metadata": {},
   "outputs": [
    {
     "name": "stdout",
     "output_type": "stream",
     "text": [
      "Hello, World!\n"
     ]
    }
   ],
   "source": [
    "def add_method(cls):\n",
    "    def new_method(self):\n",
    "        return \"Hello, World!\"\n",
    "    setattr(cls, 'new_method', new_method)\n",
    "    return cls\n",
    "\n",
    "@add_method\n",
    "class MyClass:\n",
    "    pass\n",
    "\n",
    "my_obj = MyClass()\n",
    "print(my_obj.new_method()) # Hello, World"
   ]
  },
  {
   "cell_type": "code",
   "execution_count": 6,
   "id": "1992952e",
   "metadata": {},
   "outputs": [
    {
     "name": "stdout",
     "output_type": "stream",
     "text": [
      "70\n",
      "85\n"
     ]
    }
   ],
   "source": [
    "# Adds n to the result of original function\n",
    "def add_n(n):\n",
    "    def decorator(func):\n",
    "        def wrapper(*args, **kwargs):\n",
    "            result = func(*args, **kwargs)\n",
    "            return result + n\n",
    "        return wrapper\n",
    "    return decorator\n",
    "\n",
    "# Multiplies result of original function by n\n",
    "def multiply_by_m(m):\n",
    "    def decorator(func):\n",
    "        def wrapper(*args, **kwargs):\n",
    "            result = func(*args, **kwargs)\n",
    "            return result * m\n",
    "        return wrapper\n",
    "    return decorator\n",
    "\n",
    "\n",
    "@add_n(10)\n",
    "@multiply_by_m(5)\n",
    "def multiply(a, b):\n",
    "    return a * b\n",
    "\n",
    "@multiply_by_m(5)\n",
    "@add_n(12)\n",
    "def divide(a,b):\n",
    "  return int(a/b)\n",
    "\n",
    "print(multiply(3, 4)) # 70\n",
    "print(divide(10, 2)) #85"
   ]
  },
  {
   "cell_type": "code",
   "execution_count": 7,
   "id": "bb017183",
   "metadata": {},
   "outputs": [
    {
     "name": "stdout",
     "output_type": "stream",
     "text": [
      "Time taken: 3.01 seconds\n"
     ]
    }
   ],
   "source": [
    "import time\n",
    "\n",
    "def timing_decorator(func):\n",
    "    def wrapper(*args, **kwargs):\n",
    "        start = time.time()\n",
    "        result = func(*args, **kwargs)\n",
    "        end = time.time()\n",
    "        print(f\"Time taken: {end - start:.2f} seconds\")\n",
    "        return result\n",
    "    return wrapper\n",
    "\n",
    "@timing_decorator\n",
    "def long_running_function():\n",
    "    time.sleep(3)\n",
    "\n",
    "long_running_function()"
   ]
  },
  {
   "cell_type": "code",
   "execution_count": 8,
   "id": "a67a6723",
   "metadata": {},
   "outputs": [],
   "source": [
    "def authorized(func):\n",
    "    def wrapper(*args, **kwargs):\n",
    "        user = get_current_user()\n",
    "        if not user.is_authenticated():\n",
    "            raise Exception(\"Unauthorized\")\n",
    "        return func(*args, **kwargs)\n",
    "    return wrapper\n",
    "\n",
    "@authorized\n",
    "def restricted_function():\n",
    "    print(\"Access granted\")"
   ]
  },
  {
   "cell_type": "code",
   "execution_count": 9,
   "id": "09df8555",
   "metadata": {},
   "outputs": [
    {
     "name": "stdout",
     "output_type": "stream",
     "text": [
      "Calling function: some_function\n",
      "Returning from function: some_function\n",
      "7\n"
     ]
    }
   ],
   "source": [
    "def logging_decorator(func):\n",
    "    def wrapper(*args, **kwargs):\n",
    "        print(f\"Calling function: {func.__name__}\")\n",
    "        result = func(*args, **kwargs)\n",
    "        print(f\"Returning from function: {func.__name__}\")\n",
    "        return result\n",
    "    return wrapper\n",
    "\n",
    "@logging_decorator\n",
    "def some_function(a, b):\n",
    "    return a + b\n",
    "print(some_function(3, 4)) # 7"
   ]
  },
  {
   "cell_type": "code",
   "execution_count": 10,
   "id": "f1ad55fc",
   "metadata": {},
   "outputs": [
    {
     "name": "stdout",
     "output_type": "stream",
     "text": [
      "Calling function: wrapper\n",
      "Time taken: 3.01 seconds\n",
      "Returning from function: wrapper\n"
     ]
    }
   ],
   "source": [
    "@logging_decorator\n",
    "@timing_decorator\n",
    "def long_running_function():\n",
    "    time.sleep(3)\n",
    "\n",
    "'''\n",
    "Calling function: wrapper\n",
    "Time taken: 3.00 seconds\n",
    "Returning from function: wrapper\n",
    "'''\n",
    "long_running_function()"
   ]
  },
  {
   "cell_type": "code",
   "execution_count": 11,
   "id": "6a67f53d",
   "metadata": {},
   "outputs": [
    {
     "name": "stdout",
     "output_type": "stream",
     "text": [
      "{}\n",
      "Calling function\n",
      "4950\n",
      "{'100': 4950}\n",
      "Getting value from cache\n",
      "4950\n"
     ]
    }
   ],
   "source": [
    "def cache_decorator(func):\n",
    "    cache = {}\n",
    "    def wrapper(*args, **kwargs):\n",
    "        key = f\"{args[0]}\"\n",
    "        print(cache)\n",
    "        if key not in cache:\n",
    "            print(\"Calling function\")\n",
    "            cache[key] = func(*args, **kwargs)\n",
    "        else:\n",
    "            print(\"Getting value from cache\")\n",
    "        return cache[key]\n",
    "    return wrapper\n",
    "\n",
    "@cache_decorator\n",
    "def expensive_function(n):\n",
    "    result = 0\n",
    "    for i in range(n):\n",
    "        result += i\n",
    "    return result\n",
    "\n",
    "'''\n",
    "{}\n",
    "Calling function\n",
    "4950\n",
    "{'100': 4950}\n",
    "Getting value from cache\n",
    "4950\n",
    "'''\n",
    "print(expensive_function(100)) # 4950\n",
    "print(expensive_function(100)) # 4950"
   ]
  },
  {
   "cell_type": "code",
   "execution_count": null,
   "id": "7ce49dcd",
   "metadata": {},
   "outputs": [],
   "source": []
  }
 ],
 "metadata": {
  "kernelspec": {
   "display_name": "Python 3 (ipykernel)",
   "language": "python",
   "name": "python3"
  },
  "language_info": {
   "codemirror_mode": {
    "name": "ipython",
    "version": 3
   },
   "file_extension": ".py",
   "mimetype": "text/x-python",
   "name": "python",
   "nbconvert_exporter": "python",
   "pygments_lexer": "ipython3",
   "version": "3.9.7"
  }
 },
 "nbformat": 4,
 "nbformat_minor": 5
}
