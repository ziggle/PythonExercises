{
 "cells": [
  {
   "cell_type": "markdown",
   "id": "827f2787",
   "metadata": {},
   "source": [
    "https://towardsdev.com/pearsons-correlation-d7cc0890f646"
   ]
  },
  {
   "cell_type": "code",
   "execution_count": 2,
   "id": "8b7964b1",
   "metadata": {},
   "outputs": [
    {
     "name": "stdout",
     "output_type": "stream",
     "text": [
      "0.9319530597064697\n"
     ]
    }
   ],
   "source": [
    "#dummy data\n",
    "ml = [48,67,89,76,55,66,89,90,99,100,100,32,55]\n",
    "dl = [52,61,78,81,50,49,95,100,100,90,89,21,62]\n",
    "## lets use numpy first\n",
    "import numpy as np\n",
    "#we can easily find corr matrix as follows\n",
    "corr = np.corrcoef(ml,dl)\n",
    "#corr = [[1 0.931] [0.931 1]]\n",
    "#or we can compute it via scipy\n",
    "from scipy.stats import pearsonr\n",
    "corr, _ = pearsonr(ml, dl)\n",
    "print(corr)\n",
    "#corr = 0.931"
   ]
  },
  {
   "cell_type": "code",
   "execution_count": null,
   "id": "787d4cf4",
   "metadata": {},
   "outputs": [],
   "source": []
  }
 ],
 "metadata": {
  "kernelspec": {
   "display_name": "Python 3 (ipykernel)",
   "language": "python",
   "name": "python3"
  },
  "language_info": {
   "codemirror_mode": {
    "name": "ipython",
    "version": 3
   },
   "file_extension": ".py",
   "mimetype": "text/x-python",
   "name": "python",
   "nbconvert_exporter": "python",
   "pygments_lexer": "ipython3",
   "version": "3.9.7"
  }
 },
 "nbformat": 4,
 "nbformat_minor": 5
}
