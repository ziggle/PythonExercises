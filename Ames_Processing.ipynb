{
 "cells": [
  {
   "cell_type": "code",
   "execution_count": null,
   "metadata": {},
   "outputs": [],
   "source": [
    "# - Cleanup\n",
    "# - remove \"magic literals\"\n",
    "# - remove lambdas\n",
    "# - add types\n",
    "# - Add docstring\n",
    "\n",
    "import typing\n",
    "import pandas as pd\n",
    "\n",
    "def size_name(df_, name=''):\n",
    "    print(f'{name} {df_.shape}')\n",
    "    return df_\n",
    "\n",
    "def tweak_ames(ames:pd.DataFrame) -> pd.DataFrame:\n",
    "    \"\"\" Clean up raw Ames data ...\n",
    "    \"\"\"\n",
    "\n",
    "    def rating_to_num(a_df:pd.DataFrame,col:str) -> pd.Series:\n",
    "        return a_df[col].replace({'Ex':5, 'Gd':4, 'TA':3,'Fa':2,'Po':1})\n",
    "\n",
    "    def create_rating_fn(col:str) -> typing.Callable:\n",
    "        def wrapper(a_df):\n",
    "            return rating_to_num(a_df,col)\n",
    "        return wrapper\n",
    "\n",
    "    def clean_col_name(col:str) -> str:\n",
    "        return col.lower().replace(' ','_')\n",
    "\n",
    "    def extract_story_num(a_df: pd.DataFrame) -> pd.Series:\n",
    "        return a_df.house_style.str.extract(r'(\\d\\.?\\d?)').astype(float).fillna(0)\n",
    "    \n",
    "    def has_basement(a_df: pd.DataFrame) ->pd.Series:\n",
    "        return ~a_df.bsmt_qual.isna()\n",
    "\n",
    "    def has_garage(a_df: pd.DataFrame) ->pd.Series:\n",
    "        return ~a_df.garage_qual.isna()\n",
    "\n",
    "    def fix_garage_year(a_df: pd.DataFrame) ->pd.Series:\n",
    "        return a_df.garage_yr_blt.fillna(a_df.year_built).astype('unit8')\n",
    "\n",
    "    def create_category_fillna_fn(col:str) =>typing.Callable:\n",
    "        def wrapper(a_df: pd.DataFrame) ->pd.Series:\n",
    "            return a_df[col].fillna('Other').astype('category')\n",
    "        return wrapper\n",
    "    \n",
    "    def create_float_fillna_fn(col:str) -> typing Callable:\n",
    "        def wrapper(a_df: pd.DataFrame) -> pd.Series:\n",
    "            return a_df[col].fillna(0).astype(float)\n",
    "        return wrapper\n",
    "    \n",
    "    rating_cols=['exter_qual','exter_cond','bsmt_qual',\n",
    "                  'bsmt_cont', 'kitchen_qual', 'garage_qual',\n",
    "                  'garage_cond', 'heating_qc', 'fireplace_qu'\n",
    "                ]\n",
    "\n",
    "    rating_mapping = {k:create_rating_fn(0)\n",
    "                        for k in rating_cols}\n",
    "\n",
    "    category_cols = ['ms zoning'   , 'street'        , 'alley'           , 'lot_shape'    ,   'land_contour',\n",
    "                    'utilities'    , 'lot_config'    , 'land_slope'      , 'neighborhood' ,   'condition_1',\n",
    "                    'condition_2'  ,  'bldg_type'    , 'house_style'     , 'roof_style'   ,   'roof_mtl',\n",
    "                    'exterior_lst' , 'exterior_2nd'  , 'mas_vnr_type'    , 'foundation'   ,\n",
    "                    'bsmt_exposure', 'bsmtfin_type_1', 'bsmtfin_type_2'  , 'heating'      , \n",
    "                    'electrical'   , 'functional'    , 'garage_type'     , 'garage_finish',\n",
    "                    'paved_drive'  , 'fence'         ,  'misc_feature'   , 'sale_type'    ,    'sale_condition']\n",
    "\n",
    "    category_mapping = {k:create_category_fillna_fn(k) for k in category_cols}\n",
    "    "
   ]
  }
 ],
 "metadata": {
  "kernelspec": {
   "display_name": "Python 3 (ipykernel)",
   "language": "python",
   "name": "python3"
  },
  "language_info": {
   "codemirror_mode": {
    "name": "ipython",
    "version": 3
   },
   "file_extension": ".py",
   "mimetype": "text/x-python",
   "name": "python",
   "nbconvert_exporter": "python",
   "pygments_lexer": "ipython3",
   "version": "3.9.15"
  },
  "toc": {
   "base_numbering": 1,
   "nav_menu": {},
   "number_sections": true,
   "sideBar": true,
   "skip_h1_title": false,
   "title_cell": "Table of Contents",
   "title_sidebar": "Contents",
   "toc_cell": false,
   "toc_position": {},
   "toc_section_display": true,
   "toc_window_display": false
  },
  "vscode": {
   "interpreter": {
    "hash": "ccecdc02aa416300a64487fe6971a8398ebaf053d2b2768f769ac21dbbf13f86"
   }
  }
 },
 "nbformat": 4,
 "nbformat_minor": 2
}
