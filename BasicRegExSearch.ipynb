{
 "cells": [
  {
   "cell_type": "markdown",
   "id": "b1926ef2",
   "metadata": {},
   "source": [
    "https://medium.com/@23saini/basics-of-data-search-in-python-9962582f59bc"
   ]
  },
  {
   "cell_type": "code",
   "execution_count": 1,
   "id": "db88694b",
   "metadata": {},
   "outputs": [
    {
     "name": "stdout",
     "output_type": "stream",
     "text": [
      "The substring 'powerful' is found at index 12.\n"
     ]
    }
   ],
   "source": [
    "text = \"Python is a powerful programming language.\"\n",
    "search_term = \"powerful\"\n",
    "# Using find() to search for the index of the substring\n",
    "index = text.find(search_term)\n",
    "if index != -1:\n",
    "    print(f\"The substring '{search_term}' is found at index {index}.\")\n",
    "else:\n",
    "    print(f\"The substring '{search_term}' is not found.\")"
   ]
  },
  {
   "cell_type": "code",
   "execution_count": 2,
   "id": "aec0198f",
   "metadata": {},
   "outputs": [
    {
     "name": "stdout",
     "output_type": "stream",
     "text": [
      "Dates found in the text:\n",
      "['2023-07-31']\n"
     ]
    }
   ],
   "source": [
    "import re\n",
    "text = \"Today is 2023-07-31, and it's a sunny day.\"\n",
    "date_pattern = r\"\\d{4}-\\d{2}-\\d{2}\"\n",
    "# Using regular expression to search for dates in the text\n",
    "dates_found = re.findall(date_pattern, text)\n",
    "if dates_found:\n",
    "    print(\"Dates found in the text:\")\n",
    "    print(dates_found)\n",
    "else:\n",
    "    print(\"No dates found in the text.\")"
   ]
  },
  {
   "cell_type": "code",
   "execution_count": 3,
   "id": "925a36e2",
   "metadata": {},
   "outputs": [
    {
     "name": "stderr",
     "output_type": "stream",
     "text": [
      "C:\\Users\\biegertm\\AppData\\Roaming\\Python\\Python39\\site-packages\\pandas\\core\\computation\\expressions.py:21: UserWarning: Pandas requires version '2.8.0' or newer of 'numexpr' (version '2.7.3' currently installed).\n",
      "  from pandas.core.computation.check import NUMEXPR_INSTALLED\n",
      "C:\\Users\\biegertm\\AppData\\Roaming\\Python\\Python39\\site-packages\\pandas\\core\\arrays\\masked.py:62: UserWarning: Pandas requires version '1.3.4' or newer of 'bottleneck' (version '1.3.2' currently installed).\n",
      "  from pandas.core import (\n"
     ]
    },
    {
     "name": "stdout",
     "output_type": "stream",
     "text": [
      "Rows where age is greater than 25:\n",
      "    Name  Age\n",
      "1    Bob   30\n",
      "3  David   28\n"
     ]
    }
   ],
   "source": [
    "import pandas as pd\n",
    "# Creating a simple DataFrame\n",
    "data = {\n",
    "    'Name': ['Alice', 'Bob', 'Charlie', 'David'],\n",
    "    'Age': [25, 30, 22, 28]\n",
    "}\n",
    "df = pd.DataFrame(data)\n",
    "# Searching for rows where age is greater than 25\n",
    "search_value = 25\n",
    "matching_rows = df[df['Age'] > search_value]\n",
    "print(\"Rows where age is greater than 25:\")\n",
    "print(matching_rows)"
   ]
  },
  {
   "cell_type": "code",
   "execution_count": null,
   "id": "45df4c34",
   "metadata": {},
   "outputs": [],
   "source": []
  }
 ],
 "metadata": {
  "kernelspec": {
   "display_name": "Python 3 (ipykernel)",
   "language": "python",
   "name": "python3"
  },
  "language_info": {
   "codemirror_mode": {
    "name": "ipython",
    "version": 3
   },
   "file_extension": ".py",
   "mimetype": "text/x-python",
   "name": "python",
   "nbconvert_exporter": "python",
   "pygments_lexer": "ipython3",
   "version": "3.9.7"
  }
 },
 "nbformat": 4,
 "nbformat_minor": 5
}
