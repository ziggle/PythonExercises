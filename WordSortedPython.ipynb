{
 "cells": [
  {
   "cell_type": "markdown",
   "id": "89ef928f",
   "metadata": {},
   "source": [
    "https://www.youtube.com/watch?v=fp-cUJJDReU"
   ]
  },
  {
   "cell_type": "code",
   "execution_count": 2,
   "id": "dfdad0e0",
   "metadata": {},
   "outputs": [
    {
     "name": "stderr",
     "output_type": "stream",
     "text": [
      "C:\\Users\\biegertm\\AppData\\Roaming\\Python\\Python39\\site-packages\\pandas\\core\\computation\\expressions.py:21: UserWarning: Pandas requires version '2.8.0' or newer of 'numexpr' (version '2.7.3' currently installed).\n",
      "  from pandas.core.computation.check import NUMEXPR_INSTALLED\n",
      "C:\\Users\\biegertm\\AppData\\Roaming\\Python\\Python39\\site-packages\\pandas\\core\\arrays\\masked.py:62: UserWarning: Pandas requires version '1.3.4' or newer of 'bottleneck' (version '1.3.2' currently installed).\n",
      "  from pandas.core import (\n"
     ]
    }
   ],
   "source": [
    "import pandas as pd\n",
    "df = pd.DataFrame({\"Words\":[\"Across\",\"Access\",\"Curve\",\"Blown\",\"Loop\",\"Foxes\",\"Abbot\",\"Aegilops\",\"Walker\"]})"
   ]
  },
  {
   "cell_type": "code",
   "execution_count": 6,
   "id": "a93e5d68",
   "metadata": {},
   "outputs": [
    {
     "data": {
      "text/plain": [
       "['Access', 'Loop', 'Abbot', 'Aegilops']"
      ]
     },
     "execution_count": 6,
     "metadata": {},
     "output_type": "execute_result"
    }
   ],
   "source": [
    "[x for x in df.Words if x==\"\".join(sorted(x))]"
   ]
  }
 ],
 "metadata": {
  "kernelspec": {
   "display_name": "Python 3 (ipykernel)",
   "language": "python",
   "name": "python3"
  },
  "language_info": {
   "codemirror_mode": {
    "name": "ipython",
    "version": 3
   },
   "file_extension": ".py",
   "mimetype": "text/x-python",
   "name": "python",
   "nbconvert_exporter": "python",
   "pygments_lexer": "ipython3",
   "version": "3.9.7"
  }
 },
 "nbformat": 4,
 "nbformat_minor": 5
}
