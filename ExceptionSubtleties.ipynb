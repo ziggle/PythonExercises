{
 "cells": [
  {
   "cell_type": "markdown",
   "id": "c0f859f0",
   "metadata": {},
   "source": [
    "https://medium.com/pythonland/have-you-been-handling-python-exceptions-the-wrong-way-26dc2ad4a776"
   ]
  },
  {
   "cell_type": "code",
   "execution_count": null,
   "id": "ccb48618",
   "metadata": {},
   "outputs": [
    {
     "name": "stdout",
     "output_type": "stream",
     "text": [
      "Try and stop me\n",
      "Try and stop me\n",
      "Try and stop me\n",
      "Try and stop me\n",
      "Try and stop me\n",
      "Try and stop me\n",
      "Try and stop me\n",
      "Try and stop me\n",
      "Try and stop me\n",
      "Try and stop me\n",
      "Try and stop me\n",
      "Try and stop me\n",
      "Try and stop me\n",
      "Try and stop me\n",
      "Try and stop me\n",
      "Try and stop me\n",
      "Try and stop me\n",
      "Try and stop me\n",
      "Try and stop me\n",
      "Try and stop me\n",
      "Don't.. stop.. me now!\n",
      "Try and stop me\n",
      "Try and stop me\n",
      "Try and stop me\n",
      "Try and stop me\n",
      "Try and stop me\n",
      "Try and stop me\n",
      "Try and stop me\n",
      "Try and stop me\n",
      "Try and stop me\n",
      "Try and stop me\n",
      "Try and stop me\n"
     ]
    }
   ],
   "source": [
    "# Can only be stop by shutdown. All other approaches fail.\n",
    "from time import sleep\n",
    "\n",
    "while True:\n",
    "    try:\n",
    "        print(\"Try and stop me\")\n",
    "        sleep(1)\n",
    "    except:\n",
    "        print(\"Don't.. stop.. me now!\")"
   ]
  },
  {
   "cell_type": "code",
   "execution_count": 1,
   "id": "5522d309",
   "metadata": {},
   "outputs": [
    {
     "name": "stdout",
     "output_type": "stream",
     "text": [
      "Try and stop me\n",
      "Try and stop me\n",
      "Try and stop me\n",
      "Try and stop me\n",
      "Try and stop me\n",
      "Try and stop me\n",
      "Try and stop me\n",
      "Try and stop me\n",
      "Try and stop me\n",
      "Try and stop me\n"
     ]
    },
    {
     "ename": "KeyboardInterrupt",
     "evalue": "",
     "output_type": "error",
     "traceback": [
      "\u001b[1;31m---------------------------------------------------------------------------\u001b[0m",
      "\u001b[1;31mKeyboardInterrupt\u001b[0m                         Traceback (most recent call last)",
      "\u001b[1;32m~\\AppData\\Local\\Temp/ipykernel_4948/2097185959.py\u001b[0m in \u001b[0;36m<module>\u001b[1;34m\u001b[0m\n\u001b[0;32m      4\u001b[0m     \u001b[1;32mtry\u001b[0m\u001b[1;33m:\u001b[0m\u001b[1;33m\u001b[0m\u001b[1;33m\u001b[0m\u001b[0m\n\u001b[0;32m      5\u001b[0m         \u001b[0mprint\u001b[0m\u001b[1;33m(\u001b[0m\u001b[1;34m\"Try and stop me\"\u001b[0m\u001b[1;33m)\u001b[0m\u001b[1;33m\u001b[0m\u001b[1;33m\u001b[0m\u001b[0m\n\u001b[1;32m----> 6\u001b[1;33m         \u001b[0msleep\u001b[0m\u001b[1;33m(\u001b[0m\u001b[1;36m1\u001b[0m\u001b[1;33m)\u001b[0m\u001b[1;33m\u001b[0m\u001b[1;33m\u001b[0m\u001b[0m\n\u001b[0m\u001b[0;32m      7\u001b[0m     \u001b[1;32mexcept\u001b[0m \u001b[0mException\u001b[0m\u001b[1;33m:\u001b[0m\u001b[1;33m\u001b[0m\u001b[1;33m\u001b[0m\u001b[0m\n\u001b[0;32m      8\u001b[0m         \u001b[0mprint\u001b[0m\u001b[1;33m(\u001b[0m\u001b[1;34m\"Ok I'll stop!\"\u001b[0m\u001b[1;33m)\u001b[0m\u001b[1;33m\u001b[0m\u001b[1;33m\u001b[0m\u001b[0m\n",
      "\u001b[1;31mKeyboardInterrupt\u001b[0m: "
     ]
    }
   ],
   "source": [
    "# Should allow some standard stop approaches\n",
    "from time import sleep\n",
    "while True:\n",
    "    try:\n",
    "        print(\"Try and stop me\")\n",
    "        sleep(1)\n",
    "    except Exception:\n",
    "        print(\"Ok I'll stop!\")"
   ]
  },
  {
   "cell_type": "code",
   "execution_count": 2,
   "id": "d1882537",
   "metadata": {},
   "outputs": [
    {
     "name": "stdout",
     "output_type": "stream",
     "text": [
      "error\n"
     ]
    }
   ],
   "source": [
    "\n",
    "import os\n",
    "try:\n",
    "    working_dir = os.getcdw()\n",
    "    print(working_dir)\n",
    "except:\n",
    "    print('error')"
   ]
  }
 ],
 "metadata": {
  "kernelspec": {
   "display_name": "Python 3 (ipykernel)",
   "language": "python",
   "name": "python3"
  },
  "language_info": {
   "codemirror_mode": {
    "name": "ipython",
    "version": 3
   },
   "file_extension": ".py",
   "mimetype": "text/x-python",
   "name": "python",
   "nbconvert_exporter": "python",
   "pygments_lexer": "ipython3",
   "version": "3.9.7"
  }
 },
 "nbformat": 4,
 "nbformat_minor": 5
}
