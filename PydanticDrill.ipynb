{
 "cells": [
  {
   "attachments": {},
   "cell_type": "markdown",
   "metadata": {},
   "source": [
    "https://levelup.gitconnected.com/pydantic-super-simplified-data-validation-in-python-a760c02a8df8"
   ]
  },
  {
   "cell_type": "code",
   "execution_count": 1,
   "metadata": {},
   "outputs": [
    {
     "name": "stdout",
     "output_type": "stream",
     "text": [
      "Collecting pydantic\n",
      "  Downloading pydantic-1.10.8-cp311-cp311-win_amd64.whl (2.1 MB)\n",
      "                                              0.0/2.1 MB ? eta -:--:--\n",
      "     -                                        0.1/2.1 MB 2.6 MB/s eta 0:00:01\n",
      "     -----                                    0.3/2.1 MB 3.4 MB/s eta 0:00:01\n",
      "     -------------                            0.7/2.1 MB 5.4 MB/s eta 0:00:01\n",
      "     ------------------------                 1.3/2.1 MB 7.3 MB/s eta 0:00:01\n",
      "     --------------------------------         1.7/2.1 MB 7.8 MB/s eta 0:00:01\n",
      "     ---------------------------------------  2.1/2.1 MB 7.8 MB/s eta 0:00:01\n",
      "     ---------------------------------------- 2.1/2.1 MB 7.0 MB/s eta 0:00:00\n",
      "Collecting typing-extensions>=4.2.0 (from pydantic)\n",
      "  Downloading typing_extensions-4.6.3-py3-none-any.whl (31 kB)\n",
      "Installing collected packages: typing-extensions, pydantic\n",
      "Successfully installed pydantic-1.10.8 typing-extensions-4.6.3\n"
     ]
    }
   ],
   "source": [
    "#! pip install pydantic"
   ]
  },
  {
   "cell_type": "code",
   "execution_count": 2,
   "metadata": {},
   "outputs": [
    {
     "name": "stdout",
     "output_type": "stream",
     "text": [
      "name='John Doe' age=30\n"
     ]
    }
   ],
   "source": [
    "from pydantic import BaseModel\n",
    "\n",
    "class Person(BaseModel):\n",
    "    name: str\n",
    "    age: int\n",
    "\n",
    "person_data = {\n",
    "    \"name\": \"John Doe\",\n",
    "    \"age\": 30\n",
    "}\n",
    "\n",
    "person = Person(**person_data)\n",
    "print(person)"
   ]
  },
  {
   "cell_type": "code",
   "execution_count": 3,
   "metadata": {},
   "outputs": [
    {
     "ename": "ValidationError",
     "evalue": "1 validation error for Person\ngender\n  field required (type=value_error.missing)",
     "output_type": "error",
     "traceback": [
      "\u001b[1;31m---------------------------------------------------------------------------\u001b[0m",
      "\u001b[1;31mValidationError\u001b[0m                           Traceback (most recent call last)",
      "Cell \u001b[1;32mIn[3], line 13\u001b[0m\n\u001b[0;32m      6\u001b[0m     gender: \u001b[39mstr\u001b[39m\n\u001b[0;32m      8\u001b[0m person_data \u001b[39m=\u001b[39m {\n\u001b[0;32m      9\u001b[0m     \u001b[39m\"\u001b[39m\u001b[39mname\u001b[39m\u001b[39m\"\u001b[39m: \u001b[39m\"\u001b[39m\u001b[39mJohn Doe\u001b[39m\u001b[39m\"\u001b[39m,\n\u001b[0;32m     10\u001b[0m     \u001b[39m\"\u001b[39m\u001b[39mage\u001b[39m\u001b[39m\"\u001b[39m: \u001b[39m30\u001b[39m,\n\u001b[0;32m     11\u001b[0m }\n\u001b[1;32m---> 13\u001b[0m person \u001b[39m=\u001b[39m Person(\u001b[39m*\u001b[39;49m\u001b[39m*\u001b[39;49mperson_data)\n\u001b[0;32m     14\u001b[0m \u001b[39mprint\u001b[39m(person)\n\u001b[0;32m     16\u001b[0m \u001b[39m# Traceback (most recent call last):\u001b[39;00m\n\u001b[0;32m     17\u001b[0m \u001b[39m#   File \"/Users/me/test.py\", line 13, in <module>\u001b[39;00m\n\u001b[0;32m     18\u001b[0m \u001b[39m#     person = Person(**person_data)\u001b[39;00m\n\u001b[1;32m   (...)\u001b[0m\n\u001b[0;32m     22\u001b[0m \u001b[39m# gender\u001b[39;00m\n\u001b[0;32m     23\u001b[0m \u001b[39m#   field required (type=value_error.missing)\u001b[39;00m\n",
      "File \u001b[1;32m~\\AppData\\Local\\Packages\\PythonSoftwareFoundation.Python.3.11_qbz5n2kfra8p0\\LocalCache\\local-packages\\Python311\\site-packages\\pydantic\\main.py:341\u001b[0m, in \u001b[0;36mpydantic.main.BaseModel.__init__\u001b[1;34m()\u001b[0m\n",
      "\u001b[1;31mValidationError\u001b[0m: 1 validation error for Person\ngender\n  field required (type=value_error.missing)"
     ]
    }
   ],
   "source": [
    "from pydantic import BaseModel\n",
    "\n",
    "class Person(BaseModel):\n",
    "    name: str\n",
    "    age: int\n",
    "    gender: str\n",
    "\n",
    "person_data = {\n",
    "    \"name\": \"John Doe\",\n",
    "    \"age\": 30,\n",
    "}\n",
    "\n",
    "person = Person(**person_data)\n",
    "print(person)\n",
    "\n",
    "# Traceback (most recent call last):\n",
    "#   File \"/Users/me/test.py\", line 13, in <module>\n",
    "#     person = Person(**person_data)\n",
    "#              ^^^^^^^^^^^^^^^^^^^^^\n",
    "#   File \"pydantic/main.py\", line 342, in pydantic.main.BaseModel.__init__\n",
    "# pydantic.error_wrappers.ValidationError: 1 validation error for Person\n",
    "# gender\n",
    "#   field required (type=value_error.missing)"
   ]
  },
  {
   "cell_type": "code",
   "execution_count": 4,
   "metadata": {},
   "outputs": [
    {
     "name": "stdout",
     "output_type": "stream",
     "text": [
      "name='John Doe' age=30 gender='male'\n"
     ]
    }
   ],
   "source": [
    "from pydantic import BaseModel\n",
    "\n",
    "class Person(BaseModel):\n",
    "    name: str\n",
    "    age: int\n",
    "    gender: str\n",
    "\n",
    "person_data = {\n",
    "    \"name\": \"John Doe\",\n",
    "    \"age\": 30,\n",
    "    \"gender\": \"male\"\n",
    "}\n",
    "\n",
    "person = Person(**person_data)\n",
    "print(person)"
   ]
  }
 ],
 "metadata": {
  "kernelspec": {
   "display_name": "Python 3",
   "language": "python",
   "name": "python3"
  },
  "language_info": {
   "codemirror_mode": {
    "name": "ipython",
    "version": 3
   },
   "file_extension": ".py",
   "mimetype": "text/x-python",
   "name": "python",
   "nbconvert_exporter": "python",
   "pygments_lexer": "ipython3",
   "version": "3.11.3"
  },
  "orig_nbformat": 4
 },
 "nbformat": 4,
 "nbformat_minor": 2
}
