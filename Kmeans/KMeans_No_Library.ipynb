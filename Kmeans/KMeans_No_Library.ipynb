{
 "cells": [
  {
   "cell_type": "markdown",
   "id": "12191636",
   "metadata": {},
   "source": [
    "https://deeptpanchal.medium.com/implementing-k-means-clustering-from-scratch-ed60faace2e6"
   ]
  },
  {
   "cell_type": "code",
   "execution_count": 1,
   "id": "403ceb72",
   "metadata": {},
   "outputs": [],
   "source": [
    "import random\n",
    "import math\n",
    "import matplotlib.pyplot as plt\n",
    "def read_csv(path, columns):\n",
    "    header = []\n",
    "    data = []\n",
    "    size = 0\n",
    "    with open(path, 'r') as file:\n",
    "        header = file.readline().strip().split(',')\n",
    "        for line in file:\n",
    "            data.append(line.strip().split(','))\n",
    "            size += 1\n",
    "    for i in range(size):\n",
    "        for j in columns:\n",
    "            data[i][j] = float(data[i][j])\n",
    "    return header, data, size"
   ]
  },
  {
   "cell_type": "code",
   "execution_count": 2,
   "id": "91c060d5",
   "metadata": {},
   "outputs": [],
   "source": [
    "def initialize_centroids(data, columns, size, n_clusters):\n",
    "    centroids = [[0 for _ in columns] for _ in range(n_clusters)]\n",
    "    for c_i, d_i in enumerate(random.sample(range(size), n_clusters)):\n",
    "        for c_j, d_j in enumerate(columns):\n",
    "            centroids[c_i][c_j] = data[d_i][d_j]\n",
    "    return centroids"
   ]
  },
  {
   "cell_type": "code",
   "execution_count": 3,
   "id": "7eb290f1",
   "metadata": {},
   "outputs": [],
   "source": [
    "def assign_labels(data, columns, size, centroids):\n",
    "    labels = [[float('inf'), None] for _ in range(size)]\n",
    "    for d_index, d_list in enumerate(data):\n",
    "        for c_index, c_list in enumerate(centroids):\n",
    "            distance = 0\n",
    "            for index, value in enumerate(columns):\n",
    "                distance += (d_list[value]-c_list[index])**2\n",
    "            squared_distance = math.sqrt(distance)\n",
    "            if squared_distance < labels[d_index][0]:\n",
    "                labels[d_index] = [squared_distance, c_index]\n",
    "    return labels"
   ]
  },
  {
   "cell_type": "code",
   "execution_count": 4,
   "id": "09f0ed0d",
   "metadata": {},
   "outputs": [],
   "source": [
    "def update_centroids(data, columns, n_clusters, labels):\n",
    "    new_centroids = [[0 for _ in columns] for _ in range(n_clusters)]\n",
    "    count = [0 for _ in range(n_clusters)]\n",
    "    for d_index, d_list in enumerate(data):\n",
    "        count[labels[d_index][1]] += 1\n",
    "        for index, value in enumerate(columns):\n",
    "            new_centroids[labels[d_index][1]][index] += d_list[value]\n",
    "    for c_index, c_value in enumerate(new_centroids):\n",
    "        for index, value in enumerate(c_value):\n",
    "            new_centroids[c_index][index] /= count[c_index]\n",
    "    return new_centroids"
   ]
  },
  {
   "cell_type": "code",
   "execution_count": 5,
   "id": "c49c239d",
   "metadata": {},
   "outputs": [],
   "source": [
    "def calculate_inertia(labels):\n",
    "    inertia = 0\n",
    "    for _, value in enumerate(labels):\n",
    "        inertia += value[0] ** 2\n",
    "    return inertia"
   ]
  },
  {
   "cell_type": "code",
   "execution_count": 6,
   "id": "9dc72202",
   "metadata": {},
   "outputs": [],
   "source": [
    "def KMeans(data, columns, size, n_clusters, n_init=30):\n",
    "    centroids = None\n",
    "    labels = None\n",
    "    inertia = float('inf')\n",
    "    for _ in range(n_init):\n",
    "        centroids_ = initialize_centroids(data, columns, size, n_clusters)\n",
    "        try:\n",
    "            while True:\n",
    "                labels_ = assign_labels(data, columns, size, centroids_)\n",
    "                new_centroids = update_centroids(\n",
    "                    data, columns, n_clusters, labels_)\n",
    "                if new_centroids == centroids_:\n",
    "                    break\n",
    "                centroids_ = new_centroids\n",
    "            inertia_ = calculate_inertia(labels_)\n",
    "            if inertia_ < inertia:\n",
    "                centroids, labels, inertia = centroids_, labels_, inertia_\n",
    "        except:\n",
    "            continue\n",
    "    return centroids, labels, inertia"
   ]
  },
  {
   "cell_type": "code",
   "execution_count": 7,
   "id": "9f6fef7b",
   "metadata": {},
   "outputs": [
    {
     "data": {
      "image/png": "[encoded data removed]",
      "text/plain": [
       "<Figure size 432x288 with 1 Axes>"
      ]
     },
     "metadata": {
      "needs_background": "light"
     },
     "output_type": "display_data"
    }
   ],
   "source": [
    "filePath = './Mall_Customers.csv'\n",
    "columns = [3, 4]\n",
    "header, data, size = read_csv(filePath, columns)\n",
    "for d in data:\n",
    "    plt.scatter(float(d[3]), float(d[4]), color='#1f77b4')\n",
    "plt.show()"
   ]
  },
  {
   "cell_type": "code",
   "execution_count": 8,
   "id": "2dbfe861",
   "metadata": {},
   "outputs": [
    {
     "data": {
      "image/png": "[encoded data removed]",
      "text/plain": [
       "<Figure size 432x288 with 1 Axes>"
      ]
     },
     "metadata": {
      "needs_background": "light"
     },
     "output_type": "display_data"
    }
   ],
   "source": [
    "for i in range(1, 11):\n",
    "    centroids, labels, inertia = KMeans(data, columns, size, i)\n",
    "    plt.scatter(i, inertia/10000)\n",
    "plt.xlabel('n-clusters')\n",
    "plt.ylabel('Inertia')\n",
    "plt.show()"
   ]
  },
  {
   "cell_type": "code",
   "execution_count": 9,
   "id": "f94b8318",
   "metadata": {},
   "outputs": [
    {
     "name": "stdout",
     "output_type": "stream",
     "text": [
      "44448.4554479337\n",
      "[[25.727272727272727, 79.36363636363636], [88.2, 17.114285714285714], [55.2962962962963, 49.51851851851852], [26.304347826086957, 20.91304347826087], [86.53846153846153, 82.12820512820512]]\n"
     ]
    },
    {
     "data": {
      "image/png": "[encoded data removed]",
      "text/plain": [
       "<Figure size 432x288 with 1 Axes>"
      ]
     },
     "metadata": {
      "needs_background": "light"
     },
     "output_type": "display_data"
    }
   ],
   "source": [
    "n_clusters = 5\n",
    "centroids, labels, inertia = KMeans(data, columns, size, n_clusters)\n",
    "print(inertia)\n",
    "print(centroids)\n",
    "for i, d in enumerate(data):\n",
    "    c = str(round(labels[i][1]/n_clusters, 1))\n",
    "    plt.scatter(d[3], d[4], color=c)\n",
    "for c in centroids:\n",
    "    plt.scatter(c[0], c[1], color='brown')\n",
    "plt.show()"
   ]
  },
  {
   "cell_type": "code",
   "execution_count": null,
   "id": "edce04e5",
   "metadata": {},
   "outputs": [],
   "source": []
  }
 ],
 "metadata": {
  "kernelspec": {
   "display_name": "Python 3 (ipykernel)",
   "language": "python",
   "name": "python3"
  },
  "language_info": {
   "codemirror_mode": {
    "name": "ipython",
    "version": 3
   },
   "file_extension": ".py",
   "mimetype": "text/x-python",
   "name": "python",
   "nbconvert_exporter": "python",
   "pygments_lexer": "ipython3",
   "version": "3.9.7"
  }
 },
 "nbformat": 4,
 "nbformat_minor": 5
}
