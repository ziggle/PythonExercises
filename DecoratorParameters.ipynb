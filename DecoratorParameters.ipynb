{
 "cells": [
  {
   "cell_type": "markdown",
   "id": "b8601e9a",
   "metadata": {},
   "source": [
    "https://betterprogramming.pub/how-to-write-python-decorators-that-take-parameters-b5a07d7fe393"
   ]
  },
  {
   "cell_type": "code",
   "execution_count": 8,
   "id": "9362c739",
   "metadata": {},
   "outputs": [
    {
     "name": "stdout",
     "output_type": "stream",
     "text": [
      "Hello!\n",
      "Hello!\n"
     ]
    }
   ],
   "source": [
    "# Define a decorator function\n",
    "def echo_wrapper(func):\n",
    "    def wrapper():\n",
    "        func()\n",
    "        func()\n",
    "    return wrapper\n",
    "\n",
    "# Define a function that is decorated by echo_wrapper\n",
    "@echo_wrapper\n",
    "def say_hello():\n",
    "    print('Hello!')\n",
    "\n",
    "# Call the decorated function\n",
    "say_hello()"
   ]
  },
  {
   "cell_type": "code",
   "execution_count": 9,
   "id": "da76dbdd",
   "metadata": {},
   "outputs": [
    {
     "name": "stdout",
     "output_type": "stream",
     "text": [
      "Hi!\n",
      "Hi!\n"
     ]
    }
   ],
   "source": [
    "# Define a function\n",
    "def say_hi():\n",
    "    print('Hi!')\n",
    "\n",
    "# Send the function to the echo_wrapper\n",
    "echo_wrapper(say_hi)()"
   ]
  },
  {
   "cell_type": "code",
   "execution_count": 10,
   "id": "18813e1c",
   "metadata": {},
   "outputs": [
    {
     "name": "stdout",
     "output_type": "stream",
     "text": [
      "Hi!\n",
      "Hi!\n",
      "Hi!\n",
      "Hi!\n"
     ]
    }
   ],
   "source": [
    "# Define a decorator function\n",
    "def echo_wrapper_count(func, count=1):\n",
    "    def wrapper():\n",
    "        for _ in range(count+1):\n",
    "            func()\n",
    "    return wrapper\n",
    "\n",
    "# Try the new wrapper using the explicit way\n",
    "echo_wrapper_count(say_hi, count=3)()"
   ]
  },
  {
   "cell_type": "code",
   "execution_count": 12,
   "id": "a7794576",
   "metadata": {},
   "outputs": [
    {
     "name": "stdout",
     "output_type": "stream",
     "text": [
      "Inside better_echo_wrapper_count: 3\n",
      "Inside decorator\n",
      "Inside wrapper\n",
      "Hi Python Learner\n",
      "Hi Python Learner\n",
      "Hi Python Learner\n",
      "Hi Python Learner\n"
     ]
    }
   ],
   "source": [
    "# Define a decorator function\n",
    "def better_echo_wrapper_count(count=1):\n",
    "    print(f'Inside better_echo_wrapper_count: {count}')\n",
    "    def decorator(func):\n",
    "        print('Inside decorator')\n",
    "        def wrapper():\n",
    "            print('Inside wrapper')\n",
    "            for _ in range(count+1):\n",
    "                func()\n",
    "        return wrapper\n",
    "    return decorator\n",
    "\n",
    "# Declare a decorated function\n",
    "@better_echo_wrapper_count(count=3)\n",
    "def greet():\n",
    "    print(\"Hi Python Learner\")\n",
    "    \n",
    "greet()"
   ]
  },
  {
   "cell_type": "code",
   "execution_count": 13,
   "id": "109b4f4a",
   "metadata": {},
   "outputs": [],
   "source": [
    "# Define a decorator function\n",
    "def best_echo_wrapper_count(func=None, count=1):\n",
    "    print(f'Inside best_echo_wrapper_count: {count}')\n",
    "    # Branch 1: @decorator using ()\n",
    "    if func is None:\n",
    "        print('func is None')\n",
    "        def decorator(func):\n",
    "            print('Inside decorator')\n",
    "            def wrapper():\n",
    "                print('Inside wrapper 1')\n",
    "                for _ in range(count+1):\n",
    "                    func()\n",
    "            return wrapper\n",
    "        return decorator\n",
    "    # Branch 2 @decorator not using ()\n",
    "    def wrapper():\n",
    "        print('Inside wrapper 2')\n",
    "        for _ in range(count+1):\n",
    "            func()\n",
    "    return wrapper"
   ]
  },
  {
   "cell_type": "code",
   "execution_count": 14,
   "id": "723332b9",
   "metadata": {},
   "outputs": [
    {
     "name": "stdout",
     "output_type": "stream",
     "text": [
      "Inside best_echo_wrapper_count: 1\n"
     ]
    }
   ],
   "source": [
    "# Decoration without calling using parentheses\n",
    "@best_echo_wrapper_count\n",
    "def hello1():\n",
    "    print('Hello 1')\n"
   ]
  },
  {
   "cell_type": "code",
   "execution_count": 15,
   "id": "0641a488",
   "metadata": {},
   "outputs": [
    {
     "name": "stdout",
     "output_type": "stream",
     "text": [
      "Inside best_echo_wrapper_count: 2\n",
      "func is None\n",
      "Inside decorator\n"
     ]
    }
   ],
   "source": [
    "# Decoration specifying the count\n",
    "@best_echo_wrapper_count(count=2)\n",
    "def hello2():\n",
    "    print('Hello 2')\n"
   ]
  },
  {
   "cell_type": "code",
   "execution_count": 16,
   "id": "1c69c7a7",
   "metadata": {},
   "outputs": [
    {
     "name": "stdout",
     "output_type": "stream",
     "text": [
      "Inside wrapper 1\n",
      "Hello 2\n",
      "Hello 2\n",
      "Hello 2\n"
     ]
    }
   ],
   "source": [
    "hello2()"
   ]
  },
  {
   "cell_type": "code",
   "execution_count": 17,
   "id": "8a94dc0e",
   "metadata": {},
   "outputs": [
    {
     "name": "stdout",
     "output_type": "stream",
     "text": [
      "Get Better\n",
      "Get Better\n",
      "Get Better2\n",
      "Get Better2\n",
      "Get Better2\n"
     ]
    }
   ],
   "source": [
    "# Import the needed module\n",
    "from functools import partial\n",
    "\n",
    "# Define a decorator function\n",
    "def best_echo_wrapper_count_v2(func=None, count=1):\n",
    "    if func is None:\n",
    "        return partial(best_echo_wrapper_count_v2, count=count)\n",
    "    def wrapper():\n",
    "        for _ in range(count+1):\n",
    "            func()\n",
    "    return wrapper\n",
    "\n",
    "# Decorate functions\n",
    "@best_echo_wrapper_count_v2\n",
    "def get_better():\n",
    "    print(\"Get Better\")\n",
    "\n",
    "@best_echo_wrapper_count_v2(count=2)\n",
    "def get_better2():\n",
    "    print(\"Get Better2\")\n",
    "\n",
    "# Call decorated functions\n",
    "get_better()\n",
    "get_better2()\n"
   ]
  }
 ],
 "metadata": {
  "kernelspec": {
   "display_name": "Python 3 (ipykernel)",
   "language": "python",
   "name": "python3"
  },
  "language_info": {
   "codemirror_mode": {
    "name": "ipython",
    "version": 3
   },
   "file_extension": ".py",
   "mimetype": "text/x-python",
   "name": "python",
   "nbconvert_exporter": "python",
   "pygments_lexer": "ipython3",
   "version": "3.9.7"
  }
 },
 "nbformat": 4,
 "nbformat_minor": 5
}
