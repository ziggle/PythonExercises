{
 "cells": [
  {
   "cell_type": "code",
   "execution_count": 18,
   "metadata": {},
   "outputs": [
    {
     "name": "stdout",
     "output_type": "stream",
     "text": [
      "1\n",
      "mean estimate: 0.2655826558265584\n",
      "mean estimate: 0.7474193548387096\n",
      "mean estimate: 0.5498489425981874\n",
      "total reward earned: 7231.0\n",
      "overall win rate: 0.7231\n",
      "num_times_explored: 1001\n",
      "num_times_exploited: 8999\n",
      "num times selected optimal bandit: 9300\n"
     ]
    },
    {
     "data": {
      "image/png": "[encoded data removed]",
      "text/plain": [
       "<Figure size 640x480 with 1 Axes>"
      ]
     },
     "metadata": {},
     "output_type": "display_data"
    }
   ],
   "source": [
    "import random\n",
    "import numpy as np\n",
    "import matplotlib.pyplot as plt\n",
    "N=10000\n",
    "rewards = np.zeros(N)\n",
    "p_ref=[0.25,0.75,0.5]\n",
    "p_explore=0.1\n",
    "p_exploit=1-p_explore\n",
    "n_explored=0\n",
    "n_exploited=0\n",
    "n_optimal=0\n",
    "\n",
    "class Bandit():\n",
    "    def __init__(self,p):\n",
    "        self.p=p\n",
    "        self.p_est = 0\n",
    "        self.n=0\n",
    "\n",
    "    def pull(self):\n",
    "        return np.random.random()<self.p\n",
    "    \n",
    "    def update(self,win):\n",
    "        self.n += 1.\n",
    "        self.p_est = (win+(self.n-1)*self.p_est)/self.n\n",
    "\n",
    "bandits = [Bandit(p) for p in p_ref]\n",
    "x=[b.p for b in bandits]\n",
    "xmx = max(x)\n",
    "optimal_j=x.index(xmx)\n",
    "print(optimal_j)\n",
    "\n",
    "for i in range(N):\n",
    "    if np.random.random()<p_explore:\n",
    "        n_explored+=1\n",
    "        j = np.random.randint(len(bandits))\n",
    "    else:\n",
    "        n_exploited += 1\n",
    "        l=[b.p_est for b in bandits]\n",
    "        lmx=max(l)\n",
    "        j = l.index(lmx)        \n",
    "    \n",
    "    if j == optimal_j:\n",
    "        n_optimal += 1\n",
    "\n",
    "    # pull the arm for the bandit with the largest sample\n",
    "    x = bandits[j].pull()\n",
    "\n",
    "    # update rewards log\n",
    "    rewards[i] = x\n",
    "\n",
    "    # update the distribution for the bandit whose arm we just pulled\n",
    "    bandits[j].update(x)\n",
    "\n",
    " # print mean estimates for each bandit\n",
    "for b in bandits:\n",
    "    print(\"mean estimate:\", b.p_est)\n",
    "\n",
    "  # print total reward\n",
    "print(\"total reward earned:\", rewards.sum())\n",
    "print(\"overall win rate:\", rewards.sum() / N)\n",
    "print(\"num_times_explored:\", n_explored)\n",
    "print(\"num_times_exploited:\", n_exploited)\n",
    "print(\"num times selected optimal bandit:\", n_optimal)\n",
    "\n",
    "  # plot the results\n",
    "cumulative_rewards = np.cumsum(rewards)\n",
    "win_rates = cumulative_rewards / (np.arange(N) + 1)\n",
    "plt.plot(win_rates)\n",
    "plt.plot(np.ones(N)*np.max(p_ref))\n",
    "plt.show()\n",
    "        "
   ]
  },
  {
   "cell_type": "code",
   "execution_count": null,
   "metadata": {},
   "outputs": [],
   "source": []
  }
 ],
 "metadata": {
  "kernelspec": {
   "display_name": "Python 3",
   "language": "python",
   "name": "python3"
  },
  "language_info": {
   "codemirror_mode": {
    "name": "ipython",
    "version": 3
   },
   "file_extension": ".py",
   "mimetype": "text/x-python",
   "name": "python",
   "nbconvert_exporter": "python",
   "pygments_lexer": "ipython3",
   "version": "3.11.7"
  }
 },
 "nbformat": 4,
 "nbformat_minor": 2
}
