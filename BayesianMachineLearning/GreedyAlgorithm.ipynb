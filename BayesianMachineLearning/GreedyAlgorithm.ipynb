{
 "cells": [
  {
   "cell_type": "code",
   "execution_count": 1,
   "metadata": {},
   "outputs": [
    {
     "name": "stdout",
     "output_type": "stream",
     "text": [
      "optimal j: 2\n",
      "mean estimate: 0.16314199395770398\n",
      "mean estimate: 0.4725274725274726\n",
      "mean estimate: 0.7516389038151526\n",
      "total reward earned: 7220.0\n",
      "overall win rate: 0.722\n",
      "num_times_explored: 983\n",
      "num_times_exploited: 9017\n",
      "num times selected optimal bandit: 9305\n"
     ]
    },
    {
     "data": {
      "image/png": "[encoded data removed]",
      "text/plain": [
       "<Figure size 640x480 with 1 Axes>"
      ]
     },
     "metadata": {},
     "output_type": "display_data"
    }
   ],
   "source": [
    "# From the course: Bayesin Machine Learning in Python: A/B Testing\n",
    "# https://deeplearningcourses.com/c/bayesian-machine-learning-in-python-ab-testing\n",
    "# https://www.udemy.com/bayesian-machine-learning-in-python-ab-testing\n",
    "from __future__ import print_function, division\n",
    "from builtins import range\n",
    "# Note: you may need to update your version of future\n",
    "# sudo pip install -U future\n",
    "\n",
    "\n",
    "import matplotlib.pyplot as plt\n",
    "import numpy as np\n",
    "\n",
    "\n",
    "NUM_TRIALS = 10000\n",
    "EPS = 0.1\n",
    "BANDIT_PROBABILITIES = [0.2, 0.5, 0.75]\n",
    "\n",
    "\n",
    "class BanditArm:\n",
    "  def __init__(self, p):\n",
    "    # p: the win rate\n",
    "    self.p = p\n",
    "    self.p_estimate = 0.\n",
    "    self.N = 0. # num samples collected so far\n",
    "\n",
    "  def pull(self):\n",
    "    # draw a 1 with probability p\n",
    "    return np.random.random() < self.p\n",
    "\n",
    "  def update(self, x):\n",
    "    self.N += 1.\n",
    "    self.p_estimate = ((self.N - 1)*self.p_estimate + x) / self.N\n",
    "\n",
    "\n",
    "def choose_random_argmax(a):\n",
    "  idx = np.argwhere(np.amax(a) == a).flatten()\n",
    "  return np.random.choice(idx)\n",
    "\n",
    "\n",
    "def experiment():\n",
    "  bandits = [BanditArm(p) for p in BANDIT_PROBABILITIES]\n",
    "\n",
    "  rewards = np.zeros(NUM_TRIALS)\n",
    "  num_times_explored = 0\n",
    "  num_times_exploited = 0\n",
    "  num_optimal = 0\n",
    "  optimal_j = np.argmax([b.p for b in bandits])\n",
    "  print(\"optimal j:\", optimal_j)\n",
    "\n",
    "  for i in range(NUM_TRIALS):\n",
    "\n",
    "    # use epsilon-greedy to select the next bandit\n",
    "    if np.random.random() < EPS:\n",
    "      num_times_explored += 1\n",
    "      j = np.random.randint(len(bandits))\n",
    "    else:\n",
    "      num_times_exploited += 1\n",
    "      j = choose_random_argmax([b.p_estimate for b in bandits])\n",
    "\n",
    "    if j == optimal_j:\n",
    "      num_optimal += 1\n",
    "\n",
    "    # pull the arm for the bandit with the largest sample\n",
    "    x = bandits[j].pull()\n",
    "\n",
    "    # update rewards log\n",
    "    rewards[i] = x\n",
    "\n",
    "    # update the distribution for the bandit whose arm we just pulled\n",
    "    bandits[j].update(x)\n",
    "\n",
    "    \n",
    "\n",
    "  # print mean estimates for each bandit\n",
    "  for b in bandits:\n",
    "    print(\"mean estimate:\", b.p_estimate)\n",
    "\n",
    "  # print total reward\n",
    "  print(\"total reward earned:\", rewards.sum())\n",
    "  print(\"overall win rate:\", rewards.sum() / NUM_TRIALS)\n",
    "  print(\"num_times_explored:\", num_times_explored)\n",
    "  print(\"num_times_exploited:\", num_times_exploited)\n",
    "  print(\"num times selected optimal bandit:\", num_optimal)\n",
    "\n",
    "  # plot the results\n",
    "  cumulative_rewards = np.cumsum(rewards)\n",
    "  win_rates = cumulative_rewards / (np.arange(NUM_TRIALS) + 1)\n",
    "  plt.plot(win_rates)\n",
    "  plt.plot(np.ones(NUM_TRIALS)*np.max(BANDIT_PROBABILITIES))\n",
    "  plt.show()\n",
    "\n",
    "if __name__ == \"__main__\":\n",
    "  experiment()"
   ]
  },
  {
   "cell_type": "code",
   "execution_count": 9,
   "metadata": {},
   "outputs": [
    {
     "data": {
      "text/plain": [
       "5"
      ]
     },
     "execution_count": 9,
     "metadata": {},
     "output_type": "execute_result"
    }
   ],
   "source": [
    "a=[1,2,3,4,5]\n",
    "np.amax(a)"
   ]
  },
  {
   "cell_type": "code",
   "execution_count": 20,
   "metadata": {},
   "outputs": [
    {
     "data": {
      "text/plain": [
       "4"
      ]
     },
     "execution_count": 20,
     "metadata": {},
     "output_type": "execute_result"
    }
   ],
   "source": [
    "q=np.argwhere(np.amax(a)==a).flatten()\n",
    "np.random.choice(q)"
   ]
  },
  {
   "cell_type": "code",
   "execution_count": null,
   "metadata": {},
   "outputs": [],
   "source": []
  }
 ],
 "metadata": {
  "kernelspec": {
   "display_name": "Python 3",
   "language": "python",
   "name": "python3"
  },
  "language_info": {
   "codemirror_mode": {
    "name": "ipython",
    "version": 3
   },
   "file_extension": ".py",
   "mimetype": "text/x-python",
   "name": "python",
   "nbconvert_exporter": "python",
   "pygments_lexer": "ipython3",
   "version": "3.11.8"
  }
 },
 "nbformat": 4,
 "nbformat_minor": 2
}
