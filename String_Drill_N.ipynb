{
 "cells": [
  {
   "cell_type": "markdown",
   "id": "dc1fbce0",
   "metadata": {},
   "source": [
    "https://medium.com/analytics-vidhya/interesting-cool-python-tricks-for-working-with-strings-d37fcf8842b2"
   ]
  },
  {
   "cell_type": "code",
   "execution_count": 1,
   "id": "c1e1f649",
   "metadata": {},
   "outputs": [
    {
     "data": {
      "text/plain": [
       "6"
      ]
     },
     "execution_count": 1,
     "metadata": {},
     "output_type": "execute_result"
    }
   ],
   "source": [
    "word = 'Sample'\n",
    "len(word)"
   ]
  },
  {
   "cell_type": "code",
   "execution_count": 2,
   "id": "9112b79d",
   "metadata": {},
   "outputs": [
    {
     "data": {
      "text/plain": [
       "'Sample trick'"
      ]
     },
     "execution_count": 2,
     "metadata": {},
     "output_type": "execute_result"
    }
   ],
   "source": [
    "word = 'Sample'\n",
    "word + ' ' + 'trick'"
   ]
  },
  {
   "cell_type": "code",
   "execution_count": 3,
   "id": "90071b96",
   "metadata": {},
   "outputs": [
    {
     "data": {
      "text/plain": [
       "'p'"
      ]
     },
     "execution_count": 3,
     "metadata": {},
     "output_type": "execute_result"
    }
   ],
   "source": [
    "\n",
    "word = 'Sample'\n",
    "word[3]"
   ]
  },
  {
   "cell_type": "code",
   "execution_count": 4,
   "id": "f7317b45",
   "metadata": {},
   "outputs": [
    {
     "data": {
      "text/plain": [
       "'l'"
      ]
     },
     "execution_count": 4,
     "metadata": {},
     "output_type": "execute_result"
    }
   ],
   "source": [
    "word = 'Sample'\n",
    "word[-2]"
   ]
  },
  {
   "cell_type": "code",
   "execution_count": 5,
   "id": "21854c2a",
   "metadata": {},
   "outputs": [
    {
     "data": {
      "text/plain": [
       "'elpmaS'"
      ]
     },
     "execution_count": 5,
     "metadata": {},
     "output_type": "execute_result"
    }
   ],
   "source": [
    "word = 'Sample'\n",
    "word[::-1]"
   ]
  },
  {
   "cell_type": "code",
   "execution_count": 6,
   "id": "4b1eddb5",
   "metadata": {},
   "outputs": [
    {
     "name": "stdout",
     "output_type": "stream",
     "text": [
      "e\n",
      "l\n",
      "p\n",
      "m\n",
      "a\n",
      "S\n"
     ]
    }
   ],
   "source": [
    "\n",
    "word = 'Sample'\n",
    "for char in reversed(word):    \n",
    "    print(char)"
   ]
  },
  {
   "cell_type": "code",
   "execution_count": 7,
   "id": "7db056b6",
   "metadata": {},
   "outputs": [
    {
     "data": {
      "text/plain": [
       "'Sampl'"
      ]
     },
     "execution_count": 7,
     "metadata": {},
     "output_type": "execute_result"
    }
   ],
   "source": [
    "\n",
    "word = 'Sample'\n",
    "word[0:3] \n",
    "\n",
    "\n",
    "word = 'Sample'\n",
    "word[4:5] \n",
    "\n",
    "\n",
    "word = 'Sample'\n",
    "word[:5] \n"
   ]
  },
  {
   "cell_type": "code",
   "execution_count": 8,
   "id": "0819b9ae",
   "metadata": {},
   "outputs": [
    {
     "data": {
      "text/plain": [
       "'sam'"
      ]
     },
     "execution_count": 8,
     "metadata": {},
     "output_type": "execute_result"
    }
   ],
   "source": [
    "'   Sample   '.strip()\n",
    "\n",
    "'sample'.strip('ple')\n"
   ]
  },
  {
   "cell_type": "code",
   "execution_count": 9,
   "id": "951552ed",
   "metadata": {},
   "outputs": [
    {
     "data": {
      "text/plain": [
       "'-00010'"
      ]
     },
     "execution_count": 9,
     "metadata": {},
     "output_type": "execute_result"
    }
   ],
   "source": [
    "\"10\".zfill(6)\n",
    "\n",
    "\"-10\".zfill(6)\n"
   ]
  },
  {
   "cell_type": "code",
   "execution_count": 11,
   "id": "d829eeb9",
   "metadata": {},
   "outputs": [
    {
     "name": "stdout",
     "output_type": "stream",
     "text": [
      "1\n"
     ]
    },
    {
     "data": {
      "text/plain": [
       "True"
      ]
     },
     "execution_count": 11,
     "metadata": {},
     "output_type": "execute_result"
    }
   ],
   "source": [
    "print('sample'.find('am',0,5))\n",
    "\n",
    "'sam' in 'sample'\n"
   ]
  },
  {
   "cell_type": "code",
   "execution_count": 12,
   "id": "aa43d621",
   "metadata": {},
   "outputs": [
    {
     "data": {
      "text/plain": [
       "True"
      ]
     },
     "execution_count": 12,
     "metadata": {},
     "output_type": "execute_result"
    }
   ],
   "source": [
    "' '.isalnum()\n",
    "\n",
    "'abc'.isalnum()\n"
   ]
  },
  {
   "cell_type": "code",
   "execution_count": 13,
   "id": "c7b97d18",
   "metadata": {},
   "outputs": [
    {
     "data": {
      "text/plain": [
       "False"
      ]
     },
     "execution_count": 13,
     "metadata": {},
     "output_type": "execute_result"
    }
   ],
   "source": [
    "' '.isspace()\n",
    "\n",
    "'Sample  '.isspace()\n"
   ]
  },
  {
   "cell_type": "code",
   "execution_count": 14,
   "id": "965c5dbc",
   "metadata": {},
   "outputs": [
    {
     "data": {
      "text/plain": [
       "'mississ'"
      ]
     },
     "execution_count": 14,
     "metadata": {},
     "output_type": "execute_result"
    }
   ],
   "source": [
    "'   sample   '.rstrip()\n",
    "\n",
    "'mississippi'.rstrip('ipz')\n"
   ]
  },
  {
   "cell_type": "code",
   "execution_count": 15,
   "id": "6775f0db",
   "metadata": {},
   "outputs": [
    {
     "name": "stdout",
     "output_type": "stream",
     "text": [
      "This is Sample\n"
     ]
    }
   ],
   "source": [
    "Test = [\"This\",\"is\",\"Sample\"]\n",
    "print(\" \".join(Test))\n"
   ]
  },
  {
   "cell_type": "code",
   "execution_count": 16,
   "id": "5e4a0531",
   "metadata": {},
   "outputs": [
    {
     "data": {
      "text/plain": [
       "True"
      ]
     },
     "execution_count": 16,
     "metadata": {},
     "output_type": "execute_result"
    }
   ],
   "source": [
    "\"sample\".startswith((\"sam\",\"Sam\"))\n",
    "\n",
    "\"sample\".endswith((\"ple\",\"ple.\"))\n"
   ]
  },
  {
   "cell_type": "code",
   "execution_count": 17,
   "id": "262b27d7",
   "metadata": {},
   "outputs": [
    {
     "data": {
      "text/plain": [
       "['This', 'is', 'a', 'Sample']"
      ]
     },
     "execution_count": 17,
     "metadata": {},
     "output_type": "execute_result"
    }
   ],
   "source": [
    "\"This is a Sample\".split()\n"
   ]
  },
  {
   "cell_type": "code",
   "execution_count": 22,
   "id": "4fe06e42",
   "metadata": {},
   "outputs": [
    {
     "name": "stdout",
     "output_type": "stream",
     "text": [
      "young\n"
     ]
    }
   ],
   "source": [
    "from collections import Counter\n",
    "sentence = \"She was young the way an actual young person is young\".split()\n",
    "most_frequent_word = max(set(sentence),key=sentence.count)\n",
    "print(most_frequent_word)\n"
   ]
  },
  {
   "cell_type": "code",
   "execution_count": 23,
   "id": "c70c333c",
   "metadata": {},
   "outputs": [
    {
     "data": {
      "text/plain": [
       "Counter({'She': 1,\n",
       "         'was': 1,\n",
       "         'young': 2,\n",
       "         'the': 1,\n",
       "         'way': 1,\n",
       "         'an': 1,\n",
       "         'actual': 1,\n",
       "         'person': 1,\n",
       "         'is': 1,\n",
       "         'youn': 1})"
      ]
     },
     "execution_count": 23,
     "metadata": {},
     "output_type": "execute_result"
    }
   ],
   "source": [
    "from collections import Counter\n",
    "sentence = \"She was young the way an actual young person is youn\".split()\n",
    "Counter(sentence)"
   ]
  },
  {
   "cell_type": "code",
   "execution_count": 24,
   "id": "8c7959ae",
   "metadata": {},
   "outputs": [
    {
     "data": {
      "text/plain": [
       "['sounds', 'The', 'sound']"
      ]
     },
     "execution_count": 24,
     "metadata": {},
     "output_type": "execute_result"
    }
   ],
   "source": [
    "sentence = \"The sound sounds sound\".split()\n",
    "list(set(sentence))\n"
   ]
  },
  {
   "cell_type": "code",
   "execution_count": 25,
   "id": "05213787",
   "metadata": {},
   "outputs": [
    {
     "data": {
      "text/plain": [
       "['The', 'sound', 'sounds']"
      ]
     },
     "execution_count": 25,
     "metadata": {},
     "output_type": "execute_result"
    }
   ],
   "source": [
    "from collections import OrderedDict\n",
    "sentence = \"The sound sounds sound\".split()\n",
    "list(OrderedDict.fromkeys(sentence).keys())\n"
   ]
  },
  {
   "cell_type": "code",
   "execution_count": 26,
   "id": "68f495fa",
   "metadata": {},
   "outputs": [
    {
     "name": "stdout",
     "output_type": "stream",
     "text": [
      "['Sample', 'is', 'This']\n"
     ]
    }
   ],
   "source": [
    "sentence = \"This is Sample\".split()\n",
    "sentence.reverse()\n",
    "print(sentence)\n"
   ]
  },
  {
   "cell_type": "code",
   "execution_count": 27,
   "id": "9580e7af",
   "metadata": {},
   "outputs": [
    {
     "name": "stdout",
     "output_type": "stream",
     "text": [
      "This\n",
      "is\n",
      "Sample\n"
     ]
    }
   ],
   "source": [
    "sentence = \"This is Sample\".split()\n",
    "first_word, second_word, third_word = sentence\n",
    "print(first_word)\n",
    "print(second_word)\n",
    "print(third_word)"
   ]
  },
  {
   "cell_type": "code",
   "execution_count": 28,
   "id": "785cbc0d",
   "metadata": {},
   "outputs": [
    {
     "name": "stdout",
     "output_type": "stream",
     "text": [
      "Tom 35\n",
      "Marry 30\n",
      "Jon 40\n"
     ]
    }
   ],
   "source": [
    "Name = ['Tom', 'Marry', 'Jon']\n",
    "Age = ['35', '30', '40']\n",
    "for Name, Age in zip(Name,Age):\n",
    "    print(Name,Age)"
   ]
  },
  {
   "cell_type": "code",
   "execution_count": 29,
   "id": "61714594",
   "metadata": {},
   "outputs": [
    {
     "data": {
      "text/plain": [
       "['string3', 'string2', 'string1']"
      ]
     },
     "execution_count": 29,
     "metadata": {},
     "output_type": "execute_result"
    }
   ],
   "source": [
    "sorted(['string1','string2','string3'],reverse=True)"
   ]
  },
  {
   "cell_type": "code",
   "execution_count": null,
   "id": "1cc20cc5",
   "metadata": {},
   "outputs": [],
   "source": []
  }
 ],
 "metadata": {
  "kernelspec": {
   "display_name": "Python 3 (ipykernel)",
   "language": "python",
   "name": "python3"
  },
  "language_info": {
   "codemirror_mode": {
    "name": "ipython",
    "version": 3
   },
   "file_extension": ".py",
   "mimetype": "text/x-python",
   "name": "python",
   "nbconvert_exporter": "python",
   "pygments_lexer": "ipython3",
   "version": "3.9.7"
  }
 },
 "nbformat": 4,
 "nbformat_minor": 5
}
