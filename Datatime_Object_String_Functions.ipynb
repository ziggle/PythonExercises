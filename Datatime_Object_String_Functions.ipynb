{
 "cells": [
  {
   "cell_type": "markdown",
   "id": "1dcf6f37",
   "metadata": {},
   "source": [
    "https://pub.towardsai.net/converting-strings-to-datetime-in-python-fb767394b125"
   ]
  },
  {
   "cell_type": "code",
   "execution_count": 1,
   "id": "4f91edd0",
   "metadata": {},
   "outputs": [
    {
     "name": "stdout",
     "output_type": "stream",
     "text": [
      "2021-05-01 00:00:00\n",
      "2021-05-01 00:00:00\n",
      "2020-12-31 00:00:00\n",
      "2020-12-31 23:55:55\n"
     ]
    }
   ],
   "source": [
    "from datetime import datetime\n",
    "\n",
    "datetime_1 = datetime.strptime('05/01/2021', '%m/%d/%Y')\n",
    "print(datetime_1)\n",
    "\n",
    "datetime_2 =datetime.strptime('5/1/21', '%m/%d/%y')\n",
    "print(datetime_2)\n",
    "\n",
    "datetime_3 = datetime.strptime('Thursday, December 31, 2020', '%A, %B %d, %Y')\n",
    "print(datetime_3)\n",
    "\n",
    "datetime_4 = datetime.strptime('31 December 2020, 23:55:55','%d %B %Y, %H:%M:%S')\n",
    "print(datetime_4)"
   ]
  },
  {
   "cell_type": "code",
   "execution_count": 2,
   "id": "e541e088",
   "metadata": {},
   "outputs": [
    {
     "name": "stdout",
     "output_type": "stream",
     "text": [
      "2007-01-01 00:14:24\n",
      "2007-01-01 00:14:24.055000\n",
      "2007-01-01T00:14:24.055+0100\n",
      "2007-01-01 00:14:24.055000+01:00\n"
     ]
    }
   ],
   "source": [
    "datetime_5 = datetime.strptime('2007-01-01T00:14:24','%Y-%m-%dT%H:%M:%S')\n",
    "print(datetime_5)\n",
    "\n",
    "#add microseconds\n",
    "datetime_6 = datetime.strptime('2007-01-01T00:14:24.055','%Y-%m-%dT%H:%M:%S.%f')\n",
    "print(datetime_6)\n",
    "\n",
    "#add time zone offset\n",
    "date_string='2007-01-01T00:14:24.055+01:00'\n",
    "date_string=date_string.split('+')\n",
    "date_string= date_string[0]+'+'+date_string[1].replace(':','')\n",
    "print(date_string)\n",
    "datetime_7 = datetime.strptime(date_string,'%Y-%m-%dT%H:%M:%S.%f%z')\n",
    "print(datetime_7)"
   ]
  },
  {
   "cell_type": "code",
   "execution_count": 3,
   "id": "37712aa3",
   "metadata": {},
   "outputs": [
    {
     "name": "stdout",
     "output_type": "stream",
     "text": [
      "2005-01-03 02:25:00+01:00\n"
     ]
    }
   ],
   "source": [
    "\n",
    "import dateutil.parser\n",
    "\n",
    "str_8 = '2005-01-03 02:25:00+01:00'\n",
    "d = dateutil.parser.parse(str_8)\n",
    "print(d)"
   ]
  },
  {
   "cell_type": "code",
   "execution_count": 7,
   "id": "a6603634",
   "metadata": {},
   "outputs": [
    {
     "name": "stdout",
     "output_type": "stream",
     "text": [
      "<class 'datetime.datetime'>\n"
     ]
    }
   ],
   "source": [
    "print(d.__class__)"
   ]
  },
  {
   "cell_type": "code",
   "execution_count": 8,
   "id": "7141e880",
   "metadata": {},
   "outputs": [
    {
     "name": "stdout",
     "output_type": "stream",
     "text": [
      "2005-01-03 02:25:00+01:00\n"
     ]
    }
   ],
   "source": [
    "print(str(d))"
   ]
  },
  {
   "cell_type": "raw",
   "id": "d0fc1888",
   "metadata": {},
   "source": [
    "d.__dir__"
   ]
  },
  {
   "cell_type": "code",
   "execution_count": 11,
   "id": "2a4e456f",
   "metadata": {},
   "outputs": [
    {
     "data": {
      "text/plain": [
       "['__add__',\n",
       " '__class__',\n",
       " '__delattr__',\n",
       " '__dir__',\n",
       " '__doc__',\n",
       " '__eq__',\n",
       " '__format__',\n",
       " '__ge__',\n",
       " '__getattribute__',\n",
       " '__gt__',\n",
       " '__hash__',\n",
       " '__init__',\n",
       " '__init_subclass__',\n",
       " '__le__',\n",
       " '__lt__',\n",
       " '__ne__',\n",
       " '__new__',\n",
       " '__radd__',\n",
       " '__reduce__',\n",
       " '__reduce_ex__',\n",
       " '__repr__',\n",
       " '__rsub__',\n",
       " '__setattr__',\n",
       " '__sizeof__',\n",
       " '__str__',\n",
       " '__sub__',\n",
       " '__subclasshook__',\n",
       " 'astimezone',\n",
       " 'combine',\n",
       " 'ctime',\n",
       " 'date',\n",
       " 'day',\n",
       " 'dst',\n",
       " 'fold',\n",
       " 'fromisocalendar',\n",
       " 'fromisoformat',\n",
       " 'fromordinal',\n",
       " 'fromtimestamp',\n",
       " 'hour',\n",
       " 'isocalendar',\n",
       " 'isoformat',\n",
       " 'isoweekday',\n",
       " 'max',\n",
       " 'microsecond',\n",
       " 'min',\n",
       " 'minute',\n",
       " 'month',\n",
       " 'now',\n",
       " 'replace',\n",
       " 'resolution',\n",
       " 'second',\n",
       " 'strftime',\n",
       " 'strptime',\n",
       " 'time',\n",
       " 'timestamp',\n",
       " 'timetuple',\n",
       " 'timetz',\n",
       " 'today',\n",
       " 'toordinal',\n",
       " 'tzinfo',\n",
       " 'tzname',\n",
       " 'utcfromtimestamp',\n",
       " 'utcnow',\n",
       " 'utcoffset',\n",
       " 'utctimetuple',\n",
       " 'weekday',\n",
       " 'year']"
      ]
     },
     "execution_count": 11,
     "metadata": {},
     "output_type": "execute_result"
    }
   ],
   "source": [
    "dir(d)"
   ]
  },
  {
   "cell_type": "code",
   "execution_count": 12,
   "id": "22344edc",
   "metadata": {},
   "outputs": [
    {
     "name": "stdout",
     "output_type": "stream",
     "text": [
      "0\n",
      "1\n",
      "datetime.IsoCalendarDate(year=2005, week=1, weekday=1)\n"
     ]
    }
   ],
   "source": [
    "print(datetime.weekday(d))\n",
    "print(datetime.isoweekday(d))\n",
    "print(datetime.isocalendar(d))"
   ]
  },
  {
   "cell_type": "code",
   "execution_count": 13,
   "id": "94d9f5cd",
   "metadata": {},
   "outputs": [
    {
     "data": {
      "text/html": [
       "<div>\n",
       "<style scoped>\n",
       "    .dataframe tbody tr th:only-of-type {\n",
       "        vertical-align: middle;\n",
       "    }\n",
       "\n",
       "    .dataframe tbody tr th {\n",
       "        vertical-align: top;\n",
       "    }\n",
       "\n",
       "    .dataframe thead th {\n",
       "        text-align: right;\n",
       "    }\n",
       "</style>\n",
       "<table border=\"1\" class=\"dataframe\">\n",
       "  <thead>\n",
       "    <tr style=\"text-align: right;\">\n",
       "      <th></th>\n",
       "      <th>id</th>\n",
       "      <th>date</th>\n",
       "      <th>time</th>\n",
       "      <th>continent_code</th>\n",
       "      <th>country_name</th>\n",
       "      <th>country_code</th>\n",
       "      <th>state/province</th>\n",
       "      <th>population</th>\n",
       "      <th>city/town</th>\n",
       "      <th>distance</th>\n",
       "      <th>...</th>\n",
       "      <th>geolocation</th>\n",
       "      <th>hazard_type</th>\n",
       "      <th>landslide_type</th>\n",
       "      <th>landslide_size</th>\n",
       "      <th>trigger</th>\n",
       "      <th>storm_name</th>\n",
       "      <th>injuries</th>\n",
       "      <th>fatalities</th>\n",
       "      <th>source_name</th>\n",
       "      <th>source_link</th>\n",
       "    </tr>\n",
       "  </thead>\n",
       "  <tbody>\n",
       "    <tr>\n",
       "      <th>0</th>\n",
       "      <td>34</td>\n",
       "      <td>03-02-07</td>\n",
       "      <td>Night</td>\n",
       "      <td>NaN</td>\n",
       "      <td>United States</td>\n",
       "      <td>US</td>\n",
       "      <td>Virginia</td>\n",
       "      <td>16000</td>\n",
       "      <td>Cherry Hill</td>\n",
       "      <td>3.40765</td>\n",
       "      <td>...</td>\n",
       "      <td>(38.600900000000003, -77.268199999999993)</td>\n",
       "      <td>Landslide</td>\n",
       "      <td>Landslide</td>\n",
       "      <td>Small</td>\n",
       "      <td>Rain</td>\n",
       "      <td>NaN</td>\n",
       "      <td>NaN</td>\n",
       "      <td>NaN</td>\n",
       "      <td>NBC 4 news</td>\n",
       "      <td>http://www.nbc4.com/news/11186871/detail.html</td>\n",
       "    </tr>\n",
       "    <tr>\n",
       "      <th>1</th>\n",
       "      <td>42</td>\n",
       "      <td>3/22/07</td>\n",
       "      <td>NaN</td>\n",
       "      <td>NaN</td>\n",
       "      <td>United States</td>\n",
       "      <td>US</td>\n",
       "      <td>Ohio</td>\n",
       "      <td>17288</td>\n",
       "      <td>New Philadelphia</td>\n",
       "      <td>3.33522</td>\n",
       "      <td>...</td>\n",
       "      <td>(40.517499999999998, -81.430499999999995)</td>\n",
       "      <td>Landslide</td>\n",
       "      <td>Landslide</td>\n",
       "      <td>Small</td>\n",
       "      <td>Rain</td>\n",
       "      <td>NaN</td>\n",
       "      <td>NaN</td>\n",
       "      <td>NaN</td>\n",
       "      <td>Canton Rep.com</td>\n",
       "      <td>http://www.cantonrep.com/index.php?ID=345054&amp;C...</td>\n",
       "    </tr>\n",
       "    <tr>\n",
       "      <th>2</th>\n",
       "      <td>56</td>\n",
       "      <td>04-06-07</td>\n",
       "      <td>NaN</td>\n",
       "      <td>NaN</td>\n",
       "      <td>United States</td>\n",
       "      <td>US</td>\n",
       "      <td>Pennsylvania</td>\n",
       "      <td>15930</td>\n",
       "      <td>Wilkinsburg</td>\n",
       "      <td>2.91977</td>\n",
       "      <td>...</td>\n",
       "      <td>(40.4377, -79.915999999999997)</td>\n",
       "      <td>Landslide</td>\n",
       "      <td>Landslide</td>\n",
       "      <td>Small</td>\n",
       "      <td>Rain</td>\n",
       "      <td>NaN</td>\n",
       "      <td>NaN</td>\n",
       "      <td>NaN</td>\n",
       "      <td>The Pittsburgh Channel.com</td>\n",
       "      <td>https://web.archive.org/web/20080423132842/htt...</td>\n",
       "    </tr>\n",
       "    <tr>\n",
       "      <th>3</th>\n",
       "      <td>59</td>\n",
       "      <td>4/14/07</td>\n",
       "      <td>NaN</td>\n",
       "      <td>NaN</td>\n",
       "      <td>Canada</td>\n",
       "      <td>CA</td>\n",
       "      <td>Quebec</td>\n",
       "      <td>42786</td>\n",
       "      <td>Châteauguay</td>\n",
       "      <td>2.98682</td>\n",
       "      <td>...</td>\n",
       "      <td>(45.322600000000001, -73.777100000000004)</td>\n",
       "      <td>Landslide</td>\n",
       "      <td>Riverbank collapse</td>\n",
       "      <td>Small</td>\n",
       "      <td>Rain</td>\n",
       "      <td>NaN</td>\n",
       "      <td>NaN</td>\n",
       "      <td>NaN</td>\n",
       "      <td>Le Soleil</td>\n",
       "      <td>http://www.hebdos.net/lsc/edition162007/articl...</td>\n",
       "    </tr>\n",
       "    <tr>\n",
       "      <th>4</th>\n",
       "      <td>61</td>\n",
       "      <td>4/15/07</td>\n",
       "      <td>NaN</td>\n",
       "      <td>NaN</td>\n",
       "      <td>United States</td>\n",
       "      <td>US</td>\n",
       "      <td>Kentucky</td>\n",
       "      <td>6903</td>\n",
       "      <td>Pikeville</td>\n",
       "      <td>5.66542</td>\n",
       "      <td>...</td>\n",
       "      <td>(37.432499999999997, -82.493099999999998)</td>\n",
       "      <td>Landslide</td>\n",
       "      <td>Landslide</td>\n",
       "      <td>Small</td>\n",
       "      <td>Downpour</td>\n",
       "      <td>NaN</td>\n",
       "      <td>NaN</td>\n",
       "      <td>0.0</td>\n",
       "      <td>Matthew Crawford (KGS)</td>\n",
       "      <td>NaN</td>\n",
       "    </tr>\n",
       "  </tbody>\n",
       "</table>\n",
       "<p>5 rows × 23 columns</p>\n",
       "</div>"
      ],
      "text/plain": [
       "   id      date   time continent_code   country_name country_code  \\\n",
       "0  34  03-02-07  Night            NaN  United States           US   \n",
       "1  42   3/22/07    NaN            NaN  United States           US   \n",
       "2  56  04-06-07    NaN            NaN  United States           US   \n",
       "3  59   4/14/07    NaN            NaN         Canada           CA   \n",
       "4  61   4/15/07    NaN            NaN  United States           US   \n",
       "\n",
       "  state/province  population         city/town  distance  ...  \\\n",
       "0       Virginia       16000       Cherry Hill   3.40765  ...   \n",
       "1           Ohio       17288  New Philadelphia   3.33522  ...   \n",
       "2   Pennsylvania       15930       Wilkinsburg   2.91977  ...   \n",
       "3         Quebec       42786       Châteauguay   2.98682  ...   \n",
       "4       Kentucky        6903         Pikeville   5.66542  ...   \n",
       "\n",
       "                                 geolocation  hazard_type      landslide_type  \\\n",
       "0  (38.600900000000003, -77.268199999999993)    Landslide           Landslide   \n",
       "1  (40.517499999999998, -81.430499999999995)    Landslide           Landslide   \n",
       "2             (40.4377, -79.915999999999997)    Landslide           Landslide   \n",
       "3  (45.322600000000001, -73.777100000000004)    Landslide  Riverbank collapse   \n",
       "4  (37.432499999999997, -82.493099999999998)    Landslide           Landslide   \n",
       "\n",
       "  landslide_size   trigger storm_name injuries fatalities  \\\n",
       "0          Small      Rain        NaN      NaN        NaN   \n",
       "1          Small      Rain        NaN      NaN        NaN   \n",
       "2          Small      Rain        NaN      NaN        NaN   \n",
       "3          Small      Rain        NaN      NaN        NaN   \n",
       "4          Small  Downpour        NaN      NaN        0.0   \n",
       "\n",
       "                  source_name  \\\n",
       "0                  NBC 4 news   \n",
       "1              Canton Rep.com   \n",
       "2  The Pittsburgh Channel.com   \n",
       "3                   Le Soleil   \n",
       "4      Matthew Crawford (KGS)   \n",
       "\n",
       "                                         source_link  \n",
       "0      http://www.nbc4.com/news/11186871/detail.html  \n",
       "1  http://www.cantonrep.com/index.php?ID=345054&C...  \n",
       "2  https://web.archive.org/web/20080423132842/htt...  \n",
       "3  http://www.hebdos.net/lsc/edition162007/articl...  \n",
       "4                                                NaN  \n",
       "\n",
       "[5 rows x 23 columns]"
      ]
     },
     "execution_count": 13,
     "metadata": {},
     "output_type": "execute_result"
    }
   ],
   "source": [
    "import pandas as pd\n",
    "from datetime import datetime\n",
    "\n",
    "df = pd.read_csv('catalog.csv')\n",
    "df.head()"
   ]
  },
  {
   "cell_type": "code",
   "execution_count": 14,
   "id": "fe6774bc",
   "metadata": {},
   "outputs": [
    {
     "name": "stdout",
     "output_type": "stream",
     "text": [
      "<class 'pandas.core.frame.DataFrame'>\n",
      "RangeIndex: 1693 entries, 0 to 1692\n",
      "Data columns (total 23 columns):\n",
      " #   Column                Non-Null Count  Dtype  \n",
      "---  ------                --------------  -----  \n",
      " 0   id                    1693 non-null   int64  \n",
      " 1   date                  1690 non-null   object \n",
      " 2   time                  629 non-null    object \n",
      " 3   continent_code        164 non-null    object \n",
      " 4   country_name          1693 non-null   object \n",
      " 5   country_code          1693 non-null   object \n",
      " 6   state/province        1692 non-null   object \n",
      " 7   population            1693 non-null   int64  \n",
      " 8   city/town             1689 non-null   object \n",
      " 9   distance              1692 non-null   float64\n",
      " 10  location_description  551 non-null    object \n",
      " 11  latitude              1692 non-null   float64\n",
      " 12  longitude             1692 non-null   float64\n",
      " 13  geolocation           1692 non-null   object \n",
      " 14  hazard_type           1693 non-null   object \n",
      " 15  landslide_type        1692 non-null   object \n",
      " 16  landslide_size        1692 non-null   object \n",
      " 17  trigger               1691 non-null   object \n",
      " 18  storm_name            132 non-null    object \n",
      " 19  injuries              515 non-null    float64\n",
      " 20  fatalities            1446 non-null   float64\n",
      " 21  source_name           872 non-null    object \n",
      " 22  source_link           1593 non-null   object \n",
      "dtypes: float64(5), int64(2), object(16)\n",
      "memory usage: 304.3+ KB\n"
     ]
    }
   ],
   "source": [
    "df.info()"
   ]
  },
  {
   "cell_type": "code",
   "execution_count": 23,
   "id": "b183052d",
   "metadata": {},
   "outputs": [
    {
     "name": "stdout",
     "output_type": "stream",
     "text": [
      "<class 'pandas.core.frame.DataFrame'>\n",
      "RangeIndex: 1693 entries, 0 to 1692\n",
      "Data columns (total 23 columns):\n",
      " #   Column                Non-Null Count  Dtype         \n",
      "---  ------                --------------  -----         \n",
      " 0   id                    1693 non-null   int64         \n",
      " 1   date                  1690 non-null   datetime64[ns]\n",
      " 2   time                  629 non-null    object        \n",
      " 3   continent_code        164 non-null    object        \n",
      " 4   country_name          1693 non-null   object        \n",
      " 5   country_code          1693 non-null   object        \n",
      " 6   state/province        1692 non-null   object        \n",
      " 7   population            1693 non-null   int64         \n",
      " 8   city/town             1689 non-null   object        \n",
      " 9   distance              1692 non-null   float64       \n",
      " 10  location_description  551 non-null    object        \n",
      " 11  latitude              1692 non-null   float64       \n",
      " 12  longitude             1692 non-null   float64       \n",
      " 13  geolocation           1692 non-null   object        \n",
      " 14  hazard_type           1693 non-null   object        \n",
      " 15  landslide_type        1692 non-null   object        \n",
      " 16  landslide_size        1692 non-null   object        \n",
      " 17  trigger               1691 non-null   object        \n",
      " 18  storm_name            132 non-null    object        \n",
      " 19  injuries              515 non-null    float64       \n",
      " 20  fatalities            1446 non-null   float64       \n",
      " 21  source_name           872 non-null    object        \n",
      " 22  source_link           1593 non-null   object        \n",
      "dtypes: datetime64[ns](1), float64(5), int64(2), object(15)\n",
      "memory usage: 304.3+ KB\n"
     ]
    },
    {
     "name": "stderr",
     "output_type": "stream",
     "text": [
      "C:\\Users\\biegertm\\AppData\\Local\\Temp/ipykernel_24684/1695164250.py:3: FutureWarning: Inferring datetime64[ns] from data containing strings is deprecated and will be removed in a future version. To retain the old behavior explicitly pass Series(data, dtype={value.dtype})\n",
      "  df[\"date\"] = df[\"date\"].apply(lambda x: dateutil.parser.parse(x) if pd.notnull(x) else '')\n"
     ]
    }
   ],
   "source": [
    "import dateutil.parser\n",
    "#df[\"date\"] = df[\"date\"].apply(lambda x: datetime.strptime(x,r\"%m/%d/%y\") if pd.notnull(x) else '')\n",
    "df[\"date\"] = df[\"date\"].apply(lambda x: dateutil.parser.parse(x) if pd.notnull(x) else '')\n",
    "df.info()"
   ]
  },
  {
   "cell_type": "code",
   "execution_count": 24,
   "id": "5dae4232",
   "metadata": {},
   "outputs": [
    {
     "data": {
      "text/html": [
       "<div>\n",
       "<style scoped>\n",
       "    .dataframe tbody tr th:only-of-type {\n",
       "        vertical-align: middle;\n",
       "    }\n",
       "\n",
       "    .dataframe tbody tr th {\n",
       "        vertical-align: top;\n",
       "    }\n",
       "\n",
       "    .dataframe thead th {\n",
       "        text-align: right;\n",
       "    }\n",
       "</style>\n",
       "<table border=\"1\" class=\"dataframe\">\n",
       "  <thead>\n",
       "    <tr style=\"text-align: right;\">\n",
       "      <th></th>\n",
       "      <th>date</th>\n",
       "      <th>day</th>\n",
       "      <th>month</th>\n",
       "      <th>year</th>\n",
       "    </tr>\n",
       "  </thead>\n",
       "  <tbody>\n",
       "    <tr>\n",
       "      <th>0</th>\n",
       "      <td>2007-03-02</td>\n",
       "      <td>2</td>\n",
       "      <td>3</td>\n",
       "      <td>2007</td>\n",
       "    </tr>\n",
       "    <tr>\n",
       "      <th>1</th>\n",
       "      <td>2007-03-22</td>\n",
       "      <td>22</td>\n",
       "      <td>3</td>\n",
       "      <td>2007</td>\n",
       "    </tr>\n",
       "    <tr>\n",
       "      <th>2</th>\n",
       "      <td>2007-04-06</td>\n",
       "      <td>6</td>\n",
       "      <td>4</td>\n",
       "      <td>2007</td>\n",
       "    </tr>\n",
       "    <tr>\n",
       "      <th>3</th>\n",
       "      <td>2007-04-14</td>\n",
       "      <td>14</td>\n",
       "      <td>4</td>\n",
       "      <td>2007</td>\n",
       "    </tr>\n",
       "    <tr>\n",
       "      <th>4</th>\n",
       "      <td>2007-04-15</td>\n",
       "      <td>15</td>\n",
       "      <td>4</td>\n",
       "      <td>2007</td>\n",
       "    </tr>\n",
       "  </tbody>\n",
       "</table>\n",
       "</div>"
      ],
      "text/plain": [
       "        date  day  month  year\n",
       "0 2007-03-02    2      3  2007\n",
       "1 2007-03-22   22      3  2007\n",
       "2 2007-04-06    6      4  2007\n",
       "3 2007-04-14   14      4  2007\n",
       "4 2007-04-15   15      4  2007"
      ]
     },
     "execution_count": 24,
     "metadata": {},
     "output_type": "execute_result"
    }
   ],
   "source": [
    "df[\"day\"] = df[\"date\"].apply(lambda x: x.day if pd.notnull(x) else 0)\n",
    "\n",
    "df[\"month\"] = df[\"date\"].apply(lambda x: x.month if pd.notnull(x) else 0)\n",
    "\n",
    "df[\"year\"] = df[\"date\"].apply(lambda x: x.year if pd.notnull(x) else 0)\n",
    "\n",
    "df.loc[:,['date','day','month','year']].head()"
   ]
  },
  {
   "cell_type": "code",
   "execution_count": 25,
   "id": "be71d524",
   "metadata": {},
   "outputs": [
    {
     "data": {
      "text/html": [
       "<div>\n",
       "<style scoped>\n",
       "    .dataframe tbody tr th:only-of-type {\n",
       "        vertical-align: middle;\n",
       "    }\n",
       "\n",
       "    .dataframe tbody tr th {\n",
       "        vertical-align: top;\n",
       "    }\n",
       "\n",
       "    .dataframe thead th {\n",
       "        text-align: right;\n",
       "    }\n",
       "</style>\n",
       "<table border=\"1\" class=\"dataframe\">\n",
       "  <thead>\n",
       "    <tr style=\"text-align: right;\">\n",
       "      <th></th>\n",
       "      <th>date</th>\n",
       "      <th>week_ago_date</th>\n",
       "    </tr>\n",
       "  </thead>\n",
       "  <tbody>\n",
       "    <tr>\n",
       "      <th>0</th>\n",
       "      <td>2007-03-02</td>\n",
       "      <td>2007-02-23</td>\n",
       "    </tr>\n",
       "    <tr>\n",
       "      <th>1</th>\n",
       "      <td>2007-03-22</td>\n",
       "      <td>2007-03-15</td>\n",
       "    </tr>\n",
       "    <tr>\n",
       "      <th>2</th>\n",
       "      <td>2007-04-06</td>\n",
       "      <td>2007-03-30</td>\n",
       "    </tr>\n",
       "    <tr>\n",
       "      <th>3</th>\n",
       "      <td>2007-04-14</td>\n",
       "      <td>2007-04-07</td>\n",
       "    </tr>\n",
       "    <tr>\n",
       "      <th>4</th>\n",
       "      <td>2007-04-15</td>\n",
       "      <td>2007-04-08</td>\n",
       "    </tr>\n",
       "  </tbody>\n",
       "</table>\n",
       "</div>"
      ],
      "text/plain": [
       "        date week_ago_date\n",
       "0 2007-03-02    2007-02-23\n",
       "1 2007-03-22    2007-03-15\n",
       "2 2007-04-06    2007-03-30\n",
       "3 2007-04-14    2007-04-07\n",
       "4 2007-04-15    2007-04-08"
      ]
     },
     "execution_count": 25,
     "metadata": {},
     "output_type": "execute_result"
    }
   ],
   "source": [
    "from datetime import timedelta\n",
    "\n",
    "df['week_ago_date'] = df['date']- timedelta(days=7)\n",
    "df[['date','week_ago_date']].head()"
   ]
  },
  {
   "cell_type": "code",
   "execution_count": null,
   "id": "5eb7139e",
   "metadata": {},
   "outputs": [],
   "source": []
  }
 ],
 "metadata": {
  "kernelspec": {
   "display_name": "Python 3 (ipykernel)",
   "language": "python",
   "name": "python3"
  },
  "language_info": {
   "codemirror_mode": {
    "name": "ipython",
    "version": 3
   },
   "file_extension": ".py",
   "mimetype": "text/x-python",
   "name": "python",
   "nbconvert_exporter": "python",
   "pygments_lexer": "ipython3",
   "version": "3.9.7"
  }
 },
 "nbformat": 4,
 "nbformat_minor": 5
}
