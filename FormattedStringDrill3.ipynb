{
 "cells": [
  {
   "cell_type": "markdown",
   "id": "9b5d6985",
   "metadata": {},
   "source": [
    "https://levelup.gitconnected.com/8-things-i-never-knew-about-formatted-strings-in-python-until-recently-466085bffe99"
   ]
  },
  {
   "cell_type": "code",
   "execution_count": 1,
   "id": "90b180c0",
   "metadata": {},
   "outputs": [
    {
     "name": "stdout",
     "output_type": "stream",
     "text": [
      "1.23e+04\n",
      "1.2e+04\n"
     ]
    }
   ],
   "source": [
    "print(f'{12345:.3g}')\n",
    "\n",
    "# 12300\n",
    "\n",
    "print(f'{12345:.2g}')\n",
    "\n",
    "# 12000"
   ]
  },
  {
   "cell_type": "code",
   "execution_count": 2,
   "id": "ee728a35",
   "metadata": {},
   "outputs": [
    {
     "name": "stdout",
     "output_type": "stream",
     "text": [
      ">hi                  <\n",
      ">         hi         <\n",
      ">                  hi<\n"
     ]
    }
   ],
   "source": [
    "x = 'hi'\n",
    "\n",
    "print(f'>{x:<20}<')      # >hi                  <\n",
    "print(f'>{x:^20}<')      # >         hi         <\n",
    "print(f'>{x:>20}<')      # >                  hi<"
   ]
  },
  {
   "cell_type": "code",
   "execution_count": 3,
   "id": "4035c7e7",
   "metadata": {},
   "outputs": [
    {
     "name": "stdout",
     "output_type": "stream",
     "text": [
      ">hi------------------<\n",
      ">=========hi=========<\n",
      ">xxxxxxxxxxxxxxxxxxhi<\n"
     ]
    }
   ],
   "source": [
    "x = 'hi'\n",
    "\n",
    "print(f'>{x:-<20}<')      # >hi------------------<\n",
    "print(f'>{x:=^20}<')      # >=========hi=========<\n",
    "print(f'>{x:x>20}<')      # >xxxxxxxxxxxxxxxxxxhi<"
   ]
  },
  {
   "cell_type": "code",
   "execution_count": 4,
   "id": "41af6299",
   "metadata": {},
   "outputs": [
    {
     "name": "stdout",
     "output_type": "stream",
     "text": [
      "1,000\n",
      "10,000\n",
      "100,000\n",
      "1,000,000\n"
     ]
    }
   ],
   "source": [
    "print(f'{1000:,}')      # 1,000\n",
    "print(f'{10000:,}')     # 10,000\n",
    "print(f'{100000:,}')    # 100,000\n",
    "print(f'{1000000:,}')   # 1,000,000"
   ]
  },
  {
   "cell_type": "code",
   "execution_count": 5,
   "id": "76c808cb",
   "metadata": {},
   "outputs": [
    {
     "name": "stdout",
     "output_type": "stream",
     "text": [
      "December 31, 2023\n",
      "Dec 31, 2023 (Sunday)\n"
     ]
    }
   ],
   "source": [
    "from datetime import datetime\n",
    "today = datetime(2023, 12, 31)\n",
    "\n",
    "print(f'{today:%B %d, %Y}')         # December 31, 2023\n",
    "\n",
    "print(f'{today:%b %d, %Y (%A)}')    # Dec 31, 2023 (Sunday)"
   ]
  },
  {
   "cell_type": "code",
   "execution_count": 6,
   "id": "d79f9d73",
   "metadata": {},
   "outputs": [
    {
     "name": "stdout",
     "output_type": "stream",
     "text": [
      "\n",
      "hello tom,\n",
      "\n",
      "you have been selected for ABCDEFG\n",
      "\n"
     ]
    }
   ],
   "source": [
    "name = 'tom'\n",
    "\n",
    "x = f'''\n",
    "hello {name},\n",
    "\n",
    "you have been selected for ABCDEFG\n",
    "'''\n",
    "print(x)\n",
    "\n",
    "#\n",
    "# hello tom,\n",
    "# \n",
    "# you have been selected for ABCDEFG\n",
    "#"
   ]
  },
  {
   "cell_type": "code",
   "execution_count": 7,
   "id": "4c542871",
   "metadata": {},
   "outputs": [
    {
     "name": "stdout",
     "output_type": "stream",
     "text": [
      "my name is tom and my age is 40\n"
     ]
    }
   ],
   "source": [
    "name = 'tom'\n",
    "age = 40\n",
    "\n",
    "s = 'my name is %s and my age is %d' % (name, age)\n",
    "print(s)\n",
    "\n",
    "# my name is tom and my age is 40"
   ]
  },
  {
   "cell_type": "code",
   "execution_count": 8,
   "id": "4ddb7316",
   "metadata": {},
   "outputs": [
    {
     "name": "stdout",
     "output_type": "stream",
     "text": [
      "my name is tom and my age is 40\n"
     ]
    }
   ],
   "source": [
    "name = 'tom'\n",
    "age = 40\n",
    "\n",
    "s = 'my name is {name} and my age is {age}'.format(name=name, age=age)\n",
    "print(s)\n",
    "\n",
    "# my name is tom and my age is 40"
   ]
  }
 ],
 "metadata": {
  "kernelspec": {
   "display_name": "Python 3 (ipykernel)",
   "language": "python",
   "name": "python3"
  },
  "language_info": {
   "codemirror_mode": {
    "name": "ipython",
    "version": 3
   },
   "file_extension": ".py",
   "mimetype": "text/x-python",
   "name": "python",
   "nbconvert_exporter": "python",
   "pygments_lexer": "ipython3",
   "version": "3.9.7"
  }
 },
 "nbformat": 4,
 "nbformat_minor": 5
}
