{
 "cells": [
  {
   "cell_type": "markdown",
   "id": "07becbdb",
   "metadata": {},
   "source": [
    "https://medium.com/@HalderNilimesh/mastering-feature-selection-in-python-with-scikit-learn-a-complete-walkthrough-4825323d46a9"
   ]
  },
  {
   "cell_type": "code",
   "execution_count": 5,
   "id": "f7eea616",
   "metadata": {},
   "outputs": [],
   "source": [
    "from sklearn.feature_selection import VarianceThreshold\n",
    "from sklearn.datasets import load_iris\n",
    "\n",
    "# load the iris dataset\n",
    "iris = load_iris()\n",
    "\n",
    "\n",
    "# create a VarianceThreshold object\n",
    "sel = VarianceThreshold(threshold=0.2)\n",
    "\n",
    "# fit and transform the data\n",
    "new_data = sel.fit_transform(iris.data)\n"
   ]
  },
  {
   "cell_type": "code",
   "execution_count": 8,
   "id": "557000d9",
   "metadata": {},
   "outputs": [],
   "source": [
    "from sklearn.feature_selection import SelectKBest, chi2\n",
    "from sklearn.datasets import load_iris\n",
    "\n",
    "# load the iris dataset\n",
    "iris = load_iris()\n",
    "\n",
    "# create a SelectKBest object\n",
    "sel = SelectKBest(chi2, k=2)\n",
    "\n",
    "# fit and transform the data\n",
    "new_data = sel.fit_transform(iris.data, iris.target)"
   ]
  },
  {
   "cell_type": "markdown",
   "id": "e32ff029",
   "metadata": {},
   "source": []
  }
 ],
 "metadata": {
  "kernelspec": {
   "display_name": "Python 3 (ipykernel)",
   "language": "python",
   "name": "python3"
  },
  "language_info": {
   "codemirror_mode": {
    "name": "ipython",
    "version": 3
   },
   "file_extension": ".py",
   "mimetype": "text/x-python",
   "name": "python",
   "nbconvert_exporter": "python",
   "pygments_lexer": "ipython3",
   "version": "3.11.4"
  },
  "toc": {
   "base_numbering": 1,
   "nav_menu": {},
   "number_sections": true,
   "sideBar": true,
   "skip_h1_title": false,
   "title_cell": "Table of Contents",
   "title_sidebar": "Contents",
   "toc_cell": false,
   "toc_position": {},
   "toc_section_display": true,
   "toc_window_display": false
  }
 },
 "nbformat": 4,
 "nbformat_minor": 5
}
