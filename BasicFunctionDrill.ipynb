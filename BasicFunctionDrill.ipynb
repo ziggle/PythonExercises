{
 "cells": [
  {
   "cell_type": "markdown",
   "id": "5fe79dae",
   "metadata": {},
   "source": [
    "https://mcbride-martin.medium.com/function-objects-and-lambdas-812f2088214f"
   ]
  },
  {
   "cell_type": "code",
   "execution_count": 1,
   "id": "a1e1678f",
   "metadata": {},
   "outputs": [
    {
     "name": "stdout",
     "output_type": "stream",
     "text": [
      "<class 'function'>\n"
     ]
    }
   ],
   "source": [
    "def square(x):\n",
    "    return x*x\n",
    "\n",
    "print(type(square))"
   ]
  },
  {
   "cell_type": "code",
   "execution_count": 2,
   "id": "3be1f145",
   "metadata": {},
   "outputs": [
    {
     "name": "stdout",
     "output_type": "stream",
     "text": [
      "4\n"
     ]
    }
   ],
   "source": [
    "sq = square\n",
    "x = sq(2)\n",
    "print(x)"
   ]
  },
  {
   "cell_type": "code",
   "execution_count": 3,
   "id": "a10a74a4",
   "metadata": {},
   "outputs": [
    {
     "name": "stdout",
     "output_type": "stream",
     "text": [
      "John Smith\n",
      "Anne Jones\n",
      "Robert Davis\n"
     ]
    }
   ],
   "source": [
    "names = [ ('John', 'Smith'),\n",
    "          ('Anne', 'Jones'),\n",
    "          ('Robert', 'Davis')]\n",
    "\n",
    "def print_names(names, formatter):\n",
    "    for name in names:\n",
    "        print(formatter(name))\n",
    "\n",
    "def format_space(name):\n",
    "    return ' '.join(name)\n",
    "\n",
    "print_names(names, format_space)"
   ]
  },
  {
   "cell_type": "code",
   "execution_count": 4,
   "id": "c3ded183",
   "metadata": {},
   "outputs": [],
   "source": [
    "def format_initial(name):\n",
    "    return f\"{name[1]}, {name[0][0]}\""
   ]
  },
  {
   "cell_type": "code",
   "execution_count": 5,
   "id": "4aca4e1c",
   "metadata": {},
   "outputs": [
    {
     "name": "stdout",
     "output_type": "stream",
     "text": [
      "Smith, J\n",
      "Jones, A\n",
      "Davis, R\n"
     ]
    }
   ],
   "source": [
    "print_names(names, format_initial)"
   ]
  },
  {
   "cell_type": "code",
   "execution_count": 6,
   "id": "73bc1baf",
   "metadata": {},
   "outputs": [],
   "source": [
    "def format_email(name):\n",
    "        return f\"{name[0]}.{name[1]}@example.com\""
   ]
  },
  {
   "cell_type": "code",
   "execution_count": 7,
   "id": "d04580a5",
   "metadata": {},
   "outputs": [
    {
     "name": "stdout",
     "output_type": "stream",
     "text": [
      "John.Smith@example.com\n",
      "Anne.Jones@example.com\n",
      "Robert.Davis@example.com\n"
     ]
    }
   ],
   "source": [
    "print_names(names, format_email)"
   ]
  },
  {
   "cell_type": "code",
   "execution_count": 8,
   "id": "90c613cd",
   "metadata": {},
   "outputs": [
    {
     "name": "stdout",
     "output_type": "stream",
     "text": [
      "[1, 9, 25, 49]\n"
     ]
    }
   ],
   "source": [
    "def square(x):\n",
    "    return x*x\n",
    "\n",
    "numbers = [1, 3, 5, 7]\n",
    "\n",
    "result = map(square, numbers)\n",
    "print(list(result))"
   ]
  },
  {
   "cell_type": "code",
   "execution_count": 9,
   "id": "9e293e3c",
   "metadata": {},
   "outputs": [],
   "source": [
    "def twice(f):\n",
    "    def g(x):\n",
    "        return f(f(x))\n",
    "    return g"
   ]
  },
  {
   "cell_type": "code",
   "execution_count": 10,
   "id": "71e62196",
   "metadata": {},
   "outputs": [
    {
     "name": "stdout",
     "output_type": "stream",
     "text": [
      "7\n"
     ]
    }
   ],
   "source": [
    "def increment(x):\n",
    "    return x + 1\n",
    "\n",
    "inc2 = twice(increment)\n",
    "print(inc2(5))"
   ]
  },
  {
   "cell_type": "code",
   "execution_count": 11,
   "id": "f1dd70cb",
   "metadata": {},
   "outputs": [
    {
     "name": "stdout",
     "output_type": "stream",
     "text": [
      "81\n"
     ]
    }
   ],
   "source": [
    "def square(x):\n",
    "    return x*x\n",
    "\n",
    "sq2 = twice(square)\n",
    "print(sq2(3))"
   ]
  },
  {
   "cell_type": "code",
   "execution_count": 12,
   "id": "14feb45c",
   "metadata": {},
   "outputs": [
    {
     "name": "stdout",
     "output_type": "stream",
     "text": [
      "[1, 9, 25, 49]\n"
     ]
    }
   ],
   "source": [
    "def square(x):\n",
    "    return x*x\n",
    "\n",
    "numbers = [1, 3, 5, 7]\n",
    "\n",
    "result = map(square, numbers)\n",
    "print(list(result))"
   ]
  },
  {
   "cell_type": "code",
   "execution_count": 13,
   "id": "a3029324",
   "metadata": {},
   "outputs": [
    {
     "name": "stdout",
     "output_type": "stream",
     "text": [
      "[1, 9, 25, 49]\n"
     ]
    }
   ],
   "source": [
    "numbers = [1, 3, 5, 7]\n",
    "\n",
    "result = map(lambda x: x*x, numbers)\n",
    "print(list(result))"
   ]
  }
 ],
 "metadata": {
  "kernelspec": {
   "display_name": "Python 3 (ipykernel)",
   "language": "python",
   "name": "python3"
  },
  "language_info": {
   "codemirror_mode": {
    "name": "ipython",
    "version": 3
   },
   "file_extension": ".py",
   "mimetype": "text/x-python",
   "name": "python",
   "nbconvert_exporter": "python",
   "pygments_lexer": "ipython3",
   "version": "3.9.7"
  }
 },
 "nbformat": 4,
 "nbformat_minor": 5
}
