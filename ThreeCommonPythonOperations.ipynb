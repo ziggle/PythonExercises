{
 "cells": [
  {
   "cell_type": "markdown",
   "id": "edd64683",
   "metadata": {},
   "source": [
    "https://towardsdatascience.com/3-python-operations-for-solving-specific-data-processing-tasks-efficiently-551c8ed41c02"
   ]
  },
  {
   "cell_type": "markdown",
   "id": "c897ebd5",
   "metadata": {},
   "source": [
    "# Explode a Sequence of Dates"
   ]
  },
  {
   "cell_type": "code",
   "execution_count": 1,
   "id": "4c3fc2e3",
   "metadata": {},
   "outputs": [
    {
     "name": "stderr",
     "output_type": "stream",
     "text": [
      "C:\\Users\\biegertm\\AppData\\Roaming\\Python\\Python39\\site-packages\\pandas\\core\\computation\\expressions.py:21: UserWarning: Pandas requires version '2.8.0' or newer of 'numexpr' (version '2.7.3' currently installed).\n",
      "  from pandas.core.computation.check import NUMEXPR_INSTALLED\n",
      "C:\\Users\\biegertm\\AppData\\Roaming\\Python\\Python39\\site-packages\\pandas\\core\\arrays\\masked.py:62: UserWarning: Pandas requires version '1.3.4' or newer of 'bottleneck' (version '1.3.2' currently installed).\n",
      "  from pandas.core import (\n"
     ]
    }
   ],
   "source": [
    "import pandas as pd\n",
    "\n",
    "lifecycle = pd.DataFrame({\n",
    "    \"store_id\": [1130, 1130, 1130, 1460, 1460],\n",
    "    \"product_id\": [103, 104, 112, 130, 160],\n",
    "    \"start_date\": [\"2022-10-01\", \"2022-09-14\", \"2022-07-20\", \"2022-06-30\", \"2022-12-10\"],\n",
    "    \"end_date\": [\"2022-10-15\", \"2022-11-06\", \"2022-09-10\", \"2022-07-20\", \"2023-01-10\"]\n",
    "})"
   ]
  },
  {
   "cell_type": "code",
   "execution_count": 2,
   "id": "84a6f3b5",
   "metadata": {},
   "outputs": [
    {
     "data": {
      "text/plain": [
       "store_id       int64\n",
       "product_id     int64\n",
       "start_date    object\n",
       "end_date      object\n",
       "dtype: object"
      ]
     },
     "execution_count": 2,
     "metadata": {},
     "output_type": "execute_result"
    }
   ],
   "source": [
    "lifecycle.dtypes"
   ]
  },
  {
   "cell_type": "code",
   "execution_count": 3,
   "id": "ec812556",
   "metadata": {},
   "outputs": [
    {
     "data": {
      "text/plain": [
       "store_id               int64\n",
       "product_id             int64\n",
       "start_date    datetime64[ns]\n",
       "end_date      datetime64[ns]\n",
       "dtype: object"
      ]
     },
     "execution_count": 3,
     "metadata": {},
     "output_type": "execute_result"
    }
   ],
   "source": [
    "lifecycle = lifecycle.astype(\n",
    "   {\"start_date\": \"datetime64[ns]\", \"end_date\": \"datetime64[ns]\"}\n",
    ")\n",
    "\n",
    "lifecycle.dtypes"
   ]
  },
  {
   "cell_type": "code",
   "execution_count": 5,
   "id": "00f84ec5",
   "metadata": {},
   "outputs": [
    {
     "data": {
      "text/plain": [
       "DatetimeIndex(['2022-10-01', '2022-10-02', '2022-10-03', '2022-10-04',\n",
       "               '2022-10-05', '2022-10-06', '2022-10-07', '2022-10-08',\n",
       "               '2022-10-09', '2022-10-10', '2022-10-11', '2022-10-12',\n",
       "               '2022-10-13', '2022-10-14', '2022-10-15'],\n",
       "              dtype='datetime64[ns]', freq='D')"
      ]
     },
     "execution_count": 5,
     "metadata": {},
     "output_type": "execute_result"
    }
   ],
   "source": [
    "pd.date_range(lifecycle.start_date[0], lifecycle.end_date[0])\n"
   ]
  },
  {
   "cell_type": "code",
   "execution_count": 7,
   "id": "630ec1fc",
   "metadata": {},
   "outputs": [
    {
     "name": "stderr",
     "output_type": "stream",
     "text": [
      "C:\\Users\\biegertm\\AppData\\Roaming\\Python\\Python39\\site-packages\\numpy\\core\\fromnumeric.py:3199: VisibleDeprecationWarning: Creating an ndarray from ragged nested sequences (which is a list-or-tuple of lists-or-tuples-or ndarrays with different lengths or shapes) is deprecated. If you meant to do this, you must specify 'dtype=object' when creating the ndarray.\n",
      "  return asarray(a).ndim\n"
     ]
    }
   ],
   "source": [
    "lifecycle.loc[:, \"date\"] = [\n",
    "    pd.date_range(x, y) for x, y in zip(lifecycle[\"start_date\"], lifecycle[\"end_date\"])\n",
    "]"
   ]
  },
  {
   "cell_type": "code",
   "execution_count": 8,
   "id": "ad9197ca",
   "metadata": {},
   "outputs": [
    {
     "data": {
      "text/html": [
       "<div>\n",
       "<style scoped>\n",
       "    .dataframe tbody tr th:only-of-type {\n",
       "        vertical-align: middle;\n",
       "    }\n",
       "\n",
       "    .dataframe tbody tr th {\n",
       "        vertical-align: top;\n",
       "    }\n",
       "\n",
       "    .dataframe thead th {\n",
       "        text-align: right;\n",
       "    }\n",
       "</style>\n",
       "<table border=\"1\" class=\"dataframe\">\n",
       "  <thead>\n",
       "    <tr style=\"text-align: right;\">\n",
       "      <th></th>\n",
       "      <th>store_id</th>\n",
       "      <th>product_id</th>\n",
       "      <th>start_date</th>\n",
       "      <th>end_date</th>\n",
       "      <th>date</th>\n",
       "    </tr>\n",
       "  </thead>\n",
       "  <tbody>\n",
       "    <tr>\n",
       "      <th>0</th>\n",
       "      <td>1130</td>\n",
       "      <td>103</td>\n",
       "      <td>2022-10-01</td>\n",
       "      <td>2022-10-15</td>\n",
       "      <td>DatetimeIndex(['2022-10-01', '2022-10-02', '20...</td>\n",
       "    </tr>\n",
       "    <tr>\n",
       "      <th>1</th>\n",
       "      <td>1130</td>\n",
       "      <td>104</td>\n",
       "      <td>2022-09-14</td>\n",
       "      <td>2022-11-06</td>\n",
       "      <td>DatetimeIndex(['2022-09-14', '2022-09-15', '20...</td>\n",
       "    </tr>\n",
       "    <tr>\n",
       "      <th>2</th>\n",
       "      <td>1130</td>\n",
       "      <td>112</td>\n",
       "      <td>2022-07-20</td>\n",
       "      <td>2022-09-10</td>\n",
       "      <td>DatetimeIndex(['2022-07-20', '2022-07-21', '20...</td>\n",
       "    </tr>\n",
       "    <tr>\n",
       "      <th>3</th>\n",
       "      <td>1460</td>\n",
       "      <td>130</td>\n",
       "      <td>2022-06-30</td>\n",
       "      <td>2022-07-20</td>\n",
       "      <td>DatetimeIndex(['2022-06-30', '2022-07-01', '20...</td>\n",
       "    </tr>\n",
       "    <tr>\n",
       "      <th>4</th>\n",
       "      <td>1460</td>\n",
       "      <td>160</td>\n",
       "      <td>2022-12-10</td>\n",
       "      <td>2023-01-10</td>\n",
       "      <td>DatetimeIndex(['2022-12-10', '2022-12-11', '20...</td>\n",
       "    </tr>\n",
       "  </tbody>\n",
       "</table>\n",
       "</div>"
      ],
      "text/plain": [
       "   store_id  product_id start_date   end_date  \\\n",
       "0      1130         103 2022-10-01 2022-10-15   \n",
       "1      1130         104 2022-09-14 2022-11-06   \n",
       "2      1130         112 2022-07-20 2022-09-10   \n",
       "3      1460         130 2022-06-30 2022-07-20   \n",
       "4      1460         160 2022-12-10 2023-01-10   \n",
       "\n",
       "                                                date  \n",
       "0  DatetimeIndex(['2022-10-01', '2022-10-02', '20...  \n",
       "1  DatetimeIndex(['2022-09-14', '2022-09-15', '20...  \n",
       "2  DatetimeIndex(['2022-07-20', '2022-07-21', '20...  \n",
       "3  DatetimeIndex(['2022-06-30', '2022-07-01', '20...  \n",
       "4  DatetimeIndex(['2022-12-10', '2022-12-11', '20...  "
      ]
     },
     "execution_count": 8,
     "metadata": {},
     "output_type": "execute_result"
    }
   ],
   "source": [
    "lifecycle"
   ]
  },
  {
   "cell_type": "code",
   "execution_count": 9,
   "id": "be35d6cd",
   "metadata": {},
   "outputs": [
    {
     "data": {
      "text/html": [
       "<div>\n",
       "<style scoped>\n",
       "    .dataframe tbody tr th:only-of-type {\n",
       "        vertical-align: middle;\n",
       "    }\n",
       "\n",
       "    .dataframe tbody tr th {\n",
       "        vertical-align: top;\n",
       "    }\n",
       "\n",
       "    .dataframe thead th {\n",
       "        text-align: right;\n",
       "    }\n",
       "</style>\n",
       "<table border=\"1\" class=\"dataframe\">\n",
       "  <thead>\n",
       "    <tr style=\"text-align: right;\">\n",
       "      <th></th>\n",
       "      <th>store_id</th>\n",
       "      <th>product_id</th>\n",
       "      <th>date</th>\n",
       "    </tr>\n",
       "  </thead>\n",
       "  <tbody>\n",
       "    <tr>\n",
       "      <th>0</th>\n",
       "      <td>1130</td>\n",
       "      <td>103</td>\n",
       "      <td>2022-10-01</td>\n",
       "    </tr>\n",
       "    <tr>\n",
       "      <th>0</th>\n",
       "      <td>1130</td>\n",
       "      <td>103</td>\n",
       "      <td>2022-10-02</td>\n",
       "    </tr>\n",
       "    <tr>\n",
       "      <th>0</th>\n",
       "      <td>1130</td>\n",
       "      <td>103</td>\n",
       "      <td>2022-10-03</td>\n",
       "    </tr>\n",
       "    <tr>\n",
       "      <th>0</th>\n",
       "      <td>1130</td>\n",
       "      <td>103</td>\n",
       "      <td>2022-10-04</td>\n",
       "    </tr>\n",
       "    <tr>\n",
       "      <th>0</th>\n",
       "      <td>1130</td>\n",
       "      <td>103</td>\n",
       "      <td>2022-10-05</td>\n",
       "    </tr>\n",
       "  </tbody>\n",
       "</table>\n",
       "</div>"
      ],
      "text/plain": [
       "   store_id  product_id       date\n",
       "0      1130         103 2022-10-01\n",
       "0      1130         103 2022-10-02\n",
       "0      1130         103 2022-10-03\n",
       "0      1130         103 2022-10-04\n",
       "0      1130         103 2022-10-05"
      ]
     },
     "execution_count": 9,
     "metadata": {},
     "output_type": "execute_result"
    }
   ],
   "source": [
    "lifecycle = lifecycle.explode(column=\"date\")\n",
    "\n",
    "# drop the start and end date columns\n",
    "lifecycle = lifecycle.drop([\"start_date\", \"end_date\"], axis=1)\n",
    "\n",
    "lifecycle.head()"
   ]
  },
  {
   "cell_type": "markdown",
   "id": "cc4ad0bb",
   "metadata": {},
   "source": [
    "## Alternative Approach"
   ]
  },
  {
   "cell_type": "code",
   "execution_count": 30,
   "id": "fc4458a4",
   "metadata": {},
   "outputs": [
    {
     "data": {
      "text/plain": [
       "category\n",
       "B    6\n",
       "C    4\n",
       "A    2\n",
       "Name: count, dtype: int64"
      ]
     },
     "execution_count": 30,
     "metadata": {},
     "output_type": "execute_result"
    }
   ],
   "source": [
    "df.category.value_counts()"
   ]
  },
  {
   "cell_type": "code",
   "execution_count": 29,
   "id": "e4d4bf8d",
   "metadata": {},
   "outputs": [
    {
     "data": {
      "text/html": [
       "<div>\n",
       "<style scoped>\n",
       "    .dataframe tbody tr th:only-of-type {\n",
       "        vertical-align: middle;\n",
       "    }\n",
       "\n",
       "    .dataframe tbody tr th {\n",
       "        vertical-align: top;\n",
       "    }\n",
       "\n",
       "    .dataframe thead th {\n",
       "        text-align: right;\n",
       "    }\n",
       "</style>\n",
       "<table border=\"1\" class=\"dataframe\">\n",
       "  <thead>\n",
       "    <tr style=\"text-align: right;\">\n",
       "      <th></th>\n",
       "      <th>category</th>\n",
       "      <th>issue_level</th>\n",
       "      <th>month</th>\n",
       "      <th>year</th>\n",
       "      <th>frequency</th>\n",
       "      <th>count</th>\n",
       "    </tr>\n",
       "  </thead>\n",
       "  <tbody>\n",
       "    <tr>\n",
       "      <th>0</th>\n",
       "      <td>B</td>\n",
       "      <td>1</td>\n",
       "      <td>Mar</td>\n",
       "      <td>2023</td>\n",
       "      <td>6</td>\n",
       "      <td>6</td>\n",
       "    </tr>\n",
       "    <tr>\n",
       "      <th>1</th>\n",
       "      <td>B</td>\n",
       "      <td>1</td>\n",
       "      <td>Feb</td>\n",
       "      <td>2021</td>\n",
       "      <td>6</td>\n",
       "      <td>6</td>\n",
       "    </tr>\n",
       "    <tr>\n",
       "      <th>2</th>\n",
       "      <td>B</td>\n",
       "      <td>1</td>\n",
       "      <td>June</td>\n",
       "      <td>2023</td>\n",
       "      <td>6</td>\n",
       "      <td>6</td>\n",
       "    </tr>\n",
       "    <tr>\n",
       "      <th>3</th>\n",
       "      <td>B</td>\n",
       "      <td>4</td>\n",
       "      <td>Dec</td>\n",
       "      <td>2021</td>\n",
       "      <td>6</td>\n",
       "      <td>6</td>\n",
       "    </tr>\n",
       "    <tr>\n",
       "      <th>4</th>\n",
       "      <td>B</td>\n",
       "      <td>3</td>\n",
       "      <td>Feb</td>\n",
       "      <td>2022</td>\n",
       "      <td>6</td>\n",
       "      <td>6</td>\n",
       "    </tr>\n",
       "    <tr>\n",
       "      <th>5</th>\n",
       "      <td>B</td>\n",
       "      <td>5</td>\n",
       "      <td>Apr</td>\n",
       "      <td>2023</td>\n",
       "      <td>6</td>\n",
       "      <td>6</td>\n",
       "    </tr>\n",
       "    <tr>\n",
       "      <th>6</th>\n",
       "      <td>C</td>\n",
       "      <td>5</td>\n",
       "      <td>Feb</td>\n",
       "      <td>2022</td>\n",
       "      <td>4</td>\n",
       "      <td>4</td>\n",
       "    </tr>\n",
       "    <tr>\n",
       "      <th>7</th>\n",
       "      <td>C</td>\n",
       "      <td>2</td>\n",
       "      <td>July</td>\n",
       "      <td>2020</td>\n",
       "      <td>4</td>\n",
       "      <td>4</td>\n",
       "    </tr>\n",
       "    <tr>\n",
       "      <th>8</th>\n",
       "      <td>C</td>\n",
       "      <td>2</td>\n",
       "      <td>Mar</td>\n",
       "      <td>2022</td>\n",
       "      <td>4</td>\n",
       "      <td>4</td>\n",
       "    </tr>\n",
       "    <tr>\n",
       "      <th>9</th>\n",
       "      <td>C</td>\n",
       "      <td>2</td>\n",
       "      <td>Feb</td>\n",
       "      <td>2022</td>\n",
       "      <td>4</td>\n",
       "      <td>4</td>\n",
       "    </tr>\n",
       "    <tr>\n",
       "      <th>10</th>\n",
       "      <td>A</td>\n",
       "      <td>5</td>\n",
       "      <td>Jan</td>\n",
       "      <td>2023</td>\n",
       "      <td>2</td>\n",
       "      <td>2</td>\n",
       "    </tr>\n",
       "    <tr>\n",
       "      <th>11</th>\n",
       "      <td>A</td>\n",
       "      <td>3</td>\n",
       "      <td>Mar</td>\n",
       "      <td>2022</td>\n",
       "      <td>2</td>\n",
       "      <td>2</td>\n",
       "    </tr>\n",
       "  </tbody>\n",
       "</table>\n",
       "</div>"
      ],
      "text/plain": [
       "   category  issue_level month  year  frequency  count\n",
       "0         B            1   Mar  2023          6      6\n",
       "1         B            1   Feb  2021          6      6\n",
       "2         B            1  June  2023          6      6\n",
       "3         B            4   Dec  2021          6      6\n",
       "4         B            3   Feb  2022          6      6\n",
       "5         B            5   Apr  2023          6      6\n",
       "6         C            5   Feb  2022          4      4\n",
       "7         C            2  July  2020          4      4\n",
       "8         C            2   Mar  2022          4      4\n",
       "9         C            2   Feb  2022          4      4\n",
       "10        A            5   Jan  2023          2      2\n",
       "11        A            3   Mar  2022          2      2"
      ]
     },
     "execution_count": 29,
     "metadata": {},
     "output_type": "execute_result"
    }
   ],
   "source": [
    "pd.merge(df, pd.DataFrame(df.category.value_counts().reset_index()))"
   ]
  },
  {
   "cell_type": "markdown",
   "id": "3ef9a696",
   "metadata": {},
   "source": [
    "# Extract Multiple Items from a List"
   ]
  },
  {
   "cell_type": "code",
   "execution_count": 10,
   "id": "61c77cf0",
   "metadata": {},
   "outputs": [
    {
     "data": {
      "text/plain": [
       "'John'"
      ]
     },
     "execution_count": 10,
     "metadata": {},
     "output_type": "execute_result"
    }
   ],
   "source": [
    "names = [\"Jane\", \"John\", \"Max\", \"Ashley\", \"Max\"]\n",
    "\n",
    "# get second item\n",
    "names[1]"
   ]
  },
  {
   "cell_type": "code",
   "execution_count": 11,
   "id": "9db73dc3",
   "metadata": {},
   "outputs": [
    {
     "data": {
      "text/plain": [
       "['Jane', 'John', 'Max']"
      ]
     },
     "execution_count": 11,
     "metadata": {},
     "output_type": "execute_result"
    }
   ],
   "source": [
    "names = [\"Jane\", \"John\", \"Max\", \"Ashley\", \"Max\"]\n",
    "\n",
    "# get the first three items\n",
    "names[:3]"
   ]
  },
  {
   "cell_type": "code",
   "execution_count": 12,
   "id": "2ad5cbdd",
   "metadata": {},
   "outputs": [],
   "source": [
    "scores = [1225, 598, 922, 1565, 225, 1173, 1658, 1112, 1339, 1521, 737, \n",
    "          1374, 1676, 1183, 1598, 1948, 1123, 1185, 560, 1335, 1867, 270, \n",
    "          1901, 1089, 905, 1282, 1205, 873, 1860, 456, 1645, 1499, 525, \n",
    "          1696, 1703, 1157, 1791, 1930, 1268, 1760]"
   ]
  },
  {
   "cell_type": "code",
   "execution_count": 13,
   "id": "a58620ed",
   "metadata": {},
   "outputs": [],
   "source": [
    "items_to_extract = [0, 3, 4, 8, 12, 23, 30, 32, 36]"
   ]
  },
  {
   "cell_type": "code",
   "execution_count": 14,
   "id": "c3f50408",
   "metadata": {},
   "outputs": [
    {
     "name": "stdout",
     "output_type": "stream",
     "text": [
      "(1225, 1565, 225, 1339, 1676, 1089, 1645, 525, 1791)\n"
     ]
    }
   ],
   "source": [
    "from operator import itemgetter\n",
    "\n",
    "items_requested = itemgetter(*items_to_extract)(scores)\n",
    "\n",
    "print(items_requested)"
   ]
  },
  {
   "cell_type": "markdown",
   "id": "321fd8a8",
   "metadata": {},
   "source": [
    "## Alternative Approach"
   ]
  },
  {
   "cell_type": "code",
   "execution_count": 27,
   "id": "e0c42f16",
   "metadata": {},
   "outputs": [
    {
     "data": {
      "text/plain": [
       "array([1225, 1565,  225, 1339, 1676, 1089, 1645,  525, 1791])"
      ]
     },
     "execution_count": 27,
     "metadata": {},
     "output_type": "execute_result"
    }
   ],
   "source": [
    "import numpy as np\n",
    "s=np.array(scores)\n",
    "s[items_to_extract]"
   ]
  },
  {
   "cell_type": "markdown",
   "id": "5a94399f",
   "metadata": {},
   "source": [
    "# Sort DataFrame by Frequency"
   ]
  },
  {
   "cell_type": "code",
   "execution_count": 15,
   "id": "54a78b83",
   "metadata": {},
   "outputs": [],
   "source": [
    "df = pd.DataFrame({\n",
    "    \"category\": [\"A\", \"A\", \"C\", \"B\", \"B\", \"B\", \"C\", \"B\", \"C\", \"B\", \"B\", \"C\"],\n",
    "    \"issue_level\": [5, 3, 5, 1, 1, 1, 2, 4, 2, 3, 5, 2],\n",
    "    \"month\": [\"Jan\", \"Mar\", \"Feb\", \"Mar\", \"Feb\", \"June\", \"July\", \"Dec\", \"Mar\", \"Feb\", \"Apr\", \"Feb\"],\n",
    "    \"year\": [2023, 2022, 2022, 2023, 2021, 2023, 2020, 2021, 2022, 2022, 2023, 2022]\n",
    "})"
   ]
  },
  {
   "cell_type": "code",
   "execution_count": 16,
   "id": "dd23f6e6",
   "metadata": {},
   "outputs": [
    {
     "data": {
      "text/html": [
       "<div>\n",
       "<style scoped>\n",
       "    .dataframe tbody tr th:only-of-type {\n",
       "        vertical-align: middle;\n",
       "    }\n",
       "\n",
       "    .dataframe tbody tr th {\n",
       "        vertical-align: top;\n",
       "    }\n",
       "\n",
       "    .dataframe thead th {\n",
       "        text-align: right;\n",
       "    }\n",
       "</style>\n",
       "<table border=\"1\" class=\"dataframe\">\n",
       "  <thead>\n",
       "    <tr style=\"text-align: right;\">\n",
       "      <th></th>\n",
       "      <th>category</th>\n",
       "      <th>issue_level</th>\n",
       "      <th>month</th>\n",
       "      <th>year</th>\n",
       "    </tr>\n",
       "  </thead>\n",
       "  <tbody>\n",
       "    <tr>\n",
       "      <th>0</th>\n",
       "      <td>A</td>\n",
       "      <td>5</td>\n",
       "      <td>Jan</td>\n",
       "      <td>2023</td>\n",
       "    </tr>\n",
       "    <tr>\n",
       "      <th>1</th>\n",
       "      <td>A</td>\n",
       "      <td>3</td>\n",
       "      <td>Mar</td>\n",
       "      <td>2022</td>\n",
       "    </tr>\n",
       "    <tr>\n",
       "      <th>2</th>\n",
       "      <td>C</td>\n",
       "      <td>5</td>\n",
       "      <td>Feb</td>\n",
       "      <td>2022</td>\n",
       "    </tr>\n",
       "    <tr>\n",
       "      <th>3</th>\n",
       "      <td>B</td>\n",
       "      <td>1</td>\n",
       "      <td>Mar</td>\n",
       "      <td>2023</td>\n",
       "    </tr>\n",
       "    <tr>\n",
       "      <th>4</th>\n",
       "      <td>B</td>\n",
       "      <td>1</td>\n",
       "      <td>Feb</td>\n",
       "      <td>2021</td>\n",
       "    </tr>\n",
       "    <tr>\n",
       "      <th>5</th>\n",
       "      <td>B</td>\n",
       "      <td>1</td>\n",
       "      <td>June</td>\n",
       "      <td>2023</td>\n",
       "    </tr>\n",
       "    <tr>\n",
       "      <th>6</th>\n",
       "      <td>C</td>\n",
       "      <td>2</td>\n",
       "      <td>July</td>\n",
       "      <td>2020</td>\n",
       "    </tr>\n",
       "    <tr>\n",
       "      <th>7</th>\n",
       "      <td>B</td>\n",
       "      <td>4</td>\n",
       "      <td>Dec</td>\n",
       "      <td>2021</td>\n",
       "    </tr>\n",
       "    <tr>\n",
       "      <th>8</th>\n",
       "      <td>C</td>\n",
       "      <td>2</td>\n",
       "      <td>Mar</td>\n",
       "      <td>2022</td>\n",
       "    </tr>\n",
       "    <tr>\n",
       "      <th>9</th>\n",
       "      <td>B</td>\n",
       "      <td>3</td>\n",
       "      <td>Feb</td>\n",
       "      <td>2022</td>\n",
       "    </tr>\n",
       "    <tr>\n",
       "      <th>10</th>\n",
       "      <td>B</td>\n",
       "      <td>5</td>\n",
       "      <td>Apr</td>\n",
       "      <td>2023</td>\n",
       "    </tr>\n",
       "    <tr>\n",
       "      <th>11</th>\n",
       "      <td>C</td>\n",
       "      <td>2</td>\n",
       "      <td>Feb</td>\n",
       "      <td>2022</td>\n",
       "    </tr>\n",
       "  </tbody>\n",
       "</table>\n",
       "</div>"
      ],
      "text/plain": [
       "   category  issue_level month  year\n",
       "0         A            5   Jan  2023\n",
       "1         A            3   Mar  2022\n",
       "2         C            5   Feb  2022\n",
       "3         B            1   Mar  2023\n",
       "4         B            1   Feb  2021\n",
       "5         B            1  June  2023\n",
       "6         C            2  July  2020\n",
       "7         B            4   Dec  2021\n",
       "8         C            2   Mar  2022\n",
       "9         B            3   Feb  2022\n",
       "10        B            5   Apr  2023\n",
       "11        C            2   Feb  2022"
      ]
     },
     "metadata": {},
     "output_type": "display_data"
    }
   ],
   "source": [
    "display(df)"
   ]
  },
  {
   "cell_type": "code",
   "execution_count": 17,
   "id": "cc145ca1",
   "metadata": {},
   "outputs": [
    {
     "data": {
      "text/plain": [
       "category\n",
       "B    6\n",
       "C    4\n",
       "A    2\n",
       "Name: count, dtype: int64"
      ]
     },
     "execution_count": 17,
     "metadata": {},
     "output_type": "execute_result"
    }
   ],
   "source": [
    "df[\"category\"].value_counts()"
   ]
  },
  {
   "cell_type": "code",
   "execution_count": 18,
   "id": "a06257b6",
   "metadata": {},
   "outputs": [],
   "source": [
    "df.loc[:, \"frequency\"] = df.groupby(\"category\")[\"category\"].transform(pd.Series.count)"
   ]
  },
  {
   "cell_type": "code",
   "execution_count": 25,
   "id": "c93764b7",
   "metadata": {},
   "outputs": [
    {
     "name": "stdout",
     "output_type": "stream",
     "text": [
      "[('A',    category  issue_level month  year  frequency\n",
      "10        A            5   Jan  2023          2\n",
      "11        A            3   Mar  2022          2), ('B',   category  issue_level month  year  frequency\n",
      "0        B            1   Mar  2023          6\n",
      "1        B            1   Feb  2021          6\n",
      "2        B            1  June  2023          6\n",
      "3        B            4   Dec  2021          6\n",
      "4        B            3   Feb  2022          6\n",
      "5        B            5   Apr  2023          6), ('C',   category  issue_level month  year  frequency\n",
      "6        C            5   Feb  2022          4\n",
      "7        C            2  July  2020          4\n",
      "8        C            2   Mar  2022          4\n",
      "9        C            2   Feb  2022          4)]\n"
     ]
    }
   ],
   "source": [
    "print(list(df.groupby(\"category\")))"
   ]
  },
  {
   "cell_type": "code",
   "execution_count": 31,
   "id": "8406ff06",
   "metadata": {},
   "outputs": [
    {
     "name": "stdout",
     "output_type": "stream",
     "text": [
      "[('A', 10    A\n",
      "11    A\n",
      "Name: category, dtype: object), ('B', 0    B\n",
      "1    B\n",
      "2    B\n",
      "3    B\n",
      "4    B\n",
      "5    B\n",
      "Name: category, dtype: object), ('C', 6    C\n",
      "7    C\n",
      "8    C\n",
      "9    C\n",
      "Name: category, dtype: object)]\n"
     ]
    }
   ],
   "source": [
    "print(list(df.groupby(\"category\")['category']))"
   ]
  },
  {
   "cell_type": "code",
   "execution_count": 19,
   "id": "29b21897",
   "metadata": {},
   "outputs": [
    {
     "data": {
      "text/html": [
       "<div>\n",
       "<style scoped>\n",
       "    .dataframe tbody tr th:only-of-type {\n",
       "        vertical-align: middle;\n",
       "    }\n",
       "\n",
       "    .dataframe tbody tr th {\n",
       "        vertical-align: top;\n",
       "    }\n",
       "\n",
       "    .dataframe thead th {\n",
       "        text-align: right;\n",
       "    }\n",
       "</style>\n",
       "<table border=\"1\" class=\"dataframe\">\n",
       "  <thead>\n",
       "    <tr style=\"text-align: right;\">\n",
       "      <th></th>\n",
       "      <th>category</th>\n",
       "      <th>issue_level</th>\n",
       "      <th>month</th>\n",
       "      <th>year</th>\n",
       "      <th>frequency</th>\n",
       "    </tr>\n",
       "  </thead>\n",
       "  <tbody>\n",
       "    <tr>\n",
       "      <th>0</th>\n",
       "      <td>A</td>\n",
       "      <td>5</td>\n",
       "      <td>Jan</td>\n",
       "      <td>2023</td>\n",
       "      <td>2</td>\n",
       "    </tr>\n",
       "    <tr>\n",
       "      <th>1</th>\n",
       "      <td>A</td>\n",
       "      <td>3</td>\n",
       "      <td>Mar</td>\n",
       "      <td>2022</td>\n",
       "      <td>2</td>\n",
       "    </tr>\n",
       "    <tr>\n",
       "      <th>2</th>\n",
       "      <td>C</td>\n",
       "      <td>5</td>\n",
       "      <td>Feb</td>\n",
       "      <td>2022</td>\n",
       "      <td>4</td>\n",
       "    </tr>\n",
       "    <tr>\n",
       "      <th>3</th>\n",
       "      <td>B</td>\n",
       "      <td>1</td>\n",
       "      <td>Mar</td>\n",
       "      <td>2023</td>\n",
       "      <td>6</td>\n",
       "    </tr>\n",
       "    <tr>\n",
       "      <th>4</th>\n",
       "      <td>B</td>\n",
       "      <td>1</td>\n",
       "      <td>Feb</td>\n",
       "      <td>2021</td>\n",
       "      <td>6</td>\n",
       "    </tr>\n",
       "    <tr>\n",
       "      <th>5</th>\n",
       "      <td>B</td>\n",
       "      <td>1</td>\n",
       "      <td>June</td>\n",
       "      <td>2023</td>\n",
       "      <td>6</td>\n",
       "    </tr>\n",
       "    <tr>\n",
       "      <th>6</th>\n",
       "      <td>C</td>\n",
       "      <td>2</td>\n",
       "      <td>July</td>\n",
       "      <td>2020</td>\n",
       "      <td>4</td>\n",
       "    </tr>\n",
       "    <tr>\n",
       "      <th>7</th>\n",
       "      <td>B</td>\n",
       "      <td>4</td>\n",
       "      <td>Dec</td>\n",
       "      <td>2021</td>\n",
       "      <td>6</td>\n",
       "    </tr>\n",
       "    <tr>\n",
       "      <th>8</th>\n",
       "      <td>C</td>\n",
       "      <td>2</td>\n",
       "      <td>Mar</td>\n",
       "      <td>2022</td>\n",
       "      <td>4</td>\n",
       "    </tr>\n",
       "    <tr>\n",
       "      <th>9</th>\n",
       "      <td>B</td>\n",
       "      <td>3</td>\n",
       "      <td>Feb</td>\n",
       "      <td>2022</td>\n",
       "      <td>6</td>\n",
       "    </tr>\n",
       "    <tr>\n",
       "      <th>10</th>\n",
       "      <td>B</td>\n",
       "      <td>5</td>\n",
       "      <td>Apr</td>\n",
       "      <td>2023</td>\n",
       "      <td>6</td>\n",
       "    </tr>\n",
       "    <tr>\n",
       "      <th>11</th>\n",
       "      <td>C</td>\n",
       "      <td>2</td>\n",
       "      <td>Feb</td>\n",
       "      <td>2022</td>\n",
       "      <td>4</td>\n",
       "    </tr>\n",
       "  </tbody>\n",
       "</table>\n",
       "</div>"
      ],
      "text/plain": [
       "   category  issue_level month  year  frequency\n",
       "0         A            5   Jan  2023          2\n",
       "1         A            3   Mar  2022          2\n",
       "2         C            5   Feb  2022          4\n",
       "3         B            1   Mar  2023          6\n",
       "4         B            1   Feb  2021          6\n",
       "5         B            1  June  2023          6\n",
       "6         C            2  July  2020          4\n",
       "7         B            4   Dec  2021          6\n",
       "8         C            2   Mar  2022          4\n",
       "9         B            3   Feb  2022          6\n",
       "10        B            5   Apr  2023          6\n",
       "11        C            2   Feb  2022          4"
      ]
     },
     "metadata": {},
     "output_type": "display_data"
    }
   ],
   "source": [
    "display(df)"
   ]
  },
  {
   "cell_type": "code",
   "execution_count": 20,
   "id": "90f5aaf5",
   "metadata": {},
   "outputs": [],
   "source": [
    "df = df.sort_values(by=\"frequency\", ascending=False).reset_index(drop=True)"
   ]
  },
  {
   "cell_type": "code",
   "execution_count": 21,
   "id": "9c20cdb7",
   "metadata": {},
   "outputs": [
    {
     "data": {
      "text/html": [
       "<div>\n",
       "<style scoped>\n",
       "    .dataframe tbody tr th:only-of-type {\n",
       "        vertical-align: middle;\n",
       "    }\n",
       "\n",
       "    .dataframe tbody tr th {\n",
       "        vertical-align: top;\n",
       "    }\n",
       "\n",
       "    .dataframe thead th {\n",
       "        text-align: right;\n",
       "    }\n",
       "</style>\n",
       "<table border=\"1\" class=\"dataframe\">\n",
       "  <thead>\n",
       "    <tr style=\"text-align: right;\">\n",
       "      <th></th>\n",
       "      <th>category</th>\n",
       "      <th>issue_level</th>\n",
       "      <th>month</th>\n",
       "      <th>year</th>\n",
       "      <th>frequency</th>\n",
       "    </tr>\n",
       "  </thead>\n",
       "  <tbody>\n",
       "    <tr>\n",
       "      <th>0</th>\n",
       "      <td>B</td>\n",
       "      <td>1</td>\n",
       "      <td>Mar</td>\n",
       "      <td>2023</td>\n",
       "      <td>6</td>\n",
       "    </tr>\n",
       "    <tr>\n",
       "      <th>1</th>\n",
       "      <td>B</td>\n",
       "      <td>1</td>\n",
       "      <td>Feb</td>\n",
       "      <td>2021</td>\n",
       "      <td>6</td>\n",
       "    </tr>\n",
       "    <tr>\n",
       "      <th>2</th>\n",
       "      <td>B</td>\n",
       "      <td>1</td>\n",
       "      <td>June</td>\n",
       "      <td>2023</td>\n",
       "      <td>6</td>\n",
       "    </tr>\n",
       "    <tr>\n",
       "      <th>3</th>\n",
       "      <td>B</td>\n",
       "      <td>4</td>\n",
       "      <td>Dec</td>\n",
       "      <td>2021</td>\n",
       "      <td>6</td>\n",
       "    </tr>\n",
       "    <tr>\n",
       "      <th>4</th>\n",
       "      <td>B</td>\n",
       "      <td>3</td>\n",
       "      <td>Feb</td>\n",
       "      <td>2022</td>\n",
       "      <td>6</td>\n",
       "    </tr>\n",
       "    <tr>\n",
       "      <th>5</th>\n",
       "      <td>B</td>\n",
       "      <td>5</td>\n",
       "      <td>Apr</td>\n",
       "      <td>2023</td>\n",
       "      <td>6</td>\n",
       "    </tr>\n",
       "    <tr>\n",
       "      <th>6</th>\n",
       "      <td>C</td>\n",
       "      <td>5</td>\n",
       "      <td>Feb</td>\n",
       "      <td>2022</td>\n",
       "      <td>4</td>\n",
       "    </tr>\n",
       "    <tr>\n",
       "      <th>7</th>\n",
       "      <td>C</td>\n",
       "      <td>2</td>\n",
       "      <td>July</td>\n",
       "      <td>2020</td>\n",
       "      <td>4</td>\n",
       "    </tr>\n",
       "    <tr>\n",
       "      <th>8</th>\n",
       "      <td>C</td>\n",
       "      <td>2</td>\n",
       "      <td>Mar</td>\n",
       "      <td>2022</td>\n",
       "      <td>4</td>\n",
       "    </tr>\n",
       "    <tr>\n",
       "      <th>9</th>\n",
       "      <td>C</td>\n",
       "      <td>2</td>\n",
       "      <td>Feb</td>\n",
       "      <td>2022</td>\n",
       "      <td>4</td>\n",
       "    </tr>\n",
       "    <tr>\n",
       "      <th>10</th>\n",
       "      <td>A</td>\n",
       "      <td>5</td>\n",
       "      <td>Jan</td>\n",
       "      <td>2023</td>\n",
       "      <td>2</td>\n",
       "    </tr>\n",
       "    <tr>\n",
       "      <th>11</th>\n",
       "      <td>A</td>\n",
       "      <td>3</td>\n",
       "      <td>Mar</td>\n",
       "      <td>2022</td>\n",
       "      <td>2</td>\n",
       "    </tr>\n",
       "  </tbody>\n",
       "</table>\n",
       "</div>"
      ],
      "text/plain": [
       "   category  issue_level month  year  frequency\n",
       "0         B            1   Mar  2023          6\n",
       "1         B            1   Feb  2021          6\n",
       "2         B            1  June  2023          6\n",
       "3         B            4   Dec  2021          6\n",
       "4         B            3   Feb  2022          6\n",
       "5         B            5   Apr  2023          6\n",
       "6         C            5   Feb  2022          4\n",
       "7         C            2  July  2020          4\n",
       "8         C            2   Mar  2022          4\n",
       "9         C            2   Feb  2022          4\n",
       "10        A            5   Jan  2023          2\n",
       "11        A            3   Mar  2022          2"
      ]
     },
     "metadata": {},
     "output_type": "display_data"
    }
   ],
   "source": [
    "display(df)"
   ]
  }
 ],
 "metadata": {
  "kernelspec": {
   "display_name": "Python 3 (ipykernel)",
   "language": "python",
   "name": "python3"
  },
  "language_info": {
   "codemirror_mode": {
    "name": "ipython",
    "version": 3
   },
   "file_extension": ".py",
   "mimetype": "text/x-python",
   "name": "python",
   "nbconvert_exporter": "python",
   "pygments_lexer": "ipython3",
   "version": "3.9.7"
  }
 },
 "nbformat": 4,
 "nbformat_minor": 5
}
