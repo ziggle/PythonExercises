{
 "cells": [
  {
   "cell_type": "markdown",
   "id": "b33fcb85",
   "metadata": {},
   "source": [
    "https://towardsdev.com/mastering-pivot-tables-in-python-with-pandas-903cecaf9dac"
   ]
  },
  {
   "cell_type": "code",
   "execution_count": 1,
   "id": "d68a5f0e",
   "metadata": {},
   "outputs": [
    {
     "name": "stdout",
     "output_type": "stream",
     "text": [
      "  Category Subcategory  Value\n",
      "0        A           X      1\n",
      "1        B           X      2\n",
      "2        A           Y      3\n",
      "3        B           Y      4\n",
      "4        A           X      5\n",
      "5        B           Y      6\n",
      "6        A           X      7\n",
      "7        B           Y      8\n"
     ]
    }
   ],
   "source": [
    "import pandas as pd\n",
    "\n",
    "data = {'Category': ['A', 'B', 'A', 'B', 'A', 'B', 'A', 'B'],\n",
    "        'Subcategory': ['X', 'X', 'Y', 'Y', 'X', 'Y', 'X', 'Y'],\n",
    "        'Value': [1, 2, 3, 4, 5, 6, 7, 8]}\n",
    "\n",
    "df = pd.DataFrame(data)\n",
    "print(df)"
   ]
  },
  {
   "cell_type": "code",
   "execution_count": 2,
   "id": "18831872",
   "metadata": {},
   "outputs": [
    {
     "name": "stdout",
     "output_type": "stream",
     "text": [
      "Subcategory   X   Y\n",
      "Category           \n",
      "A            13   3\n",
      "B             2  18\n"
     ]
    }
   ],
   "source": [
    "pivot_df = df.pivot_table(index='Category', columns='Subcategory', values='Value', aggfunc='sum', fill_value=0)\n",
    "print(pivot_df)"
   ]
  },
  {
   "cell_type": "code",
   "execution_count": 3,
   "id": "34793c52",
   "metadata": {},
   "outputs": [
    {
     "name": "stdout",
     "output_type": "stream",
     "text": [
      "Subcategory  X  Y\n",
      "Category         \n",
      "A            5  3\n",
      "B            2  6\n"
     ]
    }
   ],
   "source": [
    "import numpy as np\n",
    "pivot_df = df.pivot_table(index='Category', columns='Subcategory', values='Value', aggfunc=np.median, fill_value=0)\n",
    "print(pivot_df)"
   ]
  },
  {
   "cell_type": "code",
   "execution_count": 4,
   "id": "9cf4d7f1",
   "metadata": {},
   "outputs": [
    {
     "name": "stdout",
     "output_type": "stream",
     "text": [
      "Subcategory   X   Y  Total\n",
      "Category                  \n",
      "A            13   3     16\n",
      "B             2  18     20\n",
      "Total        15  21     36\n"
     ]
    }
   ],
   "source": [
    "pivot_df = df.pivot_table(index='Category', columns='Subcategory', values='Value', aggfunc='sum', fill_value=0, margins=True, margins_name='Total')\n",
    "print(pivot_df)"
   ]
  },
  {
   "cell_type": "code",
   "execution_count": 5,
   "id": "491f5eb7",
   "metadata": {},
   "outputs": [
    {
     "name": "stdout",
     "output_type": "stream",
     "text": [
      "               Value\n",
      "Year Category       \n",
      "2019 A            10\n",
      "     B            20\n",
      "2020 A            30\n",
      "     B            40\n",
      "2021 A            50\n",
      "     B            60\n"
     ]
    }
   ],
   "source": [
    "data = {'Year': [2019, 2019, 2020, 2020, 2021, 2021],\n",
    "        'Category': ['A', 'B', 'A', 'B', 'A', 'B'],\n",
    "        'Value': [10, 20, 30, 40, 50, 60]}\n",
    "\n",
    "df = pd.DataFrame(data)\n",
    "\n",
    "pivot_df = df.pivot_table(index=['Year', 'Category'], values='Value', aggfunc='sum')\n",
    "print(pivot_df)"
   ]
  }
 ],
 "metadata": {
  "kernelspec": {
   "display_name": "Python 3 (ipykernel)",
   "language": "python",
   "name": "python3"
  },
  "language_info": {
   "codemirror_mode": {
    "name": "ipython",
    "version": 3
   },
   "file_extension": ".py",
   "mimetype": "text/x-python",
   "name": "python",
   "nbconvert_exporter": "python",
   "pygments_lexer": "ipython3",
   "version": "3.9.15"
  },
  "toc": {
   "base_numbering": 1,
   "nav_menu": {},
   "number_sections": true,
   "sideBar": true,
   "skip_h1_title": false,
   "title_cell": "Table of Contents",
   "title_sidebar": "Contents",
   "toc_cell": false,
   "toc_position": {},
   "toc_section_display": true,
   "toc_window_display": false
  }
 },
 "nbformat": 4,
 "nbformat_minor": 5
}
