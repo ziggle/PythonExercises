{
 "cells": [
  {
   "cell_type": "code",
   "execution_count": 4,
   "metadata": {},
   "outputs": [
    {
     "name": "stdout",
     "output_type": "stream",
     "text": [
      "l.400.000.000\n"
     ]
    },
    {
     "data": {
      "text/html": [
       "<div>\n",
       "<style scoped>\n",
       "    .dataframe tbody tr th:only-of-type {\n",
       "        vertical-align: middle;\n",
       "    }\n",
       "\n",
       "    .dataframe tbody tr th {\n",
       "        vertical-align: top;\n",
       "    }\n",
       "\n",
       "    .dataframe thead th {\n",
       "        text-align: right;\n",
       "    }\n",
       "</style>\n",
       "<table border=\"1\" class=\"dataframe\">\n",
       "  <thead>\n",
       "    <tr style=\"text-align: right;\">\n",
       "      <th></th>\n",
       "      <th>Country</th>\n",
       "      <th>Capital</th>\n",
       "      <th>Population</th>\n",
       "      <th>Area</th>\n",
       "    </tr>\n",
       "  </thead>\n",
       "  <tbody>\n",
       "    <tr>\n",
       "      <th>0</th>\n",
       "      <td>Germany</td>\n",
       "      <td>Berlin</td>\n",
       "      <td>83.783.942</td>\n",
       "      <td>357.021</td>\n",
       "    </tr>\n",
       "    <tr>\n",
       "      <th>1</th>\n",
       "      <td>France</td>\n",
       "      <td>Paris</td>\n",
       "      <td>67.081.000</td>\n",
       "      <td>551.695</td>\n",
       "    </tr>\n",
       "    <tr>\n",
       "      <th>2</th>\n",
       "      <td>Spain</td>\n",
       "      <td>Madrid</td>\n",
       "      <td>47.431.256</td>\n",
       "      <td>498.511</td>\n",
       "    </tr>\n",
       "    <tr>\n",
       "      <th>3</th>\n",
       "      <td>Italy</td>\n",
       "      <td>Rome</td>\n",
       "      <td>60.317.116</td>\n",
       "      <td>301.338</td>\n",
       "    </tr>\n",
       "    <tr>\n",
       "      <th>4</th>\n",
       "      <td>Poland</td>\n",
       "      <td>Warsaw</td>\n",
       "      <td>38.383.000</td>\n",
       "      <td>312.685</td>\n",
       "    </tr>\n",
       "    <tr>\n",
       "      <th>5</th>\n",
       "      <td>Russia</td>\n",
       "      <td>Moscow</td>\n",
       "      <td>146.748.590</td>\n",
       "      <td>17.098.246</td>\n",
       "    </tr>\n",
       "    <tr>\n",
       "      <th>6</th>\n",
       "      <td>USA</td>\n",
       "      <td>Washington</td>\n",
       "      <td>328.239.523</td>\n",
       "      <td>9.833.520</td>\n",
       "    </tr>\n",
       "    <tr>\n",
       "      <th>7</th>\n",
       "      <td>China</td>\n",
       "      <td>Beijing</td>\n",
       "      <td>l.400.000.000</td>\n",
       "      <td>9.596.961</td>\n",
       "    </tr>\n",
       "    <tr>\n",
       "      <th>8</th>\n",
       "      <td>India</td>\n",
       "      <td>Dheli</td>\n",
       "      <td>1.352.642.280</td>\n",
       "      <td>3.287.263</td>\n",
       "    </tr>\n",
       "  </tbody>\n",
       "</table>\n",
       "</div>"
      ],
      "text/plain": [
       "   Country      Capital     Population        Area\n",
       "0  Germany       Berlin     83.783.942     357.021\n",
       "1   France        Paris     67.081.000     551.695\n",
       "2    Spain       Madrid     47.431.256     498.511\n",
       "3    Italy         Rome     60.317.116     301.338\n",
       "4   Poland       Warsaw     38.383.000     312.685\n",
       "5   Russia       Moscow    146.748.590  17.098.246\n",
       "6      USA   Washington    328.239.523   9.833.520\n",
       "7    China      Beijing  l.400.000.000   9.596.961\n",
       "8    India        Dheli  1.352.642.280   3.287.263"
      ]
     },
     "metadata": {},
     "output_type": "display_data"
    }
   ],
   "source": [
    "import pandas as pd\n",
    "df=pd.read_csv('Test.csv')\n",
    "result=df['Population'].max()\n",
    "print(result)\n",
    "display(df)"
   ]
  },
  {
   "cell_type": "code",
   "execution_count": 7,
   "metadata": {},
   "outputs": [
    {
     "name": "stdout",
     "output_type": "stream",
     "text": [
      "143\n"
     ]
    }
   ],
   "source": [
    "\n",
    "import numpy as np\n",
    "dataScientist=[130,132,137]\n",
    "productManager=[127,140,145]\n",
    "designer=[118,118,127]\n",
    "softwareEngineer=[129,131,131]\n",
    "\n",
    "A=np.array([dataScientist,productManager,designer,softwareEngineer])\n",
    "B=np.ones((4,1))\n",
    "B[0]=1.1\n",
    "C=A * B\n",
    "print(int(C[0][0]))"
   ]
  },
  {
   "cell_type": "code",
   "execution_count": 10,
   "metadata": {},
   "outputs": [
    {
     "name": "stdout",
     "output_type": "stream",
     "text": [
      "-1\n",
      "-1\n",
      "23\n"
     ]
    }
   ],
   "source": [
    "s1='Ronaldo is better than Messi'\n",
    "print(s1.find('Ronaldo',5))\n",
    "print(s1.find('Football'))\n",
    "print(s1.find('Messi',5,100))\n"
   ]
  },
  {
   "cell_type": "code",
   "execution_count": 14,
   "metadata": {},
   "outputs": [
    {
     "name": "stdout",
     "output_type": "stream",
     "text": [
      "[0 1 1 0 3 5 0]\n",
      "2\n"
     ]
    }
   ],
   "source": [
    "import numpy as np\n",
    "F=np.array([0,1,1,2,3,5,8])\n",
    "F[::3]=0\n",
    "print(F)\n",
    "print(sum(F[:4]))"
   ]
  },
  {
   "cell_type": "code",
   "execution_count": 16,
   "metadata": {},
   "outputs": [
    {
     "name": "stdout",
     "output_type": "stream",
     "text": [
      "True\n"
     ]
    }
   ],
   "source": [
    "python=['cool']\n",
    "p1 =[['cool']]\n",
    "x=python in p1\n",
    "\n",
    "print(x)"
   ]
  },
  {
   "cell_type": "code",
   "execution_count": 17,
   "metadata": {},
   "outputs": [
    {
     "name": "stdout",
     "output_type": "stream",
     "text": [
      "True\n"
     ]
    }
   ],
   "source": [
    "import numpy as np\n",
    "goals_brazil=np.array([1,2,3,1,2])\n",
    "goals_germany=np.array([1,0,1,2,0])\n",
    "\n",
    "br=np.average(goals_brazil)\n",
    "ge=np.average(goals_germany)\n",
    "print(br>ge)"
   ]
  },
  {
   "cell_type": "code",
   "execution_count": null,
   "metadata": {},
   "outputs": [],
   "source": []
  }
 ],
 "metadata": {
  "kernelspec": {
   "display_name": "Python 3",
   "language": "python",
   "name": "python3"
  },
  "language_info": {
   "codemirror_mode": {
    "name": "ipython",
    "version": 3
   },
   "file_extension": ".py",
   "mimetype": "text/x-python",
   "name": "python",
   "nbconvert_exporter": "python",
   "pygments_lexer": "ipython3",
   "version": "3.11.7"
  }
 },
 "nbformat": 4,
 "nbformat_minor": 2
}
