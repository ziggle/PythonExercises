{
 "cells": [
  {
   "cell_type": "markdown",
   "id": "f42d0676",
   "metadata": {},
   "source": [
    "https://medium.com/@nishithakalathil/python-diaries-day-6-af6a65385930"
   ]
  },
  {
   "cell_type": "code",
   "execution_count": 14,
   "id": "a5100d90",
   "metadata": {},
   "outputs": [
    {
     "name": "stdout",
     "output_type": "stream",
     "text": [
      "{'name': 'John Doe', 'age': 30, 'city': 'New York'}\n"
     ]
    }
   ],
   "source": [
    "# Example of a dictionary\n",
    "person = {\n",
    "    \"name\": \"John Doe\",\n",
    "    \"age\": 30,\n",
    "    \"city\": \"New York\"\n",
    "}\n",
    "# output will be {'name': 'John Doe', 'age': 30, 'city': 'New York'}py\n",
    "print(person)"
   ]
  },
  {
   "cell_type": "code",
   "execution_count": 15,
   "id": "5a24ad2b",
   "metadata": {},
   "outputs": [
    {
     "name": "stdout",
     "output_type": "stream",
     "text": [
      "{'name': 'John Doe', 'age': 30, 'city': 'Washington'}\n"
     ]
    }
   ],
   "source": [
    "# Example of a dictionary\n",
    "person = {\n",
    "    \"name\": \"John Doe\",\n",
    "    \"age\": 30,\n",
    "    \"city\": \"New York\",\n",
    "    \"city\": \"Washington\"\n",
    "}\n",
    "# output will be {'name': 'John Doe', 'age': 30, 'city': 'Washington'}\n",
    "print(person)"
   ]
  },
  {
   "cell_type": "code",
   "execution_count": 16,
   "id": "091b0f3b",
   "metadata": {},
   "outputs": [],
   "source": [
    "person = {\n",
    "    \"name\": \"John Doe\",\n",
    "    \"age\": 30,\n",
    "    \"city\": \"New York\"\n",
    "}\n",
    "# Accessing values\n",
    "name = person[\"name\"]  # Output: \"John Doe\"\n",
    "age = person[\"age\"]    # Output: 30\n",
    "name = person.get(\"name\")"
   ]
  },
  {
   "cell_type": "code",
   "execution_count": 17,
   "id": "539a69df",
   "metadata": {},
   "outputs": [],
   "source": [
    "# Modifying values\n",
    "person[\"age\"] = 31\n",
    "# using update function\n",
    "person.update({\"age\":45})"
   ]
  },
  {
   "cell_type": "code",
   "execution_count": 18,
   "id": "af3d9c8f",
   "metadata": {},
   "outputs": [
    {
     "name": "stdout",
     "output_type": "stream",
     "text": [
      "{'name': 'John Doe', 'age': 45, 'city': 'New York', 'email': 'john.doe@example.com'}\n"
     ]
    }
   ],
   "source": [
    "# Adding a new entry\n",
    "person[\"email\"] = \"john.doe@example.com\"\n",
    "print(person)"
   ]
  },
  {
   "cell_type": "code",
   "execution_count": 19,
   "id": "646059da",
   "metadata": {},
   "outputs": [
    {
     "name": "stdout",
     "output_type": "stream",
     "text": [
      "dict_keys(['name', 'age', 'city', 'email'])\n",
      "dict_values(['John Doe', 45, 'New York', 'john.doe@example.com'])\n",
      "dict_items([('name', 'John Doe'), ('age', 45), ('city', 'New York'), ('email', 'john.doe@example.com')])\n"
     ]
    }
   ],
   "source": [
    "\n",
    "keys = person.keys()      # Output: dict_keys(['name', 'age', 'city', 'email'])\n",
    "values = person.values()  # Output: dict_values(['John Doe', 31, 'New York', 'john.doe@example.com'])\n",
    "items = person.items()    # Output: dict_items([('name', 'John Doe'), ('age', 31), ('city', 'New York'), ('email', 'john.doe@example.com')]\n",
    "print(keys)\n",
    "print(values)\n",
    "print(items)"
   ]
  },
  {
   "cell_type": "code",
   "execution_count": 20,
   "id": "0b88dad8",
   "metadata": {},
   "outputs": [
    {
     "ename": "KeyError",
     "evalue": "'age'",
     "output_type": "error",
     "traceback": [
      "\u001b[1;31m---------------------------------------------------------------------------\u001b[0m",
      "\u001b[1;31mKeyError\u001b[0m                                  Traceback (most recent call last)",
      "\u001b[1;32m~\\AppData\\Local\\Temp/ipykernel_5576/1726490525.py\u001b[0m in \u001b[0;36m<module>\u001b[1;34m\u001b[0m\n\u001b[0;32m      6\u001b[0m \u001b[0mperson\u001b[0m\u001b[1;33m.\u001b[0m\u001b[0mclear\u001b[0m\u001b[1;33m(\u001b[0m\u001b[1;33m)\u001b[0m  \u001b[1;31m# Removes all items from 'person' (person is now an empty dictionary)\u001b[0m\u001b[1;33m\u001b[0m\u001b[1;33m\u001b[0m\u001b[0m\n\u001b[0;32m      7\u001b[0m \u001b[1;31m# Removing an entry using clear()\u001b[0m\u001b[1;33m\u001b[0m\u001b[1;33m\u001b[0m\u001b[0m\n\u001b[1;32m----> 8\u001b[1;33m \u001b[1;32mdel\u001b[0m \u001b[0mperson\u001b[0m\u001b[1;33m[\u001b[0m\u001b[1;34m\"age\"\u001b[0m\u001b[1;33m]\u001b[0m\u001b[1;33m,\u001b[0m \u001b[0mperson\u001b[0m\u001b[1;33m[\u001b[0m\u001b[1;34m\"city\"\u001b[0m\u001b[1;33m]\u001b[0m  \u001b[1;31m# Removes both 'age' and 'city' keys and their associated values\u001b[0m\u001b[1;33m\u001b[0m\u001b[1;33m\u001b[0m\u001b[0m\n\u001b[0m\u001b[0;32m      9\u001b[0m \u001b[1;33m\u001b[0m\u001b[0m\n",
      "\u001b[1;31mKeyError\u001b[0m: 'age'"
     ]
    }
   ],
   "source": [
    "# Removing an entry using pop()\n",
    "city = person.pop(\"city\")  # city is \"New York\", person no longer contains \"city\" key\n",
    "# Removing an entry using popitem()\n",
    "key, value = person.popitem()  # Removes and returns the last key-value pair (key = 'city', value = 'New York')\n",
    "# Removing an entry using clear()\n",
    "person.clear()  # Removes all items from 'person' (person is now an empty dictionary)\n",
    "# Removing an entry using clear()\n",
    "del person[\"age\"], person[\"city\"]  # Removes both 'age' and 'city' keys and their associated values\n",
    "\n"
   ]
  },
  {
   "cell_type": "code",
   "execution_count": null,
   "id": "b15d9b57",
   "metadata": {},
   "outputs": [],
   "source": [
    "person = {\n",
    "    \"name\": \"John Doe\",\n",
    "    \"age\": 30,\n",
    "    \"city\": \"New York\"\n",
    "}\n",
    "sorted_dict_by_keys = dict(sorted(person.items()))\n",
    "print(sorted_dict_by_keys)"
   ]
  },
  {
   "cell_type": "code",
   "execution_count": 21,
   "id": "4eddbdf4",
   "metadata": {},
   "outputs": [
    {
     "ename": "TypeError",
     "evalue": "'<' not supported between instances of 'int' and 'str'",
     "output_type": "error",
     "traceback": [
      "\u001b[1;31m---------------------------------------------------------------------------\u001b[0m",
      "\u001b[1;31mTypeError\u001b[0m                                 Traceback (most recent call last)",
      "\u001b[1;32m~\\AppData\\Local\\Temp/ipykernel_5576/2654437600.py\u001b[0m in \u001b[0;36m<module>\u001b[1;34m\u001b[0m\n\u001b[0;32m      4\u001b[0m     \u001b[1;34m\"city\"\u001b[0m\u001b[1;33m:\u001b[0m \u001b[1;34m\"New York\"\u001b[0m\u001b[1;33m\u001b[0m\u001b[1;33m\u001b[0m\u001b[0m\n\u001b[0;32m      5\u001b[0m }\n\u001b[1;32m----> 6\u001b[1;33m \u001b[0msorted_dict_by_values\u001b[0m \u001b[1;33m=\u001b[0m \u001b[0mdict\u001b[0m\u001b[1;33m(\u001b[0m\u001b[0msorted\u001b[0m\u001b[1;33m(\u001b[0m\u001b[0mperson\u001b[0m\u001b[1;33m.\u001b[0m\u001b[0mitems\u001b[0m\u001b[1;33m(\u001b[0m\u001b[1;33m)\u001b[0m\u001b[1;33m,\u001b[0m \u001b[0mkey\u001b[0m\u001b[1;33m=\u001b[0m\u001b[1;32mlambda\u001b[0m \u001b[0mitem\u001b[0m\u001b[1;33m:\u001b[0m \u001b[0mitem\u001b[0m\u001b[1;33m[\u001b[0m\u001b[1;36m1\u001b[0m\u001b[1;33m]\u001b[0m\u001b[1;33m)\u001b[0m\u001b[1;33m)\u001b[0m\u001b[1;33m\u001b[0m\u001b[1;33m\u001b[0m\u001b[0m\n\u001b[0m\u001b[0;32m      7\u001b[0m \u001b[0mprint\u001b[0m\u001b[1;33m(\u001b[0m\u001b[0msorted_dict_by_values\u001b[0m\u001b[1;33m)\u001b[0m\u001b[1;33m\u001b[0m\u001b[1;33m\u001b[0m\u001b[0m\n",
      "\u001b[1;31mTypeError\u001b[0m: '<' not supported between instances of 'int' and 'str'"
     ]
    }
   ],
   "source": [
    "person = {\n",
    "    \"name\": \"John Doe\",\n",
    "    \"age\": 30,\n",
    "    \"city\": \"New York\"\n",
    "}\n",
    "sorted_dict_by_values = dict(sorted(person.items(), key=lambda item: item[1]))\n",
    "print(sorted_dict_by_values)"
   ]
  },
  {
   "cell_type": "code",
   "execution_count": 22,
   "id": "155ccc92",
   "metadata": {},
   "outputs": [
    {
     "name": "stdout",
     "output_type": "stream",
     "text": [
      "John Doe\n",
      "30\n",
      "New York\n"
     ]
    }
   ],
   "source": [
    "person = {\n",
    "    \"name\": \"John Doe\",\n",
    "    \"age\": 30,\n",
    "    \"city\": \"New York\"\n",
    "}\n",
    "for value in person.values():\n",
    "    print(value)"
   ]
  },
  {
   "cell_type": "code",
   "execution_count": 23,
   "id": "49e2e6d7",
   "metadata": {},
   "outputs": [
    {
     "name": "stdout",
     "output_type": "stream",
     "text": [
      "name: John Doe\n",
      "age: 30\n",
      "city: New York\n"
     ]
    }
   ],
   "source": [
    "person = {\n",
    "    \"name\": \"John Doe\",\n",
    "    \"age\": 30,\n",
    "    \"city\": \"New York\"\n",
    "}\n",
    "for key, value in person.items():\n",
    "    print(f\"{key}: {value}\")"
   ]
  },
  {
   "cell_type": "code",
   "execution_count": 25,
   "id": "9a7eae1b",
   "metadata": {},
   "outputs": [
    {
     "name": "stdout",
     "output_type": "stream",
     "text": [
      "John Doe\n"
     ]
    }
   ],
   "source": [
    "students = {\n",
    "    \"student1\": {\n",
    "        \"name\": \"John Doe\",\n",
    "        \"age\": 20,\n",
    "        \"major\": \"Computer Science\"\n",
    "    },\n",
    "    \"student2\": {\n",
    "        \"name\": \"Jane Doe\",\n",
    "        \"age\": 21,\n",
    "        \"major\": \"Mathematics\"\n",
    "    }\n",
    "}\n",
    "print(students[\"student1\"][\"name\"])  # Output: John Doe"
   ]
  }
 ],
 "metadata": {
  "kernelspec": {
   "display_name": "Python 3 (ipykernel)",
   "language": "python",
   "name": "python3"
  },
  "language_info": {
   "codemirror_mode": {
    "name": "ipython",
    "version": 3
   },
   "file_extension": ".py",
   "mimetype": "text/x-python",
   "name": "python",
   "nbconvert_exporter": "python",
   "pygments_lexer": "ipython3",
   "version": "3.9.7"
  }
 },
 "nbformat": 4,
 "nbformat_minor": 5
}
