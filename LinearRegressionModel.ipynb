{
 "cells": [
  {
   "cell_type": "markdown",
   "id": "4cd59402",
   "metadata": {},
   "source": [
    "https://levelup.gitconnected.com/linear-regression-uncovered-hands-on-techniques-using-python-ba7c4cf35070"
   ]
  },
  {
   "cell_type": "code",
   "execution_count": 3,
   "id": "705acb12",
   "metadata": {},
   "outputs": [],
   "source": [
    "import numpy as np\n",
    "import matplotlib.pyplot as plt"
   ]
  },
  {
   "cell_type": "code",
   "execution_count": 4,
   "id": "7625f0f9",
   "metadata": {},
   "outputs": [],
   "source": [
    "def linear_regression(X, y):\n",
    "  x_mean = np.mean(X)\n",
    "  y_mean = np.mean(y)\n",
    "  numerator = np.sum((X - x_mean) * (y - y_mean))\n",
    "  denominator = np.sum((X - x_mean) ** 2)\n",
    "  m = numerator / denominator\n",
    "  b = y_mean - (m * x_mean)\n",
    "  return m, b"
   ]
  },
  {
   "cell_type": "code",
   "execution_count": 6,
   "id": "b5830716",
   "metadata": {},
   "outputs": [],
   "source": [
    "def predict(X, m, b):\n",
    "    return m * X + b"
   ]
  },
  {
   "cell_type": "code",
   "execution_count": 8,
   "id": "75f9ceb1",
   "metadata": {},
   "outputs": [],
   "source": [
    "def rmse(y_true, y_pred):\n",
    "    return np.sqrt(np.mean((y_true - y_pred) ** 2))"
   ]
  },
  {
   "cell_type": "code",
   "execution_count": 9,
   "id": "20b16301",
   "metadata": {},
   "outputs": [
    {
     "name": "stdout",
     "output_type": "stream",
     "text": [
      "Slope (m): 0.9589552238805968\n",
      "Intercept (b): 2.145522388059705\n",
      "Predictions: [ 8.85820896  9.81716418 11.73507463 13.65298507 16.52985075 19.40671642]\n",
      "RMSE: 0.4440037201224643\n"
     ]
    }
   ],
   "source": [
    "# Sample data\n",
    "X = np.array([7, 8, 10, 12, 15, 18])\n",
    "Y = np.array([9, 10, 12, 13, 16, 20])\n",
    "\n",
    "# Training the model\n",
    "m, b = linear_regression(X, Y)\n",
    "\n",
    "# Making predictions\n",
    "predictions = predict(X, m, b)\n",
    "\n",
    "# Calculating RMSE\n",
    "error = rmse(Y, predictions)\n",
    "\n",
    "print(\"Slope (m):\", m)\n",
    "print(\"Intercept (b):\", b)\n",
    "print(\"Predictions:\", predictions)\n",
    "print(\"RMSE:\", error)"
   ]
  },
  {
   "cell_type": "code",
   "execution_count": 10,
   "id": "92756f85",
   "metadata": {},
   "outputs": [
    {
     "data": {
      "image/png": "[encoded data removed]",
      "text/plain": [
       "<Figure size 432x288 with 1 Axes>"
      ]
     },
     "metadata": {
      "needs_background": "light"
     },
     "output_type": "display_data"
    }
   ],
   "source": [
    "plt.scatter(X, Y, color='blue', label='Data points')\n",
    "plt.plot(X, predictions, color='red', label='Regression Line')\n",
    "plt.xlabel('Independent variable X')\n",
    "plt.ylabel('Dependent variable y')\n",
    "plt.title('Linear Regression Model')\n",
    "plt.legend()\n",
    "plt.show()"
   ]
  }
 ],
 "metadata": {
  "kernelspec": {
   "display_name": "Python 3 (ipykernel)",
   "language": "python",
   "name": "python3"
  },
  "language_info": {
   "codemirror_mode": {
    "name": "ipython",
    "version": 3
   },
   "file_extension": ".py",
   "mimetype": "text/x-python",
   "name": "python",
   "nbconvert_exporter": "python",
   "pygments_lexer": "ipython3",
   "version": "3.9.7"
  }
 },
 "nbformat": 4,
 "nbformat_minor": 5
}
