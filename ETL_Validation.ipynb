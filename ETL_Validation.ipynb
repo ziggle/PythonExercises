{
 "cells": [
  {
   "cell_type": "markdown",
   "metadata": {},
   "source": [
    "https://pawankg.medium.com/testing-data-pipelines-python-examples-for-etl-validation-and-verification-431f482a8d47"
   ]
  },
  {
   "cell_type": "code",
   "execution_count": 2,
   "metadata": {},
   "outputs": [],
   "source": [
    "import pandas as pd\n",
    "import numpy as np\n",
    "# df = pd.read_csv('data.csv')\n",
    "# df = pd.DataFrame({\"column_name\":[1,2,np.nan,4,5]})\n",
    "df = pd.DataFrame({\"column_name\":[1,2,3,4,5]})\n",
    "assert df['column_name'].isnull().sum() == 0, \"Missing values found\""
   ]
  },
  {
   "cell_type": "code",
   "execution_count": 5,
   "metadata": {},
   "outputs": [],
   "source": [
    "# Compare extracted data with expected results\n",
    "#extracted_data = extract_data_from_source()\n",
    "extracted_data=[1, 2, 3, 4, 5]\n",
    "expected_data = [1, 2, 3, 4, 5]\n",
    "assert extracted_data == expected_data, \"Extracted data does not match expected results\""
   ]
  },
  {
   "cell_type": "code",
   "execution_count": 8,
   "metadata": {},
   "outputs": [],
   "source": [
    "# Test a transformation function\n",
    "def transform_data(input_data):\n",
    "    # Transformation logic\n",
    "    transformed_data = [x ** 2 for x in input_data]\n",
    "    return transformed_data\n",
    "\n",
    "input_data = [1, 2, 3, 4, 5]\n",
    "expected_output = [1, 4, 9, 16, 25]\n",
    "assert transform_data(input_data) == expected_output, \"Transformation output is incorrect\""
   ]
  },
  {
   "cell_type": "code",
   "execution_count": 13,
   "metadata": {},
   "outputs": [],
   "source": [
    "# Check the number of records loaded into the destination\n",
    "#loaded_records = load_data_to_destination()\n",
    "loaded_records = range(100)\n",
    "expected_records = 100\n",
    "assert len(loaded_records) == expected_records, \"Incorrect number of records loaded\""
   ]
  },
  {
   "cell_type": "code",
   "execution_count": 19,
   "metadata": {},
   "outputs": [
    {
     "name": "stdout",
     "output_type": "stream",
     "text": [
      "200\n"
     ]
    }
   ],
   "source": [
    "# Test error handling for network failure\n",
    "import requests\n",
    "\n",
    "try:\n",
    "    response = requests.get('https://example.com')\n",
    "    print(response.status_code)\n",
    "    assert response.status_code == 200, \"Network request failed\"\n",
    "except requests.exceptions.RequestException as e:\n",
    "    assert False, f\"Network request failed: {str(e)}\""
   ]
  },
  {
   "cell_type": "code",
   "execution_count": 24,
   "metadata": {},
   "outputs": [
    {
     "ename": "AssertionError",
     "evalue": "Data pipeline took longer than expected",
     "output_type": "error",
     "traceback": [
      "\u001b[1;31m---------------------------------------------------------------------------\u001b[0m",
      "\u001b[1;31mAssertionError\u001b[0m                            Traceback (most recent call last)",
      "\u001b[1;32m<ipython-input-24-badd3d22be84>\u001b[0m in \u001b[0;36m<module>\u001b[1;34m\u001b[0m\n\u001b[0;32m      8\u001b[0m \u001b[1;33m\u001b[0m\u001b[0m\n\u001b[0;32m      9\u001b[0m \u001b[0mexecution_time\u001b[0m \u001b[1;33m=\u001b[0m \u001b[0mend_time\u001b[0m \u001b[1;33m-\u001b[0m \u001b[0mstart_time\u001b[0m\u001b[1;33m\u001b[0m\u001b[1;33m\u001b[0m\u001b[0m\n\u001b[1;32m---> 10\u001b[1;33m \u001b[1;32massert\u001b[0m \u001b[0mexecution_time\u001b[0m \u001b[1;33m<\u001b[0m \u001b[1;36m2\u001b[0m\u001b[1;33m,\u001b[0m \u001b[1;34m\"Data pipeline took longer than expected\"\u001b[0m\u001b[1;33m\u001b[0m\u001b[1;33m\u001b[0m\u001b[0m\n\u001b[0m",
      "\u001b[1;31mAssertionError\u001b[0m: Data pipeline took longer than expected"
     ]
    }
   ],
   "source": [
    "# Measure the time taken to execute a data pipeline function\n",
    "import time\n",
    "\n",
    "start_time = time.time()\n",
    "# execute_data_pipeline()\n",
    "time.sleep(3)\n",
    "end_time = time.time()\n",
    "\n",
    "execution_time = end_time - start_time\n",
    "assert execution_time < 2, \"Data pipeline took longer than expected\""
   ]
  },
  {
   "cell_type": "code",
   "execution_count": null,
   "metadata": {},
   "outputs": [],
   "source": [
    "# Re-run test cases from previous releases\n",
    "previous_results = run_previous_test_cases()\n",
    "current_results = run_current_test_cases()\n",
    "assert previous_results == current_results, \"Regression test failed\""
   ]
  },
  {
   "cell_type": "code",
   "execution_count": 25,
   "metadata": {},
   "outputs": [],
   "source": [
    "# Automate data validation using a testing framework like pytest\n",
    "import pytest\n",
    "\n",
    "@pytest.mark.parametrize(\"input_data, expected_output\", [\n",
    "    ([1, 2, 3], [2, 4, 6]),\n",
    "    ([4, 5, 6], [8, 10, 12])\n",
    "])\n",
    "def test_transformation(input_data, expected_output):\n",
    "    assert transform_data(input_data) == expected_output, \"Transformation output is incorrect\""
   ]
  },
  {
   "cell_type": "code",
   "execution_count": 26,
   "metadata": {},
   "outputs": [
    {
     "ename": "NameError",
     "evalue": "name 'encrypt_data' is not defined",
     "output_type": "error",
     "traceback": [
      "\u001b[1;31m---------------------------------------------------------------------------\u001b[0m",
      "\u001b[1;31mNameError\u001b[0m                                 Traceback (most recent call last)",
      "\u001b[1;32m<ipython-input-26-02ff3dd5ab7b>\u001b[0m in \u001b[0;36m<module>\u001b[1;34m\u001b[0m\n\u001b[0;32m      3\u001b[0m \u001b[1;33m\u001b[0m\u001b[0m\n\u001b[0;32m      4\u001b[0m \u001b[0mdata\u001b[0m \u001b[1;33m=\u001b[0m \u001b[1;34m\"sensitive information\"\u001b[0m\u001b[1;33m\u001b[0m\u001b[1;33m\u001b[0m\u001b[0m\n\u001b[1;32m----> 5\u001b[1;33m \u001b[0mencrypted_data\u001b[0m \u001b[1;33m=\u001b[0m \u001b[0mencrypt_data\u001b[0m\u001b[1;33m(\u001b[0m\u001b[0mdata\u001b[0m\u001b[1;33m)\u001b[0m\u001b[1;33m\u001b[0m\u001b[1;33m\u001b[0m\u001b[0m\n\u001b[0m\u001b[0;32m      6\u001b[0m \u001b[0mdecrypted_data\u001b[0m \u001b[1;33m=\u001b[0m \u001b[0mdecrypt_data\u001b[0m\u001b[1;33m(\u001b[0m\u001b[0mencrypted_data\u001b[0m\u001b[1;33m)\u001b[0m\u001b[1;33m\u001b[0m\u001b[1;33m\u001b[0m\u001b[0m\n\u001b[0;32m      7\u001b[0m \u001b[1;33m\u001b[0m\u001b[0m\n",
      "\u001b[1;31mNameError\u001b[0m: name 'encrypt_data' is not defined"
     ]
    }
   ],
   "source": [
    "# Test data encryption and decryption\n",
    "import cryptography\n",
    "\n",
    "data = \"sensitive information\"\n",
    "encrypted_data = encrypt_data(data)\n",
    "decrypted_data = decrypt_data(encrypted_data)\n",
    "\n",
    "assert data == decrypted_data, \"Data encryption and decryption failed\""
   ]
  },
  {
   "cell_type": "code",
   "execution_count": null,
   "metadata": {},
   "outputs": [],
   "source": [
    "# Generate a test report using a testing framework like pytest\n",
    "import pytest\n",
    "\n",
    "def test_data_quality():\n",
    "    # Perform data quality checks\n",
    "    # ...\n",
    "\n",
    "def test_transformation():\n",
    "    # Test transformation logic\n",
    "    # ...\n",
    "\n",
    "def test_load():\n",
    "    # Test data loading\n",
    "    # ...\n",
    "\n",
    "if __name__ == \"__main__\":\n",
    "    pytest.main([\"--html=report.html\", \"-v\"])"
   ]
  }
 ],
 "metadata": {
  "kernelspec": {
   "display_name": "Python 3",
   "language": "python",
   "name": "python3"
  },
  "language_info": {
   "codemirror_mode": {
    "name": "ipython",
    "version": 3
   },
   "file_extension": ".py",
   "mimetype": "text/x-python",
   "name": "python",
   "nbconvert_exporter": "python",
   "pygments_lexer": "ipython3",
   "version": "3.8.5"
  }
 },
 "nbformat": 4,
 "nbformat_minor": 4
}
