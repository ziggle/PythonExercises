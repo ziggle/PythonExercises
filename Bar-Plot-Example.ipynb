{
 "cells": [
  {
   "cell_type": "markdown",
   "id": "62c18a18",
   "metadata": {},
   "source": [
    "I was asked a question as to how should testers know if there results are reasonable – this is important because they want to know when data should be flagged as out of the norm.\n",
    "\n",
    "The approach I used here is to say that anything outside of 3σ of the mean should be looked at more closer. 3σ implies 99.7% of the data should be within that range."
   ]
  },
  {
   "cell_type": "code",
   "execution_count": 174,
   "id": "65cf68a7",
   "metadata": {},
   "outputs": [
    {
     "data": {
      "text/html": [
       "<div>\n",
       "<style scoped>\n",
       "    .dataframe tbody tr th:only-of-type {\n",
       "        vertical-align: middle;\n",
       "    }\n",
       "\n",
       "    .dataframe tbody tr th {\n",
       "        vertical-align: top;\n",
       "    }\n",
       "\n",
       "    .dataframe thead th {\n",
       "        text-align: right;\n",
       "    }\n",
       "</style>\n",
       "<table border=\"1\" class=\"dataframe\">\n",
       "  <thead>\n",
       "    <tr style=\"text-align: right;\">\n",
       "      <th></th>\n",
       "      <th>Unit</th>\n",
       "      <th>Ad_Cur</th>\n",
       "      <th>Sync_Cur</th>\n",
       "      <th>Str_Cur</th>\n",
       "      <th>Call_Cur</th>\n",
       "      <th>Nom_Cur</th>\n",
       "    </tr>\n",
       "  </thead>\n",
       "  <tbody>\n",
       "    <tr>\n",
       "      <th>0</th>\n",
       "      <td>1</td>\n",
       "      <td>1670</td>\n",
       "      <td>1260</td>\n",
       "      <td>2310</td>\n",
       "      <td>2910</td>\n",
       "      <td>1270</td>\n",
       "    </tr>\n",
       "    <tr>\n",
       "      <th>1</th>\n",
       "      <td>2</td>\n",
       "      <td>1790</td>\n",
       "      <td>1340</td>\n",
       "      <td>2310</td>\n",
       "      <td>2170</td>\n",
       "      <td>1490</td>\n",
       "    </tr>\n",
       "    <tr>\n",
       "      <th>2</th>\n",
       "      <td>3</td>\n",
       "      <td>1720</td>\n",
       "      <td>1390</td>\n",
       "      <td>2280</td>\n",
       "      <td>2920</td>\n",
       "      <td>1340</td>\n",
       "    </tr>\n",
       "    <tr>\n",
       "      <th>3</th>\n",
       "      <td>4</td>\n",
       "      <td>1810</td>\n",
       "      <td>1430</td>\n",
       "      <td>2250</td>\n",
       "      <td>2230</td>\n",
       "      <td>1540</td>\n",
       "    </tr>\n",
       "    <tr>\n",
       "      <th>4</th>\n",
       "      <td>5</td>\n",
       "      <td>1770</td>\n",
       "      <td>1380</td>\n",
       "      <td>2270</td>\n",
       "      <td>2240</td>\n",
       "      <td>1380</td>\n",
       "    </tr>\n",
       "    <tr>\n",
       "      <th>5</th>\n",
       "      <td>6</td>\n",
       "      <td>1810</td>\n",
       "      <td>1420</td>\n",
       "      <td>2240</td>\n",
       "      <td>2180</td>\n",
       "      <td>1520</td>\n",
       "    </tr>\n",
       "    <tr>\n",
       "      <th>6</th>\n",
       "      <td>7</td>\n",
       "      <td>1660</td>\n",
       "      <td>1900</td>\n",
       "      <td>2450</td>\n",
       "      <td>2400</td>\n",
       "      <td>1315</td>\n",
       "    </tr>\n",
       "  </tbody>\n",
       "</table>\n",
       "</div>"
      ],
      "text/plain": [
       "   Unit  Ad_Cur  Sync_Cur  Str_Cur  Call_Cur  Nom_Cur\n",
       "0     1    1670      1260     2310      2910     1270\n",
       "1     2    1790      1340     2310      2170     1490\n",
       "2     3    1720      1390     2280      2920     1340\n",
       "3     4    1810      1430     2250      2230     1540\n",
       "4     5    1770      1380     2270      2240     1380\n",
       "5     6    1810      1420     2240      2180     1520\n",
       "6     7    1660      1900     2450      2400     1315"
      ]
     },
     "metadata": {},
     "output_type": "display_data"
    }
   ],
   "source": [
    "import pandas as pd\n",
    "import matplotlib.pyplot as plt\n",
    "df= pd.DataFrame([\n",
    "[1,1670,1260,2310,2910,1270],\n",
    "[2,1790,1340,2310,2170,1490],\n",
    "[3,1720,1390,2280,2920,1340],\n",
    "[4,1810,1430,2250,2230,1540],\n",
    "[5,1770,1380,2270,2240,1380],\n",
    "[6,1810,1420,2240,2180,1520],\n",
    "[7,1660,1900,2450,2400,1315],\n",
    "],\n",
    "columns=['Unit','Ad_Cur','Sync_Cur','Str_Cur','Call_Cur','Nom_Cur',\n",
    "])\n",
    "\n",
    "display(df)\n",
    "dft=df.melt(id_vars=\"Unit\").set_index('Unit')"
   ]
  },
  {
   "cell_type": "code",
   "execution_count": 175,
   "id": "828bdf13",
   "metadata": {},
   "outputs": [
    {
     "data": {
      "image/png": "[encoded data removed]",
      "text/plain": [
       "<Figure size 720x360 with 1 Axes>"
      ]
     },
     "metadata": {
      "needs_background": "light"
     },
     "output_type": "display_data"
    }
   ],
   "source": [
    "fig = plt.figure(figsize = (10, 5))\n",
    " \n",
    "# creating the bar plot\n",
    "plt.bar(dft['variable'], dft['value'], color ='maroon', \n",
    "        width = 0.4)\n",
    " \n",
    "plt.xlabel(\"Courses offered\")\n",
    "plt.ylabel(\"No. of students enrolled\")\n",
    "plt.title(\"Students enrolled in different courses\")\n",
    "plt.show()"
   ]
  },
  {
   "cell_type": "code",
   "execution_count": 176,
   "id": "7a0575f1",
   "metadata": {},
   "outputs": [
    {
     "data": {
      "text/html": [
       "<div>\n",
       "<style scoped>\n",
       "    .dataframe tbody tr th:only-of-type {\n",
       "        vertical-align: middle;\n",
       "    }\n",
       "\n",
       "    .dataframe tbody tr th {\n",
       "        vertical-align: top;\n",
       "    }\n",
       "\n",
       "    .dataframe thead th {\n",
       "        text-align: right;\n",
       "    }\n",
       "</style>\n",
       "<table border=\"1\" class=\"dataframe\">\n",
       "  <thead>\n",
       "    <tr style=\"text-align: right;\">\n",
       "      <th></th>\n",
       "      <th>Ad_Cur</th>\n",
       "      <th>Sync_Cur</th>\n",
       "      <th>Str_Cur</th>\n",
       "      <th>Call_Cur</th>\n",
       "      <th>Nom_Cur</th>\n",
       "    </tr>\n",
       "  </thead>\n",
       "  <tbody>\n",
       "    <tr>\n",
       "      <th>6</th>\n",
       "      <td>1660</td>\n",
       "      <td>1900</td>\n",
       "      <td>2450</td>\n",
       "      <td>2400</td>\n",
       "      <td>1315</td>\n",
       "    </tr>\n",
       "  </tbody>\n",
       "</table>\n",
       "</div>"
      ],
      "text/plain": [
       "   Ad_Cur  Sync_Cur  Str_Cur  Call_Cur  Nom_Cur\n",
       "6    1660      1900     2450      2400     1315"
      ]
     },
     "metadata": {},
     "output_type": "display_data"
    },
    {
     "data": {
      "text/html": [
       "<div>\n",
       "<style scoped>\n",
       "    .dataframe tbody tr th:only-of-type {\n",
       "        vertical-align: middle;\n",
       "    }\n",
       "\n",
       "    .dataframe tbody tr th {\n",
       "        vertical-align: top;\n",
       "    }\n",
       "\n",
       "    .dataframe thead th {\n",
       "        text-align: right;\n",
       "    }\n",
       "</style>\n",
       "<table border=\"1\" class=\"dataframe\">\n",
       "  <thead>\n",
       "    <tr style=\"text-align: right;\">\n",
       "      <th></th>\n",
       "      <th>Ad_Cur</th>\n",
       "      <th>Sync_Cur</th>\n",
       "      <th>Str_Cur</th>\n",
       "      <th>Call_Cur</th>\n",
       "      <th>Nom_Cur</th>\n",
       "    </tr>\n",
       "  </thead>\n",
       "  <tbody>\n",
       "    <tr>\n",
       "      <th>0</th>\n",
       "      <td>1670</td>\n",
       "      <td>1260</td>\n",
       "      <td>2310</td>\n",
       "      <td>2910</td>\n",
       "      <td>1270</td>\n",
       "    </tr>\n",
       "    <tr>\n",
       "      <th>1</th>\n",
       "      <td>1790</td>\n",
       "      <td>1340</td>\n",
       "      <td>2310</td>\n",
       "      <td>2170</td>\n",
       "      <td>1490</td>\n",
       "    </tr>\n",
       "    <tr>\n",
       "      <th>2</th>\n",
       "      <td>1720</td>\n",
       "      <td>1390</td>\n",
       "      <td>2280</td>\n",
       "      <td>2920</td>\n",
       "      <td>1340</td>\n",
       "    </tr>\n",
       "    <tr>\n",
       "      <th>3</th>\n",
       "      <td>1810</td>\n",
       "      <td>1430</td>\n",
       "      <td>2250</td>\n",
       "      <td>2230</td>\n",
       "      <td>1540</td>\n",
       "    </tr>\n",
       "    <tr>\n",
       "      <th>4</th>\n",
       "      <td>1770</td>\n",
       "      <td>1380</td>\n",
       "      <td>2270</td>\n",
       "      <td>2240</td>\n",
       "      <td>1380</td>\n",
       "    </tr>\n",
       "    <tr>\n",
       "      <th>5</th>\n",
       "      <td>1810</td>\n",
       "      <td>1420</td>\n",
       "      <td>2240</td>\n",
       "      <td>2180</td>\n",
       "      <td>1520</td>\n",
       "    </tr>\n",
       "  </tbody>\n",
       "</table>\n",
       "</div>"
      ],
      "text/plain": [
       "   Ad_Cur  Sync_Cur  Str_Cur  Call_Cur  Nom_Cur\n",
       "0    1670      1260     2310      2910     1270\n",
       "1    1790      1340     2310      2170     1490\n",
       "2    1720      1390     2280      2920     1340\n",
       "3    1810      1430     2250      2230     1540\n",
       "4    1770      1380     2270      2240     1380\n",
       "5    1810      1420     2240      2180     1520"
      ]
     },
     "metadata": {},
     "output_type": "display_data"
    },
    {
     "name": "stdout",
     "output_type": "stream",
     "text": [
      "Ad_Cur      1761.666667\n",
      "Sync_Cur    1370.000000\n",
      "Str_Cur     2276.666667\n",
      "Call_Cur    2441.666667\n",
      "Nom_Cur     1423.333333\n",
      "dtype: float64 Ad_Cur       168.017856\n",
      "Sync_Cur     187.829710\n",
      "Str_Cur       88.317609\n",
      "Call_Cur    1102.991387\n",
      "Nom_Cur      327.902425\n",
      "dtype: float64\n"
     ]
    }
   ],
   "source": [
    "df=df.drop('Unit',axis=1)\n",
    "\n",
    "dfa = df[df.index==6]\n",
    "df= df.drop(6,axis=0) \n",
    "display(dfa)\n",
    "display(df)\n",
    "data_mean = df.mean(axis=0)\n",
    "data_std = 3*df.std(axis=0)\n",
    "print(data_mean,data_std)"
   ]
  },
  {
   "cell_type": "code",
   "execution_count": 177,
   "id": "d6b86e18",
   "metadata": {},
   "outputs": [
    {
     "data": {
      "image/png": "[encoded data removed]",
      "text/plain": [
       "<Figure size 432x288 with 1 Axes>"
      ]
     },
     "metadata": {
      "needs_background": "light"
     },
     "output_type": "display_data"
    }
   ],
   "source": [
    "columns=['Advert\\nCurrent','Sync\\nCurrent','Stream\\nCurrent','Call\\nCurrent','Nominal\\nCurrent']\n",
    "x_pos=np.arange(len(columns))\n",
    "fig, ax = plt.subplots()\n",
    "#ax.bar(x_pos, data_mean, yerr=data_std, align='center', alpha=0.5, ecolor='black', capsize=10,color='red')\n",
    "ax.bar(x_pos, df.mean(axis=0), width=0.8,yerr=data_std, capsize=10,alpha=0.5,\n",
    "        color='y', label='RIC Currents with Error Bars')\n",
    "ax.bar(x_pos, dfa.mean(axis=0), \n",
    "        width=0.4, color='g', alpha=0.5, label='Anogh Currents')\n",
    "ax.set_ylabel('Current ')\n",
    "ax.set_xticks(x_pos)\n",
    "ax.set_xticklabels(columns)\n",
    "ax.set_title('Comparison of Anogh Data with RIC Current Means')\n",
    "ax.yaxis.grid(True)\n",
    "\n",
    "# Save the figure and show\n",
    "plt.tight_layout()\n",
    "#plt.savefig('bar_plot_with_error_bars.png')\n",
    "plt.legend(loc=\"upper left\")\n",
    "plt.show()"
   ]
  },
  {
   "cell_type": "markdown",
   "id": "55923fea",
   "metadata": {},
   "source": [
    "The measurements by Anogh appear reasonable. The stream current is a bit out of the norm, but I would argue the iPhone stream currents are unusually consistent — I would argue what Anogh is seeing is more normal."
   ]
  },
  {
   "cell_type": "markdown",
   "id": "012d23f4",
   "metadata": {},
   "source": [
    "The following sections shows how to grab a row and turn it into a series."
   ]
  },
  {
   "cell_type": "code",
   "execution_count": 178,
   "id": "064a5482",
   "metadata": {},
   "outputs": [
    {
     "data": {
      "text/plain": [
       "Ad_Cur      1660.0\n",
       "Sync_Cur    1900.0\n",
       "Str_Cur     2450.0\n",
       "Call_Cur    2400.0\n",
       "Nom_Cur     1315.0\n",
       "dtype: float64"
      ]
     },
     "execution_count": 178,
     "metadata": {},
     "output_type": "execute_result"
    }
   ],
   "source": [
    "dfa.mean(axis=0)"
   ]
  },
  {
   "cell_type": "code",
   "execution_count": 179,
   "id": "df7d6c6a",
   "metadata": {},
   "outputs": [
    {
     "data": {
      "text/plain": [
       "pandas.core.frame.DataFrame"
      ]
     },
     "execution_count": 179,
     "metadata": {},
     "output_type": "execute_result"
    }
   ],
   "source": [
    "type(dfa)\n",
    "\n"
   ]
  },
  {
   "cell_type": "code",
   "execution_count": 180,
   "id": "a858a0c3",
   "metadata": {},
   "outputs": [
    {
     "data": {
      "text/plain": [
       "Ad_Cur      1660\n",
       "Sync_Cur    1900\n",
       "Str_Cur     2450\n",
       "Call_Cur    2400\n",
       "Nom_Cur     1315\n",
       "Name: 6, dtype: int64"
      ]
     },
     "execution_count": 180,
     "metadata": {},
     "output_type": "execute_result"
    }
   ],
   "source": [
    "dfa.iloc[0,:].squeeze()"
   ]
  },
  {
   "cell_type": "code",
   "execution_count": 181,
   "id": "6930603d",
   "metadata": {},
   "outputs": [
    {
     "data": {
      "text/plain": [
       "Ad_Cur      1660\n",
       "Sync_Cur    1900\n",
       "Str_Cur     2450\n",
       "Call_Cur    2400\n",
       "Nom_Cur     1315\n",
       "Name: 6, dtype: int64"
      ]
     },
     "execution_count": 181,
     "metadata": {},
     "output_type": "execute_result"
    }
   ],
   "source": [
    "dfa.loc[6].squeeze()"
   ]
  },
  {
   "cell_type": "code",
   "execution_count": 182,
   "id": "25b7e4b3",
   "metadata": {},
   "outputs": [
    {
     "data": {
      "text/html": [
       "<div>\n",
       "<style scoped>\n",
       "    .dataframe tbody tr th:only-of-type {\n",
       "        vertical-align: middle;\n",
       "    }\n",
       "\n",
       "    .dataframe tbody tr th {\n",
       "        vertical-align: top;\n",
       "    }\n",
       "\n",
       "    .dataframe thead th {\n",
       "        text-align: right;\n",
       "    }\n",
       "</style>\n",
       "<table border=\"1\" class=\"dataframe\">\n",
       "  <thead>\n",
       "    <tr style=\"text-align: right;\">\n",
       "      <th></th>\n",
       "      <th>Ad_Cur</th>\n",
       "      <th>Sync_Cur</th>\n",
       "      <th>Str_Cur</th>\n",
       "      <th>Call_Cur</th>\n",
       "      <th>Nom_Cur</th>\n",
       "    </tr>\n",
       "  </thead>\n",
       "  <tbody>\n",
       "    <tr>\n",
       "      <th>6</th>\n",
       "      <td>1660</td>\n",
       "      <td>1900</td>\n",
       "      <td>2450</td>\n",
       "      <td>2400</td>\n",
       "      <td>1315</td>\n",
       "    </tr>\n",
       "  </tbody>\n",
       "</table>\n",
       "</div>"
      ],
      "text/plain": [
       "   Ad_Cur  Sync_Cur  Str_Cur  Call_Cur  Nom_Cur\n",
       "6    1660      1900     2450      2400     1315"
      ]
     },
     "execution_count": 182,
     "metadata": {},
     "output_type": "execute_result"
    }
   ],
   "source": [
    "dfa.iloc[0:1]\n"
   ]
  },
  {
   "cell_type": "code",
   "execution_count": 183,
   "id": "41061108",
   "metadata": {},
   "outputs": [
    {
     "data": {
      "text/html": [
       "<div>\n",
       "<style scoped>\n",
       "    .dataframe tbody tr th:only-of-type {\n",
       "        vertical-align: middle;\n",
       "    }\n",
       "\n",
       "    .dataframe tbody tr th {\n",
       "        vertical-align: top;\n",
       "    }\n",
       "\n",
       "    .dataframe thead th {\n",
       "        text-align: right;\n",
       "    }\n",
       "</style>\n",
       "<table border=\"1\" class=\"dataframe\">\n",
       "  <thead>\n",
       "    <tr style=\"text-align: right;\">\n",
       "      <th></th>\n",
       "      <th>Ad_Cur</th>\n",
       "      <th>Sync_Cur</th>\n",
       "      <th>Str_Cur</th>\n",
       "      <th>Call_Cur</th>\n",
       "      <th>Nom_Cur</th>\n",
       "    </tr>\n",
       "  </thead>\n",
       "  <tbody>\n",
       "    <tr>\n",
       "      <th>6</th>\n",
       "      <td>1660</td>\n",
       "      <td>1900</td>\n",
       "      <td>2450</td>\n",
       "      <td>2400</td>\n",
       "      <td>1315</td>\n",
       "    </tr>\n",
       "  </tbody>\n",
       "</table>\n",
       "</div>"
      ],
      "text/plain": [
       "   Ad_Cur  Sync_Cur  Str_Cur  Call_Cur  Nom_Cur\n",
       "6    1660      1900     2450      2400     1315"
      ]
     },
     "execution_count": 183,
     "metadata": {},
     "output_type": "execute_result"
    }
   ],
   "source": [
    "dfa[0:1]"
   ]
  },
  {
   "cell_type": "code",
   "execution_count": 184,
   "id": "a8f25290",
   "metadata": {},
   "outputs": [
    {
     "data": {
      "text/plain": [
       "Ad_Cur      1660\n",
       "Sync_Cur    1900\n",
       "Str_Cur     2450\n",
       "Call_Cur    2400\n",
       "Nom_Cur     1315\n",
       "Name: 6, dtype: int64"
      ]
     },
     "execution_count": 184,
     "metadata": {},
     "output_type": "execute_result"
    }
   ],
   "source": [
    "dfa[0:1].squeeze()"
   ]
  },
  {
   "cell_type": "code",
   "execution_count": 185,
   "id": "d8f2ca8b",
   "metadata": {},
   "outputs": [
    {
     "data": {
      "image/png": "[encoded data removed]",
      "text/plain": [
       "<Figure size 432x288 with 1 Axes>"
      ]
     },
     "metadata": {
      "needs_background": "light"
     },
     "output_type": "display_data"
    }
   ],
   "source": [
    "columns=['Advert\\nCurrent','Sync\\nCurrent','Stream\\nCurrent','Call\\nCurrent','Nominal\\nCurrent']\n",
    "x_pos=np.arange(len(columns))\n",
    "fig, ax = plt.subplots()\n",
    "#ax.bar(x_pos, data_mean, yerr=data_std, align='center', alpha=0.5, ecolor='black', capsize=10,color='red')\n",
    "ax.bar(x_pos, df.mean(axis=0), width=0.8,yerr=data_std, capsize=10,alpha=0.5,\n",
    "        color='y', label='RIC Currents with Error Bars')\n",
    "ax.bar(x_pos, dfa.loc[6].squeeze(), \n",
    "        width=0.4, color='g', alpha=0.5, label='Anogh Currents')\n",
    "ax.set_ylabel('Current ')\n",
    "ax.set_xticks(x_pos)\n",
    "ax.set_xticklabels(columns)\n",
    "ax.set_title('Comparison of Anogh Data with RIC Current Means')\n",
    "ax.yaxis.grid(True)\n",
    "\n",
    "# Save the figure and show\n",
    "plt.tight_layout()\n",
    "#plt.savefig('bar_plot_with_error_bars.png')\n",
    "plt.legend(loc=\"upper left\")\n",
    "plt.show()"
   ]
  },
  {
   "cell_type": "code",
   "execution_count": null,
   "id": "0f5fa4f8",
   "metadata": {},
   "outputs": [],
   "source": []
  }
 ],
 "metadata": {
  "kernelspec": {
   "display_name": "Python 3 (ipykernel)",
   "language": "python",
   "name": "python3"
  },
  "language_info": {
   "codemirror_mode": {
    "name": "ipython",
    "version": 3
   },
   "file_extension": ".py",
   "mimetype": "text/x-python",
   "name": "python",
   "nbconvert_exporter": "python",
   "pygments_lexer": "ipython3",
   "version": "3.9.7"
  }
 },
 "nbformat": 4,
 "nbformat_minor": 5
}
