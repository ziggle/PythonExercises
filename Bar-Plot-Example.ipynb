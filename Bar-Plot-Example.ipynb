{
 "cells": [
  {
   "cell_type": "code",
   "execution_count": 20,
   "id": "0e254a5e",
   "metadata": {},
   "outputs": [
    {
     "data": {
      "text/html": [
       "<div>\n",
       "<style scoped>\n",
       "    .dataframe tbody tr th:only-of-type {\n",
       "        vertical-align: middle;\n",
       "    }\n",
       "\n",
       "    .dataframe tbody tr th {\n",
       "        vertical-align: top;\n",
       "    }\n",
       "\n",
       "    .dataframe thead th {\n",
       "        text-align: right;\n",
       "    }\n",
       "</style>\n",
       "<table border=\"1\" class=\"dataframe\">\n",
       "  <thead>\n",
       "    <tr style=\"text-align: right;\">\n",
       "      <th></th>\n",
       "      <th>Unit</th>\n",
       "      <th>Ad_Cur</th>\n",
       "      <th>Sync_Cur</th>\n",
       "      <th>Str_Cur</th>\n",
       "      <th>Call_Cur</th>\n",
       "      <th>Nom_Cur</th>\n",
       "    </tr>\n",
       "  </thead>\n",
       "  <tbody>\n",
       "    <tr>\n",
       "      <th>0</th>\n",
       "      <td>1</td>\n",
       "      <td>1670</td>\n",
       "      <td>1260</td>\n",
       "      <td>2310</td>\n",
       "      <td>2910</td>\n",
       "      <td>1270</td>\n",
       "    </tr>\n",
       "    <tr>\n",
       "      <th>1</th>\n",
       "      <td>2</td>\n",
       "      <td>1790</td>\n",
       "      <td>1340</td>\n",
       "      <td>2310</td>\n",
       "      <td>2170</td>\n",
       "      <td>1490</td>\n",
       "    </tr>\n",
       "    <tr>\n",
       "      <th>2</th>\n",
       "      <td>3</td>\n",
       "      <td>1720</td>\n",
       "      <td>1390</td>\n",
       "      <td>2280</td>\n",
       "      <td>2920</td>\n",
       "      <td>1340</td>\n",
       "    </tr>\n",
       "    <tr>\n",
       "      <th>3</th>\n",
       "      <td>4</td>\n",
       "      <td>1810</td>\n",
       "      <td>1430</td>\n",
       "      <td>2250</td>\n",
       "      <td>2230</td>\n",
       "      <td>1540</td>\n",
       "    </tr>\n",
       "    <tr>\n",
       "      <th>4</th>\n",
       "      <td>5</td>\n",
       "      <td>1770</td>\n",
       "      <td>1380</td>\n",
       "      <td>2270</td>\n",
       "      <td>2240</td>\n",
       "      <td>1380</td>\n",
       "    </tr>\n",
       "    <tr>\n",
       "      <th>5</th>\n",
       "      <td>6</td>\n",
       "      <td>1810</td>\n",
       "      <td>1420</td>\n",
       "      <td>2240</td>\n",
       "      <td>2180</td>\n",
       "      <td>1520</td>\n",
       "    </tr>\n",
       "    <tr>\n",
       "      <th>6</th>\n",
       "      <td>7</td>\n",
       "      <td>1660</td>\n",
       "      <td>1900</td>\n",
       "      <td>2450</td>\n",
       "      <td>2400</td>\n",
       "      <td>1315</td>\n",
       "    </tr>\n",
       "  </tbody>\n",
       "</table>\n",
       "</div>"
      ],
      "text/plain": [
       "   Unit  Ad_Cur  Sync_Cur  Str_Cur  Call_Cur  Nom_Cur\n",
       "0     1    1670      1260     2310      2910     1270\n",
       "1     2    1790      1340     2310      2170     1490\n",
       "2     3    1720      1390     2280      2920     1340\n",
       "3     4    1810      1430     2250      2230     1540\n",
       "4     5    1770      1380     2270      2240     1380\n",
       "5     6    1810      1420     2240      2180     1520\n",
       "6     7    1660      1900     2450      2400     1315"
      ]
     },
     "metadata": {},
     "output_type": "display_data"
    }
   ],
   "source": [
    "import pandas as pd\n",
    "import matplotlib.pyplot as plt\n",
    "df= pd.DataFrame([\n",
    "[1,1670,1260,2310,2910,1270],\n",
    "[2,1790,1340,2310,2170,1490],\n",
    "[3,1720,1390,2280,2920,1340],\n",
    "[4,1810,1430,2250,2230,1540],\n",
    "[5,1770,1380,2270,2240,1380],\n",
    "[6,1810,1420,2240,2180,1520],\n",
    "[7,1660,1900,2450,2400,1315],\n",
    "],\n",
    "columns=['Unit','Ad_Cur','Sync_Cur','Str_Cur','Call_Cur','Nom_Cur',\n",
    "])\n",
    "\n",
    "display(df)\n",
    "dft=df.melt(id_vars=\"Unit\").set_index('Unit')"
   ]
  },
  {
   "cell_type": "code",
   "execution_count": 21,
   "id": "71bfb337",
   "metadata": {},
   "outputs": [
    {
     "data": {
      "image/png": "[encoded data removed]",
      "text/plain": [
       "<Figure size 720x360 with 1 Axes>"
      ]
     },
     "metadata": {
      "needs_background": "light"
     },
     "output_type": "display_data"
    }
   ],
   "source": [
    "fig = plt.figure(figsize = (10, 5))\n",
    " \n",
    "# creating the bar plot\n",
    "plt.bar(dft['variable'], dft['value'], color ='maroon', \n",
    "        width = 0.4)\n",
    " \n",
    "plt.xlabel(\"Courses offered\")\n",
    "plt.ylabel(\"No. of students enrolled\")\n",
    "plt.title(\"Students enrolled in different courses\")\n",
    "plt.show()"
   ]
  },
  {
   "cell_type": "code",
   "execution_count": 23,
   "id": "25be909a",
   "metadata": {},
   "outputs": [
    {
     "name": "stdout",
     "output_type": "stream",
     "text": [
      "Unit           4.000000\n",
      "Ad_Cur      1747.142857\n",
      "Sync_Cur    1445.714286\n",
      "Str_Cur     2301.428571\n",
      "Call_Cur    2435.714286\n",
      "Nom_Cur     1407.857143\n",
      "dtype: float64 Unit          2.160247\n",
      "Ad_Cur       63.956831\n",
      "Sync_Cur    208.315237\n",
      "Str_Cur      70.811621\n",
      "Call_Cur    335.998866\n",
      "Nom_Cur     107.852412\n",
      "dtype: float64\n"
     ]
    }
   ],
   "source": [
    "data_mean = df.mean(axis=0)\n",
    "data_std = df.std(axis=0)\n",
    "print(data_mean,data_std)"
   ]
  },
  {
   "cell_type": "code",
   "execution_count": null,
   "id": "c1d26eee",
   "metadata": {},
   "outputs": [],
   "source": []
  }
 ],
 "metadata": {
  "kernelspec": {
   "display_name": "Python 3 (ipykernel)",
   "language": "python",
   "name": "python3"
  },
  "language_info": {
   "codemirror_mode": {
    "name": "ipython",
    "version": 3
   },
   "file_extension": ".py",
   "mimetype": "text/x-python",
   "name": "python",
   "nbconvert_exporter": "python",
   "pygments_lexer": "ipython3",
   "version": "3.9.7"
  }
 },
 "nbformat": 4,
 "nbformat_minor": 5
}
