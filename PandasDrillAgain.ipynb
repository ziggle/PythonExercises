{
 "cells": [
  {
   "cell_type": "markdown",
   "id": "f210a397",
   "metadata": {},
   "source": [
    "https://towardsdatascience.com/pandas-python-tricks-for-data-science-data-analysis-part-3-462d0e952925"
   ]
  },
  {
   "cell_type": "markdown",
   "id": "08f7479d",
   "metadata": {},
   "source": [
    "Mask Function"
   ]
  },
  {
   "cell_type": "code",
   "execution_count": 2,
   "id": "15829db2",
   "metadata": {},
   "outputs": [
    {
     "name": "stdout",
     "output_type": "stream",
     "text": [
      "   A   B   C\n",
      "0  4  12  54\n",
      "1  7  -7 -21\n",
      "2 -6   7  34\n",
      "3  2  -6  32\n",
      "4 -9  23 -12\n"
     ]
    },
    {
     "data": {
      "text/html": [
       "<div>\n",
       "<style scoped>\n",
       "    .dataframe tbody tr th:only-of-type {\n",
       "        vertical-align: middle;\n",
       "    }\n",
       "\n",
       "    .dataframe tbody tr th {\n",
       "        vertical-align: top;\n",
       "    }\n",
       "\n",
       "    .dataframe thead th {\n",
       "        text-align: right;\n",
       "    }\n",
       "</style>\n",
       "<table border=\"1\" class=\"dataframe\">\n",
       "  <thead>\n",
       "    <tr style=\"text-align: right;\">\n",
       "      <th></th>\n",
       "      <th>A</th>\n",
       "      <th>B</th>\n",
       "      <th>C</th>\n",
       "    </tr>\n",
       "  </thead>\n",
       "  <tbody>\n",
       "    <tr>\n",
       "      <th>0</th>\n",
       "      <td>4.0</td>\n",
       "      <td>12.0</td>\n",
       "      <td>54.0</td>\n",
       "    </tr>\n",
       "    <tr>\n",
       "      <th>1</th>\n",
       "      <td>7.0</td>\n",
       "      <td>NaN</td>\n",
       "      <td>NaN</td>\n",
       "    </tr>\n",
       "    <tr>\n",
       "      <th>2</th>\n",
       "      <td>NaN</td>\n",
       "      <td>7.0</td>\n",
       "      <td>34.0</td>\n",
       "    </tr>\n",
       "    <tr>\n",
       "      <th>3</th>\n",
       "      <td>2.0</td>\n",
       "      <td>NaN</td>\n",
       "      <td>32.0</td>\n",
       "    </tr>\n",
       "    <tr>\n",
       "      <th>4</th>\n",
       "      <td>NaN</td>\n",
       "      <td>23.0</td>\n",
       "      <td>NaN</td>\n",
       "    </tr>\n",
       "  </tbody>\n",
       "</table>\n",
       "</div>"
      ],
      "text/plain": [
       "     A     B     C\n",
       "0  4.0  12.0  54.0\n",
       "1  7.0   NaN   NaN\n",
       "2  NaN   7.0  34.0\n",
       "3  2.0   NaN  32.0\n",
       "4  NaN  23.0   NaN"
      ]
     },
     "execution_count": 2,
     "metadata": {},
     "output_type": "execute_result"
    }
   ],
   "source": [
    "import pandas as pd\n",
    "import numpy as np\n",
    "\n",
    "df=pd.DataFrame({'A':[4,7,-6,2,-9],\n",
    "                 'B':[12,-7,7,-6,23],\n",
    "                 'C':[54,-21,34,32,-12]})\n",
    "\n",
    "print(df)\n",
    "df.mask(df<0,np.NaN)"
   ]
  },
  {
   "cell_type": "markdown",
   "id": "b8f20d72",
   "metadata": {},
   "source": [
    "Style object"
   ]
  },
  {
   "cell_type": "code",
   "execution_count": 3,
   "id": "3650bda2",
   "metadata": {},
   "outputs": [
    {
     "data": {
      "text/html": [
       "<style type=\"text/css\">\n",
       "#T_9a4e1_row0_col0, #T_9a4e1_row0_col1, #T_9a4e1_row0_col2, #T_9a4e1_row1_col0, #T_9a4e1_row2_col1 {\n",
       "  color: green;\n",
       "}\n",
       "#T_9a4e1_row1_col1, #T_9a4e1_row1_col2, #T_9a4e1_row2_col0, #T_9a4e1_row2_col2 {\n",
       "  color: red;\n",
       "}\n",
       "</style>\n",
       "<table id=\"T_9a4e1\">\n",
       "  <thead>\n",
       "    <tr>\n",
       "      <th class=\"blank level0\" >&nbsp;</th>\n",
       "      <th id=\"T_9a4e1_level0_col0\" class=\"col_heading level0 col0\" >A</th>\n",
       "      <th id=\"T_9a4e1_level0_col1\" class=\"col_heading level0 col1\" >B</th>\n",
       "      <th id=\"T_9a4e1_level0_col2\" class=\"col_heading level0 col2\" >C</th>\n",
       "    </tr>\n",
       "  </thead>\n",
       "  <tbody>\n",
       "    <tr>\n",
       "      <th id=\"T_9a4e1_level0_row0\" class=\"row_heading level0 row0\" >0</th>\n",
       "      <td id=\"T_9a4e1_row0_col0\" class=\"data row0 col0\" >4</td>\n",
       "      <td id=\"T_9a4e1_row0_col1\" class=\"data row0 col1\" >12</td>\n",
       "      <td id=\"T_9a4e1_row0_col2\" class=\"data row0 col2\" >54</td>\n",
       "    </tr>\n",
       "    <tr>\n",
       "      <th id=\"T_9a4e1_level0_row1\" class=\"row_heading level0 row1\" >1</th>\n",
       "      <td id=\"T_9a4e1_row1_col0\" class=\"data row1 col0\" >7</td>\n",
       "      <td id=\"T_9a4e1_row1_col1\" class=\"data row1 col1\" >-7</td>\n",
       "      <td id=\"T_9a4e1_row1_col2\" class=\"data row1 col2\" >-21</td>\n",
       "    </tr>\n",
       "    <tr>\n",
       "      <th id=\"T_9a4e1_level0_row2\" class=\"row_heading level0 row2\" >2</th>\n",
       "      <td id=\"T_9a4e1_row2_col0\" class=\"data row2 col0\" >-6</td>\n",
       "      <td id=\"T_9a4e1_row2_col1\" class=\"data row2 col1\" >7</td>\n",
       "      <td id=\"T_9a4e1_row2_col2\" class=\"data row2 col2\" >-34</td>\n",
       "    </tr>\n",
       "  </tbody>\n",
       "</table>\n"
      ],
      "text/plain": [
       "<pandas.io.formats.style.Styler at 0x19e2a0090a0>"
      ]
     },
     "execution_count": 3,
     "metadata": {},
     "output_type": "execute_result"
    }
   ],
   "source": [
    "import pandas as pd\n",
    "import numpy as np\n",
    "\n",
    "df = pd.DataFrame({'A':[4,7,-6],\n",
    "                   'B':[12,-7,7],\n",
    "                   'C':[54,-21,-34]})\n",
    "\n",
    "def color_negative_to_red(val):\n",
    "    color='red' if val<0 else 'green'\n",
    "    return 'color: %s' % color\n",
    "\n",
    "df.style.applymap(color_negative_to_red)"
   ]
  },
  {
   "cell_type": "markdown",
   "id": "fdf1e9f2",
   "metadata": {},
   "source": [
    "print to markdown"
   ]
  },
  {
   "cell_type": "markdown",
   "id": "dcd5ed35",
   "metadata": {},
   "source": [
    "Display as Markdown"
   ]
  },
  {
   "cell_type": "code",
   "execution_count": 4,
   "id": "6649addc",
   "metadata": {},
   "outputs": [
    {
     "name": "stdout",
     "output_type": "stream",
     "text": [
      "+----+---------+----------+---------+-------------+--------------------+\n",
      "|    | Name    | Degree   | From    |   Years_exp |   From_office(min) |\n",
      "+====+=========+==========+=========+=============+====================+\n",
      "|  0 | Aida    | Master   | Abidjan |           2 |                120 |\n",
      "+----+---------+----------+---------+-------------+--------------------+\n",
      "|  1 | Mamadou | Master   | Dakar   |           3 |                 95 |\n",
      "+----+---------+----------+---------+-------------+--------------------+\n",
      "|  2 | Aich    | PhD      | Abidjan |           5 |                 80 |\n",
      "+----+---------+----------+---------+-------------+--------------------+\n"
     ]
    }
   ],
   "source": [
    "import pandas as pd\n",
    "candidates_df = pd.DataFrame({'Name':['Aida', 'Mamadou','Aich'],\n",
    "                              'Degree':['Master','Master','PhD'],\n",
    "                              'From':['Abidjan','Dakar','Abidjan'],\n",
    "                              'Years_exp':[2,3,5],\n",
    "                              'From_office(min)':[120,95,80]})\n",
    "print(candidates_df.to_markdown(tablefmt='grid'))"
   ]
  },
  {
   "cell_type": "markdown",
   "id": "0f6fe418",
   "metadata": {},
   "source": [
    "SQL-Like Queries"
   ]
  },
  {
   "cell_type": "code",
   "execution_count": 7,
   "id": "20a8578c",
   "metadata": {},
   "outputs": [
    {
     "data": {
      "text/html": [
       "<div>\n",
       "<style scoped>\n",
       "    .dataframe tbody tr th:only-of-type {\n",
       "        vertical-align: middle;\n",
       "    }\n",
       "\n",
       "    .dataframe tbody tr th {\n",
       "        vertical-align: top;\n",
       "    }\n",
       "\n",
       "    .dataframe thead th {\n",
       "        text-align: right;\n",
       "    }\n",
       "</style>\n",
       "<table border=\"1\" class=\"dataframe\">\n",
       "  <thead>\n",
       "    <tr style=\"text-align: right;\">\n",
       "      <th></th>\n",
       "      <th>Name</th>\n",
       "      <th>Degree</th>\n",
       "      <th>From</th>\n",
       "      <th>Years_exp</th>\n",
       "      <th>From_office(min)</th>\n",
       "    </tr>\n",
       "  </thead>\n",
       "  <tbody>\n",
       "    <tr>\n",
       "      <th>1</th>\n",
       "      <td>Mamadou</td>\n",
       "      <td>Master</td>\n",
       "      <td>Dakar</td>\n",
       "      <td>3</td>\n",
       "      <td>95</td>\n",
       "    </tr>\n",
       "    <tr>\n",
       "      <th>3</th>\n",
       "      <td>Fatou</td>\n",
       "      <td>Master</td>\n",
       "      <td>Konakry</td>\n",
       "      <td>4</td>\n",
       "      <td>100</td>\n",
       "    </tr>\n",
       "  </tbody>\n",
       "</table>\n",
       "</div>"
      ],
      "text/plain": [
       "      Name  Degree     From  Years_exp  From_office(min)\n",
       "1  Mamadou  Master    Dakar          3                95\n",
       "3    Fatou  Master  Konakry          4               100"
      ]
     },
     "execution_count": 7,
     "metadata": {},
     "output_type": "execute_result"
    }
   ],
   "source": [
    "import pandas as pd\n",
    "candidates_df = pd.DataFrame({'Name':['Aida', 'Mamadou','Aich','Fatou','Khalil'],\n",
    "                              'Degree':['Master','Master','PhD','Master','PhD'],\n",
    "                              'From':['Abidjan','Dakar','Abidjan','Konakry','Lonrne'],\n",
    "                              'Years_exp':[2,3,5,4,3],\n",
    "                              'From_office(min)':[120,95,80,100,34]})\n",
    "candidates_df.query(\"Degree == 'Master' and Years_exp > 2\")"
   ]
  },
  {
   "cell_type": "markdown",
   "id": "e40d2877",
   "metadata": {},
   "source": [
    "Scikit Learn Exercise"
   ]
  },
  {
   "cell_type": "code",
   "execution_count": 16,
   "id": "2af93cd8",
   "metadata": {},
   "outputs": [
    {
     "data": {
      "text/html": [
       "<div>\n",
       "<style scoped>\n",
       "    .dataframe tbody tr th:only-of-type {\n",
       "        vertical-align: middle;\n",
       "    }\n",
       "\n",
       "    .dataframe tbody tr th {\n",
       "        vertical-align: top;\n",
       "    }\n",
       "\n",
       "    .dataframe thead th {\n",
       "        text-align: right;\n",
       "    }\n",
       "</style>\n",
       "<table border=\"1\" class=\"dataframe\">\n",
       "  <thead>\n",
       "    <tr style=\"text-align: right;\">\n",
       "      <th></th>\n",
       "      <th>x1</th>\n",
       "      <th>x2</th>\n",
       "      <th>x3</th>\n",
       "      <th>x4</th>\n",
       "    </tr>\n",
       "  </thead>\n",
       "  <tbody>\n",
       "    <tr>\n",
       "      <th>0</th>\n",
       "      <td>0.1</td>\n",
       "      <td>0.2</td>\n",
       "      <td>0.3</td>\n",
       "      <td>0.4</td>\n",
       "    </tr>\n",
       "    <tr>\n",
       "      <th>1</th>\n",
       "      <td>0.5</td>\n",
       "      <td>0.6</td>\n",
       "      <td>0.7</td>\n",
       "      <td>0.8</td>\n",
       "    </tr>\n",
       "    <tr>\n",
       "      <th>2</th>\n",
       "      <td>0.9</td>\n",
       "      <td>1.0</td>\n",
       "      <td>1.1</td>\n",
       "      <td>1.2</td>\n",
       "    </tr>\n",
       "    <tr>\n",
       "      <th>3</th>\n",
       "      <td>1.3</td>\n",
       "      <td>1.4</td>\n",
       "      <td>1.5</td>\n",
       "      <td>1.6</td>\n",
       "    </tr>\n",
       "    <tr>\n",
       "      <th>4</th>\n",
       "      <td>1.7</td>\n",
       "      <td>1.8</td>\n",
       "      <td>1.9</td>\n",
       "      <td>2.0</td>\n",
       "    </tr>\n",
       "    <tr>\n",
       "      <th>5</th>\n",
       "      <td>2.1</td>\n",
       "      <td>2.2</td>\n",
       "      <td>2.3</td>\n",
       "      <td>2.4</td>\n",
       "    </tr>\n",
       "    <tr>\n",
       "      <th>6</th>\n",
       "      <td>2.5</td>\n",
       "      <td>2.6</td>\n",
       "      <td>2.7</td>\n",
       "      <td>2.8</td>\n",
       "    </tr>\n",
       "  </tbody>\n",
       "</table>\n",
       "</div>"
      ],
      "text/plain": [
       "    x1   x2   x3   x4\n",
       "0  0.1  0.2  0.3  0.4\n",
       "1  0.5  0.6  0.7  0.8\n",
       "2  0.9  1.0  1.1  1.2\n",
       "3  1.3  1.4  1.5  1.6\n",
       "4  1.7  1.8  1.9  2.0\n",
       "5  2.1  2.2  2.3  2.4\n",
       "6  2.5  2.6  2.7  2.8"
      ]
     },
     "metadata": {},
     "output_type": "display_data"
    },
    {
     "data": {
      "text/html": [
       "<div>\n",
       "<style scoped>\n",
       "    .dataframe tbody tr th:only-of-type {\n",
       "        vertical-align: middle;\n",
       "    }\n",
       "\n",
       "    .dataframe tbody tr th {\n",
       "        vertical-align: top;\n",
       "    }\n",
       "\n",
       "    .dataframe thead th {\n",
       "        text-align: right;\n",
       "    }\n",
       "</style>\n",
       "<table border=\"1\" class=\"dataframe\">\n",
       "  <thead>\n",
       "    <tr style=\"text-align: right;\">\n",
       "      <th></th>\n",
       "      <th>y</th>\n",
       "    </tr>\n",
       "  </thead>\n",
       "  <tbody>\n",
       "    <tr>\n",
       "      <th>0</th>\n",
       "      <td>0</td>\n",
       "    </tr>\n",
       "    <tr>\n",
       "      <th>1</th>\n",
       "      <td>1</td>\n",
       "    </tr>\n",
       "    <tr>\n",
       "      <th>2</th>\n",
       "      <td>0</td>\n",
       "    </tr>\n",
       "    <tr>\n",
       "      <th>3</th>\n",
       "      <td>1</td>\n",
       "    </tr>\n",
       "    <tr>\n",
       "      <th>4</th>\n",
       "      <td>0</td>\n",
       "    </tr>\n",
       "    <tr>\n",
       "      <th>5</th>\n",
       "      <td>1</td>\n",
       "    </tr>\n",
       "    <tr>\n",
       "      <th>6</th>\n",
       "      <td>0</td>\n",
       "    </tr>\n",
       "  </tbody>\n",
       "</table>\n",
       "</div>"
      ],
      "text/plain": [
       "   y\n",
       "0  0\n",
       "1  1\n",
       "2  0\n",
       "3  1\n",
       "4  0\n",
       "5  1\n",
       "6  0"
      ]
     },
     "metadata": {},
     "output_type": "display_data"
    },
    {
     "name": "stdout",
     "output_type": "stream",
     "text": [
      "         x1        x2        x3        x4\n",
      "1 -1.030244 -1.030244 -1.030244 -1.030244\n",
      "4  0.374634  0.374634  0.374634  0.374634\n"
     ]
    },
    {
     "data": {
      "text/html": [
       "<div>\n",
       "<style scoped>\n",
       "    .dataframe tbody tr th:only-of-type {\n",
       "        vertical-align: middle;\n",
       "    }\n",
       "\n",
       "    .dataframe tbody tr th {\n",
       "        vertical-align: top;\n",
       "    }\n",
       "\n",
       "    .dataframe thead th {\n",
       "        text-align: right;\n",
       "    }\n",
       "</style>\n",
       "<table border=\"1\" class=\"dataframe\">\n",
       "  <thead>\n",
       "    <tr style=\"text-align: right;\">\n",
       "      <th></th>\n",
       "      <th>x1</th>\n",
       "      <th>x2</th>\n",
       "      <th>x3</th>\n",
       "      <th>x4</th>\n",
       "    </tr>\n",
       "  </thead>\n",
       "  <tbody>\n",
       "    <tr>\n",
       "      <th>1</th>\n",
       "      <td>-1.030244</td>\n",
       "      <td>-1.030244</td>\n",
       "      <td>-1.030244</td>\n",
       "      <td>-1.030244</td>\n",
       "    </tr>\n",
       "    <tr>\n",
       "      <th>4</th>\n",
       "      <td>0.374634</td>\n",
       "      <td>0.374634</td>\n",
       "      <td>0.374634</td>\n",
       "      <td>0.374634</td>\n",
       "    </tr>\n",
       "  </tbody>\n",
       "</table>\n",
       "</div>"
      ],
      "text/plain": [
       "         x1        x2        x3        x4\n",
       "1 -1.030244 -1.030244 -1.030244 -1.030244\n",
       "4  0.374634  0.374634  0.374634  0.374634"
      ]
     },
     "metadata": {},
     "output_type": "display_data"
    }
   ],
   "source": [
    "import pandas as pd\n",
    "from sklearn.preprocessing import StandardScaler\n",
    "from sklearn.model_selection import train_test_split\n",
    "X = pd.DataFrame({'x1':[0.1,0.5,0.9,1.3,1.7,2.1,2.5],\n",
    "                  'x2':[0.2,0.6,1.0,1.4,1.8,2.2,2.6],\n",
    "                  'x3':[0.3,0.7,1.1, 1.5, 1.9,2.3,2.7],\n",
    "                  'x4':[0.4,0.8,1.2,1.6,2.0,2.4,2.8]})\n",
    "y = pd.DataFrame({'y':[0,1,0,1,0,1,0]})\n",
    "display(X)\n",
    "display(y)\n",
    "X_train, X_test, y_train, y_test = train_test_split(X,y)\n",
    "\n",
    "scaler=StandardScaler()\n",
    "scaler.fit(X_train)\n",
    "X_test_scaled=scaler.transform(X_test)\n",
    "scaler = StandardScaler().set_output(transform=\"pandas\")\n",
    "scaler.fit(X_train)\n",
    "X_test_scaled = scaler.transform(X_test)\n",
    "print(X_test_scaled)\n",
    "display(X_test_scaled)"
   ]
  },
  {
   "cell_type": "markdown",
   "id": "692ad502",
   "metadata": {},
   "source": [
    "Use of to_period function"
   ]
  },
  {
   "cell_type": "code",
   "execution_count": 31,
   "id": "c1decfcb",
   "metadata": {},
   "outputs": [
    {
     "name": "stdout",
     "output_type": "stream",
     "text": [
      "      Name    Degree Application_date    month quarter\n",
      "0     Aida    Master       2022-11-17  2022-11  2022Q4\n",
      "1  Mamadou    Master       2022-09-02  2022-09  2022Q3\n",
      "2   Ismael  Bachelor       2022-12-02  2022-12  2022Q4\n",
      "3    Aicha       PhD       2022-08-25  2022-08  2022Q3\n",
      "4    Fatou    Master       2022-01-07  2022-01  2022Q1\n",
      "5   Khalil       PhD       2022-12-26  2022-12  2022Q4\n"
     ]
    }
   ],
   "source": [
    "\n",
    "import pandas as pd\n",
    "import datetime as dt\n",
    "from dateutil import parser\n",
    "\n",
    "df = pd.DataFrame({'Name':['Aida', 'Mamadou','Ismael','Aicha','Fatou','Khalil'],\n",
    "                              'Degree':['Master','Master','Bachelor','PhD','Master','PhD'],\n",
    "                              'Application_date':['2022-11-17','2022-09-02','2022-12-02', \\\n",
    "                                                  '2022-08-25','2022-01-07','2022-12-26']})\n",
    "\n",
    "df['Application_date']=df['Application_date'].apply(parser.parse)\n",
    "df['month']=df['Application_date'].dt.to_period(\"M\")\n",
    "\n",
    "df['quarter']=df['Application_date'].dt.to_period(\"Q\")\n",
    "print(df)"
   ]
  },
  {
   "cell_type": "markdown",
   "id": "1205fc1f",
   "metadata": {},
   "source": [
    "Use of Counter object"
   ]
  },
  {
   "cell_type": "code",
   "execution_count": 32,
   "id": "b448704a",
   "metadata": {},
   "outputs": [
    {
     "name": "stdout",
     "output_type": "stream",
     "text": [
      "Counter({'Abidjan': 3, 'Dakar': 2, 'Bamako': 2, 'Douala': 1})\n"
     ]
    }
   ],
   "source": [
    "from collections import Counter\n",
    "cities =['Abidjan','Dakar','Dakar','Bamako','Douala','Bamako','Abidjan','Abidjan']\n",
    "\n",
    "print(Counter(cities))"
   ]
  },
  {
   "cell_type": "markdown",
   "id": "567f48f7",
   "metadata": {},
   "source": [
    "Combine items"
   ]
  },
  {
   "cell_type": "code",
   "execution_count": 33,
   "id": "f3042a9f",
   "metadata": {},
   "outputs": [
    {
     "name": "stdout",
     "output_type": "stream",
     "text": [
      "[('Nabintou', 'Abidjan', 3), ('Saliou', 'Dakar', 2), ('Ibrahim', 'Bamako', 4)]\n"
     ]
    }
   ],
   "source": [
    "names=[\"Nabintou\",\"Saliou\",\"Ibrahim\"]\n",
    "cities=['Abidjan','Dakar','Bamako']\n",
    "years_exp=[3,2,4]\n",
    "candidates=zip(names, cities,years_exp)\n",
    "\n",
    "print(list(candidates))"
   ]
  },
  {
   "cell_type": "markdown",
   "id": "aa900bf5",
   "metadata": {},
   "source": [
    "Multiple Lists from Aggregated Items"
   ]
  },
  {
   "cell_type": "code",
   "execution_count": 36,
   "id": "c11578e9",
   "metadata": {},
   "outputs": [
    {
     "name": "stdout",
     "output_type": "stream",
     "text": [
      "['Nabintou', 'Saliou', 'Ibrahim']\n",
      "['Abidjan', 'Dakar', 'Bamako']\n",
      "[3, 2, 4]\n"
     ]
    }
   ],
   "source": [
    "candidates=[(\"Nabintou\",'Abidjan', 3),\n",
    "            (\"Saliou\",\"Dakar\", 2),\n",
    "            (\"Ibrahim\",'Bamako',4)]\n",
    "names, cities, years_exp=zip(*candidates)\n",
    "print(list(names))\n",
    "print(list(cities))\n",
    "print(list(years_exp))"
   ]
  },
  {
   "cell_type": "markdown",
   "id": "76c11b0d",
   "metadata": {},
   "source": [
    "List Comprehension"
   ]
  },
  {
   "cell_type": "code",
   "execution_count": 40,
   "id": "835f7e43",
   "metadata": {},
   "outputs": [
    {
     "name": "stdout",
     "output_type": "stream",
     "text": [
      "[2, 32, 6, 4, 76]\n",
      "[2, 32, 6, 4, 76]\n"
     ]
    }
   ],
   "source": [
    "original_list=[2,32,3,6,4,76,5,9,11]\n",
    "evens_list=[even for even in original_list if even%2==0]\n",
    "print(evens_list)\n",
    "\n",
    "evens_list=[]\n",
    "for value in original_list:\n",
    "    if(value%2==0):\n",
    "        evens_list.append(value)\n",
    "        \n",
    "print(evens_list)"
   ]
  },
  {
   "cell_type": "markdown",
   "id": "625afe0d",
   "metadata": {},
   "source": [
    "Dictionary Comprehension"
   ]
  },
  {
   "cell_type": "code",
   "execution_count": 44,
   "id": "47d3938e",
   "metadata": {},
   "outputs": [
    {
     "name": "stdout",
     "output_type": "stream",
     "text": [
      "{0: 2, 1: 32, 3: 6, 4: 4, 5: 76}\n",
      "{0: 2, 1: 32, 3: 6, 4: 4, 5: 76}\n"
     ]
    }
   ],
   "source": [
    "original_list=[2,32,3,6,4,76,5,9,11]\n",
    "evens_list={i:num for i,num in enumerate(original_list) if num %2==0}\n",
    "print(evens_list)\n",
    "\n",
    "evens_dict={}\n",
    "for i in range(len(original_list)):\n",
    "    if(original_list[i]%2==0):\n",
    "        evens_dict[i]=original_list[i]\n",
    "        \n",
    "print(evens_list)"
   ]
  },
  {
   "cell_type": "code",
   "execution_count": null,
   "id": "405ff32e",
   "metadata": {},
   "outputs": [],
   "source": []
  }
 ],
 "metadata": {
  "kernelspec": {
   "display_name": "Python 3 (ipykernel)",
   "language": "python",
   "name": "python3"
  },
  "language_info": {
   "codemirror_mode": {
    "name": "ipython",
    "version": 3
   },
   "file_extension": ".py",
   "mimetype": "text/x-python",
   "name": "python",
   "nbconvert_exporter": "python",
   "pygments_lexer": "ipython3",
   "version": "3.9.15"
  },
  "toc": {
   "base_numbering": 1,
   "nav_menu": {},
   "number_sections": true,
   "sideBar": true,
   "skip_h1_title": false,
   "title_cell": "Table of Contents",
   "title_sidebar": "Contents",
   "toc_cell": false,
   "toc_position": {},
   "toc_section_display": true,
   "toc_window_display": false
  }
 },
 "nbformat": 4,
 "nbformat_minor": 5
}
