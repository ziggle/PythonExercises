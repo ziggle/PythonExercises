{
 "cells": [
  {
   "attachments": {},
   "cell_type": "markdown",
   "metadata": {},
   "source": [
    "https://gustavorsantos.medium.com/6-tips-about-python-regular-expressions-6bb384111b35"
   ]
  },
  {
   "cell_type": "code",
   "execution_count": 1,
   "metadata": {},
   "outputs": [
    {
     "data": {
      "text/plain": [
       "True"
      ]
     },
     "execution_count": 1,
     "metadata": {},
     "output_type": "execute_result"
    }
   ],
   "source": [
    "s = \"Now I know my ABC\"\n",
    "'ABC' in s"
   ]
  },
  {
   "cell_type": "code",
   "execution_count": 2,
   "metadata": {},
   "outputs": [
    {
     "data": {
      "text/plain": [
       "14"
      ]
     },
     "execution_count": 2,
     "metadata": {},
     "output_type": "execute_result"
    }
   ],
   "source": [
    "s.find('ABC')"
   ]
  },
  {
   "cell_type": "code",
   "execution_count": 3,
   "metadata": {},
   "outputs": [
    {
     "data": {
      "text/plain": [
       "<re.Match object; span=(4, 5), match='I'>"
      ]
     },
     "execution_count": 3,
     "metadata": {},
     "output_type": "execute_result"
    }
   ],
   "source": [
    "import re\n",
    "s = \"Now I know my ABC\"\n",
    "re.search('I',s)"
   ]
  },
  {
   "cell_type": "code",
   "execution_count": 5,
   "metadata": {},
   "outputs": [
    {
     "name": "stdout",
     "output_type": "stream",
     "text": [
      "14\n",
      "17\n",
      "(14, 17)\n",
      "ABC\n"
     ]
    },
    {
     "data": {
      "text/plain": [
       "'ABC'"
      ]
     },
     "execution_count": 5,
     "metadata": {},
     "output_type": "execute_result"
    }
   ],
   "source": [
    "s = \"Now I know my ABC\"\n",
    "result = re.search('ABC',s)\n",
    "print(result.start())\n",
    "\n",
    "print(result.end())\n",
    "\n",
    "print(result.span())\n",
    "\n",
    "print(result.group())\n",
    "\n",
    "result[0]\n"
   ]
  },
  {
   "cell_type": "code",
   "execution_count": 7,
   "metadata": {},
   "outputs": [
    {
     "data": {
      "text/plain": [
       "<re.Match object; span=(14, 17), match='ABC'>"
      ]
     },
     "execution_count": 7,
     "metadata": {},
     "output_type": "execute_result"
    }
   ],
   "source": [
    "s = 'Now I know my ABC'\n",
    "re.search('[A-Z][A-Z][A-Z]',s)"
   ]
  },
  {
   "cell_type": "code",
   "execution_count": 8,
   "metadata": {},
   "outputs": [
    {
     "data": {
      "text/plain": [
       "<re.Match object; span=(14, 17), match='ZZZ'>"
      ]
     },
     "execution_count": 8,
     "metadata": {},
     "output_type": "execute_result"
    }
   ],
   "source": [
    "s1 = 'Now I know my ZZZ'\n",
    "re.search('[A-Z][A-Z][A-Z]',s1)"
   ]
  },
  {
   "cell_type": "code",
   "execution_count": 10,
   "metadata": {},
   "outputs": [
    {
     "name": "stdout",
     "output_type": "stream",
     "text": [
      "<re.Match object; span=(14, 15), match='1'>\n",
      "<re.Match object; span=(3, 4), match=' '>\n",
      "<re.Match object; span=(3, 4), match='$'>\n"
     ]
    }
   ],
   "source": [
    "s = 'Now I know my 123'\n",
    "print(re.search('\\d',s))\n",
    "\n",
    "s1 = 'Now I-know-my-ABC'\n",
    "print(re.search('\\s',s1))\n",
    "\n",
    "s2 = 'Not$$$'\n",
    "print(re.search('\\W',s2))\n",
    "\n",
    "#if '\\w', you will find 'N', the first character."
   ]
  },
  {
   "cell_type": "code",
   "execution_count": 11,
   "metadata": {},
   "outputs": [
    {
     "name": "stdout",
     "output_type": "stream",
     "text": [
      "<re.Match object; span=(0, 4), match='like'>\n",
      "<re.Match object; span=(4, 8), match='wise'>\n",
      "<re.Match object; span=(4, 7), match='ish'>\n"
     ]
    }
   ],
   "source": [
    "s = 'likewise'\n",
    "print(re.search('\\Alike',s))\n",
    "\n",
    "s1 = 'likewise'\n",
    "print(re.search('wise\\Z',s1))\n",
    "\n",
    "s2 = 'pinkish'\n",
    "print(re.search('ish$',s2))\n"
   ]
  },
  {
   "cell_type": "code",
   "execution_count": 12,
   "metadata": {},
   "outputs": [
    {
     "data": {
      "text/plain": [
       "<re.Match object; span=(4, 5), match='1'>"
      ]
     },
     "execution_count": 12,
     "metadata": {},
     "output_type": "execute_result"
    }
   ],
   "source": [
    "s = 'AZ#-1'\n",
    "# search for a boundary \\b followed by a digit \\d\n",
    "re.search(r'\\b\\d',s)"
   ]
  },
  {
   "cell_type": "code",
   "execution_count": 13,
   "metadata": {},
   "outputs": [
    {
     "data": {
      "text/plain": [
       "['1406 ', '1223 ', '3342 ', '9987 ', '4437 ']"
      ]
     },
     "execution_count": 13,
     "metadata": {},
     "output_type": "execute_result"
    }
   ],
   "source": [
    "text = 'The flight AAZ-1406 has landed at 4am, flight CVV-1223 at 6am, flight WWE-3342 at 8am, flight QAD-9987 at 10am and flight RRU-4437 at 1pm.'\n",
    "re.findall(r'\\b[0-9]{4}\\s', text)"
   ]
  },
  {
   "cell_type": "code",
   "execution_count": 18,
   "metadata": {},
   "outputs": [
    {
     "name": "stdout",
     "output_type": "stream",
     "text": [
      "['1448', '1301', '1005', '764', '704', '632', '617', '584', '525', '503']\n"
     ]
    }
   ],
   "source": [
    "top10books = 'Pride and Prejudice by Jane Austen (1448), by Xiaoxiaosheng (1301), Alices Adventures in Wonderland by Lewis Carroll (1005), The Adventures of Sherlock Holmes by Arthur Conan Doyle (764), The Yellow Wallpaper by Charlotte Perkins Gilman (704), Moby Dick; Or, The Whale by Herman Melville (632), Ion by Plato (617), Frankenstein; Or, The Modern Prometheus by Mary Wollstonecraft Shelley (584), The Strange Case of Dr. Jekyll and Mr. Hyde by Robert Louis Stevenson (525), Treasure Island by Robert Louis Stevenson (503)'\n",
    "downloads = re.findall(r'([\\d+]+)', top10books)\n",
    "# breakdown: r for raw string\n",
    "# ( open bracket\n",
    "# [\\d+]+ means any digits 0-9 repeated one or more times multiple times\n",
    "# ) close bracket\n",
    "print(downloads)"
   ]
  },
  {
   "cell_type": "code",
   "execution_count": 20,
   "metadata": {},
   "outputs": [
    {
     "name": "stdout",
     "output_type": "stream",
     "text": [
      "['Pride and Prejudice ', 'Alices Adventures in Wonderland ', 'The Adventures of Sherlock Holmes ', 'The Yellow Wallpaper ', 'Mo', 'The Whale ', 'Ion ', 'The Modern Prometheus ', 'Hyde ', 'Treasure Island ']\n"
     ]
    }
   ],
   "source": [
    "books = re.findall('[\\w][\\w\\s]*?(?=by)', top10books)\n",
    "# [\\w] a letter character\n",
    "# [\\w\\s]* any qty of words and spaces\n",
    "# ?(?=by) look behind until the word 'by'\n",
    "print(books)"
   ]
  },
  {
   "cell_type": "code",
   "execution_count": 26,
   "metadata": {},
   "outputs": [
    {
     "name": "stdout",
     "output_type": "stream",
     "text": [
      "[' Jane Austen ', ' Xiaoxiaosheng ', ' Lewis Carroll ', ' Arthur Conan Doyle ', ' Charlotte Perkins Gilman ', 'Herman Melville', ' Plato ', ' Mary Wollstonecraft Shelley ', ' Robert Louis Stevenson ', ' Robert Louis Stevenson ']\n"
     ]
    }
   ],
   "source": [
    "authors = re.findall('(?<=by).[\\D]*[\\s]', top10books)\n",
    "# (?<=by) look after the word 'by'\n",
    "# . dot means find any character\n",
    "# [\\D]*: 0 or more non-digits\n",
    "# [\\s] space\n",
    "#  Let's just adjust the item #5 in red, where we see problems in the parsing.\n",
    "books.pop(5)\n",
    "authors[5]='Herman Melville'\n",
    "#authors[5] = 'Herman Melville'\n",
    "print(authors)"
   ]
  },
  {
   "cell_type": "code",
   "execution_count": null,
   "metadata": {},
   "outputs": [],
   "source": []
  }
 ],
 "metadata": {
  "kernelspec": {
   "display_name": "Python 3",
   "language": "python",
   "name": "python3"
  },
  "language_info": {
   "codemirror_mode": {
    "name": "ipython",
    "version": 3
   },
   "file_extension": ".py",
   "mimetype": "text/x-python",
   "name": "python",
   "nbconvert_exporter": "python",
   "pygments_lexer": "ipython3",
   "version": "3.10.9"
  },
  "orig_nbformat": 4
 },
 "nbformat": 4,
 "nbformat_minor": 2
}
