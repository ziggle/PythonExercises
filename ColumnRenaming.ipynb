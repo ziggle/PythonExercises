{
 "cells": [
  {
   "cell_type": "markdown",
   "id": "7ea932f9",
   "metadata": {},
   "source": [
    "https://medium.com/swlh/how-to-rename-columns-in-pandas-in-4-minutes-3a5a2c65010c"
   ]
  },
  {
   "cell_type": "code",
   "execution_count": 4,
   "id": "eaf05abb",
   "metadata": {},
   "outputs": [
    {
     "name": "stdout",
     "output_type": "stream",
     "text": [
      "       Items Customer  ffwt w rwr  testxxxx\n",
      "0        Car    Homer           0         0\n",
      "1  Saxophone     Lisa           1         2\n",
      "2     Curler    Marge           2         4\n",
      "3        Car     Lisa           3         6\n",
      "4  Slingshot     Bart           4         8\n",
      "5       Duff    Homer           5        10\n"
     ]
    }
   ],
   "source": [
    "import pandas as pd\n",
    "import numpy as np\n",
    "df = pd.DataFrame({'Items': 'Car Saxophone Curler Car Slingshot Duff'.split(),\n",
    " 'Customer': 'Homer Lisa Marge Lisa Bart Homer'.split(),\n",
    " 'ffwt w rwr': np.arange(6), 'testxxxx': np.arange(6) * 2})\n",
    "\n",
    "print(df)"
   ]
  },
  {
   "cell_type": "code",
   "execution_count": 6,
   "id": "7f2b8662",
   "metadata": {},
   "outputs": [
    {
     "name": "stdout",
     "output_type": "stream",
     "text": [
      "       Items Customer  Amount  Costs\n",
      "0        Car    Homer       0      0\n",
      "1  Saxophone     Lisa       1      2\n",
      "2     Curler    Marge       2      4\n",
      "3        Car     Lisa       3      6\n",
      "4  Slingshot     Bart       4      8\n",
      "5       Duff    Homer       5     10\n"
     ]
    }
   ],
   "source": [
    "df.rename(columns={'ffwt w rwr':'Amount','testxxxx':'Costs'}, inplace=True)\n",
    "print(df)"
   ]
  },
  {
   "cell_type": "code",
   "execution_count": 7,
   "id": "f59499ad",
   "metadata": {},
   "outputs": [
    {
     "name": "stdout",
     "output_type": "stream",
     "text": [
      "           1      2  3   4\n",
      "0        Car  Homer  0   0\n",
      "1  Saxophone   Lisa  1   2\n",
      "2     Curler  Marge  2   4\n",
      "3        Car   Lisa  3   6\n",
      "4  Slingshot   Bart  4   8\n",
      "5       Duff  Homer  5  10\n"
     ]
    }
   ],
   "source": [
    " df.columns = [1,2,3,4]\n",
    "print(df)"
   ]
  },
  {
   "cell_type": "code",
   "execution_count": 8,
   "id": "afb4078b",
   "metadata": {},
   "outputs": [
    {
     "data": {
      "text/plain": [
       "Index([1, 2, 3, 4], dtype='int64')"
      ]
     },
     "execution_count": 8,
     "metadata": {},
     "output_type": "execute_result"
    }
   ],
   "source": [
    "df.columns"
   ]
  },
  {
   "cell_type": "code",
   "execution_count": 10,
   "id": "83445923",
   "metadata": {},
   "outputs": [
    {
     "data": {
      "text/plain": [
       "['Simpsons_Items', 'Simpsons_Customer', 'Simpsons_Amount', 'Simpsons_Costs']"
      ]
     },
     "execution_count": 10,
     "metadata": {},
     "output_type": "execute_result"
    }
   ],
   "source": [
    "df.columns=['Items','Customer','Amount','Costs']\n",
    "temp_cols = df.columns       \n",
    "prefix = 'Simpsons_'  \n",
    "[prefix + x for x in temp_cols]"
   ]
  },
  {
   "cell_type": "code",
   "execution_count": 12,
   "id": "876b2ec3",
   "metadata": {},
   "outputs": [
    {
     "data": {
      "text/html": [
       "<div>\n",
       "<style scoped>\n",
       "    .dataframe tbody tr th:only-of-type {\n",
       "        vertical-align: middle;\n",
       "    }\n",
       "\n",
       "    .dataframe tbody tr th {\n",
       "        vertical-align: top;\n",
       "    }\n",
       "\n",
       "    .dataframe thead th {\n",
       "        text-align: right;\n",
       "    }\n",
       "</style>\n",
       "<table border=\"1\" class=\"dataframe\">\n",
       "  <thead>\n",
       "    <tr style=\"text-align: right;\">\n",
       "      <th></th>\n",
       "      <th>Simpsons_Items</th>\n",
       "      <th>Simpsons_Customer</th>\n",
       "      <th>Simpsons_Amount</th>\n",
       "      <th>Simpsons_Costs</th>\n",
       "    </tr>\n",
       "  </thead>\n",
       "  <tbody>\n",
       "    <tr>\n",
       "      <th>0</th>\n",
       "      <td>Car</td>\n",
       "      <td>Homer</td>\n",
       "      <td>0</td>\n",
       "      <td>0</td>\n",
       "    </tr>\n",
       "    <tr>\n",
       "      <th>1</th>\n",
       "      <td>Saxophone</td>\n",
       "      <td>Lisa</td>\n",
       "      <td>1</td>\n",
       "      <td>2</td>\n",
       "    </tr>\n",
       "    <tr>\n",
       "      <th>2</th>\n",
       "      <td>Curler</td>\n",
       "      <td>Marge</td>\n",
       "      <td>2</td>\n",
       "      <td>4</td>\n",
       "    </tr>\n",
       "    <tr>\n",
       "      <th>3</th>\n",
       "      <td>Car</td>\n",
       "      <td>Lisa</td>\n",
       "      <td>3</td>\n",
       "      <td>6</td>\n",
       "    </tr>\n",
       "    <tr>\n",
       "      <th>4</th>\n",
       "      <td>Slingshot</td>\n",
       "      <td>Bart</td>\n",
       "      <td>4</td>\n",
       "      <td>8</td>\n",
       "    </tr>\n",
       "    <tr>\n",
       "      <th>5</th>\n",
       "      <td>Duff</td>\n",
       "      <td>Homer</td>\n",
       "      <td>5</td>\n",
       "      <td>10</td>\n",
       "    </tr>\n",
       "  </tbody>\n",
       "</table>\n",
       "</div>"
      ],
      "text/plain": [
       "  Simpsons_Items Simpsons_Customer  Simpsons_Amount  Simpsons_Costs\n",
       "0            Car             Homer                0               0\n",
       "1      Saxophone              Lisa                1               2\n",
       "2         Curler             Marge                2               4\n",
       "3            Car              Lisa                3               6\n",
       "4      Slingshot              Bart                4               8\n",
       "5           Duff             Homer                5              10"
      ]
     },
     "execution_count": 12,
     "metadata": {},
     "output_type": "execute_result"
    }
   ],
   "source": [
    "final_cols = [prefix + x for x in temp_cols]\n",
    "df.columns=final_cols\n",
    "df"
   ]
  },
  {
   "cell_type": "code",
   "execution_count": 13,
   "id": "24b953c9",
   "metadata": {},
   "outputs": [
    {
     "data": {
      "text/html": [
       "<div>\n",
       "<style scoped>\n",
       "    .dataframe tbody tr th:only-of-type {\n",
       "        vertical-align: middle;\n",
       "    }\n",
       "\n",
       "    .dataframe tbody tr th {\n",
       "        vertical-align: top;\n",
       "    }\n",
       "\n",
       "    .dataframe thead th {\n",
       "        text-align: right;\n",
       "    }\n",
       "</style>\n",
       "<table border=\"1\" class=\"dataframe\">\n",
       "  <thead>\n",
       "    <tr style=\"text-align: right;\">\n",
       "      <th></th>\n",
       "      <th>Simpsons_Items</th>\n",
       "      <th>Simpsons_Customer</th>\n",
       "      <th>Simpsons_Amount</th>\n",
       "      <th>Costs</th>\n",
       "    </tr>\n",
       "  </thead>\n",
       "  <tbody>\n",
       "    <tr>\n",
       "      <th>0</th>\n",
       "      <td>Car</td>\n",
       "      <td>Homer</td>\n",
       "      <td>0</td>\n",
       "      <td>0</td>\n",
       "    </tr>\n",
       "    <tr>\n",
       "      <th>1</th>\n",
       "      <td>Saxophone</td>\n",
       "      <td>Lisa</td>\n",
       "      <td>1</td>\n",
       "      <td>2</td>\n",
       "    </tr>\n",
       "    <tr>\n",
       "      <th>2</th>\n",
       "      <td>Curler</td>\n",
       "      <td>Marge</td>\n",
       "      <td>2</td>\n",
       "      <td>4</td>\n",
       "    </tr>\n",
       "    <tr>\n",
       "      <th>3</th>\n",
       "      <td>Car</td>\n",
       "      <td>Lisa</td>\n",
       "      <td>3</td>\n",
       "      <td>6</td>\n",
       "    </tr>\n",
       "    <tr>\n",
       "      <th>4</th>\n",
       "      <td>Slingshot</td>\n",
       "      <td>Bart</td>\n",
       "      <td>4</td>\n",
       "      <td>8</td>\n",
       "    </tr>\n",
       "    <tr>\n",
       "      <th>5</th>\n",
       "      <td>Duff</td>\n",
       "      <td>Homer</td>\n",
       "      <td>5</td>\n",
       "      <td>10</td>\n",
       "    </tr>\n",
       "  </tbody>\n",
       "</table>\n",
       "</div>"
      ],
      "text/plain": [
       "  Simpsons_Items Simpsons_Customer  Simpsons_Amount  Costs\n",
       "0            Car             Homer                0      0\n",
       "1      Saxophone              Lisa                1      2\n",
       "2         Curler             Marge                2      4\n",
       "3            Car              Lisa                3      6\n",
       "4      Slingshot              Bart                4      8\n",
       "5           Duff             Homer                5     10"
      ]
     },
     "execution_count": 13,
     "metadata": {},
     "output_type": "execute_result"
    }
   ],
   "source": [
    "final_cols_2 = [prefix + x if x != 'Costs' in temp_cols else x for x in temp_cols]\n",
    "     \n",
    "df.columns = final_cols_2\n",
    "     \n",
    "df"
   ]
  }
 ],
 "metadata": {
  "kernelspec": {
   "display_name": "Python 3 (ipykernel)",
   "language": "python",
   "name": "python3"
  },
  "language_info": {
   "codemirror_mode": {
    "name": "ipython",
    "version": 3
   },
   "file_extension": ".py",
   "mimetype": "text/x-python",
   "name": "python",
   "nbconvert_exporter": "python",
   "pygments_lexer": "ipython3",
   "version": "3.9.7"
  }
 },
 "nbformat": 4,
 "nbformat_minor": 5
}
