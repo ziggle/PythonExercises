{
 "cells": [
  {
   "cell_type": "markdown",
   "metadata": {},
   "source": [
    "https://medium.com/@HeCanThink/tabulate-your-go-to-solution-for-stylish-tables-in-python-35ede5145e28"
   ]
  },
  {
   "cell_type": "code",
   "execution_count": 1,
   "metadata": {},
   "outputs": [
    {
     "name": "stdout",
     "output_type": "stream",
     "text": [
      "+---------+-------+--------------+\n",
      "| Name    |   Age | Occupation   |\n",
      "+=========+=======+==============+\n",
      "| Alice   |    28 | Engineer     |\n",
      "+---------+-------+--------------+\n",
      "| Bob     |    24 | Designer     |\n",
      "+---------+-------+--------------+\n",
      "| Charlie |    32 | Writer       |\n",
      "+---------+-------+--------------+\n"
     ]
    }
   ],
   "source": [
    "\n",
    "from tabulate import tabulate\n",
    "data = [\n",
    "    [\"Alice\", 28, \"Engineer\"],\n",
    "    [\"Bob\", 24, \"Designer\"],\n",
    "    [\"Charlie\", 32, \"Writer\"]\n",
    "]\n",
    "headers = [\"Name\", \"Age\", \"Occupation\"]\n",
    "table = tabulate(data, headers=headers, tablefmt=\"grid\")\n",
    "print(table)"
   ]
  },
  {
   "cell_type": "code",
   "execution_count": 2,
   "metadata": {},
   "outputs": [
    {
     "name": "stdout",
     "output_type": "stream",
     "text": [
      "+----+---------+-------+--------------+\n",
      "|    | Name    |   Age | Occupation   |\n",
      "+====+=========+=======+==============+\n",
      "|  0 | Alice   |    28 | Engineer     |\n",
      "+----+---------+-------+--------------+\n",
      "|  1 | Bob     |    24 | Designer     |\n",
      "+----+---------+-------+--------------+\n",
      "|  2 | Charlie |    32 | Writer       |\n",
      "+----+---------+-------+--------------+\n"
     ]
    }
   ],
   "source": [
    "import pandas as pd\n",
    "from tabulate import tabulate\n",
    "data = {\n",
    "    \"Name\": [\"Alice\", \"Bob\", \"Charlie\"],\n",
    "    \"Age\": [28, 24, 32],\n",
    "    \"Occupation\": [\"Engineer\", \"Designer\", \"Writer\"]\n",
    "}\n",
    "df = pd.DataFrame(data)\n",
    "table = tabulate(df, headers=\"keys\", tablefmt=\"grid\")\n",
    "print(table)"
   ]
  },
  {
   "cell_type": "code",
   "execution_count": 3,
   "metadata": {},
   "outputs": [
    {
     "name": "stdout",
     "output_type": "stream",
     "text": [
      "+---------+-------+--------------+\n",
      "| Name    |  Age  | Occupation   |\n",
      "+=========+=======+==============+\n",
      "| Alice   |  28   | Engineer     |\n",
      "+---------+-------+--------------+\n",
      "| Bob     |  24   | Designer     |\n",
      "+---------+-------+--------------+\n",
      "| Charlie |  32   | Writer       |\n",
      "+---------+-------+--------------+\n"
     ]
    }
   ],
   "source": [
    "from tabulate import tabulate\n",
    "data = [\n",
    "    [\"Alice\", 28, \"Engineer\"],\n",
    "    [\"Bob\", 24, \"Designer\"],\n",
    "    [\"Charlie\", 32, \"Writer\"]\n",
    "]\n",
    "headers = [\"Name\", \"Age\", \"Occupation\"]\n",
    "table = tabulate(data, headers=headers, tablefmt=\"grid\", numalign=\"center\")\n",
    "print(table)"
   ]
  },
  {
   "cell_type": "code",
   "execution_count": 4,
   "metadata": {},
   "outputs": [
    {
     "name": "stdout",
     "output_type": "stream",
     "text": [
      "<table>\n",
      "<thead>\n",
      "<tr><th>Name   </th><th style=\"text-align: right;\">  Age</th><th>Occupation  </th></tr>\n",
      "</thead>\n",
      "<tbody>\n",
      "<tr><td>Alice  </td><td style=\"text-align: right;\">   28</td><td>Engineer    </td></tr>\n",
      "<tr><td>Bob    </td><td style=\"text-align: right;\">   24</td><td>Designer    </td></tr>\n",
      "<tr><td>Charlie</td><td style=\"text-align: right;\">   32</td><td>Writer      </td></tr>\n",
      "</tbody>\n",
      "</table>\n"
     ]
    }
   ],
   "source": [
    "from tabulate import tabulate\n",
    "data = [\n",
    "    [\"Alice\", 28, \"Engineer\"],\n",
    "    [\"Bob\", 24, \"Designer\"],\n",
    "    [\"Charlie\", 32, \"Writer\"]\n",
    "]\n",
    "headers = [\"Name\", \"Age\", \"Occupation\"]\n",
    "table = tabulate(data, headers=headers, tablefmt=\"html\")\n",
    "print(table)"
   ]
  },
  {
   "cell_type": "code",
   "execution_count": 5,
   "metadata": {},
   "outputs": [
    {
     "name": "stdout",
     "output_type": "stream",
     "text": [
      "<table>\n",
      "<thead>\n",
      "<tr><th style=\"text-align: right;\">  </th><th>Name   </th><th style=\"text-align: right;\">  Age</th><th>Occupation  </th></tr>\n",
      "</thead>\n",
      "<tbody>\n",
      "<tr><td style=\"text-align: right;\"> 0</td><td>Alice  </td><td style=\"text-align: right;\">   28</td><td>Engineer    </td></tr>\n",
      "<tr><td style=\"text-align: right;\"> 1</td><td>Bob    </td><td style=\"text-align: right;\">   24</td><td>Designer    </td></tr>\n",
      "<tr><td style=\"text-align: right;\"> 2</td><td>Charlie</td><td style=\"text-align: right;\">   32</td><td>Writer      </td></tr>\n",
      "</tbody>\n",
      "</table>\n"
     ]
    }
   ],
   "source": [
    "from tabulate import tabulate\n",
    "import pandas as pd\n",
    "data = {\n",
    "    \"Name\": [\"Alice\", \"Bob\", \"Charlie\"],\n",
    "    \"Age\": [28, 24, 32],\n",
    "    \"Occupation\": [\"Engineer\", \"Designer\", \"Writer\"]\n",
    "}\n",
    "df = pd.DataFrame(data)\n",
    "# Display the table in a Jupyter Notebook cell\n",
    "print(tabulate(df, headers=\"keys\", tablefmt=\"html\"))"
   ]
  },
  {
   "cell_type": "markdown",
   "metadata": {},
   "source": [
    "<table>\n",
    "<thead>\n",
    "<tr><th style=\"text-align: right;\">  </th><th>Name   </th><th style=\"text-align: right;\">  Age</th><th>Occupation  </th></tr>\n",
    "</thead>\n",
    "<tbody>\n",
    "<tr><td style=\"text-align: right;\"> 0</td><td>Alice  </td><td style=\"text-align: right;\">   28</td><td>Engineer    </td></tr>\n",
    "<tr><td style=\"text-align: right;\"> 1</td><td>Bob    </td><td style=\"text-align: right;\">   24</td><td>Designer    </td></tr>\n",
    "<tr><td style=\"text-align: right;\"> 2</td><td>Charlie</td><td style=\"text-align: right;\">   32</td><td>Writer      </td></tr>\n",
    "</tbody>\n",
    "</table>"
   ]
  }
 ],
 "metadata": {
  "kernelspec": {
   "display_name": "Python 3",
   "language": "python",
   "name": "python3"
  },
  "language_info": {
   "codemirror_mode": {
    "name": "ipython",
    "version": 3
   },
   "file_extension": ".py",
   "mimetype": "text/x-python",
   "name": "python",
   "nbconvert_exporter": "python",
   "pygments_lexer": "ipython3",
   "version": "3.11.6"
  }
 },
 "nbformat": 4,
 "nbformat_minor": 2
}
