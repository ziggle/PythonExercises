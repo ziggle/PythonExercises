{
 "cells": [
  {
   "cell_type": "markdown",
   "id": "dec09a1a",
   "metadata": {},
   "source": [
    "https://blog.devgenius.io/python-map-function-a-comprehensive-tutorial-with-examples-1878c8387b58"
   ]
  },
  {
   "cell_type": "code",
   "execution_count": 1,
   "id": "56eab40c",
   "metadata": {},
   "outputs": [],
   "source": [
    "numbers = [1, 2, 3, 4, 5]\n",
    "\n",
    "def square(x):\n",
    "    return x ** 2\n",
    "\n",
    "squared_numbers = map(square, numbers)"
   ]
  },
  {
   "cell_type": "code",
   "execution_count": 2,
   "id": "df3cf475",
   "metadata": {},
   "outputs": [
    {
     "name": "stdout",
     "output_type": "stream",
     "text": [
      "[1, 4, 9, 16, 25]\n"
     ]
    }
   ],
   "source": [
    "squared_numbers = list(squared_numbers)  # Convert the iterator to a list\n",
    "\n",
    "print(squared_numbers)\n",
    "# Output: [1, 4, 9, 16, 25]"
   ]
  },
  {
   "cell_type": "code",
   "execution_count": 3,
   "id": "163f1c7f",
   "metadata": {},
   "outputs": [
    {
     "name": "stdout",
     "output_type": "stream",
     "text": [
      "[1, 4, 9, 16, 25]\n"
     ]
    }
   ],
   "source": [
    "numbers = [1, 2, 3, 4, 5]\n",
    "\n",
    "squared_numbers = map(lambda x: x ** 2, numbers)\n",
    "squared_numbers = list(squared_numbers)\n",
    "\n",
    "print(squared_numbers)\n",
    "# Output: [1, 4, 9, 16, 25]"
   ]
  },
  {
   "cell_type": "code",
   "execution_count": 4,
   "id": "27617fab",
   "metadata": {},
   "outputs": [
    {
     "name": "stdout",
     "output_type": "stream",
     "text": [
      "[(1, 1), (4, 8), (9, 27), (16, 64), (25, 125)]\n"
     ]
    }
   ],
   "source": [
    "numbers = [1, 2, 3, 4, 5]\n",
    "\n",
    "def square(x):\n",
    "    return x ** 2\n",
    "\n",
    "def cube(x):\n",
    "    return x ** 3\n",
    "\n",
    "results = map(lambda x: (square(x), cube(x)), numbers)\n",
    "results = list(results)\n",
    "\n",
    "print(results)\n",
    "# Output: [(1, 1), (4, 8), (9, 27), (16, 64), (25, 125)] "
   ]
  },
  {
   "cell_type": "code",
   "execution_count": null,
   "id": "8e1e15bf",
   "metadata": {},
   "outputs": [],
   "source": [
    "numbers1 = [1, 2, 3, 4, 5]\n",
    "numbers2 = [10, 20, 30, 40, 50]\n",
    "\n",
    "def add(x, y):\n",
    "    return x + y\n",
    "\n",
    "added_numbers = map(add, numbers1, numbers2)\n",
    "added_numbers = list(added_numbers)\n",
    "\n",
    "print(added_numbers)\n",
    "# Output: [11, 22, 33, 44, 55]"
   ]
  },
  {
   "cell_type": "code",
   "execution_count": null,
   "id": "f0d02ba1",
   "metadata": {},
   "outputs": [],
   "source": [
    "numbers = [1, 2, 3, 4, 5]\n",
    "\n",
    "def square(x):\n",
    "    return x ** 2\n",
    "\n",
    "even_squared = map(square, filter(lambda x: x % 2 == 0, numbers))\n",
    "even_squared = list(even_squared)\n",
    "\n",
    "print(even_squared)\n",
    "# Output: [4, 16]"
   ]
  }
 ],
 "metadata": {
  "kernelspec": {
   "display_name": "Python 3 (ipykernel)",
   "language": "python",
   "name": "python3"
  },
  "language_info": {
   "codemirror_mode": {
    "name": "ipython",
    "version": 3
   },
   "file_extension": ".py",
   "mimetype": "text/x-python",
   "name": "python",
   "nbconvert_exporter": "python",
   "pygments_lexer": "ipython3",
   "version": "3.9.7"
  }
 },
 "nbformat": 4,
 "nbformat_minor": 5
}
