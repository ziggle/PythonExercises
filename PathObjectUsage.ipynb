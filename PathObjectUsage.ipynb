{
 "cells": [
  {
   "cell_type": "markdown",
   "id": "78833218",
   "metadata": {},
   "source": [
    "https://levelup.gitconnected.com/stop-using-python-strings-to-represent-file-paths-7f60bc5479c5"
   ]
  },
  {
   "cell_type": "code",
   "execution_count": 1,
   "id": "13e82e37",
   "metadata": {},
   "outputs": [
    {
     "name": "stdout",
     "output_type": "stream",
     "text": [
      "folder\\subfolder\\subsubfolder\n"
     ]
    }
   ],
   "source": [
    "# running this on a MacOS machine\n",
    "import pathlib\n",
    "\n",
    "path = pathlib.Path('folder') / 'subfolder' / 'subsubfolder'\n",
    "print(path)\n",
    "\n",
    "# notice how the divide operator can be used with the path object\n"
   ]
  },
  {
   "cell_type": "code",
   "execution_count": 2,
   "id": "79e6bbcb",
   "metadata": {},
   "outputs": [
    {
     "name": "stdout",
     "output_type": "stream",
     "text": [
      "rocky+fifi\n"
     ]
    }
   ],
   "source": [
    "class Dog:\n",
    "  def __init__(self, name):\n",
    "    self.name = name\n",
    "\n",
    "  def __truediv__(self, otherdogname):\n",
    "    return self.name + '+' + otherdogname\n",
    "  \n",
    "rocky = Dog('rocky')\n",
    "\n",
    "print(rocky / 'fifi')"
   ]
  }
 ],
 "metadata": {
  "kernelspec": {
   "display_name": "Python 3 (ipykernel)",
   "language": "python",
   "name": "python3"
  },
  "language_info": {
   "codemirror_mode": {
    "name": "ipython",
    "version": 3
   },
   "file_extension": ".py",
   "mimetype": "text/x-python",
   "name": "python",
   "nbconvert_exporter": "python",
   "pygments_lexer": "ipython3",
   "version": "3.9.7"
  }
 },
 "nbformat": 4,
 "nbformat_minor": 5
}
