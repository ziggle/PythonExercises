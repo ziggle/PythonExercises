{
 "cells": [
  {
   "cell_type": "markdown",
   "id": "9f3156d4",
   "metadata": {},
   "source": [
    "This is my personal experimentation with tuples and what it means to \"break out\" using an asterisk."
   ]
  },
  {
   "cell_type": "code",
   "execution_count": 3,
   "id": "8cf49852",
   "metadata": {},
   "outputs": [
    {
     "name": "stdout",
     "output_type": "stream",
     "text": [
      "a = testa\n",
      "b = testb\n",
      "c = testc\n",
      "{'d': 'excess', 'k': 'another_excess'}\n"
     ]
    }
   ],
   "source": [
    "# Stackoverflow example: https://stackoverflow.com/questions/400739/what-does-asterisk-mean-in-python\n",
    "# Excess keyword argument (python 2) example:\n",
    "def foo(a, b, c, **args):\n",
    "    print(\"a = %s\" % (a,))\n",
    "    print( \"b = %s\" % (b,))\n",
    "    print( \"c = %s\" % (c,))\n",
    "    print(args)\n",
    "\n",
    "foo(a=\"testa\", d=\"excess\", c=\"testc\", b=\"testb\", k=\"another_excess\")"
   ]
  },
  {
   "cell_type": "code",
   "execution_count": 6,
   "id": "aae18c1b",
   "metadata": {},
   "outputs": [
    {
     "name": "stdout",
     "output_type": "stream",
     "text": [
      "a = testa\n",
      "b = testb\n",
      "c = testc\n",
      "('excess', 'another_excess')\n",
      "excess another_excess\n",
      "excess\n"
     ]
    }
   ],
   "source": [
    "# Excess positional argument (python 2) example:\n",
    "def foo(a, b, c, *args):\n",
    "    print( \"a = %s\" % (a,))\n",
    "    print( \"b = %s\" % (b,))\n",
    "    print( \"c = %s\" % (c,))\n",
    "    print( args)\n",
    "    print(*args)\n",
    "    print('excess')\n",
    "\n",
    "foo(\"testa\", \"testb\", \"testc\", \"excess\", \"another_excess\")"
   ]
  },
  {
   "cell_type": "code",
   "execution_count": 8,
   "id": "bebd17ac",
   "metadata": {},
   "outputs": [
    {
     "name": "stdout",
     "output_type": "stream",
     "text": [
      "a=testa\n",
      "b=testb\n",
      "c=testc\n",
      "args={'excessarg': 'string'}\n"
     ]
    }
   ],
   "source": [
    "def foo(a,b,c,**args):\n",
    "    print( \"a=%s\" % (a,))\n",
    "    print( \"b=%s\" % (b,))\n",
    "    print( \"c=%s\" % (c,))\n",
    "    print( \"args=%s\" % (args,))\n",
    "\n",
    "argdict = dict(a=\"testa\", b=\"testb\", c=\"testc\", excessarg=\"string\")\n",
    "foo(**argdict)"
   ]
  },
  {
   "cell_type": "code",
   "execution_count": 9,
   "id": "6de9a5bc",
   "metadata": {},
   "outputs": [
    {
     "name": "stdout",
     "output_type": "stream",
     "text": [
      "a=testa\n",
      "b=testb\n",
      "c=testc\n",
      "args=('excess',)\n"
     ]
    }
   ],
   "source": [
    "def foo(a,b,c,*args):\n",
    "    print( \"a=%s\" % (a,))\n",
    "    print( \"b=%s\" % (b,))\n",
    "    print( \"c=%s\" % (c,))\n",
    "    print( \"args=%s\" % (args,))\n",
    "\n",
    "argtuple = (\"testa\",\"testb\",\"testc\",\"excess\")\n",
    "foo(*argtuple)"
   ]
  }
 ],
 "metadata": {
  "kernelspec": {
   "display_name": "Python 3 (ipykernel)",
   "language": "python",
   "name": "python3"
  },
  "language_info": {
   "codemirror_mode": {
    "name": "ipython",
    "version": 3
   },
   "file_extension": ".py",
   "mimetype": "text/x-python",
   "name": "python",
   "nbconvert_exporter": "python",
   "pygments_lexer": "ipython3",
   "version": "3.9.7"
  }
 },
 "nbformat": 4,
 "nbformat_minor": 5
}
