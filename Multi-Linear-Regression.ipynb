{
 "cells": [
  {
   "cell_type": "markdown",
   "id": "585f303f",
   "metadata": {},
   "source": [
    "https://medium.com/analytics-mastery/advanced-techniques-in-multiple-linear-regression-elevating-predictive-analytics-and-modeling-460f4fb37559"
   ]
  },
  {
   "cell_type": "code",
   "execution_count": 1,
   "id": "020a23d0",
   "metadata": {},
   "outputs": [
    {
     "name": "stdout",
     "output_type": "stream",
     "text": [
      "   Actual      Predicted\n",
      "2  610000  584031.244375\n",
      "0  550000  476874.971875\n"
     ]
    },
    {
     "data": {
      "image/png": "[encoded data removed]",
      "text/plain": [
       "<Figure size 720x576 with 1 Axes>"
      ]
     },
     "metadata": {
      "needs_background": "light"
     },
     "output_type": "display_data"
    }
   ],
   "source": [
    "import pandas as pd\n",
    "from sklearn.model_selection import train_test_split\n",
    "from sklearn.linear_model import LinearRegression\n",
    "import matplotlib.pyplot as plt\n",
    "\n",
    "# Example dataset\n",
    "data = {\n",
    "'area': [2600, 3000, 3200, 3600, 4000],\n",
    "'bedrooms': [3, 4, None, 3, 5],\n",
    "'age': [20, 15, 18, 30, 8],\n",
    "'price': [550000, 565000, 610000, 595000, 760000]\n",
    "}\n",
    "df = pd.DataFrame(data)\n",
    "df['bedrooms'].fillna(df['bedrooms'].mean(), inplace=True)\n",
    "\n",
    "# Defining independent and dependent variables\n",
    "X = df[['area', 'bedrooms', 'age']]\n",
    "y = df['price']\n",
    "\n",
    "# Splitting the dataset\n",
    "X_train, X_test, y_train, y_test = train_test_split(X, y, test_size=0.3, random_state=0)\n",
    "\n",
    "# Creating the model\n",
    "model = LinearRegression()\n",
    "model.fit(X_train, y_train)\n",
    "\n",
    "# Making predictions\n",
    "y_pred = model.predict(X_test)\n",
    "\n",
    "# Comparing actual and predicted values\n",
    "df_pred = pd.DataFrame({'Actual': y_test, 'Predicted': y_pred})\n",
    "print(df_pred)\n",
    "\n",
    "# Plotting the actual and predicted values\n",
    "df_pred.plot(kind='bar',figsize=(10,8))\n",
    "plt.show()"
   ]
  },
  {
   "cell_type": "code",
   "execution_count": null,
   "id": "b8250b12",
   "metadata": {},
   "outputs": [],
   "source": []
  }
 ],
 "metadata": {
  "kernelspec": {
   "display_name": "Python 3 (ipykernel)",
   "language": "python",
   "name": "python3"
  },
  "language_info": {
   "codemirror_mode": {
    "name": "ipython",
    "version": 3
   },
   "file_extension": ".py",
   "mimetype": "text/x-python",
   "name": "python",
   "nbconvert_exporter": "python",
   "pygments_lexer": "ipython3",
   "version": "3.9.7"
  }
 },
 "nbformat": 4,
 "nbformat_minor": 5
}
