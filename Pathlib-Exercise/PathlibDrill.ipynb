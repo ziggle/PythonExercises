{
 "cells": [
  {
   "cell_type": "markdown",
   "metadata": {},
   "source": [
    "https://pbpython.com/pathlib-intro.html#:~:text=Pathlib%20is%20an%20object%20oriented,platform%20agnostic%20and%20pythonic%20manner."
   ]
  },
  {
   "cell_type": "markdown",
   "metadata": {},
   "source": [
    "This article uses the \"/\" operator to create paths. This is discussed here:\n",
    "\n",
    "https://stackoverflow.com/questions/53083963/python-pathlib-operator-how-does-it-do-it\n",
    "\n",
    "It is a classic Python thing of overloading an operator.\n",
    "\n",
    "\n",
    "@Andrew When evaluating a / b, Python attempts to call a.__truediv__(b) under the hood. If it is not present (or returns NotImplemented), then it tries b.__rtruediv__(a). If that fails, it raises a TypeError. What ties the method to the / operator is Python itself. Whether or not the method is implemented in a parent class has no bearing on whether it can be defined in a subclass. – \n",
    "AbyxDev\n",
    " Feb 11, 2022 at 23:59"
   ]
  },
  {
   "cell_type": "code",
   "execution_count": 2,
   "metadata": {},
   "outputs": [
    {
     "name": "stdout",
     "output_type": "stream",
     "text": [
      "C:\\Users\\biegertm\\OneDrive - Starkey\\Desktop\\Pathlib-Exercise\\in C:\\Users\\biegertm\\OneDrive - Starkey\\Desktop\\Pathlib-Exercise\\out C:\\Users\\biegertm\\OneDrive - Starkey\\Desktop\\Pathlib-Exercise\\in\\input.xlsx C:\\Users\\biegertm\\OneDrive - Starkey\\Desktop\\Pathlib-Exercise\\out\\output.xlsx\n"
     ]
    }
   ],
   "source": [
    "import os\n",
    "\n",
    "in_dir = os.path.join(os.getcwd(), \"in\")\n",
    "out_dir = os.path.join(os.getcwd(), \"out\")\n",
    "in_file = os.path.join(in_dir, \"input.xlsx\")\n",
    "out_file = os.path.join(out_dir, \"output.xlsx\")\n",
    "print(in_dir, out_dir, in_file, out_file)"
   ]
  },
  {
   "cell_type": "code",
   "execution_count": 4,
   "metadata": {},
   "outputs": [
    {
     "name": "stdout",
     "output_type": "stream",
     "text": [
      "C:\\Users\\biegertm\\OneDrive - Starkey\\Desktop\\Pathlib-Exercise\\in\\input.xlsx C:\\Users\\biegertm\\OneDrive - Starkey\\Desktop\\Pathlib-Exercise\\out\\output.xlsx\n"
     ]
    }
   ],
   "source": [
    "import os\n",
    "\n",
    "in_file = os.path.join(os.path.join(os.getcwd(), \"in\"), \"input.xlsx\")\n",
    "out_file = os.path.join(os.path.join(os.getcwd(), \"out\"), \"output.xlsx\")\n",
    "print(in_file, out_file)"
   ]
  },
  {
   "cell_type": "code",
   "execution_count": 6,
   "metadata": {},
   "outputs": [
    {
     "name": "stdout",
     "output_type": "stream",
     "text": [
      "C:\\Users\\biegertm\\OneDrive - Starkey\\Desktop\\Pathlib-Exercise\\in\\input.xlsx C:\\Users\\biegertm\\OneDrive - Starkey\\Desktop\\Pathlib-Exercise\\out\\output.xlsx\n"
     ]
    }
   ],
   "source": [
    "from pathlib import Path\n",
    "\n",
    "in_file_1 = Path.cwd() / \"in\" / \"input.xlsx\"\n",
    "out_file_1 = Path.cwd() / \"out\" / \"output.xlsx\"\n",
    "\n",
    "print(in_file_1,out_file_1)"
   ]
  },
  {
   "cell_type": "code",
   "execution_count": 8,
   "metadata": {},
   "outputs": [
    {
     "name": "stdout",
     "output_type": "stream",
     "text": [
      "C:\\Users\\biegertm\\OneDrive - Starkey\\Desktop\\Pathlib-Exercise\\in\\input.xlsx C:\\Users\\biegertm\\OneDrive - Starkey\\Desktop\\Pathlib-Exercise\\out\\output.xlsx\n"
     ]
    }
   ],
   "source": [
    "in_file_2 = Path.cwd().joinpath(\"in\").joinpath(\"input.xlsx\")\n",
    "out_file_2 = Path.cwd().joinpath(\"out\").joinpath(\"output.xlsx\")\n",
    "print(in_file_2,out_file_2)"
   ]
  },
  {
   "cell_type": "code",
   "execution_count": 9,
   "metadata": {},
   "outputs": [
    {
     "name": "stdout",
     "output_type": "stream",
     "text": [
      "C:\\Users\\biegertm\\OneDrive - Starkey\\Desktop\\Pathlib-Exercise\\in\\input.xlsx\n"
     ]
    }
   ],
   "source": [
    "parts = [\"in\", \"input.xlsx\"]\n",
    "in_file_3 = Path.cwd().joinpath(*parts)\n",
    "print(in_file_3)"
   ]
  },
  {
   "cell_type": "code",
   "execution_count": 15,
   "metadata": {
    "scrolled": true
   },
   "outputs": [
    {
     "name": "stdout",
     "output_type": "stream",
     "text": [
      "C:\\Users\\biegertm\\OneDrive - Starkey\\Desktop\\Toss\n"
     ]
    }
   ],
   "source": [
    "from pathlib import Path\n",
    "\n",
    "dir_to_scan = \"C:\\\\Users\\\\biegertm\\\\OneDrive - Starkey\\\\Desktop\\\\Toss\"\n",
    "p = Path(dir_to_scan)\n",
    "print(p)"
   ]
  },
  {
   "cell_type": "code",
   "execution_count": 16,
   "metadata": {},
   "outputs": [
    {
     "data": {
      "text/plain": [
       "True"
      ]
     },
     "execution_count": 16,
     "metadata": {},
     "output_type": "execute_result"
    }
   ],
   "source": [
    "p.is_dir()"
   ]
  },
  {
   "cell_type": "code",
   "execution_count": 17,
   "metadata": {},
   "outputs": [
    {
     "data": {
      "text/plain": [
       "False"
      ]
     },
     "execution_count": 17,
     "metadata": {},
     "output_type": "execute_result"
    }
   ],
   "source": [
    "p.is_file()"
   ]
  },
  {
   "cell_type": "code",
   "execution_count": 18,
   "metadata": {},
   "outputs": [
    {
     "data": {
      "text/plain": [
       "('C:\\\\', 'Users', 'biegertm', 'OneDrive - Starkey', 'Desktop', 'Toss')"
      ]
     },
     "execution_count": 18,
     "metadata": {},
     "output_type": "execute_result"
    }
   ],
   "source": [
    "p.parts"
   ]
  },
  {
   "cell_type": "code",
   "execution_count": 19,
   "metadata": {},
   "outputs": [
    {
     "data": {
      "text/plain": [
       "WindowsPath('C:/Users/biegertm/OneDrive - Starkey/Desktop/Toss')"
      ]
     },
     "execution_count": 19,
     "metadata": {},
     "output_type": "execute_result"
    }
   ],
   "source": [
    "p.absolute()"
   ]
  },
  {
   "cell_type": "code",
   "execution_count": 20,
   "metadata": {
    "scrolled": true
   },
   "outputs": [
    {
     "data": {
      "text/plain": [
       "'C:\\\\'"
      ]
     },
     "execution_count": 20,
     "metadata": {},
     "output_type": "execute_result"
    }
   ],
   "source": [
    "p.anchor"
   ]
  },
  {
   "cell_type": "code",
   "execution_count": 21,
   "metadata": {
    "scrolled": true
   },
   "outputs": [
    {
     "data": {
      "text/plain": [
       "'file:///C:/Users/biegertm/OneDrive%20-%20Starkey/Desktop/Toss'"
      ]
     },
     "execution_count": 21,
     "metadata": {},
     "output_type": "execute_result"
    }
   ],
   "source": [
    "p.as_uri()"
   ]
  },
  {
   "cell_type": "code",
   "execution_count": 22,
   "metadata": {},
   "outputs": [
    {
     "data": {
      "text/plain": [
       "WindowsPath('C:/Users/biegertm/OneDrive - Starkey/Desktop')"
      ]
     },
     "execution_count": 22,
     "metadata": {},
     "output_type": "execute_result"
    }
   ],
   "source": [
    "p.parent"
   ]
  },
  {
   "cell_type": "code",
   "execution_count": 24,
   "metadata": {},
   "outputs": [],
   "source": [
    "dir_to_scan = \"C:\\\\Users\\\\biegertm\\\\OneDrive - Starkey\\\\Desktop\\\\Pathlib-Exercise\"\n",
    "p = Path(dir_to_scan)"
   ]
  },
  {
   "cell_type": "code",
   "execution_count": 25,
   "metadata": {},
   "outputs": [
    {
     "name": "stdout",
     "output_type": "stream",
     "text": [
      "Folders - [<DirEntry '.ipynb_checkpoints'>, <DirEntry 'in'>, <DirEntry 'out'>]\n",
      "Files - [<DirEntry 'desktop.ini'>, <DirEntry 'PathlibDrill.ipynb'>]\n"
     ]
    }
   ],
   "source": [
    "folders = []\n",
    "files = []\n",
    "\n",
    "for entry in os.scandir(p):\n",
    "    if entry.is_dir():\n",
    "        folders.append(entry)\n",
    "    elif entry.is_file():\n",
    "        files.append(entry)\n",
    "\n",
    "print(\"Folders - {}\".format(folders))\n",
    "print(\"Files - {}\".format(files))"
   ]
  },
  {
   "cell_type": "code",
   "execution_count": 26,
   "metadata": {},
   "outputs": [
    {
     "name": "stdout",
     "output_type": "stream",
     "text": [
      "Found directory: C:\\Users\\biegertm\\OneDrive - Starkey\\Desktop\\Pathlib-Exercise\n",
      "\tdesktop.ini\n",
      "\tPathlibDrill.ipynb\n",
      "Found directory: C:\\Users\\biegertm\\OneDrive - Starkey\\Desktop\\Pathlib-Exercise\\.ipynb_checkpoints\n",
      "\tPathlibDrill-checkpoint.ipynb\n",
      "Found directory: C:\\Users\\biegertm\\OneDrive - Starkey\\Desktop\\Pathlib-Exercise\\in\n",
      "\tinput.xlsx\n",
      "Found directory: C:\\Users\\biegertm\\OneDrive - Starkey\\Desktop\\Pathlib-Exercise\\out\n",
      "\toutput.xlsx\n"
     ]
    }
   ],
   "source": [
    "for dirName, subdirList, fileList in os.walk(p):\n",
    "    print('Found directory: %s' % dirName)\n",
    "    for fname in fileList:\n",
    "        print('\\t%s' % fname)"
   ]
  },
  {
   "cell_type": "code",
   "execution_count": 27,
   "metadata": {},
   "outputs": [
    {
     "name": "stdout",
     "output_type": "stream",
     "text": [
      ".ipynb_checkpoints\n",
      "desktop.ini\n",
      "PathlibDrill.ipynb\n"
     ]
    }
   ],
   "source": [
    "for i in p.glob('*.*'):\n",
    "    print(i.name)"
   ]
  },
  {
   "cell_type": "code",
   "execution_count": 28,
   "metadata": {},
   "outputs": [
    {
     "data": {
      "text/plain": [
       "[WindowsPath('C:/Users/biegertm/OneDrive - Starkey/Desktop/Pathlib-Exercise/in/input.xlsx'),\n",
       " WindowsPath('C:/Users/biegertm/OneDrive - Starkey/Desktop/Pathlib-Exercise/out/output.xlsx')]"
      ]
     },
     "execution_count": 28,
     "metadata": {},
     "output_type": "execute_result"
    }
   ],
   "source": [
    "list(p.rglob('*.xlsx'))"
   ]
  }
 ],
 "metadata": {
  "kernelspec": {
   "display_name": "Python 3",
   "language": "python",
   "name": "python3"
  },
  "language_info": {
   "codemirror_mode": {
    "name": "ipython",
    "version": 3
   },
   "file_extension": ".py",
   "mimetype": "text/x-python",
   "name": "python",
   "nbconvert_exporter": "python",
   "pygments_lexer": "ipython3",
   "version": "3.8.5"
  }
 },
 "nbformat": 4,
 "nbformat_minor": 4
}
