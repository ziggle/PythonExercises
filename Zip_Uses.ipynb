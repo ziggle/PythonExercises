{
 "cells": [
  {
   "cell_type": "markdown",
   "id": "0f0f5588",
   "metadata": {},
   "source": [
    "https://betterprogramming.pub/7-useful-ways-to-use-the-zip-function-in-python-2b936414805e"
   ]
  },
  {
   "cell_type": "code",
   "execution_count": 1,
   "id": "4f1cf21a",
   "metadata": {},
   "outputs": [
    {
     "name": "stdout",
     "output_type": "stream",
     "text": [
      "[(7, 'Cristiano Ronaldo'), (9, 'Gareth Bale'), (10, 'Lionel Messi')]\n"
     ]
    }
   ],
   "source": [
    "player_numbers = [7, 9, 10]\n",
    "player_names = ['Cristiano Ronaldo', 'Gareth Bale', 'Lionel Messi']\n",
    "\n",
    "player_data = zip(player_numbers, player_names)\n",
    "\n",
    "print(list(player_data))"
   ]
  },
  {
   "cell_type": "code",
   "execution_count": 2,
   "id": "76a9034b",
   "metadata": {},
   "outputs": [
    {
     "name": "stdout",
     "output_type": "stream",
     "text": [
      "[(7, 'Cristiano Ronaldo', 'Juventus'), (9, 'Gareth Bale', 'Real Madrid'), (10, 'Lionel Messi', 'FC Barcelona')]\n"
     ]
    }
   ],
   "source": [
    "player_numbers = [7, 9, 10]\n",
    "player_names = ['Cristiano Ronaldo', 'Gareth Bale', 'Lionel Messi']\n",
    "teams = ['Juventus', 'Real Madrid', 'FC Barcelona']\n",
    "\n",
    "player_data = zip(player_numbers, player_names, teams)\n",
    "\n",
    "print(list(player_data))"
   ]
  },
  {
   "cell_type": "code",
   "execution_count": 3,
   "id": "61ec9a83",
   "metadata": {},
   "outputs": [
    {
     "name": "stdout",
     "output_type": "stream",
     "text": [
      "[(7, 'Cristiano Ronaldo'), (9, 'Gareth Bale')]\n"
     ]
    }
   ],
   "source": [
    "player_numbers = [7, 9]\n",
    "player_names = ['Cristiano Ronaldo', 'Gareth Bale', 'Lionel Messi']\n",
    "\n",
    "player_data = zip(player_numbers, player_names)\n",
    "\n",
    "print(list(player_data))"
   ]
  },
  {
   "cell_type": "code",
   "execution_count": 4,
   "id": "b683c918",
   "metadata": {},
   "outputs": [
    {
     "name": "stdout",
     "output_type": "stream",
     "text": [
      "[(7, 'Cristiano Ronaldo'), (9, 'Gareth Bale'), (None, 'Lionel Messi')]\n"
     ]
    }
   ],
   "source": [
    "from itertools import zip_longest\n",
    "\n",
    "player_numbers = [7, 9]\n",
    "player_names = ['Cristiano Ronaldo', 'Gareth Bale', 'Lionel Messi']\n",
    "\n",
    "player_data = zip_longest(player_numbers, player_names)\n",
    "\n",
    "print(list(player_data))"
   ]
  },
  {
   "cell_type": "code",
   "execution_count": 5,
   "id": "6a61014a",
   "metadata": {},
   "outputs": [
    {
     "name": "stdout",
     "output_type": "stream",
     "text": [
      "(7, 9, 10)\n",
      "('Cristiano Ronaldo', 'Gareth Bale', 'Lionel Messi')\n"
     ]
    }
   ],
   "source": [
    "player_data = [(7, 'Cristiano Ronaldo'), (9, 'Gareth Bale'), (10, 'Lionel Messi')]\n",
    "numbers, names = zip(*player_data)\n",
    "\n",
    "print(numbers)\n",
    "print(names)"
   ]
  },
  {
   "cell_type": "code",
   "execution_count": 12,
   "id": "54f5e50b",
   "metadata": {},
   "outputs": [
    {
     "name": "stdout",
     "output_type": "stream",
     "text": [
      "(7, 'Cristiano Ronaldo') (9, 'Gareth Bale') (10, 'Lionel Messi')|"
     ]
    }
   ],
   "source": [
    "print(*player_data,end=\"|\")"
   ]
  },
  {
   "cell_type": "code",
   "execution_count": 16,
   "id": "4178062d",
   "metadata": {},
   "outputs": [
    {
     "data": {
      "text/plain": [
       "[(7, 'Cristiano Ronaldo'), (9, 'Gareth Bale'), (10, 'Lionel Messi')]"
      ]
     },
     "execution_count": 16,
     "metadata": {},
     "output_type": "execute_result"
    }
   ],
   "source": [
    "list([*player_data])"
   ]
  },
  {
   "cell_type": "code",
   "execution_count": 17,
   "id": "2f6a643f",
   "metadata": {},
   "outputs": [],
   "source": [
    "player_numbers = [7, 9, 10]\n",
    "player_names = ['Cristiano Ronaldo', 'Gareth Bale', 'Lionel Messi']\n",
    "\n",
    "# Approach 1\n",
    "player_data = { number: name for number, name in zip(player_numbers, player_names) }\n",
    "# --> {9: 'Gareth Bale', 10: 'Lionel Messi', 7: 'Cristiano Ronaldo'}\n",
    "\n",
    "# Approach 2\n",
    "player_data = dict(zip(player_numbers, player_names))\n",
    "# --> {9: 'Gareth Bale', 10: 'Lionel Messi', 7: 'Cristiano Ronaldo'}"
   ]
  },
  {
   "cell_type": "code",
   "execution_count": 18,
   "id": "6bf52162",
   "metadata": {},
   "outputs": [
    {
     "name": "stdout",
     "output_type": "stream",
     "text": [
      "Cristiano Ronaldo represents Juventus with a number of 7\n",
      "Gareth Bale represents Real Madrid with a number of 9\n",
      "Lionel Messi represents FC Barcelona with a number of 10\n"
     ]
    }
   ],
   "source": [
    "player_numbers = [7, 9, 10]\n",
    "player_names = ['Cristiano Ronaldo', 'Gareth Bale', 'Lionel Messi']\n",
    "teams = ['Juventus', 'Real Madrid', 'FC Barcelona']\n",
    "\n",
    "player_data = zip(player_numbers, player_names, teams)\n",
    "\n",
    "for number, name, team in zip(player_numbers, player_names, teams):\n",
    "    print(f\"{name} represents {team} with a number of {number}\")\n",
    "    \n",
    "    \n",
    "# OUTPUT:\n",
    "# Cristiano Ronaldo represents Juventus with a number of 7\n",
    "# Gareth Bale represents Real Madrid with a number of 9\n",
    "# Lionel Messi represents FC Barcelona with a number of 10"
   ]
  },
  {
   "cell_type": "code",
   "execution_count": 19,
   "id": "5cc93d39",
   "metadata": {},
   "outputs": [
    {
     "name": "stdout",
     "output_type": "stream",
     "text": [
      "[1.4142135623730951, 1.4142135623730951, 3.605551275463989]\n"
     ]
    }
   ],
   "source": [
    "import math\n",
    "\n",
    "def dist(p1, p2):\n",
    "    return math.sqrt( ((p1[0]-p2[0])**2)+((p1[1]-p2[1])**2) )\n",
    "\n",
    "coords = [(0,0), (1,1), (2,2), (5,0)]\n",
    "distances = [dist(p1, p2) for p1, p2 in zip(coords, coords[1:])]\n",
    "\n",
    "print(distances)"
   ]
  },
  {
   "cell_type": "code",
   "execution_count": 20,
   "id": "2633ed1d",
   "metadata": {},
   "outputs": [
    {
     "name": "stdout",
     "output_type": "stream",
     "text": [
      "[1, 4, 7]\n",
      "[2, 5, 8]\n",
      "[3, 6, 9]\n"
     ]
    }
   ],
   "source": [
    "\n",
    "matrix = [\n",
    "    [1, 2, 3],\n",
    "    [4, 5, 6],\n",
    "    [7, 8, 9]\n",
    "]\n",
    "\n",
    "# Compute the transpose with zip()\n",
    "matrix_transpose = [list(i) for i in zip(*matrix)]\n",
    "\n",
    "# Pretty print the result\n",
    "for vec in matrix_transpose:\n",
    "    print(vec)\n",
    "\n",
    "# Output:\n",
    "# [1, 4, 7]\n",
    "# [2, 5, 8]\n",
    "# [3, 6, 9]"
   ]
  }
 ],
 "metadata": {
  "kernelspec": {
   "display_name": "Python 3 (ipykernel)",
   "language": "python",
   "name": "python3"
  },
  "language_info": {
   "codemirror_mode": {
    "name": "ipython",
    "version": 3
   },
   "file_extension": ".py",
   "mimetype": "text/x-python",
   "name": "python",
   "nbconvert_exporter": "python",
   "pygments_lexer": "ipython3",
   "version": "3.9.7"
  }
 },
 "nbformat": 4,
 "nbformat_minor": 5
}
