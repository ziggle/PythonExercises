{
 "cells": [
  {
   "cell_type": "markdown",
   "id": "569f04ef",
   "metadata": {},
   "source": [
    "    Simple Bnomial problem"
   ]
  },
  {
   "cell_type": "code",
   "execution_count": 52,
   "id": "e5321075",
   "metadata": {},
   "outputs": [
    {
     "name": "stdout",
     "output_type": "stream",
     "text": [
      "[[2 1]\n",
      " [8 7]]\n",
      "[[2 1]\n",
      " [8 7]]\n"
     ]
    }
   ],
   "source": [
    "import numpy as np\n",
    "\n",
    "X = np.array([[2, 1], [4, 3], [6, 5], [8, 7]])\n",
    "y = np.array([0, 1, 1, 0])\n",
    "print(X[y == 0, :])\n",
    "print(X[y == 0])\n"
   ]
  },
  {
   "cell_type": "code",
   "execution_count": 53,
   "id": "57f15a0f",
   "metadata": {},
   "outputs": [
    {
     "data": {
      "text/plain": [
       "array([[2, 1],\n",
       "       [8, 7]])"
      ]
     },
     "execution_count": 53,
     "metadata": {},
     "output_type": "execute_result"
    }
   ],
   "source": [
    "X[y==0]"
   ]
  },
  {
   "cell_type": "code",
   "execution_count": null,
   "id": "faa3d3a9",
   "metadata": {},
   "outputs": [],
   "source": []
  }
 ],
 "metadata": {
  "kernelspec": {
   "display_name": "Python 3 (ipykernel)",
   "language": "python",
   "name": "python3"
  },
  "language_info": {
   "codemirror_mode": {
    "name": "ipython",
    "version": 3
   },
   "file_extension": ".py",
   "mimetype": "text/x-python",
   "name": "python",
   "nbconvert_exporter": "python",
   "pygments_lexer": "ipython3",
   "version": "3.10.9"
  }
 },
 "nbformat": 4,
 "nbformat_minor": 5
}
