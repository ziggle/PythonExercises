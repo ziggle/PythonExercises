{
 "cells": [
  {
   "cell_type": "markdown",
   "id": "a991bda9",
   "metadata": {},
   "source": [
    "https://towardsdatascience.com/how-to-use-cumsum-to-solve-python-optimization-questions-ab73f617a347"
   ]
  },
  {
   "cell_type": "code",
   "execution_count": 41,
   "id": "df8e1b90",
   "metadata": {},
   "outputs": [
    {
     "name": "stdout",
     "output_type": "stream",
     "text": [
      "   0\n",
      "0  0\n",
      "1  1\n",
      "2  2\n",
      "3  3\n",
      "4  4\n",
      "5  5\n",
      "6  6\n",
      "7  7\n",
      "8  8\n",
      "9  9\n",
      "<class 'pandas.core.frame.DataFrame'>\n"
     ]
    }
   ],
   "source": [
    "import pandas as pd\n",
    "numbers = pd.DataFrame(range(10))\n",
    "print(numbers)\n",
    "print(type(numbers))"
   ]
  },
  {
   "cell_type": "code",
   "execution_count": 42,
   "id": "5bf2bbee",
   "metadata": {},
   "outputs": [
    {
     "name": "stdout",
     "output_type": "stream",
     "text": [
      "   0  Cumulative Sum\n",
      "0  0               0\n",
      "1  1               1\n",
      "2  2               3\n",
      "3  3               6\n",
      "4  4              10\n",
      "5  5              15\n",
      "6  6              21\n",
      "7  7              28\n",
      "8  8              36\n",
      "9  9              45\n"
     ]
    }
   ],
   "source": [
    "numbers['Cumulative Sum'] = numbers.cumsum()\n",
    "print(numbers)"
   ]
  },
  {
   "cell_type": "code",
   "execution_count": 43,
   "id": "6c53f02d",
   "metadata": {},
   "outputs": [
    {
     "data": {
      "text/html": [
       "<div>\n",
       "<style scoped>\n",
       "    .dataframe tbody tr th:only-of-type {\n",
       "        vertical-align: middle;\n",
       "    }\n",
       "\n",
       "    .dataframe tbody tr th {\n",
       "        vertical-align: top;\n",
       "    }\n",
       "\n",
       "    .dataframe thead th {\n",
       "        text-align: right;\n",
       "    }\n",
       "</style>\n",
       "<table border=\"1\" class=\"dataframe\">\n",
       "  <thead>\n",
       "    <tr style=\"text-align: right;\">\n",
       "      <th></th>\n",
       "      <th>0</th>\n",
       "      <th>Cumulative Sum</th>\n",
       "      <th>reversed</th>\n",
       "      <th>Cumulative Sum 2</th>\n",
       "    </tr>\n",
       "  </thead>\n",
       "  <tbody>\n",
       "    <tr>\n",
       "      <th>0</th>\n",
       "      <td>0</td>\n",
       "      <td>0</td>\n",
       "      <td>9</td>\n",
       "      <td>9</td>\n",
       "    </tr>\n",
       "    <tr>\n",
       "      <th>1</th>\n",
       "      <td>1</td>\n",
       "      <td>1</td>\n",
       "      <td>8</td>\n",
       "      <td>17</td>\n",
       "    </tr>\n",
       "    <tr>\n",
       "      <th>2</th>\n",
       "      <td>2</td>\n",
       "      <td>3</td>\n",
       "      <td>7</td>\n",
       "      <td>24</td>\n",
       "    </tr>\n",
       "    <tr>\n",
       "      <th>3</th>\n",
       "      <td>3</td>\n",
       "      <td>6</td>\n",
       "      <td>6</td>\n",
       "      <td>30</td>\n",
       "    </tr>\n",
       "    <tr>\n",
       "      <th>4</th>\n",
       "      <td>4</td>\n",
       "      <td>10</td>\n",
       "      <td>5</td>\n",
       "      <td>35</td>\n",
       "    </tr>\n",
       "    <tr>\n",
       "      <th>5</th>\n",
       "      <td>5</td>\n",
       "      <td>15</td>\n",
       "      <td>4</td>\n",
       "      <td>39</td>\n",
       "    </tr>\n",
       "    <tr>\n",
       "      <th>6</th>\n",
       "      <td>6</td>\n",
       "      <td>21</td>\n",
       "      <td>3</td>\n",
       "      <td>42</td>\n",
       "    </tr>\n",
       "    <tr>\n",
       "      <th>7</th>\n",
       "      <td>7</td>\n",
       "      <td>28</td>\n",
       "      <td>2</td>\n",
       "      <td>44</td>\n",
       "    </tr>\n",
       "    <tr>\n",
       "      <th>8</th>\n",
       "      <td>8</td>\n",
       "      <td>36</td>\n",
       "      <td>1</td>\n",
       "      <td>45</td>\n",
       "    </tr>\n",
       "    <tr>\n",
       "      <th>9</th>\n",
       "      <td>9</td>\n",
       "      <td>45</td>\n",
       "      <td>0</td>\n",
       "      <td>45</td>\n",
       "    </tr>\n",
       "  </tbody>\n",
       "</table>\n",
       "</div>"
      ],
      "text/plain": [
       "   0  Cumulative Sum  reversed  Cumulative Sum 2\n",
       "0  0               0         9                 9\n",
       "1  1               1         8                17\n",
       "2  2               3         7                24\n",
       "3  3               6         6                30\n",
       "4  4              10         5                35\n",
       "5  5              15         4                39\n",
       "6  6              21         3                42\n",
       "7  7              28         2                44\n",
       "8  8              36         1                45\n",
       "9  9              45         0                45"
      ]
     },
     "execution_count": 43,
     "metadata": {},
     "output_type": "execute_result"
    }
   ],
   "source": [
    "\n",
    "numbers = pd.DataFrame(range(10))\n",
    "numbers['Cumulative Sum'] = numbers.cumsum()\n",
    "numbers['reversed'] = list(reversed(range(10)))\n",
    "numbers['Cumulative Sum 2'] = numbers['reversed'].cumsum()\n",
    "numbers"
   ]
  },
  {
   "cell_type": "code",
   "execution_count": 44,
   "id": "02af3cea",
   "metadata": {},
   "outputs": [
    {
     "data": {
      "text/html": [
       "<div>\n",
       "<style scoped>\n",
       "    .dataframe tbody tr th:only-of-type {\n",
       "        vertical-align: middle;\n",
       "    }\n",
       "\n",
       "    .dataframe tbody tr th {\n",
       "        vertical-align: top;\n",
       "    }\n",
       "\n",
       "    .dataframe thead th {\n",
       "        text-align: right;\n",
       "    }\n",
       "</style>\n",
       "<table border=\"1\" class=\"dataframe\">\n",
       "  <thead>\n",
       "    <tr style=\"text-align: right;\">\n",
       "      <th></th>\n",
       "      <th>0</th>\n",
       "      <th>Cumulative Sum</th>\n",
       "    </tr>\n",
       "  </thead>\n",
       "  <tbody>\n",
       "    <tr>\n",
       "      <th>0</th>\n",
       "      <td>2</td>\n",
       "      <td>2</td>\n",
       "    </tr>\n",
       "    <tr>\n",
       "      <th>1</th>\n",
       "      <td>3</td>\n",
       "      <td>5</td>\n",
       "    </tr>\n",
       "    <tr>\n",
       "      <th>2</th>\n",
       "      <td>-5</td>\n",
       "      <td>0</td>\n",
       "    </tr>\n",
       "    <tr>\n",
       "      <th>3</th>\n",
       "      <td>3</td>\n",
       "      <td>3</td>\n",
       "    </tr>\n",
       "    <tr>\n",
       "      <th>4</th>\n",
       "      <td>-8</td>\n",
       "      <td>-5</td>\n",
       "    </tr>\n",
       "    <tr>\n",
       "      <th>5</th>\n",
       "      <td>-2</td>\n",
       "      <td>-7</td>\n",
       "    </tr>\n",
       "    <tr>\n",
       "      <th>6</th>\n",
       "      <td>7</td>\n",
       "      <td>0</td>\n",
       "    </tr>\n",
       "  </tbody>\n",
       "</table>\n",
       "</div>"
      ],
      "text/plain": [
       "   0  Cumulative Sum\n",
       "0  2               2\n",
       "1  3               5\n",
       "2 -5               0\n",
       "3  3               3\n",
       "4 -8              -5\n",
       "5 -2              -7\n",
       "6  7               0"
      ]
     },
     "execution_count": 44,
     "metadata": {},
     "output_type": "execute_result"
    }
   ],
   "source": [
    "numbers = pd.DataFrame([2,3,-5,3,-8,-2,7])\n",
    "numbers['Cumulative Sum'] = numbers.cumsum()\n",
    "numbers"
   ]
  },
  {
   "cell_type": "code",
   "execution_count": 45,
   "id": "4ce5aa6f",
   "metadata": {},
   "outputs": [
    {
     "name": "stdout",
     "output_type": "stream",
     "text": [
      "   time\n",
      "0     1\n",
      "   time\n",
      "0    -1\n"
     ]
    }
   ],
   "source": [
    "train_arrivals=pd.DataFrame({'time':[1]})\n",
    "train_departures=pd.DataFrame({'time':[-1]})\n",
    "#train_arrivals['mark'] = 1\n",
    "#train_departures['mark'] = -1\n",
    "\n",
    "print(train_arrivals)\n",
    "print(train_departures)"
   ]
  },
  {
   "cell_type": "code",
   "execution_count": 46,
   "id": "d8f740b1",
   "metadata": {},
   "outputs": [
    {
     "name": "stdout",
     "output_type": "stream",
     "text": [
      "   time\n",
      "0     1\n",
      "   time\n",
      "0    -1\n"
     ]
    }
   ],
   "source": [
    "train_arrivals = train_arrivals.rename(columns={ 'arrival_time' : 'time' }) \n",
    "train_departures = train_departures.rename(columns={ 'departure_time' : 'time' })\n",
    "print(train_arrivals)\n",
    "print(train_departures)"
   ]
  },
  {
   "cell_type": "code",
   "execution_count": 47,
   "id": "fa509db1",
   "metadata": {},
   "outputs": [
    {
     "name": "stdout",
     "output_type": "stream",
     "text": [
      "   time  mark\n",
      "0     1     1\n",
      "0    -1    -1\n"
     ]
    }
   ],
   "source": [
    "# Mark arrivals with 1s\n",
    "train_arrivals['mark'] = 1\n",
    "# Mark departures with -1s\n",
    "train_departures['mark'] = -1\n",
    "\n",
    "# Match column names in both DataFrames\n",
    "train_arrivals = train_arrivals.rename(columns={'arrival_time': 'time'})\n",
    "train_departures = train_departures.rename(columns={'departure_time': 'time'})\n",
    "\n",
    "# Append one table to another\n",
    "timetable = train_arrivals.append(train_departures)\n",
    "print(timetable)"
   ]
  },
  {
   "cell_type": "code",
   "execution_count": 48,
   "id": "8162e544",
   "metadata": {},
   "outputs": [
    {
     "name": "stdout",
     "output_type": "stream",
     "text": [
      "   time  mark\n",
      "0    -1    -1\n",
      "0     1     1\n"
     ]
    }
   ],
   "source": [
    "timetable = timetable.sort_values(by='time', ascending=True)\n",
    "print(timetable)"
   ]
  },
  {
   "cell_type": "code",
   "execution_count": 49,
   "id": "5906e5af",
   "metadata": {},
   "outputs": [
    {
     "name": "stdout",
     "output_type": "stream",
     "text": [
      "   time  mark  n_trains\n",
      "0    -1    -1        -1\n",
      "0     1     1         0\n"
     ]
    }
   ],
   "source": [
    "timetable['n_trains'] = timetable['mark'].cumsum() \n",
    "print(timetable)"
   ]
  },
  {
   "cell_type": "code",
   "execution_count": 59,
   "id": "dc1ae3f5",
   "metadata": {},
   "outputs": [
    {
     "name": "stdout",
     "output_type": "stream",
     "text": [
      "   train_id         arrival_time\n",
      "0         1  2023-03-17 08:00:00\n",
      "1         2  2023-03-17 08:05:00\n",
      "2         3  2023-03-17 08:05:00\n",
      "3         4  2023-03-17 08:10:00\n",
      "4         5  2023-03-17 08:10:00\n",
      "5         6  2023-03-17 08:15:00\n",
      "6         7  2023-03-17 08:20:00\n",
      "7         8  2023-03-17 08:25:00\n",
      "<class 'pandas.core.frame.DataFrame'>\n",
      "RangeIndex: 8 entries, 0 to 7\n",
      "Data columns (total 2 columns):\n",
      " #   Column        Non-Null Count  Dtype         \n",
      "---  ------        --------------  -----         \n",
      " 0   train_id      8 non-null      int64         \n",
      " 1   arrival_time  8 non-null      datetime64[ns]\n",
      "dtypes: datetime64[ns](1), int64(1)\n",
      "memory usage: 256.0 bytes\n",
      "None\n",
      "<class 'pandas.core.frame.DataFrame'>\n",
      "RangeIndex: 5 entries, 0 to 4\n",
      "Data columns (total 2 columns):\n",
      " #   Column          Non-Null Count  Dtype         \n",
      "---  ------          --------------  -----         \n",
      " 0   train_id        5 non-null      int64         \n",
      " 1   departure_time  5 non-null      datetime64[ns]\n",
      "dtypes: datetime64[ns](1), int64(1)\n",
      "memory usage: 208.0 bytes\n",
      "None\n",
      "   train_id        arrival_time\n",
      "0         1 2023-03-17 08:00:00\n",
      "1         2 2023-03-17 08:05:00\n",
      "2         3 2023-03-17 08:05:00\n",
      "3         4 2023-03-17 08:10:00\n",
      "4         5 2023-03-17 08:10:00\n",
      "5         6 2023-03-17 08:15:00\n",
      "6         7 2023-03-17 08:20:00\n",
      "7         8 2023-03-17 08:25:00\n",
      "   train_id      departure_time\n",
      "0         2 2023-03-17 08:10:00\n",
      "1         1 2023-03-17 08:15:00\n",
      "2         5 2023-03-17 08:20:00\n",
      "3         3 2023-03-17 08:20:00\n",
      "4         4 2023-03-17 08:25:00\n"
     ]
    }
   ],
   "source": [
    "train_arrivals=pd.DataFrame(\n",
    "    {'train_id':[1,2,3,4,5,6,7,8],\n",
    "     'arrival_time':['2023-03-17 08:00:00','2023-03-17 08:05:00','2023-03-17 08:05:00','2023-03-17 08:10:00','2023-03-17 08:10:00',\n",
    "                    '2023-03-17 08:15:00','2023-03-17 08:20:00','2023-03-17 08:25:00']}\n",
    ")\n",
    "print(train_arrivals)\n",
    "train_departures=pd.DataFrame(\n",
    "    {'train_id':[2,1,5,3,4],\n",
    "     'departure_time':['2023-03-17 08:10:00','2023-03-17 08:15:00','2023-03-17 08:20:00','2023-03-17 08:20:00','2023-03-17 08:25:00']}\n",
    ")\n",
    "train_arrivals.arrival_time=pd.to_datetime(train_arrivals.arrival_time,infer_datetime_format=True)\n",
    "train_departures.departure_time=pd.to_datetime(train_departures.departure_time,infer_datetime_format=True)\n",
    "print(train_arrivals.info())\n",
    "print(train_departures.info())\n",
    "print(train_arrivals)\n",
    "print(train_departures)"
   ]
  },
  {
   "cell_type": "code",
   "execution_count": 69,
   "id": "2607d973",
   "metadata": {},
   "outputs": [
    {
     "name": "stdout",
     "output_type": "stream",
     "text": [
      "check\n",
      "   train_id                time  mark\n",
      "0         1 2023-03-17 08:00:00     1\n",
      "1         2 2023-03-17 08:05:00     1\n",
      "2         3 2023-03-17 08:05:00     1\n",
      "3         4 2023-03-17 08:10:00     1\n",
      "4         5 2023-03-17 08:10:00     1\n",
      "0         2 2023-03-17 08:10:00    -1\n",
      "5         6 2023-03-17 08:15:00     1\n",
      "1         1 2023-03-17 08:15:00    -1\n",
      "6         7 2023-03-17 08:20:00     1\n",
      "2         5 2023-03-17 08:20:00    -1\n",
      "3         3 2023-03-17 08:20:00    -1\n",
      "7         8 2023-03-17 08:25:00     1\n",
      "4         4 2023-03-17 08:25:00    -1\n",
      "   train_id                time  mark  n_trains\n",
      "0         1 2023-03-17 08:00:00     1         1\n",
      "1         2 2023-03-17 08:05:00     1         2\n",
      "2         3 2023-03-17 08:05:00     1         3\n",
      "3         4 2023-03-17 08:10:00     1         4\n",
      "4         5 2023-03-17 08:10:00     1         5\n",
      "0         2 2023-03-17 08:10:00    -1         4\n",
      "5         6 2023-03-17 08:15:00     1         5\n",
      "1         1 2023-03-17 08:15:00    -1         4\n",
      "6         7 2023-03-17 08:20:00     1         5\n",
      "2         5 2023-03-17 08:20:00    -1         4\n",
      "3         3 2023-03-17 08:20:00    -1         3\n",
      "7         8 2023-03-17 08:25:00     1         4\n",
      "4         4 2023-03-17 08:25:00    -1         3\n",
      "Maximum number of trains in station: 5\n"
     ]
    }
   ],
   "source": [
    "# Mark arrivals with 1s\n",
    "train_arrivals['mark'] = 1\n",
    "# Mark departures with -1s\n",
    "train_departures['mark'] = -1\n",
    "\n",
    "# Match column names in both DataFrames\n",
    "train_arrivals = train_arrivals.rename(columns={'arrival_time': 'time'})\n",
    "train_departures = train_departures.rename(columns={'departure_time': 'time'})\n",
    "\n",
    "# Append one table to another\n",
    "timetable = train_arrivals.append(train_departures)\n",
    "\n",
    "# Sort the events chronologically\n",
    "timetable = timetable.sort_values(by='time', ascending=True)\n",
    "print(\"check\")\n",
    "print(timetable)\n",
    "\n",
    "# Calculate cumulative sum from 1 and -1 values\n",
    "timetable['n_trains'] = timetable['mark'].cumsum()\n",
    "\n",
    "# Select maximum value from cumulative sum\n",
    "result = max(timetable['n_trains'])\n",
    "print(timetable)\n",
    "print(f'Maximum number of trains in station: {result}')"
   ]
  },
  {
   "cell_type": "code",
   "execution_count": null,
   "id": "99a3c59f",
   "metadata": {},
   "outputs": [],
   "source": []
  }
 ],
 "metadata": {
  "kernelspec": {
   "display_name": "Python 3 (ipykernel)",
   "language": "python",
   "name": "python3"
  },
  "language_info": {
   "codemirror_mode": {
    "name": "ipython",
    "version": 3
   },
   "file_extension": ".py",
   "mimetype": "text/x-python",
   "name": "python",
   "nbconvert_exporter": "python",
   "pygments_lexer": "ipython3",
   "version": "3.9.7"
  }
 },
 "nbformat": 4,
 "nbformat_minor": 5
}
