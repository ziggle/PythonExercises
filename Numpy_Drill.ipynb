{
 "cells": [
  {
   "cell_type": "markdown",
   "metadata": {},
   "source": [
    "https://pub.towardsai.net/20-most-elegant-numpy-tricks-i-found-after-3-years-of-use-7620bbcc05b9"
   ]
  },
  {
   "cell_type": "code",
   "execution_count": 7,
   "metadata": {},
   "outputs": [
    {
     "data": {
      "text/plain": [
       "array([[3.1415927, 3.1415927, 3.1415927, 3.1415927],\n",
       "       [3.1415927, 3.1415927, 3.1415927, 3.1415927],\n",
       "       [3.1415927, 3.1415927, 3.1415927, 3.1415927]], dtype=float32)"
      ]
     },
     "execution_count": 7,
     "metadata": {},
     "output_type": "execute_result"
    }
   ],
   "source": [
    "import numpy as np\n",
    "array = np.array([[1, 4, 6, 8], [9, 4, 4, 4], [2, 7, 2, 3]])\n",
    "\n",
    "array_w_inf = np.full_like(array, fill_value=np.pi, dtype=np.single)\n",
    "\n",
    "array_w_inf\n",
    "\n",
    "#array([[3.1415927, 3.1415927, 3.1415927, 3.1415927],\n",
    "#       [3.1415927, 3.1415927, 3.1415927, 3.1415927],\n",
    "#       [3.1415927, 3.1415927, 3.1415927, 3.1415927]], dtype=np.single)"
   ]
  },
  {
   "attachments": {
    "image.png": {
     "image/png": "[encoded data removed]"
    }
   },
   "cell_type": "markdown",
   "metadata": {},
   "source": [
    "![image.png](attachment:image.png)"
   ]
  },
  {
   "cell_type": "code",
   "execution_count": 9,
   "metadata": {},
   "outputs": [
    {
     "name": "stdout",
     "output_type": "stream",
     "text": [
      "[2.71828183e+00 3.20167238e+03 3.77102401e+06 4.44162312e+09\n",
      " 5.23147450e+12 6.16178472e+15 7.25753148e+18 8.54813429e+21\n",
      " 1.00682443e+25 1.18586746e+28 1.39674961e+31 1.64513282e+34\n",
      " 1.93768588e+37 2.28226349e+40 2.68811714e+43]\n"
     ]
    },
    {
     "data": {
      "text/plain": [
       "'array([2.71828183e+00, 3.20167238e+03, 3.77102401e+06, 4.44162312e+09,\\n       5.23147450e+12, 6.16178472e+15, 7.25753148e+18, 8.54813429e+21,\\n       1.00682443e+25, 1.18586746e+28, 1.39674961e+31, 1.64513282e+34,\\n       1.93768588e+37, 2.28226349e+40, 2.68811714e+43])\\n'"
      ]
     },
     "execution_count": 9,
     "metadata": {},
     "output_type": "execute_result"
    }
   ],
   "source": [
    "log_array = np.logspace(start=1, stop=100, num=15, base=np.e)\n",
    "\n",
    "print(log_array)\n",
    "\"\"\"array([2.71828183e+00, 3.20167238e+03, 3.77102401e+06, 4.44162312e+09,\n",
    "       5.23147450e+12, 6.16178472e+15, 7.25753148e+18, 8.54813429e+21,\n",
    "       1.00682443e+25, 1.18586746e+28, 1.39674961e+31, 1.64513282e+34,\n",
    "       1.93768588e+37, 2.28226349e+40, 2.68811714e+43])\n",
    "\"\"\""
   ]
  },
  {
   "cell_type": "code",
   "execution_count": 14,
   "metadata": {},
   "outputs": [
    {
     "name": "stdout",
     "output_type": "stream",
     "text": [
      "[[1 2 3 4]\n",
      " [1 2 3 4]\n",
      " [1 2 3 4]\n",
      " [1 2 3 4]]\n",
      "[[3 3 3 3]\n",
      " [5 5 5 5]\n",
      " [6 6 6 6]\n",
      " [8 8 8 8]]\n"
     ]
    },
    {
     "data": {
      "text/plain": [
       "[<matplotlib.lines.Line2D at 0x2381aad6430>,\n",
       " <matplotlib.lines.Line2D at 0x2381aad64c0>,\n",
       " <matplotlib.lines.Line2D at 0x2381aad65b0>,\n",
       " <matplotlib.lines.Line2D at 0x2381aad66a0>]"
      ]
     },
     "execution_count": 14,
     "metadata": {},
     "output_type": "execute_result"
    },
    {
     "data": {
      "image/png": "[encoded data removed]",
      "text/plain": [
       "<Figure size 432x288 with 1 Axes>"
      ]
     },
     "metadata": {
      "needs_background": "light"
     },
     "output_type": "display_data"
    }
   ],
   "source": [
    "# https://stackoverflow.com/questions/36013063/what-is-the-purpose-of-meshgrid-in-python-numpy\n",
    "x = [1, 2, 3, 4]\n",
    "y = [3, 5, 6, 8]\n",
    "\n",
    "xx, yy = np.meshgrid(x, y)\n",
    "\n",
    "print(xx)\n",
    "\"\"\"\n",
    "array([[1, 2, 3, 4],\n",
    "       [1, 2, 3, 4],\n",
    "       [1, 2, 3, 4],\n",
    "       [1, 2, 3, 4]])\n",
    "\"\"\"\n",
    "print(yy)\n",
    "\"\"\"\n",
    "array([[3, 3, 3, 3],\n",
    "       [5, 5, 5, 5],\n",
    "       [6, 6, 6, 6],\n",
    "       [8, 8, 8, 8]])\n",
    "\"\"\"\n",
    "import matplotlib.pyplot as plt\n",
    "plt.plot(xx, yy, marker='.', color='k', linestyle='none')"
   ]
  },
  {
   "cell_type": "code",
   "execution_count": 13,
   "metadata": {},
   "outputs": [
    {
     "data": {
      "text/plain": [
       "[<matplotlib.lines.Line2D at 0x238189ae820>,\n",
       " <matplotlib.lines.Line2D at 0x238189ae8e0>,\n",
       " <matplotlib.lines.Line2D at 0x238189ae9d0>,\n",
       " <matplotlib.lines.Line2D at 0x238189aeac0>,\n",
       " <matplotlib.lines.Line2D at 0x238189aebb0>]"
      ]
     },
     "execution_count": 13,
     "metadata": {},
     "output_type": "execute_result"
    },
    {
     "data": {
      "image/png": "[encoded data removed]",
      "text/plain": [
       "<Figure size 432x288 with 1 Axes>"
      ]
     },
     "metadata": {
      "needs_background": "light"
     },
     "output_type": "display_data"
    }
   ],
   "source": [
    "import matplotlib.pyplot as plt\n",
    "xvalues = np.array([0, 1, 2, 3, 4]);\n",
    "yvalues = np.array([0, 1, 2, 3, 4]);\n",
    "xx, yy = np.meshgrid(xvalues, yvalues)\n",
    "plt.plot(xx, yy, marker='.', color='k', linestyle='none')"
   ]
  },
  {
   "cell_type": "code",
   "execution_count": null,
   "metadata": {},
   "outputs": [],
   "source": []
  }
 ],
 "metadata": {
  "kernelspec": {
   "display_name": "Python 3",
   "language": "python",
   "name": "python3"
  },
  "language_info": {
   "codemirror_mode": {
    "name": "ipython",
    "version": 3
   },
   "file_extension": ".py",
   "mimetype": "text/x-python",
   "name": "python",
   "nbconvert_exporter": "python",
   "pygments_lexer": "ipython3",
   "version": "3.8.5"
  }
 },
 "nbformat": 4,
 "nbformat_minor": 4
}
