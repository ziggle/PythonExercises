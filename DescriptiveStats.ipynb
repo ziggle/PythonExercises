{
 "cells": [
  {
   "attachments": {},
   "cell_type": "markdown",
   "metadata": {},
   "source": [
    "https://medium.com/@gozdebarin/5-key-measures-of-descriptive-statistics-every-data-scientist-and-analyst-should-know-9ca6051f74ef"
   ]
  },
  {
   "cell_type": "code",
   "execution_count": 1,
   "metadata": {},
   "outputs": [
    {
     "name": "stdout",
     "output_type": "stream",
     "text": [
      "85\n",
      "85\n"
     ]
    }
   ],
   "source": [
    "# Using the statistics module\n",
    "\n",
    "import statistics\n",
    "\n",
    "data = [75, 80, 85, 90, 95]\n",
    "mean = statistics.mean(data)\n",
    "print(mean)# Using the statistics module\n",
    "\n",
    "import statistics\n",
    "\n",
    "data = [75, 80, 85, 90, 95]\n",
    "mean = statistics.mean(data)\n",
    "print(mean)"
   ]
  },
  {
   "cell_type": "code",
   "execution_count": 2,
   "metadata": {},
   "outputs": [
    {
     "name": "stdout",
     "output_type": "stream",
     "text": [
      "85.0\n",
      "85.0\n"
     ]
    }
   ],
   "source": [
    "# Using the numpy library\n",
    "\n",
    "import numpy as np\n",
    "\n",
    "data = [75, 80, 85, 90, 95]\n",
    "mean = np.mean(data)\n",
    "print(mean)# Using the numpy library\n",
    "\n",
    "import numpy as np\n",
    "\n",
    "data = [75, 80, 85, 90, 95]\n",
    "mean = np.mean(data)\n",
    "print(mean)"
   ]
  },
  {
   "cell_type": "code",
   "execution_count": 3,
   "metadata": {},
   "outputs": [
    {
     "name": "stdout",
     "output_type": "stream",
     "text": [
      "85.0\n",
      "85.0\n"
     ]
    }
   ],
   "source": [
    "# Without using any libraries\n",
    "\n",
    "data = [75, 80, 85, 90, 95]\n",
    "mean = sum(data) / len(data)\n",
    "print(mean)\n",
    "# Without using any libraries\n",
    "\n",
    "data = [75, 80, 85, 90, 95]\n",
    "mean = sum(data) / len(data)\n",
    "print(mean)\n"
   ]
  },
  {
   "cell_type": "code",
   "execution_count": 4,
   "metadata": {},
   "outputs": [
    {
     "name": "stdout",
     "output_type": "stream",
     "text": [
      "Median: 5\n",
      "Median: 5\n"
     ]
    }
   ],
   "source": [
    "# Using the statistics module\n",
    "\n",
    "import statistics\n",
    "\n",
    "data = [5, 2, 8, 3, 9, 4, 1, 7, 6]\n",
    "median = statistics.median(data)\n",
    "print(\"Median:\", median)# Using the statistics module\n",
    "\n",
    "import statistics\n",
    "\n",
    "data = [5, 2, 8, 3, 9, 4, 1, 7, 6]\n",
    "median = statistics.median(data)\n",
    "print(\"Median:\", median)"
   ]
  },
  {
   "cell_type": "code",
   "execution_count": 5,
   "metadata": {},
   "outputs": [
    {
     "name": "stdout",
     "output_type": "stream",
     "text": [
      "Median: 5.0\n",
      "Median: 5.0\n"
     ]
    }
   ],
   "source": [
    "# Using the numpy library\n",
    "\n",
    "import numpy as np\n",
    "\n",
    "data = np.array([5, 2, 8, 3, 9, 4, 1, 7, 6])\n",
    "median = np.median(data)\n",
    "print(\"Median:\", median)# Using the numpy library\n",
    "\n",
    "import numpy as np\n",
    "\n",
    "data = np.array([5, 2, 8, 3, 9, 4, 1, 7, 6])\n",
    "median = np.median(data)\n",
    "print(\"Median:\", median)"
   ]
  },
  {
   "cell_type": "code",
   "execution_count": 6,
   "metadata": {},
   "outputs": [
    {
     "name": "stdout",
     "output_type": "stream",
     "text": [
      "Standard Deviation: 1.5811388300841898\n",
      "Standard Deviation: 1.5811388300841898\n"
     ]
    }
   ],
   "source": [
    "# Using the statistics module\n",
    "\n",
    "import statistics\n",
    "\n",
    "data = [1, 2, 3, 4, 5]\n",
    "\n",
    "std_dev = statistics.stdev(data)\n",
    "print(\"Standard Deviation:\", std_dev)# Using the statistics module\n",
    "\n",
    "import statistics\n",
    "\n",
    "data = [1, 2, 3, 4, 5]\n",
    "\n",
    "std_dev = statistics.stdev(data)\n",
    "print(\"Standard Deviation:\", std_dev)"
   ]
  },
  {
   "cell_type": "code",
   "execution_count": 7,
   "metadata": {},
   "outputs": [
    {
     "name": "stdout",
     "output_type": "stream",
     "text": [
      "Standard Deviation: 1.4142135623730951\n",
      "Standard Deviation: 1.4142135623730951\n"
     ]
    }
   ],
   "source": [
    "# Using the numpy library\n",
    "\n",
    "import numpy as np\n",
    "\n",
    "data = [1, 2, 3, 4, 5]\n",
    "\n",
    "std_dev = np.std(data)\n",
    "print(\"Standard Deviation:\", std_dev)# Using the numpy library\n",
    "\n",
    "import numpy as np\n",
    "\n",
    "data = [1, 2, 3, 4, 5]\n",
    "\n",
    "std_dev = np.std(data)\n",
    "print(\"Standard Deviation:\", std_dev)"
   ]
  },
  {
   "cell_type": "code",
   "execution_count": 8,
   "metadata": {},
   "outputs": [
    {
     "name": "stdout",
     "output_type": "stream",
     "text": [
      "Standard Deviation: 1.5811388300841898\n",
      "Standard Deviation: 1.5811388300841898\n"
     ]
    }
   ],
   "source": [
    "# Using the pandas library\n",
    "\n",
    "import pandas as pd\n",
    "\n",
    "data = [1, 2, 3, 4, 5]\n",
    "df = pd.DataFrame(data)\n",
    "\n",
    "std_dev = df.std().values[0]\n",
    "print(\"Standard Deviation:\", std_dev)# Using the pandas library\n",
    "\n",
    "import pandas as pd\n",
    "\n",
    "data = [1, 2, 3, 4, 5]\n",
    "df = pd.DataFrame(data)\n",
    "\n",
    "std_dev = df.std().values[0]\n",
    "print(\"Standard Deviation:\", std_dev)"
   ]
  },
  {
   "cell_type": "code",
   "execution_count": 9,
   "metadata": {},
   "outputs": [
    {
     "name": "stdout",
     "output_type": "stream",
     "text": [
      "Median: 30.0\n",
      "25th Percentile: 20.0\n",
      "75th Percentile: 40.0\n"
     ]
    }
   ],
   "source": [
    "import numpy as np\n",
    "\n",
    "# Example dataset\n",
    "data = np.array([10, 15, 20, 25, 30, 35, 40, 45, 50])\n",
    "\n",
    "# Calculating the 50th percentile (median)\n",
    "median = np.percentile(data, 50)\n",
    "print(\"Median:\", median)\n",
    "\n",
    "# Calculating the 25th percentile\n",
    "percentile_25 = np.percentile(data, 25)\n",
    "print(\"25th Percentile:\", percentile_25)\n",
    "\n",
    "# Calculating the 75th percentile\n",
    "percentile_75 = np.percentile(data, 75)\n",
    "print(\"75th Percentile:\", percentile_75)"
   ]
  },
  {
   "cell_type": "code",
   "execution_count": 13,
   "metadata": {},
   "outputs": [
    {
     "name": "stdout",
     "output_type": "stream",
     "text": [
      "Skewness: 0.0\n",
      "Kurtosis: -1.2299999999999998\n"
     ]
    },
    {
     "ename": "",
     "evalue": "",
     "output_type": "error",
     "traceback": [
      "\u001b[1;31mThe Kernel crashed while executing code in the the current cell or a previous cell. Please review the code in the cell(s) to identify a possible cause of the failure. Click <a href='https://aka.ms/vscodeJupyterKernelCrash'>here</a> for more info. View Jupyter <a href='command:jupyter.viewOutput'>log</a> for further details."
     ]
    }
   ],
   "source": [
    "#!pip install scipy\n",
    "import scipy.stats as stats\n",
    "\n",
    "# Example dataset\n",
    "data = [10, 15, 20, 25, 30, 35, 40, 45, 50]\n",
    "\n",
    "# Calculating skewness\n",
    "skewness = stats.skew(data)\n",
    "print(\"Skewness:\", skewness)\n",
    "\n",
    "# Calculating kurtosis\n",
    "kurtosis = stats.kurtosis(data)\n",
    "print(\"Kurtosis:\", kurtosis)"
   ]
  }
 ],
 "metadata": {
  "kernelspec": {
   "display_name": "Python 3",
   "language": "python",
   "name": "python3"
  },
  "language_info": {
   "codemirror_mode": {
    "name": "ipython",
    "version": 3
   },
   "file_extension": ".py",
   "mimetype": "text/x-python",
   "name": "python",
   "nbconvert_exporter": "python",
   "pygments_lexer": "ipython3",
   "version": "3.11.4"
  },
  "orig_nbformat": 4
 },
 "nbformat": 4,
 "nbformat_minor": 2
}
