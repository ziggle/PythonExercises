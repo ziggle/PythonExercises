{
 "cells": [
  {
   "cell_type": "markdown",
   "metadata": {},
   "source": [
    "https://www.vitoshacademy.com/python-unittests-in-jupyter-notebook/"
   ]
  },
  {
   "cell_type": "code",
   "execution_count": 28,
   "metadata": {},
   "outputs": [],
   "source": [
    "import unittest\n",
    "import numpy as np"
   ]
  },
  {
   "cell_type": "code",
   "execution_count": 29,
   "metadata": {},
   "outputs": [],
   "source": [
    "class Fibonatics():\n",
    "\n",
    "    def __init__(self, number):\n",
    "        self.number = number\n",
    "        self.memo = [0] * (number+1)\n",
    "        self.quick_count = 0\n",
    "        self.slow_count = 0\n",
    "        \n",
    "    def ResetNumber(self, number):\n",
    "        self.number = number\n",
    "        self.memo = [0] * (number + 1)\n",
    "        self.quick_count = 0\n",
    "        self.slow_count = 0\n",
    "        \n",
    "    def Fibonacci(self, number):\n",
    "        self.quick_count = self.quick_count + 1\n",
    "        if self.memo[number] != 0: \n",
    "            return self.memo[number]\n",
    "        if number == 0:\n",
    "            return 0\n",
    "        if number == 1:\n",
    "            return 1\n",
    "        self.memo[number] = self.Fibonacci(number - 1) + self.Fibonacci(number - 2)\n",
    "        return self.memo[number]\n",
    "    \n",
    "    def FibonacciSlow(self, number):\n",
    "        self.slow_count = self.slow_count + 1 \n",
    "        if number == 0:\n",
    "            return 0\n",
    "        if number == 1:\n",
    "            return 1\n",
    "        return self.FibonacciSlow(number - 1) + self.FibonacciSlow(number - 2)"
   ]
  },
  {
   "cell_type": "code",
   "execution_count": 30,
   "metadata": {},
   "outputs": [],
   "source": [
    "my_calc = Fibonatics(25)"
   ]
  },
  {
   "cell_type": "code",
   "execution_count": 31,
   "metadata": {},
   "outputs": [
    {
     "data": {
      "text/plain": [
       "25"
      ]
     },
     "execution_count": 31,
     "metadata": {},
     "output_type": "execute_result"
    }
   ],
   "source": [
    "my_calc.number"
   ]
  },
  {
   "cell_type": "code",
   "execution_count": 32,
   "metadata": {},
   "outputs": [
    {
     "data": {
      "text/plain": [
       "75025"
      ]
     },
     "execution_count": 32,
     "metadata": {},
     "output_type": "execute_result"
    }
   ],
   "source": [
    "my_calc.Fibonacci(my_calc.number)"
   ]
  },
  {
   "cell_type": "code",
   "execution_count": 33,
   "metadata": {},
   "outputs": [
    {
     "data": {
      "text/plain": [
       "49"
      ]
     },
     "execution_count": 33,
     "metadata": {},
     "output_type": "execute_result"
    }
   ],
   "source": [
    "my_calc.quick_count"
   ]
  },
  {
   "cell_type": "code",
   "execution_count": 34,
   "metadata": {},
   "outputs": [
    {
     "data": {
      "text/plain": [
       "0"
      ]
     },
     "execution_count": 34,
     "metadata": {},
     "output_type": "execute_result"
    }
   ],
   "source": [
    "my_calc.slow_count"
   ]
  },
  {
   "cell_type": "code",
   "execution_count": 35,
   "metadata": {},
   "outputs": [],
   "source": [
    "class FibonaticsTests(unittest.TestCase):\n",
    "    \n",
    "    def setUp(self):\n",
    "        self.list_of_values = np.arange(1, 22, 1).tolist()\n",
    "        my_calc.Fibonacci(1)\n",
    "        \n",
    "    def tearDown(self):\n",
    "        pass\n",
    "    \n",
    "    def test_value_10(self):\n",
    "        my_calc.ResetNumber(self.list_of_values[9])\n",
    "        expected = my_calc.Fibonacci(my_calc.number)\n",
    "        self.assertEqual(expected, 55)\n",
    "        \n",
    "    def test_for_equality_with_10(self):\n",
    "        my_calc.ResetNumber(self.list_of_values[9])\n",
    "        expected_quick = my_calc.Fibonacci(my_calc.number)\n",
    "        expected_slow = my_calc.FibonacciSlow(my_calc.number)\n",
    "        self.assertEqual(expected_quick, expected_slow)\n",
    "    \n",
    "    def test_value_11(self):\n",
    "        my_calc.ResetNumber(self.list_of_values[10])\n",
    "        expected = my_calc.Fibonacci(my_calc.number)\n",
    "        self.assertEqual(expected, 89)\n",
    "        \n",
    "    def test_for_equality_with_11(self):\n",
    "        my_calc.ResetNumber(self.list_of_values[10])\n",
    "        expected_quick = my_calc.Fibonacci(my_calc.number)\n",
    "        expected_slow = my_calc.FibonacciSlow(my_calc.number)\n",
    "        self.assertEqual(expected_quick, expected_slow)\n",
    "        \n",
    "    def test_value_slow_20(self):\n",
    "        my_calc.ResetNumber(self.list_of_values[19])\n",
    "        expected = my_calc.FibonacciSlow(my_calc.number)\n",
    "        self.assertEqual(expected, 6765)\n",
    "        \n",
    "    def test_negative_value_20(self):\n",
    "        my_calc.ResetNumber(self.list_of_values[19])\n",
    "        expected = my_calc.Fibonacci(my_calc.number)\n",
    "        self.assertNotEqual(expected, 6766)\n",
    "        \n",
    "    def test_negative_value_1(self):\n",
    "        my_calc.ResetNumber(self.list_of_values[0])\n",
    "        expected = my_calc.Fibonacci(my_calc.number)\n",
    "        self.assertFalse(expected == 2)\n",
    "        \n",
    "    def test_slow_needs_more_steps_with_11(self):\n",
    "        my_calc.ResetNumber(self.list_of_values[10])\n",
    "        \n",
    "        my_calc.Fibonacci(my_calc.number)\n",
    "        my_calc.FibonacciSlow(my_calc.number)\n",
    "        \n",
    "        quick_steps = my_calc.quick_count\n",
    "        slow_steps = my_calc.slow_count\n",
    "        \n",
    "        self.assertTrue(quick_steps < slow_steps)\n",
    "        \n",
    "    def test_slow_is_equal_to_quick_at_2(self):\n",
    "        my_calc.ResetNumber(self.list_of_values[1])\n",
    "        \n",
    "        my_calc.Fibonacci(my_calc.number)\n",
    "        my_calc.FibonacciSlow(my_calc.number)\n",
    "        \n",
    "        quick_steps = my_calc.quick_count\n",
    "        slow_steps = my_calc.slow_count\n",
    "        self.assertEqual(quick_steps+1, slow_steps)"
   ]
  },
  {
   "cell_type": "code",
   "execution_count": 36,
   "metadata": {},
   "outputs": [
    {
     "name": "stderr",
     "output_type": "stream",
     "text": [
      "test_for_equality_with_10 (__main__.FibonaticsTests) ... ok\n",
      "test_for_equality_with_11 (__main__.FibonaticsTests) ... ok\n",
      "test_negative_value_1 (__main__.FibonaticsTests) ... ok\n",
      "test_negative_value_20 (__main__.FibonaticsTests) ... ok\n",
      "test_slow_is_equal_to_quick_at_2 (__main__.FibonaticsTests) ... FAIL\n",
      "test_slow_needs_more_steps_with_11 (__main__.FibonaticsTests) ... ok\n",
      "test_value_10 (__main__.FibonaticsTests) ... ok\n",
      "test_value_11 (__main__.FibonaticsTests) ... ok\n",
      "test_value_slow_20 (__main__.FibonaticsTests) ... ok\n",
      "\n",
      "======================================================================\n",
      "FAIL: test_slow_is_equal_to_quick_at_2 (__main__.FibonaticsTests)\n",
      "----------------------------------------------------------------------\n",
      "Traceback (most recent call last):\n",
      "  File \"<ipython-input-35-8fb699d9c807>\", line 66, in test_slow_is_equal_to_quick_at_2\n",
      "    self.assertEqual(quick_steps+1, slow_steps)\n",
      "AssertionError: 4 != 3\n",
      "\n",
      "----------------------------------------------------------------------\n",
      "Ran 9 tests in 0.024s\n",
      "\n",
      "FAILED (failures=1)\n"
     ]
    },
    {
     "data": {
      "text/plain": [
       "<unittest.main.TestProgram at 0x2aea02d17c0>"
      ]
     },
     "execution_count": 36,
     "metadata": {},
     "output_type": "execute_result"
    }
   ],
   "source": [
    "unittest.main(argv=[''], verbosity=2,exit=False)"
   ]
  },
  {
   "cell_type": "code",
   "execution_count": null,
   "metadata": {},
   "outputs": [],
   "source": []
  }
 ],
 "metadata": {
  "kernelspec": {
   "display_name": "Python 3",
   "language": "python",
   "name": "python3"
  },
  "language_info": {
   "codemirror_mode": {
    "name": "ipython",
    "version": 3
   },
   "file_extension": ".py",
   "mimetype": "text/x-python",
   "name": "python",
   "nbconvert_exporter": "python",
   "pygments_lexer": "ipython3",
   "version": "3.8.5"
  }
 },
 "nbformat": 4,
 "nbformat_minor": 4
}
