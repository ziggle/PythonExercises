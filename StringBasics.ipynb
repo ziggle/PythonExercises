{
 "cells": [
  {
   "cell_type": "markdown",
   "metadata": {},
   "source": [
    "https://medium.com/codex/useful-string-methods-in-python-a-comprehensive-guide-to-string-functions-3984ce80dcd4"
   ]
  },
  {
   "cell_type": "code",
   "execution_count": 1,
   "metadata": {},
   "outputs": [
    {
     "name": "stdout",
     "output_type": "stream",
     "text": [
      "13\n"
     ]
    }
   ],
   "source": [
    "message = \"Hello, World!\"\n",
    "length = len(message)\n",
    "print(length)  \n"
   ]
  },
  {
   "cell_type": "code",
   "execution_count": 2,
   "metadata": {},
   "outputs": [
    {
     "name": "stdout",
     "output_type": "stream",
     "text": [
      "hello, world!\n",
      "HELLO, WORLD!\n"
     ]
    }
   ],
   "source": [
    "message = \"Hello, World!\"\n",
    "lowercase_message = message.lower()\n",
    "uppercase_message = message.upper()\n",
    "print(lowercase_message)  # Output: hello, world!\n",
    "print(uppercase_message)  # Output: HELLO, WORLD!"
   ]
  },
  {
   "cell_type": "code",
   "execution_count": 5,
   "metadata": {},
   "outputs": [
    {
     "name": "stdout",
     "output_type": "stream",
     "text": [
      "   John Doe   \n",
      "John Doe\n"
     ]
    }
   ],
   "source": [
    "name = \"   John Doe   \"\n",
    "stripped_name = name.strip()\n",
    "print(name)\n",
    "print(stripped_name)  # Output: \"John Doe\""
   ]
  },
  {
   "cell_type": "code",
   "execution_count": 6,
   "metadata": {},
   "outputs": [
    {
     "name": "stdout",
     "output_type": "stream",
     "text": [
      "['Python', 'is', 'an', 'amazing', 'programming', 'language']\n"
     ]
    }
   ],
   "source": [
    "sentence = \"Python is an amazing programming language\"\n",
    "words = sentence.split()\n",
    "print(words)  # Output: ['Python', 'is', 'an', 'amazing', 'programming', 'language']"
   ]
  },
  {
   "cell_type": "code",
   "execution_count": 7,
   "metadata": {},
   "outputs": [
    {
     "name": "stdout",
     "output_type": "stream",
     "text": [
      "Python is amazing\n"
     ]
    }
   ],
   "source": [
    "words = ['Python', 'is', 'amazing']\n",
    "sentence = ' '.join(words)\n",
    "print(sentence)  # Output: \"Python is amazing\""
   ]
  },
  {
   "cell_type": "code",
   "execution_count": 8,
   "metadata": {},
   "outputs": [
    {
     "name": "stdout",
     "output_type": "stream",
     "text": [
      "True\n",
      "True\n"
     ]
    }
   ],
   "source": [
    "message = \"Hello, World!\"\n",
    "starts_with_hello = message.startswith(\"Hello\")\n",
    "ends_with_exclamation = message.endswith(\"!\")\n",
    "print(starts_with_hello)       # Output: True\n",
    "print(ends_with_exclamation)   # Output: False"
   ]
  },
  {
   "cell_type": "code",
   "execution_count": 9,
   "metadata": {},
   "outputs": [
    {
     "name": "stdout",
     "output_type": "stream",
     "text": [
      "Hi, World!\n"
     ]
    }
   ],
   "source": [
    "message = \"Hello, World!\"\n",
    "new_message = message.replace(\"Hello\", \"Hi\")\n",
    "print(new_message)  # Output: \"Hi, World!\""
   ]
  },
  {
   "cell_type": "code",
   "execution_count": 10,
   "metadata": {},
   "outputs": [
    {
     "name": "stdout",
     "output_type": "stream",
     "text": [
      "7\n",
      "21\n"
     ]
    }
   ],
   "source": [
    "sentence = \"Python is a powerful language\"\n",
    "position1 = sentence.find(\"is\")\n",
    "position2 = sentence.index(\"language\")\n",
    "print(position1)  # Output: 7\n",
    "print(position2)  # Output: 18"
   ]
  },
  {
   "cell_type": "code",
   "execution_count": 11,
   "metadata": {},
   "outputs": [
    {
     "name": "stdout",
     "output_type": "stream",
     "text": [
      "True\n",
      "True\n"
     ]
    },
    {
     "ename": "",
     "evalue": "",
     "output_type": "error",
     "traceback": [
      "\u001b[1;31mThe Kernel crashed while executing code in the the current cell or a previous cell. Please review the code in the cell(s) to identify a possible cause of the failure. Click <a href='https://aka.ms/vscodeJupyterKernelCrash'>here</a> for more info. View Jupyter <a href='command:jupyter.viewOutput'>log</a> for further details."
     ]
    }
   ],
   "source": [
    "numeric_string = \"12345\"\n",
    "alphabetical_string = \"Hello\"\n",
    "is_numeric = numeric_string.isdigit()\n",
    "is_alphabetical = alphabetical_string.isalpha()\n",
    "print(is_numeric)        # Output: True\n",
    "print(is_alphabetical)   # Output: True"
   ]
  }
 ],
 "metadata": {
  "kernelspec": {
   "display_name": "Python 3",
   "language": "python",
   "name": "python3"
  },
  "language_info": {
   "codemirror_mode": {
    "name": "ipython",
    "version": 3
   },
   "file_extension": ".py",
   "mimetype": "text/x-python",
   "name": "python",
   "nbconvert_exporter": "python",
   "pygments_lexer": "ipython3",
   "version": "3.11.4"
  },
  "orig_nbformat": 4
 },
 "nbformat": 4,
 "nbformat_minor": 2
}
