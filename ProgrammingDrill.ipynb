{
 "cells": [
  {
   "cell_type": "markdown",
   "metadata": {},
   "source": [
    "https://medium.com/@mtadata/python-programming-part-ii-data-structures-opp-concept-c724e84217dc"
   ]
  },
  {
   "cell_type": "code",
   "execution_count": 1,
   "metadata": {},
   "outputs": [
    {
     "name": "stdout",
     "output_type": "stream",
     "text": [
      "apple\n",
      "['apple', 'kiwi', 'grape']\n"
     ]
    }
   ],
   "source": [
    "# Creating a list\n",
    "fruits = ['apple', 'banana', 'orange']\n",
    "\n",
    "# Accessing an item in the list\n",
    "print(fruits[0]) # Output: apple\n",
    "\n",
    "# Adding an item to the list\n",
    "fruits.append('grape')\n",
    "\n",
    "# Removing an item from the list\n",
    "fruits.remove('banana')\n",
    "\n",
    "# Modifying an item in the list\n",
    "fruits[1] = 'kiwi'\n",
    "\n",
    "# Printing the entire list\n",
    "print(fruits) # Output: ['apple', 'kiwi', 'orange', 'grape']"
   ]
  },
  {
   "cell_type": "code",
   "execution_count": 2,
   "metadata": {},
   "outputs": [
    {
     "name": "stdout",
     "output_type": "stream",
     "text": [
      "John\n"
     ]
    }
   ],
   "source": [
    "# Creating a tuple\n",
    "person = ('John', 30, 'male')\n",
    "\n",
    "# Accessing an item in the tuple\n",
    "print(person[0]) # Output: John"
   ]
  },
  {
   "cell_type": "code",
   "execution_count": 3,
   "metadata": {},
   "outputs": [
    {
     "name": "stdout",
     "output_type": "stream",
     "text": [
      "John\n",
      "{'name': 'John', 'age': 35, 'city': 'New York'}\n"
     ]
    }
   ],
   "source": [
    "# Creating a dictionary\n",
    "person = {'name': 'John', 'age': 30, 'gender': 'male'}\n",
    "\n",
    "# Accessing a value using a key\n",
    "print(person['name']) # Output: John\n",
    "\n",
    "# Adding a new key-value pair\n",
    "person['city'] = 'New York'\n",
    "\n",
    "# Removing a key-value pair\n",
    "del person['gender']\n",
    "\n",
    "# Modifying a value using a key\n",
    "person['age'] = 35\n",
    "\n",
    "# Printing the entire dictionary\n",
    "print(person) # Output: {'name': 'John', 'age': 35, 'city': 'New York'}"
   ]
  },
  {
   "cell_type": "code",
   "execution_count": 4,
   "metadata": {},
   "outputs": [
    {
     "name": "stdout",
     "output_type": "stream",
     "text": [
      "True\n",
      "{'orange', 'grape', 'apple'}\n"
     ]
    }
   ],
   "source": [
    "# Creating a set\n",
    "fruits = {'apple', 'banana', 'orange'}\n",
    "\n",
    "# Checking if an item is in the set\n",
    "print('apple' in fruits) # Output: True\n",
    "\n",
    "# Adding an item to the set\n",
    "fruits.add('grape')\n",
    "\n",
    "# Removing an item from the set\n",
    "fruits.remove('banana')\n",
    "\n",
    "# Printing the entire set\n",
    "print(fruits) # Output: {'apple', 'orange', 'grape'}"
   ]
  },
  {
   "cell_type": "code",
   "execution_count": 5,
   "metadata": {},
   "outputs": [],
   "source": [
    "class Person:\n",
    "    def __init__(self, name, age):\n",
    "        self.name = name\n",
    "        self.age = age\n",
    "    \n",
    "    def say_hello(self):\n",
    "        print(f\"Hello, my name is {self.name} and I'm {self.age} years old.\")"
   ]
  },
  {
   "cell_type": "code",
   "execution_count": 7,
   "metadata": {},
   "outputs": [
    {
     "name": "stdout",
     "output_type": "stream",
     "text": [
      "Hello, my name is Alice and I'm 30 years old.\n",
      "Hello, my name is Bob and I'm 25 years old.\n"
     ]
    }
   ],
   "source": [
    "person1 = Person(\"Alice\", 30)\n",
    "person2 = Person(\"Bob\", 25)\n",
    "\n",
    "person1.say_hello() # Output: \"Hello, my name is Alice and I'm 30 years old.\"\n",
    "person2.say_hello() # Output: \"Hello, my name is Bob and I'm 25 years old.\""
   ]
  },
  {
   "cell_type": "code",
   "execution_count": 8,
   "metadata": {},
   "outputs": [
    {
     "name": "stdout",
     "output_type": "stream",
     "text": [
      "Hello, my name is Charlie, I'm 20 years old, and my student ID is 12345.\n"
     ]
    }
   ],
   "source": [
    "class Student(Person):\n",
    "    def __init__(self, name, age, student_id):\n",
    "        super().__init__(name, age)\n",
    "        self.student_id = student_id\n",
    "    \n",
    "    def say_hello(self):\n",
    "        print(f\"Hello, my name is {self.name}, I'm {self.age} years old, and my student ID is {self.student_id}.\")\n",
    "\n",
    "student1 = Student(\"Charlie\", 20, \"12345\")\n",
    "student1.say_hello() # Output: \"Hello, my name is Charlie, I'm 20 years old, and my student ID is 12345.\""
   ]
  },
  {
   "cell_type": "code",
   "execution_count": 9,
   "metadata": {},
   "outputs": [
    {
     "name": "stdout",
     "output_type": "stream",
     "text": [
      "Hello, my name is Alice and I'm 30 years old.\n",
      "Hello, my name is Bob, I'm 25 years old, and my student ID is 12345.\n"
     ]
    }
   ],
   "source": [
    "def print_info(person):\n",
    "    person.say_hello()\n",
    "\n",
    "person1 = Person(\"Alice\", 30)\n",
    "student1 = Student(\"Bob\", 25, \"12345\")\n",
    "\n",
    "print_info(person1) # Output: \"Hello, my name is Alice and I'm 30 years old.\"\n",
    "print_info(student1) # Output: \"Hello, my name is Bob, I'm 25 years old, and my student ID is 12345.\""
   ]
  },
  {
   "cell_type": "code",
   "execution_count": 10,
   "metadata": {},
   "outputs": [
    {
     "name": "stdout",
     "output_type": "stream",
     "text": [
      "1300\n"
     ]
    }
   ],
   "source": [
    "class BankAccount:\n",
    "    def __init__(self, account_number, balance):\n",
    "        self.__account_number = account_number\n",
    "        self.__balance = balance\n",
    "    \n",
    "    def deposit(self, amount):\n",
    "        self.__balance += amount\n",
    "    \n",
    "    def withdraw(self, amount):\n",
    "        if amount > self.__balance:\n",
    "            print(\"Insufficient funds.\")\n",
    "        else:\n",
    "            self.__balance -= amount\n",
    "    \n",
    "    def get_balance(self):\n",
    "        return self.__balance\n",
    "\n",
    "account1 = BankAccount(\"12345\", 1000)\n",
    "account1.deposit(500)\n",
    "account1.withdraw(200)\n",
    "print(account1.get_balance()) # Output: 1300"
   ]
  }
 ],
 "metadata": {
  "kernelspec": {
   "display_name": "Python 3",
   "language": "python",
   "name": "python3"
  },
  "language_info": {
   "codemirror_mode": {
    "name": "ipython",
    "version": 3
   },
   "file_extension": ".py",
   "mimetype": "text/x-python",
   "name": "python",
   "nbconvert_exporter": "python",
   "pygments_lexer": "ipython3",
   "version": "3.11.4"
  },
  "orig_nbformat": 4
 },
 "nbformat": 4,
 "nbformat_minor": 2
}
