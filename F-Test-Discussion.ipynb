{
 "cells": [
  {
   "cell_type": "markdown",
   "id": "6cc2e99e",
   "metadata": {},
   "source": [
    "https://medium.com/@dancerworld60/unveiling-the-power-of-the-f-statistic-and-t-statistics-in-regression-analysis-unraveling-the-743391c9c95a\n",
    "\n",
    "Understanding F-Test\n",
    "\n",
    "Notes:\n",
    "\n",
    "*What is the F-Test?*\n",
    "\n",
    "The F-test for overall significance is a statistical test that assesses whether a linear regression model provides a statistically significant improvement in fit compared to a **baseline model** that uses the **mean of the dependent variable**.\n",
    "\n",
    "*What is the F-Test?*\n",
    "Calculate the F-statistic: F-statistic = MSR / MSE\n",
    "Mean Square Regression, Mean Square Error\n",
    "\n",
    "There is a distribution associated with F-test. Basically, another version of how likely is a null hypothesis to giving you the results you are seeing.\n",
    "\n",
    "*When is F-Test Used?*\n",
    "\n",
    "From Chat GPT\n",
    "\n",
    "The F-test of overall significance is used in linear regression to compare the fits of different linear models. It can assess multiple coefficients simultaneously, unlike t-tests that can assess only one regression coefficient at a time 1. The F-test of overall significance involves defining a larger full model and a smaller reduced model, and using an F-statistic to decide whether or not to reject the smaller reduced model in favor of the larger full model 1.\n",
    "\n",
    "The F-test of overall significance is used to test the null hypothesis that all the regression coefficients are equal to zero, which means that the model has no predictive power 1. If the null hypothesis is rejected, it indicates that at least one of the regression coefficients is non-zero, and the model has some predictive power 1.\n",
    "\n",
    "In linear regression, the F-test is typically applied after the t-tests for individual regression coefficients have been performed 1. The F-test is used to determine whether the model as a whole is significant, while the t-tests are used to determine which individual coefficients are significant 1.\n"
   ]
  },
  {
   "cell_type": "markdown",
   "id": "16751222",
   "metadata": {},
   "source": [
    "Good background on explained variation\n",
    "\n",
    "https://medium.com/@dancerworld60/mastering-regression-analysis-understanding-the-basics-and-beyond-part-1-3a25c6cfe05e"
   ]
  },
  {
   "cell_type": "code",
   "execution_count": 1,
   "id": "0f3c4d92",
   "metadata": {},
   "outputs": [
    {
     "name": "stderr",
     "output_type": "stream",
     "text": [
      "C:\\Users\\biegertm\\AppData\\Roaming\\Python\\Python39\\site-packages\\pandas\\core\\computation\\expressions.py:21: UserWarning: Pandas requires version '2.8.0' or newer of 'numexpr' (version '2.7.3' currently installed).\n",
      "  from pandas.core.computation.check import NUMEXPR_INSTALLED\n",
      "C:\\Users\\biegertm\\AppData\\Roaming\\Python\\Python39\\site-packages\\pandas\\core\\arrays\\masked.py:62: UserWarning: Pandas requires version '1.3.4' or newer of 'bottleneck' (version '1.3.2' currently installed).\n",
      "  from pandas.core import (\n",
      "C:\\ProgramData\\Anaconda3-1\\lib\\site-packages\\sklearn\\utils\\validation.py:571: FutureWarning: is_sparse is deprecated and will be removed in a future version. Check `isinstance(dtype, pd.SparseDtype)` instead.\n",
      "  array.dtypes.apply(is_sparse).any()):\n"
     ]
    },
    {
     "name": "stdout",
     "output_type": "stream",
     "text": [
      "Model with relevant predictors: R-squared = 0.912, Adjusted R-squared = 0.910\n",
      "Model with irrelevant predictors: R-squared = 0.919, Adjusted R-squared = 0.908\n"
     ]
    },
    {
     "name": "stderr",
     "output_type": "stream",
     "text": [
      "C:\\ProgramData\\Anaconda3-1\\lib\\site-packages\\sklearn\\utils\\validation.py:571: FutureWarning: is_sparse is deprecated and will be removed in a future version. Check `isinstance(dtype, pd.SparseDtype)` instead.\n",
      "  array.dtypes.apply(is_sparse).any()):\n",
      "C:\\ProgramData\\Anaconda3-1\\lib\\site-packages\\sklearn\\utils\\validation.py:571: FutureWarning: is_sparse is deprecated and will be removed in a future version. Check `isinstance(dtype, pd.SparseDtype)` instead.\n",
      "  array.dtypes.apply(is_sparse).any()):\n",
      "C:\\ProgramData\\Anaconda3-1\\lib\\site-packages\\sklearn\\utils\\validation.py:571: FutureWarning: is_sparse is deprecated and will be removed in a future version. Check `isinstance(dtype, pd.SparseDtype)` instead.\n",
      "  array.dtypes.apply(is_sparse).any()):\n"
     ]
    }
   ],
   "source": [
    "import numpy as np\n",
    "import pandas as pd\n",
    "from sklearn.linear_model import LinearRegression\n",
    "from sklearn.metrics import r2_score\n",
    "\n",
    "# Generate synthetic data\n",
    "np.random.seed(42)\n",
    "n = 100\n",
    "x1 = np.random.normal(0, 1, n)\n",
    "x2 = np.random.normal(0, 1, n)\n",
    "irrelevant_predictors = np.random.normal(0, 1, (n, 10))\n",
    "\n",
    "y = 2 * x1 + 3 * x2 + np.random.normal(0, 1, n)\n",
    "\n",
    "# Helper function to calculate adjusted R-squared\n",
    "def adjusted_r2(r2, n, k):\n",
    "    return 1 - (1 - r2) * (n - 1) / (n - k - 1)\n",
    "\n",
    "# Fit linear regression models with different predictors\n",
    "X = pd.DataFrame({'x1': x1, 'x2': x2})\n",
    "\n",
    "X_with_irrelevant = pd.concat([X] + [pd.Series(irrelevant_predictors[:, i], name=f\"irrelevant_{i}\") for i in range(10)], axis=1)\n",
    "\n",
    "model1 = LinearRegression().fit(X, y)\n",
    "model2 = LinearRegression().fit(X_with_irrelevant, y)\n",
    "\n",
    "# Calculate R-squared and adjusted R-squared for each model\n",
    "models = [('Model with relevant predictors', model1, X.shape[1]), ('Model with irrelevant predictors', model2, X_with_irrelevant.shape[1])]\n",
    "\n",
    "for name, model, k in models:\n",
    "    r2 = r2_score(y, model.predict(X_with_irrelevant.iloc[:, :k]))\n",
    "    adj_r2 = adjusted_r2(r2, n, k)\n",
    "    print(f\"{name}: R-squared = {r2:.3f}, Adjusted R-squared = {adj_r2:.3f}\")"
   ]
  },
  {
   "cell_type": "markdown",
   "id": "5e41f72c",
   "metadata": {},
   "source": [
    "T-Statistics Work"
   ]
  },
  {
   "cell_type": "code",
   "execution_count": null,
   "id": "8f350c56",
   "metadata": {},
   "outputs": [],
   "source": []
  }
 ],
 "metadata": {
  "kernelspec": {
   "display_name": "Python 3 (ipykernel)",
   "language": "python",
   "name": "python3"
  },
  "language_info": {
   "codemirror_mode": {
    "name": "ipython",
    "version": 3
   },
   "file_extension": ".py",
   "mimetype": "text/x-python",
   "name": "python",
   "nbconvert_exporter": "python",
   "pygments_lexer": "ipython3",
   "version": "3.9.7"
  }
 },
 "nbformat": 4,
 "nbformat_minor": 5
}
