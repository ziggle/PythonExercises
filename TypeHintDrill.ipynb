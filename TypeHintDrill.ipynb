{
 "cells": [
  {
   "attachments": {},
   "cell_type": "markdown",
   "metadata": {},
   "source": [
    "https://medium.com/techtofreedom/8-levels-of-using-type-hints-in-python-a6717e28f8fd"
   ]
  },
  {
   "cell_type": "code",
   "execution_count": 3,
   "metadata": {},
   "outputs": [],
   "source": [
    "name: str = \"Yang\"\n",
    "age: int = 29\n",
    "assets: list = []\n",
    "posts: tuple = ()\n",
    "hobbies: dict = {}"
   ]
  },
  {
   "cell_type": "code",
   "execution_count": 4,
   "metadata": {},
   "outputs": [
    {
     "name": "stdout",
     "output_type": "stream",
     "text": [
      "Yang 29th\n"
     ]
    }
   ],
   "source": [
    "name: str = \"Yang\"\n",
    "age: int = 29\n",
    "# age = 29\n",
    "print(name, age)\n",
    "# Yang 29th"
   ]
  },
  {
   "cell_type": "code",
   "execution_count": 5,
   "metadata": {},
   "outputs": [],
   "source": [
    "posts: list[str] = ['Python Type Hints', 'Python Tricks']"
   ]
  },
  {
   "cell_type": "code",
   "execution_count": 6,
   "metadata": {},
   "outputs": [],
   "source": [
    "posts: dict[int, str] = {1: 'Python Type Hints', 2: 'Python Tricks'}"
   ]
  },
  {
   "cell_type": "code",
   "execution_count": 7,
   "metadata": {},
   "outputs": [],
   "source": [
    "from typing import Final\n",
    "\n",
    "DATABASE: Final = \"MySQL\""
   ]
  },
  {
   "cell_type": "code",
   "execution_count": 8,
   "metadata": {},
   "outputs": [],
   "source": [
    "from typing import Union\n",
    "\n",
    "data: Union[int, float] = 3.14"
   ]
  },
  {
   "cell_type": "code",
   "execution_count": 9,
   "metadata": {},
   "outputs": [],
   "source": [
    "from typing import Union\n",
    "\n",
    "data: Union[int, float] = 3.14"
   ]
  },
  {
   "cell_type": "code",
   "execution_count": 10,
   "metadata": {},
   "outputs": [],
   "source": [
    "from typing import Iterable\n",
    "\n",
    "def my_func(nums: Iterable):\n",
    "    for n in nums:\n",
    "        print(n)"
   ]
  },
  {
   "cell_type": "code",
   "execution_count": 11,
   "metadata": {},
   "outputs": [],
   "source": [
    "from typing import Union\n",
    "a: Union[int,None] = 123"
   ]
  },
  {
   "cell_type": "code",
   "execution_count": 12,
   "metadata": {},
   "outputs": [],
   "source": [
    "from typing import Optional\n",
    "\n",
    "a: Optional[int] = 123"
   ]
  },
  {
   "cell_type": "code",
   "execution_count": 13,
   "metadata": {},
   "outputs": [],
   "source": [
    "from typing import Any\n",
    "\n",
    "def my_func(nums: Any):\n",
    "    pass"
   ]
  },
  {
   "cell_type": "code",
   "execution_count": 14,
   "metadata": {},
   "outputs": [],
   "source": [
    "def greeting(name: str) -> str:\n",
    "    return \"Hello \" + name"
   ]
  },
  {
   "cell_type": "code",
   "execution_count": 15,
   "metadata": {},
   "outputs": [
    {
     "name": "stdout",
     "output_type": "stream",
     "text": [
      "Execution time: 0.0s\n"
     ]
    }
   ],
   "source": [
    "import time\n",
    "from typing import Callable\n",
    "\n",
    "\n",
    "def calc_time(func: Callable):\n",
    "    start = time.time()\n",
    "    func()\n",
    "    end = time.time()\n",
    "    print(f\"Execution time: {end - start}s\")\n",
    "\n",
    "\n",
    "calc_time(lambda: sorted(\"Yang Zhou is writing!\"))"
   ]
  },
  {
   "cell_type": "code",
   "execution_count": 16,
   "metadata": {},
   "outputs": [],
   "source": [
    "from typing import TypeAlias\n",
    "\n",
    "PostsType: TypeAlias = dict[int, str]\n",
    "\n",
    "new_posts: PostsType = {1: 'Python Type Hints', 2: 'Python Tricks'}\n",
    "old_posts: PostsType = {}"
   ]
  },
  {
   "cell_type": "code",
   "execution_count": 17,
   "metadata": {},
   "outputs": [],
   "source": [
    "PostsType = dict[int, str]\n",
    "\n",
    "new_posts: PostsType = {1: 'Python Type Hints', 2: 'Python Tricks'}\n",
    "old_posts: PostsType = {}"
   ]
  },
  {
   "cell_type": "code",
   "execution_count": 18,
   "metadata": {},
   "outputs": [],
   "source": [
    "from typing import Self\n",
    "\n",
    "class ListNode:\n",
    "    def __init__(self, prev_node: Self) -> None:\n",
    "        pass"
   ]
  }
 ],
 "metadata": {
  "kernelspec": {
   "display_name": "Python 3",
   "language": "python",
   "name": "python3"
  },
  "language_info": {
   "codemirror_mode": {
    "name": "ipython",
    "version": 3
   },
   "file_extension": ".py",
   "mimetype": "text/x-python",
   "name": "python",
   "nbconvert_exporter": "python",
   "pygments_lexer": "ipython3",
   "version": "3.11.3"
  },
  "orig_nbformat": 4
 },
 "nbformat": 4,
 "nbformat_minor": 2
}
