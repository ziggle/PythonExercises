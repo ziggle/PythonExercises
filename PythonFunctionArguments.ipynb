{
 "cells": [
  {
   "cell_type": "markdown",
   "id": "7b4731bf",
   "metadata": {},
   "source": [
    "https://medium.com/codex/decoding-python-functions-default-positional-and-keyword-arguments-2059423c3981"
   ]
  },
  {
   "cell_type": "code",
   "execution_count": 1,
   "id": "def558a6",
   "metadata": {},
   "outputs": [
    {
     "name": "stdout",
     "output_type": "stream",
     "text": [
      "John: Unknown\n",
      "John: male\n"
     ]
    }
   ],
   "source": [
    "def personal_info(name, gender='Unknown'):\n",
    "    return f'{name}: {gender}'\n",
    "\n",
    "print(personal_info('John'))\n",
    "print(personal_info('John','male'))"
   ]
  },
  {
   "cell_type": "code",
   "execution_count": 2,
   "id": "8fa3958b",
   "metadata": {},
   "outputs": [
    {
     "name": "stdout",
     "output_type": "stream",
     "text": [
      "John: 23\n"
     ]
    }
   ],
   "source": [
    "def personal_info(name, gender='Unknown'):\n",
    "    return f'{name}: {gender}'\n",
    "\n",
    "print(personal_info('John',23))"
   ]
  },
  {
   "cell_type": "code",
   "execution_count": 4,
   "id": "ba7de54c",
   "metadata": {},
   "outputs": [
    {
     "name": "stdout",
     "output_type": "stream",
     "text": [
      "John: 23\n"
     ]
    }
   ],
   "source": [
    "def personal_info(name, age):\n",
    "    return f'{name}: {age}'\n",
    "\n",
    "print(personal_info(age=23,name='John'))"
   ]
  },
  {
   "cell_type": "code",
   "execution_count": 6,
   "id": "bf26213a",
   "metadata": {},
   "outputs": [
    {
     "name": "stdout",
     "output_type": "stream",
     "text": [
      "8.0\n",
      "10.0\n"
     ]
    }
   ],
   "source": [
    "def my_func(*args):\n",
    "    average=sum(args)/len(args)\n",
    "    return average\n",
    "\n",
    "print(my_func(12,2,10))\n",
    "print(my_func(30,2,10,8,5,5))"
   ]
  },
  {
   "cell_type": "code",
   "execution_count": 8,
   "id": "bac77a29",
   "metadata": {},
   "outputs": [
    {
     "name": "stdout",
     "output_type": "stream",
     "text": [
      "62.5\n",
      "72.0\n"
     ]
    }
   ],
   "source": [
    "def average_marks(**kwargs):\n",
    "    average_mks=sum(kwargs.values())/len(kwargs)\n",
    "    return average_mks\n",
    "\n",
    "print(average_marks(mark=56,ben=69))\n",
    "print(average_marks(mark=56,ben=69,jill=91))"
   ]
  }
 ],
 "metadata": {
  "kernelspec": {
   "display_name": "Python 3 (ipykernel)",
   "language": "python",
   "name": "python3"
  },
  "language_info": {
   "codemirror_mode": {
    "name": "ipython",
    "version": 3
   },
   "file_extension": ".py",
   "mimetype": "text/x-python",
   "name": "python",
   "nbconvert_exporter": "python",
   "pygments_lexer": "ipython3",
   "version": "3.9.7"
  }
 },
 "nbformat": 4,
 "nbformat_minor": 5
}
