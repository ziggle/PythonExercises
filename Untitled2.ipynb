{
 "cells": [
  {
   "cell_type": "code",
   "execution_count": 10,
   "id": "2018e419",
   "metadata": {},
   "outputs": [
    {
     "name": "stdout",
     "output_type": "stream",
     "text": [
      "          x  y\n",
      "0       NaN  2\n",
      "1       NaN  2\n",
      "2      -inf  2\n",
      "3 -0.458145  3\n",
      "4  0.235002  3\n"
     ]
    }
   ],
   "source": [
    "import pandas as pd\n",
    "import numpy as np\n",
    "\n",
    "def standardize(col):\n",
    "    return (col - col.mean()) / col.std()\n",
    "\n",
    "def log_transform(col):\n",
    "    return np.log(col)\n",
    "\n",
    "df = pd.DataFrame({'x': [1, 2, 3, 4, 5],\n",
    "                   'y': [2, 2, 2, 3, 3,]})\n",
    "\n",
    "df['x']=df['x'].pipe(standardize).pipe(log_transform)\n",
    "print(df)"
   ]
  }
 ],
 "metadata": {
  "kernelspec": {
   "display_name": "Python 3 (ipykernel)",
   "language": "python",
   "name": "python3"
  },
  "language_info": {
   "codemirror_mode": {
    "name": "ipython",
    "version": 3
   },
   "file_extension": ".py",
   "mimetype": "text/x-python",
   "name": "python",
   "nbconvert_exporter": "python",
   "pygments_lexer": "ipython3",
   "version": "3.9.15"
  },
  "toc": {
   "base_numbering": 1,
   "nav_menu": {},
   "number_sections": true,
   "sideBar": true,
   "skip_h1_title": false,
   "title_cell": "Table of Contents",
   "title_sidebar": "Contents",
   "toc_cell": false,
   "toc_position": {},
   "toc_section_display": true,
   "toc_window_display": false
  }
 },
 "nbformat": 4,
 "nbformat_minor": 5
}
