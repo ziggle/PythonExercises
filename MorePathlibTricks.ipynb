{
 "cells": [
  {
   "cell_type": "markdown",
   "id": "dc99fd99",
   "metadata": {},
   "source": [
    "https://towardsdatascience.com/goodbye-os-path-15-pathlib-tricks-to-quickly-master-the-file-system-in-python-881213ca7c21"
   ]
  },
  {
   "cell_type": "code",
   "execution_count": 1,
   "id": "1b0b21fc",
   "metadata": {},
   "outputs": [
    {
     "data": {
      "text/plain": [
       "WindowsPath('C:/Users/Mark/Dropbox/GitHub/PythonExercises')"
      ]
     },
     "execution_count": 1,
     "metadata": {},
     "output_type": "execute_result"
    }
   ],
   "source": [
    "from pathlib import Path\n",
    "\n",
    "Path.cwd()"
   ]
  },
  {
   "cell_type": "code",
   "execution_count": 2,
   "id": "7d9cd213",
   "metadata": {},
   "outputs": [
    {
     "data": {
      "text/plain": [
       "WindowsPath('C:/Users/Mark')"
      ]
     },
     "execution_count": 2,
     "metadata": {},
     "output_type": "execute_result"
    }
   ],
   "source": [
    "Path.home()"
   ]
  },
  {
   "cell_type": "code",
   "execution_count": 3,
   "id": "8c6b2af5",
   "metadata": {},
   "outputs": [
    {
     "data": {
      "text/plain": [
       "WindowsPath('documents')"
      ]
     },
     "execution_count": 3,
     "metadata": {},
     "output_type": "execute_result"
    }
   ],
   "source": [
    "p = Path(\"documents\")\n",
    "\n",
    "p"
   ]
  },
  {
   "cell_type": "code",
   "execution_count": 10,
   "id": "c9428232",
   "metadata": {},
   "outputs": [
    {
     "name": "stdout",
     "output_type": "stream",
     "text": [
      "ExampleOfCombiningCSV\\Data\n",
      "ExampleOfCombiningCSV\\Data\\Test_1.csv\n"
     ]
    }
   ],
   "source": [
    "data_dir = Path(\".\") / \"ExampleOfCombiningCSV\"/\"Data\"\n",
    "csv_file = data_dir / \"Test_1.csv\"\n",
    "\n",
    "print(data_dir)\n",
    "print(csv_file)"
   ]
  },
  {
   "cell_type": "code",
   "execution_count": 11,
   "id": "d8987279",
   "metadata": {},
   "outputs": [
    {
     "data": {
      "text/plain": [
       "True"
      ]
     },
     "execution_count": 11,
     "metadata": {},
     "output_type": "execute_result"
    }
   ],
   "source": [
    "data_dir.exists()"
   ]
  },
  {
   "cell_type": "code",
   "execution_count": 12,
   "id": "808115f6",
   "metadata": {},
   "outputs": [
    {
     "data": {
      "text/plain": [
       "True"
      ]
     },
     "execution_count": 12,
     "metadata": {},
     "output_type": "execute_result"
    }
   ],
   "source": [
    "csv_file.exists()"
   ]
  },
  {
   "cell_type": "code",
   "execution_count": 13,
   "id": "e93ff463",
   "metadata": {},
   "outputs": [
    {
     "data": {
      "text/plain": [
       "True"
      ]
     },
     "execution_count": 13,
     "metadata": {},
     "output_type": "execute_result"
    }
   ],
   "source": [
    "data_dir.is_dir()"
   ]
  },
  {
   "cell_type": "code",
   "execution_count": 14,
   "id": "0370b814",
   "metadata": {},
   "outputs": [
    {
     "data": {
      "text/plain": [
       "True"
      ]
     },
     "execution_count": 14,
     "metadata": {},
     "output_type": "execute_result"
    }
   ],
   "source": [
    "csv_file.is_file()"
   ]
  },
  {
   "cell_type": "code",
   "execution_count": 15,
   "id": "dcf42fc4",
   "metadata": {},
   "outputs": [
    {
     "data": {
      "text/plain": [
       "WindowsPath('C:/Users/Mark/Dropbox/GitHub/PythonExercises/ExampleOfCombiningCSV/Data/Test_1.csv')"
      ]
     },
     "execution_count": 15,
     "metadata": {},
     "output_type": "execute_result"
    }
   ],
   "source": [
    "csv_file.absolute()"
   ]
  },
  {
   "cell_type": "code",
   "execution_count": 16,
   "id": "71115c67",
   "metadata": {},
   "outputs": [
    {
     "data": {
      "text/plain": [
       "'C:\\\\Users\\\\Mark'"
      ]
     },
     "execution_count": 16,
     "metadata": {},
     "output_type": "execute_result"
    }
   ],
   "source": [
    "str(Path.home())"
   ]
  },
  {
   "cell_type": "code",
   "execution_count": 17,
   "id": "b30272bb",
   "metadata": {},
   "outputs": [
    {
     "data": {
      "text/plain": [
       "WindowsPath('C:/Users/Mark/Dropbox/GitHub/PythonExercises/plot1.png')"
      ]
     },
     "execution_count": 17,
     "metadata": {},
     "output_type": "execute_result"
    }
   ],
   "source": [
    "image_file = Path(\"plot1.png\").absolute()\n",
    "\n",
    "image_file"
   ]
  },
  {
   "cell_type": "code",
   "execution_count": 21,
   "id": "596e0e3c",
   "metadata": {},
   "outputs": [
    {
     "data": {
      "text/plain": [
       "WindowsPath('C:/Users/Mark/Dropbox/GitHub/PythonExercises')"
      ]
     },
     "execution_count": 21,
     "metadata": {},
     "output_type": "execute_result"
    }
   ],
   "source": [
    "image_file.parent"
   ]
  },
  {
   "cell_type": "code",
   "execution_count": 22,
   "id": "76303767",
   "metadata": {},
   "outputs": [
    {
     "data": {
      "text/plain": [
       "'plot1.png'"
      ]
     },
     "execution_count": 22,
     "metadata": {},
     "output_type": "execute_result"
    }
   ],
   "source": [
    "image_file.name"
   ]
  },
  {
   "cell_type": "code",
   "execution_count": 23,
   "id": "fbfd7651",
   "metadata": {},
   "outputs": [
    {
     "data": {
      "text/plain": [
       "'plot1'"
      ]
     },
     "execution_count": 23,
     "metadata": {},
     "output_type": "execute_result"
    }
   ],
   "source": [
    "image_file.stem"
   ]
  },
  {
   "cell_type": "code",
   "execution_count": 24,
   "id": "d719c5ee",
   "metadata": {
    "scrolled": true
   },
   "outputs": [
    {
     "data": {
      "text/plain": [
       "'.png'"
      ]
     },
     "execution_count": 24,
     "metadata": {},
     "output_type": "execute_result"
    }
   ],
   "source": [
    "image_file.suffix"
   ]
  },
  {
   "cell_type": "code",
   "execution_count": 25,
   "id": "7c0ec47a",
   "metadata": {},
   "outputs": [
    {
     "data": {
      "text/plain": [
       "('C:\\\\', 'Users', 'Mark', 'Dropbox', 'GitHub', 'PythonExercises', 'plot1.png')"
      ]
     },
     "execution_count": 25,
     "metadata": {},
     "output_type": "execute_result"
    }
   ],
   "source": [
    "image_file.parts"
   ]
  },
  {
   "cell_type": "code",
   "execution_count": 26,
   "id": "f2ff64a6",
   "metadata": {},
   "outputs": [
    {
     "name": "stdout",
     "output_type": "stream",
     "text": [
      "C:\\Users\\Mark\\Dropbox\\GitHub\\PythonExercises\n",
      "C:\\Users\\Mark\\Dropbox\\GitHub\n",
      "C:\\Users\\Mark\\Dropbox\n",
      "C:\\Users\\Mark\n",
      "C:\\Users\n",
      "C:\\\n"
     ]
    }
   ],
   "source": [
    "for i in image_file.parents:\n",
    "    print(i)"
   ]
  },
  {
   "cell_type": "code",
   "execution_count": 27,
   "id": "b46ccbf2",
   "metadata": {},
   "outputs": [
    {
     "data": {
      "text/plain": [
       "25"
      ]
     },
     "execution_count": 27,
     "metadata": {},
     "output_type": "execute_result"
    }
   ],
   "source": [
    "markdown = data_dir / \"file.md\"\n",
    "\n",
    "# Create (override) and write text\n",
    "markdown.write_text(\"# This is a test markdown\")"
   ]
  },
  {
   "cell_type": "code",
   "execution_count": 28,
   "id": "49f7c256",
   "metadata": {},
   "outputs": [
    {
     "data": {
      "text/plain": [
       "'# This is a test markdown'"
      ]
     },
     "execution_count": 28,
     "metadata": {},
     "output_type": "execute_result"
    }
   ],
   "source": [
    "markdown.read_text()"
   ]
  },
  {
   "cell_type": "code",
   "execution_count": 29,
   "id": "6fefa9e2",
   "metadata": {},
   "outputs": [
    {
     "data": {
      "text/plain": [
       "23622"
      ]
     },
     "execution_count": 29,
     "metadata": {},
     "output_type": "execute_result"
    }
   ],
   "source": [
    "len(image_file.read_bytes())"
   ]
  },
  {
   "cell_type": "code",
   "execution_count": 30,
   "id": "4902a989",
   "metadata": {},
   "outputs": [
    {
     "data": {
      "text/plain": [
       "21"
      ]
     },
     "execution_count": 30,
     "metadata": {},
     "output_type": "execute_result"
    }
   ],
   "source": [
    "# Write new text to existing file\n",
    "markdown.write_text(\"## This is a new line\")"
   ]
  },
  {
   "cell_type": "code",
   "execution_count": 31,
   "id": "825544b0",
   "metadata": {},
   "outputs": [
    {
     "data": {
      "text/plain": [
       "'## This is a new line'"
      ]
     },
     "execution_count": 31,
     "metadata": {},
     "output_type": "execute_result"
    }
   ],
   "source": [
    "# The file is overridden\n",
    "markdown.read_text()"
   ]
  },
  {
   "cell_type": "code",
   "execution_count": 32,
   "id": "d5f01474",
   "metadata": {},
   "outputs": [
    {
     "data": {
      "text/plain": [
       "'## This is a new line\\n### This is the second line'"
      ]
     },
     "execution_count": 32,
     "metadata": {},
     "output_type": "execute_result"
    }
   ],
   "source": [
    "# Append text\n",
    "with markdown.open(mode=\"a\") as file:\n",
    "    file.write(\"\\n### This is the second line\")\n",
    "\n",
    "markdown.read_text()"
   ]
  },
  {
   "cell_type": "code",
   "execution_count": 33,
   "id": "19bea1b4",
   "metadata": {},
   "outputs": [
    {
     "data": {
      "text/plain": [
       "WindowsPath('ExampleOfCombiningCSV/Data/new_markdown.md')"
      ]
     },
     "execution_count": 33,
     "metadata": {},
     "output_type": "execute_result"
    }
   ],
   "source": [
    "renamed_md = markdown.with_stem(\"new_markdown\")\n",
    "\n",
    "markdown.rename(renamed_md)"
   ]
  },
  {
   "cell_type": "code",
   "execution_count": 34,
   "id": "4304bcd7",
   "metadata": {},
   "outputs": [
    {
     "data": {
      "text/plain": [
       "50"
      ]
     },
     "execution_count": 34,
     "metadata": {},
     "output_type": "execute_result"
    }
   ],
   "source": [
    "# Display file size\n",
    "renamed_md.stat().st_size\n"
   ]
  },
  {
   "cell_type": "code",
   "execution_count": 35,
   "id": "c82a6501",
   "metadata": {},
   "outputs": [
    {
     "data": {
      "text/plain": [
       "datetime.datetime(2023, 5, 1, 22, 46, 40, 155684)"
      ]
     },
     "execution_count": 35,
     "metadata": {},
     "output_type": "execute_result"
    }
   ],
   "source": [
    "from datetime import datetime\n",
    "\n",
    "modified_timestamp = renamed_md.stat().st_mtime\n",
    "\n",
    "datetime.fromtimestamp(modified_timestamp)\n"
   ]
  },
  {
   "cell_type": "code",
   "execution_count": 36,
   "id": "06cd58f1",
   "metadata": {},
   "outputs": [
    {
     "name": "stdout",
     "output_type": "stream",
     "text": [
      "C:\\Users\\Mark\\.anaconda\n",
      "C:\\Users\\Mark\\.android\n",
      "C:\\Users\\Mark\\.arduino-create\n",
      "C:\\Users\\Mark\\.arduinocdt\n",
      "C:\\Users\\Mark\\.astropy\n",
      "C:\\Users\\Mark\\.asy\n",
      "C:\\Users\\Mark\\.atom\n",
      "C:\\Users\\Mark\\.bash_history\n",
      "C:\\Users\\Mark\\.cache\n",
      "C:\\Users\\Mark\\.conda\n",
      "C:\\Users\\Mark\\.condarc\n",
      "C:\\Users\\Mark\\.config\n",
      "C:\\Users\\Mark\\.continuum\n",
      "C:\\Users\\Mark\\.dropbox_bi\n",
      "C:\\Users\\Mark\\.eclipse\n",
      "C:\\Users\\Mark\\.gitconfig\n",
      "C:\\Users\\Mark\\.gtk-bookmarks\n",
      "C:\\Users\\Mark\\.hyper.js\n",
      "C:\\Users\\Mark\\.hyper_plugins\n",
      "C:\\Users\\Mark\\.ipynb_checkpoints\n",
      "C:\\Users\\Mark\\.ipython\n",
      "C:\\Users\\Mark\\.jupyter\n",
      "C:\\Users\\Mark\\.maplesoft\n",
      "C:\\Users\\Mark\\.matplotlib\n",
      "C:\\Users\\Mark\\.ms-ad\n",
      "C:\\Users\\Mark\\.node_repl_history\n",
      "C:\\Users\\Mark\\.openjfx\n",
      "C:\\Users\\Mark\\.p2\n",
      "C:\\Users\\Mark\\.pdfbox.cache\n",
      "C:\\Users\\Mark\\.pgAdmin4.1590372639.addr\n",
      "C:\\Users\\Mark\\.pgAdmin4.1590372639.log\n",
      "C:\\Users\\Mark\\.pgAdmin4.startup.log\n",
      "C:\\Users\\Mark\\.pylint.d\n",
      "C:\\Users\\Mark\\.python_history\n",
      "C:\\Users\\Mark\\.sambox.cache\n",
      "C:\\Users\\Mark\\.u2net\n",
      "C:\\Users\\Mark\\.virtualenvs\n",
      "C:\\Users\\Mark\\.vscode\n",
      "C:\\Users\\Mark\\.Xilinx\n",
      "C:\\Users\\Mark\\3D Objects\n",
      "C:\\Users\\Mark\\anaconda3\n",
      "C:\\Users\\Mark\\ansel\n",
      "C:\\Users\\Mark\\AppData\n",
      "C:\\Users\\Mark\\Application Data\n",
      "C:\\Users\\Mark\\Basys3_Projects\n",
      "C:\\Users\\Mark\\cmder\n",
      "C:\\Users\\Mark\\Cmder.exe\n",
      "C:\\Users\\Mark\\Contacts\n",
      "C:\\Users\\Mark\\Cookies\n",
      "C:\\Users\\Mark\\Documents\n",
      "C:\\Users\\Mark\\Downloads\n",
      "C:\\Users\\Mark\\Dropbox\n",
      "C:\\Users\\Mark\\eclipse\n",
      "C:\\Users\\Mark\\edb_npgsql.exe\n",
      "C:\\Users\\Mark\\edb_pgagent.exe\n",
      "C:\\Users\\Mark\\edb_pgbouncer.exe\n",
      "C:\\Users\\Mark\\Evernote\n",
      "C:\\Users\\Mark\\Favorites\n",
      "C:\\Users\\Mark\\IntelGraphicsProfiles\n",
      "C:\\Users\\Mark\\Links\n",
      "C:\\Users\\Mark\\Local Settings\n",
      "C:\\Users\\Mark\\Maple\n",
      "C:\\Users\\Mark\\Microsoft\n",
      "C:\\Users\\Mark\\MicrosoftEdgeBackups\n",
      "C:\\Users\\Mark\\Music\n",
      "C:\\Users\\Mark\\My Documents\n",
      "C:\\Users\\Mark\\NetHood\n",
      "C:\\Users\\Mark\\node_modules\n",
      "C:\\Users\\Mark\\ntuser.dat\n",
      "C:\\Users\\Mark\\ntuser.dat.log1\n",
      "C:\\Users\\Mark\\ntuser.dat.log2\n",
      "C:\\Users\\Mark\\ntuser.dat{30b23535-d6fe-11ed-a90d-48a472a22f0f}.TM.blf\n",
      "C:\\Users\\Mark\\ntuser.dat{30b23535-d6fe-11ed-a90d-48a472a22f0f}.TMContainer00000000000000000001.regtrans-ms\n",
      "C:\\Users\\Mark\\ntuser.dat{30b23535-d6fe-11ed-a90d-48a472a22f0f}.TMContainer00000000000000000002.regtrans-ms\n",
      "C:\\Users\\Mark\\NTUSER.DAT{a2332f18-cdbf-11ec-8680-002248483d79}.TM.blf\n",
      "C:\\Users\\Mark\\NTUSER.DAT{a2332f18-cdbf-11ec-8680-002248483d79}.TMContainer00000000000000000001.regtrans-ms\n",
      "C:\\Users\\Mark\\NTUSER.DAT{a2332f18-cdbf-11ec-8680-002248483d79}.TMContainer00000000000000000002.regtrans-ms\n",
      "C:\\Users\\Mark\\ntuser.ini\n",
      "C:\\Users\\Mark\\OneDrive\n",
      "C:\\Users\\Mark\\package-lock.json\n",
      "C:\\Users\\Mark\\package.json\n",
      "C:\\Users\\Mark\\pemhttpd.exe\n",
      "C:\\Users\\Mark\\Postman\n",
      "C:\\Users\\Mark\\Practice.ipynb\n",
      "C:\\Users\\Mark\\PrintHood\n",
      "C:\\Users\\Mark\\PycharmProjects\n",
      "C:\\Users\\Mark\\Recent\n",
      "C:\\Users\\Mark\\Roaming\n",
      "C:\\Users\\Mark\\Saved Games\n",
      "C:\\Users\\Mark\\seaborn-data\n",
      "C:\\Users\\Mark\\Searches\n",
      "C:\\Users\\Mark\\SendTo\n",
      "C:\\Users\\Mark\\Sonobuoys.pdf\n",
      "C:\\Users\\Mark\\source\n",
      "C:\\Users\\Mark\\Start Menu\n",
      "C:\\Users\\Mark\\Sti_Trace.log\n",
      "C:\\Users\\Mark\\Templates\n",
      "C:\\Users\\Mark\\Untitled.ipynb\n",
      "C:\\Users\\Mark\\Untitled1.ipynb\n",
      "C:\\Users\\Mark\\Untitled2.ipynb\n",
      "C:\\Users\\Mark\\vendor\n",
      "C:\\Users\\Mark\\Videos\n",
      "C:\\Users\\Mark\\_netrc\n"
     ]
    }
   ],
   "source": [
    "for p in Path.home().iterdir():\n",
    "    print(p)"
   ]
  },
  {
   "cell_type": "code",
   "execution_count": 37,
   "id": "f1965a06",
   "metadata": {},
   "outputs": [
    {
     "data": {
      "text/plain": [
       "0"
      ]
     },
     "execution_count": 37,
     "metadata": {},
     "output_type": "execute_result"
    }
   ],
   "source": [
    "home = Path.home()\n",
    "text_files = list(home.glob(\"*.txt\"))\n",
    "\n",
    "len(text_files)"
   ]
  },
  {
   "cell_type": "code",
   "execution_count": 38,
   "id": "803bc44c",
   "metadata": {},
   "outputs": [
    {
     "ename": "KeyboardInterrupt",
     "evalue": "",
     "output_type": "error",
     "traceback": [
      "\u001b[1;31m---------------------------------------------------------------------------\u001b[0m",
      "\u001b[1;31mKeyboardInterrupt\u001b[0m                         Traceback (most recent call last)",
      "Cell \u001b[1;32mIn[38], line 1\u001b[0m\n\u001b[1;32m----> 1\u001b[0m all_text_files \u001b[38;5;241m=\u001b[39m [p \u001b[38;5;28;01mfor\u001b[39;00m p \u001b[38;5;129;01min\u001b[39;00m home\u001b[38;5;241m.\u001b[39mrglob(\u001b[38;5;124m\"\u001b[39m\u001b[38;5;124m*.txt\u001b[39m\u001b[38;5;124m\"\u001b[39m)]\n\u001b[0;32m      3\u001b[0m \u001b[38;5;28mlen\u001b[39m(all_text_files)\n",
      "Cell \u001b[1;32mIn[38], line 1\u001b[0m, in \u001b[0;36m<listcomp>\u001b[1;34m(.0)\u001b[0m\n\u001b[1;32m----> 1\u001b[0m all_text_files \u001b[38;5;241m=\u001b[39m [p \u001b[38;5;28;01mfor\u001b[39;00m p \u001b[38;5;129;01min\u001b[39;00m home\u001b[38;5;241m.\u001b[39mrglob(\u001b[38;5;124m\"\u001b[39m\u001b[38;5;124m*.txt\u001b[39m\u001b[38;5;124m\"\u001b[39m)]\n\u001b[0;32m      3\u001b[0m \u001b[38;5;28mlen\u001b[39m(all_text_files)\n",
      "File \u001b[1;32m~\\anaconda3\\lib\\pathlib.py:1190\u001b[0m, in \u001b[0;36mPath.rglob\u001b[1;34m(self, pattern)\u001b[0m\n\u001b[0;32m   1188\u001b[0m     \u001b[38;5;28;01mraise\u001b[39;00m \u001b[38;5;167;01mNotImplementedError\u001b[39;00m(\u001b[38;5;124m\"\u001b[39m\u001b[38;5;124mNon-relative patterns are unsupported\u001b[39m\u001b[38;5;124m\"\u001b[39m)\n\u001b[0;32m   1189\u001b[0m selector \u001b[38;5;241m=\u001b[39m _make_selector((\u001b[38;5;124m\"\u001b[39m\u001b[38;5;124m**\u001b[39m\u001b[38;5;124m\"\u001b[39m,) \u001b[38;5;241m+\u001b[39m \u001b[38;5;28mtuple\u001b[39m(pattern_parts), \u001b[38;5;28mself\u001b[39m\u001b[38;5;241m.\u001b[39m_flavour)\n\u001b[1;32m-> 1190\u001b[0m \u001b[38;5;28;01mfor\u001b[39;00m p \u001b[38;5;129;01min\u001b[39;00m selector\u001b[38;5;241m.\u001b[39mselect_from(\u001b[38;5;28mself\u001b[39m):\n\u001b[0;32m   1191\u001b[0m     \u001b[38;5;28;01myield\u001b[39;00m p\n",
      "File \u001b[1;32m~\\anaconda3\\lib\\pathlib.py:610\u001b[0m, in \u001b[0;36m_RecursiveWildcardSelector._select_from\u001b[1;34m(self, parent_path, is_dir, exists, scandir)\u001b[0m\n\u001b[0;32m    608\u001b[0m \u001b[38;5;28;01mtry\u001b[39;00m:\n\u001b[0;32m    609\u001b[0m     successor_select \u001b[38;5;241m=\u001b[39m \u001b[38;5;28mself\u001b[39m\u001b[38;5;241m.\u001b[39msuccessor\u001b[38;5;241m.\u001b[39m_select_from\n\u001b[1;32m--> 610\u001b[0m     \u001b[38;5;28;01mfor\u001b[39;00m starting_point \u001b[38;5;129;01min\u001b[39;00m \u001b[38;5;28mself\u001b[39m\u001b[38;5;241m.\u001b[39m_iterate_directories(parent_path, is_dir, scandir):\n\u001b[0;32m    611\u001b[0m         \u001b[38;5;28;01mfor\u001b[39;00m p \u001b[38;5;129;01min\u001b[39;00m successor_select(starting_point, is_dir, exists, scandir):\n\u001b[0;32m    612\u001b[0m             \u001b[38;5;28;01mif\u001b[39;00m p \u001b[38;5;129;01mnot\u001b[39;00m \u001b[38;5;129;01min\u001b[39;00m yielded:\n",
      "File \u001b[1;32m~\\anaconda3\\lib\\pathlib.py:600\u001b[0m, in \u001b[0;36m_RecursiveWildcardSelector._iterate_directories\u001b[1;34m(self, parent_path, is_dir, scandir)\u001b[0m\n\u001b[0;32m    598\u001b[0m         \u001b[38;5;28;01mif\u001b[39;00m entry_is_dir \u001b[38;5;129;01mand\u001b[39;00m \u001b[38;5;129;01mnot\u001b[39;00m entry\u001b[38;5;241m.\u001b[39mis_symlink():\n\u001b[0;32m    599\u001b[0m             path \u001b[38;5;241m=\u001b[39m parent_path\u001b[38;5;241m.\u001b[39m_make_child_relpath(entry\u001b[38;5;241m.\u001b[39mname)\n\u001b[1;32m--> 600\u001b[0m             \u001b[38;5;28;01mfor\u001b[39;00m p \u001b[38;5;129;01min\u001b[39;00m \u001b[38;5;28mself\u001b[39m\u001b[38;5;241m.\u001b[39m_iterate_directories(path, is_dir, scandir):\n\u001b[0;32m    601\u001b[0m                 \u001b[38;5;28;01myield\u001b[39;00m p\n\u001b[0;32m    602\u001b[0m \u001b[38;5;28;01mexcept\u001b[39;00m \u001b[38;5;167;01mPermissionError\u001b[39;00m:\n",
      "File \u001b[1;32m~\\anaconda3\\lib\\pathlib.py:600\u001b[0m, in \u001b[0;36m_RecursiveWildcardSelector._iterate_directories\u001b[1;34m(self, parent_path, is_dir, scandir)\u001b[0m\n\u001b[0;32m    598\u001b[0m         \u001b[38;5;28;01mif\u001b[39;00m entry_is_dir \u001b[38;5;129;01mand\u001b[39;00m \u001b[38;5;129;01mnot\u001b[39;00m entry\u001b[38;5;241m.\u001b[39mis_symlink():\n\u001b[0;32m    599\u001b[0m             path \u001b[38;5;241m=\u001b[39m parent_path\u001b[38;5;241m.\u001b[39m_make_child_relpath(entry\u001b[38;5;241m.\u001b[39mname)\n\u001b[1;32m--> 600\u001b[0m             \u001b[38;5;28;01mfor\u001b[39;00m p \u001b[38;5;129;01min\u001b[39;00m \u001b[38;5;28mself\u001b[39m\u001b[38;5;241m.\u001b[39m_iterate_directories(path, is_dir, scandir):\n\u001b[0;32m    601\u001b[0m                 \u001b[38;5;28;01myield\u001b[39;00m p\n\u001b[0;32m    602\u001b[0m \u001b[38;5;28;01mexcept\u001b[39;00m \u001b[38;5;167;01mPermissionError\u001b[39;00m:\n",
      "    \u001b[1;31m[... skipping similar frames: _RecursiveWildcardSelector._iterate_directories at line 600 (5 times)]\u001b[0m\n",
      "File \u001b[1;32m~\\anaconda3\\lib\\pathlib.py:600\u001b[0m, in \u001b[0;36m_RecursiveWildcardSelector._iterate_directories\u001b[1;34m(self, parent_path, is_dir, scandir)\u001b[0m\n\u001b[0;32m    598\u001b[0m         \u001b[38;5;28;01mif\u001b[39;00m entry_is_dir \u001b[38;5;129;01mand\u001b[39;00m \u001b[38;5;129;01mnot\u001b[39;00m entry\u001b[38;5;241m.\u001b[39mis_symlink():\n\u001b[0;32m    599\u001b[0m             path \u001b[38;5;241m=\u001b[39m parent_path\u001b[38;5;241m.\u001b[39m_make_child_relpath(entry\u001b[38;5;241m.\u001b[39mname)\n\u001b[1;32m--> 600\u001b[0m             \u001b[38;5;28;01mfor\u001b[39;00m p \u001b[38;5;129;01min\u001b[39;00m \u001b[38;5;28mself\u001b[39m\u001b[38;5;241m.\u001b[39m_iterate_directories(path, is_dir, scandir):\n\u001b[0;32m    601\u001b[0m                 \u001b[38;5;28;01myield\u001b[39;00m p\n\u001b[0;32m    602\u001b[0m \u001b[38;5;28;01mexcept\u001b[39;00m \u001b[38;5;167;01mPermissionError\u001b[39;00m:\n",
      "File \u001b[1;32m~\\anaconda3\\lib\\pathlib.py:590\u001b[0m, in \u001b[0;36m_RecursiveWildcardSelector._iterate_directories\u001b[1;34m(self, parent_path, is_dir, scandir)\u001b[0m\n\u001b[0;32m    588\u001b[0m \u001b[38;5;28;01mtry\u001b[39;00m:\n\u001b[0;32m    589\u001b[0m     \u001b[38;5;28;01mwith\u001b[39;00m scandir(parent_path) \u001b[38;5;28;01mas\u001b[39;00m scandir_it:\n\u001b[1;32m--> 590\u001b[0m         entries \u001b[38;5;241m=\u001b[39m \u001b[38;5;28;43mlist\u001b[39;49m\u001b[43m(\u001b[49m\u001b[43mscandir_it\u001b[49m\u001b[43m)\u001b[49m\n\u001b[0;32m    591\u001b[0m     \u001b[38;5;28;01mfor\u001b[39;00m entry \u001b[38;5;129;01min\u001b[39;00m entries:\n\u001b[0;32m    592\u001b[0m         entry_is_dir \u001b[38;5;241m=\u001b[39m \u001b[38;5;28;01mFalse\u001b[39;00m\n",
      "\u001b[1;31mKeyboardInterrupt\u001b[0m: "
     ]
    }
   ],
   "source": [
    "all_text_files = [p for p in home.rglob(\"*.txt\")]\n",
    "\n",
    "len(all_text_files)"
   ]
  },
  {
   "cell_type": "code",
   "execution_count": null,
   "id": "5c35ecef",
   "metadata": {},
   "outputs": [],
   "source": [
    "from collections import Counter\n",
    "\n",
    "file_counts = Counter(\n",
    "    path.suffix for path in (home / \"articles\").rglob(\"*\")\n",
    ")\n",
    "\n",
    "file_counts"
   ]
  },
  {
   "cell_type": "code",
   "execution_count": 39,
   "id": "8e2143e6",
   "metadata": {},
   "outputs": [
    {
     "data": {
      "text/plain": [
       "pathlib.WindowsPath"
      ]
     },
     "execution_count": 39,
     "metadata": {},
     "output_type": "execute_result"
    }
   ],
   "source": [
    "type(Path.home())"
   ]
  },
  {
   "cell_type": "code",
   "execution_count": 40,
   "id": "ed349f77",
   "metadata": {},
   "outputs": [
    {
     "data": {
      "text/plain": [
       "WindowsPath('C:/users')"
      ]
     },
     "execution_count": 40,
     "metadata": {},
     "output_type": "execute_result"
    }
   ],
   "source": [
    "from pathlib import WindowsPath\n",
    "\n",
    "# User raw strings that start with r to write windows paths\n",
    "path = WindowsPath(r\"C:\\users\")\n",
    "path"
   ]
  },
  {
   "cell_type": "code",
   "execution_count": 41,
   "id": "a8b82b90",
   "metadata": {},
   "outputs": [
    {
     "data": {
      "text/plain": [
       "PureWindowsPath('C:/users')"
      ]
     },
     "execution_count": 41,
     "metadata": {},
     "output_type": "execute_result"
    }
   ],
   "source": [
    "from pathlib import PurePosixPath, PureWindowsPath\n",
    "\n",
    "path = PureWindowsPath(r\"C:\\users\")\n",
    "path"
   ]
  },
  {
   "cell_type": "code",
   "execution_count": null,
   "id": "3676a2d9",
   "metadata": {},
   "outputs": [],
   "source": []
  }
 ],
 "metadata": {
  "kernelspec": {
   "display_name": "Python 3 (ipykernel)",
   "language": "python",
   "name": "python3"
  },
  "language_info": {
   "codemirror_mode": {
    "name": "ipython",
    "version": 3
   },
   "file_extension": ".py",
   "mimetype": "text/x-python",
   "name": "python",
   "nbconvert_exporter": "python",
   "pygments_lexer": "ipython3",
   "version": "3.9.15"
  },
  "toc": {
   "base_numbering": 1,
   "nav_menu": {},
   "number_sections": true,
   "sideBar": true,
   "skip_h1_title": false,
   "title_cell": "Table of Contents",
   "title_sidebar": "Contents",
   "toc_cell": false,
   "toc_position": {},
   "toc_section_display": true,
   "toc_window_display": false
  }
 },
 "nbformat": 4,
 "nbformat_minor": 5
}
