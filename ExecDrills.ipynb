{
 "cells": [
  {
   "cell_type": "markdown",
   "id": "d9a871b5",
   "metadata": {},
   "source": [
    "https://pythonflood.com/boost-your-coding-abilities-with-python-exec-function-bec400c53e9c"
   ]
  },
  {
   "cell_type": "code",
   "execution_count": 1,
   "id": "272b8448",
   "metadata": {},
   "outputs": [
    {
     "name": "stdout",
     "output_type": "stream",
     "text": [
      "Hello, world!\n"
     ]
    }
   ],
   "source": [
    "exec('print(\"Hello, world!\")')"
   ]
  },
  {
   "cell_type": "code",
   "execution_count": 3,
   "id": "4cfef261",
   "metadata": {},
   "outputs": [
    {
     "name": "stdout",
     "output_type": "stream",
     "text": [
      "The answer is: 42\n",
      "25\n"
     ]
    }
   ],
   "source": [
    "code = '''\n",
    "x = 42\n",
    "print(\"The answer is:\", x)\n",
    "'''\n",
    "\n",
    "exec(code)\n",
    "\n",
    "def square(x):\n",
    "    return x ** 2\n",
    "\n",
    "exec('result = square(5)')\n",
    "print(result) #Output: The answer is: 42"
   ]
  },
  {
   "cell_type": "code",
   "execution_count": 4,
   "id": "990756c4",
   "metadata": {},
   "outputs": [
    {
     "name": "stdout",
     "output_type": "stream",
     "text": [
      "a + b + c = 6\n"
     ]
    }
   ],
   "source": [
    "variables = {'a': 1, 'b': 2, 'c': 3}\n",
    "code = '''\n",
    "print(\"a + b + c =\", a + b + c)\n",
    "'''\n",
    "\n",
    "exec(code, variables) #Output: a + b + c = 6"
   ]
  },
  {
   "cell_type": "code",
   "execution_count": 5,
   "id": "984e3374",
   "metadata": {},
   "outputs": [
    {
     "name": "stdout",
     "output_type": "stream",
     "text": [
      "x + y = 15\n"
     ]
    }
   ],
   "source": [
    "code = '''\n",
    "x = 5\n",
    "y = 10\n",
    "print(\"x + y =\", x + y)\n",
    "'''\n",
    "\n",
    "exec(code, {}, {'x': 1, 'y': 2}) #Output: x + y = 15"
   ]
  },
  {
   "cell_type": "code",
   "execution_count": null,
   "id": "7439062a",
   "metadata": {},
   "outputs": [],
   "source": []
  }
 ],
 "metadata": {
  "kernelspec": {
   "display_name": "Python 3 (ipykernel)",
   "language": "python",
   "name": "python3"
  },
  "language_info": {
   "codemirror_mode": {
    "name": "ipython",
    "version": 3
   },
   "file_extension": ".py",
   "mimetype": "text/x-python",
   "name": "python",
   "nbconvert_exporter": "python",
   "pygments_lexer": "ipython3",
   "version": "3.9.7"
  }
 },
 "nbformat": 4,
 "nbformat_minor": 5
}
