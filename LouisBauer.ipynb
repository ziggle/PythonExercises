{
 "cells": [
  {
   "cell_type": "code",
   "execution_count": 12,
   "metadata": {},
   "outputs": [
    {
     "name": "stdout",
     "output_type": "stream",
     "text": [
      "Years, Months, Days between two dates is\n",
      "0 Years, 4 months, 26 days\n"
     ]
    }
   ],
   "source": [
    "from datetime import datetime\n",
    "from dateutil import relativedelta\n",
    "\n",
    "# two dates\n",
    "\n",
    "d1='4/8/1885'\n",
    "d2='30/12/1885'\n",
    "\n",
    "start_date = datetime.strptime(d1,\"%d/%m/%Y\")\n",
    "end_date = datetime.strptime(d2, \"%d/%m/%Y\")\n",
    "\n",
    "# Get the relativedelta between two dates\n",
    "delta = relativedelta.relativedelta(end_date, start_date)\n",
    "print('Years, Months, Days between two dates is')\n",
    "print(delta.years, 'Years,', delta.months, 'months,', delta.days, 'days')"
   ]
  },
  {
   "cell_type": "code",
   "execution_count": 25,
   "metadata": {},
   "outputs": [
    {
     "name": "stdout",
     "output_type": "stream",
     "text": [
      "0 Years, 4 months, 26 days\n"
     ]
    }
   ],
   "source": [
    "def td(start, end):\n",
    "    start_date = datetime.strptime(start,\"%d/%m/%Y\")\n",
    "    end_date = datetime.strptime(end, \"%d/%m/%Y\")\n",
    "\n",
    "    # Get the relativedelta between two dates\n",
    "    delta = relativedelta.relativedelta(end_date, start_date)\n",
    "    s = f'{delta.years} Years, {delta.months} months, {delta.days} days'\n",
    "    return s\n",
    "    \n",
    "z=td(d1,d2)\n",
    "print(z)"
   ]
  },
  {
   "cell_type": "code",
   "execution_count": 26,
   "metadata": {},
   "outputs": [
    {
     "data": {
      "text/html": [
       "<div>\n",
       "<style scoped>\n",
       "    .dataframe tbody tr th:only-of-type {\n",
       "        vertical-align: middle;\n",
       "    }\n",
       "\n",
       "    .dataframe tbody tr th {\n",
       "        vertical-align: top;\n",
       "    }\n",
       "\n",
       "    .dataframe thead th {\n",
       "        text-align: right;\n",
       "    }\n",
       "</style>\n",
       "<table border=\"1\" class=\"dataframe\">\n",
       "  <thead>\n",
       "    <tr style=\"text-align: right;\">\n",
       "      <th></th>\n",
       "      <th>Fort</th>\n",
       "      <th>StartDate</th>\n",
       "      <th>EndDate</th>\n",
       "    </tr>\n",
       "  </thead>\n",
       "  <tbody>\n",
       "    <tr>\n",
       "      <th>0</th>\n",
       "      <td>Fort Riley KS</td>\n",
       "      <td>4/8/1885</td>\n",
       "      <td>30/12/1885</td>\n",
       "    </tr>\n",
       "    <tr>\n",
       "      <th>1</th>\n",
       "      <td>Fort Yates</td>\n",
       "      <td>31/12/1885</td>\n",
       "      <td>16/10/1886</td>\n",
       "    </tr>\n",
       "    <tr>\n",
       "      <th>2</th>\n",
       "      <td>Fort Riley</td>\n",
       "      <td>17/7/1888</td>\n",
       "      <td>8/10/1892</td>\n",
       "    </tr>\n",
       "  </tbody>\n",
       "</table>\n",
       "</div>"
      ],
      "text/plain": [
       "            Fort   StartDate     EndDate\n",
       "0  Fort Riley KS    4/8/1885  30/12/1885\n",
       "1     Fort Yates  31/12/1885  16/10/1886\n",
       "2     Fort Riley   17/7/1888   8/10/1892"
      ]
     },
     "metadata": {},
     "output_type": "display_data"
    }
   ],
   "source": [
    "import pandas as pd\n",
    "louis=pd.DataFrame(\n",
    "[['Fort Riley KS','4/8/1885','30/12/1885'],\n",
    " ['Fort Yates','31/12/1885','16/10/1886'],\n",
    " ['Fort Riley','17/7/1888', '8/10/1892'],\n",
    "],\n",
    "columns=['Fort','StartDate',\"EndDate\"]\n",
    ")\n",
    "display(louis)"
   ]
  },
  {
   "cell_type": "code",
   "execution_count": 27,
   "metadata": {},
   "outputs": [
    {
     "name": "stdout",
     "output_type": "stream",
     "text": [
      "            Fort   StartDate     EndDate                    Duration\n",
      "0  Fort Riley KS    4/8/1885  30/12/1885  0 Years, 4 months, 26 days\n",
      "1     Fort Yates  31/12/1885  16/10/1886  0 Years, 9 months, 16 days\n",
      "2     Fort Riley   17/7/1888   8/10/1892  4 Years, 2 months, 21 days\n"
     ]
    }
   ],
   "source": [
    "#louis['Duration'] = louis.apply(lambda x: td(x['StartDate'],x['EndDate']))\n",
    "import numpy as np\n",
    "\n",
    "louis['Duration'] = np.vectorize(td)(louis['StartDate'], louis['EndDate'])\n",
    "print(louis)"
   ]
  },
  {
   "cell_type": "code",
   "execution_count": 30,
   "metadata": {},
   "outputs": [
    {
     "data": {
      "text/html": [
       "<div>\n",
       "<style scoped>\n",
       "    .dataframe tbody tr th:only-of-type {\n",
       "        vertical-align: middle;\n",
       "    }\n",
       "\n",
       "    .dataframe tbody tr th {\n",
       "        vertical-align: top;\n",
       "    }\n",
       "\n",
       "    .dataframe thead th {\n",
       "        text-align: right;\n",
       "    }\n",
       "</style>\n",
       "<table border=\"1\" class=\"dataframe\">\n",
       "  <thead>\n",
       "    <tr style=\"text-align: right;\">\n",
       "      <th></th>\n",
       "      <th>Fort</th>\n",
       "      <th>StartDate</th>\n",
       "      <th>EndDate</th>\n",
       "    </tr>\n",
       "  </thead>\n",
       "  <tbody>\n",
       "    <tr>\n",
       "      <th>0</th>\n",
       "      <td>Fort Riley KS</td>\n",
       "      <td>4/8/1885</td>\n",
       "      <td>30/12/1885</td>\n",
       "    </tr>\n",
       "    <tr>\n",
       "      <th>1</th>\n",
       "      <td>Fort Yates</td>\n",
       "      <td>31/12/1885</td>\n",
       "      <td>16/10/1886</td>\n",
       "    </tr>\n",
       "    <tr>\n",
       "      <th>2</th>\n",
       "      <td>Fort Riley</td>\n",
       "      <td>17/7/1888</td>\n",
       "      <td>8/10/1892</td>\n",
       "    </tr>\n",
       "  </tbody>\n",
       "</table>\n",
       "</div>"
      ],
      "text/plain": [
       "            Fort   StartDate     EndDate\n",
       "0  Fort Riley KS    4/8/1885  30/12/1885\n",
       "1     Fort Yates  31/12/1885  16/10/1886\n",
       "2     Fort Riley   17/7/1888   8/10/1892"
      ]
     },
     "execution_count": 30,
     "metadata": {},
     "output_type": "execute_result"
    }
   ],
   "source": [
    "louis.drop(['Duration'],axis=1)"
   ]
  },
  {
   "cell_type": "code",
   "execution_count": null,
   "metadata": {},
   "outputs": [],
   "source": []
  }
 ],
 "metadata": {
  "kernelspec": {
   "display_name": "Python 3",
   "language": "python",
   "name": "python3"
  },
  "language_info": {
   "codemirror_mode": {
    "name": "ipython",
    "version": 3
   },
   "file_extension": ".py",
   "mimetype": "text/x-python",
   "name": "python",
   "nbconvert_exporter": "python",
   "pygments_lexer": "ipython3",
   "version": "3.8.5"
  }
 },
 "nbformat": 4,
 "nbformat_minor": 4
}
