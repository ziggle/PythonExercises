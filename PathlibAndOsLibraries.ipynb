{
 "cells": [
  {
   "cell_type": "markdown",
   "id": "d1f4e300",
   "metadata": {},
   "source": [
    "https://medium.com/this-code/7-common-file-operations-in-python-with-os-and-pathlib-modules-dc657fb12c13"
   ]
  },
  {
   "cell_type": "code",
   "execution_count": 2,
   "id": "2ca2821d",
   "metadata": {},
   "outputs": [
    {
     "name": "stdout",
     "output_type": "stream",
     "text": [
      "['.ipynb_checkpoints', 'Dawn Biegert_birth certificate.pdf', 'Life Event Letter - Biegert.docx.pdf', 'Mark and Dawn Biegert marriage license_16Jun1979.pdf', 'Sketch.ipynb', 'ViolinPlotWithCustomColor.ipynb', 'ViolinWithThickLines.ipynb']\n"
     ]
    }
   ],
   "source": [
    "import os\n",
    "print(os.listdir('Dawn_Data/'))"
   ]
  },
  {
   "cell_type": "code",
   "execution_count": 5,
   "id": "6ca3b938",
   "metadata": {},
   "outputs": [
    {
     "name": "stdout",
     "output_type": "stream",
     "text": [
      "[WindowsPath('Dawn_Data/.ipynb_checkpoints'), WindowsPath('Dawn_Data/Dawn Biegert_birth certificate.pdf'), WindowsPath('Dawn_Data/Life Event Letter - Biegert.docx.pdf'), WindowsPath('Dawn_Data/Mark and Dawn Biegert marriage license_16Jun1979.pdf'), WindowsPath('Dawn_Data/Sketch.ipynb'), WindowsPath('Dawn_Data/ViolinPlotWithCustomColor.ipynb'), WindowsPath('Dawn_Data/ViolinWithThickLines.ipynb')]\n"
     ]
    }
   ],
   "source": [
    "import pathlib\n",
    "print(list(pathlib.Path('Dawn_Data/').iterdir()))"
   ]
  },
  {
   "cell_type": "code",
   "execution_count": 7,
   "id": "f9ea17cb",
   "metadata": {},
   "outputs": [
    {
     "name": "stdout",
     "output_type": "stream",
     "text": [
      "C:\\Users\\biegertm\\OneDrive - Starkey\\Desktop\\Toss \\data\n"
     ]
    }
   ],
   "source": [
    "# Join and create paths\n",
    "print(os.path.join(os.getcwd()), '\\data')"
   ]
  },
  {
   "cell_type": "code",
   "execution_count": 8,
   "id": "5d5e48b5",
   "metadata": {},
   "outputs": [
    {
     "name": "stdout",
     "output_type": "stream",
     "text": [
      "C:\\Users\\biegertm\\OneDrive - Starkey\\Desktop\\Toss\\data\n"
     ]
    }
   ],
   "source": [
    "print(pathlib.PurePath.joinpath(pathlib.Path.cwd(), 'data'))"
   ]
  },
  {
   "cell_type": "code",
   "execution_count": 10,
   "id": "22e9fe2b",
   "metadata": {},
   "outputs": [
    {
     "name": "stdout",
     "output_type": "stream",
     "text": [
      "C:\\Users\\biegertm\\OneDrive - Starkey\\Desktop\\Toss <class 'str'>\n"
     ]
    }
   ],
   "source": [
    "print(os.getcwd(), type(os.getcwd()))\n"
   ]
  },
  {
   "cell_type": "code",
   "execution_count": 11,
   "id": "2a849f13",
   "metadata": {},
   "outputs": [
    {
     "name": "stdout",
     "output_type": "stream",
     "text": [
      "C:\\Users\\biegertm\\OneDrive - Starkey\\Desktop\\Toss <class 'pathlib.WindowsPath'>\n"
     ]
    }
   ],
   "source": [
    "print(pathlib.Path.cwd(), type(pathlib.Path.cwd()))"
   ]
  },
  {
   "cell_type": "code",
   "execution_count": 12,
   "id": "fc9cf3fc",
   "metadata": {},
   "outputs": [
    {
     "name": "stdout",
     "output_type": "stream",
     "text": [
      "True\n",
      "True\n"
     ]
    }
   ],
   "source": [
    "# Check if a file exists in path\n",
    "print(os.path.exists('Dawn_Data/'))\n",
    "print(pathlib.Path('Dawn_Data/').exists())"
   ]
  },
  {
   "cell_type": "code",
   "execution_count": null,
   "id": "37e005c4",
   "metadata": {},
   "outputs": [],
   "source": [
    "print(os.makedirs(os.path.join(os.getcwd(), 'data', 'new_folder'), exist_ok=True))\n",
    "print(pathlib.Path(pathlib.PurePath.joinpath(pathlib.Path.cwd(), 'data', 'new_folder_2')).mkdir(exist_ok=True))"
   ]
  },
  {
   "cell_type": "code",
   "execution_count": null,
   "id": "23ee8ac1",
   "metadata": {},
   "outputs": [],
   "source": [
    "os.remove(\"data\")"
   ]
  },
  {
   "cell_type": "code",
   "execution_count": null,
   "id": "9551255d",
   "metadata": {},
   "outputs": [],
   "source": [
    "pathlib.Path(\"a.txt\").unlink()\n",
    "\n",
    "\n",
    "\n",
    "pathlib.Path(\"data\").rmdir()"
   ]
  },
  {
   "cell_type": "code",
   "execution_count": null,
   "id": "53c7c5bc",
   "metadata": {},
   "outputs": [],
   "source": [
    "os.rename('a.txt', 'b.txt')\n",
    "pathlib.Path('a.txt').rename('b.txt')"
   ]
  }
 ],
 "metadata": {
  "kernelspec": {
   "display_name": "Python 3 (ipykernel)",
   "language": "python",
   "name": "python3"
  },
  "language_info": {
   "codemirror_mode": {
    "name": "ipython",
    "version": 3
   },
   "file_extension": ".py",
   "mimetype": "text/x-python",
   "name": "python",
   "nbconvert_exporter": "python",
   "pygments_lexer": "ipython3",
   "version": "3.9.7"
  }
 },
 "nbformat": 4,
 "nbformat_minor": 5
}
