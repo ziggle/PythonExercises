{
 "cells": [
  {
   "cell_type": "markdown",
   "id": "5fca6ae8",
   "metadata": {},
   "source": [
    "https://betterprogramming.pub/20-things-to-know-to-master-lists-in-python-e3417f4c28cf"
   ]
  },
  {
   "cell_type": "code",
   "execution_count": 1,
   "id": "d77bd576",
   "metadata": {},
   "outputs": [
    {
     "data": {
      "text/plain": [
       "['h', 'e', 'l', 'l', 'o']"
      ]
     },
     "execution_count": 1,
     "metadata": {},
     "output_type": "execute_result"
    }
   ],
   "source": [
    "# Create an empty list\n",
    "empty_list = []\n",
    "\n",
    "# Create a list of numbers\n",
    "integer_list = [2, 3, 5]\n",
    "\n",
    "# Create a list from a tuple\n",
    "number_list = list((2, 3.2, 1.5))\n",
    "number_list\n",
    "\n",
    "# Create a list from the range()\n",
    "integer_list = list(range(10))\n",
    "integer_list\n",
    "\n",
    "# Create a list from a string\n",
    "letter_list = list('hello')\n",
    "letter_list\n"
   ]
  },
  {
   "cell_type": "code",
   "execution_count": 2,
   "id": "fa76568b",
   "metadata": {},
   "outputs": [
    {
     "data": {
      "text/plain": [
       "[['a', 0], ['B', 1], ['c', 2], ['d', 3]]"
      ]
     },
     "execution_count": 2,
     "metadata": {},
     "output_type": "execute_result"
    }
   ],
   "source": [
    "# Declare a dictionary as the iterable for list comprehensions\n",
    "letter_dict = {'a': 0, 'B': 1, 'c': 2, 'd': 3}\n",
    "\n",
    "# Create a list using the dict's values with each squared\n",
    "[x*x for x in letter_dict.values()]\n",
    "\n",
    "# Create a list using the dict's keys, all in lower case\n",
    "[x.lower() for x in letter_dict.keys()]\n",
    "\n",
    "# Create a list using the dict's items with each -> a list\n",
    "[list(x) for x in letter_dict.items()]\n"
   ]
  },
  {
   "cell_type": "code",
   "execution_count": 3,
   "id": "ef17e948",
   "metadata": {},
   "outputs": [
    {
     "name": "stdout",
     "output_type": "stream",
     "text": [
      "Method 1: The list is not empty\n",
      "Method 2: The list is not empty\n",
      "Method 3: The list is not empty\n"
     ]
    }
   ],
   "source": [
    "# Create a list\n",
    "not_empty_list = [2, 3, 4]\n",
    "\n",
    "# Check emptiness\n",
    "if len(not_empty_list) > 0:\n",
    "    print(\"Method 1: The list is not empty\")\n",
    "\n",
    "if not_empty_list != []:\n",
    "    print(\"Method 2: The list is not empty\")\n",
    "\n",
    "if not_empty_list:\n",
    "    print(\"Method 3: The list is not empty\")\n"
   ]
  },
  {
   "cell_type": "code",
   "execution_count": 4,
   "id": "f1db8933",
   "metadata": {},
   "outputs": [
    {
     "data": {
      "text/plain": [
       "5"
      ]
     },
     "execution_count": 4,
     "metadata": {},
     "output_type": "execute_result"
    }
   ],
   "source": [
    "# Create a list for indexing\n",
    "number_list = [0, 1, 2, 3, 4, 5, 6]\n",
    "\n",
    "# The first element\n",
    "number_list[0]\n",
    "# The 3rd element\n",
    "number_list[2]\n",
    "# The last element\n",
    "number_list[-1]\n",
    "\n",
    "# The last but one element\n",
    "number_list[-2]\n"
   ]
  },
  {
   "cell_type": "code",
   "execution_count": 5,
   "id": "e9924606",
   "metadata": {},
   "outputs": [
    {
     "data": {
      "text/plain": [
       "[4, 5, 6, 7, 8]"
      ]
     },
     "execution_count": 5,
     "metadata": {},
     "output_type": "execute_result"
    }
   ],
   "source": [
    "# The original list\n",
    "long_list = [1, 2, 3, 4, 5, 6, 7, 8, 9, 10]\n",
    "\n",
    "# The first 5 elements (end index is open/not inclusive)\n",
    "long_list[:5]\n",
    "\n",
    "# The 6th till the end (start index is closed/inclusive)\n",
    "long_list[5:]\n",
    "\n",
    "# The 3rd to the 9th\n",
    "long_list[2:9]\n",
    "\n",
    "# every 3 element\n",
    "long_list[::3]\n",
    "\n",
    "# Mix forward and backward indexing\n",
    "long_list[3:-2]\n"
   ]
  },
  {
   "cell_type": "code",
   "execution_count": 6,
   "id": "cb892511",
   "metadata": {},
   "outputs": [
    {
     "data": {
      "text/plain": [
       "['zero', 0, 1, 2, 3, 4, 5, 'six', 0, 1, 2, 3]"
      ]
     },
     "execution_count": 6,
     "metadata": {},
     "output_type": "execute_result"
    }
   ],
   "source": [
    "# Start with a list object\n",
    "beginning = [0, 1, 2, 3, 4, 5]\n",
    "\n",
    "# Insert a number at a certain index\n",
    "beginning.insert(0, 'zero')\n",
    "beginning\n",
    "\n",
    "# Append a number at the end\n",
    "beginning.append('six')\n",
    "beginning\n",
    "\n",
    "# Extend the list by an iterable\n",
    "beginning.extend(range(4))\n",
    "beginning\n"
   ]
  },
  {
   "cell_type": "code",
   "execution_count": 7,
   "id": "3f2584bd",
   "metadata": {},
   "outputs": [
    {
     "name": "stdout",
     "output_type": "stream",
     "text": [
      "Pet # 1: dogs\n",
      "Pet # 2: cats\n",
      "Pet # 3: hamsters\n",
      "hamsters\n",
      "cats\n",
      "dogs\n"
     ]
    }
   ],
   "source": [
    "# Create a list for iteration\n",
    "pets = [\"dogs\", \"cats\", \"hamsters\"]\n",
    "\n",
    "# Regular iteration\n",
    "for pet in pets:\n",
    "    # do something with each of the pets\n",
    "    pass\n",
    "\n",
    "# Iteration with enumerate\n",
    "for count, pet in enumerate(pets, 1):\n",
    "    print(f\"Pet # {count}: {pet}\")\n",
    "\n",
    "\n",
    "# Iteration with reversed\n",
    "for pet in reversed(pets):\n",
    "    print(pet)\n"
   ]
  },
  {
   "cell_type": "code",
   "execution_count": 8,
   "id": "d16eb8b7",
   "metadata": {},
   "outputs": [
    {
     "data": {
      "text/plain": [
       "[('Aaron', 92), ('David', 100), ('John', 95)]"
      ]
     },
     "execution_count": 8,
     "metadata": {},
     "output_type": "execute_result"
    }
   ],
   "source": [
    "# Declare a list to sort\n",
    "numbers_random = [2, 5, 7, 4, 3, 2]\n",
    "\n",
    "# Sort the number list in the reverse order\n",
    "numbers_random.sort(reverse=True)\n",
    "numbers_random\n",
    "\n",
    "# Declare a more complicated list to sort\n",
    "students = [('John', 95), ('Aaron', 92), ('David', 100)]\n",
    "\n",
    "# Sort the student list using their names\n",
    "students.sort(key=lambda x: x[0])\n",
    "students\n"
   ]
  },
  {
   "cell_type": "code",
   "execution_count": 9,
   "id": "b6f1610b",
   "metadata": {},
   "outputs": [
    {
     "data": {
      "text/plain": [
       "['Tom', 'Richard', 'David', 'John']"
      ]
     },
     "execution_count": 9,
     "metadata": {},
     "output_type": "execute_result"
    }
   ],
   "source": [
    "# Declare a list for reversing\n",
    "names = ['John', 'David', 'Richard', 'Tom']\n",
    "\n",
    "# Using the list's reverse() method\n",
    "names.reverse()\n",
    "names\n",
    "\n",
    "# Using the reversed() method, which returns an iterable\n",
    "names_reversed = list(reversed(names))\n",
    "names_reversed\n",
    "\n",
    "# Using the slicing-based method\n",
    "names_reversed1 = names_reversed[::-1]\n",
    "names_reversed1\n"
   ]
  },
  {
   "cell_type": "code",
   "execution_count": 10,
   "id": "78f229bb",
   "metadata": {},
   "outputs": [
    {
     "data": {
      "text/plain": [
       "False"
      ]
     },
     "execution_count": 10,
     "metadata": {},
     "output_type": "execute_result"
    }
   ],
   "source": [
    "# Declare a list for checking\n",
    "integers = [2, 3, 4, 5, 8]\n",
    "\n",
    "# Check if 8 is in the list\n",
    "8 in integers\n",
    "\n",
    "# Check if 8 is not in the list\n",
    "8 not in integers"
   ]
  },
  {
   "cell_type": "code",
   "execution_count": 11,
   "id": "a0463964",
   "metadata": {},
   "outputs": [
    {
     "data": {
      "text/plain": [
       "[2, 4, 0, 0, 18]"
      ]
     },
     "execution_count": 11,
     "metadata": {},
     "output_type": "execute_result"
    }
   ],
   "source": [
    "# Declare a list for updating\n",
    "even_numbers = [2, 3, 8, 12, 10, 18]\n",
    "\n",
    "# Replace the odd number\n",
    "even_numbers[1] = 4\n",
    "even_numbers\n",
    "\n",
    "# Replace three numbers using slicing\n",
    "even_numbers[2:5] = 0, 0\n",
    "even_numbers\n"
   ]
  },
  {
   "cell_type": "code",
   "execution_count": 12,
   "id": "7959222c",
   "metadata": {},
   "outputs": [
    {
     "data": {
      "text/plain": [
       "[]"
      ]
     },
     "execution_count": 12,
     "metadata": {},
     "output_type": "execute_result"
    }
   ],
   "source": [
    "# Declare a list for deleting\n",
    "odd_numbers = [2, 7, 9, 11, 11, 13, 16]\n",
    "\n",
    "# Use the del method\n",
    "del odd_numbers[0]\n",
    "odd_numbers\n",
    "\n",
    "# Use the remove() method\n",
    "odd_numbers.remove(11)\n",
    "odd_numbers\n",
    "\n",
    "# Use the pop() method\n",
    "odd_numbers.pop()\n",
    "odd_numbers\n",
    "odd_numbers.pop(2)\n",
    "\n",
    "odd_numbers\n",
    "\n",
    "# Use the clear() method\n",
    "odd_numbers.clear()\n",
    "odd_numbers\n"
   ]
  },
  {
   "cell_type": "code",
   "execution_count": 13,
   "id": "30d5472f",
   "metadata": {},
   "outputs": [],
   "source": [
    "# Declare a list for copying\n",
    "primes0 = [2, 3, 5, 7, 11, 13]\n",
    "\n",
    "# Use slicing\n",
    "primes1 = primes0[:]\n",
    "\n",
    "# Using list()\n",
    "primes2 = list(primes0)\n",
    "\n",
    "# Using the copy module\n",
    "import copy\n",
    "primes3 = copy.copy(primes0)"
   ]
  },
  {
   "cell_type": "code",
   "execution_count": 14,
   "id": "a1613337",
   "metadata": {},
   "outputs": [
    {
     "data": {
      "text/plain": [
       "{2: 2, 3: 3, 5: 5}"
      ]
     },
     "execution_count": 14,
     "metadata": {},
     "output_type": "execute_result"
    }
   ],
   "source": [
    "# Create a list for counting \n",
    "integers = [2, 2, 3, 3, 3, 5, 5, 5, 5, 5]\n",
    "\n",
    "# Count the number of 5s\n",
    "integers.count(5)\n",
    "\n",
    "# Using the Counter() method in collections\n",
    "from collections import Counter\n",
    "Counter(integers)\n",
    "\n",
    "# The Counter object can be converted to a dict\n",
    "dict(Counter(integers))\n"
   ]
  },
  {
   "cell_type": "code",
   "execution_count": 15,
   "id": "d1b03af9",
   "metadata": {},
   "outputs": [
    {
     "data": {
      "text/plain": [
       "[1, 2, 3, 4, 5, 6]"
      ]
     },
     "execution_count": 15,
     "metadata": {},
     "output_type": "execute_result"
    }
   ],
   "source": [
    "# Create a few lists for concatenation\n",
    "numbers0 = [1, 2, 3]\n",
    "numbers1 = [4, 5, 6]\n",
    "\n",
    "# Concatenate the same list for twice using *\n",
    "numbers2 = numbers0 * 2\n",
    "numbers2\n",
    "\n",
    "# Concatenate the two lists using +\n",
    "numbers3 = numbers0 + numbers1\n",
    "numbers3\n"
   ]
  },
  {
   "cell_type": "code",
   "execution_count": 16,
   "id": "68c4acba",
   "metadata": {},
   "outputs": [
    {
     "data": {
      "text/plain": [
       "[0, 9, 7, 5, 8, 3, 6, 2, 4, 1]"
      ]
     },
     "execution_count": 16,
     "metadata": {},
     "output_type": "execute_result"
    }
   ],
   "source": [
    ">>> # Create a list for randomization\n",
    "numbers_ordered = list(range(10))\n",
    "numbers_ordered\n",
    "\n",
    "# Import the random module and shuffle the list\n",
    "import random\n",
    "random.shuffle(numbers_ordered)\n",
    "numbers_ordered\n"
   ]
  },
  {
   "cell_type": "code",
   "execution_count": 17,
   "id": "942c5852",
   "metadata": {},
   "outputs": [
    {
     "data": {
      "text/plain": [
       "201"
      ]
     },
     "execution_count": 17,
     "metadata": {},
     "output_type": "execute_result"
    }
   ],
   "source": [
    "# Create the list for random fetching\n",
    "tickets = [202, 201, 204, 205, 207]\n",
    "\n",
    "# Import the random module and get a random item\n",
    "import random\n",
    "random.choice(tickets)\n"
   ]
  },
  {
   "cell_type": "code",
   "execution_count": 18,
   "id": "53682d7b",
   "metadata": {},
   "outputs": [
    {
     "data": {
      "text/plain": [
       "'three'"
      ]
     },
     "execution_count": 18,
     "metadata": {},
     "output_type": "execute_result"
    }
   ],
   "source": [
    "# Create two lists of similar structure\n",
    "numbers = [0, 1, 2, 3, 4, 5]\n",
    "words = ['zero', 'one', 'two', 'three', 'four', 'five']\n",
    "\n",
    "# Find the index and get the item in another list\n",
    "number_index = numbers.index(3)\n",
    "words[number_index]\n"
   ]
  },
  {
   "cell_type": "code",
   "execution_count": 19,
   "id": "17ca0b7f",
   "metadata": {},
   "outputs": [
    {
     "data": {
      "text/plain": [
       "True"
      ]
     },
     "execution_count": 19,
     "metadata": {},
     "output_type": "execute_result"
    }
   ],
   "source": [
    "\n",
    "# Create two lists of overlapping items\n",
    "larger = [7, 8, 9, 10, 11, 17, 18, 19, 20, 21]\n",
    "smaller = [8, 9, 10, 17, 18, 19]\n",
    "\n",
    "# Use the issuperset function\n",
    "set(larger).issuperset(set(smaller))\n",
    "\n",
    "# Use the issubset function\n",
    "set(smaller).issubset(set(larger))"
   ]
  },
  {
   "cell_type": "code",
   "execution_count": 20,
   "id": "68458251",
   "metadata": {},
   "outputs": [
    {
     "ename": "TypeError",
     "evalue": "unhashable type: 'list'",
     "output_type": "error",
     "traceback": [
      "\u001b[1;31m---------------------------------------------------------------------------\u001b[0m",
      "\u001b[1;31mTypeError\u001b[0m                                 Traceback (most recent call last)",
      "\u001b[1;32m~\\AppData\\Local\\Temp/ipykernel_24936/2883851140.py\u001b[0m in \u001b[0;36m<module>\u001b[1;34m\u001b[0m\n\u001b[0;32m      4\u001b[0m \u001b[1;33m\u001b[0m\u001b[0m\n\u001b[0;32m      5\u001b[0m \u001b[1;31m# Attempt to use it as a key in a dictionary\u001b[0m\u001b[1;33m\u001b[0m\u001b[1;33m\u001b[0m\u001b[0m\n\u001b[1;32m----> 6\u001b[1;33m \u001b[1;33m{\u001b[0m\u001b[0mnumbers_key\u001b[0m\u001b[1;33m:\u001b[0m \u001b[1;34m'abc'\u001b[0m\u001b[1;33m}\u001b[0m\u001b[1;33m\u001b[0m\u001b[1;33m\u001b[0m\u001b[0m\n\u001b[0m\u001b[0;32m      7\u001b[0m \u001b[1;33m{\u001b[0m\u001b[0mtuples_key\u001b[0m\u001b[1;33m:\u001b[0m \u001b[1;34m'abc'\u001b[0m\u001b[1;33m}\u001b[0m\u001b[1;33m\u001b[0m\u001b[1;33m\u001b[0m\u001b[0m\n",
      "\u001b[1;31mTypeError\u001b[0m: unhashable type: 'list'"
     ]
    }
   ],
   "source": [
    "\n",
    "# Create a list and a tuple with the same elements\n",
    "numbers_key = [1, 2, 3]\n",
    "tuples_key = (1, 2, 3)\n",
    "\n",
    "# Attempt to use it as a key in a dictionary\n",
    "{numbers_key: 'abc'}\n",
    "{tuples_key: 'abc'}\n"
   ]
  },
  {
   "cell_type": "code",
   "execution_count": null,
   "id": "f91ef2b0",
   "metadata": {},
   "outputs": [],
   "source": []
  }
 ],
 "metadata": {
  "kernelspec": {
   "display_name": "Python 3 (ipykernel)",
   "language": "python",
   "name": "python3"
  },
  "language_info": {
   "codemirror_mode": {
    "name": "ipython",
    "version": 3
   },
   "file_extension": ".py",
   "mimetype": "text/x-python",
   "name": "python",
   "nbconvert_exporter": "python",
   "pygments_lexer": "ipython3",
   "version": "3.9.7"
  }
 },
 "nbformat": 4,
 "nbformat_minor": 5
}
