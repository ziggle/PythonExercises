{
 "cells": [
  {
   "cell_type": "markdown",
   "metadata": {},
   "source": [
    "https://medium.com/analytics-vidhya/looping-techniques-in-python-3bbf907b8dfa"
   ]
  },
  {
   "cell_type": "code",
   "execution_count": 1,
   "metadata": {},
   "outputs": [
    {
     "name": "stdout",
     "output_type": "stream",
     "text": [
      "(0, 'red')\n",
      "(1, 'green')\n",
      "(2, 'blue')\n"
     ]
    }
   ],
   "source": [
    "colors=['red','green','blue']\n",
    "for color in enumerate(colors):\n",
    "    print (color)"
   ]
  },
  {
   "cell_type": "code",
   "execution_count": 2,
   "metadata": {},
   "outputs": [
    {
     "name": "stdout",
     "output_type": "stream",
     "text": [
      "0 red\n",
      "1 green\n",
      "2 blue\n"
     ]
    }
   ],
   "source": [
    "colors=['red','green','blue']\n",
    "for index,color in enumerate(colors):\n",
    "    print (index,color)"
   ]
  },
  {
   "cell_type": "code",
   "execution_count": 3,
   "metadata": {},
   "outputs": [
    {
     "name": "stdout",
     "output_type": "stream",
     "text": [
      "(5, 'red')\n",
      "(6, 'green')\n",
      "(7, 'blue')\n"
     ]
    }
   ],
   "source": [
    "colors=['red','green','blue']\n",
    "for color in enumerate(colors,5):\n",
    "    print (color)"
   ]
  },
  {
   "cell_type": "code",
   "execution_count": 4,
   "metadata": {},
   "outputs": [
    {
     "name": "stdout",
     "output_type": "stream",
     "text": [
      "(0, 'p')\n",
      "(1, 'y')\n",
      "(2, 't')\n",
      "(3, 'h')\n",
      "(4, 'o')\n",
      "(5, 'n')\n"
     ]
    }
   ],
   "source": [
    "s='python'\n",
    "for i in enumerate(s):\n",
    "    print (i)"
   ]
  },
  {
   "cell_type": "code",
   "execution_count": 5,
   "metadata": {},
   "outputs": [
    {
     "name": "stdout",
     "output_type": "stream",
     "text": [
      "0 p\n",
      "1 y\n",
      "2 t\n",
      "3 h\n",
      "4 o\n",
      "5 n\n"
     ]
    }
   ],
   "source": [
    "s=\"python\"\n",
    "for i,j in enumerate(s):\n",
    "    print (i,j)"
   ]
  },
  {
   "cell_type": "code",
   "execution_count": 6,
   "metadata": {},
   "outputs": [
    {
     "name": "stdout",
     "output_type": "stream",
     "text": [
      "(10, 'p')\n",
      "(11, 'y')\n",
      "(12, 't')\n",
      "(13, 'h')\n",
      "(14, 'o')\n",
      "(15, 'n')\n"
     ]
    }
   ],
   "source": [
    "s='python'\n",
    "for i in enumerate(s,start=10):\n",
    "    print (i)"
   ]
  },
  {
   "cell_type": "code",
   "execution_count": 7,
   "metadata": {},
   "outputs": [
    {
     "name": "stdout",
     "output_type": "stream",
     "text": [
      "(1, 'red')\n",
      "(2, 'blue')\n",
      "(3, 'green')\n"
     ]
    }
   ],
   "source": [
    "num = [1, 2, 3]\n",
    "colors= ['red', 'blue', 'green']\n",
    "for i in zip(num, colors):\n",
    "    print(i)"
   ]
  },
  {
   "cell_type": "code",
   "execution_count": 8,
   "metadata": {},
   "outputs": [
    {
     "name": "stdout",
     "output_type": "stream",
     "text": [
      "('color', 'red')\n",
      "('fruits', 'apple')\n",
      "('numbers', 'one')\n"
     ]
    }
   ],
   "source": [
    "n1=['color','fruits','numbers']\n",
    "n2=['red','apple','one']\n",
    "for i in zip(n1,n2):\n",
    "    print (i)"
   ]
  },
  {
   "cell_type": "code",
   "execution_count": 9,
   "metadata": {},
   "outputs": [
    {
     "name": "stdout",
     "output_type": "stream",
     "text": [
      "('red', 1)\n",
      "('green', 2)\n",
      "('blue', 3)\n"
     ]
    }
   ],
   "source": [
    "colors=['red','green','blue']\n",
    "num=[1,2,3,4,5,6,7,8,9,10]\n",
    "for i in zip(colors,num):\n",
    "    print (i)"
   ]
  },
  {
   "cell_type": "code",
   "execution_count": 11,
   "metadata": {},
   "outputs": [
    {
     "name": "stdout",
     "output_type": "stream",
     "text": [
      "('red', 1, 'a')\n",
      "('apple', 2, 'b')\n",
      "('three', 3, 'c')\n"
     ]
    }
   ],
   "source": [
    "colors=['red','apple','three']\n",
    "num=[1,2,3]\n",
    "alp=['a','b','c']\n",
    "for i in zip(colors,num,alp):\n",
    "    print (i)"
   ]
  },
  {
   "cell_type": "code",
   "execution_count": 12,
   "metadata": {},
   "outputs": [
    {
     "name": "stdout",
     "output_type": "stream",
     "text": [
      "('red', 1)\n",
      "('apple', 2)\n",
      "('three', 3)\n",
      "(None, 4)\n",
      "(None, 5)\n"
     ]
    }
   ],
   "source": [
    "from itertools import zip_longest\n",
    "colors=['red','apple','three']\n",
    "num=[1,2,3,4,5]\n",
    "for i in zip_longest(colors,num):\n",
    "    print (i)"
   ]
  },
  {
   "cell_type": "code",
   "execution_count": 13,
   "metadata": {},
   "outputs": [
    {
     "name": "stdout",
     "output_type": "stream",
     "text": [
      "('red', 1)\n",
      "('apple', 2)\n",
      "('three', 3)\n",
      "('z', 4)\n",
      "('z', 5)\n"
     ]
    }
   ],
   "source": [
    "from itertools import zip_longest\n",
    "colors=['red','apple','three']\n",
    "num=[1,2,3,4,5]\n",
    "for i in zip_longest(colors,num,fillvalue='z'):\n",
    "    print (i)"
   ]
  },
  {
   "cell_type": "code",
   "execution_count": 14,
   "metadata": {},
   "outputs": [
    {
     "name": "stdout",
     "output_type": "stream",
     "text": [
      "5\n",
      "10\n",
      "20\n",
      "25\n",
      "30\n",
      "35\n",
      "40\n"
     ]
    }
   ],
   "source": [
    "num=[10,5,20,25,30,40,35]\n",
    "for i in sorted(num):\n",
    "    print (i)\n",
    "    "
   ]
  },
  {
   "cell_type": "code",
   "execution_count": 15,
   "metadata": {},
   "outputs": [
    {
     "name": "stdout",
     "output_type": "stream",
     "text": [
      "40\n",
      "35\n",
      "30\n",
      "25\n",
      "20\n",
      "10\n",
      "5\n"
     ]
    }
   ],
   "source": [
    "num=[10,5,20,25,30,40,35]\n",
    "for i in sorted(num,reverse=True):\n",
    "    print (i)"
   ]
  },
  {
   "cell_type": "code",
   "execution_count": 16,
   "metadata": {},
   "outputs": [
    {
     "name": "stdout",
     "output_type": "stream",
     "text": [
      "yellow\n",
      "red\n",
      "green\n",
      "blue\n"
     ]
    }
   ],
   "source": [
    "colors=['red','green','blue','yellow']\n",
    "for i in sorted(colors,reverse=True):\n",
    "    print (i)"
   ]
  },
  {
   "cell_type": "code",
   "execution_count": 17,
   "metadata": {},
   "outputs": [
    {
     "name": "stdout",
     "output_type": "stream",
     "text": [
      "('a', 3)\n",
      "('b', 4)\n",
      "('c', 2)\n",
      "('e', 9)\n",
      "('f', 1)\n"
     ]
    }
   ],
   "source": [
    "d={'f':1,'b':4,'a':3,'e':9,'c':2}\n",
    "for i in sorted(d.items()):\n",
    "    print (i)"
   ]
  },
  {
   "cell_type": "code",
   "execution_count": 18,
   "metadata": {},
   "outputs": [
    {
     "name": "stdout",
     "output_type": "stream",
     "text": [
      "('f', 1)\n",
      "('c', 2)\n",
      "('a', 3)\n",
      "('b', 4)\n",
      "('e', 9)\n"
     ]
    }
   ],
   "source": [
    "d={'f':1,'b':4,'a':3,'e':9,'c':2}\n",
    "#sorting by values in the dictionary\n",
    "for i in sorted(d.items(),key=lambda item:item[1]):\n",
    "    print (i)"
   ]
  },
  {
   "cell_type": "code",
   "execution_count": 19,
   "metadata": {},
   "outputs": [
    {
     "name": "stdout",
     "output_type": "stream",
     "text": [
      "yellow\n",
      "blue\n",
      "green\n",
      "red\n"
     ]
    }
   ],
   "source": [
    "colors=['red','green','blue','yellow']\n",
    "for i in reversed(colors):\n",
    "    print (i)"
   ]
  },
  {
   "cell_type": "code",
   "execution_count": 20,
   "metadata": {},
   "outputs": [
    {
     "name": "stdout",
     "output_type": "stream",
     "text": [
      "a 1\n",
      "b 2\n",
      "c 3\n"
     ]
    }
   ],
   "source": [
    "d={'a':1,'b':2,'c':3}\n",
    "for k,v in d.items():\n",
    "    print (k,v)"
   ]
  },
  {
   "cell_type": "code",
   "execution_count": 21,
   "metadata": {},
   "outputs": [
    {
     "name": "stdout",
     "output_type": "stream",
     "text": [
      "{'a': 1, 'c': 3}\n"
     ]
    }
   ],
   "source": [
    "d={'a':1,'b':2,'c':3}\n",
    "for k,v in d.copy().items():\n",
    "    if v%2==0:\n",
    "        del d[k]\n",
    "print (d)"
   ]
  },
  {
   "cell_type": "code",
   "execution_count": 22,
   "metadata": {},
   "outputs": [
    {
     "name": "stdout",
     "output_type": "stream",
     "text": [
      "{'a': 1, 'c': 3}\n"
     ]
    }
   ],
   "source": [
    "d={'a':1,'b':2,'c':3}\n",
    "d1={}\n",
    "for k,v in d.items():\n",
    "    if v%2!=0:\n",
    "        d1[k]=v\n",
    "print (d1)"
   ]
  },
  {
   "cell_type": "code",
   "execution_count": null,
   "metadata": {},
   "outputs": [],
   "source": []
  }
 ],
 "metadata": {
  "kernelspec": {
   "display_name": "Python 3",
   "language": "python",
   "name": "python3"
  },
  "language_info": {
   "codemirror_mode": {
    "name": "ipython",
    "version": 3
   },
   "file_extension": ".py",
   "mimetype": "text/x-python",
   "name": "python",
   "nbconvert_exporter": "python",
   "pygments_lexer": "ipython3",
   "version": "3.8.5"
  }
 },
 "nbformat": 4,
 "nbformat_minor": 4
}
