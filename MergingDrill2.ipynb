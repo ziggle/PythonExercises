{
 "cells": [
  {
   "cell_type": "markdown",
   "id": "f0d806ef",
   "metadata": {},
   "source": [
    "https://medium.com/@gozdebarin/merging-with-python-pandas-4dd45069d266"
   ]
  },
  {
   "cell_type": "code",
   "execution_count": 1,
   "id": "aa81ccf1",
   "metadata": {},
   "outputs": [],
   "source": [
    "import pandas as pd\n",
    "\n",
    "# Create the first DataFrame\n",
    "data1 = {'ID': [1, 2, 3, 4],\n",
    "         'Name': ['Alice', 'Bob', 'Charlie', 'David']}\n",
    "df1 = pd.DataFrame(data1)\n",
    "\n",
    "# Create the second DataFrame\n",
    "data2 = {'ID': [3, 4, 5, 6],\n",
    "         'Age': [25, 30, 22, 35]}\n",
    "df2 = pd.DataFrame(data2)"
   ]
  },
  {
   "cell_type": "code",
   "execution_count": 2,
   "id": "a393e901",
   "metadata": {},
   "outputs": [
    {
     "name": "stdout",
     "output_type": "stream",
     "text": [
      "   ID     Name  Age\n",
      "0   3  Charlie   25\n",
      "1   4    David   30\n"
     ]
    }
   ],
   "source": [
    "# Merge DataFrames using an inner join on the 'ID' column\n",
    "merged_inner = pd.merge(df1, df2, on='ID', how='inner')\n",
    "print(merged_inner)"
   ]
  },
  {
   "cell_type": "code",
   "execution_count": 3,
   "id": "9debf675",
   "metadata": {},
   "outputs": [
    {
     "name": "stdout",
     "output_type": "stream",
     "text": [
      "   ID     Name   Age\n",
      "0   1    Alice   NaN\n",
      "1   2      Bob   NaN\n",
      "2   3  Charlie  25.0\n",
      "3   4    David  30.0\n"
     ]
    }
   ],
   "source": [
    "# Merge DataFrames using a left join on the 'ID' column\n",
    "merged_left = pd.merge(df1, df2, on='ID', how='left')\n",
    "print(merged_left)"
   ]
  },
  {
   "cell_type": "code",
   "execution_count": 4,
   "id": "372e8a67",
   "metadata": {},
   "outputs": [
    {
     "name": "stdout",
     "output_type": "stream",
     "text": [
      "   ID     Name  Age\n",
      "0   3  Charlie   25\n",
      "1   4    David   30\n",
      "2   5      NaN   22\n",
      "3   6      NaN   35\n"
     ]
    }
   ],
   "source": [
    "# Merge DataFrames using a right join on the 'ID' column\n",
    "merged_right = pd.merge(df1, df2, on='ID', how='right')\n",
    "print(merged_right)"
   ]
  },
  {
   "cell_type": "code",
   "execution_count": 5,
   "id": "8cb7b1cd",
   "metadata": {},
   "outputs": [
    {
     "name": "stdout",
     "output_type": "stream",
     "text": [
      "   ID     Name   Age\n",
      "0   1    Alice   NaN\n",
      "1   2      Bob   NaN\n",
      "2   3  Charlie  25.0\n",
      "3   4    David  30.0\n",
      "4   5      NaN  22.0\n",
      "5   6      NaN  35.0\n"
     ]
    }
   ],
   "source": [
    "# Merge DataFrames using an outer join on the 'ID' column\n",
    "merged_outer = pd.merge(df1, df2, on='ID', how='outer')\n",
    "print(merged_outer)"
   ]
  },
  {
   "cell_type": "code",
   "execution_count": 6,
   "id": "a4249403",
   "metadata": {},
   "outputs": [
    {
     "name": "stdout",
     "output_type": "stream",
     "text": [
      "   ID     Name         City  Age\n",
      "0   3  Charlie  Los Angeles   25\n",
      "1   4    David      Chicago   30\n"
     ]
    }
   ],
   "source": [
    "# Create DataFrames with multiple columns\n",
    "data1 = {'ID': [1, 2, 3, 4],\n",
    "         'Name': ['Alice', 'Bob', 'Charlie', 'David'],\n",
    "         'City': ['New York', 'San Francisco', 'Los Angeles', 'Chicago']}\n",
    "df1 = pd.DataFrame(data1)\n",
    "\n",
    "data2 = {'ID': [3, 4, 5, 6],\n",
    "         'Age': [25, 30, 22, 35],\n",
    "         'City': ['Los Angeles', 'Chicago', 'Houston', 'Miami']}\n",
    "df2 = pd.DataFrame(data2)\n",
    "\n",
    "# Merge DataFrames on multiple columns\n",
    "merged_multi = pd.merge(df1, df2, on=['ID', 'City'], how='inner')\n",
    "print(merged_multi)"
   ]
  },
  {
   "cell_type": "code",
   "execution_count": null,
   "id": "b0a50298",
   "metadata": {},
   "outputs": [],
   "source": []
  }
 ],
 "metadata": {
  "kernelspec": {
   "display_name": "Python 3 (ipykernel)",
   "language": "python",
   "name": "python3"
  },
  "language_info": {
   "codemirror_mode": {
    "name": "ipython",
    "version": 3
   },
   "file_extension": ".py",
   "mimetype": "text/x-python",
   "name": "python",
   "nbconvert_exporter": "python",
   "pygments_lexer": "ipython3",
   "version": "3.9.7"
  }
 },
 "nbformat": 4,
 "nbformat_minor": 5
}
