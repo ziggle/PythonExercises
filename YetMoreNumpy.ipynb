{
 "cells": [
  {
   "cell_type": "markdown",
   "id": "ac67f472",
   "metadata": {},
   "source": [
    "https://python.plainenglish.io/mastering-numpy-a-data-enthusiasts-essential-companion-392cdbe39e84"
   ]
  },
  {
   "cell_type": "code",
   "execution_count": 2,
   "id": "bb246472",
   "metadata": {},
   "outputs": [],
   "source": [
    "import numpy as np\n",
    "\n",
    "# Creating an integer array with explicit dtype, which is not necessary.\n",
    "int_array = np.array([1, 2, 3], dtype=np.int32)\n",
    "\n",
    "# Create an 2D array\n",
    "original_array = np.array([[1, 2, 3],\n",
    "                           [4, 5, 6]])\n",
    "\n",
    "# Create an array of 10 equally spaced values from 0 to 1\n",
    "linspace_arr = np.linspace(0, 1, 10)\n",
    "\n",
    "# Create an array of 5 values spaced logarithmically from 1 to 100\n",
    "logspace_arr = np.logspace(0, 2, 5)\n",
    "\n",
    "# Create an array of values from 0 to 9 with a step size of 2\n",
    "arange_arr = np.arange(0, 10, 2)\n",
    "\n",
    "# Create a 3x3 array filled with zeros\n",
    "zeros_arr = np.zeros((3, 3))\n",
    "\n",
    "# Create a 2x4 array filled with ones\n",
    "ones_arr = np.ones((2, 4))\n",
    "\n",
    "# Create a new array filled with zeros, \n",
    "# matching the shape and data type of the original array\n",
    "zeros_array = np.zeros_like(original_array)\n",
    "\n",
    "# Create a new array filled with ones, \n",
    "# matching the shape and data type of the original array\n",
    "ones_array = np.ones_like(original_array)"
   ]
  },
  {
   "cell_type": "code",
   "execution_count": null,
   "id": "c741d820",
   "metadata": {},
   "outputs": [],
   "source": [
    "# Creating a 1D array (Vector)\n",
    "arr_1d = np.array([1, 2, 3])\n",
    "# Dimesion: 1 , Shape: (3,), Size: 3\n",
    "print(f\"Dimension: {arr_1d.ndim}, Shape: {arr_1d.shape}, size: {arr_1d.size}\")\n",
    "\n",
    "# Creating a 2D array (Matrix) # Dimension: 2 , Shape: (2, 3)\n",
    "arr_2d = np.array([[1, 2, 3], [4, 5, 6]]) \n",
    "\n",
    "# Creating a 3D array (Tensor) # Dimension: 3 , Shape: (2, 2, 2)\n",
    "arr_3d = np.array([[[1, 2], [3, 4]], [[5, 6], [7, 8]]])"
   ]
  }
 ],
 "metadata": {
  "kernelspec": {
   "display_name": "Python 3 (ipykernel)",
   "language": "python",
   "name": "python3"
  },
  "language_info": {
   "codemirror_mode": {
    "name": "ipython",
    "version": 3
   },
   "file_extension": ".py",
   "mimetype": "text/x-python",
   "name": "python",
   "nbconvert_exporter": "python",
   "pygments_lexer": "ipython3",
   "version": "3.9.7"
  }
 },
 "nbformat": 4,
 "nbformat_minor": 5
}
