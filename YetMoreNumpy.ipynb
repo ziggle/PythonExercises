{
 "cells": [
  {
   "cell_type": "markdown",
   "id": "c4f6544a",
   "metadata": {},
   "source": [
    "https://python.plainenglish.io/mastering-numpy-a-data-enthusiasts-essential-companion-392cdbe39e84"
   ]
  },
  {
   "cell_type": "code",
   "execution_count": 2,
   "id": "26db0eaf",
   "metadata": {},
   "outputs": [],
   "source": [
    "import numpy as np\n",
    "\n",
    "# Creating an integer array with explicit dtype, which is not necessary.\n",
    "int_array = np.array([1, 2, 3], dtype=np.int32)\n",
    "\n",
    "# Create an 2D array\n",
    "original_array = np.array([[1, 2, 3],\n",
    "                           [4, 5, 6]])\n",
    "\n",
    "# Create an array of 10 equally spaced values from 0 to 1\n",
    "linspace_arr = np.linspace(0, 1, 10)\n",
    "\n",
    "# Create an array of 5 values spaced logarithmically from 1 to 100\n",
    "logspace_arr = np.logspace(0, 2, 5)\n",
    "\n",
    "# Create an array of values from 0 to 9 with a step size of 2\n",
    "arange_arr = np.arange(0, 10, 2)\n",
    "\n",
    "# Create a 3x3 array filled with zeros\n",
    "zeros_arr = np.zeros((3, 3))\n",
    "\n",
    "# Create a 2x4 array filled with ones\n",
    "ones_arr = np.ones((2, 4))\n",
    "\n",
    "# Create a new array filled with zeros, \n",
    "# matching the shape and data type of the original array\n",
    "zeros_array = np.zeros_like(original_array)\n",
    "\n",
    "# Create a new array filled with ones, \n",
    "# matching the shape and data type of the original array\n",
    "ones_array = np.ones_like(original_array)"
   ]
  },
  {
   "cell_type": "code",
   "execution_count": 3,
   "id": "49122f6b",
   "metadata": {},
   "outputs": [
    {
     "name": "stdout",
     "output_type": "stream",
     "text": [
      "Dimension: 1, Shape: (3,), size: 3\n"
     ]
    }
   ],
   "source": [
    "# Creating a 1D array (Vector)\n",
    "arr_1d = np.array([1, 2, 3])\n",
    "# Dimesion: 1 , Shape: (3,), Size: 3\n",
    "print(f\"Dimension: {arr_1d.ndim}, Shape: {arr_1d.shape}, size: {arr_1d.size}\")\n",
    "\n",
    "# Creating a 2D array (Matrix) # Dimension: 2 , Shape: (2, 3)\n",
    "arr_2d = np.array([[1, 2, 3], [4, 5, 6]]) \n",
    "\n",
    "# Creating a 3D array (Tensor) # Dimension: 3 , Shape: (2, 2, 2)\n",
    "arr_3d = np.array([[[1, 2], [3, 4]], [[5, 6], [7, 8]]])"
   ]
  },
  {
   "cell_type": "code",
   "execution_count": 4,
   "id": "7ecaba1d",
   "metadata": {},
   "outputs": [],
   "source": [
    "# Creating a NumPy array\n",
    "arr = np.array([10, 20, 30, 40, 50])\n",
    "\n",
    "# Accessing individual elements\n",
    "first_element = arr[0]  # Access the first element (10)\n",
    "\n",
    "# Accessing elements using negative indices\n",
    "last_element = arr[-1]  # Access the last element (50)\n",
    "\n",
    "# Creating a 2D NumPy array\n",
    "arr_2d = np.array([[1, 2, 3], [4, 5, 6], [7, 8, 9]])\n",
    "\n",
    "# Slicing along rows and columns\n",
    "sliced_array = arr_2d[0,1]  # Element at row 0, column 1 (value: 2)"
   ]
  },
  {
   "cell_type": "code",
   "execution_count": 5,
   "id": "f520b723",
   "metadata": {},
   "outputs": [],
   "source": [
    "# Slicing the array to create a new array\n",
    "sliced_array = arr[1:4]  # Slice from index 1 to 3 (exclusive) [20,30,40]\n",
    "\n",
    "# Slicing with a step of 2\n",
    "sliced_array = arr[0::2]  # Start at index 0, step by 2 [10,30,50]\n",
    "\n",
    "# Slicing with negative index\n",
    "second_to_last = arr[-2::]  # Access the last two elements [40,50]\n",
    "\n",
    "# Conditional slicing: Select elements greater than 30\n",
    "sliced_array = arr[arr > 30]  # Result: [40, 50]\n",
    "\n",
    "# Creating a 2D NumPy array\n",
    "arr_2d = np.array([[1, 2, 3], [4, 5, 6], [7, 8, 9]])\n",
    "\n",
    "# Slicing along rows and columns\n",
    "sliced_array = arr_2d[1:3, 0:2] # Slice a 2x2 subarray: [[4, 5], [7, 8]]"
   ]
  },
  {
   "cell_type": "code",
   "execution_count": 6,
   "id": "b8fb180a",
   "metadata": {},
   "outputs": [],
   "source": [
    "# Creating 1D NumPy arrays\n",
    "arr1 = np.array([1, 2, 3])\n",
    "arr2 = np.array([4, 5, 6])\n",
    "scalar = 2\n",
    "\n",
    "# Addition\n",
    "result_add = arr1 + arr2  # [5, 7, 9]\n",
    "\n",
    "# Multiplication, Similarly subraction and division as well.\n",
    "result_mul = arr1 * arr2  # [4, 10, 18]\n",
    "\n",
    "# Creating 2D NumPy arrays\n",
    "matrix1 = np.array([[1, 2], [3, 4]])\n",
    "matrix2 = np.array([[5, 6], [7, 8]])\n",
    "\n",
    "# Multiplication (element-wise, not matrix multiplication)\n",
    "result_mul = matrix1 * matrix2  # [[5, 12], [21, 32]]\n",
    "\n",
    "# Actual Matrix Multiplication using np.dot\n",
    "matrix_multiplication = np.dot(matrix1,matrix2)\n",
    "\n",
    "# Broadcasting: Multiply array by a scalar\n",
    "result = arr1 * scalar  # [2, 4, 6]"
   ]
  },
  {
   "cell_type": "code",
   "execution_count": 7,
   "id": "2effdd58",
   "metadata": {},
   "outputs": [],
   "source": [
    "# Create an array\n",
    "original_array = np.array([1, 2, 3])\n",
    "\n",
    "# Append elements in-place\n",
    "original_array = np.append(original_array, [4, 5, 6])\n",
    "\n",
    "# Create a NumPy array\n",
    "arr = np.array([1, 2, 3, 4, 5])\n",
    "\n",
    "# Remove the item at index 2 (value 3)\n",
    "new_arr = np.delete(arr, 2)\n",
    "\n",
    "# Create a 2D NumPy array\n",
    "arr = np.array([[1, 2, 3], [4,5, 6], [7, 8, 9]])\n",
    "\n",
    "# Remove the second row (index 1)\n",
    "new_arr = np.delete(arr, 1, axis=0)"
   ]
  },
  {
   "cell_type": "code",
   "execution_count": 8,
   "id": "a94787e7",
   "metadata": {},
   "outputs": [],
   "source": [
    "# Creating a NumPy array\n",
    "arr = np.array([1, 2, 3, 4, 5])\n",
    "\n",
    "# Aggregation functions\n",
    "mean_value = np.mean(arr)  # Mean: 3.0\n",
    "median_value = np.median(arr) # Median: 3.0\n",
    "variance = np.var(arr) # Variance 2.0\n",
    "standard_deviation = np.std(arr) # std: 1.414\n",
    "\n",
    "sum_value = np.sum(arr)    # Sum: 15\n",
    "min_value = np.min(arr)    # Minimum: 1\n",
    "max_value = np.max(arr)    # Maximum: 5\n",
    "\n",
    "\n",
    "# Universal functions\n",
    "sqrt_arr = np.sqrt(arr) # Square Root\n",
    "exp_arr = np.exp(arr) # Exponential"
   ]
  },
  {
   "cell_type": "code",
   "execution_count": 9,
   "id": "47f80656",
   "metadata": {},
   "outputs": [],
   "source": [
    "import numpy as np\n",
    "\n",
    "# Creating 2D array\n",
    "arr_2d = np.array([[1, 2, 3], [4, 5, 6]])\n",
    "\n",
    "# Here as we are passing only 6, it will conver the 2d array to a 1d array\n",
    "# with 6 elements, you cannot pass anything other than 6,\n",
    "# as it doesn't match the original array!\n",
    "arr_1d = arr_2d.reshape(6)\n",
    "\n",
    "# Creating 1D array\n",
    "arr_1d = np.array([1, 2, 3, 4, 5, 6])\n",
    "\n",
    "# converting 1D array to 2D\n",
    "arr_2d = arr_1d.reshape(2, 3)"
   ]
  },
  {
   "cell_type": "code",
   "execution_count": 10,
   "id": "d96f0c65",
   "metadata": {},
   "outputs": [],
   "source": [
    "arr1 = np.array([1, 2, 3])\n",
    "arr2 = np.array([4, 5, 6])\n",
    "\n",
    "# Concatenate along the 0-axis (rows)\n",
    "combined = np.concatenate((arr1, arr2)) # Result: [1, 2, 3, 4, 5, 6]\n",
    "\n",
    "# Vertical stacking\n",
    "vertical_stack = np.vstack((arr1, arr2)) # Result: [[1, 2, 3], [4, 5, 6]]\n",
    "\n",
    "# Horizontal stacking\n",
    "horizontal_stack = np.hstack((arr1, arr2)) # Result: [1, 2, 3, 4, 5, 6]"
   ]
  },
  {
   "cell_type": "code",
   "execution_count": 11,
   "id": "e201979a",
   "metadata": {},
   "outputs": [],
   "source": [
    "arr = np.array([1, 2, 3, 4, 5, 6])\n",
    "\n",
    "# Split into three equal parts\n",
    "split_arr = np.split(arr, 3) \n",
    "\n",
    "# Result: [array([1, 2]), array([3, 4]), array([5, 6])]."
   ]
  },
  {
   "cell_type": "code",
   "execution_count": 12,
   "id": "92e0859b",
   "metadata": {},
   "outputs": [],
   "source": [
    "original_arr = np.array([1, 2, 3])\n",
    "\n",
    "# alias of original array\n",
    "alias_arr = original_arr\n",
    "\n",
    "# Changes to view_arr will affect the original array\n",
    "view_arr = original_arr.view()\n",
    "\n",
    "# Changes to copy_arr won't affect the original array\n",
    "copy_arr = original_arr.copy()"
   ]
  },
  {
   "cell_type": "code",
   "execution_count": 13,
   "id": "f3d4164d",
   "metadata": {},
   "outputs": [],
   "source": [
    "data = np.array([3, 1, 5, 2, 4])\n",
    "sorted_data = np.sort(data)  # Ascending order\n",
    "reverse_sorted_data = np.sort(data)[::-1]  # Descending order\n",
    "\n",
    "# You can also retrieve the indices that would sort the data.\n",
    "data = np.array([3, 1, 5, 2, 4])\n",
    "\n",
    "# Returns Indices that would sort the array.\n",
    "sorted_indices = np.argsort(data) "
   ]
  },
  {
   "cell_type": "code",
   "execution_count": 14,
   "id": "f7c167d3",
   "metadata": {},
   "outputs": [
    {
     "name": "stdout",
     "output_type": "stream",
     "text": [
      "[False False  True False  True False]\n"
     ]
    }
   ],
   "source": [
    "# Create a NumPy array with missing values\n",
    "data = np.array([1, 2, np.nan, 4, np.nan, 6])\n",
    "\n",
    "# Check for missing values\n",
    "has_missing = np.isnan(data)\n",
    "print(has_missing)"
   ]
  },
  {
   "cell_type": "code",
   "execution_count": 15,
   "id": "0b1ef0dc",
   "metadata": {},
   "outputs": [
    {
     "name": "stdout",
     "output_type": "stream",
     "text": [
      "[[1. 2. 3.]\n",
      " [7. 8. 9.]]\n"
     ]
    }
   ],
   "source": [
    "# Create a 2D array with missing values\n",
    "data = np.array([[1, 2, 3], [4, np.nan, 6], [7, 8, 9]])\n",
    "\n",
    "# Remove rows with any missing values\n",
    "cleaned_data = data[~np.any(np.isnan(data), axis=1)]\n",
    "print(cleaned_data) # Result: [[1,2,3],[7,8,9]]"
   ]
  },
  {
   "cell_type": "code",
   "execution_count": 16,
   "id": "3661ca4d",
   "metadata": {},
   "outputs": [],
   "source": [
    "# Data Centering\n",
    "data = np.array([10, 20, 30, 40, 50])\n",
    "mean = np.mean(data)\n",
    "centered_data = data - mean\n",
    "\n",
    "# Standardization\n",
    "std_dev = np.std(data)\n",
    "standardized_data = (data - mean) / std_dev\n",
    "\n",
    "# Log Transformation\n",
    "log_transformed_data = np.log(data)"
   ]
  },
  {
   "cell_type": "code",
   "execution_count": 17,
   "id": "d8b21f6e",
   "metadata": {},
   "outputs": [],
   "source": [
    "# Simple Random Sampling Without replacement\n",
    "data = np.array([1, 2, 3, 4, 5, 6, 7, 8, 9, 10])\n",
    "random_samples = np.random.choice(data, size=5, replace=False)\n",
    "\n",
    "# Bootstrap Sampling\n",
    "num_samples = 1000\n",
    "bootstrap_samples = np.random.choice(data, size=(num_samples, len(data)), replace=True)"
   ]
  },
  {
   "cell_type": "code",
   "execution_count": 18,
   "id": "f32d3497",
   "metadata": {},
   "outputs": [],
   "source": [
    "A = np.array([[2, 3], [4, 5]])\n",
    "b = np.array([6, 7])\n",
    "\n",
    "# Solve Ax = b for x\n",
    "x = np.linalg.solve(A, b)"
   ]
  },
  {
   "cell_type": "code",
   "execution_count": 19,
   "id": "21d8d824",
   "metadata": {},
   "outputs": [
    {
     "name": "stdout",
     "output_type": "stream",
     "text": [
      "[-4.5  5. ]\n"
     ]
    }
   ],
   "source": [
    "print(x)"
   ]
  },
  {
   "cell_type": "code",
   "execution_count": 20,
   "id": "e993c5a3",
   "metadata": {},
   "outputs": [
    {
     "data": {
      "text/plain": [
       "array([6., 7.])"
      ]
     },
     "execution_count": 20,
     "metadata": {},
     "output_type": "execute_result"
    }
   ],
   "source": [
    "np.matmul(A,x)"
   ]
  },
  {
   "cell_type": "code",
   "execution_count": 21,
   "id": "8c5ee1b5",
   "metadata": {},
   "outputs": [
    {
     "name": "stdout",
     "output_type": "stream",
     "text": [
      "Mean Temperature (without handling missing values): -316.14444444444445\n",
      "Mean Temperature (excluding missing values): 25.28333333333333\n"
     ]
    }
   ],
   "source": [
    "import numpy as np\n",
    "import numpy.ma as ma\n",
    "\n",
    "# Temperature dataset with missing values (-999 represents missing values)\n",
    "temperatures = np.array([22.5, 23.0, -999, 24.5, -999, 26.0, 27.2, -999, 28.5])\n",
    "\n",
    "# Calculate the mean temperature without handling missing values\n",
    "mean_temperature = np.mean(temperatures)\n",
    "\n",
    "# Print the result = -316.14 \n",
    "print(\"Mean Temperature (without handling missing values):\", mean_temperature)\n",
    "\n",
    "# Create a mask for missing values (-999)\n",
    "mask = (temperatures == -999)\n",
    "\n",
    "# Create a masked array\n",
    "masked_temperatures = ma.masked_array(temperatures, mask=mask)\n",
    "\n",
    "# Calculate the mean temperature (excluding missing values)\n",
    "mean_temperature = ma.mean(masked_temperatures)\n",
    "\n",
    "# Print the result = 25.28\n",
    "print(\"Mean Temperature (excluding missing values):\", mean_temperature)"
   ]
  },
  {
   "cell_type": "code",
   "execution_count": 22,
   "id": "46f560c3",
   "metadata": {},
   "outputs": [
    {
     "name": "stdout",
     "output_type": "stream",
     "text": [
      "b'Alice'\n",
      "[30 25]\n"
     ]
    }
   ],
   "source": [
    "import numpy as np\n",
    "\n",
    "# Define data types for fields\n",
    "dt = np.dtype([('name', 'S20'), ('age', int), ('salary', float)])\n",
    "\n",
    "# Create a structured array\n",
    "employees = np.array([('Alice', 30, 50000.0), ('Bob', 25, 60000.0)], dtype=dt)\n",
    "\n",
    "# Access the 'name' field of the first employee\n",
    "print(employees['name'][0])\n",
    "\n",
    "# Access the 'age' field of all employees\n",
    "print(employees['age'])"
   ]
  },
  {
   "cell_type": "code",
   "execution_count": null,
   "id": "af95f9b9",
   "metadata": {},
   "outputs": [],
   "source": []
  }
 ],
 "metadata": {
  "kernelspec": {
   "display_name": "Python 3 (ipykernel)",
   "language": "python",
   "name": "python3"
  },
  "language_info": {
   "codemirror_mode": {
    "name": "ipython",
    "version": 3
   },
   "file_extension": ".py",
   "mimetype": "text/x-python",
   "name": "python",
   "nbconvert_exporter": "python",
   "pygments_lexer": "ipython3",
   "version": "3.9.7"
  }
 },
 "nbformat": 4,
 "nbformat_minor": 5
}
