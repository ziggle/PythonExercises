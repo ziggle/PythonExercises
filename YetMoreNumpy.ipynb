{
 "cells": [
  {
   "cell_type": "markdown",
   "id": "7f3424ad",
   "metadata": {},
   "source": [
    "https://python.plainenglish.io/mastering-numpy-a-data-enthusiasts-essential-companion-392cdbe39e84"
   ]
  },
  {
   "cell_type": "code",
   "execution_count": 2,
   "id": "8c45f732",
   "metadata": {},
   "outputs": [],
   "source": [
    "import numpy as np\n",
    "\n",
    "# Creating an integer array with explicit dtype, which is not necessary.\n",
    "int_array = np.array([1, 2, 3], dtype=np.int32)\n",
    "\n",
    "# Create an 2D array\n",
    "original_array = np.array([[1, 2, 3],\n",
    "                           [4, 5, 6]])\n",
    "\n",
    "# Create an array of 10 equally spaced values from 0 to 1\n",
    "linspace_arr = np.linspace(0, 1, 10)\n",
    "\n",
    "# Create an array of 5 values spaced logarithmically from 1 to 100\n",
    "logspace_arr = np.logspace(0, 2, 5)\n",
    "\n",
    "# Create an array of values from 0 to 9 with a step size of 2\n",
    "arange_arr = np.arange(0, 10, 2)\n",
    "\n",
    "# Create a 3x3 array filled with zeros\n",
    "zeros_arr = np.zeros((3, 3))\n",
    "\n",
    "# Create a 2x4 array filled with ones\n",
    "ones_arr = np.ones((2, 4))\n",
    "\n",
    "# Create a new array filled with zeros, \n",
    "# matching the shape and data type of the original array\n",
    "zeros_array = np.zeros_like(original_array)\n",
    "\n",
    "# Create a new array filled with ones, \n",
    "# matching the shape and data type of the original array\n",
    "ones_array = np.ones_like(original_array)"
   ]
  },
  {
   "cell_type": "code",
   "execution_count": 3,
   "id": "33595a42",
   "metadata": {},
   "outputs": [
    {
     "name": "stdout",
     "output_type": "stream",
     "text": [
      "Dimension: 1, Shape: (3,), size: 3\n"
     ]
    }
   ],
   "source": [
    "# Creating a 1D array (Vector)\n",
    "arr_1d = np.array([1, 2, 3])\n",
    "# Dimesion: 1 , Shape: (3,), Size: 3\n",
    "print(f\"Dimension: {arr_1d.ndim}, Shape: {arr_1d.shape}, size: {arr_1d.size}\")\n",
    "\n",
    "# Creating a 2D array (Matrix) # Dimension: 2 , Shape: (2, 3)\n",
    "arr_2d = np.array([[1, 2, 3], [4, 5, 6]]) \n",
    "\n",
    "# Creating a 3D array (Tensor) # Dimension: 3 , Shape: (2, 2, 2)\n",
    "arr_3d = np.array([[[1, 2], [3, 4]], [[5, 6], [7, 8]]])"
   ]
  },
  {
   "cell_type": "code",
   "execution_count": 4,
   "id": "00239d57",
   "metadata": {},
   "outputs": [],
   "source": [
    "# Creating a NumPy array\n",
    "arr = np.array([10, 20, 30, 40, 50])\n",
    "\n",
    "# Accessing individual elements\n",
    "first_element = arr[0]  # Access the first element (10)\n",
    "\n",
    "# Accessing elements using negative indices\n",
    "last_element = arr[-1]  # Access the last element (50)\n",
    "\n",
    "# Creating a 2D NumPy array\n",
    "arr_2d = np.array([[1, 2, 3], [4, 5, 6], [7, 8, 9]])\n",
    "\n",
    "# Slicing along rows and columns\n",
    "sliced_array = arr_2d[0,1]  # Element at row 0, column 1 (value: 2)"
   ]
  },
  {
   "cell_type": "code",
   "execution_count": 5,
   "id": "7e587ec6",
   "metadata": {},
   "outputs": [],
   "source": [
    "# Slicing the array to create a new array\n",
    "sliced_array = arr[1:4]  # Slice from index 1 to 3 (exclusive) [20,30,40]\n",
    "\n",
    "# Slicing with a step of 2\n",
    "sliced_array = arr[0::2]  # Start at index 0, step by 2 [10,30,50]\n",
    "\n",
    "# Slicing with negative index\n",
    "second_to_last = arr[-2::]  # Access the last two elements [40,50]\n",
    "\n",
    "# Conditional slicing: Select elements greater than 30\n",
    "sliced_array = arr[arr > 30]  # Result: [40, 50]\n",
    "\n",
    "# Creating a 2D NumPy array\n",
    "arr_2d = np.array([[1, 2, 3], [4, 5, 6], [7, 8, 9]])\n",
    "\n",
    "# Slicing along rows and columns\n",
    "sliced_array = arr_2d[1:3, 0:2] # Slice a 2x2 subarray: [[4, 5], [7, 8]]"
   ]
  },
  {
   "cell_type": "code",
   "execution_count": 6,
   "id": "ede572cd",
   "metadata": {},
   "outputs": [],
   "source": [
    "# Creating 1D NumPy arrays\n",
    "arr1 = np.array([1, 2, 3])\n",
    "arr2 = np.array([4, 5, 6])\n",
    "scalar = 2\n",
    "\n",
    "# Addition\n",
    "result_add = arr1 + arr2  # [5, 7, 9]\n",
    "\n",
    "# Multiplication, Similarly subraction and division as well.\n",
    "result_mul = arr1 * arr2  # [4, 10, 18]\n",
    "\n",
    "# Creating 2D NumPy arrays\n",
    "matrix1 = np.array([[1, 2], [3, 4]])\n",
    "matrix2 = np.array([[5, 6], [7, 8]])\n",
    "\n",
    "# Multiplication (element-wise, not matrix multiplication)\n",
    "result_mul = matrix1 * matrix2  # [[5, 12], [21, 32]]\n",
    "\n",
    "# Actual Matrix Multiplication using np.dot\n",
    "matrix_multiplication = np.dot(matrix1,matrix2)\n",
    "\n",
    "# Broadcasting: Multiply array by a scalar\n",
    "result = arr1 * scalar  # [2, 4, 6]"
   ]
  },
  {
   "cell_type": "code",
   "execution_count": null,
   "id": "f9a7b6dd",
   "metadata": {},
   "outputs": [],
   "source": []
  }
 ],
 "metadata": {
  "kernelspec": {
   "display_name": "Python 3 (ipykernel)",
   "language": "python",
   "name": "python3"
  },
  "language_info": {
   "codemirror_mode": {
    "name": "ipython",
    "version": 3
   },
   "file_extension": ".py",
   "mimetype": "text/x-python",
   "name": "python",
   "nbconvert_exporter": "python",
   "pygments_lexer": "ipython3",
   "version": "3.9.7"
  }
 },
 "nbformat": 4,
 "nbformat_minor": 5
}
