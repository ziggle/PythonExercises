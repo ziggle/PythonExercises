{
 "cells": [
  {
   "cell_type": "markdown",
   "metadata": {},
   "source": [
    "https://medium.com/techtofreedom/3-built-in-infinite-iterators-in-python-f260fd0eec2c"
   ]
  },
  {
   "cell_type": "code",
   "execution_count": 1,
   "metadata": {},
   "outputs": [
    {
     "name": "stdout",
     "output_type": "stream",
     "text": [
      "<class 'list'>\n",
      "<class 'list_iterator'>\n"
     ]
    }
   ],
   "source": [
    "# Convert an interable to an interator\n",
    "my_list = [1, 2, 3, 4, 5]\n",
    "print(type(my_list))\n",
    "# <class 'list'>\n",
    "\n",
    "my_list_iterator = iter(my_list)\n",
    "print(type(my_list_iterator))\n",
    "# <class 'list_iterator'>"
   ]
  },
  {
   "cell_type": "code",
   "execution_count": 2,
   "metadata": {},
   "outputs": [
    {
     "name": "stdout",
     "output_type": "stream",
     "text": [
      "0 2 4 6 8 10 12 14 16 18 "
     ]
    }
   ],
   "source": [
    "import itertools\n",
    "\n",
    "for i in itertools.count(0, 2):\n",
    "    if i == 20:\n",
    "        break\n",
    "    else:\n",
    "        print(i, end=\" \")"
   ]
  },
  {
   "cell_type": "code",
   "execution_count": 3,
   "metadata": {},
   "outputs": [
    {
     "name": "stdout",
     "output_type": "stream",
     "text": [
      "Mark Craig Tim Pat Katee Mark Craig Tim Pat Katee Mark Craig "
     ]
    }
   ],
   "source": [
    "import itertools\n",
    "\n",
    "count = 0\n",
    "\n",
    "for leader in itertools.cycle(['Mark', 'Craig', 'Tim', \"Pat\", \"Katee\"]):\n",
    "    if count >= 12:\n",
    "        break\n",
    "    else:\n",
    "        print(leader, end=' ')\n",
    "        count += 1"
   ]
  },
  {
   "cell_type": "code",
   "execution_count": 5,
   "metadata": {},
   "outputs": [
    {
     "name": "stdout",
     "output_type": "stream",
     "text": [
      "['Mark', 'Mark', 'Mark']\n"
     ]
    }
   ],
   "source": [
    "import itertools\n",
    "\n",
    "print(list(itertools.repeat('Mark', 3)))"
   ]
  }
 ],
 "metadata": {
  "kernelspec": {
   "display_name": "Python 3",
   "language": "python",
   "name": "python3"
  },
  "language_info": {
   "codemirror_mode": {
    "name": "ipython",
    "version": 3
   },
   "file_extension": ".py",
   "mimetype": "text/x-python",
   "name": "python",
   "nbconvert_exporter": "python",
   "pygments_lexer": "ipython3",
   "version": "3.8.5"
  }
 },
 "nbformat": 4,
 "nbformat_minor": 4
}
