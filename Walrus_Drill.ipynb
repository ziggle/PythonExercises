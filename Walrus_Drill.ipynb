{
 "cells": [
  {
   "cell_type": "markdown",
   "id": "020999ec",
   "metadata": {},
   "source": [
    "https://blog.stackademic.com/pythons-walrus-operator-what-it-is-and-how-to-use-it-5cbae9bdc8d3"
   ]
  },
  {
   "cell_type": "code",
   "execution_count": 2,
   "id": "7740f459",
   "metadata": {},
   "outputs": [
    {
     "name": "stdout",
     "output_type": "stream",
     "text": [
      "True\n"
     ]
    }
   ],
   "source": [
    "def is_palindrome(s):\n",
    "    return s == s[::-1]\n",
    "\n",
    "print(is_palindrome(\"aka\"))"
   ]
  },
  {
   "cell_type": "code",
   "execution_count": 3,
   "id": "a8e232a7",
   "metadata": {},
   "outputs": [
    {
     "name": "stdout",
     "output_type": "stream",
     "text": [
      "True\n"
     ]
    }
   ],
   "source": [
    "def is_palindrome(s):\n",
    "    return (rev := s[::-1]) == s\n",
    "\n",
    "print(is_palindrome(\"aka\"))"
   ]
  },
  {
   "cell_type": "code",
   "execution_count": 5,
   "id": "66d1e368",
   "metadata": {},
   "outputs": [
    {
     "name": "stdout",
     "output_type": "stream",
     "text": [
      "4\n",
      "6\n"
     ]
    }
   ],
   "source": [
    "def max_or_sum(a, b):\n",
    "    return (a + b) if (equal := a == b) else max(a, b)\n",
    "\n",
    "print(max_or_sum(4,3))\n",
    "print(max_or_sum(3,3))"
   ]
  },
  {
   "cell_type": "code",
   "execution_count": 6,
   "id": "685e08a5",
   "metadata": {},
   "outputs": [
    {
     "name": "stdout",
     "output_type": "stream",
     "text": [
      "3\n"
     ]
    }
   ],
   "source": [
    "def count_vowels(s):\n",
    "    vowels = \"aeiou\"\n",
    "    count = 0\n",
    "    for c in s:\n",
    "        if c in vowels:\n",
    "            count += 1\n",
    "    return count\n",
    "\n",
    "print(count_vowels(\"Markie\"))"
   ]
  },
  {
   "cell_type": "code",
   "execution_count": 9,
   "id": "1ab819f4",
   "metadata": {},
   "outputs": [
    {
     "name": "stdout",
     "output_type": "stream",
     "text": [
      "3\n"
     ]
    }
   ],
   "source": [
    "def count_vowels(s):\n",
    "    return sum(c in (vowels:=\"aeiou\") for c in s)\n",
    "\n",
    "print(count_vowels(\"markie\"))"
   ]
  }
 ],
 "metadata": {
  "kernelspec": {
   "display_name": "Python 3 (ipykernel)",
   "language": "python",
   "name": "python3"
  },
  "language_info": {
   "codemirror_mode": {
    "name": "ipython",
    "version": 3
   },
   "file_extension": ".py",
   "mimetype": "text/x-python",
   "name": "python",
   "nbconvert_exporter": "python",
   "pygments_lexer": "ipython3",
   "version": "3.9.7"
  }
 },
 "nbformat": 4,
 "nbformat_minor": 5
}
