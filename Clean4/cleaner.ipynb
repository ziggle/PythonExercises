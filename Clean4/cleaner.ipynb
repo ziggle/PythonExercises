{
 "cells": [
  {
   "cell_type": "markdown",
   "metadata": {},
   "source": [
    "https://medium.com/@gozdebarin/6-essential-data-cleaning-steps-most-helpful-python-pandas-methods-1a3facf53e7c"
   ]
  },
  {
   "cell_type": "code",
   "execution_count": 55,
   "metadata": {},
   "outputs": [],
   "source": [
    "# Import libraries\n",
    "import pandas as pd\n",
    "\n",
    "# Read data from a CSV file\n",
    "df = pd.read_csv('filename.csv')"
   ]
  },
  {
   "cell_type": "code",
   "execution_count": 56,
   "metadata": {},
   "outputs": [
    {
     "data": {
      "text/plain": [
       "Order Customer Id         1\n",
       "Product Price             1\n",
       "Order Quantity            1\n",
       "Customer Zipcode          1\n",
       "Order Date                0\n",
       "Profit Per Order          0\n",
       "Profit Margin             0\n",
       "Order Item Total          0\n",
       "Order Region              0\n",
       "Order Id                  0\n",
       "Additional Order Items    0\n",
       "Category Name             0\n",
       "Market                    0\n",
       "Customer State            0\n",
       "Customer Segment          0\n",
       "Customer Id               0\n",
       "Customer Fname            0\n",
       "Customer Country          0\n",
       "Customer City             0\n",
       "Sales                     0\n",
       "dtype: int64"
      ]
     },
     "execution_count": 56,
     "metadata": {},
     "output_type": "execute_result"
    }
   ],
   "source": [
    "# Check for missing values in the dataframe\n",
    "df.isnull()\n",
    "\n",
    "# Check the number of missing values in the dataframe\n",
    "df.isnull().sum().sort_values(ascending=False)"
   ]
  },
  {
   "cell_type": "code",
   "execution_count": 57,
   "metadata": {},
   "outputs": [
    {
     "name": "stdout",
     "output_type": "stream",
     "text": [
      "  Additional Order Items      Category Name Customer City Customer Country  \\\n",
      "0       Camping & Hiking   Camping & Hiking        Caguas      Puerto Rico   \n",
      "1       Camping & Hiking   Camping & Hiking        Caguas               US   \n",
      "2       Cardio Equipment   Cardio Equipment        Laredo               US   \n",
      "3           Water Sports       Water Sports        Fresno               US   \n",
      "4      Kids' Golf Clubs   Kids' Golf Clubs         Caguas      Puerto Rico   \n",
      "5       Camping & Hiking   Camping & Hiking        Caguas      Puerto Rico   \n",
      "6       Camping & Hiking   Camping & Hiking        Caguas               US   \n",
      "7       Cardio Equipment   Cardio Equipment        Laredo               US   \n",
      "8           Water Sports       Water Sports        Fresno               US   \n",
      "9      Kids' Golf Clubs   Kids' Golf Clubs         Caguas      Puerto Rico   \n",
      "\n",
      "  Customer Fname  Customer Id Customer Segment Customer State  \\\n",
      "0           Sean            1         Consumer             PR   \n",
      "1          Carol            2         Consumer             PR   \n",
      "2           Mary            3      Home Office             TX   \n",
      "3          DORIS            4         Consumer             CA   \n",
      "4         BRENDA            5        Corporate             PR   \n",
      "5           Sean            1         Consumer             PR   \n",
      "6          Carol            2         Consumer             PR   \n",
      "7           Mary            3      Home Office             TX   \n",
      "8          DORIS            4         Consumer             CA   \n",
      "9         BRENDA            5        Corporate             PR   \n",
      "\n",
      "   Customer Zipcode  Market  Order Customer Id  Order Date  Order Id  \\\n",
      "0              61.0      12               37.0          95        21   \n",
      "1               NaN      11               17.0          68        21   \n",
      "2              14.0      20                NaN          24        14   \n",
      "3              17.0      57               64.0          50        37   \n",
      "4               5.0      43               22.0          82        28   \n",
      "5              61.0      12               37.0          95        21   \n",
      "6               1.0      11               17.0          68        21   \n",
      "7              14.0      20                1.0          24        14   \n",
      "8              17.0      57               64.0          50        37   \n",
      "9               5.0      43               22.0          82        28   \n",
      "\n",
      "   Order Region  Order Item Total  Order Quantity  Product Price  \\\n",
      "0            55                85            34.0           11.0   \n",
      "1            77                 2            39.0            9.0   \n",
      "2            85                48            64.0           85.0   \n",
      "3            69                60             NaN            NaN   \n",
      "4            88                46            14.0           18.0   \n",
      "5            55                85            34.0           11.0   \n",
      "6            77                 2            39.0            9.0   \n",
      "7            85                48            64.0           85.0   \n",
      "8            69                60             1.0            1.0   \n",
      "9            88                46            14.0           18.0   \n",
      "\n",
      "   Profit Margin  Profit Per Order  Sales  \n",
      "0              9                21     53  \n",
      "1             41                16     44  \n",
      "2             90                35     95  \n",
      "3             74                65     50  \n",
      "4             48                68     62  \n",
      "5              9                21     53  \n",
      "6             41                16     44  \n",
      "7             90                35     95  \n",
      "8             74                65     50  \n",
      "9             48                68     62  \n"
     ]
    }
   ],
   "source": [
    "# Check for missing values in the 'Customer Zipcode' column\n",
    "df['Customer Zipcode'].isnull().sum()\n",
    "print(df)\n"
   ]
  },
  {
   "cell_type": "code",
   "execution_count": 58,
   "metadata": {},
   "outputs": [
    {
     "name": "stdout",
     "output_type": "stream",
     "text": [
      "1 missing values represents 10.0% of the rows in our DataFrame.\n"
     ]
    }
   ],
   "source": [
    "# Check what percentage of the data frame these 3 missing values ​​represent\n",
    "print(f\"1 missing values represents {(df['Customer Zipcode'].isnull().sum() / df.shape[0] * 100).round(4)}% of the rows in our DataFrame.\")"
   ]
  },
  {
   "cell_type": "code",
   "execution_count": 64,
   "metadata": {},
   "outputs": [
    {
     "name": "stdout",
     "output_type": "stream",
     "text": [
      "  Additional Order Items      Category Name Customer City Customer Country  \\\n",
      "0       Camping & Hiking   Camping & Hiking        Caguas      Puerto Rico   \n",
      "4      Kids' Golf Clubs   Kids' Golf Clubs         Caguas      Puerto Rico   \n",
      "5       Camping & Hiking   Camping & Hiking        Caguas      Puerto Rico   \n",
      "6       Camping & Hiking   Camping & Hiking        Caguas               US   \n",
      "7       Cardio Equipment   Cardio Equipment        Laredo               US   \n",
      "8           Water Sports       Water Sports        Fresno               US   \n",
      "9      Kids' Golf Clubs   Kids' Golf Clubs         Caguas      Puerto Rico   \n",
      "\n",
      "  Customer Fname  Customer Id Customer Segment Customer State  \\\n",
      "0           Sean            1         Consumer             PR   \n",
      "4         BRENDA            5        Corporate             PR   \n",
      "5           Sean            1         Consumer             PR   \n",
      "6          Carol            2         Consumer             PR   \n",
      "7           Mary            3      Home Office             TX   \n",
      "8          DORIS            4         Consumer             CA   \n",
      "9         BRENDA            5        Corporate             PR   \n",
      "\n",
      "   Customer Zipcode  Market  Order Customer Id  Order Date  Order Id  \\\n",
      "0              61.0      12               37.0          95        21   \n",
      "4               5.0      43               22.0          82        28   \n",
      "5              61.0      12               37.0          95        21   \n",
      "6               1.0      11               17.0          68        21   \n",
      "7              14.0      20                1.0          24        14   \n",
      "8              17.0      57               64.0          50        37   \n",
      "9               5.0      43               22.0          82        28   \n",
      "\n",
      "   Order Region  Order Item Total  Order Quantity  Product Price  \\\n",
      "0            55                85            34.0           11.0   \n",
      "4            88                46            14.0           18.0   \n",
      "5            55                85            34.0           11.0   \n",
      "6            77                 2            39.0            9.0   \n",
      "7            85                48            64.0           85.0   \n",
      "8            69                60             1.0            1.0   \n",
      "9            88                46            14.0           18.0   \n",
      "\n",
      "   Profit Margin  Profit Per Order  Sales  \n",
      "0              9                21     53  \n",
      "4             48                68     62  \n",
      "5              9                21     53  \n",
      "6             41                16     44  \n",
      "7             90                35     95  \n",
      "8             74                65     50  \n",
      "9             48                68     62  \n",
      "00000\n",
      "  Additional Order Items      Category Name Customer City Customer Country  \\\n",
      "0       Camping & Hiking   Camping & Hiking        Caguas      Puerto Rico   \n",
      "4      Kids' Golf Clubs   Kids' Golf Clubs         Caguas      Puerto Rico   \n",
      "5       Camping & Hiking   Camping & Hiking        Caguas      Puerto Rico   \n",
      "6       Camping & Hiking   Camping & Hiking        Caguas               US   \n",
      "7       Cardio Equipment   Cardio Equipment        Laredo               US   \n",
      "8           Water Sports       Water Sports        Fresno               US   \n",
      "9      Kids' Golf Clubs   Kids' Golf Clubs         Caguas      Puerto Rico   \n",
      "\n",
      "  Customer Fname  Customer Id Customer Segment Customer State  \\\n",
      "0           Sean            1         Consumer             PR   \n",
      "4         BRENDA            5        Corporate             PR   \n",
      "5           Sean            1         Consumer             PR   \n",
      "6          Carol            2         Consumer             PR   \n",
      "7           Mary            3      Home Office             TX   \n",
      "8          DORIS            4         Consumer             CA   \n",
      "9         BRENDA            5        Corporate             PR   \n",
      "\n",
      "   Customer Zipcode  Market  Order Customer Id  Order Date  Order Id  \\\n",
      "0              61.0      12               37.0          95        21   \n",
      "4               5.0      43               22.0          82        28   \n",
      "5              61.0      12               37.0          95        21   \n",
      "6               1.0      11               17.0          68        21   \n",
      "7              14.0      20                1.0          24        14   \n",
      "8              17.0      57               64.0          50        37   \n",
      "9               5.0      43               22.0          82        28   \n",
      "\n",
      "   Order Region  Order Item Total  Order Quantity  Product Price  \\\n",
      "0            55                85            34.0           11.0   \n",
      "4            88                46            14.0           18.0   \n",
      "5            55                85            34.0           11.0   \n",
      "6            77                 2            39.0            9.0   \n",
      "7            85                48            64.0           85.0   \n",
      "8            69                60             1.0            1.0   \n",
      "9            88                46            14.0           18.0   \n",
      "\n",
      "   Profit Margin  Profit Per Order  Sales  \n",
      "0              9                21     53  \n",
      "4             48                68     62  \n",
      "5              9                21     53  \n",
      "6             41                16     44  \n",
      "7             90                35     95  \n",
      "8             74                65     50  \n",
      "9             48                68     62  \n"
     ]
    }
   ],
   "source": [
    "# Drop all the rows where at least one element is missing\n",
    "df1 = df.copy().dropna()  \n",
    "print(df1)  \n",
    "# or df.dropna(axis=0) **(axis=0 for rows and axis=1 for columns)\n",
    "\n",
    "# Note: inplace=True modifies the DataFrame rather than creating a new one\n",
    "#df2=df1.copy().dropna(inplace=True)\n",
    "print(\"00000\")\n",
    "df2=df1.copy()\n",
    "print(df2)"
   ]
  },
  {
   "cell_type": "code",
   "execution_count": 67,
   "metadata": {},
   "outputs": [
    {
     "name": "stdout",
     "output_type": "stream",
     "text": [
      "  Additional Order Items      Category Name Customer City Customer Country  \\\n",
      "0       Camping & Hiking   Camping & Hiking        Caguas      Puerto Rico   \n",
      "4      Kids' Golf Clubs   Kids' Golf Clubs         Caguas      Puerto Rico   \n",
      "5       Camping & Hiking   Camping & Hiking        Caguas      Puerto Rico   \n",
      "6       Camping & Hiking   Camping & Hiking        Caguas               US   \n",
      "7       Cardio Equipment   Cardio Equipment        Laredo               US   \n",
      "8           Water Sports       Water Sports        Fresno               US   \n",
      "9      Kids' Golf Clubs   Kids' Golf Clubs         Caguas      Puerto Rico   \n",
      "\n",
      "  Customer Fname  Customer Id Customer Segment Customer State  \\\n",
      "0           Sean            1         Consumer             PR   \n",
      "4         BRENDA            5        Corporate             PR   \n",
      "5           Sean            1         Consumer             PR   \n",
      "6          Carol            2         Consumer             PR   \n",
      "7           Mary            3      Home Office             TX   \n",
      "8          DORIS            4         Consumer             CA   \n",
      "9         BRENDA            5        Corporate             PR   \n",
      "\n",
      "   Customer Zipcode  Market  Order Customer Id  Order Date  Order Id  \\\n",
      "0              61.0      12               37.0          95        21   \n",
      "4               5.0      43               22.0          82        28   \n",
      "5              61.0      12               37.0          95        21   \n",
      "6               1.0      11               17.0          68        21   \n",
      "7              14.0      20                1.0          24        14   \n",
      "8              17.0      57               64.0          50        37   \n",
      "9               5.0      43               22.0          82        28   \n",
      "\n",
      "   Order Region  Order Item Total  Order Quantity  Product Price  \\\n",
      "0            55                85            34.0           11.0   \n",
      "4            88                46            14.0           18.0   \n",
      "5            55                85            34.0           11.0   \n",
      "6            77                 2            39.0            9.0   \n",
      "7            85                48            64.0           85.0   \n",
      "8            69                60             1.0            1.0   \n",
      "9            88                46            14.0           18.0   \n",
      "\n",
      "   Profit Margin  Profit Per Order  Sales  \n",
      "0              9                21     53  \n",
      "4             48                68     62  \n",
      "5              9                21     53  \n",
      "6             41                16     44  \n",
      "7             90                35     95  \n",
      "8             74                65     50  \n",
      "9             48                68     62  \n"
     ]
    }
   ],
   "source": [
    "df3=df2.copy().dropna(axis=1, inplace=False)\n",
    "print(df3)"
   ]
  },
  {
   "cell_type": "code",
   "execution_count": 69,
   "metadata": {},
   "outputs": [],
   "source": [
    "# Fill missing values in the dataset with a specific value\n",
    "df = df.fillna(0)\n",
    "\n",
    "# Replace missing values in the dataset with median\n",
    "#df = df.fillna(df.median())\n",
    "\n",
    "# Replace missing values in Order Quantity column with the mean of Order Quantities\n",
    "#df['Order Quantity'].fillna(df[\"Order Quantity\"].mean, inplace=True)"
   ]
  },
  {
   "cell_type": "code",
   "execution_count": 70,
   "metadata": {},
   "outputs": [
    {
     "data": {
      "text/plain": [
       "2"
      ]
     },
     "execution_count": 70,
     "metadata": {},
     "output_type": "execute_result"
    }
   ],
   "source": [
    "# Check duplicate rows\n",
    "df.duplicated()\n",
    "\n",
    "# Check the number of duplicate rows\n",
    "df.duplicated().sum()"
   ]
  },
  {
   "cell_type": "code",
   "execution_count": 72,
   "metadata": {},
   "outputs": [],
   "source": [
    "# Drop duplicate rows (but only keep the first row)\n",
    "df = df.drop_duplicates(keep='first') #keep='first' / keep='last' / keep=False\n",
    "\n",
    "# Note: inplace=True modifies the DataFrame rather than creating a new one\n",
    "df.drop_duplicates(keep='first', inplace=True)"
   ]
  },
  {
   "cell_type": "code",
   "execution_count": 73,
   "metadata": {},
   "outputs": [
    {
     "data": {
      "text/plain": [
       "count     8.000000\n",
       "mean     27.250000\n",
       "std      36.090165\n",
       "min       0.000000\n",
       "25%       7.000000\n",
       "50%      10.000000\n",
       "75%      34.750000\n",
       "max      85.000000\n",
       "Name: Product Price, dtype: float64"
      ]
     },
     "execution_count": 73,
     "metadata": {},
     "output_type": "execute_result"
    }
   ],
   "source": [
    "# Get a statistics summary of the dataset\n",
    "df[\"Product Price\"].describe()"
   ]
  },
  {
   "cell_type": "code",
   "execution_count": 75,
   "metadata": {},
   "outputs": [
    {
     "data": {
      "text/plain": [
       "<Axes: >"
      ]
     },
     "execution_count": 75,
     "metadata": {},
     "output_type": "execute_result"
    },
    {
     "data": {
      "image/png": "[encoded data removed]",
      "text/plain": [
       "<Figure size 800x600 with 1 Axes>"
      ]
     },
     "metadata": {},
     "output_type": "display_data"
    }
   ],
   "source": [
    "import matplotlib.pyplot as plt\n",
    "plt.figure(figsize=(8, 6))\n",
    "df[\"Product Price\"].hist(bins=100)"
   ]
  },
  {
   "cell_type": "code",
   "execution_count": 76,
   "metadata": {},
   "outputs": [
    {
     "data": {
      "text/plain": [
       "<Axes: >"
      ]
     },
     "execution_count": 76,
     "metadata": {},
     "output_type": "execute_result"
    },
    {
     "data": {
      "image/png": "[encoded data removed]",
      "text/plain": [
       "<Figure size 600x400 with 1 Axes>"
      ]
     },
     "metadata": {},
     "output_type": "display_data"
    }
   ],
   "source": [
    "plt.figure(figsize=(6, 4))\n",
    "df.boxplot(column=['Product Price'])"
   ]
  },
  {
   "cell_type": "code",
   "execution_count": 77,
   "metadata": {},
   "outputs": [
    {
     "name": "stdout",
     "output_type": "stream",
     "text": [
      "<class 'pandas.core.frame.DataFrame'>\n",
      "Index: 8 entries, 0 to 8\n",
      "Data columns (total 20 columns):\n",
      " #   Column                  Non-Null Count  Dtype  \n",
      "---  ------                  --------------  -----  \n",
      " 0   Additional Order Items  8 non-null      object \n",
      " 1   Category Name           8 non-null      object \n",
      " 2   Customer City           8 non-null      object \n",
      " 3   Customer Country        8 non-null      object \n",
      " 4   Customer Fname          8 non-null      object \n",
      " 5   Customer Id             8 non-null      int64  \n",
      " 6   Customer Segment        8 non-null      object \n",
      " 7   Customer State          8 non-null      object \n",
      " 8   Customer Zipcode        8 non-null      float64\n",
      " 9   Market                  8 non-null      int64  \n",
      " 10  Order Customer Id       8 non-null      float64\n",
      " 11  Order Date              8 non-null      int64  \n",
      " 12  Order Id                8 non-null      int64  \n",
      " 13  Order Region            8 non-null      int64  \n",
      " 14  Order Item Total        8 non-null      int64  \n",
      " 15  Order Quantity          8 non-null      float64\n",
      " 16  Product Price           8 non-null      float64\n",
      " 17  Profit Margin           8 non-null      int64  \n",
      " 18  Profit Per Order        8 non-null      int64  \n",
      " 19  Sales                   8 non-null      int64  \n",
      "dtypes: float64(4), int64(9), object(7)\n",
      "memory usage: 1.3+ KB\n"
     ]
    }
   ],
   "source": [
    "# Provide a summary of dataset\n",
    "df.info()"
   ]
  },
  {
   "cell_type": "code",
   "execution_count": 78,
   "metadata": {},
   "outputs": [],
   "source": [
    "# Rename column names to lowercase\n",
    "df.columns = df.columns.str.lower()"
   ]
  },
  {
   "cell_type": "code",
   "execution_count": 79,
   "metadata": {},
   "outputs": [
    {
     "name": "stdout",
     "output_type": "stream",
     "text": [
      "  additional order items      category name customer city customer country  \\\n",
      "0       Camping & Hiking   Camping & Hiking        Caguas      Puerto Rico   \n",
      "1       Camping & Hiking   Camping & Hiking        Caguas               US   \n",
      "2       Cardio Equipment   Cardio Equipment        Laredo               US   \n",
      "3           Water Sports       Water Sports        Fresno               US   \n",
      "4      Kids' Golf Clubs   Kids' Golf Clubs         Caguas      Puerto Rico   \n",
      "6       Camping & Hiking   Camping & Hiking        Caguas               US   \n",
      "7       Cardio Equipment   Cardio Equipment        Laredo               US   \n",
      "8           Water Sports       Water Sports        Fresno               US   \n",
      "\n",
      "  customer fname  customer id customer segment customer state  \\\n",
      "0           Sean            1         Consumer             PR   \n",
      "1          Carol            2         Consumer             PR   \n",
      "2           Mary            3      Home Office             TX   \n",
      "3          DORIS            4         Consumer             CA   \n",
      "4         BRENDA            5        Corporate             PR   \n",
      "6          Carol            2         Consumer             PR   \n",
      "7           Mary            3      Home Office             TX   \n",
      "8          DORIS            4         Consumer             CA   \n",
      "\n",
      "   customer zipcode  market  order customer id  order date  order id  \\\n",
      "0              61.0      12               37.0          95        21   \n",
      "1               0.0      11               17.0          68        21   \n",
      "2              14.0      20                0.0          24        14   \n",
      "3              17.0      57               64.0          50        37   \n",
      "4               5.0      43               22.0          82        28   \n",
      "6               1.0      11               17.0          68        21   \n",
      "7              14.0      20                1.0          24        14   \n",
      "8              17.0      57               64.0          50        37   \n",
      "\n",
      "   order region  order item total  order quantity  product price  \\\n",
      "0            55                85            34.0           11.0   \n",
      "1            77                 2            39.0            9.0   \n",
      "2            85                48            64.0           85.0   \n",
      "3            69                60             0.0            0.0   \n",
      "4            88                46            14.0           18.0   \n",
      "6            77                 2            39.0            9.0   \n",
      "7            85                48            64.0           85.0   \n",
      "8            69                60             1.0            1.0   \n",
      "\n",
      "   profit margin  profit per order  sales  \n",
      "0              9                21     53  \n",
      "1             41                16     44  \n",
      "2             90                35     95  \n",
      "3             74                65     50  \n",
      "4             48                68     62  \n",
      "6             41                16     44  \n",
      "7             90                35     95  \n",
      "8             74                65     50  \n"
     ]
    }
   ],
   "source": [
    "print(df)"
   ]
  },
  {
   "cell_type": "code",
   "execution_count": 81,
   "metadata": {},
   "outputs": [
    {
     "ename": "KeyError",
     "evalue": "'Customer Fname'",
     "output_type": "error",
     "traceback": [
      "\u001b[1;31m---------------------------------------------------------------------------\u001b[0m",
      "\u001b[1;31mKeyError\u001b[0m                                  Traceback (most recent call last)",
      "File \u001b[1;32m~\\AppData\\Local\\Packages\\PythonSoftwareFoundation.Python.3.11_qbz5n2kfra8p0\\LocalCache\\local-packages\\Python311\\site-packages\\pandas\\core\\indexes\\base.py:3652\u001b[0m, in \u001b[0;36mIndex.get_loc\u001b[1;34m(self, key)\u001b[0m\n\u001b[0;32m   3651\u001b[0m \u001b[39mtry\u001b[39;00m:\n\u001b[1;32m-> 3652\u001b[0m     \u001b[39mreturn\u001b[39;00m \u001b[39mself\u001b[39;49m\u001b[39m.\u001b[39;49m_engine\u001b[39m.\u001b[39;49mget_loc(casted_key)\n\u001b[0;32m   3653\u001b[0m \u001b[39mexcept\u001b[39;00m \u001b[39mKeyError\u001b[39;00m \u001b[39mas\u001b[39;00m err:\n",
      "File \u001b[1;32m~\\AppData\\Local\\Packages\\PythonSoftwareFoundation.Python.3.11_qbz5n2kfra8p0\\LocalCache\\local-packages\\Python311\\site-packages\\pandas\\_libs\\index.pyx:147\u001b[0m, in \u001b[0;36mpandas._libs.index.IndexEngine.get_loc\u001b[1;34m()\u001b[0m\n",
      "File \u001b[1;32m~\\AppData\\Local\\Packages\\PythonSoftwareFoundation.Python.3.11_qbz5n2kfra8p0\\LocalCache\\local-packages\\Python311\\site-packages\\pandas\\_libs\\index.pyx:176\u001b[0m, in \u001b[0;36mpandas._libs.index.IndexEngine.get_loc\u001b[1;34m()\u001b[0m\n",
      "File \u001b[1;32mpandas\\_libs\\hashtable_class_helper.pxi:7080\u001b[0m, in \u001b[0;36mpandas._libs.hashtable.PyObjectHashTable.get_item\u001b[1;34m()\u001b[0m\n",
      "File \u001b[1;32mpandas\\_libs\\hashtable_class_helper.pxi:7088\u001b[0m, in \u001b[0;36mpandas._libs.hashtable.PyObjectHashTable.get_item\u001b[1;34m()\u001b[0m\n",
      "\u001b[1;31mKeyError\u001b[0m: 'Customer Fname'",
      "\nThe above exception was the direct cause of the following exception:\n",
      "\u001b[1;31mKeyError\u001b[0m                                  Traceback (most recent call last)",
      "Cell \u001b[1;32mIn[81], line 2\u001b[0m\n\u001b[0;32m      1\u001b[0m \u001b[39m# Rename values in  Customer Fname column to uppercase\u001b[39;00m\n\u001b[1;32m----> 2\u001b[0m df[\u001b[39m\"\u001b[39m\u001b[39mCustomer Fname\u001b[39m\u001b[39m\"\u001b[39m] \u001b[39m=\u001b[39m df[\u001b[39m\"\u001b[39;49m\u001b[39mCustomer Fname\u001b[39;49m\u001b[39m\"\u001b[39;49m]\u001b[39m.\u001b[39mstr\u001b[39m.\u001b[39mupper()\n",
      "File \u001b[1;32m~\\AppData\\Local\\Packages\\PythonSoftwareFoundation.Python.3.11_qbz5n2kfra8p0\\LocalCache\\local-packages\\Python311\\site-packages\\pandas\\core\\frame.py:3761\u001b[0m, in \u001b[0;36mDataFrame.__getitem__\u001b[1;34m(self, key)\u001b[0m\n\u001b[0;32m   3759\u001b[0m \u001b[39mif\u001b[39;00m \u001b[39mself\u001b[39m\u001b[39m.\u001b[39mcolumns\u001b[39m.\u001b[39mnlevels \u001b[39m>\u001b[39m \u001b[39m1\u001b[39m:\n\u001b[0;32m   3760\u001b[0m     \u001b[39mreturn\u001b[39;00m \u001b[39mself\u001b[39m\u001b[39m.\u001b[39m_getitem_multilevel(key)\n\u001b[1;32m-> 3761\u001b[0m indexer \u001b[39m=\u001b[39m \u001b[39mself\u001b[39;49m\u001b[39m.\u001b[39;49mcolumns\u001b[39m.\u001b[39;49mget_loc(key)\n\u001b[0;32m   3762\u001b[0m \u001b[39mif\u001b[39;00m is_integer(indexer):\n\u001b[0;32m   3763\u001b[0m     indexer \u001b[39m=\u001b[39m [indexer]\n",
      "File \u001b[1;32m~\\AppData\\Local\\Packages\\PythonSoftwareFoundation.Python.3.11_qbz5n2kfra8p0\\LocalCache\\local-packages\\Python311\\site-packages\\pandas\\core\\indexes\\base.py:3654\u001b[0m, in \u001b[0;36mIndex.get_loc\u001b[1;34m(self, key)\u001b[0m\n\u001b[0;32m   3652\u001b[0m     \u001b[39mreturn\u001b[39;00m \u001b[39mself\u001b[39m\u001b[39m.\u001b[39m_engine\u001b[39m.\u001b[39mget_loc(casted_key)\n\u001b[0;32m   3653\u001b[0m \u001b[39mexcept\u001b[39;00m \u001b[39mKeyError\u001b[39;00m \u001b[39mas\u001b[39;00m err:\n\u001b[1;32m-> 3654\u001b[0m     \u001b[39mraise\u001b[39;00m \u001b[39mKeyError\u001b[39;00m(key) \u001b[39mfrom\u001b[39;00m \u001b[39merr\u001b[39;00m\n\u001b[0;32m   3655\u001b[0m \u001b[39mexcept\u001b[39;00m \u001b[39mTypeError\u001b[39;00m:\n\u001b[0;32m   3656\u001b[0m     \u001b[39m# If we have a listlike key, _check_indexing_error will raise\u001b[39;00m\n\u001b[0;32m   3657\u001b[0m     \u001b[39m#  InvalidIndexError. Otherwise we fall through and re-raise\u001b[39;00m\n\u001b[0;32m   3658\u001b[0m     \u001b[39m#  the TypeError.\u001b[39;00m\n\u001b[0;32m   3659\u001b[0m     \u001b[39mself\u001b[39m\u001b[39m.\u001b[39m_check_indexing_error(key)\n",
      "\u001b[1;31mKeyError\u001b[0m: 'Customer Fname'"
     ]
    }
   ],
   "source": [
    "# Rename values in  Customer Fname column to uppercase\n",
    "df[\"Customer Fname\"] = df[\"Customer Fname\"].str.upper()"
   ]
  },
  {
   "cell_type": "code",
   "execution_count": 82,
   "metadata": {},
   "outputs": [
    {
     "name": "stdout",
     "output_type": "stream",
     "text": [
      "  additional order items      category name customer city customer country  \\\n",
      "0       Camping & Hiking   Camping & Hiking        Caguas      Puerto Rico   \n",
      "1       Camping & Hiking   Camping & Hiking        Caguas               US   \n",
      "2       Cardio Equipment   Cardio Equipment        Laredo               US   \n",
      "3           Water Sports       Water Sports        Fresno               US   \n",
      "4      Kids' Golf Clubs   Kids' Golf Clubs         Caguas      Puerto Rico   \n",
      "6       Camping & Hiking   Camping & Hiking        Caguas               US   \n",
      "7       Cardio Equipment   Cardio Equipment        Laredo               US   \n",
      "8           Water Sports       Water Sports        Fresno               US   \n",
      "\n",
      "  customer fname  customer id customer segment customer state  \\\n",
      "0           Sean            1         Consumer             PR   \n",
      "1          Carol            2         Consumer             PR   \n",
      "2           Mary            3      Home Office             TX   \n",
      "3          DORIS            4         Consumer             CA   \n",
      "4         BRENDA            5        Corporate             PR   \n",
      "6          Carol            2         Consumer             PR   \n",
      "7           Mary            3      Home Office             TX   \n",
      "8          DORIS            4         Consumer             CA   \n",
      "\n",
      "   customer zipcode  market  order customer id  order date  order id  \\\n",
      "0              61.0      12               37.0          95        21   \n",
      "1               0.0      11               17.0          68        21   \n",
      "2              14.0      20                0.0          24        14   \n",
      "3              17.0      57               64.0          50        37   \n",
      "4               5.0      43               22.0          82        28   \n",
      "6               1.0      11               17.0          68        21   \n",
      "7              14.0      20                1.0          24        14   \n",
      "8              17.0      57               64.0          50        37   \n",
      "\n",
      "   order region  order item total  order quantity  product price  \\\n",
      "0            55                85            34.0           11.0   \n",
      "1            77                 2            39.0            9.0   \n",
      "2            85                48            64.0           85.0   \n",
      "3            69                60             0.0            0.0   \n",
      "4            88                46            14.0           18.0   \n",
      "6            77                 2            39.0            9.0   \n",
      "7            85                48            64.0           85.0   \n",
      "8            69                60             1.0            1.0   \n",
      "\n",
      "   profit margin  profit per order  sales  \n",
      "0              9                21     53  \n",
      "1             41                16     44  \n",
      "2             90                35     95  \n",
      "3             74                65     50  \n",
      "4             48                68     62  \n",
      "6             41                16     44  \n",
      "7             90                35     95  \n",
      "8             74                65     50  \n"
     ]
    }
   ],
   "source": [
    "print(df)"
   ]
  },
  {
   "cell_type": "code",
   "execution_count": null,
   "metadata": {},
   "outputs": [],
   "source": []
  }
 ],
 "metadata": {
  "kernelspec": {
   "display_name": "Python 3",
   "language": "python",
   "name": "python3"
  },
  "language_info": {
   "codemirror_mode": {
    "name": "ipython",
    "version": 3
   },
   "file_extension": ".py",
   "mimetype": "text/x-python",
   "name": "python",
   "nbconvert_exporter": "python",
   "pygments_lexer": "ipython3",
   "version": "3.11.4"
  },
  "orig_nbformat": 4
 },
 "nbformat": 4,
 "nbformat_minor": 2
}
