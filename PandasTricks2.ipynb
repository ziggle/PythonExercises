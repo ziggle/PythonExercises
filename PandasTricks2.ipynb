{
 "cells": [
  {
   "cell_type": "markdown",
   "metadata": {},
   "source": [
    "https://towardsdatascience.com/pandas-python-tricks-for-data-science-data-analysis-part-2-dc36460de90d"
   ]
  },
  {
   "cell_type": "code",
   "execution_count": 1,
   "metadata": {},
   "outputs": [
    {
     "name": "stdout",
     "output_type": "stream",
     "text": [
      "['Abidjan', 'Bamako', 'Dakar']\n",
      "['Abidjan', 'Bamako', 'Dakar']\n"
     ]
    }
   ],
   "source": [
    "cities = [\"Abidjan\",\"Bamako\",\"Dakar\",\"Abidjan\",\"Dakar\"]\n",
    "\n",
    "unique_cities=[]\n",
    "for city in cities:\n",
    "    if city not in unique_cities:\n",
    "        unique_cities.append(city)\n",
    "print(unique_cities)\n",
    "unique_cities = list(set(cities))\n",
    "print(unique_cities)"
   ]
  },
  {
   "cell_type": "code",
   "execution_count": 3,
   "metadata": {},
   "outputs": [
    {
     "name": "stdout",
     "output_type": "stream",
     "text": [
      "['Senegal', 'Ivory Coast', 'Mali', 'Benin']\n"
     ]
    },
    {
     "data": {
      "text/plain": [
       "['Ivory Coast', 'Mali', 'Senegal', 'Benin']"
      ]
     },
     "execution_count": 3,
     "metadata": {},
     "output_type": "execute_result"
    }
   ],
   "source": [
    "# Preserve original order\n",
    "countries = [\"Ivory Coast\",\"Mali\",\"Senegal\",\"Ivory Coast\",\"Benin\",\"Mali\",\"Senegal\"]\n",
    "print(list(set(countries))) # does not preserve order\n",
    "list(dict.fromkeys(countries))"
   ]
  },
  {
   "cell_type": "code",
   "execution_count": 4,
   "metadata": {},
   "outputs": [
    {
     "name": "stdout",
     "output_type": "stream",
     "text": [
      "True\n"
     ]
    }
   ],
   "source": [
    "cities = [\"Abidjan\",\"Bamako\",\"Dakar\",\"Abidjan\",\"Dakar\"]\n",
    "search_criteria = \"Bamako\"\n",
    "result=False\n",
    "for city in cities:\n",
    "    if (city==search_criteria):\n",
    "        result=True\n",
    "print(result)"
   ]
  },
  {
   "cell_type": "code",
   "execution_count": 5,
   "metadata": {},
   "outputs": [
    {
     "name": "stdout",
     "output_type": "stream",
     "text": [
      "True\n"
     ]
    }
   ],
   "source": [
    "result=search_criteria in cities\n",
    "print(result)"
   ]
  },
  {
   "cell_type": "code",
   "execution_count": 7,
   "metadata": {},
   "outputs": [
    {
     "name": "stdout",
     "output_type": "stream",
     "text": [
      "[43546, 855, 436]\n",
      "[10, 45, 89]\n"
     ]
    }
   ],
   "source": [
    "from heapq import nlargest, nsmallest\n",
    "my_list=[45,10,436,89,100,43546,855]\n",
    "print(nlargest(3,my_list))\n",
    "print(nsmallest(3,my_list))"
   ]
  },
  {
   "cell_type": "code",
   "execution_count": 8,
   "metadata": {},
   "outputs": [],
   "source": [
    "import pandas as pd\n",
    "candidates_df = pd.DataFrame({\n",
    "    \"Name\":[\"Aida\",\"Mamadou\",\"Ismael\",\"Aicha\",\"Fatou\",\"Khalil\"],\n",
    "    \"Degree\":[\"Master\",\"Master\",\"Bachelor\",\"PhD\",\"Master\",\"Phd\"]\n",
    "})"
   ]
  },
  {
   "cell_type": "code",
   "execution_count": 9,
   "metadata": {},
   "outputs": [
    {
     "data": {
      "text/html": [
       "<div>\n",
       "<style scoped>\n",
       "    .dataframe tbody tr th:only-of-type {\n",
       "        vertical-align: middle;\n",
       "    }\n",
       "\n",
       "    .dataframe tbody tr th {\n",
       "        vertical-align: top;\n",
       "    }\n",
       "\n",
       "    .dataframe thead th {\n",
       "        text-align: right;\n",
       "    }\n",
       "</style>\n",
       "<table border=\"1\" class=\"dataframe\">\n",
       "  <thead>\n",
       "    <tr style=\"text-align: right;\">\n",
       "      <th></th>\n",
       "      <th>Name</th>\n",
       "      <th>Degree</th>\n",
       "    </tr>\n",
       "  </thead>\n",
       "  <tbody>\n",
       "    <tr>\n",
       "      <th>3</th>\n",
       "      <td>Aicha</td>\n",
       "      <td>PhD</td>\n",
       "    </tr>\n",
       "    <tr>\n",
       "      <th>4</th>\n",
       "      <td>Fatou</td>\n",
       "      <td>Master</td>\n",
       "    </tr>\n",
       "    <tr>\n",
       "      <th>5</th>\n",
       "      <td>Khalil</td>\n",
       "      <td>Phd</td>\n",
       "    </tr>\n",
       "  </tbody>\n",
       "</table>\n",
       "</div>"
      ],
      "text/plain": [
       "     Name  Degree\n",
       "3   Aicha     PhD\n",
       "4   Fatou  Master\n",
       "5  Khalil     Phd"
      ]
     },
     "execution_count": 9,
     "metadata": {},
     "output_type": "execute_result"
    }
   ],
   "source": [
    "candidates_df.head(3)\n",
    "candidates_df.tail(3)"
   ]
  },
  {
   "cell_type": "code",
   "execution_count": 10,
   "metadata": {},
   "outputs": [
    {
     "data": {
      "text/html": [
       "<div>\n",
       "<style scoped>\n",
       "    .dataframe tbody tr th:only-of-type {\n",
       "        vertical-align: middle;\n",
       "    }\n",
       "\n",
       "    .dataframe tbody tr th {\n",
       "        vertical-align: top;\n",
       "    }\n",
       "\n",
       "    .dataframe thead th {\n",
       "        text-align: right;\n",
       "    }\n",
       "</style>\n",
       "<table border=\"1\" class=\"dataframe\">\n",
       "  <thead>\n",
       "    <tr style=\"text-align: right;\">\n",
       "      <th></th>\n",
       "      <th>Name</th>\n",
       "      <th>Degree</th>\n",
       "    </tr>\n",
       "  </thead>\n",
       "  <tbody>\n",
       "    <tr>\n",
       "      <th>0</th>\n",
       "      <td>Aida</td>\n",
       "      <td>Master</td>\n",
       "    </tr>\n",
       "    <tr>\n",
       "      <th>1</th>\n",
       "      <td>Mamadou</td>\n",
       "      <td>Master</td>\n",
       "    </tr>\n",
       "    <tr>\n",
       "      <th>2</th>\n",
       "      <td>Ismael</td>\n",
       "      <td>Bachelor</td>\n",
       "    </tr>\n",
       "  </tbody>\n",
       "</table>\n",
       "</div>"
      ],
      "text/plain": [
       "      Name    Degree\n",
       "0     Aida    Master\n",
       "1  Mamadou    Master\n",
       "2   Ismael  Bachelor"
      ]
     },
     "metadata": {},
     "output_type": "display_data"
    },
    {
     "data": {
      "text/html": [
       "<div>\n",
       "<style scoped>\n",
       "    .dataframe tbody tr th:only-of-type {\n",
       "        vertical-align: middle;\n",
       "    }\n",
       "\n",
       "    .dataframe tbody tr th {\n",
       "        vertical-align: top;\n",
       "    }\n",
       "\n",
       "    .dataframe thead th {\n",
       "        text-align: right;\n",
       "    }\n",
       "</style>\n",
       "<table border=\"1\" class=\"dataframe\">\n",
       "  <thead>\n",
       "    <tr style=\"text-align: right;\">\n",
       "      <th></th>\n",
       "      <th>Name</th>\n",
       "      <th>Degree</th>\n",
       "    </tr>\n",
       "  </thead>\n",
       "  <tbody>\n",
       "    <tr>\n",
       "      <th>3</th>\n",
       "      <td>Aicha</td>\n",
       "      <td>PhD</td>\n",
       "    </tr>\n",
       "    <tr>\n",
       "      <th>4</th>\n",
       "      <td>Fatou</td>\n",
       "      <td>Master</td>\n",
       "    </tr>\n",
       "    <tr>\n",
       "      <th>5</th>\n",
       "      <td>Khalil</td>\n",
       "      <td>Phd</td>\n",
       "    </tr>\n",
       "  </tbody>\n",
       "</table>\n",
       "</div>"
      ],
      "text/plain": [
       "     Name  Degree\n",
       "3   Aicha     PhD\n",
       "4   Fatou  Master\n",
       "5  Khalil     Phd"
      ]
     },
     "metadata": {},
     "output_type": "display_data"
    }
   ],
   "source": [
    "display(candidates_df.head(3))\n",
    "display(candidates_df.tail(3))"
   ]
  },
  {
   "cell_type": "code",
   "execution_count": 13,
   "metadata": {},
   "outputs": [
    {
     "name": "stdout",
     "output_type": "stream",
     "text": [
      "Number of Tables: 8\n"
     ]
    },
    {
     "data": {
      "text/html": [
       "<div>\n",
       "<style scoped>\n",
       "    .dataframe tbody tr th:only-of-type {\n",
       "        vertical-align: middle;\n",
       "    }\n",
       "\n",
       "    .dataframe tbody tr th {\n",
       "        vertical-align: top;\n",
       "    }\n",
       "\n",
       "    .dataframe thead th {\n",
       "        text-align: right;\n",
       "    }\n",
       "</style>\n",
       "<table border=\"1\" class=\"dataframe\">\n",
       "  <thead>\n",
       "    <tr style=\"text-align: right;\">\n",
       "      <th></th>\n",
       "      <th>Country</th>\n",
       "      <th>FuelMtoe</th>\n",
       "      <th>of whichrenewable</th>\n",
       "      <th>ElectricityMtoe</th>\n",
       "      <th>of whichrenewable.1</th>\n",
       "    </tr>\n",
       "  </thead>\n",
       "  <tbody>\n",
       "    <tr>\n",
       "      <th>0</th>\n",
       "      <td>Germany</td>\n",
       "      <td>156</td>\n",
       "      <td>10%</td>\n",
       "      <td>45</td>\n",
       "      <td>46%</td>\n",
       "    </tr>\n",
       "    <tr>\n",
       "      <th>1</th>\n",
       "      <td>France</td>\n",
       "      <td>100</td>\n",
       "      <td>12%</td>\n",
       "      <td>38</td>\n",
       "      <td>21%</td>\n",
       "    </tr>\n",
       "    <tr>\n",
       "      <th>2</th>\n",
       "      <td>United Kingdom</td>\n",
       "      <td>95</td>\n",
       "      <td>5%</td>\n",
       "      <td>26</td>\n",
       "      <td>40%</td>\n",
       "    </tr>\n",
       "    <tr>\n",
       "      <th>3</th>\n",
       "      <td>Italy</td>\n",
       "      <td>87</td>\n",
       "      <td>9%</td>\n",
       "      <td>25</td>\n",
       "      <td>39%</td>\n",
       "    </tr>\n",
       "    <tr>\n",
       "      <th>4</th>\n",
       "      <td>Spain</td>\n",
       "      <td>60</td>\n",
       "      <td>10%</td>\n",
       "      <td>21</td>\n",
       "      <td>43%</td>\n",
       "    </tr>\n",
       "    <tr>\n",
       "      <th>5</th>\n",
       "      <td>Poland</td>\n",
       "      <td>58</td>\n",
       "      <td>12%</td>\n",
       "      <td>12</td>\n",
       "      <td>16%</td>\n",
       "    </tr>\n",
       "    <tr>\n",
       "      <th>6</th>\n",
       "      <td>Ukraine</td>\n",
       "      <td>38</td>\n",
       "      <td>5%</td>\n",
       "      <td>10</td>\n",
       "      <td>12%</td>\n",
       "    </tr>\n",
       "    <tr>\n",
       "      <th>7</th>\n",
       "      <td>Netherlands</td>\n",
       "      <td>36</td>\n",
       "      <td>4%</td>\n",
       "      <td>9</td>\n",
       "      <td>16%</td>\n",
       "    </tr>\n",
       "    <tr>\n",
       "      <th>8</th>\n",
       "      <td>Belgium</td>\n",
       "      <td>26</td>\n",
       "      <td>8%</td>\n",
       "      <td>7</td>\n",
       "      <td>23%</td>\n",
       "    </tr>\n",
       "    <tr>\n",
       "      <th>9</th>\n",
       "      <td>Sweden</td>\n",
       "      <td>20</td>\n",
       "      <td>35%</td>\n",
       "      <td>11</td>\n",
       "      <td>72%</td>\n",
       "    </tr>\n",
       "    <tr>\n",
       "      <th>10</th>\n",
       "      <td>Austria</td>\n",
       "      <td>20</td>\n",
       "      <td>19%</td>\n",
       "      <td>5</td>\n",
       "      <td>86%</td>\n",
       "    </tr>\n",
       "    <tr>\n",
       "      <th>11</th>\n",
       "      <td>Romania</td>\n",
       "      <td>19</td>\n",
       "      <td>20%</td>\n",
       "      <td>4</td>\n",
       "      <td>57%</td>\n",
       "    </tr>\n",
       "    <tr>\n",
       "      <th>12</th>\n",
       "      <td>Finland</td>\n",
       "      <td>18</td>\n",
       "      <td>34%</td>\n",
       "      <td>7</td>\n",
       "      <td>39%</td>\n",
       "    </tr>\n",
       "    <tr>\n",
       "      <th>13</th>\n",
       "      <td>Portugal</td>\n",
       "      <td>11</td>\n",
       "      <td>20%</td>\n",
       "      <td>4</td>\n",
       "      <td>67%</td>\n",
       "    </tr>\n",
       "    <tr>\n",
       "      <th>14</th>\n",
       "      <td>Denmark</td>\n",
       "      <td>11</td>\n",
       "      <td>15%</td>\n",
       "      <td>3</td>\n",
       "      <td>71%</td>\n",
       "    </tr>\n",
       "    <tr>\n",
       "      <th>15</th>\n",
       "      <td>Norway</td>\n",
       "      <td>8</td>\n",
       "      <td>16%</td>\n",
       "      <td>10</td>\n",
       "      <td>100%</td>\n",
       "    </tr>\n",
       "  </tbody>\n",
       "</table>\n",
       "</div>"
      ],
      "text/plain": [
       "           Country  FuelMtoe of whichrenewable  ElectricityMtoe  \\\n",
       "0          Germany       156               10%               45   \n",
       "1           France       100               12%               38   \n",
       "2   United Kingdom        95                5%               26   \n",
       "3            Italy        87                9%               25   \n",
       "4            Spain        60               10%               21   \n",
       "5           Poland        58               12%               12   \n",
       "6          Ukraine        38                5%               10   \n",
       "7      Netherlands        36                4%                9   \n",
       "8          Belgium        26                8%                7   \n",
       "9           Sweden        20               35%               11   \n",
       "10         Austria        20               19%                5   \n",
       "11         Romania        19               20%                4   \n",
       "12         Finland        18               34%                7   \n",
       "13        Portugal        11               20%                4   \n",
       "14         Denmark        11               15%                3   \n",
       "15          Norway         8               16%               10   \n",
       "\n",
       "   of whichrenewable.1  \n",
       "0                  46%  \n",
       "1                  21%  \n",
       "2                  40%  \n",
       "3                  39%  \n",
       "4                  43%  \n",
       "5                  16%  \n",
       "6                  12%  \n",
       "7                  16%  \n",
       "8                  23%  \n",
       "9                  72%  \n",
       "10                 86%  \n",
       "11                 57%  \n",
       "12                 39%  \n",
       "13                 67%  \n",
       "14                 71%  \n",
       "15                100%  "
      ]
     },
     "execution_count": 13,
     "metadata": {},
     "output_type": "execute_result"
    }
   ],
   "source": [
    "import pandas as pd\n",
    "URL=\"https://en.wikipedia.org/wiki/World_energy_supply_and_consumption\"\n",
    "world_energy_consumptions=pd.read_html(URL)\n",
    "print(f'Number of Tables: {len(world_energy_consumptions)}')\n",
    "world_energy_consumptions[6]"
   ]
  },
  {
   "cell_type": "code",
   "execution_count": null,
   "metadata": {},
   "outputs": [],
   "source": []
  }
 ],
 "metadata": {
  "kernelspec": {
   "display_name": "Python 3",
   "language": "python",
   "name": "python3"
  },
  "language_info": {
   "codemirror_mode": {
    "name": "ipython",
    "version": 3
   },
   "file_extension": ".py",
   "mimetype": "text/x-python",
   "name": "python",
   "nbconvert_exporter": "python",
   "pygments_lexer": "ipython3",
   "version": "3.8.5"
  }
 },
 "nbformat": 4,
 "nbformat_minor": 4
}
