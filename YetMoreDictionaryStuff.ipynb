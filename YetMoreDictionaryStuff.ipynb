{
 "cells": [
  {
   "cell_type": "markdown",
   "id": "e9b807f1",
   "metadata": {},
   "source": [
    "https://medium.com/@gozdebarin/python-dictionaries-a-comprehensive-guide-with-code-examples-c91fd6dc1815"
   ]
  },
  {
   "cell_type": "code",
   "execution_count": 1,
   "id": "458fad3c",
   "metadata": {},
   "outputs": [],
   "source": [
    "# Creating a dictionary\n",
    "student = {'name': 'John', 'age': 20, 'major': 'Computer Science'}"
   ]
  },
  {
   "cell_type": "code",
   "execution_count": 2,
   "id": "129dd201",
   "metadata": {},
   "outputs": [
    {
     "name": "stdout",
     "output_type": "stream",
     "text": [
      "John\n"
     ]
    }
   ],
   "source": [
    "# Accessing values\n",
    "print(student['name'])  # Output: 'John'"
   ]
  },
  {
   "cell_type": "code",
   "execution_count": 3,
   "id": "64ec9e06",
   "metadata": {},
   "outputs": [
    {
     "name": "stdout",
     "output_type": "stream",
     "text": [
      "{'name': 'John', 'age': 21, 'major': 'Computer Science'}\n"
     ]
    }
   ],
   "source": [
    "# Modifying values\n",
    "student['age'] = 21\n",
    "print(student)  # Output: {'name': 'John', 'age': 21, 'major': 'Computer Science'}"
   ]
  },
  {
   "cell_type": "code",
   "execution_count": 4,
   "id": "b3a94da3",
   "metadata": {},
   "outputs": [
    {
     "name": "stdout",
     "output_type": "stream",
     "text": [
      "{'name': 'John', 'age': 21, 'major': 'Computer Science', 'university': 'ABC University'}\n",
      "{'name': 'John', 'age': 21, 'university': 'ABC University'}\n"
     ]
    }
   ],
   "source": [
    "# Adding new key-value pairs\n",
    "student['university'] = 'ABC University'\n",
    "print(student)  # Output: {'name': 'John', 'age': 21, 'major': 'Computer Science', 'university': 'ABC University'}\n",
    "\n",
    "\n",
    "# Removing key-value pairs\n",
    "del student['major']\n",
    "print(student)  # Output: {'name': 'John', 'age': 21, 'university': 'ABC University'}"
   ]
  },
  {
   "cell_type": "code",
   "execution_count": 5,
   "id": "517ee3e0",
   "metadata": {},
   "outputs": [
    {
     "name": "stdout",
     "output_type": "stream",
     "text": [
      "dict_keys(['name', 'age', 'university'])\n",
      "dict_values(['John', 21, 'ABC University'])\n",
      "dict_items([('name', 'John'), ('age', 21), ('university', 'ABC University')])\n"
     ]
    }
   ],
   "source": [
    "print(student.keys())  # Output: ['name', 'age', 'university']\n",
    "print(student.values())  # Output: ['John', 21, 'ABC University']\n",
    "print(student.items())  # Output: [('name', 'John'), ('age', 21), ('university', 'ABC University')]"
   ]
  },
  {
   "cell_type": "code",
   "execution_count": 6,
   "id": "03171ad0",
   "metadata": {},
   "outputs": [
    {
     "name": "stdout",
     "output_type": "stream",
     "text": [
      "name: John\n",
      "age: 21\n",
      "university: ABC University\n"
     ]
    }
   ],
   "source": [
    "for key, value in student.items():\n",
    "    print(f'{key}: {value}')"
   ]
  },
  {
   "cell_type": "code",
   "execution_count": 7,
   "id": "7843987b",
   "metadata": {},
   "outputs": [],
   "source": [
    "squares = {x: x**2 for x in range(1, 6)}"
   ]
  },
  {
   "cell_type": "code",
   "execution_count": null,
   "id": "32547a04",
   "metadata": {},
   "outputs": [],
   "source": []
  }
 ],
 "metadata": {
  "kernelspec": {
   "display_name": "Python 3 (ipykernel)",
   "language": "python",
   "name": "python3"
  },
  "language_info": {
   "codemirror_mode": {
    "name": "ipython",
    "version": 3
   },
   "file_extension": ".py",
   "mimetype": "text/x-python",
   "name": "python",
   "nbconvert_exporter": "python",
   "pygments_lexer": "ipython3",
   "version": "3.9.7"
  }
 },
 "nbformat": 4,
 "nbformat_minor": 5
}
