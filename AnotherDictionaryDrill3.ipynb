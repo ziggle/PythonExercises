{
 "cells": [
  {
   "cell_type": "markdown",
   "id": "910b1e9b",
   "metadata": {},
   "source": [
    "https://pravash-techie.medium.com/python-interesting-facts-about-dictionaries-cd916635e3e0"
   ]
  },
  {
   "cell_type": "code",
   "execution_count": 1,
   "id": "13a8943b",
   "metadata": {},
   "outputs": [
    {
     "ename": "TypeError",
     "evalue": "unhashable type: 'list'",
     "output_type": "error",
     "traceback": [
      "\u001b[1;31m---------------------------------------------------------------------------\u001b[0m",
      "\u001b[1;31mTypeError\u001b[0m                                 Traceback (most recent call last)",
      "\u001b[1;32m~\\AppData\\Local\\Temp/ipykernel_18232/650225672.py\u001b[0m in \u001b[0;36m<module>\u001b[1;34m\u001b[0m\n\u001b[0;32m      1\u001b[0m \u001b[0m_dict\u001b[0m \u001b[1;33m=\u001b[0m \u001b[1;33m{\u001b[0m\u001b[1;33m}\u001b[0m\u001b[1;33m\u001b[0m\u001b[1;33m\u001b[0m\u001b[0m\n\u001b[0;32m      2\u001b[0m \u001b[0m_list\u001b[0m \u001b[1;33m=\u001b[0m \u001b[1;33m[\u001b[0m\u001b[1;36m1\u001b[0m\u001b[1;33m,\u001b[0m \u001b[1;36m2\u001b[0m\u001b[1;33m,\u001b[0m \u001b[1;36m3\u001b[0m\u001b[1;33m]\u001b[0m\u001b[1;33m\u001b[0m\u001b[1;33m\u001b[0m\u001b[0m\n\u001b[1;32m----> 3\u001b[1;33m \u001b[0m_dict\u001b[0m\u001b[1;33m[\u001b[0m\u001b[0m_list\u001b[0m\u001b[1;33m]\u001b[0m \u001b[1;33m=\u001b[0m \u001b[1;34m'Added'\u001b[0m\u001b[1;33m\u001b[0m\u001b[1;33m\u001b[0m\u001b[0m\n\u001b[0m",
      "\u001b[1;31mTypeError\u001b[0m: unhashable type: 'list'"
     ]
    }
   ],
   "source": [
    "_dict = {}\n",
    "_list = [1, 2, 3]\n",
    "_dict[_list] = 'Added'"
   ]
  },
  {
   "cell_type": "code",
   "execution_count": 2,
   "id": "2e3182a6",
   "metadata": {},
   "outputs": [
    {
     "name": "stdout",
     "output_type": "stream",
     "text": [
      "{[1, 2, 3]: 'Added'}\n"
     ]
    }
   ],
   "source": [
    "class ClassList(list):\n",
    "    def __hash__(self):\n",
    "        return 0\n",
    "\n",
    "_dict = {}\n",
    "_list = ClassList([1, 2, 3])\n",
    "_dict[_list] = 'Added'\n",
    "print(_dict)"
   ]
  },
  {
   "cell_type": "code",
   "execution_count": 4,
   "id": "4449a7cc",
   "metadata": {},
   "outputs": [
    {
     "ename": "NameError",
     "evalue": "name 'funcA' is not defined",
     "output_type": "error",
     "traceback": [
      "\u001b[1;31m---------------------------------------------------------------------------\u001b[0m",
      "\u001b[1;31mNameError\u001b[0m                                 Traceback (most recent call last)",
      "\u001b[1;32m~\\AppData\\Local\\Temp/ipykernel_18232/431618470.py\u001b[0m in \u001b[0;36m<module>\u001b[1;34m\u001b[0m\n\u001b[0;32m      1\u001b[0m \u001b[0mnum\u001b[0m \u001b[1;33m=\u001b[0m \u001b[1;36m1\u001b[0m\u001b[1;33m\u001b[0m\u001b[1;33m\u001b[0m\u001b[0m\n\u001b[0;32m      2\u001b[0m \u001b[1;33m\u001b[0m\u001b[0m\n\u001b[1;32m----> 3\u001b[1;33m func_mapping = {1: funcA,\n\u001b[0m\u001b[0;32m      4\u001b[0m                 2: funcB}\n\u001b[0;32m      5\u001b[0m \u001b[0mfunc_mapping\u001b[0m\u001b[1;33m.\u001b[0m\u001b[0mget\u001b[0m\u001b[1;33m(\u001b[0m\u001b[0mnum\u001b[0m\u001b[1;33m,\u001b[0m \u001b[0mfunc\u001b[0m\u001b[1;33m)\u001b[0m\u001b[1;33m(\u001b[0m\u001b[1;33m)\u001b[0m  \u001b[1;31m# func is default function\u001b[0m\u001b[1;33m\u001b[0m\u001b[1;33m\u001b[0m\u001b[0m\n",
      "\u001b[1;31mNameError\u001b[0m: name 'funcA' is not defined"
     ]
    }
   ],
   "source": [
    "num = 1\n",
    "\n",
    "func_mapping = {1: funcA,\n",
    "                2: funcB}\n",
    "func_mapping.get(num, func)()  # func is default function"
   ]
  },
  {
   "cell_type": "code",
   "execution_count": 6,
   "id": "db79fb18",
   "metadata": {},
   "outputs": [
    {
     "name": "stdout",
     "output_type": "stream",
     "text": [
      "This is case 1\n"
     ]
    }
   ],
   "source": [
    "def switch_case(case):\n",
    "    return {\n",
    "        'case1': 'This is case 1',\n",
    "        'case2': 'This is case 2',\n",
    "        'default': 'This is the default case'\n",
    "    }.get(case, 'Invalid case')\n",
    "\n",
    "result = switch_case('case1')\n",
    "print(result)"
   ]
  },
  {
   "cell_type": "code",
   "execution_count": 7,
   "id": "360717a1",
   "metadata": {},
   "outputs": [
    {
     "name": "stdout",
     "output_type": "stream",
     "text": [
      "{'foo': [1, 2]}\n",
      "[]\n"
     ]
    }
   ],
   "source": [
    "class MyDict(dict):\n",
    "    def __missing__(self, key):\n",
    "        self[key] = rv = []\n",
    "        return rv\n",
    "\n",
    "m = MyDict()\n",
    "m[\"foo\"].append(1)\n",
    "m[\"foo\"].append(2)\n",
    "\n",
    "print(dict(m))  # {'foo': [1, 2]}\n",
    "print(m[\"x\"])   # []"
   ]
  },
  {
   "cell_type": "code",
   "execution_count": 8,
   "id": "90947c7b",
   "metadata": {},
   "outputs": [
    {
     "name": "stdout",
     "output_type": "stream",
     "text": [
      "{'foo': [1, 2]}\n"
     ]
    }
   ],
   "source": [
    "from collections import defaultdict\n",
    "\n",
    "m = defaultdict(list)\n",
    "m[\"foo\"].append(1)\n",
    "m[\"foo\"].append(2)\n",
    "\n",
    "print(dict(m))  # {'foo': [1, 2]}"
   ]
  },
  {
   "cell_type": "code",
   "execution_count": 9,
   "id": "630c4e02",
   "metadata": {},
   "outputs": [
    {
     "name": "stdout",
     "output_type": "stream",
     "text": [
      "{'1': 'string', True: <class 'float'>}\n"
     ]
    }
   ],
   "source": [
    "my_dict = {'1': 'string', True: 'bool', 1: 'int', 1.0: float}\n",
    "print(my_dict)\n",
    "\n",
    "# o/p: {'1': 'string', True: <class 'float'>}"
   ]
  },
  {
   "cell_type": "code",
   "execution_count": 10,
   "id": "496822cd",
   "metadata": {},
   "outputs": [
    {
     "name": "stdout",
     "output_type": "stream",
     "text": [
      "1 1 1\n"
     ]
    }
   ],
   "source": [
    "print(hash(1), hash(True), hash(1.0))"
   ]
  }
 ],
 "metadata": {
  "kernelspec": {
   "display_name": "Python 3 (ipykernel)",
   "language": "python",
   "name": "python3"
  },
  "language_info": {
   "codemirror_mode": {
    "name": "ipython",
    "version": 3
   },
   "file_extension": ".py",
   "mimetype": "text/x-python",
   "name": "python",
   "nbconvert_exporter": "python",
   "pygments_lexer": "ipython3",
   "version": "3.9.7"
  }
 },
 "nbformat": 4,
 "nbformat_minor": 5
}
