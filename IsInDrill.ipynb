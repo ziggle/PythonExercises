{
 "cells": [
  {
   "cell_type": "markdown",
   "id": "5d94e836",
   "metadata": {},
   "source": [
    "https://python.plainenglish.io/exploring-the-power-of-pandas-isin-method-for-data-filtering-and-analysis-deff15041460"
   ]
  },
  {
   "cell_type": "code",
   "execution_count": 1,
   "id": "2b74feb4",
   "metadata": {},
   "outputs": [
    {
     "name": "stdout",
     "output_type": "stream",
     "text": [
      "0     True\n",
      "1    False\n",
      "2     True\n",
      "3    False\n",
      "4     True\n",
      "Name: name, dtype: bool\n"
     ]
    }
   ],
   "source": [
    "import pandas as pd\n",
    "\n",
    "df = pd.DataFrame({\n",
    "    'name': ['Alice', 'Bob', 'Charlie', 'Dave', 'Eve'],\n",
    "    'age': [25, 30, 35, 40, 45]\n",
    "})\n",
    "\n",
    "names_to_select = ['Alice', 'Charlie', 'Eve']\n",
    "\n",
    "mask = df['name'].isin(names_to_select)\n",
    "\n",
    "print(mask)"
   ]
  },
  {
   "cell_type": "code",
   "execution_count": 2,
   "id": "2027b2dc",
   "metadata": {},
   "outputs": [
    {
     "name": "stdout",
     "output_type": "stream",
     "text": [
      "    name  age country\n",
      "0  Alice   25     USA\n",
      "1    Bob   30  Canada\n",
      "3   Dave   40     USA\n",
      "4    Eve   45  Canada\n"
     ]
    }
   ],
   "source": [
    "import pandas as pd\n",
    "\n",
    "data = {\n",
    "    'name': ['Alice', 'Bob', 'Charlie', 'Dave', 'Eve'],\n",
    "    'age': [25, 30, 35, 40, 45],\n",
    "    'country': ['USA', 'Canada', 'Mexico', 'USA', 'Canada']\n",
    "}\n",
    "\n",
    "df = pd.DataFrame(data)\n",
    "\n",
    "countries_to_select = ['USA', 'Canada']\n",
    "\n",
    "selected_rows = df[df['country'].isin(countries_to_select)]\n",
    "\n",
    "print(selected_rows)"
   ]
  },
  {
   "cell_type": "code",
   "execution_count": 3,
   "id": "42c4d224",
   "metadata": {},
   "outputs": [
    {
     "name": "stdout",
     "output_type": "stream",
     "text": [
      "    name   age country\n",
      "0  Alice  25.0     USA\n",
      "1    Bob  30.0  Canada\n",
      "3   Dave  40.0     USA\n",
      "4    Eve  45.0  Canada\n"
     ]
    }
   ],
   "source": [
    "import pandas as pd\n",
    "import numpy as np\n",
    "\n",
    "data = {\n",
    "    'name': ['Alice', 'Bob', 'Charlie', 'Dave', 'Eve'],\n",
    "    'age': [25, 30, np.nan, 40, 45],\n",
    "    'country': ['USA', 'Canada', 'Mexico', 'USA', 'Canada']\n",
    "}\n",
    "\n",
    "df = pd.DataFrame(data)\n",
    "# filters null values\n",
    "selected_rows = df[df['age'].isin(df['age'].dropna().unique())]\n",
    "\n",
    "print(selected_rows)"
   ]
  },
  {
   "cell_type": "code",
   "execution_count": 4,
   "id": "3788e74c",
   "metadata": {},
   "outputs": [
    {
     "name": "stdout",
     "output_type": "stream",
     "text": [
      "   name  age country\n",
      "3  Dave   40     USA\n",
      "4   Eve   45  Canada\n"
     ]
    }
   ],
   "source": [
    "import pandas as pd\n",
    "\n",
    "data = {\n",
    "    'name': ['Alice', 'Bob', 'Charlie', 'Dave', 'Eve'],\n",
    "    'age': [25, 30, 35, 40, 45],\n",
    "    'country': ['USA', 'Canada', 'Mexico', 'USA', 'Canada']\n",
    "}\n",
    "\n",
    "df = pd.DataFrame(data)\n",
    "\n",
    "countries_to_select = ['USA', 'Canada']\n",
    "min_age = 30\n",
    "\n",
    "selected_rows = df[(df['country'].isin(countries_to_select)) & (df['age'] > min_age)]\n",
    "\n",
    "print(selected_rows)"
   ]
  }
 ],
 "metadata": {
  "kernelspec": {
   "display_name": "Python 3 (ipykernel)",
   "language": "python",
   "name": "python3"
  },
  "language_info": {
   "codemirror_mode": {
    "name": "ipython",
    "version": 3
   },
   "file_extension": ".py",
   "mimetype": "text/x-python",
   "name": "python",
   "nbconvert_exporter": "python",
   "pygments_lexer": "ipython3",
   "version": "3.9.15"
  },
  "toc": {
   "base_numbering": 1,
   "nav_menu": {},
   "number_sections": true,
   "sideBar": true,
   "skip_h1_title": false,
   "title_cell": "Table of Contents",
   "title_sidebar": "Contents",
   "toc_cell": false,
   "toc_position": {},
   "toc_section_display": true,
   "toc_window_display": false
  }
 },
 "nbformat": 4,
 "nbformat_minor": 5
}
