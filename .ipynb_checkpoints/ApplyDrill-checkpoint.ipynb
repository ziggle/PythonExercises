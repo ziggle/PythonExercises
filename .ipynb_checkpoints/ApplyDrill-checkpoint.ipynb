{
 "cells": [
  {
   "cell_type": "markdown",
   "id": "cd5f5e05",
   "metadata": {},
   "source": [
    "https://medium.com/@HalderNilimesh/applied-data-science-for-beginners-how-to-map-values-using-pandas-dataframe-in-python-8054c9ba9347"
   ]
  },
  {
   "cell_type": "markdown",
   "id": "14b5a844",
   "metadata": {},
   "source": [
    "Make a sample dataset"
   ]
  },
  {
   "cell_type": "code",
   "execution_count": 1,
   "id": "cb4b28b9",
   "metadata": {},
   "outputs": [
    {
     "name": "stdout",
     "output_type": "stream",
     "text": [
      "      Name  Score\n",
      "0    Alice     90\n",
      "1      Bob     85\n",
      "2  Charlie     80\n",
      "3    David     75\n",
      "4      Eva     70\n"
     ]
    }
   ],
   "source": [
    "import pandas as pd\n",
    "\n",
    "data = {\n",
    "    \"Name\": [\"Alice\", \"Bob\", \"Charlie\", \"David\", \"Eva\"],\n",
    "    \"Score\": [90, 85, 80, 75, 70]\n",
    "}\n",
    "\n",
    "df = pd.DataFrame(data)\n",
    "print(df)"
   ]
  },
  {
   "cell_type": "code",
   "execution_count": 2,
   "id": "b654ffe0",
   "metadata": {},
   "outputs": [],
   "source": [
    "grade_map = {\n",
    "    90: \"A\",\n",
    "    80: \"B\",\n",
    "    70: \"C\",\n",
    "    0: \"F\"\n",
    "}"
   ]
  },
  {
   "cell_type": "code",
   "execution_count": 3,
   "id": "c6ba1e85",
   "metadata": {},
   "outputs": [
    {
     "name": "stdout",
     "output_type": "stream",
     "text": [
      "      Name  Score Grade\n",
      "0    Alice     90     A\n",
      "1      Bob     85    85\n",
      "2  Charlie     80     B\n",
      "3    David     75    75\n",
      "4      Eva     70     C\n"
     ]
    }
   ],
   "source": [
    "df[\"Grade\"] = df[\"Score\"].replace(grade_map)\n",
    "print(df)"
   ]
  },
  {
   "cell_type": "code",
   "execution_count": 5,
   "id": "89a25ca2",
   "metadata": {},
   "outputs": [
    {
     "name": "stdout",
     "output_type": "stream",
     "text": [
      "      Name  Score Grade Initials\n",
      "0    Alice     90     A        A\n",
      "1      Bob     85    85        B\n",
      "2  Charlie     80     B        C\n",
      "3    David     75    75        D\n",
      "4      Eva     70     C        E\n"
     ]
    }
   ],
   "source": [
    "def get_initials(name):\n",
    "    return name[0].upper()\n",
    "\n",
    "df[\"Initials\"] = df[\"Name\"].apply(get_initials)\n",
    "print(df)"
   ]
  },
  {
   "cell_type": "code",
   "execution_count": 6,
   "id": "da90cfcd",
   "metadata": {},
   "outputs": [],
   "source": [
    "pass_fail_map = lambda score: \"Pass\" if score >= 85 else \"Fail\""
   ]
  },
  {
   "cell_type": "code",
   "execution_count": 7,
   "id": "9a7c43a4",
   "metadata": {},
   "outputs": [
    {
     "name": "stdout",
     "output_type": "stream",
     "text": [
      "      Name  Score Grade Initials Status\n",
      "0    Alice     90     A        A   Pass\n",
      "1      Bob     85    85        B   Pass\n",
      "2  Charlie     80     B        C   Fail\n",
      "3    David     75    75        D   Fail\n",
      "4      Eva     70     C        E   Fail\n"
     ]
    }
   ],
   "source": [
    "df[\"Status\"] = df[\"Score\"].apply(pass_fail_map)\n",
    "print(df)"
   ]
  },
  {
   "cell_type": "code",
   "execution_count": 8,
   "id": "826328e4",
   "metadata": {},
   "outputs": [
    {
     "name": "stdout",
     "output_type": "stream",
     "text": [
      "      Name  Gender\n",
      "0    Alice  Female\n",
      "1      Bob    Male\n",
      "2  Charlie    Male\n",
      "3    David    Male\n",
      "4      Eva  Female\n"
     ]
    }
   ],
   "source": [
    "gender_lookup = {\n",
    "    \"Alice\": \"Female\",\n",
    "    \"Bob\": \"Male\",\n",
    "    \"Charlie\": \"Male\",\n",
    "    \"David\": \"Male\",\n",
    "    \"Eva\": \"Female\"\n",
    "}\n",
    "\n",
    "gender_df = pd.DataFrame(gender_lookup.items(), columns=[\"Name\", \"Gender\"])\n",
    "\n",
    "print(gender_df)"
   ]
  },
  {
   "cell_type": "code",
   "execution_count": 9,
   "id": "95b1fbaa",
   "metadata": {},
   "outputs": [
    {
     "name": "stdout",
     "output_type": "stream",
     "text": [
      "      Name  Score Grade Initials Status  Gender\n",
      "0    Alice     90     A        A   Pass  Female\n",
      "1      Bob     85    85        B   Pass    Male\n",
      "2  Charlie     80     B        C   Fail    Male\n",
      "3    David     75    75        D   Fail    Male\n",
      "4      Eva     70     C        E   Fail  Female\n"
     ]
    }
   ],
   "source": [
    "merged_df = pd.merge(df, gender_df, on=\"Name\")\n",
    "print(merged_df)"
   ]
  }
 ],
 "metadata": {
  "kernelspec": {
   "display_name": "Python 3 (ipykernel)",
   "language": "python",
   "name": "python3"
  },
  "language_info": {
   "codemirror_mode": {
    "name": "ipython",
    "version": 3
   },
   "file_extension": ".py",
   "mimetype": "text/x-python",
   "name": "python",
   "nbconvert_exporter": "python",
   "pygments_lexer": "ipython3",
   "version": "3.9.15"
  },
  "toc": {
   "base_numbering": 1,
   "nav_menu": {},
   "number_sections": true,
   "sideBar": true,
   "skip_h1_title": false,
   "title_cell": "Table of Contents",
   "title_sidebar": "Contents",
   "toc_cell": false,
   "toc_position": {},
   "toc_section_display": true,
   "toc_window_display": false
  }
 },
 "nbformat": 4,
 "nbformat_minor": 5
}
