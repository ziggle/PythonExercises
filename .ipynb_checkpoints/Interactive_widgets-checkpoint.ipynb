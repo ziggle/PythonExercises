{
 "cells": [
  {
   "cell_type": "markdown",
   "id": "0ce9e919",
   "metadata": {},
   "source": [
    "https://medium.com/@shouke.wei/different-methods-to-create-interactive-widget-plots-in-the-jupyter-notebook-f4b777680e96"
   ]
  },
  {
   "cell_type": "code",
   "execution_count": 11,
   "id": "8dea4048",
   "metadata": {},
   "outputs": [],
   "source": [
    "import numpy as np\n",
    "import matplotlib.pyplot as plt\n",
    "\n",
    "from ipywidgets import interact"
   ]
  },
  {
   "cell_type": "code",
   "execution_count": 12,
   "id": "74cb9d29",
   "metadata": {},
   "outputs": [],
   "source": [
    "def sinplot(A):\n",
    "    x = np.linspace(0,A*np.pi,32)\n",
    "    y = np.sin(x)\n",
    "    \n",
    "    # plot the sin curve\n",
    "    fig,ax = plt.subplots()\n",
    "    ax.plot(x, y)"
   ]
  },
  {
   "cell_type": "code",
   "execution_count": 13,
   "id": "f5ea369c",
   "metadata": {},
   "outputs": [
    {
     "data": {
      "application/vnd.jupyter.widget-view+json": {
       "model_id": "830fd7a994de41e1aa9d5873c4b1cc93",
       "version_major": 2,
       "version_minor": 0
      },
      "text/plain": [
       "interactive(children=(IntSlider(value=2, description='A', max=6, min=-2), Output()), _dom_classes=('widget-int…"
      ]
     },
     "metadata": {},
     "output_type": "display_data"
    },
    {
     "data": {
      "text/plain": [
       "<function __main__.sinplot(A)>"
      ]
     },
     "execution_count": 13,
     "metadata": {},
     "output_type": "execute_result"
    }
   ],
   "source": [
    "interact(sinplot,A=2)"
   ]
  },
  {
   "cell_type": "code",
   "execution_count": 14,
   "id": "b66e6166",
   "metadata": {},
   "outputs": [
    {
     "data": {
      "application/vnd.jupyter.widget-view+json": {
       "model_id": "2dfb826ba6864ceb9ce6ac95d05aa326",
       "version_major": 2,
       "version_minor": 0
      },
      "text/plain": [
       "interactive(children=(IntSlider(value=2, description='A', max=4), Output()), _dom_classes=('widget-interact',)…"
      ]
     },
     "metadata": {},
     "output_type": "display_data"
    }
   ],
   "source": [
    "interact(sinplot, A=(0,4));"
   ]
  },
  {
   "cell_type": "code",
   "execution_count": 15,
   "id": "4537e74e",
   "metadata": {},
   "outputs": [
    {
     "data": {
      "application/vnd.jupyter.widget-view+json": {
       "model_id": "2a35f401efb343c3ae80adc0e0b4d7e9",
       "version_major": 2,
       "version_minor": 0
      },
      "text/plain": [
       "interactive(children=(IntSlider(value=4, description='A', max=8, step=2), Output()), _dom_classes=('widget-int…"
      ]
     },
     "metadata": {},
     "output_type": "display_data"
    }
   ],
   "source": [
    "interact(sinplot, A=(0,8,2));# from 0 to 8 with step of 2"
   ]
  },
  {
   "cell_type": "code",
   "execution_count": 16,
   "id": "7b4f5574",
   "metadata": {},
   "outputs": [
    {
     "data": {
      "application/vnd.jupyter.widget-view+json": {
       "model_id": "61570066547d4f9f85c6bec32e3e587e",
       "version_major": 2,
       "version_minor": 0
      },
      "text/plain": [
       "interactive(children=(FloatSlider(value=2.0, description='A', max=4.0), IntSlider(value=5, description='f', ma…"
      ]
     },
     "metadata": {},
     "output_type": "display_data"
    },
    {
     "data": {
      "text/plain": [
       "<function __main__.sinwave(A, f, phi)>"
      ]
     },
     "execution_count": 16,
     "metadata": {},
     "output_type": "execute_result"
    }
   ],
   "source": [
    "def sinwave(A, f, phi):\n",
    "    # set up plot\n",
    "    fig, ax = plt.subplots(figsize=(6, 4))\n",
    "    ax.set_ylim([-4, 4])\n",
    "    ax.grid(True)\n",
    "    \n",
    "    # generate x values\n",
    "    x = np.linspace(0, 2 * np.pi, 100)\n",
    "    y = A*np.sin(x*f + phi);\n",
    "    ax.plot(x,y)\n",
    "\n",
    "interact(sinwave,A=(0, 4, .1),f=(0, 10, 1), phi=(0, 2, 0.5))"
   ]
  },
  {
   "cell_type": "code",
   "execution_count": 17,
   "id": "13367063",
   "metadata": {},
   "outputs": [
    {
     "data": {
      "application/vnd.jupyter.widget-view+json": {
       "model_id": "72a9568a561243caaf5677951a00787a",
       "version_major": 2,
       "version_minor": 0
      },
      "text/plain": [
       "interactive(children=(FloatSlider(value=2.0, description='A', max=4.0), IntSlider(value=5, description='f', ma…"
      ]
     },
     "metadata": {},
     "output_type": "display_data"
    },
    {
     "data": {
      "text/plain": [
       "<function __main__.sinwave(A, f, phi)>"
      ]
     },
     "execution_count": 17,
     "metadata": {},
     "output_type": "execute_result"
    }
   ],
   "source": [
    "from ipywidgets import interact,fixed\n",
    "interact(sinwave,A=(0, 4, .1),f=(0, 10, 1), phi=fixed(6))"
   ]
  },
  {
   "cell_type": "code",
   "execution_count": 18,
   "id": "429b752f",
   "metadata": {},
   "outputs": [
    {
     "data": {
      "application/vnd.jupyter.widget-view+json": {
       "model_id": "eb5cfcf789f7418f8406abb54aa3cbb5",
       "version_major": 2,
       "version_minor": 0
      },
      "text/plain": [
       "interactive(children=(Dropdown(description='color', options=('blue', 'red', 'orange'), value='blue'), FloatSli…"
      ]
     },
     "metadata": {},
     "output_type": "display_data"
    },
    {
     "data": {
      "text/plain": [
       "<function __main__.sinwave(color, A, f, phi)>"
      ]
     },
     "execution_count": 18,
     "metadata": {},
     "output_type": "execute_result"
    }
   ],
   "source": [
    "#### Color selection\n",
    "def sinwave(color, A, f, phi):\n",
    "    # set up plot\n",
    "    fig, ax = plt.subplots(figsize=(6, 4))\n",
    "    ax.set_ylim([-4, 4])\n",
    "    ax.grid(True)\n",
    "    \n",
    "    # generate x values\n",
    "    x = np.linspace(0, 2 * np.pi, 100)\n",
    "    y = A*np.sin(x*f + phi);\n",
    "    ax.plot(x,y,color)\n",
    "\n",
    "colors = ['blue', 'red', 'orange']\n",
    "interact(sinwave,A=(0, 4, .1),f=(0, 10, 1), phi=fixed(6),color=colors)"
   ]
  },
  {
   "cell_type": "code",
   "execution_count": 19,
   "id": "42e71a71",
   "metadata": {},
   "outputs": [
    {
     "data": {
      "application/vnd.jupyter.widget-view+json": {
       "model_id": "839564b87edf4c41b62b4cd0511a443c",
       "version_major": 2,
       "version_minor": 0
      },
      "text/plain": [
       "interactive(children=(Dropdown(description='A', options=(('one', 1), ('two', 2)), value=1), Output()), _dom_cl…"
      ]
     },
     "metadata": {},
     "output_type": "display_data"
    },
    {
     "data": {
      "text/plain": [
       "<function __main__.sinwave(A, f, phi)>"
      ]
     },
     "execution_count": 19,
     "metadata": {},
     "output_type": "execute_result"
    }
   ],
   "source": [
    "def sinwave(A, f, phi):\n",
    "    # set up plot\n",
    "    fig, ax = plt.subplots(figsize=(6, 4))\n",
    "    ax.set_ylim([-4, 4])\n",
    "    ax.grid(True)\n",
    "    \n",
    "    # generate x values\n",
    "    x = np.linspace(0, 2 * np.pi, 100)\n",
    "    y = A*np.sin(x*f + phi);\n",
    "    ax.plot(x,y)\n",
    "\n",
    "A = [('one', 1), ('two', 2)]\n",
    "\n",
    "interact(sinwave,A=A,f=fixed(8),phi=fixed(6))"
   ]
  },
  {
   "cell_type": "code",
   "execution_count": 20,
   "id": "c9e744fa",
   "metadata": {},
   "outputs": [
    {
     "data": {
      "application/vnd.jupyter.widget-view+json": {
       "model_id": "61b5209786584d3ba40d008647021766",
       "version_major": 2,
       "version_minor": 0
      },
      "text/plain": [
       "interactive(children=(Dropdown(description='A', options={'one': 1, 'two': 2}, value=1), Output()), _dom_classe…"
      ]
     },
     "metadata": {},
     "output_type": "display_data"
    },
    {
     "data": {
      "text/plain": [
       "<function __main__.sinwave(A, f, phi)>"
      ]
     },
     "execution_count": 20,
     "metadata": {},
     "output_type": "execute_result"
    }
   ],
   "source": [
    "A = {'one':1,'two':2}\n",
    "\n",
    "interact(sinwave,A=A,f=fixed(8),phi=fixed(6))"
   ]
  },
  {
   "cell_type": "code",
   "execution_count": 21,
   "id": "6f21071b",
   "metadata": {},
   "outputs": [
    {
     "data": {
      "application/vnd.jupyter.widget-view+json": {
       "model_id": "2f3f049c62454fd8b3ad13bd7c27de84",
       "version_major": 2,
       "version_minor": 0
      },
      "text/plain": [
       "interactive(children=(FloatSlider(value=2.0, description='A', max=4.0), IntSlider(value=5, description='f', ma…"
      ]
     },
     "metadata": {},
     "output_type": "display_data"
    }
   ],
   "source": [
    "@interact(A=(0, 4, .1),f=(0, 10, 1), phi=fixed(6))\n",
    "\n",
    "def sinwave(A, f, phi):\n",
    "    # set up plot\n",
    "    fig, ax = plt.subplots(figsize=(6, 4))\n",
    "    ax.set_ylim([-4, 4])\n",
    "    ax.grid(True)\n",
    "    \n",
    "    # generate x values\n",
    "    x = np.linspace(0, 2 * np.pi, 100)\n",
    "    y = A*np.sin(x*f + phi);\n",
    "    ax.plot(x,y)"
   ]
  },
  {
   "cell_type": "code",
   "execution_count": 22,
   "id": "530d859d",
   "metadata": {},
   "outputs": [
    {
     "data": {
      "application/vnd.jupyter.widget-view+json": {
       "model_id": "95afea25dbe241d5b5c2d3a58c89e27a",
       "version_major": 2,
       "version_minor": 0
      },
      "text/plain": [
       "interactive(children=(Dropdown(description='colors', options=('blue', 'red', 'orange'), value='blue'), FloatSl…"
      ]
     },
     "metadata": {},
     "output_type": "display_data"
    }
   ],
   "source": [
    "@interact(A=(0, 4, .1),f=fixed(10), phi=fixed(6),\n",
    "          colors = ['blue', 'red', 'orange'])\n",
    "\n",
    "def sinwave(colors, A, f, phi):\n",
    "    # set up plot\n",
    "    fig, ax = plt.subplots(figsize=(6, 4))\n",
    "    ax.set_ylim([-4, 4])\n",
    "    ax.grid(True)\n",
    "    \n",
    "    # generate x values\n",
    "    x = np.linspace(0, 2 * np.pi, 100)\n",
    "    y = A*np.sin(x*f + phi);\n",
    "    ax.plot(x,y,colors)"
   ]
  },
  {
   "cell_type": "code",
   "execution_count": 23,
   "id": "2fa765db",
   "metadata": {},
   "outputs": [],
   "source": [
    "from ipywidgets import interactive, fixed\n",
    "from IPython.display import display\n",
    "\n",
    "def sinwave(A, f, phi):\n",
    "    # set up plot\n",
    "    fig, ax = plt.subplots(figsize=(6, 4))\n",
    "    ax.set_ylim([-4, 4])\n",
    "    ax.grid(True)\n",
    "    \n",
    "    # generate x values\n",
    "    x = np.linspace(0, 2 * np.pi, 100)\n",
    "    y = A*np.sin(x*f + phi);\n",
    "    ax.plot(x,y)\n",
    "sinplot = interactive(sinwave, A=(0, 4, .1),f=(0, 10, 1), phi=fixed(6))"
   ]
  },
  {
   "cell_type": "code",
   "execution_count": 24,
   "id": "02c3194c",
   "metadata": {},
   "outputs": [
    {
     "data": {
      "application/vnd.jupyter.widget-view+json": {
       "model_id": "c762f62b8c044eedbeefea9e9b202609",
       "version_major": 2,
       "version_minor": 0
      },
      "text/plain": [
       "interactive(children=(FloatSlider(value=2.0, description='A', max=4.0), IntSlider(value=5, description='f', ma…"
      ]
     },
     "metadata": {},
     "output_type": "display_data"
    }
   ],
   "source": [
    "display(sinplot)"
   ]
  },
  {
   "cell_type": "code",
   "execution_count": 25,
   "id": "06003c79",
   "metadata": {},
   "outputs": [
    {
     "data": {
      "application/vnd.jupyter.widget-view+json": {
       "model_id": "47e5a599202348dbbac42c38d5bf2cf4",
       "version_major": 2,
       "version_minor": 0
      },
      "text/plain": [
       "interactive(children=(FloatSlider(value=2.0, description='A', max=4.0), IntSlider(value=5, description='f', ma…"
      ]
     },
     "metadata": {},
     "output_type": "display_data"
    }
   ],
   "source": [
    "import ipywidgets as widgets\n",
    "from ipywidgets import fixed, interact_manual\n",
    "\n",
    "def sinwave(A, f, phi):\n",
    "    # set up plot\n",
    "    fig, ax = plt.subplots(figsize=(6, 4))\n",
    "    ax.set_ylim([-4, 4])\n",
    "    ax.grid(True)\n",
    "    \n",
    "    # generate x values\n",
    "    x = np.linspace(0, 2 * np.pi, 100)\n",
    "    y = A*np.sin(x*f + phi);\n",
    "    ax.plot(x,y)\n",
    "    \n",
    "interact_manual(sinwave, A=(0, 4, .1),f=(0, 10, 1), phi=fixed(6));"
   ]
  },
  {
   "cell_type": "code",
   "execution_count": 26,
   "id": "63162332",
   "metadata": {},
   "outputs": [
    {
     "data": {
      "application/vnd.jupyter.widget-view+json": {
       "model_id": "eb995f3df2cb40d9bad1c75034a798a6",
       "version_major": 2,
       "version_minor": 0
      },
      "text/plain": [
       "interactive(children=(Dropdown(description='colors', options=('blue', 'red', 'orange'), value='blue'), FloatSl…"
      ]
     },
     "metadata": {},
     "output_type": "display_data"
    }
   ],
   "source": [
    "@interact_manual(A=(0, 4, .1),f=fixed(10), phi=fixed(6),\n",
    "          colors = ['blue', 'red', 'orange'])\n",
    "\n",
    "def sinwave(colors, A, f, phi):\n",
    "    # set up plot\n",
    "    fig, ax = plt.subplots(figsize=(6, 4))\n",
    "    ax.set_ylim([-4, 4])\n",
    "    ax.grid(True)\n",
    "    \n",
    "    # generate x values\n",
    "    x = np.linspace(0, 2 * np.pi, 100)\n",
    "    y = A*np.sin(x*f + phi);\n",
    "    ax.plot(x,y,colors)"
   ]
  }
 ],
 "metadata": {
  "kernelspec": {
   "display_name": "Python 3 (ipykernel)",
   "language": "python",
   "name": "python3"
  },
  "language_info": {
   "codemirror_mode": {
    "name": "ipython",
    "version": 3
   },
   "file_extension": ".py",
   "mimetype": "text/x-python",
   "name": "python",
   "nbconvert_exporter": "python",
   "pygments_lexer": "ipython3",
   "version": "3.9.15"
  },
  "toc": {
   "base_numbering": 1,
   "nav_menu": {},
   "number_sections": true,
   "sideBar": true,
   "skip_h1_title": false,
   "title_cell": "Table of Contents",
   "title_sidebar": "Contents",
   "toc_cell": false,
   "toc_position": {},
   "toc_section_display": true,
   "toc_window_display": false
  }
 },
 "nbformat": 4,
 "nbformat_minor": 5
}
