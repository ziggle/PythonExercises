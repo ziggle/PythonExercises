{
 "cells": [
  {
   "cell_type": "markdown",
   "id": "6202387a",
   "metadata": {},
   "source": [
    "https://medium.com/@anala007/what-is-a-dateoffset-in-pandas-fe2f69c02e2"
   ]
  },
  {
   "cell_type": "code",
   "execution_count": 5,
   "id": "93459e24",
   "metadata": {},
   "outputs": [
    {
     "name": "stdout",
     "output_type": "stream",
     "text": [
      "Original Value:  2022-12-01 00:00:00\n",
      "Using DateOffset:  2022-12-15 00:00:00\n"
     ]
    }
   ],
   "source": [
    "import pandas as pd\n",
    "from pandas.tseries.offsets import * \n",
    "import pandas as pd\n",
    "from pandas.tseries.offsets import * \n",
    "dt = pd.to_datetime('2022-12-01')\n",
    "print('Original Value: ', dt) \n",
    "print('Using DateOffset: ', dt + DateOffset(weeks=2))"
   ]
  },
  {
   "cell_type": "code",
   "execution_count": 6,
   "id": "b4dac14a",
   "metadata": {},
   "outputs": [
    {
     "name": "stdout",
     "output_type": "stream",
     "text": [
      "Original Value:  2022-12-01 00:00:00\n",
      "Using relativedelta:  2022-12-15 00:00:00\n"
     ]
    }
   ],
   "source": [
    "from dateutil.relativedelta import relativedelta\n",
    "dt = pd.to_datetime('2022-12-01')\n",
    "print('Original Value: ', dt) \n",
    "print('Using relativedelta: ', dt + relativedelta(weeks=2))"
   ]
  },
  {
   "cell_type": "code",
   "execution_count": 7,
   "id": "b850cf37",
   "metadata": {},
   "outputs": [
    {
     "name": "stdout",
     "output_type": "stream",
     "text": [
      "Original Value:  2022-12-05 00:00:00   Monday\n",
      "New Value:  2022-12-09 00:00:00   Friday\n"
     ]
    }
   ],
   "source": [
    "dt = pd.to_datetime('2022-12-05')\n",
    "print('Original Value: ', dt, ' ', dt.day_name()) \n",
    "dt_1 = dt + DateOffset(days = 4)\n",
    "print('New Value: ', dt_1, ' ', dt_1.day_name())"
   ]
  },
  {
   "cell_type": "code",
   "execution_count": 8,
   "id": "9196b67a",
   "metadata": {},
   "outputs": [
    {
     "name": "stdout",
     "output_type": "stream",
     "text": [
      "Original Value:  2022-12-05 00:00:00   Monday\n",
      "New Value:  2022-12-03 00:00:00   Saturday\n"
     ]
    }
   ],
   "source": [
    "dt = pd.to_datetime('2022-12-05')\n",
    "print('Original Value: ', dt, ' ', dt.day_name()) \n",
    "dt_1 = dt + DateOffset(days = -2)\n",
    "print('New Value: ', dt_1, ' ', dt_1.day_name())"
   ]
  }
 ],
 "metadata": {
  "kernelspec": {
   "display_name": "Python 3 (ipykernel)",
   "language": "python",
   "name": "python3"
  },
  "language_info": {
   "codemirror_mode": {
    "name": "ipython",
    "version": 3
   },
   "file_extension": ".py",
   "mimetype": "text/x-python",
   "name": "python",
   "nbconvert_exporter": "python",
   "pygments_lexer": "ipython3",
   "version": "3.9.15"
  },
  "toc": {
   "base_numbering": 1,
   "nav_menu": {},
   "number_sections": true,
   "sideBar": true,
   "skip_h1_title": false,
   "title_cell": "Table of Contents",
   "title_sidebar": "Contents",
   "toc_cell": false,
   "toc_position": {},
   "toc_section_display": true,
   "toc_window_display": false
  }
 },
 "nbformat": 4,
 "nbformat_minor": 5
}
