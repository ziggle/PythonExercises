{
 "cells": [
  {
   "cell_type": "markdown",
   "id": "a0a47aec",
   "metadata": {},
   "source": [
    "Try to do some unit testing\n",
    "\n",
    "https://medium.com/@Stan_DS/how-to-do-unit-test-inside-jupyternotebook-c49191908a85"
   ]
  },
  {
   "cell_type": "markdown",
   "id": "a3f95456",
   "metadata": {},
   "source": [
    "Unittest Pack"
   ]
  },
  {
   "cell_type": "code",
   "execution_count": 31,
   "id": "4a820eba",
   "metadata": {},
   "outputs": [],
   "source": [
    "import pandas as pd\n",
    "import numpy as np\n",
    "df = pd.DataFrame({'cost':['$333k',np.NaN,'$270k',np.NaN,'$97k'],\n",
    "                  'price':['$300,492','$430,570','$213,070','$229,174','$122,650']})"
   ]
  },
  {
   "cell_type": "code",
   "execution_count": 32,
   "id": "a7f7c7f5",
   "metadata": {},
   "outputs": [
    {
     "data": {
      "text/plain": [
       "333000.0"
      ]
     },
     "execution_count": 32,
     "metadata": {},
     "output_type": "execute_result"
    }
   ],
   "source": [
    "def num_transform(df):\n",
    "   df.price = df.price.map(lambda x: x if type(x) == float else float(x.strip('$').replace(',', '')))\n",
    "   df.cost = df.cost.map(lambda x: x if type(x) == float else float(x.strip('$').replace('k', '000')))\n",
    "   val=df['cost'][0]\n",
    "   return val\n",
    "dfout=num_transform(df)\n",
    "dfout"
   ]
  },
  {
   "cell_type": "code",
   "execution_count": 33,
   "id": "b48654e8",
   "metadata": {},
   "outputs": [
    {
     "name": "stderr",
     "output_type": "stream",
     "text": [
      "F\n",
      "======================================================================\n",
      "FAIL: test_num_transform (__main__.TestNotebook)\n",
      "----------------------------------------------------------------------\n",
      "Traceback (most recent call last):\n",
      "  File \"C:\\Users\\Mark\\AppData\\Local\\Temp\\ipykernel_21452\\147544700.py\", line 4, in test_num_transform\n",
      "    self.assertEqual(num_transform(df), 333001.0)\n",
      "AssertionError: 333000.0 != 333001.0\n",
      "\n",
      "----------------------------------------------------------------------\n",
      "Ran 1 test in 0.002s\n",
      "\n",
      "FAILED (failures=1)\n"
     ]
    }
   ],
   "source": [
    "import unittest\n",
    "class TestNotebook(unittest.TestCase):\n",
    "    def test_num_transform(self):\n",
    "        self.assertEqual(num_transform(df), 333001.0)\n",
    "if __name__ == '__main__':\n",
    "    unittest.main(argv=[''], exit=False)"
   ]
  }
 ],
 "metadata": {
  "kernelspec": {
   "display_name": "Python 3 (ipykernel)",
   "language": "python",
   "name": "python3"
  },
  "language_info": {
   "codemirror_mode": {
    "name": "ipython",
    "version": 3
   },
   "file_extension": ".py",
   "mimetype": "text/x-python",
   "name": "python",
   "nbconvert_exporter": "python",
   "pygments_lexer": "ipython3",
   "version": "3.9.15"
  },
  "toc": {
   "base_numbering": 1,
   "nav_menu": {},
   "number_sections": true,
   "sideBar": true,
   "skip_h1_title": false,
   "title_cell": "Table of Contents",
   "title_sidebar": "Contents",
   "toc_cell": false,
   "toc_position": {},
   "toc_section_display": true,
   "toc_window_display": false
  }
 },
 "nbformat": 4,
 "nbformat_minor": 5
}
