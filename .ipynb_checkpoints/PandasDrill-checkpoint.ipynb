{
 "cells": [
  {
   "cell_type": "markdown",
   "id": "8372edac-eea6-41f3-a6bc-8aa1e9183c5a",
   "metadata": {
    "jupyter": {
     "source_hidden": true
    },
    "tags": []
   },
   "source": [
    "https://medium.com/@cihan.evren/8-handy-pandas-tricks-to-improve-your-data-analysis-77eabd00782f"
   ]
  },
  {
   "cell_type": "code",
   "execution_count": 1,
   "id": "111de56b-7a33-4ba3-bb9d-a38e416b5304",
   "metadata": {},
   "outputs": [
    {
     "name": "stdout",
     "output_type": "stream",
     "text": [
      "    Name  Age  Age_Plus_One\n",
      "0   John   25            26\n",
      "1    Mia   30            31\n",
      "2  Peter   35            36\n"
     ]
    }
   ],
   "source": [
    "import pandas as pd\n",
    "\n",
    "df = pd.DataFrame({'Name': ['John', 'Mia', 'Peter'], 'Age': [25, 30, 35]})\n",
    "\n",
    "def add_one(x):\n",
    "    return x + 1\n",
    "\n",
    "df['Age_Plus_One'] = df['Age'].apply(add_one)\n",
    "\n",
    "print(df)"
   ]
  },
  {
   "cell_type": "code",
   "execution_count": 2,
   "id": "b80e940a-8d29-4b4a-998e-515ac04421d4",
   "metadata": {},
   "outputs": [
    {
     "name": "stdout",
     "output_type": "stream",
     "text": [
      "       Age  Salary\n",
      "Name              \n",
      "John    65  130000\n",
      "Mia     30   60000\n",
      "Peter   80  160000\n"
     ]
    }
   ],
   "source": [
    "import pandas as pd\n",
    "\n",
    "df = pd.DataFrame({'Name': ['John', 'Mia', 'Peter', 'John', 'Peter'], 'Age': [25, 30, 35, 40, 45], 'Salary': [50000, 60000, 70000, 80000, 90000]})\n",
    "\n",
    "grouped_data = df.groupby(['Name']).sum()\n",
    "\n",
    "print(grouped_data)"
   ]
  },
  {
   "cell_type": "code",
   "execution_count": null,
   "id": "bf8e3e40-fcac-4f41-9e66-5cffe8c10d19",
   "metadata": {
    "jupyter": {
     "source_hidden": true
    },
    "tags": []
   },
   "outputs": [],
   "source": []
  },
  {
   "cell_type": "code",
   "execution_count": 4,
   "id": "ee02ec7a-d51e-46b3-9353-a30fdc788b33",
   "metadata": {},
   "outputs": [
    {
     "name": "stdout",
     "output_type": "stream",
     "text": [
      "        mean     sum\n",
      "      Salary  Salary\n",
      "Name                \n",
      "John   65000  130000\n",
      "Mia    60000   60000\n",
      "Peter  80000  160000\n"
     ]
    }
   ],
   "source": [
    "import pandas as pd\n",
    "import numpy as np\n",
    "\n",
    "df = pd.DataFrame({'Name': ['John', 'Mia', 'Peter', 'John', 'Peter'], 'Age': [25, 30, 35, 40, 45], 'Salary': [50000, 60000, 70000, 80000, 90000]})\n",
    "\n",
    "pivot_data = df.pivot_table(index=['Name'], values=['Salary'], aggfunc=[np.mean, np.sum])\n",
    "\n",
    "print(pivot_data)"
   ]
  },
  {
   "cell_type": "code",
   "execution_count": 5,
   "id": "9d31df29-fc10-4c3a-ae0a-250cf335f1af",
   "metadata": {},
   "outputs": [
    {
     "name": "stdout",
     "output_type": "stream",
     "text": [
      "   Name  Subject  Score\n",
      "0  John     Math     80\n",
      "1  Mike     Math     90\n",
      "2  Lisa     Math     85\n",
      "3  John  Science     75\n",
      "4  Mike  Science     95\n",
      "5  Lisa  Science     92\n"
     ]
    }
   ],
   "source": [
    "import pandas as pd\n",
    "\n",
    "# Create a sample DataFrame\n",
    "data = {'Name': ['John', 'Mike', 'Lisa'], 'Math': [80, 90, 85], 'Science': [75, 95, 92]}\n",
    "df = pd.DataFrame(data)\n",
    "\n",
    "# Transform the wide DataFrame to long format using melt()\n",
    "df_long = pd.melt(df, id_vars=['Name'], var_name='Subject', value_name='Score')\n",
    "\n",
    "# Print the long DataFrame\n",
    "print(df_long)"
   ]
  },
  {
   "cell_type": "code",
   "execution_count": 6,
   "id": "bf1962ad-8f9f-46e7-97db-b4e210ab4169",
   "metadata": {},
   "outputs": [
    {
     "name": "stdout",
     "output_type": "stream",
     "text": [
      "Race    Black  White\n",
      "Gender              \n",
      "Female      2      0\n",
      "Male        0      2\n"
     ]
    }
   ],
   "source": [
    "import pandas as pd\n",
    "\n",
    "# Create a sample DataFrame\n",
    "data = {'Gender': ['Male', 'Female', 'Male', 'Female'], 'Race': ['White', 'Black', 'White', 'Black']}\n",
    "df = pd.DataFrame(data)\n",
    "\n",
    "# Compute a cross-tabulation of Gender and Race using crosstab()\n",
    "ct = pd.crosstab(df['Gender'], df['Race'])\n",
    "\n",
    "# Print the cross-tabulation\n",
    "print(ct)"
   ]
  },
  {
   "cell_type": "code",
   "execution_count": 7,
   "id": "1c626805-75a0-411b-84bb-237682e3e397",
   "metadata": {},
   "outputs": [
    {
     "name": "stdout",
     "output_type": "stream",
     "text": [
      "8\n"
     ]
    }
   ],
   "source": [
    "import pandas as pd\n",
    "\n",
    "data = {'A': [1, 2, 3], 'B': [4, 5, 6], 'C': [7, 8, 9]}\n",
    "df = pd.DataFrame(data)\n",
    "\n",
    "# select the second row and third column\n",
    "value = df.iloc[1, 2]\n",
    "print(value)"
   ]
  },
  {
   "cell_type": "code",
   "execution_count": 9,
   "id": "3b9cd6ac-a36d-4829-9200-9f9643981305",
   "metadata": {},
   "outputs": [
    {
     "name": "stdout",
     "output_type": "stream",
     "text": [
      "   A  B  C\n",
      "0  1  4  7\n",
      "1  2  5  8\n"
     ]
    }
   ],
   "source": [
    "import pandas as pd\n",
    "\n",
    "data = {'A': [1, 2, 3], 'B': [4, 5, 6], 'C': [7, 8, 9]}\n",
    "df = pd.DataFrame(data)\n",
    "\n",
    "# select the first two rows and all columns\n",
    "subset = df.iloc[:2, :]\n",
    "print(subset)"
   ]
  },
  {
   "cell_type": "code",
   "execution_count": 12,
   "id": "7ea3a2bf-f33d-42c8-a419-4059ac65be29",
   "metadata": {},
   "outputs": [
    {
     "name": "stdout",
     "output_type": "stream",
     "text": [
      "   A  C\n",
      "a  1  7\n",
      "c  3  9\n"
     ]
    }
   ],
   "source": [
    "import pandas as pd\n",
    "\n",
    "data = {'A': [1, 2, 3], 'B': [4, 5, 6], 'C': [7, 8, 9]}\n",
    "df = pd.DataFrame(data, index=['a', 'b', 'c'])\n",
    "\n",
    "# select all rows with labels 'a' and 'c' and columns with labels 'A' and 'C'\n",
    "subset = df.loc[['a', 'c'], ['A', 'C']]\n",
    "print(subset)"
   ]
  },
  {
   "cell_type": "code",
   "execution_count": null,
   "id": "1d96f5a2-e6ad-404a-b1b2-d296ebcbe400",
   "metadata": {},
   "outputs": [],
   "source": []
  }
 ],
 "metadata": {
  "kernelspec": {
   "display_name": "Python 3 (ipykernel)",
   "language": "python",
   "name": "python3"
  },
  "language_info": {
   "codemirror_mode": {
    "name": "ipython",
    "version": 3
   },
   "file_extension": ".py",
   "mimetype": "text/x-python",
   "name": "python",
   "nbconvert_exporter": "python",
   "pygments_lexer": "ipython3",
   "version": "3.9.15"
  }
 },
 "nbformat": 4,
 "nbformat_minor": 5
}
