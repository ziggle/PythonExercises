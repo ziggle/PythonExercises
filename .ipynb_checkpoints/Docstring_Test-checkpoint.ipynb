{
 "cells": [
  {
   "cell_type": "markdown",
   "id": "f02ea8fc",
   "metadata": {},
   "source": [
    "Doctest Education"
   ]
  },
  {
   "cell_type": "code",
   "execution_count": 5,
   "id": "c1abde2e",
   "metadata": {},
   "outputs": [],
   "source": [
    "import pandas as pd\n",
    "import numpy as np\n",
    "df = pd.DataFrame({'cost':['$333k',np.NaN,'$270k',np.NaN,'$97k'],\n",
    "                  'price':['$300,492','$430,570','$213,070','$229,174','$122,650']})"
   ]
  },
  {
   "cell_type": "code",
   "execution_count": 6,
   "id": "b62ad7ed",
   "metadata": {},
   "outputs": [
    {
     "name": "stdout",
     "output_type": "stream",
     "text": [
      "**********************************************************************\n",
      "File \"__main__\", line 5, in __main__.num_transform1\n",
      "Failed example:\n",
      "    num_transform1(df)\n",
      "Expected:\n",
      "    333001.0\n",
      "Got:\n",
      "    333000.0\n",
      "**********************************************************************\n",
      "1 items had failures:\n",
      "   1 of   1 in __main__.num_transform1\n",
      "***Test Failed*** 1 failures.\n"
     ]
    }
   ],
   "source": [
    "def num_transform1(df):\n",
    "   \"\"\"\n",
    "   this is a unit test\n",
    "   note not to leave space at the beginning of the answer line\n",
    "   >>> num_transform1(df)\n",
    "   333001.0\n",
    "   \"\"\"\n",
    "   df.price = df.price.map(lambda x: x if type(x) == float else float(x.strip('$').replace(',', '')))\n",
    "   df.cost = df.cost.map(lambda x: x if type(x) == float else float(x.strip('$').replace('k', '000')))\n",
    "   val=df['cost'][0]\n",
    "   return val\n",
    "\n",
    "dfout=num_transform1(df)\n",
    "dfout\n",
    "if __name__ == \"__main__\":\n",
    "    import doctest\n",
    "    doctest.testmod()"
   ]
  },
  {
   "cell_type": "code",
   "execution_count": 7,
   "id": "e5287fb7",
   "metadata": {},
   "outputs": [
    {
     "name": "stdout",
     "output_type": "stream",
     "text": [
      "Trying:\n",
      "    num_transform1(df)\n",
      "Expecting:\n",
      "    333001.0\n",
      "**********************************************************************\n",
      "File \"__main__\", line 5, in __main__.num_transform1\n",
      "Failed example:\n",
      "    num_transform1(df)\n",
      "Expected:\n",
      "    333001.0\n",
      "Got:\n",
      "    333000.0\n",
      "2 items had no tests:\n",
      "    __main__\n",
      "    __main__.yapf_reformat\n",
      "**********************************************************************\n",
      "1 items had failures:\n",
      "   1 of   1 in __main__.num_transform1\n",
      "1 tests in 3 items.\n",
      "0 passed and 1 failed.\n",
      "***Test Failed*** 1 failures.\n"
     ]
    },
    {
     "data": {
      "text/plain": [
       "TestResults(failed=1, attempted=1)"
      ]
     },
     "execution_count": 7,
     "metadata": {},
     "output_type": "execute_result"
    }
   ],
   "source": [
    "import doctest\n",
    "doctest.testmod(verbose=True)"
   ]
  }
 ],
 "metadata": {
  "kernelspec": {
   "display_name": "Python 3 (ipykernel)",
   "language": "python",
   "name": "python3"
  },
  "language_info": {
   "codemirror_mode": {
    "name": "ipython",
    "version": 3
   },
   "file_extension": ".py",
   "mimetype": "text/x-python",
   "name": "python",
   "nbconvert_exporter": "python",
   "pygments_lexer": "ipython3",
   "version": "3.9.15"
  },
  "toc": {
   "base_numbering": 1,
   "nav_menu": {},
   "number_sections": true,
   "sideBar": true,
   "skip_h1_title": false,
   "title_cell": "Table of Contents",
   "title_sidebar": "Contents",
   "toc_cell": false,
   "toc_position": {},
   "toc_section_display": true,
   "toc_window_display": false
  }
 },
 "nbformat": 4,
 "nbformat_minor": 5
}
