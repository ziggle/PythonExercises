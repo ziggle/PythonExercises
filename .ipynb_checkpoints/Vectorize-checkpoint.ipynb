{
 "cells": [
  {
   "cell_type": "markdown",
   "id": "f3075a6a",
   "metadata": {},
   "source": [
    "https://medium.com/the-modern-scientist/make-pandas-code-120x-faster-a-forbidden-mathematical-jutsu-87103030eb9c"
   ]
  },
  {
   "cell_type": "code",
   "execution_count": 15,
   "id": "8d9d4c59",
   "metadata": {
    "scrolled": true
   },
   "outputs": [
    {
     "name": "stdout",
     "output_type": "stream",
     "text": [
      "<class 'pandas.core.frame.DataFrame'>\n",
      "RangeIndex: 10000000 entries, 0 to 9999999\n",
      "Data columns (total 6 columns):\n",
      " #   Column          Dtype \n",
      "---  ------          ----- \n",
      " 0   age             int32 \n",
      " 1   avg_sleeping    int32 \n",
      " 2   gender          object\n",
      " 3   annual_income   int32 \n",
      " 4   phone_number    int32 \n",
      " 5   favourite_food  object\n",
      "dtypes: int32(4), object(2)\n",
      "memory usage: 305.2+ MB\n"
     ]
    }
   ],
   "source": [
    "import pandas as pd\n",
    "import numpy as np\n",
    "\n",
    "def generate_df(size):\n",
    "    \n",
    "    df = pd.DataFrame()\n",
    "    df['age'] = np.random.randint(1,100,size)\n",
    "    df['avg_sleeping'] = np.random.randint(1,24, size)\n",
    "    df['gender'] = np.random.choice(['Male','Female'], size)\n",
    "    df['annual_income'] = np.random.randint(1000,100000, size)\n",
    "    df['phone_number'] = np.random.randint(1_111_111_111, 1_999_999_999, size)\n",
    "    df['favourite_food'] = np.random.choice(['pizza', 'burger', 'chips', 'nachos'], size)\n",
    "    \n",
    "    return df\n",
    "\n",
    "df = generate_df(10_000_000) # 10 million rows.\n",
    "df.info()"
   ]
  },
  {
   "cell_type": "code",
   "execution_count": 16,
   "id": "3c0ebccc",
   "metadata": {},
   "outputs": [],
   "source": [
    "def reward_function(row):\n",
    "    total_bonus = 0\n",
    "\n",
    "    if (row['avg_sleeping'] >= 6) and (5000 <= row['annual_income'] <= 10000):\n",
    "        total_bonus += row['annual_income']*10/100\n",
    "    \n",
    "    if (60<=row['age']<=90) and row['gender'] == 'Female':\n",
    "        total_bonus += row['annual_income'] * 20/100\n",
    "    \n",
    "    elif (60<=row['age']<=90) and row['gender'] == 'Male':\n",
    "        total_bonus += row['annual_income'] * 18/100\n",
    "    \n",
    "    total_bonus += row['annual_income'] * 10/100\n",
    "    \n",
    "    return total_bonus\n",
    "\n",
    "# A Wrapper function which will help in timing the function\n",
    "\n",
    "def wrapper(func, *args, **kwargs):\n",
    "    def wrapped():\n",
    "        return func(*args, **kwargs)\n",
    "    return wrapped"
   ]
  },
  {
   "cell_type": "code",
   "execution_count": 17,
   "id": "b4afbd50",
   "metadata": {},
   "outputs": [
    {
     "name": "stdout",
     "output_type": "stream",
     "text": [
      "Size: 10 | Time: 0.0510417000000416\n",
      "Size: 50 | Time: 0.09340029999998478\n",
      "Size: 100 | Time: 0.148123299999952\n",
      "Size: 150 | Time: 0.215199900000016\n",
      "Size: 1000 | Time: 1.4127091000000291\n",
      "Size: 1500 | Time: 2.008473600000002\n",
      "Size: 10000 | Time: 12.948629200000028\n",
      "Size: 15000 | Time: 20.841306799999984\n"
     ]
    }
   ],
   "source": [
    "def loop_function(size):\n",
    "    df = generate_df(size)\n",
    "    for idx, row in df.iterrows():\n",
    "        df.loc[idx, 'bonus'] = reward_function(row)\n",
    "        \n",
    "    return df\n",
    "\n",
    "import timeit\n",
    "\n",
    "sizes = ['10','50', '100','150','1_000','1_500','10_000','15_000']\n",
    "time_loop = []\n",
    "\n",
    "for size in sizes:\n",
    "    \n",
    "    size = int(size)\n",
    "    \n",
    "    wrap = wrapper(loop_function, size)\n",
    "    n = timeit.timeit(wrap, number = 10)\n",
    "    \n",
    "    time_loop.append(n)\n",
    "    \n",
    "    \n",
    "    print(f'Size: {size} | Time: {n}')"
   ]
  },
  {
   "cell_type": "code",
   "execution_count": 18,
   "id": "e39975ed",
   "metadata": {},
   "outputs": [
    {
     "name": "stdout",
     "output_type": "stream",
     "text": [
      "Size: 10 | Time: 0.028500500000063766\n",
      "Size: 50 | Time: 0.0368045999999822\n",
      "Size: 100 | Time: 0.046288300000014715\n",
      "Size: 150 | Time: 0.05759090000003653\n",
      "Size: 1000 | Time: 0.27724269999998796\n",
      "Size: 1500 | Time: 0.36603949999994256\n",
      "Size: 10000 | Time: 2.3970189000000346\n",
      "Size: 15000 | Time: 3.391621700000087\n",
      "Size: 100000 | Time: 22.998310100000026\n"
     ]
    }
   ],
   "source": [
    "def apply_function(size):\n",
    "    df = generate_df(size)\n",
    "    df['reward'] = df.apply(reward_function, axis=1)\n",
    "    return df\n",
    "\n",
    "import timeit\n",
    "\n",
    "sizes = ['10','50', '100','150','1_000','1_500','10_000','15_000','100_000']\n",
    "time_apply = []\n",
    "\n",
    "for size in sizes:\n",
    "    \n",
    "    size = int(size)\n",
    "    \n",
    "    wrap = wrapper(apply_function, size)\n",
    "    n = timeit.timeit(wrap, number = 10)\n",
    "    \n",
    "    time_apply.append(n)\n",
    "    \n",
    "    \n",
    "    print(f'Size: {size} | Time: {n}')"
   ]
  },
  {
   "cell_type": "code",
   "execution_count": 22,
   "id": "af46a819",
   "metadata": {},
   "outputs": [
    {
     "name": "stdout",
     "output_type": "stream",
     "text": [
      "Size: 10 | Time: 0.02737629999978708\n",
      "Size: 50 | Time: 0.02261610000005021\n",
      "Size: 100 | Time: 0.020013699999935852\n",
      "Size: 150 | Time: 0.019712999999910608\n",
      "Size: 1000 | Time: 0.026163999999880616\n",
      "Size: 1500 | Time: 0.032264800000120886\n",
      "Size: 10000 | Time: 0.09880669999984093\n",
      "Size: 15000 | Time: 0.13260869999999159\n",
      "Size: 100000 | Time: 0.9364877999998953\n"
     ]
    }
   ],
   "source": [
    "def reward_function_part(s,a,g,y):\n",
    "    total_bonus = 0\n",
    "\n",
    "    if (s >= 6) and (5000 <= a<= 10000):\n",
    "        total_bonus += a*10/100\n",
    "    \n",
    "    if (60<=y<=90) and g == 'Female':\n",
    "        total_bonus += a* 20/100\n",
    "    \n",
    "    elif (60<=y<=90) and g == 'Male':\n",
    "        total_bonus += a * 18/100\n",
    "    \n",
    "    total_bonus += a * 10/100\n",
    "    \n",
    "    return total_bonus\n",
    "\n",
    "def vectorize_function(size):\n",
    "    df = generate_df(size)\n",
    "    return np.vectorize(reward_function_part)(df['avg_sleeping'], df['annual_income'], df['gender'], df['age'])\n",
    "\n",
    "import timeit\n",
    "\n",
    "sizes = ['10','50', '100','150','1_000','1_500','10_000','15_000','100_000']\n",
    "time_vector = []\n",
    "\n",
    "for size in sizes:\n",
    "    \n",
    "    size = int(size)\n",
    "    \n",
    "    wrap = wrapper(vectorize_function, size)\n",
    "    n = timeit.timeit(wrap, number = 10)\n",
    "    \n",
    "    time_vector.append(n)\n",
    "    \n",
    "    \n",
    "    print(f'Size: {size} | Time: {n}')"
   ]
  }
 ],
 "metadata": {
  "kernelspec": {
   "display_name": "Python 3 (ipykernel)",
   "language": "python",
   "name": "python3"
  },
  "language_info": {
   "codemirror_mode": {
    "name": "ipython",
    "version": 3
   },
   "file_extension": ".py",
   "mimetype": "text/x-python",
   "name": "python",
   "nbconvert_exporter": "python",
   "pygments_lexer": "ipython3",
   "version": "3.9.15"
  },
  "toc": {
   "base_numbering": 1,
   "nav_menu": {},
   "number_sections": true,
   "sideBar": true,
   "skip_h1_title": false,
   "title_cell": "Table of Contents",
   "title_sidebar": "Contents",
   "toc_cell": false,
   "toc_position": {},
   "toc_section_display": true,
   "toc_window_display": false
  }
 },
 "nbformat": 4,
 "nbformat_minor": 5
}
