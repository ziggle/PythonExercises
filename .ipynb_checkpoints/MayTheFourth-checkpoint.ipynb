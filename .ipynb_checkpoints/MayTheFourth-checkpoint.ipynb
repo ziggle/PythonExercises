{
 "cells": [
  {
   "cell_type": "markdown",
   "id": "bcc7e949",
   "metadata": {},
   "source": [
    "https://twitter.com/s_gruppetta_ct/status/1654033523651616768"
   ]
  },
  {
   "cell_type": "code",
   "execution_count": 6,
   "id": "595de6c4",
   "metadata": {},
   "outputs": [
    {
     "data": {
      "text/plain": [
       "'May the 4th be with you'"
      ]
     },
     "execution_count": 6,
     "metadata": {},
     "output_type": "execute_result"
    }
   ],
   "source": [
    "import datetime \n",
    "today = datetime.datetime.now()\n",
    "f\"{today:%B} the {today:%#d}th be with you\""
   ]
  }
 ],
 "metadata": {
  "kernelspec": {
   "display_name": "Python 3 (ipykernel)",
   "language": "python",
   "name": "python3"
  },
  "language_info": {
   "codemirror_mode": {
    "name": "ipython",
    "version": 3
   },
   "file_extension": ".py",
   "mimetype": "text/x-python",
   "name": "python",
   "nbconvert_exporter": "python",
   "pygments_lexer": "ipython3",
   "version": "3.9.15"
  },
  "toc": {
   "base_numbering": 1,
   "nav_menu": {},
   "number_sections": true,
   "sideBar": true,
   "skip_h1_title": false,
   "title_cell": "Table of Contents",
   "title_sidebar": "Contents",
   "toc_cell": false,
   "toc_position": {},
   "toc_section_display": true,
   "toc_window_display": false
  }
 },
 "nbformat": 4,
 "nbformat_minor": 5
}
