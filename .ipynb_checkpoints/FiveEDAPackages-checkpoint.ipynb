{
 "cells": [
  {
   "cell_type": "markdown",
   "id": "ed2e9725",
   "metadata": {},
   "source": [
    "https://pub.towardsai.net/5-python-packages-for-effortless-eda-94abddac3bc5"
   ]
  },
  {
   "cell_type": "code",
   "execution_count": 7,
   "id": "8ccc7f82",
   "metadata": {},
   "outputs": [],
   "source": [
    "import seaborn as sns\n",
    "iris = sns.load_dataset('iris')"
   ]
  },
  {
   "cell_type": "code",
   "execution_count": 8,
   "id": "38f985e5",
   "metadata": {},
   "outputs": [
    {
     "data": {
      "text/html": [
       "<style type=\"text/css\">\n",
       "#T_b9f98 thead>tr>th {\n",
       "  text-align: left;\n",
       "}\n",
       "#T_b9f98_row0_col0, #T_b9f98_row1_col0, #T_b9f98_row2_col0, #T_b9f98_row3_col0, #T_b9f98_row4_col0 {\n",
       "  text-align: left;\n",
       "  font-size: 12px;\n",
       "  vertical-align: middle;\n",
       "  width: 5%;\n",
       "  max-width: 50px;\n",
       "  min-width: 20px;\n",
       "}\n",
       "#T_b9f98_row0_col1, #T_b9f98_row1_col1, #T_b9f98_row2_col1, #T_b9f98_row3_col1, #T_b9f98_row4_col1 {\n",
       "  text-align: left;\n",
       "  font-size: 12px;\n",
       "  vertical-align: middle;\n",
       "  width: 15%;\n",
       "  max-width: 200px;\n",
       "  min-width: 100px;\n",
       "  word-break: break-word;\n",
       "}\n",
       "#T_b9f98_row0_col2, #T_b9f98_row1_col2, #T_b9f98_row2_col2, #T_b9f98_row3_col2, #T_b9f98_row4_col2 {\n",
       "  text-align: left;\n",
       "  font-size: 12px;\n",
       "  vertical-align: middle;\n",
       "  width: 30%;\n",
       "  min-width: 100px;\n",
       "}\n",
       "#T_b9f98_row0_col3, #T_b9f98_row1_col3, #T_b9f98_row2_col3, #T_b9f98_row3_col3, #T_b9f98_row4_col3 {\n",
       "  text-align: left;\n",
       "  font-size: 12px;\n",
       "  vertical-align: middle;\n",
       "  width: 25%;\n",
       "  min-width: 100px;\n",
       "}\n",
       "#T_b9f98_row0_col4, #T_b9f98_row1_col4, #T_b9f98_row2_col4, #T_b9f98_row3_col4, #T_b9f98_row4_col4 {\n",
       "  text-align: left;\n",
       "  font-size: 12px;\n",
       "  vertical-align: middle;\n",
       "  width: 20%;\n",
       "  min-width: 150px;\n",
       "}\n",
       "#T_b9f98_row0_col5, #T_b9f98_row1_col5, #T_b9f98_row2_col5, #T_b9f98_row3_col5, #T_b9f98_row4_col5 {\n",
       "  text-align: left;\n",
       "  font-size: 12px;\n",
       "  vertical-align: middle;\n",
       "  width: 10%;\n",
       "}\n",
       "</style>\n",
       "<table id=\"T_b9f98\">\n",
       "  <caption><strong>Data Frame Summary</strong><br>iris<br>Dimensions: 150 x 5<br>Duplicates: 1</caption>\n",
       "  <thead>\n",
       "    <tr>\n",
       "      <th id=\"T_b9f98_level0_col0\" class=\"col_heading level0 col0\" >No</th>\n",
       "      <th id=\"T_b9f98_level0_col1\" class=\"col_heading level0 col1\" >Variable</th>\n",
       "      <th id=\"T_b9f98_level0_col2\" class=\"col_heading level0 col2\" >Stats / Values</th>\n",
       "      <th id=\"T_b9f98_level0_col3\" class=\"col_heading level0 col3\" >Freqs / (% of Valid)</th>\n",
       "      <th id=\"T_b9f98_level0_col4\" class=\"col_heading level0 col4\" >Graph</th>\n",
       "      <th id=\"T_b9f98_level0_col5\" class=\"col_heading level0 col5\" >Missing</th>\n",
       "    </tr>\n",
       "  </thead>\n",
       "  <tbody>\n",
       "    <tr>\n",
       "      <td id=\"T_b9f98_row0_col0\" class=\"data row0 col0\" >1</td>\n",
       "      <td id=\"T_b9f98_row0_col1\" class=\"data row0 col1\" ><strong>sepal_length</strong><br>[float64]</td>\n",
       "      <td id=\"T_b9f98_row0_col2\" class=\"data row0 col2\" >Mean (sd) : 5.8 (0.8)<br>min < med < max:<br>4.3 < 5.8 < 7.9<br>IQR (CV) : 1.3 (7.1)</td>\n",
       "      <td id=\"T_b9f98_row0_col3\" class=\"data row0 col3\" >35 distinct values</td>\n",
       "      <td id=\"T_b9f98_row0_col4\" class=\"data row0 col4\" ><img src = \"tmp\\iris_000.png\"></img></td>\n",
       "      <td id=\"T_b9f98_row0_col5\" class=\"data row0 col5\" >0<br>(0.0%)</td>\n",
       "    </tr>\n",
       "    <tr>\n",
       "      <td id=\"T_b9f98_row1_col0\" class=\"data row1 col0\" >2</td>\n",
       "      <td id=\"T_b9f98_row1_col1\" class=\"data row1 col1\" ><strong>sepal_width</strong><br>[float64]</td>\n",
       "      <td id=\"T_b9f98_row1_col2\" class=\"data row1 col2\" >Mean (sd) : 3.1 (0.4)<br>min < med < max:<br>2.0 < 3.0 < 4.4<br>IQR (CV) : 0.5 (7.0)</td>\n",
       "      <td id=\"T_b9f98_row1_col3\" class=\"data row1 col3\" >23 distinct values</td>\n",
       "      <td id=\"T_b9f98_row1_col4\" class=\"data row1 col4\" ><img src = \"tmp\\iris_001.png\"></img></td>\n",
       "      <td id=\"T_b9f98_row1_col5\" class=\"data row1 col5\" >0<br>(0.0%)</td>\n",
       "    </tr>\n",
       "    <tr>\n",
       "      <td id=\"T_b9f98_row2_col0\" class=\"data row2 col0\" >3</td>\n",
       "      <td id=\"T_b9f98_row2_col1\" class=\"data row2 col1\" ><strong>petal_length</strong><br>[float64]</td>\n",
       "      <td id=\"T_b9f98_row2_col2\" class=\"data row2 col2\" >Mean (sd) : 3.8 (1.8)<br>min < med < max:<br>1.0 < 4.3 < 6.9<br>IQR (CV) : 3.5 (2.1)</td>\n",
       "      <td id=\"T_b9f98_row2_col3\" class=\"data row2 col3\" >43 distinct values</td>\n",
       "      <td id=\"T_b9f98_row2_col4\" class=\"data row2 col4\" ><img src = \"tmp\\iris_002.png\"></img></td>\n",
       "      <td id=\"T_b9f98_row2_col5\" class=\"data row2 col5\" >0<br>(0.0%)</td>\n",
       "    </tr>\n",
       "    <tr>\n",
       "      <td id=\"T_b9f98_row3_col0\" class=\"data row3 col0\" >4</td>\n",
       "      <td id=\"T_b9f98_row3_col1\" class=\"data row3 col1\" ><strong>petal_width</strong><br>[float64]</td>\n",
       "      <td id=\"T_b9f98_row3_col2\" class=\"data row3 col2\" >Mean (sd) : 1.2 (0.8)<br>min < med < max:<br>0.1 < 1.3 < 2.5<br>IQR (CV) : 1.5 (1.6)</td>\n",
       "      <td id=\"T_b9f98_row3_col3\" class=\"data row3 col3\" >22 distinct values</td>\n",
       "      <td id=\"T_b9f98_row3_col4\" class=\"data row3 col4\" ><img src = \"tmp\\iris_003.png\"></img></td>\n",
       "      <td id=\"T_b9f98_row3_col5\" class=\"data row3 col5\" >0<br>(0.0%)</td>\n",
       "    </tr>\n",
       "    <tr>\n",
       "      <td id=\"T_b9f98_row4_col0\" class=\"data row4 col0\" >5</td>\n",
       "      <td id=\"T_b9f98_row4_col1\" class=\"data row4 col1\" ><strong>species</strong><br>[object]</td>\n",
       "      <td id=\"T_b9f98_row4_col2\" class=\"data row4 col2\" >1. setosa<br>2. versicolor<br>3. virginica</td>\n",
       "      <td id=\"T_b9f98_row4_col3\" class=\"data row4 col3\" >50 (33.3%)<br>50 (33.3%)<br>50 (33.3%)</td>\n",
       "      <td id=\"T_b9f98_row4_col4\" class=\"data row4 col4\" ><img src = \"tmp\\iris_004.png\"></img></td>\n",
       "      <td id=\"T_b9f98_row4_col5\" class=\"data row4 col5\" >0<br>(0.0%)</td>\n",
       "    </tr>\n",
       "  </tbody>\n",
       "</table>\n"
      ],
      "text/plain": [
       "<pandas.io.formats.style.Styler at 0x16c12c6e070>"
      ]
     },
     "execution_count": 8,
     "metadata": {},
     "output_type": "execute_result"
    }
   ],
   "source": [
    "from summarytools import dfSummary\n",
    "dfSummary(iris)"
   ]
  },
  {
   "cell_type": "code",
   "execution_count": 9,
   "id": "05e27c36",
   "metadata": {},
   "outputs": [],
   "source": [
    "from autoviz.AutoViz_Class import AutoViz_Class\n",
    "\n",
    "AV = AutoViz_Class()"
   ]
  },
  {
   "cell_type": "code",
   "execution_count": 10,
   "id": "feeaf8be",
   "metadata": {},
   "outputs": [
    {
     "name": "stdout",
     "output_type": "stream",
     "text": [
      "    pandas ascii encoder does not work for this file. Continuing...\n",
      "    pandas utf-8 encoder does not work for this file. Continuing...\n",
      "    pandas iso-8859-1 encoder does not work for this file. Continuing...\n",
      "    pandas cp1252 encoder does not work for this file. Continuing...\n",
      "    pandas latin1 encoder does not work for this file. Continuing...\n",
      "Not able to read or load file. Please check your inputs and try again...\n"
     ]
    }
   ],
   "source": [
    "%matplotlib inline\n",
    "dft = AV.AutoViz('mpg.csv')"
   ]
  },
  {
   "cell_type": "code",
   "execution_count": 11,
   "id": "1261350f",
   "metadata": {},
   "outputs": [
    {
     "data": {
      "application/vnd.jupyter.widget-view+json": {
       "model_id": "e03eb0581cb647b0ae273c381dab2334",
       "version_major": 2,
       "version_minor": 0
      },
      "text/plain": [
       "Button(description='Toggle Pandas/Lux', layout=Layout(top='5px', width='140px'), style=ButtonStyle())"
      ]
     },
     "metadata": {},
     "output_type": "display_data"
    },
    {
     "data": {
      "application/vnd.jupyter.widget-view+json": {
       "model_id": "03766f4437ea42a5b9f905ab757f1203",
       "version_major": 2,
       "version_minor": 0
      },
      "text/plain": [
       "Output()"
      ]
     },
     "metadata": {},
     "output_type": "display_data"
    }
   ],
   "source": [
    "import lux\n",
    "\n",
    "iris"
   ]
  },
  {
   "cell_type": "code",
   "execution_count": 12,
   "id": "6981519f",
   "metadata": {},
   "outputs": [
    {
     "data": {
      "application/vnd.jupyter.widget-view+json": {
       "model_id": "b11d961db2764fd6bd1fedba6b3d365f",
       "version_major": 2,
       "version_minor": 0
      },
      "text/plain": [
       "                                             |          | [  0%]   00:00 -> (? left)"
      ]
     },
     "metadata": {},
     "output_type": "display_data"
    },
    {
     "name": "stdout",
     "output_type": "stream",
     "text": [
      "Report SWEETVIZ_REPORT.html was generated! NOTEBOOK/COLAB USERS: the web browser MAY not pop up, regardless, the report IS saved in your notebook/colab files.\n"
     ]
    }
   ],
   "source": [
    "import sweetviz as sv\n",
    "\n",
    "my_report = sv.analyze(iris)\n",
    "my_report.show_html()"
   ]
  },
  {
   "cell_type": "code",
   "execution_count": 13,
   "id": "040e8c6d",
   "metadata": {},
   "outputs": [
    {
     "data": {
      "application/vnd.jupyter.widget-view+json": {
       "model_id": "b8414de2bc414420b02231be9512fd0c",
       "version_major": 2,
       "version_minor": 0
      },
      "text/plain": [
       "                                             |          | [  0%]   00:00 -> (? left)"
      ]
     },
     "metadata": {},
     "output_type": "display_data"
    },
    {
     "name": "stdout",
     "output_type": "stream",
     "text": [
      "Report SWEETVIZ_REPORT.html was generated! NOTEBOOK/COLAB USERS: the web browser MAY not pop up, regardless, the report IS saved in your notebook/colab files.\n"
     ]
    }
   ],
   "source": [
    "my_report = sv.analyze(iris, target_feat = 'sepal_length')\n",
    "my_report.show_html()"
   ]
  },
  {
   "cell_type": "code",
   "execution_count": 14,
   "id": "1fb41e63",
   "metadata": {},
   "outputs": [
    {
     "data": {
      "application/vnd.jupyter.widget-view+json": {
       "model_id": "f67e7bfab8654b1aa6838c4c405efe82",
       "version_major": 2,
       "version_minor": 0
      },
      "text/plain": [
       "                                             |          | [  0%]   00:00 -> (? left)"
      ]
     },
     "metadata": {},
     "output_type": "display_data"
    },
    {
     "name": "stdout",
     "output_type": "stream",
     "text": [
      "Report SWEETVIZ_REPORT.html was generated! NOTEBOOK/COLAB USERS: the web browser MAY not pop up, regardless, the report IS saved in your notebook/colab files.\n"
     ]
    }
   ],
   "source": [
    "my_report = sv.compare_intra(iris, iris[\"sepal_length\"] < 5.8, [\"Below 5.8\", \"Above 5.8\"])\n",
    "my_report.show_html()"
   ]
  },
  {
   "cell_type": "code",
   "execution_count": 15,
   "id": "5f61cc53",
   "metadata": {},
   "outputs": [
    {
     "data": {
      "text/html": [
       "\n",
       "        <iframe\n",
       "            width=\"100%\"\n",
       "            height=\"475\"\n",
       "            src=\"http://Mark-PC:40000/dtale/iframe/1\"\n",
       "            frameborder=\"0\"\n",
       "            allowfullscreen\n",
       "            \n",
       "        ></iframe>\n",
       "        "
      ],
      "text/plain": [
       "<IPython.lib.display.IFrame at 0x16c13ccd9d0>"
      ]
     },
     "metadata": {},
     "output_type": "display_data"
    },
    {
     "data": {
      "text/plain": []
     },
     "execution_count": 15,
     "metadata": {},
     "output_type": "execute_result"
    }
   ],
   "source": [
    "import dtale\n",
    "\n",
    "d = dtale.show(iris)\n",
    "d"
   ]
  }
 ],
 "metadata": {
  "kernelspec": {
   "display_name": "Python 3 (ipykernel)",
   "language": "python",
   "name": "python3"
  },
  "language_info": {
   "codemirror_mode": {
    "name": "ipython",
    "version": 3
   },
   "file_extension": ".py",
   "mimetype": "text/x-python",
   "name": "python",
   "nbconvert_exporter": "python",
   "pygments_lexer": "ipython3",
   "version": "3.9.15"
  },
  "toc": {
   "base_numbering": 1,
   "nav_menu": {},
   "number_sections": true,
   "sideBar": true,
   "skip_h1_title": false,
   "title_cell": "Table of Contents",
   "title_sidebar": "Contents",
   "toc_cell": false,
   "toc_position": {},
   "toc_section_display": true,
   "toc_window_display": false
  }
 },
 "nbformat": 4,
 "nbformat_minor": 5
}
