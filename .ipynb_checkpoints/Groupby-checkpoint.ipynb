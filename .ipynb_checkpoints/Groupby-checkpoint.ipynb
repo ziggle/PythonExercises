{
 "cells": [
  {
   "cell_type": "markdown",
   "id": "8fed06d4",
   "metadata": {},
   "source": [
    "https://medium.com/@anala007/how-to-use-groupby-in-pandas-for-effective-data-analysis-a859eed9499d"
   ]
  },
  {
   "cell_type": "code",
   "execution_count": 5,
   "id": "ee30e0a1",
   "metadata": {},
   "outputs": [
    {
     "data": {
      "text/html": [
       "<div>\n",
       "<style scoped>\n",
       "    .dataframe tbody tr th:only-of-type {\n",
       "        vertical-align: middle;\n",
       "    }\n",
       "\n",
       "    .dataframe tbody tr th {\n",
       "        vertical-align: top;\n",
       "    }\n",
       "\n",
       "    .dataframe thead th {\n",
       "        text-align: right;\n",
       "    }\n",
       "</style>\n",
       "<table border=\"1\" class=\"dataframe\">\n",
       "  <thead>\n",
       "    <tr style=\"text-align: right;\">\n",
       "      <th></th>\n",
       "      <th>name</th>\n",
       "      <th>course</th>\n",
       "      <th>grade</th>\n",
       "    </tr>\n",
       "  </thead>\n",
       "  <tbody>\n",
       "    <tr>\n",
       "      <th>0</th>\n",
       "      <td>Alice</td>\n",
       "      <td>math</td>\n",
       "      <td>90</td>\n",
       "    </tr>\n",
       "    <tr>\n",
       "      <th>1</th>\n",
       "      <td>Bob</td>\n",
       "      <td>science</td>\n",
       "      <td>80</td>\n",
       "    </tr>\n",
       "    <tr>\n",
       "      <th>2</th>\n",
       "      <td>Charlie</td>\n",
       "      <td>english</td>\n",
       "      <td>95</td>\n",
       "    </tr>\n",
       "    <tr>\n",
       "      <th>3</th>\n",
       "      <td>Alice</td>\n",
       "      <td>math</td>\n",
       "      <td>85</td>\n",
       "    </tr>\n",
       "    <tr>\n",
       "      <th>4</th>\n",
       "      <td>Bob</td>\n",
       "      <td>science</td>\n",
       "      <td>75</td>\n",
       "    </tr>\n",
       "    <tr>\n",
       "      <th>5</th>\n",
       "      <td>Charlie</td>\n",
       "      <td>english</td>\n",
       "      <td>95</td>\n",
       "    </tr>\n",
       "  </tbody>\n",
       "</table>\n",
       "</div>"
      ],
      "text/plain": [
       "      name   course  grade\n",
       "0    Alice     math     90\n",
       "1      Bob  science     80\n",
       "2  Charlie  english     95\n",
       "3    Alice     math     85\n",
       "4      Bob  science     75\n",
       "5  Charlie  english     95"
      ]
     },
     "execution_count": 5,
     "metadata": {},
     "output_type": "execute_result"
    }
   ],
   "source": [
    "import pandas as pd\n",
    "\n",
    "df = pd.DataFrame({'name': ['Alice', 'Bob', 'Charlie', 'Alice', 'Bob', 'Charlie'],\n",
    "                   'course': ['math', 'science', 'english', 'math', 'science', 'english'],\n",
    "                   'grade': [90, 80, 95, 85, 75, 95]})\n",
    "df"
   ]
  },
  {
   "cell_type": "code",
   "execution_count": 6,
   "id": "532cc071",
   "metadata": {},
   "outputs": [
    {
     "data": {
      "text/plain": [
       "<pandas.core.groupby.generic.DataFrameGroupBy object at 0x0000025CBC283970>"
      ]
     },
     "execution_count": 6,
     "metadata": {},
     "output_type": "execute_result"
    }
   ],
   "source": [
    "grouped = df.groupby('course')\n",
    "grouped"
   ]
  },
  {
   "cell_type": "code",
   "execution_count": 12,
   "id": "37780e61",
   "metadata": {},
   "outputs": [
    {
     "name": "stdout",
     "output_type": "stream",
     "text": [
      "         grade\n",
      "course        \n",
      "english   95.0\n",
      "math      87.5\n",
      "science   77.5\n",
      "      name   course  grade\n",
      "0    Alice     math     90\n",
      "1      Bob  science     80\n",
      "2  Charlie  english     95\n",
      "3    Alice     math     85\n",
      "4      Bob  science     75\n",
      "5  Charlie  english     95\n"
     ]
    }
   ],
   "source": [
    "mean_grades = grouped.mean()\n",
    "print(mean_grades)\n",
    "print(grouped.head(3))"
   ]
  },
  {
   "cell_type": "code",
   "execution_count": 13,
   "id": "dec99d3f",
   "metadata": {},
   "outputs": [
    {
     "name": "stdout",
     "output_type": "stream",
     "text": [
      "      name   course  grade\n",
      "0    Alice     math     90\n",
      "1      Bob  science     80\n",
      "2  Charlie  english     95\n",
      "3    Alice     math     85\n",
      "4      Bob  science     75\n",
      "5  Charlie  english     95\n"
     ]
    }
   ],
   "source": [
    "def top_three(group):\n",
    "    return group.sort_values(by='grade', ascending=False).head(4)\n",
    "\n",
    "top_students = grouped.apply(top_three)\n",
    "print(top_students)"
   ]
  },
  {
   "cell_type": "code",
   "execution_count": 14,
   "id": "012786c0",
   "metadata": {},
   "outputs": [
    {
     "name": "stdout",
     "output_type": "stream",
     "text": [
      "                 grade\n",
      "course  name          \n",
      "english Charlie   95.0\n",
      "math    Alice     87.5\n",
      "science Bob       77.5\n"
     ]
    }
   ],
   "source": [
    "grouped = df.groupby(['course', 'name'])\n",
    "mean_grades = grouped.mean()\n",
    "print(mean_grades)"
   ]
  },
  {
   "cell_type": "code",
   "execution_count": null,
   "id": "927775fa",
   "metadata": {},
   "outputs": [],
   "source": []
  }
 ],
 "metadata": {
  "kernelspec": {
   "display_name": "Python 3 (ipykernel)",
   "language": "python",
   "name": "python3"
  },
  "language_info": {
   "codemirror_mode": {
    "name": "ipython",
    "version": 3
   },
   "file_extension": ".py",
   "mimetype": "text/x-python",
   "name": "python",
   "nbconvert_exporter": "python",
   "pygments_lexer": "ipython3",
   "version": "3.9.15"
  },
  "toc": {
   "base_numbering": 1,
   "nav_menu": {},
   "number_sections": true,
   "sideBar": true,
   "skip_h1_title": false,
   "title_cell": "Table of Contents",
   "title_sidebar": "Contents",
   "toc_cell": false,
   "toc_position": {},
   "toc_section_display": true,
   "toc_window_display": false
  }
 },
 "nbformat": 4,
 "nbformat_minor": 5
}
