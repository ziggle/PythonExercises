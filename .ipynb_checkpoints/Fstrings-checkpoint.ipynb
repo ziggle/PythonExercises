{
 "cells": [
  {
   "cell_type": "markdown",
   "id": "a8cbaf62",
   "metadata": {},
   "source": [
    "https://www.youtube.com/watch?v=DKRjpckZ8bk"
   ]
  },
  {
   "cell_type": "code",
   "execution_count": 44,
   "id": "077e87f9",
   "metadata": {},
   "outputs": [
    {
     "name": "stdout",
     "output_type": "stream",
     "text": [
      "Today's data is 2023-02-20\n",
      "Time is 21:17:26\n"
     ]
    }
   ],
   "source": [
    "from datetime import datetime\n",
    "td = datetime.now()\n",
    "\n",
    "print(f'Today\\'s data is {td:%Y-%m-%d}')\n",
    "print(f'Time is {td:%H:%M:%S}')"
   ]
  },
  {
   "cell_type": "code",
   "execution_count": 45,
   "id": "6595e33b",
   "metadata": {},
   "outputs": [
    {
     "data": {
      "text/plain": [
       "' variable x=10, y=20'"
      ]
     },
     "execution_count": 45,
     "metadata": {},
     "output_type": "execute_result"
    }
   ],
   "source": [
    "x=10\n",
    "y=20\n",
    "f' variable {x=}, {y=}'"
   ]
  },
  {
   "cell_type": "code",
   "execution_count": 46,
   "id": "3ef767a1",
   "metadata": {},
   "outputs": [],
   "source": [
    "class Price:\n",
    "    def __init__(self,item,price):\n",
    "        self.item = item\n",
    "        self.price= price\n",
    "        \n",
    "    def __str__(self):\n",
    "        return f'{self.item} {self.price}'\n",
    "    \n",
    "    def __repr__(self):\n",
    "        return f'Item {self.item} costs {self.price} dollars'\n",
    "    \n",
    "    "
   ]
  },
  {
   "cell_type": "code",
   "execution_count": 47,
   "id": "5b1ff186",
   "metadata": {},
   "outputs": [],
   "source": [
    "p=Price('Car',10)"
   ]
  },
  {
   "cell_type": "code",
   "execution_count": 48,
   "id": "ca5c891a",
   "metadata": {},
   "outputs": [
    {
     "data": {
      "text/plain": [
       "'Car 10'"
      ]
     },
     "execution_count": 48,
     "metadata": {},
     "output_type": "execute_result"
    }
   ],
   "source": [
    "f'{p}'"
   ]
  },
  {
   "cell_type": "code",
   "execution_count": 49,
   "id": "dad42512",
   "metadata": {},
   "outputs": [
    {
     "data": {
      "text/plain": [
       "'Item Car costs 10 dollars'"
      ]
     },
     "execution_count": 49,
     "metadata": {},
     "output_type": "execute_result"
    }
   ],
   "source": [
    "f'{p!r}'"
   ]
  },
  {
   "cell_type": "code",
   "execution_count": 50,
   "id": "29b154f9",
   "metadata": {},
   "outputs": [],
   "source": [
    "s='Hello World!'"
   ]
  },
  {
   "cell_type": "code",
   "execution_count": 51,
   "id": "6ea09323",
   "metadata": {},
   "outputs": [
    {
     "data": {
      "text/plain": [
       "'              Hello World!              '"
      ]
     },
     "execution_count": 51,
     "metadata": {},
     "output_type": "execute_result"
    }
   ],
   "source": [
    "f'{s:^40}'"
   ]
  },
  {
   "cell_type": "code",
   "execution_count": 52,
   "id": "241057c9",
   "metadata": {},
   "outputs": [
    {
     "data": {
      "text/plain": [
       "'Hello World!                            '"
      ]
     },
     "execution_count": 52,
     "metadata": {},
     "output_type": "execute_result"
    }
   ],
   "source": [
    "f'{s:<40}'"
   ]
  },
  {
   "cell_type": "code",
   "execution_count": 53,
   "id": "bfcb18ea",
   "metadata": {},
   "outputs": [
    {
     "data": {
      "text/plain": [
       "'                            Hello World!'"
      ]
     },
     "execution_count": 53,
     "metadata": {},
     "output_type": "execute_result"
    }
   ],
   "source": [
    "f'{s:>40}'"
   ]
  },
  {
   "cell_type": "code",
   "execution_count": 54,
   "id": "165b7c6a",
   "metadata": {},
   "outputs": [],
   "source": [
    "n=90_000_000"
   ]
  },
  {
   "cell_type": "code",
   "execution_count": 55,
   "id": "faa920b8",
   "metadata": {},
   "outputs": [
    {
     "data": {
      "text/plain": [
       "'90,000,000'"
      ]
     },
     "execution_count": 55,
     "metadata": {},
     "output_type": "execute_result"
    }
   ],
   "source": [
    "f'{n:,}'"
   ]
  },
  {
   "cell_type": "code",
   "execution_count": 56,
   "id": "5d557f86",
   "metadata": {},
   "outputs": [
    {
     "data": {
      "text/plain": [
       "'      +90000000'"
      ]
     },
     "execution_count": 56,
     "metadata": {},
     "output_type": "execute_result"
    }
   ],
   "source": [
    "f'{n:+15}'"
   ]
  },
  {
   "cell_type": "code",
   "execution_count": 57,
   "id": "52b2c0d5",
   "metadata": {},
   "outputs": [
    {
     "data": {
      "text/plain": [
       "'             $254.35'"
      ]
     },
     "execution_count": 57,
     "metadata": {},
     "output_type": "execute_result"
    }
   ],
   "source": [
    "number=254.3463\n",
    "f\"{f'${number:.2f}':>20s}\""
   ]
  },
  {
   "cell_type": "code",
   "execution_count": 58,
   "id": "0743a562",
   "metadata": {},
   "outputs": [
    {
     "data": {
      "text/plain": [
       "'output       3.14'"
      ]
     },
     "execution_count": 58,
     "metadata": {},
     "output_type": "execute_result"
    }
   ],
   "source": [
    "v=3.1414\n",
    "width=10\n",
    "precision=3\n",
    "f'output {v:{width}.{precision}}'"
   ]
  },
  {
   "cell_type": "code",
   "execution_count": 59,
   "id": "9b7f954a",
   "metadata": {},
   "outputs": [
    {
     "data": {
      "text/plain": [
       "'output 1e+02'"
      ]
     },
     "execution_count": 59,
     "metadata": {},
     "output_type": "execute_result"
    }
   ],
   "source": [
    "v=101.5\n",
    "f'output {v:{\"4.3\" if v<100 else \"3.2\"}}'"
   ]
  }
 ],
 "metadata": {
  "kernelspec": {
   "display_name": "Python 3 (ipykernel)",
   "language": "python",
   "name": "python3"
  },
  "language_info": {
   "codemirror_mode": {
    "name": "ipython",
    "version": 3
   },
   "file_extension": ".py",
   "mimetype": "text/x-python",
   "name": "python",
   "nbconvert_exporter": "python",
   "pygments_lexer": "ipython3",
   "version": "3.9.15"
  },
  "toc": {
   "base_numbering": 1,
   "nav_menu": {},
   "number_sections": true,
   "sideBar": true,
   "skip_h1_title": false,
   "title_cell": "Table of Contents",
   "title_sidebar": "Contents",
   "toc_cell": false,
   "toc_position": {},
   "toc_section_display": true,
   "toc_window_display": false
  }
 },
 "nbformat": 4,
 "nbformat_minor": 5
}
