{
 "cells": [
  {
   "cell_type": "markdown",
   "id": "8b8d28cb",
   "metadata": {},
   "source": [
    "https://medium.com/@agusmahari/pandas-structure-pandas-code-for-maintainability-and-reusability-2b15fc27a50f"
   ]
  },
  {
   "cell_type": "code",
   "execution_count": 2,
   "id": "8ea5de86",
   "metadata": {},
   "outputs": [],
   "source": [
    "import pandas as pd\n",
    "import polars as pl"
   ]
  },
  {
   "cell_type": "code",
   "execution_count": 3,
   "id": "6c9d678f",
   "metadata": {},
   "outputs": [],
   "source": [
    "def sort_dataframe(df, sort_cols, ascending=True):\n",
    "    \"\"\"\n",
    "    Sorts a pandas data frame based on one or more columns.\n",
    "    :param df: The data frame to sort.\n",
    "    :param sort_cols: A list of column names to sort by.\n",
    "    :param ascending: Whether to sort in ascending order (True) or descending order (False).\n",
    "    :return: The sorted data frame.\n",
    "    \"\"\"\n",
    "    return df.sort_values(by=sort_cols, ascending=ascending)"
   ]
  },
  {
   "cell_type": "code",
   "execution_count": 4,
   "id": "0daf8265",
   "metadata": {},
   "outputs": [
    {
     "name": "stdout",
     "output_type": "stream",
     "text": [
      "      name  age  salary\n",
      "2  Charlie   35   60000\n",
      "1      Bob   30   70000\n",
      "0    Alice   25   50000\n"
     ]
    }
   ],
   "source": [
    "import pandas as pd\n",
    "\n",
    "# create a sample data frame\n",
    "data = {'name': ['Alice', 'Bob', 'Charlie'],\n",
    "        'age': [25, 30, 35],\n",
    "        'salary': [50000, 70000, 60000]}\n",
    "df = pd.DataFrame(data)\n",
    "\n",
    "# sort the data frame by age in descending order\n",
    "sorted_df = sort_dataframe(df, ['age'], False)\n",
    "print(sorted_df)"
   ]
  },
  {
   "cell_type": "code",
   "execution_count": 5,
   "id": "f9ab5d83",
   "metadata": {},
   "outputs": [],
   "source": [
    "import pandas as pd\n",
    "\n",
    "def preprocess_data(file_path):\n",
    "    # load data from file\n",
    "    df = pd.read_csv(file_path)\n",
    "    \n",
    "    # perform data cleaning and preprocessing with method chaining\n",
    "    cleaned_df = (\n",
    "        df\n",
    "        .dropna()  # remove rows with missing values\n",
    "        .rename(columns={'old_col_name': 'new_col_name'})  # rename columns\n",
    "        .assign(new_col=lambda x: x['col1'] + x['col2'])  # create a new column by adding two existing columns\n",
    "        .query('col3 > 0')  # filter rows where col3 is greater than 0\n",
    "        .reset_index(drop=True)  # reset the index\n",
    "    )\n",
    "    \n",
    "    return cleaned_df"
   ]
  },
  {
   "cell_type": "code",
   "execution_count": null,
   "id": "fbf72cf0",
   "metadata": {},
   "outputs": [],
   "source": [
    "def filter_dataframe(df, filter_col, filter_val):\n",
    "    \"\"\"\n",
    "    Filters a pandas data frame based on a given column and value.\n",
    "\n",
    "    Parameters:\n",
    "        df (pandas.DataFrame): The data frame to filter.\n",
    "        filter_col (str): The column to filter on.\n",
    "        filter_val (object): The value to filter on.\n",
    "\n",
    "    Returns:\n",
    "        pandas.DataFrame: The filtered data frame.\n",
    "    \"\"\"\n",
    "    return df[df[filter_col] == filter_val]"
   ]
  }
 ],
 "metadata": {
  "kernelspec": {
   "display_name": "Python 3 (ipykernel)",
   "language": "python",
   "name": "python3"
  },
  "language_info": {
   "codemirror_mode": {
    "name": "ipython",
    "version": 3
   },
   "file_extension": ".py",
   "mimetype": "text/x-python",
   "name": "python",
   "nbconvert_exporter": "python",
   "pygments_lexer": "ipython3",
   "version": "3.9.15"
  },
  "toc": {
   "base_numbering": 1,
   "nav_menu": {},
   "number_sections": true,
   "sideBar": true,
   "skip_h1_title": false,
   "title_cell": "Table of Contents",
   "title_sidebar": "Contents",
   "toc_cell": false,
   "toc_position": {},
   "toc_section_display": true,
   "toc_window_display": false
  }
 },
 "nbformat": 4,
 "nbformat_minor": 5
}
