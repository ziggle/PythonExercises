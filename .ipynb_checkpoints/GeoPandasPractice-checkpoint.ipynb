{
 "cells": [
  {
   "cell_type": "markdown",
   "id": "290aa260",
   "metadata": {},
   "source": [
    "https://medium.com/@shouke.wei/geodata-exploration-and-visualization-with-geopandas-8fd0bac4f81d"
   ]
  },
  {
   "cell_type": "code",
   "execution_count": 2,
   "id": "4a89b40f",
   "metadata": {},
   "outputs": [
    {
     "name": "stdout",
     "output_type": "stream",
     "text": [
      "Geopandas Version:  0.12.2\n"
     ]
    }
   ],
   "source": [
    "import geopandas as gpd\n",
    "\n",
    "print('Geopandas Version: ', gpd.__version__)"
   ]
  },
  {
   "cell_type": "code",
   "execution_count": null,
   "id": "b6c9c536",
   "metadata": {},
   "outputs": [],
   "source": [
    "import geopandas as gpd\n",
    "\n",
    "gdf = gpd.read_file('./data/World_Countries/World_Countries__Generalized_.shp')\n",
    "\n",
    "gdf.head()"
   ]
  },
  {
   "cell_type": "code",
   "execution_count": 3,
   "id": "3e203f2d",
   "metadata": {},
   "outputs": [
    {
     "data": {
      "text/html": [
       "<div>\n",
       "<style scoped>\n",
       "    .dataframe tbody tr th:only-of-type {\n",
       "        vertical-align: middle;\n",
       "    }\n",
       "\n",
       "    .dataframe tbody tr th {\n",
       "        vertical-align: top;\n",
       "    }\n",
       "\n",
       "    .dataframe thead th {\n",
       "        text-align: right;\n",
       "    }\n",
       "</style>\n",
       "<table border=\"1\" class=\"dataframe\">\n",
       "  <thead>\n",
       "    <tr style=\"text-align: right;\">\n",
       "      <th></th>\n",
       "      <th>NAME</th>\n",
       "      <th>ISO_3_CODE</th>\n",
       "      <th>ISO_2_CODE</th>\n",
       "      <th>AREA</th>\n",
       "      <th>NAME_1</th>\n",
       "      <th>POP2005</th>\n",
       "      <th>REGION</th>\n",
       "      <th>GMI_CNTRY</th>\n",
       "      <th>NAME_12</th>\n",
       "      <th>geometry</th>\n",
       "    </tr>\n",
       "  </thead>\n",
       "  <tbody>\n",
       "    <tr>\n",
       "      <th>0</th>\n",
       "      <td>Afghanistan</td>\n",
       "      <td>AFG</td>\n",
       "      <td>AF</td>\n",
       "      <td>65209</td>\n",
       "      <td>Afghanistan</td>\n",
       "      <td>25067407</td>\n",
       "      <td>Asia</td>\n",
       "      <td>AFG</td>\n",
       "      <td>Afghanistan</td>\n",
       "      <td>POLYGON ((65.62730 37.33320, 65.64693 37.45888...</td>\n",
       "    </tr>\n",
       "    <tr>\n",
       "      <th>1</th>\n",
       "      <td>Albania</td>\n",
       "      <td>ALB</td>\n",
       "      <td>AL</td>\n",
       "      <td>2740</td>\n",
       "      <td>Albania</td>\n",
       "      <td>3153731</td>\n",
       "      <td>Europe</td>\n",
       "      <td>ALB</td>\n",
       "      <td>Albania</td>\n",
       "      <td>POLYGON ((19.39732 42.31707, 19.46971 42.39999...</td>\n",
       "    </tr>\n",
       "    <tr>\n",
       "      <th>2</th>\n",
       "      <td>Algeria</td>\n",
       "      <td>DZA</td>\n",
       "      <td>DZ</td>\n",
       "      <td>238174</td>\n",
       "      <td>Algeria</td>\n",
       "      <td>32854159</td>\n",
       "      <td>NorthAfrica</td>\n",
       "      <td>DZA</td>\n",
       "      <td>Algeria</td>\n",
       "      <td>POLYGON ((-1.25389 32.21471, -1.25000 32.32693...</td>\n",
       "    </tr>\n",
       "    <tr>\n",
       "      <th>3</th>\n",
       "      <td>Andorra</td>\n",
       "      <td>AND</td>\n",
       "      <td>AD</td>\n",
       "      <td>0</td>\n",
       "      <td>Andorra</td>\n",
       "      <td>73483</td>\n",
       "      <td>Europe</td>\n",
       "      <td>AND</td>\n",
       "      <td>Andorra</td>\n",
       "      <td>POLYGON ((1.71097 42.47350, 1.53333 42.43610, ...</td>\n",
       "    </tr>\n",
       "    <tr>\n",
       "      <th>4</th>\n",
       "      <td>Angola</td>\n",
       "      <td>AGO</td>\n",
       "      <td>AO</td>\n",
       "      <td>124670</td>\n",
       "      <td>Angola</td>\n",
       "      <td>16095214</td>\n",
       "      <td>Sub Saharan Africa</td>\n",
       "      <td>AGO</td>\n",
       "      <td>Angola</td>\n",
       "      <td>MULTIPOLYGON (((12.01007 -5.02062, 12.16639 -4...</td>\n",
       "    </tr>\n",
       "  </tbody>\n",
       "</table>\n",
       "</div>"
      ],
      "text/plain": [
       "          NAME ISO_3_CODE ISO_2_CODE    AREA       NAME_1   POP2005  \\\n",
       "0  Afghanistan        AFG         AF   65209  Afghanistan  25067407   \n",
       "1      Albania        ALB         AL    2740      Albania   3153731   \n",
       "2      Algeria        DZA         DZ  238174      Algeria  32854159   \n",
       "3      Andorra        AND         AD       0      Andorra     73483   \n",
       "4       Angola        AGO         AO  124670       Angola  16095214   \n",
       "\n",
       "               REGION GMI_CNTRY      NAME_12  \\\n",
       "0                Asia       AFG  Afghanistan   \n",
       "1              Europe       ALB      Albania   \n",
       "2         NorthAfrica       DZA      Algeria   \n",
       "3              Europe       AND      Andorra   \n",
       "4  Sub Saharan Africa       AGO       Angola   \n",
       "\n",
       "                                            geometry  \n",
       "0  POLYGON ((65.62730 37.33320, 65.64693 37.45888...  \n",
       "1  POLYGON ((19.39732 42.31707, 19.46971 42.39999...  \n",
       "2  POLYGON ((-1.25389 32.21471, -1.25000 32.32693...  \n",
       "3  POLYGON ((1.71097 42.47350, 1.53333 42.43610, ...  \n",
       "4  MULTIPOLYGON (((12.01007 -5.02062, 12.16639 -4...  "
      ]
     },
     "execution_count": 3,
     "metadata": {},
     "output_type": "execute_result"
    }
   ],
   "source": [
    "import geopandas as gpd\n",
    "\n",
    "url = 'https://raw.githubusercontent.com/MinnPost/simple-map-d3/master/example-data/world-population.geo.json'\n",
    "\n",
    "world_gdf = gpd.read_file(url)\n",
    "\n",
    "world_gdf.head()"
   ]
  }
 ],
 "metadata": {
  "kernelspec": {
   "display_name": "Python 3 (ipykernel)",
   "language": "python",
   "name": "python3"
  },
  "language_info": {
   "codemirror_mode": {
    "name": "ipython",
    "version": 3
   },
   "file_extension": ".py",
   "mimetype": "text/x-python",
   "name": "python",
   "nbconvert_exporter": "python",
   "pygments_lexer": "ipython3",
   "version": "3.9.15"
  },
  "toc": {
   "base_numbering": 1,
   "nav_menu": {},
   "number_sections": true,
   "sideBar": true,
   "skip_h1_title": false,
   "title_cell": "Table of Contents",
   "title_sidebar": "Contents",
   "toc_cell": false,
   "toc_position": {},
   "toc_section_display": true,
   "toc_window_display": false
  }
 },
 "nbformat": 4,
 "nbformat_minor": 5
}
