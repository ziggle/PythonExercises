{
 "cells": [
  {
   "cell_type": "markdown",
   "id": "67c338e2",
   "metadata": {},
   "source": [
    "https://python.plainenglish.io/a-new-way-of-enumeration-in-python-e0c0d303600a"
   ]
  },
  {
   "cell_type": "code",
   "execution_count": 4,
   "id": "d156c364",
   "metadata": {},
   "outputs": [],
   "source": [
    "from enum import Enum\n",
    "\n",
    "\n",
    "class SuperCoolEnum(Enum):\n",
    "    FIRST = 1\n",
    "    SECOND = 2\n",
    "    OTHER = 3"
   ]
  },
  {
   "cell_type": "code",
   "execution_count": 5,
   "id": "8dc2215a",
   "metadata": {},
   "outputs": [
    {
     "data": {
      "text/plain": [
       "<SuperCoolEnum.FIRST: 1>"
      ]
     },
     "execution_count": 5,
     "metadata": {},
     "output_type": "execute_result"
    }
   ],
   "source": [
    "SuperCoolEnum.FIRST"
   ]
  },
  {
   "cell_type": "code",
   "execution_count": 6,
   "id": "a17c0e02",
   "metadata": {},
   "outputs": [
    {
     "data": {
      "text/plain": [
       "<SuperCoolEnum.FIRST: 1>"
      ]
     },
     "execution_count": 6,
     "metadata": {},
     "output_type": "execute_result"
    }
   ],
   "source": [
    "SuperCoolEnum(1)"
   ]
  },
  {
   "cell_type": "code",
   "execution_count": 7,
   "id": "9a4a4594",
   "metadata": {},
   "outputs": [],
   "source": [
    "v = SuperCoolEnum(1)"
   ]
  },
  {
   "cell_type": "code",
   "execution_count": 8,
   "id": "068d8f15",
   "metadata": {},
   "outputs": [
    {
     "data": {
      "text/plain": [
       "<SuperCoolEnum.FIRST: 1>"
      ]
     },
     "execution_count": 8,
     "metadata": {},
     "output_type": "execute_result"
    }
   ],
   "source": [
    "v"
   ]
  },
  {
   "cell_type": "code",
   "execution_count": 9,
   "id": "bf8c937f",
   "metadata": {},
   "outputs": [
    {
     "data": {
      "text/plain": [
       "'FIRST'"
      ]
     },
     "execution_count": 9,
     "metadata": {},
     "output_type": "execute_result"
    }
   ],
   "source": [
    "v.name\n"
   ]
  },
  {
   "cell_type": "code",
   "execution_count": 10,
   "id": "32faa0e9",
   "metadata": {},
   "outputs": [
    {
     "data": {
      "text/plain": [
       "1"
      ]
     },
     "execution_count": 10,
     "metadata": {},
     "output_type": "execute_result"
    }
   ],
   "source": [
    "v.value"
   ]
  },
  {
   "cell_type": "code",
   "execution_count": 11,
   "id": "09df4372",
   "metadata": {},
   "outputs": [
    {
     "name": "stdout",
     "output_type": "stream",
     "text": [
      "SuperCoolEnum.FIRST\n",
      "FIRST\n",
      "1\n"
     ]
    }
   ],
   "source": [
    "class StrCoolEnum(Enum):\n",
    "    FIRST = \"one\"\n",
    "    SECOND = \"two\"\n",
    "    OTHER = \"three\"\n",
    "\n",
    "\n",
    "v = SuperCoolEnum.FIRST\n",
    "print(v)\n",
    "print(v.name)\n",
    "print(v.value)"
   ]
  },
  {
   "cell_type": "code",
   "execution_count": 12,
   "id": "fcb61250",
   "metadata": {},
   "outputs": [
    {
     "name": "stdout",
     "output_type": "stream",
     "text": [
      "FIRST 1\n",
      "SECOND 2\n",
      "OTHER 3\n"
     ]
    }
   ],
   "source": [
    "from enum import Enum, auto\n",
    "\n",
    "class SuperCoolEnum(Enum):\n",
    "    FIRST = auto()\n",
    "    SECOND = auto()\n",
    "    OTHER = auto()\n",
    "\n",
    "\n",
    "for e in list(SuperCoolEnum):\n",
    "    print(e.name, e.value)"
   ]
  },
  {
   "cell_type": "code",
   "execution_count": 13,
   "id": "e1616c8e",
   "metadata": {},
   "outputs": [
    {
     "name": "stdout",
     "output_type": "stream",
     "text": [
      "FIRST 0\n",
      "SECOND 1\n",
      "OTHER 2\n"
     ]
    }
   ],
   "source": [
    "from enum import Enum, auto\n",
    "\n",
    "class SuperCoolEnum(Enum):\n",
    "    FIRST = 0\n",
    "    SECOND = auto()\n",
    "    OTHER = auto()\n",
    "\n",
    "for e in list(SuperCoolEnum):\n",
    "    print(e.name, e.value)"
   ]
  },
  {
   "cell_type": "code",
   "execution_count": 14,
   "id": "5419f443",
   "metadata": {},
   "outputs": [
    {
     "name": "stdout",
     "output_type": "stream",
     "text": [
      "FIRST <enum 'SuperCoolEnum'>\n",
      "SECOND <enum 'SuperCoolEnum'>\n",
      "OTHER <enum 'SuperCoolEnum'>\n"
     ]
    }
   ],
   "source": [
    "class SuperCoolEnum(Enum):\n",
    "    FIRST = 0\n",
    "    SECOND = 1\n",
    "    OTHER = 2\n",
    "\n",
    "\n",
    "for e in list(SuperCoolEnum):\n",
    "    print(e.name, type(e))"
   ]
  },
  {
   "cell_type": "code",
   "execution_count": 15,
   "id": "b52caffa",
   "metadata": {},
   "outputs": [
    {
     "name": "stdout",
     "output_type": "stream",
     "text": [
      "FIRST 1\n",
      "SECOND 2\n",
      "OTHER 3\n"
     ]
    }
   ],
   "source": [
    "from enum import Enum, _EnumDict, auto\n",
    "\n",
    "original_getitem = _EnumDict.__getitem__\n",
    "\n",
    "def new_getitem(self, key):\n",
    "    # Ignore dunder and sunder \n",
    "    if key == \"auto\" or key.startswith(\"_\"):\n",
    "        return original_getitem(self, key)\n",
    "    \n",
    "    try:\n",
    "        original_value = original_getitem(self, key)\n",
    "    except:\n",
    "        # Did not found - create an auto value\n",
    "        ret_value = auto()\n",
    "        self.__setitem__(key, ret_value)\n",
    "    else:\n",
    "        ret_value = original_value\n",
    "    return ret_value\n",
    "\n",
    "# Override the original implementation\n",
    "_EnumDict.__getitem__ = new_getitem\n",
    "\n",
    "\n",
    "class SuperCoolEnum(Enum):\n",
    "    FIRST\n",
    "    SECOND\n",
    "    OTHER\n",
    "\n",
    "\n",
    "for e in list(SuperCoolEnum):\n",
    "    print(e.name, e.value)\n"
   ]
  },
  {
   "cell_type": "code",
   "execution_count": 16,
   "id": "578e7e29",
   "metadata": {},
   "outputs": [
    {
     "name": "stdout",
     "output_type": "stream",
     "text": [
      "False\n",
      "True\n"
     ]
    }
   ],
   "source": [
    "sce = SuperCoolEnum.FIRST\n",
    "print(sce == 1)\n",
    "print(sce.value == 1)"
   ]
  },
  {
   "cell_type": "code",
   "execution_count": 2,
   "id": "d88b318b",
   "metadata": {},
   "outputs": [
    {
     "name": "stdout",
     "output_type": "stream",
     "text": [
      "True\n",
      "True\n"
     ]
    }
   ],
   "source": [
    "from enum import Enum, _EnumDict, auto, IntEnum\n",
    "original_getitem = _EnumDict.__getitem__\n",
    "\n",
    "def new_getitem(self, key):\n",
    "    # Ignore dunder and sunder \n",
    "    if key == \"auto\" or key.startswith(\"_\"):\n",
    "        return original_getitem(self, key)\n",
    "    \n",
    "    try:\n",
    "        original_value = original_getitem(self, key)\n",
    "    except:\n",
    "        # Did not found - create an auto value\n",
    "        ret_value = auto()\n",
    "        self.__setitem__(key, ret_value)\n",
    "    else:\n",
    "        ret_value = original_value\n",
    "    return ret_value\n",
    "\n",
    "# Override the original implementation\n",
    "_EnumDict.__getitem__ = new_getitem\n",
    "\n",
    "\n",
    "class SuperCoolEnum(IntEnum):\n",
    "    FIRST\n",
    "    SECOND\n",
    "    OTHER\n",
    "\n",
    "\n",
    "sce = SuperCoolEnum.FIRST\n",
    "print(sce == 1)\n",
    "print(sce.value == 1)"
   ]
  },
  {
   "cell_type": "code",
   "execution_count": 3,
   "id": "9b0df78a",
   "metadata": {},
   "outputs": [
    {
     "ename": "NameError",
     "evalue": "name 'Flag' is not defined",
     "output_type": "error",
     "traceback": [
      "\u001b[1;31m---------------------------------------------------------------------------\u001b[0m",
      "\u001b[1;31mNameError\u001b[0m                                 Traceback (most recent call last)",
      "Cell \u001b[1;32mIn[3], line 1\u001b[0m\n\u001b[1;32m----> 1\u001b[0m \u001b[38;5;28;01mclass\u001b[39;00m \u001b[38;5;21;01mSuperCoolEnum\u001b[39;00m(\u001b[43mFlag\u001b[49m):\n\u001b[0;32m      2\u001b[0m     FIRST\n\u001b[0;32m      3\u001b[0m     SECOND\n",
      "\u001b[1;31mNameError\u001b[0m: name 'Flag' is not defined"
     ]
    }
   ],
   "source": [
    "class SuperCoolEnum(Flag):\n",
    "    FIRST\n",
    "    SECOND\n",
    "    OTHER\n",
    "\n",
    "for e in list(SuperCoolEnum):\n",
    "    print(e.name, e.value)"
   ]
  },
  {
   "cell_type": "code",
   "execution_count": 4,
   "id": "33509792",
   "metadata": {},
   "outputs": [
    {
     "name": "stdout",
     "output_type": "stream",
     "text": [
      "FIRST first\n",
      "SECOND second\n",
      "OTHER other\n"
     ]
    }
   ],
   "source": [
    "class StrEnum(Enum):\n",
    "    def _generate_next_value_(name, start, count, last_values):\n",
    "        return name.lower()\n",
    "\n",
    "\n",
    "class SuperCoolEnum(StrEnum):\n",
    "    FIRST\n",
    "    SECOND\n",
    "    OTHER\n",
    "\n",
    "\n",
    "for e in list(SuperCoolEnum):\n",
    "    print(e.name, e.value)"
   ]
  },
  {
   "cell_type": "code",
   "execution_count": null,
   "id": "7b2be387",
   "metadata": {},
   "outputs": [],
   "source": []
  }
 ],
 "metadata": {
  "kernelspec": {
   "display_name": "Python 3 (ipykernel)",
   "language": "python",
   "name": "python3"
  },
  "language_info": {
   "codemirror_mode": {
    "name": "ipython",
    "version": 3
   },
   "file_extension": ".py",
   "mimetype": "text/x-python",
   "name": "python",
   "nbconvert_exporter": "python",
   "pygments_lexer": "ipython3",
   "version": "3.9.15"
  },
  "toc": {
   "base_numbering": 1,
   "nav_menu": {},
   "number_sections": true,
   "sideBar": true,
   "skip_h1_title": false,
   "title_cell": "Table of Contents",
   "title_sidebar": "Contents",
   "toc_cell": false,
   "toc_position": {},
   "toc_section_display": true,
   "toc_window_display": false
  }
 },
 "nbformat": 4,
 "nbformat_minor": 5
}
