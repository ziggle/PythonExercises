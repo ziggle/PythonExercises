{
 "cells": [
  {
   "cell_type": "markdown",
   "id": "ff6f3c83",
   "metadata": {},
   "source": [
    "https://medium.com/techtofreedom/5-levels-of-understanding-closures-in-python-a0e1212baf6d"
   ]
  },
  {
   "cell_type": "code",
   "execution_count": 1,
   "id": "6125f7fc",
   "metadata": {},
   "outputs": [
    {
     "name": "stdout",
     "output_type": "stream",
     "text": [
      "Yang Zhou\n"
     ]
    },
    {
     "ename": "NameError",
     "evalue": "name 'outer_func' is not defined",
     "output_type": "error",
     "traceback": [
      "\u001b[1;31m---------------------------------------------------------------------------\u001b[0m",
      "\u001b[1;31mNameError\u001b[0m                                 Traceback (most recent call last)",
      "Cell \u001b[1;32mIn[1], line 15\u001b[0m\n\u001b[0;32m     12\u001b[0m f()\n\u001b[0;32m     13\u001b[0m \u001b[38;5;66;03m#Yang Zhou\u001b[39;00m\n\u001b[1;32m---> 15\u001b[0m \u001b[43mouter_func\u001b[49m()\n",
      "\u001b[1;31mNameError\u001b[0m: name 'outer_func' is not defined"
     ]
    }
   ],
   "source": [
    "def outer_func():\n",
    "    leader = \"Yang Zhou\"\n",
    "\n",
    "    def print_leader():\n",
    "        print(leader)\n",
    "\n",
    "    return print_leader\n",
    "\n",
    "f = outer_func()\n",
    "del outer_func\n",
    "\n",
    "f()\n",
    "#Yang Zhou\n",
    "\n",
    "outer_func()\n",
    "# Traceback (most recent call last):\n",
    "#   File \"<input>\", line 1, in <module>\n",
    "# NameError: name 'outer_func' is not defined"
   ]
  },
  {
   "cell_type": "code",
   "execution_count": 2,
   "id": "b4f181db",
   "metadata": {},
   "outputs": [
    {
     "name": "stdout",
     "output_type": "stream",
     "text": [
      "Yang Zhou\n",
      "<class 'NoneType'>\n"
     ]
    },
    {
     "ename": "TypeError",
     "evalue": "'NoneType' object is not callable",
     "output_type": "error",
     "traceback": [
      "\u001b[1;31m---------------------------------------------------------------------------\u001b[0m",
      "\u001b[1;31mTypeError\u001b[0m                                 Traceback (most recent call last)",
      "Cell \u001b[1;32mIn[2], line 13\u001b[0m\n\u001b[0;32m     11\u001b[0m \u001b[38;5;28mprint\u001b[39m(\u001b[38;5;28mtype\u001b[39m(f))\n\u001b[0;32m     12\u001b[0m \u001b[38;5;66;03m# <class 'NoneType'>\u001b[39;00m\n\u001b[1;32m---> 13\u001b[0m \u001b[43mf\u001b[49m\u001b[43m(\u001b[49m\u001b[43m)\u001b[49m\n",
      "\u001b[1;31mTypeError\u001b[0m: 'NoneType' object is not callable"
     ]
    }
   ],
   "source": [
    "def outer_func():\n",
    "    leader = \"Yang Zhou\"\n",
    "\n",
    "    def print_leader():\n",
    "        print(leader)\n",
    "\n",
    "    return print_leader() # Return The Result!\n",
    "\n",
    "f = outer_func()\n",
    "# Yang Zhou\n",
    "print(type(f))\n",
    "# <class 'NoneType'>\n",
    "f()\n",
    "# TypeError: 'NoneType' object is not callable"
   ]
  },
  {
   "cell_type": "code",
   "execution_count": 3,
   "id": "34a98f22",
   "metadata": {},
   "outputs": [
    {
     "name": "stdout",
     "output_type": "stream",
     "text": [
      "None\n",
      "(<cell at 0x00000245D3E26D90: str object at 0x00000245D5C16E70>,)\n",
      "Yang Zhou\n"
     ]
    }
   ],
   "source": [
    "def outer_func():\n",
    "    leader = \"Yang Zhou\"\n",
    "\n",
    "    def print_leader():\n",
    "        print(leader)\n",
    "\n",
    "    return print_leader\n",
    "\n",
    "f = outer_func()\n",
    "print(outer_func.__closure__)\n",
    "# None\n",
    "print(f.__closure__)\n",
    "# (<cell at 0x7f6465878070: str object at 0x7f64657afd70>,)\n",
    "print(f.__closure__[0].cell_contents)\n",
    "# Yang Zhou"
   ]
  },
  {
   "cell_type": "code",
   "execution_count": 4,
   "id": "0ca391b4",
   "metadata": {},
   "outputs": [
    {
     "name": "stdout",
     "output_type": "stream",
     "text": [
      "4 4 4\n"
     ]
    }
   ],
   "source": [
    "def funcs_generator():\n",
    "    funcs = []\n",
    "    for i in range(3):\n",
    "        def f():\n",
    "            return i * 2\n",
    "        funcs.append(f)\n",
    "    return funcs\n",
    "\n",
    "f1, f2, f3 = funcs_generator()\n",
    "print(f1(), f2(), f3())\n",
    "# 4 4 4"
   ]
  },
  {
   "cell_type": "code",
   "execution_count": 5,
   "id": "198551a0",
   "metadata": {},
   "outputs": [
    {
     "name": "stdout",
     "output_type": "stream",
     "text": [
      "4 4 4\n",
      "2\n",
      "2\n",
      "2\n"
     ]
    }
   ],
   "source": [
    "def funcs_generator():\n",
    "    funcs = []\n",
    "    for i in range(3):\n",
    "        def f():\n",
    "            return i * 2\n",
    "        funcs.append(f)\n",
    "    return funcs\n",
    "\n",
    "f1, f2, f3 = funcs_generator()\n",
    "print(f1(), f2(), f3())\n",
    "# 4 4 4\n",
    "print(f1.__closure__[0].cell_contents)\n",
    "# 2\n",
    "print(f2.__closure__[0].cell_contents)\n",
    "# 2\n",
    "print(f3.__closure__[0].cell_contents)\n",
    "# 2"
   ]
  },
  {
   "cell_type": "code",
   "execution_count": 6,
   "id": "d9703898",
   "metadata": {},
   "outputs": [
    {
     "name": "stdout",
     "output_type": "stream",
     "text": [
      "0 2 4\n",
      "None\n",
      "None\n",
      "None\n"
     ]
    }
   ],
   "source": [
    "def funcs_generator():\n",
    "    funcs = []\n",
    "    for i in range(3):\n",
    "        def f(j = i):\n",
    "            return j * 2\n",
    "        funcs.append(f)\n",
    "    return funcs\n",
    "\n",
    "f1, f2, f3 = funcs_generator()\n",
    "print(f1(), f2(), f3())\n",
    "# 0 2 4\n",
    "print(f1.__closure__)\n",
    "# None\n",
    "print(f2.__closure__)\n",
    "# None\n",
    "print(f3.__closure__)\n",
    "# None"
   ]
  },
  {
   "cell_type": "code",
   "execution_count": 7,
   "id": "b340ad10",
   "metadata": {},
   "outputs": [
    {
     "name": "stdout",
     "output_type": "stream",
     "text": [
      "None\n",
      "(<cell at 0x00000245D3CFFEE0: str object at 0x00000245D5D16430>,)\n",
      "Yang Zhou\n"
     ]
    }
   ],
   "source": [
    "def outer_func():\n",
    "    leader = \"Yang Zhou\"\n",
    "    return lambda _: print(leader)\n",
    "\n",
    "f = outer_func()\n",
    "print(outer_func.__closure__)\n",
    "# None\n",
    "print(f.__closure__)\n",
    "# (<cell at 0x7f6465878070: str object at 0x7f64657afd70>,)\n",
    "print(f.__closure__[0].cell_contents)\n",
    "# Yang Zhou"
   ]
  }
 ],
 "metadata": {
  "kernelspec": {
   "display_name": "Python 3 (ipykernel)",
   "language": "python",
   "name": "python3"
  },
  "language_info": {
   "codemirror_mode": {
    "name": "ipython",
    "version": 3
   },
   "file_extension": ".py",
   "mimetype": "text/x-python",
   "name": "python",
   "nbconvert_exporter": "python",
   "pygments_lexer": "ipython3",
   "version": "3.9.15"
  },
  "toc": {
   "base_numbering": 1,
   "nav_menu": {},
   "number_sections": true,
   "sideBar": true,
   "skip_h1_title": false,
   "title_cell": "Table of Contents",
   "title_sidebar": "Contents",
   "toc_cell": false,
   "toc_position": {},
   "toc_section_display": true,
   "toc_window_display": false
  }
 },
 "nbformat": 4,
 "nbformat_minor": 5
}
