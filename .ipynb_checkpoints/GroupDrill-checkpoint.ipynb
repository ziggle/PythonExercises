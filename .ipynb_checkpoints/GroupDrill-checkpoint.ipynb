{
 "cells": [
  {
   "cell_type": "markdown",
   "id": "0f87304c",
   "metadata": {},
   "source": [
    "Group Drill: https://medium.com/@HalderNilimesh/analytics-in-python-how-to-group-rows-using-a-pandas-dataframe-4bc07656f573"
   ]
  },
  {
   "cell_type": "code",
   "execution_count": 7,
   "id": "a698cee8",
   "metadata": {},
   "outputs": [
    {
     "name": "stdout",
     "output_type": "stream",
     "text": [
      "      name  score gender\n",
      "0    Alice     80      F\n",
      "1      Bob     90      M\n",
      "2  Charlie     70      M\n",
      "3    Alice     85      F\n",
      "4      Bob     95      M\n"
     ]
    }
   ],
   "source": [
    "import pandas as pd\n",
    "\n",
    "data = {'name': ['Alice', 'Bob', 'Charlie', 'Alice', 'Bob'],\n",
    "        'score': [80, 90, 70, 85, 95],\n",
    "        'gender': ['F', 'M', 'M', 'F', 'M']}\n",
    "\n",
    "df = pd.DataFrame(data)\n",
    "\n",
    "print(df)"
   ]
  },
  {
   "cell_type": "code",
   "execution_count": 8,
   "id": "773a76d4",
   "metadata": {},
   "outputs": [],
   "source": [
    "grouped = df.groupby('name')"
   ]
  },
  {
   "cell_type": "code",
   "execution_count": 9,
   "id": "f53c4099",
   "metadata": {},
   "outputs": [
    {
     "name": "stdout",
     "output_type": "stream",
     "text": [
      "name\n",
      "Alice      82.5\n",
      "Bob        92.5\n",
      "Charlie    70.0\n",
      "Name: score, dtype: float64\n"
     ]
    }
   ],
   "source": [
    "mean_scores = grouped['score'].mean()\n",
    "print(mean_scores)"
   ]
  },
  {
   "cell_type": "code",
   "execution_count": 10,
   "id": "5012fe88",
   "metadata": {},
   "outputs": [],
   "source": [
    "grouped = df.groupby(['name', 'gender'])"
   ]
  },
  {
   "cell_type": "code",
   "execution_count": 11,
   "id": "af6c1cda",
   "metadata": {},
   "outputs": [
    {
     "name": "stdout",
     "output_type": "stream",
     "text": [
      "name     gender\n",
      "Alice    F         82.5\n",
      "Bob      M         92.5\n",
      "Charlie  M         70.0\n",
      "Name: score, dtype: float64\n"
     ]
    }
   ],
   "source": [
    "mean_scores = grouped['score'].mean()\n",
    "print(mean_scores)"
   ]
  },
  {
   "cell_type": "code",
   "execution_count": 12,
   "id": "9e1b2dd5",
   "metadata": {},
   "outputs": [
    {
     "name": "stdout",
     "output_type": "stream",
     "text": [
      "                mean  max\n",
      "name    gender           \n",
      "Alice   F       82.5   85\n",
      "Bob     M       92.5   95\n",
      "Charlie M       70.0   70\n"
     ]
    }
   ],
   "source": [
    "mean_max_scores = grouped['score'].agg(['mean', 'max'])\n",
    "print(mean_max_scores)"
   ]
  },
  {
   "cell_type": "code",
   "execution_count": 13,
   "id": "5b6f90f9",
   "metadata": {},
   "outputs": [
    {
     "name": "stdout",
     "output_type": "stream",
     "text": [
      "               score gender\n",
      "                mean    max\n",
      "name    gender             \n",
      "Alice   F       82.5      F\n",
      "Bob     M       92.5      M\n",
      "Charlie M       70.0      M\n"
     ]
    }
   ],
   "source": [
    "mean_max_scores = grouped.agg({'score': ['mean'], 'gender': ['max']})\n",
    "print(mean_max_scores)"
   ]
  }
 ],
 "metadata": {
  "kernelspec": {
   "display_name": "Python 3 (ipykernel)",
   "language": "python",
   "name": "python3"
  },
  "language_info": {
   "codemirror_mode": {
    "name": "ipython",
    "version": 3
   },
   "file_extension": ".py",
   "mimetype": "text/x-python",
   "name": "python",
   "nbconvert_exporter": "python",
   "pygments_lexer": "ipython3",
   "version": "3.9.15"
  },
  "toc": {
   "base_numbering": 1,
   "nav_menu": {},
   "number_sections": true,
   "sideBar": true,
   "skip_h1_title": false,
   "title_cell": "Table of Contents",
   "title_sidebar": "Contents",
   "toc_cell": false,
   "toc_position": {},
   "toc_section_display": true,
   "toc_window_display": false
  }
 },
 "nbformat": 4,
 "nbformat_minor": 5
}
