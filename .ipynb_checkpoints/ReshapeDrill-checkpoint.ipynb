{
 "cells": [
  {
   "cell_type": "markdown",
   "id": "a8afc061",
   "metadata": {},
   "source": [
    "https://medium.com/@arslancan.coding/reshaping-data-in-pandas-623aa9f830a1"
   ]
  },
  {
   "cell_type": "code",
   "execution_count": 8,
   "id": "c221e04e",
   "metadata": {},
   "outputs": [
    {
     "name": "stdout",
     "output_type": "stream",
     "text": [
      "    Name  Age  Gender  Salary Department\n",
      "0   John   30    Male   50000      Sales\n",
      "1   Mary   25  Female   60000  Marketing\n",
      "2  Peter   35    Male   55000      Sales\n",
      "3   Paul   28    Male   45000  Marketing\n"
     ]
    }
   ],
   "source": [
    "import pandas as pd\n",
    "data = {'Name': ['John', 'Mary', 'Peter', 'Paul'],\n",
    "        'Age': [30, 25, 35, 28],\n",
    "        'Gender': ['Male', 'Female', 'Male', 'Male'],\n",
    "        'Salary': [50000, 60000, 55000, 45000],\n",
    "        'Department': ['Sales', 'Marketing', 'Sales', 'Marketing']}\n",
    "df = pd.DataFrame(data)\n",
    "print(df)"
   ]
  },
  {
   "cell_type": "code",
   "execution_count": 7,
   "id": "b2b16249",
   "metadata": {},
   "outputs": [
    {
     "name": "stdout",
     "output_type": "stream",
     "text": [
      "Department  Marketing    Sales\n",
      "Gender                        \n",
      "Female        60000.0      NaN\n",
      "Male          45000.0  52500.0\n"
     ]
    }
   ],
   "source": [
    "pivot = df.pivot_table(index='Gender', columns='Department', values='Salary', aggfunc='mean')\n",
    "print(pivot)"
   ]
  },
  {
   "cell_type": "code",
   "execution_count": 9,
   "id": "5ead39f7",
   "metadata": {},
   "outputs": [
    {
     "name": "stdout",
     "output_type": "stream",
     "text": [
      "     Name  Age    variable      value\n",
      "0    John   30      Gender       Male\n",
      "1    Mary   25      Gender     Female\n",
      "2   Peter   35      Gender       Male\n",
      "3    Paul   28      Gender       Male\n",
      "4    John   30      Salary      50000\n",
      "5    Mary   25      Salary      60000\n",
      "6   Peter   35      Salary      55000\n",
      "7    Paul   28      Salary      45000\n",
      "8    John   30  Department      Sales\n",
      "9    Mary   25  Department  Marketing\n",
      "10  Peter   35  Department      Sales\n",
      "11   Paul   28  Department  Marketing\n"
     ]
    }
   ],
   "source": [
    "melted = pd.melt(df, id_vars=['Name', 'Age'], value_vars=['Gender', 'Salary', 'Department'])\n",
    "print(melted)"
   ]
  },
  {
   "cell_type": "code",
   "execution_count": 10,
   "id": "dd44c312",
   "metadata": {},
   "outputs": [
    {
     "name": "stdout",
     "output_type": "stream",
     "text": [
      "    Name  Age  Gender  Salary Department\n",
      "0   John   30    Male   50000      Sales\n",
      "1   Mary   25  Female   60000  Marketing\n",
      "2  Peter   35    Male   55000      Sales\n",
      "3   Paul   28    Male   45000  Marketing\n"
     ]
    }
   ],
   "source": [
    "print(df)"
   ]
  },
  {
   "cell_type": "code",
   "execution_count": 15,
   "id": "ee35a5b4",
   "metadata": {},
   "outputs": [
    {
     "name": "stdout",
     "output_type": "stream",
     "text": [
      "    Name  Age  Gender  Salary Department\n",
      "0   John   30    Male   50000      Sales\n",
      "1   Mary   25  Female   60000  Marketing\n",
      "2  Peter   35    Male   55000      Sales\n",
      "3   Paul   28    Male   45000  Marketing\n",
      "-----\n",
      "                    Name  Age  Salary\n",
      "Department Gender                    \n",
      "Sales      Male     John   30   50000\n",
      "Marketing  Female   Mary   25   60000\n",
      "Sales      Male    Peter   35   55000\n",
      "Marketing  Male     Paul   28   45000\n",
      "-----\n",
      "Department  Gender        \n",
      "Sales       Male    Name       John\n",
      "                    Age          30\n",
      "                    Salary    50000\n",
      "Marketing   Female  Name       Mary\n",
      "                    Age          25\n",
      "                    Salary    60000\n",
      "Sales       Male    Name      Peter\n",
      "                    Age          35\n",
      "                    Salary    55000\n",
      "Marketing   Male    Name       Paul\n",
      "                    Age          28\n",
      "                    Salary    45000\n",
      "dtype: object\n",
      "-----\n",
      "   Department  Gender level_2      0\n",
      "0       Sales    Male    Name   John\n",
      "1       Sales    Male     Age     30\n",
      "2       Sales    Male  Salary  50000\n",
      "3   Marketing  Female    Name   Mary\n",
      "4   Marketing  Female     Age     25\n",
      "5   Marketing  Female  Salary  60000\n",
      "6       Sales    Male    Name  Peter\n",
      "7       Sales    Male     Age     35\n",
      "8       Sales    Male  Salary  55000\n",
      "9   Marketing    Male    Name   Paul\n",
      "10  Marketing    Male     Age     28\n",
      "11  Marketing    Male  Salary  45000\n"
     ]
    }
   ],
   "source": [
    "print(df)\n",
    "print(\"-----\")\n",
    "s1 = df.set_index(['Department', 'Gender'])\n",
    "print(s1)\n",
    "print(\"-----\")\n",
    "print(s1.stack())\n",
    "print(\"-----\")\n",
    "stacked = df.set_index(['Department', 'Gender']).stack().reset_index()\n",
    "print(stacked)"
   ]
  },
  {
   "cell_type": "code",
   "execution_count": 12,
   "id": "0274f378",
   "metadata": {},
   "outputs": [
    {
     "name": "stdout",
     "output_type": "stream",
     "text": [
      "Department  0         Sales\n",
      "            1         Sales\n",
      "            2         Sales\n",
      "            3     Marketing\n",
      "            4     Marketing\n",
      "            5     Marketing\n",
      "            6         Sales\n",
      "            7         Sales\n",
      "            8         Sales\n",
      "            9     Marketing\n",
      "            10    Marketing\n",
      "            11    Marketing\n",
      "Gender      0          Male\n",
      "            1          Male\n",
      "            2          Male\n",
      "            3        Female\n",
      "            4        Female\n",
      "            5        Female\n",
      "            6          Male\n",
      "            7          Male\n",
      "            8          Male\n",
      "            9          Male\n",
      "            10         Male\n",
      "            11         Male\n",
      "level_2     0          Name\n",
      "            1           Age\n",
      "            2        Salary\n",
      "            3          Name\n",
      "            4           Age\n",
      "            5        Salary\n",
      "            6          Name\n",
      "            7           Age\n",
      "            8        Salary\n",
      "            9          Name\n",
      "            10          Age\n",
      "            11       Salary\n",
      "0           0          John\n",
      "            1            30\n",
      "            2         50000\n",
      "            3          Mary\n",
      "            4            25\n",
      "            5         60000\n",
      "            6         Peter\n",
      "            7            35\n",
      "            8         55000\n",
      "            9          Paul\n",
      "            10           28\n",
      "            11        45000\n",
      "dtype: object\n"
     ]
    }
   ],
   "source": [
    "unstacked = stacked.unstack()\n",
    "print(unstacked)"
   ]
  },
  {
   "cell_type": "code",
   "execution_count": null,
   "id": "b1fe9707",
   "metadata": {},
   "outputs": [],
   "source": []
  }
 ],
 "metadata": {
  "kernelspec": {
   "display_name": "Python 3 (ipykernel)",
   "language": "python",
   "name": "python3"
  },
  "language_info": {
   "codemirror_mode": {
    "name": "ipython",
    "version": 3
   },
   "file_extension": ".py",
   "mimetype": "text/x-python",
   "name": "python",
   "nbconvert_exporter": "python",
   "pygments_lexer": "ipython3",
   "version": "3.9.15"
  },
  "toc": {
   "base_numbering": 1,
   "nav_menu": {},
   "number_sections": true,
   "sideBar": true,
   "skip_h1_title": false,
   "title_cell": "Table of Contents",
   "title_sidebar": "Contents",
   "toc_cell": false,
   "toc_position": {},
   "toc_section_display": true,
   "toc_window_display": false
  }
 },
 "nbformat": 4,
 "nbformat_minor": 5
}
