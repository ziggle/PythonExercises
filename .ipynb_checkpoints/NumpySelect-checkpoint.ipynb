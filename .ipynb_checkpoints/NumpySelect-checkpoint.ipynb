{
 "cells": [
  {
   "cell_type": "code",
   "execution_count": 2,
   "id": "0cbe34d0",
   "metadata": {},
   "outputs": [
    {
     "name": "stdout",
     "output_type": "stream",
     "text": [
      "         name species endangered\n",
      "0        lion  mammal       True\n",
      "1       tiger  mammal       True\n",
      "2       panda  mammal       True\n",
      "3     giraffe  mammal      False\n",
      "4  xyz-unkown  mammal       None\n"
     ]
    }
   ],
   "source": [
    "import pandas as pd \n",
    "import numpy as np\n",
    "animal = pd.DataFrame(\n",
    "{'name': ['lion', 'tiger', 'panda', 'giraffe', 'xyz-unkown'], \n",
    " 'species': ['mammal', 'mammal', 'mammal', 'mammal', 'mammal'], \n",
    " 'endangered': [True, True, True, False, None]}\n",
    ")\n",
    "print(animal)"
   ]
  },
  {
   "cell_type": "code",
   "execution_count": 4,
   "id": "9b5fb019",
   "metadata": {},
   "outputs": [
    {
     "name": "stdout",
     "output_type": "stream",
     "text": [
      "         name species endangered          status\n",
      "0        lion  mammal       True      endangered\n",
      "1       tiger  mammal       True      endangered\n",
      "2       panda  mammal       True      endangered\n",
      "3     giraffe  mammal      False  not endangered\n",
      "4  xyz-unkown  mammal       None         unknown\n",
      "['endangered', 'not endangered']\n",
      "[0     True\n",
      "1     True\n",
      "2     True\n",
      "3    False\n",
      "4    False\n",
      "Name: endangered, dtype: bool, 0    False\n",
      "1    False\n",
      "2    False\n",
      "3     True\n",
      "4    False\n",
      "Name: endangered, dtype: bool]\n"
     ]
    }
   ],
   "source": [
    "condition_list = [\n",
    "    (animal[\"endangered\"] == True),\n",
    "    (animal[\"endangered\"] == False)\n",
    "]\n",
    "choice_list = [\n",
    "    \"endangered\",\n",
    "    \"not endangered\"\n",
    "]\n",
    "animal[\"status\"] = np.select(\n",
    "    condlist = condition_list,\n",
    "    choicelist = choice_list,\n",
    "    default = \"unknown\",\n",
    ")\n",
    "print(animal)\n",
    "print(choice_list)\n",
    "print(condition_list)"
   ]
  },
  {
   "cell_type": "code",
   "execution_count": 6,
   "id": "cf4f7b9c",
   "metadata": {},
   "outputs": [
    {
     "name": "stdout",
     "output_type": "stream",
     "text": [
      "[array([ True,  True,  True, False, False, False]), array([False, False, False, False,  True,  True])]\n"
     ]
    },
    {
     "data": {
      "text/plain": [
       "array([ 0,  1,  2, 42, 16, 25])"
      ]
     },
     "execution_count": 6,
     "metadata": {},
     "output_type": "execute_result"
    }
   ],
   "source": [
    "x = np.arange(6)\n",
    "condlist = [x<3, x>3]\n",
    "print(condlist)\n",
    "choicelist = [x, x**2]\n",
    "np.select(condlist, choicelist, 42)"
   ]
  }
 ],
 "metadata": {
  "kernelspec": {
   "display_name": "Python 3 (ipykernel)",
   "language": "python",
   "name": "python3"
  },
  "language_info": {
   "codemirror_mode": {
    "name": "ipython",
    "version": 3
   },
   "file_extension": ".py",
   "mimetype": "text/x-python",
   "name": "python",
   "nbconvert_exporter": "python",
   "pygments_lexer": "ipython3",
   "version": "3.9.15"
  },
  "toc": {
   "base_numbering": 1,
   "nav_menu": {},
   "number_sections": true,
   "sideBar": true,
   "skip_h1_title": false,
   "title_cell": "Table of Contents",
   "title_sidebar": "Contents",
   "toc_cell": false,
   "toc_position": {},
   "toc_section_display": true,
   "toc_window_display": false
  }
 },
 "nbformat": 4,
 "nbformat_minor": 5
}
