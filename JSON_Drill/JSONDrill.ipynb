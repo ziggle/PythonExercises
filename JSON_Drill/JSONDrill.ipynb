{
  "metadata": {
    "language_info": {
      "codemirror_mode": {
        "name": "python",
        "version": 3
      },
      "file_extension": ".py",
      "mimetype": "text/x-python",
      "name": "python",
      "nbconvert_exporter": "python",
      "pygments_lexer": "ipython3",
      "version": "3.8"
    },
    "kernelspec": {
      "name": "python",
      "display_name": "Python (Pyodide)",
      "language": "python"
    }
  },
  "nbformat_minor": 4,
  "nbformat": 4,
  "cells": [
    {
      "cell_type": "markdown",
      "source": "https://towardsdatascience.com/10-examples-to-learn-the-json-module-of-python-793e62309d64",
      "metadata": {}
    },
    {
      "cell_type": "code",
      "source": "import json\n\ndata = {\n    \"name\": \"John Doe\",\n    \"age\": 28,\n    \"city\": \"Houston\"\n}\n\njson_data = json.dumps(data)\nprint(json_data)\n\n# output\n{\"name\": \"John Doe\", \"age\": 28, \"city\": \"Houston\"}",
      "metadata": {
        "trusted": true
      },
      "execution_count": null,
      "outputs": []
    },
    {
      "cell_type": "code",
      "source": "type(json_data)\n\n# output\nstr",
      "metadata": {
        "trusted": true
      },
      "execution_count": null,
      "outputs": []
    },
    {
      "cell_type": "code",
      "source": "import json\n\ndata = {\n    \"name\": \"John Doe\",\n    \"age\": 28,\n    \"city\": \"Houston\"\n}\n\njson_data = json.dumps(data, indent=4)\nprint(json_data)\n\n# output\n{\n    \"name\": \"John Doe\",\n    \"age\": 28,\n    \"city\": \"Houston\"\n}",
      "metadata": {
        "trusted": true
      },
      "execution_count": null,
      "outputs": []
    },
    {
      "cell_type": "code",
      "source": "import json\n\ndata = {\n    \"name\": \"John Doe\",\n    \"age\": 28,\n    \"city\": \"Houston\"\n}\n\njson_data = json.dumps(data, sort_keys=True, indent=4)\nprint(json_data)\n\n# output\n{\n    \"age\": 28,\n    \"city\": \"Houston\",\n    \"name\": \"John Doe\"\n}",
      "metadata": {
        "trusted": true
      },
      "execution_count": null,
      "outputs": []
    },
    {
      "cell_type": "code",
      "source": "import json\n\njson_data = '{\"name\": \"John Doe\", \"age\": 28, \"city\": \"Houston\"}'\ndata = json.loads(json_data)\n\nprint(data)\nprint(data['name'])  # Accessing value of the 'name' key\n\n# output\n{'name': 'John Doe', 'age': 28, 'city': 'Houston'}\n",
      "metadata": {
        "trusted": true
      },
      "execution_count": null,
      "outputs": []
    },
    {
      "cell_type": "code",
      "source": "type(data)\n\n# output\ndict",
      "metadata": {
        "trusted": true
      },
      "execution_count": null,
      "outputs": []
    },
    {
      "cell_type": "code",
      "source": "import json\n\ndata = {\n    \"name\": \"John Doe\",\n    \"age\": 28,\n    \"city\": \"Houston\"\n}\n\nwith open('data.json', 'w') as file:\n    json.dump(data, file)",
      "metadata": {
        "trusted": true
      },
      "execution_count": null,
      "outputs": []
    },
    {
      "cell_type": "code",
      "source": "import json\n\nwith open('data.json', 'r') as file:\n    data = json.load(file)\n\nprint(data)\n\n# output\n{'name': 'John Doe', 'age': 28, 'city': 'Houston'}",
      "metadata": {
        "trusted": true
      },
      "execution_count": null,
      "outputs": []
    },
    {
      "cell_type": "code",
      "source": "import json\n\ndata = {\n    \"name\": \"John Doe\",\n    \"age\": 28,\n    \"city\": \"Houston\",\n    \"birthday\": datetime.datetime.now()\n}\n\njson_data = json.dumps(data, indent=4)\n",
      "metadata": {
        "trusted": true
      },
      "execution_count": null,
      "outputs": []
    },
    {
      "cell_type": "code",
      "source": "import json\nimport datetime\n\ndef datetime_serializer(x):\n    if isinstance(x, datetime.datetime):\n        return x.isoformat()\n    \ndata = {\n    \"name\": \"John Doe\",\n    \"age\": 28,\n    \"city\": \"Houston\",\n    \"birthday\": datetime.datetime.now()\n}\n\njson_data = json.dumps(data, indent=4, default=datetime_serializer)\nprint(json_data)\n",
      "metadata": {
        "trusted": true
      },
      "execution_count": null,
      "outputs": []
    },
    {
      "cell_type": "code",
      "source": "class Person:\n    def __init__(self, name, age):\n        self.name = name\n        self.age = age\n\nperson = Person(\"John\", 30)\njson.dumps(person)  # Raises TypeError",
      "metadata": {
        "trusted": true
      },
      "execution_count": null,
      "outputs": []
    },
    {
      "cell_type": "code",
      "source": "class Person:\n    def __init__(self, name, age):\n        self.name = name\n        self.age = age\n\ndef person_to_dict(person):\n    return {\"name\": person.name, \"age\": person.age}\n\nperson = Person(\"John\", 30)\njson.dumps(person, default=person_to_dict)\n\n# output\n'{\"name\": \"John\", \"age\": 30}'",
      "metadata": {
        "trusted": true
      },
      "execution_count": null,
      "outputs": []
    },
    {
      "cell_type": "code",
      "source": "import json\n\nclass Person:\n    def __init__(self, name, age):\n        self.name = name\n        self.age = age\n\n        \nclass PersonEncoder(json.JSONEncoder):\n    def default(self, o):\n        if isinstance(o, Person):\n            return {'name': o.name, 'age': o.age}\n        return super().default(o)\n\n\nperson = Person(\"John\", 30)\njson.dumps(person, cls=PersonEncoder)\n\n# output\n'{\"name\": \"John\", \"age\": 30}'",
      "metadata": {
        "trusted": true
      },
      "execution_count": null,
      "outputs": []
    },
    {
      "cell_type": "code",
      "source": "import json\n\ndata = {\n  (1, 2): \"tuple_key\",\n  \"normal_key\": \"value\"\n}\n\nprint(json.dumps(data))\n\n# output\nTypeError: keys must be str, int, float, bool or None, not tuple",
      "metadata": {
        "trusted": true
      },
      "execution_count": null,
      "outputs": []
    },
    {
      "cell_type": "code",
      "source": "import json\n\ndata = {\n  (1,2): \"tuple_key\",  # tuple as keys are not JSON-serializable\n  \"normal_key\": \"value\"\n}\n\nprint(json.dumps(data, skipkeys=True))\n\n# output\n{\"normal_key\": \"value\"}",
      "metadata": {
        "trusted": true
      },
      "execution_count": null,
      "outputs": []
    },
    {
      "cell_type": "code",
      "source": "",
      "metadata": {},
      "execution_count": null,
      "outputs": []
    }
  ]
}