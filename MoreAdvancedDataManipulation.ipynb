{
 "cells": [
  {
   "cell_type": "markdown",
   "metadata": {},
   "source": [
    "https://medium.com/codex/python-pro-tips-8-advance-data-manipulation-functions-worth-looking-at-41f4719bd2e4"
   ]
  },
  {
   "cell_type": "code",
   "execution_count": 4,
   "metadata": {},
   "outputs": [
    {
     "data": {
      "text/html": [
       "<div>\n",
       "<style scoped>\n",
       "    .dataframe tbody tr th:only-of-type {\n",
       "        vertical-align: middle;\n",
       "    }\n",
       "\n",
       "    .dataframe tbody tr th {\n",
       "        vertical-align: top;\n",
       "    }\n",
       "\n",
       "    .dataframe thead th {\n",
       "        text-align: right;\n",
       "    }\n",
       "</style>\n",
       "<table border=\"1\" class=\"dataframe\">\n",
       "  <thead>\n",
       "    <tr style=\"text-align: right;\">\n",
       "      <th></th>\n",
       "      <th>Name</th>\n",
       "      <th>Items</th>\n",
       "    </tr>\n",
       "  </thead>\n",
       "  <tbody>\n",
       "    <tr>\n",
       "      <th>0</th>\n",
       "      <td>John</td>\n",
       "      <td>apple</td>\n",
       "    </tr>\n",
       "    <tr>\n",
       "      <th>0</th>\n",
       "      <td>John</td>\n",
       "      <td>banana</td>\n",
       "    </tr>\n",
       "    <tr>\n",
       "      <th>0</th>\n",
       "      <td>John</td>\n",
       "      <td>orange</td>\n",
       "    </tr>\n",
       "    <tr>\n",
       "      <th>1</th>\n",
       "      <td>Mike</td>\n",
       "      <td>car</td>\n",
       "    </tr>\n",
       "    <tr>\n",
       "      <th>1</th>\n",
       "      <td>Mike</td>\n",
       "      <td>bike</td>\n",
       "    </tr>\n",
       "  </tbody>\n",
       "</table>\n",
       "</div>"
      ],
      "text/plain": [
       "   Name   Items\n",
       "0  John   apple\n",
       "0  John  banana\n",
       "0  John  orange\n",
       "1  Mike     car\n",
       "1  Mike    bike"
      ]
     },
     "execution_count": 4,
     "metadata": {},
     "output_type": "execute_result"
    }
   ],
   "source": [
    "# Explode\n",
    "import pandas as pd\n",
    "# Create a sample dataframe\n",
    "data = {'Name': ['John', 'Mike'], 'Items': [['apple', 'banana', 'orange'], ['car', 'bike']]}\n",
    "df = pd.DataFrame(data)\n",
    "# Use the explode function to transform the 'Items' column into multiple rows\n",
    "df_explode = df.explode('Items')\n",
    "df_explode"
   ]
  },
  {
   "cell_type": "code",
   "execution_count": 6,
   "metadata": {},
   "outputs": [
    {
     "name": "stdout",
     "output_type": "stream",
     "text": [
      "   Name                    Items\n",
      "0  John  [apple, banana, orange]\n",
      "1  Mike              [car, bike]\n"
     ]
    }
   ],
   "source": [
    "# Implode\n",
    "# Group by column 'A' and aggregate column 'B' using list as aggregation function\n",
    "df_implode = df_explode.groupby('Name', as_index=False).agg(lambda x: x.tolist())\n",
    "\n",
    "# Print the dataframe\n",
    "print(df_implode)"
   ]
  },
  {
   "cell_type": "code",
   "execution_count": 10,
   "metadata": {},
   "outputs": [
    {
     "name": "stdout",
     "output_type": "stream",
     "text": [
      "   Name  Item1   Item2   Item3\n",
      "0  John  apple  banana  orange\n",
      "1  Mike    car    bike     bus\n",
      "   Name Item Type Item Name\n",
      "0  John     Item1     apple\n",
      "1  Mike     Item1       car\n",
      "2  John     Item2    banana\n",
      "3  Mike     Item2      bike\n",
      "4  John     Item3    orange\n",
      "5  Mike     Item3       bus\n"
     ]
    }
   ],
   "source": [
    "# melt\n",
    "import pandas as pd\n",
    "\n",
    "# Create a sample dataframe\n",
    "data = {'Name': ['John', 'Mike'], 'Item1': ['apple', 'car'], 'Item2': ['banana', 'bike'], 'Item3': ['orange', 'bus']}\n",
    "df = pd.DataFrame(data)\n",
    "print(df)\n",
    "# Use the melt function to reshape the DataFrame\n",
    "df = df.melt(id_vars=['Name'], value_vars=['Item1', 'Item2', 'Item3'], var_name='Item Type', value_name='Item Name')\n",
    "\n",
    "print(df)"
   ]
  },
  {
   "cell_type": "code",
   "execution_count": 12,
   "metadata": {},
   "outputs": [
    {
     "name": "stdout",
     "output_type": "stream",
     "text": [
      "   Name    Item  Quantity\n",
      "0  John   apple         1\n",
      "1  Mike     car         2\n",
      "2  John  banana         3\n",
      "3  Mike    bike         4\n",
      "Item  apple  banana  bike  car\n",
      "Name                          \n",
      "John      1       3     0    0\n",
      "Mike      0       0     4    2\n"
     ]
    }
   ],
   "source": [
    "# pivot_table\n",
    "import pandas as pd\n",
    "\n",
    "# Create a sample dataframe\n",
    "data = {'Name': ['John', 'Mike', 'John', 'Mike'], 'Item': ['apple', 'car', 'banana', 'bike'], 'Quantity': [1, 2, 3, 4]}\n",
    "df = pd.DataFrame(data)\n",
    "print(df)\n",
    "\n",
    "# Use the pivot_table function to create a pivot table\n",
    "table = df.pivot_table( index='Name', columns='Item', values='Quantity', aggfunc='sum', fill_value=0)\n",
    "print(table)"
   ]
  },
  {
   "cell_type": "code",
   "execution_count": 15,
   "metadata": {},
   "outputs": [
    {
     "name": "stdout",
     "output_type": "stream",
     "text": [
      "Name  Item  \n",
      "John  apple     1\n",
      "      banana    3\n",
      "      bike      0\n",
      "      car       0\n",
      "Mike  apple     0\n",
      "      banana    0\n",
      "      bike      4\n",
      "      car       2\n",
      "dtype: int64\n",
      "Item  apple  banana  bike  car\n",
      "Name                          \n",
      "John      1       3     0    0\n",
      "Mike      0       0     4    2\n"
     ]
    }
   ],
   "source": [
    "# Stack\n",
    "# Using the df created above \n",
    "# Use the stack function to change the shape of pivoted DataFrame\n",
    "df_stack = table.stack()\n",
    "print(df_stack)\n",
    "# Use the unstack function to change the shape of the stacked DataFrame\n",
    "df_unstack = df_stack.unstack()\n",
    "print(df_unstack)"
   ]
  },
  {
   "cell_type": "code",
   "execution_count": 17,
   "metadata": {},
   "outputs": [
    {
     "name": "stdout",
     "output_type": "stream",
     "text": [
      "   Name    Item  Quantity\n",
      "0  John   apple         1\n",
      "1  Mike     car         2\n",
      "2  John  banana         3\n",
      "3  Mike    bike         4\n"
     ]
    },
    {
     "data": {
      "text/html": [
       "<div>\n",
       "<style scoped>\n",
       "    .dataframe tbody tr th:only-of-type {\n",
       "        vertical-align: middle;\n",
       "    }\n",
       "\n",
       "    .dataframe tbody tr th {\n",
       "        vertical-align: top;\n",
       "    }\n",
       "\n",
       "    .dataframe thead th {\n",
       "        text-align: right;\n",
       "    }\n",
       "</style>\n",
       "<table border=\"1\" class=\"dataframe\">\n",
       "  <thead>\n",
       "    <tr style=\"text-align: right;\">\n",
       "      <th>Item</th>\n",
       "      <th>apple</th>\n",
       "      <th>banana</th>\n",
       "      <th>bike</th>\n",
       "      <th>car</th>\n",
       "    </tr>\n",
       "    <tr>\n",
       "      <th>Name</th>\n",
       "      <th></th>\n",
       "      <th></th>\n",
       "      <th></th>\n",
       "      <th></th>\n",
       "    </tr>\n",
       "  </thead>\n",
       "  <tbody>\n",
       "    <tr>\n",
       "      <th>John</th>\n",
       "      <td>1</td>\n",
       "      <td>1</td>\n",
       "      <td>0</td>\n",
       "      <td>0</td>\n",
       "    </tr>\n",
       "    <tr>\n",
       "      <th>Mike</th>\n",
       "      <td>0</td>\n",
       "      <td>0</td>\n",
       "      <td>1</td>\n",
       "      <td>1</td>\n",
       "    </tr>\n",
       "  </tbody>\n",
       "</table>\n",
       "</div>"
      ],
      "text/plain": [
       "Item  apple  banana  bike  car\n",
       "Name                          \n",
       "John      1       1     0    0\n",
       "Mike      0       0     1    1"
      ]
     },
     "execution_count": 17,
     "metadata": {},
     "output_type": "execute_result"
    }
   ],
   "source": [
    "# crosstab\n",
    "\n",
    "import pandas as pd\n",
    "\n",
    "# Create a sample dataframe\n",
    "data = {'Name': ['John', 'Mike', 'John', 'Mike'], 'Item': ['apple', 'car', 'banana', 'bike'], 'Quantity': [1, 2, 3, 4]}\n",
    "df = pd.DataFrame(data)\n",
    "print(df)\n",
    "\n",
    "# Use the crosstab function to create a cross-tabulation of the Name and Item columns\n",
    "pd.crosstab(df['Name'], df['Item'])\n",
    "\n"
   ]
  },
  {
   "cell_type": "code",
   "execution_count": 18,
   "metadata": {},
   "outputs": [
    {
     "data": {
      "text/html": [
       "<div>\n",
       "<style scoped>\n",
       "    .dataframe tbody tr th:only-of-type {\n",
       "        vertical-align: middle;\n",
       "    }\n",
       "\n",
       "    .dataframe tbody tr th {\n",
       "        vertical-align: top;\n",
       "    }\n",
       "\n",
       "    .dataframe thead th {\n",
       "        text-align: right;\n",
       "    }\n",
       "</style>\n",
       "<table border=\"1\" class=\"dataframe\">\n",
       "  <thead>\n",
       "    <tr style=\"text-align: right;\">\n",
       "      <th></th>\n",
       "      <th>A</th>\n",
       "      <th>binned_A</th>\n",
       "      <th>binned_A_qcut</th>\n",
       "    </tr>\n",
       "  </thead>\n",
       "  <tbody>\n",
       "    <tr>\n",
       "      <th>0</th>\n",
       "      <td>1</td>\n",
       "      <td>(0, 3]</td>\n",
       "      <td>(0.999, 4.0]</td>\n",
       "    </tr>\n",
       "    <tr>\n",
       "      <th>1</th>\n",
       "      <td>2</td>\n",
       "      <td>(0, 3]</td>\n",
       "      <td>(0.999, 4.0]</td>\n",
       "    </tr>\n",
       "    <tr>\n",
       "      <th>2</th>\n",
       "      <td>3</td>\n",
       "      <td>(0, 3]</td>\n",
       "      <td>(0.999, 4.0]</td>\n",
       "    </tr>\n",
       "    <tr>\n",
       "      <th>3</th>\n",
       "      <td>4</td>\n",
       "      <td>(3, 6]</td>\n",
       "      <td>(0.999, 4.0]</td>\n",
       "    </tr>\n",
       "    <tr>\n",
       "      <th>4</th>\n",
       "      <td>5</td>\n",
       "      <td>(3, 6]</td>\n",
       "      <td>(4.0, 7.0]</td>\n",
       "    </tr>\n",
       "    <tr>\n",
       "      <th>5</th>\n",
       "      <td>6</td>\n",
       "      <td>(3, 6]</td>\n",
       "      <td>(4.0, 7.0]</td>\n",
       "    </tr>\n",
       "    <tr>\n",
       "      <th>6</th>\n",
       "      <td>7</td>\n",
       "      <td>(6, 10]</td>\n",
       "      <td>(4.0, 7.0]</td>\n",
       "    </tr>\n",
       "    <tr>\n",
       "      <th>7</th>\n",
       "      <td>8</td>\n",
       "      <td>(6, 10]</td>\n",
       "      <td>(7.0, 10.0]</td>\n",
       "    </tr>\n",
       "    <tr>\n",
       "      <th>8</th>\n",
       "      <td>9</td>\n",
       "      <td>(6, 10]</td>\n",
       "      <td>(7.0, 10.0]</td>\n",
       "    </tr>\n",
       "    <tr>\n",
       "      <th>9</th>\n",
       "      <td>10</td>\n",
       "      <td>(6, 10]</td>\n",
       "      <td>(7.0, 10.0]</td>\n",
       "    </tr>\n",
       "  </tbody>\n",
       "</table>\n",
       "</div>"
      ],
      "text/plain": [
       "    A binned_A binned_A_qcut\n",
       "0   1   (0, 3]  (0.999, 4.0]\n",
       "1   2   (0, 3]  (0.999, 4.0]\n",
       "2   3   (0, 3]  (0.999, 4.0]\n",
       "3   4   (3, 6]  (0.999, 4.0]\n",
       "4   5   (3, 6]    (4.0, 7.0]\n",
       "5   6   (3, 6]    (4.0, 7.0]\n",
       "6   7  (6, 10]    (4.0, 7.0]\n",
       "7   8  (6, 10]   (7.0, 10.0]\n",
       "8   9  (6, 10]   (7.0, 10.0]\n",
       "9  10  (6, 10]   (7.0, 10.0]"
      ]
     },
     "execution_count": 18,
     "metadata": {},
     "output_type": "execute_result"
    }
   ],
   "source": [
    "# cut and qcut\n",
    "import pandas as pd\n",
    "\n",
    "# Create a sample dataframe\n",
    "df = pd.DataFrame({'A': [1, 2, 3, 4, 5, 6, 7, 8, 9, 10]})\n",
    "\n",
    "# Divide the column 'A' into 3 bins using the cut function\n",
    "bins = [0, 3, 6, 10]\n",
    "df['binned_A'] = pd.cut(df['A'], bins)\n",
    "\n",
    "# Divide the column 'A' into 3 bins of equal number of observations using the qcut function\n",
    "df['binned_A_qcut'] = pd.qcut(df['A'], 3)\n",
    "\n",
    "# Print the dataframe\n",
    "df"
   ]
  }
 ],
 "metadata": {
  "kernelspec": {
   "display_name": "Python 3",
   "language": "python",
   "name": "python3"
  },
  "language_info": {
   "codemirror_mode": {
    "name": "ipython",
    "version": 3
   },
   "file_extension": ".py",
   "mimetype": "text/x-python",
   "name": "python",
   "nbconvert_exporter": "python",
   "pygments_lexer": "ipython3",
   "version": "3.8.5"
  }
 },
 "nbformat": 4,
 "nbformat_minor": 4
}
