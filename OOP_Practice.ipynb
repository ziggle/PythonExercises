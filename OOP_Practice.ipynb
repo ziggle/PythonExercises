{
 "cells": [
  {
   "cell_type": "markdown",
   "metadata": {},
   "source": [
    "https://medium.com/illumination/mastering-oop-in-python-e56c270ceee"
   ]
  },
  {
   "cell_type": "code",
   "execution_count": 14,
   "metadata": {},
   "outputs": [],
   "source": [
    "class Person:\n",
    "    def __init__(self, name, age):\n",
    "        \"\"\" Initializing attributes \"\"\"\n",
    "        self.name = name\n",
    "        self.age = age"
   ]
  },
  {
   "cell_type": "code",
   "execution_count": 15,
   "metadata": {},
   "outputs": [],
   "source": [
    "person1 = Person(\"John\", 25)\n",
    "person2 = Person(\"Alice\", 30)"
   ]
  },
  {
   "cell_type": "code",
   "execution_count": 16,
   "metadata": {},
   "outputs": [
    {
     "name": "stdout",
     "output_type": "stream",
     "text": [
      "Name: John  Age: 25\n"
     ]
    }
   ],
   "source": [
    "class Person:\n",
    "    def __init__(self, name, age):\n",
    "        \"\"\" Initializing attributes \"\"\"\n",
    "        self.name = name\n",
    "        self.age = age\n",
    "\n",
    "    def get_info(self):\n",
    "        \"\"\"Method\"\"\"\n",
    "        print(\"Name:\", self.name, \" Age:\", self.age)\n",
    "\n",
    "#Creating a unique object\n",
    "person1 = Person(\"John\", 25)\n",
    "\n",
    "#Calling a method with a notation\n",
    "person1.get_info()"
   ]
  },
  {
   "cell_type": "code",
   "execution_count": 17,
   "metadata": {},
   "outputs": [
    {
     "name": "stdout",
     "output_type": "stream",
     "text": [
      "25\n",
      "27\n"
     ]
    }
   ],
   "source": [
    "class MathUtils:\n",
    "    @staticmethod\n",
    "    def square(x):\n",
    "        return x * x\n",
    "\n",
    "    @staticmethod\n",
    "    def cube(x):\n",
    "        return x * x * x\n",
    "\n",
    "#Calling static methods directly\n",
    "result1 = MathUtils.square(5)\n",
    "print(result1)  # Output: 25\n",
    "\n",
    "result2 = MathUtils.cube(3)\n",
    "print(result2)  # Output: 27"
   ]
  },
  {
   "cell_type": "code",
   "execution_count": 23,
   "metadata": {},
   "outputs": [
    {
     "data": {
      "text/plain": [
       "'Name: Alice, Company: XYZ Corp'"
      ]
     },
     "execution_count": 23,
     "metadata": {},
     "output_type": "execute_result"
    }
   ],
   "source": [
    "class Person:\n",
    "    def __init__(self, name):\n",
    "        self.name = name\n",
    "\n",
    "    def get_details(self):\n",
    "        return f\"Name: {self.name}\"\n",
    "\n",
    "class Employer(Person):\n",
    "    def __init__(self, name, company):\n",
    "        super().__init__(name)\n",
    "        self.company = company\n",
    "\n",
    "    def get_details(self):\n",
    "        return f'Name: {self.name}, Company: {self.company}'\n",
    "\n",
    "#Creating objects of different classes\n",
    "person = Person(\"John\")\n",
    "employer = Employer(\"Alice\", \"XYZ Corp\")\n",
    "\n",
    "#Calling the function with different objects\n",
    "person.get_details()  # Output: Name: John\n",
    "employer.get_details()  # Output: Name: Alice, Company: XYZ Corp"
   ]
  },
  {
   "cell_type": "code",
   "execution_count": 25,
   "metadata": {},
   "outputs": [
    {
     "name": "stdout",
     "output_type": "stream",
     "text": [
      "1000\n",
      "1500\n",
      "Insufficient balance.\n"
     ]
    }
   ],
   "source": [
    "class BankAccount:\n",
    "    def __init__(self, account_number, balance):\n",
    "        self.account_number = account_number\n",
    "        self.__balance = balance  # Private attribute\n",
    "\n",
    "    def get_balance(self):\n",
    "        return self.__balance\n",
    "\n",
    "    def deposit(self, amount):\n",
    "        self.__balance += amount\n",
    "\n",
    "    def withdraw(self, amount):\n",
    "        if self.__balance >= amount:\n",
    "            self.__balance -= amount\n",
    "        else:\n",
    "            print(\"Insufficient balance.\")\n",
    "\n",
    "# Creating a BankAccount object\n",
    "account = BankAccount(\"123456789\", 1000)\n",
    "\n",
    "# attributes and calling methods\n",
    "print(account.get_balance())  # Output: 1000\n",
    "account.deposit(500)\n",
    "print(account.get_balance())  # Output: 1500\n",
    "account.withdraw(2000)  #Output: Insufficient balance"
   ]
  }
 ],
 "metadata": {
  "kernelspec": {
   "display_name": "Python 3",
   "language": "python",
   "name": "python3"
  },
  "language_info": {
   "codemirror_mode": {
    "name": "ipython",
    "version": 3
   },
   "file_extension": ".py",
   "mimetype": "text/x-python",
   "name": "python",
   "nbconvert_exporter": "python",
   "pygments_lexer": "ipython3",
   "version": "3.8.5"
  }
 },
 "nbformat": 4,
 "nbformat_minor": 4
}
