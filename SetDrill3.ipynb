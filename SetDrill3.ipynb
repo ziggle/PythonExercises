{
 "cells": [
  {
   "cell_type": "markdown",
   "metadata": {},
   "source": [
    "https://medium.com/geekculture/working-with-sets-in-python-850fc3f2774f"
   ]
  },
  {
   "cell_type": "code",
   "execution_count": 1,
   "metadata": {},
   "outputs": [
    {
     "name": "stdout",
     "output_type": "stream",
     "text": [
      "{'Yamaha', 'Ducati', 'MV Augusta', 'Aprilia'}\n"
     ]
    },
    {
     "data": {
      "text/plain": [
       "{'Aprilia', 'Ducati', 'MV Augusta', 'Yamaha'}"
      ]
     },
     "execution_count": 1,
     "metadata": {},
     "output_type": "execute_result"
    }
   ],
   "source": [
    "# Create a set called motorbikes using curly brackets.\n",
    "motorbikes = {\"Ducati\", \"Aprilia\", \"MV Augusta\", \"Yamaha\"}\n",
    "\n",
    "# Create the same set using the set() function and a list of bikes.\n",
    "motorbikes = set([\"Ducati\", \"Aprilia\", \"MV Augusta\", \"Yamaha\"])\n",
    "\n",
    "print(motorbikes)\n",
    "{'Ducati', 'Yamaha', 'Aprilia', 'MV Augusta'}"
   ]
  },
  {
   "cell_type": "code",
   "execution_count": 2,
   "metadata": {},
   "outputs": [
    {
     "name": "stdout",
     "output_type": "stream",
     "text": [
      "{'Ducati', 'MV Augusta', 'Yamaha', 'Aprilia'}\n"
     ]
    },
    {
     "data": {
      "text/plain": [
       "{'Aprilia', 'Ducati', 'MV Augusta', 'Yamaha'}"
      ]
     },
     "execution_count": 2,
     "metadata": {},
     "output_type": "execute_result"
    }
   ],
   "source": [
    "# Create a set with duplicate values\n",
    "\n",
    "motorbikes = {\"Ducati\", \"Aprilia\", \"MV Augusta\", \"Aprilia\", \"Yamaha\"}\n",
    "print(motorbikes)\n",
    "{'Yamaha', 'MV Augusta', 'Aprilia', 'Ducati'}"
   ]
  },
  {
   "cell_type": "code",
   "execution_count": 3,
   "metadata": {},
   "outputs": [
    {
     "name": "stdout",
     "output_type": "stream",
     "text": [
      "{20, 'Yamaha', 'Ducati', 41, 'Aprilia', 93}\n"
     ]
    },
    {
     "data": {
      "text/plain": [
       "{20, 41, 93, 'Aprilia', 'Ducati', 'Yamaha'}"
      ]
     },
     "execution_count": 3,
     "metadata": {},
     "output_type": "execute_result"
    }
   ],
   "source": [
    "# Create a set with mixed data types\n",
    "\n",
    "mixed = {93, \"Ducati\", 41, \"Aprilia\", 20, \"Yamaha\"}\n",
    "print(mixed)\n",
    "{'Aprilia', 'Yamaha', 41, 20, 'Ducati', 93}"
   ]
  },
  {
   "cell_type": "code",
   "execution_count": 4,
   "metadata": {},
   "outputs": [
    {
     "data": {
      "text/plain": [
       "4"
      ]
     },
     "execution_count": 4,
     "metadata": {},
     "output_type": "execute_result"
    }
   ],
   "source": [
    "# Determine the number of elements in motorbikes\n",
    "len(motorbikes)"
   ]
  },
  {
   "cell_type": "code",
   "execution_count": 5,
   "metadata": {},
   "outputs": [
    {
     "name": "stdout",
     "output_type": "stream",
     "text": [
      "{'Honda', 'Yamaha', 'Aprilia', 'Ducati', 'MV Augusta'}\n"
     ]
    },
    {
     "data": {
      "text/plain": [
       "{'Aprilia', 'Ducati', 'Honda', 'MV Augusta', 'Yamaha'}"
      ]
     },
     "execution_count": 5,
     "metadata": {},
     "output_type": "execute_result"
    }
   ],
   "source": [
    "# Add Honda to motorbikes\n",
    "\n",
    "motorbikes.add(\"Honda\")\n",
    "print(motorbikes)\n",
    "{'Aprilia', 'Ducati', 'Honda', 'MV Augusta', 'Yamaha'}"
   ]
  },
  {
   "cell_type": "code",
   "execution_count": 7,
   "metadata": {},
   "outputs": [
    {
     "name": "stdout",
     "output_type": "stream",
     "text": [
      "{'Yamaha', 'Aprilia', 'Ducati', 'MV Augusta'}\n"
     ]
    },
    {
     "data": {
      "text/plain": [
       "{'Aprilia', 'Ducati', 'MV Augusta', 'Yamaha'}"
      ]
     },
     "execution_count": 7,
     "metadata": {},
     "output_type": "execute_result"
    }
   ],
   "source": [
    "# Remove Honda from motorbikes.\n",
    "\n",
    "motorbikes.remove(\"Honda\")\n",
    "print(motorbikes)\n",
    "{'Aprilia', 'Ducati', 'MV Augusta', 'Yamaha'}"
   ]
  },
  {
   "cell_type": "code",
   "execution_count": 8,
   "metadata": {},
   "outputs": [
    {
     "data": {
      "text/plain": [
       "{'Aprilia', 'Ducati', 'Yamaha'}"
      ]
     },
     "execution_count": 8,
     "metadata": {},
     "output_type": "execute_result"
    }
   ],
   "source": [
    "# Remove an element from motorbikes using pop()\n",
    "\n",
    "motorbikes.pop()\n",
    "'MV Augusta'\n",
    "\n",
    "motorbikes\n",
    "{'Aprilia', 'Ducati', 'Yamaha'}"
   ]
  },
  {
   "cell_type": "code",
   "execution_count": 9,
   "metadata": {},
   "outputs": [],
   "source": [
    "A = {1, 3, 2, 5, 6}\n",
    "\n",
    "B = {2, 4, 5, 8, 9}"
   ]
  },
  {
   "cell_type": "code",
   "execution_count": 10,
   "metadata": {},
   "outputs": [
    {
     "data": {
      "text/plain": [
       "{1, 2, 3, 4, 5, 6, 8, 9}"
      ]
     },
     "execution_count": 10,
     "metadata": {},
     "output_type": "execute_result"
    }
   ],
   "source": [
    "# Compute the union between A and B using the union() method.\n",
    "A = {1, 3, 2, 5, 6}\n",
    "\n",
    "B = {2, 4, 5, 8, 9}\n",
    "\n",
    "A.union(B)\n",
    "{1, 2, 3, 4, 5, 6, 8, 9}\n",
    "\n",
    "# Now let's use | to compute the union of A and B.\n",
    "\n",
    "A | B\n",
    "{1, 2, 3, 4, 5, 6, 8, 9}"
   ]
  },
  {
   "cell_type": "code",
   "execution_count": 11,
   "metadata": {},
   "outputs": [
    {
     "name": "stdout",
     "output_type": "stream",
     "text": [
      "{1, 2, 3, 4, 5, 6, 8, 9}\n",
      "{1, 2, 3, 4, 5, 6, 8, 9}\n"
     ]
    },
    {
     "data": {
      "text/plain": [
       "{1, 2, 3, 4, 5, 6, 8, 9}"
      ]
     },
     "execution_count": 11,
     "metadata": {},
     "output_type": "execute_result"
    }
   ],
   "source": [
    "# Update set A with the elements of A or B using the update() method.\n",
    "\n",
    "A.update(B)\n",
    "print(A)\n",
    "{1, 2, 3, 4, 5, 6, 8, 9}\n",
    "\n",
    "# Now use the |= symbol.\n",
    "\n",
    "A |= B\n",
    "print(A)\n",
    "{1, 2, 3, 4, 5, 6, 8, 9}"
   ]
  },
  {
   "cell_type": "code",
   "execution_count": 12,
   "metadata": {},
   "outputs": [
    {
     "data": {
      "text/plain": [
       "{2, 5}"
      ]
     },
     "execution_count": 12,
     "metadata": {},
     "output_type": "execute_result"
    }
   ],
   "source": [
    "# Compute the intersection of sets A and B using the intersection() method.\n",
    "\n",
    "A = {1, 3, 2, 5, 6}\n",
    "\n",
    "B = {2, 4, 5, 8, 9}\n",
    "\n",
    "A.intersection(B)\n",
    "{2, 5}\n",
    "\n",
    "# We can compute the intersection of set A and B using the & symbol.\n",
    "\n",
    "A & B\n",
    "{2, 5}"
   ]
  },
  {
   "cell_type": "code",
   "execution_count": 13,
   "metadata": {},
   "outputs": [
    {
     "name": "stdout",
     "output_type": "stream",
     "text": [
      "{2, 5}\n",
      "{2, 5}\n"
     ]
    },
    {
     "data": {
      "text/plain": [
       "{2, 5}"
      ]
     },
     "execution_count": 13,
     "metadata": {},
     "output_type": "execute_result"
    }
   ],
   "source": [
    "# Use intersection_update() to update set A to contain \n",
    "# the intersection of A and B.\n",
    "\n",
    "A.intersection_update(B)\n",
    "print(A)\n",
    "{2, 5}\n",
    "\n",
    "# Use the &= symbol.\n",
    "\n",
    "A &= B\n",
    "print(A)\n",
    "{2, 5}"
   ]
  },
  {
   "cell_type": "code",
   "execution_count": 14,
   "metadata": {},
   "outputs": [
    {
     "name": "stdout",
     "output_type": "stream",
     "text": [
      "{1, 2, 3, 5, 6}\n",
      "{1, 2, 3, 5, 6}\n"
     ]
    },
    {
     "data": {
      "text/plain": [
       "{1, 3, 6}"
      ]
     },
     "execution_count": 14,
     "metadata": {},
     "output_type": "execute_result"
    }
   ],
   "source": [
    "# Calculate the difference between A and B\n",
    "\n",
    "A = {1, 3, 2, 5, 6}\n",
    "\n",
    "B = {2, 4, 5, 8, 9}\n",
    "\n",
    "A.difference(B)\n",
    "print(A)\n",
    "{1, 3, 6}\n",
    "\n",
    "# Use the - symbol\n",
    "\n",
    "A - B \n",
    "print(A)\n",
    "{1, 3, 6}"
   ]
  },
  {
   "cell_type": "code",
   "execution_count": 15,
   "metadata": {},
   "outputs": [
    {
     "name": "stdout",
     "output_type": "stream",
     "text": [
      "{1, 3, 6}\n",
      "{1, 3, 6}\n"
     ]
    },
    {
     "data": {
      "text/plain": [
       "{1, 3, 6}"
      ]
     },
     "execution_count": 15,
     "metadata": {},
     "output_type": "execute_result"
    }
   ],
   "source": [
    "# Update A to contain the elements in A but not in B.\n",
    "\n",
    "A.difference_update(B)\n",
    "print(A)\n",
    "{1, 3, 6}\n",
    "\n",
    "# Now use -=.\n",
    "A -= B\n",
    "print(A)\n",
    "{1, 3, 6}"
   ]
  },
  {
   "cell_type": "code",
   "execution_count": 17,
   "metadata": {},
   "outputs": [
    {
     "name": "stdout",
     "output_type": "stream",
     "text": [
      "{1, 2, 3, 5, 6}\n"
     ]
    },
    {
     "data": {
      "text/plain": [
       "{1, 3, 4, 6, 8, 9}"
      ]
     },
     "execution_count": 17,
     "metadata": {},
     "output_type": "execute_result"
    }
   ],
   "source": [
    "# Return the elements that are in either set A or set B but not in both.\n",
    "\n",
    "A = {1, 3, 2, 5, 6}\n",
    "\n",
    "B = {2, 4, 5, 8, 9}\n",
    "\n",
    "A.symmetric_difference(B)\n",
    "{1, 3, 4, 6, 8, 9}\n",
    "\n",
    "# Using ^\n",
    "A ^ B\n",
    "print(A)\n",
    "{1, 3, 4, 6, 8, 9}"
   ]
  },
  {
   "cell_type": "code",
   "execution_count": null,
   "metadata": {},
   "outputs": [],
   "source": [
    "# remove all the elements from set a\n",
    "\n",
    "A = {1, 3, 2, 5, 6}\n",
    "\n",
    "A.clean()\n",
    "print(A)\n",
    "set()"
   ]
  },
  {
   "cell_type": "code",
   "execution_count": 18,
   "metadata": {},
   "outputs": [
    {
     "data": {
      "text/plain": [
       "False"
      ]
     },
     "execution_count": 18,
     "metadata": {},
     "output_type": "execute_result"
    }
   ],
   "source": [
    "# check if b and c are subsets of a\n",
    "\n",
    "A = {1, 3, 5, 7, 9}\n",
    "\n",
    "B = {1, 3, 5}\n",
    "\n",
    "C = {1, 3, 8}\n",
    "\n",
    "B.issubset(A)\n",
    "True\n",
    "\n",
    "C.issubset(A)\n",
    "False"
   ]
  },
  {
   "cell_type": "code",
   "execution_count": 21,
   "metadata": {},
   "outputs": [
    {
     "data": {
      "text/plain": [
       "False"
      ]
     },
     "execution_count": 21,
     "metadata": {},
     "output_type": "execute_result"
    }
   ],
   "source": [
    "# Check if A is a superset of B and/or c.\n",
    "\n",
    "A.issuperset(B)\n",
    "True\n",
    "A.issuperset(C)\n",
    "False\n"
   ]
  },
  {
   "cell_type": "code",
   "execution_count": 22,
   "metadata": {},
   "outputs": [
    {
     "data": {
      "text/plain": [
       "False"
      ]
     },
     "execution_count": 22,
     "metadata": {},
     "output_type": "execute_result"
    }
   ],
   "source": [
    "# check if a and b are disjointed.\n",
    "\n",
    "A = {1, 2, 4, 6}\n",
    "\n",
    "B = {3, 7, 5, 9}\n",
    "\n",
    "A.isdisjoint(B)\n",
    "True\n",
    "\n",
    "# check if A and C are disjointed.\n",
    "\n",
    "C = {3, 5, 6, 7}\n",
    "\n",
    "A.isdisjoint(C)\n",
    "False"
   ]
  },
  {
   "cell_type": "code",
   "execution_count": 23,
   "metadata": {},
   "outputs": [
    {
     "name": "stdout",
     "output_type": "stream",
     "text": [
      "frozenset({'Yamaha', 'Ducati', 'MV Augusta', 'Aprilia'})\n"
     ]
    },
    {
     "data": {
      "text/plain": [
       "frozenset({'Aprilia', 'Ducati', 'MV Augusta', 'Yamaha'})"
      ]
     },
     "execution_count": 23,
     "metadata": {},
     "output_type": "execute_result"
    }
   ],
   "source": [
    "# Create a frozen set of motorbikes\n",
    "\n",
    "motorbikes = frozenset([\"Ducati\", \"Aprilia\", \"MV Augusta\", \"Yamaha\"])\n",
    "print(motorbikes)\n",
    "frozenset({'Ducati', 'Yamaha', 'Aprilia', 'MV Augusta'})"
   ]
  },
  {
   "cell_type": "code",
   "execution_count": 25,
   "metadata": {},
   "outputs": [
    {
     "ename": "AttributeError",
     "evalue": "'frozenset' object has no attribute 'remove'",
     "output_type": "error",
     "traceback": [
      "\u001b[1;31m---------------------------------------------------------------------------\u001b[0m",
      "\u001b[1;31mAttributeError\u001b[0m                            Traceback (most recent call last)",
      "\u001b[1;32mc:\\Users\\mbieg\\Dropbox\\GitHub\\PythonExercises\\SetDrill3.ipynb Cell 22\u001b[0m line \u001b[0;36m3\n\u001b[0;32m      <a href='vscode-notebook-cell:/c%3A/Users/mbieg/Dropbox/GitHub/PythonExercises/SetDrill3.ipynb#X32sZmlsZQ%3D%3D?line=0'>1</a>\u001b[0m \u001b[39m# Remove Yamaha from the motorbikes set using the remove() method.\u001b[39;00m\n\u001b[1;32m----> <a href='vscode-notebook-cell:/c%3A/Users/mbieg/Dropbox/GitHub/PythonExercises/SetDrill3.ipynb#X32sZmlsZQ%3D%3D?line=2'>3</a>\u001b[0m motorbikes\u001b[39m.\u001b[39;49mremove(\u001b[39m\"\u001b[39m\u001b[39mYamaha\u001b[39m\u001b[39m\"\u001b[39m)\n",
      "\u001b[1;31mAttributeError\u001b[0m: 'frozenset' object has no attribute 'remove'"
     ]
    }
   ],
   "source": [
    "# Remove Yamaha from the motorbikes set using the remove() method.\n",
    "\n",
    "motorbikes.remove(\"Yamaha\")\n"
   ]
  }
 ],
 "metadata": {
  "kernelspec": {
   "display_name": "Python 3",
   "language": "python",
   "name": "python3"
  },
  "language_info": {
   "codemirror_mode": {
    "name": "ipython",
    "version": 3
   },
   "file_extension": ".py",
   "mimetype": "text/x-python",
   "name": "python",
   "nbconvert_exporter": "python",
   "pygments_lexer": "ipython3",
   "version": "3.11.5"
  },
  "orig_nbformat": 4
 },
 "nbformat": 4,
 "nbformat_minor": 2
}
