{
 "cells": [
  {
   "cell_type": "markdown",
   "metadata": {},
   "source": [
    "https://towardsdatascience.com/3-powerful-tricks-to-work-with-date-time-data-in-python-67c2d3834338"
   ]
  },
  {
   "cell_type": "code",
   "execution_count": 3,
   "metadata": {},
   "outputs": [
    {
     "data": {
      "text/plain": [
       "datetime.datetime(2023, 7, 8, 19, 40, 6, 832421)"
      ]
     },
     "execution_count": 3,
     "metadata": {},
     "output_type": "execute_result"
    }
   ],
   "source": [
    "from datetime import datetime\n",
    "import pandas as pd\n",
    "\n",
    "current_time = datetime.now()\n",
    "current_time\n",
    "\n",
    "# Output\n",
    "datetime(2023, 7, 8, 19, 40, 6, 832421)"
   ]
  },
  {
   "cell_type": "code",
   "execution_count": 4,
   "metadata": {},
   "outputs": [
    {
     "name": "stdout",
     "output_type": "stream",
     "text": [
      "2023-07-14 19:25:09.370010\n"
     ]
    }
   ],
   "source": [
    "print(current_time)\n",
    "\n"
   ]
  },
  {
   "cell_type": "code",
   "execution_count": 6,
   "metadata": {},
   "outputs": [
    {
     "data": {
      "text/plain": [
       "datetime.datetime(2023, 7, 8, 19, 40, 6)"
      ]
     },
     "execution_count": 6,
     "metadata": {},
     "output_type": "execute_result"
    }
   ],
   "source": [
    "current_time_string = '2023-07-08 19:40:06'\n",
    "strptime_output = datetime.strptime(current_time_string, \"%Y-%m-%d %H:%M:%S\")\n",
    "strptime_output\n",
    "\n",
    "# Output\n",
    "datetime(2023, 7, 8, 19, 40, 6)"
   ]
  },
  {
   "cell_type": "code",
   "execution_count": 8,
   "metadata": {},
   "outputs": [
    {
     "name": "stdout",
     "output_type": "stream",
     "text": [
      "Data type of current_time_string: <class 'str'>\n",
      "Data type of strptime_output: <class 'datetime.datetime'>\n"
     ]
    }
   ],
   "source": [
    "print(f\"Data type of current_time_string: {type(current_time_string)}\")\n",
    "print(f\"Data type of strptime_output: {type(strptime_output)}\")\n",
    "\n"
   ]
  },
  {
   "cell_type": "code",
   "execution_count": 9,
   "metadata": {},
   "outputs": [
    {
     "data": {
      "text/plain": [
       "'2023-07-08 19:40:06'"
      ]
     },
     "execution_count": 9,
     "metadata": {},
     "output_type": "execute_result"
    }
   ],
   "source": [
    "strftime_output = datetime.strftime(strptime_output, \"%Y-%m-%d %H:%M:%S\")\n",
    "strftime_output"
   ]
  },
  {
   "cell_type": "code",
   "execution_count": 10,
   "metadata": {},
   "outputs": [
    {
     "data": {
      "text/plain": [
       "'2023-Jul-08 19:40:06'"
      ]
     },
     "execution_count": 10,
     "metadata": {},
     "output_type": "execute_result"
    }
   ],
   "source": [
    "#1 Interchange Date and Month position in the output\n",
    "datetime.strftime(strptime_output, \"%Y-%d-%m %H:%M:%S\")\n",
    "\n",
    "\n",
    "#2 Get only the last two digits of the year\n",
    "datetime.strftime(strptime_output, \"%y-%m-%d %H:%M:%S\")\n",
    "\n",
    "\n",
    "#3 Get the Month name in the date instead of the month number\n",
    "datetime.strftime(strptime_output, \"%Y-%h-%d %H:%M:%S\")\n"
   ]
  },
  {
   "cell_type": "code",
   "execution_count": 11,
   "metadata": {},
   "outputs": [
    {
     "data": {
      "text/plain": [
       "'07/08/23'"
      ]
     },
     "execution_count": 11,
     "metadata": {},
     "output_type": "execute_result"
    }
   ],
   "source": [
    "strptime_output = datetime(2023, 7, 8, 19, 40, 6)\n",
    "datetime.strftime(strptime_output, \"%D\")"
   ]
  },
  {
   "cell_type": "code",
   "execution_count": 12,
   "metadata": {},
   "outputs": [
    {
     "data": {
      "text/plain": [
       "'06'"
      ]
     },
     "execution_count": 12,
     "metadata": {},
     "output_type": "execute_result"
    }
   ],
   "source": [
    "# Get Year\n",
    "datetime.strftime(strptime_output, \"%Y\")\n",
    "\n",
    "# Get the Month number\n",
    "datetime.strftime(strptime_output, \"%m\")\n",
    "\n",
    "# Get the day of month\n",
    "datetime.strftime(strptime_output, \"%d\")\n",
    "\n",
    "\n",
    "# Get the Hour of day\n",
    "datetime.strftime(strptime_output, \"%H\")\n",
    "\n",
    "\n",
    "# Get the Minute\n",
    "datetime.strftime(strptime_output, \"%M\")\n",
    "\n",
    "\n",
    "# Get the Second\n",
    "datetime.strftime(strptime_output, \"%S\")\n"
   ]
  },
  {
   "cell_type": "code",
   "execution_count": 13,
   "metadata": {},
   "outputs": [
    {
     "data": {
      "text/plain": [
       "'2023-07-08'"
      ]
     },
     "execution_count": 13,
     "metadata": {},
     "output_type": "execute_result"
    }
   ],
   "source": [
    "# Get the Month name\n",
    "datetime.strftime(strptime_output, \"%B\")\n",
    "\n",
    "\n",
    "# Get the Month name (in short)\n",
    "datetime.strftime(strptime_output, \"%b\")\n",
    "\n",
    "\n",
    "# Get the day name\n",
    "datetime.strftime(strptime_output, \"%A\")\n",
    "\n",
    "\n",
    "# Get the day name (in short)\n",
    "datetime.strftime(strptime_output, \"%a\")\n",
    "\n",
    "\n",
    "# Get the Date in YYYY-DD-MM format\n",
    "datetime.strftime(strptime_output, \"%F\")\n"
   ]
  },
  {
   "cell_type": "code",
   "execution_count": 14,
   "metadata": {},
   "outputs": [
    {
     "data": {
      "text/plain": [
       "'19:40'"
      ]
     },
     "execution_count": 14,
     "metadata": {},
     "output_type": "execute_result"
    }
   ],
   "source": [
    "# Get the Time in HH:MM:SS format\n",
    "datetime.strftime(strptime_output, \"%T\")\n",
    "\n",
    "\n",
    "# Get the Time in HH:MM format\n",
    "datetime.strftime(strptime_output, \"%R\")\n"
   ]
  },
  {
   "cell_type": "code",
   "execution_count": 15,
   "metadata": {},
   "outputs": [
    {
     "data": {
      "text/plain": [
       "'09:40:06 AM'"
      ]
     },
     "execution_count": 15,
     "metadata": {},
     "output_type": "execute_result"
    }
   ],
   "source": [
    "# Get the time of day (AM or PM)\n",
    "datetime.strftime(strptime_output, \"%p\")\n",
    "\n",
    "\n",
    "# Get the complete time of day (HH:MM:SS AM or HH:MM:SS PM)\n",
    "datetime.strftime(strptime_output, \"%r\")\n",
    "\n",
    "\n",
    "# Get the time of day (AM or PM)\n",
    "datetime.strftime(datetime(2023, 7, 8, 9, 40, 6), \"%p\")\n",
    "\n",
    "\n",
    "# Get the complete time of day (HH:MM:SS AM or HH:MM:SS PM)\n",
    "datetime.strftime(datetime(2023, 7, 8, 9, 40, 6), \"%r\")\n"
   ]
  },
  {
   "cell_type": "code",
   "execution_count": 16,
   "metadata": {},
   "outputs": [
    {
     "data": {
      "text/plain": [
       "6"
      ]
     },
     "execution_count": 16,
     "metadata": {},
     "output_type": "execute_result"
    }
   ],
   "source": [
    "strptime_output = datetime(2023, 7, 8, 19, 40, 6)\n",
    "\n",
    "# Get Year\n",
    "strptime_output.year\n",
    "\n",
    "\n",
    "# Get the Month number\n",
    "strptime_output.month\n",
    "## Output\n",
    "\n",
    "# Get the day of month\n",
    "strptime_output.day\n",
    "\n",
    "\n",
    "# Get the Hour of day\n",
    "strptime_output.hour\n",
    "\n",
    "\n",
    "# Get the Minute\n",
    "strptime_output.minute\n",
    "\n",
    "\n",
    "# Get the Second\n",
    "strptime_output.second\n"
   ]
  },
  {
   "cell_type": "code",
   "execution_count": 17,
   "metadata": {},
   "outputs": [
    {
     "data": {
      "text/plain": [
       "datetime.time(19, 40, 6)"
      ]
     },
     "execution_count": 17,
     "metadata": {},
     "output_type": "execute_result"
    }
   ],
   "source": [
    "# Get Date\n",
    "strptime_output.date()\n",
    "\n",
    "\n",
    "# Get Time\n",
    "strptime_output.time()\n"
   ]
  },
  {
   "cell_type": "code",
   "execution_count": 18,
   "metadata": {},
   "outputs": [
    {
     "data": {
      "text/plain": [
       "datetime.timedelta(0)"
      ]
     },
     "execution_count": 18,
     "metadata": {},
     "output_type": "execute_result"
    }
   ],
   "source": [
    "from datetime import timedelta\n",
    "timedelta(days=0, seconds=0, microseconds=0, milliseconds=0, minutes=0, hours=0, weeks=0)"
   ]
  },
  {
   "cell_type": "code",
   "execution_count": 19,
   "metadata": {},
   "outputs": [
    {
     "data": {
      "text/plain": [
       "datetime.datetime(2023, 7, 8, 19, 40, 6)"
      ]
     },
     "execution_count": 19,
     "metadata": {},
     "output_type": "execute_result"
    }
   ],
   "source": [
    "strptime_output = datetime(2023, 7, 8, 19, 40, 6)\n",
    "strptime_output + timedelta()"
   ]
  },
  {
   "cell_type": "code",
   "execution_count": 21,
   "metadata": {},
   "outputs": [
    {
     "data": {
      "text/plain": [
       "datetime.datetime(2023, 7, 8, 19, 10, 6)"
      ]
     },
     "execution_count": 21,
     "metadata": {},
     "output_type": "execute_result"
    }
   ],
   "source": [
    "strptime_output = datetime(2023, 7, 8, 19, 40, 6)\n",
    "\n",
    "# Add 2 days\n",
    "strptime_output + timedelta(days=2)\n",
    "\n",
    "\n",
    "# Add 2 days and 4 hours\n",
    "strptime_output + timedelta(days=2, hours=4)\n",
    "\n",
    "\n",
    "# Add 2 days, 4 hours, and 1 week\n",
    "strptime_output + timedelta(days=2, hours=4, weeks=1)\n",
    "\n",
    "\n",
    "# Subtract 30 minutes\n",
    "strptime_output - timedelta(minutes=30)\n"
   ]
  },
  {
   "cell_type": "code",
   "execution_count": 22,
   "metadata": {},
   "outputs": [
    {
     "data": {
      "text/plain": [
       "datetime.datetime(2024, 7, 6, 19, 40, 6)"
      ]
     },
     "execution_count": 22,
     "metadata": {},
     "output_type": "execute_result"
    }
   ],
   "source": [
    "strptime_output = datetime(2023, 7, 8, 19, 40, 6)\n",
    "\n",
    "# Add 1 year using the days parameter\n",
    "strptime_output + timedelta(days=365)\n",
    "\n",
    "\n",
    "# Add 1 year using the weeks parameter\n",
    "strptime_output + timedelta(weeks=52)\n"
   ]
  }
 ],
 "metadata": {
  "kernelspec": {
   "display_name": "Python 3",
   "language": "python",
   "name": "python3"
  },
  "language_info": {
   "codemirror_mode": {
    "name": "ipython",
    "version": 3
   },
   "file_extension": ".py",
   "mimetype": "text/x-python",
   "name": "python",
   "nbconvert_exporter": "python",
   "pygments_lexer": "ipython3",
   "version": "3.11.4"
  },
  "orig_nbformat": 4
 },
 "nbformat": 4,
 "nbformat_minor": 2
}
