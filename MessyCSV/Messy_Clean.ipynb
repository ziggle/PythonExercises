{
 "cells": [
  {
   "cell_type": "markdown",
   "metadata": {},
   "source": [
    "https://python.plainenglish.io/5-examples-to-improve-your-data-cleaning-skills-with-python-pandas-2bbefd6a66ac"
   ]
  },
  {
   "cell_type": "code",
   "execution_count": 6,
   "metadata": {},
   "outputs": [],
   "source": [
    "import pandas as pd\n",
    "df = pd.read_csv(\"messy.csv\")"
   ]
  },
  {
   "cell_type": "code",
   "execution_count": 7,
   "metadata": {},
   "outputs": [
    {
     "data": {
      "text/html": [
       "<div>\n",
       "<style scoped>\n",
       "    .dataframe tbody tr th:only-of-type {\n",
       "        vertical-align: middle;\n",
       "    }\n",
       "\n",
       "    .dataframe tbody tr th {\n",
       "        vertical-align: top;\n",
       "    }\n",
       "\n",
       "    .dataframe thead th {\n",
       "        text-align: right;\n",
       "    }\n",
       "</style>\n",
       "<table border=\"1\" class=\"dataframe\">\n",
       "  <thead>\n",
       "    <tr style=\"text-align: right;\">\n",
       "      <th></th>\n",
       "      <th>Unnamed: 0</th>\n",
       "      <th>Date</th>\n",
       "      <th>Name</th>\n",
       "      <th>Payment</th>\n",
       "      <th>Note</th>\n",
       "    </tr>\n",
       "  </thead>\n",
       "  <tbody>\n",
       "    <tr>\n",
       "      <th>0</th>\n",
       "      <td>0</td>\n",
       "      <td>04/04/2021</td>\n",
       "      <td>doe,john</td>\n",
       "      <td>$100,50</td>\n",
       "      <td>Unhappy!</td>\n",
       "    </tr>\n",
       "    <tr>\n",
       "      <th>1</th>\n",
       "      <td>1</td>\n",
       "      <td>april 17th,2021</td>\n",
       "      <td>Doe,Jane</td>\n",
       "      <td>$78.50</td>\n",
       "      <td>?Satisfied</td>\n",
       "    </tr>\n",
       "    <tr>\n",
       "      <th>2</th>\n",
       "      <td>2</td>\n",
       "      <td>2021-08-21</td>\n",
       "      <td>smith,Adam</td>\n",
       "      <td>$65</td>\n",
       "      <td>Neutral</td>\n",
       "    </tr>\n",
       "    <tr>\n",
       "      <th>3</th>\n",
       "      <td>3</td>\n",
       "      <td>05/02/2021</td>\n",
       "      <td>Tuck,matt</td>\n",
       "      <td>$120</td>\n",
       "      <td>Unhappy-</td>\n",
       "    </tr>\n",
       "    <tr>\n",
       "      <th>4</th>\n",
       "      <td>4</td>\n",
       "      <td>05/12/2021</td>\n",
       "      <td>James,Ben</td>\n",
       "      <td>$92</td>\n",
       "      <td>Neutral0</td>\n",
       "    </tr>\n",
       "    <tr>\n",
       "      <th>5</th>\n",
       "      <td>5</td>\n",
       "      <td>2021-10-11</td>\n",
       "      <td>NaN</td>\n",
       "      <td>$100</td>\n",
       "      <td>NaN</td>\n",
       "    </tr>\n",
       "  </tbody>\n",
       "</table>\n",
       "</div>"
      ],
      "text/plain": [
       "   Unnamed: 0             Date        Name  Payment        Note\n",
       "0           0       04/04/2021    doe,john  $100,50    Unhappy!\n",
       "1           1  april 17th,2021    Doe,Jane   $78.50  ?Satisfied\n",
       "2           2       2021-08-21  smith,Adam      $65     Neutral\n",
       "3           3       05/02/2021   Tuck,matt     $120    Unhappy-\n",
       "4           4       05/12/2021   James,Ben      $92    Neutral0\n",
       "5           5       2021-10-11         NaN     $100         NaN"
      ]
     },
     "execution_count": 7,
     "metadata": {},
     "output_type": "execute_result"
    }
   ],
   "source": [
    "df"
   ]
  },
  {
   "cell_type": "code",
   "execution_count": 8,
   "metadata": {},
   "outputs": [
    {
     "name": "stdout",
     "output_type": "stream",
     "text": [
      "              Date        Name  Payment        Note\n",
      "0       04/04/2021    doe,john  $100,50    Unhappy!\n",
      "1  april 17th,2021    Doe,Jane   $78.50  ?Satisfied\n",
      "2       2021-08-21  smith,Adam      $65     Neutral\n",
      "3       05/02/2021   Tuck,matt     $120    Unhappy-\n",
      "4       05/12/2021   James,Ben      $92    Neutral0\n",
      "5       2021-10-11         NaN     $100         NaN\n"
     ]
    }
   ],
   "source": [
    "df.drop(\"Unnamed: 0\", axis=1, inplace=True)\n",
    "print(df)"
   ]
  },
  {
   "cell_type": "code",
   "execution_count": 9,
   "metadata": {},
   "outputs": [],
   "source": [
    "df[\"Date\"] = df[\"Date\"].astype(\"datetime64[ns]\")"
   ]
  },
  {
   "cell_type": "code",
   "execution_count": 10,
   "metadata": {},
   "outputs": [
    {
     "name": "stdout",
     "output_type": "stream",
     "text": [
      "        Date        Name  Payment        Note\n",
      "0 2021-04-04    doe,john  $100,50    Unhappy!\n",
      "1 2021-04-17    Doe,Jane   $78.50  ?Satisfied\n",
      "2 2021-08-21  smith,Adam      $65     Neutral\n",
      "3 2021-05-02   Tuck,matt     $120    Unhappy-\n",
      "4 2021-05-12   James,Ben      $92    Neutral0\n",
      "5 2021-10-11         NaN     $100         NaN\n"
     ]
    }
   ],
   "source": [
    "print(df)"
   ]
  },
  {
   "cell_type": "code",
   "execution_count": 11,
   "metadata": {},
   "outputs": [
    {
     "data": {
      "text/html": [
       "<div>\n",
       "<style scoped>\n",
       "    .dataframe tbody tr th:only-of-type {\n",
       "        vertical-align: middle;\n",
       "    }\n",
       "\n",
       "    .dataframe tbody tr th {\n",
       "        vertical-align: top;\n",
       "    }\n",
       "\n",
       "    .dataframe thead th {\n",
       "        text-align: right;\n",
       "    }\n",
       "</style>\n",
       "<table border=\"1\" class=\"dataframe\">\n",
       "  <thead>\n",
       "    <tr style=\"text-align: right;\">\n",
       "      <th></th>\n",
       "      <th>0</th>\n",
       "      <th>1</th>\n",
       "    </tr>\n",
       "  </thead>\n",
       "  <tbody>\n",
       "    <tr>\n",
       "      <th>0</th>\n",
       "      <td>doe</td>\n",
       "      <td>john</td>\n",
       "    </tr>\n",
       "    <tr>\n",
       "      <th>1</th>\n",
       "      <td>Doe</td>\n",
       "      <td>Jane</td>\n",
       "    </tr>\n",
       "    <tr>\n",
       "      <th>2</th>\n",
       "      <td>smith</td>\n",
       "      <td>Adam</td>\n",
       "    </tr>\n",
       "    <tr>\n",
       "      <th>3</th>\n",
       "      <td>Tuck</td>\n",
       "      <td>matt</td>\n",
       "    </tr>\n",
       "    <tr>\n",
       "      <th>4</th>\n",
       "      <td>James</td>\n",
       "      <td>Ben</td>\n",
       "    </tr>\n",
       "    <tr>\n",
       "      <th>5</th>\n",
       "      <td>NaN</td>\n",
       "      <td>NaN</td>\n",
       "    </tr>\n",
       "  </tbody>\n",
       "</table>\n",
       "</div>"
      ],
      "text/plain": [
       "       0     1\n",
       "0    doe  john\n",
       "1    Doe  Jane\n",
       "2  smith  Adam\n",
       "3   Tuck  matt\n",
       "4  James   Ben\n",
       "5    NaN   NaN"
      ]
     },
     "execution_count": 11,
     "metadata": {},
     "output_type": "execute_result"
    }
   ],
   "source": [
    "df[\"Name\"].str.split(\",\", expand=True)"
   ]
  },
  {
   "cell_type": "code",
   "execution_count": 12,
   "metadata": {},
   "outputs": [],
   "source": [
    "df[\"Name\"] = (df[\"Name\"].str.split(\",\", expand=True)[1] + \n",
    "              \" \" + \n",
    "              df[\"Name\"].str.split(\",\", expand=True)[0]\n",
    "             ).str.lower()"
   ]
  },
  {
   "cell_type": "code",
   "execution_count": 13,
   "metadata": {},
   "outputs": [
    {
     "name": "stdout",
     "output_type": "stream",
     "text": [
      "        Date        Name  Payment        Note\n",
      "0 2021-04-04    john doe  $100,50    Unhappy!\n",
      "1 2021-04-17    jane doe   $78.50  ?Satisfied\n",
      "2 2021-08-21  adam smith      $65     Neutral\n",
      "3 2021-05-02   matt tuck     $120    Unhappy-\n",
      "4 2021-05-12   ben james      $92    Neutral0\n",
      "5 2021-10-11         NaN     $100         NaN\n"
     ]
    }
   ],
   "source": [
    "print(df)"
   ]
  },
  {
   "cell_type": "code",
   "execution_count": 14,
   "metadata": {},
   "outputs": [],
   "source": [
    "df[\"Payment\"] = df[\"Payment\"].str[1:].str.replace(\",\", \".\").astype(\"float\")"
   ]
  },
  {
   "cell_type": "code",
   "execution_count": 15,
   "metadata": {},
   "outputs": [
    {
     "name": "stdout",
     "output_type": "stream",
     "text": [
      "        Date        Name  Payment        Note\n",
      "0 2021-04-04    john doe    100.5    Unhappy!\n",
      "1 2021-04-17    jane doe     78.5  ?Satisfied\n",
      "2 2021-08-21  adam smith     65.0     Neutral\n",
      "3 2021-05-02   matt tuck    120.0    Unhappy-\n",
      "4 2021-05-12   ben james     92.0    Neutral0\n",
      "5 2021-10-11         NaN    100.0         NaN\n"
     ]
    }
   ],
   "source": [
    "print(df)"
   ]
  },
  {
   "cell_type": "code",
   "execution_count": 16,
   "metadata": {},
   "outputs": [
    {
     "data": {
      "text/plain": [
       "0      Unhappy\n",
       "1    Satisfied\n",
       "2      Neutral\n",
       "3      Unhappy\n",
       "4      Neutral\n",
       "5          NaN\n",
       "Name: Note, dtype: object"
      ]
     },
     "execution_count": 16,
     "metadata": {},
     "output_type": "execute_result"
    }
   ],
   "source": [
    "df[\"Note\"].str.replace('[^a-zA-Z]', '')"
   ]
  },
  {
   "cell_type": "code",
   "execution_count": 17,
   "metadata": {},
   "outputs": [
    {
     "data": {
      "text/plain": [
       "0      Unhappy\n",
       "1    Satisfied\n",
       "2      Neutral\n",
       "3      Unhappy\n",
       "4     Neutral0\n",
       "5          NaN\n",
       "Name: Note, dtype: object"
      ]
     },
     "execution_count": 17,
     "metadata": {},
     "output_type": "execute_result"
    }
   ],
   "source": [
    "df[\"Note\"].str.replace('[^a-zA-Z0-9]', '')"
   ]
  },
  {
   "cell_type": "code",
   "execution_count": 18,
   "metadata": {},
   "outputs": [],
   "source": [
    "df[\"Note\"] = df[\"Note\"].str.replace('[^a-zA-Z]', '').str.lower()"
   ]
  },
  {
   "cell_type": "code",
   "execution_count": 19,
   "metadata": {},
   "outputs": [
    {
     "name": "stdout",
     "output_type": "stream",
     "text": [
      "        Date        Name  Payment       Note\n",
      "0 2021-04-04    john doe    100.5    unhappy\n",
      "1 2021-04-17    jane doe     78.5  satisfied\n",
      "2 2021-08-21  adam smith     65.0    neutral\n",
      "3 2021-05-02   matt tuck    120.0    unhappy\n",
      "4 2021-05-12   ben james     92.0    neutral\n",
      "5 2021-10-11         NaN    100.0        NaN\n"
     ]
    }
   ],
   "source": [
    "print(df)"
   ]
  },
  {
   "cell_type": "code",
   "execution_count": null,
   "metadata": {},
   "outputs": [],
   "source": []
  }
 ],
 "metadata": {
  "kernelspec": {
   "display_name": "Python 3",
   "language": "python",
   "name": "python3"
  },
  "language_info": {
   "codemirror_mode": {
    "name": "ipython",
    "version": 3
   },
   "file_extension": ".py",
   "mimetype": "text/x-python",
   "name": "python",
   "nbconvert_exporter": "python",
   "pygments_lexer": "ipython3",
   "version": "3.8.5"
  }
 },
 "nbformat": 4,
 "nbformat_minor": 4
}
