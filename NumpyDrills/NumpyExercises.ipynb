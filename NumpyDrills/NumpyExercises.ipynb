{
 "cells": [
  {
   "cell_type": "markdown",
   "id": "complimentary-glory",
   "metadata": {},
   "source": [
    "### Exercises"
   ]
  },
  {
   "cell_type": "markdown",
   "id": "collected-sacramento",
   "metadata": {},
   "source": [
    "#### Question 1"
   ]
  },
  {
   "cell_type": "markdown",
   "id": "bizarre-definition",
   "metadata": {},
   "source": [
    "The accompanying file `data.csv` contains information for the value `x` of something observed at time `t`."
   ]
  },
  {
   "cell_type": "markdown",
   "id": "vocational-remains",
   "metadata": {},
   "source": [
    "Given this data, we want to calculate the rate of change of this value over time - we'll do this by taking two consecutive observations, say $x(t_i)$ and $x(t_{i+1})$ and approximate the rate of change using this formula:\n",
    "\n",
    "$$\n",
    "v(t_{i+1}) = \\frac{x(t_{i+1}) - x(t_i)}{t_{i+1} - t_i}\n",
    "$$"
   ]
  },
  {
   "cell_type": "markdown",
   "id": "affected-rocket",
   "metadata": {},
   "source": [
    "For example, if the data looks like this:\n",
    "\n",
    "```\n",
    "t     x\n",
    "0.1   10\n",
    "0.2   12\n",
    "0.4   14\n",
    "0.5   15\n",
    "```"
   ]
  },
  {
   "cell_type": "markdown",
   "id": "alternate-nudist",
   "metadata": {},
   "source": [
    "Then the first row of data would be considered $t_0$, the second row $t_1$, etc"
   ]
  },
  {
   "cell_type": "markdown",
   "id": "ancient-decade",
   "metadata": {},
   "source": [
    "And we can start approximating the rate of change starting at $v_1$ which would be calculated as:\n",
    "\n",
    "$$\n",
    "v_1 = \\frac{12 - 10}{0.2 - 0.1} = 20.0\n",
    "$$"
   ]
  },
  {
   "cell_type": "markdown",
   "id": "toxic-doctrine",
   "metadata": {},
   "source": [
    "Similarly, $v_2$ would be calculated as:\n",
    "\n",
    "$$\n",
    "v_2 = \\frac{14 - 12}{0.4 - 0.2} = 10.0\n",
    "$$"
   ]
  },
  {
   "cell_type": "markdown",
   "id": "second-participant",
   "metadata": {},
   "source": [
    "Use NumPy arrays to create an array that holds the calculated rates of change and determine the minimum, maximum, average and standard deviation of the rate of change."
   ]
  },
  {
   "cell_type": "code",
   "execution_count": 2,
   "id": "cd21e183",
   "metadata": {},
   "outputs": [
    {
     "name": "stdout",
     "output_type": "stream",
     "text": [
      "Header: ['t,x']\n",
      "Max V is  69.07300506151955\n",
      "Min V is  29.42739859222142\n",
      "Mean V is 49.98125178748103\n",
      "Std V is  9.043463532187504\n",
      "[50.86622176 51.94935197 35.59144075 67.22995203 39.1007292  52.93709476\n",
      " 48.7089318  62.20773438 51.32188572 31.73236779 57.36477206 53.03182065\n",
      " 60.73281476 43.1915111  57.94411504 34.83306963 57.73255581 42.08891533\n",
      " 57.98542428 38.32023478 67.48615221 48.093643   42.31323664 53.71244492\n",
      " 47.40536029 56.94238226 34.93056181 69.07300506 34.25537804 50.61200384\n",
      " 47.3108194  60.68569144 47.95527183 52.66924298 39.17350419 62.6727992\n",
      " 47.34774089 51.06091262 44.84522578 57.78944777 40.05894433 59.18939376\n",
      " 49.93942905 44.04063203 53.8329408  44.59051897 54.01930861 57.62888975\n",
      " 42.55131646 43.3626037  66.71151349 32.38972102 58.07364049 51.45280885\n",
      " 48.63115874 50.34830522 44.42223678 46.13926723 61.21598928 43.69435355\n",
      " 46.52295121 61.16976936 45.07897815 60.60440737 33.92767856 59.26966689\n",
      " 46.00648977 61.93828733 46.22600595 46.02387813 43.85041604 55.0149288\n",
      " 47.4935812  45.73946497 47.67676662 52.02385934 48.45784868 52.2812495\n",
      " 60.61147628 43.87236305 42.60872285 65.61890425 39.0515136  64.74408206\n",
      " 35.27863227 56.09133197 55.94782583 45.58653809 49.73481794 57.6411351\n",
      " 38.76811244 59.92315629 29.42739859 50.63091397 63.78470051 51.82203065\n",
      " 45.13509308 39.27537735 49.784833  ]\n"
     ]
    }
   ],
   "source": [
    "import csv\n",
    "import numpy as np\n",
    "with open('data.csv', newline='') as csvfile:\n",
    "    x = csv.reader(csvfile, delimiter=' ', quotechar='|')\n",
    "    header=next(x)\n",
    "    print(f'Header: {header}')\n",
    "    T=[]\n",
    "    X = []\n",
    "    for row in x:\n",
    "        t,x=row[0].split(',')\n",
    "        T.append(float(t))\n",
    "        X.append(float(x))       \n",
    "T=np.array(T)\n",
    "X=np.array(X)\n",
    "DX=np.array([])\n",
    "DT=np.array([])\n",
    "for i in range(1,len(T)):\n",
    "        DX = np.append(DX,X[i]-X[i-1])\n",
    "        DT = np.append(DT,T[i]-T[i-1])\n",
    "V = DX/DT\n",
    "print(f'Max V is  {np.max(V)}') \n",
    "print(f'Min V is  {np.min(V)}')\n",
    "print(f'Mean V is {np.mean(V)}')\n",
    "print(f'Std V is  {np.std(V)}')\n",
    "print(V)"
   ]
  },
  {
   "cell_type": "code",
   "execution_count": 5,
   "id": "7de1256c",
   "metadata": {},
   "outputs": [
    {
     "data": {
      "text/plain": [
       "array([50.86622176, 51.94935197, 35.59144075, 67.22995203, 39.1007292 ,\n",
       "       52.93709476, 48.7089318 , 62.20773438, 51.32188572, 31.73236779,\n",
       "       57.36477206, 53.03182065, 60.73281476, 43.1915111 , 57.94411504,\n",
       "       34.83306963, 57.73255581, 42.08891533, 57.98542428, 38.32023478,\n",
       "       67.48615221, 48.093643  , 42.31323664, 53.71244492, 47.40536029,\n",
       "       56.94238226, 34.93056181, 69.07300506, 34.25537804, 50.61200384,\n",
       "       47.3108194 , 60.68569144, 47.95527183, 52.66924298, 39.17350419,\n",
       "       62.6727992 , 47.34774089, 51.06091262, 44.84522578, 57.78944777,\n",
       "       40.05894433, 59.18939376, 49.93942905, 44.04063203, 53.8329408 ,\n",
       "       44.59051897, 54.01930861, 57.62888975, 42.55131646, 43.3626037 ,\n",
       "       66.71151349, 32.38972102, 58.07364049, 51.45280885, 48.63115874,\n",
       "       50.34830522, 44.42223678, 46.13926723, 61.21598928, 43.69435355,\n",
       "       46.52295121, 61.16976936, 45.07897815, 60.60440737, 33.92767856,\n",
       "       59.26966689, 46.00648977, 61.93828733, 46.22600595, 46.02387813,\n",
       "       43.85041604, 55.0149288 , 47.4935812 , 45.73946497, 47.67676662,\n",
       "       52.02385934, 48.45784868, 52.2812495 , 60.61147628, 43.87236305,\n",
       "       42.60872285, 65.61890425, 39.0515136 , 64.74408206, 35.27863227,\n",
       "       56.09133197, 55.94782583, 45.58653809, 49.73481794, 57.6411351 ,\n",
       "       38.76811244, 59.92315629, 29.42739859, 50.63091397, 63.78470051,\n",
       "       51.82203065, 45.13509308, 39.27537735, 49.784833  ])"
      ]
     },
     "execution_count": 5,
     "metadata": {},
     "output_type": "execute_result"
    }
   ],
   "source": [
    "delta_t = T[1:] - T[:-1]\n",
    "delta_x = X[1:] - X[:-1]\n",
    "v1 = delta_x/delta_t\n",
    "v1"
   ]
  },
  {
   "cell_type": "markdown",
   "id": "compliant-mexico",
   "metadata": {},
   "source": [
    "#### Question 2"
   ]
  },
  {
   "cell_type": "markdown",
   "id": "polished-ebony",
   "metadata": {},
   "source": [
    "In linear regression we try to find the coefficients `m` (slope) and `c` (y-intercept) of a straight line\n",
    "\n",
    "$$\n",
    "y = mx + c\n",
    "$$\n",
    "\n",
    "that provides the \"best\" fit given some `x` and `y` data. This formula then allows to predict `y` values for given `x` values."
   ]
  },
  {
   "cell_type": "markdown",
   "id": "gorgeous-assets",
   "metadata": {},
   "source": [
    "Given an array of `n` `(x, y)` data pairs, these coefficients can be calculated very simply."
   ]
  },
  {
   "cell_type": "markdown",
   "id": "failing-tours",
   "metadata": {},
   "source": [
    "A bit of terminology first:"
   ]
  },
  {
   "cell_type": "markdown",
   "id": "liable-civilization",
   "metadata": {},
   "source": [
    "- Let `X` mean the column of `X` values.\n",
    "- Let `Y` mean the column of `Y` values.\n",
    "- Let `XX` mean a column calculated by multiplying each `x` in the `X` column by itself\n",
    "- Let `XY` mean a column calculated by multiplying the `x` and `y` values from the `X` and `Y` columns"
   ]
  },
  {
   "cell_type": "markdown",
   "id": "divine-texas",
   "metadata": {},
   "source": [
    "Then, given some column (say `X`), this symbol: $\\sum{X}$ means the sum of all the elements in the column.\n",
    "\n",
    "Similarly, the symbol $\\sum{XY}$ means the sum of the values obtained by multiplying (pairwise) the values in `X` and `Y`."
   ]
  },
  {
   "cell_type": "markdown",
   "id": "lonely-reward",
   "metadata": {},
   "source": [
    "Given those definitions, the formulas for calculating the \"best\" values of `m` and `c` are given by:"
   ]
  },
  {
   "cell_type": "markdown",
   "id": "engaged-positive",
   "metadata": {},
   "source": [
    "$$\n",
    "m = \\frac{n\\sum{XY} - \\sum{X}\\sum{Y}}{n\\sum{XX} - (\\sum{X})^2}\n",
    "$$"
   ]
  },
  {
   "cell_type": "markdown",
   "id": "japanese-breakfast",
   "metadata": {},
   "source": [
    "$$\n",
    "c = \\frac{\\sum{Y}\\sum{XX} - \\sum{X}\\sum{XY}}{n\\sum{XX} - (\\sum{X})^2}\n",
    "$$"
   ]
  },
  {
   "cell_type": "markdown",
   "id": "collect-guidance",
   "metadata": {},
   "source": [
    "(where `n` is the number of `(x,y)` pairs in our data set.)"
   ]
  },
  {
   "cell_type": "markdown",
   "id": "suspended-calgary",
   "metadata": {},
   "source": [
    "Using the same data we saw in Question 1, calculate the values for `m` and `c` for that data set given the formulas above.\n",
    "\n",
    "You can think of the `t` column in the data as the `X` column, and the `x` values in the data as the `Y` column - we are trying to predict the value of `x` given a value of `t`."
   ]
  },
  {
   "cell_type": "markdown",
   "id": "classical-theorem",
   "metadata": {},
   "source": [
    "This will result in a straight line that \"best\" fits through the data."
   ]
  },
  {
   "cell_type": "markdown",
   "id": "precious-boundary",
   "metadata": {},
   "source": [
    "Compare the slope of this regression line to the average rate of change you calculated in Question 1."
   ]
  }
 ],
 "metadata": {
  "kernelspec": {
   "display_name": "Python 3 (ipykernel)",
   "language": "python",
   "name": "python3"
  },
  "language_info": {
   "codemirror_mode": {
    "name": "ipython",
    "version": 3
   },
   "file_extension": ".py",
   "mimetype": "text/x-python",
   "name": "python",
   "nbconvert_exporter": "python",
   "pygments_lexer": "ipython3",
   "version": "3.9.15"
  },
  "toc": {
   "base_numbering": 1,
   "nav_menu": {},
   "number_sections": true,
   "sideBar": true,
   "skip_h1_title": false,
   "title_cell": "Table of Contents",
   "title_sidebar": "Contents",
   "toc_cell": false,
   "toc_position": {},
   "toc_section_display": true,
   "toc_window_display": false
  }
 },
 "nbformat": 4,
 "nbformat_minor": 5
}
