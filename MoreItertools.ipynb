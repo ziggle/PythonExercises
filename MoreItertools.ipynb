{
 "cells": [
  {
   "cell_type": "markdown",
   "id": "e38fe3d6",
   "metadata": {},
   "source": [
    "https://levelup.gitconnected.com/5-cool-less-used-python-itertools-functions-e0320ca2256b"
   ]
  },
  {
   "cell_type": "code",
   "execution_count": 1,
   "id": "e3e4b652",
   "metadata": {},
   "outputs": [
    {
     "name": "stdout",
     "output_type": "stream",
     "text": [
      "A\n",
      "D\n"
     ]
    }
   ],
   "source": [
    "from itertools import compress\n",
    "\n",
    "for letter in compress(['A', 'B', 'C', 'D'], [True, False, False, True]):\n",
    "  print(letter)"
   ]
  },
  {
   "cell_type": "code",
   "execution_count": null,
   "id": "07255625",
   "metadata": {},
   "outputs": [],
   "source": [
    "from itertools import cycle\n",
    "\n",
    "for fruit in cycle(['apple', 'orange']):\n",
    "  print(fruit)"
   ]
  },
  {
   "cell_type": "code",
   "execution_count": null,
   "id": "a02e0df1",
   "metadata": {},
   "outputs": [],
   "source": [
    "from itertools import cycle\n",
    "\n",
    "for fruit in cycle(['apple', 'orange', 'pear']):\n",
    "  print(fruit)"
   ]
  },
  {
   "cell_type": "code",
   "execution_count": 3,
   "id": "c2f083df",
   "metadata": {},
   "outputs": [
    {
     "name": "stdout",
     "output_type": "stream",
     "text": [
      "a ['apple', 'apricot']\n",
      "p ['pear', 'pineapple']\n"
     ]
    }
   ],
   "source": [
    "from itertools import groupby\n",
    "\n",
    "fruits = ['apple', 'apricot', 'pear', 'pineapple']\n",
    "\n",
    "def condition(element):\n",
    "  # return first letter of fruit\n",
    "  return element[0]\n",
    "\n",
    "for key,group in groupby(fruits, key=condition):\n",
    "  print(key, [i for i in group])"
   ]
  },
  {
   "cell_type": "code",
   "execution_count": 4,
   "id": "7684739b",
   "metadata": {},
   "outputs": [
    {
     "name": "stdout",
     "output_type": "stream",
     "text": [
      "a ['apple', 'apricot']\n",
      "p ['pear', 'pineapple']\n"
     ]
    }
   ],
   "source": [
    "from itertools import groupby\n",
    "\n",
    "fruits = ['apple', 'apricot', 'pear', 'pineapple']\n",
    "\n",
    "for key,group in groupby(fruits, key=lambda x:x[0]):\n",
    "  print(key, [i for i in group])"
   ]
  },
  {
   "cell_type": "code",
   "execution_count": 5,
   "id": "ac9012dd",
   "metadata": {},
   "outputs": [
    {
     "name": "stdout",
     "output_type": "stream",
     "text": [
      "a ['apple', 'apricot']\n",
      "p ['pear', 'pineapple']\n",
      "a ['ananas']\n"
     ]
    }
   ],
   "source": [
    "from itertools import groupby\n",
    "\n",
    "fruits = ['apple', 'apricot', 'pear', 'pineapple', 'ananas']\n",
    "\n",
    "for key,group in groupby(fruits, key=lambda x:x[0]):\n",
    "  print(key, [i for i in group])"
   ]
  },
  {
   "cell_type": "code",
   "execution_count": 6,
   "id": "0ee2b389",
   "metadata": {},
   "outputs": [
    {
     "name": "stdout",
     "output_type": "stream",
     "text": [
      "['aaaaa', 'bb', 'ccc']\n"
     ]
    }
   ],
   "source": [
    "from itertools import starmap\n",
    "\n",
    "lis = [('a', 5), ('b', 2), ('c', 3)]\n",
    "print(list(starmap(lambda a,b: a*b, lis)))"
   ]
  }
 ],
 "metadata": {
  "kernelspec": {
   "display_name": "Python 3 (ipykernel)",
   "language": "python",
   "name": "python3"
  },
  "language_info": {
   "codemirror_mode": {
    "name": "ipython",
    "version": 3
   },
   "file_extension": ".py",
   "mimetype": "text/x-python",
   "name": "python",
   "nbconvert_exporter": "python",
   "pygments_lexer": "ipython3",
   "version": "3.9.7"
  }
 },
 "nbformat": 4,
 "nbformat_minor": 5
}
