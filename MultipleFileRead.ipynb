{
 "cells": [
  {
   "cell_type": "markdown",
   "id": "a48a408d",
   "metadata": {},
   "source": [
    "https://medium.com/@bao.character/using-os-and-pandas-to-automatically-read-multiple-files-in-python-88b4d4ca029e"
   ]
  },
  {
   "cell_type": "code",
   "execution_count": null,
   "id": "1f532f3f",
   "metadata": {},
   "outputs": [],
   "source": [
    "import os\n",
    "\n",
    "def list_files_in_folder(folder_path):\n",
    "    files = os.listdir(folder_path)\n",
    "    for file in files:\n",
    "        print(file)\n",
    "\n",
    "# Specify the folder path\n",
    "folder_path = '/path/to/your/folder'\n",
    "\n",
    "# Call the function\n",
    "list_files_in_folder(folder_path)"
   ]
  },
  {
   "cell_type": "code",
   "execution_count": null,
   "id": "17e8d030",
   "metadata": {},
   "outputs": [],
   "source": [
    "import pandas as pd\n",
    "\n",
    "def read_csv_files_in_folder(folder_path):\n",
    "    files = os.listdir(folder_path)\n",
    "\n",
    "    # Filter only CSV files\n",
    "    csv_files = [file for file in files if file.endswith('.csv')]\n",
    "\n",
    "    # Initialize an empty dictionary to store dataframes\n",
    "    dataframes = {}\n",
    "\n",
    "    # Read each CSV file into a pandas dataframe and store it in the dictionary\n",
    "    for csv_file in csv_files:\n",
    "        file_path = os.path.join(folder_path, csv_file)\n",
    "        df = pd.read_csv(file_path)\n",
    "        dataframes[csv_file] = df\n",
    "\n",
    "    return dataframes\n",
    "\n",
    "# Specify the folder path\n",
    "folder_path = '/path/to/your/folder'\n",
    "\n",
    "# Call the function\n",
    "csv_dataframes = read_csv_files_in_folder(folder_path)\n",
    "\n",
    "# Now, csv_dataframes is a dictionary where keys are file names and values are corresponding dataframes"
   ]
  }
 ],
 "metadata": {
  "kernelspec": {
   "display_name": "Python 3 (ipykernel)",
   "language": "python",
   "name": "python3"
  },
  "language_info": {
   "codemirror_mode": {
    "name": "ipython",
    "version": 3
   },
   "file_extension": ".py",
   "mimetype": "text/x-python",
   "name": "python",
   "nbconvert_exporter": "python",
   "pygments_lexer": "ipython3",
   "version": "3.9.7"
  }
 },
 "nbformat": 4,
 "nbformat_minor": 5
}
