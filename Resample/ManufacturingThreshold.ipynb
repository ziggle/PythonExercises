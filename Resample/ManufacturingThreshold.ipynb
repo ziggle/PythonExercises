{
 "cells": [
  {
   "cell_type": "markdown",
   "metadata": {},
   "source": [
    "# Manufacturing Threshold Modeling\n",
    "\n",
    "## Abstract\n",
    "\n",
    "This analysis documents my analysis of the SOC range implications of assuming a VHA threshold equal to 1.2146. The concern was that the SOC range will be excessive (>10%). I am using a Monte Carlo analysis here to estimate the actual SOC range based on the sampling the empirical distribution of the HPM10 ratio error.\n",
    "\n"
   ]
  },
  {
   "cell_type": "code",
   "execution_count": 98,
   "metadata": {},
   "outputs": [],
   "source": [
    "import pandas as pd\n",
    "import numpy as np\n",
    "import matplotlib.pyplot as plt\n",
    "import scipy.interpolate"
   ]
  },
  {
   "cell_type": "markdown",
   "metadata": {},
   "source": [
    "## Read in SOC Curve\n",
    "\n",
    "This SOC curve assumes a minimum operating voltage for the Z22A based on the wireless circuit."
   ]
  },
  {
   "cell_type": "code",
   "execution_count": 99,
   "metadata": {},
   "outputs": [
    {
     "data": {
      "text/html": [
       "<div>\n",
       "<style scoped>\n",
       "    .dataframe tbody tr th:only-of-type {\n",
       "        vertical-align: middle;\n",
       "    }\n",
       "\n",
       "    .dataframe tbody tr th {\n",
       "        vertical-align: top;\n",
       "    }\n",
       "\n",
       "    .dataframe thead th {\n",
       "        text-align: right;\n",
       "    }\n",
       "</style>\n",
       "<table border=\"1\" class=\"dataframe\">\n",
       "  <thead>\n",
       "    <tr style=\"text-align: right;\">\n",
       "      <th></th>\n",
       "      <th>SOC</th>\n",
       "      <th>VBAT</th>\n",
       "    </tr>\n",
       "  </thead>\n",
       "  <tbody>\n",
       "    <tr>\n",
       "      <th>0</th>\n",
       "      <td>0%</td>\n",
       "      <td>3.41690</td>\n",
       "    </tr>\n",
       "    <tr>\n",
       "      <th>1</th>\n",
       "      <td>1%</td>\n",
       "      <td>3.49047</td>\n",
       "    </tr>\n",
       "    <tr>\n",
       "      <th>2</th>\n",
       "      <td>2%</td>\n",
       "      <td>3.54508</td>\n",
       "    </tr>\n",
       "    <tr>\n",
       "      <th>3</th>\n",
       "      <td>3%</td>\n",
       "      <td>3.58806</td>\n",
       "    </tr>\n",
       "    <tr>\n",
       "      <th>4</th>\n",
       "      <td>4%</td>\n",
       "      <td>3.62151</td>\n",
       "    </tr>\n",
       "    <tr>\n",
       "      <th>...</th>\n",
       "      <td>...</td>\n",
       "      <td>...</td>\n",
       "    </tr>\n",
       "    <tr>\n",
       "      <th>96</th>\n",
       "      <td>96%</td>\n",
       "      <td>4.12662</td>\n",
       "    </tr>\n",
       "    <tr>\n",
       "      <th>97</th>\n",
       "      <td>97%</td>\n",
       "      <td>4.13602</td>\n",
       "    </tr>\n",
       "    <tr>\n",
       "      <th>98</th>\n",
       "      <td>98%</td>\n",
       "      <td>4.14602</td>\n",
       "    </tr>\n",
       "    <tr>\n",
       "      <th>99</th>\n",
       "      <td>99%</td>\n",
       "      <td>4.15770</td>\n",
       "    </tr>\n",
       "    <tr>\n",
       "      <th>100</th>\n",
       "      <td>100%</td>\n",
       "      <td>4.20000</td>\n",
       "    </tr>\n",
       "  </tbody>\n",
       "</table>\n",
       "<p>101 rows × 2 columns</p>\n",
       "</div>"
      ],
      "text/plain": [
       "      SOC     VBAT\n",
       "0      0%  3.41690\n",
       "1      1%  3.49047\n",
       "2      2%  3.54508\n",
       "3      3%  3.58806\n",
       "4      4%  3.62151\n",
       "..    ...      ...\n",
       "96    96%  4.12662\n",
       "97    97%  4.13602\n",
       "98    98%  4.14602\n",
       "99    99%  4.15770\n",
       "100  100%  4.20000\n",
       "\n",
       "[101 rows x 2 columns]"
      ]
     },
     "metadata": {},
     "output_type": "display_data"
    }
   ],
   "source": [
    "\n",
    "dfSOC=pd.read_csv(\"Z22A.csv\",sep=\"\\t\")\n",
    "display(dfSOC)\n",
    "dfSOC['SOC'] = dfSOC['SOC'].str.rstrip('%').astype('float') / 100.0\n",
    "SOCZ22A = scipy.interpolate.interp1d(dfSOC.VBAT, dfSOC.SOC)"
   ]
  },
  {
   "cell_type": "markdown",
   "metadata": {},
   "source": [
    "## Read in the Empirical Ratio Distribution\n",
    "\n",
    "Here is a sample fo 6103 ratios measured by production."
   ]
  },
  {
   "cell_type": "code",
   "execution_count": 100,
   "metadata": {},
   "outputs": [
    {
     "data": {
      "text/html": [
       "<div>\n",
       "<style scoped>\n",
       "    .dataframe tbody tr th:only-of-type {\n",
       "        vertical-align: middle;\n",
       "    }\n",
       "\n",
       "    .dataframe tbody tr th {\n",
       "        vertical-align: top;\n",
       "    }\n",
       "\n",
       "    .dataframe thead th {\n",
       "        text-align: right;\n",
       "    }\n",
       "</style>\n",
       "<table border=\"1\" class=\"dataframe\">\n",
       "  <thead>\n",
       "    <tr style=\"text-align: right;\">\n",
       "      <th></th>\n",
       "      <th>Ratio</th>\n",
       "    </tr>\n",
       "  </thead>\n",
       "  <tbody>\n",
       "    <tr>\n",
       "      <th>0</th>\n",
       "      <td>0.327312</td>\n",
       "    </tr>\n",
       "    <tr>\n",
       "      <th>1</th>\n",
       "      <td>0.328617</td>\n",
       "    </tr>\n",
       "    <tr>\n",
       "      <th>2</th>\n",
       "      <td>0.329617</td>\n",
       "    </tr>\n",
       "    <tr>\n",
       "      <th>3</th>\n",
       "      <td>0.331623</td>\n",
       "    </tr>\n",
       "    <tr>\n",
       "      <th>4</th>\n",
       "      <td>0.331720</td>\n",
       "    </tr>\n",
       "    <tr>\n",
       "      <th>...</th>\n",
       "      <td>...</td>\n",
       "    </tr>\n",
       "    <tr>\n",
       "      <th>6098</th>\n",
       "      <td>0.332991</td>\n",
       "    </tr>\n",
       "    <tr>\n",
       "      <th>6099</th>\n",
       "      <td>0.332991</td>\n",
       "    </tr>\n",
       "    <tr>\n",
       "      <th>6100</th>\n",
       "      <td>0.332991</td>\n",
       "    </tr>\n",
       "    <tr>\n",
       "      <th>6101</th>\n",
       "      <td>0.333009</td>\n",
       "    </tr>\n",
       "    <tr>\n",
       "      <th>6102</th>\n",
       "      <td>0.333018</td>\n",
       "    </tr>\n",
       "  </tbody>\n",
       "</table>\n",
       "<p>6103 rows × 1 columns</p>\n",
       "</div>"
      ],
      "text/plain": [
       "         Ratio\n",
       "0     0.327312\n",
       "1     0.328617\n",
       "2     0.329617\n",
       "3     0.331623\n",
       "4     0.331720\n",
       "...        ...\n",
       "6098  0.332991\n",
       "6099  0.332991\n",
       "6100  0.332991\n",
       "6101  0.333009\n",
       "6102  0.333018\n",
       "\n",
       "[6103 rows x 1 columns]"
      ]
     },
     "metadata": {},
     "output_type": "display_data"
    }
   ],
   "source": [
    "df = pd.read_csv(\"RawRatio.csv\")\n",
    "display(df)"
   ]
  },
  {
   "cell_type": "code",
   "execution_count": 101,
   "metadata": {},
   "outputs": [
    {
     "name": "stdout",
     "output_type": "stream",
     "text": [
      "Minimum ratio is 0.327312\n",
      "Maximum ratio is 0.333018\n",
      "Range is 0.005706\n"
     ]
    },
    {
     "data": {
      "text/plain": [
       "array([[<AxesSubplot:title={'center':'Ratio'}>]], dtype=object)"
      ]
     },
     "execution_count": 101,
     "metadata": {},
     "output_type": "execute_result"
    },
    {
     "data": {
      "image/png": "[encoded data removed]",
      "text/plain": [
       "<Figure size 432x288 with 1 Axes>"
      ]
     },
     "metadata": {},
     "output_type": "display_data"
    }
   ],
   "source": [
    "print(f'Minimum ratio is {df.Ratio.min():.6f}')\n",
    "print(f'Maximum ratio is {df.Ratio.max():.6f}')\n",
    "print(f'Range is {df.Ratio.max()-df.Ratio.min():.6f}')\n",
    "plt.style.use(\"dark_background\")\n",
    "df.hist(bins=10)"
   ]
  },
  {
   "cell_type": "code",
   "execution_count": 102,
   "metadata": {},
   "outputs": [
    {
     "data": {
      "text/plain": [
       "Text(0, 0.5, 'Number of Units')"
      ]
     },
     "execution_count": 102,
     "metadata": {},
     "output_type": "execute_result"
    },
    {
     "data": {
      "image/png": "[encoded data removed]",
      "text/plain": [
       "<Figure size 432x288 with 1 Axes>"
      ]
     },
     "metadata": {},
     "output_type": "display_data"
    }
   ],
   "source": [
    "ratio=df.Ratio.sample(100_000, replace=True)\n",
    "lsad=np.random.normal(loc=0,scale=0.002,size=100_000)\n",
    "VHA=1.2146\n",
    "vbat = (VHA+lsad)/ratio\n",
    "plt.hist(vbat.values, color='cyan', alpha=0.5,bins=50)\n",
    "plt.title(\"Histogram of Expected Battery Voltages\")\n",
    "plt.xlabel(\"VBAT (V)\")\n",
    "plt.ylabel(\"Number of Units\")"
   ]
  },
  {
   "cell_type": "code",
   "execution_count": 103,
   "metadata": {},
   "outputs": [
    {
     "name": "stdout",
     "output_type": "stream",
     "text": [
      "Assume we set a VHA side threshold of 1.214600V.\n",
      "This VHA will map to a battery voltage range of 3.630230V to 3.669003V.\n",
      "These battery voltage represent a SOC range of 4.3% to 6.6%.\n"
     ]
    }
   ],
   "source": [
    "vTLow=np.quantile(vbat, q=0.001)\n",
    "vTHigh=np.quantile(vbat,q=0.999)\n",
    "print(f'Assume we set a VHA side threshold of {VHA:.6f}V.')\n",
    "print(f'This VHA will map to a battery voltage range of {vTLow:.6f}V to {vTHigh:.6f}V.')\n",
    "print(f'These battery voltage represent a SOC range of {SOCZ22A(vTLow):.1%} to {SOCZ22A(vTHigh):.1%}.')\n"
   ]
  },
  {
   "cell_type": "markdown",
   "metadata": {},
   "source": [
    "## Same Analysis for Accu60\n",
    "\n",
    "The threshold is not even close to 20% for a Varta battery."
   ]
  },
  {
   "cell_type": "code",
   "execution_count": 104,
   "metadata": {},
   "outputs": [
    {
     "data": {
      "text/html": [
       "<div>\n",
       "<style scoped>\n",
       "    .dataframe tbody tr th:only-of-type {\n",
       "        vertical-align: middle;\n",
       "    }\n",
       "\n",
       "    .dataframe tbody tr th {\n",
       "        vertical-align: top;\n",
       "    }\n",
       "\n",
       "    .dataframe thead th {\n",
       "        text-align: right;\n",
       "    }\n",
       "</style>\n",
       "<table border=\"1\" class=\"dataframe\">\n",
       "  <thead>\n",
       "    <tr style=\"text-align: right;\">\n",
       "      <th></th>\n",
       "      <th>SOC</th>\n",
       "      <th>VBAT</th>\n",
       "    </tr>\n",
       "  </thead>\n",
       "  <tbody>\n",
       "    <tr>\n",
       "      <th>0</th>\n",
       "      <td>0%</td>\n",
       "      <td>3.42698</td>\n",
       "    </tr>\n",
       "    <tr>\n",
       "      <th>1</th>\n",
       "      <td>1%</td>\n",
       "      <td>3.43402</td>\n",
       "    </tr>\n",
       "    <tr>\n",
       "      <th>2</th>\n",
       "      <td>2%</td>\n",
       "      <td>3.44186</td>\n",
       "    </tr>\n",
       "    <tr>\n",
       "      <th>3</th>\n",
       "      <td>3%</td>\n",
       "      <td>3.45027</td>\n",
       "    </tr>\n",
       "    <tr>\n",
       "      <th>4</th>\n",
       "      <td>4%</td>\n",
       "      <td>3.45902</td>\n",
       "    </tr>\n",
       "    <tr>\n",
       "      <th>...</th>\n",
       "      <td>...</td>\n",
       "      <td>...</td>\n",
       "    </tr>\n",
       "    <tr>\n",
       "      <th>96</th>\n",
       "      <td>96%</td>\n",
       "      <td>4.11783</td>\n",
       "    </tr>\n",
       "    <tr>\n",
       "      <th>97</th>\n",
       "      <td>97%</td>\n",
       "      <td>4.13218</td>\n",
       "    </tr>\n",
       "    <tr>\n",
       "      <th>98</th>\n",
       "      <td>98%</td>\n",
       "      <td>4.15133</td>\n",
       "    </tr>\n",
       "    <tr>\n",
       "      <th>99</th>\n",
       "      <td>99%</td>\n",
       "      <td>4.17532</td>\n",
       "    </tr>\n",
       "    <tr>\n",
       "      <th>100</th>\n",
       "      <td>100%</td>\n",
       "      <td>4.20000</td>\n",
       "    </tr>\n",
       "  </tbody>\n",
       "</table>\n",
       "<p>101 rows × 2 columns</p>\n",
       "</div>"
      ],
      "text/plain": [
       "      SOC     VBAT\n",
       "0      0%  3.42698\n",
       "1      1%  3.43402\n",
       "2      2%  3.44186\n",
       "3      3%  3.45027\n",
       "4      4%  3.45902\n",
       "..    ...      ...\n",
       "96    96%  4.11783\n",
       "97    97%  4.13218\n",
       "98    98%  4.15133\n",
       "99    99%  4.17532\n",
       "100  100%  4.20000\n",
       "\n",
       "[101 rows x 2 columns]"
      ]
     },
     "metadata": {},
     "output_type": "display_data"
    }
   ],
   "source": [
    "dfSOC=pd.read_csv(\"Accu60.csv\",sep=\"\\t\")\n",
    "display(dfSOC)\n",
    "dfSOC['SOC'] = dfSOC['SOC'].str.rstrip('%').astype('float') / 100.0\n",
    "SOC60 = scipy.interpolate.interp1d(dfSOC.VBAT, dfSOC.SOC)"
   ]
  },
  {
   "cell_type": "code",
   "execution_count": 105,
   "metadata": {},
   "outputs": [
    {
     "name": "stdout",
     "output_type": "stream",
     "text": [
      "Assume we set a VHA side threshold of 1.214600V.\n",
      "This VHA will map to a battery voltage range of 3.630230V to 3.669003V.\n",
      "These battery voltage represent a SOC range of 40.8% to 48.5%.\n"
     ]
    }
   ],
   "source": [
    "print(f'Assume we set a VHA side threshold of {VHA:.6f}V.')\n",
    "print(f'This VHA will map to a battery voltage range of {vTLow:.6f}V to {vTHigh:.6f}V.')\n",
    "print(f'These battery voltage represent a SOC range of {SOC60(vTLow):.1%} to {SOC60(vTHigh):.1%}.')"
   ]
  }
 ],
 "metadata": {
  "kernelspec": {
   "display_name": "Python 3",
   "language": "python",
   "name": "python3"
  },
  "language_info": {
   "codemirror_mode": {
    "name": "ipython",
    "version": 3
   },
   "file_extension": ".py",
   "mimetype": "text/x-python",
   "name": "python",
   "nbconvert_exporter": "python",
   "pygments_lexer": "ipython3",
   "version": "3.8.5"
  }
 },
 "nbformat": 4,
 "nbformat_minor": 4
}
