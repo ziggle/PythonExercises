{
 "cells": [
  {
   "cell_type": "markdown",
   "metadata": {},
   "source": [
    "https://medium.com/@mr.stucknet/empower-your-python-journey-with-map-f73d06e5f3"
   ]
  },
  {
   "cell_type": "code",
   "execution_count": 1,
   "metadata": {},
   "outputs": [
    {
     "data": {
      "text/plain": [
       "[(1, 'a'), (2, 'b'), (3, 'c')]"
      ]
     },
     "execution_count": 1,
     "metadata": {},
     "output_type": "execute_result"
    }
   ],
   "source": [
    "# map.example.py\n",
    "map(lambda *a: a, range(3)) # 1 iterable\n",
    "#<map object at 0x10acf8f98> # Not useful! Let's use list\n",
    "list(map(lambda *a: a, range(3))) # 1 iterable\n",
    "#[(0,), (1,), (2,)]\n",
    "list(map(lambda *a: a, range(3), 'abc')) # 2 iterables\n",
    "#[(0, 'a'), (1, 'b'), (2, 'c')]\n",
    "list(map(lambda *a: a, range(3), 'abc', range(4, 7))) # 3\n",
    "#[(0, 'a', 4), (1, 'b', 5), (2, 'c', 6)]\n",
    "# map stops at the shortest iterator\n",
    "list(map(lambda *a: a, (), 'abc')) # empty tuple is shortest\n",
    "#[]\n",
    "list(map(lambda *a: a, (1, 2), 'abc')) # (1, 2) shortest\n",
    "#[(1, 'a'), (2, 'b')]\n",
    "list(map(lambda *a: a, (1, 2, 3, 4), 'abc')) # 'abc' shortest\n",
    "#[(1, 'a'), (2, 'b'), (3, 'c')]"
   ]
  },
  {
   "cell_type": "code",
   "execution_count": 3,
   "metadata": {},
   "outputs": [
    {
     "name": "stdout",
     "output_type": "stream",
     "text": [
      "[(27, {'id': 2, 'credits': {'history': 8, 'physics': 9, 'chemistry': 10}}), (23, {'id': 1, 'credits': {'math': 6, 'physics': 7, 'latin': 10}}), (22, {'id': 0, 'credits': {'math': 9, 'physics': 6, 'history': 7}}), (17, {'id': 3, 'credits': {'math': 5, 'physics': 5, 'geography': 7}})]\n",
      "[{'id': 2, 'credits': {'history': 8, 'physics': 9, 'chemistry': 10}}, {'id': 1, 'credits': {'math': 6, 'physics': 7, 'latin': 10}}, {'id': 0, 'credits': {'math': 9, 'physics': 6, 'history': 7}}, {'id': 3, 'credits': {'math': 5, 'physics': 5, 'geography': 7}}]\n"
     ]
    }
   ],
   "source": [
    "# decorate.sort.undecorate.py\n",
    "students = [\n",
    "  dict(id=0, credits=dict(math=9, physics=6, history=7)),\n",
    "  dict(id=1, credits=dict(math=6, physics=7, latin=10)),\n",
    "  dict(id=2, credits=dict(history=8, physics=9, chemistry=10)),\n",
    "  dict(id=3, credits=dict(math=5, physics=5, geography=7)),\n",
    "]\n",
    "def decorate(student):\n",
    "# create a 2-tuple (sum of credits, student) from student dict\n",
    "  return (sum(student['credits'].values()), student)\n",
    "def undecorate(decorated_student):\n",
    "# discard sum of credits, return original student dict\n",
    "  return decorated_student[1]\n",
    "students = sorted(map(decorate, students), reverse=True)\n",
    "print(students)\n",
    "\n",
    "students = list(map(undecorate, students))\n",
    "print(students)"
   ]
  },
  {
   "cell_type": "code",
   "execution_count": 4,
   "metadata": {},
   "outputs": [
    {
     "data": {
      "text/plain": [
       "(27, {'id': 2, 'credits': {'history': 8, 'physics': 9, 'chemistry': 10}})"
      ]
     },
     "execution_count": 4,
     "metadata": {},
     "output_type": "execute_result"
    }
   ],
   "source": [
    "decorate(students[0])"
   ]
  },
  {
   "cell_type": "code",
   "execution_count": 6,
   "metadata": {},
   "outputs": [
    {
     "ename": "AttributeError",
     "evalue": "'function' object has no attribute 'sort'",
     "output_type": "error",
     "traceback": [
      "\u001b[1;31m---------------------------------------------------------------------------\u001b[0m",
      "\u001b[1;31mAttributeError\u001b[0m                            Traceback (most recent call last)",
      "Cell \u001b[1;32mIn[6], line 1\u001b[0m\n\u001b[1;32m----> 1\u001b[0m decorate\u001b[39m.\u001b[39;49msort\u001b[39m.\u001b[39mundecorate\u001b[39m.\u001b[39mpy\n\u001b[0;32m      2\u001b[0m [{\u001b[39m'\u001b[39m\u001b[39mcredits\u001b[39m\u001b[39m'\u001b[39m: {\u001b[39m'\u001b[39m\u001b[39mchemistry\u001b[39m\u001b[39m'\u001b[39m: \u001b[39m10\u001b[39m, \u001b[39m'\u001b[39m\u001b[39mhistory\u001b[39m\u001b[39m'\u001b[39m: \u001b[39m8\u001b[39m, \u001b[39m'\u001b[39m\u001b[39mphysics\u001b[39m\u001b[39m'\u001b[39m: \u001b[39m9\u001b[39m}, \u001b[39m'\u001b[39m\u001b[39mid\u001b[39m\u001b[39m'\u001b[39m: \u001b[39m2\u001b[39m},\n\u001b[0;32m      3\u001b[0m {\u001b[39m'\u001b[39m\u001b[39mcredits\u001b[39m\u001b[39m'\u001b[39m: {\u001b[39m'\u001b[39m\u001b[39mlatin\u001b[39m\u001b[39m'\u001b[39m: \u001b[39m10\u001b[39m, \u001b[39m'\u001b[39m\u001b[39mmath\u001b[39m\u001b[39m'\u001b[39m: \u001b[39m6\u001b[39m, \u001b[39m'\u001b[39m\u001b[39mphysics\u001b[39m\u001b[39m'\u001b[39m: \u001b[39m7\u001b[39m}, \u001b[39m'\u001b[39m\u001b[39mid\u001b[39m\u001b[39m'\u001b[39m: \u001b[39m1\u001b[39m},\n\u001b[0;32m      4\u001b[0m {\u001b[39m'\u001b[39m\u001b[39mcredits\u001b[39m\u001b[39m'\u001b[39m: {\u001b[39m'\u001b[39m\u001b[39mhistory\u001b[39m\u001b[39m'\u001b[39m: \u001b[39m7\u001b[39m, \u001b[39m'\u001b[39m\u001b[39mmath\u001b[39m\u001b[39m'\u001b[39m: \u001b[39m9\u001b[39m, \u001b[39m'\u001b[39m\u001b[39mphysics\u001b[39m\u001b[39m'\u001b[39m: \u001b[39m6\u001b[39m}, \u001b[39m'\u001b[39m\u001b[39mid\u001b[39m\u001b[39m'\u001b[39m: \u001b[39m0\u001b[39m},\n\u001b[0;32m      5\u001b[0m {\u001b[39m'\u001b[39m\u001b[39mcredits\u001b[39m\u001b[39m'\u001b[39m: {\u001b[39m'\u001b[39m\u001b[39mgeography\u001b[39m\u001b[39m'\u001b[39m: \u001b[39m7\u001b[39m, \u001b[39m'\u001b[39m\u001b[39mmath\u001b[39m\u001b[39m'\u001b[39m: \u001b[39m5\u001b[39m, \u001b[39m'\u001b[39m\u001b[39mphysics\u001b[39m\u001b[39m'\u001b[39m: \u001b[39m5\u001b[39m}, \u001b[39m'\u001b[39m\u001b[39mid\u001b[39m\u001b[39m'\u001b[39m: \u001b[39m3\u001b[39m}]\n",
      "\u001b[1;31mAttributeError\u001b[0m: 'function' object has no attribute 'sort'"
     ]
    }
   ],
   "source": [
    "decorate.sort.undecorate.py\n",
    "[{'credits': {'chemistry': 10, 'history': 8, 'physics': 9}, 'id': 2},\n",
    "{'credits': {'latin': 10, 'math': 6, 'physics': 7}, 'id': 1},\n",
    "{'credits': {'history': 7, 'math': 9, 'physics': 6}, 'id': 0},\n",
    "{'credits': {'geography': 7, 'math': 5, 'physics': 5}, 'id': 3}]"
   ]
  }
 ],
 "metadata": {
  "kernelspec": {
   "display_name": "Python 3",
   "language": "python",
   "name": "python3"
  },
  "language_info": {
   "codemirror_mode": {
    "name": "ipython",
    "version": 3
   },
   "file_extension": ".py",
   "mimetype": "text/x-python",
   "name": "python",
   "nbconvert_exporter": "python",
   "pygments_lexer": "ipython3",
   "version": "3.11.5"
  },
  "orig_nbformat": 4
 },
 "nbformat": 4,
 "nbformat_minor": 2
}
