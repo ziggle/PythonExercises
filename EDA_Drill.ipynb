{
 "cells": [
  {
   "attachments": {},
   "cell_type": "markdown",
   "metadata": {},
   "source": [
    "https://medium.com/@miyoko_shimura/exploratory-data-analysis-exercise-using-pandas-in-python-2823cff52380"
   ]
  },
  {
   "cell_type": "code",
   "execution_count": 25,
   "metadata": {},
   "outputs": [],
   "source": [
    "#! pip install matplotlib\n",
    "# Import the NumPy library for numerical operations\n",
    "import numpy as np\n",
    "\n",
    "# Import the Pandas library for data manipulation and analysis\n",
    "import pandas as pd\n",
    "\n",
    "import matplotlib.pyplot as plt"
   ]
  },
  {
   "cell_type": "code",
   "execution_count": 26,
   "metadata": {},
   "outputs": [],
   "source": [
    "# The dataset is defined as a list of dictionaries\n",
    "dataset = [\n",
    "    {\"date\": \"2023-05-01\", \"coffee_type\": 1, \"flavor\": 1, \"location\": 1},\n",
    "    {\"date\": \"2023-05-01\", \"coffee_type\": 2, \"flavor\": 1, \"location\": 2},\n",
    "    {\"date\": \"2023-05-01\", \"coffee_type\": 1, \"flavor\": 2, \"location\": 2},\n",
    "    {\"date\": \"2023-05-01\", \"coffee_type\": 3, \"flavor\": 1, \"location\": 1},\n",
    "    {\"date\": \"2023-05-01\", \"coffee_type\": 1, \"flavor\": 2, \"location\": 2},\n",
    "    {\"date\": \"2023-05-01\", \"coffee_type\": 1, \"flavor\": 2, \"location\": 2},\n",
    "    {\"date\": \"2023-05-01\", \"coffee_type\": 1, \"flavor\": 1, \"location\": 1},\n",
    "    {\"date\": \"2023-05-02\", \"coffee_type\": 1, \"flavor\": 1, \"location\": 1},\n",
    "    {\"date\": \"2023-05-02\", \"coffee_type\": 3, \"flavor\": 3, \"location\": 1},\n",
    "    {\"date\": \"2023-05-02\", \"coffee_type\": 3, \"flavor\": 3, \"location\": 2},\n",
    "    {\"date\": \"2023-05-02\", \"coffee_type\": 2, \"flavor\": 3, \"location\": 2},\n",
    "    {\"date\": \"2023-05-02\", \"coffee_type\": 2, \"flavor\": 3, \"location\": 2},\n",
    "    {\"date\": \"2023-05-02\", \"coffee_type\": 3, \"flavor\": 1, \"location\": 1},\n",
    "    {\"date\": \"2023-05-02\", \"coffee_type\": 1, \"flavor\": 2, \"location\": 2},\n",
    "    {\"date\": \"2023-05-03\", \"coffee_type\": 1, \"flavor\": 1, \"location\": 1},\n",
    "    {\"date\": \"2023-05-03\", \"coffee_type\": 2, \"flavor\": 2, \"location\": 1},\n",
    "    {\"date\": \"2023-05-03\", \"coffee_type\": 1, \"flavor\": 1, \"location\": 2},\n",
    "    {\"date\": \"2023-05-03\", \"coffee_type\": 3, \"flavor\": 3, \"location\": 2},\n",
    "    {\"date\": \"2023-05-03\", \"coffee_type\": 2, \"flavor\": 1, \"location\": 1},\n",
    "    {\"date\": \"2023-05-03\", \"coffee_type\": 1, \"flavor\": 1, \"location\": 1},\n",
    "    {\"date\": \"2023-05-03\", \"coffee_type\": 2, \"flavor\": 1, \"location\": 1},\n",
    "]"
   ]
  },
  {
   "cell_type": "code",
   "execution_count": 27,
   "metadata": {},
   "outputs": [
    {
     "data": {
      "text/html": [
       "<div>\n",
       "<style scoped>\n",
       "    .dataframe tbody tr th:only-of-type {\n",
       "        vertical-align: middle;\n",
       "    }\n",
       "\n",
       "    .dataframe tbody tr th {\n",
       "        vertical-align: top;\n",
       "    }\n",
       "\n",
       "    .dataframe thead th {\n",
       "        text-align: right;\n",
       "    }\n",
       "</style>\n",
       "<table border=\"1\" class=\"dataframe\">\n",
       "  <thead>\n",
       "    <tr style=\"text-align: right;\">\n",
       "      <th></th>\n",
       "      <th>coffee_type</th>\n",
       "      <th>flavor</th>\n",
       "      <th>location</th>\n",
       "    </tr>\n",
       "  </thead>\n",
       "  <tbody>\n",
       "    <tr>\n",
       "      <th>count</th>\n",
       "      <td>21.000000</td>\n",
       "      <td>21.000000</td>\n",
       "      <td>21.000000</td>\n",
       "    </tr>\n",
       "    <tr>\n",
       "      <th>mean</th>\n",
       "      <td>1.761905</td>\n",
       "      <td>1.714286</td>\n",
       "      <td>1.476190</td>\n",
       "    </tr>\n",
       "    <tr>\n",
       "      <th>std</th>\n",
       "      <td>0.830949</td>\n",
       "      <td>0.845154</td>\n",
       "      <td>0.511766</td>\n",
       "    </tr>\n",
       "    <tr>\n",
       "      <th>min</th>\n",
       "      <td>1.000000</td>\n",
       "      <td>1.000000</td>\n",
       "      <td>1.000000</td>\n",
       "    </tr>\n",
       "    <tr>\n",
       "      <th>25%</th>\n",
       "      <td>1.000000</td>\n",
       "      <td>1.000000</td>\n",
       "      <td>1.000000</td>\n",
       "    </tr>\n",
       "    <tr>\n",
       "      <th>50%</th>\n",
       "      <td>2.000000</td>\n",
       "      <td>1.000000</td>\n",
       "      <td>1.000000</td>\n",
       "    </tr>\n",
       "    <tr>\n",
       "      <th>75%</th>\n",
       "      <td>2.000000</td>\n",
       "      <td>2.000000</td>\n",
       "      <td>2.000000</td>\n",
       "    </tr>\n",
       "    <tr>\n",
       "      <th>max</th>\n",
       "      <td>3.000000</td>\n",
       "      <td>3.000000</td>\n",
       "      <td>2.000000</td>\n",
       "    </tr>\n",
       "  </tbody>\n",
       "</table>\n",
       "</div>"
      ],
      "text/plain": [
       "       coffee_type     flavor   location\n",
       "count    21.000000  21.000000  21.000000\n",
       "mean      1.761905   1.714286   1.476190\n",
       "std       0.830949   0.845154   0.511766\n",
       "min       1.000000   1.000000   1.000000\n",
       "25%       1.000000   1.000000   1.000000\n",
       "50%       2.000000   1.000000   1.000000\n",
       "75%       2.000000   2.000000   2.000000\n",
       "max       3.000000   3.000000   2.000000"
      ]
     },
     "execution_count": 27,
     "metadata": {},
     "output_type": "execute_result"
    }
   ],
   "source": [
    "# Output basic statistical metrics\n",
    "# count, mean, std, min, max, and percentilfes\n",
    "df.describe()"
   ]
  },
  {
   "cell_type": "code",
   "execution_count": 28,
   "metadata": {},
   "outputs": [
    {
     "name": "stdout",
     "output_type": "stream",
     "text": [
      "<class 'pandas.core.frame.DataFrame'>\n",
      "RangeIndex: 21 entries, 0 to 20\n",
      "Data columns (total 4 columns):\n",
      " #   Column       Non-Null Count  Dtype         \n",
      "---  ------       --------------  -----         \n",
      " 0   date         21 non-null     datetime64[ns]\n",
      " 1   coffee_type  21 non-null     int64         \n",
      " 2   flavor       21 non-null     int64         \n",
      " 3   location     21 non-null     int64         \n",
      "dtypes: datetime64[ns](1), int64(3)\n",
      "memory usage: 804.0 bytes\n"
     ]
    }
   ],
   "source": [
    "# Create the correlation matrix of the 4 features.\n",
    "df.date=pd.to_datetime(df.date)\n",
    "corr = df.info()\n",
    "corr"
   ]
  },
  {
   "cell_type": "code",
   "execution_count": 29,
   "metadata": {},
   "outputs": [],
   "source": [
    "# Creates a DataFrame object named df\n",
    "df = pd.DataFrame(dataset)"
   ]
  },
  {
   "cell_type": "code",
   "execution_count": 30,
   "metadata": {},
   "outputs": [],
   "source": [
    "# Save the DataFrame to a CSV file named 'backup.csv'\n",
    "# df.to_csv('backup.csv', index=False)"
   ]
  },
  {
   "cell_type": "code",
   "execution_count": 31,
   "metadata": {},
   "outputs": [
    {
     "data": {
      "text/html": [
       "<div>\n",
       "<style scoped>\n",
       "    .dataframe tbody tr th:only-of-type {\n",
       "        vertical-align: middle;\n",
       "    }\n",
       "\n",
       "    .dataframe tbody tr th {\n",
       "        vertical-align: top;\n",
       "    }\n",
       "\n",
       "    .dataframe thead th {\n",
       "        text-align: right;\n",
       "    }\n",
       "</style>\n",
       "<table border=\"1\" class=\"dataframe\">\n",
       "  <thead>\n",
       "    <tr style=\"text-align: right;\">\n",
       "      <th></th>\n",
       "      <th>date</th>\n",
       "      <th>coffee_type</th>\n",
       "      <th>flavor</th>\n",
       "      <th>location</th>\n",
       "    </tr>\n",
       "  </thead>\n",
       "  <tbody>\n",
       "    <tr>\n",
       "      <th>0</th>\n",
       "      <td>2023-05-01</td>\n",
       "      <td>1</td>\n",
       "      <td>1</td>\n",
       "      <td>1</td>\n",
       "    </tr>\n",
       "    <tr>\n",
       "      <th>1</th>\n",
       "      <td>2023-05-01</td>\n",
       "      <td>2</td>\n",
       "      <td>1</td>\n",
       "      <td>2</td>\n",
       "    </tr>\n",
       "    <tr>\n",
       "      <th>2</th>\n",
       "      <td>2023-05-01</td>\n",
       "      <td>1</td>\n",
       "      <td>2</td>\n",
       "      <td>2</td>\n",
       "    </tr>\n",
       "    <tr>\n",
       "      <th>3</th>\n",
       "      <td>2023-05-01</td>\n",
       "      <td>3</td>\n",
       "      <td>1</td>\n",
       "      <td>1</td>\n",
       "    </tr>\n",
       "    <tr>\n",
       "      <th>4</th>\n",
       "      <td>2023-05-01</td>\n",
       "      <td>1</td>\n",
       "      <td>2</td>\n",
       "      <td>2</td>\n",
       "    </tr>\n",
       "  </tbody>\n",
       "</table>\n",
       "</div>"
      ],
      "text/plain": [
       "         date  coffee_type  flavor  location\n",
       "0  2023-05-01            1       1         1\n",
       "1  2023-05-01            2       1         2\n",
       "2  2023-05-01            1       2         2\n",
       "3  2023-05-01            3       1         1\n",
       "4  2023-05-01            1       2         2"
      ]
     },
     "execution_count": 31,
     "metadata": {},
     "output_type": "execute_result"
    }
   ],
   "source": [
    "# Display the first five rows of the DataFrame\n",
    "df.head()"
   ]
  },
  {
   "cell_type": "code",
   "execution_count": 32,
   "metadata": {},
   "outputs": [
    {
     "data": {
      "text/html": [
       "<div>\n",
       "<style scoped>\n",
       "    .dataframe tbody tr th:only-of-type {\n",
       "        vertical-align: middle;\n",
       "    }\n",
       "\n",
       "    .dataframe tbody tr th {\n",
       "        vertical-align: top;\n",
       "    }\n",
       "\n",
       "    .dataframe thead th {\n",
       "        text-align: right;\n",
       "    }\n",
       "</style>\n",
       "<table border=\"1\" class=\"dataframe\">\n",
       "  <thead>\n",
       "    <tr style=\"text-align: right;\">\n",
       "      <th></th>\n",
       "      <th>coffee_type</th>\n",
       "      <th>flavor</th>\n",
       "      <th>location</th>\n",
       "    </tr>\n",
       "  </thead>\n",
       "  <tbody>\n",
       "    <tr>\n",
       "      <th>coffee_type</th>\n",
       "      <td>1.000000</td>\n",
       "      <td>0.396667</td>\n",
       "      <td>-0.072786</td>\n",
       "    </tr>\n",
       "    <tr>\n",
       "      <th>flavor</th>\n",
       "      <td>0.396667</td>\n",
       "      <td>1.000000</td>\n",
       "      <td>0.561492</td>\n",
       "    </tr>\n",
       "    <tr>\n",
       "      <th>location</th>\n",
       "      <td>-0.072786</td>\n",
       "      <td>0.561492</td>\n",
       "      <td>1.000000</td>\n",
       "    </tr>\n",
       "  </tbody>\n",
       "</table>\n",
       "</div>"
      ],
      "text/plain": [
       "             coffee_type    flavor  location\n",
       "coffee_type     1.000000  0.396667 -0.072786\n",
       "flavor          0.396667  1.000000  0.561492\n",
       "location       -0.072786  0.561492  1.000000"
      ]
     },
     "execution_count": 32,
     "metadata": {},
     "output_type": "execute_result"
    }
   ],
   "source": [
    "# Create the correlation matrix of the 4 features.\n",
    "corr = df[['coffee_type','flavor','location']].corr()\n",
    "corr"
   ]
  },
  {
   "cell_type": "code",
   "execution_count": 33,
   "metadata": {},
   "outputs": [
    {
     "data": {
      "text/plain": [
       "array([[<Axes: title={'center': 'coffee_type'}>,\n",
       "        <Axes: title={'center': 'flavor'}>],\n",
       "       [<Axes: title={'center': 'location'}>, <Axes: >]], dtype=object)"
      ]
     },
     "execution_count": 33,
     "metadata": {},
     "output_type": "execute_result"
    },
    {
     "data": {
      "image/png": "[encoded data removed]",
      "text/plain": [
       "<Figure size 640x480 with 4 Axes>"
      ]
     },
     "metadata": {},
     "output_type": "display_data"
    }
   ],
   "source": [
    "df[['coffee_type','flavor','location']].hist()"
   ]
  },
  {
   "cell_type": "code",
   "execution_count": 34,
   "metadata": {},
   "outputs": [
    {
     "data": {
      "image/png": "[encoded data removed]",
      "text/plain": [
       "<Figure size 640x480 with 1 Axes>"
      ]
     },
     "metadata": {},
     "output_type": "display_data"
    }
   ],
   "source": [
    "#from matplotlib import pyplot as plt\n",
    "\n",
    "# Calculate the count of coffee types\n",
    "coffee_type_counts = df['coffee_type'].value_counts()\n",
    "\n",
    "# Create a pie chart\n",
    "coffee_type_counts.plot(kind='pie', autopct='%1.1f%%')\n",
    "\n",
    "# Set the aspect ratio to 'equal' for a circular pie\n",
    "plt.axis('equal')\n",
    "\n",
    "# Set the title\n",
    "plt.title('Distribution of Coffee Types')\n",
    "\n",
    "# Display the plot\n",
    "plt.show()"
   ]
  },
  {
   "cell_type": "code",
   "execution_count": 35,
   "metadata": {},
   "outputs": [
    {
     "data": {
      "image/png": "[encoded data removed]",
      "text/plain": [
       "<Figure size 640x480 with 1 Axes>"
      ]
     },
     "metadata": {},
     "output_type": "display_data"
    }
   ],
   "source": [
    "# Create a pivot table to aggregate the data\n",
    "pivot_table = df.pivot_table(index='coffee_type', columns='flavor', values='location', aggfunc='count')\n",
    "\n",
    "# Create a stacked bar plot\n",
    "pivot_table.plot(kind='bar', stacked=True)\n",
    "\n",
    "# Set x-axis and y-axis labels\n",
    "plt.xlabel('Coffee Type')\n",
    "plt.ylabel('Count')\n",
    "plt.title('Stacked Bar Plot of Flavors by Coffee Type')\n",
    "\n",
    "# Display the plot\n",
    "plt.show()"
   ]
  },
  {
   "cell_type": "code",
   "execution_count": null,
   "metadata": {},
   "outputs": [],
   "source": []
  }
 ],
 "metadata": {
  "kernelspec": {
   "display_name": "Python 3",
   "language": "python",
   "name": "python3"
  },
  "language_info": {
   "codemirror_mode": {
    "name": "ipython",
    "version": 3
   },
   "file_extension": ".py",
   "mimetype": "text/x-python",
   "name": "python",
   "nbconvert_exporter": "python",
   "pygments_lexer": "ipython3",
   "version": "3.11.3"
  },
  "orig_nbformat": 4
 },
 "nbformat": 4,
 "nbformat_minor": 2
}
