{
 "cells": [
  {
   "attachments": {},
   "cell_type": "markdown",
   "metadata": {},
   "source": [
    "https://towardsdatascience.com/6-use-cases-in-python-where-and-come-in-handy-530dd9d04875"
   ]
  },
  {
   "cell_type": "code",
   "execution_count": 1,
   "metadata": {},
   "outputs": [
    {
     "name": "stdout",
     "output_type": "stream",
     "text": [
      "16\n"
     ]
    }
   ],
   "source": [
    "# define the function\n",
    "def calculate_sum(a, b, c, d, e):\n",
    "    return a + b + c + d + e\n",
    "\n",
    "# call the function\n",
    "result = calculate_sum(1, 4, 3, 2, 6)\n",
    "print(result)"
   ]
  },
  {
   "cell_type": "code",
   "execution_count": 2,
   "metadata": {},
   "outputs": [
    {
     "name": "stdout",
     "output_type": "stream",
     "text": [
      "16\n"
     ]
    }
   ],
   "source": [
    "# call the function\n",
    "numbers = [1, 4, 3, 2, 6]\n",
    "\n",
    "calculate_sum(*numbers)\n",
    "print(result)"
   ]
  },
  {
   "cell_type": "code",
   "execution_count": 3,
   "metadata": {},
   "outputs": [
    {
     "name": "stdout",
     "output_type": "stream",
     "text": [
      "600\n"
     ]
    }
   ],
   "source": [
    "# define the function\n",
    "def calculate_mass(density, length=1, width=1, height=1):\n",
    "    return density * length * width * height\n",
    "\n",
    "# call the function\n",
    "density = 20\n",
    "mass = calculate_mass(density, 2, 3, 5)\n",
    "print(mass)"
   ]
  },
  {
   "cell_type": "code",
   "execution_count": 4,
   "metadata": {},
   "outputs": [
    {
     "data": {
      "text/plain": [
       "600"
      ]
     },
     "execution_count": 4,
     "metadata": {},
     "output_type": "execute_result"
    }
   ],
   "source": [
    "# call the function\n",
    "density = 20\n",
    "\n",
    "measures = {\n",
    "    \"length\": 2,\n",
    "    \"width\": 3,\n",
    "    \"height\": 5\n",
    "}\n",
    "\n",
    "calculate_mass(density, **measures)"
   ]
  },
  {
   "cell_type": "code",
   "execution_count": 5,
   "metadata": {},
   "outputs": [],
   "source": [
    "# define the function\n",
    "def calculate_sum(*args):\n",
    "    result = 0\n",
    "    for i in args:\n",
    "        result += i\n",
    "    return result"
   ]
  },
  {
   "cell_type": "code",
   "execution_count": 6,
   "metadata": {},
   "outputs": [
    {
     "data": {
      "text/plain": [
       "65"
      ]
     },
     "execution_count": 6,
     "metadata": {},
     "output_type": "execute_result"
    }
   ],
   "source": [
    "# calling with 2 values\n",
    "calculate_sum(3, 4)\n",
    "              \n",
    "my_list = [1, 4, 5, 10, 20]\n",
    "calculate_sum(*my_list)\n",
    "\n",
    "# calling with a value and a list\n",
    "my_list = [10, 20, 30]\n",
    "calculate_sum(5, *my_list)"
   ]
  },
  {
   "cell_type": "code",
   "execution_count": 7,
   "metadata": {},
   "outputs": [],
   "source": [
    "# define the function\n",
    "def greet(name, **kwargs):\n",
    "    greeting = f\"Hello, {name}.\\n\"\n",
    "    \n",
    "    if kwargs:\n",
    "        greeting += \"Here are the things I know about you:\\n\"\n",
    "        for key, value in kwargs.items():\n",
    "            greeting += f\" {key.title()}: {value}\\n\"\n",
    "    \n",
    "    return greeting"
   ]
  },
  {
   "cell_type": "code",
   "execution_count": 8,
   "metadata": {},
   "outputs": [
    {
     "name": "stdout",
     "output_type": "stream",
     "text": [
      "Hello, John.\n",
      "\n",
      "Hello, Jane.\n",
      "Here are the things I know about you:\n",
      " Age: 34\n",
      " Job: doctor\n",
      " Hobby: chess\n",
      "\n",
      "Hello, Ashley.\n",
      "Here are the things I know about you:\n",
      " Age: 27\n",
      " Profession: athlete\n",
      " Hobby: reading\n",
      "\n"
     ]
    }
   ],
   "source": [
    "# calling with the name (positional argument) only\n",
    "print(greet(\"John\"))\n",
    "\n",
    "\n",
    "# calling with adding some keyword arguments\n",
    "print(greet(\"Jane\", age=34, job=\"doctor\", hobby=\"chess\"))\n",
    "# output\n",
    "\n",
    "\n",
    "# calling with adding some keyword arguments as a dictionary\n",
    "ashley = {\n",
    "    \"age\": 27,\n",
    "    \"profession\": \"athlete\",\n",
    "    \"hobby\": \"reading\"\n",
    "}\n",
    "\n",
    "print(greet(\"Ashley\", **ashley))"
   ]
  },
  {
   "cell_type": "code",
   "execution_count": 9,
   "metadata": {},
   "outputs": [
    {
     "name": "stdout",
     "output_type": "stream",
     "text": [
      "{'John': 34, 'Jane': 36, 'Matt': 28, 'Ashley': 24}\n"
     ]
    }
   ],
   "source": [
    "ages = {\n",
    "    \"John\": 34,\n",
    "    \"Jane\": 36\n",
    "}\n",
    "\n",
    "new_items = {\n",
    "    \"Matt\": 28,\n",
    "    \"Ashley\": 24\n",
    "}\n",
    "\n",
    "ages = {**ages, **new_items}\n",
    "\n",
    "print(ages)"
   ]
  },
  {
   "cell_type": "code",
   "execution_count": 10,
   "metadata": {},
   "outputs": [
    {
     "name": "stdout",
     "output_type": "stream",
     "text": [
      "3\n",
      "[5, 1, 10, 24]\n"
     ]
    }
   ],
   "source": [
    "first, *others = [3, 5, 1, 10, 24]\n",
    "\n",
    "print(first)\n",
    "print(others)"
   ]
  },
  {
   "cell_type": "code",
   "execution_count": 11,
   "metadata": {},
   "outputs": [
    {
     "name": "stdout",
     "output_type": "stream",
     "text": [
      "3\n",
      "[5, 1, 10]\n",
      "24\n"
     ]
    }
   ],
   "source": [
    "first, *others, last = [3, 5, 1, 10, 24]\n",
    "\n",
    "print(first)\n",
    "print(others)\n",
    "print(last)"
   ]
  },
  {
   "cell_type": "code",
   "execution_count": 12,
   "metadata": {},
   "outputs": [
    {
     "name": "stdout",
     "output_type": "stream",
     "text": [
      "4\n",
      "[9, 11, 17]\n"
     ]
    }
   ],
   "source": [
    "# define the function\n",
    "def my_func(a, b, c, d, e):\n",
    "    sum_1 = a + b\n",
    "    sum_2 = a + b + c\n",
    "    sum_3 = a + b + c + d\n",
    "    sum_4 = a + b + c + d + e\n",
    "    return sum_1, sum_2, sum_3, sum_4\n",
    "\n",
    "# call the function\n",
    "first_sum, *other_sums = my_func(1, 3, 5, 2, 6)\n",
    "\n",
    "print(first_sum)\n",
    "print(other_sums)\n",
    "# output"
   ]
  }
 ],
 "metadata": {
  "kernelspec": {
   "display_name": "Python 3",
   "language": "python",
   "name": "python3"
  },
  "language_info": {
   "codemirror_mode": {
    "name": "ipython",
    "version": 3
   },
   "file_extension": ".py",
   "mimetype": "text/x-python",
   "name": "python",
   "nbconvert_exporter": "python",
   "pygments_lexer": "ipython3",
   "version": "3.11.4"
  },
  "orig_nbformat": 4
 },
 "nbformat": 4,
 "nbformat_minor": 2
}
