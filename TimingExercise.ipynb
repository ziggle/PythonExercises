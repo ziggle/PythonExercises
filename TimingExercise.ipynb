{
 "cells": [
  {
   "cell_type": "markdown",
   "metadata": {},
   "source": [
    "https://medium.com/bitgrit-data-science-publication/4-ways-to-time-python-functions-bb2e4fbe4121"
   ]
  },
  {
   "cell_type": "code",
   "execution_count": 1,
   "metadata": {},
   "outputs": [],
   "source": [
    "def fibonacci(n):\n",
    "    \"\"\"Calculate the nth Fibonacci number using recursion.\"\"\"\n",
    "    if n <= 0:\n",
    "        return 0\n",
    "    elif n == 1:\n",
    "        return 1\n",
    "    else:\n",
    "        return fibonacci(n - 1) + fibonacci(n - 2)"
   ]
  },
  {
   "cell_type": "code",
   "execution_count": 2,
   "metadata": {},
   "outputs": [
    {
     "name": "stdout",
     "output_type": "stream",
     "text": [
      "Time taken: 0.005171 seconds\n"
     ]
    }
   ],
   "source": [
    "import time\n",
    "\n",
    "start = time.perf_counter()\n",
    "result = fibonacci(20)\n",
    "end = time.perf_counter()\n",
    "elapsed = end - start\n",
    "print(f'Time taken: {elapsed:.6f} seconds')"
   ]
  },
  {
   "cell_type": "code",
   "execution_count": 3,
   "metadata": {},
   "outputs": [
    {
     "name": "stdout",
     "output_type": "stream",
     "text": [
      "Time taken: 0.005998 seconds\n"
     ]
    }
   ],
   "source": [
    "import time\n",
    "\n",
    "start = time.time()\n",
    "result = fibonacci(20)\n",
    "end = time.time()\n",
    "elapsed = end - start\n",
    "print(f'Time taken: {elapsed:.6f} seconds')"
   ]
  },
  {
   "cell_type": "code",
   "execution_count": 4,
   "metadata": {},
   "outputs": [
    {
     "name": "stdout",
     "output_type": "stream",
     "text": [
      "Time taken: 0.007794 seconds\n"
     ]
    }
   ],
   "source": [
    "import timeit\n",
    "\n",
    "timer = timeit.Timer(lambda: fibonacci(20))\n",
    "elapsed = timer.timeit(1)\n",
    "print(f'Time taken: {elapsed:.6f} seconds')"
   ]
  },
  {
   "cell_type": "code",
   "execution_count": 5,
   "metadata": {},
   "outputs": [
    {
     "name": "stdout",
     "output_type": "stream",
     "text": [
      "         21894 function calls (4 primitive calls) in 0.014 seconds\n",
      "\n",
      "   Ordered by: standard name\n",
      "\n",
      "   ncalls  tottime  percall  cumtime  percall filename:lineno(function)\n",
      "  21891/1    0.014    0.000    0.014    0.014 <ipython-input-1-84d4a085b5db>:1(fibonacci)\n",
      "        1    0.000    0.000    0.014    0.014 <string>:1(<module>)\n",
      "        1    0.000    0.000    0.014    0.014 {built-in method builtins.exec}\n",
      "        1    0.000    0.000    0.000    0.000 {method 'disable' of '_lsprof.Profiler' objects}\n",
      "\n",
      "\n"
     ]
    }
   ],
   "source": [
    "import cProfile\n",
    "\n",
    "cProfile.run('fibonacci(20)')"
   ]
  },
  {
   "cell_type": "code",
   "execution_count": 6,
   "metadata": {},
   "outputs": [
    {
     "name": "stdout",
     "output_type": "stream",
     "text": [
      "Time taken: 1.372912 seconds\n"
     ]
    }
   ],
   "source": [
    "import time\n",
    "import random\n",
    "\n",
    "def timeit(func):\n",
    "    def wrapper(*args, **kwargs):\n",
    "        start = time.perf_counter()\n",
    "        result = func(*args, **kwargs)\n",
    "        end = time.perf_counter()\n",
    "        elapsed = end - start\n",
    "        print(f'Time taken: {elapsed:.6f} seconds')\n",
    "        return result\n",
    "    return wrapper\n",
    "\n",
    "@timeit\n",
    "def calculate_pi(n):\n",
    "    \"\"\"Calculate and return an approximation of pi using the Monte Carlo method.\"\"\"\n",
    "    inside = 0\n",
    "    for i in range(n):\n",
    "        x = random.uniform(-1, 1)\n",
    "        y = random.uniform(-1, 1)\n",
    "        if x ** 2 + y ** 2 <= 1:\n",
    "            inside += 1\n",
    "    pi = (inside / n) * 4\n",
    "    return pi\n",
    "\n",
    "pi = calculate_pi(1000000)"
   ]
  }
 ],
 "metadata": {
  "kernelspec": {
   "display_name": "Python 3",
   "language": "python",
   "name": "python3"
  },
  "language_info": {
   "codemirror_mode": {
    "name": "ipython",
    "version": 3
   },
   "file_extension": ".py",
   "mimetype": "text/x-python",
   "name": "python",
   "nbconvert_exporter": "python",
   "pygments_lexer": "ipython3",
   "version": "3.8.5"
  }
 },
 "nbformat": 4,
 "nbformat_minor": 4
}
