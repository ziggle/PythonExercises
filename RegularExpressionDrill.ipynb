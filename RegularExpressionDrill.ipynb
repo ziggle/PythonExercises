{
 "cells": [
  {
   "cell_type": "markdown",
   "id": "f694abef",
   "metadata": {},
   "source": [
    "https://medium.com/techtofreedom/9-practical-examples-of-using-regular-expressions-in-python-1b4f8da5cdab"
   ]
  },
  {
   "cell_type": "code",
   "execution_count": 1,
   "id": "cae7c549",
   "metadata": {},
   "outputs": [
    {
     "name": "stdout",
     "output_type": "stream",
     "text": [
      "Valid email address:)\n",
      "Invalid email address!!\n",
      "Invalid email address!!\n"
     ]
    }
   ],
   "source": [
    "import re\n",
    "\n",
    "\n",
    "def val_email(email):\n",
    "    pattern = r\"^[a-zA-Z0-9]+@[a-zA-Z0-9]+\\.[a-zA-Z]{2,}$\"\n",
    "    if re.match(pattern, email):\n",
    "        print(\"Valid email address:)\")\n",
    "    else:\n",
    "        print(\"Invalid email address!!\")\n",
    "\n",
    "\n",
    "val_email(email=\"elon@example.com\")\n",
    "# Valid email address:)\n",
    "val_email(email=\"elonexample.com\")\n",
    "# Invalid email address!!\n",
    "val_email(email=\"elon@example.c\")\n",
    "# Invalid email address!!"
   ]
  },
  {
   "cell_type": "code",
   "execution_count": 2,
   "id": "397753e7",
   "metadata": {},
   "outputs": [
    {
     "name": "stdout",
     "output_type": "stream",
     "text": [
      "['1000000']\n"
     ]
    }
   ],
   "source": [
    "import re\n",
    "\n",
    "\n",
    "def extract_numbers(text):\n",
    "    pattern = r\"\\d+\"\n",
    "    return re.findall(pattern, text)\n",
    "\n",
    "\n",
    "print(extract_numbers(\"There are over 1000000 views of Yang's articles.\"))\n",
    "# ['1000000']"
   ]
  },
  {
   "cell_type": "code",
   "execution_count": 3,
   "id": "684a6c34",
   "metadata": {},
   "outputs": [
    {
     "name": "stdout",
     "output_type": "stream",
     "text": [
      "True\n",
      "False\n"
     ]
    }
   ],
   "source": [
    "import re\n",
    "\n",
    "def is_valid_phone_number(phone_number):\n",
    "    pattern = r\"^\\d{3}-\\d{3}-\\d{4}$\"\n",
    "    return bool(re.match(pattern, phone_number))\n",
    "\n",
    "print(is_valid_phone_number(\"123-456-7890\"))  # True\n",
    "print(is_valid_phone_number(\"1234567890\"))  # False"
   ]
  },
  {
   "cell_type": "code",
   "execution_count": 4,
   "id": "4e56bad2",
   "metadata": {},
   "outputs": [
    {
     "data": {
      "text/plain": [
       "['a', 'b', 'c', 'd']"
      ]
     },
     "execution_count": 4,
     "metadata": {},
     "output_type": "execute_result"
    }
   ],
   "source": [
    "re.split(r'\\s+', 'a b   c')\n",
    "# ['a', 'b', 'c']\n",
    "\n",
    "re.split(r'[\\s\\,]+', 'a,b, c  d')\n",
    "# ['a', 'b', 'c', 'd']\n",
    "\n",
    "re.split(r'[\\s\\,\\;]+', 'a,b;; c  d')\n",
    "#['a', 'b', 'c', 'd']"
   ]
  },
  {
   "cell_type": "code",
   "execution_count": 5,
   "id": "ae63c5b2",
   "metadata": {},
   "outputs": [
    {
     "name": "stdout",
     "output_type": "stream",
     "text": [
      "Y*ng is *n full-st**k softw*re engineer.\n"
     ]
    }
   ],
   "source": [
    "import re\n",
    "\n",
    "text = \"Yang is an full-stack software engineer.\"\n",
    "pattern = r\"[a-c]\"\n",
    "replacement = \"*\"\n",
    "\n",
    "new_text = re.sub(pattern, replacement, text)\n",
    "print(new_text)  \n",
    "# Y*ng is *n full-st**k softw*re engineer."
   ]
  },
  {
   "cell_type": "code",
   "execution_count": 6,
   "id": "97c1e4b1",
   "metadata": {},
   "outputs": [
    {
     "name": "stdout",
     "output_type": "stream",
     "text": [
      "<re.Match object; span=(0, 3), match='123'>\n",
      "None\n"
     ]
    }
   ],
   "source": [
    "import re\n",
    "re_numbers = re.compile(r'^\\d+$')\n",
    "print(re_numbers.match('123'))\n",
    "# <re.Match object; span=(0, 3), match='123'>\n",
    "print(re_numbers.match('Yang'))\n",
    "# None"
   ]
  },
  {
   "cell_type": "code",
   "execution_count": 7,
   "id": "5d31808d",
   "metadata": {},
   "outputs": [
    {
     "name": "stdout",
     "output_type": "stream",
     "text": [
      "('18', '05')\n",
      "18:05\n",
      "18:05\n",
      "18\n",
      "05\n"
     ]
    }
   ],
   "source": [
    "import re\n",
    "\n",
    "time='18:05'\n",
    "\n",
    "matched = re.match(r'^(0[0-9]|1[0-9]|2[0-3])\\:(0[0-9]|1[0-9]|2[0-9]|3[0-9]|4[0-9]|5[0-9])$', time)\n",
    "\n",
    "print(matched.groups())\n",
    "# ('18', '05')\n",
    "print(matched.group())\n",
    "# '18:05' \n",
    "print(matched.group(0)) \n",
    "# '18:05'\n",
    "print(matched.group(1))\n",
    "# '18'\n",
    "print(matched.group(2))\n",
    "# '05'"
   ]
  },
  {
   "cell_type": "code",
   "execution_count": 8,
   "id": "740a4d64",
   "metadata": {},
   "outputs": [
    {
     "name": "stdout",
     "output_type": "stream",
     "text": [
      "Yang\n",
      "30\n"
     ]
    }
   ],
   "source": [
    "import re\n",
    "\n",
    "text = \"Yang, age 30\"\n",
    "pattern = r\"(?P<name>\\w+),\\sage\\s(?P<age>\\d+)\"\n",
    "\n",
    "match = re.search(pattern, text)\n",
    "\n",
    "print(match.group(\"name\"))  \n",
    "# Yang\n",
    "print(match.group(\"age\"))   \n",
    "# 30"
   ]
  },
  {
   "cell_type": "code",
   "execution_count": 9,
   "id": "4f6dd9bb",
   "metadata": {},
   "outputs": [
    {
     "name": "stdout",
     "output_type": "stream",
     "text": [
      "Yang\n",
      "yang@example.com\n",
      "555-555-5555\n"
     ]
    }
   ],
   "source": [
    "import re\n",
    "\n",
    "text = \"Yang, yang@example.com, 555-555-5555\"\n",
    "pattern = r\"\"\"\n",
    "    (?P<name>\\w+),\\s\n",
    "    (?P<email>\\w+@\\w+\\.\\w+),\\s\n",
    "    (?P<phone>\\d{3}-\\d{3}-\\d{4})\n",
    "\"\"\"\n",
    "\n",
    "match = re.search(pattern, text, re.VERBOSE)\n",
    "if match:\n",
    "    print(match.group(\"name\"))\n",
    "    print(match.group(\"email\"))\n",
    "    print(match.group(\"phone\"))\n",
    "# Yang\n",
    "# yang@example.com\n",
    "# 555-555-5555"
   ]
  }
 ],
 "metadata": {
  "kernelspec": {
   "display_name": "Python 3 (ipykernel)",
   "language": "python",
   "name": "python3"
  },
  "language_info": {
   "codemirror_mode": {
    "name": "ipython",
    "version": 3
   },
   "file_extension": ".py",
   "mimetype": "text/x-python",
   "name": "python",
   "nbconvert_exporter": "python",
   "pygments_lexer": "ipython3",
   "version": "3.9.15"
  },
  "toc": {
   "base_numbering": 1,
   "nav_menu": {},
   "number_sections": true,
   "sideBar": true,
   "skip_h1_title": false,
   "title_cell": "Table of Contents",
   "title_sidebar": "Contents",
   "toc_cell": false,
   "toc_position": {},
   "toc_section_display": true,
   "toc_window_display": false
  }
 },
 "nbformat": 4,
 "nbformat_minor": 5
}
