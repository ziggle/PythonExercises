{
 "cells": [
  {
   "cell_type": "markdown",
   "metadata": {},
   "source": [
    "https://medium.com/geekculture/the-power-of-crosstab-function-in-pandas-for-data-analysis-and-visualization-6c085c269fcd"
   ]
  },
  {
   "cell_type": "code",
   "execution_count": 1,
   "metadata": {},
   "outputs": [
    {
     "name": "stdout",
     "output_type": "stream",
     "text": [
      "education_level  college  graduate  high school\n",
      "gender                                         \n",
      "female                 1         3            0\n",
      "male                   2         0            2\n"
     ]
    }
   ],
   "source": [
    "import pandas as pd\n",
    "\n",
    "# create a sample dataset\n",
    "df = pd.DataFrame({\n",
    "    'gender': ['male', 'male', 'female', 'female', 'male', 'female', 'male', 'female'],\n",
    "    'education_level': ['high school', 'college', 'college', 'graduate', 'high school', 'graduate', 'college', 'graduate'],\n",
    "    'score': [75, 82, 88, 95, 69, 92, 78, 85]\n",
    "})\n",
    "\n",
    "# create a crosstab table of gender and education level\n",
    "ct = pd.crosstab(df['gender'], df['education_level'])\n",
    "print(ct)"
   ]
  },
  {
   "cell_type": "code",
   "execution_count": 2,
   "metadata": {},
   "outputs": [
    {
     "name": "stdout",
     "output_type": "stream",
     "text": [
      "education_level  college   graduate  high school\n",
      "gender                                          \n",
      "female              88.0  90.666667          NaN\n",
      "male                80.0        NaN         72.0\n"
     ]
    }
   ],
   "source": [
    "# create a crosstab table of gender and education level with mean score\n",
    "ct_mean = pd.crosstab(df['gender'], df['education_level'], \n",
    "                    values=df['score'], aggfunc='mean')\n",
    "print(ct_mean)"
   ]
  },
  {
   "cell_type": "code",
   "execution_count": 3,
   "metadata": {},
   "outputs": [
    {
     "name": "stdout",
     "output_type": "stream",
     "text": [
      "education_level  college  graduate  high school  All\n",
      "gender                                              \n",
      "female                 1         3            0    4\n",
      "male                   2         0            2    4\n",
      "All                    3         3            2    8\n"
     ]
    },
    {
     "data": {
      "image/png": "[encoded data removed]",
      "text/plain": [
       "<Figure size 432x288 with 2 Axes>"
      ]
     },
     "metadata": {
      "needs_background": "light"
     },
     "output_type": "display_data"
    }
   ],
   "source": [
    "# create a crosstab table of gender and education level with row and column margins\n",
    "import seaborn as sns\n",
    "ct_margins = pd.crosstab(df['gender'], df['education_level'], margins=True)\n",
    "sns.heatmap(ct_margins, cmap='coolwarm', annot=True)\n",
    "print(ct_margins)"
   ]
  },
  {
   "cell_type": "code",
   "execution_count": 4,
   "metadata": {},
   "outputs": [
    {
     "name": "stdout",
     "output_type": "stream",
     "text": [
      "education_level  college  graduate  high school  All\n",
      "gender                                              \n",
      "female             0.125     0.375         0.00  0.5\n",
      "male               0.250     0.000         0.25  0.5\n",
      "All                0.375     0.375         0.25  1.0\n"
     ]
    }
   ],
   "source": [
    "# create a crosstab table of gender and education level with normalization\n",
    "ct_norm = pd.crosstab(df['gender'], df['education_level'], normalize=True,\n",
    "                      margins=True)\n",
    "print(ct_norm)"
   ]
  },
  {
   "cell_type": "code",
   "execution_count": 5,
   "metadata": {},
   "outputs": [
    {
     "data": {
      "text/plain": [
       "<AxesSubplot:xlabel='gender'>"
      ]
     },
     "execution_count": 5,
     "metadata": {},
     "output_type": "execute_result"
    },
    {
     "data": {
      "image/png": "[encoded data removed]",
      "text/plain": [
       "<Figure size 432x288 with 1 Axes>"
      ]
     },
     "metadata": {
      "needs_background": "light"
     },
     "output_type": "display_data"
    }
   ],
   "source": [
    "# create a crosstab table of gender and education level with visualization\n",
    "ct_viz = pd.crosstab(df['gender'], df['education_level'])\n",
    "ct_viz.plot(kind='bar', stacked=True)\n"
   ]
  },
  {
   "cell_type": "code",
   "execution_count": 6,
   "metadata": {},
   "outputs": [
    {
     "name": "stdout",
     "output_type": "stream",
     "text": [
      "education_level  college   graduate  high school\n",
      "gender                                          \n",
      "female              88.0  90.666667          NaN\n",
      "male                80.0        NaN         72.0\n"
     ]
    }
   ],
   "source": [
    "import numpy as np\n",
    "\n",
    "# create a crosstab table of gender and education level with mean score\n",
    "ct_agg = pd.crosstab(df['gender'], df['education_level'], values=df['score'], aggfunc=np.mean)\n",
    "print(ct_agg)"
   ]
  },
  {
   "cell_type": "code",
   "execution_count": null,
   "metadata": {},
   "outputs": [],
   "source": []
  }
 ],
 "metadata": {
  "kernelspec": {
   "display_name": "Python 3",
   "language": "python",
   "name": "python3"
  },
  "language_info": {
   "codemirror_mode": {
    "name": "ipython",
    "version": 3
   },
   "file_extension": ".py",
   "mimetype": "text/x-python",
   "name": "python",
   "nbconvert_exporter": "python",
   "pygments_lexer": "ipython3",
   "version": "3.8.5"
  }
 },
 "nbformat": 4,
 "nbformat_minor": 4
}
