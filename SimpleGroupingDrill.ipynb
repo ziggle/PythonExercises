{
 "cells": [
  {
   "cell_type": "markdown",
   "metadata": {},
   "source": [
    "https://medium.com/geekculture/mastering-groupby-aggregation-in-pandas-using-different-aggregated-functions-on-different-columns-9dca54b75961"
   ]
  },
  {
   "cell_type": "code",
   "execution_count": 1,
   "metadata": {},
   "outputs": [
    {
     "name": "stdout",
     "output_type": "stream",
     "text": [
      "       sum_value1  mean_value2\n",
      "group                         \n",
      "A              30          150\n",
      "B              70          350\n"
     ]
    }
   ],
   "source": [
    "import pandas as pd\n",
    "df = pd.DataFrame({\n",
    "    'group': ['A', 'A', 'B', 'B'],\n",
    "    'value1': [10, 20, 30, 40],\n",
    "    'value2': [100, 200, 300, 400]\n",
    "})\n",
    "# use groupby\n",
    "result = df.groupby('group').agg({'value1': 'sum', 'value2': 'mean'})\n",
    "\n",
    "result = result.rename(columns={'value1': 'sum_value1', 'value2': 'mean_value2'})\n",
    "print(result)"
   ]
  },
  {
   "cell_type": "code",
   "execution_count": 2,
   "metadata": {},
   "outputs": [
    {
     "name": "stdout",
     "output_type": "stream",
     "text": [
      "       sum_value1  mean_value2\n",
      "group                         \n",
      "A              30          150\n",
      "B              70          350\n"
     ]
    }
   ],
   "source": [
    "import pandas as pd\n",
    "df = pd.DataFrame({\n",
    "    'group': ['A', 'A', 'B', 'B'],\n",
    "    'value1': [10, 20, 30, 40],\n",
    "    'value2': [100, 200, 300, 400]\n",
    "})\n",
    "result = df.groupby('group').agg(sum_value1=('value1', 'sum'), mean_value2=('value2', 'mean'))\n",
    "print(result)"
   ]
  },
  {
   "cell_type": "code",
   "execution_count": null,
   "metadata": {},
   "outputs": [],
   "source": []
  }
 ],
 "metadata": {
  "kernelspec": {
   "display_name": "Python 3",
   "language": "python",
   "name": "python3"
  },
  "language_info": {
   "codemirror_mode": {
    "name": "ipython",
    "version": 3
   },
   "file_extension": ".py",
   "mimetype": "text/x-python",
   "name": "python",
   "nbconvert_exporter": "python",
   "pygments_lexer": "ipython3",
   "version": "3.8.5"
  }
 },
 "nbformat": 4,
 "nbformat_minor": 4
}
