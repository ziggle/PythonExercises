{
 "cells": [
  {
   "cell_type": "markdown",
   "id": "40c83278",
   "metadata": {},
   "source": [
    "https://zlliu.medium.com/pyramid-of-letters-difficult-python-practice-question-3-ebdebe83ea22"
   ]
  },
  {
   "cell_type": "code",
   "execution_count": 3,
   "id": "09e98263",
   "metadata": {},
   "outputs": [],
   "source": [
    "def pyramid(string):\n",
    "    row_length = 1\n",
    "    start = 0\n",
    "    while True:\n",
    "        print(string[start:start+row_length])\n",
    "        start += row_length\n",
    "        row_length += 1\n",
    "        \n",
    "        if start > len(string):\n",
    "            break\n",
    "   "
   ]
  },
  {
   "cell_type": "code",
   "execution_count": 4,
   "id": "296ab59d",
   "metadata": {},
   "outputs": [
    {
     "name": "stdout",
     "output_type": "stream",
     "text": [
      "a\n",
      "bc\n",
      "def\n",
      "\n"
     ]
    }
   ],
   "source": [
    "pyramid('abcdef')"
   ]
  }
 ],
 "metadata": {
  "kernelspec": {
   "display_name": "Python 3 (ipykernel)",
   "language": "python",
   "name": "python3"
  },
  "language_info": {
   "codemirror_mode": {
    "name": "ipython",
    "version": 3
   },
   "file_extension": ".py",
   "mimetype": "text/x-python",
   "name": "python",
   "nbconvert_exporter": "python",
   "pygments_lexer": "ipython3",
   "version": "3.9.7"
  }
 },
 "nbformat": 4,
 "nbformat_minor": 5
}
