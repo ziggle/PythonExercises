{
 "cells": [
  {
   "cell_type": "markdown",
   "metadata": {},
   "source": [
    "https://towardsdev.com/harness-the-power-of-the-pandas-query-function-2e964331f370"
   ]
  },
  {
   "cell_type": "code",
   "execution_count": 2,
   "metadata": {},
   "outputs": [
    {
     "name": "stdout",
     "output_type": "stream",
     "text": [
      "    name  age\n",
      "3    Pat   45\n",
      "4  Katee   60\n"
     ]
    }
   ],
   "source": [
    "import pandas as pd\n",
    "\n",
    "# Load data into a DataFrame\n",
    "#df = pd.read_csv('data.csv')\n",
    "df = pd.DataFrame({\"name\":[\"Mark\",\"Craig\",\"Tim\",\"Pat\",\"Katee\"], \n",
    "                   \"age\": [21,22,23,45,60]})\n",
    "\n",
    "# Use the query function to select rows where the 'age' column is greater than 30\n",
    "df_filtered = df.query('age > 30')\n",
    "\n",
    "# View the filtered DataFrame\n",
    "print(df_filtered)"
   ]
  },
  {
   "cell_type": "code",
   "execution_count": 3,
   "metadata": {},
   "outputs": [
    {
     "name": "stdout",
     "output_type": "stream",
     "text": [
      "    name  age\n",
      "3    Pat   45\n",
      "4  Katee   60\n"
     ]
    }
   ],
   "source": [
    "# Set a variable\n",
    "min_age = 30\n",
    "\n",
    "# Use the variable in the query function\n",
    "df_filtered = df.query('age > @min_age')\n",
    "\n",
    "# View the filtered DataFrame\n",
    "print(df_filtered)"
   ]
  },
  {
   "cell_type": "code",
   "execution_count": null,
   "metadata": {},
   "outputs": [],
   "source": []
  }
 ],
 "metadata": {
  "kernelspec": {
   "display_name": "Python 3",
   "language": "python",
   "name": "python3"
  },
  "language_info": {
   "codemirror_mode": {
    "name": "ipython",
    "version": 3
   },
   "file_extension": ".py",
   "mimetype": "text/x-python",
   "name": "python",
   "nbconvert_exporter": "python",
   "pygments_lexer": "ipython3",
   "version": "3.8.5"
  }
 },
 "nbformat": 4,
 "nbformat_minor": 4
}
