{
 "cells": [
  {
   "cell_type": "markdown",
   "metadata": {},
   "source": [
    "https://towardsdatascience.com/5-ways-to-apply-if-else-conditional-statements-in-pandas-b9627e5f475b"
   ]
  },
  {
   "cell_type": "code",
   "execution_count": 4,
   "metadata": {},
   "outputs": [
    {
     "data": {
      "text/html": [
       "<div>\n",
       "<style scoped>\n",
       "    .dataframe tbody tr th:only-of-type {\n",
       "        vertical-align: middle;\n",
       "    }\n",
       "\n",
       "    .dataframe tbody tr th {\n",
       "        vertical-align: top;\n",
       "    }\n",
       "\n",
       "    .dataframe thead th {\n",
       "        text-align: right;\n",
       "    }\n",
       "</style>\n",
       "<table border=\"1\" class=\"dataframe\">\n",
       "  <thead>\n",
       "    <tr style=\"text-align: right;\">\n",
       "      <th></th>\n",
       "      <th>Customer_ID</th>\n",
       "      <th>gender</th>\n",
       "      <th>visits_30days</th>\n",
       "      <th>visits_category</th>\n",
       "    </tr>\n",
       "  </thead>\n",
       "  <tbody>\n",
       "    <tr>\n",
       "      <th>0</th>\n",
       "      <td>1</td>\n",
       "      <td>F</td>\n",
       "      <td>0</td>\n",
       "      <td>YES</td>\n",
       "    </tr>\n",
       "    <tr>\n",
       "      <th>1</th>\n",
       "      <td>2</td>\n",
       "      <td>M</td>\n",
       "      <td>0</td>\n",
       "      <td>YES</td>\n",
       "    </tr>\n",
       "    <tr>\n",
       "      <th>2</th>\n",
       "      <td>3</td>\n",
       "      <td>F</td>\n",
       "      <td>2</td>\n",
       "      <td>NO</td>\n",
       "    </tr>\n",
       "    <tr>\n",
       "      <th>3</th>\n",
       "      <td>4</td>\n",
       "      <td>F</td>\n",
       "      <td>5</td>\n",
       "      <td>NO</td>\n",
       "    </tr>\n",
       "    <tr>\n",
       "      <th>4</th>\n",
       "      <td>5</td>\n",
       "      <td>F</td>\n",
       "      <td>10</td>\n",
       "      <td>NO</td>\n",
       "    </tr>\n",
       "    <tr>\n",
       "      <th>5</th>\n",
       "      <td>11</td>\n",
       "      <td>F</td>\n",
       "      <td>8</td>\n",
       "      <td>NO</td>\n",
       "    </tr>\n",
       "    <tr>\n",
       "      <th>6</th>\n",
       "      <td>12</td>\n",
       "      <td>M</td>\n",
       "      <td>5</td>\n",
       "      <td>NO</td>\n",
       "    </tr>\n",
       "  </tbody>\n",
       "</table>\n",
       "</div>"
      ],
      "text/plain": [
       "   Customer_ID gender  visits_30days visits_category\n",
       "0            1      F              0             YES\n",
       "1            2      M              0             YES\n",
       "2            3      F              2              NO\n",
       "3            4      F              5              NO\n",
       "4            5      F             10              NO\n",
       "5           11      F              8              NO\n",
       "6           12      M              5              NO"
      ]
     },
     "metadata": {},
     "output_type": "display_data"
    }
   ],
   "source": [
    "import pandas as pd\n",
    "import numpy as np\n",
    "df = pd.DataFrame({'Customer_ID':[1,2,3,4,5,11,12],\n",
    "                   'gender':['F','M','F','F','F','F','M'],\n",
    "                   'visits_30days':[0,0,2,5,10,8,5]})\n",
    "df['visits_category'] = np.where(df['visits_30days']== 0, 'YES', 'NO')\n",
    "display(df)"
   ]
  },
  {
   "cell_type": "code",
   "execution_count": 6,
   "metadata": {},
   "outputs": [
    {
     "name": "stdout",
     "output_type": "stream",
     "text": [
      "   Customer_ID gender  visits_30days visits_category\n",
      "0            1      F              0             YES\n",
      "1            2      M              0             YES\n",
      "2            3      F              2              NO\n",
      "3            4      F              5              NO\n",
      "4            5      F             10              NO\n",
      "5           11      F              8              NO\n",
      "6           12      M              5              NO\n"
     ]
    }
   ],
   "source": [
    "df['visits_category'] = df['visits_30days'].apply(lambda x: 'YES' if x == 0 else 'NO')\n",
    "print(df)"
   ]
  },
  {
   "cell_type": "code",
   "execution_count": 9,
   "metadata": {},
   "outputs": [
    {
     "name": "stdout",
     "output_type": "stream",
     "text": [
      "   Customer_ID gender  visits_30days visits_category\n",
      "0            1      F              0        0 visits\n",
      "1            2      M              0        0 visits\n",
      "2            3      F              2      1-5 visits\n",
      "3            4      F              5      1-5 visits\n",
      "4            5      F             10     6-10 visits\n",
      "5           11      F              8     6-10 visits\n",
      "6           12      M              5      1-5 visits\n"
     ]
    }
   ],
   "source": [
    "#Create a python list to specify all the conditions\n",
    "conditions = [\n",
    "    (df['visits_30days'] == 0),\n",
    "    (df['visits_30days'] > 0) & (df['visits_30days'] <= 5),\n",
    "    (df['visits_30days'] > 5) & (df['visits_30days'] <= 10),\n",
    "    (df['visits_30days'] > 10)\n",
    "    ]\n",
    "\n",
    "#create a python list of values to be assigned to the conditions\n",
    "values = ['0 visits', '1-5 visits', '6-10 visits', '>10 visits']\n",
    "# use np.select() to create a new column\n",
    "df['visits_category'] = np.select(conditions, values)\n",
    "print(df)"
   ]
  },
  {
   "cell_type": "code",
   "execution_count": 11,
   "metadata": {},
   "outputs": [
    {
     "name": "stdout",
     "output_type": "stream",
     "text": [
      "   Customer_ID gender  visits_30days visits_category\n",
      "0            1      F              0        0 visits\n",
      "1            2      M              0        0 visits\n",
      "2            3      F              2      1-5 visits\n",
      "3            4      F              5      1-5 visits\n",
      "4            5      F             10      1-5 visits\n",
      "5           11      F              8      1-5 visits\n",
      "6           12      M              5      1-5 visits\n"
     ]
    }
   ],
   "source": [
    "def conditions(row):\n",
    "    if row['visits_30days'] == 0:\n",
    "        val = '0 visits'\n",
    "    elif row['visits_30days'] >0 & row['visits_30days']<=5:\n",
    "        val = '1-5 visits'\n",
    "    elif row['visits_30days'] >5 & row['visits_30days']<=10:\n",
    "        val = '5-10 visits'  \n",
    "    elif row['visits_30days'] >10:\n",
    "        val = '>10 visits'  \n",
    "    else:\n",
    "        val = 'NA'\n",
    "    return val\n",
    "\n",
    "#Apply the function to each data point in the data frame\n",
    "df['visits_category']= df.apply(conditions, axis=1)\n",
    "print(df)"
   ]
  },
  {
   "cell_type": "code",
   "execution_count": 13,
   "metadata": {},
   "outputs": [
    {
     "name": "stdout",
     "output_type": "stream",
     "text": [
      "   Customer_ID gender  visits_30days visits_category\n",
      "0            1      F              0        0 visits\n",
      "1            2      M              0        0 visits\n",
      "2            3      F              2      1-5 visits\n",
      "3            4      F              5      1-5 visits\n",
      "4            5      F             10     5-10 visits\n",
      "5           11      F              8     5-10 visits\n",
      "6           12      M              5      1-5 visits\n"
     ]
    }
   ],
   "source": [
    "df.loc[(df['visits_30days'] == 0), 'visits_category'] = '0 visits' \n",
    "df.loc[(df['visits_30days'] > 0) & (df['visits_30days'] <= 5), 'visits_category'] = '1-5 visits' \n",
    "df.loc[(df['visits_30days'] > 5) & (df['visits_30days'] <= 10), 'visits_category'] = '5-10 visits'  \n",
    "df.loc[(df['visits_30days'] > 10) , 'visits_category'] = '>10 visits'  \n",
    "print(df)"
   ]
  },
  {
   "cell_type": "code",
   "execution_count": null,
   "metadata": {},
   "outputs": [],
   "source": []
  }
 ],
 "metadata": {
  "kernelspec": {
   "display_name": "Python 3",
   "language": "python",
   "name": "python3"
  },
  "language_info": {
   "codemirror_mode": {
    "name": "ipython",
    "version": 3
   },
   "file_extension": ".py",
   "mimetype": "text/x-python",
   "name": "python",
   "nbconvert_exporter": "python",
   "pygments_lexer": "ipython3",
   "version": "3.8.5"
  }
 },
 "nbformat": 4,
 "nbformat_minor": 4
}
