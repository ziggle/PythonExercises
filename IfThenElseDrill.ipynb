{
 "cells": [
  {
   "cell_type": "markdown",
   "id": "a76ac09b",
   "metadata": {},
   "source": [
    "https://blog.stackademic.com/3-python-features-you-should-know-part-2-cbaef5ae773f"
   ]
  },
  {
   "cell_type": "code",
   "execution_count": 2,
   "id": "8da75561",
   "metadata": {},
   "outputs": [
    {
     "name": "stdout",
     "output_type": "stream",
     "text": [
      "Ball is blue\n"
     ]
    }
   ],
   "source": [
    "ball='blue'\n",
    "if ball == \"blue\":\n",
    "    print(\"Ball is blue\")\n",
    "elif ball == \"green\":\n",
    "    print(\"Ball is green\")\n",
    "else:\n",
    "    print(\"If not blue, not green, ball is red\")"
   ]
  },
  {
   "cell_type": "code",
   "execution_count": 3,
   "id": "13255e40",
   "metadata": {},
   "outputs": [
    {
     "ename": "NameError",
     "evalue": "name 'book' is not defined",
     "output_type": "error",
     "traceback": [
      "\u001b[1;31m---------------------------------------------------------------------------\u001b[0m",
      "\u001b[1;31mNameError\u001b[0m                                 Traceback (most recent call last)",
      "\u001b[1;32m~\\AppData\\Local\\Temp/ipykernel_20120/933688815.py\u001b[0m in \u001b[0;36m<module>\u001b[1;34m\u001b[0m\n\u001b[0;32m      6\u001b[0m \u001b[0mnew_book\u001b[0m \u001b[1;33m=\u001b[0m \u001b[1;33m{\u001b[0m\u001b[1;34m\"title\"\u001b[0m\u001b[1;33m:\u001b[0m \u001b[1;34m\"Python from scracth\"\u001b[0m\u001b[1;33m,\u001b[0m \u001b[1;34m\"author\"\u001b[0m\u001b[1;33m:\u001b[0m \u001b[1;34m\"Yanick\"\u001b[0m\u001b[1;33m}\u001b[0m\u001b[1;33m\u001b[0m\u001b[1;33m\u001b[0m\u001b[0m\n\u001b[0;32m      7\u001b[0m \u001b[1;33m\u001b[0m\u001b[0m\n\u001b[1;32m----> 8\u001b[1;33m \u001b[1;32mwhile\u001b[0m \u001b[0mbook\u001b[0m \u001b[1;32min\u001b[0m \u001b[0mbooks\u001b[0m\u001b[1;33m:\u001b[0m\u001b[1;33m\u001b[0m\u001b[1;33m\u001b[0m\u001b[0m\n\u001b[0m\u001b[0;32m      9\u001b[0m     \u001b[1;32mif\u001b[0m \u001b[0mbook\u001b[0m\u001b[1;33m.\u001b[0m\u001b[0mget\u001b[0m\u001b[1;33m(\u001b[0m\u001b[1;34m\"title\"\u001b[0m\u001b[1;33m)\u001b[0m \u001b[1;33m==\u001b[0m \u001b[0mnew_book\u001b[0m\u001b[1;33m.\u001b[0m\u001b[0mget\u001b[0m\u001b[1;33m(\u001b[0m\u001b[1;34m\"title\"\u001b[0m\u001b[1;33m)\u001b[0m\u001b[1;33m:\u001b[0m\u001b[1;33m\u001b[0m\u001b[1;33m\u001b[0m\u001b[0m\n\u001b[0;32m     10\u001b[0m         \u001b[1;31m# we have a book with same title, so exit the loop\u001b[0m\u001b[1;33m\u001b[0m\u001b[1;33m\u001b[0m\u001b[0m\n",
      "\u001b[1;31mNameError\u001b[0m: name 'book' is not defined"
     ]
    }
   ],
   "source": [
    "books = [\n",
    "    {\"title\": \"Python Distilled\", \"author\": \"Daviv M. Beazley\"},\n",
    "    {\"title\": \"Fluent Python\", \"author\": \"Luciano Romalho\"}\n",
    "]\n",
    "\n",
    "new_book = {\"title\": \"Python from scracth\", \"author\": \"Yanick\"}\n",
    "\n",
    "while book in books:\n",
    "    if book.get(\"title\") == new_book.get(\"title\"):\n",
    "        # we have a book with same title, so exit the loop\n",
    "        break\n",
    "else:\n",
    "    books.append(new_book)"
   ]
  },
  {
   "cell_type": "code",
   "execution_count": 5,
   "id": "a44ce3c4",
   "metadata": {},
   "outputs": [
    {
     "name": "stdout",
     "output_type": "stream",
     "text": [
      "We now have 2 books left.\n",
      "Books updated successfully!\n"
     ]
    }
   ],
   "source": [
    "def update_shelve(s):\n",
    "    pass\n",
    "\n",
    "books = [\n",
    "    {\"title\": \"Python Distilled\", \"author\": \"Daviv M. Beazley\"},\n",
    "    {\"title\": \"Fluent Python\", \"author\": \"Luciano Romalho\"},\n",
    "    {\"title\": \"Python from scracth\", \"author\": \"Yanick\"}\n",
    "]\n",
    "\n",
    "try:\n",
    "    for book in books:\n",
    "        if book.get(\"title\") == \"Python from scracth\":\n",
    "            books.remove(book)\n",
    "except KeyError as e:\n",
    "    raise e\n",
    "else:\n",
    "    # The code inside this block runs after successfully executing the 'try' block.\n",
    "    print(f\"We now have {len(books)} books left.\")\n",
    "    # Here, we mimic a function call or perform additional actions upon successful execution.\n",
    "    update_shelve(books)\n",
    "    print(\"Books updated successfully!\")"
   ]
  },
  {
   "cell_type": "code",
   "execution_count": 6,
   "id": "8ed4f815",
   "metadata": {},
   "outputs": [],
   "source": [
    "class Balls:\n",
    "    __balls = [\"green\", \"blue\", \"red\"]\n",
    "    def __init__(self, balls: list = None):\n",
    "        self.balls = balls or self.__balls"
   ]
  },
  {
   "cell_type": "code",
   "execution_count": 9,
   "id": "2aef11bd",
   "metadata": {},
   "outputs": [
    {
     "ename": "SyntaxError",
     "evalue": "invalid syntax (Temp/ipykernel_20120/1999872150.py, line 7)",
     "output_type": "error",
     "traceback": [
      "\u001b[1;36m  File \u001b[1;32m\"C:\\Users\\biegertm\\AppData\\Local\\Temp/ipykernel_20120/1999872150.py\"\u001b[1;36m, line \u001b[1;32m7\u001b[0m\n\u001b[1;33m    match choice(balls):\u001b[0m\n\u001b[1;37m          ^\u001b[0m\n\u001b[1;31mSyntaxError\u001b[0m\u001b[1;31m:\u001b[0m invalid syntax\n"
     ]
    }
   ],
   "source": [
    "from random import choice\n",
    "\n",
    "\n",
    "balls = [\"green\", \"blue\", \"red\"]\n",
    "print(choice(balls))\n",
    "\n",
    "match choice(balls):\n",
    "    case \"blue\":\n",
    "        print(\"You won a blue gift\")\n",
    "    case \"red\":\n",
    "        print(\"You won a red gift\")\n",
    "    case _:\n",
    "        print(\"You won a green gift\")"
   ]
  }
 ],
 "metadata": {
  "kernelspec": {
   "display_name": "Python 3 (ipykernel)",
   "language": "python",
   "name": "python3"
  },
  "language_info": {
   "codemirror_mode": {
    "name": "ipython",
    "version": 3
   },
   "file_extension": ".py",
   "mimetype": "text/x-python",
   "name": "python",
   "nbconvert_exporter": "python",
   "pygments_lexer": "ipython3",
   "version": "3.9.7"
  }
 },
 "nbformat": 4,
 "nbformat_minor": 5
}
