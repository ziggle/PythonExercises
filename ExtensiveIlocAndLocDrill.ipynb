{
 "cells": [
  {
   "cell_type": "markdown",
   "id": "000be2d8",
   "metadata": {},
   "source": [
    "https://medium.com/@pythonfundamentals/a-guide-to-loc-and-iloc-in-python-2fc73abe0514"
   ]
  },
  {
   "cell_type": "code",
   "execution_count": 1,
   "id": "a0c09994",
   "metadata": {},
   "outputs": [
    {
     "name": "stderr",
     "output_type": "stream",
     "text": [
      "C:\\Users\\biegertm\\AppData\\Roaming\\Python\\Python39\\site-packages\\pandas\\core\\computation\\expressions.py:21: UserWarning: Pandas requires version '2.8.0' or newer of 'numexpr' (version '2.7.3' currently installed).\n",
      "  from pandas.core.computation.check import NUMEXPR_INSTALLED\n",
      "C:\\Users\\biegertm\\AppData\\Roaming\\Python\\Python39\\site-packages\\pandas\\core\\arrays\\masked.py:62: UserWarning: Pandas requires version '1.3.4' or newer of 'bottleneck' (version '1.3.2' currently installed).\n",
      "  from pandas.core import (\n"
     ]
    },
    {
     "name": "stdout",
     "output_type": "stream",
     "text": [
      "      Name  Age  Salary\n",
      "0    Alice   25   50000\n",
      "1      Bob   30   60000\n",
      "2  Charlie   22   45000\n",
      "3    David   35   70000\n",
      "4    Emily   28   55000\n"
     ]
    }
   ],
   "source": [
    "import pandas as pd\n",
    "\n",
    "# Creating a basic example dataset\n",
    "data = {\n",
    "    'Name': ['Alice', 'Bob', 'Charlie', 'David', 'Emily'],\n",
    "    'Age': [25, 30, 22, 35, 28],\n",
    "    'Salary': [50000, 60000, 45000, 70000, 55000]\n",
    "}\n",
    "\n",
    "df = pd.DataFrame(data)\n",
    "print(df)"
   ]
  },
  {
   "cell_type": "code",
   "execution_count": 2,
   "id": "3a1c09e7",
   "metadata": {},
   "outputs": [
    {
     "name": "stdout",
     "output_type": "stream",
     "text": [
      "  Name  Age  Salary\n",
      "1  Bob   30   60000\n"
     ]
    }
   ],
   "source": [
    "# Selecting a specific row by label\n",
    "row_bob = df.loc[df['Name'] == 'Bob']\n",
    "print(row_bob)"
   ]
  },
  {
   "cell_type": "code",
   "execution_count": 3,
   "id": "b8e20556",
   "metadata": {},
   "outputs": [
    {
     "name": "stdout",
     "output_type": "stream",
     "text": [
      "    Name  Salary\n",
      "1    Bob   60000\n",
      "3  David   70000\n",
      "4  Emily   55000\n"
     ]
    }
   ],
   "source": [
    "# Selecting specific rows and columns by label\n",
    "subset = df.loc[df['Age'] > 25, ['Name', 'Salary']]\n",
    "print(subset)"
   ]
  },
  {
   "cell_type": "code",
   "execution_count": 4,
   "id": "9e6fc377",
   "metadata": {},
   "outputs": [
    {
     "name": "stdout",
     "output_type": "stream",
     "text": [
      "Name      Charlie\n",
      "Age            22\n",
      "Salary      45000\n",
      "Name: 2, dtype: object\n"
     ]
    }
   ],
   "source": [
    "# Selecting a specific row by index\n",
    "row_index_2 = df.iloc[2]\n",
    "print(row_index_2)"
   ]
  },
  {
   "cell_type": "code",
   "execution_count": 5,
   "id": "bdb2c78a",
   "metadata": {},
   "outputs": [
    {
     "name": "stdout",
     "output_type": "stream",
     "text": [
      "      Name  Salary\n",
      "1      Bob   60000\n",
      "2  Charlie   45000\n",
      "3    David   70000\n"
     ]
    }
   ],
   "source": [
    "# Selecting specific rows and columns by index\n",
    "subset_index = df.iloc[1:4, [0, 2]]\n",
    "print(subset_index)"
   ]
  },
  {
   "cell_type": "code",
   "execution_count": 6,
   "id": "c4429e43",
   "metadata": {},
   "outputs": [
    {
     "name": "stdout",
     "output_type": "stream",
     "text": [
      "   Age  Salary\n",
      "1   30   60000\n",
      "3   35   70000\n",
      "4   28   55000\n"
     ]
    }
   ],
   "source": [
    "# Combining loc and iloc for advanced selection\n",
    "advanced_selection = df.loc[df['Age'] > 25].iloc[:, 1:]\n",
    "print(advanced_selection)"
   ]
  },
  {
   "cell_type": "markdown",
   "id": "3b1d2d48",
   "metadata": {},
   "source": [
    "https://stackoverflow.com/questions/31593201/how-are-iloc-and-loc-different/46915810#46915810"
   ]
  },
  {
   "cell_type": "code",
   "execution_count": 9,
   "id": "9e8fadf1",
   "metadata": {},
   "outputs": [
    {
     "name": "stdout",
     "output_type": "stream",
     "text": [
      "d\n",
      "a\n",
      "0    d\n",
      "1    e\n",
      "dtype: object\n",
      "49    a\n",
      "dtype: object\n"
     ]
    }
   ],
   "source": [
    "s = pd.Series(list(\"abcdef\"), index=[49, 48, 47, 0, 1, 2]) \n",
    "print(s.loc[0])   # value at index label 0\n",
    "print(s.iloc[0])   # value at index location 0\n",
    "print(s.loc[0:1])  # rows at index labels between 0 and 1 (inclusive)\n",
    "print(s.iloc[0:1])"
   ]
  },
  {
   "cell_type": "code",
   "execution_count": 22,
   "id": "f61883e4",
   "metadata": {},
   "outputs": [
    {
     "name": "stdout",
     "output_type": "stream",
     "text": [
      "[]\n",
      "['b', 'c', 'd', 'e', 'f']\n",
      "['e', 'd', 'c']\n",
      "[]\n"
     ]
    }
   ],
   "source": [
    "print(list(s.loc[1:47]))\n",
    "print(list(s.iloc[1:47]))\n",
    "print(list(s.loc[1:47:-1]))\n",
    "print(list(s.iloc[1:47:-1]))"
   ]
  },
  {
   "cell_type": "code",
   "execution_count": 26,
   "id": "9459569b",
   "metadata": {},
   "outputs": [
    {
     "name": "stdout",
     "output_type": "stream",
     "text": [
      "[]\n",
      "[]\n",
      "[]\n"
     ]
    }
   ],
   "source": [
    "my_list = [0, 1, 2, 3, 4, 5, 6, 7, 8, 9]\n",
    "result = my_list[1:47:-1]\n",
    "print(result)\n",
    "print(list(s.loc[[]]))\n",
    "print(list(s.iloc[[]]))"
   ]
  },
  {
   "cell_type": "code",
   "execution_count": 12,
   "id": "d344ad80",
   "metadata": {},
   "outputs": [],
   "source": [
    "#For example, consider the following DataFrame. \n",
    "#How best to slice the rows up to and including 'c' and \n",
    "#take the first four columns?\n",
    "\n",
    "import numpy as np\n",
    "df = pd.DataFrame(np.arange(25).reshape(5, 5),  \n",
    "                      index=list('abcde'), \n",
    "                      columns=['x','y','z', 8, 9])"
   ]
  },
  {
   "cell_type": "code",
   "execution_count": 13,
   "id": "ff0936f5",
   "metadata": {},
   "outputs": [
    {
     "data": {
      "text/html": [
       "<div>\n",
       "<style scoped>\n",
       "    .dataframe tbody tr th:only-of-type {\n",
       "        vertical-align: middle;\n",
       "    }\n",
       "\n",
       "    .dataframe tbody tr th {\n",
       "        vertical-align: top;\n",
       "    }\n",
       "\n",
       "    .dataframe thead th {\n",
       "        text-align: right;\n",
       "    }\n",
       "</style>\n",
       "<table border=\"1\" class=\"dataframe\">\n",
       "  <thead>\n",
       "    <tr style=\"text-align: right;\">\n",
       "      <th></th>\n",
       "      <th>x</th>\n",
       "      <th>y</th>\n",
       "      <th>z</th>\n",
       "      <th>8</th>\n",
       "    </tr>\n",
       "  </thead>\n",
       "  <tbody>\n",
       "    <tr>\n",
       "      <th>a</th>\n",
       "      <td>0</td>\n",
       "      <td>1</td>\n",
       "      <td>2</td>\n",
       "      <td>3</td>\n",
       "    </tr>\n",
       "    <tr>\n",
       "      <th>b</th>\n",
       "      <td>5</td>\n",
       "      <td>6</td>\n",
       "      <td>7</td>\n",
       "      <td>8</td>\n",
       "    </tr>\n",
       "    <tr>\n",
       "      <th>c</th>\n",
       "      <td>10</td>\n",
       "      <td>11</td>\n",
       "      <td>12</td>\n",
       "      <td>13</td>\n",
       "    </tr>\n",
       "  </tbody>\n",
       "</table>\n",
       "</div>"
      ],
      "text/plain": [
       "    x   y   z   8\n",
       "a   0   1   2   3\n",
       "b   5   6   7   8\n",
       "c  10  11  12  13"
      ]
     },
     "execution_count": 13,
     "metadata": {},
     "output_type": "execute_result"
    }
   ],
   "source": [
    "df.iloc[:df.index.get_loc('c') + 1, :4]"
   ]
  },
  {
   "cell_type": "code",
   "execution_count": null,
   "id": "1f16b1c0",
   "metadata": {},
   "outputs": [],
   "source": []
  }
 ],
 "metadata": {
  "kernelspec": {
   "display_name": "Python 3 (ipykernel)",
   "language": "python",
   "name": "python3"
  },
  "language_info": {
   "codemirror_mode": {
    "name": "ipython",
    "version": 3
   },
   "file_extension": ".py",
   "mimetype": "text/x-python",
   "name": "python",
   "nbconvert_exporter": "python",
   "pygments_lexer": "ipython3",
   "version": "3.9.7"
  }
 },
 "nbformat": 4,
 "nbformat_minor": 5
}
