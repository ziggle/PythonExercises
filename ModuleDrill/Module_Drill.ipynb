{
 "cells": [
  {
   "cell_type": "code",
   "execution_count": 1,
   "metadata": {},
   "outputs": [
    {
     "name": "stdout",
     "output_type": "stream",
     "text": [
      "Hello, Alice!\n",
      "Goodbye, Bob!\n"
     ]
    }
   ],
   "source": [
    "import greetings\n",
    "\n",
    "greetings.say_hello(\"Alice\")\n",
    "greetings.say_goodbye(\"Bob\")"
   ]
  },
  {
   "cell_type": "code",
   "execution_count": 2,
   "metadata": {
    "scrolled": true
   },
   "outputs": [
    {
     "name": "stdout",
     "output_type": "stream",
     "text": [
      "Hello, Charlie!\n",
      "Goodbye, David!\n"
     ]
    }
   ],
   "source": [
    "from greetings import say_hello, say_goodbye\n",
    "\n",
    "say_hello(\"Charlie\")\n",
    "say_goodbye(\"David\")"
   ]
  },
  {
   "cell_type": "code",
   "execution_count": 3,
   "metadata": {},
   "outputs": [
    {
     "name": "stdout",
     "output_type": "stream",
     "text": [
      "Hello, Eve!\n",
      "Goodbye, Frank!\n"
     ]
    }
   ],
   "source": [
    "from greetings import *\n",
    "\n",
    "say_hello(\"Eve\")\n",
    "say_goodbye(\"Frank\")"
   ]
  },
  {
   "cell_type": "code",
   "execution_count": 4,
   "metadata": {},
   "outputs": [
    {
     "name": "stdout",
     "output_type": "stream",
     "text": [
      "Hello, Grace!\n",
      "Goodbye, Henry!\n"
     ]
    }
   ],
   "source": [
    "import greetings as gr\n",
    "\n",
    "gr.say_hello(\"Grace\")\n",
    "gr.say_goodbye(\"Henry\")"
   ]
  },
  {
   "cell_type": "code",
   "execution_count": 6,
   "metadata": {},
   "outputs": [],
   "source": [
    "import my_package.module1\n",
    "import my_package.module2\n",
    "from my_package.module1 import say_hello_module1,say_goodbye_module1\n",
    "\n"
   ]
  },
  {
   "cell_type": "code",
   "execution_count": 7,
   "metadata": {},
   "outputs": [
    {
     "name": "stdout",
     "output_type": "stream",
     "text": [
      "In module 1, Eve!\n",
      "In module 1, Frank!\n"
     ]
    }
   ],
   "source": [
    "say_hello_module1(\"Eve\")\n",
    "say_goodbye_module1(\"Frank\")"
   ]
  },
  {
   "cell_type": "code",
   "execution_count": 10,
   "metadata": {},
   "outputs": [
    {
     "name": "stdout",
     "output_type": "stream",
     "text": [
      "In module 2, Eve!\n",
      "In module 2, Biff!\n"
     ]
    }
   ],
   "source": [
    "my_package.module2.say_hello_module2(\"Eve\")\n",
    "my_package.module2.say_goodbye_module2(\"Biff\")"
   ]
  },
  {
   "cell_type": "code",
   "execution_count": null,
   "metadata": {},
   "outputs": [],
   "source": []
  }
 ],
 "metadata": {
  "kernelspec": {
   "display_name": "Python 3",
   "language": "python",
   "name": "python3"
  },
  "language_info": {
   "codemirror_mode": {
    "name": "ipython",
    "version": 3
   },
   "file_extension": ".py",
   "mimetype": "text/x-python",
   "name": "python",
   "nbconvert_exporter": "python",
   "pygments_lexer": "ipython3",
   "version": "3.8.5"
  }
 },
 "nbformat": 4,
 "nbformat_minor": 4
}
