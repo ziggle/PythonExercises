{
 "cells": [
  {
   "cell_type": "markdown",
   "id": "615759f5",
   "metadata": {},
   "source": [
    "https://medium.com/pythoneers/5-print-function-secrets-i-just-uncovered-in-python-43bf9f214926"
   ]
  },
  {
   "cell_type": "code",
   "execution_count": 4,
   "id": "f3b1106f",
   "metadata": {},
   "outputs": [
    {
     "name": "stdout",
     "output_type": "stream",
     "text": [
      "Rahul,Dave,Karl\n"
     ]
    }
   ],
   "source": [
    "print('Rahul', 'Dave', 'Karl', sep=',')"
   ]
  },
  {
   "cell_type": "code",
   "execution_count": 5,
   "id": "ecef5713",
   "metadata": {},
   "outputs": [
    {
     "name": "stdout",
     "output_type": "stream",
     "text": [
      "Rahul|Dave|Karl\n",
      "Rahul-Dave-Karl\n",
      "Rahul/Dave/Karl\n"
     ]
    }
   ],
   "source": [
    "print('Rahul', 'Dave', 'Karl', sep='|')\n",
    "## Rahul|Dave|Karl\n",
    "\n",
    "print('Rahul', 'Dave', 'Karl', sep='-')\n",
    "## Rahul-Dave-Karl\n",
    "\n",
    "print('Rahul', 'Dave', 'Karl', sep='/')\n",
    "## Rahul/Dave/Karl"
   ]
  },
  {
   "cell_type": "code",
   "execution_count": 6,
   "id": "20c13584",
   "metadata": {},
   "outputs": [
    {
     "name": "stdout",
     "output_type": "stream",
     "text": [
      "Tony\n",
      "Sam\n",
      "Ammy\n",
      "Tony Sam Ammy Tony-Sam/Ammy"
     ]
    }
   ],
   "source": [
    "print(\"Tony\")\n",
    "print(\"Sam\")\n",
    "print(\"Ammy\")\n",
    "\n",
    "## Tony\n",
    "## Sam\n",
    "## Ammy\n",
    "\n",
    "print(\"Tony\", end = ' ')\n",
    "print(\"Sam\", end = ' ')\n",
    "print(\"Ammy\", end = ' ')\n",
    "## Tony Sam Ammy \n",
    "\n",
    "print(\"Tony\", end = '-')\n",
    "print(\"Sam\", end = '/')\n",
    "print(\"Ammy\", end = '')\n",
    "## Tony-Sam/Ammy"
   ]
  },
  {
   "cell_type": "code",
   "execution_count": 7,
   "id": "48175788",
   "metadata": {},
   "outputs": [
    {
     "name": "stdout",
     "output_type": "stream",
     "text": [
      "['Rohan', 'ZAXKso@312wcwa', '+198556788223']\n"
     ]
    }
   ],
   "source": [
    "data = ['Rohan','ZAXKso@312wcwa','+198556788223']\n",
    "\n",
    "\n",
    "## prints data to terminal\n",
    "print(data)\n",
    "# ['Rohan', 'ZAXKso@312wcwa', '+198556788223']\n",
    "\n",
    "\n",
    "## prints data to a file \"test.txt\"\n",
    "with open('test314.txt', 'a') as f:\n",
    "  print(data, file=f)"
   ]
  },
  {
   "cell_type": "code",
   "execution_count": 8,
   "id": "d072361b",
   "metadata": {},
   "outputs": [
    {
     "name": "stdout",
     "output_type": "stream",
     "text": [
      "♞ is the symbol for Black Chess Knight\n",
      "♟ is the symbol for BLACK CHESS PAWN\n",
      "Ⅷ  is the symbol for ROMAN NUMERAL EIGHT\n"
     ]
    }
   ],
   "source": [
    "print(\"\\u265E is the symbol for Black Chess Knight\")\n",
    "print(\"\\u265F is the symbol for BLACK CHESS PAWN\")\n",
    "print(\"\\u2167  is the symbol for ROMAN NUMERAL EIGHT\")\n"
   ]
  },
  {
   "cell_type": "code",
   "execution_count": 9,
   "id": "0089121b",
   "metadata": {},
   "outputs": [
    {
     "name": "stdout",
     "output_type": "stream",
     "text": [
      "C:\\Users\\dave\\.conda\\environments.txt\n"
     ]
    }
   ],
   "source": [
    "print(r\"C:\\Users\\dave\\.conda\\environments.txt\")\n",
    "\n",
    "## C:\\Users\\dave\\.conda\\environments.txt"
   ]
  }
 ],
 "metadata": {
  "kernelspec": {
   "display_name": "Python 3 (ipykernel)",
   "language": "python",
   "name": "python3"
  },
  "language_info": {
   "codemirror_mode": {
    "name": "ipython",
    "version": 3
   },
   "file_extension": ".py",
   "mimetype": "text/x-python",
   "name": "python",
   "nbconvert_exporter": "python",
   "pygments_lexer": "ipython3",
   "version": "3.9.7"
  }
 },
 "nbformat": 4,
 "nbformat_minor": 5
}
