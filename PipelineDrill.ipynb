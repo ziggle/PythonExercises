{
 "cells": [
  {
   "cell_type": "markdown",
   "id": "f24babe7",
   "metadata": {},
   "source": [
    "https://medium.com/@ayush-thakur02/wait-what-are-pipelines-in-python-628f4b5021fd\n",
    "\n",
    "See Evernote comment on this drill.\n",
    "\n",
    "https://www.evernote.com/shard/s4/nl/519286/6429c79b-b28e-0b36-245f-f06f95ed68ad?title=Python%20Pipeline%20Example"
   ]
  },
  {
   "cell_type": "code",
   "execution_count": 1,
   "id": "a46dcb9d",
   "metadata": {},
   "outputs": [
    {
     "name": "stdout",
     "output_type": "stream",
     "text": [
      "65.0\n"
     ]
    }
   ],
   "source": [
    "numbers = [1, 2, 3, 4, 5, 6, 7, 8, 9, 10]\n",
    "filtered = []\n",
    "for n in numbers:\n",
    "    if n % 2 == 0:\n",
    "        filtered.append(n)\n",
    "multiplied = []\n",
    "for n in filtered:\n",
    "    multiplied.append(n * 10)\n",
    "added = []\n",
    "for n in multiplied:\n",
    "    added.append(n + 5)\n",
    "total = 0\n",
    "count = 0\n",
    "for n in added:\n",
    "    total += n\n",
    "    count += 1\n",
    "average = total / count\n",
    "print(average)"
   ]
  },
  {
   "cell_type": "code",
   "execution_count": 2,
   "id": "ed9ba0af",
   "metadata": {},
   "outputs": [
    {
     "name": "stdout",
     "output_type": "stream",
     "text": [
      "32.5\n"
     ]
    }
   ],
   "source": [
    "numbers = [1, 2, 3, 4, 5, 6, 7, 8, 9, 10]\n",
    "average = sum(map(lambda n: n + 5, map(lambda n: n * 10, filter(lambda n: n % 2 == 0, numbers)))) / len(numbers)\n",
    "print(average)"
   ]
  },
  {
   "cell_type": "code",
   "execution_count": 24,
   "id": "e7135f36",
   "metadata": {},
   "outputs": [
    {
     "name": "stdout",
     "output_type": "stream",
     "text": [
      "65.0\n"
     ]
    }
   ],
   "source": [
    "\n",
    "import toolz\n",
    "numbers = [1, 2, 3, 4, 5, 6, 7, 8, 9, 10]\n",
    "def f1(x):\n",
    "    return list(filter(lambda n: n % 2 == 0, x))\n",
    "def f2(x):\n",
    "    return list(map(lambda n: n * 10, x))\n",
    "def f3(x):\n",
    "    return list(map(lambda n: n + 5, x))\n",
    "def f4(x):\n",
    "    return sum(x)/len(x)\n",
    "\n",
    "funcs = [f1,f2,f3,f4]\n",
    "average = toolz.pipe(numbers, *funcs)\n",
    "\n",
    "print(average)"
   ]
  },
  {
   "cell_type": "code",
   "execution_count": 8,
   "id": "3cb40d46",
   "metadata": {},
   "outputs": [
    {
     "data": {
      "text/plain": [
       "14"
      ]
     },
     "execution_count": 8,
     "metadata": {},
     "output_type": "execute_result"
    }
   ],
   "source": [
    "import toolz\n",
    "def my_func_1(x):\n",
    "    return x + 2\n",
    "\n",
    "def my_func_2(x):\n",
    "    return x + 4\n",
    "\n",
    "def my_func_3(x):\n",
    "    return x + 6\n",
    "\n",
    "funcs=[my_func_1, my_func_2, my_func_3]\n",
    "y = toolz.pipe(2, *funcs)\n",
    "y"
   ]
  },
  {
   "cell_type": "code",
   "execution_count": 25,
   "id": "51a041bd",
   "metadata": {},
   "outputs": [
    {
     "name": "stdout",
     "output_type": "stream",
     "text": [
      "65.0\n"
     ]
    }
   ],
   "source": [
    "from toolz import pipe\n",
    "numbers = [1, 2, 3, 4, 5, 6, 7, 8, 9, 10]\n",
    "average = pipe(numbers,\n",
    "lambda x: filter(lambda n: n % 2 == 0, x),\n",
    "lambda x: map(lambda n: n * 10, x),\n",
    "lambda x: map(lambda n: n + 5, x),\n",
    "list, # important\n",
    "lambda x: sum(x) / len(x))\n",
    "print(average)"
   ]
  }
 ],
 "metadata": {
  "kernelspec": {
   "display_name": "Python 3 (ipykernel)",
   "language": "python",
   "name": "python3"
  },
  "language_info": {
   "codemirror_mode": {
    "name": "ipython",
    "version": 3
   },
   "file_extension": ".py",
   "mimetype": "text/x-python",
   "name": "python",
   "nbconvert_exporter": "python",
   "pygments_lexer": "ipython3",
   "version": "3.9.7"
  }
 },
 "nbformat": 4,
 "nbformat_minor": 5
}
