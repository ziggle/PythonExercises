{
 "cells": [
  {
   "cell_type": "markdown",
   "id": "23817eec",
   "metadata": {},
   "source": [
    "https://medium.com/@ben.nour_68691/writing-to-csv-files-with-python-d7dbde28b8e5"
   ]
  },
  {
   "cell_type": "code",
   "execution_count": 1,
   "id": "4c1beb23",
   "metadata": {},
   "outputs": [],
   "source": [
    "colours = ['blue', 'red', 'green']\n",
    "\n",
    "import csv\n",
    "\n",
    "colours = ['blue', 'red', 'green']\n",
    "\n",
    "with open('example.csv', 'w') as f:\n",
    "   writer = csv.writer(f)\n",
    "   for colour in colours:\n",
    "       writer.writerow([colour])"
   ]
  },
  {
   "cell_type": "code",
   "execution_count": 2,
   "id": "8f17bec2",
   "metadata": {},
   "outputs": [],
   "source": [
    "colours = ['blue', 'red', 'green']\n",
    "\n",
    "with open('example.csv', 'w') as f:\n",
    "     writer = csv.writer(f)\n",
    "     for colour in colours:\n",
    "         writer.writerow(colour)"
   ]
  },
  {
   "cell_type": "markdown",
   "id": "84483646",
   "metadata": {},
   "source": [
    "By wrapping each string with square brackets the string is no longer treated as an iterable but instead as just one element within an iterable, meaning that it will be written to one cell/column in a row:"
   ]
  },
  {
   "cell_type": "code",
   "execution_count": 3,
   "id": "952d5f36",
   "metadata": {},
   "outputs": [],
   "source": [
    "colours = [['blue'], ['green'], ['red']]\n",
    "\n",
    "with open('example.csv', 'w') as f:\n",
    "     writer = csv.writer(f)\n",
    "     writer.writerows(colours)"
   ]
  },
  {
   "cell_type": "code",
   "execution_count": 4,
   "id": "d29b0692",
   "metadata": {},
   "outputs": [],
   "source": [
    "city_sales = [['Sydney', 1000], ['Melbourne', 2500], \n",
    "['Perth', 500], ['Adelaide', 800]]\n",
    "\n",
    "with open('example.csv', 'w') as f:\n",
    "     writer = csv.writer(f)\n",
    "     writer.writerows(city_sales)"
   ]
  },
  {
   "cell_type": "code",
   "execution_count": 5,
   "id": "9c96692d",
   "metadata": {},
   "outputs": [],
   "source": [
    "with open('example.csv', 'w') as f:\n",
    "     writer = csv.DictWriter(f, fieldnames=['City', 'Population'])\n",
    "     writer.writeheader()"
   ]
  },
  {
   "cell_type": "code",
   "execution_count": 6,
   "id": "16c4bdcd",
   "metadata": {},
   "outputs": [],
   "source": [
    "city_sales = [['Sydney', 1000], ['Melbourne', 2500], ['Perth', 500], ['Adelaide', 800]]\n",
    "\n",
    "with open('example.csv', 'w') as f:\n",
    " writer = csv.DictWriter(f, fieldnames=['City', 'Population'])\n",
    " writer.writeheader()\n",
    " writer.writerow({'City':'Sydney', 'Population':1000})"
   ]
  },
  {
   "cell_type": "code",
   "execution_count": 7,
   "id": "3acba594",
   "metadata": {},
   "outputs": [],
   "source": [
    "city_sales = [['Sydney', 1000], ['Melbourne', 2500], ['Perth', 500], ['Adelaide', 800]]\n",
    "\n",
    "with open('example.csv', 'w') as f:\n",
    "     writer = csv.DictWriter(f, fieldnames=['City', 'Population'])\n",
    "     writer.writeheader()\n",
    "     for city in city_sales:\n",
    "         writer.writerow({'City':city[0], 'Population':city[1]})"
   ]
  }
 ],
 "metadata": {
  "kernelspec": {
   "display_name": "Python 3 (ipykernel)",
   "language": "python",
   "name": "python3"
  },
  "language_info": {
   "codemirror_mode": {
    "name": "ipython",
    "version": 3
   },
   "file_extension": ".py",
   "mimetype": "text/x-python",
   "name": "python",
   "nbconvert_exporter": "python",
   "pygments_lexer": "ipython3",
   "version": "3.9.7"
  }
 },
 "nbformat": 4,
 "nbformat_minor": 5
}
