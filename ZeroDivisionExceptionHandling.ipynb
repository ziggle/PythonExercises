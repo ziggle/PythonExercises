{
 "cells": [
  {
   "cell_type": "markdown",
   "id": "3b2b50fb",
   "metadata": {},
   "source": [
    "Interesting Exception Situation"
   ]
  },
  {
   "cell_type": "code",
   "execution_count": 4,
   "id": "b185d32f",
   "metadata": {},
   "outputs": [
    {
     "name": "stdout",
     "output_type": "stream",
     "text": [
      "Finally executed\n"
     ]
    }
   ],
   "source": [
    "try:\n",
    "    for i in range(3):\n",
    "        try:\n",
    "            1/0\n",
    "        except ZeroDivisionError:\n",
    "            raise ZeroDivisionError(\"Error: You divided by zero!\")\n",
    "        finally:\n",
    "            print(\"Finally executed\")\n",
    "            break\n",
    "except ZeroDivisionError:\n",
    "    print(\"Outer ZeroDivisionError exception caught\")"
   ]
  },
  {
   "cell_type": "code",
   "execution_count": 5,
   "id": "29873e04",
   "metadata": {},
   "outputs": [
    {
     "name": "stdout",
     "output_type": "stream",
     "text": [
      "Finally executed\n",
      "Outer ZeroDivisionError exception caught\n"
     ]
    }
   ],
   "source": [
    "try:\n",
    "    for i in range(3):\n",
    "        try:\n",
    "            1/0\n",
    "        except ZeroDivisionError:\n",
    "            raise ZeroDivisionError(\"Error: You divided by zero!\")\n",
    "        finally:\n",
    "            print(\"Finally executed\")\n",
    "            #break\n",
    "except ZeroDivisionError:\n",
    "    print(\"Outer ZeroDivisionError exception caught\")"
   ]
  },
  {
   "cell_type": "markdown",
   "id": "a4029423",
   "metadata": {},
   "source": [
    "What will be the output if you run this code?\n",
    "\n",
    "A) Outer ZeroDivisionError exception caught\n",
    "\n",
    "B) Error: You divided by zero!\n",
    "\n",
    "C) Error: You divided by zero! Finally executed\n",
    "\n",
    "D) Finally executed\n",
    "\n",
    "E) None of the above\n",
    "\n",
    "The Answer\n",
    "D) Finally executed\n",
    "\n",
    "Explanation\n",
    "This code causes the ZeroDivisionError to be raised inside the nested exception handler because you are dividing by zero. Your exception handler catches this, but inside the exception handler, you raise ZeroDivisionError so that the outer exception handler can run and perhaps handle it differently.\n",
    "\n",
    "Before you get to the outer exception handler, though, the finally statement must run. The finally statement ALWAYS runs! Here you print out \"Finally executed\" and then call break, and break causes the newly raised ZeroDivisionError to be discarded and the loop to end.\n",
    "\n",
    "Try running the code through a debugger and see for yourself."
   ]
  }
 ],
 "metadata": {
  "kernelspec": {
   "display_name": "Python 3 (ipykernel)",
   "language": "python",
   "name": "python3"
  },
  "language_info": {
   "codemirror_mode": {
    "name": "ipython",
    "version": 3
   },
   "file_extension": ".py",
   "mimetype": "text/x-python",
   "name": "python",
   "nbconvert_exporter": "python",
   "pygments_lexer": "ipython3",
   "version": "3.9.7"
  }
 },
 "nbformat": 4,
 "nbformat_minor": 5
}
