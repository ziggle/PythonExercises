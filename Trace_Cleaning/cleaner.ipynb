{
 "cells": [
  {
   "cell_type": "markdown",
   "metadata": {},
   "source": [
    "Trace File Cleaning Program"
   ]
  },
  {
   "cell_type": "code",
   "execution_count": 116,
   "metadata": {},
   "outputs": [
    {
     "name": "stdout",
     "output_type": "stream",
     "text": [
      "           ID Class       Type  \\\n",
      "0  UTICA-2301   NaN    Heading   \n",
      "1  UTICA-2302   NaN    Heading   \n",
      "2  UTICA-2303   NaN    Heading   \n",
      "3  UTICA-2304   NaN  Info Item   \n",
      "4  UTICA-2305   NaN    Heading   \n",
      "\n",
      "                                         Description  Starkey Priority  \\\n",
      "0                                                NaN               NaN   \n",
      "1                                                NaN               NaN   \n",
      "2                                                NaN               NaN   \n",
      "3  Info: The purpose of this document is to defin...               NaN   \n",
      "4                                                NaN               NaN   \n",
      "\n",
      "   Verification Allocation                                  Linked Work Items  \\\n",
      "0                      NaN  is branched from: TULUM-1, has branch: XANADU-...   \n",
      "1                      NaN  is branched from: TULUM-2, has parent: UTICA-2...   \n",
      "2                      NaN  is branched from: TULUM-3, has parent: UTICA-2...   \n",
      "3                      NaN  is branched from: TULUM-1073, has parent: UTIC...   \n",
      "4                      NaN  is branched from: TULUM-4, has parent: UTICA-2...   \n",
      "\n",
      "     Status                                 Space / Document  \\\n",
      "0     Draft  Product Management / Utica  2.4 GHz CIC 312 URS   \n",
      "1     Draft  Product Management / Utica  2.4 GHz CIC 312 URS   \n",
      "2     Draft  Product Management / Utica  2.4 GHz CIC 312 URS   \n",
      "3  Approved  Product Management / Utica  2.4 GHz CIC 312 URS   \n",
      "4     Draft  Product Management / Utica  2.4 GHz CIC 312 URS   \n",
      "\n",
      "                 _polarion                                              Title  \n",
      "0  Uticaprogram/UTICA-2301                         Utica  2.4 GHz CIC 312 URS  \n",
      "1  Uticaprogram/UTICA-2302                                       Introduction  \n",
      "2  Uticaprogram/UTICA-2303                                            Purpose  \n",
      "3  Uticaprogram/UTICA-2304  Info: The purpose of this document is to defin...  \n",
      "4  Uticaprogram/UTICA-2305                                       Scope/Vision  \n"
     ]
    }
   ],
   "source": [
    "import pandas as pd\n",
    "\n",
    "# Read the Excel file\n",
    "file_path = \"URS_Export.xlsx\"\n",
    "sheet_name = \"Document Preflight\"  # Change to the desired sheet name\n",
    "df = pd.read_excel(file_path, sheet_name=sheet_name)\n",
    "\n",
    "# Print the first few rows of the DataFrame\n",
    "print(df.head())"
   ]
  },
  {
   "cell_type": "code",
   "execution_count": 117,
   "metadata": {},
   "outputs": [],
   "source": [
    "keeper=[\"ID\",\"Linked Work Items\"]\n",
    "dfc=(\n",
    "    df\n",
    "    .loc[df.Type==\"User Requirement\"]\n",
    "    .loc[df.Status==\"Approved\"]\n",
    "    .loc[:,[\"ID\",\"Linked Work Items\"]]\n",
    "    .set_index(\"ID\")\n",
    "    .replace({' ':\" \"},regex=True)\n",
    "    .apply(lambda x: x.str.split(',').explode())\n",
    "    .reset_index()\n",
    ")\n",
    "dfc1 = dfc['Linked Work Items'].str.split(':',n=1,expand=True)\n",
    "dfc1.columns=['Relationship','Link']\n",
    "dfc2 = dfc.join(dfc1)\n",
    "dfc2=dfc2.drop(columns=['Linked Work Items'])\n",
    "dfc2.Relationship=dfc2.Relationship.str.strip()"
   ]
  },
  {
   "cell_type": "code",
   "execution_count": 118,
   "metadata": {},
   "outputs": [],
   "source": [
    "cat_list = ['is refined by','is validated by']\n",
    "dfc3 = dfc2[dfc2['Relationship'].isin(cat_list)]\n",
    "\n"
   ]
  },
  {
   "cell_type": "code",
   "execution_count": 119,
   "metadata": {},
   "outputs": [],
   "source": [
    "dfc4 = dfc3[dfc3['Link'].str.contains('MASTER|UTICA', case=False)].reset_index(drop=True)\n",
    "dfc4 = dfc4.rename(columns={'ID': 'UID'})"
   ]
  },
  {
   "cell_type": "code",
   "execution_count": 120,
   "metadata": {},
   "outputs": [
    {
     "data": {
      "text/html": [
       "<div>\n",
       "<style scoped>\n",
       "    .dataframe tbody tr th:only-of-type {\n",
       "        vertical-align: middle;\n",
       "    }\n",
       "\n",
       "    .dataframe tbody tr th {\n",
       "        vertical-align: top;\n",
       "    }\n",
       "\n",
       "    .dataframe thead th {\n",
       "        text-align: right;\n",
       "    }\n",
       "</style>\n",
       "<table border=\"1\" class=\"dataframe\">\n",
       "  <thead>\n",
       "    <tr style=\"text-align: right;\">\n",
       "      <th></th>\n",
       "      <th>UID</th>\n",
       "      <th>Relationship</th>\n",
       "      <th>Link</th>\n",
       "    </tr>\n",
       "  </thead>\n",
       "  <tbody>\n",
       "    <tr>\n",
       "      <th>0</th>\n",
       "      <td>UTICA-6118</td>\n",
       "      <td>is refined by</td>\n",
       "      <td>MASTER-17121</td>\n",
       "    </tr>\n",
       "    <tr>\n",
       "      <th>1</th>\n",
       "      <td>UTICA-6117</td>\n",
       "      <td>is refined by</td>\n",
       "      <td>MASTER-17121</td>\n",
       "    </tr>\n",
       "    <tr>\n",
       "      <th>2</th>\n",
       "      <td>MASTER-6167</td>\n",
       "      <td>is refined by</td>\n",
       "      <td>MASTER-16473</td>\n",
       "    </tr>\n",
       "    <tr>\n",
       "      <th>3</th>\n",
       "      <td>MASTER-6167</td>\n",
       "      <td>is refined by</td>\n",
       "      <td>MASTER-20049</td>\n",
       "    </tr>\n",
       "    <tr>\n",
       "      <th>4</th>\n",
       "      <td>MASTER-6167</td>\n",
       "      <td>is refined by</td>\n",
       "      <td>MASTER-20059</td>\n",
       "    </tr>\n",
       "    <tr>\n",
       "      <th>5</th>\n",
       "      <td>MASTER-6167</td>\n",
       "      <td>is refined by</td>\n",
       "      <td>MASTER-20061</td>\n",
       "    </tr>\n",
       "    <tr>\n",
       "      <th>6</th>\n",
       "      <td>MASTER-6167</td>\n",
       "      <td>is validated by</td>\n",
       "      <td>MASTER-56201</td>\n",
       "    </tr>\n",
       "    <tr>\n",
       "      <th>7</th>\n",
       "      <td>MASTER-6168</td>\n",
       "      <td>is refined by</td>\n",
       "      <td>MASTER-20049</td>\n",
       "    </tr>\n",
       "    <tr>\n",
       "      <th>8</th>\n",
       "      <td>MASTER-6168</td>\n",
       "      <td>is validated by</td>\n",
       "      <td>MASTER-56201</td>\n",
       "    </tr>\n",
       "    <tr>\n",
       "      <th>9</th>\n",
       "      <td>UTICA-6378</td>\n",
       "      <td>is refined by</td>\n",
       "      <td>UTICA-2495</td>\n",
       "    </tr>\n",
       "  </tbody>\n",
       "</table>\n",
       "</div>"
      ],
      "text/plain": [
       "           UID     Relationship           Link\n",
       "0   UTICA-6118    is refined by   MASTER-17121\n",
       "1   UTICA-6117    is refined by   MASTER-17121\n",
       "2  MASTER-6167    is refined by   MASTER-16473\n",
       "3  MASTER-6167    is refined by   MASTER-20049\n",
       "4  MASTER-6167    is refined by   MASTER-20059\n",
       "5  MASTER-6167    is refined by   MASTER-20061\n",
       "6  MASTER-6167  is validated by   MASTER-56201\n",
       "7  MASTER-6168    is refined by   MASTER-20049\n",
       "8  MASTER-6168  is validated by   MASTER-56201\n",
       "9   UTICA-6378    is refined by     UTICA-2495"
      ]
     },
     "metadata": {},
     "output_type": "display_data"
    }
   ],
   "source": [
    "display(dfc4.head(10))"
   ]
  },
  {
   "cell_type": "code",
   "execution_count": 121,
   "metadata": {},
   "outputs": [],
   "source": [
    "dfc4.to_csv(\"URS_Cleaned.csv\",index=False)\n"
   ]
  },
  {
   "cell_type": "code",
   "execution_count": null,
   "metadata": {},
   "outputs": [],
   "source": []
  }
 ],
 "metadata": {
  "kernelspec": {
   "display_name": "Python 3",
   "language": "python",
   "name": "python3"
  },
  "language_info": {
   "codemirror_mode": {
    "name": "ipython",
    "version": 3
   },
   "file_extension": ".py",
   "mimetype": "text/x-python",
   "name": "python",
   "nbconvert_exporter": "python",
   "pygments_lexer": "ipython3",
   "version": "3.11.8"
  }
 },
 "nbformat": 4,
 "nbformat_minor": 2
}
