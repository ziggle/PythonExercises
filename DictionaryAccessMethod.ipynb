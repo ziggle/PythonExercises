{
 "cells": [
  {
   "cell_type": "markdown",
   "id": "324f37a3",
   "metadata": {},
   "source": [
    "https://levelup.gitconnected.com/stop-using-dict-key-to-access-values-in-python-dictionaries-7ab45bb7946c"
   ]
  },
  {
   "cell_type": "code",
   "execution_count": 6,
   "id": "ab1dd640",
   "metadata": {},
   "outputs": [],
   "source": [
    "d = {'apple':4, 'orange':5, 'pear':6}\n",
    "\n",
    "x = d['apple']    # 4\n",
    "y = d['orange']   # 5\n",
    "z = d['pear']     # 6"
   ]
  },
  {
   "cell_type": "code",
   "execution_count": 7,
   "id": "d8e52862",
   "metadata": {},
   "outputs": [
    {
     "ename": "KeyError",
     "evalue": "'pineapple'",
     "output_type": "error",
     "traceback": [
      "\u001b[1;31m---------------------------------------------------------------------------\u001b[0m",
      "\u001b[1;31mKeyError\u001b[0m                                  Traceback (most recent call last)",
      "\u001b[1;32m~\\AppData\\Local\\Temp/ipykernel_18496/324331765.py\u001b[0m in \u001b[0;36m<module>\u001b[1;34m\u001b[0m\n\u001b[1;32m----> 1\u001b[1;33m \u001b[0ma\u001b[0m \u001b[1;33m=\u001b[0m \u001b[0md\u001b[0m\u001b[1;33m[\u001b[0m\u001b[1;34m'pineapple'\u001b[0m\u001b[1;33m]\u001b[0m  \u001b[1;31m# KeyError\u001b[0m\u001b[1;33m\u001b[0m\u001b[1;33m\u001b[0m\u001b[0m\n\u001b[0m",
      "\u001b[1;31mKeyError\u001b[0m: 'pineapple'"
     ]
    }
   ],
   "source": [
    "a = d['pineapple']  # KeyError"
   ]
  },
  {
   "cell_type": "code",
   "execution_count": 8,
   "id": "104cbb56",
   "metadata": {},
   "outputs": [
    {
     "name": "stdout",
     "output_type": "stream",
     "text": [
      "None\n"
     ]
    }
   ],
   "source": [
    "d = {'apple':4, 'orange':5, 'pear':6}\n",
    "\n",
    "x = d.get('apple')      # 4\n",
    "y = d.get('orange')     # 5\n",
    "z = d.get('pear')       # 6\n",
    "a = d.get('pineapple')  # None\n",
    "print(a)"
   ]
  },
  {
   "cell_type": "code",
   "execution_count": null,
   "id": "ce9a4b00",
   "metadata": {},
   "outputs": [],
   "source": [
    "a"
   ]
  },
  {
   "cell_type": "code",
   "execution_count": 11,
   "id": "1850d0c4",
   "metadata": {},
   "outputs": [
    {
     "name": "stdout",
     "output_type": "stream",
     "text": [
      "3.14159\n"
     ]
    }
   ],
   "source": [
    "d = {'apple':4}\n",
    "\n",
    "x = d.get('apple')          # 4\n",
    "y = d.get('orange', 100)    # 100\n",
    "z = d.get('pear', 3.14159)  # 3.14159\n",
    "print(z)"
   ]
  },
  {
   "cell_type": "code",
   "execution_count": null,
   "id": "7752e51c",
   "metadata": {},
   "outputs": [],
   "source": []
  }
 ],
 "metadata": {
  "kernelspec": {
   "display_name": "Python 3 (ipykernel)",
   "language": "python",
   "name": "python3"
  },
  "language_info": {
   "codemirror_mode": {
    "name": "ipython",
    "version": 3
   },
   "file_extension": ".py",
   "mimetype": "text/x-python",
   "name": "python",
   "nbconvert_exporter": "python",
   "pygments_lexer": "ipython3",
   "version": "3.9.7"
  }
 },
 "nbformat": 4,
 "nbformat_minor": 5
}
