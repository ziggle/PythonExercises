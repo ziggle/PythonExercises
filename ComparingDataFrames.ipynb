{
 "cells": [
  {
   "cell_type": "markdown",
   "metadata": {},
   "source": []
  },
  {
   "cell_type": "code",
   "execution_count": 1,
   "metadata": {},
   "outputs": [],
   "source": [
    "import pandas as pd\n",
    "\n",
    "df = pd.DataFrame({\"device_id\": ['D475', 'D175', 'D200', 'D375', 'M475', 'M400', 'M250', 'A150'],\n",
    "                   \"device_temperature\": [35.4, 45.2, 59.3, 49.3, 32.2, 35.7, 36.8, 34.9],\n",
    "                   \"device_status\": [\"Inactive\", \"Active\", \"Active\", \"Active\", \"Active\", \"Inactive\", \"Active\", \"Active\"]})\n",
    "\n",
    "df1 = pd.DataFrame({\"device_id\": ['D475', 'D175', 'D200', 'D375', 'M475', 'M400', 'M250', 'A150'],\n",
    "                   \"device_temperature\": [39.4, 45.2, 29.3, 49.3, 32.2, 35.7, 36.8, 24.9],\n",
    "                   \"device_status\": [\"Active\", \"Active\", \"Inactive\", \"Active\", \"Active\", \"Inactive\", \"Active\", \"Inactive\"]})"
   ]
  },
  {
   "cell_type": "code",
   "execution_count": 2,
   "metadata": {},
   "outputs": [
    {
     "data": {
      "text/plain": [
       "False"
      ]
     },
     "execution_count": 2,
     "metadata": {},
     "output_type": "execute_result"
    }
   ],
   "source": [
    "#Case 1: Compare two Series having the same shape, same data at the same position\n",
    "series1 = pd.Series([1,2,3,4])\n",
    "series2 = pd.Series([1,2,3,4])\n",
    "series1.equals(series2)\n",
    "\n",
    "## Output\n",
    "#True\n",
    "\n",
    "#Case 2: Compare two Series having different shapes\n",
    "series1 = pd.Series([1,2,3,4,5,6])\n",
    "series2 = pd.Series([1,2,4,4])\n",
    "series1.equals(series2)\n",
    "\n",
    "## Output\n",
    "#False\n",
    "\n",
    "#Case 3: Compare two Series having the same shape but different order of the data\n",
    "series1 = pd.Series([1,2,3,4])\n",
    "series2 = pd.Series([2,1,3,4])\n",
    "series1.equals(series2)\n",
    "\n",
    "## Output\n",
    "#False\n",
    "\n",
    "#Case 4: Compare two Series having the same shape but different data\n",
    "series1 = pd.Series([1,2,3,4])\n",
    "series2 = pd.Series([1,2,4,4])\n",
    "series1.equals(series2)\n",
    "\n",
    "## Output\n",
    "#False"
   ]
  },
  {
   "cell_type": "code",
   "execution_count": 4,
   "metadata": {},
   "outputs": [
    {
     "data": {
      "text/plain": [
       "False"
      ]
     },
     "execution_count": 4,
     "metadata": {},
     "output_type": "execute_result"
    }
   ],
   "source": [
    "df[\"device_id\"].equals(df1[\"device_id\"])\n",
    "#Output\n",
    "#True\n",
    "\n",
    "df[\"device_temperature\"].equals(df1[\"device_temperature\"])\n",
    "#Output\n",
    "#False"
   ]
  },
  {
   "cell_type": "code",
   "execution_count": 3,
   "metadata": {},
   "outputs": [
    {
     "data": {
      "text/plain": [
       "False"
      ]
     },
     "execution_count": 3,
     "metadata": {},
     "output_type": "execute_result"
    }
   ],
   "source": [
    "df.equals(df1)"
   ]
  },
  {
   "cell_type": "code",
   "execution_count": 5,
   "metadata": {},
   "outputs": [
    {
     "name": "stdout",
     "output_type": "stream",
     "text": [
      "List of the columns having different values in the DataFrames df1 and df \n",
      "\n",
      "device_temperature\n",
      "device_status\n"
     ]
    }
   ],
   "source": [
    "print(\"List of the columns having different values in the DataFrames df1 and df \\n\")\n",
    "for column in df.columns:\n",
    "    if df[column].equals(df1[column]):\n",
    "        pass\n",
    "    else:\n",
    "        print(column)\n",
    "\n",
    "\n",
    "# Output\n",
    "#List of the columns having different values in the DataFrames df1 and df \n",
    "\n",
    "#device_temperature\n",
    "#device_status"
   ]
  },
  {
   "cell_type": "code",
   "execution_count": 6,
   "metadata": {},
   "outputs": [
    {
     "data": {
      "text/html": [
       "<div>\n",
       "<style scoped>\n",
       "    .dataframe tbody tr th:only-of-type {\n",
       "        vertical-align: middle;\n",
       "    }\n",
       "\n",
       "    .dataframe tbody tr th {\n",
       "        vertical-align: top;\n",
       "    }\n",
       "\n",
       "    .dataframe thead th {\n",
       "        text-align: right;\n",
       "    }\n",
       "</style>\n",
       "<table border=\"1\" class=\"dataframe\">\n",
       "  <thead>\n",
       "    <tr style=\"text-align: right;\">\n",
       "      <th></th>\n",
       "      <th>device_id</th>\n",
       "      <th>device_temperature</th>\n",
       "      <th>device_status</th>\n",
       "    </tr>\n",
       "  </thead>\n",
       "  <tbody>\n",
       "    <tr>\n",
       "      <th>0</th>\n",
       "      <td>D475</td>\n",
       "      <td>35.4</td>\n",
       "      <td>Inactive</td>\n",
       "    </tr>\n",
       "    <tr>\n",
       "      <th>1</th>\n",
       "      <td>D175</td>\n",
       "      <td>45.2</td>\n",
       "      <td>Active</td>\n",
       "    </tr>\n",
       "    <tr>\n",
       "      <th>2</th>\n",
       "      <td>D200</td>\n",
       "      <td>59.3</td>\n",
       "      <td>Active</td>\n",
       "    </tr>\n",
       "    <tr>\n",
       "      <th>3</th>\n",
       "      <td>D375</td>\n",
       "      <td>49.3</td>\n",
       "      <td>Active</td>\n",
       "    </tr>\n",
       "    <tr>\n",
       "      <th>4</th>\n",
       "      <td>M475</td>\n",
       "      <td>32.2</td>\n",
       "      <td>Active</td>\n",
       "    </tr>\n",
       "    <tr>\n",
       "      <th>5</th>\n",
       "      <td>M400</td>\n",
       "      <td>35.7</td>\n",
       "      <td>Inactive</td>\n",
       "    </tr>\n",
       "    <tr>\n",
       "      <th>6</th>\n",
       "      <td>M250</td>\n",
       "      <td>36.8</td>\n",
       "      <td>Active</td>\n",
       "    </tr>\n",
       "    <tr>\n",
       "      <th>7</th>\n",
       "      <td>A150</td>\n",
       "      <td>34.9</td>\n",
       "      <td>Active</td>\n",
       "    </tr>\n",
       "    <tr>\n",
       "      <th>0</th>\n",
       "      <td>D475</td>\n",
       "      <td>39.4</td>\n",
       "      <td>Active</td>\n",
       "    </tr>\n",
       "    <tr>\n",
       "      <th>1</th>\n",
       "      <td>D175</td>\n",
       "      <td>45.2</td>\n",
       "      <td>Active</td>\n",
       "    </tr>\n",
       "    <tr>\n",
       "      <th>2</th>\n",
       "      <td>D200</td>\n",
       "      <td>29.3</td>\n",
       "      <td>Inactive</td>\n",
       "    </tr>\n",
       "    <tr>\n",
       "      <th>3</th>\n",
       "      <td>D375</td>\n",
       "      <td>49.3</td>\n",
       "      <td>Active</td>\n",
       "    </tr>\n",
       "    <tr>\n",
       "      <th>4</th>\n",
       "      <td>M475</td>\n",
       "      <td>32.2</td>\n",
       "      <td>Active</td>\n",
       "    </tr>\n",
       "    <tr>\n",
       "      <th>5</th>\n",
       "      <td>M400</td>\n",
       "      <td>35.7</td>\n",
       "      <td>Inactive</td>\n",
       "    </tr>\n",
       "    <tr>\n",
       "      <th>6</th>\n",
       "      <td>M250</td>\n",
       "      <td>36.8</td>\n",
       "      <td>Active</td>\n",
       "    </tr>\n",
       "    <tr>\n",
       "      <th>7</th>\n",
       "      <td>A150</td>\n",
       "      <td>24.9</td>\n",
       "      <td>Inactive</td>\n",
       "    </tr>\n",
       "  </tbody>\n",
       "</table>\n",
       "</div>"
      ],
      "text/plain": [
       "  device_id  device_temperature device_status\n",
       "0      D475                35.4      Inactive\n",
       "1      D175                45.2        Active\n",
       "2      D200                59.3        Active\n",
       "3      D375                49.3        Active\n",
       "4      M475                32.2        Active\n",
       "5      M400                35.7      Inactive\n",
       "6      M250                36.8        Active\n",
       "7      A150                34.9        Active\n",
       "0      D475                39.4        Active\n",
       "1      D175                45.2        Active\n",
       "2      D200                29.3      Inactive\n",
       "3      D375                49.3        Active\n",
       "4      M475                32.2        Active\n",
       "5      M400                35.7      Inactive\n",
       "6      M250                36.8        Active\n",
       "7      A150                24.9      Inactive"
      ]
     },
     "execution_count": 6,
     "metadata": {},
     "output_type": "execute_result"
    }
   ],
   "source": [
    "df2 = pd.concat([df, df1])\n",
    "df2"
   ]
  },
  {
   "cell_type": "code",
   "execution_count": 7,
   "metadata": {},
   "outputs": [
    {
     "data": {
      "text/html": [
       "<div>\n",
       "<style scoped>\n",
       "    .dataframe tbody tr th:only-of-type {\n",
       "        vertical-align: middle;\n",
       "    }\n",
       "\n",
       "    .dataframe tbody tr th {\n",
       "        vertical-align: top;\n",
       "    }\n",
       "\n",
       "    .dataframe thead th {\n",
       "        text-align: right;\n",
       "    }\n",
       "</style>\n",
       "<table border=\"1\" class=\"dataframe\">\n",
       "  <thead>\n",
       "    <tr style=\"text-align: right;\">\n",
       "      <th></th>\n",
       "      <th>device_id</th>\n",
       "      <th>device_temperature</th>\n",
       "      <th>device_status</th>\n",
       "    </tr>\n",
       "  </thead>\n",
       "  <tbody>\n",
       "    <tr>\n",
       "      <th>0</th>\n",
       "      <td>D475</td>\n",
       "      <td>35.4</td>\n",
       "      <td>Inactive</td>\n",
       "    </tr>\n",
       "    <tr>\n",
       "      <th>2</th>\n",
       "      <td>D200</td>\n",
       "      <td>59.3</td>\n",
       "      <td>Active</td>\n",
       "    </tr>\n",
       "    <tr>\n",
       "      <th>7</th>\n",
       "      <td>A150</td>\n",
       "      <td>34.9</td>\n",
       "      <td>Active</td>\n",
       "    </tr>\n",
       "    <tr>\n",
       "      <th>0</th>\n",
       "      <td>D475</td>\n",
       "      <td>39.4</td>\n",
       "      <td>Active</td>\n",
       "    </tr>\n",
       "    <tr>\n",
       "      <th>2</th>\n",
       "      <td>D200</td>\n",
       "      <td>29.3</td>\n",
       "      <td>Inactive</td>\n",
       "    </tr>\n",
       "    <tr>\n",
       "      <th>7</th>\n",
       "      <td>A150</td>\n",
       "      <td>24.9</td>\n",
       "      <td>Inactive</td>\n",
       "    </tr>\n",
       "  </tbody>\n",
       "</table>\n",
       "</div>"
      ],
      "text/plain": [
       "  device_id  device_temperature device_status\n",
       "0      D475                35.4      Inactive\n",
       "2      D200                59.3        Active\n",
       "7      A150                34.9        Active\n",
       "0      D475                39.4        Active\n",
       "2      D200                29.3      Inactive\n",
       "7      A150                24.9      Inactive"
      ]
     },
     "execution_count": 7,
     "metadata": {},
     "output_type": "execute_result"
    }
   ],
   "source": [
    "df3 = df2.drop_duplicates(keep=False)\n",
    "df3"
   ]
  },
  {
   "cell_type": "code",
   "execution_count": 8,
   "metadata": {},
   "outputs": [
    {
     "data": {
      "text/html": [
       "<div>\n",
       "<style scoped>\n",
       "    .dataframe tbody tr th:only-of-type {\n",
       "        vertical-align: middle;\n",
       "    }\n",
       "\n",
       "    .dataframe tbody tr th {\n",
       "        vertical-align: top;\n",
       "    }\n",
       "\n",
       "    .dataframe thead tr th {\n",
       "        text-align: left;\n",
       "    }\n",
       "</style>\n",
       "<table border=\"1\" class=\"dataframe\">\n",
       "  <thead>\n",
       "    <tr>\n",
       "      <th></th>\n",
       "      <th colspan=\"2\" halign=\"left\">device_temperature</th>\n",
       "      <th colspan=\"2\" halign=\"left\">device_status</th>\n",
       "    </tr>\n",
       "    <tr>\n",
       "      <th></th>\n",
       "      <th>self</th>\n",
       "      <th>other</th>\n",
       "      <th>self</th>\n",
       "      <th>other</th>\n",
       "    </tr>\n",
       "  </thead>\n",
       "  <tbody>\n",
       "    <tr>\n",
       "      <th>0</th>\n",
       "      <td>35.4</td>\n",
       "      <td>39.4</td>\n",
       "      <td>Inactive</td>\n",
       "      <td>Active</td>\n",
       "    </tr>\n",
       "    <tr>\n",
       "      <th>2</th>\n",
       "      <td>59.3</td>\n",
       "      <td>29.3</td>\n",
       "      <td>Active</td>\n",
       "      <td>Inactive</td>\n",
       "    </tr>\n",
       "    <tr>\n",
       "      <th>7</th>\n",
       "      <td>34.9</td>\n",
       "      <td>24.9</td>\n",
       "      <td>Active</td>\n",
       "      <td>Inactive</td>\n",
       "    </tr>\n",
       "  </tbody>\n",
       "</table>\n",
       "</div>"
      ],
      "text/plain": [
       "  device_temperature       device_status          \n",
       "                self other          self     other\n",
       "0               35.4  39.4      Inactive    Active\n",
       "2               59.3  29.3        Active  Inactive\n",
       "7               34.9  24.9        Active  Inactive"
      ]
     },
     "execution_count": 8,
     "metadata": {},
     "output_type": "execute_result"
    }
   ],
   "source": [
    "df4 = df.compare(df1)\n",
    "df4"
   ]
  }
 ],
 "metadata": {
  "kernelspec": {
   "display_name": "Python 3",
   "language": "python",
   "name": "python3"
  },
  "language_info": {
   "codemirror_mode": {
    "name": "ipython",
    "version": 3
   },
   "file_extension": ".py",
   "mimetype": "text/x-python",
   "name": "python",
   "nbconvert_exporter": "python",
   "pygments_lexer": "ipython3",
   "version": "3.11.4"
  },
  "orig_nbformat": 4
 },
 "nbformat": 4,
 "nbformat_minor": 2
}
