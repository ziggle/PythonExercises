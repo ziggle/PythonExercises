{
 "cells": [
  {
   "cell_type": "markdown",
   "metadata": {},
   "source": [
    "https://pub.towardsai.net/master-the-power-of-regex-a-step-by-step-guide-c2167cad7469"
   ]
  },
  {
   "cell_type": "code",
   "execution_count": 1,
   "metadata": {},
   "outputs": [],
   "source": [
    "import re"
   ]
  },
  {
   "cell_type": "code",
   "execution_count": 7,
   "metadata": {},
   "outputs": [
    {
     "name": "stdout",
     "output_type": "stream",
     "text": [
      "<re.Match object; span=(0, 11), match='Hello World'>\n"
     ]
    }
   ],
   "source": [
    "pattern=r'(\\w+) (\\w+)'\n",
    "string='Hello World'\n",
    "match=re.search(pattern,string)\n",
    "print(match)\n",
    "#string='$$$$ $$$$'\n",
    "#match=re.search(pattern,string)\n",
    "#print(match==None)"
   ]
  },
  {
   "cell_type": "code",
   "execution_count": 10,
   "metadata": {},
   "outputs": [
    {
     "name": "stdout",
     "output_type": "stream",
     "text": [
      "Hello World\n",
      "Hello\n",
      "World\n"
     ]
    }
   ],
   "source": [
    "print(match.group(0))\n",
    "print(match.group(1))\n",
    "print(match.group(2))"
   ]
  },
  {
   "cell_type": "code",
   "execution_count": 13,
   "metadata": {},
   "outputs": [
    {
     "name": "stdout",
     "output_type": "stream",
     "text": [
      "None\n"
     ]
    }
   ],
   "source": [
    "pattern=r'hello'\n",
    "#string='Hello World'\n",
    "string=\"$$$$  $$$$$\"\n",
    "match=re.search(pattern, string, flags=re.IGNORECASE)\n",
    "print(match)"
   ]
  },
  {
   "cell_type": "code",
   "execution_count": 14,
   "metadata": {},
   "outputs": [
    {
     "name": "stdout",
     "output_type": "stream",
     "text": [
      "No match found\n"
     ]
    }
   ],
   "source": [
    "if match:\n",
    "    print('Match found:', match.group())\n",
    "else:\n",
    "    print('No match found')"
   ]
  },
  {
   "cell_type": "code",
   "execution_count": 15,
   "metadata": {},
   "outputs": [
    {
     "name": "stdout",
     "output_type": "stream",
     "text": [
      "Valid email\n"
     ]
    }
   ],
   "source": [
    "# validate email addresses\n",
    "email_pattern=r'^[\\w.-]+@[\\w.-]+\\.\\w+$'\n",
    "email='john.doe@example.com'\n",
    "if re.match(email_pattern, email):\n",
    "    print('Valid email')\n",
    "else:\n",
    "    print('Invalid email')"
   ]
  },
  {
   "cell_type": "code",
   "execution_count": 19,
   "metadata": {},
   "outputs": [
    {
     "name": "stdout",
     "output_type": "stream",
     "text": [
      "Found URLs: ['https://www.example.com', 'http://www.example.org']\n"
     ]
    }
   ],
   "source": [
    "# Extract URLs from a text\n",
    "text='Visit https://www.example.com and http://www.example.org for more information.'\n",
    "url_pattern=r'http[s]?://(?:[a-zA-Z]|[0-9]|[$-_@.&+]|[!*\\\\(\\\\),]|(?:%[0-9a-fA-F][0-9a-fA-F]))+'\n",
    "urls=re.findall(url_pattern,text)\n",
    "print('Found URLs:',urls)\n"
   ]
  },
  {
   "cell_type": "code",
   "execution_count": 21,
   "metadata": {},
   "outputs": [
    {
     "name": "stdout",
     "output_type": "stream",
     "text": [
      "Cleaned HTML: Hello, World!\n"
     ]
    }
   ],
   "source": [
    "# Remove HTML tags from a string\n",
    "html = '<h1>Hello, <span>World</span>!</h1>'\n",
    "html_pattern=r'<[^>]+>'\n",
    "cleaned_html=re.sub(html_pattern,'',html)\n",
    "print('Cleaned HTML:',cleaned_html)"
   ]
  },
  {
   "cell_type": "code",
   "execution_count": null,
   "metadata": {},
   "outputs": [],
   "source": []
  }
 ],
 "metadata": {
  "kernelspec": {
   "display_name": "Python 3",
   "language": "python",
   "name": "python3"
  },
  "language_info": {
   "codemirror_mode": {
    "name": "ipython",
    "version": 3
   },
   "file_extension": ".py",
   "mimetype": "text/x-python",
   "name": "python",
   "nbconvert_exporter": "python",
   "pygments_lexer": "ipython3",
   "version": "3.8.5"
  }
 },
 "nbformat": 4,
 "nbformat_minor": 4
}
