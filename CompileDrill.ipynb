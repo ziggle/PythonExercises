{
 "cells": [
  {
   "cell_type": "markdown",
   "id": "b2b215ea",
   "metadata": {},
   "source": [
    "https://python.plainenglish.io/i-explored-pythons-powerful-compile-function-and-discovered-e315d23b8e7e"
   ]
  },
  {
   "cell_type": "markdown",
   "id": "bdbcc807",
   "metadata": {},
   "source": [
    "compile(source, filename, mode, flags=0, dont_inherit=False)\n",
    "\n",
    "Mode: This specifies the compilation mode. It can be set to “exec” if the source code includes some statements, “eval” if it includes just one expression, or “single” if it includes just one interactive statement.\n",
    "\n",
    "Flags: This is an optional parameter that specifies the compiler’s optional flags. By default, it is set to 0.\n",
    "\n",
    "Don't inherit: This is a variable that specifies whether or not the compiler flags from the surrounding scope should be inherited. By default, it is set to False."
   ]
  },
  {
   "cell_type": "code",
   "execution_count": 1,
   "id": "993dd6e9",
   "metadata": {},
   "outputs": [
    {
     "name": "stdout",
     "output_type": "stream",
     "text": [
      "Hello, Medium Community!\n"
     ]
    }
   ],
   "source": [
    "code = \"print('Hello, Medium Community!')\"\n",
    "compiled_code = compile(code, \"<string>\", \"exec\")\n",
    "exec(compiled_code)"
   ]
  },
  {
   "cell_type": "code",
   "execution_count": 2,
   "id": "91088948",
   "metadata": {},
   "outputs": [
    {
     "name": "stdout",
     "output_type": "stream",
     "text": [
      "27\n"
     ]
    }
   ],
   "source": [
    "expression = \"7 + 5 * 4\"\n",
    "compiled_expression = compile(expression, \"<string>\", \"eval\")\n",
    "result = eval(compiled_expression)\n",
    "print(result)"
   ]
  },
  {
   "cell_type": "code",
   "execution_count": 3,
   "id": "a58f1a7e",
   "metadata": {},
   "outputs": [
    {
     "name": "stdout",
     "output_type": "stream",
     "text": [
      "56\n"
     ]
    }
   ],
   "source": [
    "function_def = \"\"\"\n",
    "def multiply(x, y):\n",
    "    return x * y\n",
    "\"\"\"\n",
    "compiled_function_def = compile(function_def, \"<string>\", \"exec\")\n",
    "exec(compiled_function_def)\n",
    "\n",
    "result = multiply(7, 8)\n",
    "print(result)"
   ]
  }
 ],
 "metadata": {
  "kernelspec": {
   "display_name": "Python 3 (ipykernel)",
   "language": "python",
   "name": "python3"
  },
  "language_info": {
   "codemirror_mode": {
    "name": "ipython",
    "version": 3
   },
   "file_extension": ".py",
   "mimetype": "text/x-python",
   "name": "python",
   "nbconvert_exporter": "python",
   "pygments_lexer": "ipython3",
   "version": "3.9.7"
  }
 },
 "nbformat": 4,
 "nbformat_minor": 5
}
