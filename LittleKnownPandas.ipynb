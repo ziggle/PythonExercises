{
 "cells": [
  {
   "cell_type": "markdown",
   "metadata": {},
   "source": [
    "https://towardsdatascience.com/6-things-that-you-probably-didnt-know-you-could-do-with-pandas-d365b3362a55"
   ]
  },
  {
   "cell_type": "code",
   "execution_count": 1,
   "metadata": {},
   "outputs": [],
   "source": [
    "import pandas as pd\n",
    "import numpy as np\n",
    "import matplotlib.pyplot as plt\n",
    "\n",
    "from base64 import b64encode\n",
    "from io import BytesIO\n",
    "from IPython.display import HTML\n",
    "\n",
    "%matplotlib inline"
   ]
  },
  {
   "cell_type": "code",
   "execution_count": 2,
   "metadata": {},
   "outputs": [
    {
     "data": {
      "text/html": [
       "<div>\n",
       "<style scoped>\n",
       "    .dataframe tbody tr th:only-of-type {\n",
       "        vertical-align: middle;\n",
       "    }\n",
       "\n",
       "    .dataframe tbody tr th {\n",
       "        vertical-align: top;\n",
       "    }\n",
       "\n",
       "    .dataframe thead th {\n",
       "        text-align: right;\n",
       "    }\n",
       "</style>\n",
       "<table border=\"1\" class=\"dataframe\">\n",
       "  <thead>\n",
       "    <tr style=\"text-align: right;\">\n",
       "      <th></th>\n",
       "      <th>Name</th>\n",
       "      <th>Price History</th>\n",
       "    </tr>\n",
       "  </thead>\n",
       "  <tbody>\n",
       "    <tr>\n",
       "      <th>0</th>\n",
       "      <td>Bitcoin</td>\n",
       "      <td>[30800.0, 8800.0, 16400.0, 35600.0, 16800.0, 2...</td>\n",
       "    </tr>\n",
       "    <tr>\n",
       "      <th>1</th>\n",
       "      <td>Ethereum</td>\n",
       "      <td>[480.0, 980.0, 880.0, 780.0, 0.0, 1320.0, 200....</td>\n",
       "    </tr>\n",
       "    <tr>\n",
       "      <th>2</th>\n",
       "      <td>BNB</td>\n",
       "      <td>[310.0, 90.0, 485.0, 35.0, 245.0, 390.0, 25.0,...</td>\n",
       "    </tr>\n",
       "    <tr>\n",
       "      <th>3</th>\n",
       "      <td>Litecoin</td>\n",
       "      <td>[117.0, 108.0, 99.0, 73.5, 61.49999999999999, ...</td>\n",
       "    </tr>\n",
       "  </tbody>\n",
       "</table>\n",
       "</div>"
      ],
      "text/plain": [
       "       Name                                      Price History\n",
       "0   Bitcoin  [30800.0, 8800.0, 16400.0, 35600.0, 16800.0, 2...\n",
       "1  Ethereum  [480.0, 980.0, 880.0, 780.0, 0.0, 1320.0, 200....\n",
       "2       BNB  [310.0, 90.0, 485.0, 35.0, 245.0, 390.0, 25.0,...\n",
       "3  Litecoin  [117.0, 108.0, 99.0, 73.5, 61.49999999999999, ..."
      ]
     },
     "execution_count": 2,
     "metadata": {},
     "output_type": "execute_result"
    }
   ],
   "source": [
    "n = 100\n",
    "\n",
    "data = [\n",
    "    ('Bitcoin',   40000*np.random.rand(n).round(2)), \n",
    "    ('Ethereum',   2000*np.random.rand(n).round(2)), \n",
    "    ('BNB',     500*np.random.rand(n).round(2)),\n",
    "    ('Litecoin',   150*np.random.rand(n).round(2)),\n",
    "    \n",
    "]\n",
    "df = pd.DataFrame(data, columns=['Name', 'Price History'])\n",
    "df.head()"
   ]
  },
  {
   "cell_type": "code",
   "execution_count": 4,
   "metadata": {},
   "outputs": [],
   "source": [
    "def create_line(data, **kwags):\n",
    "    \n",
    "    # Convert data to a list\n",
    "    data = list(data)\n",
    "    \n",
    "    # Create a figure and axis object with given size and keyword arguments\n",
    "    fig, ax = plt.subplots(1, 1, figsize=(3, 0.25), **kwags)\n",
    "    \n",
    "    # Plot the data\n",
    "    ax.plot(data)\n",
    "    \n",
    "    # Remove the spines from the plot\n",
    "    for k,v in ax.spines.items():\n",
    "        v.set_visible(False)\n",
    "        \n",
    "    # Remove the tick marks from the x and y axes\n",
    "    ax.set_xticks([])\n",
    "    ax.set_yticks([])\n",
    "    \n",
    "    # Plot a red dot at the last point of the data\n",
    "    plt.plot(len(data) - 1, data[len(data) - 1], 'r.')\n",
    "    \n",
    "    # Fill the area under the plot with alpha=0.1\n",
    "    ax.fill_between(range(len(data)), data, len(data)*[min(data)], alpha=0.1)\n",
    "    \n",
    "    # Close the plot to prevent displaying it\n",
    "    plt.close(fig)\n",
    "    \n",
    "    # Save the plot image as png and get its binary data\n",
    "    img = BytesIO()    \n",
    "    fig.savefig(img, format='png')\n",
    "    encoded = b64encode(img.getvalue()).decode('utf-8')  \n",
    "    \n",
    "    # Return the encoded image data as an HTML image tag\n",
    "    return '<img src=\"data:image/png;base64,{}\"/>'.format(encoded)"
   ]
  },
  {
   "cell_type": "code",
   "execution_count": 5,
   "metadata": {},
   "outputs": [
    {
     "data": {
      "text/html": [
       "<table border=\"1\" class=\"dataframe\">\n",
       "  <thead>\n",
       "    <tr style=\"text-align: right;\">\n",
       "      <th></th>\n",
       "      <th>Name</th>\n",
       "      <th>Price History Line</th>\n",
       "    </tr>\n",
       "  </thead>\n",
       "  <tbody>\n",
       "    <tr>\n",
       "      <th>0</th>\n",
       "      <td>Bitcoin</td>\n",
       "      <td><img src=\"data:image/png;base64,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\"/></td>\n",
       "    </tr>\n",
       "    <tr>\n",
       "      <th>1</th>\n",
       "      <td>Ethereum</td>\n",
       "      <td><img src=\"data:image/png;base64,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\"/></td>\n",
       "    </tr>\n",
       "    <tr>\n",
       "      <th>2</th>\n",
       "      <td>BNB</td>\n",
       "      <td><img src=\"data:image/png;base64,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\"/></td>\n",
       "    </tr>\n",
       "    <tr>\n",
       "      <th>3</th>\n",
       "      <td>Litecoin</td>\n",
       "      <td><img src=\"data:image/png;base64,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\"/></td>\n",
       "    </tr>\n",
       "  </tbody>\n",
       "</table>"
      ],
      "text/plain": [
       "<IPython.core.display.HTML object>"
      ]
     },
     "execution_count": 5,
     "metadata": {},
     "output_type": "execute_result"
    }
   ],
   "source": [
    "df['Price History Line']  = df['Price History'].apply(create_line)\n",
    "HTML(df.drop(columns = [\"Price History\"]).to_html(escape=False))"
   ]
  },
  {
   "cell_type": "code",
   "execution_count": 6,
   "metadata": {},
   "outputs": [
    {
     "name": "stderr",
     "output_type": "stream",
     "text": [
      "ERROR: Could not install packages due to an EnvironmentError: [WinError 5] Access is denied: 'c:\\\\programdata\\\\anaconda3\\\\lib\\\\site-packages\\\\packaging-20.4.dist-info\\\\INSTALLER'\n",
      "Consider using the `--user` option or check the permissions.\n",
      "\n"
     ]
    },
    {
     "name": "stdout",
     "output_type": "stream",
     "text": [
      "Collecting pandas_flavor\n",
      "  Downloading pandas_flavor-0.5.0-py3-none-any.whl (7.1 kB)\n",
      "Requirement already satisfied: pandas>=0.23 in c:\\programdata\\anaconda3\\lib\\site-packages (from pandas_flavor) (1.1.3)\n",
      "Collecting xarray\n",
      "  Downloading xarray-2023.1.0-py3-none-any.whl (973 kB)\n",
      "Collecting lazy-loader>=0.1\n",
      "  Downloading lazy_loader-0.2-py3-none-any.whl (8.6 kB)\n",
      "Requirement already satisfied: numpy>=1.15.4 in c:\\programdata\\anaconda3\\lib\\site-packages (from pandas>=0.23->pandas_flavor) (1.19.2)\n",
      "Requirement already satisfied: python-dateutil>=2.7.3 in c:\\programdata\\anaconda3\\lib\\site-packages (from pandas>=0.23->pandas_flavor) (2.8.1)\n",
      "Requirement already satisfied: pytz>=2017.2 in c:\\programdata\\anaconda3\\lib\\site-packages (from pandas>=0.23->pandas_flavor) (2020.1)\n",
      "Collecting packaging>=21.3\n",
      "  Downloading packaging-23.1-py3-none-any.whl (48 kB)\n",
      "Requirement already satisfied: six>=1.5 in c:\\programdata\\anaconda3\\lib\\site-packages (from python-dateutil>=2.7.3->pandas>=0.23->pandas_flavor) (1.15.0)\n",
      "Installing collected packages: packaging, xarray, lazy-loader, pandas-flavor\n",
      "  Attempting uninstall: packaging\n",
      "    Found existing installation: packaging 20.4\n",
      "    Uninstalling packaging-20.4:\n"
     ]
    }
   ],
   "source": [
    "# !pip install pandas_flavor"
   ]
  },
  {
   "cell_type": "code",
   "execution_count": 8,
   "metadata": {},
   "outputs": [],
   "source": [
    "# my_pandas.py\n",
    "\n",
    "import pandas as pd\n",
    "import pandas_flavor as pf\n",
    "\n",
    "@pf.register_dataframe_method\n",
    "def add_row(df, row):\n",
    "    \n",
    "    df.loc[len(df)] = row"
   ]
  },
  {
   "cell_type": "code",
   "execution_count": 9,
   "metadata": {},
   "outputs": [],
   "source": [
    "df = pd.DataFrame([[\"Mercury\", 1], \n",
    "                   [\"Venus\",   2]],\n",
    "                   columns = [\"Planet\", \"Position\"])"
   ]
  },
  {
   "cell_type": "code",
   "execution_count": 11,
   "metadata": {},
   "outputs": [
    {
     "name": "stdout",
     "output_type": "stream",
     "text": [
      "    Planet  Position\n",
      "0  Mercury         1\n",
      "1    Venus         2\n",
      "2    Earth         3\n"
     ]
    }
   ],
   "source": [
    "#import my_pandas\n",
    "\n",
    "new_row = [\"Earth\", 3]\n",
    "df.add_row(new_row)\n",
    "\n",
    "print(df)"
   ]
  },
  {
   "cell_type": "code",
   "execution_count": 12,
   "metadata": {},
   "outputs": [],
   "source": [
    "from dataclasses import dataclass\n",
    "\n",
    "@dataclass\n",
    "class Point:\n",
    "    x_loc: int\n",
    "    y_loc: intpoints = [Point(1, 2),\n",
    "          Point(4, 5),\n",
    "          Point(3, 7)]"
   ]
  },
  {
   "cell_type": "code",
   "execution_count": 13,
   "metadata": {},
   "outputs": [],
   "source": [
    "points = [Point(1, 2),\n",
    "          Point(4, 5),\n",
    "          Point(3, 7)]"
   ]
  },
  {
   "cell_type": "code",
   "execution_count": 14,
   "metadata": {},
   "outputs": [],
   "source": [
    "points = [Point(1, 2),\n",
    "          Point(4, 5),\n",
    "          Point(3, 7)]"
   ]
  },
  {
   "cell_type": "code",
   "execution_count": 15,
   "metadata": {},
   "outputs": [
    {
     "name": "stderr",
     "output_type": "stream",
     "text": [
      "C:\\ProgramData\\Anaconda3\\lib\\site-packages\\tqdm\\std.py:697: FutureWarning: The Panel class is removed from pandas. Accessing it from the top-level namespace will also be removed in the next version\n",
      "  from pandas import Panel\n"
     ]
    }
   ],
   "source": [
    "from tqdm.notebook import tqdm\n",
    "tqdm.pandas()"
   ]
  },
  {
   "cell_type": "code",
   "execution_count": 40,
   "metadata": {},
   "outputs": [
    {
     "data": {
      "application/vnd.jupyter.widget-view+json": {
       "model_id": "c504739b45e5416986e7b35e8fd52194",
       "version_major": 2,
       "version_minor": 0
      },
      "text/plain": [
       "HBox(children=(HTML(value=''), FloatProgress(value=0.0, max=9.0), HTML(value='')))"
      ]
     },
     "metadata": {},
     "output_type": "display_data"
    },
    {
     "name": "stdout",
     "output_type": "stream",
     "text": [
      "\n"
     ]
    },
    {
     "data": {
      "text/plain": [
       "0    None\n",
       "1    None\n",
       "2    None\n",
       "3    None\n",
       "4    None\n",
       "5    None\n",
       "6    None\n",
       "7    None\n",
       "8    None\n",
       "dtype: object"
      ]
     },
     "execution_count": 40,
     "metadata": {},
     "output_type": "execute_result"
    }
   ],
   "source": [
    "from time import sleep\n",
    "df = pd.DataFrame({\"name\":[1,2,3,4,5,6,7,8,9]})\n",
    "def my_func(x):\n",
    "    sleep(0.1)\n",
    "df.progress_apply(my_func,axis=1)"
   ]
  },
  {
   "cell_type": "code",
   "execution_count": null,
   "metadata": {},
   "outputs": [],
   "source": []
  },
  {
   "cell_type": "code",
   "execution_count": 30,
   "metadata": {},
   "outputs": [
    {
     "data": {
      "text/plain": [
       "'0_1_2_3_4_5_6_7_8_9_10_11_12_13_14_15_16_17_18_19_20_21_22_23_24_25_26_27_28_29_30_31_32_33_34_35_36_37_38_39_40_41_42_43_44_45_46_47_48_49_50_51_52_53_54_55_56_57_58_59_60_61_62_63_64_65_66_67_68_69_70_71_72_73_74_75_76_77_78_79_80_81_82_83_84_85_86_87_88_89_90_91_92_93_94_95_96_97_98_99'"
      ]
     },
     "execution_count": 30,
     "metadata": {},
     "output_type": "execute_result"
    }
   ],
   "source": [
    "\"_\".join((str(n)  for n in range(100)))"
   ]
  },
  {
   "cell_type": "code",
   "execution_count": 41,
   "metadata": {},
   "outputs": [],
   "source": [
    "df = pd.DataFrame([['Roy', 25, 50000],\n",
    "                   ['Bob', 30, 60000],\n",
    "                   ['Joe', 35, 70000]], \n",
    "                   columns = [\"Names\", \"Age\", \"Salary\"])"
   ]
  },
  {
   "cell_type": "code",
   "execution_count": 42,
   "metadata": {},
   "outputs": [
    {
     "data": {
      "text/html": [
       "<style  type=\"text/css\" >\n",
       "</style><table id=\"T_eed36075_f665_11ed_b2c4_cc3d827df47e\" ><caption>This is a caption</caption><thead>    <tr>        <th class=\"blank level0\" ></th>        <th class=\"col_heading level0 col0\" >Names</th>        <th class=\"col_heading level0 col1\" >Age</th>        <th class=\"col_heading level0 col2\" >Salary</th>    </tr></thead><tbody>\n",
       "                <tr>\n",
       "                        <th id=\"T_eed36075_f665_11ed_b2c4_cc3d827df47elevel0_row0\" class=\"row_heading level0 row0\" >0</th>\n",
       "                        <td id=\"T_eed36075_f665_11ed_b2c4_cc3d827df47erow0_col0\" class=\"data row0 col0\" >Roy</td>\n",
       "                        <td id=\"T_eed36075_f665_11ed_b2c4_cc3d827df47erow0_col1\" class=\"data row0 col1\" >25</td>\n",
       "                        <td id=\"T_eed36075_f665_11ed_b2c4_cc3d827df47erow0_col2\" class=\"data row0 col2\" >50000</td>\n",
       "            </tr>\n",
       "            <tr>\n",
       "                        <th id=\"T_eed36075_f665_11ed_b2c4_cc3d827df47elevel0_row1\" class=\"row_heading level0 row1\" >1</th>\n",
       "                        <td id=\"T_eed36075_f665_11ed_b2c4_cc3d827df47erow1_col0\" class=\"data row1 col0\" >Bob</td>\n",
       "                        <td id=\"T_eed36075_f665_11ed_b2c4_cc3d827df47erow1_col1\" class=\"data row1 col1\" >30</td>\n",
       "                        <td id=\"T_eed36075_f665_11ed_b2c4_cc3d827df47erow1_col2\" class=\"data row1 col2\" >60000</td>\n",
       "            </tr>\n",
       "            <tr>\n",
       "                        <th id=\"T_eed36075_f665_11ed_b2c4_cc3d827df47elevel0_row2\" class=\"row_heading level0 row2\" >2</th>\n",
       "                        <td id=\"T_eed36075_f665_11ed_b2c4_cc3d827df47erow2_col0\" class=\"data row2 col0\" >Joe</td>\n",
       "                        <td id=\"T_eed36075_f665_11ed_b2c4_cc3d827df47erow2_col1\" class=\"data row2 col1\" >35</td>\n",
       "                        <td id=\"T_eed36075_f665_11ed_b2c4_cc3d827df47erow2_col2\" class=\"data row2 col2\" >70000</td>\n",
       "            </tr>\n",
       "    </tbody></table>"
      ],
      "text/plain": [
       "<pandas.io.formats.style.Styler at 0x2714b39d5e0>"
      ]
     },
     "execution_count": 42,
     "metadata": {},
     "output_type": "execute_result"
    }
   ],
   "source": [
    "caption = 'This is a caption'\n",
    "\n",
    "df.style.set_caption(caption)"
   ]
  },
  {
   "cell_type": "code",
   "execution_count": 43,
   "metadata": {},
   "outputs": [
    {
     "data": {
      "text/html": [
       "<style  type=\"text/css\" >\n",
       "</style><table id=\"T_fc199f1d_f665_11ed_b661_cc3d827df47e\" ><thead>    <tr>        <th class=\"blank level0\" ></th>        <th class=\"col_heading level0 col0\" >Names</th>        <th class=\"col_heading level0 col1\" >Age</th>        <th class=\"col_heading level0 col2\" >Salary</th>    </tr></thead><tbody>\n",
       "                <tr>\n",
       "                        <th id=\"T_fc199f1d_f665_11ed_b661_cc3d827df47elevel0_row0\" class=\"row_heading level0 row0\" >0</th>\n",
       "                        <td id=\"T_fc199f1d_f665_11ed_b661_cc3d827df47erow0_col0\" class=\"data row0 col0\" >Roy</td>\n",
       "                        <td id=\"T_fc199f1d_f665_11ed_b661_cc3d827df47erow0_col1\" class=\"data row0 col1\" >25</td>\n",
       "                        <td id=\"T_fc199f1d_f665_11ed_b661_cc3d827df47erow0_col2\" class=\"data row0 col2\" >50000</td>\n",
       "            </tr>\n",
       "            <tr>\n",
       "                        <th id=\"T_fc199f1d_f665_11ed_b661_cc3d827df47elevel0_row1\" class=\"row_heading level0 row1\" >1</th>\n",
       "                        <td id=\"T_fc199f1d_f665_11ed_b661_cc3d827df47erow1_col0\" class=\"data row1 col0\" >Bob</td>\n",
       "                        <td id=\"T_fc199f1d_f665_11ed_b661_cc3d827df47erow1_col1\" class=\"data row1 col1\" >30</td>\n",
       "                        <td id=\"T_fc199f1d_f665_11ed_b661_cc3d827df47erow1_col2\" class=\"data row1 col2\" >60000</td>\n",
       "            </tr>\n",
       "            <tr>\n",
       "                        <th id=\"T_fc199f1d_f665_11ed_b661_cc3d827df47elevel0_row2\" class=\"row_heading level0 row2\" >2</th>\n",
       "                        <td id=\"T_fc199f1d_f665_11ed_b661_cc3d827df47erow2_col0\" class=\"data row2 col0\" >Joe</td>\n",
       "                        <td id=\"T_fc199f1d_f665_11ed_b661_cc3d827df47erow2_col1\" class=\"data row2 col1\" >35</td>\n",
       "                        <td id=\"T_fc199f1d_f665_11ed_b661_cc3d827df47erow2_col2\" class=\"data row2 col2\" >70000</td>\n",
       "            </tr>\n",
       "    </tbody></table>"
      ],
      "text/plain": [
       "<pandas.io.formats.style.Styler at 0x2714bb80d60>"
      ]
     },
     "execution_count": 43,
     "metadata": {},
     "output_type": "execute_result"
    }
   ],
   "source": [
    "df.style.format({\"Height\": \"{:20,.0f} cm\", \n",
    "                 \"Weight\": \"{:20,.0f} kgs\",\n",
    "                 \"Saving\":\"${:20,.0f}\"})"
   ]
  },
  {
   "cell_type": "markdown",
   "metadata": {},
   "source": [
    "Additionally, you may also explore the open-source package PrettyPandas, which extends the styler class with many more interesting utilities."
   ]
  }
 ],
 "metadata": {
  "kernelspec": {
   "display_name": "Python 3",
   "language": "python",
   "name": "python3"
  },
  "language_info": {
   "codemirror_mode": {
    "name": "ipython",
    "version": 3
   },
   "file_extension": ".py",
   "mimetype": "text/x-python",
   "name": "python",
   "nbconvert_exporter": "python",
   "pygments_lexer": "ipython3",
   "version": "3.8.5"
  }
 },
 "nbformat": 4,
 "nbformat_minor": 4
}
