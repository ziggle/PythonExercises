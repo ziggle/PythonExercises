{
 "cells": [
  {
   "cell_type": "markdown",
   "id": "0d224ccf",
   "metadata": {},
   "source": [
    "https://medium.com/towards-data-science/make-a-nested-bar-chart-with-seaborn-9a9988e30dca"
   ]
  },
  {
   "cell_type": "code",
   "execution_count": 9,
   "id": "c1975064",
   "metadata": {},
   "outputs": [],
   "source": [
    "import matplotlib.pyplot as plt\n",
    "import seaborn as sns\n",
    "import pandas as pd\n",
    "\n",
    "# Set up a color palette of grass greens and pigskin browns:\n",
    "BACKGROUND_COLOR = '#B5CB99'\n",
    "TEXT_COLOR = '#FCE09B'\n",
    "BAR_COLOR = '#B2533E'\n",
    "LEGEND_COLOR = '#186F65'\n",
    "\n",
    "\n",
    "# Create a dictionary of display parameters favorable for nested bars:\n",
    "sns.set(style='white', rc={\n",
    "    'axes.facecolor': BACKGROUND_COLOR,\n",
    "    'figure.facecolor': BACKGROUND_COLOR,\n",
    "    'text.color': TEXT_COLOR,\n",
    "    'axes.spines.left': False,\n",
    "    'axes.spines.bottom': False,\n",
    "    'axes.spines.right': False,\n",
    "    'axes.spines.top': False\n",
    "})"
   ]
  },
  {
   "cell_type": "code",
   "execution_count": 10,
   "id": "cf99eab3",
   "metadata": {},
   "outputs": [
    {
     "data": {
      "text/html": [
       "<div>\n",
       "<style scoped>\n",
       "    .dataframe tbody tr th:only-of-type {\n",
       "        vertical-align: middle;\n",
       "    }\n",
       "\n",
       "    .dataframe tbody tr th {\n",
       "        vertical-align: top;\n",
       "    }\n",
       "\n",
       "    .dataframe thead th {\n",
       "        text-align: right;\n",
       "    }\n",
       "</style>\n",
       "<table border=\"1\" class=\"dataframe\">\n",
       "  <thead>\n",
       "    <tr style=\"text-align: right;\">\n",
       "      <th></th>\n",
       "      <th>Year</th>\n",
       "      <th>Week</th>\n",
       "      <th>Poll</th>\n",
       "      <th>Rank</th>\n",
       "      <th>Team</th>\n",
       "      <th>Conference</th>\n",
       "    </tr>\n",
       "  </thead>\n",
       "  <tbody>\n",
       "    <tr>\n",
       "      <th>0</th>\n",
       "      <td>2002</td>\n",
       "      <td>18</td>\n",
       "      <td>Final</td>\n",
       "      <td>1</td>\n",
       "      <td>Ohio State</td>\n",
       "      <td>Big Ten</td>\n",
       "    </tr>\n",
       "    <tr>\n",
       "      <th>1</th>\n",
       "      <td>2002</td>\n",
       "      <td>18</td>\n",
       "      <td>Final</td>\n",
       "      <td>2</td>\n",
       "      <td>Miami (FL)</td>\n",
       "      <td>Big East</td>\n",
       "    </tr>\n",
       "    <tr>\n",
       "      <th>2</th>\n",
       "      <td>2002</td>\n",
       "      <td>18</td>\n",
       "      <td>Final</td>\n",
       "      <td>3</td>\n",
       "      <td>Georgia</td>\n",
       "      <td>SEC (East)</td>\n",
       "    </tr>\n",
       "  </tbody>\n",
       "</table>\n",
       "</div>"
      ],
      "text/plain": [
       "   Year  Week   Poll  Rank        Team  Conference\n",
       "0  2002    18  Final     1  Ohio State     Big Ten\n",
       "1  2002    18  Final     2  Miami (FL)    Big East\n",
       "2  2002    18  Final     3     Georgia  SEC (East)"
      ]
     },
     "execution_count": 10,
     "metadata": {},
     "output_type": "execute_result"
    }
   ],
   "source": [
    "# Load AP Top 25 College poll data:\n",
    "df = pd.read_csv('https://bit.ly/45yEPtI')\n",
    "df.head(3)"
   ]
  },
  {
   "cell_type": "code",
   "execution_count": 11,
   "id": "eb6af2f5",
   "metadata": {},
   "outputs": [
    {
     "name": "stdout",
     "output_type": "stream",
     "text": [
      "    Year  Finishers  Top 25 Pct Right\n",
      "0   2002         14      25       56%\n",
      "1   2003         14      25       56%\n",
      "2   2004         16      25       64%\n",
      "3   2005         15      25       60%\n",
      "4   2006         17      25       68%\n",
      "5   2007         14      25       56%\n",
      "6   2008         14      25       56%\n",
      "7   2009         17      25       68%\n",
      "8   2010         13      25       52%\n",
      "9   2011         18      25       72%\n",
      "10  2012         17      25       68%\n",
      "11  2013         16      25       64%\n",
      "12  2014         16      25       64%\n",
      "13  2015         15      25       60%\n",
      "14  2016         14      25       56%\n",
      "15  2017         16      25       64%\n",
      "16  2018         14      25       56%\n",
      "17  2019         17      25       68%\n",
      "18  2020         15      25       60%\n",
      "19  2021         11      25       44%\n",
      "20  2022         10      25       40%\n"
     ]
    }
   ],
   "source": [
    "# Initialize a list to store the intersection results:\n",
    "top_25 = []\n",
    "\n",
    "# Get unique years from the DataFrame:\n",
    "unique_years = df['Year'].unique()\n",
    "\n",
    "# Loop through each year and find the intersection of Final and Preseason Teams:\n",
    "for year in unique_years:\n",
    "    year_data = df[df['Year'] == year]\n",
    "    \n",
    "    # Make sets of the final and preseason teams:\n",
    "    final_teams = set(year_data[year_data['Poll'] == 'Final']['Team'])\n",
    "    preseason_teams = set(year_data[year_data['Poll'] == 'Preseason']['Team'])\n",
    "    \n",
    "    # Find the set intersections for each year and append to the top_25 list:\n",
    "    intersection = final_teams.intersection(preseason_teams)\n",
    "    num_right = len(intersection)    \n",
    "    top_25.append({'Year': year, 'Finishers': num_right})\n",
    "\n",
    "# Create a new DataFrame from the list:\n",
    "df_25 = pd.DataFrame(top_25)\n",
    "\n",
    "# Add columns for the number of ranked teams and percent predicted correctly:\n",
    "df_25['Top 25'] = 25\n",
    "df_25['Pct Right'] = df_25['Finishers'] / df_25['Top 25']\n",
    "df_25['Pct Right'] = df_25['Pct Right'].apply(lambda x: f'{x:.0%}')\n",
    "\n",
    "print(df_25)"
   ]
  },
  {
   "cell_type": "code",
   "execution_count": 12,
   "id": "c52f2c75",
   "metadata": {},
   "outputs": [],
   "source": [
    "def add_bars(ax_obj, x, y, width, alpha, label):\n",
    "    \"\"\"Plot a seaborn horizontal bar chart (credit Oscar Leo).\"\"\"\n",
    "    sns.barplot(ax=ax_obj, x=x, y=y, \n",
    "                label=label,\n",
    "                width=width, \n",
    "                alpha=alpha,\n",
    "                color=BAR_COLOR,\n",
    "                edgecolor=TEXT_COLOR,\n",
    "                orient=\"h\")"
   ]
  },
  {
   "cell_type": "code",
   "execution_count": 13,
   "id": "1ad3ef15",
   "metadata": {},
   "outputs": [
    {
     "name": "stderr",
     "output_type": "stream",
     "text": [
      "C:\\ProgramData\\Anaconda3-1\\lib\\site-packages\\seaborn\\_core.py:1225: FutureWarning: is_categorical_dtype is deprecated and will be removed in a future version. Use isinstance(dtype, CategoricalDtype) instead\n",
      "  if pd.api.types.is_categorical_dtype(vector):\n",
      "C:\\ProgramData\\Anaconda3-1\\lib\\site-packages\\seaborn\\_core.py:1225: FutureWarning: is_categorical_dtype is deprecated and will be removed in a future version. Use isinstance(dtype, CategoricalDtype) instead\n",
      "  if pd.api.types.is_categorical_dtype(vector):\n",
      "C:\\ProgramData\\Anaconda3-1\\lib\\site-packages\\seaborn\\_core.py:1225: FutureWarning: is_categorical_dtype is deprecated and will be removed in a future version. Use isinstance(dtype, CategoricalDtype) instead\n",
      "  if pd.api.types.is_categorical_dtype(vector):\n"
     ]
    },
    {
     "ename": "TypeError",
     "evalue": "barh() got multiple values for argument 'width'",
     "output_type": "error",
     "traceback": [
      "\u001b[1;31m---------------------------------------------------------------------------\u001b[0m",
      "\u001b[1;31mTypeError\u001b[0m                                 Traceback (most recent call last)",
      "\u001b[1;32m~\\AppData\\Local\\Temp/ipykernel_20356/2228644681.py\u001b[0m in \u001b[0;36m<module>\u001b[1;34m\u001b[0m\n\u001b[0;32m      5\u001b[0m \u001b[1;33m\u001b[0m\u001b[0m\n\u001b[0;32m      6\u001b[0m \u001b[1;31m# Plot bars for total number of teams (secondary measure):\u001b[0m\u001b[1;33m\u001b[0m\u001b[1;33m\u001b[0m\u001b[0m\n\u001b[1;32m----> 7\u001b[1;33m add_bars(ax_obj=ax, \n\u001b[0m\u001b[0;32m      8\u001b[0m          \u001b[0mx\u001b[0m\u001b[1;33m=\u001b[0m\u001b[0mdf_25\u001b[0m\u001b[1;33m[\u001b[0m\u001b[1;34m'Top 25'\u001b[0m\u001b[1;33m]\u001b[0m\u001b[1;33m,\u001b[0m\u001b[1;33m\u001b[0m\u001b[1;33m\u001b[0m\u001b[0m\n\u001b[0;32m      9\u001b[0m          \u001b[0my\u001b[0m\u001b[1;33m=\u001b[0m\u001b[0mdf_25\u001b[0m\u001b[1;33m[\u001b[0m\u001b[1;34m'Year'\u001b[0m\u001b[1;33m]\u001b[0m\u001b[1;33m,\u001b[0m\u001b[1;33m\u001b[0m\u001b[1;33m\u001b[0m\u001b[0m\n",
      "\u001b[1;32m~\\AppData\\Local\\Temp/ipykernel_20356/4178234382.py\u001b[0m in \u001b[0;36madd_bars\u001b[1;34m(ax_obj, x, y, width, alpha, label)\u001b[0m\n\u001b[0;32m      1\u001b[0m \u001b[1;32mdef\u001b[0m \u001b[0madd_bars\u001b[0m\u001b[1;33m(\u001b[0m\u001b[0max_obj\u001b[0m\u001b[1;33m,\u001b[0m \u001b[0mx\u001b[0m\u001b[1;33m,\u001b[0m \u001b[0my\u001b[0m\u001b[1;33m,\u001b[0m \u001b[0mwidth\u001b[0m\u001b[1;33m,\u001b[0m \u001b[0malpha\u001b[0m\u001b[1;33m,\u001b[0m \u001b[0mlabel\u001b[0m\u001b[1;33m)\u001b[0m\u001b[1;33m:\u001b[0m\u001b[1;33m\u001b[0m\u001b[1;33m\u001b[0m\u001b[0m\n\u001b[0;32m      2\u001b[0m     \u001b[1;34m\"\"\"Plot a seaborn horizontal bar chart (credit Oscar Leo).\"\"\"\u001b[0m\u001b[1;33m\u001b[0m\u001b[1;33m\u001b[0m\u001b[0m\n\u001b[1;32m----> 3\u001b[1;33m     sns.barplot(ax=ax_obj, x=x, y=y, \n\u001b[0m\u001b[0;32m      4\u001b[0m                 \u001b[0mlabel\u001b[0m\u001b[1;33m=\u001b[0m\u001b[0mlabel\u001b[0m\u001b[1;33m,\u001b[0m\u001b[1;33m\u001b[0m\u001b[1;33m\u001b[0m\u001b[0m\n\u001b[0;32m      5\u001b[0m                 \u001b[0mwidth\u001b[0m\u001b[1;33m=\u001b[0m\u001b[0mwidth\u001b[0m\u001b[1;33m,\u001b[0m\u001b[1;33m\u001b[0m\u001b[1;33m\u001b[0m\u001b[0m\n",
      "\u001b[1;32mC:\\ProgramData\\Anaconda3-1\\lib\\site-packages\\seaborn\\_decorators.py\u001b[0m in \u001b[0;36minner_f\u001b[1;34m(*args, **kwargs)\u001b[0m\n\u001b[0;32m     44\u001b[0m             )\n\u001b[0;32m     45\u001b[0m         \u001b[0mkwargs\u001b[0m\u001b[1;33m.\u001b[0m\u001b[0mupdate\u001b[0m\u001b[1;33m(\u001b[0m\u001b[1;33m{\u001b[0m\u001b[0mk\u001b[0m\u001b[1;33m:\u001b[0m \u001b[0marg\u001b[0m \u001b[1;32mfor\u001b[0m \u001b[0mk\u001b[0m\u001b[1;33m,\u001b[0m \u001b[0marg\u001b[0m \u001b[1;32min\u001b[0m \u001b[0mzip\u001b[0m\u001b[1;33m(\u001b[0m\u001b[0msig\u001b[0m\u001b[1;33m.\u001b[0m\u001b[0mparameters\u001b[0m\u001b[1;33m,\u001b[0m \u001b[0margs\u001b[0m\u001b[1;33m)\u001b[0m\u001b[1;33m}\u001b[0m\u001b[1;33m)\u001b[0m\u001b[1;33m\u001b[0m\u001b[1;33m\u001b[0m\u001b[0m\n\u001b[1;32m---> 46\u001b[1;33m         \u001b[1;32mreturn\u001b[0m \u001b[0mf\u001b[0m\u001b[1;33m(\u001b[0m\u001b[1;33m**\u001b[0m\u001b[0mkwargs\u001b[0m\u001b[1;33m)\u001b[0m\u001b[1;33m\u001b[0m\u001b[1;33m\u001b[0m\u001b[0m\n\u001b[0m\u001b[0;32m     47\u001b[0m     \u001b[1;32mreturn\u001b[0m \u001b[0minner_f\u001b[0m\u001b[1;33m\u001b[0m\u001b[1;33m\u001b[0m\u001b[0m\n\u001b[0;32m     48\u001b[0m \u001b[1;33m\u001b[0m\u001b[0m\n",
      "\u001b[1;32mC:\\ProgramData\\Anaconda3-1\\lib\\site-packages\\seaborn\\categorical.py\u001b[0m in \u001b[0;36mbarplot\u001b[1;34m(x, y, hue, data, order, hue_order, estimator, ci, n_boot, units, seed, orient, color, palette, saturation, errcolor, errwidth, capsize, dodge, ax, **kwargs)\u001b[0m\n\u001b[0;32m   3188\u001b[0m         \u001b[0max\u001b[0m \u001b[1;33m=\u001b[0m \u001b[0mplt\u001b[0m\u001b[1;33m.\u001b[0m\u001b[0mgca\u001b[0m\u001b[1;33m(\u001b[0m\u001b[1;33m)\u001b[0m\u001b[1;33m\u001b[0m\u001b[1;33m\u001b[0m\u001b[0m\n\u001b[0;32m   3189\u001b[0m \u001b[1;33m\u001b[0m\u001b[0m\n\u001b[1;32m-> 3190\u001b[1;33m     \u001b[0mplotter\u001b[0m\u001b[1;33m.\u001b[0m\u001b[0mplot\u001b[0m\u001b[1;33m(\u001b[0m\u001b[0max\u001b[0m\u001b[1;33m,\u001b[0m \u001b[0mkwargs\u001b[0m\u001b[1;33m)\u001b[0m\u001b[1;33m\u001b[0m\u001b[1;33m\u001b[0m\u001b[0m\n\u001b[0m\u001b[0;32m   3191\u001b[0m     \u001b[1;32mreturn\u001b[0m \u001b[0max\u001b[0m\u001b[1;33m\u001b[0m\u001b[1;33m\u001b[0m\u001b[0m\n\u001b[0;32m   3192\u001b[0m \u001b[1;33m\u001b[0m\u001b[0m\n",
      "\u001b[1;32mC:\\ProgramData\\Anaconda3-1\\lib\\site-packages\\seaborn\\categorical.py\u001b[0m in \u001b[0;36mplot\u001b[1;34m(self, ax, bar_kws)\u001b[0m\n\u001b[0;32m   1637\u001b[0m     \u001b[1;32mdef\u001b[0m \u001b[0mplot\u001b[0m\u001b[1;33m(\u001b[0m\u001b[0mself\u001b[0m\u001b[1;33m,\u001b[0m \u001b[0max\u001b[0m\u001b[1;33m,\u001b[0m \u001b[0mbar_kws\u001b[0m\u001b[1;33m)\u001b[0m\u001b[1;33m:\u001b[0m\u001b[1;33m\u001b[0m\u001b[1;33m\u001b[0m\u001b[0m\n\u001b[0;32m   1638\u001b[0m         \u001b[1;34m\"\"\"Make the plot.\"\"\"\u001b[0m\u001b[1;33m\u001b[0m\u001b[1;33m\u001b[0m\u001b[0m\n\u001b[1;32m-> 1639\u001b[1;33m         \u001b[0mself\u001b[0m\u001b[1;33m.\u001b[0m\u001b[0mdraw_bars\u001b[0m\u001b[1;33m(\u001b[0m\u001b[0max\u001b[0m\u001b[1;33m,\u001b[0m \u001b[0mbar_kws\u001b[0m\u001b[1;33m)\u001b[0m\u001b[1;33m\u001b[0m\u001b[1;33m\u001b[0m\u001b[0m\n\u001b[0m\u001b[0;32m   1640\u001b[0m         \u001b[0mself\u001b[0m\u001b[1;33m.\u001b[0m\u001b[0mannotate_axes\u001b[0m\u001b[1;33m(\u001b[0m\u001b[0max\u001b[0m\u001b[1;33m)\u001b[0m\u001b[1;33m\u001b[0m\u001b[1;33m\u001b[0m\u001b[0m\n\u001b[0;32m   1641\u001b[0m         \u001b[1;32mif\u001b[0m \u001b[0mself\u001b[0m\u001b[1;33m.\u001b[0m\u001b[0morient\u001b[0m \u001b[1;33m==\u001b[0m \u001b[1;34m\"h\"\u001b[0m\u001b[1;33m:\u001b[0m\u001b[1;33m\u001b[0m\u001b[1;33m\u001b[0m\u001b[0m\n",
      "\u001b[1;32mC:\\ProgramData\\Anaconda3-1\\lib\\site-packages\\seaborn\\categorical.py\u001b[0m in \u001b[0;36mdraw_bars\u001b[1;34m(self, ax, kws)\u001b[0m\n\u001b[0;32m   1602\u001b[0m \u001b[1;33m\u001b[0m\u001b[0m\n\u001b[0;32m   1603\u001b[0m             \u001b[1;31m# Draw the bars\u001b[0m\u001b[1;33m\u001b[0m\u001b[1;33m\u001b[0m\u001b[0m\n\u001b[1;32m-> 1604\u001b[1;33m             barfunc(barpos, self.statistic, self.width,\n\u001b[0m\u001b[0;32m   1605\u001b[0m                     color=self.colors, align=\"center\", **kws)\n\u001b[0;32m   1606\u001b[0m \u001b[1;33m\u001b[0m\u001b[0m\n",
      "\u001b[1;31mTypeError\u001b[0m: barh() got multiple values for argument 'width'"
     ]
    },
    {
     "data": {
      "image/png": "[encoded data removed]",
      "text/plain": [
       "<Figure size 576x648 with 1 Axes>"
      ]
     },
     "metadata": {},
     "output_type": "display_data"
    }
   ],
   "source": [
    "# Make the display, calling add_bars() twice to nest the bars:\n",
    "fig, ax = plt.subplots(figsize=(8, 9))\n",
    "ax.set_title('Number of Teams Starting AND Finishing in \\\n",
    "AP Top 25 College Football Poll', color='k', fontsize=13, weight='bold')\n",
    "\n",
    "# Plot bars for total number of teams (secondary measure):\n",
    "add_bars(ax_obj=ax, \n",
    "         x=df_25['Top 25'],\n",
    "         y=df_25['Year'],\n",
    "         width=0.55, \n",
    "         alpha=0.6, \n",
    "         label='Teams in Preseason Poll')\n",
    "\n",
    "# Plot bars for teams that started AND finished in the Top 25 (primary measure):\n",
    "add_bars(ax_obj=ax, \n",
    "         x=df_25['Finishers'],\n",
    "         y=df_25['Year'],\n",
    "         width=0.7, \n",
    "         alpha=1, \n",
    "         label='Teams in Preseason AND Final Polls')\n",
    "\n",
    "# Add informative text stating percent correct:\n",
    "ax.bar_label(ax.containers[1], \n",
    "             labels=df_25['Pct Right'] + ' correct', \n",
    "             padding=-70)\n",
    "\n",
    "# Assign a custom x-axis label and legend:\n",
    "ax.set_xlabel('Number of Teams') \n",
    "ax.legend(bbox_to_anchor=(1.0, -0.085), facecolor=LEGEND_COLOR);"
   ]
  },
  {
   "cell_type": "code",
   "execution_count": null,
   "id": "4336b71c",
   "metadata": {},
   "outputs": [],
   "source": [
    "# Filter the original DataFrame to teams ranked 4 or better:\n",
    "df_4 = df[(df['Rank'] <= 4)].copy()\n",
    "\n",
    "# Initialize a list to store the intersection results:\n",
    "top_4 = []\n",
    "\n",
    "# Loop through each year and find the intersection of Final and Preseason Teams:\n",
    "for year in unique_years:\n",
    "    year_data = df_4[df_4['Year'] == year]\n",
    "    \n",
    "    # Make sets of the final and preseason teams:\n",
    "    final_teams = set(year_data[year_data['Poll'] == 'Final']['Team'])\n",
    "    preseason_teams = set(year_data[year_data['Poll'] == 'Preseason']['Team'])\n",
    "    \n",
    "    # Find the set intersections for each year and append to the top_4 list:\n",
    "    intersection = final_teams.intersection(preseason_teams)\n",
    "    num_right = len(intersection)    \n",
    "    top_4.append({'Year': year, 'Finishers': num_right})\n",
    "\n",
    "# Create a new DataFrame from the list:\n",
    "df_final_4 = pd.DataFrame(top_4)\n",
    "\n",
    "# Add columns for the number of ranked teams and percent predicted correctly:\n",
    "df_final_4['Top 4'] = 4\n",
    "df_final_4['Pct Right'] = (df_final_4['Finishers'] / df_final_4['Top 4'])\n",
    "df_final_4['Pct Right'] = df_final_4['Pct Right'].apply('{:.0%}'.format)\n",
    "\n",
    "print(df_final_4)"
   ]
  },
  {
   "cell_type": "code",
   "execution_count": null,
   "id": "be8d17f3",
   "metadata": {},
   "outputs": [],
   "source": [
    "fig, ax = plt.subplots(nrows=1, ncols=1, figsize=(10, 10))\n",
    "ax.set_title('Number of Teams Starting AND Finishing in \\\n",
    "Top 4 of AP College Football Poll', color='k', fontsize=14, weight='bold')\n",
    "\n",
    "add_bars(ax_obj=ax, \n",
    "         x=df_final_4['Top 4'],\n",
    "         y=df_final_4['Year'],\n",
    "         width=0.55, \n",
    "         alpha=0.6, \n",
    "         label='Top 4')\n",
    "\n",
    "add_bars(ax_obj=ax, \n",
    "         x=df_final_4['Finishers'],\n",
    "         y=df_final_4['Year'],\n",
    "         width=0.7, \n",
    "         alpha=1, \n",
    "         label='Finishers')\n",
    "\n",
    "ax.bar_label(ax.containers[1], \n",
    "             labels=df_final_4['Pct Right'] + ' correct', \n",
    "             padding=3)\n",
    "\n",
    "ax.set_xticks(range(5))\n",
    "ax.set_xlabel('Number of Correct Final Four Predictions', \n",
    "              fontdict={'size': 16});"
   ]
  },
  {
   "cell_type": "code",
   "execution_count": null,
   "id": "1e6bf652",
   "metadata": {},
   "outputs": [],
   "source": []
  }
 ],
 "metadata": {
  "kernelspec": {
   "display_name": "Python 3 (ipykernel)",
   "language": "python",
   "name": "python3"
  },
  "language_info": {
   "codemirror_mode": {
    "name": "ipython",
    "version": 3
   },
   "file_extension": ".py",
   "mimetype": "text/x-python",
   "name": "python",
   "nbconvert_exporter": "python",
   "pygments_lexer": "ipython3",
   "version": "3.9.7"
  }
 },
 "nbformat": 4,
 "nbformat_minor": 5
}
