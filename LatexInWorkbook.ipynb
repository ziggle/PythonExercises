{
 "cells": [
  {
   "cell_type": "code",
   "execution_count": 2,
   "id": "391318db",
   "metadata": {},
   "outputs": [
    {
     "data": {
      "text/latex": [
       "$$ \\displaystyle \\mathrm{solve}(a, b, d) = \\frac{-b + \\sqrt{b^{{2}} - {4} a c}}{{2} \\left( a + b \\right)} $$"
      ],
      "text/plain": [
       "<latexify.frontend.LatexifiedFunction at 0x1e40ce5c5b0>"
      ]
     },
     "execution_count": 2,
     "metadata": {},
     "output_type": "execute_result"
    }
   ],
   "source": [
    "import latexify\n",
    "import math\n",
    "@latexify.with_latex\n",
    "def solve(a,b,d):\n",
    "    return(-b+math.sqrt(b**2-4*a*c))/(2*(a+b))\n",
    "solve\n"
   ]
  },
  {
   "cell_type": "code",
   "execution_count": 3,
   "id": "64764020",
   "metadata": {},
   "outputs": [
    {
     "data": {
      "text/latex": [
       "$$ \\displaystyle \\mathrm{sinc}(x) = \\frac{\\sin{\\left({x}\\right)}}{x} $$"
      ],
      "text/plain": [
       "<latexify.frontend.LatexifiedFunction at 0x1e40b6c9b20>"
      ]
     },
     "execution_count": 3,
     "metadata": {},
     "output_type": "execute_result"
    }
   ],
   "source": [
    "@latexify.with_latex\n",
    "def sinc(x):\n",
    "    return(math.sin(x)/x)\n",
    "sinc"
   ]
  },
  {
   "cell_type": "code",
   "execution_count": null,
   "id": "01f1b892",
   "metadata": {},
   "outputs": [],
   "source": []
  }
 ],
 "metadata": {
  "kernelspec": {
   "display_name": "Python 3 (ipykernel)",
   "language": "python",
   "name": "python3"
  },
  "language_info": {
   "codemirror_mode": {
    "name": "ipython",
    "version": 3
   },
   "file_extension": ".py",
   "mimetype": "text/x-python",
   "name": "python",
   "nbconvert_exporter": "python",
   "pygments_lexer": "ipython3",
   "version": "3.9.15"
  },
  "toc": {
   "base_numbering": 1,
   "nav_menu": {},
   "number_sections": true,
   "sideBar": true,
   "skip_h1_title": false,
   "title_cell": "Table of Contents",
   "title_sidebar": "Contents",
   "toc_cell": false,
   "toc_position": {},
   "toc_section_display": true,
   "toc_window_display": false
  }
 },
 "nbformat": 4,
 "nbformat_minor": 5
}
