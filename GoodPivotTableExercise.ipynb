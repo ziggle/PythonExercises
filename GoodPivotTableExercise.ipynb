{
 "cells": [
  {
   "cell_type": "markdown",
   "metadata": {},
   "source": [
    "https://www.youtube.com/watch?v=Qx5ZyYP9BQY&t=6s"
   ]
  },
  {
   "cell_type": "code",
   "execution_count": 176,
   "metadata": {},
   "outputs": [],
   "source": [
    "b2012=[\"Calista Berry\",\n",
    "\"Charissa Bridges\",\n",
    "\"Frances Hamilton\",\n",
    "\"Moses Pitts\",\n",
    "\"Adrienne Austin\",\n",
    "\"Susan Nixon\",\n",
    "\"September Travis\",\n",
    "\"Asher Mays\",\n",
    "\"Kasper Mckenzie\",\n",
    "\"Colton Chase\",]\n",
    "b2013=[\"Asher Mays\",\n",
    "\"Wayne Garrison\",\n",
    "\"Charissa Bridges\",\n",
    "\"Moses Pitts\",\n",
    "\"Colton Chase\",\n",
    "\"Susan Nixon\",\n",
    "\"September Travis\",\n",
    "\"Grace Dodson\",\n",
    "\"Remedios Trevino\",\n",
    "]\n",
    "b2014=[\"Susan Nixon\",\n",
    "\"September Travis\",\n",
    "\"Remedios Trevino\",\n",
    "\"Zephania Ellison\",\n",
    "\"Imani Small\",\n",
    "\"Grace Dodson\",\n",
    "\"Adrienne Austin\",\n",
    "\"Asher Mays\",\n",
    "\"Wayne Garrison\",\n",
    "\"Charissa Bridges\",\n",
    "\"Ray Miranda\",\n",
    "\"Donna Acevedo\",]"
   ]
  },
  {
   "cell_type": "code",
   "execution_count": 177,
   "metadata": {},
   "outputs": [
    {
     "name": "stdout",
     "output_type": "stream",
     "text": [
      "['Calista Berry', 'Charissa Bridges', 'Frances Hamilton', 'Moses Pitts', 'Adrienne Austin', 'Susan Nixon', 'September Travis', 'Asher Mays', 'Kasper Mckenzie', 'Colton Chase']\n",
      "['Asher Mays', 'Wayne Garrison', 'Charissa Bridges', 'Moses Pitts', 'Colton Chase', 'Susan Nixon', 'September Travis', 'Grace Dodson', 'Remedios Trevino']\n",
      "['Susan Nixon', 'September Travis', 'Remedios Trevino', 'Zephania Ellison', 'Imani Small', 'Grace Dodson', 'Adrienne Austin', 'Asher Mays', 'Wayne Garrison', 'Charissa Bridges', 'Ray Miranda', 'Donna Acevedo']\n"
     ]
    }
   ],
   "source": [
    "print(b2012)\n",
    "print(b2013)\n",
    "print(b2014)"
   ]
  },
  {
   "cell_type": "code",
   "execution_count": 178,
   "metadata": {},
   "outputs": [],
   "source": [
    "import pandas as pd\n",
    "df2012=pd.DataFrame(index=b2012)\n",
    "df2012['Year']='2012'\n",
    "df2012.index.name='Names'\n",
    "df2013=pd.DataFrame(index=b2013)\n",
    "df2013['Year']='2013'\n",
    "df2013.index.name='Names'\n",
    "df2014=pd.DataFrame(index=b2014)\n",
    "df2014['Year']='2014'\n",
    "df2014.index.name='Names'\n",
    "df=pd.concat([df2012,df2013,df2014])\n",
    "df.index.name='Names'"
   ]
  },
  {
   "cell_type": "code",
   "execution_count": 179,
   "metadata": {},
   "outputs": [
    {
     "name": "stdout",
     "output_type": "stream",
     "text": [
      "                  Year\n",
      "Names                 \n",
      "Calista Berry     2012\n",
      "Charissa Bridges  2012\n",
      "Frances Hamilton  2012\n",
      "Moses Pitts       2012\n",
      "Adrienne Austin   2012\n",
      "Susan Nixon       2012\n",
      "September Travis  2012\n",
      "Asher Mays        2012\n",
      "Kasper Mckenzie   2012\n",
      "Colton Chase      2012\n",
      "Asher Mays        2013\n",
      "Wayne Garrison    2013\n",
      "Charissa Bridges  2013\n",
      "Moses Pitts       2013\n",
      "Colton Chase      2013\n",
      "Susan Nixon       2013\n",
      "September Travis  2013\n",
      "Grace Dodson      2013\n",
      "Remedios Trevino  2013\n",
      "Susan Nixon       2014\n",
      "September Travis  2014\n",
      "Remedios Trevino  2014\n",
      "Zephania Ellison  2014\n",
      "Imani Small       2014\n",
      "Grace Dodson      2014\n",
      "Adrienne Austin   2014\n",
      "Asher Mays        2014\n",
      "Wayne Garrison    2014\n",
      "Charissa Bridges  2014\n",
      "Ray Miranda       2014\n",
      "Donna Acevedo     2014\n"
     ]
    }
   ],
   "source": [
    "print(df)"
   ]
  },
  {
   "cell_type": "code",
   "execution_count": 180,
   "metadata": {},
   "outputs": [
    {
     "name": "stdout",
     "output_type": "stream",
     "text": [
      "Year              2012  2013  2014  Total\n",
      "Names                                    \n",
      "Adrienne Austin      1     0     1      2\n",
      "Asher Mays           1     1     1      3\n",
      "Calista Berry        1     0     0      1\n",
      "Charissa Bridges     1     1     1      3\n",
      "Colton Chase         1     1     0      2\n",
      "Donna Acevedo        0     0     1      1\n",
      "Frances Hamilton     1     0     0      1\n",
      "Grace Dodson         0     1     1      2\n",
      "Imani Small          0     0     1      1\n",
      "Kasper Mckenzie      1     0     0      1\n",
      "Moses Pitts          1     1     0      2\n",
      "Ray Miranda          0     0     1      1\n",
      "Remedios Trevino     0     1     1      2\n",
      "September Travis     1     1     1      3\n",
      "Susan Nixon          1     1     1      3\n",
      "Wayne Garrison       0     1     1      2\n",
      "Zephania Ellison     0     0     1      1\n"
     ]
    }
   ],
   "source": [
    "import numpy as np\n",
    "func = lambda x:1\n",
    "dfgrp=df.groupby(['Names','Year'], as_index=True).apply(lambda x:1)\n",
    "pvt=pd.pivot_table(data=df,index='Names',columns='Year',fill_value=0,aggfunc=func)\n",
    "pvt['Total']=pvt.apply(np.sum,axis=1)\n",
    "print(pvt)"
   ]
  },
  {
   "cell_type": "markdown",
   "metadata": {},
   "source": [
    "q: Why can't I add margins?\n",
    "\n",
    "https://stackoverflow.com/questions/67051359/problem-with-pandas-pivot-table-margin-true-not-giving-me-the-correct-answers\n",
    "q: What are margins supposed to do?\n",
    "\n",
    "Good reference to ponder:\n",
    "https://towardsdatascience.com/a-practical-introduction-to-pandas-pivot-table-function-3e1002dcd4eb\n",
    "https://pbpython.com/pandas-grouper-agg.html"
   ]
  },
  {
   "cell_type": "code",
   "execution_count": 199,
   "metadata": {},
   "outputs": [
    {
     "name": "stdout",
     "output_type": "stream",
     "text": [
      "                  Year\n",
      "Names                 \n",
      "Calista Berry     2012\n",
      "Charissa Bridges  2012\n",
      "Frances Hamilton  2012\n",
      "Moses Pitts       2012\n",
      "Adrienne Austin   2012\n",
      "Susan Nixon       2012\n",
      "September Travis  2012\n",
      "Asher Mays        2012\n",
      "Kasper Mckenzie   2012\n",
      "Colton Chase      2012\n",
      "Asher Mays        2013\n",
      "Wayne Garrison    2013\n",
      "Charissa Bridges  2013\n",
      "Moses Pitts       2013\n",
      "Colton Chase      2013\n",
      "Susan Nixon       2013\n",
      "September Travis  2013\n",
      "Grace Dodson      2013\n",
      "Remedios Trevino  2013\n",
      "Susan Nixon       2014\n",
      "September Travis  2014\n",
      "Remedios Trevino  2014\n",
      "Zephania Ellison  2014\n",
      "Imani Small       2014\n",
      "Grace Dodson      2014\n",
      "Adrienne Austin   2014\n",
      "Asher Mays        2014\n",
      "Wayne Garrison    2014\n",
      "Charissa Bridges  2014\n",
      "Ray Miranda       2014\n",
      "Donna Acevedo     2014\n"
     ]
    }
   ],
   "source": [
    "import pandas as pd\n",
    "df2012=pd.DataFrame(index=b2012)\n",
    "df2012['Year']=2012\n",
    "df2012.index.name='Names'\n",
    "df2013=pd.DataFrame(index=b2013)\n",
    "df2013['Year']=2013\n",
    "df2013.index.name='Names'\n",
    "df2014=pd.DataFrame(index=b2014)\n",
    "df2014['Year']=2014\n",
    "df2014.index.name='Names'\n",
    "df=pd.concat([df2012,df2013,df2014])\n",
    "df.index.name='Names'\n",
    "print(df)"
   ]
  },
  {
   "cell_type": "code",
   "execution_count": 200,
   "metadata": {},
   "outputs": [
    {
     "name": "stdout",
     "output_type": "stream",
     "text": [
      "Year              2012  2013  2014  Total\n",
      "Names                                    \n",
      "Adrienne Austin      1     0     1      2\n",
      "Asher Mays           1     1     1      3\n",
      "Calista Berry        1     0     0      1\n",
      "Charissa Bridges     1     1     1      3\n",
      "Colton Chase         1     1     0      2\n",
      "Donna Acevedo        0     0     1      1\n",
      "Frances Hamilton     1     0     0      1\n",
      "Grace Dodson         0     1     1      2\n",
      "Imani Small          0     0     1      1\n",
      "Kasper Mckenzie      1     0     0      1\n",
      "Moses Pitts          1     1     0      2\n",
      "Ray Miranda          0     0     1      1\n",
      "Remedios Trevino     0     1     1      2\n",
      "September Travis     1     1     1      3\n",
      "Susan Nixon          1     1     1      3\n",
      "Wayne Garrison       0     1     1      2\n",
      "Zephania Ellison     0     0     1      1\n"
     ]
    }
   ],
   "source": [
    "import numpy as np\n",
    "pvt=pd.pivot_table(data=df, index=['Names'],columns=['Year'],aggfunc = 'size', fill_value=0)\n",
    "pvt['Total']=pvt.apply(np.sum,axis=1)\n",
    "print(pvt)"
   ]
  },
  {
   "cell_type": "code",
   "execution_count": 212,
   "metadata": {},
   "outputs": [
    {
     "name": "stdout",
     "output_type": "stream",
     "text": [
      "Year              2012  2013  2014  All\n",
      "Names                                  \n",
      "Adrienne Austin      1     0     1    2\n",
      "Asher Mays           1     1     1    3\n",
      "Calista Berry        1     0     0    1\n",
      "Charissa Bridges     1     1     1    3\n",
      "Colton Chase         1     1     0    2\n",
      "Donna Acevedo        0     0     1    1\n",
      "Frances Hamilton     1     0     0    1\n",
      "Grace Dodson         0     1     1    2\n",
      "Imani Small          0     0     1    1\n",
      "Kasper Mckenzie      1     0     0    1\n",
      "Moses Pitts          1     1     0    2\n",
      "Ray Miranda          0     0     1    1\n",
      "Remedios Trevino     0     1     1    2\n",
      "September Travis     1     1     1    3\n",
      "Susan Nixon          1     1     1    3\n",
      "Wayne Garrison       0     1     1    2\n",
      "Zephania Ellison     0     0     1    1\n",
      "All                 10     9    12   31\n"
     ]
    }
   ],
   "source": [
    "import pandas as pd\n",
    "df2012=pd.DataFrame(index=b2012)\n",
    "df2012['Year']=2012\n",
    "df2012.index.name='Names'\n",
    "df2013=pd.DataFrame(index=b2013)\n",
    "df2013['Year']=2013\n",
    "df2013.index.name='Names'\n",
    "df2014=pd.DataFrame(index=b2014)\n",
    "df2014['Year']=2014\n",
    "df2014.index.name='Names'\n",
    "df=pd.concat([df2012,df2013,df2014])\n",
    "df.index.name='Names'\n",
    "df = df.reset_index()\n",
    "z = pd.crosstab(index=df['Names'], columns=df['Year'],margins=True)\n",
    "print(z)\n"
   ]
  },
  {
   "cell_type": "code",
   "execution_count": null,
   "metadata": {},
   "outputs": [],
   "source": []
  }
 ],
 "metadata": {
  "kernelspec": {
   "display_name": "Python 3",
   "language": "python",
   "name": "python3"
  },
  "language_info": {
   "codemirror_mode": {
    "name": "ipython",
    "version": 3
   },
   "file_extension": ".py",
   "mimetype": "text/x-python",
   "name": "python",
   "nbconvert_exporter": "python",
   "pygments_lexer": "ipython3",
   "version": "3.8.5"
  }
 },
 "nbformat": 4,
 "nbformat_minor": 4
}
