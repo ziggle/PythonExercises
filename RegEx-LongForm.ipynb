{
 "cells": [
  {
   "cell_type": "markdown",
   "id": "ddf20a07",
   "metadata": {},
   "source": [
    "https://towardsdatascience.com/mastering-python-regex-a-deep-dive-into-pattern-matching-2ae4fe6216fe"
   ]
  },
  {
   "cell_type": "code",
   "execution_count": 1,
   "id": "f987a6d5",
   "metadata": {},
   "outputs": [],
   "source": [
    "import re"
   ]
  },
  {
   "cell_type": "code",
   "execution_count": 2,
   "id": "d8b657a1",
   "metadata": {},
   "outputs": [
    {
     "name": "stdout",
     "output_type": "stream",
     "text": [
      "['Python', 'Python']\n"
     ]
    }
   ],
   "source": [
    "import re \n",
    "# Sample text \n",
    "text = \"Python is an amazing programming language. Python is widely used in various fields.\" \n",
    "# Find all occurrences of 'Python' \n",
    "matches = re.findall(\"Python\", text) \n",
    "# Output the matches \n",
    "print(matches)"
   ]
  },
  {
   "cell_type": "code",
   "execution_count": 3,
   "id": "45394704",
   "metadata": {},
   "outputs": [
    {
     "name": "stdout",
     "output_type": "stream",
     "text": [
      "Match found: Python\n"
     ]
    }
   ],
   "source": [
    "import re\n",
    "pattern = \"Python\"\n",
    "text = \"Python is amazing.\"\n",
    "# Check if the text starts with 'Python'\n",
    "match = re.match(pattern, text)\n",
    "# Output the result\n",
    "if match:\n",
    "    print(\"Match found:\", match.group())\n",
    "else:\n",
    "    print(\"No match found\")"
   ]
  },
  {
   "cell_type": "code",
   "execution_count": 4,
   "id": "edc5477b",
   "metadata": {},
   "outputs": [
    {
     "name": "stdout",
     "output_type": "stream",
     "text": [
      "Match found: amazing\n"
     ]
    }
   ],
   "source": [
    "pattern = \"amazing\"\n",
    "text = \"Python is amazing.\"\n",
    "# Search for the pattern in the text\n",
    "match = re.search(pattern, text)\n",
    "# Output the result\n",
    "if match:\n",
    "    print(\"Match found:\", match.group())\n",
    "else:\n",
    "    print(\"No match found\")"
   ]
  },
  {
   "cell_type": "code",
   "execution_count": 5,
   "id": "29696ec7",
   "metadata": {},
   "outputs": [
    {
     "name": "stdout",
     "output_type": "stream",
     "text": [
      "['a', 'a']\n"
     ]
    }
   ],
   "source": [
    "pattern = \"a\"\n",
    "text = \"This is an example text.\"\n",
    "# Find all occurrences of 'a' in the text\n",
    "matches = re.findall(pattern, text)\n",
    "# Output the matches\n",
    "print(matches)"
   ]
  },
  {
   "cell_type": "code",
   "execution_count": 6,
   "id": "1c21a7a8",
   "metadata": {},
   "outputs": [
    {
     "name": "stdout",
     "output_type": "stream",
     "text": [
      "Match found at index 8: a\n",
      "Match found at index 13: a\n"
     ]
    }
   ],
   "source": [
    "pattern = \"a\"\n",
    "text = \"This is an example text.\"\n",
    "# Find all occurrences of 'a' in the text\n",
    "matches = re.finditer(pattern, text)\n",
    "# Output the matches\n",
    "for match in matches:\n",
    "    print(f\"Match found at index {match.start()}: {match.group()}\")"
   ]
  },
  {
   "cell_type": "code",
   "execution_count": 7,
   "id": "b660c157",
   "metadata": {},
   "outputs": [
    {
     "name": "stdout",
     "output_type": "stream",
     "text": [
      "I love Java. Java is amazing.\n"
     ]
    }
   ],
   "source": [
    "pattern = \"Python\"\n",
    "replacement = \"Java\"\n",
    "text = \"I love Python. Python is amazing.\"\n",
    "# Replace 'Python' with 'Java'\n",
    "new_text = re.sub(pattern, replacement, text)\n",
    "# Output the new text\n",
    "print(new_text)  # Output: \"I love Java. Java is amazing.\""
   ]
  },
  {
   "cell_type": "code",
   "execution_count": 8,
   "id": "7cce3b1a",
   "metadata": {},
   "outputs": [
    {
     "name": "stdout",
     "output_type": "stream",
     "text": [
      "['python']\n"
     ]
    }
   ],
   "source": [
    "import re \n",
    "pattern = \"python\"\n",
    "text = \"I love programming in python!\" \n",
    "# Find all occurrences of 'Python' \n",
    "matches = re.findall(pattern, text) \n",
    "# Output the matches \n",
    "print(matches)"
   ]
  },
  {
   "cell_type": "code",
   "execution_count": 9,
   "id": "f4fcc4c2",
   "metadata": {},
   "outputs": [
    {
     "name": "stdout",
     "output_type": "stream",
     "text": [
      "['pat', 'pet', 'p5t']\n"
     ]
    }
   ],
   "source": [
    "import re \n",
    "pattern = \"p.t\"\n",
    "text = \"pat, pet, p5t, but not pt.\" \n",
    "# Find all occurrences of 'Python' \n",
    "matches = re.findall(pattern, text) \n",
    "# Output the matches \n",
    "print(matches)"
   ]
  },
  {
   "cell_type": "code",
   "execution_count": 10,
   "id": "1b4aa079",
   "metadata": {},
   "outputs": [
    {
     "name": "stdout",
     "output_type": "stream",
     "text": [
      "Match found: Hello\n"
     ]
    }
   ],
   "source": [
    "import re\n",
    "pattern = \"^Hello\"\n",
    "text = \"Hello, world!\"\n",
    "# Use re.match() because it checks for a match only at the beginning of the string\n",
    "match = re.match(pattern, text)\n",
    "# Output the match\n",
    "if match:\n",
    "    print(\"Match found:\", match.group())\n",
    "else:\n",
    "    print(\"No match found\")"
   ]
  },
  {
   "cell_type": "code",
   "execution_count": 11,
   "id": "62a4fa40",
   "metadata": {},
   "outputs": [
    {
     "name": "stdout",
     "output_type": "stream",
     "text": [
      "Match found: world\n"
     ]
    }
   ],
   "source": [
    "import re\n",
    "pattern = \"world$\"\n",
    "text = \"Hello, world\"\n",
    "# Use re.search() to search the entire string\n",
    "match = re.search(pattern, text)\n",
    "# Output the match\n",
    "if match:\n",
    "    print(\"Match found:\", match.group())  # Output: Match found: world\n",
    "else:\n",
    "    print(\"No match found\")"
   ]
  },
  {
   "cell_type": "code",
   "execution_count": 12,
   "id": "16add79f",
   "metadata": {},
   "outputs": [
    {
     "name": "stdout",
     "output_type": "stream",
     "text": [
      "['p', 'py', 'pyy', 'pyyy', 'pyyyy']\n"
     ]
    }
   ],
   "source": [
    "import re\n",
    "\n",
    "pattern = \"py*\"\n",
    "text = \"p py pyy pyyy pyyyy\"\n",
    "\n",
    "matches = re.findall(pattern, text)\n",
    "\n",
    "print(matches)"
   ]
  },
  {
   "cell_type": "code",
   "execution_count": 13,
   "id": "8f23ba47",
   "metadata": {},
   "outputs": [
    {
     "name": "stdout",
     "output_type": "stream",
     "text": [
      "['py', 'pyy', 'pyyy', 'pyyyy']\n"
     ]
    }
   ],
   "source": [
    "import re\n",
    "\n",
    "pattern = \"py+\"\n",
    "text = \"p py pyy pyyy pyyyy\"\n",
    "\n",
    "matches = re.findall(pattern, text)\n",
    "\n",
    "print(matches)  # Output: ['py', 'pyy', 'pyyy', 'pyyy']"
   ]
  },
  {
   "cell_type": "code",
   "execution_count": 14,
   "id": "97214843",
   "metadata": {},
   "outputs": [
    {
     "name": "stdout",
     "output_type": "stream",
     "text": [
      "['p', 'py', 'py', 'py', 'py']\n"
     ]
    }
   ],
   "source": [
    "import re\n",
    "\n",
    "pattern = \"py?\"\n",
    "\n",
    "text = \"p py pyy pyyy pyyyy\"\n",
    "\n",
    "matches = re.findall(pattern, text)\n",
    "\n",
    "print(matches)  # Output: ['p', 'py', 'p', 'p', 'p']"
   ]
  },
  {
   "cell_type": "code",
   "execution_count": 15,
   "id": "1e1e5671",
   "metadata": {},
   "outputs": [
    {
     "name": "stdout",
     "output_type": "stream",
     "text": [
      "['pyy', 'pyyy', 'pyyy']\n"
     ]
    }
   ],
   "source": [
    "import re\n",
    "\n",
    "pattern = \"py{2,3}\"\n",
    "text = \"py, pyy, pyyy, pyyyy\"\n",
    "\n",
    "matches = re.findall(pattern, text)\n",
    "\n",
    "print(matches)  # Output: ['pyy', 'pyyy', 'pyy']"
   ]
  },
  {
   "cell_type": "code",
   "execution_count": 16,
   "id": "e4b2e97c",
   "metadata": {},
   "outputs": [
    {
     "name": "stdout",
     "output_type": "stream",
     "text": [
      "['1', '2', '3', '4', '5', '6', '7', '8', '9', '0']\n"
     ]
    }
   ],
   "source": [
    "import re\n",
    "pattern = \"\\d\"\n",
    "text = \"My phone number is 123-456-7890.\"\n",
    "# Find all digits in the text\n",
    "matches = re.findall(pattern, text)\n",
    "# Output the matches\n",
    "print(matches)"
   ]
  },
  {
   "cell_type": "code",
   "execution_count": 17,
   "id": "e191fdc6",
   "metadata": {},
   "outputs": [
    {
     "name": "stdout",
     "output_type": "stream",
     "text": [
      "[' ', ' ', ' ', ' ', ' ', ' ', '\\t']\n"
     ]
    }
   ],
   "source": [
    "import re\n",
    "pattern = \"\\s\"\n",
    "text = \"This is a text with spaces and\\ttabs.\"\n",
    "# Find all whitespace characters in the text\n",
    "matches = re.findall(pattern, text)\n",
    "# Output the matches\n",
    "print(matches)  # Output: [' ', ' ', ' ', ' ', ' ', ' ', '\\t']"
   ]
  },
  {
   "cell_type": "code",
   "execution_count": 18,
   "id": "d8185c87",
   "metadata": {},
   "outputs": [
    {
     "name": "stdout",
     "output_type": "stream",
     "text": [
      "['T', 'h', 'i', 's', 'i', 's', 'a', 'n', 'e', 'x', 'a', 'm', 'p', 'l', 'e', 'w', 'i', 't', 'h', 'w', 'o', 'r', 'd', 's', 'a', 'n', 'd', 'n', 'u', 'm', 'b', 'e', 'r', 's', '1', '2', '3']\n"
     ]
    }
   ],
   "source": [
    "import re\n",
    "pattern = \"\\w\"\n",
    "text = \"This is an example with words and numbers 123!\"\n",
    "# Find all word characters in the text\n",
    "matches = re.findall(pattern, text)\n",
    "# Output the matches\n",
    "print(matches)"
   ]
  },
  {
   "cell_type": "code",
   "execution_count": 19,
   "id": "6b711188",
   "metadata": {},
   "outputs": [
    {
     "name": "stdout",
     "output_type": "stream",
     "text": [
      "['2', '0', '2', '3']\n"
     ]
    }
   ],
   "source": [
    "import re\n",
    "pattern = \"\\d\"\n",
    "text = \"The year is 2023.\"\n",
    "# Find all digits in the text\n",
    "matches = re.findall(pattern, text)\n",
    "# Output the matches\n",
    "print(matches)"
   ]
  },
  {
   "cell_type": "code",
   "execution_count": 20,
   "id": "9524147c",
   "metadata": {},
   "outputs": [
    {
     "name": "stdout",
     "output_type": "stream",
     "text": [
      "['i', 'i', 'a', 'e', 'a', 'e', 'e']\n"
     ]
    }
   ],
   "source": [
    "import re\n",
    "pattern = \"[aeiou]\"\n",
    "text = \"This is an example text.\"\n",
    "# Find all vowels in the text\n",
    "matches = re.findall(pattern, text)\n",
    "# Output the matches\n",
    "print(matches)"
   ]
  },
  {
   "cell_type": "code",
   "execution_count": 21,
   "id": "ce5c1ba8",
   "metadata": {},
   "outputs": [
    {
     "name": "stdout",
     "output_type": "stream",
     "text": [
      "['T', 'E', 'T', 'W', 'U', 'L']\n"
     ]
    }
   ],
   "source": [
    "pattern = \"[A-Z]\"\n",
    "text = \"This is an Example Text With Uppercase Letters.\"\n",
    "# Find all uppercase letters in the text\n",
    "matches = re.findall(pattern, text)\n",
    "# Output the matches\n",
    "print(matches)"
   ]
  },
  {
   "cell_type": "code",
   "execution_count": 22,
   "id": "53883d95",
   "metadata": {},
   "outputs": [
    {
     "name": "stdout",
     "output_type": "stream",
     "text": [
      "['3', '4']\n"
     ]
    }
   ],
   "source": [
    "import re\n",
    "# Compile the regular expression pattern\n",
    "pattern = re.compile(r'\\d+')  # Matches one or more digits\n",
    "# Use the pattern object to search for matches\n",
    "text = \"There are 3 apples and 4 oranges.\"\n",
    "matches = pattern.findall(text)\n",
    "# Output the matches\n",
    "print(matches)"
   ]
  },
  {
   "cell_type": "code",
   "execution_count": 23,
   "id": "4bd724fe",
   "metadata": {},
   "outputs": [
    {
     "name": "stdout",
     "output_type": "stream",
     "text": [
      "['3']\n"
     ]
    }
   ],
   "source": [
    "import re\n",
    "# Compile the regular expression pattern\n",
    "pattern = re.compile(r'\\d+')  # Matches one or more digits\n",
    "# Use the pattern object to search for matches in different texts\n",
    "text1 = \"There are 3 apples.\"\n",
    "text2 = \"I have 15 dollars and 30 cents.\"\n",
    "# Find matches in text1\n",
    "matches1 = pattern.findall(text1)\n",
    "# Find matches in text2\n",
    "matches2 = pattern.findall(text2)\n",
    "# Output the matches\n",
    "print(matches1)"
   ]
  },
  {
   "cell_type": "code",
   "execution_count": 25,
   "id": "a6b86fd7",
   "metadata": {},
   "outputs": [
    {
     "name": "stdout",
     "output_type": "stream",
     "text": [
      "['123-456-7890', '234-567-8901', '555-555-5555']\n"
     ]
    }
   ],
   "source": [
    "import re\n",
    "# Define the regular expression pattern for phone numbers\n",
    "phone_number_pattern = re.compile(r'\\d{3}-\\d{3}-\\d{4}')\n",
    "\n",
    "\n",
    "# Sample text with phone numbers\n",
    "text = \"\"\"\n",
    "John Doe: 123-456-7890\n",
    "Jane Doe: 234-567-8901\n",
    "Office: 555-555-5555\n",
    "\"\"\"\n",
    "# Find all phone numbers in the text\n",
    "phone_numbers = phone_number_pattern.findall(text)\n",
    "print((phone_numbers))"
   ]
  },
  {
   "cell_type": "code",
   "execution_count": null,
   "id": "9aaf9aaf",
   "metadata": {},
   "outputs": [],
   "source": []
  }
 ],
 "metadata": {
  "kernelspec": {
   "display_name": "Python 3 (ipykernel)",
   "language": "python",
   "name": "python3"
  },
  "language_info": {
   "codemirror_mode": {
    "name": "ipython",
    "version": 3
   },
   "file_extension": ".py",
   "mimetype": "text/x-python",
   "name": "python",
   "nbconvert_exporter": "python",
   "pygments_lexer": "ipython3",
   "version": "3.9.7"
  }
 },
 "nbformat": 4,
 "nbformat_minor": 5
}
