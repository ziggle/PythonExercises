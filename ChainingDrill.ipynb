{
 "cells": [
  {
   "cell_type": "markdown",
   "id": "f0fdc2fb",
   "metadata": {},
   "source": [
    "https://towardsdatascience.com/apply-functions-to-pandas-dataframe-using-map-apply-applymap-and-pipe-9571b1f1cb18\n",
    "\n",
    "DataFrame.pipe\n",
    "\n",
    "DataFrame.apply     Apply a function along input axis of DataFrame.\n",
    "\n",
    "DataFrame.applymap  Apply a function elementwise on a whole DataFrame.\n",
    "\n",
    "Series.map          Apply a mapping correspondence on a Series.\n",
    "\n",
    "What pipe does is to allow you to pass a callable with the expectation that the object that called pipe is the object that gets passed to the callable.\n",
    "\n",
    "With apply we assume that the object that calls apply has subcomponents that will each get passed to the callable that was passed to apply.  In the context of a groupby the subcomponents are slices of the dataframe that called groupby where each slice is a dataframe itself.  This is analogous for a series groupby.\n",
    "\n",
    "The main difference between what you can do with a pipe in a groupby context is that you have available to the callable the entire scope of the the groupby object.  For apply, you only know about the local slice.\n",
    "\n",
    "<img src = \"./Images/MapPipe.png\">"
   ]
  },
  {
   "cell_type": "code",
   "execution_count": 42,
   "id": "6d1e61a3",
   "metadata": {},
   "outputs": [
    {
     "data": {
      "text/html": [
       "<div>\n",
       "<style scoped>\n",
       "    .dataframe tbody tr th:only-of-type {\n",
       "        vertical-align: middle;\n",
       "    }\n",
       "\n",
       "    .dataframe tbody tr th {\n",
       "        vertical-align: top;\n",
       "    }\n",
       "\n",
       "    .dataframe thead th {\n",
       "        text-align: right;\n",
       "    }\n",
       "</style>\n",
       "<table border=\"1\" class=\"dataframe\">\n",
       "  <thead>\n",
       "    <tr style=\"text-align: right;\">\n",
       "      <th></th>\n",
       "      <th>name</th>\n",
       "      <th>gender</th>\n",
       "      <th>age</th>\n",
       "      <th>height</th>\n",
       "      <th>weight</th>\n",
       "    </tr>\n",
       "  </thead>\n",
       "  <tbody>\n",
       "    <tr>\n",
       "      <th>0</th>\n",
       "      <td>John Doe</td>\n",
       "      <td>1</td>\n",
       "      <td>80</td>\n",
       "      <td>161.0</td>\n",
       "      <td>62.3</td>\n",
       "    </tr>\n",
       "    <tr>\n",
       "      <th>1</th>\n",
       "      <td>Mary Re</td>\n",
       "      <td>2</td>\n",
       "      <td>38</td>\n",
       "      <td>173.5</td>\n",
       "      <td>55.7</td>\n",
       "    </tr>\n",
       "    <tr>\n",
       "      <th>2</th>\n",
       "      <td>Harley Me</td>\n",
       "      <td>0</td>\n",
       "      <td>12</td>\n",
       "      <td>180.5</td>\n",
       "      <td>80.0</td>\n",
       "    </tr>\n",
       "  </tbody>\n",
       "</table>\n",
       "</div>"
      ],
      "text/plain": [
       "        name  gender  age  height  weight\n",
       "0   John Doe       1   80   161.0    62.3\n",
       "1    Mary Re       2   38   173.5    55.7\n",
       "2  Harley Me       0   12   180.5    80.0"
      ]
     },
     "execution_count": 42,
     "metadata": {},
     "output_type": "execute_result"
    }
   ],
   "source": [
    "# python version 3.9\n",
    "# pandas version 1.4.1\n",
    "import pandas as pd\n",
    "df = pd.DataFrame({'name':['John Doe', 'Mary Re', 'Harley Me'],\n",
    "                   'gender':[1,2,0],\n",
    "                   'age':[80, 38, 12],\n",
    "                   'height': [161.0, 173.5, 180.5],\n",
    "                   'weight': [62.3, 55.7, 80.0]\n",
    "                   })\n",
    "df"
   ]
  },
  {
   "cell_type": "code",
   "execution_count": 43,
   "id": "ecc3993e",
   "metadata": {},
   "outputs": [
    {
     "data": {
      "text/html": [
       "<div>\n",
       "<style scoped>\n",
       "    .dataframe tbody tr th:only-of-type {\n",
       "        vertical-align: middle;\n",
       "    }\n",
       "\n",
       "    .dataframe tbody tr th {\n",
       "        vertical-align: top;\n",
       "    }\n",
       "\n",
       "    .dataframe thead th {\n",
       "        text-align: right;\n",
       "    }\n",
       "</style>\n",
       "<table border=\"1\" class=\"dataframe\">\n",
       "  <thead>\n",
       "    <tr style=\"text-align: right;\">\n",
       "      <th></th>\n",
       "      <th>name</th>\n",
       "      <th>gender</th>\n",
       "      <th>age</th>\n",
       "      <th>height</th>\n",
       "      <th>weight</th>\n",
       "    </tr>\n",
       "  </thead>\n",
       "  <tbody>\n",
       "    <tr>\n",
       "      <th>0</th>\n",
       "      <td>John Doe</td>\n",
       "      <td>Male</td>\n",
       "      <td>80</td>\n",
       "      <td>161.0</td>\n",
       "      <td>62.3</td>\n",
       "    </tr>\n",
       "    <tr>\n",
       "      <th>1</th>\n",
       "      <td>Mary Re</td>\n",
       "      <td>Female</td>\n",
       "      <td>38</td>\n",
       "      <td>173.5</td>\n",
       "      <td>55.7</td>\n",
       "    </tr>\n",
       "    <tr>\n",
       "      <th>2</th>\n",
       "      <td>Harley Me</td>\n",
       "      <td>Unknown</td>\n",
       "      <td>12</td>\n",
       "      <td>180.5</td>\n",
       "      <td>80.0</td>\n",
       "    </tr>\n",
       "  </tbody>\n",
       "</table>\n",
       "</div>"
      ],
      "text/plain": [
       "        name   gender  age  height  weight\n",
       "0   John Doe     Male   80   161.0    62.3\n",
       "1    Mary Re   Female   38   173.5    55.7\n",
       "2  Harley Me  Unknown   12   180.5    80.0"
      ]
     },
     "execution_count": 43,
     "metadata": {},
     "output_type": "execute_result"
    }
   ],
   "source": [
    "d = df.copy(deep=True)\n",
    "gender_map = {0: 'Unknown', 1:'Male', 2:'Female'}\n",
    "d['gender'] = d['gender'].map(gender_map)\n",
    "d"
   ]
  },
  {
   "cell_type": "code",
   "execution_count": 44,
   "id": "0df1b63a",
   "metadata": {},
   "outputs": [
    {
     "data": {
      "text/html": [
       "<div>\n",
       "<style scoped>\n",
       "    .dataframe tbody tr th:only-of-type {\n",
       "        vertical-align: middle;\n",
       "    }\n",
       "\n",
       "    .dataframe tbody tr th {\n",
       "        vertical-align: top;\n",
       "    }\n",
       "\n",
       "    .dataframe thead th {\n",
       "        text-align: right;\n",
       "    }\n",
       "</style>\n",
       "<table border=\"1\" class=\"dataframe\">\n",
       "  <thead>\n",
       "    <tr style=\"text-align: right;\">\n",
       "      <th></th>\n",
       "      <th>name</th>\n",
       "      <th>gender</th>\n",
       "      <th>age</th>\n",
       "      <th>height</th>\n",
       "      <th>weight</th>\n",
       "    </tr>\n",
       "  </thead>\n",
       "  <tbody>\n",
       "    <tr>\n",
       "      <th>0</th>\n",
       "      <td>John Doe</td>\n",
       "      <td>Male</td>\n",
       "      <td>80</td>\n",
       "      <td>161.0</td>\n",
       "      <td>62.3</td>\n",
       "    </tr>\n",
       "    <tr>\n",
       "      <th>1</th>\n",
       "      <td>Mary Re</td>\n",
       "      <td>Female</td>\n",
       "      <td>38</td>\n",
       "      <td>173.5</td>\n",
       "      <td>55.7</td>\n",
       "    </tr>\n",
       "    <tr>\n",
       "      <th>2</th>\n",
       "      <td>Harley Me</td>\n",
       "      <td>Unknown</td>\n",
       "      <td>12</td>\n",
       "      <td>180.5</td>\n",
       "      <td>80.0</td>\n",
       "    </tr>\n",
       "  </tbody>\n",
       "</table>\n",
       "</div>"
      ],
      "text/plain": [
       "        name   gender  age  height  weight\n",
       "0   John Doe     Male   80   161.0    62.3\n",
       "1    Mary Re   Female   38   173.5    55.7\n",
       "2  Harley Me  Unknown   12   180.5    80.0"
      ]
     },
     "execution_count": 44,
     "metadata": {},
     "output_type": "execute_result"
    }
   ],
   "source": [
    "d=df.copy(deep=True)\n",
    "gender_map = {0: 'Unknown', 1:'Male', 2:'Female'}\n",
    "s = pd.Series(gender_map) # mapping series\n",
    "d['gender'] = d['gender'].map(s)\n",
    "d"
   ]
  },
  {
   "cell_type": "code",
   "execution_count": 45,
   "id": "b7ca748e",
   "metadata": {
    "scrolled": true
   },
   "outputs": [
    {
     "data": {
      "text/html": [
       "<div>\n",
       "<style scoped>\n",
       "    .dataframe tbody tr th:only-of-type {\n",
       "        vertical-align: middle;\n",
       "    }\n",
       "\n",
       "    .dataframe tbody tr th {\n",
       "        vertical-align: top;\n",
       "    }\n",
       "\n",
       "    .dataframe thead th {\n",
       "        text-align: right;\n",
       "    }\n",
       "</style>\n",
       "<table border=\"1\" class=\"dataframe\">\n",
       "  <thead>\n",
       "    <tr style=\"text-align: right;\">\n",
       "      <th></th>\n",
       "      <th>name</th>\n",
       "      <th>gender</th>\n",
       "      <th>age</th>\n",
       "      <th>height</th>\n",
       "      <th>weight</th>\n",
       "      <th>age_group</th>\n",
       "    </tr>\n",
       "  </thead>\n",
       "  <tbody>\n",
       "    <tr>\n",
       "      <th>0</th>\n",
       "      <td>John Doe</td>\n",
       "      <td>1</td>\n",
       "      <td>80</td>\n",
       "      <td>161.0</td>\n",
       "      <td>62.3</td>\n",
       "      <td>Adult</td>\n",
       "    </tr>\n",
       "    <tr>\n",
       "      <th>1</th>\n",
       "      <td>Mary Re</td>\n",
       "      <td>2</td>\n",
       "      <td>38</td>\n",
       "      <td>173.5</td>\n",
       "      <td>55.7</td>\n",
       "      <td>Adult</td>\n",
       "    </tr>\n",
       "    <tr>\n",
       "      <th>2</th>\n",
       "      <td>Harley Me</td>\n",
       "      <td>0</td>\n",
       "      <td>12</td>\n",
       "      <td>180.5</td>\n",
       "      <td>80.0</td>\n",
       "      <td>Child</td>\n",
       "    </tr>\n",
       "  </tbody>\n",
       "</table>\n",
       "</div>"
      ],
      "text/plain": [
       "        name  gender  age  height  weight age_group\n",
       "0   John Doe       1   80   161.0    62.3     Adult\n",
       "1    Mary Re       2   38   173.5    55.7     Adult\n",
       "2  Harley Me       0   12   180.5    80.0     Child"
      ]
     },
     "execution_count": 45,
     "metadata": {},
     "output_type": "execute_result"
    }
   ],
   "source": [
    "d = df.copy(deep=True)\n",
    "d['age_group'] = d['age'].map(lambda x: 'Adult' if x >= 21 else 'Child')\n",
    "d"
   ]
  },
  {
   "cell_type": "code",
   "execution_count": 46,
   "id": "4d370f2f",
   "metadata": {
    "scrolled": true
   },
   "outputs": [
    {
     "data": {
      "text/html": [
       "<div>\n",
       "<style scoped>\n",
       "    .dataframe tbody tr th:only-of-type {\n",
       "        vertical-align: middle;\n",
       "    }\n",
       "\n",
       "    .dataframe tbody tr th {\n",
       "        vertical-align: top;\n",
       "    }\n",
       "\n",
       "    .dataframe thead th {\n",
       "        text-align: right;\n",
       "    }\n",
       "</style>\n",
       "<table border=\"1\" class=\"dataframe\">\n",
       "  <thead>\n",
       "    <tr style=\"text-align: right;\">\n",
       "      <th></th>\n",
       "      <th>name</th>\n",
       "      <th>gender</th>\n",
       "      <th>age</th>\n",
       "      <th>height</th>\n",
       "      <th>weight</th>\n",
       "      <th>age_group</th>\n",
       "    </tr>\n",
       "  </thead>\n",
       "  <tbody>\n",
       "    <tr>\n",
       "      <th>0</th>\n",
       "      <td>John Doe</td>\n",
       "      <td>1</td>\n",
       "      <td>80</td>\n",
       "      <td>161.0</td>\n",
       "      <td>62.3</td>\n",
       "      <td>Adult</td>\n",
       "    </tr>\n",
       "    <tr>\n",
       "      <th>1</th>\n",
       "      <td>Mary Re</td>\n",
       "      <td>2</td>\n",
       "      <td>38</td>\n",
       "      <td>173.5</td>\n",
       "      <td>55.7</td>\n",
       "      <td>Adult</td>\n",
       "    </tr>\n",
       "    <tr>\n",
       "      <th>2</th>\n",
       "      <td>Harley Me</td>\n",
       "      <td>0</td>\n",
       "      <td>12</td>\n",
       "      <td>180.5</td>\n",
       "      <td>80.0</td>\n",
       "      <td>Child</td>\n",
       "    </tr>\n",
       "  </tbody>\n",
       "</table>\n",
       "</div>"
      ],
      "text/plain": [
       "        name  gender  age  height  weight age_group\n",
       "0   John Doe       1   80   161.0    62.3     Adult\n",
       "1    Mary Re       2   38   173.5    55.7     Adult\n",
       "2  Harley Me       0   12   180.5    80.0     Child"
      ]
     },
     "execution_count": 46,
     "metadata": {},
     "output_type": "execute_result"
    }
   ],
   "source": [
    "def get_age_group(age, threshold):\n",
    "    if age >= int(threshold):\n",
    "        age_group = 'Adult'\n",
    "    else:\n",
    "        age_group = 'Child'\n",
    "    return age_group\n",
    "d = df.copy(deep=True)\n",
    "# keyword argument\n",
    "d['age_group'] = d['age'].apply(get_age_group, threshold = 21)\n",
    "d"
   ]
  },
  {
   "cell_type": "code",
   "execution_count": 47,
   "id": "a72f1270",
   "metadata": {},
   "outputs": [
    {
     "data": {
      "text/html": [
       "<div>\n",
       "<style scoped>\n",
       "    .dataframe tbody tr th:only-of-type {\n",
       "        vertical-align: middle;\n",
       "    }\n",
       "\n",
       "    .dataframe tbody tr th {\n",
       "        vertical-align: top;\n",
       "    }\n",
       "\n",
       "    .dataframe thead th {\n",
       "        text-align: right;\n",
       "    }\n",
       "</style>\n",
       "<table border=\"1\" class=\"dataframe\">\n",
       "  <thead>\n",
       "    <tr style=\"text-align: right;\">\n",
       "      <th></th>\n",
       "      <th>name</th>\n",
       "      <th>gender</th>\n",
       "      <th>age</th>\n",
       "      <th>height</th>\n",
       "      <th>weight</th>\n",
       "      <th>age_group</th>\n",
       "    </tr>\n",
       "  </thead>\n",
       "  <tbody>\n",
       "    <tr>\n",
       "      <th>0</th>\n",
       "      <td>John Doe</td>\n",
       "      <td>1</td>\n",
       "      <td>80</td>\n",
       "      <td>161.0</td>\n",
       "      <td>62.3</td>\n",
       "      <td>Adult</td>\n",
       "    </tr>\n",
       "    <tr>\n",
       "      <th>1</th>\n",
       "      <td>Mary Re</td>\n",
       "      <td>2</td>\n",
       "      <td>38</td>\n",
       "      <td>173.5</td>\n",
       "      <td>55.7</td>\n",
       "      <td>Adult</td>\n",
       "    </tr>\n",
       "    <tr>\n",
       "      <th>2</th>\n",
       "      <td>Harley Me</td>\n",
       "      <td>0</td>\n",
       "      <td>12</td>\n",
       "      <td>180.5</td>\n",
       "      <td>80.0</td>\n",
       "      <td>Child</td>\n",
       "    </tr>\n",
       "  </tbody>\n",
       "</table>\n",
       "</div>"
      ],
      "text/plain": [
       "        name  gender  age  height  weight age_group\n",
       "0   John Doe       1   80   161.0    62.3     Adult\n",
       "1    Mary Re       2   38   173.5    55.7     Adult\n",
       "2  Harley Me       0   12   180.5    80.0     Child"
      ]
     },
     "execution_count": 47,
     "metadata": {},
     "output_type": "execute_result"
    }
   ],
   "source": [
    "d = df.copy(deep=True)\n",
    "# keyword argument\n",
    "d['age_group'] = d['age'].apply(get_age_group,args=(21,))\n",
    "d"
   ]
  },
  {
   "cell_type": "code",
   "execution_count": 48,
   "id": "68e12469",
   "metadata": {},
   "outputs": [
    {
     "data": {
      "text/html": [
       "<div>\n",
       "<style scoped>\n",
       "    .dataframe tbody tr th:only-of-type {\n",
       "        vertical-align: middle;\n",
       "    }\n",
       "\n",
       "    .dataframe tbody tr th {\n",
       "        vertical-align: top;\n",
       "    }\n",
       "\n",
       "    .dataframe thead th {\n",
       "        text-align: right;\n",
       "    }\n",
       "</style>\n",
       "<table border=\"1\" class=\"dataframe\">\n",
       "  <thead>\n",
       "    <tr style=\"text-align: right;\">\n",
       "      <th></th>\n",
       "      <th>name</th>\n",
       "      <th>gender</th>\n",
       "      <th>age</th>\n",
       "      <th>height</th>\n",
       "      <th>weight</th>\n",
       "      <th>age_group</th>\n",
       "    </tr>\n",
       "  </thead>\n",
       "  <tbody>\n",
       "    <tr>\n",
       "      <th>0</th>\n",
       "      <td>John Doe</td>\n",
       "      <td>1</td>\n",
       "      <td>80</td>\n",
       "      <td>161.0</td>\n",
       "      <td>62.3</td>\n",
       "      <td>Senior</td>\n",
       "    </tr>\n",
       "    <tr>\n",
       "      <th>1</th>\n",
       "      <td>Mary Re</td>\n",
       "      <td>2</td>\n",
       "      <td>38</td>\n",
       "      <td>173.5</td>\n",
       "      <td>55.7</td>\n",
       "      <td>Adult</td>\n",
       "    </tr>\n",
       "    <tr>\n",
       "      <th>2</th>\n",
       "      <td>Harley Me</td>\n",
       "      <td>0</td>\n",
       "      <td>12</td>\n",
       "      <td>180.5</td>\n",
       "      <td>80.0</td>\n",
       "      <td>Child</td>\n",
       "    </tr>\n",
       "  </tbody>\n",
       "</table>\n",
       "</div>"
      ],
      "text/plain": [
       "        name  gender  age  height  weight age_group\n",
       "0   John Doe       1   80   161.0    62.3    Senior\n",
       "1    Mary Re       2   38   173.5    55.7     Adult\n",
       "2  Harley Me       0   12   180.5    80.0     Child"
      ]
     },
     "execution_count": 48,
     "metadata": {},
     "output_type": "execute_result"
    }
   ],
   "source": [
    "def get_age_group(age, lower_threshold, upper_threshold):\n",
    "    if age >= int(upper_threshold):\n",
    "        age_group = 'Senior'\n",
    "    elif age <= int(lower_threshold):\n",
    "        age_group = 'Child'\n",
    "    else:\n",
    "        age_group = 'Adult'\n",
    "    return age_group\n",
    "\n",
    "d = df.copy(deep=True)\n",
    "d['age_group'] = df['age'].apply(get_age_group, args = (20,65))\n",
    "d"
   ]
  },
  {
   "cell_type": "code",
   "execution_count": 49,
   "id": "8672ad40",
   "metadata": {
    "scrolled": true
   },
   "outputs": [
    {
     "data": {
      "text/html": [
       "<div>\n",
       "<style scoped>\n",
       "    .dataframe tbody tr th:only-of-type {\n",
       "        vertical-align: middle;\n",
       "    }\n",
       "\n",
       "    .dataframe tbody tr th {\n",
       "        vertical-align: top;\n",
       "    }\n",
       "\n",
       "    .dataframe thead th {\n",
       "        text-align: right;\n",
       "    }\n",
       "</style>\n",
       "<table border=\"1\" class=\"dataframe\">\n",
       "  <thead>\n",
       "    <tr style=\"text-align: right;\">\n",
       "      <th></th>\n",
       "      <th>0</th>\n",
       "    </tr>\n",
       "  </thead>\n",
       "  <tbody>\n",
       "    <tr>\n",
       "      <th>0</th>\n",
       "      <td>Doe</td>\n",
       "    </tr>\n",
       "    <tr>\n",
       "      <th>1</th>\n",
       "      <td>Re</td>\n",
       "    </tr>\n",
       "    <tr>\n",
       "      <th>2</th>\n",
       "      <td>Me</td>\n",
       "    </tr>\n",
       "  </tbody>\n",
       "</table>\n",
       "</div>"
      ],
      "text/plain": [
       "     0\n",
       "0  Doe\n",
       "1   Re\n",
       "2   Me"
      ]
     },
     "execution_count": 49,
     "metadata": {},
     "output_type": "execute_result"
    }
   ],
   "source": [
    "def get_last_name(x):\n",
    "    return pd.Series(x.split(' ')[-1]) # function returns a Series\n",
    "#type(df['name'].apply(get_last_name))\n",
    "df['name'].apply(get_last_name)"
   ]
  },
  {
   "cell_type": "code",
   "execution_count": 50,
   "id": "f8d08c21",
   "metadata": {
    "scrolled": true
   },
   "outputs": [
    {
     "data": {
      "text/html": [
       "<div>\n",
       "<style scoped>\n",
       "    .dataframe tbody tr th:only-of-type {\n",
       "        vertical-align: middle;\n",
       "    }\n",
       "\n",
       "    .dataframe tbody tr th {\n",
       "        vertical-align: top;\n",
       "    }\n",
       "\n",
       "    .dataframe thead th {\n",
       "        text-align: right;\n",
       "    }\n",
       "</style>\n",
       "<table border=\"1\" class=\"dataframe\">\n",
       "  <thead>\n",
       "    <tr style=\"text-align: right;\">\n",
       "      <th></th>\n",
       "      <th>height</th>\n",
       "      <th>weight</th>\n",
       "    </tr>\n",
       "  </thead>\n",
       "  <tbody>\n",
       "    <tr>\n",
       "      <th>0</th>\n",
       "      <td>161.0</td>\n",
       "      <td>62.0</td>\n",
       "    </tr>\n",
       "    <tr>\n",
       "      <th>1</th>\n",
       "      <td>174.0</td>\n",
       "      <td>56.0</td>\n",
       "    </tr>\n",
       "    <tr>\n",
       "      <th>2</th>\n",
       "      <td>180.0</td>\n",
       "      <td>80.0</td>\n",
       "    </tr>\n",
       "  </tbody>\n",
       "</table>\n",
       "</div>"
      ],
      "text/plain": [
       "   height  weight\n",
       "0   161.0    62.0\n",
       "1   174.0    56.0\n",
       "2   180.0    80.0"
      ]
     },
     "execution_count": 50,
     "metadata": {},
     "output_type": "execute_result"
    }
   ],
   "source": [
    "import numpy as np\n",
    "df[['height', 'weight']].apply(np.round, axis = 0)"
   ]
  },
  {
   "cell_type": "code",
   "execution_count": 51,
   "id": "956b7f01",
   "metadata": {},
   "outputs": [
    {
     "data": {
      "text/plain": [
       "float"
      ]
     },
     "execution_count": 51,
     "metadata": {},
     "output_type": "execute_result"
    }
   ],
   "source": [
    "def find_average_weight(df):\n",
    "    return df['weight'].mean()\n",
    "type(df.pipe(find_average_weight))"
   ]
  },
  {
   "cell_type": "code",
   "execution_count": 52,
   "id": "fcdc99b9",
   "metadata": {},
   "outputs": [
    {
     "data": {
      "text/plain": [
       "'The average weight is 66.0'"
      ]
     },
     "execution_count": 52,
     "metadata": {},
     "output_type": "execute_result"
    }
   ],
   "source": [
    "def report_average_weight(df):\n",
    "    avg_weight = df['weight'].mean()\n",
    "    return f'The average weight is {avg_weight}'\n",
    "df.pipe(report_average_weight)"
   ]
  },
  {
   "cell_type": "code",
   "execution_count": 56,
   "id": "389f806a",
   "metadata": {},
   "outputs": [
    {
     "name": "stdout",
     "output_type": "stream",
     "text": [
      "    Name  Value1  Value2\n",
      "0   Mark       1       2\n",
      "1  Craig       2       3\n",
      "['A', 'B']\n"
     ]
    }
   ],
   "source": [
    "tst =[]\n",
    "import pandas as pd\n",
    "def fn(me):\n",
    "    tst.append('A')\n",
    "    tst.append('B')\n",
    "    return me\n",
    "\n",
    "mepps=[[\"Mark\",1,2],[\"Craig\",2,3]]\n",
    "me1 = pd.DataFrame(mepps,columns=[\"Name\",\"Value1\",\"Value2\"])\n",
    "print(fn(me1))\n",
    "print(tst)"
   ]
  }
 ],
 "metadata": {
  "kernelspec": {
   "display_name": "Python 3 (ipykernel)",
   "language": "python",
   "name": "python3"
  },
  "language_info": {
   "codemirror_mode": {
    "name": "ipython",
    "version": 3
   },
   "file_extension": ".py",
   "mimetype": "text/x-python",
   "name": "python",
   "nbconvert_exporter": "python",
   "pygments_lexer": "ipython3",
   "version": "3.9.15"
  },
  "toc": {
   "base_numbering": 1,
   "nav_menu": {},
   "number_sections": true,
   "sideBar": true,
   "skip_h1_title": false,
   "title_cell": "Table of Contents",
   "title_sidebar": "Contents",
   "toc_cell": false,
   "toc_position": {},
   "toc_section_display": true,
   "toc_window_display": false
  }
 },
 "nbformat": 4,
 "nbformat_minor": 5
}
