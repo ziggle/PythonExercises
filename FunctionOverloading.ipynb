{
 "cells": [
  {
   "cell_type": "markdown",
   "id": "4ce58028",
   "metadata": {},
   "source": [
    "https://medium.com/@23saini/make-your-code-versatile-with-function-overloading-in-python-acf7b45ae5e0"
   ]
  },
  {
   "cell_type": "code",
   "execution_count": 1,
   "id": "b65ff616",
   "metadata": {},
   "outputs": [],
   "source": [
    "def calculate_area(length, width):\n",
    "    return length * width"
   ]
  },
  {
   "cell_type": "code",
   "execution_count": 2,
   "id": "b405a6e0",
   "metadata": {},
   "outputs": [],
   "source": [
    "def calculate_area(radius):\n",
    "    return 3.14 * radius * radius"
   ]
  },
  {
   "cell_type": "code",
   "execution_count": 3,
   "id": "a733056a",
   "metadata": {},
   "outputs": [
    {
     "ename": "TypeError",
     "evalue": "calculate_area() takes 1 positional argument but 2 were given",
     "output_type": "error",
     "traceback": [
      "\u001b[1;31m---------------------------------------------------------------------------\u001b[0m",
      "\u001b[1;31mTypeError\u001b[0m                                 Traceback (most recent call last)",
      "\u001b[1;32m~\\AppData\\Local\\Temp/ipykernel_23448/1356264115.py\u001b[0m in \u001b[0;36m<module>\u001b[1;34m\u001b[0m\n\u001b[0;32m      1\u001b[0m \u001b[1;31m# Calculate the area of a rectangle\u001b[0m\u001b[1;33m\u001b[0m\u001b[1;33m\u001b[0m\u001b[0m\n\u001b[1;32m----> 2\u001b[1;33m \u001b[0mrectangle_area\u001b[0m \u001b[1;33m=\u001b[0m \u001b[0mcalculate_area\u001b[0m\u001b[1;33m(\u001b[0m\u001b[1;36m5\u001b[0m\u001b[1;33m,\u001b[0m \u001b[1;36m3\u001b[0m\u001b[1;33m)\u001b[0m\u001b[1;33m\u001b[0m\u001b[1;33m\u001b[0m\u001b[0m\n\u001b[0m\u001b[0;32m      3\u001b[0m \u001b[0mprint\u001b[0m\u001b[1;33m(\u001b[0m\u001b[1;34m\"Area of the rectangle:\"\u001b[0m\u001b[1;33m,\u001b[0m \u001b[0mrectangle_area\u001b[0m\u001b[1;33m)\u001b[0m\u001b[1;33m\u001b[0m\u001b[1;33m\u001b[0m\u001b[0m\n\u001b[0;32m      4\u001b[0m \u001b[1;31m# Calculate the area of a circle\u001b[0m\u001b[1;33m\u001b[0m\u001b[1;33m\u001b[0m\u001b[0m\n\u001b[0;32m      5\u001b[0m \u001b[0mcircle_area\u001b[0m \u001b[1;33m=\u001b[0m \u001b[0mcalculate_area\u001b[0m\u001b[1;33m(\u001b[0m\u001b[1;36m4\u001b[0m\u001b[1;33m)\u001b[0m\u001b[1;33m\u001b[0m\u001b[1;33m\u001b[0m\u001b[0m\n",
      "\u001b[1;31mTypeError\u001b[0m: calculate_area() takes 1 positional argument but 2 were given"
     ]
    }
   ],
   "source": [
    "# Calculate the area of a rectangle\n",
    "rectangle_area = calculate_area(5, 3)\n",
    "print(\"Area of the rectangle:\", rectangle_area)\n",
    "# Calculate the area of a circle\n",
    "circle_area = calculate_area(4)\n",
    "print(\"Area of the circle:\", circle_area)"
   ]
  },
  {
   "cell_type": "code",
   "execution_count": 4,
   "id": "fc8b7cfa",
   "metadata": {},
   "outputs": [],
   "source": [
    "def calculate_area(shape, length=0, width=0, radius=0):\n",
    "    if shape == \"rectangle\":\n",
    "        return length * width\n",
    "    elif shape == \"circle\":\n",
    "        return 3.14 * radius * radius\n",
    "    else:\n",
    "        return \"Invalid shape!\""
   ]
  },
  {
   "cell_type": "code",
   "execution_count": 5,
   "id": "6af807f3",
   "metadata": {},
   "outputs": [
    {
     "name": "stdout",
     "output_type": "stream",
     "text": [
      "2\n"
     ]
    }
   ],
   "source": [
    "print(calculate_area(\"rectangle\",length=1,width=2))"
   ]
  },
  {
   "cell_type": "code",
   "execution_count": 7,
   "id": "c75d155d",
   "metadata": {},
   "outputs": [
    {
     "name": "stdout",
     "output_type": "stream",
     "text": [
      "50.24\n"
     ]
    }
   ],
   "source": [
    "print(calculate_area(\"circle\",radius=4))"
   ]
  }
 ],
 "metadata": {
  "kernelspec": {
   "display_name": "Python 3 (ipykernel)",
   "language": "python",
   "name": "python3"
  },
  "language_info": {
   "codemirror_mode": {
    "name": "ipython",
    "version": 3
   },
   "file_extension": ".py",
   "mimetype": "text/x-python",
   "name": "python",
   "nbconvert_exporter": "python",
   "pygments_lexer": "ipython3",
   "version": "3.9.7"
  }
 },
 "nbformat": 4,
 "nbformat_minor": 5
}
