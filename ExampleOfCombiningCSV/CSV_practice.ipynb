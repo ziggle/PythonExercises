{
 "cells": [
  {
   "cell_type": "markdown",
   "id": "d47109a8",
   "metadata": {},
   "source": [
    "https://medium.com/@stella96joshua/how-to-combine-multiple-csv-files-using-python-for-your-analysis-a88017c6ff9e\n",
    "\n",
    "https://www.geeksforgeeks.org/python-pandas-series-combine_first/"
   ]
  },
  {
   "cell_type": "code",
   "execution_count": 1,
   "id": "4c3505d0",
   "metadata": {},
   "outputs": [
    {
     "data": {
      "text/plain": [
       "['Data\\\\Test_1.csv', 'Data\\\\Test_2.csv']"
      ]
     },
     "execution_count": 1,
     "metadata": {},
     "output_type": "execute_result"
    }
   ],
   "source": [
    "#import modules\n",
    "import os\n",
    "import glob\n",
    "import pandas as pd\n",
    "#list all csv files only\n",
    "csv_files = glob.glob('Data/*.{}'.format('csv'))\n",
    "csv_files"
   ]
  },
  {
   "cell_type": "code",
   "execution_count": 2,
   "id": "e040ed77",
   "metadata": {},
   "outputs": [
    {
     "name": "stderr",
     "output_type": "stream",
     "text": [
      "C:\\Users\\Mark\\AppData\\Local\\Temp\\ipykernel_16108\\1843741362.py:6: FutureWarning: The frame.append method is deprecated and will be removed from pandas in a future version. Use pandas.concat instead.\n",
      "  df_append = df_append.append(df_temp, ignore_index=True)\n",
      "C:\\Users\\Mark\\AppData\\Local\\Temp\\ipykernel_16108\\1843741362.py:6: FutureWarning: The frame.append method is deprecated and will be removed from pandas in a future version. Use pandas.concat instead.\n",
      "  df_append = df_append.append(df_temp, ignore_index=True)\n"
     ]
    },
    {
     "data": {
      "text/html": [
       "<div>\n",
       "<style scoped>\n",
       "    .dataframe tbody tr th:only-of-type {\n",
       "        vertical-align: middle;\n",
       "    }\n",
       "\n",
       "    .dataframe tbody tr th {\n",
       "        vertical-align: top;\n",
       "    }\n",
       "\n",
       "    .dataframe thead th {\n",
       "        text-align: right;\n",
       "    }\n",
       "</style>\n",
       "<table border=\"1\" class=\"dataframe\">\n",
       "  <thead>\n",
       "    <tr style=\"text-align: right;\">\n",
       "      <th></th>\n",
       "      <th>Mark</th>\n",
       "      <th>Craig</th>\n",
       "      <th>Tim</th>\n",
       "      <th>Pat</th>\n",
       "    </tr>\n",
       "  </thead>\n",
       "  <tbody>\n",
       "    <tr>\n",
       "      <th>0</th>\n",
       "      <td>1</td>\n",
       "      <td>2</td>\n",
       "      <td>3</td>\n",
       "      <td>4</td>\n",
       "    </tr>\n",
       "    <tr>\n",
       "      <th>1</th>\n",
       "      <td>5</td>\n",
       "      <td>6</td>\n",
       "      <td>7</td>\n",
       "      <td>8</td>\n",
       "    </tr>\n",
       "    <tr>\n",
       "      <th>2</th>\n",
       "      <td>9</td>\n",
       "      <td>10</td>\n",
       "      <td>11</td>\n",
       "      <td>12</td>\n",
       "    </tr>\n",
       "    <tr>\n",
       "      <th>3</th>\n",
       "      <td>13</td>\n",
       "      <td>14</td>\n",
       "      <td>15</td>\n",
       "      <td>16</td>\n",
       "    </tr>\n",
       "  </tbody>\n",
       "</table>\n",
       "</div>"
      ],
      "text/plain": [
       "   Mark  Craig  Tim  Pat\n",
       "0     1      2    3    4\n",
       "1     5      6    7    8\n",
       "2     9     10   11   12\n",
       "3    13     14   15   16"
      ]
     },
     "execution_count": 2,
     "metadata": {},
     "output_type": "execute_result"
    }
   ],
   "source": [
    "# Let's try the append method\n",
    "df_append = pd.DataFrame()\n",
    "#append all files together\n",
    "for file in csv_files:\n",
    "            df_temp = pd.read_csv(file)\n",
    "            df_append = df_append.append(df_temp, ignore_index=True)\n",
    "df_append"
   ]
  },
  {
   "cell_type": "code",
   "execution_count": 3,
   "id": "583348da",
   "metadata": {},
   "outputs": [
    {
     "data": {
      "text/html": [
       "<div>\n",
       "<style scoped>\n",
       "    .dataframe tbody tr th:only-of-type {\n",
       "        vertical-align: middle;\n",
       "    }\n",
       "\n",
       "    .dataframe tbody tr th {\n",
       "        vertical-align: top;\n",
       "    }\n",
       "\n",
       "    .dataframe thead th {\n",
       "        text-align: right;\n",
       "    }\n",
       "</style>\n",
       "<table border=\"1\" class=\"dataframe\">\n",
       "  <thead>\n",
       "    <tr style=\"text-align: right;\">\n",
       "      <th></th>\n",
       "      <th>Mark</th>\n",
       "      <th>Craig</th>\n",
       "      <th>Tim</th>\n",
       "      <th>Pat</th>\n",
       "    </tr>\n",
       "  </thead>\n",
       "  <tbody>\n",
       "    <tr>\n",
       "      <th>0</th>\n",
       "      <td>1</td>\n",
       "      <td>2</td>\n",
       "      <td>3</td>\n",
       "      <td>4</td>\n",
       "    </tr>\n",
       "    <tr>\n",
       "      <th>1</th>\n",
       "      <td>5</td>\n",
       "      <td>6</td>\n",
       "      <td>7</td>\n",
       "      <td>8</td>\n",
       "    </tr>\n",
       "    <tr>\n",
       "      <th>2</th>\n",
       "      <td>9</td>\n",
       "      <td>10</td>\n",
       "      <td>11</td>\n",
       "      <td>12</td>\n",
       "    </tr>\n",
       "    <tr>\n",
       "      <th>3</th>\n",
       "      <td>13</td>\n",
       "      <td>14</td>\n",
       "      <td>15</td>\n",
       "      <td>16</td>\n",
       "    </tr>\n",
       "  </tbody>\n",
       "</table>\n",
       "</div>"
      ],
      "text/plain": [
       "   Mark  Craig  Tim  Pat\n",
       "0     1      2    3    4\n",
       "1     5      6    7    8\n",
       "2     9     10   11   12\n",
       "3    13     14   15   16"
      ]
     },
     "execution_count": 3,
     "metadata": {},
     "output_type": "execute_result"
    }
   ],
   "source": [
    "# Let's try concat\n",
    "df_concat = pd.concat([pd.read_csv(f) for f in csv_files ], ignore_index=True)\n",
    "df_concat"
   ]
  },
  {
   "cell_type": "code",
   "execution_count": 5,
   "id": "1d80e3a7",
   "metadata": {},
   "outputs": [
    {
     "data": {
      "text/html": [
       "<div>\n",
       "<style scoped>\n",
       "    .dataframe tbody tr th:only-of-type {\n",
       "        vertical-align: middle;\n",
       "    }\n",
       "\n",
       "    .dataframe tbody tr th {\n",
       "        vertical-align: top;\n",
       "    }\n",
       "\n",
       "    .dataframe thead th {\n",
       "        text-align: right;\n",
       "    }\n",
       "</style>\n",
       "<table border=\"1\" class=\"dataframe\">\n",
       "  <thead>\n",
       "    <tr style=\"text-align: right;\">\n",
       "      <th></th>\n",
       "      <th>Mark</th>\n",
       "      <th>Craig</th>\n",
       "      <th>Tim</th>\n",
       "      <th>Pat</th>\n",
       "    </tr>\n",
       "  </thead>\n",
       "  <tbody>\n",
       "    <tr>\n",
       "      <th>0</th>\n",
       "      <td>1</td>\n",
       "      <td>2</td>\n",
       "      <td>3</td>\n",
       "      <td>4</td>\n",
       "    </tr>\n",
       "    <tr>\n",
       "      <th>1</th>\n",
       "      <td>5</td>\n",
       "      <td>6</td>\n",
       "      <td>7</td>\n",
       "      <td>8</td>\n",
       "    </tr>\n",
       "    <tr>\n",
       "      <th>2</th>\n",
       "      <td>9</td>\n",
       "      <td>10</td>\n",
       "      <td>11</td>\n",
       "      <td>12</td>\n",
       "    </tr>\n",
       "    <tr>\n",
       "      <th>3</th>\n",
       "      <td>13</td>\n",
       "      <td>14</td>\n",
       "      <td>15</td>\n",
       "      <td>16</td>\n",
       "    </tr>\n",
       "  </tbody>\n",
       "</table>\n",
       "</div>"
      ],
      "text/plain": [
       "   Mark  Craig  Tim  Pat\n",
       "0     1      2    3    4\n",
       "1     5      6    7    8\n",
       "2     9     10   11   12\n",
       "3    13     14   15   16"
      ]
     },
     "execution_count": 5,
     "metadata": {},
     "output_type": "execute_result"
    }
   ],
   "source": [
    "# Try Merge\n",
    "#import pandas module\n",
    "import pandas as pd\n",
    "#read the csv file into a dataframe\n",
    "df_sample1 = pd.read_csv(\"Data/Test_1.csv\")\n",
    "df_sample1\n",
    "\n",
    "df_sample2 = pd.read_csv(\"Data/Test_2.csv\")\n",
    "df_sample2\n",
    "\n",
    "list = [\"Mark\", \"Craig\", \"Tim\", \"Pat\"]\n",
    "df_master = df_sample1.merge(df_sample2,\n",
    "                   on = list, \n",
    "                   how = 'outer')\n",
    "df_master"
   ]
  },
  {
   "cell_type": "code",
   "execution_count": 6,
   "id": "af42077a",
   "metadata": {},
   "outputs": [
    {
     "name": "stdout",
     "output_type": "stream",
     "text": [
      "Result 1:\n",
      " 0     70.0\n",
      "1      5.0\n",
      "2      0.0\n",
      "3    225.0\n",
      "4      1.0\n",
      "5     16.0\n",
      "6     53.0\n",
      "7     10.0\n",
      "8      5.0\n",
      "dtype: float64 \n",
      "\n",
      "Result 2:\n",
      " 0    27.0\n",
      "1     5.0\n",
      "2     2.0\n",
      "3    23.0\n",
      "4     1.0\n",
      "5    95.0\n",
      "6    53.0\n",
      "7    10.0\n",
      "8     5.0\n",
      "dtype: float64\n"
     ]
    }
   ],
   "source": [
    "\n",
    "# I am not sure how I would use this.\n",
    "\n",
    "# importing pandas module  \n",
    "import pandas as pd  \n",
    "    \n",
    "# importing numpy module \n",
    "import numpy as np \n",
    "    \n",
    "# creating series 1 \n",
    "series1 = pd.Series([70, 5, 0, 225, 1, 16, np.nan, 10, np.nan]) \n",
    "    \n",
    "# creating series 2 \n",
    "series2 = pd.Series([27, np.nan, 2, 23, 1, 95, 53, 10, 5]) \n",
    "  \n",
    "# combining and returning results to variable\n",
    "# calling on series1\n",
    "result1 = series1.combine_first(series2)\n",
    "  \n",
    "# calling on series2\n",
    "result2 = series2.combine_first(series1)\n",
    "  \n",
    "# printing result\n",
    "print('Result 1:\\n', result1, '\\n\\nResult 2:\\n', result2)"
   ]
  }
 ],
 "metadata": {
  "kernelspec": {
   "display_name": "Python 3 (ipykernel)",
   "language": "python",
   "name": "python3"
  },
  "language_info": {
   "codemirror_mode": {
    "name": "ipython",
    "version": 3
   },
   "file_extension": ".py",
   "mimetype": "text/x-python",
   "name": "python",
   "nbconvert_exporter": "python",
   "pygments_lexer": "ipython3",
   "version": "3.9.15"
  },
  "toc": {
   "base_numbering": 1,
   "nav_menu": {},
   "number_sections": true,
   "sideBar": true,
   "skip_h1_title": false,
   "title_cell": "Table of Contents",
   "title_sidebar": "Contents",
   "toc_cell": false,
   "toc_position": {},
   "toc_section_display": true,
   "toc_window_display": false
  }
 },
 "nbformat": 4,
 "nbformat_minor": 5
}
