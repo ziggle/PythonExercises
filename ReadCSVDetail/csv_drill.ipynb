{
 "cells": [
  {
   "attachments": {},
   "cell_type": "markdown",
   "metadata": {},
   "source": [
    "https://medium.com/@ebojacky/unleashing-the-power-of-the-csv-module-in-python-exploring-the-most-common-use-cases-bcb0d06aa361"
   ]
  },
  {
   "cell_type": "code",
   "execution_count": 1,
   "metadata": {},
   "outputs": [],
   "source": [
    "import csv\n",
    "\n",
    "# Data to be written to the CSV file\n",
    "data = [\n",
    "    ['Name', 'Age', 'City'],\n",
    "    ['John', '25', 'New York'],\n",
    "    ['Emily', '32', 'London'],\n",
    "    ['David', '41', 'Paris']\n",
    "]\n",
    "\n",
    "# Write data to a CSV file\n",
    "with open('output.csv', 'w', newline='') as file:\n",
    "    writer = csv.writer(file)\n",
    "    writer.writerows(data)"
   ]
  },
  {
   "cell_type": "code",
   "execution_count": 3,
   "metadata": {},
   "outputs": [
    {
     "name": "stdout",
     "output_type": "stream",
     "text": [
      "['Name', 'Age', 'City']\n",
      "['John', '25', 'New York']\n",
      "['Emily', '32', 'London']\n",
      "['David', '41', 'Paris']\n"
     ]
    }
   ],
   "source": [
    "import csv\n",
    "\n",
    "# Read CSV file and print its contents\n",
    "with open('output.csv', 'r') as file:\n",
    "    reader = csv.reader(file)\n",
    "    for row in reader:\n",
    "        print(row)"
   ]
  },
  {
   "cell_type": "code",
   "execution_count": 4,
   "metadata": {},
   "outputs": [
    {
     "name": "stdout",
     "output_type": "stream",
     "text": [
      "['Name', 'Age', 'City']\n",
      "['John', '25', 'New York']\n",
      "['Emily', '32', 'London']\n",
      "['David', '41', 'Paris']\n"
     ]
    }
   ],
   "source": [
    "import csv\n",
    "\n",
    "# Reading a tab-separated CSV file\n",
    "with open('output.tsv', 'r') as file:\n",
    "    reader = csv.reader(file, delimiter='\\t')\n",
    "    for row in reader:\n",
    "        print(row)"
   ]
  },
  {
   "cell_type": "code",
   "execution_count": 5,
   "metadata": {},
   "outputs": [
    {
     "name": "stdout",
     "output_type": "stream",
     "text": [
      "['Name', 'Age', 'City']\n",
      "['John', '25', 'New York']\n",
      "['Emily', '32', 'London']\n",
      "['David', '41', 'Paris']\n"
     ]
    }
   ],
   "source": [
    "import csv\n",
    "\n",
    "# Cleaning data and handling missing values\n",
    "with open('output.csv', 'r') as file:\n",
    "    reader = csv.reader(file)\n",
    "    for row in reader:\n",
    "        cleaned_row = [value.strip() if value is not None else '' for value in row]\n",
    "        print(cleaned_row)"
   ]
  }
 ],
 "metadata": {
  "kernelspec": {
   "display_name": "Python 3",
   "language": "python",
   "name": "python3"
  },
  "language_info": {
   "codemirror_mode": {
    "name": "ipython",
    "version": 3
   },
   "file_extension": ".py",
   "mimetype": "text/x-python",
   "name": "python",
   "nbconvert_exporter": "python",
   "pygments_lexer": "ipython3",
   "version": "3.11.3"
  },
  "orig_nbformat": 4
 },
 "nbformat": 4,
 "nbformat_minor": 2
}
