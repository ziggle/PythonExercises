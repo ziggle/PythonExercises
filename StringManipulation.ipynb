{
 "cells": [
  {
   "cell_type": "markdown",
   "metadata": {},
   "source": [
    "https://levelup.gitconnected.com/9-python-string-manipulation-tricks-that-make-your-coding-easier-67c17fd793b6"
   ]
  },
  {
   "cell_type": "code",
   "execution_count": 3,
   "metadata": {},
   "outputs": [
    {
     "name": "stdout",
     "output_type": "stream",
     "text": [
      "Mark Biegert\n",
      "********Mark Biegert\n",
      "*****Mark Biegert****\n"
     ]
    }
   ],
   "source": [
    "# String Justification\n",
    "author = \"Mark Biegert\"\n",
    "left_justified = author.ljust(10, \"*\")\n",
    "print(left_justified)\n",
    "# Yang Zhou*\n",
    "right_justified = author.rjust(20, \"*\")\n",
    "print(right_justified)\n",
    "\n",
    "centered_author = author.center(21, \"*\")\n",
    "print(centered_author)\n",
    "# ******Yang Zhou******"
   ]
  },
  {
   "cell_type": "code",
   "execution_count": 4,
   "metadata": {},
   "outputs": [
    {
     "name": "stdout",
     "output_type": "stream",
     "text": [
      "['Hello', 'Mark', 'how are you?']\n",
      "['Hello', 'Mark!', 'How are you?']\n",
      "['Hello', 'Mark!', 'How are you?']\n"
     ]
    }
   ],
   "source": [
    "# String Splitting\n",
    "text = \"Hello,Mark,how are you?\"\n",
    "print(text.split(','))\n",
    "# ['Hello', 'Mark', 'how are you?']\n",
    "text = \"Hello\\nMark!\\nHow are you?\"\n",
    "print(text.splitlines())\n",
    "# ['Hello', 'Mark!', 'How are you?']\n",
    "text = \"Hello\\nMark!\\nHow are you?\"\n",
    "print(text.split('\\n'))\n",
    "# ['Hello', 'Mark!', 'How are you?']"
   ]
  },
  {
   "cell_type": "code",
   "execution_count": 5,
   "metadata": {},
   "outputs": [
    {
     "name": "stdout",
     "output_type": "stream",
     "text": [
      "Mark is writing at 2023-02-17\n"
     ]
    }
   ],
   "source": [
    "# F-Strings for string formatting\n",
    "from datetime import date\n",
    "author='Mark'\n",
    "story = f'{author} is writing at {date.today()}'\n",
    "print(story)\n",
    "# Yang is writing at 2023-02-13"
   ]
  },
  {
   "cell_type": "code",
   "execution_count": 6,
   "metadata": {},
   "outputs": [
    {
     "name": "stdout",
     "output_type": "stream",
     "text": [
      "tregeiB kraM\n"
     ]
    }
   ],
   "source": [
    "author = \"Mark Biegert\"\n",
    "print(author[::-1])\n"
   ]
  },
  {
   "cell_type": "code",
   "execution_count": 8,
   "metadata": {},
   "outputs": [
    {
     "name": "stdout",
     "output_type": "stream",
     "text": [
      "Mark Biegert\n",
      "Mark Biegert___\n",
      "__Mark Biegert\n",
      "Mark Biegert\n"
     ]
    }
   ],
   "source": [
    "# Basic Data Cleaning\n",
    "author = \"__Mark Biegert___\"\n",
    "print(author.strip('_'))\n",
    "\n",
    "print(author.lstrip(\"_\"))\n",
    "\n",
    "print(author.rstrip('_'))\n",
    "\n",
    "author = \"__Mark_ _Biegert___\"\n",
    "print(author.replace('_',''))\n",
    "\n"
   ]
  },
  {
   "cell_type": "code",
   "execution_count": 9,
   "metadata": {},
   "outputs": [
    {
     "name": "stdout",
     "output_type": "stream",
     "text": [
      "mark biegert\n",
      "MARK BIEGERT\n",
      "MARK bIEGERT\n",
      "Mark Biegert\n",
      "Mark biegert\n"
     ]
    }
   ],
   "source": [
    "# Switch Case\n",
    "author = \"mark Biegert\"\n",
    "print(author.lower())\n",
    "\n",
    "print(author.upper())\n",
    "\n",
    "print(author.swapcase())\n",
    "\n",
    "print(author.title())\n",
    "\n",
    "print(author.capitalize())\n"
   ]
  },
  {
   "cell_type": "code",
   "execution_count": 11,
   "metadata": {},
   "outputs": [
    {
     "name": "stdout",
     "output_type": "stream",
     "text": [
      "Mark Biegert\n",
      "Mark\n",
      "M-a-r-k\n",
      "M!yes!a!yes!r!yes!k\n"
     ]
    }
   ],
   "source": [
    "# String Concatenation\n",
    "first_name = \"Mark\"\n",
    "last_name = 'Biegert'\n",
    "author = first_name + ' ' + last_name\n",
    "print(author)\n",
    "# Mark Biegert\n",
    "\n",
    "chars = ['M', 'a', 'r', 'k']\n",
    "print(\"\".join(chars))\n",
    "# Mark\n",
    "print(\"-\".join(chars))\n",
    "\n",
    "print(\"!yes!\".join(chars))\n"
   ]
  },
  {
   "cell_type": "code",
   "execution_count": 12,
   "metadata": {},
   "outputs": [
    {
     "name": "stdout",
     "output_type": "stream",
     "text": [
      "17\n",
      "35\n",
      "-1\n",
      "17\n",
      "35\n"
     ]
    },
    {
     "ename": "ValueError",
     "evalue": "substring not found",
     "output_type": "error",
     "traceback": [
      "\u001b[1;31m---------------------------------------------------------------------------\u001b[0m",
      "\u001b[1;31mValueError\u001b[0m                                Traceback (most recent call last)",
      "\u001b[1;32m<ipython-input-12-23c0904d05b8>\u001b[0m in \u001b[0;36m<module>\u001b[1;34m\u001b[0m\n\u001b[0;32m     13\u001b[0m \u001b[0mprint\u001b[0m\u001b[1;33m(\u001b[0m\u001b[0mtitle\u001b[0m\u001b[1;33m.\u001b[0m\u001b[0mrindex\u001b[0m\u001b[1;33m(\u001b[0m\u001b[1;34m'string'\u001b[0m\u001b[1;33m)\u001b[0m\u001b[1;33m)\u001b[0m\u001b[1;33m\u001b[0m\u001b[1;33m\u001b[0m\u001b[0m\n\u001b[0;32m     14\u001b[0m \u001b[1;31m# 35\u001b[0m\u001b[1;33m\u001b[0m\u001b[1;33m\u001b[0m\u001b[1;33m\u001b[0m\u001b[0m\n\u001b[1;32m---> 15\u001b[1;33m \u001b[0mprint\u001b[0m\u001b[1;33m(\u001b[0m\u001b[0mtitle\u001b[0m\u001b[1;33m.\u001b[0m\u001b[0mindex\u001b[0m\u001b[1;33m(\u001b[0m\u001b[1;34m'Mark'\u001b[0m\u001b[1;33m)\u001b[0m\u001b[1;33m)\u001b[0m\u001b[1;33m\u001b[0m\u001b[1;33m\u001b[0m\u001b[0m\n\u001b[0m\u001b[0;32m     16\u001b[0m \u001b[1;31m# ValueError: substring not found\u001b[0m\u001b[1;33m\u001b[0m\u001b[1;33m\u001b[0m\u001b[1;33m\u001b[0m\u001b[0m\n",
      "\u001b[1;31mValueError\u001b[0m: substring not found"
     ]
    }
   ],
   "source": [
    "# Substring Search\n",
    "title = 'How to search substrings of Python strings'\n",
    "print(title.find('string'))\n",
    "# 17\n",
    "print(title.rfind('string'))\n",
    "# 35\n",
    "print(title.find('Yang'))\n",
    "# -1\n",
    "\n",
    "title = 'How to search substrings of Python strings'\n",
    "print(title.index('string'))\n",
    "# 17\n",
    "print(title.rindex('string'))\n",
    "# 35\n",
    "print(title.index('Mark'))\n",
    "# ValueError: substring not found"
   ]
  },
  {
   "cell_type": "code",
   "execution_count": 13,
   "metadata": {},
   "outputs": [
    {
     "name": "stdout",
     "output_type": "stream",
     "text": [
      "123-456-7890\n"
     ]
    }
   ],
   "source": [
    "# Regular Expressions\n",
    "import re\n",
    "text = \"Mark's phone number is 123-456-7890\"\n",
    "phone_number = re.search(r\"\\d{3}-\\d{3}-\\d{4}\", text)\n",
    "print(phone_number.group())"
   ]
  }
 ],
 "metadata": {
  "kernelspec": {
   "display_name": "Python 3",
   "language": "python",
   "name": "python3"
  },
  "language_info": {
   "codemirror_mode": {
    "name": "ipython",
    "version": 3
   },
   "file_extension": ".py",
   "mimetype": "text/x-python",
   "name": "python",
   "nbconvert_exporter": "python",
   "pygments_lexer": "ipython3",
   "version": "3.8.5"
  }
 },
 "nbformat": 4,
 "nbformat_minor": 4
}
