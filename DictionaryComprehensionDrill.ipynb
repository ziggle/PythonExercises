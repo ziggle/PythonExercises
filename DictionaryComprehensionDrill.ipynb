{
 "cells": [
  {
   "cell_type": "markdown",
   "id": "e6b42596",
   "metadata": {},
   "source": [
    "https://python.plainenglish.io/mastering-dictionary-comprehension-simplifying-complex-data-structures-b23475d4e614"
   ]
  },
  {
   "cell_type": "code",
   "execution_count": 1,
   "id": "8da878e8",
   "metadata": {},
   "outputs": [
    {
     "name": "stdout",
     "output_type": "stream",
     "text": [
      "{1: 1, 2: 4, 3: 9, 4: 16, 5: 25}\n"
     ]
    }
   ],
   "source": [
    "numbers=[1,2,3,4,5]\n",
    "squares={num:num**2 for num in numbers}\n",
    "print(squares)"
   ]
  },
  {
   "cell_type": "code",
   "execution_count": 2,
   "id": "7f96e1e4",
   "metadata": {},
   "outputs": [
    {
     "name": "stdout",
     "output_type": "stream",
     "text": [
      "{2: 4, 4: 16}\n",
      "{1: 1, 3: 9, 5: 25}\n"
     ]
    }
   ],
   "source": [
    "even_squares={num:num**2 for num in numbers if num % 2 ==0}\n",
    "print(even_squares)\n",
    "\n",
    "even_squares={num:num**2 for num in numbers if num % 2 !=0}\n",
    "print(even_squares)"
   ]
  },
  {
   "cell_type": "code",
   "execution_count": 3,
   "id": "4b43df02",
   "metadata": {},
   "outputs": [
    {
     "name": "stdout",
     "output_type": "stream",
     "text": [
      "{'Ajay': 22, 'Sandesh': 24, 'Naveen': 22}\n"
     ]
    }
   ],
   "source": [
    "people =[(\"Ajay\",22),(\"Sandesh\",24),(\"Naveen\",22)]\n",
    "ages = {name:age for name, age in people}\n",
    "\n",
    "print(ages)"
   ]
  },
  {
   "cell_type": "code",
   "execution_count": 4,
   "id": "67fd36f9",
   "metadata": {},
   "outputs": [
    {
     "name": "stdout",
     "output_type": "stream",
     "text": [
      "{1: 'Laptop', 2: 'Smartphone', 3: 'Tablet'}\n"
     ]
    }
   ],
   "source": [
    "products=[\n",
    "    {\"id\":1, \"name\":\"Laptop\",\"price\":1000},\n",
    "    {\"id\":2, \"name\":\"Smartphone\",\"price\":800},\n",
    "    {\"id\":3, \"name\":\"Tablet\",\"price\":600},\n",
    "]\n",
    "product_dict={product[\"id\"]:product[\"name\"] for product in products}\n",
    "print(product_dict)"
   ]
  },
  {
   "cell_type": "code",
   "execution_count": 5,
   "id": "acab81e9",
   "metadata": {},
   "outputs": [
    {
     "name": "stdout",
     "output_type": "stream",
     "text": [
      "{'a': 1, 'b': 2, 'c': 3, 'd': 4}\n"
     ]
    }
   ],
   "source": [
    "keys=[\"a\",\"b\",\"c\",\"d\"]\n",
    "values=[1,2,3,4]\n",
    "\n",
    "combined_dict={k:v for k,v in zip(keys, values)}\n",
    "print(combined_dict)"
   ]
  },
  {
   "cell_type": "code",
   "execution_count": 7,
   "id": "f2687930",
   "metadata": {},
   "outputs": [
    {
     "name": "stdout",
     "output_type": "stream",
     "text": [
      "{0: 'apple', 1: 'banana', 2: 'cherry', 3: 'date'}\n"
     ]
    }
   ],
   "source": [
    "words=['apple','banana','cherry','date']\n",
    "word_dict={i:word for i, word in enumerate(words)}\n",
    "print(word_dict)"
   ]
  },
  {
   "cell_type": "code",
   "execution_count": 8,
   "id": "c2b2cb07",
   "metadata": {},
   "outputs": [
    {
     "name": "stdout",
     "output_type": "stream",
     "text": [
      "{'apple': 5, 'banana': 6, 'cherry': 6, 'date': 4}\n"
     ]
    }
   ],
   "source": [
    "word_set=['apple','banana','cherry','date']\n",
    "length_dict={word:len(word) for word in word_set}\n",
    "print(length_dict)"
   ]
  },
  {
   "cell_type": "code",
   "execution_count": 10,
   "id": "05efaa76",
   "metadata": {},
   "outputs": [
    {
     "name": "stdout",
     "output_type": "stream",
     "text": [
      "{'H': 72, 'e': 101, 'l': 108, 'o': 111, ' ': 32, 'C': 67, 'd': 100, 'r': 114}\n"
     ]
    }
   ],
   "source": [
    "text=\"Hello Coder\"\n",
    "ascii_dict={char:ord(char) for char in text}\n",
    "print(ascii_dict)"
   ]
  },
  {
   "cell_type": "code",
   "execution_count": 13,
   "id": "7179a685",
   "metadata": {},
   "outputs": [
    {
     "name": "stdout",
     "output_type": "stream",
     "text": [
      "{1: 'a', 2: 'b', 3: 'c', 4: 'd'}\n"
     ]
    }
   ],
   "source": [
    "original_dict={'a':1,'b':2,'c':3,'d':4}\n",
    "inverted_dict={v:k for k,v in original_dict.items()}\n",
    "print(inverted_dict)"
   ]
  },
  {
   "cell_type": "code",
   "execution_count": 14,
   "id": "d8218b47",
   "metadata": {},
   "outputs": [
    {
     "name": "stdout",
     "output_type": "stream",
     "text": [
      "{'e': 6, 'b': 4, 'a': 1, 'c': 3, 'd': 5}\n"
     ]
    }
   ],
   "source": [
    "dict1={'a':1,'b':2,'c':3}\n",
    "dict2={'b':4,'d':5,'e':6}\n",
    "merged_dict={k:dict2[k] if k in dict2 else dict1[k] for k in dict1.keys()|dict2.keys()}\n",
    "print(merged_dict)"
   ]
  }
 ],
 "metadata": {
  "kernelspec": {
   "display_name": "Python 3 (ipykernel)",
   "language": "python",
   "name": "python3"
  },
  "language_info": {
   "codemirror_mode": {
    "name": "ipython",
    "version": 3
   },
   "file_extension": ".py",
   "mimetype": "text/x-python",
   "name": "python",
   "nbconvert_exporter": "python",
   "pygments_lexer": "ipython3",
   "version": "3.9.7"
  }
 },
 "nbformat": 4,
 "nbformat_minor": 5
}
