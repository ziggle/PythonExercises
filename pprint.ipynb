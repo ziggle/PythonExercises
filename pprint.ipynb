{
 "cells": [
  {
   "cell_type": "markdown",
   "metadata": {},
   "source": [
    "https://levelup.gitconnected.com/stop-using-print-every-time-in-python-use-pprint-instead-e8761b25048f"
   ]
  },
  {
   "cell_type": "code",
   "execution_count": 1,
   "metadata": {},
   "outputs": [],
   "source": [
    "x = [\n",
    "  {'apple': [1,2,3], 'orange':[4,5,6]},\n",
    "  {'pear': [7,8,9], 'pineapple':[10,11,12]},\n",
    "  {'durian':[13,14,15], 'banana':[16,17,18]}\n",
    "]"
   ]
  },
  {
   "cell_type": "code",
   "execution_count": 3,
   "metadata": {},
   "outputs": [
    {
     "name": "stdout",
     "output_type": "stream",
     "text": [
      "[{'apple': [1, 2, 3], 'orange': [4, 5, 6]},\n",
      " {'pear': [7, 8, 9], 'pineapple': [10, 11, 12]},\n",
      " {'banana': [16, 17, 18], 'durian': [13, 14, 15]}]\n"
     ]
    }
   ],
   "source": [
    "from pprint import pprint\n",
    "\n",
    "pprint(x)"
   ]
  },
  {
   "cell_type": "code",
   "execution_count": 4,
   "metadata": {},
   "outputs": [],
   "source": [
    "x = {\n",
    "  'name':'tom',\n",
    "  'dad': {'name': 'jerry',\n",
    "          'dad':{'name':'greg'},\n",
    "          'mom':{'name':'susie'}\n",
    "          },\n",
    "  'mom': {'name': 'mary'},\n",
    "  'wife': {'name': 'susan'},\n",
    "  'son': {'name': 'tim',\n",
    "          'dad':{'name':'tom'},\n",
    "          'mom':{'name':'susan'},\n",
    "          'wife':{'name':'cassie'},\n",
    "          'daughter': {'name':'lala',\n",
    "                        'husband': 'bobo'\n",
    "                        }\n",
    "          }\n",
    "}"
   ]
  },
  {
   "cell_type": "code",
   "execution_count": 5,
   "metadata": {},
   "outputs": [
    {
     "name": "stdout",
     "output_type": "stream",
     "text": [
      "{'dad': {'dad': {'name': 'greg'}, 'mom': {'name': 'susie'}, 'name': 'jerry'},\n",
      " 'mom': {'name': 'mary'},\n",
      " 'name': 'tom',\n",
      " 'son': {'dad': {'name': 'tom'},\n",
      "         'daughter': {'husband': 'bobo', 'name': 'lala'},\n",
      "         'mom': {'name': 'susan'},\n",
      "         'name': 'tim',\n",
      "         'wife': {'name': 'cassie'}},\n",
      " 'wife': {'name': 'susan'}}\n"
     ]
    }
   ],
   "source": [
    "from pprint import pprint\n",
    "\n",
    "pprint(x)"
   ]
  },
  {
   "cell_type": "code",
   "execution_count": 6,
   "metadata": {},
   "outputs": [
    {
     "name": "stdout",
     "output_type": "stream",
     "text": [
      "{   'dad': {'dad': {'name': 'greg'}, 'mom': {'name': 'susie'}, 'name': 'jerry'},\n",
      "    'mom': {'name': 'mary'},\n",
      "    'name': 'tom',\n",
      "    'son': {   'dad': {'name': 'tom'},\n",
      "               'daughter': {'husband': 'bobo', 'name': 'lala'},\n",
      "               'mom': {'name': 'susan'},\n",
      "               'name': 'tim',\n",
      "               'wife': {'name': 'cassie'}},\n",
      "    'wife': {'name': 'susan'}}\n"
     ]
    }
   ],
   "source": [
    "from pprint import pprint\n",
    "\n",
    "pprint(x, indent=4)"
   ]
  },
  {
   "cell_type": "code",
   "execution_count": 7,
   "metadata": {},
   "outputs": [
    {
     "name": "stdout",
     "output_type": "stream",
     "text": [
      "{   'dad': {   'dad': {   'name': 'greg'},\n",
      "               'mom': {   'name': 'susie'},\n",
      "               'name': 'jerry'},\n",
      "    'mom': {'name': 'mary'},\n",
      "    'name': 'tom',\n",
      "    'son': {   'dad': {   'name': 'tom'},\n",
      "               'daughter': {   'husband': 'bobo',\n",
      "                               'name': 'lala'},\n",
      "               'mom': {   'name': 'susan'},\n",
      "               'name': 'tim',\n",
      "               'wife': {   'name': 'cassie'}},\n",
      "    'wife': {'name': 'susan'}}\n"
     ]
    }
   ],
   "source": [
    "from pprint import pprint\n",
    "\n",
    "pprint(x, indent=4, width=30)"
   ]
  }
 ],
 "metadata": {
  "kernelspec": {
   "display_name": "Python 3",
   "language": "python",
   "name": "python3"
  },
  "language_info": {
   "codemirror_mode": {
    "name": "ipython",
    "version": 3
   },
   "file_extension": ".py",
   "mimetype": "text/x-python",
   "name": "python",
   "nbconvert_exporter": "python",
   "pygments_lexer": "ipython3",
   "version": "3.11.4"
  },
  "orig_nbformat": 4
 },
 "nbformat": 4,
 "nbformat_minor": 2
}
