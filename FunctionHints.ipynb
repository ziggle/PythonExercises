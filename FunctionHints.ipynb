{
 "cells": [
  {
   "cell_type": "markdown",
   "id": "66009442",
   "metadata": {},
   "source": [
    "https://python.plainenglish.io/6-clean-tips-to-improve-your-python-functions-87c5834a628e"
   ]
  },
  {
   "cell_type": "code",
   "execution_count": 3,
   "id": "743810ce",
   "metadata": {},
   "outputs": [],
   "source": [
    "def func(numbers: list[int]) -> list[int]:\n",
    "  numbers.reverse()\n",
    "\n",
    "  return numbers"
   ]
  },
  {
   "cell_type": "code",
   "execution_count": 4,
   "id": "d621e296",
   "metadata": {},
   "outputs": [],
   "source": [
    "def sum_numbers(*numbers: float) -> float:\n",
    "  return sum(numbers)"
   ]
  },
  {
   "cell_type": "code",
   "execution_count": 6,
   "id": "b227fdc6",
   "metadata": {},
   "outputs": [
    {
     "name": "stdout",
     "output_type": "stream",
     "text": [
      "Accepted!\n",
      "Payment succeed!\n"
     ]
    },
    {
     "data": {
      "text/plain": [
       "True"
      ]
     },
     "execution_count": 6,
     "metadata": {},
     "output_type": "execute_result"
    }
   ],
   "source": [
    "def accept_payment(value: float) -> bool:\n",
    "  has_balance: bool = value > 0\n",
    "\n",
    "  if has_balance:\n",
    "    print('Accepted!')\n",
    "  else:\n",
    "    print('Denied')\n",
    "\n",
    "\n",
    "  return has_balance\n",
    "\n",
    "def make_payment(value: float) -> bool:\n",
    "  success: bool = accept_payment(value)\n",
    "\n",
    "  if success:\n",
    "    print('Payment succeed!')\n",
    "  else:\n",
    "    print('Payment failed..')\n",
    "\n",
    "\n",
    "  return success\n",
    "\n",
    "\n",
    "make_payment(5)"
   ]
  },
  {
   "cell_type": "code",
   "execution_count": 7,
   "id": "fe9b1b41",
   "metadata": {},
   "outputs": [
    {
     "data": {
      "text/plain": [
       "0"
      ]
     },
     "execution_count": 7,
     "metadata": {},
     "output_type": "execute_result"
    }
   ],
   "source": [
    "def adder (*numbers: float) -> float:\n",
    "\n",
    "  \"\"\"\n",
    "    Takes an arbitrary amount of numbers and returns the sum.\n",
    "\n",
    "    param numbers: Numbers to be added together\n",
    "    return: The total as a float\n",
    "I \"\"\"\n",
    "\n",
    "  return sum(numbers)\n",
    "\n",
    "\n",
    "adder ()"
   ]
  },
  {
   "cell_type": "code",
   "execution_count": 8,
   "id": "9fd74c30",
   "metadata": {},
   "outputs": [
    {
     "name": "stdout",
     "output_type": "stream",
     "text": [
      "what\n"
     ]
    }
   ],
   "source": [
    "def func(new_name: str) -> str:\n",
    "\n",
    "  return new_name\n",
    "\n",
    "string = func('hello')\n",
    "string = func('what')\n",
    "\n",
    "print (string)"
   ]
  },
  {
   "cell_type": "code",
   "execution_count": null,
   "id": "e4768571",
   "metadata": {},
   "outputs": [],
   "source": []
  }
 ],
 "metadata": {
  "kernelspec": {
   "display_name": "Python 3 (ipykernel)",
   "language": "python",
   "name": "python3"
  },
  "language_info": {
   "codemirror_mode": {
    "name": "ipython",
    "version": 3
   },
   "file_extension": ".py",
   "mimetype": "text/x-python",
   "name": "python",
   "nbconvert_exporter": "python",
   "pygments_lexer": "ipython3",
   "version": "3.9.7"
  }
 },
 "nbformat": 4,
 "nbformat_minor": 5
}
