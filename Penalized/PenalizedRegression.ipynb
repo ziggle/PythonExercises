{
 "cells": [
  {
   "cell_type": "markdown",
   "metadata": {},
   "source": [
    "https://blog.gopenai.com/mastering-penalized-regression-in-python-an-exhaustive-guide-with-hands-on-coding-examples-9ff65200f3e8"
   ]
  },
  {
   "cell_type": "code",
   "execution_count": 27,
   "metadata": {},
   "outputs": [
    {
     "name": "stdout",
     "output_type": "stream",
     "text": [
      "[[-5.18739510e-01]\n",
      " [ 3.10885570e-01]\n",
      " [-1.29842748e-03]\n",
      " [ 5.25712442e-03]\n",
      " [-1.60112737e-02]\n",
      " [ 1.05379887e+00]\n",
      " [-8.80041481e-02]\n",
      " [ 5.96124838e-01]\n",
      " [ 1.08011749e+01]\n",
      " [ 7.25636316e-02]\n",
      " [-3.68168907e+00]\n",
      " [ 3.31785165e-01]\n",
      " [-3.99654162e-01]]\n"
     ]
    }
   ],
   "source": [
    "from sklearn.linear_model import Ridge\n",
    "#from sklearn.datasets import load_boston\n",
    "from sklearn.model_selection import train_test_split\n",
    "import pandas as pd\n",
    "\n",
    "# Load Boston Housing dataset\n",
    "#boston = load_boston()\n",
    "boston = pd.read_csv(\"BostonHousing.csv\")\n",
    "\n",
    "# Define predictors and response\n",
    "#X = boston.data\n",
    "#y = boston.target\n",
    "X=boston.crim.to_numpy().reshape(len(boston),1)\n",
    "y=boston.drop(\"crim\",axis=1).to_numpy().reshape(len(boston),-1)\n",
    "\n",
    "# Split into training and test sets\n",
    "X_train, X_test, y_train, y_test = train_test_split(X, y, test_size=0.2, \n",
    "                                                    random_state=42)\n",
    "\n",
    "# Fit the Ridge Regression model\n",
    "ridge_model = Ridge(alpha=1.0)\n",
    "ridge_model.fit(X_train, y_train)\n",
    "\n",
    "# Print coefficients\n",
    "print(ridge_model.coef_)"
   ]
  },
  {
   "cell_type": "code",
   "execution_count": 28,
   "metadata": {},
   "outputs": [
    {
     "name": "stdout",
     "output_type": "stream",
     "text": [
      "[[-5.06028622e-01]\n",
      " [ 2.98168134e-01]\n",
      " [-0.00000000e+00]\n",
      " [ 0.00000000e+00]\n",
      " [-3.28454793e-03]\n",
      " [ 1.04110484e+00]\n",
      " [-7.52796904e-02]\n",
      " [ 5.83416388e-01]\n",
      " [ 1.07887880e+01]\n",
      " [ 5.98386874e-02]\n",
      " [-3.66907783e+00]\n",
      " [ 3.19068387e-01]\n",
      " [-3.86939523e-01]]\n"
     ]
    }
   ],
   "source": [
    "from sklearn.linear_model import Lasso\n",
    "\n",
    "# Fit the Lasso Regression model\n",
    "lasso_model = Lasso(alpha=1.0)\n",
    "lasso_model.fit(X_train, y_train)\n",
    "\n",
    "# Print coefficients\n",
    "print(lasso_model.coef_)"
   ]
  },
  {
   "cell_type": "code",
   "execution_count": 32,
   "metadata": {},
   "outputs": [
    {
     "name": "stdout",
     "output_type": "stream",
     "text": [
      "100.0\n",
      "100.0\n"
     ]
    }
   ],
   "source": [
    "from sklearn.linear_model import RidgeCV, LassoCV, MultiTaskLassoCV\n",
    "\n",
    "# Perform cross-validation for Ridge Regression\n",
    "ridge_cv = RidgeCV(alphas=[1e-3, 1e-2, 1e-1, 1, 10, 100])\n",
    "ridge_cv.fit(X_train, y_train)\n",
    "\n",
    "# Print optimal alpha\n",
    "print(ridge_cv.alpha_)\n",
    "\n",
    "# Perform cross-validation for Lasso Regression\n",
    "lasso_cv = MultiTaskLassoCV(alphas=[1e-3, 1e-2, 1e-1, 1, 10, 100])\n",
    "lasso_cv.fit(X_train, y_train)\n",
    "\n",
    "# Print optimal alpha\n",
    "print(lasso_cv.alpha_)"
   ]
  },
  {
   "cell_type": "code",
   "execution_count": null,
   "metadata": {},
   "outputs": [],
   "source": []
  }
 ],
 "metadata": {
  "kernelspec": {
   "display_name": "Python 3",
   "language": "python",
   "name": "python3"
  },
  "language_info": {
   "codemirror_mode": {
    "name": "ipython",
    "version": 3
   },
   "file_extension": ".py",
   "mimetype": "text/x-python",
   "name": "python",
   "nbconvert_exporter": "python",
   "pygments_lexer": "ipython3",
   "version": "3.11.4"
  },
  "orig_nbformat": 4
 },
 "nbformat": 4,
 "nbformat_minor": 2
}
