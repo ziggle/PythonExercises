{
 "cells": [
  {
   "cell_type": "markdown",
   "id": "0f957418",
   "metadata": {},
   "source": [
    "https://towardsdatascience.com/effective-coding-with-dates-and-times-in-python-3be13a77b45b"
   ]
  },
  {
   "cell_type": "code",
   "execution_count": 1,
   "id": "fba0b0b1",
   "metadata": {},
   "outputs": [],
   "source": [
    "# Load libraries\n",
    "import pandas as pd\n",
    "import numpy as np\n",
    "from datetime import datetime, date, timezone\n",
    "from dateutil import parser\n",
    "from zoneinfo import ZoneInfo"
   ]
  },
  {
   "cell_type": "code",
   "execution_count": 3,
   "id": "411657cd",
   "metadata": {},
   "outputs": [
    {
     "name": "stdout",
     "output_type": "stream",
     "text": [
      "2020-12-01\n",
      "<class 'datetime.date'>\n",
      "2020-12-02 00:00:00\n",
      "<class 'datetime.datetime'>\n",
      "2020-12-02\n",
      "<class 'datetime.date'>\n"
     ]
    }
   ],
   "source": [
    "# Creating date & datetime from scratch\n",
    "\n",
    "date_1 = date(2020,12,1)\n",
    "\n",
    "datetime_1 = datetime(2020,12,2)\n",
    "date_2 = datetime_1.date()\n",
    "\n",
    "print(date_1)\n",
    "print(type(date_1))\n",
    "print(datetime_1)\n",
    "print(type(datetime_1))\n",
    "print(date_2)\n",
    "print(type(date_2))"
   ]
  },
  {
   "cell_type": "code",
   "execution_count": 4,
   "id": "6f3328f3",
   "metadata": {},
   "outputs": [],
   "source": [
    "\n",
    "# Creating date & datetime for today and now (for me CET)\n",
    "\n",
    "date_today = date.today()\n",
    "datetime_now = datetime.now()\n",
    "\n",
    "# Built-in: UTC\n",
    "datetime_now_utc = datetime.now(tz=timezone.utc)"
   ]
  },
  {
   "cell_type": "code",
   "execution_count": 5,
   "id": "132db9c9",
   "metadata": {},
   "outputs": [
    {
     "data": {
      "text/plain": [
       "datetime.datetime(2024, 2, 8, 17, 32, 49, 172385, tzinfo=datetime.timezone.utc)"
      ]
     },
     "execution_count": 5,
     "metadata": {},
     "output_type": "execute_result"
    }
   ],
   "source": [
    "datetime_now_utc"
   ]
  },
  {
   "cell_type": "code",
   "execution_count": 6,
   "id": "7c66ae31",
   "metadata": {},
   "outputs": [
    {
     "name": "stdout",
     "output_type": "stream",
     "text": [
      "The first day of December 2020 is : 2020-12-01\n"
     ]
    }
   ],
   "source": [
    "# Create a string from a datetime object\n",
    "\n",
    "date_1_string = date_1.strftime(\"%Y-%m-%d\")\n",
    "\n",
    "print('The first day of December 2020 is :',  date_1_string)\n",
    "\n",
    "# Other example\n",
    "datetime_1_string = datetime_1.strftime(\"%Y-%m-%d %H:%M:%S\")"
   ]
  },
  {
   "cell_type": "code",
   "execution_count": 7,
   "id": "406af465",
   "metadata": {},
   "outputs": [],
   "source": [
    "# Create a datetime object from a string\n",
    "\n",
    "date_3 = datetime.strptime('2017-12-07', \"%Y-%m-%d\").date()\n",
    "\n",
    "# Other example\n",
    "datetime_2 = datetime.strptime('2017-12-07', \"%Y-%m-%d\")"
   ]
  },
  {
   "cell_type": "code",
   "execution_count": 9,
   "id": "53655115",
   "metadata": {},
   "outputs": [
    {
     "name": "stdout",
     "output_type": "stream",
     "text": [
      "2017-12-07 15:12:00\n",
      "<class 'datetime.datetime'>\n",
      "2019-12-07 00:00:00\n",
      "<class 'datetime.datetime'>\n"
     ]
    }
   ],
   "source": [
    "# Parse complex strings\n",
    "\n",
    "datetime_3 = parser.parse(\"2017-12-07 03:12:00PM\")\n",
    "date_4 = parser.parse(\"December 7th 2019\")\n",
    "\n",
    "print(datetime_3)\n",
    "print(type(datetime_3))\n",
    "print(date_4)\n",
    "print(type(date_4))"
   ]
  },
  {
   "cell_type": "code",
   "execution_count": 12,
   "id": "f9262586",
   "metadata": {},
   "outputs": [],
   "source": [
    "\n",
    "# Create numpy datetime object\n",
    "\n",
    "date_5 = np.array('2018-04-05', dtype=np.datetime64)\n",
    "datetime_4 = np.array('2018-04-05 15:12:00', dtype=np.datetime64)\n",
    "\n",
    "#print(date_5)\n",
    "#print(type(date_5))\n",
    "#print(datetime_4)\n",
    "#print(type(datetime_4))\n",
    "\n",
    "# Vectorized operation\n",
    "date_6 = date_5 + 1  #works with numpy object\n",
    "#date_6 = date_1 + 1  #error with datetime object\n",
    "#date_6 = date_1 + 1  #error with dateutil object\n",
    "\n",
    "# Other vectorized operation\n",
    "date_7 = date_5 + np.arange(7)"
   ]
  },
  {
   "cell_type": "code",
   "execution_count": 14,
   "id": "46a4cb12",
   "metadata": {},
   "outputs": [
    {
     "ename": "AttributeError",
     "evalue": "'numpy.ndarray' object has no attribute 'date'",
     "output_type": "error",
     "traceback": [
      "\u001b[1;31m---------------------------------------------------------------------------\u001b[0m",
      "\u001b[1;31mAttributeError\u001b[0m                            Traceback (most recent call last)",
      "\u001b[1;32m~\\AppData\\Local\\Temp/ipykernel_29260/3014915268.py\u001b[0m in \u001b[0;36m<module>\u001b[1;34m\u001b[0m\n\u001b[0;32m      3\u001b[0m \u001b[0mdatetime_5\u001b[0m \u001b[1;33m=\u001b[0m \u001b[0mpd\u001b[0m\u001b[1;33m.\u001b[0m\u001b[0mto_datetime\u001b[0m\u001b[1;33m(\u001b[0m\u001b[1;34m\"2020-06-01\"\u001b[0m\u001b[1;33m)\u001b[0m \u001b[1;31m#simple string\u001b[0m\u001b[1;33m\u001b[0m\u001b[1;33m\u001b[0m\u001b[0m\n\u001b[0;32m      4\u001b[0m \u001b[0mdatetime_6\u001b[0m \u001b[1;33m=\u001b[0m \u001b[0mpd\u001b[0m\u001b[1;33m.\u001b[0m\u001b[0mto_datetime\u001b[0m\u001b[1;33m(\u001b[0m\u001b[1;34m\"December 7th 2019\"\u001b[0m\u001b[1;33m)\u001b[0m \u001b[1;31m#complex string\u001b[0m\u001b[1;33m\u001b[0m\u001b[1;33m\u001b[0m\u001b[0m\n\u001b[1;32m----> 5\u001b[1;33m \u001b[0mdate_8\u001b[0m \u001b[1;33m=\u001b[0m \u001b[0mdatetime_4\u001b[0m\u001b[1;33m.\u001b[0m\u001b[0mdate\u001b[0m\u001b[1;33m(\u001b[0m\u001b[1;33m)\u001b[0m\u001b[1;33m\u001b[0m\u001b[1;33m\u001b[0m\u001b[0m\n\u001b[0m\u001b[0;32m      6\u001b[0m \u001b[1;33m\u001b[0m\u001b[0m\n\u001b[0;32m      7\u001b[0m \u001b[1;31m# Vectorized operation\u001b[0m\u001b[1;33m\u001b[0m\u001b[1;33m\u001b[0m\u001b[0m\n",
      "\u001b[1;31mAttributeError\u001b[0m: 'numpy.ndarray' object has no attribute 'date'"
     ]
    }
   ],
   "source": [
    "# Create pandas datetime objects\n",
    "\n",
    "datetime_5 = pd.to_datetime(\"2020-06-01\") #simple string\n",
    "datetime_6 = pd.to_datetime(\"December 7th 2019\") #complex string\n",
    "date_8 = datetime_4.date() \n",
    "\n",
    "# Vectorized operation\n",
    "datetime_7 = datetime_5 + pd.to_timedelta(np.arange(3), 'D')"
   ]
  },
  {
   "cell_type": "code",
   "execution_count": 15,
   "id": "8918a3ea",
   "metadata": {},
   "outputs": [
    {
     "name": "stdout",
     "output_type": "stream",
     "text": [
      "<class 'str'>\n",
      "<class 'pandas._libs.tslibs.timestamps.Timestamp'>\n",
      "<class 'pandas._libs.tslibs.timestamps.Timestamp'>\n"
     ]
    }
   ],
   "source": [
    "# Converting a column to date using strptime\n",
    "\n",
    "games_nfl = pd.read_csv('games.csv')\n",
    "#games_nfl.head()\n",
    "print(type(games_nfl['gameDate'][0]))\n",
    "\n",
    "games_nfl['gameDate_dateformat'] = pd.to_datetime(games_nfl['gameDate'])\n",
    "print(type(games_nfl['gameDate_dateformat'][0]))\n",
    "\n",
    "# Converting a column directly to datetime using parse_dates\n",
    "games_nfl_2 = pd.read_csv('games.csv', parse_dates=['gameDate'])\n",
    "print(type(games_nfl_2['gameDate'][0]))"
   ]
  },
  {
   "cell_type": "code",
   "execution_count": 16,
   "id": "26ff1480",
   "metadata": {},
   "outputs": [],
   "source": [
    "# Filtering by date\n",
    "\n",
    "games_nfl_3 = games_nfl_2[games_nfl_2['gameDate'] > datetime(2019,1,1)]"
   ]
  },
  {
   "cell_type": "code",
   "execution_count": 18,
   "id": "ffacd9b8",
   "metadata": {},
   "outputs": [
    {
     "name": "stderr",
     "output_type": "stream",
     "text": [
      "2024-02-08 11:47:38,657 [29260] WARNING  py.warnings:109: [JupyterRequire] C:\\Users\\biegertm\\AppData\\Local\\Temp/ipykernel_29260/1468768809.py:7: FutureWarning: Value based partial slicing on non-monotonic DatetimeIndexes with non-existing keys is deprecated and will raise a KeyError in a future Version.\n",
      "  games_nfl_5 = games_nfl_4['2018-09-01':'2018-09-30']\n",
      "\n"
     ]
    },
    {
     "data": {
      "text/html": [
       "<div>\n",
       "<style scoped>\n",
       "    .dataframe tbody tr th:only-of-type {\n",
       "        vertical-align: middle;\n",
       "    }\n",
       "\n",
       "    .dataframe tbody tr th {\n",
       "        vertical-align: top;\n",
       "    }\n",
       "\n",
       "    .dataframe thead th {\n",
       "        text-align: right;\n",
       "    }\n",
       "</style>\n",
       "<table border=\"1\" class=\"dataframe\">\n",
       "  <thead>\n",
       "    <tr style=\"text-align: right;\">\n",
       "      <th></th>\n",
       "      <th>season</th>\n",
       "      <th>week</th>\n",
       "      <th>gameId</th>\n",
       "      <th>gameTimeEastern</th>\n",
       "      <th>HomeScore</th>\n",
       "      <th>VisitorScore</th>\n",
       "      <th>homeTeamAbbr</th>\n",
       "      <th>visitorTeamAbbr</th>\n",
       "      <th>homeDisplayName</th>\n",
       "      <th>visitorDisplayName</th>\n",
       "      <th>Stadium</th>\n",
       "      <th>Location</th>\n",
       "      <th>StadiumType</th>\n",
       "      <th>Turf</th>\n",
       "      <th>GameLength</th>\n",
       "      <th>GameWeather</th>\n",
       "      <th>Temperature</th>\n",
       "      <th>Humidity</th>\n",
       "      <th>WindSpeed</th>\n",
       "      <th>WindDirection</th>\n",
       "    </tr>\n",
       "    <tr>\n",
       "      <th>gameDate</th>\n",
       "      <th></th>\n",
       "      <th></th>\n",
       "      <th></th>\n",
       "      <th></th>\n",
       "      <th></th>\n",
       "      <th></th>\n",
       "      <th></th>\n",
       "      <th></th>\n",
       "      <th></th>\n",
       "      <th></th>\n",
       "      <th></th>\n",
       "      <th></th>\n",
       "      <th></th>\n",
       "      <th></th>\n",
       "      <th></th>\n",
       "      <th></th>\n",
       "      <th></th>\n",
       "      <th></th>\n",
       "      <th></th>\n",
       "      <th></th>\n",
       "    </tr>\n",
       "  </thead>\n",
       "  <tbody>\n",
       "  </tbody>\n",
       "</table>\n",
       "</div>"
      ],
      "text/plain": [
       "Empty DataFrame\n",
       "Columns: [season, week, gameId, gameTimeEastern, HomeScore, VisitorScore, homeTeamAbbr, visitorTeamAbbr, homeDisplayName, visitorDisplayName, Stadium, Location, StadiumType, Turf, GameLength, GameWeather, Temperature, Humidity, WindSpeed, WindDirection]\n",
       "Index: []"
      ]
     },
     "metadata": {},
     "output_type": "display_data"
    }
   ],
   "source": [
    "\n",
    "# Setting datetime as index\n",
    "\n",
    "games_nfl_4 = games_nfl_2.set_index(['gameDate'])\n",
    "games_nfl_4.head(20)\n",
    "\n",
    "# Other example for filter\n",
    "games_nfl_5 = games_nfl_4['2018-09-01':'2018-09-30']\n",
    "display(games_nfl_5)"
   ]
  },
  {
   "cell_type": "code",
   "execution_count": 21,
   "id": "1a3683ee",
   "metadata": {},
   "outputs": [
    {
     "name": "stdout",
     "output_type": "stream",
     "text": [
      "<class 'str'>\n",
      "<class 'pandas._libs.tslibs.timestamps.Timestamp'>\n"
     ]
    }
   ],
   "source": [
    "# Extract time delta between two datetime objects\n",
    "\n",
    "uber_data = pd.read_csv('My Uber Drives - 2016.csv', \n",
    "                        parse_dates=['START_DATE*', 'END_DATE*'])\n",
    "                        \n",
    "# Pre-processing: Removing a \"Total\" Row\n",
    "uber_data.iloc[[1155]]\n",
    "uber_data.drop([1155],axis=0,inplace=True)\n",
    "\n",
    "print(type(uber_data['START_DATE*'][0]))\n",
    "print(type(uber_data['END_DATE*'][0]))\n",
    "uber_data['START_DATE*'] = pd.to_datetime(uber_data['START_DATE*'], format=\"%m/%d/%Y %H:%M\")\n",
    "\n",
    "# New dimensions ‘Duration‘ and ‘Duration Minutes‘\n",
    "uber_data['DURATION'] = uber_data['END_DATE*']-uber_data['START_DATE*']\n",
    "uber_data['DURATION_MINUTES'] = (uber_data['END_DATE*']-uber_data['START_DATE*']).dt.total_seconds() / 60"
   ]
  },
  {
   "cell_type": "code",
   "execution_count": 22,
   "id": "383c621a",
   "metadata": {},
   "outputs": [],
   "source": [
    "# Extract weekday and month\n",
    "\n",
    "# Single datetime\n",
    "weekday = date_3.weekday()\n",
    "\n",
    "# Series\n",
    "uber_data['START_DATE_WEEKDAY'] = uber_data['START_DATE*'].dt.weekday\n",
    "uber_data['START_DATE_WEEKDAY_NAME'] = uber_data['START_DATE*'].dt.day_name()"
   ]
  },
  {
   "cell_type": "code",
   "execution_count": 23,
   "id": "47449456",
   "metadata": {},
   "outputs": [],
   "source": [
    "\n",
    "# Create datetime lag\n",
    "\n",
    "uber_data['START_DATE_LAGGED'] = uber_data['START_DATE*'].shift(1)"
   ]
  }
 ],
 "metadata": {
  "kernelspec": {
   "display_name": "Python 3 (ipykernel)",
   "language": "python",
   "name": "python3"
  },
  "language_info": {
   "codemirror_mode": {
    "name": "ipython",
    "version": 3
   },
   "file_extension": ".py",
   "mimetype": "text/x-python",
   "name": "python",
   "nbconvert_exporter": "python",
   "pygments_lexer": "ipython3",
   "version": "3.9.7"
  }
 },
 "nbformat": 4,
 "nbformat_minor": 5
}
