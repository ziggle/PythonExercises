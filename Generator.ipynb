{
 "cells": [
  {
   "cell_type": "markdown",
   "metadata": {},
   "source": [
    "https://medium.com/this-code/6-intermediate-python-tips-for-better-code-90c36ad71ba"
   ]
  },
  {
   "cell_type": "code",
   "execution_count": null,
   "metadata": {},
   "outputs": [],
   "source": [
    "def read_fully():\n",
    "    with open('big_file.txt', 'r') as file_object:\n",
    "        for line in file_object.readlines():\n",
    "             pass_to_some_function(line)\n",
    "             # do something else"
   ]
  },
  {
   "cell_type": "code",
   "execution_count": null,
   "metadata": {},
   "outputs": [],
   "source": [
    "def read_lines(file_object):\n",
    "    while True:\n",
    "        data = file_object.readlines()\n",
    "        if not data:\n",
    "            break\n",
    "        yield data"
   ]
  },
  {
   "cell_type": "code",
   "execution_count": null,
   "metadata": {},
   "outputs": [],
   "source": [
    "def pass_to_some_function():\n",
    "    with open('big_file.txt', 'r') as file_object:\n",
    "        for line in read_lines(file_object):\n",
    "            # do something with the file chunk"
   ]
  },
  {
   "cell_type": "code",
   "execution_count": null,
   "metadata": {},
   "outputs": [],
   "source": [
    "for person_name in list_of_people:\n",
    "    if person_name.startswith(\"Th\"):\n",
    "        print(person_name)"
   ]
  },
  {
   "cell_type": "code",
   "execution_count": null,
   "metadata": {},
   "outputs": [],
   "source": [
    "for person_name in filter(lambda name: name.startswith(\"Th\"), list_of_people):\n",
    "    print(person_name)"
   ]
  },
  {
   "cell_type": "code",
   "execution_count": 1,
   "metadata": {},
   "outputs": [],
   "source": [
    "my_dict = {'A': 2, 'B': 56, 'C': 0, 'D': 10, 'E': 8}"
   ]
  },
  {
   "cell_type": "code",
   "execution_count": 3,
   "metadata": {},
   "outputs": [
    {
     "name": "stdout",
     "output_type": "stream",
     "text": [
      "[('C', 0), ('A', 2), ('E', 8), ('D', 10), ('B', 56)]\n"
     ]
    }
   ],
   "source": [
    "x=sorted(my_dict.items(), key = lambda item: item[1])\n",
    "print(x)"
   ]
  },
  {
   "cell_type": "code",
   "execution_count": 4,
   "metadata": {},
   "outputs": [
    {
     "name": "stdout",
     "output_type": "stream",
     "text": [
      "1\n",
      "[2, 3, 4, 5]\n",
      "6\n"
     ]
    }
   ],
   "source": [
    "my_tuple = (1, 2, 3, 4, 5, 6)\n",
    "# assign to start, middle, and end variables\n",
    "\n",
    "start, *middle, end = my_tuple\n",
    "print(start)\n",
    "print(middle)\n",
    "print(end)"
   ]
  },
  {
   "cell_type": "code",
   "execution_count": null,
   "metadata": {},
   "outputs": [],
   "source": [
    "in_bounds = lambda i, j: True if i >= 0 and i < rows and j >= 0 and j < cols else False"
   ]
  }
 ],
 "metadata": {
  "kernelspec": {
   "display_name": "Python 3",
   "language": "python",
   "name": "python3"
  },
  "language_info": {
   "codemirror_mode": {
    "name": "ipython",
    "version": 3
   },
   "file_extension": ".py",
   "mimetype": "text/x-python",
   "name": "python",
   "nbconvert_exporter": "python",
   "pygments_lexer": "ipython3",
   "version": "3.11.4"
  },
  "orig_nbformat": 4
 },
 "nbformat": 4,
 "nbformat_minor": 2
}
