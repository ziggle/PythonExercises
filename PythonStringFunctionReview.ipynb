{
 "cells": [
  {
   "cell_type": "markdown",
   "id": "c1368546",
   "metadata": {},
   "source": [
    "https://towardsdatascience.com/5-must-know-pandas-operations-on-strings-4f88ca6b8e25"
   ]
  },
  {
   "cell_type": "code",
   "execution_count": 8,
   "id": "073c0319",
   "metadata": {},
   "outputs": [
    {
     "data": {
      "text/html": [
       "<div>\n",
       "<style scoped>\n",
       "    .dataframe tbody tr th:only-of-type {\n",
       "        vertical-align: middle;\n",
       "    }\n",
       "\n",
       "    .dataframe tbody tr th {\n",
       "        vertical-align: top;\n",
       "    }\n",
       "\n",
       "    .dataframe thead th {\n",
       "        text-align: right;\n",
       "    }\n",
       "</style>\n",
       "<table border=\"1\" class=\"dataframe\">\n",
       "  <thead>\n",
       "    <tr style=\"text-align: right;\">\n",
       "      <th></th>\n",
       "      <th>col_a</th>\n",
       "      <th>col_b</th>\n",
       "      <th>col_c</th>\n",
       "      <th>col_d</th>\n",
       "    </tr>\n",
       "  </thead>\n",
       "  <tbody>\n",
       "    <tr>\n",
       "      <th>0</th>\n",
       "      <td>Houston,TX</td>\n",
       "      <td>$64K-$72K</td>\n",
       "      <td>A</td>\n",
       "      <td>1x</td>\n",
       "    </tr>\n",
       "    <tr>\n",
       "      <th>1</th>\n",
       "      <td>Dallas,TX</td>\n",
       "      <td>$62K-$70K</td>\n",
       "      <td>B</td>\n",
       "      <td>1y</td>\n",
       "    </tr>\n",
       "    <tr>\n",
       "      <th>2</th>\n",
       "      <td>Chicago,IL</td>\n",
       "      <td>$69K-$76K</td>\n",
       "      <td>A</td>\n",
       "      <td>2x</td>\n",
       "    </tr>\n",
       "    <tr>\n",
       "      <th>3</th>\n",
       "      <td>Phoenix,AZ</td>\n",
       "      <td>$62K-$72K</td>\n",
       "      <td>a</td>\n",
       "      <td>1x</td>\n",
       "    </tr>\n",
       "    <tr>\n",
       "      <th>4</th>\n",
       "      <td>SanDiego,CA</td>\n",
       "      <td>$71K-$78K</td>\n",
       "      <td>c</td>\n",
       "      <td>1y</td>\n",
       "    </tr>\n",
       "  </tbody>\n",
       "</table>\n",
       "</div>"
      ],
      "text/plain": [
       "         col_a      col_b col_c col_d\n",
       "0   Houston,TX  $64K-$72K     A    1x\n",
       "1    Dallas,TX  $62K-$70K     B    1y\n",
       "2   Chicago,IL  $69K-$76K     A  2x  \n",
       "3   Phoenix,AZ  $62K-$72K     a    1x\n",
       "4  SanDiego,CA  $71K-$78K     c  1y  "
      ]
     },
     "execution_count": 8,
     "metadata": {},
     "output_type": "execute_result"
    }
   ],
   "source": [
    "import numpy as np\n",
    "import pandas as pd\n",
    "sample = {\n",
    "'col_a':['Houston,TX', 'Dallas,TX', 'Chicago,IL', 'Phoenix,AZ','SanDiego,CA'],\n",
    "'col_b':['$64K-$72K', '$62K-$70K', '$69K-$76K', '$62K-$72K', '$71K-$78K' ],\n",
    "'col_c':['A','B','A','a','c'],\n",
    "'col_d':['  1x', ' 1y', '2x  ', '1x', '1y  ']\n",
    "}\n",
    "df_sample = pd.DataFrame(sample)\n",
    "df_sample"
   ]
  },
  {
   "cell_type": "code",
   "execution_count": 9,
   "id": "7e663ac3",
   "metadata": {},
   "outputs": [
    {
     "ename": "SyntaxError",
     "evalue": "invalid syntax (Temp/ipykernel_5508/2893546346.py, line 6)",
     "output_type": "error",
     "traceback": [
      "\u001b[1;36m  File \u001b[1;32m\"C:\\Users\\biegertm\\AppData\\Local\\Temp/ipykernel_5508/2893546346.py\"\u001b[1;36m, line \u001b[1;32m6\u001b[0m\n\u001b[1;33m    4    [San Diego, CA]\u001b[0m\n\u001b[1;37m              ^\u001b[0m\n\u001b[1;31mSyntaxError\u001b[0m\u001b[1;31m:\u001b[0m invalid syntax\n"
     ]
    }
   ],
   "source": [
    "df_sample['col_a'].str.split(',')\n",
    "0      [Houston, TX] \n",
    "1       [Dallas, TX] \n",
    "2      [Chicago, IL] \n",
    "3      [Phoenix, AZ] \n",
    "4    [San Diego, CA] \n",
    "Name: col_a, dtype: object"
   ]
  },
  {
   "cell_type": "code",
   "execution_count": 10,
   "id": "6372884b",
   "metadata": {},
   "outputs": [
    {
     "data": {
      "text/html": [
       "<div>\n",
       "<style scoped>\n",
       "    .dataframe tbody tr th:only-of-type {\n",
       "        vertical-align: middle;\n",
       "    }\n",
       "\n",
       "    .dataframe tbody tr th {\n",
       "        vertical-align: top;\n",
       "    }\n",
       "\n",
       "    .dataframe thead th {\n",
       "        text-align: right;\n",
       "    }\n",
       "</style>\n",
       "<table border=\"1\" class=\"dataframe\">\n",
       "  <thead>\n",
       "    <tr style=\"text-align: right;\">\n",
       "      <th></th>\n",
       "      <th>col_a</th>\n",
       "      <th>col_b</th>\n",
       "      <th>col_c</th>\n",
       "      <th>col_d</th>\n",
       "      <th>state</th>\n",
       "    </tr>\n",
       "  </thead>\n",
       "  <tbody>\n",
       "    <tr>\n",
       "      <th>0</th>\n",
       "      <td>Houston,TX</td>\n",
       "      <td>$64K-$72K</td>\n",
       "      <td>A</td>\n",
       "      <td>1x</td>\n",
       "      <td>TX</td>\n",
       "    </tr>\n",
       "    <tr>\n",
       "      <th>1</th>\n",
       "      <td>Dallas,TX</td>\n",
       "      <td>$62K-$70K</td>\n",
       "      <td>B</td>\n",
       "      <td>1y</td>\n",
       "      <td>TX</td>\n",
       "    </tr>\n",
       "    <tr>\n",
       "      <th>2</th>\n",
       "      <td>Chicago,IL</td>\n",
       "      <td>$69K-$76K</td>\n",
       "      <td>A</td>\n",
       "      <td>2x</td>\n",
       "      <td>IL</td>\n",
       "    </tr>\n",
       "    <tr>\n",
       "      <th>3</th>\n",
       "      <td>Phoenix,AZ</td>\n",
       "      <td>$62K-$72K</td>\n",
       "      <td>a</td>\n",
       "      <td>1x</td>\n",
       "      <td>AZ</td>\n",
       "    </tr>\n",
       "    <tr>\n",
       "      <th>4</th>\n",
       "      <td>SanDiego,CA</td>\n",
       "      <td>$71K-$78K</td>\n",
       "      <td>c</td>\n",
       "      <td>1y</td>\n",
       "      <td>CA</td>\n",
       "    </tr>\n",
       "  </tbody>\n",
       "</table>\n",
       "</div>"
      ],
      "text/plain": [
       "         col_a      col_b col_c col_d state\n",
       "0   Houston,TX  $64K-$72K     A    1x    TX\n",
       "1    Dallas,TX  $62K-$70K     B    1y    TX\n",
       "2   Chicago,IL  $69K-$76K     A  2x      IL\n",
       "3   Phoenix,AZ  $62K-$72K     a    1x    AZ\n",
       "4  SanDiego,CA  $71K-$78K     c  1y      CA"
      ]
     },
     "execution_count": 10,
     "metadata": {},
     "output_type": "execute_result"
    }
   ],
   "source": [
    "df_sample['state'] = df_sample['col_a'].str.split(',').str[1]\n",
    "df_sample"
   ]
  },
  {
   "cell_type": "code",
   "execution_count": 11,
   "id": "fdd3e58c",
   "metadata": {},
   "outputs": [
    {
     "data": {
      "text/plain": [
       "0    64K-$72K\n",
       "1    62K-$70K\n",
       "2    69K-$76K\n",
       "3    62K-$72K\n",
       "4    71K-$78K\n",
       "Name: col_b, dtype: object"
      ]
     },
     "execution_count": 11,
     "metadata": {},
     "output_type": "execute_result"
    }
   ],
   "source": [
    "df_sample['col_b'].str.lstrip('$')"
   ]
  },
  {
   "cell_type": "code",
   "execution_count": 13,
   "id": "7910a56e",
   "metadata": {},
   "outputs": [
    {
     "data": {
      "text/html": [
       "<div>\n",
       "<style scoped>\n",
       "    .dataframe tbody tr th:only-of-type {\n",
       "        vertical-align: middle;\n",
       "    }\n",
       "\n",
       "    .dataframe tbody tr th {\n",
       "        vertical-align: top;\n",
       "    }\n",
       "\n",
       "    .dataframe thead th {\n",
       "        text-align: right;\n",
       "    }\n",
       "</style>\n",
       "<table border=\"1\" class=\"dataframe\">\n",
       "  <thead>\n",
       "    <tr style=\"text-align: right;\">\n",
       "      <th></th>\n",
       "      <th>col_a</th>\n",
       "      <th>col_b</th>\n",
       "      <th>col_c</th>\n",
       "      <th>col_d</th>\n",
       "      <th>state</th>\n",
       "    </tr>\n",
       "  </thead>\n",
       "  <tbody>\n",
       "    <tr>\n",
       "      <th>0</th>\n",
       "      <td>Houston,TX</td>\n",
       "      <td>$64K-$72K</td>\n",
       "      <td>A</td>\n",
       "      <td>1x</td>\n",
       "      <td>TX</td>\n",
       "    </tr>\n",
       "    <tr>\n",
       "      <th>1</th>\n",
       "      <td>Dallas,TX</td>\n",
       "      <td>$62K-$70K</td>\n",
       "      <td>B</td>\n",
       "      <td>1y</td>\n",
       "      <td>TX</td>\n",
       "    </tr>\n",
       "    <tr>\n",
       "      <th>2</th>\n",
       "      <td>Chicago,IL</td>\n",
       "      <td>$69K-$76K</td>\n",
       "      <td>A</td>\n",
       "      <td>2x</td>\n",
       "      <td>IL</td>\n",
       "    </tr>\n",
       "    <tr>\n",
       "      <th>3</th>\n",
       "      <td>Phoenix,AZ</td>\n",
       "      <td>$62K-$72K</td>\n",
       "      <td>a</td>\n",
       "      <td>1x</td>\n",
       "      <td>AZ</td>\n",
       "    </tr>\n",
       "    <tr>\n",
       "      <th>4</th>\n",
       "      <td>SanDiego,CA</td>\n",
       "      <td>$71K-$78K</td>\n",
       "      <td>c</td>\n",
       "      <td>1y</td>\n",
       "      <td>CA</td>\n",
       "    </tr>\n",
       "  </tbody>\n",
       "</table>\n",
       "</div>"
      ],
      "text/plain": [
       "         col_a      col_b col_c col_d state\n",
       "0   Houston,TX  $64K-$72K     A    1x    TX\n",
       "1    Dallas,TX  $62K-$70K     B    1y    TX\n",
       "2   Chicago,IL  $69K-$76K     A    2x    IL\n",
       "3   Phoenix,AZ  $62K-$72K     a    1x    AZ\n",
       "4  SanDiego,CA  $71K-$78K     c    1y    CA"
      ]
     },
     "metadata": {},
     "output_type": "display_data"
    }
   ],
   "source": [
    "df_sample['col_d'] = df_sample['col_d'].str.strip()\n",
    "display(df_sample)\n"
   ]
  },
  {
   "cell_type": "code",
   "execution_count": 15,
   "id": "c7cf133c",
   "metadata": {},
   "outputs": [
    {
     "name": "stdout",
     "output_type": "stream",
     "text": [
      "         col_a      col_b col_c col_d state\n",
      "0   Houston,TX  $64K-$72K     A    1z    TX\n",
      "1    Dallas,TX  $62K-$70K     B    1y    TX\n",
      "2   Chicago,IL  $69K-$76K     A    2z    IL\n",
      "3   Phoenix,AZ  $62K-$72K     a    1z    AZ\n",
      "4  SanDiego,CA  $71K-$78K     c    1y    CA\n"
     ]
    }
   ],
   "source": [
    "df_sample['col_d'] = df_sample['col_d'].str.replace('x', 'z')\n",
    "print(df_sample)"
   ]
  },
  {
   "cell_type": "code",
   "execution_count": 17,
   "id": "64e15e53",
   "metadata": {},
   "outputs": [
    {
     "data": {
      "text/html": [
       "<div>\n",
       "<style scoped>\n",
       "    .dataframe tbody tr th:only-of-type {\n",
       "        vertical-align: middle;\n",
       "    }\n",
       "\n",
       "    .dataframe tbody tr th {\n",
       "        vertical-align: top;\n",
       "    }\n",
       "\n",
       "    .dataframe thead th {\n",
       "        text-align: right;\n",
       "    }\n",
       "</style>\n",
       "<table border=\"1\" class=\"dataframe\">\n",
       "  <thead>\n",
       "    <tr style=\"text-align: right;\">\n",
       "      <th></th>\n",
       "      <th>col_a</th>\n",
       "      <th>col_b</th>\n",
       "      <th>col_c</th>\n",
       "      <th>col_d</th>\n",
       "      <th>state</th>\n",
       "    </tr>\n",
       "  </thead>\n",
       "  <tbody>\n",
       "    <tr>\n",
       "      <th>0</th>\n",
       "      <td>Houston,TX</td>\n",
       "      <td>$64K-$72K</td>\n",
       "      <td>A</td>\n",
       "      <td>1z</td>\n",
       "      <td>TX</td>\n",
       "    </tr>\n",
       "    <tr>\n",
       "      <th>1</th>\n",
       "      <td>Dallas,TX</td>\n",
       "      <td>$62K-$70K</td>\n",
       "      <td>B</td>\n",
       "      <td>1y</td>\n",
       "      <td>TX</td>\n",
       "    </tr>\n",
       "  </tbody>\n",
       "</table>\n",
       "</div>"
      ],
      "text/plain": [
       "        col_a      col_b col_c col_d state\n",
       "0  Houston,TX  $64K-$72K     A    1z    TX\n",
       "1   Dallas,TX  $62K-$70K     B    1y    TX"
      ]
     },
     "metadata": {},
     "output_type": "display_data"
    }
   ],
   "source": [
    "df_sample[df_sample['col_a'].str.endswith('X')]\n",
    "display(df_sample[df_sample['col_a'].str.endswith('X')])"
   ]
  },
  {
   "cell_type": "code",
   "execution_count": 18,
   "id": "8cdf0d57",
   "metadata": {},
   "outputs": [
    {
     "data": {
      "text/html": [
       "<div>\n",
       "<style scoped>\n",
       "    .dataframe tbody tr th:only-of-type {\n",
       "        vertical-align: middle;\n",
       "    }\n",
       "\n",
       "    .dataframe tbody tr th {\n",
       "        vertical-align: top;\n",
       "    }\n",
       "\n",
       "    .dataframe thead th {\n",
       "        text-align: right;\n",
       "    }\n",
       "</style>\n",
       "<table border=\"1\" class=\"dataframe\">\n",
       "  <thead>\n",
       "    <tr style=\"text-align: right;\">\n",
       "      <th></th>\n",
       "      <th>col_a</th>\n",
       "      <th>col_b</th>\n",
       "      <th>col_c</th>\n",
       "      <th>col_d</th>\n",
       "      <th>state</th>\n",
       "    </tr>\n",
       "  </thead>\n",
       "  <tbody>\n",
       "    <tr>\n",
       "      <th>0</th>\n",
       "      <td>Houston,TX</td>\n",
       "      <td>$64K-$72K</td>\n",
       "      <td>A</td>\n",
       "      <td>1z</td>\n",
       "      <td>TX</td>\n",
       "    </tr>\n",
       "    <tr>\n",
       "      <th>1</th>\n",
       "      <td>Dallas,TX</td>\n",
       "      <td>$62K-$70K</td>\n",
       "      <td>B</td>\n",
       "      <td>1y</td>\n",
       "      <td>TX</td>\n",
       "    </tr>\n",
       "    <tr>\n",
       "      <th>2</th>\n",
       "      <td>Chicago,IL</td>\n",
       "      <td>$69K-$76K</td>\n",
       "      <td>A</td>\n",
       "      <td>2z</td>\n",
       "      <td>IL</td>\n",
       "    </tr>\n",
       "    <tr>\n",
       "      <th>3</th>\n",
       "      <td>Phoenix,AZ</td>\n",
       "      <td>$62K-$72K</td>\n",
       "      <td>a</td>\n",
       "      <td>1z</td>\n",
       "      <td>AZ</td>\n",
       "    </tr>\n",
       "  </tbody>\n",
       "</table>\n",
       "</div>"
      ],
      "text/plain": [
       "        col_a      col_b col_c col_d state\n",
       "0  Houston,TX  $64K-$72K     A    1z    TX\n",
       "1   Dallas,TX  $62K-$70K     B    1y    TX\n",
       "2  Chicago,IL  $69K-$76K     A    2z    IL\n",
       "3  Phoenix,AZ  $62K-$72K     a    1z    AZ"
      ]
     },
     "metadata": {},
     "output_type": "display_data"
    }
   ],
   "source": [
    "display(df_sample[df_sample['col_b'].str.startswith('$6')])"
   ]
  },
  {
   "cell_type": "code",
   "execution_count": 20,
   "id": "feeee202",
   "metadata": {},
   "outputs": [
    {
     "name": "stdout",
     "output_type": "stream",
     "text": [
      "         col_a      col_b col_c col_d state\n",
      "0   Houston,TX  $64K-$72K     A    1z    TX\n",
      "1    Dallas,TX  $62K-$70K     B    1y    TX\n",
      "2   Chicago,IL  $69K-$76K     A    2z    IL\n",
      "3   Phoenix,AZ  $62K-$72K     a    1z    AZ\n",
      "4  SanDiego,CA  $71K-$78K     c    1y    CA\n",
      "0    72\n",
      "1    70\n",
      "2    76\n",
      "3    72\n",
      "4    78\n",
      "Name: col_b, dtype: object\n"
     ]
    }
   ],
   "source": [
    "print(df_sample)\n",
    "upper  = df_sample['col_b'].str[-3:-1]\n",
    "print(upper)"
   ]
  },
  {
   "cell_type": "code",
   "execution_count": 21,
   "id": "783ecac4",
   "metadata": {},
   "outputs": [
    {
     "data": {
      "text/html": [
       "<div>\n",
       "<style scoped>\n",
       "    .dataframe tbody tr th:only-of-type {\n",
       "        vertical-align: middle;\n",
       "    }\n",
       "\n",
       "    .dataframe tbody tr th {\n",
       "        vertical-align: top;\n",
       "    }\n",
       "\n",
       "    .dataframe thead th {\n",
       "        text-align: right;\n",
       "    }\n",
       "</style>\n",
       "<table border=\"1\" class=\"dataframe\">\n",
       "  <thead>\n",
       "    <tr style=\"text-align: right;\">\n",
       "      <th></th>\n",
       "      <th>col_a</th>\n",
       "      <th>col_b</th>\n",
       "      <th>col_c</th>\n",
       "      <th>col_d</th>\n",
       "      <th>state</th>\n",
       "      <th>new</th>\n",
       "    </tr>\n",
       "  </thead>\n",
       "  <tbody>\n",
       "    <tr>\n",
       "      <th>0</th>\n",
       "      <td>Houston,TX</td>\n",
       "      <td>$64K-$72K</td>\n",
       "      <td>A</td>\n",
       "      <td>1z</td>\n",
       "      <td>TX</td>\n",
       "      <td>A-1z</td>\n",
       "    </tr>\n",
       "    <tr>\n",
       "      <th>1</th>\n",
       "      <td>Dallas,TX</td>\n",
       "      <td>$62K-$70K</td>\n",
       "      <td>B</td>\n",
       "      <td>1y</td>\n",
       "      <td>TX</td>\n",
       "      <td>B-1y</td>\n",
       "    </tr>\n",
       "    <tr>\n",
       "      <th>2</th>\n",
       "      <td>Chicago,IL</td>\n",
       "      <td>$69K-$76K</td>\n",
       "      <td>A</td>\n",
       "      <td>2z</td>\n",
       "      <td>IL</td>\n",
       "      <td>A-2z</td>\n",
       "    </tr>\n",
       "    <tr>\n",
       "      <th>3</th>\n",
       "      <td>Phoenix,AZ</td>\n",
       "      <td>$62K-$72K</td>\n",
       "      <td>a</td>\n",
       "      <td>1z</td>\n",
       "      <td>AZ</td>\n",
       "      <td>a-1z</td>\n",
       "    </tr>\n",
       "    <tr>\n",
       "      <th>4</th>\n",
       "      <td>SanDiego,CA</td>\n",
       "      <td>$71K-$78K</td>\n",
       "      <td>c</td>\n",
       "      <td>1y</td>\n",
       "      <td>CA</td>\n",
       "      <td>c-1y</td>\n",
       "    </tr>\n",
       "  </tbody>\n",
       "</table>\n",
       "</div>"
      ],
      "text/plain": [
       "         col_a      col_b col_c col_d state   new\n",
       "0   Houston,TX  $64K-$72K     A    1z    TX  A-1z\n",
       "1    Dallas,TX  $62K-$70K     B    1y    TX  B-1y\n",
       "2   Chicago,IL  $69K-$76K     A    2z    IL  A-2z\n",
       "3   Phoenix,AZ  $62K-$72K     a    1z    AZ  a-1z\n",
       "4  SanDiego,CA  $71K-$78K     c    1y    CA  c-1y"
      ]
     },
     "execution_count": 21,
     "metadata": {},
     "output_type": "execute_result"
    }
   ],
   "source": [
    "df_sample['new']=df_sample['col_c'].str.cat(df_sample['col_d'], sep='-')\n",
    "df_sample"
   ]
  },
  {
   "cell_type": "code",
   "execution_count": null,
   "id": "f136a4dc",
   "metadata": {},
   "outputs": [],
   "source": []
  }
 ],
 "metadata": {
  "kernelspec": {
   "display_name": "Python 3 (ipykernel)",
   "language": "python",
   "name": "python3"
  },
  "language_info": {
   "codemirror_mode": {
    "name": "ipython",
    "version": 3
   },
   "file_extension": ".py",
   "mimetype": "text/x-python",
   "name": "python",
   "nbconvert_exporter": "python",
   "pygments_lexer": "ipython3",
   "version": "3.9.7"
  }
 },
 "nbformat": 4,
 "nbformat_minor": 5
}
