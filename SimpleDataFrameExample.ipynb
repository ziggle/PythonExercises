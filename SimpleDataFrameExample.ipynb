{
 "cells": [
  {
   "cell_type": "markdown",
   "metadata": {},
   "source": [
    "https://medium.com/@hfahmida/data-structures-in-pandas-aeb7cf190008"
   ]
  },
  {
   "cell_type": "code",
   "execution_count": 1,
   "metadata": {},
   "outputs": [
    {
     "name": "stdout",
     "output_type": "stream",
     "text": [
      "0    10\n",
      "1    20\n",
      "2    30\n",
      "3    40\n",
      "4    50\n",
      "dtype: int64\n"
     ]
    }
   ],
   "source": [
    "import pandas as pd\n",
    "data = [10, 20, 30, 40, 50]\n",
    "s = pd.Series(data)\n",
    "print(s)"
   ]
  },
  {
   "cell_type": "code",
   "execution_count": 2,
   "metadata": {},
   "outputs": [
    {
     "name": "stdout",
     "output_type": "stream",
     "text": [
      "      Name  Age  Gender\n",
      "0     John   25    Male\n",
      "1     Mike   30    Male\n",
      "2    Sarah   27  Female\n",
      "3  Jasmine   29  Female\n"
     ]
    }
   ],
   "source": [
    "data = {'Name': ['John', 'Mike', 'Sarah', 'Jasmine'],\n",
    "        'Age': [25, 30, 27, 29],\n",
    "        'Gender': ['Male', 'Male', 'Female', 'Female']}\n",
    "df = pd.DataFrame(data)\n",
    "print(df)"
   ]
  },
  {
   "cell_type": "code",
   "execution_count": 3,
   "metadata": {},
   "outputs": [
    {
     "name": "stdout",
     "output_type": "stream",
     "text": [
      "         Name  Age  Gender\n",
      "row1     John   25    Male\n",
      "row2     Mike   30    Male\n",
      "row3    Sarah   27  Female\n",
      "row4  Jasmine   29  Female\n"
     ]
    }
   ],
   "source": [
    "data = {'Name': ['John', 'Mike', 'Sarah', 'Jasmine'],\n",
    "        'Age': [25, 30, 27, 29],\n",
    "        'Gender': ['Male', 'Male', 'Female', 'Female']}\n",
    "df = pd.DataFrame(data, index=['row1', 'row2', 'row3', 'row4'])\n",
    "print(df)"
   ]
  },
  {
   "cell_type": "code",
   "execution_count": null,
   "metadata": {},
   "outputs": [],
   "source": []
  }
 ],
 "metadata": {
  "kernelspec": {
   "display_name": "Python 3",
   "language": "python",
   "name": "python3"
  },
  "language_info": {
   "codemirror_mode": {
    "name": "ipython",
    "version": 3
   },
   "file_extension": ".py",
   "mimetype": "text/x-python",
   "name": "python",
   "nbconvert_exporter": "python",
   "pygments_lexer": "ipython3",
   "version": "3.8.5"
  }
 },
 "nbformat": 4,
 "nbformat_minor": 4
}
