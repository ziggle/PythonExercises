{
 "cells": [
  {
   "cell_type": "markdown",
   "metadata": {},
   "source": [
    "https://medium.com/@gozdebarin/python-dictionaries-a-comprehensive-guide-with-code-examples-829fddc5d9b1"
   ]
  },
  {
   "cell_type": "code",
   "execution_count": 1,
   "metadata": {},
   "outputs": [],
   "source": [
    "# Creating a dictionary\n",
    "student = {'name': 'John', 'age': 20, 'major': 'Computer Science'}"
   ]
  },
  {
   "cell_type": "code",
   "execution_count": 2,
   "metadata": {},
   "outputs": [
    {
     "name": "stdout",
     "output_type": "stream",
     "text": [
      "John\n"
     ]
    }
   ],
   "source": [
    "# Accessing values\n",
    "print(student['name'])  # Output: 'John'"
   ]
  },
  {
   "cell_type": "code",
   "execution_count": 3,
   "metadata": {},
   "outputs": [
    {
     "name": "stdout",
     "output_type": "stream",
     "text": [
      "{'name': 'John', 'age': 21, 'major': 'Computer Science'}\n"
     ]
    }
   ],
   "source": [
    "# Modifying values\n",
    "student['age'] = 21\n",
    "print(student)  # Output: {'name': 'John', 'age': 21, 'major': 'Computer Science'}"
   ]
  },
  {
   "cell_type": "code",
   "execution_count": 4,
   "metadata": {},
   "outputs": [
    {
     "name": "stdout",
     "output_type": "stream",
     "text": [
      "{'name': 'John', 'age': 21, 'major': 'Computer Science', 'university': 'ABC University'}\n",
      "{'name': 'John', 'age': 21, 'university': 'ABC University'}\n"
     ]
    }
   ],
   "source": [
    "# Adding new key-value pairs\n",
    "student['university'] = 'ABC University'\n",
    "print(student)  # Output: {'name': 'John', 'age': 21, 'major': 'Computer Science', 'university': 'ABC University'}\n",
    "\n",
    "\n",
    "# Removing key-value pairs\n",
    "del student['major']\n",
    "print(student)  # Output: {'name': 'John', 'age': 21, 'university': 'ABC University'}"
   ]
  },
  {
   "cell_type": "code",
   "execution_count": 5,
   "metadata": {},
   "outputs": [
    {
     "name": "stdout",
     "output_type": "stream",
     "text": [
      "dict_keys(['name', 'age', 'university'])\n",
      "dict_values(['John', 21, 'ABC University'])\n",
      "dict_items([('name', 'John'), ('age', 21), ('university', 'ABC University')])\n"
     ]
    }
   ],
   "source": [
    "print(student.keys())  # Output: ['name', 'age', 'university']\n",
    "print(student.values())  # Output: ['John', 21, 'ABC University']\n",
    "print(student.items())  # Output: [('name', 'John'), ('age', 21), ('university', 'ABC University')]"
   ]
  },
  {
   "cell_type": "code",
   "execution_count": 6,
   "metadata": {},
   "outputs": [
    {
     "name": "stdout",
     "output_type": "stream",
     "text": [
      "name: John\n",
      "age: 21\n",
      "university: ABC University\n"
     ]
    }
   ],
   "source": [
    "for key, value in student.items():\n",
    "    print(f'{key}: {value}')"
   ]
  },
  {
   "cell_type": "code",
   "execution_count": 8,
   "metadata": {},
   "outputs": [
    {
     "name": "stdout",
     "output_type": "stream",
     "text": [
      "{1: 1, 2: 4, 3: 9, 4: 16, 5: 25}\n"
     ]
    }
   ],
   "source": [
    "squares = {x: x**2 for x in range(1, 6)}\n",
    "print(squares)"
   ]
  }
 ],
 "metadata": {
  "kernelspec": {
   "display_name": "Python 3",
   "language": "python",
   "name": "python3"
  },
  "language_info": {
   "codemirror_mode": {
    "name": "ipython",
    "version": 3
   },
   "file_extension": ".py",
   "mimetype": "text/x-python",
   "name": "python",
   "nbconvert_exporter": "python",
   "pygments_lexer": "ipython3",
   "version": "3.8.5"
  }
 },
 "nbformat": 4,
 "nbformat_minor": 4
}
