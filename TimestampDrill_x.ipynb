{
 "cells": [
  {
   "cell_type": "markdown",
   "id": "8de9d26e",
   "metadata": {},
   "source": [
    "https://medium.com/pythoneers/7-most-usable-timestamp-methods-in-pandas-b375dcb5564"
   ]
  },
  {
   "cell_type": "code",
   "execution_count": 2,
   "id": "0329a5d0",
   "metadata": {},
   "outputs": [
    {
     "name": "stderr",
     "output_type": "stream",
     "text": [
      "C:\\Users\\biegertm\\AppData\\Roaming\\Python\\Python39\\site-packages\\pandas\\core\\computation\\expressions.py:21: UserWarning: Pandas requires version '2.8.0' or newer of 'numexpr' (version '2.7.3' currently installed).\n",
      "  from pandas.core.computation.check import NUMEXPR_INSTALLED\n",
      "C:\\Users\\biegertm\\AppData\\Roaming\\Python\\Python39\\site-packages\\pandas\\core\\arrays\\masked.py:62: UserWarning: Pandas requires version '1.3.4' or newer of 'bottleneck' (version '1.3.2' currently installed).\n",
      "  from pandas.core import (\n"
     ]
    },
    {
     "data": {
      "text/plain": [
       "'Tuesday'"
      ]
     },
     "execution_count": 2,
     "metadata": {},
     "output_type": "execute_result"
    }
   ],
   "source": [
    "import pandas as pd\n",
    "day = pd.Timestamp('2021/1/5')\n",
    "day.day_name()"
   ]
  },
  {
   "cell_type": "code",
   "execution_count": 5,
   "id": "88cfb6df",
   "metadata": {},
   "outputs": [
    {
     "data": {
      "text/plain": [
       "'Friday'"
      ]
     },
     "execution_count": 5,
     "metadata": {},
     "output_type": "execute_result"
    }
   ],
   "source": [
    "import pandas as pd\n",
    "day = pd.Timestamp('2021/1/5')\n",
    "day1 = day + pd.Timedelta('3 day')\n",
    "day1.day_name()"
   ]
  },
  {
   "cell_type": "code",
   "execution_count": 6,
   "id": "bb34859c",
   "metadata": {},
   "outputs": [
    {
     "data": {
      "text/plain": [
       "'Monday'"
      ]
     },
     "execution_count": 6,
     "metadata": {},
     "output_type": "execute_result"
    }
   ],
   "source": [
    "# BDay represents business day\n",
    "day2 = day1 + pd.offsets.BDay()\n",
    "day2.day_name()"
   ]
  },
  {
   "cell_type": "code",
   "execution_count": 9,
   "id": "8144afdd",
   "metadata": {},
   "outputs": [
    {
     "data": {
      "text/plain": [
       "Timestamp('2021-01-05 00:00:00+0000', tz='UTC')"
      ]
     },
     "execution_count": 9,
     "metadata": {},
     "output_type": "execute_result"
    }
   ],
   "source": [
    "import pandas as pd\n",
    "import numpy as np\n",
    "dat_ran = pd.Timestamp('2021/1/5')\n",
    "from datetime import datetime\n",
    "dat_ran = dat_ran.tz_localize('UTC')\n",
    "dat_ran"
   ]
  },
  {
   "cell_type": "code",
   "execution_count": 10,
   "id": "d980cd87",
   "metadata": {},
   "outputs": [
    {
     "data": {
      "text/plain": [
       "Timestamp('2021-01-04 16:00:00-0800', tz='US/Pacific')"
      ]
     },
     "execution_count": 10,
     "metadata": {},
     "output_type": "execute_result"
    }
   ],
   "source": [
    "dat_ran.tz_convert('US/Pacific')"
   ]
  },
  {
   "cell_type": "code",
   "execution_count": 11,
   "id": "4a2e668a",
   "metadata": {},
   "outputs": [
    {
     "name": "stdout",
     "output_type": "stream",
     "text": [
      "<class 'pandas._libs.tslibs.timestamps.Timestamp'>\n"
     ]
    }
   ],
   "source": [
    "import pandas as pd\n",
    "import numpy as np\n",
    "from datetime import datetime\n",
    "dat_ran = pd.date_range(start = '1/1/2021', end = '1/5/2021', freq = 'Min')\n",
    "print(type(dat_ran[110]))"
   ]
  },
  {
   "cell_type": "code",
   "execution_count": 12,
   "id": "7fa5cd87",
   "metadata": {},
   "outputs": [
    {
     "name": "stdout",
     "output_type": "stream",
     "text": [
      "DatetimeIndex(['2021-01-01 00:00:00', '2021-01-01 00:01:00',\n",
      "               '2021-01-01 00:02:00', '2021-01-01 00:03:00',\n",
      "               '2021-01-01 00:04:00', '2021-01-01 00:05:00',\n",
      "               '2021-01-01 00:06:00', '2021-01-01 00:07:00',\n",
      "               '2021-01-01 00:08:00', '2021-01-01 00:09:00',\n",
      "               ...\n",
      "               '2021-01-04 23:51:00', '2021-01-04 23:52:00',\n",
      "               '2021-01-04 23:53:00', '2021-01-04 23:54:00',\n",
      "               '2021-01-04 23:55:00', '2021-01-04 23:56:00',\n",
      "               '2021-01-04 23:57:00', '2021-01-04 23:58:00',\n",
      "               '2021-01-04 23:59:00', '2021-01-05 00:00:00'],\n",
      "              dtype='datetime64[ns]', length=5761, freq='T')\n"
     ]
    }
   ],
   "source": [
    "import pandas as pd\n",
    "import numpy as np\n",
    "from datetime import datetime\n",
    "dat_ran = pd.date_range(start = '1/1/2021', end = '1/5/2021', freq = 'Min')\n",
    "print(dat_ran)"
   ]
  },
  {
   "cell_type": "code",
   "execution_count": 15,
   "id": "c73c81a2",
   "metadata": {},
   "outputs": [
    {
     "name": "stdout",
     "output_type": "stream",
     "text": [
      "                 date  data\n",
      "0 2019-01-01 00:00:00    75\n",
      "1 2019-01-01 00:01:00    28\n",
      "2 2019-01-01 00:02:00    61\n",
      "3 2019-01-01 00:03:00    44\n",
      "4 2019-01-01 00:04:00    48\n"
     ]
    }
   ],
   "source": [
    "import pandas as pd\n",
    "from datetime import datetime\n",
    "import numpy as np\n",
    "dat_ran = pd.date_range(start ='1/1/2019', end ='1/08/2019',freq ='Min')\n",
    "df = pd.DataFrame(dat_ran, columns =['date'])\n",
    "df['data'] = np.random.randint(0, 100, size =(len(dat_ran)))\n",
    "print(df.head(5))"
   ]
  },
  {
   "cell_type": "code",
   "execution_count": 16,
   "id": "24758075",
   "metadata": {},
   "outputs": [
    {
     "name": "stdout",
     "output_type": "stream",
     "text": [
      "['2019-01-01 00:01:00', '2019-01-01 00:02:00', '2019-01-01 00:03:00', '2019-01-01 00:04:00']\n"
     ]
    }
   ],
   "source": [
    "import pandas as pd\n",
    "from datetime import datetime\n",
    "import numpy as np\n",
    "dat_ran = pd.date_range(start ='1/1/2019', end ='1/08/2019', freq ='Min')\n",
    "df = pd.DataFrame(dat_ran, columns =['date'])\n",
    "df['data'] = np.random.randint(0, 100, size =(len(dat_ran)))\n",
    "string_data = [str(x) for x in dat_ran]\n",
    "print(string_data[1:5])"
   ]
  }
 ],
 "metadata": {
  "kernelspec": {
   "display_name": "Python 3 (ipykernel)",
   "language": "python",
   "name": "python3"
  },
  "language_info": {
   "codemirror_mode": {
    "name": "ipython",
    "version": 3
   },
   "file_extension": ".py",
   "mimetype": "text/x-python",
   "name": "python",
   "nbconvert_exporter": "python",
   "pygments_lexer": "ipython3",
   "version": "3.9.7"
  }
 },
 "nbformat": 4,
 "nbformat_minor": 5
}
