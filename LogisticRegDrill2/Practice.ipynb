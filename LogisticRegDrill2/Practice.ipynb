{
 "cells": [
  {
   "cell_type": "markdown",
   "metadata": {},
   "source": [
    "https://blog.gopenai.com/a-step-by-step-tutorial-to-linear-classification-using-logistic-regression-in-python-techniques-368c5c3426ac"
   ]
  },
  {
   "cell_type": "markdown",
   "metadata": {},
   "source": [
    "1. What is logistic regression and how does it work in Python?\n",
    "\n",
    "Logistic regression is similar to linear regression in that there is a linear model involved, but it is in the argument of an exponential. This allows it to fit to an S-curve. There is a LogisticRegression object in Python that can be used to perform the fit."
   ]
  },
  {
   "cell_type": "markdown",
   "metadata": {},
   "source": [
    "2. How to prepare data for logistic regression in Python?\n",
    "\n",
    "Good article on the topic.\n",
    "https://medium.com/@edwardnathanwibisono/preparing-your-data-before-modeling-with-logistic-regression-classifier-35146449a6bd#:~:text=Preparing%20your%20Data%20before%20Modeling%20with%20Logistic%20Regression,4.%20There%20is%20No%20Multi-Collinearity%20between%20Features%20\n",
    "\n",
    "The data must have the following characteristics:\n",
    "1. The Target is Binary As Logistic Regression is a classification algorithm, it is a mandatory to have the Target / Response variable value in Binary. For example: Yes or No Churn or Not Churn ...\n",
    "2. There are No Outliers Outliers tend to influence the model performance, in a negative way. ...\n",
    "3. The Features are Independent ...\n",
    "4. There is No Multi-Collinearity between Features ...\n",
    "\n",
    "\n",
    "Generally, we create a train-test split. This allows us to use the scikit-learn objects."
   ]
  },
  {
   "cell_type": "markdown",
   "metadata": {},
   "source": [
    "3. How to build a logistic regression model using `scikit-learn`?\n",
    "\n",
    "It is all about the object.\n",
    "\n",
    "from sklearn.linear_model import LogisticRegression\n",
    "logisticRegr = LogisticRegression()\n",
    "logisticRegr.fit(x_train, y_train)\n",
    "logisticRegr.predict(x_test[0].reshape(1,-1))"
   ]
  },
  {
   "cell_type": "markdown",
   "metadata": {},
   "source": [
    "4. How to evaluate the logistic regression model’s performance in Python?\n",
    "\n",
    "https://www.tutorialspoint.com/how-to-evaluate-a-logistic-regression-model#:~:text=A%20logistic%20regression%20model's%20performance%20may%20be%20evaluated%20using%20a,information%20criteria%2C%20and%20sensitivity%20analysis.\n",
    "\n",
    "You can still make residual plots and check the cross-validation results to ensure over-fitting is not occurring. You can then look at confusion matrix and ROC curve results.\n",
    "\n",
    "Calibration curves are mentioned. I need to understand those better.\n",
    "\n",
    "https://towardsdatascience.com/logistic-regression-using-python-sklearn-numpy-mnist-handwriting-recognition-matplotlib-a6b31e2b166a\n",
    "\n"
   ]
  },
  {
   "cell_type": "markdown",
   "metadata": {},
   "source": [
    "5. How to plot the ROC curve in Python for logistic regression?\n",
    "\n",
    "In Sci-kit learn,\n",
    "\n",
    "from sklearn.metrics import roc_curve\n",
    "import matplotlib.pyplot as plt\n",
    "\n",
    "probs = model.predict_proba(X_test)\n",
    "probs = probs[:, 1]\n",
    "fpr, tpr, thresholds = roc_curve(y_test, probs)\n",
    "plt.plot(fpr, tpr)\n",
    "plt.show()"
   ]
  }
 ],
 "metadata": {
  "kernelspec": {
   "display_name": "Python 3",
   "language": "python",
   "name": "python3"
  },
  "language_info": {
   "codemirror_mode": {
    "name": "ipython",
    "version": 3
   },
   "file_extension": ".py",
   "mimetype": "text/x-python",
   "name": "python",
   "nbconvert_exporter": "python",
   "pygments_lexer": "ipython3",
   "version": "3.11.4"
  },
  "orig_nbformat": 4
 },
 "nbformat": 4,
 "nbformat_minor": 2
}
