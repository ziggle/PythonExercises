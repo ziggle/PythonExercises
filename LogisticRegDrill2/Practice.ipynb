{
 "cells": [
  {
   "cell_type": "markdown",
   "metadata": {},
   "source": [
    "https://blog.gopenai.com/a-step-by-step-tutorial-to-linear-classification-using-logistic-regression-in-python-techniques-368c5c3426ac"
   ]
  },
  {
   "cell_type": "markdown",
   "metadata": {},
   "source": [
    "1. What is logistic regression and how does it work in Python?"
   ]
  }
 ],
 "metadata": {
  "language_info": {
   "name": "python"
  },
  "orig_nbformat": 4
 },
 "nbformat": 4,
 "nbformat_minor": 2
}
