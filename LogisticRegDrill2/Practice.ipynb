{
 "cells": [
  {
   "cell_type": "markdown",
   "metadata": {},
   "source": [
    "https://blog.gopenai.com/a-step-by-step-tutorial-to-linear-classification-using-logistic-regression-in-python-techniques-368c5c3426ac"
   ]
  },
  {
   "cell_type": "markdown",
   "metadata": {},
   "source": [
    "1. What is logistic regression and how does it work in Python?\n",
    "\n",
    "Logistic regression is similar to linear regression in that there is a linear model involved, but it is in the argument of an exponential. This allows it to fit to an S-curve. There is a LogisticRegression object in Python that can be used to perform the fit."
   ]
  }
 ],
 "metadata": {
  "language_info": {
   "name": "python"
  },
  "orig_nbformat": 4
 },
 "nbformat": 4,
 "nbformat_minor": 2
}
