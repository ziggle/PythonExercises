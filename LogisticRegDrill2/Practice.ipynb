{
 "cells": [
  {
   "cell_type": "markdown",
   "metadata": {},
   "source": [
    "https://blog.gopenai.com/a-step-by-step-tutorial-to-linear-classification-using-logistic-regression-in-python-techniques-368c5c3426ac"
   ]
  },
  {
   "cell_type": "markdown",
   "metadata": {},
   "source": [
    "1. What is logistic regression and how does it work in Python?\n",
    "\n",
    "Logistic regression is similar to linear regression in that there is a linear model involved, but it is in the argument of an exponential. This allows it to fit to an S-curve. There is a LogisticRegression object in Python that can be used to perform the fit."
   ]
  },
  {
   "cell_type": "markdown",
   "metadata": {},
   "source": [
    "2. How to prepare data for logistic regression in Python?\n",
    "\n",
    "Good article on the topic.\n",
    "https://medium.com/@edwardnathanwibisono/preparing-your-data-before-modeling-with-logistic-regression-classifier-35146449a6bd#:~:text=Preparing%20your%20Data%20before%20Modeling%20with%20Logistic%20Regression,4.%20There%20is%20No%20Multi-Collinearity%20between%20Features%20\n",
    "\n",
    "The data must have the following characteristics:\n",
    "1. The Target is Binary As Logistic Regression is a classification algorithm, it is a mandatory to have the Target / Response variable value in Binary. For example: Yes or No Churn or Not Churn ...\n",
    "2. There are No Outliers Outliers tend to influence the model performance, in a negative way. ...\n",
    "3. The Features are Independent ...\n",
    "4. There is No Multi-Collinearity between Features ...\n",
    "\n",
    "\n",
    "Generally, we create a train-test split. This allows us to use the scikit-learn objects."
   ]
  },
  {
   "cell_type": "markdown",
   "metadata": {},
   "source": [
    "3. How to build a logistic regression model using `scikit-learn`?\n",
    "\n",
    "It is all about the object.\n",
    "\n",
    "from sklearn.linear_model import LogisticRegression\n",
    "logisticRegr = LogisticRegression()\n",
    "logisticRegr.fit(x_train, y_train)\n",
    "logisticRegr.predict(x_test[0].reshape(1,-1))"
   ]
  }
 ],
 "metadata": {
  "language_info": {
   "name": "python"
  },
  "orig_nbformat": 4
 },
 "nbformat": 4,
 "nbformat_minor": 2
}
