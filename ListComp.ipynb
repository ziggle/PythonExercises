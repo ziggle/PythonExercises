{
 "cells": [
  {
   "cell_type": "markdown",
   "metadata": {},
   "source": [
    "https://levelup.gitconnected.com/9-levels-of-list-comprehension-in-python-8ccd0bc8ccc6"
   ]
  },
  {
   "cell_type": "code",
   "execution_count": 11,
   "metadata": {},
   "outputs": [
    {
     "name": "stdout",
     "output_type": "stream",
     "text": [
      "[1, 4, 9, 16, 25]\n"
     ]
    }
   ],
   "source": [
    "lis = [1, 2, 3, 4, 5]\n",
    "\n",
    "new = [n**2 for n in lis]\n",
    "print(new)\n",
    "# new = [1, 4, 9, 16, 25]"
   ]
  },
  {
   "cell_type": "code",
   "execution_count": 12,
   "metadata": {},
   "outputs": [
    {
     "name": "stdout",
     "output_type": "stream",
     "text": [
      "[4, 16]\n"
     ]
    }
   ],
   "source": [
    "lis = [1, 2, 3, 4, 5]\n",
    "\n",
    "new = [n**2 for n in lis if n%2==0]\n",
    "print(new)\n",
    "# new = [4, 16]"
   ]
  },
  {
   "cell_type": "code",
   "execution_count": 13,
   "metadata": {},
   "outputs": [
    {
     "name": "stdout",
     "output_type": "stream",
     "text": [
      "[1, 4, 16]\n"
     ]
    }
   ],
   "source": [
    "lis = [1, 2, 3, 4, 5]\n",
    "\n",
    "new = [n**2 for n in lis if (n%2==0) or (n==1)]\n",
    "print(new)\n",
    "\n",
    "# [1, 4, 16]"
   ]
  },
  {
   "cell_type": "code",
   "execution_count": 14,
   "metadata": {},
   "outputs": [
    {
     "name": "stdout",
     "output_type": "stream",
     "text": [
      "[1, 4, 16]\n"
     ]
    }
   ],
   "source": [
    "lis = [1, 2, 3, 4, 5]\n",
    "\n",
    "def transform(n):\n",
    "    return n**2\n",
    "\n",
    "def valid(n):\n",
    "    return n%2==0 or n==1\n",
    "\n",
    "new = [transform(n) for n in lis if valid(n)]\n",
    "print(new)\n",
    "# [1, 4, 16]"
   ]
  },
  {
   "cell_type": "code",
   "execution_count": 15,
   "metadata": {},
   "outputs": [
    {
     "name": "stdout",
     "output_type": "stream",
     "text": [
      "['odd', 'even', 'odd', 'even', 'odd']\n"
     ]
    }
   ],
   "source": [
    "lis = [1, 2, 3, 4, 5]\n",
    "\n",
    "new = [('odd' if n%2==1 else 'even') for n in lis]\n",
    "print(new)\n",
    "\n",
    "# ['odd', 'even', 'odd', 'even', 'odd']"
   ]
  },
  {
   "cell_type": "code",
   "execution_count": 16,
   "metadata": {},
   "outputs": [
    {
     "name": "stdout",
     "output_type": "stream",
     "text": [
      "[(0, 'apple'), (1, 'orange'), (2, 'pear')]\n"
     ]
    }
   ],
   "source": [
    "lis = ['apple', 'orange', 'pear']\n",
    "\n",
    "new = [(i,fruit) for i,fruit in enumerate(lis)]\n",
    "print(new)\n",
    "\n",
    "# [(0, 'apple'), (1, 'orange'), (2, 'pear')]"
   ]
  },
  {
   "cell_type": "code",
   "execution_count": 18,
   "metadata": {},
   "outputs": [
    {
     "name": "stdout",
     "output_type": "stream",
     "text": [
      "[('apple', 4), ('orange', 5), ('pear', 6)]\n",
      "[('a', 4, '!'), ('b', 5, '@'), ('c', 6, '#')]\n"
     ]
    }
   ],
   "source": [
    "fruits = ['apple', 'orange', 'pear']\n",
    "prices = [4, 5, 6]\n",
    "\n",
    "new = [(fruit,price) for fruit,price in zip(fruits,prices)]\n",
    "print(new)\n",
    "# [('apple', 4), ('orange', 5), ('pear', 6)]\n",
    "letters = ['a', 'b', 'c']\n",
    "numbers = [4, 5, 6]\n",
    "symbols = ['!', '@', '#']\n",
    "\n",
    "new = [(l,n,s) for l,n,s in zip(letters, numbers, symbols)]\n",
    "print(new)\n",
    "# [('a', 4, '!'), ('b', 5, '@'), ('c', 6, '#')]"
   ]
  },
  {
   "cell_type": "code",
   "execution_count": null,
   "metadata": {},
   "outputs": [],
   "source": [
    "letters = ['a', 'b', 'c']\n",
    "numbers = [4, 5]\n",
    "\n",
    "new = [l+str(n) for l in letters for n in numbers]\n",
    "print(new)\n",
    "# ['a4', 'a5', 'b4', 'b5', 'c4', 'c5']\n",
    "# the above code is equivalent to\n",
    "\n",
    "letters = ['a', 'b', 'c']\n",
    "numbers = [4, 5]\n",
    "\n",
    "new = []\n",
    "for l in letters:\n",
    "    for n in numbers:\n",
    "        new.append(l+str(n))\n",
    "\n",
    "# ['a4', 'a5', 'b4', 'b5', 'c4', 'c5']"
   ]
  }
 ],
 "metadata": {
  "kernelspec": {
   "display_name": "Python 3",
   "language": "python",
   "name": "python3"
  },
  "language_info": {
   "codemirror_mode": {
    "name": "ipython",
    "version": 3
   },
   "file_extension": ".py",
   "mimetype": "text/x-python",
   "name": "python",
   "nbconvert_exporter": "python",
   "pygments_lexer": "ipython3",
   "version": "3.8.5"
  }
 },
 "nbformat": 4,
 "nbformat_minor": 4
}
