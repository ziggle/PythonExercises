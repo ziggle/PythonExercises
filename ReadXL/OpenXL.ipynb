{
 "cells": [
  {
   "cell_type": "markdown",
   "id": "74ccfa05",
   "metadata": {},
   "source": [
    "https://levelup.gitconnected.com/using-python-to-read-excel-files-in-6-lines-of-code-be5a859a88e5"
   ]
  },
  {
   "cell_type": "code",
   "execution_count": 1,
   "id": "dd7a3f56",
   "metadata": {},
   "outputs": [
    {
     "name": "stdout",
     "output_type": "stream",
     "text": [
      "Requirement already satisfied: openpyxl in c:\\programdata\\anaconda3-1\\lib\\site-packages (3.0.9)\n",
      "Requirement already satisfied: et-xmlfile in c:\\programdata\\anaconda3-1\\lib\\site-packages (from openpyxl) (1.1.0)\n"
     ]
    }
   ],
   "source": [
    "#!pip install openpyxl"
   ]
  },
  {
   "cell_type": "code",
   "execution_count": 4,
   "id": "f4646bab",
   "metadata": {},
   "outputs": [],
   "source": [
    "from openpyxl import load_workbook\n",
    "\n",
    "# load path to excel file\n",
    "workbook = load_workbook('Test.xlsx')"
   ]
  },
  {
   "cell_type": "code",
   "execution_count": 5,
   "id": "a02425a7",
   "metadata": {},
   "outputs": [
    {
     "data": {
      "text/plain": [
       "<openpyxl.workbook.workbook.Workbook at 0x26c46c5bf70>"
      ]
     },
     "execution_count": 5,
     "metadata": {},
     "output_type": "execute_result"
    }
   ],
   "source": [
    "workbook\n"
   ]
  },
  {
   "cell_type": "code",
   "execution_count": 7,
   "id": "124dc899",
   "metadata": {},
   "outputs": [],
   "source": [
    "# select your excel sheet\n",
    "sheet1 = workbook['Mark'] # Uses the actual name, not the underlying name"
   ]
  },
  {
   "cell_type": "code",
   "execution_count": 8,
   "id": "52069f0a",
   "metadata": {},
   "outputs": [
    {
     "name": "stdout",
     "output_type": "stream",
     "text": [
      "<Cell 'Mark'.A1> Name\n",
      "<Cell 'Mark'.B1> Value\n",
      "<Cell 'Mark'.A2> 1\n",
      "<Cell 'Mark'.B2> =1*A2\n",
      "<Cell 'Mark'.A3> 2\n",
      "<Cell 'Mark'.B3> =1*A3\n",
      "<Cell 'Mark'.A4> 3\n",
      "<Cell 'Mark'.B4> =1*A4\n"
     ]
    }
   ],
   "source": [
    "# iterating through every cell\n",
    "for row in sheet1:\n",
    "    for cell in row:\n",
    "        print(cell, cell.value) # Note that formulas are shown\n"
   ]
  }
 ],
 "metadata": {
  "kernelspec": {
   "display_name": "Python 3 (ipykernel)",
   "language": "python",
   "name": "python3"
  },
  "language_info": {
   "codemirror_mode": {
    "name": "ipython",
    "version": 3
   },
   "file_extension": ".py",
   "mimetype": "text/x-python",
   "name": "python",
   "nbconvert_exporter": "python",
   "pygments_lexer": "ipython3",
   "version": "3.9.7"
  }
 },
 "nbformat": 4,
 "nbformat_minor": 5
}
