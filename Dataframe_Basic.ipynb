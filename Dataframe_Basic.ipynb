{
 "cells": [
  {
   "cell_type": "markdown",
   "id": "e63b9a46",
   "metadata": {},
   "source": [
    "https://awstip.com/selecting-rows-based-on-column-values-in-pandas-38cadca87416"
   ]
  },
  {
   "cell_type": "code",
   "execution_count": 1,
   "id": "32faee06",
   "metadata": {},
   "outputs": [],
   "source": [
    "import pandas as pd"
   ]
  },
  {
   "cell_type": "code",
   "execution_count": 2,
   "id": "fd8942c3",
   "metadata": {},
   "outputs": [],
   "source": [
    "data = {\n",
    "    'Name': ['Alice', 'Bob', 'Charlie', 'David', 'Emma'],\n",
    "    'Age': [28, 24, 35, 22, 29],\n",
    "    'Department': ['HR', 'IT', 'Finance', 'IT', 'Marketing'],\n",
    "    'Salary': [55000, 60000, 75000, 50000, 80000]\n",
    "}\n",
    "df = pd.DataFrame(data)"
   ]
  },
  {
   "cell_type": "code",
   "execution_count": 4,
   "id": "d3b09e85",
   "metadata": {},
   "outputs": [
    {
     "name": "stdout",
     "output_type": "stream",
     "text": [
      "      Name  Age Department  Salary\n",
      "2  Charlie   35    Finance   75000\n"
     ]
    }
   ],
   "source": [
    "age_condition = df['Age'] >= 30\n",
    "result = df[age_condition]\n",
    "print(result)"
   ]
  },
  {
   "cell_type": "code",
   "execution_count": 7,
   "id": "43a5cdcd",
   "metadata": {},
   "outputs": [],
   "source": [
    "condition1 = df['Department'] == 'IT'\n",
    "condition2 = df['Salary'] >= 60000\n",
    "result=df[condition1&condition2]"
   ]
  },
  {
   "cell_type": "code",
   "execution_count": 8,
   "id": "2dfbaacf",
   "metadata": {},
   "outputs": [
    {
     "name": "stdout",
     "output_type": "stream",
     "text": [
      "  Name  Age Department  Salary\n",
      "1  Bob   24         IT   60000\n"
     ]
    }
   ],
   "source": [
    "print(result)"
   ]
  },
  {
   "cell_type": "code",
   "execution_count": 9,
   "id": "e3299e49",
   "metadata": {},
   "outputs": [
    {
     "name": "stdout",
     "output_type": "stream",
     "text": [
      "      Name  Age Department  Salary\n",
      "2  Charlie   35    Finance   75000\n",
      "3    David   22         IT   50000\n"
     ]
    }
   ],
   "source": [
    "condition3 = df['Department'] == 'Finance'\n",
    "condition4 = df['Salary'] < 55000\n",
    "result = df[condition3 | condition4]\n",
    "print(result)"
   ]
  },
  {
   "cell_type": "code",
   "execution_count": 10,
   "id": "95a55a84",
   "metadata": {},
   "outputs": [
    {
     "name": "stdout",
     "output_type": "stream",
     "text": [
      "      Name  Age Department  Salary\n",
      "0    Alice   28         HR   55000\n",
      "2  Charlie   35    Finance   75000\n",
      "3    David   22         IT   50000\n",
      "4     Emma   29  Marketing   80000\n"
     ]
    }
   ],
   "source": [
    "name_condition = df['Name'].str.contains('a', case=False)\n",
    "result = df[name_condition]\n",
    "print(result)"
   ]
  },
  {
   "cell_type": "code",
   "execution_count": 11,
   "id": "deafbe29",
   "metadata": {},
   "outputs": [
    {
     "name": "stdout",
     "output_type": "stream",
     "text": [
      "   Name  Age Department  Salary\n",
      "1   Bob   24         IT   60000\n",
      "4  Emma   29  Marketing   80000\n"
     ]
    }
   ],
   "source": [
    "age_condition = df['Age'].isin([24, 29])\n",
    "result = df[age_condition]\n",
    "print(result)"
   ]
  },
  {
   "cell_type": "code",
   "execution_count": null,
   "id": "a2b2ddc8",
   "metadata": {},
   "outputs": [],
   "source": []
  }
 ],
 "metadata": {
  "kernelspec": {
   "display_name": "Python 3 (ipykernel)",
   "language": "python",
   "name": "python3"
  },
  "language_info": {
   "codemirror_mode": {
    "name": "ipython",
    "version": 3
   },
   "file_extension": ".py",
   "mimetype": "text/x-python",
   "name": "python",
   "nbconvert_exporter": "python",
   "pygments_lexer": "ipython3",
   "version": "3.9.7"
  }
 },
 "nbformat": 4,
 "nbformat_minor": 5
}
