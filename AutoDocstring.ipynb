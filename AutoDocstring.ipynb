{
 "cells": [
  {
   "attachments": {},
   "cell_type": "markdown",
   "metadata": {},
   "source": [
    "I am going to experiment here with auto-docstring"
   ]
  },
  {
   "cell_type": "markdown",
   "metadata": {},
   "source": []
  },
  {
   "cell_type": "code",
   "execution_count": 3,
   "metadata": {},
   "outputs": [],
   "source": [
    "def add_two_values(x,y):\n",
    "    \"\"\"Add  Two Values Together\n",
    "\n",
    "    Args:\n",
    "        x (_type_): _description_\n",
    "        y (_type_): _description_\n",
    "\n",
    "    Returns:\n",
    "        _type_: _description_\n",
    "    \"\"\"\n",
    "    return x+y\n",
    "\n",
    "add_two_values(1,2)"
   ]
  },
  {
   "cell_type": "code",
   "execution_count": null,
   "metadata": {},
   "outputs": [],
   "source": [
    "def add_two_values1(x:int, y:int)->int:\n",
    "    \"\"\"_summary_\n",
    "\n",
    "    Args:\n",
    "        x (int): _description_\n",
    "        y (int): _description_\n",
    "\n",
    "    Raises:\n",
    "        TypeError: _description_\n",
    "\n",
    "    Returns:\n",
    "        int: _description_\n",
    "    \"\"\"\n",
    "    if not all([isinstance(i, int) for i in [x,y]]):\n",
    "        raise TypeError('inputs must be integer')\n",
    "    else:\n",
    "        return x + y"
   ]
  },
  {
   "cell_type": "code",
   "execution_count": null,
   "metadata": {},
   "outputs": [],
   "source": [
    "import datetime\n",
    "\n",
    "class Person:\n",
    "    \"\"\"_summary_\n",
    "    \"\"\"    \n",
    "    def __init__(self,name: str,dob:str,gender:str):\n",
    "        \"\"\"_summary_\n",
    "\n",
    "        Args:\n",
    "            name (str): _description_\n",
    "            dob (str): _description_\n",
    "            gender (str): _description_\n",
    "        \"\"\"        \n",
    "        self.name=name\n",
    "        self.dob = dob\n",
    "        self.gender=gender\n",
    "        self.age = self.calculate_age()\n",
    "\n",
    "    def calculate_age(self):\n",
    "        \"\"\"_summary_\n",
    "\n",
    "        Returns:\n",
    "            _type_: _description_\n",
    "        \"\"\"        \n",
    "        dob = datetime.strptime(self.dob, \"%Y-%m-%d\").date()\n",
    "        today=date.today()\n",
    "        return today.year-dob.year - ((today.month, today.day)<(dob.month,dob.day))"
   ]
  },
  {
   "cell_type": "code",
   "execution_count": null,
   "metadata": {},
   "outputs": [],
   "source": [
    "import datetime\n",
    "\n",
    "class Person1:\n",
    "    \"\"\"_summary_\n",
    "    \"\"\"\n",
    "    def __init__(self,name: str,dob:str,gender:str):\n",
    "        \"\"\"_summary_\n",
    "\n",
    "        :param name: _description_\n",
    "        :type name: str\n",
    "        :param dob: _description_\n",
    "        :type dob: str\n",
    "        :param gender: _description_\n",
    "        :type gender: str\n",
    "        \"\"\"     \n",
    "        self.name=name\n",
    "        self.dob = dob\n",
    "        self.gender=gender\n",
    "        self.age = self.calculate_age()\n",
    "\n",
    "    def calculate_age(self):\n",
    "        \"\"\"_summary_\n",
    "\n",
    "        :return: _description_\n",
    "        :rtype: _type_\n",
    "        \"\"\"  \n",
    "        dob = datetime.strptime(self.dob, \"%Y-%m-%d\").date()\n",
    "        today=date.today()\n",
    "        return today.year-dob.year - ((today.month, today.day)<(dob.month,dob.day))"
   ]
  }
 ],
 "metadata": {
  "kernelspec": {
   "display_name": "base",
   "language": "python",
   "name": "python3"
  },
  "language_info": {
   "codemirror_mode": {
    "name": "ipython",
    "version": 3
   },
   "file_extension": ".py",
   "mimetype": "text/x-python",
   "name": "python",
   "nbconvert_exporter": "python",
   "pygments_lexer": "ipython3",
   "version": "3.9.15"
  },
  "orig_nbformat": 4,
  "vscode": {
   "interpreter": {
    "hash": "ccecdc02aa416300a64487fe6971a8398ebaf053d2b2768f769ac21dbbf13f86"
   }
  }
 },
 "nbformat": 4,
 "nbformat_minor": 2
}
