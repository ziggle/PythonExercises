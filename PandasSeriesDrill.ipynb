{
 "cells": [
  {
   "cell_type": "markdown",
   "id": "866298a3",
   "metadata": {},
   "source": [
    "https://joeflames.medium.com/mastering-pandas-series-2c093815a940"
   ]
  },
  {
   "cell_type": "code",
   "execution_count": 1,
   "id": "38af4d4c",
   "metadata": {},
   "outputs": [
    {
     "name": "stdout",
     "output_type": "stream",
     "text": [
      "0    10\n",
      "1    20\n",
      "2    30\n",
      "3    40\n",
      "4    50\n",
      "dtype: int32\n"
     ]
    }
   ],
   "source": [
    "import numpy as np\n",
    "import pandas as pd\n",
    "\n",
    "# Create a NumPy ND array\n",
    "data = np.array([10, 20, 30, 40, 50])\n",
    "\n",
    "# Create a Pandas Series from the NumPy array\n",
    "series = pd.Series(data)\n",
    "\n",
    "# Print the Series\n",
    "print(series)"
   ]
  },
  {
   "cell_type": "code",
   "execution_count": 2,
   "id": "567f2715",
   "metadata": {},
   "outputs": [
    {
     "name": "stdout",
     "output_type": "stream",
     "text": [
      "0    10\n",
      "1    20\n",
      "2    30\n",
      "3    40\n",
      "4    50\n",
      "dtype: int64\n"
     ]
    }
   ],
   "source": [
    "import pandas as pd\n",
    "\n",
    "# Create a Python list\n",
    "data_list = [10, 20, 30, 40, 50]\n",
    "\n",
    "# Create a Pandas Series from the list\n",
    "series = pd.Series(data_list)\n",
    "\n",
    "# Print the Series\n",
    "print(series)"
   ]
  },
  {
   "cell_type": "code",
   "execution_count": 3,
   "id": "127d07eb",
   "metadata": {},
   "outputs": [
    {
     "name": "stdout",
     "output_type": "stream",
     "text": [
      "A    10\n",
      "B    20\n",
      "C    30\n",
      "D    40\n",
      "E    50\n",
      "dtype: int64\n"
     ]
    }
   ],
   "source": [
    "import pandas as pd\n",
    "\n",
    "# Create a Python dictionary\n",
    "data_dict = {'A': 10, 'B': 20, 'C': 30, 'D': 40, 'E': 50}\n",
    "\n",
    "# Create a Pandas Series from the dictionary\n",
    "series = pd.Series(data_dict)\n",
    "\n",
    "# Print the Series\n",
    "print(series)"
   ]
  },
  {
   "cell_type": "code",
   "execution_count": 4,
   "id": "bac1b12f",
   "metadata": {},
   "outputs": [
    {
     "name": "stdout",
     "output_type": "stream",
     "text": [
      "0    1\n",
      "1    2\n",
      "2    3\n",
      "0    4\n",
      "1    5\n",
      "2    6\n",
      "dtype: int64\n"
     ]
    }
   ],
   "source": [
    "import pandas as pd\n",
    "\n",
    "# Create two sample Series\n",
    "series1 = pd.Series([1, 2, 3])\n",
    "series2 = pd.Series([4, 5, 6])\n",
    "\n",
    "# Concatenate the two Series vertically (along rows)\n",
    "concatenated_series = pd.concat([series1, series2])\n",
    "\n",
    "# Reset index if needed\n",
    "# concatenated_series = concatenated_series.reset_index(drop=True)\n",
    "\n",
    "print(concatenated_series)"
   ]
  },
  {
   "cell_type": "code",
   "execution_count": 5,
   "id": "537521c0",
   "metadata": {},
   "outputs": [
    {
     "name": "stdout",
     "output_type": "stream",
     "text": [
      "   Series1  Series2\n",
      "0        1        4\n",
      "1        2        5\n",
      "2        3        6\n"
     ]
    }
   ],
   "source": [
    "import pandas as pd\n",
    "\n",
    "# Create two sample Series\n",
    "series1 = pd.Series([1, 2, 3], name='Series1')\n",
    "series2 = pd.Series([4, 5, 6], name='Series2')\n",
    "\n",
    "# Convert Series to DataFrames\n",
    "df1 = series1.to_frame()\n",
    "df2 = series2.to_frame()\n",
    "\n",
    "# Join the DataFrames using .join()\n",
    "joined_df = df1.join(df2)\n",
    "\n",
    "print(joined_df)"
   ]
  },
  {
   "cell_type": "code",
   "execution_count": 6,
   "id": "79763702",
   "metadata": {},
   "outputs": [
    {
     "name": "stdout",
     "output_type": "stream",
     "text": [
      "0    False\n",
      "1    False\n",
      "2     True\n",
      "3    False\n",
      "4    False\n",
      "5     True\n",
      "dtype: bool\n"
     ]
    }
   ],
   "source": [
    "import pandas as pd\n",
    "\n",
    "# Create a Series with missing values\n",
    "series = pd.Series([1, 2, None, 4, 5, None])\n",
    "\n",
    "# Detect missing values\n",
    "missing_values = series.isna()\n",
    "print(missing_values)\n",
    "# Drop rows with missing values\n",
    "series_without_missing = series.dropna()\n",
    "# Fill missing values with a specific value (e.g., 0)\n",
    "series_filled = series.fillna(0)\n",
    "# Replace missing values with a specific value (e.g., -1)\n",
    "series_replaced = series.replace({None: -1})"
   ]
  },
  {
   "cell_type": "code",
   "execution_count": 9,
   "id": "ed8ae5fd",
   "metadata": {},
   "outputs": [
    {
     "name": "stdout",
     "output_type": "stream",
     "text": [
      "D    40\n",
      "E    50\n",
      "dtype: int64\n"
     ]
    }
   ],
   "source": [
    "import pandas as pd\n",
    "\n",
    "# Create a sample Series\n",
    "data = {'A': 10, 'B': 20, 'C': 30, 'D': 40, 'E': 50}\n",
    "series = pd.Series(data)\n",
    "\n",
    "# Filter the Series to include values greater than 30\n",
    "filtered_series = series[series > 30]\n",
    "print(filtered_series)"
   ]
  },
  {
   "cell_type": "code",
   "execution_count": 10,
   "id": "c0c0e985",
   "metadata": {},
   "outputs": [
    {
     "name": "stdout",
     "output_type": "stream",
     "text": [
      "banana        1\n",
      "cherry        2\n",
      "apple         3\n",
      "date          4\n",
      "elderberry    5\n",
      "dtype: int64\n"
     ]
    }
   ],
   "source": [
    "import pandas as pd\n",
    "\n",
    "# Create a sample Series\n",
    "data = {'A': [3, 1, 2, 4, 5],\n",
    "        'B': ['apple', 'banana', 'cherry', 'date', 'elderberry']}\n",
    "series = pd.Series(data['A'], index=data['B'])\n",
    "\n",
    "# Sort the Series by values in ascending order\n",
    "sorted_series = series.sort_values()\n",
    "\n",
    "# To sort in descending order, you can specify ascending=False\n",
    "# sorted_series = series.sort_values(ascending=False)\n",
    "\n",
    "print(sorted_series)"
   ]
  },
  {
   "cell_type": "code",
   "execution_count": 12,
   "id": "f3585d80",
   "metadata": {},
   "outputs": [
    {
     "name": "stdout",
     "output_type": "stream",
     "text": [
      "A    10\n",
      "B    20\n",
      "C    30\n",
      "D    40\n",
      "dtype: int64\n"
     ]
    }
   ],
   "source": [
    "import pandas as pd\n",
    "\n",
    "# Create a sample Series\n",
    "data = {'A': 10, 'B': 20, 'C': 30}\n",
    "series = pd.Series(data)\n",
    "\n",
    "# Add a new element\n",
    "series['D'] = 40\n",
    "print(series)\n"
   ]
  },
  {
   "cell_type": "code",
   "execution_count": 14,
   "id": "de75dc1d",
   "metadata": {},
   "outputs": [
    {
     "name": "stdout",
     "output_type": "stream",
     "text": [
      "A    10\n",
      "dtype: int64\n"
     ]
    }
   ],
   "source": [
    "import pandas as pd\n",
    "\n",
    "# Create a sample Series\n",
    "data = {'A': 10, 'B': 20, 'C': 30}\n",
    "series = pd.Series(data)\n",
    "\n",
    "# Remove an element by index label\n",
    "series = series.drop('B')\n",
    "\n",
    "# Alternatively, you can use the inplace argument to remove it in-place\n",
    "series.drop('C', inplace=True)\n",
    "print(series)"
   ]
  },
  {
   "cell_type": "code",
   "execution_count": 16,
   "id": "03a95b55",
   "metadata": {},
   "outputs": [
    {
     "name": "stdout",
     "output_type": "stream",
     "text": [
      "A    20\n",
      "B    40\n",
      "C    60\n",
      "dtype: int64\n"
     ]
    }
   ],
   "source": [
    "import pandas as pd\n",
    "\n",
    "# Create a sample Series\n",
    "data = {'A': 10, 'B': 20, 'C': 30}\n",
    "series = pd.Series(data)\n",
    "\n",
    "# Define a custom function\n",
    "def custom_function(x):\n",
    "    return x * 2  # Double each element\n",
    "\n",
    "# Apply the custom function to each element in the Series\n",
    "result_series = series.apply(custom_function)\n",
    "print(result_series)\n"
   ]
  },
  {
   "cell_type": "code",
   "execution_count": 17,
   "id": "6f87e528",
   "metadata": {},
   "outputs": [
    {
     "name": "stdout",
     "output_type": "stream",
     "text": [
      "0    13\n",
      "1    11\n",
      "2    12\n",
      "3    14\n",
      "4    15\n",
      "dtype: int64\n"
     ]
    }
   ],
   "source": [
    "import pandas as pd\n",
    "\n",
    "# Create a sample Series\n",
    "data = {'A': [3, 1, 2, 4, 5]}\n",
    "series = pd.Series(data['A'])\n",
    "\n",
    "# Define a function that adds a constant value\n",
    "def add_constant(x, constant):\n",
    "    return x + constant\n",
    "\n",
    "# Apply the function to the Series with an argument\n",
    "constant_to_add = 10\n",
    "result_series = series.apply(add_constant, args=(constant_to_add,))\n",
    "\n",
    "print(result_series)"
   ]
  },
  {
   "cell_type": "code",
   "execution_count": 19,
   "id": "1e0e23d1",
   "metadata": {},
   "outputs": [
    {
     "name": "stdout",
     "output_type": "stream",
     "text": [
      "60\n"
     ]
    }
   ],
   "source": [
    "import pandas as pd\n",
    "\n",
    "data = {'A': 10, 'B': 20, 'C': 30}\n",
    "series = pd.Series(data)\n",
    "\n",
    "total = series.sum()\n",
    "print(total)"
   ]
  },
  {
   "cell_type": "code",
   "execution_count": 20,
   "id": "ba6965af",
   "metadata": {},
   "outputs": [
    {
     "name": "stdout",
     "output_type": "stream",
     "text": [
      "30\n"
     ]
    }
   ],
   "source": [
    "import pandas as pd\n",
    "\n",
    "data = {'A': 10, 'B': 20, 'C': 30}\n",
    "series = pd.Series(data)\n",
    "\n",
    "maximum = series.max()\n",
    "print(maximum)\n"
   ]
  },
  {
   "cell_type": "code",
   "execution_count": 21,
   "id": "2441e92a",
   "metadata": {},
   "outputs": [
    {
     "name": "stdout",
     "output_type": "stream",
     "text": [
      "10\n"
     ]
    }
   ],
   "source": [
    "import pandas as pd\n",
    "\n",
    "data = {'A': 10, 'B': 20, 'C': 30}\n",
    "series = pd.Series(data)\n",
    "\n",
    "minimum = series.min()\n",
    "print(minimum)"
   ]
  },
  {
   "cell_type": "code",
   "execution_count": 22,
   "id": "8ddb56a2",
   "metadata": {},
   "outputs": [
    {
     "name": "stdout",
     "output_type": "stream",
     "text": [
      "10.0\n"
     ]
    }
   ],
   "source": [
    "import pandas as pd\n",
    "\n",
    "data = {'A': 10, 'B': 20, 'C': 30}\n",
    "series = pd.Series(data)\n",
    "\n",
    "std_deviation = series.std()\n",
    "print(std_deviation)"
   ]
  },
  {
   "cell_type": "code",
   "execution_count": 23,
   "id": "d184b2e9",
   "metadata": {},
   "outputs": [
    {
     "name": "stdout",
     "output_type": "stream",
     "text": [
      "A    10\n",
      "B    20\n",
      "C    30\n",
      "D    40\n",
      "dtype: int64\n",
      "20\n"
     ]
    }
   ],
   "source": [
    "import pandas as pd\n",
    "\n",
    "# Create a sample Series\n",
    "data = {'A': 10, 'B': 20, 'C': 30, 'D': 40}\n",
    "series = pd.Series(data)\n",
    "\n",
    "# Indexing to retrieve a single element\n",
    "element = series['B']\n",
    "print(series)\n",
    "print(element)\n"
   ]
  },
  {
   "cell_type": "code",
   "execution_count": 24,
   "id": "8f2e89bd",
   "metadata": {},
   "outputs": [
    {
     "name": "stdout",
     "output_type": "stream",
     "text": [
      "B    20\n",
      "C    30\n",
      "D    40\n",
      "dtype: int64\n"
     ]
    }
   ],
   "source": [
    "import pandas as pd\n",
    "\n",
    "# Create a sample Series\n",
    "data = {'A': 10, 'B': 20, 'C': 30, 'D': 40}\n",
    "series = pd.Series(data)\n",
    "\n",
    "# Slicing to retrieve a subset of elements\n",
    "subset = series['B':'D']\n",
    "print(subset)\n"
   ]
  },
  {
   "cell_type": "code",
   "execution_count": null,
   "id": "ec519b5a",
   "metadata": {},
   "outputs": [],
   "source": []
  }
 ],
 "metadata": {
  "kernelspec": {
   "display_name": "Python 3 (ipykernel)",
   "language": "python",
   "name": "python3"
  },
  "language_info": {
   "codemirror_mode": {
    "name": "ipython",
    "version": 3
   },
   "file_extension": ".py",
   "mimetype": "text/x-python",
   "name": "python",
   "nbconvert_exporter": "python",
   "pygments_lexer": "ipython3",
   "version": "3.9.7"
  }
 },
 "nbformat": 4,
 "nbformat_minor": 5
}
