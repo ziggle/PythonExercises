{
 "cells": [
  {
   "attachments": {},
   "cell_type": "markdown",
   "metadata": {},
   "source": [
    "https://levelup.gitconnected.com/logging-in-python-for-absolute-beginners-in-4-minutes-c2fd6644fa5b"
   ]
  },
  {
   "cell_type": "code",
   "execution_count": 6,
   "metadata": {},
   "outputs": [],
   "source": [
    "import logging\n",
    "logging.basicConfig(\n",
    "    level=logging.INFO,\n",
    "    format='%(name)s:%(levelname)s:%(asctime)s:%(message)s',\n",
    "    filename='app.log'\n",
    ")"
   ]
  },
  {
   "cell_type": "code",
   "execution_count": 7,
   "metadata": {},
   "outputs": [],
   "source": [
    "logging.basicConfig(\n",
    "    level=logging.INFO,\n",
    "    format='%(name)s:%(levelname)s:%(asctime)s:%(message)s',\n",
    "    filename='app.log'\n",
    ")"
   ]
  },
  {
   "cell_type": "code",
   "execution_count": 8,
   "metadata": {},
   "outputs": [],
   "source": [
    "import logging\n",
    "\n",
    "logging.basicConfig(\n",
    "    level=logging.INFO,\n",
    "    format='%(name)s:%(levelname)s:%(asctime)s:%(message)s',\n",
    "    filename='app.log'\n",
    ")\n",
    "\n",
    "logger = logging.getLogger('my_test_logger')"
   ]
  },
  {
   "cell_type": "code",
   "execution_count": 9,
   "metadata": {},
   "outputs": [],
   "source": [
    "logger.critical('this is a critical message')\n",
    "logger.error('this is a error message')\n",
    "logger.warning('this is a warning message')\n",
    "logger.info('this is a info message')\n",
    "logger.debug('this is a debug message')"
   ]
  },
  {
   "cell_type": "code",
   "execution_count": 1,
   "metadata": {},
   "outputs": [
    {
     "name": "stdout",
     "output_type": "stream",
     "text": [
      "my_test_logger:CRITICAL:2023-06-17 18:15:45,389:this is a critical message\n",
      "my_test_logger:ERROR:2023-06-17 18:15:45,389:this is a error message\n",
      "my_test_logger:WARNING:2023-06-17 18:15:45,389:this is a warning message\n",
      "my_test_logger:INFO:2023-06-17 18:15:45,390:this is a info message\n",
      "my_test_logger:DEBUG:2023-06-17 18:15:45,390:this is a debug message\n",
      "my_test_logger:DEBUG:2023-06-17 18:15:45,390:this is a debug message1\n",
      "my_test_logger:DEBUG:2023-06-17 18:15:45,390:this is a debug message2\n",
      "\n"
     ]
    }
   ],
   "source": [
    "import logging\n",
    "\n",
    "logging.basicConfig(\n",
    "    level=logging.DEBUG,\n",
    "    format='%(name)s:%(levelname)s:%(asctime)s:%(message)s',\n",
    "    filename='app.log',\n",
    ")\n",
    "\n",
    "logger = logging.getLogger('my_test_logger')\n",
    "\n",
    "logger.critical('this is a critical message')\n",
    "logger.error('this is a error message')\n",
    "logger.warning('this is a warning message')\n",
    "logger.info('this is a info message')\n",
    "logger.debug('this is a debug message')\n",
    "logger.debug('this is a debug message1')\n",
    "logger.debug('this is a debug message2')\n",
    "\n",
    "# check your created app.log\n",
    "\n",
    "with open(\"app.log\") as f: # The with keyword automatically closes the file when you are done\n",
    "     print(f.read())"
   ]
  },
  {
   "cell_type": "code",
   "execution_count": null,
   "metadata": {},
   "outputs": [],
   "source": []
  }
 ],
 "metadata": {
  "kernelspec": {
   "display_name": "Python 3",
   "language": "python",
   "name": "python3"
  },
  "language_info": {
   "codemirror_mode": {
    "name": "ipython",
    "version": 3
   },
   "file_extension": ".py",
   "mimetype": "text/x-python",
   "name": "python",
   "nbconvert_exporter": "python",
   "pygments_lexer": "ipython3",
   "version": "3.11.3"
  },
  "orig_nbformat": 4
 },
 "nbformat": 4,
 "nbformat_minor": 2
}
