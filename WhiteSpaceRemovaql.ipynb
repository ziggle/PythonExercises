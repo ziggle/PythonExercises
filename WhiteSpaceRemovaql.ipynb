{
 "cells": [
  {
   "cell_type": "markdown",
   "id": "a409ccf5",
   "metadata": {},
   "source": [
    "https://medium.com/@techclaw/remove-all-whitespace-from-a-string-in-python-bd5c1e5ff1c5"
   ]
  },
  {
   "cell_type": "code",
   "execution_count": 1,
   "id": "e4feded9",
   "metadata": {},
   "outputs": [
    {
     "name": "stdout",
     "output_type": "stream",
     "text": [
      "Hello,World!\n"
     ]
    }
   ],
   "source": [
    "original_string = \"Hello,     World!\"\n",
    "no_whitespace = original_string.replace(\" \", \"\")\n",
    "print(no_whitespace)  # Output: \"Hello,World!\""
   ]
  },
  {
   "cell_type": "code",
   "execution_count": 2,
   "id": "ba05e971",
   "metadata": {},
   "outputs": [
    {
     "name": "stdout",
     "output_type": "stream",
     "text": [
      "Removeallwhitespacefromthisstring\n"
     ]
    }
   ],
   "source": [
    "import re\n",
    "original_string = \"Remove all whitespace from this string\"\n",
    "no_whitespace = re.sub(r'\\s', '', original_string)\n",
    "print(no_whitespace)  # Output: \"Removeallwhitespacefromthisstring\""
   ]
  },
  {
   "cell_type": "code",
   "execution_count": 3,
   "id": "05d1856a",
   "metadata": {},
   "outputs": [
    {
     "name": "stdout",
     "output_type": "stream",
     "text": [
      "Pythonisamazing\n"
     ]
    }
   ],
   "source": [
    "original_string = \"Python is amazing\"\n",
    "no_whitespace = ''.join(original_string.split())\n",
    "print(no_whitespace)  # Output: \"Pythonisamazing\""
   ]
  },
  {
   "cell_type": "code",
   "execution_count": 4,
   "id": "e4ae7baf",
   "metadata": {},
   "outputs": [
    {
     "name": "stdout",
     "output_type": "stream",
     "text": [
      "Let'sremovespaces\n"
     ]
    }
   ],
   "source": [
    "original_string = \"Let's remove spaces\"\n",
    "words = original_string.split()\n",
    "no_whitespace = ''.join(words)\n",
    "print(no_whitespace)  # Output: \"Let'sremovespaces\""
   ]
  },
  {
   "cell_type": "code",
   "execution_count": 5,
   "id": "f9cede5b",
   "metadata": {},
   "outputs": [
    {
     "name": "stdout",
     "output_type": "stream",
     "text": [
      "Split and Join\n"
     ]
    }
   ],
   "source": [
    "original_string = \"Split and Join\"\n",
    "no_whitespace = ' '.join(original_string.split())\n",
    "print(no_whitespace)  # Output: \"Split and Join\""
   ]
  },
  {
   "cell_type": "code",
   "execution_count": 6,
   "id": "15c0b210",
   "metadata": {},
   "outputs": [
    {
     "name": "stdout",
     "output_type": "stream",
     "text": [
      "Filterspaces\n"
     ]
    }
   ],
   "source": [
    "original_string = \"   Filter spaces   \"\n",
    "no_whitespace = ''.join(filter(lambda x: not x.isspace(), original_string))\n",
    "print(no_whitespace)  # Output: \"Filterspaces\""
   ]
  },
  {
   "cell_type": "code",
   "execution_count": 7,
   "id": "1e53c653",
   "metadata": {},
   "outputs": [
    {
     "name": "stdout",
     "output_type": "stream",
     "text": [
      "Strip spaces\n"
     ]
    }
   ],
   "source": [
    "original_string = \"  Strip spaces  \"\n",
    "no_whitespace = original_string.strip()\n",
    "print(no_whitespace)  # Output: \"Strip spaces\""
   ]
  },
  {
   "cell_type": "code",
   "execution_count": 8,
   "id": "cd1a29a8",
   "metadata": {},
   "outputs": [
    {
     "name": "stdout",
     "output_type": "stream",
     "text": [
      "\n",
      "Line 1\n",
      "Line 2\n",
      "Line 3\n"
     ]
    }
   ],
   "source": [
    "multiline_string = \"\"\"\n",
    "Line 1\n",
    "Line 2\n",
    "Line 3\n",
    "\"\"\"\n",
    "no_whitespace = '\\n'.join(line.strip() for line in multiline_string.splitlines())\n",
    "print(no_whitespace)"
   ]
  },
  {
   "cell_type": "code",
   "execution_count": null,
   "id": "64d638b0",
   "metadata": {},
   "outputs": [],
   "source": []
  }
 ],
 "metadata": {
  "kernelspec": {
   "display_name": "Python 3 (ipykernel)",
   "language": "python",
   "name": "python3"
  },
  "language_info": {
   "codemirror_mode": {
    "name": "ipython",
    "version": 3
   },
   "file_extension": ".py",
   "mimetype": "text/x-python",
   "name": "python",
   "nbconvert_exporter": "python",
   "pygments_lexer": "ipython3",
   "version": "3.9.7"
  }
 },
 "nbformat": 4,
 "nbformat_minor": 5
}
